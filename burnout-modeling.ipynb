{
 "cells": [
  {
   "cell_type": "code",
   "execution_count": 1,
   "metadata": {
    "_cell_guid": "b1076dfc-b9ad-4769-8c92-a6c4dae69d19",
    "_uuid": "8f2839f25d086af736a60e9eeb907d3b93b6e0e5",
    "execution": {
     "iopub.execute_input": "2021-01-21T18:42:16.977273Z",
     "iopub.status.busy": "2021-01-21T18:42:16.976584Z",
     "iopub.status.idle": "2021-01-21T18:42:19.302210Z",
     "shell.execute_reply": "2021-01-21T18:42:19.301469Z"
    },
    "papermill": {
     "duration": 2.376193,
     "end_time": "2021-01-21T18:42:19.302413",
     "exception": false,
     "start_time": "2021-01-21T18:42:16.926220",
     "status": "completed"
    },
    "tags": []
   },
   "outputs": [
    {
     "name": "stdout",
     "output_type": "stream",
     "text": [
      "/kaggle/input/healthcareworkersburnout/df.csv\n",
      "/kaggle/input/burnout-dataframe/burnout.csv\n",
      "/kaggle/input/burnout-dataframe/__results__.html\n",
      "/kaggle/input/burnout-dataframe/df.csv\n",
      "/kaggle/input/burnout-dataframe/__notebook__.ipynb\n",
      "/kaggle/input/burnout-dataframe/__output__.json\n",
      "/kaggle/input/burnout-dataframe/burnout2.csv\n",
      "/kaggle/input/burnout-dataframe/custom.css\n",
      "/kaggle/input/burnout-tweets-analysis/__results__.html\n",
      "/kaggle/input/burnout-tweets-analysis/df.csv\n",
      "/kaggle/input/burnout-tweets-analysis/__notebook__.ipynb\n",
      "/kaggle/input/burnout-tweets-analysis/__output__.json\n",
      "/kaggle/input/burnout-tweets-analysis/custom.css\n",
      "/kaggle/input/burnout-tweets-analysis/__results___files/__results___61_0.png\n",
      "/kaggle/input/burnout-tweets-analysis/__results___files/__results___63_0.png\n",
      "/kaggle/input/burnout-tweets-analysis/__results___files/__results___59_0.png\n",
      "/kaggle/input/burnout-tweets-analysis/__results___files/__results___51_0.png\n"
     ]
    },
    {
     "data": {
      "text/html": [
       "        <script type=\"text/javascript\">\n",
       "        window.PlotlyConfig = {MathJaxConfig: 'local'};\n",
       "        if (window.MathJax) {MathJax.Hub.Config({SVG: {font: \"STIX-Web\"}});}\n",
       "        if (typeof require !== 'undefined') {\n",
       "        require.undef(\"plotly\");\n",
       "        requirejs.config({\n",
       "            paths: {\n",
       "                'plotly': ['https://cdn.plot.ly/plotly-latest.min']\n",
       "            }\n",
       "        });\n",
       "        require(['plotly'], function(Plotly) {\n",
       "            window._Plotly = Plotly;\n",
       "        });\n",
       "        }\n",
       "        </script>\n",
       "        "
      ]
     },
     "metadata": {},
     "output_type": "display_data"
    }
   ],
   "source": [
    "# This Python 3 environment comes with many helpful analytics libraries installed\n",
    "# It is defined by the kaggle/python Docker image: https://github.com/kaggle/docker-python\n",
    "# For example, here's several helpful packages to load\n",
    "\n",
    "import numpy as np # linear algebra\n",
    "import pandas as pd # data processing, CSV file I/O (e.g. pd.read_csv)\n",
    "\n",
    "# Input data files are available in the read-only \"../input/\" directory\n",
    "# For example, running this (by clicking run or pressing Shift+Enter) will list all files under the input directory\n",
    "\n",
    "import os\n",
    "for dirname, _, filenames in os.walk('/kaggle/input'):\n",
    "    for filename in filenames:\n",
    "        print(os.path.join(dirname, filename))\n",
    "\n",
    "# You can write up to 20GB to the current directory (/kaggle/working/) that gets preserved as output when you create a version using \"Save & Run All\" \n",
    "# You can also write temporary files to /kaggle/temp/, but they won't be saved outside of the current session\n",
    "\n",
    "from plotly.offline import init_notebook_mode, iplot\n",
    "\n",
    "from wordcloud import WordCloud\n",
    "from wordcloud import STOPWORDS\n",
    "\n",
    "import matplotlib.pyplot as plt\n",
    "import plotly.graph_objs as go\n",
    "from wordcloud import WordCloud\n",
    "from textblob import TextBlob \n",
    "\n",
    "#import plotly.plotly as py\n",
    "from plotly import tools\n",
    "import seaborn as sns\n",
    "import pandas as pd\n",
    "import string, os, random\n",
    "\n",
    "init_notebook_mode(connected=True)\n",
    "punc = string.punctuation"
   ]
  },
  {
   "cell_type": "code",
   "execution_count": 2,
   "metadata": {
    "execution": {
     "iopub.execute_input": "2021-01-21T18:42:19.393201Z",
     "iopub.status.busy": "2021-01-21T18:42:19.392105Z",
     "iopub.status.idle": "2021-01-21T18:42:26.660839Z",
     "shell.execute_reply": "2021-01-21T18:42:26.660239Z"
    },
    "papermill": {
     "duration": 7.318095,
     "end_time": "2021-01-21T18:42:26.660965",
     "exception": false,
     "start_time": "2021-01-21T18:42:19.342870",
     "status": "completed"
    },
    "tags": []
   },
   "outputs": [],
   "source": [
    "import xgboost as xgb\n",
    "from tqdm import tqdm\n",
    "from sklearn.svm import SVC\n",
    "from keras.models import Sequential\n",
    "from keras.layers.recurrent import LSTM, GRU\n",
    "from keras.layers.core import Dense, Activation, Dropout\n",
    "from keras.layers.embeddings import Embedding\n",
    "from keras.layers.normalization import BatchNormalization\n",
    "from keras.utils import np_utils\n",
    "from sklearn import preprocessing, decomposition, model_selection, metrics, pipeline\n",
    "from sklearn.model_selection import GridSearchCV\n",
    "from sklearn.feature_extraction.text import TfidfVectorizer, CountVectorizer\n",
    "from sklearn.decomposition import TruncatedSVD\n",
    "from sklearn.linear_model import LogisticRegression\n",
    "from sklearn.model_selection import train_test_split\n",
    "from sklearn.naive_bayes import MultinomialNB\n",
    "from keras.layers import GlobalMaxPooling1D, Conv1D, MaxPooling1D, Flatten, Bidirectional, SpatialDropout1D\n",
    "from keras.preprocessing import sequence, text\n",
    "from keras.callbacks import EarlyStopping\n",
    "from nltk import word_tokenize\n",
    "from nltk.corpus import stopwords\n",
    "stop_words = stopwords.words('english')\n",
    "\n",
    "from sklearn.metrics import classification_report\n",
    "from sklearn.metrics import confusion_matrix"
   ]
  },
  {
   "cell_type": "code",
   "execution_count": 3,
   "metadata": {
    "_cell_guid": "79c7e3d0-c299-4dcb-8224-4455121ee9b0",
    "_uuid": "d629ff2d2480ee46fbb7e2d37f6b5fab8052498a",
    "execution": {
     "iopub.execute_input": "2021-01-21T18:42:26.750213Z",
     "iopub.status.busy": "2021-01-21T18:42:26.749506Z",
     "iopub.status.idle": "2021-01-21T18:42:26.836578Z",
     "shell.execute_reply": "2021-01-21T18:42:26.835905Z"
    },
    "papermill": {
     "duration": 0.135653,
     "end_time": "2021-01-21T18:42:26.836691",
     "exception": false,
     "start_time": "2021-01-21T18:42:26.701038",
     "status": "completed"
    },
    "tags": []
   },
   "outputs": [
    {
     "data": {
      "text/html": [
       "<div>\n",
       "<style scoped>\n",
       "    .dataframe tbody tr th:only-of-type {\n",
       "        vertical-align: middle;\n",
       "    }\n",
       "\n",
       "    .dataframe tbody tr th {\n",
       "        vertical-align: top;\n",
       "    }\n",
       "\n",
       "    .dataframe thead th {\n",
       "        text-align: right;\n",
       "    }\n",
       "</style>\n",
       "<table border=\"1\" class=\"dataframe\">\n",
       "  <thead>\n",
       "    <tr style=\"text-align: right;\">\n",
       "      <th></th>\n",
       "      <th>Unnamed: 0</th>\n",
       "      <th>Unnamed: 0.1</th>\n",
       "      <th>Tweet Date</th>\n",
       "      <th>Tweet ID</th>\n",
       "      <th>Tweet Text</th>\n",
       "      <th>tweet_source</th>\n",
       "      <th>tweet_retweet_count</th>\n",
       "      <th>tweet_favorite_count</th>\n",
       "      <th>word_count</th>\n",
       "      <th>char_count</th>\n",
       "      <th>...</th>\n",
       "      <th>year</th>\n",
       "      <th>month</th>\n",
       "      <th>day</th>\n",
       "      <th>unique_word_count</th>\n",
       "      <th>stop_word_count</th>\n",
       "      <th>url_count</th>\n",
       "      <th>mean_word_length</th>\n",
       "      <th>hashtag_count</th>\n",
       "      <th>mention_count</th>\n",
       "      <th>burnout</th>\n",
       "    </tr>\n",
       "  </thead>\n",
       "  <tbody>\n",
       "    <tr>\n",
       "      <th>0</th>\n",
       "      <td>0</td>\n",
       "      <td>0</td>\n",
       "      <td>2021-01-19</td>\n",
       "      <td>1351590096752017416</td>\n",
       "      <td>I'm a big music person. It speaks to me in all...</td>\n",
       "      <td>Twitter for Android</td>\n",
       "      <td>0</td>\n",
       "      <td>6</td>\n",
       "      <td>27</td>\n",
       "      <td>142</td>\n",
       "      <td>...</td>\n",
       "      <td>2021</td>\n",
       "      <td>1</td>\n",
       "      <td>19</td>\n",
       "      <td>25</td>\n",
       "      <td>15</td>\n",
       "      <td>1</td>\n",
       "      <td>4.296296</td>\n",
       "      <td>0</td>\n",
       "      <td>0</td>\n",
       "      <td>1</td>\n",
       "    </tr>\n",
       "    <tr>\n",
       "      <th>1</th>\n",
       "      <td>1</td>\n",
       "      <td>1</td>\n",
       "      <td>2021-01-19</td>\n",
       "      <td>1351555038863368193</td>\n",
       "      <td>@JohnWHarris15 I adore you and your unlimited ...</td>\n",
       "      <td>Twitter for Android</td>\n",
       "      <td>0</td>\n",
       "      <td>1</td>\n",
       "      <td>9</td>\n",
       "      <td>59</td>\n",
       "      <td>...</td>\n",
       "      <td>2021</td>\n",
       "      <td>1</td>\n",
       "      <td>19</td>\n",
       "      <td>9</td>\n",
       "      <td>4</td>\n",
       "      <td>0</td>\n",
       "      <td>5.555556</td>\n",
       "      <td>0</td>\n",
       "      <td>1</td>\n",
       "      <td>1</td>\n",
       "    </tr>\n",
       "    <tr>\n",
       "      <th>2</th>\n",
       "      <td>2</td>\n",
       "      <td>2</td>\n",
       "      <td>2021-01-19</td>\n",
       "      <td>1351554892926750720</td>\n",
       "      <td>@bubblydncer I have replied to countless texts...</td>\n",
       "      <td>Twitter for Android</td>\n",
       "      <td>0</td>\n",
       "      <td>1</td>\n",
       "      <td>22</td>\n",
       "      <td>142</td>\n",
       "      <td>...</td>\n",
       "      <td>2021</td>\n",
       "      <td>1</td>\n",
       "      <td>19</td>\n",
       "      <td>20</td>\n",
       "      <td>10</td>\n",
       "      <td>1</td>\n",
       "      <td>5.500000</td>\n",
       "      <td>0</td>\n",
       "      <td>1</td>\n",
       "      <td>1</td>\n",
       "    </tr>\n",
       "    <tr>\n",
       "      <th>3</th>\n",
       "      <td>3</td>\n",
       "      <td>3</td>\n",
       "      <td>2021-01-19</td>\n",
       "      <td>1351554395234824192</td>\n",
       "      <td>@MelBeer93 Ahhh I love this!</td>\n",
       "      <td>Twitter for Android</td>\n",
       "      <td>0</td>\n",
       "      <td>0</td>\n",
       "      <td>5</td>\n",
       "      <td>29</td>\n",
       "      <td>...</td>\n",
       "      <td>2021</td>\n",
       "      <td>1</td>\n",
       "      <td>19</td>\n",
       "      <td>5</td>\n",
       "      <td>1</td>\n",
       "      <td>0</td>\n",
       "      <td>4.800000</td>\n",
       "      <td>0</td>\n",
       "      <td>1</td>\n",
       "      <td>0</td>\n",
       "    </tr>\n",
       "    <tr>\n",
       "      <th>4</th>\n",
       "      <td>4</td>\n",
       "      <td>4</td>\n",
       "      <td>2021-01-19</td>\n",
       "      <td>1351554266247426050</td>\n",
       "      <td>@TheKimClub https://t.co/UUx3417HcD</td>\n",
       "      <td>Twitter for Android</td>\n",
       "      <td>0</td>\n",
       "      <td>1</td>\n",
       "      <td>2</td>\n",
       "      <td>35</td>\n",
       "      <td>...</td>\n",
       "      <td>2021</td>\n",
       "      <td>1</td>\n",
       "      <td>19</td>\n",
       "      <td>2</td>\n",
       "      <td>0</td>\n",
       "      <td>1</td>\n",
       "      <td>17.000000</td>\n",
       "      <td>0</td>\n",
       "      <td>1</td>\n",
       "      <td>1</td>\n",
       "    </tr>\n",
       "    <tr>\n",
       "      <th>...</th>\n",
       "      <td>...</td>\n",
       "      <td>...</td>\n",
       "      <td>...</td>\n",
       "      <td>...</td>\n",
       "      <td>...</td>\n",
       "      <td>...</td>\n",
       "      <td>...</td>\n",
       "      <td>...</td>\n",
       "      <td>...</td>\n",
       "      <td>...</td>\n",
       "      <td>...</td>\n",
       "      <td>...</td>\n",
       "      <td>...</td>\n",
       "      <td>...</td>\n",
       "      <td>...</td>\n",
       "      <td>...</td>\n",
       "      <td>...</td>\n",
       "      <td>...</td>\n",
       "      <td>...</td>\n",
       "      <td>...</td>\n",
       "      <td>...</td>\n",
       "    </tr>\n",
       "    <tr>\n",
       "      <th>1874</th>\n",
       "      <td>1874</td>\n",
       "      <td>2026</td>\n",
       "      <td>2021-01-11</td>\n",
       "      <td>1348687433978798080</td>\n",
       "      <td>in my lecture rn talking about covid</td>\n",
       "      <td>Twitter for iPhone</td>\n",
       "      <td>0</td>\n",
       "      <td>0</td>\n",
       "      <td>7</td>\n",
       "      <td>37</td>\n",
       "      <td>...</td>\n",
       "      <td>2021</td>\n",
       "      <td>1</td>\n",
       "      <td>11</td>\n",
       "      <td>7</td>\n",
       "      <td>3</td>\n",
       "      <td>0</td>\n",
       "      <td>4.285714</td>\n",
       "      <td>0</td>\n",
       "      <td>0</td>\n",
       "      <td>1</td>\n",
       "    </tr>\n",
       "    <tr>\n",
       "      <th>1875</th>\n",
       "      <td>1875</td>\n",
       "      <td>2027</td>\n",
       "      <td>2021-01-11</td>\n",
       "      <td>1348687432938647552</td>\n",
       "      <td>@buzzycalz @skinnyqweeen @hearteyezshawty im i...</td>\n",
       "      <td>Twitter for iPhone</td>\n",
       "      <td>0</td>\n",
       "      <td>2</td>\n",
       "      <td>27</td>\n",
       "      <td>174</td>\n",
       "      <td>...</td>\n",
       "      <td>2021</td>\n",
       "      <td>1</td>\n",
       "      <td>11</td>\n",
       "      <td>26</td>\n",
       "      <td>11</td>\n",
       "      <td>0</td>\n",
       "      <td>5.444444</td>\n",
       "      <td>0</td>\n",
       "      <td>3</td>\n",
       "      <td>1</td>\n",
       "    </tr>\n",
       "    <tr>\n",
       "      <th>1876</th>\n",
       "      <td>1876</td>\n",
       "      <td>2028</td>\n",
       "      <td>2021-01-11</td>\n",
       "      <td>1348687432913473536</td>\n",
       "      <td>@Death13__ Also this is just streams, videos a...</td>\n",
       "      <td>Twitter for Android</td>\n",
       "      <td>0</td>\n",
       "      <td>1</td>\n",
       "      <td>16</td>\n",
       "      <td>84</td>\n",
       "      <td>...</td>\n",
       "      <td>2021</td>\n",
       "      <td>1</td>\n",
       "      <td>11</td>\n",
       "      <td>16</td>\n",
       "      <td>8</td>\n",
       "      <td>0</td>\n",
       "      <td>4.312500</td>\n",
       "      <td>0</td>\n",
       "      <td>1</td>\n",
       "      <td>1</td>\n",
       "    </tr>\n",
       "    <tr>\n",
       "      <th>1877</th>\n",
       "      <td>1877</td>\n",
       "      <td>2029</td>\n",
       "      <td>2021-01-11</td>\n",
       "      <td>1348687432904892416</td>\n",
       "      <td>@Lyssss69 Honestly I just saw these on tiktok ...</td>\n",
       "      <td>Twitter for iPhone</td>\n",
       "      <td>0</td>\n",
       "      <td>1</td>\n",
       "      <td>15</td>\n",
       "      <td>74</td>\n",
       "      <td>...</td>\n",
       "      <td>2021</td>\n",
       "      <td>1</td>\n",
       "      <td>11</td>\n",
       "      <td>14</td>\n",
       "      <td>8</td>\n",
       "      <td>0</td>\n",
       "      <td>4.000000</td>\n",
       "      <td>0</td>\n",
       "      <td>1</td>\n",
       "      <td>0</td>\n",
       "    </tr>\n",
       "    <tr>\n",
       "      <th>1878</th>\n",
       "      <td>1878</td>\n",
       "      <td>2030</td>\n",
       "      <td>2021-01-11</td>\n",
       "      <td>1348687428589035522</td>\n",
       "      <td>@ariellelynn__ Seriously my favorite rn</td>\n",
       "      <td>Twitter for iPhone</td>\n",
       "      <td>0</td>\n",
       "      <td>0</td>\n",
       "      <td>5</td>\n",
       "      <td>39</td>\n",
       "      <td>...</td>\n",
       "      <td>2021</td>\n",
       "      <td>1</td>\n",
       "      <td>11</td>\n",
       "      <td>5</td>\n",
       "      <td>1</td>\n",
       "      <td>0</td>\n",
       "      <td>7.000000</td>\n",
       "      <td>0</td>\n",
       "      <td>1</td>\n",
       "      <td>0</td>\n",
       "    </tr>\n",
       "  </tbody>\n",
       "</table>\n",
       "<p>1879 rows × 23 columns</p>\n",
       "</div>"
      ],
      "text/plain": [
       "      Unnamed: 0  Unnamed: 0.1  Tweet Date             Tweet ID  \\\n",
       "0              0             0  2021-01-19  1351590096752017416   \n",
       "1              1             1  2021-01-19  1351555038863368193   \n",
       "2              2             2  2021-01-19  1351554892926750720   \n",
       "3              3             3  2021-01-19  1351554395234824192   \n",
       "4              4             4  2021-01-19  1351554266247426050   \n",
       "...          ...           ...         ...                  ...   \n",
       "1874        1874          2026  2021-01-11  1348687433978798080   \n",
       "1875        1875          2027  2021-01-11  1348687432938647552   \n",
       "1876        1876          2028  2021-01-11  1348687432913473536   \n",
       "1877        1877          2029  2021-01-11  1348687432904892416   \n",
       "1878        1878          2030  2021-01-11  1348687428589035522   \n",
       "\n",
       "                                             Tweet Text         tweet_source  \\\n",
       "0     I'm a big music person. It speaks to me in all...  Twitter for Android   \n",
       "1     @JohnWHarris15 I adore you and your unlimited ...  Twitter for Android   \n",
       "2     @bubblydncer I have replied to countless texts...  Twitter for Android   \n",
       "3                         @MelBeer93 Ahhh I love this!   Twitter for Android   \n",
       "4                   @TheKimClub https://t.co/UUx3417HcD  Twitter for Android   \n",
       "...                                                 ...                  ...   \n",
       "1874              in my lecture rn talking about covid    Twitter for iPhone   \n",
       "1875  @buzzycalz @skinnyqweeen @hearteyezshawty im i...   Twitter for iPhone   \n",
       "1876  @Death13__ Also this is just streams, videos a...  Twitter for Android   \n",
       "1877  @Lyssss69 Honestly I just saw these on tiktok ...   Twitter for iPhone   \n",
       "1878            @ariellelynn__ Seriously my favorite rn   Twitter for iPhone   \n",
       "\n",
       "      tweet_retweet_count  tweet_favorite_count  word_count  char_count  ...  \\\n",
       "0                       0                     6          27         142  ...   \n",
       "1                       0                     1           9          59  ...   \n",
       "2                       0                     1          22         142  ...   \n",
       "3                       0                     0           5          29  ...   \n",
       "4                       0                     1           2          35  ...   \n",
       "...                   ...                   ...         ...         ...  ...   \n",
       "1874                    0                     0           7          37  ...   \n",
       "1875                    0                     2          27         174  ...   \n",
       "1876                    0                     1          16          84  ...   \n",
       "1877                    0                     1          15          74  ...   \n",
       "1878                    0                     0           5          39  ...   \n",
       "\n",
       "      year  month  day  unique_word_count  stop_word_count  url_count  \\\n",
       "0     2021      1   19                 25               15          1   \n",
       "1     2021      1   19                  9                4          0   \n",
       "2     2021      1   19                 20               10          1   \n",
       "3     2021      1   19                  5                1          0   \n",
       "4     2021      1   19                  2                0          1   \n",
       "...    ...    ...  ...                ...              ...        ...   \n",
       "1874  2021      1   11                  7                3          0   \n",
       "1875  2021      1   11                 26               11          0   \n",
       "1876  2021      1   11                 16                8          0   \n",
       "1877  2021      1   11                 14                8          0   \n",
       "1878  2021      1   11                  5                1          0   \n",
       "\n",
       "      mean_word_length  hashtag_count  mention_count  burnout  \n",
       "0             4.296296              0              0        1  \n",
       "1             5.555556              0              1        1  \n",
       "2             5.500000              0              1        1  \n",
       "3             4.800000              0              1        0  \n",
       "4            17.000000              0              1        1  \n",
       "...                ...            ...            ...      ...  \n",
       "1874          4.285714              0              0        1  \n",
       "1875          5.444444              0              3        1  \n",
       "1876          4.312500              0              1        1  \n",
       "1877          4.000000              0              1        0  \n",
       "1878          7.000000              0              1        0  \n",
       "\n",
       "[1879 rows x 23 columns]"
      ]
     },
     "execution_count": 3,
     "metadata": {},
     "output_type": "execute_result"
    }
   ],
   "source": [
    "df = pd.read_csv('../input/healthcareworkersburnout/df.csv')\n",
    "df"
   ]
  },
  {
   "cell_type": "code",
   "execution_count": 4,
   "metadata": {
    "execution": {
     "iopub.execute_input": "2021-01-21T18:42:26.943823Z",
     "iopub.status.busy": "2021-01-21T18:42:26.942515Z",
     "iopub.status.idle": "2021-01-21T18:42:26.947268Z",
     "shell.execute_reply": "2021-01-21T18:42:26.947775Z"
    },
    "papermill": {
     "duration": 0.070513,
     "end_time": "2021-01-21T18:42:26.947937",
     "exception": false,
     "start_time": "2021-01-21T18:42:26.877424",
     "status": "completed"
    },
    "tags": []
   },
   "outputs": [
    {
     "data": {
      "text/html": [
       "<div>\n",
       "<style scoped>\n",
       "    .dataframe tbody tr th:only-of-type {\n",
       "        vertical-align: middle;\n",
       "    }\n",
       "\n",
       "    .dataframe tbody tr th {\n",
       "        vertical-align: top;\n",
       "    }\n",
       "\n",
       "    .dataframe thead th {\n",
       "        text-align: right;\n",
       "    }\n",
       "</style>\n",
       "<table border=\"1\" class=\"dataframe\">\n",
       "  <thead>\n",
       "    <tr style=\"text-align: right;\">\n",
       "      <th></th>\n",
       "      <th>Unnamed: 0</th>\n",
       "      <th>Unnamed: 0.1</th>\n",
       "      <th>Tweet Date</th>\n",
       "      <th>Tweet ID</th>\n",
       "      <th>Tweet Text</th>\n",
       "      <th>tweet_source</th>\n",
       "      <th>tweet_retweet_count</th>\n",
       "      <th>tweet_favorite_count</th>\n",
       "      <th>word_count</th>\n",
       "      <th>char_count</th>\n",
       "      <th>...</th>\n",
       "      <th>year</th>\n",
       "      <th>month</th>\n",
       "      <th>day</th>\n",
       "      <th>unique_word_count</th>\n",
       "      <th>stop_word_count</th>\n",
       "      <th>url_count</th>\n",
       "      <th>mean_word_length</th>\n",
       "      <th>hashtag_count</th>\n",
       "      <th>mention_count</th>\n",
       "      <th>burnout</th>\n",
       "    </tr>\n",
       "  </thead>\n",
       "  <tbody>\n",
       "    <tr>\n",
       "      <th>1874</th>\n",
       "      <td>1874</td>\n",
       "      <td>2026</td>\n",
       "      <td>2021-01-11</td>\n",
       "      <td>1348687433978798080</td>\n",
       "      <td>in my lecture rn talking about covid</td>\n",
       "      <td>Twitter for iPhone</td>\n",
       "      <td>0</td>\n",
       "      <td>0</td>\n",
       "      <td>7</td>\n",
       "      <td>37</td>\n",
       "      <td>...</td>\n",
       "      <td>2021</td>\n",
       "      <td>1</td>\n",
       "      <td>11</td>\n",
       "      <td>7</td>\n",
       "      <td>3</td>\n",
       "      <td>0</td>\n",
       "      <td>4.285714</td>\n",
       "      <td>0</td>\n",
       "      <td>0</td>\n",
       "      <td>1</td>\n",
       "    </tr>\n",
       "    <tr>\n",
       "      <th>1875</th>\n",
       "      <td>1875</td>\n",
       "      <td>2027</td>\n",
       "      <td>2021-01-11</td>\n",
       "      <td>1348687432938647552</td>\n",
       "      <td>@buzzycalz @skinnyqweeen @hearteyezshawty im i...</td>\n",
       "      <td>Twitter for iPhone</td>\n",
       "      <td>0</td>\n",
       "      <td>2</td>\n",
       "      <td>27</td>\n",
       "      <td>174</td>\n",
       "      <td>...</td>\n",
       "      <td>2021</td>\n",
       "      <td>1</td>\n",
       "      <td>11</td>\n",
       "      <td>26</td>\n",
       "      <td>11</td>\n",
       "      <td>0</td>\n",
       "      <td>5.444444</td>\n",
       "      <td>0</td>\n",
       "      <td>3</td>\n",
       "      <td>1</td>\n",
       "    </tr>\n",
       "    <tr>\n",
       "      <th>1876</th>\n",
       "      <td>1876</td>\n",
       "      <td>2028</td>\n",
       "      <td>2021-01-11</td>\n",
       "      <td>1348687432913473536</td>\n",
       "      <td>@Death13__ Also this is just streams, videos a...</td>\n",
       "      <td>Twitter for Android</td>\n",
       "      <td>0</td>\n",
       "      <td>1</td>\n",
       "      <td>16</td>\n",
       "      <td>84</td>\n",
       "      <td>...</td>\n",
       "      <td>2021</td>\n",
       "      <td>1</td>\n",
       "      <td>11</td>\n",
       "      <td>16</td>\n",
       "      <td>8</td>\n",
       "      <td>0</td>\n",
       "      <td>4.312500</td>\n",
       "      <td>0</td>\n",
       "      <td>1</td>\n",
       "      <td>1</td>\n",
       "    </tr>\n",
       "    <tr>\n",
       "      <th>1877</th>\n",
       "      <td>1877</td>\n",
       "      <td>2029</td>\n",
       "      <td>2021-01-11</td>\n",
       "      <td>1348687432904892416</td>\n",
       "      <td>@Lyssss69 Honestly I just saw these on tiktok ...</td>\n",
       "      <td>Twitter for iPhone</td>\n",
       "      <td>0</td>\n",
       "      <td>1</td>\n",
       "      <td>15</td>\n",
       "      <td>74</td>\n",
       "      <td>...</td>\n",
       "      <td>2021</td>\n",
       "      <td>1</td>\n",
       "      <td>11</td>\n",
       "      <td>14</td>\n",
       "      <td>8</td>\n",
       "      <td>0</td>\n",
       "      <td>4.000000</td>\n",
       "      <td>0</td>\n",
       "      <td>1</td>\n",
       "      <td>0</td>\n",
       "    </tr>\n",
       "    <tr>\n",
       "      <th>1878</th>\n",
       "      <td>1878</td>\n",
       "      <td>2030</td>\n",
       "      <td>2021-01-11</td>\n",
       "      <td>1348687428589035522</td>\n",
       "      <td>@ariellelynn__ Seriously my favorite rn</td>\n",
       "      <td>Twitter for iPhone</td>\n",
       "      <td>0</td>\n",
       "      <td>0</td>\n",
       "      <td>5</td>\n",
       "      <td>39</td>\n",
       "      <td>...</td>\n",
       "      <td>2021</td>\n",
       "      <td>1</td>\n",
       "      <td>11</td>\n",
       "      <td>5</td>\n",
       "      <td>1</td>\n",
       "      <td>0</td>\n",
       "      <td>7.000000</td>\n",
       "      <td>0</td>\n",
       "      <td>1</td>\n",
       "      <td>0</td>\n",
       "    </tr>\n",
       "  </tbody>\n",
       "</table>\n",
       "<p>5 rows × 23 columns</p>\n",
       "</div>"
      ],
      "text/plain": [
       "      Unnamed: 0  Unnamed: 0.1  Tweet Date             Tweet ID  \\\n",
       "1874        1874          2026  2021-01-11  1348687433978798080   \n",
       "1875        1875          2027  2021-01-11  1348687432938647552   \n",
       "1876        1876          2028  2021-01-11  1348687432913473536   \n",
       "1877        1877          2029  2021-01-11  1348687432904892416   \n",
       "1878        1878          2030  2021-01-11  1348687428589035522   \n",
       "\n",
       "                                             Tweet Text         tweet_source  \\\n",
       "1874              in my lecture rn talking about covid    Twitter for iPhone   \n",
       "1875  @buzzycalz @skinnyqweeen @hearteyezshawty im i...   Twitter for iPhone   \n",
       "1876  @Death13__ Also this is just streams, videos a...  Twitter for Android   \n",
       "1877  @Lyssss69 Honestly I just saw these on tiktok ...   Twitter for iPhone   \n",
       "1878            @ariellelynn__ Seriously my favorite rn   Twitter for iPhone   \n",
       "\n",
       "      tweet_retweet_count  tweet_favorite_count  word_count  char_count  ...  \\\n",
       "1874                    0                     0           7          37  ...   \n",
       "1875                    0                     2          27         174  ...   \n",
       "1876                    0                     1          16          84  ...   \n",
       "1877                    0                     1          15          74  ...   \n",
       "1878                    0                     0           5          39  ...   \n",
       "\n",
       "      year  month  day  unique_word_count  stop_word_count  url_count  \\\n",
       "1874  2021      1   11                  7                3          0   \n",
       "1875  2021      1   11                 26               11          0   \n",
       "1876  2021      1   11                 16                8          0   \n",
       "1877  2021      1   11                 14                8          0   \n",
       "1878  2021      1   11                  5                1          0   \n",
       "\n",
       "      mean_word_length  hashtag_count  mention_count  burnout  \n",
       "1874          4.285714              0              0        1  \n",
       "1875          5.444444              0              3        1  \n",
       "1876          4.312500              0              1        1  \n",
       "1877          4.000000              0              1        0  \n",
       "1878          7.000000              0              1        0  \n",
       "\n",
       "[5 rows x 23 columns]"
      ]
     },
     "execution_count": 4,
     "metadata": {},
     "output_type": "execute_result"
    }
   ],
   "source": [
    "df.tail()"
   ]
  },
  {
   "cell_type": "code",
   "execution_count": 5,
   "metadata": {
    "execution": {
     "iopub.execute_input": "2021-01-21T18:42:27.046923Z",
     "iopub.status.busy": "2021-01-21T18:42:27.037436Z",
     "iopub.status.idle": "2021-01-21T18:42:27.053302Z",
     "shell.execute_reply": "2021-01-21T18:42:27.052694Z"
    },
    "papermill": {
     "duration": 0.06365,
     "end_time": "2021-01-21T18:42:27.053454",
     "exception": false,
     "start_time": "2021-01-21T18:42:26.989804",
     "status": "completed"
    },
    "tags": []
   },
   "outputs": [
    {
     "name": "stdout",
     "output_type": "stream",
     "text": [
      "<class 'pandas.core.frame.DataFrame'>\n",
      "RangeIndex: 1879 entries, 0 to 1878\n",
      "Data columns (total 23 columns):\n",
      " #   Column                Non-Null Count  Dtype  \n",
      "---  ------                --------------  -----  \n",
      " 0   Unnamed: 0            1879 non-null   int64  \n",
      " 1   Unnamed: 0.1          1879 non-null   int64  \n",
      " 2   Tweet Date            1879 non-null   object \n",
      " 3   Tweet ID              1879 non-null   int64  \n",
      " 4   Tweet Text            1879 non-null   object \n",
      " 5   tweet_source          1879 non-null   object \n",
      " 6   tweet_retweet_count   1879 non-null   int64  \n",
      " 7   tweet_favorite_count  1879 non-null   int64  \n",
      " 8   word_count            1879 non-null   int64  \n",
      " 9   char_count            1879 non-null   int64  \n",
      " 10  word_density          1879 non-null   float64\n",
      " 11  punc_count            1879 non-null   int64  \n",
      " 12  sentiment             1879 non-null   float64\n",
      " 13  year                  1879 non-null   int64  \n",
      " 14  month                 1879 non-null   int64  \n",
      " 15  day                   1879 non-null   int64  \n",
      " 16  unique_word_count     1879 non-null   int64  \n",
      " 17  stop_word_count       1879 non-null   int64  \n",
      " 18  url_count             1879 non-null   int64  \n",
      " 19  mean_word_length      1879 non-null   float64\n",
      " 20  hashtag_count         1879 non-null   int64  \n",
      " 21  mention_count         1879 non-null   int64  \n",
      " 22  burnout               1879 non-null   int64  \n",
      "dtypes: float64(3), int64(17), object(3)\n",
      "memory usage: 337.8+ KB\n"
     ]
    }
   ],
   "source": [
    "df.info()"
   ]
  },
  {
   "cell_type": "code",
   "execution_count": 6,
   "metadata": {
    "execution": {
     "iopub.execute_input": "2021-01-21T18:42:27.148548Z",
     "iopub.status.busy": "2021-01-21T18:42:27.147807Z",
     "iopub.status.idle": "2021-01-21T18:42:27.213593Z",
     "shell.execute_reply": "2021-01-21T18:42:27.212988Z"
    },
    "papermill": {
     "duration": 0.117046,
     "end_time": "2021-01-21T18:42:27.213729",
     "exception": false,
     "start_time": "2021-01-21T18:42:27.096683",
     "status": "completed"
    },
    "tags": []
   },
   "outputs": [
    {
     "data": {
      "text/html": [
       "<div>\n",
       "<style scoped>\n",
       "    .dataframe tbody tr th:only-of-type {\n",
       "        vertical-align: middle;\n",
       "    }\n",
       "\n",
       "    .dataframe tbody tr th {\n",
       "        vertical-align: top;\n",
       "    }\n",
       "\n",
       "    .dataframe thead th {\n",
       "        text-align: right;\n",
       "    }\n",
       "</style>\n",
       "<table border=\"1\" class=\"dataframe\">\n",
       "  <thead>\n",
       "    <tr style=\"text-align: right;\">\n",
       "      <th></th>\n",
       "      <th>Unnamed: 0</th>\n",
       "      <th>Unnamed: 0.1</th>\n",
       "      <th>Tweet ID</th>\n",
       "      <th>tweet_retweet_count</th>\n",
       "      <th>tweet_favorite_count</th>\n",
       "      <th>word_count</th>\n",
       "      <th>char_count</th>\n",
       "      <th>word_density</th>\n",
       "      <th>punc_count</th>\n",
       "      <th>sentiment</th>\n",
       "      <th>year</th>\n",
       "      <th>month</th>\n",
       "      <th>day</th>\n",
       "      <th>unique_word_count</th>\n",
       "      <th>stop_word_count</th>\n",
       "      <th>url_count</th>\n",
       "      <th>mean_word_length</th>\n",
       "      <th>hashtag_count</th>\n",
       "      <th>mention_count</th>\n",
       "      <th>burnout</th>\n",
       "    </tr>\n",
       "  </thead>\n",
       "  <tbody>\n",
       "    <tr>\n",
       "      <th>count</th>\n",
       "      <td>1879.000000</td>\n",
       "      <td>1879.000000</td>\n",
       "      <td>1.879000e+03</td>\n",
       "      <td>1879.000000</td>\n",
       "      <td>1879.000000</td>\n",
       "      <td>1879.000000</td>\n",
       "      <td>1879.000000</td>\n",
       "      <td>1879.000000</td>\n",
       "      <td>1879.000000</td>\n",
       "      <td>1879.000000</td>\n",
       "      <td>1879.000000</td>\n",
       "      <td>1879.000000</td>\n",
       "      <td>1879.00000</td>\n",
       "      <td>1879.000000</td>\n",
       "      <td>1879.000000</td>\n",
       "      <td>1879.000000</td>\n",
       "      <td>1879.000000</td>\n",
       "      <td>1879.000000</td>\n",
       "      <td>1879.000000</td>\n",
       "      <td>1879.000000</td>\n",
       "    </tr>\n",
       "    <tr>\n",
       "      <th>mean</th>\n",
       "      <td>939.000000</td>\n",
       "      <td>1048.265035</td>\n",
       "      <td>1.327972e+18</td>\n",
       "      <td>4.282597</td>\n",
       "      <td>42.165514</td>\n",
       "      <td>14.844598</td>\n",
       "      <td>89.045769</td>\n",
       "      <td>0.193180</td>\n",
       "      <td>5.631719</td>\n",
       "      <td>0.072220</td>\n",
       "      <td>2020.598723</td>\n",
       "      <td>3.871740</td>\n",
       "      <td>13.43587</td>\n",
       "      <td>14.042576</td>\n",
       "      <td>6.248536</td>\n",
       "      <td>0.376796</td>\n",
       "      <td>5.778453</td>\n",
       "      <td>0.118148</td>\n",
       "      <td>0.698244</td>\n",
       "      <td>0.646621</td>\n",
       "    </tr>\n",
       "    <tr>\n",
       "      <th>std</th>\n",
       "      <td>542.564896</td>\n",
       "      <td>591.363305</td>\n",
       "      <td>3.366748e+16</td>\n",
       "      <td>34.185665</td>\n",
       "      <td>212.083711</td>\n",
       "      <td>10.179921</td>\n",
       "      <td>58.309802</td>\n",
       "      <td>0.056461</td>\n",
       "      <td>4.725542</td>\n",
       "      <td>0.314292</td>\n",
       "      <td>0.490287</td>\n",
       "      <td>4.038163</td>\n",
       "      <td>6.09055</td>\n",
       "      <td>9.038157</td>\n",
       "      <td>5.291248</td>\n",
       "      <td>0.493422</td>\n",
       "      <td>2.891427</td>\n",
       "      <td>0.840207</td>\n",
       "      <td>1.454292</td>\n",
       "      <td>0.478147</td>\n",
       "    </tr>\n",
       "    <tr>\n",
       "      <th>min</th>\n",
       "      <td>0.000000</td>\n",
       "      <td>0.000000</td>\n",
       "      <td>1.236776e+18</td>\n",
       "      <td>0.000000</td>\n",
       "      <td>0.000000</td>\n",
       "      <td>1.000000</td>\n",
       "      <td>7.000000</td>\n",
       "      <td>0.041667</td>\n",
       "      <td>0.000000</td>\n",
       "      <td>-1.000000</td>\n",
       "      <td>2020.000000</td>\n",
       "      <td>1.000000</td>\n",
       "      <td>1.00000</td>\n",
       "      <td>1.000000</td>\n",
       "      <td>0.000000</td>\n",
       "      <td>0.000000</td>\n",
       "      <td>2.400000</td>\n",
       "      <td>0.000000</td>\n",
       "      <td>0.000000</td>\n",
       "      <td>0.000000</td>\n",
       "    </tr>\n",
       "    <tr>\n",
       "      <th>25%</th>\n",
       "      <td>469.500000</td>\n",
       "      <td>538.000000</td>\n",
       "      <td>1.320073e+18</td>\n",
       "      <td>0.000000</td>\n",
       "      <td>0.000000</td>\n",
       "      <td>7.000000</td>\n",
       "      <td>44.000000</td>\n",
       "      <td>0.161290</td>\n",
       "      <td>2.000000</td>\n",
       "      <td>0.000000</td>\n",
       "      <td>2020.000000</td>\n",
       "      <td>1.000000</td>\n",
       "      <td>11.00000</td>\n",
       "      <td>7.000000</td>\n",
       "      <td>2.000000</td>\n",
       "      <td>0.000000</td>\n",
       "      <td>4.300000</td>\n",
       "      <td>0.000000</td>\n",
       "      <td>0.000000</td>\n",
       "      <td>0.000000</td>\n",
       "    </tr>\n",
       "    <tr>\n",
       "      <th>50%</th>\n",
       "      <td>939.000000</td>\n",
       "      <td>1087.000000</td>\n",
       "      <td>1.348688e+18</td>\n",
       "      <td>0.000000</td>\n",
       "      <td>2.000000</td>\n",
       "      <td>13.000000</td>\n",
       "      <td>73.000000</td>\n",
       "      <td>0.198020</td>\n",
       "      <td>5.000000</td>\n",
       "      <td>0.000000</td>\n",
       "      <td>2021.000000</td>\n",
       "      <td>1.000000</td>\n",
       "      <td>11.00000</td>\n",
       "      <td>12.000000</td>\n",
       "      <td>5.000000</td>\n",
       "      <td>0.000000</td>\n",
       "      <td>4.958333</td>\n",
       "      <td>0.000000</td>\n",
       "      <td>1.000000</td>\n",
       "      <td>1.000000</td>\n",
       "    </tr>\n",
       "    <tr>\n",
       "      <th>75%</th>\n",
       "      <td>1408.500000</td>\n",
       "      <td>1558.500000</td>\n",
       "      <td>1.348689e+18</td>\n",
       "      <td>0.000000</td>\n",
       "      <td>10.000000</td>\n",
       "      <td>22.000000</td>\n",
       "      <td>141.000000</td>\n",
       "      <td>0.227273</td>\n",
       "      <td>9.000000</td>\n",
       "      <td>0.200000</td>\n",
       "      <td>2021.000000</td>\n",
       "      <td>7.000000</td>\n",
       "      <td>16.00000</td>\n",
       "      <td>20.000000</td>\n",
       "      <td>10.000000</td>\n",
       "      <td>1.000000</td>\n",
       "      <td>6.082492</td>\n",
       "      <td>0.000000</td>\n",
       "      <td>1.000000</td>\n",
       "      <td>1.000000</td>\n",
       "    </tr>\n",
       "    <tr>\n",
       "      <th>max</th>\n",
       "      <td>1878.000000</td>\n",
       "      <td>2030.000000</td>\n",
       "      <td>1.351590e+18</td>\n",
       "      <td>838.000000</td>\n",
       "      <td>5332.000000</td>\n",
       "      <td>92.000000</td>\n",
       "      <td>912.000000</td>\n",
       "      <td>0.400000</td>\n",
       "      <td>60.000000</td>\n",
       "      <td>1.000000</td>\n",
       "      <td>2021.000000</td>\n",
       "      <td>12.000000</td>\n",
       "      <td>31.00000</td>\n",
       "      <td>89.000000</td>\n",
       "      <td>35.000000</td>\n",
       "      <td>2.000000</td>\n",
       "      <td>23.000000</td>\n",
       "      <td>19.000000</td>\n",
       "      <td>49.000000</td>\n",
       "      <td>1.000000</td>\n",
       "    </tr>\n",
       "  </tbody>\n",
       "</table>\n",
       "</div>"
      ],
      "text/plain": [
       "        Unnamed: 0  Unnamed: 0.1      Tweet ID  tweet_retweet_count  \\\n",
       "count  1879.000000   1879.000000  1.879000e+03          1879.000000   \n",
       "mean    939.000000   1048.265035  1.327972e+18             4.282597   \n",
       "std     542.564896    591.363305  3.366748e+16            34.185665   \n",
       "min       0.000000      0.000000  1.236776e+18             0.000000   \n",
       "25%     469.500000    538.000000  1.320073e+18             0.000000   \n",
       "50%     939.000000   1087.000000  1.348688e+18             0.000000   \n",
       "75%    1408.500000   1558.500000  1.348689e+18             0.000000   \n",
       "max    1878.000000   2030.000000  1.351590e+18           838.000000   \n",
       "\n",
       "       tweet_favorite_count   word_count   char_count  word_density  \\\n",
       "count           1879.000000  1879.000000  1879.000000   1879.000000   \n",
       "mean              42.165514    14.844598    89.045769      0.193180   \n",
       "std              212.083711    10.179921    58.309802      0.056461   \n",
       "min                0.000000     1.000000     7.000000      0.041667   \n",
       "25%                0.000000     7.000000    44.000000      0.161290   \n",
       "50%                2.000000    13.000000    73.000000      0.198020   \n",
       "75%               10.000000    22.000000   141.000000      0.227273   \n",
       "max             5332.000000    92.000000   912.000000      0.400000   \n",
       "\n",
       "        punc_count    sentiment         year        month         day  \\\n",
       "count  1879.000000  1879.000000  1879.000000  1879.000000  1879.00000   \n",
       "mean      5.631719     0.072220  2020.598723     3.871740    13.43587   \n",
       "std       4.725542     0.314292     0.490287     4.038163     6.09055   \n",
       "min       0.000000    -1.000000  2020.000000     1.000000     1.00000   \n",
       "25%       2.000000     0.000000  2020.000000     1.000000    11.00000   \n",
       "50%       5.000000     0.000000  2021.000000     1.000000    11.00000   \n",
       "75%       9.000000     0.200000  2021.000000     7.000000    16.00000   \n",
       "max      60.000000     1.000000  2021.000000    12.000000    31.00000   \n",
       "\n",
       "       unique_word_count  stop_word_count    url_count  mean_word_length  \\\n",
       "count        1879.000000      1879.000000  1879.000000       1879.000000   \n",
       "mean           14.042576         6.248536     0.376796          5.778453   \n",
       "std             9.038157         5.291248     0.493422          2.891427   \n",
       "min             1.000000         0.000000     0.000000          2.400000   \n",
       "25%             7.000000         2.000000     0.000000          4.300000   \n",
       "50%            12.000000         5.000000     0.000000          4.958333   \n",
       "75%            20.000000        10.000000     1.000000          6.082492   \n",
       "max            89.000000        35.000000     2.000000         23.000000   \n",
       "\n",
       "       hashtag_count  mention_count      burnout  \n",
       "count    1879.000000    1879.000000  1879.000000  \n",
       "mean        0.118148       0.698244     0.646621  \n",
       "std         0.840207       1.454292     0.478147  \n",
       "min         0.000000       0.000000     0.000000  \n",
       "25%         0.000000       0.000000     0.000000  \n",
       "50%         0.000000       1.000000     1.000000  \n",
       "75%         0.000000       1.000000     1.000000  \n",
       "max        19.000000      49.000000     1.000000  "
      ]
     },
     "execution_count": 6,
     "metadata": {},
     "output_type": "execute_result"
    }
   ],
   "source": [
    "df.describe()"
   ]
  },
  {
   "cell_type": "code",
   "execution_count": 7,
   "metadata": {
    "execution": {
     "iopub.execute_input": "2021-01-21T18:42:27.305358Z",
     "iopub.status.busy": "2021-01-21T18:42:27.304658Z",
     "iopub.status.idle": "2021-01-21T18:42:27.319502Z",
     "shell.execute_reply": "2021-01-21T18:42:27.318820Z"
    },
    "papermill": {
     "duration": 0.062484,
     "end_time": "2021-01-21T18:42:27.319618",
     "exception": false,
     "start_time": "2021-01-21T18:42:27.257134",
     "status": "completed"
    },
    "tags": []
   },
   "outputs": [
    {
     "data": {
      "text/plain": [
       "Unnamed: 0              1879\n",
       "Unnamed: 0.1            1879\n",
       "Tweet Date               189\n",
       "Tweet ID                1879\n",
       "Tweet Text              1879\n",
       "tweet_source              14\n",
       "tweet_retweet_count       67\n",
       "tweet_favorite_count     222\n",
       "word_count                59\n",
       "char_count               227\n",
       "word_density             601\n",
       "punc_count                28\n",
       "sentiment                361\n",
       "year                       2\n",
       "month                     11\n",
       "day                       31\n",
       "unique_word_count         51\n",
       "stop_word_count           31\n",
       "url_count                  3\n",
       "mean_word_length         622\n",
       "hashtag_count             13\n",
       "mention_count             11\n",
       "burnout                    2\n",
       "dtype: int64"
      ]
     },
     "execution_count": 7,
     "metadata": {},
     "output_type": "execute_result"
    }
   ],
   "source": [
    "df.nunique()"
   ]
  },
  {
   "cell_type": "markdown",
   "metadata": {
    "papermill": {
     "duration": 0.04334,
     "end_time": "2021-01-21T18:42:27.406528",
     "exception": false,
     "start_time": "2021-01-21T18:42:27.363188",
     "status": "completed"
    },
    "tags": []
   },
   "source": [
    "# Call to Action\n",
    "\n",
    "I was listening to a growth and leadership podcast this morning and it talked about burnout. It is seen in leadership - a lot. Often times, it is due to people giving excuses that it is only temporary and so they need to just push through during a season. More often, it is due to not listening to warning signs such as irritability or lack of basic health needs (sleep, food, relationships). If those we need to take care of our health are suffering from burnout, then there needs to be a source to determine that there is a trend towards burnout or that they are already there. \n",
    "\n",
    "In this notebook, I will be looking at tweets and building models that will help paint a picture of whether or not someone needs intervention and refueling."
   ]
  },
  {
   "cell_type": "markdown",
   "metadata": {
    "papermill": {
     "duration": 0.042931,
     "end_time": "2021-01-21T18:42:27.492780",
     "exception": false,
     "start_time": "2021-01-21T18:42:27.449849",
     "status": "completed"
    },
    "tags": []
   },
   "source": [
    "Thank you: https://www.kaggle.com/shivamb/seconds-from-disaster-text-eda-and-analysis"
   ]
  },
  {
   "cell_type": "markdown",
   "metadata": {
    "papermill": {
     "duration": 0.043064,
     "end_time": "2021-01-21T18:42:27.579506",
     "exception": false,
     "start_time": "2021-01-21T18:42:27.536442",
     "status": "completed"
    },
    "tags": []
   },
   "source": [
    "## Bag of Words Model"
   ]
  },
  {
   "cell_type": "markdown",
   "metadata": {
    "papermill": {
     "duration": 0.042975,
     "end_time": "2021-01-21T18:42:27.666994",
     "exception": false,
     "start_time": "2021-01-21T18:42:27.624019",
     "status": "completed"
    },
    "tags": []
   },
   "source": [
    "BoW will be used to tag tweets as burnout or not. The same approach will be used to see what sort of burnout occurred. \n",
    "\n",
    "Bag of Words approach is a simple dictionary based approach in which a lookup (dictionary) of known words is used to check weather a given document belongs to a particular class or not. It is more like a Naive Bayes approach as it measures the occurance of known dictionary based words in the given document, and assigns a probability of the target class.\n",
    "\n",
    "* Words Usage\n",
    "* Topic Modelling using LDA\n",
    "\n",
    "In this notebook, I am focusing on burnout causes as a topic and will be using a simple dictionary of 12 known burnout words."
   ]
  },
  {
   "cell_type": "code",
   "execution_count": 8,
   "metadata": {
    "execution": {
     "iopub.execute_input": "2021-01-21T18:42:27.760420Z",
     "iopub.status.busy": "2021-01-21T18:42:27.759636Z",
     "iopub.status.idle": "2021-01-21T18:42:27.763036Z",
     "shell.execute_reply": "2021-01-21T18:42:27.762182Z"
    },
    "papermill": {
     "duration": 0.05273,
     "end_time": "2021-01-21T18:42:27.763160",
     "exception": false,
     "start_time": "2021-01-21T18:42:27.710430",
     "status": "completed"
    },
    "tags": []
   },
   "outputs": [],
   "source": [
    "# function to check if a bag's element is present in the text\n",
    "def get_category(txt, bag):\n",
    "    category = [x for x in bag if x in txt.lower()]\n",
    "    if not category:\n",
    "        category = [\"\"]\n",
    "    return category[0] "
   ]
  },
  {
   "cell_type": "markdown",
   "metadata": {
    "papermill": {
     "duration": 0.043507,
     "end_time": "2021-01-21T18:42:27.850864",
     "exception": false,
     "start_time": "2021-01-21T18:42:27.807357",
     "status": "completed"
    },
    "tags": []
   },
   "source": [
    "Burnout bag was based on burnout bigrams list."
   ]
  },
  {
   "cell_type": "code",
   "execution_count": 9,
   "metadata": {
    "execution": {
     "iopub.execute_input": "2021-01-21T18:42:27.959558Z",
     "iopub.status.busy": "2021-01-21T18:42:27.954339Z",
     "iopub.status.idle": "2021-01-21T18:42:27.982705Z",
     "shell.execute_reply": "2021-01-21T18:42:27.982053Z"
    },
    "papermill": {
     "duration": 0.087316,
     "end_time": "2021-01-21T18:42:27.982833",
     "exception": false,
     "start_time": "2021-01-21T18:42:27.895517",
     "status": "completed"
    },
    "tags": []
   },
   "outputs": [],
   "source": [
    "burnout_bag = ['cry', 'crying', 'nervous', 'sorry', 'can\\'t take this', 'crazy', 'hungry', 'anxious', 'insomnia', 'depress', 'can\\'t think', 'can\\'t focus', 'angry', 'anger', 'idc', 'sad', 'unhappy', 'pessimistic', 'alone', 'detached', 'apathetic', 'hopeless', 'irritated', 'tired', 'exhausted', 'long hours', 'no satisfaction', 'not satsified', 'hard', 'feel bad', 'bad', 'shaking', 'pain', 'scream', 'confused', 'attack', 'panic', 'scared', 'frightened', 'another one', 'losing mind', 'mad', 'mental health', 'oh god', 'days off', 'feel sick', 'struggling', 'sucks', 'mess', 'sleep', 'bad place', 'speechless']\n",
    "df['burnout_indicators'] = df['Tweet Text'].apply(lambda x : get_category(x, burnout_bag)) # idc = i don't care (apathy)"
   ]
  },
  {
   "cell_type": "code",
   "execution_count": 10,
   "metadata": {
    "execution": {
     "iopub.execute_input": "2021-01-21T18:42:28.081305Z",
     "iopub.status.busy": "2021-01-21T18:42:28.080371Z",
     "iopub.status.idle": "2021-01-21T18:42:28.084919Z",
     "shell.execute_reply": "2021-01-21T18:42:28.084415Z"
    },
    "papermill": {
     "duration": 0.058455,
     "end_time": "2021-01-21T18:42:28.085033",
     "exception": false,
     "start_time": "2021-01-21T18:42:28.026578",
     "status": "completed"
    },
    "tags": []
   },
   "outputs": [
    {
     "data": {
      "text/plain": [
       "                 1573\n",
       "sorry              39\n",
       "hard               36\n",
       "cry                33\n",
       "bad                30\n",
       "mad                30\n",
       "sleep              18\n",
       "mess               12\n",
       "sad                12\n",
       "tired              10\n",
       "sucks              10\n",
       "pain                9\n",
       "crazy               8\n",
       "scared              6\n",
       "alone               5\n",
       "days off            5\n",
       "angry               4\n",
       "confused            4\n",
       "anxious             3\n",
       "mental health       3\n",
       "scream              3\n",
       "attack              3\n",
       "speechless          2\n",
       "nervous             2\n",
       "depress             2\n",
       "anger               2\n",
       "can't think         2\n",
       "hungry              2\n",
       "shaking             2\n",
       "struggling          2\n",
       "insomnia            2\n",
       "feel sick           1\n",
       "feel bad            1\n",
       "irritated           1\n",
       "exhausted           1\n",
       "can't focus         1\n",
       "Name: burnout_indicators, dtype: int64"
      ]
     },
     "execution_count": 10,
     "metadata": {},
     "output_type": "execute_result"
    }
   ],
   "source": [
    "df.burnout_indicators.value_counts()"
   ]
  },
  {
   "cell_type": "markdown",
   "metadata": {
    "papermill": {
     "duration": 0.04446,
     "end_time": "2021-01-21T18:42:28.173353",
     "exception": false,
     "start_time": "2021-01-21T18:42:28.128893",
     "status": "completed"
    },
    "tags": []
   },
   "source": [
    "## Words Usage: Distribution of Burnout"
   ]
  },
  {
   "cell_type": "code",
   "execution_count": 11,
   "metadata": {
    "execution": {
     "iopub.execute_input": "2021-01-21T18:42:28.274970Z",
     "iopub.status.busy": "2021-01-21T18:42:28.274105Z",
     "iopub.status.idle": "2021-01-21T18:42:29.486273Z",
     "shell.execute_reply": "2021-01-21T18:42:29.485687Z"
    },
    "papermill": {
     "duration": 1.268721,
     "end_time": "2021-01-21T18:42:29.486406",
     "exception": false,
     "start_time": "2021-01-21T18:42:28.217685",
     "status": "completed"
    },
    "tags": []
   },
   "outputs": [
    {
     "data": {
      "application/vnd.plotly.v1+json": {
       "config": {
        "linkText": "Export to plot.ly",
        "plotlyServerURL": "https://plot.ly",
        "showLink": false
       },
       "data": [
        {
         "hoverinfo": "label+percent",
         "labels": [
          "sorry",
          "hard",
          "cry",
          "bad",
          "mad",
          "sleep",
          "mess",
          "sad",
          "tired",
          "sucks",
          "pain",
          "crazy",
          "scared",
          "alone",
          "days off",
          "angry",
          "confused",
          "anxious",
          "mental health",
          "scream",
          "attack",
          "speechless",
          "nervous",
          "depress",
          "anger",
          "can't think",
          "hungry",
          "shaking",
          "struggling",
          "insomnia",
          "feel sick",
          "feel bad",
          "irritated",
          "exhausted",
          "can't focus"
         ],
         "marker": {
          "colors": [
           "lightblue",
           "gray",
           "#eee",
           "#999",
           "#9f9f"
          ]
         },
         "name": "tweet counts of different burnout indicators",
         "textinfo": "value",
         "type": "pie",
         "values": [
          39,
          36,
          33,
          30,
          30,
          18,
          12,
          12,
          10,
          10,
          9,
          8,
          6,
          5,
          5,
          4,
          4,
          3,
          3,
          3,
          3,
          2,
          2,
          2,
          2,
          2,
          2,
          2,
          2,
          2,
          1,
          1,
          1,
          1,
          1
         ]
        }
       ],
       "layout": {
        "template": {
         "data": {
          "bar": [
           {
            "error_x": {
             "color": "#2a3f5f"
            },
            "error_y": {
             "color": "#2a3f5f"
            },
            "marker": {
             "line": {
              "color": "#E5ECF6",
              "width": 0.5
             }
            },
            "type": "bar"
           }
          ],
          "barpolar": [
           {
            "marker": {
             "line": {
              "color": "#E5ECF6",
              "width": 0.5
             }
            },
            "type": "barpolar"
           }
          ],
          "carpet": [
           {
            "aaxis": {
             "endlinecolor": "#2a3f5f",
             "gridcolor": "white",
             "linecolor": "white",
             "minorgridcolor": "white",
             "startlinecolor": "#2a3f5f"
            },
            "baxis": {
             "endlinecolor": "#2a3f5f",
             "gridcolor": "white",
             "linecolor": "white",
             "minorgridcolor": "white",
             "startlinecolor": "#2a3f5f"
            },
            "type": "carpet"
           }
          ],
          "choropleth": [
           {
            "colorbar": {
             "outlinewidth": 0,
             "ticks": ""
            },
            "type": "choropleth"
           }
          ],
          "contour": [
           {
            "colorbar": {
             "outlinewidth": 0,
             "ticks": ""
            },
            "colorscale": [
             [
              0.0,
              "#0d0887"
             ],
             [
              0.1111111111111111,
              "#46039f"
             ],
             [
              0.2222222222222222,
              "#7201a8"
             ],
             [
              0.3333333333333333,
              "#9c179e"
             ],
             [
              0.4444444444444444,
              "#bd3786"
             ],
             [
              0.5555555555555556,
              "#d8576b"
             ],
             [
              0.6666666666666666,
              "#ed7953"
             ],
             [
              0.7777777777777778,
              "#fb9f3a"
             ],
             [
              0.8888888888888888,
              "#fdca26"
             ],
             [
              1.0,
              "#f0f921"
             ]
            ],
            "type": "contour"
           }
          ],
          "contourcarpet": [
           {
            "colorbar": {
             "outlinewidth": 0,
             "ticks": ""
            },
            "type": "contourcarpet"
           }
          ],
          "heatmap": [
           {
            "colorbar": {
             "outlinewidth": 0,
             "ticks": ""
            },
            "colorscale": [
             [
              0.0,
              "#0d0887"
             ],
             [
              0.1111111111111111,
              "#46039f"
             ],
             [
              0.2222222222222222,
              "#7201a8"
             ],
             [
              0.3333333333333333,
              "#9c179e"
             ],
             [
              0.4444444444444444,
              "#bd3786"
             ],
             [
              0.5555555555555556,
              "#d8576b"
             ],
             [
              0.6666666666666666,
              "#ed7953"
             ],
             [
              0.7777777777777778,
              "#fb9f3a"
             ],
             [
              0.8888888888888888,
              "#fdca26"
             ],
             [
              1.0,
              "#f0f921"
             ]
            ],
            "type": "heatmap"
           }
          ],
          "heatmapgl": [
           {
            "colorbar": {
             "outlinewidth": 0,
             "ticks": ""
            },
            "colorscale": [
             [
              0.0,
              "#0d0887"
             ],
             [
              0.1111111111111111,
              "#46039f"
             ],
             [
              0.2222222222222222,
              "#7201a8"
             ],
             [
              0.3333333333333333,
              "#9c179e"
             ],
             [
              0.4444444444444444,
              "#bd3786"
             ],
             [
              0.5555555555555556,
              "#d8576b"
             ],
             [
              0.6666666666666666,
              "#ed7953"
             ],
             [
              0.7777777777777778,
              "#fb9f3a"
             ],
             [
              0.8888888888888888,
              "#fdca26"
             ],
             [
              1.0,
              "#f0f921"
             ]
            ],
            "type": "heatmapgl"
           }
          ],
          "histogram": [
           {
            "marker": {
             "colorbar": {
              "outlinewidth": 0,
              "ticks": ""
             }
            },
            "type": "histogram"
           }
          ],
          "histogram2d": [
           {
            "colorbar": {
             "outlinewidth": 0,
             "ticks": ""
            },
            "colorscale": [
             [
              0.0,
              "#0d0887"
             ],
             [
              0.1111111111111111,
              "#46039f"
             ],
             [
              0.2222222222222222,
              "#7201a8"
             ],
             [
              0.3333333333333333,
              "#9c179e"
             ],
             [
              0.4444444444444444,
              "#bd3786"
             ],
             [
              0.5555555555555556,
              "#d8576b"
             ],
             [
              0.6666666666666666,
              "#ed7953"
             ],
             [
              0.7777777777777778,
              "#fb9f3a"
             ],
             [
              0.8888888888888888,
              "#fdca26"
             ],
             [
              1.0,
              "#f0f921"
             ]
            ],
            "type": "histogram2d"
           }
          ],
          "histogram2dcontour": [
           {
            "colorbar": {
             "outlinewidth": 0,
             "ticks": ""
            },
            "colorscale": [
             [
              0.0,
              "#0d0887"
             ],
             [
              0.1111111111111111,
              "#46039f"
             ],
             [
              0.2222222222222222,
              "#7201a8"
             ],
             [
              0.3333333333333333,
              "#9c179e"
             ],
             [
              0.4444444444444444,
              "#bd3786"
             ],
             [
              0.5555555555555556,
              "#d8576b"
             ],
             [
              0.6666666666666666,
              "#ed7953"
             ],
             [
              0.7777777777777778,
              "#fb9f3a"
             ],
             [
              0.8888888888888888,
              "#fdca26"
             ],
             [
              1.0,
              "#f0f921"
             ]
            ],
            "type": "histogram2dcontour"
           }
          ],
          "mesh3d": [
           {
            "colorbar": {
             "outlinewidth": 0,
             "ticks": ""
            },
            "type": "mesh3d"
           }
          ],
          "parcoords": [
           {
            "line": {
             "colorbar": {
              "outlinewidth": 0,
              "ticks": ""
             }
            },
            "type": "parcoords"
           }
          ],
          "pie": [
           {
            "automargin": true,
            "type": "pie"
           }
          ],
          "scatter": [
           {
            "marker": {
             "colorbar": {
              "outlinewidth": 0,
              "ticks": ""
             }
            },
            "type": "scatter"
           }
          ],
          "scatter3d": [
           {
            "line": {
             "colorbar": {
              "outlinewidth": 0,
              "ticks": ""
             }
            },
            "marker": {
             "colorbar": {
              "outlinewidth": 0,
              "ticks": ""
             }
            },
            "type": "scatter3d"
           }
          ],
          "scattercarpet": [
           {
            "marker": {
             "colorbar": {
              "outlinewidth": 0,
              "ticks": ""
             }
            },
            "type": "scattercarpet"
           }
          ],
          "scattergeo": [
           {
            "marker": {
             "colorbar": {
              "outlinewidth": 0,
              "ticks": ""
             }
            },
            "type": "scattergeo"
           }
          ],
          "scattergl": [
           {
            "marker": {
             "colorbar": {
              "outlinewidth": 0,
              "ticks": ""
             }
            },
            "type": "scattergl"
           }
          ],
          "scattermapbox": [
           {
            "marker": {
             "colorbar": {
              "outlinewidth": 0,
              "ticks": ""
             }
            },
            "type": "scattermapbox"
           }
          ],
          "scatterpolar": [
           {
            "marker": {
             "colorbar": {
              "outlinewidth": 0,
              "ticks": ""
             }
            },
            "type": "scatterpolar"
           }
          ],
          "scatterpolargl": [
           {
            "marker": {
             "colorbar": {
              "outlinewidth": 0,
              "ticks": ""
             }
            },
            "type": "scatterpolargl"
           }
          ],
          "scatterternary": [
           {
            "marker": {
             "colorbar": {
              "outlinewidth": 0,
              "ticks": ""
             }
            },
            "type": "scatterternary"
           }
          ],
          "surface": [
           {
            "colorbar": {
             "outlinewidth": 0,
             "ticks": ""
            },
            "colorscale": [
             [
              0.0,
              "#0d0887"
             ],
             [
              0.1111111111111111,
              "#46039f"
             ],
             [
              0.2222222222222222,
              "#7201a8"
             ],
             [
              0.3333333333333333,
              "#9c179e"
             ],
             [
              0.4444444444444444,
              "#bd3786"
             ],
             [
              0.5555555555555556,
              "#d8576b"
             ],
             [
              0.6666666666666666,
              "#ed7953"
             ],
             [
              0.7777777777777778,
              "#fb9f3a"
             ],
             [
              0.8888888888888888,
              "#fdca26"
             ],
             [
              1.0,
              "#f0f921"
             ]
            ],
            "type": "surface"
           }
          ],
          "table": [
           {
            "cells": {
             "fill": {
              "color": "#EBF0F8"
             },
             "line": {
              "color": "white"
             }
            },
            "header": {
             "fill": {
              "color": "#C8D4E3"
             },
             "line": {
              "color": "white"
             }
            },
            "type": "table"
           }
          ]
         },
         "layout": {
          "annotationdefaults": {
           "arrowcolor": "#2a3f5f",
           "arrowhead": 0,
           "arrowwidth": 1
          },
          "autotypenumbers": "strict",
          "coloraxis": {
           "colorbar": {
            "outlinewidth": 0,
            "ticks": ""
           }
          },
          "colorscale": {
           "diverging": [
            [
             0,
             "#8e0152"
            ],
            [
             0.1,
             "#c51b7d"
            ],
            [
             0.2,
             "#de77ae"
            ],
            [
             0.3,
             "#f1b6da"
            ],
            [
             0.4,
             "#fde0ef"
            ],
            [
             0.5,
             "#f7f7f7"
            ],
            [
             0.6,
             "#e6f5d0"
            ],
            [
             0.7,
             "#b8e186"
            ],
            [
             0.8,
             "#7fbc41"
            ],
            [
             0.9,
             "#4d9221"
            ],
            [
             1,
             "#276419"
            ]
           ],
           "sequential": [
            [
             0.0,
             "#0d0887"
            ],
            [
             0.1111111111111111,
             "#46039f"
            ],
            [
             0.2222222222222222,
             "#7201a8"
            ],
            [
             0.3333333333333333,
             "#9c179e"
            ],
            [
             0.4444444444444444,
             "#bd3786"
            ],
            [
             0.5555555555555556,
             "#d8576b"
            ],
            [
             0.6666666666666666,
             "#ed7953"
            ],
            [
             0.7777777777777778,
             "#fb9f3a"
            ],
            [
             0.8888888888888888,
             "#fdca26"
            ],
            [
             1.0,
             "#f0f921"
            ]
           ],
           "sequentialminus": [
            [
             0.0,
             "#0d0887"
            ],
            [
             0.1111111111111111,
             "#46039f"
            ],
            [
             0.2222222222222222,
             "#7201a8"
            ],
            [
             0.3333333333333333,
             "#9c179e"
            ],
            [
             0.4444444444444444,
             "#bd3786"
            ],
            [
             0.5555555555555556,
             "#d8576b"
            ],
            [
             0.6666666666666666,
             "#ed7953"
            ],
            [
             0.7777777777777778,
             "#fb9f3a"
            ],
            [
             0.8888888888888888,
             "#fdca26"
            ],
            [
             1.0,
             "#f0f921"
            ]
           ]
          },
          "colorway": [
           "#636efa",
           "#EF553B",
           "#00cc96",
           "#ab63fa",
           "#FFA15A",
           "#19d3f3",
           "#FF6692",
           "#B6E880",
           "#FF97FF",
           "#FECB52"
          ],
          "font": {
           "color": "#2a3f5f"
          },
          "geo": {
           "bgcolor": "white",
           "lakecolor": "white",
           "landcolor": "#E5ECF6",
           "showlakes": true,
           "showland": true,
           "subunitcolor": "white"
          },
          "hoverlabel": {
           "align": "left"
          },
          "hovermode": "closest",
          "mapbox": {
           "style": "light"
          },
          "paper_bgcolor": "white",
          "plot_bgcolor": "#E5ECF6",
          "polar": {
           "angularaxis": {
            "gridcolor": "white",
            "linecolor": "white",
            "ticks": ""
           },
           "bgcolor": "#E5ECF6",
           "radialaxis": {
            "gridcolor": "white",
            "linecolor": "white",
            "ticks": ""
           }
          },
          "scene": {
           "xaxis": {
            "backgroundcolor": "#E5ECF6",
            "gridcolor": "white",
            "gridwidth": 2,
            "linecolor": "white",
            "showbackground": true,
            "ticks": "",
            "zerolinecolor": "white"
           },
           "yaxis": {
            "backgroundcolor": "#E5ECF6",
            "gridcolor": "white",
            "gridwidth": 2,
            "linecolor": "white",
            "showbackground": true,
            "ticks": "",
            "zerolinecolor": "white"
           },
           "zaxis": {
            "backgroundcolor": "#E5ECF6",
            "gridcolor": "white",
            "gridwidth": 2,
            "linecolor": "white",
            "showbackground": true,
            "ticks": "",
            "zerolinecolor": "white"
           }
          },
          "shapedefaults": {
           "line": {
            "color": "#2a3f5f"
           }
          },
          "ternary": {
           "aaxis": {
            "gridcolor": "white",
            "linecolor": "white",
            "ticks": ""
           },
           "baxis": {
            "gridcolor": "white",
            "linecolor": "white",
            "ticks": ""
           },
           "bgcolor": "#E5ECF6",
           "caxis": {
            "gridcolor": "white",
            "linecolor": "white",
            "ticks": ""
           }
          },
          "title": {
           "x": 0.05
          },
          "xaxis": {
           "automargin": true,
           "gridcolor": "white",
           "linecolor": "white",
           "ticks": "",
           "title": {
            "standoff": 15
           },
           "zerolinecolor": "white",
           "zerolinewidth": 2
          },
          "yaxis": {
           "automargin": true,
           "gridcolor": "white",
           "linecolor": "white",
           "ticks": "",
           "title": {
            "standoff": 15
           },
           "zerolinecolor": "white",
           "zerolinewidth": 2
          }
         }
        },
        "title": {
         "text": "Distribution of burnout tweets"
        },
        "xaxis": {
         "ticklen": 5,
         "title": {
          "text": "World Rank"
         },
         "zeroline": false
        }
       }
      },
      "text/html": [
       "<div>                            <div id=\"7aea6a14-42ad-4958-9b14-e80ea1340828\" class=\"plotly-graph-div\" style=\"height:525px; width:100%;\"></div>            <script type=\"text/javascript\">                require([\"plotly\"], function(Plotly) {                    window.PLOTLYENV=window.PLOTLYENV || {};                                    if (document.getElementById(\"7aea6a14-42ad-4958-9b14-e80ea1340828\")) {                    Plotly.newPlot(                        \"7aea6a14-42ad-4958-9b14-e80ea1340828\",                        [{\"hoverinfo\": \"label+percent\", \"labels\": [\"sorry\", \"hard\", \"cry\", \"bad\", \"mad\", \"sleep\", \"mess\", \"sad\", \"tired\", \"sucks\", \"pain\", \"crazy\", \"scared\", \"alone\", \"days off\", \"angry\", \"confused\", \"anxious\", \"mental health\", \"scream\", \"attack\", \"speechless\", \"nervous\", \"depress\", \"anger\", \"can't think\", \"hungry\", \"shaking\", \"struggling\", \"insomnia\", \"feel sick\", \"feel bad\", \"irritated\", \"exhausted\", \"can't focus\"], \"marker\": {\"colors\": [\"lightblue\", \"gray\", \"#eee\", \"#999\", \"#9f9f\"]}, \"name\": \"tweet counts of different burnout indicators\", \"textinfo\": \"value\", \"type\": \"pie\", \"values\": [39, 36, 33, 30, 30, 18, 12, 12, 10, 10, 9, 8, 6, 5, 5, 4, 4, 3, 3, 3, 3, 2, 2, 2, 2, 2, 2, 2, 2, 2, 1, 1, 1, 1, 1]}],                        {\"template\": {\"data\": {\"bar\": [{\"error_x\": {\"color\": \"#2a3f5f\"}, \"error_y\": {\"color\": \"#2a3f5f\"}, \"marker\": {\"line\": {\"color\": \"#E5ECF6\", \"width\": 0.5}}, \"type\": \"bar\"}], \"barpolar\": [{\"marker\": {\"line\": {\"color\": \"#E5ECF6\", \"width\": 0.5}}, \"type\": \"barpolar\"}], \"carpet\": [{\"aaxis\": {\"endlinecolor\": \"#2a3f5f\", \"gridcolor\": \"white\", \"linecolor\": \"white\", \"minorgridcolor\": \"white\", \"startlinecolor\": \"#2a3f5f\"}, \"baxis\": {\"endlinecolor\": \"#2a3f5f\", \"gridcolor\": \"white\", \"linecolor\": \"white\", \"minorgridcolor\": \"white\", \"startlinecolor\": \"#2a3f5f\"}, \"type\": \"carpet\"}], \"choropleth\": [{\"colorbar\": {\"outlinewidth\": 0, \"ticks\": \"\"}, \"type\": \"choropleth\"}], \"contour\": [{\"colorbar\": {\"outlinewidth\": 0, \"ticks\": \"\"}, \"colorscale\": [[0.0, \"#0d0887\"], [0.1111111111111111, \"#46039f\"], [0.2222222222222222, \"#7201a8\"], [0.3333333333333333, \"#9c179e\"], [0.4444444444444444, \"#bd3786\"], [0.5555555555555556, \"#d8576b\"], [0.6666666666666666, \"#ed7953\"], [0.7777777777777778, \"#fb9f3a\"], [0.8888888888888888, \"#fdca26\"], [1.0, \"#f0f921\"]], \"type\": \"contour\"}], \"contourcarpet\": [{\"colorbar\": {\"outlinewidth\": 0, \"ticks\": \"\"}, \"type\": \"contourcarpet\"}], \"heatmap\": [{\"colorbar\": {\"outlinewidth\": 0, \"ticks\": \"\"}, \"colorscale\": [[0.0, \"#0d0887\"], [0.1111111111111111, \"#46039f\"], [0.2222222222222222, \"#7201a8\"], [0.3333333333333333, \"#9c179e\"], [0.4444444444444444, \"#bd3786\"], [0.5555555555555556, \"#d8576b\"], [0.6666666666666666, \"#ed7953\"], [0.7777777777777778, \"#fb9f3a\"], [0.8888888888888888, \"#fdca26\"], [1.0, \"#f0f921\"]], \"type\": \"heatmap\"}], \"heatmapgl\": [{\"colorbar\": {\"outlinewidth\": 0, \"ticks\": \"\"}, \"colorscale\": [[0.0, \"#0d0887\"], [0.1111111111111111, \"#46039f\"], [0.2222222222222222, \"#7201a8\"], [0.3333333333333333, \"#9c179e\"], [0.4444444444444444, \"#bd3786\"], [0.5555555555555556, \"#d8576b\"], [0.6666666666666666, \"#ed7953\"], [0.7777777777777778, \"#fb9f3a\"], [0.8888888888888888, \"#fdca26\"], [1.0, \"#f0f921\"]], \"type\": \"heatmapgl\"}], \"histogram\": [{\"marker\": {\"colorbar\": {\"outlinewidth\": 0, \"ticks\": \"\"}}, \"type\": \"histogram\"}], \"histogram2d\": [{\"colorbar\": {\"outlinewidth\": 0, \"ticks\": \"\"}, \"colorscale\": [[0.0, \"#0d0887\"], [0.1111111111111111, \"#46039f\"], [0.2222222222222222, \"#7201a8\"], [0.3333333333333333, \"#9c179e\"], [0.4444444444444444, \"#bd3786\"], [0.5555555555555556, \"#d8576b\"], [0.6666666666666666, \"#ed7953\"], [0.7777777777777778, \"#fb9f3a\"], [0.8888888888888888, \"#fdca26\"], [1.0, \"#f0f921\"]], \"type\": \"histogram2d\"}], \"histogram2dcontour\": [{\"colorbar\": {\"outlinewidth\": 0, \"ticks\": \"\"}, \"colorscale\": [[0.0, \"#0d0887\"], [0.1111111111111111, \"#46039f\"], [0.2222222222222222, \"#7201a8\"], [0.3333333333333333, \"#9c179e\"], [0.4444444444444444, \"#bd3786\"], [0.5555555555555556, \"#d8576b\"], [0.6666666666666666, \"#ed7953\"], [0.7777777777777778, \"#fb9f3a\"], [0.8888888888888888, \"#fdca26\"], [1.0, \"#f0f921\"]], \"type\": \"histogram2dcontour\"}], \"mesh3d\": [{\"colorbar\": {\"outlinewidth\": 0, \"ticks\": \"\"}, \"type\": \"mesh3d\"}], \"parcoords\": [{\"line\": {\"colorbar\": {\"outlinewidth\": 0, \"ticks\": \"\"}}, \"type\": \"parcoords\"}], \"pie\": [{\"automargin\": true, \"type\": \"pie\"}], \"scatter\": [{\"marker\": {\"colorbar\": {\"outlinewidth\": 0, \"ticks\": \"\"}}, \"type\": \"scatter\"}], \"scatter3d\": [{\"line\": {\"colorbar\": {\"outlinewidth\": 0, \"ticks\": \"\"}}, \"marker\": {\"colorbar\": {\"outlinewidth\": 0, \"ticks\": \"\"}}, \"type\": \"scatter3d\"}], \"scattercarpet\": [{\"marker\": {\"colorbar\": {\"outlinewidth\": 0, \"ticks\": \"\"}}, \"type\": \"scattercarpet\"}], \"scattergeo\": [{\"marker\": {\"colorbar\": {\"outlinewidth\": 0, \"ticks\": \"\"}}, \"type\": \"scattergeo\"}], \"scattergl\": [{\"marker\": {\"colorbar\": {\"outlinewidth\": 0, \"ticks\": \"\"}}, \"type\": \"scattergl\"}], \"scattermapbox\": [{\"marker\": {\"colorbar\": {\"outlinewidth\": 0, \"ticks\": \"\"}}, \"type\": \"scattermapbox\"}], \"scatterpolar\": [{\"marker\": {\"colorbar\": {\"outlinewidth\": 0, \"ticks\": \"\"}}, \"type\": \"scatterpolar\"}], \"scatterpolargl\": [{\"marker\": {\"colorbar\": {\"outlinewidth\": 0, \"ticks\": \"\"}}, \"type\": \"scatterpolargl\"}], \"scatterternary\": [{\"marker\": {\"colorbar\": {\"outlinewidth\": 0, \"ticks\": \"\"}}, \"type\": \"scatterternary\"}], \"surface\": [{\"colorbar\": {\"outlinewidth\": 0, \"ticks\": \"\"}, \"colorscale\": [[0.0, \"#0d0887\"], [0.1111111111111111, \"#46039f\"], [0.2222222222222222, \"#7201a8\"], [0.3333333333333333, \"#9c179e\"], [0.4444444444444444, \"#bd3786\"], [0.5555555555555556, \"#d8576b\"], [0.6666666666666666, \"#ed7953\"], [0.7777777777777778, \"#fb9f3a\"], [0.8888888888888888, \"#fdca26\"], [1.0, \"#f0f921\"]], \"type\": \"surface\"}], \"table\": [{\"cells\": {\"fill\": {\"color\": \"#EBF0F8\"}, \"line\": {\"color\": \"white\"}}, \"header\": {\"fill\": {\"color\": \"#C8D4E3\"}, \"line\": {\"color\": \"white\"}}, \"type\": \"table\"}]}, \"layout\": {\"annotationdefaults\": {\"arrowcolor\": \"#2a3f5f\", \"arrowhead\": 0, \"arrowwidth\": 1}, \"autotypenumbers\": \"strict\", \"coloraxis\": {\"colorbar\": {\"outlinewidth\": 0, \"ticks\": \"\"}}, \"colorscale\": {\"diverging\": [[0, \"#8e0152\"], [0.1, \"#c51b7d\"], [0.2, \"#de77ae\"], [0.3, \"#f1b6da\"], [0.4, \"#fde0ef\"], [0.5, \"#f7f7f7\"], [0.6, \"#e6f5d0\"], [0.7, \"#b8e186\"], [0.8, \"#7fbc41\"], [0.9, \"#4d9221\"], [1, \"#276419\"]], \"sequential\": [[0.0, \"#0d0887\"], [0.1111111111111111, \"#46039f\"], [0.2222222222222222, \"#7201a8\"], [0.3333333333333333, \"#9c179e\"], [0.4444444444444444, \"#bd3786\"], [0.5555555555555556, \"#d8576b\"], [0.6666666666666666, \"#ed7953\"], [0.7777777777777778, \"#fb9f3a\"], [0.8888888888888888, \"#fdca26\"], [1.0, \"#f0f921\"]], \"sequentialminus\": [[0.0, \"#0d0887\"], [0.1111111111111111, \"#46039f\"], [0.2222222222222222, \"#7201a8\"], [0.3333333333333333, \"#9c179e\"], [0.4444444444444444, \"#bd3786\"], [0.5555555555555556, \"#d8576b\"], [0.6666666666666666, \"#ed7953\"], [0.7777777777777778, \"#fb9f3a\"], [0.8888888888888888, \"#fdca26\"], [1.0, \"#f0f921\"]]}, \"colorway\": [\"#636efa\", \"#EF553B\", \"#00cc96\", \"#ab63fa\", \"#FFA15A\", \"#19d3f3\", \"#FF6692\", \"#B6E880\", \"#FF97FF\", \"#FECB52\"], \"font\": {\"color\": \"#2a3f5f\"}, \"geo\": {\"bgcolor\": \"white\", \"lakecolor\": \"white\", \"landcolor\": \"#E5ECF6\", \"showlakes\": true, \"showland\": true, \"subunitcolor\": \"white\"}, \"hoverlabel\": {\"align\": \"left\"}, \"hovermode\": \"closest\", \"mapbox\": {\"style\": \"light\"}, \"paper_bgcolor\": \"white\", \"plot_bgcolor\": \"#E5ECF6\", \"polar\": {\"angularaxis\": {\"gridcolor\": \"white\", \"linecolor\": \"white\", \"ticks\": \"\"}, \"bgcolor\": \"#E5ECF6\", \"radialaxis\": {\"gridcolor\": \"white\", \"linecolor\": \"white\", \"ticks\": \"\"}}, \"scene\": {\"xaxis\": {\"backgroundcolor\": \"#E5ECF6\", \"gridcolor\": \"white\", \"gridwidth\": 2, \"linecolor\": \"white\", \"showbackground\": true, \"ticks\": \"\", \"zerolinecolor\": \"white\"}, \"yaxis\": {\"backgroundcolor\": \"#E5ECF6\", \"gridcolor\": \"white\", \"gridwidth\": 2, \"linecolor\": \"white\", \"showbackground\": true, \"ticks\": \"\", \"zerolinecolor\": \"white\"}, \"zaxis\": {\"backgroundcolor\": \"#E5ECF6\", \"gridcolor\": \"white\", \"gridwidth\": 2, \"linecolor\": \"white\", \"showbackground\": true, \"ticks\": \"\", \"zerolinecolor\": \"white\"}}, \"shapedefaults\": {\"line\": {\"color\": \"#2a3f5f\"}}, \"ternary\": {\"aaxis\": {\"gridcolor\": \"white\", \"linecolor\": \"white\", \"ticks\": \"\"}, \"baxis\": {\"gridcolor\": \"white\", \"linecolor\": \"white\", \"ticks\": \"\"}, \"bgcolor\": \"#E5ECF6\", \"caxis\": {\"gridcolor\": \"white\", \"linecolor\": \"white\", \"ticks\": \"\"}}, \"title\": {\"x\": 0.05}, \"xaxis\": {\"automargin\": true, \"gridcolor\": \"white\", \"linecolor\": \"white\", \"ticks\": \"\", \"title\": {\"standoff\": 15}, \"zerolinecolor\": \"white\", \"zerolinewidth\": 2}, \"yaxis\": {\"automargin\": true, \"gridcolor\": \"white\", \"linecolor\": \"white\", \"ticks\": \"\", \"title\": {\"standoff\": 15}, \"zerolinecolor\": \"white\", \"zerolinewidth\": 2}}}, \"title\": {\"text\": \"Distribution of burnout tweets\"}, \"xaxis\": {\"ticklen\": 5, \"title\": {\"text\": \"World Rank\"}, \"zeroline\": false}},                        {\"responsive\": true}                    ).then(function(){\n",
       "                            \n",
       "var gd = document.getElementById('7aea6a14-42ad-4958-9b14-e80ea1340828');\n",
       "var x = new MutationObserver(function (mutations, observer) {{\n",
       "        var display = window.getComputedStyle(gd).display;\n",
       "        if (!display || display === 'none') {{\n",
       "            console.log([gd, 'removed!']);\n",
       "            Plotly.purge(gd);\n",
       "            observer.disconnect();\n",
       "        }}\n",
       "}});\n",
       "\n",
       "// Listen for the removal of the full notebook cells\n",
       "var notebookContainer = gd.closest('#notebook-container');\n",
       "if (notebookContainer) {{\n",
       "    x.observe(notebookContainer, {childList: true});\n",
       "}}\n",
       "\n",
       "// Listen for the clearing of the current output cell\n",
       "var outputEl = gd.closest('.output');\n",
       "if (outputEl) {{\n",
       "    x.observe(outputEl, {childList: true});\n",
       "}}\n",
       "\n",
       "                        })                };                });            </script>        </div>"
      ]
     },
     "metadata": {},
     "output_type": "display_data"
    }
   ],
   "source": [
    "labels = list(df['burnout_indicators'].value_counts().index)[1:]\n",
    "values = list(df['burnout_indicators'].value_counts().values)[1:]\n",
    "colors = ['lightblue','gray','#eee','#999', '#9f9f']\n",
    "trace = go.Pie(labels=labels, values=values, hoverinfo='label+percent', \n",
    "               textinfo='value', name='tweet counts of different burnout indicators',\n",
    "               marker=dict(colors=colors))\n",
    "layout = dict(title = 'Distribution of burnout tweets',\n",
    "              xaxis= dict(title= 'World Rank',ticklen= 5,zeroline= False)\n",
    "             )\n",
    "fig = dict(data = [trace], layout = layout)\n",
    "iplot(fig)"
   ]
  },
  {
   "cell_type": "markdown",
   "metadata": {
    "papermill": {
     "duration": 0.051087,
     "end_time": "2021-01-21T18:42:29.589240",
     "exception": false,
     "start_time": "2021-01-21T18:42:29.538153",
     "status": "completed"
    },
    "tags": []
   },
   "source": [
    "## Topic Modeling using LDA"
   ]
  },
  {
   "cell_type": "code",
   "execution_count": 12,
   "metadata": {
    "execution": {
     "iopub.execute_input": "2021-01-21T18:42:29.700148Z",
     "iopub.status.busy": "2021-01-21T18:42:29.699477Z",
     "iopub.status.idle": "2021-01-21T18:42:29.702160Z",
     "shell.execute_reply": "2021-01-21T18:42:29.701530Z"
    },
    "papermill": {
     "duration": 0.061742,
     "end_time": "2021-01-21T18:42:29.702431",
     "exception": false,
     "start_time": "2021-01-21T18:42:29.640689",
     "status": "completed"
    },
    "tags": []
   },
   "outputs": [],
   "source": [
    "# stopwords = open(path+\"country-names-codes/stopwords.txt\").read().strip().split(\"\\n\")\n",
    "# stopwords = [x.replace(\"\\r\",\"\") for x in stopwords]\n",
    "from collections import Counter \n",
    "\n",
    "def clean_text(txt):    \n",
    "    txt = txt.lower()\n",
    "    txt = \"\".join(x for x in txt if x not in punc)\n",
    "    words = txt.split()\n",
    "    words = [wrd for wrd in words if wrd not in STOPWORDS]\n",
    "    words = [wrd for wrd in words if len(wrd) > 1]\n",
    "    txt = \" \".join(words)\n",
    "    return txt"
   ]
  },
  {
   "cell_type": "code",
   "execution_count": 13,
   "metadata": {
    "execution": {
     "iopub.execute_input": "2021-01-21T18:42:29.815082Z",
     "iopub.status.busy": "2021-01-21T18:42:29.814403Z",
     "iopub.status.idle": "2021-01-21T18:42:29.818190Z",
     "shell.execute_reply": "2021-01-21T18:42:29.817668Z"
    },
    "papermill": {
     "duration": 0.064872,
     "end_time": "2021-01-21T18:42:29.818310",
     "exception": false,
     "start_time": "2021-01-21T18:42:29.753438",
     "status": "completed"
    },
    "tags": []
   },
   "outputs": [],
   "source": [
    "from sklearn.decomposition import LatentDirichletAllocation\n",
    "from sklearn.feature_extraction.text import CountVectorizer\n",
    "import numpy as np \n",
    "\n",
    "def generate_topic_models(category):\n",
    "    small_df = df[df.burnout_indicators==category]\n",
    "    small_df['clean_text'] = small_df['Tweet Text'].apply(clean_text)\n",
    "\n",
    "    cvectorizer = CountVectorizer(min_df=4, max_features=4000, ngram_range=(1,2))\n",
    "    cvz = cvectorizer.fit_transform(small_df['clean_text'])\n",
    "\n",
    "    lda_model = LatentDirichletAllocation(n_components=10, learning_method='online', max_iter=20, random_state=42)\n",
    "    X_topics = lda_model.fit_transform(cvz)\n",
    "\n",
    "    topic_word = lda_model.components_ \n",
    "    vocab = cvectorizer.get_feature_names()\n",
    "    return topic_word, vocab "
   ]
  },
  {
   "cell_type": "markdown",
   "metadata": {
    "papermill": {
     "duration": 0.052668,
     "end_time": "2021-01-21T18:42:29.922193",
     "exception": false,
     "start_time": "2021-01-21T18:42:29.869525",
     "status": "completed"
    },
    "tags": []
   },
   "source": [
    "### Sorry - Topic Models"
   ]
  },
  {
   "cell_type": "code",
   "execution_count": 14,
   "metadata": {
    "execution": {
     "iopub.execute_input": "2021-01-21T18:42:30.040946Z",
     "iopub.status.busy": "2021-01-21T18:42:30.040182Z",
     "iopub.status.idle": "2021-01-21T18:42:30.201984Z",
     "shell.execute_reply": "2021-01-21T18:42:30.209091Z"
    },
    "papermill": {
     "duration": 0.235272,
     "end_time": "2021-01-21T18:42:30.209269",
     "exception": false,
     "start_time": "2021-01-21T18:42:29.973997",
     "status": "completed"
    },
    "tags": []
   },
   "outputs": [
    {
     "name": "stdout",
     "output_type": "stream",
     "text": [
      "Topic 1: im | sorry | im sorry | rn | sorry loss | loss\n",
      "\n",
      "Topic 2: sorry loss | loss | sorry | im | im sorry | rn\n",
      "\n",
      "Topic 3: im | sorry | rn | im sorry | sorry loss | loss\n",
      "\n",
      "Topic 4: loss | sorry loss | im | im sorry | rn | sorry\n",
      "\n",
      "Topic 5: sorry loss | loss | sorry | im | im sorry | rn\n",
      "\n",
      "Topic 6: sorry | rn | im | im sorry | sorry loss | loss\n",
      "\n",
      "Topic 7: sorry | rn | sorry loss | im sorry | loss | im\n",
      "\n",
      "Topic 8: rn | sorry | im | im sorry | loss | sorry loss\n",
      "\n",
      "Topic 9: im | sorry | im sorry | rn | sorry loss | loss\n",
      "\n",
      "Topic 10: sorry | im | im sorry | rn | sorry loss | loss\n",
      "\n"
     ]
    },
    {
     "name": "stderr",
     "output_type": "stream",
     "text": [
      "/opt/conda/lib/python3.7/site-packages/ipykernel_launcher.py:7: SettingWithCopyWarning:\n",
      "\n",
      "\n",
      "A value is trying to be set on a copy of a slice from a DataFrame.\n",
      "Try using .loc[row_indexer,col_indexer] = value instead\n",
      "\n",
      "See the caveats in the documentation: https://pandas.pydata.org/pandas-docs/stable/user_guide/indexing.html#returning-a-view-versus-a-copy\n",
      "\n"
     ]
    }
   ],
   "source": [
    "n_top_words = 10\n",
    "topic_word, vocab = generate_topic_models(\"sorry\")\n",
    "for i, topic_dist in enumerate(topic_word):\n",
    "    topic_words = np.array(vocab)[np.argsort(topic_dist)][:-(n_top_words+1):-1]\n",
    "    print (\"Topic \" + str(i+1) + \": \" + \" | \".join(topic_words) + \"\\n\")"
   ]
  },
  {
   "cell_type": "markdown",
   "metadata": {
    "papermill": {
     "duration": 0.051665,
     "end_time": "2021-01-21T18:42:30.313400",
     "exception": false,
     "start_time": "2021-01-21T18:42:30.261735",
     "status": "completed"
    },
    "tags": []
   },
   "source": [
    "### Hard - Topic Models"
   ]
  },
  {
   "cell_type": "code",
   "execution_count": 15,
   "metadata": {
    "execution": {
     "iopub.execute_input": "2021-01-21T18:42:30.431432Z",
     "iopub.status.busy": "2021-01-21T18:42:30.430713Z",
     "iopub.status.idle": "2021-01-21T18:42:30.566201Z",
     "shell.execute_reply": "2021-01-21T18:42:30.567365Z"
    },
    "papermill": {
     "duration": 0.202286,
     "end_time": "2021-01-21T18:42:30.567524",
     "exception": false,
     "start_time": "2021-01-21T18:42:30.365238",
     "status": "completed"
    },
    "tags": []
   },
   "outputs": [
    {
     "name": "stdout",
     "output_type": "stream",
     "text": [
      "Topic 1: rn | hard | hard rn | im | trying | know | time\n",
      "\n",
      "Topic 2: hard | time | rn | hard rn | trying | know | im\n",
      "\n",
      "Topic 3: rn | trying | hard rn | know | hard | im | time\n",
      "\n",
      "Topic 4: know | rn | time | hard | im | trying | hard rn\n",
      "\n",
      "Topic 5: hard rn | trying | time | im | know | hard | rn\n",
      "\n",
      "Topic 6: hard | rn | im | trying | hard rn | time | know\n",
      "\n",
      "Topic 7: hard | time | know | rn | im | trying | hard rn\n",
      "\n",
      "Topic 8: know | hard | trying | rn | time | im | hard rn\n",
      "\n",
      "Topic 9: im | know | trying | hard rn | time | hard | rn\n",
      "\n",
      "Topic 10: hard | rn | im | hard rn | trying | time | know\n",
      "\n"
     ]
    },
    {
     "name": "stderr",
     "output_type": "stream",
     "text": [
      "/opt/conda/lib/python3.7/site-packages/ipykernel_launcher.py:7: SettingWithCopyWarning:\n",
      "\n",
      "\n",
      "A value is trying to be set on a copy of a slice from a DataFrame.\n",
      "Try using .loc[row_indexer,col_indexer] = value instead\n",
      "\n",
      "See the caveats in the documentation: https://pandas.pydata.org/pandas-docs/stable/user_guide/indexing.html#returning-a-view-versus-a-copy\n",
      "\n"
     ]
    }
   ],
   "source": [
    "n_top_words = 10\n",
    "topic_word, vocab = generate_topic_models(\"hard\")\n",
    "for i, topic_dist in enumerate(topic_word):\n",
    "    topic_words = np.array(vocab)[np.argsort(topic_dist)][:-(n_top_words+1):-1]\n",
    "    print (\"Topic \" + str(i+1) + \": \" + \" | \".join(topic_words) + \"\\n\")"
   ]
  },
  {
   "cell_type": "markdown",
   "metadata": {
    "papermill": {
     "duration": 0.053972,
     "end_time": "2021-01-21T18:42:30.674547",
     "exception": false,
     "start_time": "2021-01-21T18:42:30.620575",
     "status": "completed"
    },
    "tags": []
   },
   "source": [
    "### Cry - Topic Models"
   ]
  },
  {
   "cell_type": "code",
   "execution_count": 16,
   "metadata": {
    "execution": {
     "iopub.execute_input": "2021-01-21T18:42:30.793248Z",
     "iopub.status.busy": "2021-01-21T18:42:30.792557Z",
     "iopub.status.idle": "2021-01-21T18:42:30.905127Z",
     "shell.execute_reply": "2021-01-21T18:42:30.903685Z"
    },
    "papermill": {
     "duration": 0.177781,
     "end_time": "2021-01-21T18:42:30.905343",
     "exception": false,
     "start_time": "2021-01-21T18:42:30.727562",
     "status": "completed"
    },
    "tags": []
   },
   "outputs": [
    {
     "name": "stdout",
     "output_type": "stream",
     "text": [
      "Topic 1: crypto | im | cant | cry | crying | crying rn | rn\n",
      "\n",
      "Topic 2: im | cant | crying | crypto | cry | rn | crying rn\n",
      "\n",
      "Topic 3: rn | crying | cry | crypto | crying rn | cant | im\n",
      "\n",
      "Topic 4: crying | im | crying rn | crypto | rn | cant | cry\n",
      "\n",
      "Topic 5: cry | rn | cant | crying | im | crying rn | crypto\n",
      "\n",
      "Topic 6: rn | cant | im | crypto | crying | crying rn | cry\n",
      "\n",
      "Topic 7: crying rn | crying | rn | im | cant | crypto | cry\n",
      "\n",
      "Topic 8: rn | crying rn | crying | cant | im | crypto | cry\n",
      "\n",
      "Topic 9: crying | rn | im | crying rn | cant | cry | crypto\n",
      "\n",
      "Topic 10: rn | crypto | cant | crying | cry | im | crying rn\n",
      "\n"
     ]
    },
    {
     "name": "stderr",
     "output_type": "stream",
     "text": [
      "/opt/conda/lib/python3.7/site-packages/ipykernel_launcher.py:7: SettingWithCopyWarning:\n",
      "\n",
      "\n",
      "A value is trying to be set on a copy of a slice from a DataFrame.\n",
      "Try using .loc[row_indexer,col_indexer] = value instead\n",
      "\n",
      "See the caveats in the documentation: https://pandas.pydata.org/pandas-docs/stable/user_guide/indexing.html#returning-a-view-versus-a-copy\n",
      "\n"
     ]
    }
   ],
   "source": [
    "n_top_words = 10\n",
    "topic_word, vocab = generate_topic_models(\"cry\")\n",
    "for i, topic_dist in enumerate(topic_word):\n",
    "    topic_words = np.array(vocab)[np.argsort(topic_dist)][:-(n_top_words+1):-1]\n",
    "    print (\"Topic \" + str(i+1) + \": \" + \" | \".join(topic_words) + \"\\n\")"
   ]
  },
  {
   "cell_type": "markdown",
   "metadata": {
    "papermill": {
     "duration": 0.053871,
     "end_time": "2021-01-21T18:42:31.014714",
     "exception": false,
     "start_time": "2021-01-21T18:42:30.960843",
     "status": "completed"
    },
    "tags": []
   },
   "source": [
    "## Bad - Topic Models"
   ]
  },
  {
   "cell_type": "code",
   "execution_count": 17,
   "metadata": {
    "execution": {
     "iopub.execute_input": "2021-01-21T18:42:31.136653Z",
     "iopub.status.busy": "2021-01-21T18:42:31.135970Z",
     "iopub.status.idle": "2021-01-21T18:42:31.248293Z",
     "shell.execute_reply": "2021-01-21T18:42:31.247279Z"
    },
    "papermill": {
     "duration": 0.179389,
     "end_time": "2021-01-21T18:42:31.248488",
     "exception": false,
     "start_time": "2021-01-21T18:42:31.069099",
     "status": "completed"
    },
    "tags": []
   },
   "outputs": [
    {
     "name": "stdout",
     "output_type": "stream",
     "text": [
      "Topic 1: bad | im | bad rn | rn\n",
      "\n",
      "Topic 2: bad | rn | bad rn | im\n",
      "\n",
      "Topic 3: rn | bad | im | bad rn\n",
      "\n",
      "Topic 4: bad | rn | bad rn | im\n",
      "\n",
      "Topic 5: im | bad rn | bad | rn\n",
      "\n",
      "Topic 6: bad | rn | bad rn | im\n",
      "\n",
      "Topic 7: im | bad | rn | bad rn\n",
      "\n",
      "Topic 8: bad rn | im | rn | bad\n",
      "\n",
      "Topic 9: rn | bad rn | im | bad\n",
      "\n",
      "Topic 10: rn | bad rn | bad | im\n",
      "\n"
     ]
    },
    {
     "name": "stderr",
     "output_type": "stream",
     "text": [
      "/opt/conda/lib/python3.7/site-packages/ipykernel_launcher.py:7: SettingWithCopyWarning:\n",
      "\n",
      "\n",
      "A value is trying to be set on a copy of a slice from a DataFrame.\n",
      "Try using .loc[row_indexer,col_indexer] = value instead\n",
      "\n",
      "See the caveats in the documentation: https://pandas.pydata.org/pandas-docs/stable/user_guide/indexing.html#returning-a-view-versus-a-copy\n",
      "\n"
     ]
    }
   ],
   "source": [
    "n_top_words = 10\n",
    "topic_word, vocab = generate_topic_models(\"bad\")\n",
    "for i, topic_dist in enumerate(topic_word):\n",
    "    topic_words = np.array(vocab)[np.argsort(topic_dist)][:-(n_top_words+1):-1]\n",
    "    print (\"Topic \" + str(i+1) + \": \" + \" | \".join(topic_words) + \"\\n\")"
   ]
  },
  {
   "cell_type": "markdown",
   "metadata": {
    "papermill": {
     "duration": 0.054171,
     "end_time": "2021-01-21T18:42:31.358386",
     "exception": false,
     "start_time": "2021-01-21T18:42:31.304215",
     "status": "completed"
    },
    "tags": []
   },
   "source": [
    "Thank you: https://www.kaggle.com/abhishek/approaching-almost-any-nlp-problem-on-kaggle"
   ]
  },
  {
   "cell_type": "code",
   "execution_count": 18,
   "metadata": {
    "execution": {
     "iopub.execute_input": "2021-01-21T18:42:31.478929Z",
     "iopub.status.busy": "2021-01-21T18:42:31.478231Z",
     "iopub.status.idle": "2021-01-21T18:42:31.525088Z",
     "shell.execute_reply": "2021-01-21T18:42:31.525948Z"
    },
    "papermill": {
     "duration": 0.113005,
     "end_time": "2021-01-21T18:42:31.526155",
     "exception": false,
     "start_time": "2021-01-21T18:42:31.413150",
     "status": "completed"
    },
    "tags": []
   },
   "outputs": [
    {
     "data": {
      "text/html": [
       "<div>\n",
       "<style scoped>\n",
       "    .dataframe tbody tr th:only-of-type {\n",
       "        vertical-align: middle;\n",
       "    }\n",
       "\n",
       "    .dataframe tbody tr th {\n",
       "        vertical-align: top;\n",
       "    }\n",
       "\n",
       "    .dataframe thead th {\n",
       "        text-align: right;\n",
       "    }\n",
       "</style>\n",
       "<table border=\"1\" class=\"dataframe\">\n",
       "  <thead>\n",
       "    <tr style=\"text-align: right;\">\n",
       "      <th></th>\n",
       "      <th>Unnamed: 0</th>\n",
       "      <th>Unnamed: 0.1</th>\n",
       "      <th>Tweet Date</th>\n",
       "      <th>Tweet ID</th>\n",
       "      <th>Tweet Text</th>\n",
       "      <th>tweet_source</th>\n",
       "      <th>tweet_retweet_count</th>\n",
       "      <th>tweet_favorite_count</th>\n",
       "      <th>word_count</th>\n",
       "      <th>char_count</th>\n",
       "      <th>...</th>\n",
       "      <th>month</th>\n",
       "      <th>day</th>\n",
       "      <th>unique_word_count</th>\n",
       "      <th>stop_word_count</th>\n",
       "      <th>url_count</th>\n",
       "      <th>mean_word_length</th>\n",
       "      <th>hashtag_count</th>\n",
       "      <th>mention_count</th>\n",
       "      <th>burnout</th>\n",
       "      <th>burnout_indicators</th>\n",
       "    </tr>\n",
       "  </thead>\n",
       "  <tbody>\n",
       "    <tr>\n",
       "      <th>0</th>\n",
       "      <td>0</td>\n",
       "      <td>0</td>\n",
       "      <td>2021-01-19</td>\n",
       "      <td>1351590096752017416</td>\n",
       "      <td>I'm a big music person. It speaks to me in all...</td>\n",
       "      <td>Twitter for Android</td>\n",
       "      <td>0</td>\n",
       "      <td>6</td>\n",
       "      <td>27</td>\n",
       "      <td>142</td>\n",
       "      <td>...</td>\n",
       "      <td>1</td>\n",
       "      <td>19</td>\n",
       "      <td>25</td>\n",
       "      <td>15</td>\n",
       "      <td>1</td>\n",
       "      <td>4.296296</td>\n",
       "      <td>0</td>\n",
       "      <td>0</td>\n",
       "      <td>1</td>\n",
       "      <td>mad</td>\n",
       "    </tr>\n",
       "    <tr>\n",
       "      <th>1</th>\n",
       "      <td>1</td>\n",
       "      <td>1</td>\n",
       "      <td>2021-01-19</td>\n",
       "      <td>1351555038863368193</td>\n",
       "      <td>@JohnWHarris15 I adore you and your unlimited ...</td>\n",
       "      <td>Twitter for Android</td>\n",
       "      <td>0</td>\n",
       "      <td>1</td>\n",
       "      <td>9</td>\n",
       "      <td>59</td>\n",
       "      <td>...</td>\n",
       "      <td>1</td>\n",
       "      <td>19</td>\n",
       "      <td>9</td>\n",
       "      <td>4</td>\n",
       "      <td>0</td>\n",
       "      <td>5.555556</td>\n",
       "      <td>0</td>\n",
       "      <td>1</td>\n",
       "      <td>1</td>\n",
       "      <td></td>\n",
       "    </tr>\n",
       "    <tr>\n",
       "      <th>2</th>\n",
       "      <td>2</td>\n",
       "      <td>2</td>\n",
       "      <td>2021-01-19</td>\n",
       "      <td>1351554892926750720</td>\n",
       "      <td>@bubblydncer I have replied to countless texts...</td>\n",
       "      <td>Twitter for Android</td>\n",
       "      <td>0</td>\n",
       "      <td>1</td>\n",
       "      <td>22</td>\n",
       "      <td>142</td>\n",
       "      <td>...</td>\n",
       "      <td>1</td>\n",
       "      <td>19</td>\n",
       "      <td>20</td>\n",
       "      <td>10</td>\n",
       "      <td>1</td>\n",
       "      <td>5.500000</td>\n",
       "      <td>0</td>\n",
       "      <td>1</td>\n",
       "      <td>1</td>\n",
       "      <td></td>\n",
       "    </tr>\n",
       "    <tr>\n",
       "      <th>3</th>\n",
       "      <td>3</td>\n",
       "      <td>3</td>\n",
       "      <td>2021-01-19</td>\n",
       "      <td>1351554395234824192</td>\n",
       "      <td>@MelBeer93 Ahhh I love this!</td>\n",
       "      <td>Twitter for Android</td>\n",
       "      <td>0</td>\n",
       "      <td>0</td>\n",
       "      <td>5</td>\n",
       "      <td>29</td>\n",
       "      <td>...</td>\n",
       "      <td>1</td>\n",
       "      <td>19</td>\n",
       "      <td>5</td>\n",
       "      <td>1</td>\n",
       "      <td>0</td>\n",
       "      <td>4.800000</td>\n",
       "      <td>0</td>\n",
       "      <td>1</td>\n",
       "      <td>0</td>\n",
       "      <td></td>\n",
       "    </tr>\n",
       "    <tr>\n",
       "      <th>4</th>\n",
       "      <td>4</td>\n",
       "      <td>4</td>\n",
       "      <td>2021-01-19</td>\n",
       "      <td>1351554266247426050</td>\n",
       "      <td>@TheKimClub https://t.co/UUx3417HcD</td>\n",
       "      <td>Twitter for Android</td>\n",
       "      <td>0</td>\n",
       "      <td>1</td>\n",
       "      <td>2</td>\n",
       "      <td>35</td>\n",
       "      <td>...</td>\n",
       "      <td>1</td>\n",
       "      <td>19</td>\n",
       "      <td>2</td>\n",
       "      <td>0</td>\n",
       "      <td>1</td>\n",
       "      <td>17.000000</td>\n",
       "      <td>0</td>\n",
       "      <td>1</td>\n",
       "      <td>1</td>\n",
       "      <td></td>\n",
       "    </tr>\n",
       "    <tr>\n",
       "      <th>...</th>\n",
       "      <td>...</td>\n",
       "      <td>...</td>\n",
       "      <td>...</td>\n",
       "      <td>...</td>\n",
       "      <td>...</td>\n",
       "      <td>...</td>\n",
       "      <td>...</td>\n",
       "      <td>...</td>\n",
       "      <td>...</td>\n",
       "      <td>...</td>\n",
       "      <td>...</td>\n",
       "      <td>...</td>\n",
       "      <td>...</td>\n",
       "      <td>...</td>\n",
       "      <td>...</td>\n",
       "      <td>...</td>\n",
       "      <td>...</td>\n",
       "      <td>...</td>\n",
       "      <td>...</td>\n",
       "      <td>...</td>\n",
       "      <td>...</td>\n",
       "    </tr>\n",
       "    <tr>\n",
       "      <th>1874</th>\n",
       "      <td>1874</td>\n",
       "      <td>2026</td>\n",
       "      <td>2021-01-11</td>\n",
       "      <td>1348687433978798080</td>\n",
       "      <td>in my lecture rn talking about covid</td>\n",
       "      <td>Twitter for iPhone</td>\n",
       "      <td>0</td>\n",
       "      <td>0</td>\n",
       "      <td>7</td>\n",
       "      <td>37</td>\n",
       "      <td>...</td>\n",
       "      <td>1</td>\n",
       "      <td>11</td>\n",
       "      <td>7</td>\n",
       "      <td>3</td>\n",
       "      <td>0</td>\n",
       "      <td>4.285714</td>\n",
       "      <td>0</td>\n",
       "      <td>0</td>\n",
       "      <td>1</td>\n",
       "      <td></td>\n",
       "    </tr>\n",
       "    <tr>\n",
       "      <th>1875</th>\n",
       "      <td>1875</td>\n",
       "      <td>2027</td>\n",
       "      <td>2021-01-11</td>\n",
       "      <td>1348687432938647552</td>\n",
       "      <td>@buzzycalz @skinnyqweeen @hearteyezshawty im i...</td>\n",
       "      <td>Twitter for iPhone</td>\n",
       "      <td>0</td>\n",
       "      <td>2</td>\n",
       "      <td>27</td>\n",
       "      <td>174</td>\n",
       "      <td>...</td>\n",
       "      <td>1</td>\n",
       "      <td>11</td>\n",
       "      <td>26</td>\n",
       "      <td>11</td>\n",
       "      <td>0</td>\n",
       "      <td>5.444444</td>\n",
       "      <td>0</td>\n",
       "      <td>3</td>\n",
       "      <td>1</td>\n",
       "      <td></td>\n",
       "    </tr>\n",
       "    <tr>\n",
       "      <th>1876</th>\n",
       "      <td>1876</td>\n",
       "      <td>2028</td>\n",
       "      <td>2021-01-11</td>\n",
       "      <td>1348687432913473536</td>\n",
       "      <td>@Death13__ Also this is just streams, videos a...</td>\n",
       "      <td>Twitter for Android</td>\n",
       "      <td>0</td>\n",
       "      <td>1</td>\n",
       "      <td>16</td>\n",
       "      <td>84</td>\n",
       "      <td>...</td>\n",
       "      <td>1</td>\n",
       "      <td>11</td>\n",
       "      <td>16</td>\n",
       "      <td>8</td>\n",
       "      <td>0</td>\n",
       "      <td>4.312500</td>\n",
       "      <td>0</td>\n",
       "      <td>1</td>\n",
       "      <td>1</td>\n",
       "      <td></td>\n",
       "    </tr>\n",
       "    <tr>\n",
       "      <th>1877</th>\n",
       "      <td>1877</td>\n",
       "      <td>2029</td>\n",
       "      <td>2021-01-11</td>\n",
       "      <td>1348687432904892416</td>\n",
       "      <td>@Lyssss69 Honestly I just saw these on tiktok ...</td>\n",
       "      <td>Twitter for iPhone</td>\n",
       "      <td>0</td>\n",
       "      <td>1</td>\n",
       "      <td>15</td>\n",
       "      <td>74</td>\n",
       "      <td>...</td>\n",
       "      <td>1</td>\n",
       "      <td>11</td>\n",
       "      <td>14</td>\n",
       "      <td>8</td>\n",
       "      <td>0</td>\n",
       "      <td>4.000000</td>\n",
       "      <td>0</td>\n",
       "      <td>1</td>\n",
       "      <td>0</td>\n",
       "      <td></td>\n",
       "    </tr>\n",
       "    <tr>\n",
       "      <th>1878</th>\n",
       "      <td>1878</td>\n",
       "      <td>2030</td>\n",
       "      <td>2021-01-11</td>\n",
       "      <td>1348687428589035522</td>\n",
       "      <td>@ariellelynn__ Seriously my favorite rn</td>\n",
       "      <td>Twitter for iPhone</td>\n",
       "      <td>0</td>\n",
       "      <td>0</td>\n",
       "      <td>5</td>\n",
       "      <td>39</td>\n",
       "      <td>...</td>\n",
       "      <td>1</td>\n",
       "      <td>11</td>\n",
       "      <td>5</td>\n",
       "      <td>1</td>\n",
       "      <td>0</td>\n",
       "      <td>7.000000</td>\n",
       "      <td>0</td>\n",
       "      <td>1</td>\n",
       "      <td>0</td>\n",
       "      <td></td>\n",
       "    </tr>\n",
       "  </tbody>\n",
       "</table>\n",
       "<p>1879 rows × 24 columns</p>\n",
       "</div>"
      ],
      "text/plain": [
       "      Unnamed: 0  Unnamed: 0.1  Tweet Date             Tweet ID  \\\n",
       "0              0             0  2021-01-19  1351590096752017416   \n",
       "1              1             1  2021-01-19  1351555038863368193   \n",
       "2              2             2  2021-01-19  1351554892926750720   \n",
       "3              3             3  2021-01-19  1351554395234824192   \n",
       "4              4             4  2021-01-19  1351554266247426050   \n",
       "...          ...           ...         ...                  ...   \n",
       "1874        1874          2026  2021-01-11  1348687433978798080   \n",
       "1875        1875          2027  2021-01-11  1348687432938647552   \n",
       "1876        1876          2028  2021-01-11  1348687432913473536   \n",
       "1877        1877          2029  2021-01-11  1348687432904892416   \n",
       "1878        1878          2030  2021-01-11  1348687428589035522   \n",
       "\n",
       "                                             Tweet Text         tweet_source  \\\n",
       "0     I'm a big music person. It speaks to me in all...  Twitter for Android   \n",
       "1     @JohnWHarris15 I adore you and your unlimited ...  Twitter for Android   \n",
       "2     @bubblydncer I have replied to countless texts...  Twitter for Android   \n",
       "3                         @MelBeer93 Ahhh I love this!   Twitter for Android   \n",
       "4                   @TheKimClub https://t.co/UUx3417HcD  Twitter for Android   \n",
       "...                                                 ...                  ...   \n",
       "1874              in my lecture rn talking about covid    Twitter for iPhone   \n",
       "1875  @buzzycalz @skinnyqweeen @hearteyezshawty im i...   Twitter for iPhone   \n",
       "1876  @Death13__ Also this is just streams, videos a...  Twitter for Android   \n",
       "1877  @Lyssss69 Honestly I just saw these on tiktok ...   Twitter for iPhone   \n",
       "1878            @ariellelynn__ Seriously my favorite rn   Twitter for iPhone   \n",
       "\n",
       "      tweet_retweet_count  tweet_favorite_count  word_count  char_count  ...  \\\n",
       "0                       0                     6          27         142  ...   \n",
       "1                       0                     1           9          59  ...   \n",
       "2                       0                     1          22         142  ...   \n",
       "3                       0                     0           5          29  ...   \n",
       "4                       0                     1           2          35  ...   \n",
       "...                   ...                   ...         ...         ...  ...   \n",
       "1874                    0                     0           7          37  ...   \n",
       "1875                    0                     2          27         174  ...   \n",
       "1876                    0                     1          16          84  ...   \n",
       "1877                    0                     1          15          74  ...   \n",
       "1878                    0                     0           5          39  ...   \n",
       "\n",
       "      month  day  unique_word_count  stop_word_count  url_count  \\\n",
       "0         1   19                 25               15          1   \n",
       "1         1   19                  9                4          0   \n",
       "2         1   19                 20               10          1   \n",
       "3         1   19                  5                1          0   \n",
       "4         1   19                  2                0          1   \n",
       "...     ...  ...                ...              ...        ...   \n",
       "1874      1   11                  7                3          0   \n",
       "1875      1   11                 26               11          0   \n",
       "1876      1   11                 16                8          0   \n",
       "1877      1   11                 14                8          0   \n",
       "1878      1   11                  5                1          0   \n",
       "\n",
       "      mean_word_length  hashtag_count  mention_count  burnout  \\\n",
       "0             4.296296              0              0        1   \n",
       "1             5.555556              0              1        1   \n",
       "2             5.500000              0              1        1   \n",
       "3             4.800000              0              1        0   \n",
       "4            17.000000              0              1        1   \n",
       "...                ...            ...            ...      ...   \n",
       "1874          4.285714              0              0        1   \n",
       "1875          5.444444              0              3        1   \n",
       "1876          4.312500              0              1        1   \n",
       "1877          4.000000              0              1        0   \n",
       "1878          7.000000              0              1        0   \n",
       "\n",
       "      burnout_indicators  \n",
       "0                    mad  \n",
       "1                         \n",
       "2                         \n",
       "3                         \n",
       "4                         \n",
       "...                  ...  \n",
       "1874                      \n",
       "1875                      \n",
       "1876                      \n",
       "1877                      \n",
       "1878                      \n",
       "\n",
       "[1879 rows x 24 columns]"
      ]
     },
     "execution_count": 18,
     "metadata": {},
     "output_type": "execute_result"
    }
   ],
   "source": [
    "#Reminder:\n",
    "df"
   ]
  },
  {
   "cell_type": "code",
   "execution_count": 19,
   "metadata": {
    "execution": {
     "iopub.execute_input": "2021-01-21T18:42:31.671029Z",
     "iopub.status.busy": "2021-01-21T18:42:31.670254Z",
     "iopub.status.idle": "2021-01-21T18:42:31.677598Z",
     "shell.execute_reply": "2021-01-21T18:42:31.678081Z"
    },
    "papermill": {
     "duration": 0.077355,
     "end_time": "2021-01-21T18:42:31.678257",
     "exception": false,
     "start_time": "2021-01-21T18:42:31.600902",
     "status": "completed"
    },
    "tags": []
   },
   "outputs": [],
   "source": [
    "#Split data into training, validation and test sets\n",
    "y=df['burnout']\n",
    "\n",
    "xtrain, xtest, ytrain, ytest = train_test_split(df['Tweet Text'].values, y, \n",
    "                                                  stratify=y, \n",
    "                                                  random_state=42, \n",
    "                                                  test_size=0.2, shuffle=True)"
   ]
  },
  {
   "cell_type": "code",
   "execution_count": 20,
   "metadata": {
    "execution": {
     "iopub.execute_input": "2021-01-21T18:42:31.801687Z",
     "iopub.status.busy": "2021-01-21T18:42:31.800876Z",
     "iopub.status.idle": "2021-01-21T18:42:31.805740Z",
     "shell.execute_reply": "2021-01-21T18:42:31.806216Z"
    },
    "papermill": {
     "duration": 0.07059,
     "end_time": "2021-01-21T18:42:31.806379",
     "exception": false,
     "start_time": "2021-01-21T18:42:31.735789",
     "status": "completed"
    },
    "tags": []
   },
   "outputs": [
    {
     "name": "stdout",
     "output_type": "stream",
     "text": [
      "(1503,)\n",
      "(376,)\n"
     ]
    }
   ],
   "source": [
    "print (xtrain.shape)\n",
    "print (xtest.shape)"
   ]
  },
  {
   "cell_type": "markdown",
   "metadata": {
    "papermill": {
     "duration": 0.057222,
     "end_time": "2021-01-21T18:42:31.920079",
     "exception": false,
     "start_time": "2021-01-21T18:42:31.862857",
     "status": "completed"
    },
    "tags": []
   },
   "source": [
    "## Baseline Models"
   ]
  },
  {
   "cell_type": "markdown",
   "metadata": {
    "papermill": {
     "duration": 0.056236,
     "end_time": "2021-01-21T18:42:32.033859",
     "exception": false,
     "start_time": "2021-01-21T18:42:31.977623",
     "status": "completed"
    },
    "tags": []
   },
   "source": [
    "### TF-IDF"
   ]
  },
  {
   "cell_type": "code",
   "execution_count": 21,
   "metadata": {
    "execution": {
     "iopub.execute_input": "2021-01-21T18:42:32.177761Z",
     "iopub.status.busy": "2021-01-21T18:42:32.176725Z",
     "iopub.status.idle": "2021-01-21T18:42:32.339480Z",
     "shell.execute_reply": "2021-01-21T18:42:32.338828Z"
    },
    "papermill": {
     "duration": 0.238039,
     "end_time": "2021-01-21T18:42:32.339608",
     "exception": false,
     "start_time": "2021-01-21T18:42:32.101569",
     "status": "completed"
    },
    "tags": []
   },
   "outputs": [],
   "source": [
    "# Always start with these features. They work (almost) everytime!\n",
    "tfv = TfidfVectorizer(min_df=3,  max_features=None, \n",
    "            strip_accents='unicode', analyzer='word',token_pattern=r'\\w{1,}',\n",
    "            ngram_range=(1, 3), use_idf=1,smooth_idf=1,sublinear_tf=1,\n",
    "            stop_words = 'english')\n",
    "\n",
    "# Fitting TF-IDF to training set (supervised learning)\n",
    "tfv.fit(list(xtrain))\n",
    "xtrain_tfv =  tfv.transform(xtrain) \n",
    "xtest_tfv =  tfv.transform(xtest) "
   ]
  },
  {
   "cell_type": "markdown",
   "metadata": {
    "papermill": {
     "duration": 0.056581,
     "end_time": "2021-01-21T18:42:32.452957",
     "exception": false,
     "start_time": "2021-01-21T18:42:32.396376",
     "status": "completed"
    },
    "tags": []
   },
   "source": [
    "### Logistic Regression"
   ]
  },
  {
   "cell_type": "code",
   "execution_count": 22,
   "metadata": {
    "execution": {
     "iopub.execute_input": "2021-01-21T18:42:32.574730Z",
     "iopub.status.busy": "2021-01-21T18:42:32.573108Z",
     "iopub.status.idle": "2021-01-21T18:42:32.621301Z",
     "shell.execute_reply": "2021-01-21T18:42:32.621888Z"
    },
    "papermill": {
     "duration": 0.111557,
     "end_time": "2021-01-21T18:42:32.622028",
     "exception": false,
     "start_time": "2021-01-21T18:42:32.510471",
     "status": "completed"
    },
    "tags": []
   },
   "outputs": [
    {
     "name": "stdout",
     "output_type": "stream",
     "text": [
      "              precision    recall  f1-score   support\n",
      "\n",
      "           0       0.79      0.41      0.54       133\n",
      "           1       0.74      0.94      0.83       243\n",
      "\n",
      "    accuracy                           0.75       376\n",
      "   macro avg       0.77      0.67      0.68       376\n",
      "weighted avg       0.76      0.75      0.73       376\n",
      "\n"
     ]
    }
   ],
   "source": [
    "# Fitting a simple Logistic Regression on TFIDF\n",
    "\n",
    "clf = LogisticRegression(C=1.0)\n",
    "clf.fit(xtrain_tfv, ytrain)\n",
    "predictions = clf.predict(xtest_tfv)\n",
    "\n",
    "\n",
    "print(classification_report(ytest, predictions))"
   ]
  },
  {
   "cell_type": "markdown",
   "metadata": {
    "papermill": {
     "duration": 0.05827,
     "end_time": "2021-01-21T18:42:32.738436",
     "exception": false,
     "start_time": "2021-01-21T18:42:32.680166",
     "status": "completed"
    },
    "tags": []
   },
   "source": [
    "* Recall: how many of this class you find over the whole # of elements of this class\n",
    "\n",
    "* Precision: how many are correctly classified among that class\n",
    "\n",
    "* f1-score: harmonic mean between Pr and Recall\n",
    "\n",
    "* support: how many of each class. (There is class imbalance since 1-burnout is close to double the amount of 0-non burnout).\n",
    "\n",
    "* accuracy: percentage of correct predictions\n",
    "\n",
    "* macro avg: 𝑠𝑐𝑜𝑟𝑒𝑚𝑎𝑐𝑟𝑜-𝑎𝑣𝑔=0.5⋅𝑠𝑐𝑜𝑟𝑒𝑐𝑙𝑎𝑠𝑠 0+0.5⋅𝑠𝑐𝑜𝑟𝑒𝑐𝑙𝑎𝑠𝑠 1\n",
    "\n",
    "* weighted avg: 𝑠𝑐𝑜𝑟𝑒𝑤𝑒𝑖𝑔ℎ𝑡𝑒𝑑-𝑎𝑣𝑔=0.998⋅𝑠𝑐𝑜𝑟𝑒𝑐𝑙𝑎𝑠𝑠 0+0.002⋅𝑠𝑐𝑜𝑟𝑒𝑐𝑙𝑎𝑠𝑠 1\n",
    "\n",
    "Conclusion: \n",
    "* Model did a better job at correctly classifying burnout due to higher f1-score. \n",
    "\n",
    "* However, non-burnout class has greater Precision.\n",
    "\n",
    "* Given imbalanced dataset, not good to look at accuracy since it can just give illusion of good model performance. This can happen when class dominates another class such as in this case. And model does good job predicting popular class but does not do good job predicting non-popular class. \n",
    "\n",
    "* macro avg: f1-score gets penalized when model does not classify minority class well (you want this to be high). In this case, there was high precision/accuracy, but low recall/coverage. So the macro avg for f1-score is not too low and not too high.\n",
    "\n",
    "* weighted avg: if the f1-score for this is high then the model is favoring the majority class, which is not what we want (you want this to be low). In this case, given the class imbalance, this is what is happening with our model.\n",
    "\n",
    "Let's take a look at the confusion matrix which can give us a clearer picture of what is expected and what model ended up predicting."
   ]
  },
  {
   "cell_type": "code",
   "execution_count": 23,
   "metadata": {
    "execution": {
     "iopub.execute_input": "2021-01-21T18:42:32.860338Z",
     "iopub.status.busy": "2021-01-21T18:42:32.859250Z",
     "iopub.status.idle": "2021-01-21T18:42:32.866157Z",
     "shell.execute_reply": "2021-01-21T18:42:32.865533Z"
    },
    "papermill": {
     "duration": 0.070007,
     "end_time": "2021-01-21T18:42:32.866262",
     "exception": false,
     "start_time": "2021-01-21T18:42:32.796255",
     "status": "completed"
    },
    "tags": []
   },
   "outputs": [
    {
     "data": {
      "text/plain": [
       "array([[ 54,  79],\n",
       "       [ 14, 229]])"
      ]
     },
     "execution_count": 23,
     "metadata": {},
     "output_type": "execute_result"
    }
   ],
   "source": [
    "confusion_matrix(ytest, predictions)"
   ]
  },
  {
   "cell_type": "markdown",
   "metadata": {
    "papermill": {
     "duration": 0.058743,
     "end_time": "2021-01-21T18:42:32.982476",
     "exception": false,
     "start_time": "2021-01-21T18:42:32.923733",
     "status": "completed"
    },
    "tags": []
   },
   "source": [
    "Along the vertical axis is the actual classes  0 as the top left and 1 as the bottom left. And along the horizontal axis 0 is the top left and 1 as the top right.\n",
    "\n",
    "From the output, we can see that the model did a very good job predicting burnout tweets and a mediocre job with non-burnout tweets. There are far greater false positives than false negatives which is expected given that class imbalance is heavily skewed towards positive class. \n",
    "\n",
    "Therefore, can look at weighing burnout class less when model trains on data. Another alternative is to use a different vectorizer- CountVectorizer to represent text for training."
   ]
  },
  {
   "cell_type": "markdown",
   "metadata": {
    "papermill": {
     "duration": 0.058056,
     "end_time": "2021-01-21T18:42:33.097867",
     "exception": false,
     "start_time": "2021-01-21T18:42:33.039811",
     "status": "completed"
    },
    "tags": []
   },
   "source": [
    "### CountVectorizer"
   ]
  },
  {
   "cell_type": "code",
   "execution_count": 24,
   "metadata": {
    "execution": {
     "iopub.execute_input": "2021-01-21T18:42:33.229881Z",
     "iopub.status.busy": "2021-01-21T18:42:33.229193Z",
     "iopub.status.idle": "2021-01-21T18:42:33.376351Z",
     "shell.execute_reply": "2021-01-21T18:42:33.375694Z"
    },
    "papermill": {
     "duration": 0.220624,
     "end_time": "2021-01-21T18:42:33.376484",
     "exception": false,
     "start_time": "2021-01-21T18:42:33.155860",
     "status": "completed"
    },
    "tags": []
   },
   "outputs": [],
   "source": [
    "ctv = CountVectorizer(analyzer='word',token_pattern=r'\\w{1,}',\n",
    "            ngram_range=(1, 3), stop_words = 'english')\n",
    "\n",
    "\n",
    "\n",
    "# Fitting Count Vectorizer to training set\n",
    "xtrain_ctv =  ctv.fit_transform(xtrain) \n",
    "xtest_ctv = ctv.transform(xtest)"
   ]
  },
  {
   "cell_type": "code",
   "execution_count": 25,
   "metadata": {
    "execution": {
     "iopub.execute_input": "2021-01-21T18:42:33.499120Z",
     "iopub.status.busy": "2021-01-21T18:42:33.498415Z",
     "iopub.status.idle": "2021-01-21T18:42:33.716963Z",
     "shell.execute_reply": "2021-01-21T18:42:33.717679Z"
    },
    "papermill": {
     "duration": 0.28324,
     "end_time": "2021-01-21T18:42:33.717853",
     "exception": false,
     "start_time": "2021-01-21T18:42:33.434613",
     "status": "completed"
    },
    "tags": []
   },
   "outputs": [
    {
     "name": "stdout",
     "output_type": "stream",
     "text": [
      "              precision    recall  f1-score   support\n",
      "\n",
      "           0       0.87      0.36      0.51       133\n",
      "           1       0.74      0.97      0.84       243\n",
      "\n",
      "    accuracy                           0.76       376\n",
      "   macro avg       0.80      0.67      0.67       376\n",
      "weighted avg       0.78      0.76      0.72       376\n",
      "\n"
     ]
    }
   ],
   "source": [
    "# Fitting a simple Logistic Regression on Counts\n",
    "\n",
    "clf = LogisticRegression(C=1.0)\n",
    "clf.fit(xtrain_ctv, ytrain)\n",
    "predictions = clf.predict(xtest_ctv)\n",
    "\n",
    "\n",
    "print(classification_report(ytest, predictions))"
   ]
  },
  {
   "cell_type": "markdown",
   "metadata": {
    "papermill": {
     "duration": 0.059298,
     "end_time": "2021-01-21T18:42:33.843701",
     "exception": false,
     "start_time": "2021-01-21T18:42:33.784403",
     "status": "completed"
    },
    "tags": []
   },
   "source": [
    "Count Vectorizer performed better since minority class has higher Precision though Recall was lower than seen in TF-IDF results.\n",
    "\n",
    "Let's take a look at the confusion matrix to see more."
   ]
  },
  {
   "cell_type": "code",
   "execution_count": 26,
   "metadata": {
    "execution": {
     "iopub.execute_input": "2021-01-21T18:42:33.967739Z",
     "iopub.status.busy": "2021-01-21T18:42:33.966681Z",
     "iopub.status.idle": "2021-01-21T18:42:33.974429Z",
     "shell.execute_reply": "2021-01-21T18:42:33.974961Z"
    },
    "papermill": {
     "duration": 0.071893,
     "end_time": "2021-01-21T18:42:33.975100",
     "exception": false,
     "start_time": "2021-01-21T18:42:33.903207",
     "status": "completed"
    },
    "tags": []
   },
   "outputs": [
    {
     "data": {
      "text/plain": [
       "array([[ 48,  85],\n",
       "       [  7, 236]])"
      ]
     },
     "execution_count": 26,
     "metadata": {},
     "output_type": "execute_result"
    }
   ],
   "source": [
    "confusion_matrix(ytest, predictions)"
   ]
  },
  {
   "cell_type": "markdown",
   "metadata": {
    "papermill": {
     "duration": 0.058799,
     "end_time": "2021-01-21T18:42:34.092630",
     "exception": false,
     "start_time": "2021-01-21T18:42:34.033831",
     "status": "completed"
    },
    "tags": []
   },
   "source": [
    "We can see with Count Vectorizer there are more false positives and less false negatives. In our situation we want less false negatives because we do not want to miss anyone who is burntout. The cost is higher for someone who is not diagnosed versus someone who is misdiagnosed as having it when that is not the case.\n",
    "\n",
    "So far CountVectorizer with Log Reg is in the lead with best model performance.\n",
    "\n",
    "Now let us give Naive Bayes a chance."
   ]
  },
  {
   "cell_type": "markdown",
   "metadata": {
    "papermill": {
     "duration": 0.05882,
     "end_time": "2021-01-21T18:42:34.209928",
     "exception": false,
     "start_time": "2021-01-21T18:42:34.151108",
     "status": "completed"
    },
    "tags": []
   },
   "source": [
    "### Naive Bayes"
   ]
  },
  {
   "cell_type": "code",
   "execution_count": 27,
   "metadata": {
    "execution": {
     "iopub.execute_input": "2021-01-21T18:42:34.333602Z",
     "iopub.status.busy": "2021-01-21T18:42:34.332887Z",
     "iopub.status.idle": "2021-01-21T18:42:34.346185Z",
     "shell.execute_reply": "2021-01-21T18:42:34.345646Z"
    },
    "papermill": {
     "duration": 0.077579,
     "end_time": "2021-01-21T18:42:34.346292",
     "exception": false,
     "start_time": "2021-01-21T18:42:34.268713",
     "status": "completed"
    },
    "tags": []
   },
   "outputs": [
    {
     "name": "stdout",
     "output_type": "stream",
     "text": [
      "              precision    recall  f1-score   support\n",
      "\n",
      "           0       0.81      0.41      0.54       133\n",
      "           1       0.74      0.95      0.83       243\n",
      "\n",
      "    accuracy                           0.76       376\n",
      "   macro avg       0.78      0.68      0.69       376\n",
      "weighted avg       0.77      0.76      0.73       376\n",
      "\n"
     ]
    }
   ],
   "source": [
    "#On TFIDF\n",
    "clf = MultinomialNB()\n",
    "clf.fit(xtrain_tfv, ytrain)\n",
    "predictions = clf.predict(xtest_tfv)\n",
    "\n",
    "print (classification_report(ytest, predictions))"
   ]
  },
  {
   "cell_type": "code",
   "execution_count": 28,
   "metadata": {
    "execution": {
     "iopub.execute_input": "2021-01-21T18:42:34.470873Z",
     "iopub.status.busy": "2021-01-21T18:42:34.469921Z",
     "iopub.status.idle": "2021-01-21T18:42:34.476397Z",
     "shell.execute_reply": "2021-01-21T18:42:34.475770Z"
    },
    "papermill": {
     "duration": 0.070781,
     "end_time": "2021-01-21T18:42:34.476508",
     "exception": false,
     "start_time": "2021-01-21T18:42:34.405727",
     "status": "completed"
    },
    "tags": []
   },
   "outputs": [
    {
     "name": "stdout",
     "output_type": "stream",
     "text": [
      "[[ 54  79]\n",
      " [ 13 230]]\n"
     ]
    }
   ],
   "source": [
    "print (confusion_matrix(ytest, predictions))"
   ]
  },
  {
   "cell_type": "markdown",
   "metadata": {
    "papermill": {
     "duration": 0.059292,
     "end_time": "2021-01-21T18:42:34.596116",
     "exception": false,
     "start_time": "2021-01-21T18:42:34.536824",
     "status": "completed"
    },
    "tags": []
   },
   "source": [
    "Not many drastic changes with classification report output. And with confusion matrix, there are more false negatives. So let us try NB on Counts.  "
   ]
  },
  {
   "cell_type": "code",
   "execution_count": 29,
   "metadata": {
    "execution": {
     "iopub.execute_input": "2021-01-21T18:42:34.722902Z",
     "iopub.status.busy": "2021-01-21T18:42:34.721787Z",
     "iopub.status.idle": "2021-01-21T18:42:34.735926Z",
     "shell.execute_reply": "2021-01-21T18:42:34.735402Z"
    },
    "papermill": {
     "duration": 0.080181,
     "end_time": "2021-01-21T18:42:34.736039",
     "exception": false,
     "start_time": "2021-01-21T18:42:34.655858",
     "status": "completed"
    },
    "tags": []
   },
   "outputs": [
    {
     "name": "stdout",
     "output_type": "stream",
     "text": [
      "              precision    recall  f1-score   support\n",
      "\n",
      "           0       0.70      0.43      0.53       133\n",
      "           1       0.74      0.90      0.81       243\n",
      "\n",
      "    accuracy                           0.73       376\n",
      "   macro avg       0.72      0.66      0.67       376\n",
      "weighted avg       0.73      0.73      0.71       376\n",
      "\n"
     ]
    }
   ],
   "source": [
    "#On Counts Vectorizer\n",
    "clf = MultinomialNB()\n",
    "clf.fit(xtrain_ctv, ytrain)\n",
    "predictions = clf.predict(xtest_ctv)\n",
    "\n",
    "print (classification_report(ytest, predictions))"
   ]
  },
  {
   "cell_type": "code",
   "execution_count": 30,
   "metadata": {
    "execution": {
     "iopub.execute_input": "2021-01-21T18:42:34.863595Z",
     "iopub.status.busy": "2021-01-21T18:42:34.862838Z",
     "iopub.status.idle": "2021-01-21T18:42:34.869183Z",
     "shell.execute_reply": "2021-01-21T18:42:34.868654Z"
    },
    "papermill": {
     "duration": 0.071592,
     "end_time": "2021-01-21T18:42:34.869309",
     "exception": false,
     "start_time": "2021-01-21T18:42:34.797717",
     "status": "completed"
    },
    "tags": []
   },
   "outputs": [
    {
     "data": {
      "text/plain": [
       "array([[ 57,  76],\n",
       "       [ 24, 219]])"
      ]
     },
     "execution_count": 30,
     "metadata": {},
     "output_type": "execute_result"
    }
   ],
   "source": [
    "confusion_matrix(ytest, predictions)"
   ]
  },
  {
   "cell_type": "markdown",
   "metadata": {
    "papermill": {
     "duration": 0.061594,
     "end_time": "2021-01-21T18:42:34.992629",
     "exception": false,
     "start_time": "2021-01-21T18:42:34.931035",
     "status": "completed"
    },
    "tags": []
   },
   "source": [
    "This is a huge change in model performance and not an improvement. Though recall improved for minority class, there is a huge spike in false negatives. \n",
    "\n",
    "So Logistic Regression using Counts is still the top ranked. Let us try another old algorithm called SVM (Support Vector Machines)."
   ]
  },
  {
   "cell_type": "markdown",
   "metadata": {
    "papermill": {
     "duration": 0.060579,
     "end_time": "2021-01-21T18:42:35.113888",
     "exception": false,
     "start_time": "2021-01-21T18:42:35.053309",
     "status": "completed"
    },
    "tags": []
   },
   "source": [
    "### Support Vector Machine\n",
    "\n",
    "Due to how long the algorithm takes to predict, will need to reduce TFIDF vector as well as standardize the data for SVM to work."
   ]
  },
  {
   "cell_type": "code",
   "execution_count": 31,
   "metadata": {
    "execution": {
     "iopub.execute_input": "2021-01-21T18:42:35.241994Z",
     "iopub.status.busy": "2021-01-21T18:42:35.241293Z",
     "iopub.status.idle": "2021-01-21T18:42:35.406224Z",
     "shell.execute_reply": "2021-01-21T18:42:35.405378Z"
    },
    "papermill": {
     "duration": 0.232006,
     "end_time": "2021-01-21T18:42:35.406384",
     "exception": false,
     "start_time": "2021-01-21T18:42:35.174378",
     "status": "completed"
    },
    "tags": []
   },
   "outputs": [],
   "source": [
    "# Apply SVD, I chose 120 components. 120-200 components are good enough for SVM model.\n",
    "svd = decomposition.TruncatedSVD(n_components=120)\n",
    "svd.fit(xtrain_tfv)\n",
    "xtrain_svd = svd.transform(xtrain_tfv)\n",
    "xtest_svd = svd.transform(xtest_tfv)\n",
    "\n",
    "# Scale the data obtained from SVD. Renaming variable to reuse without scaling.\n",
    "scl = preprocessing.StandardScaler()\n",
    "scl.fit(xtrain_svd)\n",
    "xtrain_svd_scl = scl.transform(xtrain_svd)\n",
    "xtest_svd_scl = scl.transform(xtest_svd)"
   ]
  },
  {
   "cell_type": "code",
   "execution_count": 32,
   "metadata": {
    "execution": {
     "iopub.execute_input": "2021-01-21T18:42:35.539732Z",
     "iopub.status.busy": "2021-01-21T18:42:35.538526Z",
     "iopub.status.idle": "2021-01-21T18:42:37.684127Z",
     "shell.execute_reply": "2021-01-21T18:42:37.684644Z"
    },
    "papermill": {
     "duration": 2.213296,
     "end_time": "2021-01-21T18:42:37.684797",
     "exception": false,
     "start_time": "2021-01-21T18:42:35.471501",
     "status": "completed"
    },
    "tags": []
   },
   "outputs": [
    {
     "name": "stdout",
     "output_type": "stream",
     "text": [
      "              precision    recall  f1-score   support\n",
      "\n",
      "           0       0.79      0.37      0.50       133\n",
      "           1       0.73      0.95      0.83       243\n",
      "\n",
      "    accuracy                           0.74       376\n",
      "   macro avg       0.76      0.66      0.66       376\n",
      "weighted avg       0.75      0.74      0.71       376\n",
      "\n"
     ]
    }
   ],
   "source": [
    "# Fitting a simple SVM\n",
    "clf = SVC(C=1.0, probability=True) # since we need probabilities\n",
    "clf.fit(xtrain_svd_scl, ytrain)\n",
    "predictions = clf.predict(xtest_svd_scl)\n",
    "\n",
    "print (classification_report(ytest, predictions))"
   ]
  },
  {
   "cell_type": "code",
   "execution_count": 33,
   "metadata": {
    "execution": {
     "iopub.execute_input": "2021-01-21T18:42:37.815383Z",
     "iopub.status.busy": "2021-01-21T18:42:37.814416Z",
     "iopub.status.idle": "2021-01-21T18:42:37.820142Z",
     "shell.execute_reply": "2021-01-21T18:42:37.820741Z"
    },
    "papermill": {
     "duration": 0.072683,
     "end_time": "2021-01-21T18:42:37.820877",
     "exception": false,
     "start_time": "2021-01-21T18:42:37.748194",
     "status": "completed"
    },
    "tags": []
   },
   "outputs": [
    {
     "data": {
      "text/plain": [
       "array([[ 49,  84],\n",
       "       [ 13, 230]])"
      ]
     },
     "execution_count": 33,
     "metadata": {},
     "output_type": "execute_result"
    }
   ],
   "source": [
    "confusion_matrix(ytest, predictions)"
   ]
  },
  {
   "cell_type": "markdown",
   "metadata": {
    "papermill": {
     "duration": 0.062474,
     "end_time": "2021-01-21T18:42:37.945271",
     "exception": false,
     "start_time": "2021-01-21T18:42:37.882797",
     "status": "completed"
    },
    "tags": []
   },
   "source": [
    "Given minority class' Precision and confusion matrix, similar performance to top-ranked Log Reg using Count Vectorizer. Let's see if we can do even better with non-baseline models."
   ]
  },
  {
   "cell_type": "markdown",
   "metadata": {
    "papermill": {
     "duration": 0.06265,
     "end_time": "2021-01-21T18:42:38.070673",
     "exception": false,
     "start_time": "2021-01-21T18:42:38.008023",
     "status": "completed"
    },
    "tags": []
   },
   "source": [
    "## Non-Baseline Model\n",
    "\n",
    "### XGBoost\n",
    "\n",
    "This is the most popular ML algorithm for competition winners. So let us see how it performs. "
   ]
  },
  {
   "cell_type": "code",
   "execution_count": 34,
   "metadata": {
    "execution": {
     "iopub.execute_input": "2021-01-21T18:42:38.197681Z",
     "iopub.status.busy": "2021-01-21T18:42:38.197030Z",
     "iopub.status.idle": "2021-01-21T18:42:39.901620Z",
     "shell.execute_reply": "2021-01-21T18:42:39.899909Z"
    },
    "papermill": {
     "duration": 1.769155,
     "end_time": "2021-01-21T18:42:39.901816",
     "exception": false,
     "start_time": "2021-01-21T18:42:38.132661",
     "status": "completed"
    },
    "tags": []
   },
   "outputs": [
    {
     "name": "stdout",
     "output_type": "stream",
     "text": [
      "              precision    recall  f1-score   support\n",
      "\n",
      "           0       0.80      0.54      0.65       133\n",
      "           1       0.79      0.93      0.85       243\n",
      "\n",
      "    accuracy                           0.79       376\n",
      "   macro avg       0.79      0.73      0.75       376\n",
      "weighted avg       0.79      0.79      0.78       376\n",
      "\n"
     ]
    }
   ],
   "source": [
    "# Fitting XGBoost on TFIDF\n",
    "clf = xgb.XGBClassifier(max_depth=7, n_estimators=200, colsample_bytree=0.8, \n",
    "                        subsample=0.8, nthread=10, learning_rate=0.1)\n",
    "clf.fit(xtrain_tfv.tocsc(), ytrain)\n",
    "predictions = clf.predict(xtest_tfv.tocsc())\n",
    "\n",
    "print (classification_report(ytest, predictions))"
   ]
  },
  {
   "cell_type": "code",
   "execution_count": 35,
   "metadata": {
    "execution": {
     "iopub.execute_input": "2021-01-21T18:42:40.165273Z",
     "iopub.status.busy": "2021-01-21T18:42:40.164299Z",
     "iopub.status.idle": "2021-01-21T18:42:40.168241Z",
     "shell.execute_reply": "2021-01-21T18:42:40.168727Z"
    },
    "papermill": {
     "duration": 0.073716,
     "end_time": "2021-01-21T18:42:40.168872",
     "exception": false,
     "start_time": "2021-01-21T18:42:40.095156",
     "status": "completed"
    },
    "tags": []
   },
   "outputs": [
    {
     "data": {
      "text/plain": [
       "array([[ 72,  61],\n",
       "       [ 18, 225]])"
      ]
     },
     "execution_count": 35,
     "metadata": {},
     "output_type": "execute_result"
    }
   ],
   "source": [
    "confusion_matrix(ytest, predictions)"
   ]
  },
  {
   "cell_type": "markdown",
   "metadata": {
    "papermill": {
     "duration": 0.062645,
     "end_time": "2021-01-21T18:42:40.294266",
     "exception": false,
     "start_time": "2021-01-21T18:42:40.231621",
     "status": "completed"
    },
    "tags": []
   },
   "source": [
    "Wow! What a game-changer. I can see why XGBoost is competition winners' go-to for winning. Significant changes to model performance happened in several areas:\n",
    "\n",
    "* 0/non-burnout class had higher Recall/coverage than all prior models \n",
    "\n",
    "* f1-score for minority and majority classes have highest score versus prior models\n",
    "\n",
    "* macro avg is higher than all prior models\n",
    "\n",
    "* overall incorrect predictions is the least amount out of all models though its false negatives could be lower\n",
    "\n",
    "Refined metric of success is:\n",
    "1. low # false predictions (low false pos' and low false neg's) - this has higher wt than low false neg's\n",
    "1. Low false negatives\n",
    "\n",
    "Given the above, XGBoost on TFIDF is the current winner!"
   ]
  },
  {
   "cell_type": "code",
   "execution_count": 36,
   "metadata": {
    "execution": {
     "iopub.execute_input": "2021-01-21T18:42:40.423087Z",
     "iopub.status.busy": "2021-01-21T18:42:40.422072Z",
     "iopub.status.idle": "2021-01-21T18:42:57.856006Z",
     "shell.execute_reply": "2021-01-21T18:42:57.857090Z"
    },
    "papermill": {
     "duration": 17.500733,
     "end_time": "2021-01-21T18:42:57.857359",
     "exception": false,
     "start_time": "2021-01-21T18:42:40.356626",
     "status": "completed"
    },
    "tags": []
   },
   "outputs": [
    {
     "name": "stdout",
     "output_type": "stream",
     "text": [
      "              precision    recall  f1-score   support\n",
      "\n",
      "           0       0.79      0.54      0.64       133\n",
      "           1       0.79      0.92      0.85       243\n",
      "\n",
      "    accuracy                           0.79       376\n",
      "   macro avg       0.79      0.73      0.75       376\n",
      "weighted avg       0.79      0.79      0.78       376\n",
      "\n"
     ]
    }
   ],
   "source": [
    "# Fitting XGBoost on Counts\n",
    "clf = xgb.XGBClassifier(max_depth=7, n_estimators=200, colsample_bytree=0.8, \n",
    "                        subsample=0.8, nthread=10, learning_rate=0.1)\n",
    "clf.fit(xtrain_ctv.tocsc(), ytrain)\n",
    "predictions = clf.predict(xtest_ctv.tocsc())\n",
    "\n",
    "print (classification_report(ytest, predictions))"
   ]
  },
  {
   "cell_type": "code",
   "execution_count": 37,
   "metadata": {
    "execution": {
     "iopub.execute_input": "2021-01-21T18:42:58.123982Z",
     "iopub.status.busy": "2021-01-21T18:42:58.122994Z",
     "iopub.status.idle": "2021-01-21T18:42:58.129031Z",
     "shell.execute_reply": "2021-01-21T18:42:58.129514Z"
    },
    "papermill": {
     "duration": 0.075052,
     "end_time": "2021-01-21T18:42:58.129656",
     "exception": false,
     "start_time": "2021-01-21T18:42:58.054604",
     "status": "completed"
    },
    "tags": []
   },
   "outputs": [
    {
     "data": {
      "text/plain": [
       "array([[ 72,  61],\n",
       "       [ 19, 224]])"
      ]
     },
     "execution_count": 37,
     "metadata": {},
     "output_type": "execute_result"
    }
   ],
   "source": [
    "confusion_matrix(ytest, predictions)"
   ]
  },
  {
   "cell_type": "markdown",
   "metadata": {
    "papermill": {
     "duration": 0.063711,
     "end_time": "2021-01-21T18:42:58.257020",
     "exception": false,
     "start_time": "2021-01-21T18:42:58.193309",
     "status": "completed"
    },
    "tags": []
   },
   "source": [
    "XGBoost on Count Vectorizer performed similar, but performed slightly worse when it came to minority class Precision, majority class Recall, minority class f1-score and incorrect classifications (false pos, false neg)."
   ]
  },
  {
   "cell_type": "markdown",
   "metadata": {
    "papermill": {
     "duration": 0.063421,
     "end_time": "2021-01-21T18:42:58.384152",
     "exception": false,
     "start_time": "2021-01-21T18:42:58.320731",
     "status": "completed"
    },
    "tags": []
   },
   "source": [
    "Given that XGBoost performed so well, let us try and see how it performs using svd features with some slight variation in XGBoost parameters."
   ]
  },
  {
   "cell_type": "code",
   "execution_count": 38,
   "metadata": {
    "execution": {
     "iopub.execute_input": "2021-01-21T18:42:58.519781Z",
     "iopub.status.busy": "2021-01-21T18:42:58.519100Z",
     "iopub.status.idle": "2021-01-21T18:43:04.092614Z",
     "shell.execute_reply": "2021-01-21T18:43:04.093755Z"
    },
    "papermill": {
     "duration": 5.646077,
     "end_time": "2021-01-21T18:43:04.093974",
     "exception": false,
     "start_time": "2021-01-21T18:42:58.447897",
     "status": "completed"
    },
    "tags": []
   },
   "outputs": [
    {
     "name": "stdout",
     "output_type": "stream",
     "text": [
      "              precision    recall  f1-score   support\n",
      "\n",
      "           0       0.73      0.47      0.57       133\n",
      "           1       0.76      0.91      0.82       243\n",
      "\n",
      "    accuracy                           0.75       376\n",
      "   macro avg       0.74      0.69      0.70       376\n",
      "weighted avg       0.75      0.75      0.73       376\n",
      "\n"
     ]
    }
   ],
   "source": [
    "# Fitting XGBoost on Support Vector dimensions/features (svd) using prior model parameters\n",
    "clf = xgb.XGBClassifier(max_depth=7, n_estimators=200, colsample_bytree=0.8, \n",
    "                        subsample=0.8, nthread=10, learning_rate=0.1)\n",
    "clf.fit(xtrain_svd, ytrain)\n",
    "predictions = clf.predict(xtest_svd)\n",
    "\n",
    "print (classification_report(ytest, predictions))"
   ]
  },
  {
   "cell_type": "code",
   "execution_count": 39,
   "metadata": {
    "execution": {
     "iopub.execute_input": "2021-01-21T18:43:04.357772Z",
     "iopub.status.busy": "2021-01-21T18:43:04.357066Z",
     "iopub.status.idle": "2021-01-21T18:43:04.360041Z",
     "shell.execute_reply": "2021-01-21T18:43:04.360595Z"
    },
    "papermill": {
     "duration": 0.074601,
     "end_time": "2021-01-21T18:43:04.360728",
     "exception": false,
     "start_time": "2021-01-21T18:43:04.286127",
     "status": "completed"
    },
    "tags": []
   },
   "outputs": [
    {
     "data": {
      "text/plain": [
       "array([[ 62,  71],\n",
       "       [ 23, 220]])"
      ]
     },
     "execution_count": 39,
     "metadata": {},
     "output_type": "execute_result"
    }
   ],
   "source": [
    "confusion_matrix(ytest, predictions)"
   ]
  },
  {
   "cell_type": "code",
   "execution_count": 40,
   "metadata": {
    "execution": {
     "iopub.execute_input": "2021-01-21T18:43:04.507127Z",
     "iopub.status.busy": "2021-01-21T18:43:04.506405Z",
     "iopub.status.idle": "2021-01-21T18:43:08.654983Z",
     "shell.execute_reply": "2021-01-21T18:43:08.655952Z"
    },
    "papermill": {
     "duration": 4.231095,
     "end_time": "2021-01-21T18:43:08.656171",
     "exception": false,
     "start_time": "2021-01-21T18:43:04.425076",
     "status": "completed"
    },
    "tags": []
   },
   "outputs": [
    {
     "name": "stdout",
     "output_type": "stream",
     "text": [
      "              precision    recall  f1-score   support\n",
      "\n",
      "           0       0.65      0.42      0.51       133\n",
      "           1       0.73      0.88      0.80       243\n",
      "\n",
      "    accuracy                           0.72       376\n",
      "   macro avg       0.69      0.65      0.66       376\n",
      "weighted avg       0.71      0.72      0.70       376\n",
      "\n"
     ]
    }
   ],
   "source": [
    "# Fitting XGBoost on svd using 1 model parameter\n",
    "clf = xgb.XGBClassifier(nthread=10)\n",
    "clf.fit(xtrain_svd, ytrain)\n",
    "predictions = clf.predict(xtest_svd)\n",
    "\n",
    "print (classification_report(ytest, predictions))"
   ]
  },
  {
   "cell_type": "code",
   "execution_count": 41,
   "metadata": {
    "execution": {
     "iopub.execute_input": "2021-01-21T18:43:08.873642Z",
     "iopub.status.busy": "2021-01-21T18:43:08.870813Z",
     "iopub.status.idle": "2021-01-21T18:43:08.877343Z",
     "shell.execute_reply": "2021-01-21T18:43:08.877882Z"
    },
    "papermill": {
     "duration": 0.10528,
     "end_time": "2021-01-21T18:43:08.878025",
     "exception": false,
     "start_time": "2021-01-21T18:43:08.772745",
     "status": "completed"
    },
    "tags": []
   },
   "outputs": [
    {
     "data": {
      "text/plain": [
       "array([[ 56,  77],\n",
       "       [ 30, 213]])"
      ]
     },
     "execution_count": 41,
     "metadata": {},
     "output_type": "execute_result"
    }
   ],
   "source": [
    "confusion_matrix(ytest, predictions)"
   ]
  },
  {
   "cell_type": "markdown",
   "metadata": {
    "papermill": {
     "duration": 0.066583,
     "end_time": "2021-01-21T18:43:09.011016",
     "exception": false,
     "start_time": "2021-01-21T18:43:08.944433",
     "status": "completed"
    },
    "tags": []
   },
   "source": [
    "Both XGBoost on different parameters did not perform better than XGBoost on TF-IDF."
   ]
  }
 ],
 "metadata": {
  "kernelspec": {
   "display_name": "Python 3",
   "language": "python",
   "name": "python3"
  },
  "language_info": {
   "codemirror_mode": {
    "name": "ipython",
    "version": 3
   },
   "file_extension": ".py",
   "mimetype": "text/x-python",
   "name": "python",
   "nbconvert_exporter": "python",
   "pygments_lexer": "ipython3",
   "version": "3.7.6"
  },
  "papermill": {
   "duration": 57.388392,
   "end_time": "2021-01-21T18:43:09.186016",
   "environment_variables": {},
   "exception": null,
   "input_path": "__notebook__.ipynb",
   "output_path": "__notebook__.ipynb",
   "parameters": {},
   "start_time": "2021-01-21T18:42:11.797624",
   "version": "2.1.0"
  }
 },
 "nbformat": 4,
 "nbformat_minor": 4
}
