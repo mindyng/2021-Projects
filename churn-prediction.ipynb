{
 "cells": [
  {
   "cell_type": "code",
   "execution_count": 1,
   "metadata": {
    "_cell_guid": "b1076dfc-b9ad-4769-8c92-a6c4dae69d19",
    "_uuid": "8f2839f25d086af736a60e9eeb907d3b93b6e0e5",
    "execution": {
     "iopub.execute_input": "2021-02-01T19:11:53.366641Z",
     "iopub.status.busy": "2021-02-01T19:11:53.365417Z",
     "iopub.status.idle": "2021-02-01T19:11:56.325857Z",
     "shell.execute_reply": "2021-02-01T19:11:56.324501Z"
    },
    "papermill": {
     "duration": 3.057385,
     "end_time": "2021-02-01T19:11:56.326174",
     "exception": false,
     "start_time": "2021-02-01T19:11:53.268789",
     "status": "completed"
    },
    "tags": []
   },
   "outputs": [
    {
     "name": "stdout",
     "output_type": "stream",
     "text": [
      "/kaggle/input/sparkify-churn/medium-sparkify-event-data.json\n"
     ]
    },
    {
     "data": {
      "text/html": [
       "        <script type=\"text/javascript\">\n",
       "        window.PlotlyConfig = {MathJaxConfig: 'local'};\n",
       "        if (window.MathJax) {MathJax.Hub.Config({SVG: {font: \"STIX-Web\"}});}\n",
       "        if (typeof require !== 'undefined') {\n",
       "        require.undef(\"plotly\");\n",
       "        requirejs.config({\n",
       "            paths: {\n",
       "                'plotly': ['https://cdn.plot.ly/plotly-latest.min']\n",
       "            }\n",
       "        });\n",
       "        require(['plotly'], function(Plotly) {\n",
       "            window._Plotly = Plotly;\n",
       "        });\n",
       "        }\n",
       "        </script>\n",
       "        "
      ]
     },
     "metadata": {},
     "output_type": "display_data"
    }
   ],
   "source": [
    "# This Python 3 environment comes with many helpful analytics libraries installed\n",
    "# It is defined by the kaggle/python Docker image: https://github.com/kaggle/docker-python\n",
    "# For example, here's several helpful packages to load\n",
    "\n",
    "import numpy as np # linear algebra\n",
    "import pandas as pd # data processing, CSV file I/O (e.g. pd.read_csv)\n",
    "\n",
    "# Input data files are available in the read-only \"../input/\" directory\n",
    "# For example, running this (by clicking run or pressing Shift+Enter) will list all files under the input directory\n",
    "\n",
    "import os\n",
    "for dirname, _, filenames in os.walk('/kaggle/input'):\n",
    "    for filename in filenames:\n",
    "        print(os.path.join(dirname, filename))\n",
    "\n",
    "# You can write up to 20GB to the current directory (/kaggle/working/) that gets preserved as output when you create a version using \"Save & Run All\" \n",
    "# You can also write temporary files to /kaggle/temp/, but they won't be saved outside of the current session\n",
    "\n",
    "import matplotlib.pyplot as plt\n",
    "import seaborn as sns\n",
    "\n",
    "import plotly.graph_objects as go\n",
    "from plotly.offline import init_notebook_mode, iplot\n",
    "init_notebook_mode(connected=True)\n",
    "\n",
    "import datetime\n",
    "\n",
    "\n",
    "import warnings\n",
    "warnings.filterwarnings('ignore')\n",
    "%matplotlib inline\n",
    "\n",
    "from sklearn.model_selection import train_test_split\n",
    "from sklearn.linear_model import LogisticRegression\n",
    "from sklearn.naive_bayes import MultinomialNB\n",
    "from sklearn import svm\n",
    "import xgboost as xgb\n",
    "\n",
    "from sklearn.metrics import classification_report\n",
    "from sklearn.metrics import confusion_matrix"
   ]
  },
  {
   "cell_type": "markdown",
   "metadata": {
    "papermill": {
     "duration": 0.090471,
     "end_time": "2021-02-01T19:11:56.512456",
     "exception": false,
     "start_time": "2021-02-01T19:11:56.421985",
     "status": "completed"
    },
    "tags": []
   },
   "source": [
    "# Objective: Businesses are constantly monitoring their churn  since it can deflate earnings reports. For example, Netflix reports net subscribers in order to account for churn.\n",
    "\n",
    "After determining patterns leading to churn, we make suggestions on how to mitigate them."
   ]
  },
  {
   "cell_type": "markdown",
   "metadata": {
    "papermill": {
     "duration": 0.090962,
     "end_time": "2021-02-01T19:11:56.694974",
     "exception": false,
     "start_time": "2021-02-01T19:11:56.604012",
     "status": "completed"
    },
    "tags": []
   },
   "source": [
    "Data used is from a music streaming service called Sparkify. \n",
    "\n",
    "Sparkify is a hypothetical music streaming company that offers free and paid subscription plans for their customers. The income streams for the company is either paid ads for the free tier or the monthly subscription fee for the paid tier. The company wishes to predict which customers are likely to churn by cancelling their account.\n",
    "\n",
    "(Caveat about this dataset is that user records have different time ranges.)"
   ]
  },
  {
   "cell_type": "code",
   "execution_count": 2,
   "metadata": {
    "execution": {
     "iopub.execute_input": "2021-02-01T19:11:56.884994Z",
     "iopub.status.busy": "2021-02-01T19:11:56.884194Z",
     "iopub.status.idle": "2021-02-01T19:12:13.553523Z",
     "shell.execute_reply": "2021-02-01T19:12:13.552102Z"
    },
    "papermill": {
     "duration": 16.767169,
     "end_time": "2021-02-01T19:12:13.553682",
     "exception": false,
     "start_time": "2021-02-01T19:11:56.786513",
     "status": "completed"
    },
    "tags": []
   },
   "outputs": [],
   "source": [
    "df = pd.read_json('../input/sparkify-churn/medium-sparkify-event-data.json', lines=True)                 "
   ]
  },
  {
   "cell_type": "markdown",
   "metadata": {
    "papermill": {
     "duration": 0.090124,
     "end_time": "2021-02-01T19:12:13.737578",
     "exception": false,
     "start_time": "2021-02-01T19:12:13.647454",
     "status": "completed"
    },
    "tags": []
   },
   "source": [
    "# Learning about the Dataset"
   ]
  },
  {
   "cell_type": "code",
   "execution_count": 3,
   "metadata": {
    "execution": {
     "iopub.execute_input": "2021-02-01T19:12:13.946472Z",
     "iopub.status.busy": "2021-02-01T19:12:13.945577Z",
     "iopub.status.idle": "2021-02-01T19:12:13.963777Z",
     "shell.execute_reply": "2021-02-01T19:12:13.963130Z"
    },
    "papermill": {
     "duration": 0.136435,
     "end_time": "2021-02-01T19:12:13.963926",
     "exception": false,
     "start_time": "2021-02-01T19:12:13.827491",
     "status": "completed"
    },
    "tags": []
   },
   "outputs": [
    {
     "data": {
      "text/html": [
       "<div>\n",
       "<style scoped>\n",
       "    .dataframe tbody tr th:only-of-type {\n",
       "        vertical-align: middle;\n",
       "    }\n",
       "\n",
       "    .dataframe tbody tr th {\n",
       "        vertical-align: top;\n",
       "    }\n",
       "\n",
       "    .dataframe thead th {\n",
       "        text-align: right;\n",
       "    }\n",
       "</style>\n",
       "<table border=\"1\" class=\"dataframe\">\n",
       "  <thead>\n",
       "    <tr style=\"text-align: right;\">\n",
       "      <th></th>\n",
       "      <th>ts</th>\n",
       "      <th>userId</th>\n",
       "      <th>sessionId</th>\n",
       "      <th>page</th>\n",
       "      <th>auth</th>\n",
       "      <th>method</th>\n",
       "      <th>status</th>\n",
       "      <th>level</th>\n",
       "      <th>itemInSession</th>\n",
       "      <th>location</th>\n",
       "      <th>userAgent</th>\n",
       "      <th>lastName</th>\n",
       "      <th>firstName</th>\n",
       "      <th>registration</th>\n",
       "      <th>gender</th>\n",
       "      <th>artist</th>\n",
       "      <th>song</th>\n",
       "      <th>length</th>\n",
       "    </tr>\n",
       "  </thead>\n",
       "  <tbody>\n",
       "    <tr>\n",
       "      <th>0</th>\n",
       "      <td>1538352011000</td>\n",
       "      <td>293</td>\n",
       "      <td>292</td>\n",
       "      <td>NextSong</td>\n",
       "      <td>Logged In</td>\n",
       "      <td>PUT</td>\n",
       "      <td>200</td>\n",
       "      <td>free</td>\n",
       "      <td>20</td>\n",
       "      <td>Corpus Christi, TX</td>\n",
       "      <td>\"Mozilla/5.0 (Macintosh; Intel Mac OS X 10_9_4...</td>\n",
       "      <td>Morales</td>\n",
       "      <td>Joseph</td>\n",
       "      <td>1.532064e+12</td>\n",
       "      <td>M</td>\n",
       "      <td>Martin Orford</td>\n",
       "      <td>Grand Designs</td>\n",
       "      <td>597.55057</td>\n",
       "    </tr>\n",
       "    <tr>\n",
       "      <th>1</th>\n",
       "      <td>1538352025000</td>\n",
       "      <td>98</td>\n",
       "      <td>97</td>\n",
       "      <td>NextSong</td>\n",
       "      <td>Logged In</td>\n",
       "      <td>PUT</td>\n",
       "      <td>200</td>\n",
       "      <td>free</td>\n",
       "      <td>74</td>\n",
       "      <td>Houston-The Woodlands-Sugar Land, TX</td>\n",
       "      <td>\"Mozilla/5.0 (Macintosh; Intel Mac OS X 10_9_4...</td>\n",
       "      <td>Larson</td>\n",
       "      <td>Sawyer</td>\n",
       "      <td>1.538070e+12</td>\n",
       "      <td>M</td>\n",
       "      <td>John Brown's Body</td>\n",
       "      <td>Bulls</td>\n",
       "      <td>380.21179</td>\n",
       "    </tr>\n",
       "    <tr>\n",
       "      <th>2</th>\n",
       "      <td>1538352118000</td>\n",
       "      <td>179</td>\n",
       "      <td>178</td>\n",
       "      <td>NextSong</td>\n",
       "      <td>Logged In</td>\n",
       "      <td>PUT</td>\n",
       "      <td>200</td>\n",
       "      <td>paid</td>\n",
       "      <td>184</td>\n",
       "      <td>Orlando-Kissimmee-Sanford, FL</td>\n",
       "      <td>\"Mozilla/5.0 (Macintosh; Intel Mac OS X 10_9_4...</td>\n",
       "      <td>Santiago</td>\n",
       "      <td>Maverick</td>\n",
       "      <td>1.535953e+12</td>\n",
       "      <td>M</td>\n",
       "      <td>Afroman</td>\n",
       "      <td>Because I Got High</td>\n",
       "      <td>202.37016</td>\n",
       "    </tr>\n",
       "    <tr>\n",
       "      <th>3</th>\n",
       "      <td>1538352119000</td>\n",
       "      <td>179</td>\n",
       "      <td>178</td>\n",
       "      <td>Logout</td>\n",
       "      <td>Logged In</td>\n",
       "      <td>PUT</td>\n",
       "      <td>307</td>\n",
       "      <td>paid</td>\n",
       "      <td>185</td>\n",
       "      <td>Orlando-Kissimmee-Sanford, FL</td>\n",
       "      <td>\"Mozilla/5.0 (Macintosh; Intel Mac OS X 10_9_4...</td>\n",
       "      <td>Santiago</td>\n",
       "      <td>Maverick</td>\n",
       "      <td>1.535953e+12</td>\n",
       "      <td>M</td>\n",
       "      <td>NaN</td>\n",
       "      <td>NaN</td>\n",
       "      <td>NaN</td>\n",
       "    </tr>\n",
       "    <tr>\n",
       "      <th>4</th>\n",
       "      <td>1538352124000</td>\n",
       "      <td>246</td>\n",
       "      <td>245</td>\n",
       "      <td>NextSong</td>\n",
       "      <td>Logged In</td>\n",
       "      <td>PUT</td>\n",
       "      <td>200</td>\n",
       "      <td>paid</td>\n",
       "      <td>22</td>\n",
       "      <td>Mobile, AL</td>\n",
       "      <td>Mozilla/5.0 (Windows NT 6.1; WOW64; rv:31.0) G...</td>\n",
       "      <td>Campos</td>\n",
       "      <td>Gianna</td>\n",
       "      <td>1.535931e+12</td>\n",
       "      <td>F</td>\n",
       "      <td>Lily Allen</td>\n",
       "      <td>Smile (Radio Edit)</td>\n",
       "      <td>194.53342</td>\n",
       "    </tr>\n",
       "  </tbody>\n",
       "</table>\n",
       "</div>"
      ],
      "text/plain": [
       "              ts userId  sessionId      page       auth method  status level  \\\n",
       "0  1538352011000    293        292  NextSong  Logged In    PUT     200  free   \n",
       "1  1538352025000     98         97  NextSong  Logged In    PUT     200  free   \n",
       "2  1538352118000    179        178  NextSong  Logged In    PUT     200  paid   \n",
       "3  1538352119000    179        178    Logout  Logged In    PUT     307  paid   \n",
       "4  1538352124000    246        245  NextSong  Logged In    PUT     200  paid   \n",
       "\n",
       "   itemInSession                              location  \\\n",
       "0             20                    Corpus Christi, TX   \n",
       "1             74  Houston-The Woodlands-Sugar Land, TX   \n",
       "2            184         Orlando-Kissimmee-Sanford, FL   \n",
       "3            185         Orlando-Kissimmee-Sanford, FL   \n",
       "4             22                            Mobile, AL   \n",
       "\n",
       "                                           userAgent  lastName firstName  \\\n",
       "0  \"Mozilla/5.0 (Macintosh; Intel Mac OS X 10_9_4...   Morales    Joseph   \n",
       "1  \"Mozilla/5.0 (Macintosh; Intel Mac OS X 10_9_4...    Larson    Sawyer   \n",
       "2  \"Mozilla/5.0 (Macintosh; Intel Mac OS X 10_9_4...  Santiago  Maverick   \n",
       "3  \"Mozilla/5.0 (Macintosh; Intel Mac OS X 10_9_4...  Santiago  Maverick   \n",
       "4  Mozilla/5.0 (Windows NT 6.1; WOW64; rv:31.0) G...    Campos    Gianna   \n",
       "\n",
       "   registration gender             artist                song     length  \n",
       "0  1.532064e+12      M      Martin Orford       Grand Designs  597.55057  \n",
       "1  1.538070e+12      M  John Brown's Body               Bulls  380.21179  \n",
       "2  1.535953e+12      M            Afroman  Because I Got High  202.37016  \n",
       "3  1.535953e+12      M                NaN                 NaN        NaN  \n",
       "4  1.535931e+12      F         Lily Allen  Smile (Radio Edit)  194.53342  "
      ]
     },
     "execution_count": 3,
     "metadata": {},
     "output_type": "execute_result"
    }
   ],
   "source": [
    "df.head()  "
   ]
  },
  {
   "cell_type": "code",
   "execution_count": 4,
   "metadata": {
    "execution": {
     "iopub.execute_input": "2021-02-01T19:12:14.178375Z",
     "iopub.status.busy": "2021-02-01T19:12:14.159149Z",
     "iopub.status.idle": "2021-02-01T19:12:14.186493Z",
     "shell.execute_reply": "2021-02-01T19:12:14.185818Z"
    },
    "papermill": {
     "duration": 0.130858,
     "end_time": "2021-02-01T19:12:14.186646",
     "exception": false,
     "start_time": "2021-02-01T19:12:14.055788",
     "status": "completed"
    },
    "tags": []
   },
   "outputs": [
    {
     "data": {
      "text/html": [
       "<div>\n",
       "<style scoped>\n",
       "    .dataframe tbody tr th:only-of-type {\n",
       "        vertical-align: middle;\n",
       "    }\n",
       "\n",
       "    .dataframe tbody tr th {\n",
       "        vertical-align: top;\n",
       "    }\n",
       "\n",
       "    .dataframe thead th {\n",
       "        text-align: right;\n",
       "    }\n",
       "</style>\n",
       "<table border=\"1\" class=\"dataframe\">\n",
       "  <thead>\n",
       "    <tr style=\"text-align: right;\">\n",
       "      <th></th>\n",
       "      <th>ts</th>\n",
       "      <th>userId</th>\n",
       "      <th>sessionId</th>\n",
       "      <th>page</th>\n",
       "      <th>auth</th>\n",
       "      <th>method</th>\n",
       "      <th>status</th>\n",
       "      <th>level</th>\n",
       "      <th>itemInSession</th>\n",
       "      <th>location</th>\n",
       "      <th>userAgent</th>\n",
       "      <th>lastName</th>\n",
       "      <th>firstName</th>\n",
       "      <th>registration</th>\n",
       "      <th>gender</th>\n",
       "      <th>artist</th>\n",
       "      <th>song</th>\n",
       "      <th>length</th>\n",
       "    </tr>\n",
       "  </thead>\n",
       "  <tbody>\n",
       "    <tr>\n",
       "      <th>543700</th>\n",
       "      <td>1543622316000</td>\n",
       "      <td>300010</td>\n",
       "      <td>882</td>\n",
       "      <td>NextSong</td>\n",
       "      <td>Logged In</td>\n",
       "      <td>PUT</td>\n",
       "      <td>200</td>\n",
       "      <td>paid</td>\n",
       "      <td>165</td>\n",
       "      <td>Dallas-Fort Worth-Arlington, TX</td>\n",
       "      <td>\"Mozilla/5.0 (Macintosh; Intel Mac OS X 10_9_4...</td>\n",
       "      <td>Jackson</td>\n",
       "      <td>Clayton</td>\n",
       "      <td>1.536850e+12</td>\n",
       "      <td>M</td>\n",
       "      <td>Oliver Onions</td>\n",
       "      <td>Dune Buggy</td>\n",
       "      <td>183.50975</td>\n",
       "    </tr>\n",
       "    <tr>\n",
       "      <th>543701</th>\n",
       "      <td>1543622332000</td>\n",
       "      <td>300049</td>\n",
       "      <td>991</td>\n",
       "      <td>NextSong</td>\n",
       "      <td>Logged In</td>\n",
       "      <td>PUT</td>\n",
       "      <td>200</td>\n",
       "      <td>paid</td>\n",
       "      <td>145</td>\n",
       "      <td>Fresno, CA</td>\n",
       "      <td>\"Mozilla/5.0 (Windows NT 6.1; WOW64) AppleWebK...</td>\n",
       "      <td>Stewart</td>\n",
       "      <td>Daniel</td>\n",
       "      <td>1.537523e+12</td>\n",
       "      <td>M</td>\n",
       "      <td>Sheena Easton</td>\n",
       "      <td>Strut (1993 Digital Remaster)</td>\n",
       "      <td>239.62077</td>\n",
       "    </tr>\n",
       "    <tr>\n",
       "      <th>543702</th>\n",
       "      <td>1543622368000</td>\n",
       "      <td>300039</td>\n",
       "      <td>916</td>\n",
       "      <td>NextSong</td>\n",
       "      <td>Logged In</td>\n",
       "      <td>PUT</td>\n",
       "      <td>200</td>\n",
       "      <td>paid</td>\n",
       "      <td>31</td>\n",
       "      <td>Memphis, TN-MS-AR</td>\n",
       "      <td>\"Mozilla/5.0 (Macintosh; Intel Mac OS X 10_9_4...</td>\n",
       "      <td>Jenkins</td>\n",
       "      <td>Jeremiah</td>\n",
       "      <td>1.536229e+12</td>\n",
       "      <td>M</td>\n",
       "      <td>The White Stripes</td>\n",
       "      <td>Jolene [Live]</td>\n",
       "      <td>234.97098</td>\n",
       "    </tr>\n",
       "    <tr>\n",
       "      <th>543703</th>\n",
       "      <td>1543622392000</td>\n",
       "      <td>300038</td>\n",
       "      <td>966</td>\n",
       "      <td>NextSong</td>\n",
       "      <td>Logged In</td>\n",
       "      <td>PUT</td>\n",
       "      <td>200</td>\n",
       "      <td>paid</td>\n",
       "      <td>36</td>\n",
       "      <td>Lakeland-Winter Haven, FL</td>\n",
       "      <td>\"Mozilla/5.0 (iPhone; CPU iPhone OS 7_1_2 like...</td>\n",
       "      <td>Reed</td>\n",
       "      <td>Aiden</td>\n",
       "      <td>1.535616e+12</td>\n",
       "      <td>M</td>\n",
       "      <td>Hinder</td>\n",
       "      <td>Lips Of An Angel</td>\n",
       "      <td>262.05995</td>\n",
       "    </tr>\n",
       "    <tr>\n",
       "      <th>543704</th>\n",
       "      <td>1543622401000</td>\n",
       "      <td>300015</td>\n",
       "      <td>981</td>\n",
       "      <td>NextSong</td>\n",
       "      <td>Logged In</td>\n",
       "      <td>PUT</td>\n",
       "      <td>200</td>\n",
       "      <td>paid</td>\n",
       "      <td>109</td>\n",
       "      <td>San Antonio-New Braunfels, TX</td>\n",
       "      <td>\"Mozilla/5.0 (iPhone; CPU iPhone OS 7_1_2 like...</td>\n",
       "      <td>White</td>\n",
       "      <td>Joshua</td>\n",
       "      <td>1.528781e+12</td>\n",
       "      <td>M</td>\n",
       "      <td>Jack Johnson</td>\n",
       "      <td>Do You Remember</td>\n",
       "      <td>144.06485</td>\n",
       "    </tr>\n",
       "  </tbody>\n",
       "</table>\n",
       "</div>"
      ],
      "text/plain": [
       "                   ts  userId  sessionId      page       auth method  status  \\\n",
       "543700  1543622316000  300010        882  NextSong  Logged In    PUT     200   \n",
       "543701  1543622332000  300049        991  NextSong  Logged In    PUT     200   \n",
       "543702  1543622368000  300039        916  NextSong  Logged In    PUT     200   \n",
       "543703  1543622392000  300038        966  NextSong  Logged In    PUT     200   \n",
       "543704  1543622401000  300015        981  NextSong  Logged In    PUT     200   \n",
       "\n",
       "       level  itemInSession                         location  \\\n",
       "543700  paid            165  Dallas-Fort Worth-Arlington, TX   \n",
       "543701  paid            145                       Fresno, CA   \n",
       "543702  paid             31                Memphis, TN-MS-AR   \n",
       "543703  paid             36        Lakeland-Winter Haven, FL   \n",
       "543704  paid            109    San Antonio-New Braunfels, TX   \n",
       "\n",
       "                                                userAgent lastName firstName  \\\n",
       "543700  \"Mozilla/5.0 (Macintosh; Intel Mac OS X 10_9_4...  Jackson   Clayton   \n",
       "543701  \"Mozilla/5.0 (Windows NT 6.1; WOW64) AppleWebK...  Stewart    Daniel   \n",
       "543702  \"Mozilla/5.0 (Macintosh; Intel Mac OS X 10_9_4...  Jenkins  Jeremiah   \n",
       "543703  \"Mozilla/5.0 (iPhone; CPU iPhone OS 7_1_2 like...     Reed     Aiden   \n",
       "543704  \"Mozilla/5.0 (iPhone; CPU iPhone OS 7_1_2 like...    White    Joshua   \n",
       "\n",
       "        registration gender             artist                           song  \\\n",
       "543700  1.536850e+12      M      Oliver Onions                     Dune Buggy   \n",
       "543701  1.537523e+12      M      Sheena Easton  Strut (1993 Digital Remaster)   \n",
       "543702  1.536229e+12      M  The White Stripes                  Jolene [Live]   \n",
       "543703  1.535616e+12      M             Hinder               Lips Of An Angel   \n",
       "543704  1.528781e+12      M       Jack Johnson                Do You Remember   \n",
       "\n",
       "           length  \n",
       "543700  183.50975  \n",
       "543701  239.62077  \n",
       "543702  234.97098  \n",
       "543703  262.05995  \n",
       "543704  144.06485  "
      ]
     },
     "execution_count": 4,
     "metadata": {},
     "output_type": "execute_result"
    }
   ],
   "source": [
    "df.tail()"
   ]
  },
  {
   "cell_type": "code",
   "execution_count": 5,
   "metadata": {
    "execution": {
     "iopub.execute_input": "2021-02-01T19:12:14.384786Z",
     "iopub.status.busy": "2021-02-01T19:12:14.383638Z",
     "iopub.status.idle": "2021-02-01T19:12:14.389117Z",
     "shell.execute_reply": "2021-02-01T19:12:14.388394Z"
    },
    "papermill": {
     "duration": 0.108761,
     "end_time": "2021-02-01T19:12:14.389268",
     "exception": false,
     "start_time": "2021-02-01T19:12:14.280507",
     "status": "completed"
    },
    "tags": []
   },
   "outputs": [
    {
     "data": {
      "text/plain": [
       "(543705, 18)"
      ]
     },
     "execution_count": 5,
     "metadata": {},
     "output_type": "execute_result"
    }
   ],
   "source": [
    "df.shape"
   ]
  },
  {
   "cell_type": "code",
   "execution_count": 6,
   "metadata": {
    "execution": {
     "iopub.execute_input": "2021-02-01T19:12:14.583536Z",
     "iopub.status.busy": "2021-02-01T19:12:14.582687Z",
     "iopub.status.idle": "2021-02-01T19:12:15.838211Z",
     "shell.execute_reply": "2021-02-01T19:12:15.836859Z"
    },
    "papermill": {
     "duration": 1.356756,
     "end_time": "2021-02-01T19:12:15.838436",
     "exception": false,
     "start_time": "2021-02-01T19:12:14.481680",
     "status": "completed"
    },
    "tags": []
   },
   "outputs": [
    {
     "name": "stdout",
     "output_type": "stream",
     "text": [
      "<class 'pandas.core.frame.DataFrame'>\n",
      "RangeIndex: 543705 entries, 0 to 543704\n",
      "Data columns (total 18 columns):\n",
      " #   Column         Non-Null Count   Dtype  \n",
      "---  ------         --------------   -----  \n",
      " 0   ts             543705 non-null  int64  \n",
      " 1   userId         543705 non-null  object \n",
      " 2   sessionId      543705 non-null  int64  \n",
      " 3   page           543705 non-null  object \n",
      " 4   auth           543705 non-null  object \n",
      " 5   method         543705 non-null  object \n",
      " 6   status         543705 non-null  int64  \n",
      " 7   level          543705 non-null  object \n",
      " 8   itemInSession  543705 non-null  int64  \n",
      " 9   location       528005 non-null  object \n",
      " 10  userAgent      528005 non-null  object \n",
      " 11  lastName       528005 non-null  object \n",
      " 12  firstName      528005 non-null  object \n",
      " 13  registration   528005 non-null  float64\n",
      " 14  gender         528005 non-null  object \n",
      " 15  artist         432877 non-null  object \n",
      " 16  song           432877 non-null  object \n",
      " 17  length         432877 non-null  float64\n",
      "dtypes: float64(2), int64(4), object(12)\n",
      "memory usage: 74.7+ MB\n"
     ]
    }
   ],
   "source": [
    "df.info()"
   ]
  },
  {
   "cell_type": "code",
   "execution_count": 7,
   "metadata": {
    "execution": {
     "iopub.execute_input": "2021-02-01T19:12:16.043000Z",
     "iopub.status.busy": "2021-02-01T19:12:16.032428Z",
     "iopub.status.idle": "2021-02-01T19:12:16.192125Z",
     "shell.execute_reply": "2021-02-01T19:12:16.191415Z"
    },
    "papermill": {
     "duration": 0.259934,
     "end_time": "2021-02-01T19:12:16.192269",
     "exception": false,
     "start_time": "2021-02-01T19:12:15.932335",
     "status": "completed"
    },
    "tags": []
   },
   "outputs": [
    {
     "data": {
      "text/html": [
       "<div>\n",
       "<style scoped>\n",
       "    .dataframe tbody tr th:only-of-type {\n",
       "        vertical-align: middle;\n",
       "    }\n",
       "\n",
       "    .dataframe tbody tr th {\n",
       "        vertical-align: top;\n",
       "    }\n",
       "\n",
       "    .dataframe thead th {\n",
       "        text-align: right;\n",
       "    }\n",
       "</style>\n",
       "<table border=\"1\" class=\"dataframe\">\n",
       "  <thead>\n",
       "    <tr style=\"text-align: right;\">\n",
       "      <th></th>\n",
       "      <th>ts</th>\n",
       "      <th>sessionId</th>\n",
       "      <th>status</th>\n",
       "      <th>itemInSession</th>\n",
       "      <th>registration</th>\n",
       "      <th>length</th>\n",
       "    </tr>\n",
       "  </thead>\n",
       "  <tbody>\n",
       "    <tr>\n",
       "      <th>count</th>\n",
       "      <td>5.437050e+05</td>\n",
       "      <td>543705.000000</td>\n",
       "      <td>543705.000000</td>\n",
       "      <td>543705.000000</td>\n",
       "      <td>5.280050e+05</td>\n",
       "      <td>432877.000000</td>\n",
       "    </tr>\n",
       "    <tr>\n",
       "      <th>mean</th>\n",
       "      <td>1.540965e+12</td>\n",
       "      <td>2040.814353</td>\n",
       "      <td>210.018291</td>\n",
       "      <td>107.306291</td>\n",
       "      <td>1.535523e+12</td>\n",
       "      <td>248.664593</td>\n",
       "    </tr>\n",
       "    <tr>\n",
       "      <th>std</th>\n",
       "      <td>1.482057e+09</td>\n",
       "      <td>1434.338931</td>\n",
       "      <td>31.471919</td>\n",
       "      <td>116.723508</td>\n",
       "      <td>3.078725e+09</td>\n",
       "      <td>98.412670</td>\n",
       "    </tr>\n",
       "    <tr>\n",
       "      <th>min</th>\n",
       "      <td>1.538352e+12</td>\n",
       "      <td>1.000000</td>\n",
       "      <td>200.000000</td>\n",
       "      <td>0.000000</td>\n",
       "      <td>1.509854e+12</td>\n",
       "      <td>0.783220</td>\n",
       "    </tr>\n",
       "    <tr>\n",
       "      <th>25%</th>\n",
       "      <td>1.539720e+12</td>\n",
       "      <td>630.000000</td>\n",
       "      <td>200.000000</td>\n",
       "      <td>26.000000</td>\n",
       "      <td>1.534368e+12</td>\n",
       "      <td>199.392200</td>\n",
       "    </tr>\n",
       "    <tr>\n",
       "      <th>50%</th>\n",
       "      <td>1.541005e+12</td>\n",
       "      <td>1968.000000</td>\n",
       "      <td>200.000000</td>\n",
       "      <td>68.000000</td>\n",
       "      <td>1.536556e+12</td>\n",
       "      <td>234.004440</td>\n",
       "    </tr>\n",
       "    <tr>\n",
       "      <th>75%</th>\n",
       "      <td>1.542177e+12</td>\n",
       "      <td>3307.000000</td>\n",
       "      <td>200.000000</td>\n",
       "      <td>147.000000</td>\n",
       "      <td>1.537612e+12</td>\n",
       "      <td>276.793020</td>\n",
       "    </tr>\n",
       "    <tr>\n",
       "      <th>max</th>\n",
       "      <td>1.543622e+12</td>\n",
       "      <td>4808.000000</td>\n",
       "      <td>404.000000</td>\n",
       "      <td>1005.000000</td>\n",
       "      <td>1.543074e+12</td>\n",
       "      <td>3024.665670</td>\n",
       "    </tr>\n",
       "  </tbody>\n",
       "</table>\n",
       "</div>"
      ],
      "text/plain": [
       "                 ts      sessionId         status  itemInSession  \\\n",
       "count  5.437050e+05  543705.000000  543705.000000  543705.000000   \n",
       "mean   1.540965e+12    2040.814353     210.018291     107.306291   \n",
       "std    1.482057e+09    1434.338931      31.471919     116.723508   \n",
       "min    1.538352e+12       1.000000     200.000000       0.000000   \n",
       "25%    1.539720e+12     630.000000     200.000000      26.000000   \n",
       "50%    1.541005e+12    1968.000000     200.000000      68.000000   \n",
       "75%    1.542177e+12    3307.000000     200.000000     147.000000   \n",
       "max    1.543622e+12    4808.000000     404.000000    1005.000000   \n",
       "\n",
       "       registration         length  \n",
       "count  5.280050e+05  432877.000000  \n",
       "mean   1.535523e+12     248.664593  \n",
       "std    3.078725e+09      98.412670  \n",
       "min    1.509854e+12       0.783220  \n",
       "25%    1.534368e+12     199.392200  \n",
       "50%    1.536556e+12     234.004440  \n",
       "75%    1.537612e+12     276.793020  \n",
       "max    1.543074e+12    3024.665670  "
      ]
     },
     "execution_count": 7,
     "metadata": {},
     "output_type": "execute_result"
    }
   ],
   "source": [
    "# this is aggregate of all columns that hold numerical values regardless of some being discrete (sessionId)\n",
    "df.describe()"
   ]
  },
  {
   "cell_type": "code",
   "execution_count": 8,
   "metadata": {
    "execution": {
     "iopub.execute_input": "2021-02-01T19:12:16.386281Z",
     "iopub.status.busy": "2021-02-01T19:12:16.385456Z",
     "iopub.status.idle": "2021-02-01T19:12:18.781976Z",
     "shell.execute_reply": "2021-02-01T19:12:18.781279Z"
    },
    "papermill": {
     "duration": 2.495495,
     "end_time": "2021-02-01T19:12:18.782123",
     "exception": false,
     "start_time": "2021-02-01T19:12:16.286628",
     "status": "completed"
    },
    "tags": []
   },
   "outputs": [
    {
     "data": {
      "text/plain": [
       "ts               513108\n",
       "userId              449\n",
       "sessionId          4590\n",
       "page                 22\n",
       "auth                  4\n",
       "method                2\n",
       "status                3\n",
       "level                 2\n",
       "itemInSession      1006\n",
       "location            192\n",
       "userAgent            71\n",
       "lastName            275\n",
       "firstName           345\n",
       "registration        448\n",
       "gender                2\n",
       "artist            21247\n",
       "song              80292\n",
       "length            16679\n",
       "dtype: int64"
      ]
     },
     "execution_count": 8,
     "metadata": {},
     "output_type": "execute_result"
    }
   ],
   "source": [
    "# number of unique values per feature\n",
    "df.nunique()"
   ]
  },
  {
   "cell_type": "markdown",
   "metadata": {
    "papermill": {
     "duration": 0.094734,
     "end_time": "2021-02-01T19:12:18.972030",
     "exception": false,
     "start_time": "2021-02-01T19:12:18.877296",
     "status": "completed"
    },
    "tags": []
   },
   "source": [
    "## Target column\n",
    "\n",
    "Page column would have the information that is most pertinent to customer journey. Also, it has the specific page that would inform us whether or not a user churned. That page is called \"Cancellation Confirmation\"."
   ]
  },
  {
   "cell_type": "code",
   "execution_count": 9,
   "metadata": {
    "execution": {
     "iopub.execute_input": "2021-02-01T19:12:19.441552Z",
     "iopub.status.busy": "2021-02-01T19:12:19.440791Z",
     "iopub.status.idle": "2021-02-01T19:12:19.452376Z",
     "shell.execute_reply": "2021-02-01T19:12:19.451703Z"
    },
    "papermill": {
     "duration": 0.383431,
     "end_time": "2021-02-01T19:12:19.452529",
     "exception": false,
     "start_time": "2021-02-01T19:12:19.069098",
     "status": "completed"
    },
    "tags": []
   },
   "outputs": [
    {
     "data": {
      "text/plain": [
       "NextSong                     432877\n",
       "Home                          27412\n",
       "Thumbs Up                     23826\n",
       "Add to Playlist               12349\n",
       "Add Friend                     8087\n",
       "Roll Advert                    7773\n",
       "Login                          6011\n",
       "Logout                         5990\n",
       "Thumbs Down                    4911\n",
       "Downgrade                      3811\n",
       "Help                           3150\n",
       "Settings                       2964\n",
       "About                          1855\n",
       "Upgrade                         968\n",
       "Save Settings                   585\n",
       "Error                           519\n",
       "Submit Upgrade                  287\n",
       "Submit Downgrade                117\n",
       "Cancel                           99\n",
       "Cancellation Confirmation        99\n",
       "Register                         11\n",
       "Submit Registration               4\n",
       "Name: page, dtype: int64"
      ]
     },
     "execution_count": 9,
     "metadata": {},
     "output_type": "execute_result"
    }
   ],
   "source": [
    "df.page.value_counts()"
   ]
  },
  {
   "cell_type": "markdown",
   "metadata": {
    "papermill": {
     "duration": 0.096637,
     "end_time": "2021-02-01T19:12:19.644640",
     "exception": false,
     "start_time": "2021-02-01T19:12:19.548003",
     "status": "completed"
    },
    "tags": []
   },
   "source": [
    "## Customer Journey"
   ]
  },
  {
   "cell_type": "code",
   "execution_count": 10,
   "metadata": {
    "execution": {
     "iopub.execute_input": "2021-02-01T19:12:20.128039Z",
     "iopub.status.busy": "2021-02-01T19:12:20.124198Z",
     "iopub.status.idle": "2021-02-01T19:12:20.133528Z",
     "shell.execute_reply": "2021-02-01T19:12:20.132737Z"
    },
    "papermill": {
     "duration": 0.39211,
     "end_time": "2021-02-01T19:12:20.133667",
     "exception": false,
     "start_time": "2021-02-01T19:12:19.741557",
     "status": "completed"
    },
    "tags": []
   },
   "outputs": [
    {
     "data": {
      "text/plain": [
       "Logged In     527906\n",
       "Logged Out     15606\n",
       "Cancelled         99\n",
       "Guest             94\n",
       "Name: auth, dtype: int64"
      ]
     },
     "execution_count": 10,
     "metadata": {},
     "output_type": "execute_result"
    }
   ],
   "source": [
    "df.auth.value_counts()"
   ]
  },
  {
   "cell_type": "code",
   "execution_count": 11,
   "metadata": {
    "execution": {
     "iopub.execute_input": "2021-02-01T19:12:20.478244Z",
     "iopub.status.busy": "2021-02-01T19:12:20.476782Z",
     "iopub.status.idle": "2021-02-01T19:12:20.802378Z",
     "shell.execute_reply": "2021-02-01T19:12:20.801733Z"
    },
    "papermill": {
     "duration": 0.573165,
     "end_time": "2021-02-01T19:12:20.802509",
     "exception": false,
     "start_time": "2021-02-01T19:12:20.229344",
     "status": "completed"
    },
    "tags": []
   },
   "outputs": [
    {
     "data": {
      "text/html": [
       "<div>\n",
       "<style scoped>\n",
       "    .dataframe tbody tr th:only-of-type {\n",
       "        vertical-align: middle;\n",
       "    }\n",
       "\n",
       "    .dataframe tbody tr th {\n",
       "        vertical-align: top;\n",
       "    }\n",
       "\n",
       "    .dataframe thead th {\n",
       "        text-align: right;\n",
       "    }\n",
       "</style>\n",
       "<table border=\"1\" class=\"dataframe\">\n",
       "  <thead>\n",
       "    <tr style=\"text-align: right;\">\n",
       "      <th></th>\n",
       "      <th>ts</th>\n",
       "      <th>userId</th>\n",
       "      <th>sessionId</th>\n",
       "      <th>page</th>\n",
       "      <th>auth</th>\n",
       "      <th>method</th>\n",
       "      <th>status</th>\n",
       "      <th>level</th>\n",
       "      <th>itemInSession</th>\n",
       "      <th>location</th>\n",
       "      <th>userAgent</th>\n",
       "      <th>lastName</th>\n",
       "      <th>firstName</th>\n",
       "      <th>registration</th>\n",
       "      <th>gender</th>\n",
       "      <th>artist</th>\n",
       "      <th>song</th>\n",
       "      <th>length</th>\n",
       "    </tr>\n",
       "  </thead>\n",
       "  <tbody>\n",
       "    <tr>\n",
       "      <th>0</th>\n",
       "      <td>1538352011000</td>\n",
       "      <td>293</td>\n",
       "      <td>292</td>\n",
       "      <td>NextSong</td>\n",
       "      <td>Logged In</td>\n",
       "      <td>PUT</td>\n",
       "      <td>200</td>\n",
       "      <td>free</td>\n",
       "      <td>20</td>\n",
       "      <td>Corpus Christi, TX</td>\n",
       "      <td>\"Mozilla/5.0 (Macintosh; Intel Mac OS X 10_9_4...</td>\n",
       "      <td>Morales</td>\n",
       "      <td>Joseph</td>\n",
       "      <td>1.532064e+12</td>\n",
       "      <td>M</td>\n",
       "      <td>Martin Orford</td>\n",
       "      <td>Grand Designs</td>\n",
       "      <td>597.55057</td>\n",
       "    </tr>\n",
       "    <tr>\n",
       "      <th>1</th>\n",
       "      <td>1538352025000</td>\n",
       "      <td>98</td>\n",
       "      <td>97</td>\n",
       "      <td>NextSong</td>\n",
       "      <td>Logged In</td>\n",
       "      <td>PUT</td>\n",
       "      <td>200</td>\n",
       "      <td>free</td>\n",
       "      <td>74</td>\n",
       "      <td>Houston-The Woodlands-Sugar Land, TX</td>\n",
       "      <td>\"Mozilla/5.0 (Macintosh; Intel Mac OS X 10_9_4...</td>\n",
       "      <td>Larson</td>\n",
       "      <td>Sawyer</td>\n",
       "      <td>1.538070e+12</td>\n",
       "      <td>M</td>\n",
       "      <td>John Brown's Body</td>\n",
       "      <td>Bulls</td>\n",
       "      <td>380.21179</td>\n",
       "    </tr>\n",
       "    <tr>\n",
       "      <th>2</th>\n",
       "      <td>1538352118000</td>\n",
       "      <td>179</td>\n",
       "      <td>178</td>\n",
       "      <td>NextSong</td>\n",
       "      <td>Logged In</td>\n",
       "      <td>PUT</td>\n",
       "      <td>200</td>\n",
       "      <td>paid</td>\n",
       "      <td>184</td>\n",
       "      <td>Orlando-Kissimmee-Sanford, FL</td>\n",
       "      <td>\"Mozilla/5.0 (Macintosh; Intel Mac OS X 10_9_4...</td>\n",
       "      <td>Santiago</td>\n",
       "      <td>Maverick</td>\n",
       "      <td>1.535953e+12</td>\n",
       "      <td>M</td>\n",
       "      <td>Afroman</td>\n",
       "      <td>Because I Got High</td>\n",
       "      <td>202.37016</td>\n",
       "    </tr>\n",
       "    <tr>\n",
       "      <th>3</th>\n",
       "      <td>1538352119000</td>\n",
       "      <td>179</td>\n",
       "      <td>178</td>\n",
       "      <td>Logout</td>\n",
       "      <td>Logged In</td>\n",
       "      <td>PUT</td>\n",
       "      <td>307</td>\n",
       "      <td>paid</td>\n",
       "      <td>185</td>\n",
       "      <td>Orlando-Kissimmee-Sanford, FL</td>\n",
       "      <td>\"Mozilla/5.0 (Macintosh; Intel Mac OS X 10_9_4...</td>\n",
       "      <td>Santiago</td>\n",
       "      <td>Maverick</td>\n",
       "      <td>1.535953e+12</td>\n",
       "      <td>M</td>\n",
       "      <td>NaN</td>\n",
       "      <td>NaN</td>\n",
       "      <td>NaN</td>\n",
       "    </tr>\n",
       "    <tr>\n",
       "      <th>4</th>\n",
       "      <td>1538352124000</td>\n",
       "      <td>246</td>\n",
       "      <td>245</td>\n",
       "      <td>NextSong</td>\n",
       "      <td>Logged In</td>\n",
       "      <td>PUT</td>\n",
       "      <td>200</td>\n",
       "      <td>paid</td>\n",
       "      <td>22</td>\n",
       "      <td>Mobile, AL</td>\n",
       "      <td>Mozilla/5.0 (Windows NT 6.1; WOW64; rv:31.0) G...</td>\n",
       "      <td>Campos</td>\n",
       "      <td>Gianna</td>\n",
       "      <td>1.535931e+12</td>\n",
       "      <td>F</td>\n",
       "      <td>Lily Allen</td>\n",
       "      <td>Smile (Radio Edit)</td>\n",
       "      <td>194.53342</td>\n",
       "    </tr>\n",
       "    <tr>\n",
       "      <th>...</th>\n",
       "      <td>...</td>\n",
       "      <td>...</td>\n",
       "      <td>...</td>\n",
       "      <td>...</td>\n",
       "      <td>...</td>\n",
       "      <td>...</td>\n",
       "      <td>...</td>\n",
       "      <td>...</td>\n",
       "      <td>...</td>\n",
       "      <td>...</td>\n",
       "      <td>...</td>\n",
       "      <td>...</td>\n",
       "      <td>...</td>\n",
       "      <td>...</td>\n",
       "      <td>...</td>\n",
       "      <td>...</td>\n",
       "      <td>...</td>\n",
       "      <td>...</td>\n",
       "    </tr>\n",
       "    <tr>\n",
       "      <th>543700</th>\n",
       "      <td>1543622316000</td>\n",
       "      <td>300010</td>\n",
       "      <td>882</td>\n",
       "      <td>NextSong</td>\n",
       "      <td>Logged In</td>\n",
       "      <td>PUT</td>\n",
       "      <td>200</td>\n",
       "      <td>paid</td>\n",
       "      <td>165</td>\n",
       "      <td>Dallas-Fort Worth-Arlington, TX</td>\n",
       "      <td>\"Mozilla/5.0 (Macintosh; Intel Mac OS X 10_9_4...</td>\n",
       "      <td>Jackson</td>\n",
       "      <td>Clayton</td>\n",
       "      <td>1.536850e+12</td>\n",
       "      <td>M</td>\n",
       "      <td>Oliver Onions</td>\n",
       "      <td>Dune Buggy</td>\n",
       "      <td>183.50975</td>\n",
       "    </tr>\n",
       "    <tr>\n",
       "      <th>543701</th>\n",
       "      <td>1543622332000</td>\n",
       "      <td>300049</td>\n",
       "      <td>991</td>\n",
       "      <td>NextSong</td>\n",
       "      <td>Logged In</td>\n",
       "      <td>PUT</td>\n",
       "      <td>200</td>\n",
       "      <td>paid</td>\n",
       "      <td>145</td>\n",
       "      <td>Fresno, CA</td>\n",
       "      <td>\"Mozilla/5.0 (Windows NT 6.1; WOW64) AppleWebK...</td>\n",
       "      <td>Stewart</td>\n",
       "      <td>Daniel</td>\n",
       "      <td>1.537523e+12</td>\n",
       "      <td>M</td>\n",
       "      <td>Sheena Easton</td>\n",
       "      <td>Strut (1993 Digital Remaster)</td>\n",
       "      <td>239.62077</td>\n",
       "    </tr>\n",
       "    <tr>\n",
       "      <th>543702</th>\n",
       "      <td>1543622368000</td>\n",
       "      <td>300039</td>\n",
       "      <td>916</td>\n",
       "      <td>NextSong</td>\n",
       "      <td>Logged In</td>\n",
       "      <td>PUT</td>\n",
       "      <td>200</td>\n",
       "      <td>paid</td>\n",
       "      <td>31</td>\n",
       "      <td>Memphis, TN-MS-AR</td>\n",
       "      <td>\"Mozilla/5.0 (Macintosh; Intel Mac OS X 10_9_4...</td>\n",
       "      <td>Jenkins</td>\n",
       "      <td>Jeremiah</td>\n",
       "      <td>1.536229e+12</td>\n",
       "      <td>M</td>\n",
       "      <td>The White Stripes</td>\n",
       "      <td>Jolene [Live]</td>\n",
       "      <td>234.97098</td>\n",
       "    </tr>\n",
       "    <tr>\n",
       "      <th>543703</th>\n",
       "      <td>1543622392000</td>\n",
       "      <td>300038</td>\n",
       "      <td>966</td>\n",
       "      <td>NextSong</td>\n",
       "      <td>Logged In</td>\n",
       "      <td>PUT</td>\n",
       "      <td>200</td>\n",
       "      <td>paid</td>\n",
       "      <td>36</td>\n",
       "      <td>Lakeland-Winter Haven, FL</td>\n",
       "      <td>\"Mozilla/5.0 (iPhone; CPU iPhone OS 7_1_2 like...</td>\n",
       "      <td>Reed</td>\n",
       "      <td>Aiden</td>\n",
       "      <td>1.535616e+12</td>\n",
       "      <td>M</td>\n",
       "      <td>Hinder</td>\n",
       "      <td>Lips Of An Angel</td>\n",
       "      <td>262.05995</td>\n",
       "    </tr>\n",
       "    <tr>\n",
       "      <th>543704</th>\n",
       "      <td>1543622401000</td>\n",
       "      <td>300015</td>\n",
       "      <td>981</td>\n",
       "      <td>NextSong</td>\n",
       "      <td>Logged In</td>\n",
       "      <td>PUT</td>\n",
       "      <td>200</td>\n",
       "      <td>paid</td>\n",
       "      <td>109</td>\n",
       "      <td>San Antonio-New Braunfels, TX</td>\n",
       "      <td>\"Mozilla/5.0 (iPhone; CPU iPhone OS 7_1_2 like...</td>\n",
       "      <td>White</td>\n",
       "      <td>Joshua</td>\n",
       "      <td>1.528781e+12</td>\n",
       "      <td>M</td>\n",
       "      <td>Jack Johnson</td>\n",
       "      <td>Do You Remember</td>\n",
       "      <td>144.06485</td>\n",
       "    </tr>\n",
       "  </tbody>\n",
       "</table>\n",
       "<p>527906 rows × 18 columns</p>\n",
       "</div>"
      ],
      "text/plain": [
       "                   ts  userId  sessionId      page       auth method  status  \\\n",
       "0       1538352011000     293        292  NextSong  Logged In    PUT     200   \n",
       "1       1538352025000      98         97  NextSong  Logged In    PUT     200   \n",
       "2       1538352118000     179        178  NextSong  Logged In    PUT     200   \n",
       "3       1538352119000     179        178    Logout  Logged In    PUT     307   \n",
       "4       1538352124000     246        245  NextSong  Logged In    PUT     200   \n",
       "...               ...     ...        ...       ...        ...    ...     ...   \n",
       "543700  1543622316000  300010        882  NextSong  Logged In    PUT     200   \n",
       "543701  1543622332000  300049        991  NextSong  Logged In    PUT     200   \n",
       "543702  1543622368000  300039        916  NextSong  Logged In    PUT     200   \n",
       "543703  1543622392000  300038        966  NextSong  Logged In    PUT     200   \n",
       "543704  1543622401000  300015        981  NextSong  Logged In    PUT     200   \n",
       "\n",
       "       level  itemInSession                              location  \\\n",
       "0       free             20                    Corpus Christi, TX   \n",
       "1       free             74  Houston-The Woodlands-Sugar Land, TX   \n",
       "2       paid            184         Orlando-Kissimmee-Sanford, FL   \n",
       "3       paid            185         Orlando-Kissimmee-Sanford, FL   \n",
       "4       paid             22                            Mobile, AL   \n",
       "...      ...            ...                                   ...   \n",
       "543700  paid            165       Dallas-Fort Worth-Arlington, TX   \n",
       "543701  paid            145                            Fresno, CA   \n",
       "543702  paid             31                     Memphis, TN-MS-AR   \n",
       "543703  paid             36             Lakeland-Winter Haven, FL   \n",
       "543704  paid            109         San Antonio-New Braunfels, TX   \n",
       "\n",
       "                                                userAgent  lastName firstName  \\\n",
       "0       \"Mozilla/5.0 (Macintosh; Intel Mac OS X 10_9_4...   Morales    Joseph   \n",
       "1       \"Mozilla/5.0 (Macintosh; Intel Mac OS X 10_9_4...    Larson    Sawyer   \n",
       "2       \"Mozilla/5.0 (Macintosh; Intel Mac OS X 10_9_4...  Santiago  Maverick   \n",
       "3       \"Mozilla/5.0 (Macintosh; Intel Mac OS X 10_9_4...  Santiago  Maverick   \n",
       "4       Mozilla/5.0 (Windows NT 6.1; WOW64; rv:31.0) G...    Campos    Gianna   \n",
       "...                                                   ...       ...       ...   \n",
       "543700  \"Mozilla/5.0 (Macintosh; Intel Mac OS X 10_9_4...   Jackson   Clayton   \n",
       "543701  \"Mozilla/5.0 (Windows NT 6.1; WOW64) AppleWebK...   Stewart    Daniel   \n",
       "543702  \"Mozilla/5.0 (Macintosh; Intel Mac OS X 10_9_4...   Jenkins  Jeremiah   \n",
       "543703  \"Mozilla/5.0 (iPhone; CPU iPhone OS 7_1_2 like...      Reed     Aiden   \n",
       "543704  \"Mozilla/5.0 (iPhone; CPU iPhone OS 7_1_2 like...     White    Joshua   \n",
       "\n",
       "        registration gender             artist                           song  \\\n",
       "0       1.532064e+12      M      Martin Orford                  Grand Designs   \n",
       "1       1.538070e+12      M  John Brown's Body                          Bulls   \n",
       "2       1.535953e+12      M            Afroman             Because I Got High   \n",
       "3       1.535953e+12      M                NaN                            NaN   \n",
       "4       1.535931e+12      F         Lily Allen             Smile (Radio Edit)   \n",
       "...              ...    ...                ...                            ...   \n",
       "543700  1.536850e+12      M      Oliver Onions                     Dune Buggy   \n",
       "543701  1.537523e+12      M      Sheena Easton  Strut (1993 Digital Remaster)   \n",
       "543702  1.536229e+12      M  The White Stripes                  Jolene [Live]   \n",
       "543703  1.535616e+12      M             Hinder               Lips Of An Angel   \n",
       "543704  1.528781e+12      M       Jack Johnson                Do You Remember   \n",
       "\n",
       "           length  \n",
       "0       597.55057  \n",
       "1       380.21179  \n",
       "2       202.37016  \n",
       "3             NaN  \n",
       "4       194.53342  \n",
       "...           ...  \n",
       "543700  183.50975  \n",
       "543701  239.62077  \n",
       "543702  234.97098  \n",
       "543703  262.05995  \n",
       "543704  144.06485  \n",
       "\n",
       "[527906 rows x 18 columns]"
      ]
     },
     "execution_count": 11,
     "metadata": {},
     "output_type": "execute_result"
    }
   ],
   "source": [
    "df.loc[df['auth'] == 'Logged In']"
   ]
  },
  {
   "cell_type": "code",
   "execution_count": 12,
   "metadata": {
    "execution": {
     "iopub.execute_input": "2021-02-01T19:12:21.152487Z",
     "iopub.status.busy": "2021-02-01T19:12:21.151153Z",
     "iopub.status.idle": "2021-02-01T19:12:21.643086Z",
     "shell.execute_reply": "2021-02-01T19:12:21.642469Z"
    },
    "papermill": {
     "duration": 0.743152,
     "end_time": "2021-02-01T19:12:21.643228",
     "exception": false,
     "start_time": "2021-02-01T19:12:20.900076",
     "status": "completed"
    },
    "tags": []
   },
   "outputs": [
    {
     "data": {
      "text/html": [
       "<div>\n",
       "<style scoped>\n",
       "    .dataframe tbody tr th:only-of-type {\n",
       "        vertical-align: middle;\n",
       "    }\n",
       "\n",
       "    .dataframe tbody tr th {\n",
       "        vertical-align: top;\n",
       "    }\n",
       "\n",
       "    .dataframe thead th {\n",
       "        text-align: right;\n",
       "    }\n",
       "</style>\n",
       "<table border=\"1\" class=\"dataframe\">\n",
       "  <thead>\n",
       "    <tr style=\"text-align: right;\">\n",
       "      <th></th>\n",
       "      <th>ts</th>\n",
       "      <th>userId</th>\n",
       "      <th>sessionId</th>\n",
       "      <th>page</th>\n",
       "      <th>auth</th>\n",
       "      <th>method</th>\n",
       "      <th>status</th>\n",
       "      <th>level</th>\n",
       "      <th>itemInSession</th>\n",
       "      <th>location</th>\n",
       "      <th>userAgent</th>\n",
       "      <th>lastName</th>\n",
       "      <th>firstName</th>\n",
       "      <th>registration</th>\n",
       "      <th>gender</th>\n",
       "      <th>artist</th>\n",
       "      <th>song</th>\n",
       "      <th>length</th>\n",
       "    </tr>\n",
       "  </thead>\n",
       "  <tbody>\n",
       "    <tr>\n",
       "      <th>3</th>\n",
       "      <td>1538352119000</td>\n",
       "      <td>179</td>\n",
       "      <td>178</td>\n",
       "      <td>Logout</td>\n",
       "      <td>Logged In</td>\n",
       "      <td>PUT</td>\n",
       "      <td>307</td>\n",
       "      <td>paid</td>\n",
       "      <td>185</td>\n",
       "      <td>Orlando-Kissimmee-Sanford, FL</td>\n",
       "      <td>\"Mozilla/5.0 (Macintosh; Intel Mac OS X 10_9_4...</td>\n",
       "      <td>Santiago</td>\n",
       "      <td>Maverick</td>\n",
       "      <td>1.535953e+12</td>\n",
       "      <td>M</td>\n",
       "      <td>NaN</td>\n",
       "      <td>NaN</td>\n",
       "      <td>NaN</td>\n",
       "    </tr>\n",
       "    <tr>\n",
       "      <th>10</th>\n",
       "      <td>1538352176000</td>\n",
       "      <td>179</td>\n",
       "      <td>178</td>\n",
       "      <td>Home</td>\n",
       "      <td>Logged In</td>\n",
       "      <td>GET</td>\n",
       "      <td>200</td>\n",
       "      <td>paid</td>\n",
       "      <td>190</td>\n",
       "      <td>Orlando-Kissimmee-Sanford, FL</td>\n",
       "      <td>\"Mozilla/5.0 (Macintosh; Intel Mac OS X 10_9_4...</td>\n",
       "      <td>Santiago</td>\n",
       "      <td>Maverick</td>\n",
       "      <td>1.535953e+12</td>\n",
       "      <td>M</td>\n",
       "      <td>NaN</td>\n",
       "      <td>NaN</td>\n",
       "      <td>NaN</td>\n",
       "    </tr>\n",
       "    <tr>\n",
       "      <th>12</th>\n",
       "      <td>1538352241000</td>\n",
       "      <td>100</td>\n",
       "      <td>497</td>\n",
       "      <td>Home</td>\n",
       "      <td>Logged In</td>\n",
       "      <td>GET</td>\n",
       "      <td>200</td>\n",
       "      <td>free</td>\n",
       "      <td>0</td>\n",
       "      <td>Dallas-Fort Worth-Arlington, TX</td>\n",
       "      <td>Mozilla/5.0 (Windows NT 6.1; WOW64; rv:30.0) G...</td>\n",
       "      <td>Larson</td>\n",
       "      <td>Colin</td>\n",
       "      <td>1.537982e+12</td>\n",
       "      <td>M</td>\n",
       "      <td>NaN</td>\n",
       "      <td>NaN</td>\n",
       "      <td>NaN</td>\n",
       "    </tr>\n",
       "    <tr>\n",
       "      <th>18</th>\n",
       "      <td>1538352336000</td>\n",
       "      <td>163</td>\n",
       "      <td>162</td>\n",
       "      <td>Downgrade</td>\n",
       "      <td>Logged In</td>\n",
       "      <td>GET</td>\n",
       "      <td>200</td>\n",
       "      <td>paid</td>\n",
       "      <td>268</td>\n",
       "      <td>Rochester, MN</td>\n",
       "      <td>\"Mozilla/5.0 (Macintosh; Intel Mac OS X 10_9_4...</td>\n",
       "      <td>Gordon</td>\n",
       "      <td>Sofia</td>\n",
       "      <td>1.533176e+12</td>\n",
       "      <td>F</td>\n",
       "      <td>NaN</td>\n",
       "      <td>NaN</td>\n",
       "      <td>NaN</td>\n",
       "    </tr>\n",
       "    <tr>\n",
       "      <th>19</th>\n",
       "      <td>1538352376000</td>\n",
       "      <td>179</td>\n",
       "      <td>178</td>\n",
       "      <td>Add to Playlist</td>\n",
       "      <td>Logged In</td>\n",
       "      <td>PUT</td>\n",
       "      <td>200</td>\n",
       "      <td>paid</td>\n",
       "      <td>192</td>\n",
       "      <td>Orlando-Kissimmee-Sanford, FL</td>\n",
       "      <td>\"Mozilla/5.0 (Macintosh; Intel Mac OS X 10_9_4...</td>\n",
       "      <td>Santiago</td>\n",
       "      <td>Maverick</td>\n",
       "      <td>1.535953e+12</td>\n",
       "      <td>M</td>\n",
       "      <td>NaN</td>\n",
       "      <td>NaN</td>\n",
       "      <td>NaN</td>\n",
       "    </tr>\n",
       "    <tr>\n",
       "      <th>...</th>\n",
       "      <td>...</td>\n",
       "      <td>...</td>\n",
       "      <td>...</td>\n",
       "      <td>...</td>\n",
       "      <td>...</td>\n",
       "      <td>...</td>\n",
       "      <td>...</td>\n",
       "      <td>...</td>\n",
       "      <td>...</td>\n",
       "      <td>...</td>\n",
       "      <td>...</td>\n",
       "      <td>...</td>\n",
       "      <td>...</td>\n",
       "      <td>...</td>\n",
       "      <td>...</td>\n",
       "      <td>...</td>\n",
       "      <td>...</td>\n",
       "      <td>...</td>\n",
       "    </tr>\n",
       "    <tr>\n",
       "      <th>543673</th>\n",
       "      <td>1543621432000</td>\n",
       "      <td>300015</td>\n",
       "      <td>981</td>\n",
       "      <td>Add to Playlist</td>\n",
       "      <td>Logged In</td>\n",
       "      <td>PUT</td>\n",
       "      <td>200</td>\n",
       "      <td>paid</td>\n",
       "      <td>104</td>\n",
       "      <td>San Antonio-New Braunfels, TX</td>\n",
       "      <td>\"Mozilla/5.0 (iPhone; CPU iPhone OS 7_1_2 like...</td>\n",
       "      <td>White</td>\n",
       "      <td>Joshua</td>\n",
       "      <td>1.528781e+12</td>\n",
       "      <td>M</td>\n",
       "      <td>NaN</td>\n",
       "      <td>NaN</td>\n",
       "      <td>NaN</td>\n",
       "    </tr>\n",
       "    <tr>\n",
       "      <th>543678</th>\n",
       "      <td>1543621542000</td>\n",
       "      <td>300010</td>\n",
       "      <td>882</td>\n",
       "      <td>Add to Playlist</td>\n",
       "      <td>Logged In</td>\n",
       "      <td>PUT</td>\n",
       "      <td>200</td>\n",
       "      <td>paid</td>\n",
       "      <td>162</td>\n",
       "      <td>Dallas-Fort Worth-Arlington, TX</td>\n",
       "      <td>\"Mozilla/5.0 (Macintosh; Intel Mac OS X 10_9_4...</td>\n",
       "      <td>Jackson</td>\n",
       "      <td>Clayton</td>\n",
       "      <td>1.536850e+12</td>\n",
       "      <td>M</td>\n",
       "      <td>NaN</td>\n",
       "      <td>NaN</td>\n",
       "      <td>NaN</td>\n",
       "    </tr>\n",
       "    <tr>\n",
       "      <th>543681</th>\n",
       "      <td>1543621640000</td>\n",
       "      <td>300022</td>\n",
       "      <td>629</td>\n",
       "      <td>Thumbs Up</td>\n",
       "      <td>Logged In</td>\n",
       "      <td>PUT</td>\n",
       "      <td>307</td>\n",
       "      <td>paid</td>\n",
       "      <td>213</td>\n",
       "      <td>London, KY</td>\n",
       "      <td>\"Mozilla/5.0 (X11; Linux x86_64) AppleWebKit/5...</td>\n",
       "      <td>Mcintosh</td>\n",
       "      <td>Antonio</td>\n",
       "      <td>1.534461e+12</td>\n",
       "      <td>M</td>\n",
       "      <td>NaN</td>\n",
       "      <td>NaN</td>\n",
       "      <td>NaN</td>\n",
       "    </tr>\n",
       "    <tr>\n",
       "      <th>543683</th>\n",
       "      <td>1543621684000</td>\n",
       "      <td>300039</td>\n",
       "      <td>916</td>\n",
       "      <td>Thumbs Up</td>\n",
       "      <td>Logged In</td>\n",
       "      <td>PUT</td>\n",
       "      <td>307</td>\n",
       "      <td>paid</td>\n",
       "      <td>28</td>\n",
       "      <td>Memphis, TN-MS-AR</td>\n",
       "      <td>\"Mozilla/5.0 (Macintosh; Intel Mac OS X 10_9_4...</td>\n",
       "      <td>Jenkins</td>\n",
       "      <td>Jeremiah</td>\n",
       "      <td>1.536229e+12</td>\n",
       "      <td>M</td>\n",
       "      <td>NaN</td>\n",
       "      <td>NaN</td>\n",
       "      <td>NaN</td>\n",
       "    </tr>\n",
       "    <tr>\n",
       "      <th>543698</th>\n",
       "      <td>1543622227000</td>\n",
       "      <td>300038</td>\n",
       "      <td>966</td>\n",
       "      <td>Home</td>\n",
       "      <td>Logged In</td>\n",
       "      <td>GET</td>\n",
       "      <td>200</td>\n",
       "      <td>paid</td>\n",
       "      <td>35</td>\n",
       "      <td>Lakeland-Winter Haven, FL</td>\n",
       "      <td>\"Mozilla/5.0 (iPhone; CPU iPhone OS 7_1_2 like...</td>\n",
       "      <td>Reed</td>\n",
       "      <td>Aiden</td>\n",
       "      <td>1.535616e+12</td>\n",
       "      <td>M</td>\n",
       "      <td>NaN</td>\n",
       "      <td>NaN</td>\n",
       "      <td>NaN</td>\n",
       "    </tr>\n",
       "  </tbody>\n",
       "</table>\n",
       "<p>95029 rows × 18 columns</p>\n",
       "</div>"
      ],
      "text/plain": [
       "                   ts  userId  sessionId             page       auth method  \\\n",
       "3       1538352119000     179        178           Logout  Logged In    PUT   \n",
       "10      1538352176000     179        178             Home  Logged In    GET   \n",
       "12      1538352241000     100        497             Home  Logged In    GET   \n",
       "18      1538352336000     163        162        Downgrade  Logged In    GET   \n",
       "19      1538352376000     179        178  Add to Playlist  Logged In    PUT   \n",
       "...               ...     ...        ...              ...        ...    ...   \n",
       "543673  1543621432000  300015        981  Add to Playlist  Logged In    PUT   \n",
       "543678  1543621542000  300010        882  Add to Playlist  Logged In    PUT   \n",
       "543681  1543621640000  300022        629        Thumbs Up  Logged In    PUT   \n",
       "543683  1543621684000  300039        916        Thumbs Up  Logged In    PUT   \n",
       "543698  1543622227000  300038        966             Home  Logged In    GET   \n",
       "\n",
       "        status level  itemInSession                         location  \\\n",
       "3          307  paid            185    Orlando-Kissimmee-Sanford, FL   \n",
       "10         200  paid            190    Orlando-Kissimmee-Sanford, FL   \n",
       "12         200  free              0  Dallas-Fort Worth-Arlington, TX   \n",
       "18         200  paid            268                    Rochester, MN   \n",
       "19         200  paid            192    Orlando-Kissimmee-Sanford, FL   \n",
       "...        ...   ...            ...                              ...   \n",
       "543673     200  paid            104    San Antonio-New Braunfels, TX   \n",
       "543678     200  paid            162  Dallas-Fort Worth-Arlington, TX   \n",
       "543681     307  paid            213                       London, KY   \n",
       "543683     307  paid             28                Memphis, TN-MS-AR   \n",
       "543698     200  paid             35        Lakeland-Winter Haven, FL   \n",
       "\n",
       "                                                userAgent  lastName firstName  \\\n",
       "3       \"Mozilla/5.0 (Macintosh; Intel Mac OS X 10_9_4...  Santiago  Maverick   \n",
       "10      \"Mozilla/5.0 (Macintosh; Intel Mac OS X 10_9_4...  Santiago  Maverick   \n",
       "12      Mozilla/5.0 (Windows NT 6.1; WOW64; rv:30.0) G...    Larson     Colin   \n",
       "18      \"Mozilla/5.0 (Macintosh; Intel Mac OS X 10_9_4...    Gordon     Sofia   \n",
       "19      \"Mozilla/5.0 (Macintosh; Intel Mac OS X 10_9_4...  Santiago  Maverick   \n",
       "...                                                   ...       ...       ...   \n",
       "543673  \"Mozilla/5.0 (iPhone; CPU iPhone OS 7_1_2 like...     White    Joshua   \n",
       "543678  \"Mozilla/5.0 (Macintosh; Intel Mac OS X 10_9_4...   Jackson   Clayton   \n",
       "543681  \"Mozilla/5.0 (X11; Linux x86_64) AppleWebKit/5...  Mcintosh   Antonio   \n",
       "543683  \"Mozilla/5.0 (Macintosh; Intel Mac OS X 10_9_4...   Jenkins  Jeremiah   \n",
       "543698  \"Mozilla/5.0 (iPhone; CPU iPhone OS 7_1_2 like...      Reed     Aiden   \n",
       "\n",
       "        registration gender artist song  length  \n",
       "3       1.535953e+12      M    NaN  NaN     NaN  \n",
       "10      1.535953e+12      M    NaN  NaN     NaN  \n",
       "12      1.537982e+12      M    NaN  NaN     NaN  \n",
       "18      1.533176e+12      F    NaN  NaN     NaN  \n",
       "19      1.535953e+12      M    NaN  NaN     NaN  \n",
       "...              ...    ...    ...  ...     ...  \n",
       "543673  1.528781e+12      M    NaN  NaN     NaN  \n",
       "543678  1.536850e+12      M    NaN  NaN     NaN  \n",
       "543681  1.534461e+12      M    NaN  NaN     NaN  \n",
       "543683  1.536229e+12      M    NaN  NaN     NaN  \n",
       "543698  1.535616e+12      M    NaN  NaN     NaN  \n",
       "\n",
       "[95029 rows x 18 columns]"
      ]
     },
     "execution_count": 12,
     "metadata": {},
     "output_type": "execute_result"
    }
   ],
   "source": [
    "# from sub df with auth = Logged In, any artist rows with NaN?\n",
    "login = df.loc[df['auth'] == 'Logged In']\n",
    "login[login['artist'].isna()]"
   ]
  },
  {
   "cell_type": "code",
   "execution_count": 13,
   "metadata": {
    "execution": {
     "iopub.execute_input": "2021-02-01T19:12:21.992612Z",
     "iopub.status.busy": "2021-02-01T19:12:21.991234Z",
     "iopub.status.idle": "2021-02-01T19:12:22.710231Z",
     "shell.execute_reply": "2021-02-01T19:12:22.709482Z"
    },
    "papermill": {
     "duration": 0.968763,
     "end_time": "2021-02-01T19:12:22.710362",
     "exception": false,
     "start_time": "2021-02-01T19:12:21.741599",
     "status": "completed"
    },
    "tags": []
   },
   "outputs": [
    {
     "data": {
      "text/plain": [
       "NextSong            432877\n",
       "Thumbs Up            23826\n",
       "Home                 19089\n",
       "Add to Playlist      12349\n",
       "Add Friend            8087\n",
       "Roll Advert           7773\n",
       "Logout                5990\n",
       "Thumbs Down           4911\n",
       "Downgrade             3811\n",
       "Settings              2964\n",
       "Help                  2644\n",
       "About                 1026\n",
       "Upgrade                968\n",
       "Save Settings          585\n",
       "Error                  503\n",
       "Submit Upgrade         287\n",
       "Submit Downgrade       117\n",
       "Cancel                  99\n",
       "Name: page, dtype: int64"
      ]
     },
     "execution_count": 13,
     "metadata": {},
     "output_type": "execute_result"
    }
   ],
   "source": [
    "#From those who are logged in, what pages are accessible to them?\n",
    "df.loc[df['auth'] == 'Logged In'].page.value_counts()"
   ]
  },
  {
   "cell_type": "code",
   "execution_count": 14,
   "metadata": {
    "execution": {
     "iopub.execute_input": "2021-02-01T19:12:23.057152Z",
     "iopub.status.busy": "2021-02-01T19:12:23.055850Z",
     "iopub.status.idle": "2021-02-01T19:12:23.096895Z",
     "shell.execute_reply": "2021-02-01T19:12:23.097428Z"
    },
    "papermill": {
     "duration": 0.289531,
     "end_time": "2021-02-01T19:12:23.097614",
     "exception": false,
     "start_time": "2021-02-01T19:12:22.808083",
     "status": "completed"
    },
    "tags": []
   },
   "outputs": [
    {
     "data": {
      "text/plain": [
       "Home     8282\n",
       "Login    6011\n",
       "About     807\n",
       "Help      492\n",
       "Error      14\n",
       "Name: page, dtype: int64"
      ]
     },
     "execution_count": 14,
     "metadata": {},
     "output_type": "execute_result"
    }
   ],
   "source": [
    "#From those who are logged out, what pages are accessible to them?\n",
    "df.loc[df['auth'] == 'Logged Out'].page.value_counts()"
   ]
  },
  {
   "cell_type": "markdown",
   "metadata": {
    "papermill": {
     "duration": 0.104775,
     "end_time": "2021-02-01T19:12:23.306257",
     "exception": false,
     "start_time": "2021-02-01T19:12:23.201482",
     "status": "completed"
    },
    "tags": []
   },
   "source": [
    "What pages are not shared between Logged in and Logged Out?\n",
    "\n",
    "'Login' is the only page not shared between Logged In and Logged Out. This makes sense."
   ]
  },
  {
   "cell_type": "code",
   "execution_count": 15,
   "metadata": {
    "execution": {
     "iopub.execute_input": "2021-02-01T19:12:23.670693Z",
     "iopub.status.busy": "2021-02-01T19:12:23.669205Z",
     "iopub.status.idle": "2021-02-01T19:12:23.711096Z",
     "shell.execute_reply": "2021-02-01T19:12:23.711701Z"
    },
    "papermill": {
     "duration": 0.304773,
     "end_time": "2021-02-01T19:12:23.711892",
     "exception": false,
     "start_time": "2021-02-01T19:12:23.407119",
     "status": "completed"
    },
    "tags": []
   },
   "outputs": [
    {
     "data": {
      "text/html": [
       "<div>\n",
       "<style scoped>\n",
       "    .dataframe tbody tr th:only-of-type {\n",
       "        vertical-align: middle;\n",
       "    }\n",
       "\n",
       "    .dataframe tbody tr th {\n",
       "        vertical-align: top;\n",
       "    }\n",
       "\n",
       "    .dataframe thead th {\n",
       "        text-align: right;\n",
       "    }\n",
       "</style>\n",
       "<table border=\"1\" class=\"dataframe\">\n",
       "  <thead>\n",
       "    <tr style=\"text-align: right;\">\n",
       "      <th></th>\n",
       "      <th>ts</th>\n",
       "      <th>userId</th>\n",
       "      <th>sessionId</th>\n",
       "      <th>page</th>\n",
       "      <th>auth</th>\n",
       "      <th>method</th>\n",
       "      <th>status</th>\n",
       "      <th>level</th>\n",
       "      <th>itemInSession</th>\n",
       "      <th>location</th>\n",
       "      <th>userAgent</th>\n",
       "      <th>lastName</th>\n",
       "      <th>firstName</th>\n",
       "      <th>registration</th>\n",
       "      <th>gender</th>\n",
       "      <th>artist</th>\n",
       "      <th>song</th>\n",
       "      <th>length</th>\n",
       "    </tr>\n",
       "  </thead>\n",
       "  <tbody>\n",
       "    <tr>\n",
       "      <th>2555</th>\n",
       "      <td>1538400616000</td>\n",
       "      <td>208</td>\n",
       "      <td>490</td>\n",
       "      <td>Cancellation Confirmation</td>\n",
       "      <td>Cancelled</td>\n",
       "      <td>GET</td>\n",
       "      <td>200</td>\n",
       "      <td>free</td>\n",
       "      <td>40</td>\n",
       "      <td>Fort Wayne, IN</td>\n",
       "      <td>Mozilla/5.0 (Windows NT 6.2; WOW64; rv:31.0) G...</td>\n",
       "      <td>Carr</td>\n",
       "      <td>Olivia</td>\n",
       "      <td>1.536758e+12</td>\n",
       "      <td>F</td>\n",
       "      <td>NaN</td>\n",
       "      <td>NaN</td>\n",
       "      <td>NaN</td>\n",
       "    </tr>\n",
       "    <tr>\n",
       "      <th>6758</th>\n",
       "      <td>1538482793000</td>\n",
       "      <td>231</td>\n",
       "      <td>471</td>\n",
       "      <td>Cancellation Confirmation</td>\n",
       "      <td>Cancelled</td>\n",
       "      <td>GET</td>\n",
       "      <td>200</td>\n",
       "      <td>paid</td>\n",
       "      <td>234</td>\n",
       "      <td>Columbus, OH</td>\n",
       "      <td>Mozilla/5.0 (Windows NT 6.1; WOW64; rv:31.0) G...</td>\n",
       "      <td>Cameron</td>\n",
       "      <td>Lillian</td>\n",
       "      <td>1.533473e+12</td>\n",
       "      <td>F</td>\n",
       "      <td>NaN</td>\n",
       "      <td>NaN</td>\n",
       "      <td>NaN</td>\n",
       "    </tr>\n",
       "    <tr>\n",
       "      <th>12652</th>\n",
       "      <td>1538539871000</td>\n",
       "      <td>236</td>\n",
       "      <td>682</td>\n",
       "      <td>Cancellation Confirmation</td>\n",
       "      <td>Cancelled</td>\n",
       "      <td>GET</td>\n",
       "      <td>200</td>\n",
       "      <td>paid</td>\n",
       "      <td>109</td>\n",
       "      <td>Grand Rapids-Wyoming, MI</td>\n",
       "      <td>\"Mozilla/5.0 (Windows NT 6.1; WOW64) AppleWebK...</td>\n",
       "      <td>Myers</td>\n",
       "      <td>Alex</td>\n",
       "      <td>1.529996e+12</td>\n",
       "      <td>M</td>\n",
       "      <td>NaN</td>\n",
       "      <td>NaN</td>\n",
       "      <td>NaN</td>\n",
       "    </tr>\n",
       "    <tr>\n",
       "      <th>16350</th>\n",
       "      <td>1538592529000</td>\n",
       "      <td>156</td>\n",
       "      <td>628</td>\n",
       "      <td>Cancellation Confirmation</td>\n",
       "      <td>Cancelled</td>\n",
       "      <td>GET</td>\n",
       "      <td>200</td>\n",
       "      <td>free</td>\n",
       "      <td>66</td>\n",
       "      <td>Bowling Green, KY</td>\n",
       "      <td>\"Mozilla/5.0 (Macintosh; Intel Mac OS X 10_9_4...</td>\n",
       "      <td>Crawford</td>\n",
       "      <td>Rafael</td>\n",
       "      <td>1.533888e+12</td>\n",
       "      <td>M</td>\n",
       "      <td>NaN</td>\n",
       "      <td>NaN</td>\n",
       "      <td>NaN</td>\n",
       "    </tr>\n",
       "    <tr>\n",
       "      <th>29338</th>\n",
       "      <td>1538770077000</td>\n",
       "      <td>271</td>\n",
       "      <td>395</td>\n",
       "      <td>Cancellation Confirmation</td>\n",
       "      <td>Cancelled</td>\n",
       "      <td>GET</td>\n",
       "      <td>200</td>\n",
       "      <td>paid</td>\n",
       "      <td>227</td>\n",
       "      <td>Roanoke, VA</td>\n",
       "      <td>\"Mozilla/5.0 (Windows NT 6.3; WOW64) AppleWebK...</td>\n",
       "      <td>Stewart</td>\n",
       "      <td>Brad</td>\n",
       "      <td>1.535619e+12</td>\n",
       "      <td>M</td>\n",
       "      <td>NaN</td>\n",
       "      <td>NaN</td>\n",
       "      <td>NaN</td>\n",
       "    </tr>\n",
       "    <tr>\n",
       "      <th>...</th>\n",
       "      <td>...</td>\n",
       "      <td>...</td>\n",
       "      <td>...</td>\n",
       "      <td>...</td>\n",
       "      <td>...</td>\n",
       "      <td>...</td>\n",
       "      <td>...</td>\n",
       "      <td>...</td>\n",
       "      <td>...</td>\n",
       "      <td>...</td>\n",
       "      <td>...</td>\n",
       "      <td>...</td>\n",
       "      <td>...</td>\n",
       "      <td>...</td>\n",
       "      <td>...</td>\n",
       "      <td>...</td>\n",
       "      <td>...</td>\n",
       "      <td>...</td>\n",
       "    </tr>\n",
       "    <tr>\n",
       "      <th>463234</th>\n",
       "      <td>1542206187000</td>\n",
       "      <td>200023</td>\n",
       "      <td>589</td>\n",
       "      <td>Cancellation Confirmation</td>\n",
       "      <td>Cancelled</td>\n",
       "      <td>GET</td>\n",
       "      <td>200</td>\n",
       "      <td>free</td>\n",
       "      <td>11</td>\n",
       "      <td>New York-Newark-Jersey City, NY-NJ-PA</td>\n",
       "      <td>\"Mozilla/5.0 (Windows NT 6.3; WOW64) AppleWebK...</td>\n",
       "      <td>Daniels</td>\n",
       "      <td>Katiana</td>\n",
       "      <td>1.537813e+12</td>\n",
       "      <td>F</td>\n",
       "      <td>NaN</td>\n",
       "      <td>NaN</td>\n",
       "      <td>NaN</td>\n",
       "    </tr>\n",
       "    <tr>\n",
       "      <th>464090</th>\n",
       "      <td>1542360575000</td>\n",
       "      <td>200039</td>\n",
       "      <td>516</td>\n",
       "      <td>Cancellation Confirmation</td>\n",
       "      <td>Cancelled</td>\n",
       "      <td>GET</td>\n",
       "      <td>200</td>\n",
       "      <td>paid</td>\n",
       "      <td>28</td>\n",
       "      <td>Salt Lake City, UT</td>\n",
       "      <td>Mozilla/5.0 (Windows NT 6.2; WOW64; rv:31.0) G...</td>\n",
       "      <td>Morris</td>\n",
       "      <td>Kaydence</td>\n",
       "      <td>1.534625e+12</td>\n",
       "      <td>F</td>\n",
       "      <td>NaN</td>\n",
       "      <td>NaN</td>\n",
       "      <td>NaN</td>\n",
       "    </tr>\n",
       "    <tr>\n",
       "      <th>465426</th>\n",
       "      <td>1542750479000</td>\n",
       "      <td>200020</td>\n",
       "      <td>625</td>\n",
       "      <td>Cancellation Confirmation</td>\n",
       "      <td>Cancelled</td>\n",
       "      <td>GET</td>\n",
       "      <td>200</td>\n",
       "      <td>paid</td>\n",
       "      <td>140</td>\n",
       "      <td>Orlando-Kissimmee-Sanford, FL</td>\n",
       "      <td>Mozilla/5.0 (Macintosh; Intel Mac OS X 10.9; r...</td>\n",
       "      <td>Rivera</td>\n",
       "      <td>Keegan</td>\n",
       "      <td>1.535907e+12</td>\n",
       "      <td>M</td>\n",
       "      <td>NaN</td>\n",
       "      <td>NaN</td>\n",
       "      <td>NaN</td>\n",
       "    </tr>\n",
       "    <tr>\n",
       "      <th>499615</th>\n",
       "      <td>1540684960000</td>\n",
       "      <td>300004</td>\n",
       "      <td>289</td>\n",
       "      <td>Cancellation Confirmation</td>\n",
       "      <td>Cancelled</td>\n",
       "      <td>GET</td>\n",
       "      <td>200</td>\n",
       "      <td>paid</td>\n",
       "      <td>35</td>\n",
       "      <td>Los Angeles-Long Beach-Anaheim, CA</td>\n",
       "      <td>\"Mozilla/5.0 (Windows NT 6.1) AppleWebKit/537....</td>\n",
       "      <td>Fischer</td>\n",
       "      <td>Peyton</td>\n",
       "      <td>1.534513e+12</td>\n",
       "      <td>F</td>\n",
       "      <td>NaN</td>\n",
       "      <td>NaN</td>\n",
       "      <td>NaN</td>\n",
       "    </tr>\n",
       "    <tr>\n",
       "      <th>499913</th>\n",
       "      <td>1540711926000</td>\n",
       "      <td>300047</td>\n",
       "      <td>258</td>\n",
       "      <td>Cancellation Confirmation</td>\n",
       "      <td>Cancelled</td>\n",
       "      <td>GET</td>\n",
       "      <td>200</td>\n",
       "      <td>paid</td>\n",
       "      <td>37</td>\n",
       "      <td>Newport, TN</td>\n",
       "      <td>Mozilla/5.0 (Windows NT 6.1; WOW64; rv:31.0) G...</td>\n",
       "      <td>Jimenez</td>\n",
       "      <td>Addison</td>\n",
       "      <td>1.534487e+12</td>\n",
       "      <td>F</td>\n",
       "      <td>NaN</td>\n",
       "      <td>NaN</td>\n",
       "      <td>NaN</td>\n",
       "    </tr>\n",
       "  </tbody>\n",
       "</table>\n",
       "<p>99 rows × 18 columns</p>\n",
       "</div>"
      ],
      "text/plain": [
       "                   ts  userId  sessionId                       page  \\\n",
       "2555    1538400616000     208        490  Cancellation Confirmation   \n",
       "6758    1538482793000     231        471  Cancellation Confirmation   \n",
       "12652   1538539871000     236        682  Cancellation Confirmation   \n",
       "16350   1538592529000     156        628  Cancellation Confirmation   \n",
       "29338   1538770077000     271        395  Cancellation Confirmation   \n",
       "...               ...     ...        ...                        ...   \n",
       "463234  1542206187000  200023        589  Cancellation Confirmation   \n",
       "464090  1542360575000  200039        516  Cancellation Confirmation   \n",
       "465426  1542750479000  200020        625  Cancellation Confirmation   \n",
       "499615  1540684960000  300004        289  Cancellation Confirmation   \n",
       "499913  1540711926000  300047        258  Cancellation Confirmation   \n",
       "\n",
       "             auth method  status level  itemInSession  \\\n",
       "2555    Cancelled    GET     200  free             40   \n",
       "6758    Cancelled    GET     200  paid            234   \n",
       "12652   Cancelled    GET     200  paid            109   \n",
       "16350   Cancelled    GET     200  free             66   \n",
       "29338   Cancelled    GET     200  paid            227   \n",
       "...           ...    ...     ...   ...            ...   \n",
       "463234  Cancelled    GET     200  free             11   \n",
       "464090  Cancelled    GET     200  paid             28   \n",
       "465426  Cancelled    GET     200  paid            140   \n",
       "499615  Cancelled    GET     200  paid             35   \n",
       "499913  Cancelled    GET     200  paid             37   \n",
       "\n",
       "                                     location  \\\n",
       "2555                           Fort Wayne, IN   \n",
       "6758                             Columbus, OH   \n",
       "12652                Grand Rapids-Wyoming, MI   \n",
       "16350                       Bowling Green, KY   \n",
       "29338                             Roanoke, VA   \n",
       "...                                       ...   \n",
       "463234  New York-Newark-Jersey City, NY-NJ-PA   \n",
       "464090                     Salt Lake City, UT   \n",
       "465426          Orlando-Kissimmee-Sanford, FL   \n",
       "499615     Los Angeles-Long Beach-Anaheim, CA   \n",
       "499913                            Newport, TN   \n",
       "\n",
       "                                                userAgent  lastName firstName  \\\n",
       "2555    Mozilla/5.0 (Windows NT 6.2; WOW64; rv:31.0) G...      Carr    Olivia   \n",
       "6758    Mozilla/5.0 (Windows NT 6.1; WOW64; rv:31.0) G...   Cameron   Lillian   \n",
       "12652   \"Mozilla/5.0 (Windows NT 6.1; WOW64) AppleWebK...     Myers      Alex   \n",
       "16350   \"Mozilla/5.0 (Macintosh; Intel Mac OS X 10_9_4...  Crawford    Rafael   \n",
       "29338   \"Mozilla/5.0 (Windows NT 6.3; WOW64) AppleWebK...   Stewart      Brad   \n",
       "...                                                   ...       ...       ...   \n",
       "463234  \"Mozilla/5.0 (Windows NT 6.3; WOW64) AppleWebK...   Daniels   Katiana   \n",
       "464090  Mozilla/5.0 (Windows NT 6.2; WOW64; rv:31.0) G...    Morris  Kaydence   \n",
       "465426  Mozilla/5.0 (Macintosh; Intel Mac OS X 10.9; r...    Rivera    Keegan   \n",
       "499615  \"Mozilla/5.0 (Windows NT 6.1) AppleWebKit/537....   Fischer    Peyton   \n",
       "499913  Mozilla/5.0 (Windows NT 6.1; WOW64; rv:31.0) G...   Jimenez   Addison   \n",
       "\n",
       "        registration gender artist song  length  \n",
       "2555    1.536758e+12      F    NaN  NaN     NaN  \n",
       "6758    1.533473e+12      F    NaN  NaN     NaN  \n",
       "12652   1.529996e+12      M    NaN  NaN     NaN  \n",
       "16350   1.533888e+12      M    NaN  NaN     NaN  \n",
       "29338   1.535619e+12      M    NaN  NaN     NaN  \n",
       "...              ...    ...    ...  ...     ...  \n",
       "463234  1.537813e+12      F    NaN  NaN     NaN  \n",
       "464090  1.534625e+12      F    NaN  NaN     NaN  \n",
       "465426  1.535907e+12      M    NaN  NaN     NaN  \n",
       "499615  1.534513e+12      F    NaN  NaN     NaN  \n",
       "499913  1.534487e+12      F    NaN  NaN     NaN  \n",
       "\n",
       "[99 rows x 18 columns]"
      ]
     },
     "execution_count": 15,
     "metadata": {},
     "output_type": "execute_result"
    }
   ],
   "source": [
    "df.loc[df['auth'] == 'Cancelled']"
   ]
  },
  {
   "cell_type": "code",
   "execution_count": 16,
   "metadata": {
    "execution": {
     "iopub.execute_input": "2021-02-01T19:12:24.083406Z",
     "iopub.status.busy": "2021-02-01T19:12:24.082183Z",
     "iopub.status.idle": "2021-02-01T19:12:24.129103Z",
     "shell.execute_reply": "2021-02-01T19:12:24.127866Z"
    },
    "papermill": {
     "duration": 0.304859,
     "end_time": "2021-02-01T19:12:24.129317",
     "exception": false,
     "start_time": "2021-02-01T19:12:23.824458",
     "status": "completed"
    },
    "tags": []
   },
   "outputs": [
    {
     "data": {
      "text/html": [
       "<div>\n",
       "<style scoped>\n",
       "    .dataframe tbody tr th:only-of-type {\n",
       "        vertical-align: middle;\n",
       "    }\n",
       "\n",
       "    .dataframe tbody tr th {\n",
       "        vertical-align: top;\n",
       "    }\n",
       "\n",
       "    .dataframe thead th {\n",
       "        text-align: right;\n",
       "    }\n",
       "</style>\n",
       "<table border=\"1\" class=\"dataframe\">\n",
       "  <thead>\n",
       "    <tr style=\"text-align: right;\">\n",
       "      <th></th>\n",
       "      <th>ts</th>\n",
       "      <th>userId</th>\n",
       "      <th>sessionId</th>\n",
       "      <th>page</th>\n",
       "      <th>auth</th>\n",
       "      <th>method</th>\n",
       "      <th>status</th>\n",
       "      <th>level</th>\n",
       "      <th>itemInSession</th>\n",
       "      <th>location</th>\n",
       "      <th>userAgent</th>\n",
       "      <th>lastName</th>\n",
       "      <th>firstName</th>\n",
       "      <th>registration</th>\n",
       "      <th>gender</th>\n",
       "      <th>artist</th>\n",
       "      <th>song</th>\n",
       "      <th>length</th>\n",
       "    </tr>\n",
       "  </thead>\n",
       "  <tbody>\n",
       "    <tr>\n",
       "      <th>30705</th>\n",
       "      <td>1538790047000</td>\n",
       "      <td></td>\n",
       "      <td>301</td>\n",
       "      <td>Home</td>\n",
       "      <td>Guest</td>\n",
       "      <td>GET</td>\n",
       "      <td>200</td>\n",
       "      <td>free</td>\n",
       "      <td>0</td>\n",
       "      <td>NaN</td>\n",
       "      <td>NaN</td>\n",
       "      <td>NaN</td>\n",
       "      <td>NaN</td>\n",
       "      <td>NaN</td>\n",
       "      <td>NaN</td>\n",
       "      <td>NaN</td>\n",
       "      <td>NaN</td>\n",
       "      <td>NaN</td>\n",
       "    </tr>\n",
       "    <tr>\n",
       "      <th>74357</th>\n",
       "      <td>1539379125000</td>\n",
       "      <td></td>\n",
       "      <td>982</td>\n",
       "      <td>Help</td>\n",
       "      <td>Guest</td>\n",
       "      <td>GET</td>\n",
       "      <td>200</td>\n",
       "      <td>free</td>\n",
       "      <td>0</td>\n",
       "      <td>NaN</td>\n",
       "      <td>NaN</td>\n",
       "      <td>NaN</td>\n",
       "      <td>NaN</td>\n",
       "      <td>NaN</td>\n",
       "      <td>NaN</td>\n",
       "      <td>NaN</td>\n",
       "      <td>NaN</td>\n",
       "      <td>NaN</td>\n",
       "    </tr>\n",
       "    <tr>\n",
       "      <th>74358</th>\n",
       "      <td>1539379130000</td>\n",
       "      <td></td>\n",
       "      <td>982</td>\n",
       "      <td>Home</td>\n",
       "      <td>Guest</td>\n",
       "      <td>GET</td>\n",
       "      <td>200</td>\n",
       "      <td>free</td>\n",
       "      <td>1</td>\n",
       "      <td>NaN</td>\n",
       "      <td>NaN</td>\n",
       "      <td>NaN</td>\n",
       "      <td>NaN</td>\n",
       "      <td>NaN</td>\n",
       "      <td>NaN</td>\n",
       "      <td>NaN</td>\n",
       "      <td>NaN</td>\n",
       "      <td>NaN</td>\n",
       "    </tr>\n",
       "    <tr>\n",
       "      <th>74360</th>\n",
       "      <td>1539379141000</td>\n",
       "      <td></td>\n",
       "      <td>982</td>\n",
       "      <td>About</td>\n",
       "      <td>Guest</td>\n",
       "      <td>GET</td>\n",
       "      <td>200</td>\n",
       "      <td>free</td>\n",
       "      <td>2</td>\n",
       "      <td>NaN</td>\n",
       "      <td>NaN</td>\n",
       "      <td>NaN</td>\n",
       "      <td>NaN</td>\n",
       "      <td>NaN</td>\n",
       "      <td>NaN</td>\n",
       "      <td>NaN</td>\n",
       "      <td>NaN</td>\n",
       "      <td>NaN</td>\n",
       "    </tr>\n",
       "    <tr>\n",
       "      <th>74361</th>\n",
       "      <td>1539379144000</td>\n",
       "      <td></td>\n",
       "      <td>982</td>\n",
       "      <td>Home</td>\n",
       "      <td>Guest</td>\n",
       "      <td>GET</td>\n",
       "      <td>200</td>\n",
       "      <td>free</td>\n",
       "      <td>3</td>\n",
       "      <td>NaN</td>\n",
       "      <td>NaN</td>\n",
       "      <td>NaN</td>\n",
       "      <td>NaN</td>\n",
       "      <td>NaN</td>\n",
       "      <td>NaN</td>\n",
       "      <td>NaN</td>\n",
       "      <td>NaN</td>\n",
       "      <td>NaN</td>\n",
       "    </tr>\n",
       "    <tr>\n",
       "      <th>...</th>\n",
       "      <td>...</td>\n",
       "      <td>...</td>\n",
       "      <td>...</td>\n",
       "      <td>...</td>\n",
       "      <td>...</td>\n",
       "      <td>...</td>\n",
       "      <td>...</td>\n",
       "      <td>...</td>\n",
       "      <td>...</td>\n",
       "      <td>...</td>\n",
       "      <td>...</td>\n",
       "      <td>...</td>\n",
       "      <td>...</td>\n",
       "      <td>...</td>\n",
       "      <td>...</td>\n",
       "      <td>...</td>\n",
       "      <td>...</td>\n",
       "      <td>...</td>\n",
       "    </tr>\n",
       "    <tr>\n",
       "      <th>504997</th>\n",
       "      <td>1541056679000</td>\n",
       "      <td></td>\n",
       "      <td>51</td>\n",
       "      <td>About</td>\n",
       "      <td>Guest</td>\n",
       "      <td>GET</td>\n",
       "      <td>200</td>\n",
       "      <td>free</td>\n",
       "      <td>5</td>\n",
       "      <td>NaN</td>\n",
       "      <td>NaN</td>\n",
       "      <td>NaN</td>\n",
       "      <td>NaN</td>\n",
       "      <td>NaN</td>\n",
       "      <td>NaN</td>\n",
       "      <td>NaN</td>\n",
       "      <td>NaN</td>\n",
       "      <td>NaN</td>\n",
       "    </tr>\n",
       "    <tr>\n",
       "      <th>504998</th>\n",
       "      <td>1541056685000</td>\n",
       "      <td></td>\n",
       "      <td>51</td>\n",
       "      <td>Home</td>\n",
       "      <td>Guest</td>\n",
       "      <td>GET</td>\n",
       "      <td>200</td>\n",
       "      <td>free</td>\n",
       "      <td>6</td>\n",
       "      <td>NaN</td>\n",
       "      <td>NaN</td>\n",
       "      <td>NaN</td>\n",
       "      <td>NaN</td>\n",
       "      <td>NaN</td>\n",
       "      <td>NaN</td>\n",
       "      <td>NaN</td>\n",
       "      <td>NaN</td>\n",
       "      <td>NaN</td>\n",
       "    </tr>\n",
       "    <tr>\n",
       "      <th>504999</th>\n",
       "      <td>1541056703000</td>\n",
       "      <td></td>\n",
       "      <td>51</td>\n",
       "      <td>Help</td>\n",
       "      <td>Guest</td>\n",
       "      <td>GET</td>\n",
       "      <td>200</td>\n",
       "      <td>free</td>\n",
       "      <td>7</td>\n",
       "      <td>NaN</td>\n",
       "      <td>NaN</td>\n",
       "      <td>NaN</td>\n",
       "      <td>NaN</td>\n",
       "      <td>NaN</td>\n",
       "      <td>NaN</td>\n",
       "      <td>NaN</td>\n",
       "      <td>NaN</td>\n",
       "      <td>NaN</td>\n",
       "    </tr>\n",
       "    <tr>\n",
       "      <th>505000</th>\n",
       "      <td>1541056710000</td>\n",
       "      <td></td>\n",
       "      <td>51</td>\n",
       "      <td>Register</td>\n",
       "      <td>Guest</td>\n",
       "      <td>GET</td>\n",
       "      <td>200</td>\n",
       "      <td>free</td>\n",
       "      <td>8</td>\n",
       "      <td>NaN</td>\n",
       "      <td>NaN</td>\n",
       "      <td>NaN</td>\n",
       "      <td>NaN</td>\n",
       "      <td>NaN</td>\n",
       "      <td>NaN</td>\n",
       "      <td>NaN</td>\n",
       "      <td>NaN</td>\n",
       "      <td>NaN</td>\n",
       "    </tr>\n",
       "    <tr>\n",
       "      <th>505001</th>\n",
       "      <td>1541056711000</td>\n",
       "      <td></td>\n",
       "      <td>51</td>\n",
       "      <td>Submit Registration</td>\n",
       "      <td>Guest</td>\n",
       "      <td>PUT</td>\n",
       "      <td>307</td>\n",
       "      <td>free</td>\n",
       "      <td>9</td>\n",
       "      <td>NaN</td>\n",
       "      <td>NaN</td>\n",
       "      <td>NaN</td>\n",
       "      <td>NaN</td>\n",
       "      <td>NaN</td>\n",
       "      <td>NaN</td>\n",
       "      <td>NaN</td>\n",
       "      <td>NaN</td>\n",
       "      <td>NaN</td>\n",
       "    </tr>\n",
       "  </tbody>\n",
       "</table>\n",
       "<p>94 rows × 18 columns</p>\n",
       "</div>"
      ],
      "text/plain": [
       "                   ts userId  sessionId                 page   auth method  \\\n",
       "30705   1538790047000               301                 Home  Guest    GET   \n",
       "74357   1539379125000               982                 Help  Guest    GET   \n",
       "74358   1539379130000               982                 Home  Guest    GET   \n",
       "74360   1539379141000               982                About  Guest    GET   \n",
       "74361   1539379144000               982                 Home  Guest    GET   \n",
       "...               ...    ...        ...                  ...    ...    ...   \n",
       "504997  1541056679000                51                About  Guest    GET   \n",
       "504998  1541056685000                51                 Home  Guest    GET   \n",
       "504999  1541056703000                51                 Help  Guest    GET   \n",
       "505000  1541056710000                51             Register  Guest    GET   \n",
       "505001  1541056711000                51  Submit Registration  Guest    PUT   \n",
       "\n",
       "        status level  itemInSession location userAgent lastName firstName  \\\n",
       "30705      200  free              0      NaN       NaN      NaN       NaN   \n",
       "74357      200  free              0      NaN       NaN      NaN       NaN   \n",
       "74358      200  free              1      NaN       NaN      NaN       NaN   \n",
       "74360      200  free              2      NaN       NaN      NaN       NaN   \n",
       "74361      200  free              3      NaN       NaN      NaN       NaN   \n",
       "...        ...   ...            ...      ...       ...      ...       ...   \n",
       "504997     200  free              5      NaN       NaN      NaN       NaN   \n",
       "504998     200  free              6      NaN       NaN      NaN       NaN   \n",
       "504999     200  free              7      NaN       NaN      NaN       NaN   \n",
       "505000     200  free              8      NaN       NaN      NaN       NaN   \n",
       "505001     307  free              9      NaN       NaN      NaN       NaN   \n",
       "\n",
       "        registration gender artist song  length  \n",
       "30705            NaN    NaN    NaN  NaN     NaN  \n",
       "74357            NaN    NaN    NaN  NaN     NaN  \n",
       "74358            NaN    NaN    NaN  NaN     NaN  \n",
       "74360            NaN    NaN    NaN  NaN     NaN  \n",
       "74361            NaN    NaN    NaN  NaN     NaN  \n",
       "...              ...    ...    ...  ...     ...  \n",
       "504997           NaN    NaN    NaN  NaN     NaN  \n",
       "504998           NaN    NaN    NaN  NaN     NaN  \n",
       "504999           NaN    NaN    NaN  NaN     NaN  \n",
       "505000           NaN    NaN    NaN  NaN     NaN  \n",
       "505001           NaN    NaN    NaN  NaN     NaN  \n",
       "\n",
       "[94 rows x 18 columns]"
      ]
     },
     "execution_count": 16,
     "metadata": {},
     "output_type": "execute_result"
    }
   ],
   "source": [
    "df.loc[df['auth'] == 'Guest']"
   ]
  },
  {
   "cell_type": "code",
   "execution_count": 17,
   "metadata": {
    "execution": {
     "iopub.execute_input": "2021-02-01T19:12:24.495809Z",
     "iopub.status.busy": "2021-02-01T19:12:24.495090Z",
     "iopub.status.idle": "2021-02-01T19:12:24.506159Z",
     "shell.execute_reply": "2021-02-01T19:12:24.506955Z"
    },
    "papermill": {
     "duration": 0.268862,
     "end_time": "2021-02-01T19:12:24.507169",
     "exception": false,
     "start_time": "2021-02-01T19:12:24.238307",
     "status": "completed"
    },
    "tags": []
   },
   "outputs": [
    {
     "data": {
      "text/plain": [
       "False    94\n",
       "Name: artist, dtype: int64"
      ]
     },
     "execution_count": 17,
     "metadata": {},
     "output_type": "execute_result"
    }
   ],
   "source": [
    "#while Guest logged in, any songs played? - No.\n",
    "guest = df.loc[df['auth'] == 'Guest']\n",
    "guest.artist.notnull().value_counts()"
   ]
  },
  {
   "cell_type": "markdown",
   "metadata": {
    "papermill": {
     "duration": 0.105989,
     "end_time": "2021-02-01T19:12:24.721846",
     "exception": false,
     "start_time": "2021-02-01T19:12:24.615857",
     "status": "completed"
    },
    "tags": []
   },
   "source": [
    "Some intital observations:\n",
    "\n",
    "* When user is logged in and playing a song, there are no missing values.\n",
    "* When a user is logged in and not playing a song, *artist, song and length* are missing (This is the same when they cancel their membership).\n",
    "* When a user is logged out, *location, userAgent, lastName, firstName, registration, gender, artist, song, length* are all missing. (This is the same when Guest is logged in)."
   ]
  },
  {
   "cell_type": "markdown",
   "metadata": {
    "papermill": {
     "duration": 0.103004,
     "end_time": "2021-02-01T19:12:24.934965",
     "exception": false,
     "start_time": "2021-02-01T19:12:24.831961",
     "status": "completed"
    },
    "tags": []
   },
   "source": [
    "Guest column will be eliminated since we are focusing on customer data to determine churn."
   ]
  },
  {
   "cell_type": "code",
   "execution_count": 18,
   "metadata": {
    "execution": {
     "iopub.execute_input": "2021-02-01T19:12:25.305965Z",
     "iopub.status.busy": "2021-02-01T19:12:25.305119Z",
     "iopub.status.idle": "2021-02-01T19:12:25.631468Z",
     "shell.execute_reply": "2021-02-01T19:12:25.630599Z"
    },
    "papermill": {
     "duration": 0.591637,
     "end_time": "2021-02-01T19:12:25.631612",
     "exception": false,
     "start_time": "2021-02-01T19:12:25.039975",
     "status": "completed"
    },
    "tags": []
   },
   "outputs": [
    {
     "data": {
      "text/plain": [
       "(543611, 18)"
      ]
     },
     "execution_count": 18,
     "metadata": {},
     "output_type": "execute_result"
    }
   ],
   "source": [
    "df = df.loc[df['auth'] != 'Guest']\n",
    "df.shape"
   ]
  },
  {
   "cell_type": "markdown",
   "metadata": {
    "papermill": {
     "duration": 0.104584,
     "end_time": "2021-02-01T19:12:25.845508",
     "exception": false,
     "start_time": "2021-02-01T19:12:25.740924",
     "status": "completed"
    },
    "tags": []
   },
   "source": [
    "Other eliminations will be for empty string rows in userId column which produce NaN's in song, etc columns. Other NaN's will be left in since other columns in the same row have important data we don't want to throw away just yet."
   ]
  },
  {
   "cell_type": "code",
   "execution_count": 19,
   "metadata": {
    "execution": {
     "iopub.execute_input": "2021-02-01T19:12:26.070682Z",
     "iopub.status.busy": "2021-02-01T19:12:26.069548Z",
     "iopub.status.idle": "2021-02-01T19:12:27.354355Z",
     "shell.execute_reply": "2021-02-01T19:12:27.353753Z"
    },
    "papermill": {
     "duration": 1.40233,
     "end_time": "2021-02-01T19:12:27.354491",
     "exception": false,
     "start_time": "2021-02-01T19:12:25.952161",
     "status": "completed"
    },
    "tags": []
   },
   "outputs": [
    {
     "data": {
      "text/plain": [
       "ts                    0\n",
       "userId                0\n",
       "sessionId             0\n",
       "page                  0\n",
       "auth                  0\n",
       "method                0\n",
       "status                0\n",
       "level                 0\n",
       "itemInSession         0\n",
       "location          15606\n",
       "userAgent         15606\n",
       "lastName          15606\n",
       "firstName         15606\n",
       "registration      15606\n",
       "gender            15606\n",
       "artist           110734\n",
       "song             110734\n",
       "length           110734\n",
       "dtype: int64"
      ]
     },
     "execution_count": 19,
     "metadata": {},
     "output_type": "execute_result"
    }
   ],
   "source": [
    "df.isnull().sum()"
   ]
  },
  {
   "cell_type": "code",
   "execution_count": 20,
   "metadata": {
    "execution": {
     "iopub.execute_input": "2021-02-01T19:12:27.593032Z",
     "iopub.status.busy": "2021-02-01T19:12:27.591932Z",
     "iopub.status.idle": "2021-02-01T19:12:29.142772Z",
     "shell.execute_reply": "2021-02-01T19:12:29.141918Z"
    },
    "papermill": {
     "duration": 1.674459,
     "end_time": "2021-02-01T19:12:29.142979",
     "exception": false,
     "start_time": "2021-02-01T19:12:27.468520",
     "status": "completed"
    },
    "tags": []
   },
   "outputs": [
    {
     "data": {
      "text/plain": [
       "ts                   0\n",
       "userId           15606\n",
       "sessionId            0\n",
       "page                 0\n",
       "auth                 0\n",
       "method               0\n",
       "status               0\n",
       "level                0\n",
       "itemInSession        0\n",
       "location             0\n",
       "userAgent            0\n",
       "lastName             0\n",
       "firstName            0\n",
       "registration         0\n",
       "gender               0\n",
       "artist               0\n",
       "song                 0\n",
       "length               0\n",
       "dtype: int64"
      ]
     },
     "execution_count": 20,
     "metadata": {},
     "output_type": "execute_result"
    }
   ],
   "source": [
    "#On top of NaN, we want to check for missing strings\n",
    "df.eq('').sum()"
   ]
  },
  {
   "cell_type": "code",
   "execution_count": 21,
   "metadata": {
    "execution": {
     "iopub.execute_input": "2021-02-01T19:12:29.537813Z",
     "iopub.status.busy": "2021-02-01T19:12:29.536577Z",
     "iopub.status.idle": "2021-02-01T19:12:29.594532Z",
     "shell.execute_reply": "2021-02-01T19:12:29.593392Z"
    },
    "papermill": {
     "duration": 0.306422,
     "end_time": "2021-02-01T19:12:29.594705",
     "exception": false,
     "start_time": "2021-02-01T19:12:29.288283",
     "status": "completed"
    },
    "tags": []
   },
   "outputs": [
    {
     "data": {
      "text/html": [
       "<div>\n",
       "<style scoped>\n",
       "    .dataframe tbody tr th:only-of-type {\n",
       "        vertical-align: middle;\n",
       "    }\n",
       "\n",
       "    .dataframe tbody tr th {\n",
       "        vertical-align: top;\n",
       "    }\n",
       "\n",
       "    .dataframe thead th {\n",
       "        text-align: right;\n",
       "    }\n",
       "</style>\n",
       "<table border=\"1\" class=\"dataframe\">\n",
       "  <thead>\n",
       "    <tr style=\"text-align: right;\">\n",
       "      <th></th>\n",
       "      <th>ts</th>\n",
       "      <th>userId</th>\n",
       "      <th>sessionId</th>\n",
       "      <th>page</th>\n",
       "      <th>auth</th>\n",
       "      <th>method</th>\n",
       "      <th>status</th>\n",
       "      <th>level</th>\n",
       "      <th>itemInSession</th>\n",
       "      <th>location</th>\n",
       "      <th>userAgent</th>\n",
       "      <th>lastName</th>\n",
       "      <th>firstName</th>\n",
       "      <th>registration</th>\n",
       "      <th>gender</th>\n",
       "      <th>artist</th>\n",
       "      <th>song</th>\n",
       "      <th>length</th>\n",
       "    </tr>\n",
       "  </thead>\n",
       "  <tbody>\n",
       "    <tr>\n",
       "      <th>6</th>\n",
       "      <td>1538352148000</td>\n",
       "      <td></td>\n",
       "      <td>178</td>\n",
       "      <td>Home</td>\n",
       "      <td>Logged Out</td>\n",
       "      <td>GET</td>\n",
       "      <td>200</td>\n",
       "      <td>paid</td>\n",
       "      <td>186</td>\n",
       "      <td>NaN</td>\n",
       "      <td>NaN</td>\n",
       "      <td>NaN</td>\n",
       "      <td>NaN</td>\n",
       "      <td>NaN</td>\n",
       "      <td>NaN</td>\n",
       "      <td>NaN</td>\n",
       "      <td>NaN</td>\n",
       "      <td>NaN</td>\n",
       "    </tr>\n",
       "    <tr>\n",
       "      <th>7</th>\n",
       "      <td>1538352151000</td>\n",
       "      <td></td>\n",
       "      <td>178</td>\n",
       "      <td>Home</td>\n",
       "      <td>Logged Out</td>\n",
       "      <td>GET</td>\n",
       "      <td>200</td>\n",
       "      <td>paid</td>\n",
       "      <td>187</td>\n",
       "      <td>NaN</td>\n",
       "      <td>NaN</td>\n",
       "      <td>NaN</td>\n",
       "      <td>NaN</td>\n",
       "      <td>NaN</td>\n",
       "      <td>NaN</td>\n",
       "      <td>NaN</td>\n",
       "      <td>NaN</td>\n",
       "      <td>NaN</td>\n",
       "    </tr>\n",
       "    <tr>\n",
       "      <th>8</th>\n",
       "      <td>1538352168000</td>\n",
       "      <td></td>\n",
       "      <td>178</td>\n",
       "      <td>Home</td>\n",
       "      <td>Logged Out</td>\n",
       "      <td>GET</td>\n",
       "      <td>200</td>\n",
       "      <td>paid</td>\n",
       "      <td>188</td>\n",
       "      <td>NaN</td>\n",
       "      <td>NaN</td>\n",
       "      <td>NaN</td>\n",
       "      <td>NaN</td>\n",
       "      <td>NaN</td>\n",
       "      <td>NaN</td>\n",
       "      <td>NaN</td>\n",
       "      <td>NaN</td>\n",
       "      <td>NaN</td>\n",
       "    </tr>\n",
       "    <tr>\n",
       "      <th>9</th>\n",
       "      <td>1538352169000</td>\n",
       "      <td></td>\n",
       "      <td>178</td>\n",
       "      <td>Login</td>\n",
       "      <td>Logged Out</td>\n",
       "      <td>PUT</td>\n",
       "      <td>307</td>\n",
       "      <td>paid</td>\n",
       "      <td>189</td>\n",
       "      <td>NaN</td>\n",
       "      <td>NaN</td>\n",
       "      <td>NaN</td>\n",
       "      <td>NaN</td>\n",
       "      <td>NaN</td>\n",
       "      <td>NaN</td>\n",
       "      <td>NaN</td>\n",
       "      <td>NaN</td>\n",
       "      <td>NaN</td>\n",
       "    </tr>\n",
       "    <tr>\n",
       "      <th>70</th>\n",
       "      <td>1538353292000</td>\n",
       "      <td></td>\n",
       "      <td>442</td>\n",
       "      <td>Home</td>\n",
       "      <td>Logged Out</td>\n",
       "      <td>GET</td>\n",
       "      <td>200</td>\n",
       "      <td>free</td>\n",
       "      <td>114</td>\n",
       "      <td>NaN</td>\n",
       "      <td>NaN</td>\n",
       "      <td>NaN</td>\n",
       "      <td>NaN</td>\n",
       "      <td>NaN</td>\n",
       "      <td>NaN</td>\n",
       "      <td>NaN</td>\n",
       "      <td>NaN</td>\n",
       "      <td>NaN</td>\n",
       "    </tr>\n",
       "    <tr>\n",
       "      <th>...</th>\n",
       "      <td>...</td>\n",
       "      <td>...</td>\n",
       "      <td>...</td>\n",
       "      <td>...</td>\n",
       "      <td>...</td>\n",
       "      <td>...</td>\n",
       "      <td>...</td>\n",
       "      <td>...</td>\n",
       "      <td>...</td>\n",
       "      <td>...</td>\n",
       "      <td>...</td>\n",
       "      <td>...</td>\n",
       "      <td>...</td>\n",
       "      <td>...</td>\n",
       "      <td>...</td>\n",
       "      <td>...</td>\n",
       "      <td>...</td>\n",
       "      <td>...</td>\n",
       "    </tr>\n",
       "    <tr>\n",
       "      <th>543561</th>\n",
       "      <td>1543617570000</td>\n",
       "      <td></td>\n",
       "      <td>629</td>\n",
       "      <td>Login</td>\n",
       "      <td>Logged Out</td>\n",
       "      <td>PUT</td>\n",
       "      <td>307</td>\n",
       "      <td>paid</td>\n",
       "      <td>191</td>\n",
       "      <td>NaN</td>\n",
       "      <td>NaN</td>\n",
       "      <td>NaN</td>\n",
       "      <td>NaN</td>\n",
       "      <td>NaN</td>\n",
       "      <td>NaN</td>\n",
       "      <td>NaN</td>\n",
       "      <td>NaN</td>\n",
       "      <td>NaN</td>\n",
       "    </tr>\n",
       "    <tr>\n",
       "      <th>543625</th>\n",
       "      <td>1543619604000</td>\n",
       "      <td></td>\n",
       "      <td>981</td>\n",
       "      <td>Home</td>\n",
       "      <td>Logged Out</td>\n",
       "      <td>GET</td>\n",
       "      <td>200</td>\n",
       "      <td>paid</td>\n",
       "      <td>97</td>\n",
       "      <td>NaN</td>\n",
       "      <td>NaN</td>\n",
       "      <td>NaN</td>\n",
       "      <td>NaN</td>\n",
       "      <td>NaN</td>\n",
       "      <td>NaN</td>\n",
       "      <td>NaN</td>\n",
       "      <td>NaN</td>\n",
       "      <td>NaN</td>\n",
       "    </tr>\n",
       "    <tr>\n",
       "      <th>543626</th>\n",
       "      <td>1543619605000</td>\n",
       "      <td></td>\n",
       "      <td>981</td>\n",
       "      <td>Login</td>\n",
       "      <td>Logged Out</td>\n",
       "      <td>PUT</td>\n",
       "      <td>307</td>\n",
       "      <td>paid</td>\n",
       "      <td>98</td>\n",
       "      <td>NaN</td>\n",
       "      <td>NaN</td>\n",
       "      <td>NaN</td>\n",
       "      <td>NaN</td>\n",
       "      <td>NaN</td>\n",
       "      <td>NaN</td>\n",
       "      <td>NaN</td>\n",
       "      <td>NaN</td>\n",
       "      <td>NaN</td>\n",
       "    </tr>\n",
       "    <tr>\n",
       "      <th>543655</th>\n",
       "      <td>1543620697000</td>\n",
       "      <td></td>\n",
       "      <td>991</td>\n",
       "      <td>Home</td>\n",
       "      <td>Logged Out</td>\n",
       "      <td>GET</td>\n",
       "      <td>200</td>\n",
       "      <td>paid</td>\n",
       "      <td>135</td>\n",
       "      <td>NaN</td>\n",
       "      <td>NaN</td>\n",
       "      <td>NaN</td>\n",
       "      <td>NaN</td>\n",
       "      <td>NaN</td>\n",
       "      <td>NaN</td>\n",
       "      <td>NaN</td>\n",
       "      <td>NaN</td>\n",
       "      <td>NaN</td>\n",
       "    </tr>\n",
       "    <tr>\n",
       "      <th>543656</th>\n",
       "      <td>1543620698000</td>\n",
       "      <td></td>\n",
       "      <td>991</td>\n",
       "      <td>Login</td>\n",
       "      <td>Logged Out</td>\n",
       "      <td>PUT</td>\n",
       "      <td>307</td>\n",
       "      <td>paid</td>\n",
       "      <td>136</td>\n",
       "      <td>NaN</td>\n",
       "      <td>NaN</td>\n",
       "      <td>NaN</td>\n",
       "      <td>NaN</td>\n",
       "      <td>NaN</td>\n",
       "      <td>NaN</td>\n",
       "      <td>NaN</td>\n",
       "      <td>NaN</td>\n",
       "      <td>NaN</td>\n",
       "    </tr>\n",
       "  </tbody>\n",
       "</table>\n",
       "<p>15606 rows × 18 columns</p>\n",
       "</div>"
      ],
      "text/plain": [
       "                   ts userId  sessionId   page        auth method  status  \\\n",
       "6       1538352148000               178   Home  Logged Out    GET     200   \n",
       "7       1538352151000               178   Home  Logged Out    GET     200   \n",
       "8       1538352168000               178   Home  Logged Out    GET     200   \n",
       "9       1538352169000               178  Login  Logged Out    PUT     307   \n",
       "70      1538353292000               442   Home  Logged Out    GET     200   \n",
       "...               ...    ...        ...    ...         ...    ...     ...   \n",
       "543561  1543617570000               629  Login  Logged Out    PUT     307   \n",
       "543625  1543619604000               981   Home  Logged Out    GET     200   \n",
       "543626  1543619605000               981  Login  Logged Out    PUT     307   \n",
       "543655  1543620697000               991   Home  Logged Out    GET     200   \n",
       "543656  1543620698000               991  Login  Logged Out    PUT     307   \n",
       "\n",
       "       level  itemInSession location userAgent lastName firstName  \\\n",
       "6       paid            186      NaN       NaN      NaN       NaN   \n",
       "7       paid            187      NaN       NaN      NaN       NaN   \n",
       "8       paid            188      NaN       NaN      NaN       NaN   \n",
       "9       paid            189      NaN       NaN      NaN       NaN   \n",
       "70      free            114      NaN       NaN      NaN       NaN   \n",
       "...      ...            ...      ...       ...      ...       ...   \n",
       "543561  paid            191      NaN       NaN      NaN       NaN   \n",
       "543625  paid             97      NaN       NaN      NaN       NaN   \n",
       "543626  paid             98      NaN       NaN      NaN       NaN   \n",
       "543655  paid            135      NaN       NaN      NaN       NaN   \n",
       "543656  paid            136      NaN       NaN      NaN       NaN   \n",
       "\n",
       "        registration gender artist song  length  \n",
       "6                NaN    NaN    NaN  NaN     NaN  \n",
       "7                NaN    NaN    NaN  NaN     NaN  \n",
       "8                NaN    NaN    NaN  NaN     NaN  \n",
       "9                NaN    NaN    NaN  NaN     NaN  \n",
       "70               NaN    NaN    NaN  NaN     NaN  \n",
       "...              ...    ...    ...  ...     ...  \n",
       "543561           NaN    NaN    NaN  NaN     NaN  \n",
       "543625           NaN    NaN    NaN  NaN     NaN  \n",
       "543626           NaN    NaN    NaN  NaN     NaN  \n",
       "543655           NaN    NaN    NaN  NaN     NaN  \n",
       "543656           NaN    NaN    NaN  NaN     NaN  \n",
       "\n",
       "[15606 rows x 18 columns]"
      ]
     },
     "execution_count": 21,
     "metadata": {},
     "output_type": "execute_result"
    }
   ],
   "source": [
    "df.loc[df['userId'] == '']"
   ]
  },
  {
   "cell_type": "code",
   "execution_count": 22,
   "metadata": {
    "execution": {
     "iopub.execute_input": "2021-02-01T19:12:29.956344Z",
     "iopub.status.busy": "2021-02-01T19:12:29.955109Z",
     "iopub.status.idle": "2021-02-01T19:12:29.985362Z",
     "shell.execute_reply": "2021-02-01T19:12:29.984681Z"
    },
    "papermill": {
     "duration": 0.281028,
     "end_time": "2021-02-01T19:12:29.985654",
     "exception": false,
     "start_time": "2021-02-01T19:12:29.704626",
     "status": "completed"
    },
    "tags": []
   },
   "outputs": [
    {
     "data": {
      "text/plain": [
       "False    15606\n",
       "Name: artist, dtype: int64"
      ]
     },
     "execution_count": 22,
     "metadata": {},
     "output_type": "execute_result"
    }
   ],
   "source": [
    "blank_userid=df.loc[df['userId'] == '']\n",
    "blank_userid.artist.notnull().value_counts() #all NaN"
   ]
  },
  {
   "cell_type": "code",
   "execution_count": 23,
   "metadata": {
    "execution": {
     "iopub.execute_input": "2021-02-01T19:12:30.210415Z",
     "iopub.status.busy": "2021-02-01T19:12:30.209459Z",
     "iopub.status.idle": "2021-02-01T19:12:30.214681Z",
     "shell.execute_reply": "2021-02-01T19:12:30.213984Z"
    },
    "papermill": {
     "duration": 0.119985,
     "end_time": "2021-02-01T19:12:30.214809",
     "exception": false,
     "start_time": "2021-02-01T19:12:30.094824",
     "status": "completed"
    },
    "tags": []
   },
   "outputs": [
    {
     "data": {
      "text/plain": [
       "(543611, 18)"
      ]
     },
     "execution_count": 23,
     "metadata": {},
     "output_type": "execute_result"
    }
   ],
   "source": [
    "#Reminder:\n",
    "df.shape"
   ]
  },
  {
   "cell_type": "code",
   "execution_count": 24,
   "metadata": {
    "execution": {
     "iopub.execute_input": "2021-02-01T19:12:30.523226Z",
     "iopub.status.busy": "2021-02-01T19:12:30.503666Z",
     "iopub.status.idle": "2021-02-01T19:12:31.154228Z",
     "shell.execute_reply": "2021-02-01T19:12:31.154814Z"
    },
    "papermill": {
     "duration": 0.830615,
     "end_time": "2021-02-01T19:12:31.155041",
     "exception": false,
     "start_time": "2021-02-01T19:12:30.324426",
     "status": "completed"
    },
    "tags": []
   },
   "outputs": [],
   "source": [
    "#Drop UserId rows with empty strings\n",
    "df['userId'].replace('', np.nan, inplace=True)\n",
    "df.dropna(subset=['userId'], inplace=True)"
   ]
  },
  {
   "cell_type": "code",
   "execution_count": 25,
   "metadata": {
    "execution": {
     "iopub.execute_input": "2021-02-01T19:12:31.401574Z",
     "iopub.status.busy": "2021-02-01T19:12:31.400681Z",
     "iopub.status.idle": "2021-02-01T19:12:31.406201Z",
     "shell.execute_reply": "2021-02-01T19:12:31.405467Z"
    },
    "papermill": {
     "duration": 0.141395,
     "end_time": "2021-02-01T19:12:31.406348",
     "exception": false,
     "start_time": "2021-02-01T19:12:31.264953",
     "status": "completed"
    },
    "tags": []
   },
   "outputs": [
    {
     "data": {
      "text/html": [
       "<div>\n",
       "<style scoped>\n",
       "    .dataframe tbody tr th:only-of-type {\n",
       "        vertical-align: middle;\n",
       "    }\n",
       "\n",
       "    .dataframe tbody tr th {\n",
       "        vertical-align: top;\n",
       "    }\n",
       "\n",
       "    .dataframe thead th {\n",
       "        text-align: right;\n",
       "    }\n",
       "</style>\n",
       "<table border=\"1\" class=\"dataframe\">\n",
       "  <thead>\n",
       "    <tr style=\"text-align: right;\">\n",
       "      <th></th>\n",
       "      <th>ts</th>\n",
       "      <th>userId</th>\n",
       "      <th>sessionId</th>\n",
       "      <th>page</th>\n",
       "      <th>auth</th>\n",
       "      <th>method</th>\n",
       "      <th>status</th>\n",
       "      <th>level</th>\n",
       "      <th>itemInSession</th>\n",
       "      <th>location</th>\n",
       "      <th>userAgent</th>\n",
       "      <th>lastName</th>\n",
       "      <th>firstName</th>\n",
       "      <th>registration</th>\n",
       "      <th>gender</th>\n",
       "      <th>artist</th>\n",
       "      <th>song</th>\n",
       "      <th>length</th>\n",
       "    </tr>\n",
       "  </thead>\n",
       "  <tbody>\n",
       "    <tr>\n",
       "      <th>0</th>\n",
       "      <td>1538352011000</td>\n",
       "      <td>293</td>\n",
       "      <td>292</td>\n",
       "      <td>NextSong</td>\n",
       "      <td>Logged In</td>\n",
       "      <td>PUT</td>\n",
       "      <td>200</td>\n",
       "      <td>free</td>\n",
       "      <td>20</td>\n",
       "      <td>Corpus Christi, TX</td>\n",
       "      <td>\"Mozilla/5.0 (Macintosh; Intel Mac OS X 10_9_4...</td>\n",
       "      <td>Morales</td>\n",
       "      <td>Joseph</td>\n",
       "      <td>1.532064e+12</td>\n",
       "      <td>M</td>\n",
       "      <td>Martin Orford</td>\n",
       "      <td>Grand Designs</td>\n",
       "      <td>597.55057</td>\n",
       "    </tr>\n",
       "    <tr>\n",
       "      <th>1</th>\n",
       "      <td>1538352025000</td>\n",
       "      <td>98</td>\n",
       "      <td>97</td>\n",
       "      <td>NextSong</td>\n",
       "      <td>Logged In</td>\n",
       "      <td>PUT</td>\n",
       "      <td>200</td>\n",
       "      <td>free</td>\n",
       "      <td>74</td>\n",
       "      <td>Houston-The Woodlands-Sugar Land, TX</td>\n",
       "      <td>\"Mozilla/5.0 (Macintosh; Intel Mac OS X 10_9_4...</td>\n",
       "      <td>Larson</td>\n",
       "      <td>Sawyer</td>\n",
       "      <td>1.538070e+12</td>\n",
       "      <td>M</td>\n",
       "      <td>John Brown's Body</td>\n",
       "      <td>Bulls</td>\n",
       "      <td>380.21179</td>\n",
       "    </tr>\n",
       "    <tr>\n",
       "      <th>2</th>\n",
       "      <td>1538352118000</td>\n",
       "      <td>179</td>\n",
       "      <td>178</td>\n",
       "      <td>NextSong</td>\n",
       "      <td>Logged In</td>\n",
       "      <td>PUT</td>\n",
       "      <td>200</td>\n",
       "      <td>paid</td>\n",
       "      <td>184</td>\n",
       "      <td>Orlando-Kissimmee-Sanford, FL</td>\n",
       "      <td>\"Mozilla/5.0 (Macintosh; Intel Mac OS X 10_9_4...</td>\n",
       "      <td>Santiago</td>\n",
       "      <td>Maverick</td>\n",
       "      <td>1.535953e+12</td>\n",
       "      <td>M</td>\n",
       "      <td>Afroman</td>\n",
       "      <td>Because I Got High</td>\n",
       "      <td>202.37016</td>\n",
       "    </tr>\n",
       "  </tbody>\n",
       "</table>\n",
       "</div>"
      ],
      "text/plain": [
       "              ts userId  sessionId      page       auth method  status level  \\\n",
       "0  1538352011000    293        292  NextSong  Logged In    PUT     200  free   \n",
       "1  1538352025000     98         97  NextSong  Logged In    PUT     200  free   \n",
       "2  1538352118000    179        178  NextSong  Logged In    PUT     200  paid   \n",
       "\n",
       "   itemInSession                              location  \\\n",
       "0             20                    Corpus Christi, TX   \n",
       "1             74  Houston-The Woodlands-Sugar Land, TX   \n",
       "2            184         Orlando-Kissimmee-Sanford, FL   \n",
       "\n",
       "                                           userAgent  lastName firstName  \\\n",
       "0  \"Mozilla/5.0 (Macintosh; Intel Mac OS X 10_9_4...   Morales    Joseph   \n",
       "1  \"Mozilla/5.0 (Macintosh; Intel Mac OS X 10_9_4...    Larson    Sawyer   \n",
       "2  \"Mozilla/5.0 (Macintosh; Intel Mac OS X 10_9_4...  Santiago  Maverick   \n",
       "\n",
       "   registration gender             artist                song     length  \n",
       "0  1.532064e+12      M      Martin Orford       Grand Designs  597.55057  \n",
       "1  1.538070e+12      M  John Brown's Body               Bulls  380.21179  \n",
       "2  1.535953e+12      M            Afroman  Because I Got High  202.37016  "
      ]
     },
     "execution_count": 25,
     "metadata": {},
     "output_type": "execute_result"
    }
   ],
   "source": [
    "df.head(3)"
   ]
  },
  {
   "cell_type": "code",
   "execution_count": 26,
   "metadata": {
    "execution": {
     "iopub.execute_input": "2021-02-01T19:12:31.632369Z",
     "iopub.status.busy": "2021-02-01T19:12:31.631250Z",
     "iopub.status.idle": "2021-02-01T19:12:31.636955Z",
     "shell.execute_reply": "2021-02-01T19:12:31.636372Z"
    },
    "papermill": {
     "duration": 0.120871,
     "end_time": "2021-02-01T19:12:31.637090",
     "exception": false,
     "start_time": "2021-02-01T19:12:31.516219",
     "status": "completed"
    },
    "tags": []
   },
   "outputs": [
    {
     "data": {
      "text/plain": [
       "(528005, 18)"
      ]
     },
     "execution_count": 26,
     "metadata": {},
     "output_type": "execute_result"
    }
   ],
   "source": [
    "df.shape"
   ]
  },
  {
   "cell_type": "code",
   "execution_count": 27,
   "metadata": {
    "execution": {
     "iopub.execute_input": "2021-02-01T19:12:31.900273Z",
     "iopub.status.busy": "2021-02-01T19:12:31.899090Z",
     "iopub.status.idle": "2021-02-01T19:12:31.905101Z",
     "shell.execute_reply": "2021-02-01T19:12:31.903995Z"
    },
    "papermill": {
     "duration": 0.15122,
     "end_time": "2021-02-01T19:12:31.905298",
     "exception": false,
     "start_time": "2021-02-01T19:12:31.754078",
     "status": "completed"
    },
    "tags": []
   },
   "outputs": [
    {
     "data": {
      "text/plain": [
       "0.028708028351155514"
      ]
     },
     "execution_count": 27,
     "metadata": {},
     "output_type": "execute_result"
    }
   ],
   "source": [
    "(543611-528005)/543611 #Reduction (Small)"
   ]
  },
  {
   "cell_type": "code",
   "execution_count": 28,
   "metadata": {
    "execution": {
     "iopub.execute_input": "2021-02-01T19:12:32.312739Z",
     "iopub.status.busy": "2021-02-01T19:12:32.312001Z",
     "iopub.status.idle": "2021-02-01T19:12:32.334157Z",
     "shell.execute_reply": "2021-02-01T19:12:32.333530Z"
    },
    "papermill": {
     "duration": 0.301551,
     "end_time": "2021-02-01T19:12:32.334304",
     "exception": false,
     "start_time": "2021-02-01T19:12:32.032753",
     "status": "completed"
    },
    "tags": []
   },
   "outputs": [
    {
     "data": {
      "text/html": [
       "<div>\n",
       "<style scoped>\n",
       "    .dataframe tbody tr th:only-of-type {\n",
       "        vertical-align: middle;\n",
       "    }\n",
       "\n",
       "    .dataframe tbody tr th {\n",
       "        vertical-align: top;\n",
       "    }\n",
       "\n",
       "    .dataframe thead th {\n",
       "        text-align: right;\n",
       "    }\n",
       "</style>\n",
       "<table border=\"1\" class=\"dataframe\">\n",
       "  <thead>\n",
       "    <tr style=\"text-align: right;\">\n",
       "      <th></th>\n",
       "      <th>ts</th>\n",
       "      <th>userId</th>\n",
       "      <th>sessionId</th>\n",
       "      <th>page</th>\n",
       "      <th>auth</th>\n",
       "      <th>method</th>\n",
       "      <th>status</th>\n",
       "      <th>level</th>\n",
       "      <th>itemInSession</th>\n",
       "      <th>location</th>\n",
       "      <th>userAgent</th>\n",
       "      <th>lastName</th>\n",
       "      <th>firstName</th>\n",
       "      <th>registration</th>\n",
       "      <th>gender</th>\n",
       "      <th>artist</th>\n",
       "      <th>song</th>\n",
       "      <th>length</th>\n",
       "    </tr>\n",
       "  </thead>\n",
       "  <tbody>\n",
       "  </tbody>\n",
       "</table>\n",
       "</div>"
      ],
      "text/plain": [
       "Empty DataFrame\n",
       "Columns: [ts, userId, sessionId, page, auth, method, status, level, itemInSession, location, userAgent, lastName, firstName, registration, gender, artist, song, length]\n",
       "Index: []"
      ]
     },
     "execution_count": 28,
     "metadata": {},
     "output_type": "execute_result"
    }
   ],
   "source": [
    "#What sort of information is releveant to churn when auth = 'Logged Out'\n",
    "df.loc[df['auth'] == 'Logged Out']"
   ]
  },
  {
   "cell_type": "markdown",
   "metadata": {
    "papermill": {
     "duration": 0.112667,
     "end_time": "2021-02-01T19:12:32.557082",
     "exception": false,
     "start_time": "2021-02-01T19:12:32.444415",
     "status": "completed"
    },
    "tags": []
   },
   "source": [
    "Awesome! As soon as empty strings in userId were eliminated, so were all Logged Out entries."
   ]
  },
  {
   "cell_type": "code",
   "execution_count": 29,
   "metadata": {
    "execution": {
     "iopub.execute_input": "2021-02-01T19:12:32.967486Z",
     "iopub.status.busy": "2021-02-01T19:12:32.966686Z",
     "iopub.status.idle": "2021-02-01T19:12:33.091018Z",
     "shell.execute_reply": "2021-02-01T19:12:33.089748Z"
    },
    "papermill": {
     "duration": 0.404334,
     "end_time": "2021-02-01T19:12:33.091180",
     "exception": false,
     "start_time": "2021-02-01T19:12:32.686846",
     "status": "completed"
    },
    "tags": []
   },
   "outputs": [
    {
     "data": {
      "text/plain": [
       "Logged In    527906\n",
       "Cancelled        99\n",
       "Name: auth, dtype: int64"
      ]
     },
     "execution_count": 29,
     "metadata": {},
     "output_type": "execute_result"
    }
   ],
   "source": [
    "df.auth.value_counts()"
   ]
  },
  {
   "cell_type": "markdown",
   "metadata": {
    "papermill": {
     "duration": 0.109979,
     "end_time": "2021-02-01T19:12:33.310989",
     "exception": false,
     "start_time": "2021-02-01T19:12:33.201010",
     "status": "completed"
    },
    "tags": []
   },
   "source": [
    "So all we have left is Logged In and Cancelled which represent non-churn and churnned customers."
   ]
  },
  {
   "cell_type": "markdown",
   "metadata": {
    "papermill": {
     "duration": 0.107173,
     "end_time": "2021-02-01T19:12:33.526936",
     "exception": false,
     "start_time": "2021-02-01T19:12:33.419763",
     "status": "completed"
    },
    "tags": []
   },
   "source": [
    "# Exploratory Data Analysis (EDA)"
   ]
  },
  {
   "cell_type": "markdown",
   "metadata": {
    "papermill": {
     "duration": 0.109436,
     "end_time": "2021-02-01T19:12:33.744787",
     "exception": false,
     "start_time": "2021-02-01T19:12:33.635351",
     "status": "completed"
    },
    "tags": []
   },
   "source": [
    "The goal here is to first make our target column/feature 'churn'. And given this, we can then go into exploring any correlations with churn. For example, we can see if there is any dip in songs played for those who churn. So let's get started!"
   ]
  },
  {
   "cell_type": "markdown",
   "metadata": {
    "papermill": {
     "duration": 0.117038,
     "end_time": "2021-02-01T19:12:33.972581",
     "exception": false,
     "start_time": "2021-02-01T19:12:33.855543",
     "status": "completed"
    },
    "tags": []
   },
   "source": [
    "## Target Value Column"
   ]
  },
  {
   "cell_type": "markdown",
   "metadata": {
    "papermill": {
     "duration": 0.110607,
     "end_time": "2021-02-01T19:12:34.190806",
     "exception": false,
     "start_time": "2021-02-01T19:12:34.080199",
     "status": "completed"
    },
    "tags": []
   },
   "source": [
    "Reminder: The company wishes to predict which customers are likely to churn by cancelling their account.\n",
    "\n",
    "Defining churn as df.page = 'Cancellation Confirmation' or 'Cancel'"
   ]
  },
  {
   "cell_type": "code",
   "execution_count": 30,
   "metadata": {
    "execution": {
     "iopub.execute_input": "2021-02-01T19:12:34.478392Z",
     "iopub.status.busy": "2021-02-01T19:12:34.477526Z",
     "iopub.status.idle": "2021-02-01T19:12:45.983686Z",
     "shell.execute_reply": "2021-02-01T19:12:45.983023Z"
    },
    "papermill": {
     "duration": 11.684057,
     "end_time": "2021-02-01T19:12:45.983828",
     "exception": false,
     "start_time": "2021-02-01T19:12:34.299771",
     "status": "completed"
    },
    "tags": []
   },
   "outputs": [],
   "source": [
    "def churn(row):\n",
    "    if (row['page'] == 'Cancellation Confirmation')| (row['page'] == 'Cancel'):\n",
    "        return 1\n",
    "    else:\n",
    "        return 0\n",
    "\n",
    "df['churn'] = df.apply(churn, axis=1)"
   ]
  },
  {
   "cell_type": "code",
   "execution_count": 31,
   "metadata": {
    "execution": {
     "iopub.execute_input": "2021-02-01T19:12:46.208132Z",
     "iopub.status.busy": "2021-02-01T19:12:46.207305Z",
     "iopub.status.idle": "2021-02-01T19:12:46.218790Z",
     "shell.execute_reply": "2021-02-01T19:12:46.218194Z"
    },
    "papermill": {
     "duration": 0.124711,
     "end_time": "2021-02-01T19:12:46.218952",
     "exception": false,
     "start_time": "2021-02-01T19:12:46.094241",
     "status": "completed"
    },
    "tags": []
   },
   "outputs": [
    {
     "data": {
      "text/plain": [
       "0    527807\n",
       "1       198\n",
       "Name: churn, dtype: int64"
      ]
     },
     "execution_count": 31,
     "metadata": {},
     "output_type": "execute_result"
    }
   ],
   "source": [
    "df.churn.value_counts() #huge class imbalance though reminder that there are many userId duplicates"
   ]
  },
  {
   "cell_type": "code",
   "execution_count": 32,
   "metadata": {
    "execution": {
     "iopub.execute_input": "2021-02-01T19:12:46.555814Z",
     "iopub.status.busy": "2021-02-01T19:12:46.554730Z",
     "iopub.status.idle": "2021-02-01T19:12:46.622083Z",
     "shell.execute_reply": "2021-02-01T19:12:46.621436Z"
    },
    "papermill": {
     "duration": 0.294466,
     "end_time": "2021-02-01T19:12:46.622211",
     "exception": false,
     "start_time": "2021-02-01T19:12:46.327745",
     "status": "completed"
    },
    "tags": []
   },
   "outputs": [
    {
     "data": {
      "text/plain": [
       "448"
      ]
     },
     "execution_count": 32,
     "metadata": {},
     "output_type": "execute_result"
    }
   ],
   "source": [
    "df.userId.nunique()"
   ]
  },
  {
   "cell_type": "code",
   "execution_count": 33,
   "metadata": {
    "execution": {
     "iopub.execute_input": "2021-02-01T19:12:46.849192Z",
     "iopub.status.busy": "2021-02-01T19:12:46.848392Z",
     "iopub.status.idle": "2021-02-01T19:12:47.030243Z",
     "shell.execute_reply": "2021-02-01T19:12:47.030796Z"
    },
    "papermill": {
     "duration": 0.297558,
     "end_time": "2021-02-01T19:12:47.030998",
     "exception": false,
     "start_time": "2021-02-01T19:12:46.733440",
     "status": "completed"
    },
    "tags": []
   },
   "outputs": [
    {
     "data": {
      "text/plain": [
       "44.19642857142857"
      ]
     },
     "execution_count": 33,
     "metadata": {},
     "output_type": "execute_result"
    }
   ],
   "source": [
    "#Churn percentage = (churn # / unique users)*100\n",
    "(df.churn.value_counts().values[1]/df.userId.nunique())*100"
   ]
  },
  {
   "cell_type": "markdown",
   "metadata": {
    "papermill": {
     "duration": 0.108493,
     "end_time": "2021-02-01T19:12:47.248165",
     "exception": false,
     "start_time": "2021-02-01T19:12:47.139672",
     "status": "completed"
    },
    "tags": []
   },
   "source": [
    "## Churn Metrics"
   ]
  },
  {
   "cell_type": "markdown",
   "metadata": {
    "papermill": {
     "duration": 0.107854,
     "end_time": "2021-02-01T19:12:47.464927",
     "exception": false,
     "start_time": "2021-02-01T19:12:47.357073",
     "status": "completed"
    },
    "tags": []
   },
   "source": [
    "### Average number of song plays per unique user for those who churned and did not churn"
   ]
  },
  {
   "cell_type": "code",
   "execution_count": 34,
   "metadata": {
    "execution": {
     "iopub.execute_input": "2021-02-01T19:12:47.688619Z",
     "iopub.status.busy": "2021-02-01T19:12:47.687726Z",
     "iopub.status.idle": "2021-02-01T19:12:47.723446Z",
     "shell.execute_reply": "2021-02-01T19:12:47.724027Z"
    },
    "papermill": {
     "duration": 0.150206,
     "end_time": "2021-02-01T19:12:47.724221",
     "exception": false,
     "start_time": "2021-02-01T19:12:47.574015",
     "status": "completed"
    },
    "tags": []
   },
   "outputs": [
    {
     "data": {
      "text/plain": [
       "2554         208\n",
       "2555         208\n",
       "6757         231\n",
       "6758         231\n",
       "12641        236\n",
       "           ...  \n",
       "465426    200020\n",
       "499613    300004\n",
       "499615    300004\n",
       "499910    300047\n",
       "499913    300047\n",
       "Name: userId, Length: 198, dtype: object"
      ]
     },
     "execution_count": 34,
     "metadata": {},
     "output_type": "execute_result"
    }
   ],
   "source": [
    "#churn ID's\n",
    "df.loc[df['churn'] == 1].userId #all unique"
   ]
  },
  {
   "cell_type": "code",
   "execution_count": 35,
   "metadata": {
    "execution": {
     "iopub.execute_input": "2021-02-01T19:12:47.950236Z",
     "iopub.status.busy": "2021-02-01T19:12:47.949530Z",
     "iopub.status.idle": "2021-02-01T19:12:48.580850Z",
     "shell.execute_reply": "2021-02-01T19:12:48.580234Z"
    },
    "papermill": {
     "duration": 0.74491,
     "end_time": "2021-02-01T19:12:48.581008",
     "exception": false,
     "start_time": "2021-02-01T19:12:47.836098",
     "status": "completed"
    },
    "tags": []
   },
   "outputs": [
    {
     "data": {
      "text/html": [
       "<div>\n",
       "<style scoped>\n",
       "    .dataframe tbody tr th:only-of-type {\n",
       "        vertical-align: middle;\n",
       "    }\n",
       "\n",
       "    .dataframe tbody tr th {\n",
       "        vertical-align: top;\n",
       "    }\n",
       "\n",
       "    .dataframe thead th {\n",
       "        text-align: right;\n",
       "    }\n",
       "</style>\n",
       "<table border=\"1\" class=\"dataframe\">\n",
       "  <thead>\n",
       "    <tr style=\"text-align: right;\">\n",
       "      <th></th>\n",
       "      <th>ts</th>\n",
       "      <th>userId</th>\n",
       "      <th>sessionId</th>\n",
       "      <th>page</th>\n",
       "      <th>auth</th>\n",
       "      <th>method</th>\n",
       "      <th>status</th>\n",
       "      <th>level</th>\n",
       "      <th>itemInSession</th>\n",
       "      <th>location</th>\n",
       "      <th>userAgent</th>\n",
       "      <th>lastName</th>\n",
       "      <th>firstName</th>\n",
       "      <th>registration</th>\n",
       "      <th>gender</th>\n",
       "      <th>artist</th>\n",
       "      <th>song</th>\n",
       "      <th>length</th>\n",
       "      <th>churn</th>\n",
       "    </tr>\n",
       "  </thead>\n",
       "  <tbody>\n",
       "    <tr>\n",
       "      <th>0</th>\n",
       "      <td>1538352011000</td>\n",
       "      <td>293</td>\n",
       "      <td>292</td>\n",
       "      <td>NextSong</td>\n",
       "      <td>Logged In</td>\n",
       "      <td>PUT</td>\n",
       "      <td>200</td>\n",
       "      <td>free</td>\n",
       "      <td>20</td>\n",
       "      <td>Corpus Christi, TX</td>\n",
       "      <td>\"Mozilla/5.0 (Macintosh; Intel Mac OS X 10_9_4...</td>\n",
       "      <td>Morales</td>\n",
       "      <td>Joseph</td>\n",
       "      <td>1.532064e+12</td>\n",
       "      <td>M</td>\n",
       "      <td>Martin Orford</td>\n",
       "      <td>Grand Designs</td>\n",
       "      <td>597.55057</td>\n",
       "      <td>0</td>\n",
       "    </tr>\n",
       "    <tr>\n",
       "      <th>4</th>\n",
       "      <td>1538352124000</td>\n",
       "      <td>246</td>\n",
       "      <td>245</td>\n",
       "      <td>NextSong</td>\n",
       "      <td>Logged In</td>\n",
       "      <td>PUT</td>\n",
       "      <td>200</td>\n",
       "      <td>paid</td>\n",
       "      <td>22</td>\n",
       "      <td>Mobile, AL</td>\n",
       "      <td>Mozilla/5.0 (Windows NT 6.1; WOW64; rv:31.0) G...</td>\n",
       "      <td>Campos</td>\n",
       "      <td>Gianna</td>\n",
       "      <td>1.535931e+12</td>\n",
       "      <td>F</td>\n",
       "      <td>Lily Allen</td>\n",
       "      <td>Smile (Radio Edit)</td>\n",
       "      <td>194.53342</td>\n",
       "      <td>0</td>\n",
       "    </tr>\n",
       "    <tr>\n",
       "      <th>15</th>\n",
       "      <td>1538352318000</td>\n",
       "      <td>246</td>\n",
       "      <td>245</td>\n",
       "      <td>NextSong</td>\n",
       "      <td>Logged In</td>\n",
       "      <td>PUT</td>\n",
       "      <td>200</td>\n",
       "      <td>paid</td>\n",
       "      <td>23</td>\n",
       "      <td>Mobile, AL</td>\n",
       "      <td>Mozilla/5.0 (Windows NT 6.1; WOW64; rv:31.0) G...</td>\n",
       "      <td>Campos</td>\n",
       "      <td>Gianna</td>\n",
       "      <td>1.535931e+12</td>\n",
       "      <td>F</td>\n",
       "      <td>Bob Dylan</td>\n",
       "      <td>Simple Twist Of Fate</td>\n",
       "      <td>256.96608</td>\n",
       "      <td>0</td>\n",
       "    </tr>\n",
       "    <tr>\n",
       "      <th>17</th>\n",
       "      <td>1538352323000</td>\n",
       "      <td>39</td>\n",
       "      <td>38</td>\n",
       "      <td>NextSong</td>\n",
       "      <td>Logged In</td>\n",
       "      <td>PUT</td>\n",
       "      <td>200</td>\n",
       "      <td>free</td>\n",
       "      <td>83</td>\n",
       "      <td>Los Angeles-Long Beach-Anaheim, CA</td>\n",
       "      <td>\"Mozilla/5.0 (Windows NT 6.1; WOW64) AppleWebK...</td>\n",
       "      <td>Campbell</td>\n",
       "      <td>Payton</td>\n",
       "      <td>1.529028e+12</td>\n",
       "      <td>F</td>\n",
       "      <td>Black Kids</td>\n",
       "      <td>Look At Me (When I Rock Wichoo)</td>\n",
       "      <td>251.48036</td>\n",
       "      <td>0</td>\n",
       "    </tr>\n",
       "    <tr>\n",
       "      <th>27</th>\n",
       "      <td>1538352574000</td>\n",
       "      <td>246</td>\n",
       "      <td>245</td>\n",
       "      <td>NextSong</td>\n",
       "      <td>Logged In</td>\n",
       "      <td>PUT</td>\n",
       "      <td>200</td>\n",
       "      <td>paid</td>\n",
       "      <td>24</td>\n",
       "      <td>Mobile, AL</td>\n",
       "      <td>Mozilla/5.0 (Windows NT 6.1; WOW64; rv:31.0) G...</td>\n",
       "      <td>Campos</td>\n",
       "      <td>Gianna</td>\n",
       "      <td>1.535931e+12</td>\n",
       "      <td>F</td>\n",
       "      <td>The Script</td>\n",
       "      <td>Breakeven</td>\n",
       "      <td>260.67546</td>\n",
       "      <td>0</td>\n",
       "    </tr>\n",
       "    <tr>\n",
       "      <th>...</th>\n",
       "      <td>...</td>\n",
       "      <td>...</td>\n",
       "      <td>...</td>\n",
       "      <td>...</td>\n",
       "      <td>...</td>\n",
       "      <td>...</td>\n",
       "      <td>...</td>\n",
       "      <td>...</td>\n",
       "      <td>...</td>\n",
       "      <td>...</td>\n",
       "      <td>...</td>\n",
       "      <td>...</td>\n",
       "      <td>...</td>\n",
       "      <td>...</td>\n",
       "      <td>...</td>\n",
       "      <td>...</td>\n",
       "      <td>...</td>\n",
       "      <td>...</td>\n",
       "      <td>...</td>\n",
       "    </tr>\n",
       "    <tr>\n",
       "      <th>499881</th>\n",
       "      <td>1540710689000</td>\n",
       "      <td>300047</td>\n",
       "      <td>258</td>\n",
       "      <td>NextSong</td>\n",
       "      <td>Logged In</td>\n",
       "      <td>PUT</td>\n",
       "      <td>200</td>\n",
       "      <td>paid</td>\n",
       "      <td>30</td>\n",
       "      <td>Newport, TN</td>\n",
       "      <td>Mozilla/5.0 (Windows NT 6.1; WOW64; rv:31.0) G...</td>\n",
       "      <td>Jimenez</td>\n",
       "      <td>Addison</td>\n",
       "      <td>1.534487e+12</td>\n",
       "      <td>F</td>\n",
       "      <td>Yellowcard</td>\n",
       "      <td>Martin Sheen Or JFK</td>\n",
       "      <td>226.79465</td>\n",
       "      <td>0</td>\n",
       "    </tr>\n",
       "    <tr>\n",
       "      <th>499886</th>\n",
       "      <td>1540710915000</td>\n",
       "      <td>300047</td>\n",
       "      <td>258</td>\n",
       "      <td>NextSong</td>\n",
       "      <td>Logged In</td>\n",
       "      <td>PUT</td>\n",
       "      <td>200</td>\n",
       "      <td>paid</td>\n",
       "      <td>31</td>\n",
       "      <td>Newport, TN</td>\n",
       "      <td>Mozilla/5.0 (Windows NT 6.1; WOW64; rv:31.0) G...</td>\n",
       "      <td>Jimenez</td>\n",
       "      <td>Addison</td>\n",
       "      <td>1.534487e+12</td>\n",
       "      <td>F</td>\n",
       "      <td>Travis Tritt</td>\n",
       "      <td>T-R-O-U-B-L-E</td>\n",
       "      <td>181.28934</td>\n",
       "      <td>0</td>\n",
       "    </tr>\n",
       "    <tr>\n",
       "      <th>499894</th>\n",
       "      <td>1540711096000</td>\n",
       "      <td>300047</td>\n",
       "      <td>258</td>\n",
       "      <td>NextSong</td>\n",
       "      <td>Logged In</td>\n",
       "      <td>PUT</td>\n",
       "      <td>200</td>\n",
       "      <td>paid</td>\n",
       "      <td>32</td>\n",
       "      <td>Newport, TN</td>\n",
       "      <td>Mozilla/5.0 (Windows NT 6.1; WOW64; rv:31.0) G...</td>\n",
       "      <td>Jimenez</td>\n",
       "      <td>Addison</td>\n",
       "      <td>1.534487e+12</td>\n",
       "      <td>F</td>\n",
       "      <td>Racey</td>\n",
       "      <td>Not Too Young To Get Married</td>\n",
       "      <td>182.69995</td>\n",
       "      <td>0</td>\n",
       "    </tr>\n",
       "    <tr>\n",
       "      <th>499897</th>\n",
       "      <td>1540711278000</td>\n",
       "      <td>300047</td>\n",
       "      <td>258</td>\n",
       "      <td>NextSong</td>\n",
       "      <td>Logged In</td>\n",
       "      <td>PUT</td>\n",
       "      <td>200</td>\n",
       "      <td>paid</td>\n",
       "      <td>33</td>\n",
       "      <td>Newport, TN</td>\n",
       "      <td>Mozilla/5.0 (Windows NT 6.1; WOW64; rv:31.0) G...</td>\n",
       "      <td>Jimenez</td>\n",
       "      <td>Addison</td>\n",
       "      <td>1.534487e+12</td>\n",
       "      <td>F</td>\n",
       "      <td>The Temptations</td>\n",
       "      <td>Santa Claus Is Comin' To Town</td>\n",
       "      <td>205.40036</td>\n",
       "      <td>0</td>\n",
       "    </tr>\n",
       "    <tr>\n",
       "      <th>499903</th>\n",
       "      <td>1540711483000</td>\n",
       "      <td>300047</td>\n",
       "      <td>258</td>\n",
       "      <td>NextSong</td>\n",
       "      <td>Logged In</td>\n",
       "      <td>PUT</td>\n",
       "      <td>200</td>\n",
       "      <td>paid</td>\n",
       "      <td>34</td>\n",
       "      <td>Newport, TN</td>\n",
       "      <td>Mozilla/5.0 (Windows NT 6.1; WOW64; rv:31.0) G...</td>\n",
       "      <td>Jimenez</td>\n",
       "      <td>Addison</td>\n",
       "      <td>1.534487e+12</td>\n",
       "      <td>F</td>\n",
       "      <td>R. Kelly</td>\n",
       "      <td>Intermission</td>\n",
       "      <td>150.07302</td>\n",
       "      <td>0</td>\n",
       "    </tr>\n",
       "  </tbody>\n",
       "</table>\n",
       "<p>84359 rows × 19 columns</p>\n",
       "</div>"
      ],
      "text/plain": [
       "                   ts  userId  sessionId      page       auth method  status  \\\n",
       "0       1538352011000     293        292  NextSong  Logged In    PUT     200   \n",
       "4       1538352124000     246        245  NextSong  Logged In    PUT     200   \n",
       "15      1538352318000     246        245  NextSong  Logged In    PUT     200   \n",
       "17      1538352323000      39         38  NextSong  Logged In    PUT     200   \n",
       "27      1538352574000     246        245  NextSong  Logged In    PUT     200   \n",
       "...               ...     ...        ...       ...        ...    ...     ...   \n",
       "499881  1540710689000  300047        258  NextSong  Logged In    PUT     200   \n",
       "499886  1540710915000  300047        258  NextSong  Logged In    PUT     200   \n",
       "499894  1540711096000  300047        258  NextSong  Logged In    PUT     200   \n",
       "499897  1540711278000  300047        258  NextSong  Logged In    PUT     200   \n",
       "499903  1540711483000  300047        258  NextSong  Logged In    PUT     200   \n",
       "\n",
       "       level  itemInSession                            location  \\\n",
       "0       free             20                  Corpus Christi, TX   \n",
       "4       paid             22                          Mobile, AL   \n",
       "15      paid             23                          Mobile, AL   \n",
       "17      free             83  Los Angeles-Long Beach-Anaheim, CA   \n",
       "27      paid             24                          Mobile, AL   \n",
       "...      ...            ...                                 ...   \n",
       "499881  paid             30                         Newport, TN   \n",
       "499886  paid             31                         Newport, TN   \n",
       "499894  paid             32                         Newport, TN   \n",
       "499897  paid             33                         Newport, TN   \n",
       "499903  paid             34                         Newport, TN   \n",
       "\n",
       "                                                userAgent  lastName firstName  \\\n",
       "0       \"Mozilla/5.0 (Macintosh; Intel Mac OS X 10_9_4...   Morales    Joseph   \n",
       "4       Mozilla/5.0 (Windows NT 6.1; WOW64; rv:31.0) G...    Campos    Gianna   \n",
       "15      Mozilla/5.0 (Windows NT 6.1; WOW64; rv:31.0) G...    Campos    Gianna   \n",
       "17      \"Mozilla/5.0 (Windows NT 6.1; WOW64) AppleWebK...  Campbell    Payton   \n",
       "27      Mozilla/5.0 (Windows NT 6.1; WOW64; rv:31.0) G...    Campos    Gianna   \n",
       "...                                                   ...       ...       ...   \n",
       "499881  Mozilla/5.0 (Windows NT 6.1; WOW64; rv:31.0) G...   Jimenez   Addison   \n",
       "499886  Mozilla/5.0 (Windows NT 6.1; WOW64; rv:31.0) G...   Jimenez   Addison   \n",
       "499894  Mozilla/5.0 (Windows NT 6.1; WOW64; rv:31.0) G...   Jimenez   Addison   \n",
       "499897  Mozilla/5.0 (Windows NT 6.1; WOW64; rv:31.0) G...   Jimenez   Addison   \n",
       "499903  Mozilla/5.0 (Windows NT 6.1; WOW64; rv:31.0) G...   Jimenez   Addison   \n",
       "\n",
       "        registration gender           artist                             song  \\\n",
       "0       1.532064e+12      M    Martin Orford                    Grand Designs   \n",
       "4       1.535931e+12      F       Lily Allen               Smile (Radio Edit)   \n",
       "15      1.535931e+12      F        Bob Dylan             Simple Twist Of Fate   \n",
       "17      1.529028e+12      F       Black Kids  Look At Me (When I Rock Wichoo)   \n",
       "27      1.535931e+12      F       The Script                        Breakeven   \n",
       "...              ...    ...              ...                              ...   \n",
       "499881  1.534487e+12      F       Yellowcard              Martin Sheen Or JFK   \n",
       "499886  1.534487e+12      F     Travis Tritt                    T-R-O-U-B-L-E   \n",
       "499894  1.534487e+12      F            Racey     Not Too Young To Get Married   \n",
       "499897  1.534487e+12      F  The Temptations    Santa Claus Is Comin' To Town   \n",
       "499903  1.534487e+12      F         R. Kelly                     Intermission   \n",
       "\n",
       "           length  churn  \n",
       "0       597.55057      0  \n",
       "4       194.53342      0  \n",
       "15      256.96608      0  \n",
       "17      251.48036      0  \n",
       "27      260.67546      0  \n",
       "...           ...    ...  \n",
       "499881  226.79465      0  \n",
       "499886  181.28934      0  \n",
       "499894  182.69995      0  \n",
       "499897  205.40036      0  \n",
       "499903  150.07302      0  \n",
       "\n",
       "[84359 rows x 19 columns]"
      ]
     },
     "execution_count": 35,
     "metadata": {},
     "output_type": "execute_result"
    }
   ],
   "source": [
    "#songs played for churn ID's\n",
    "song_df = df.loc[df['page'] == 'NextSong']\n",
    "song_df.loc[song_df['userId'].isin(df.loc[df['churn'] == 1].userId)]"
   ]
  },
  {
   "cell_type": "markdown",
   "metadata": {
    "papermill": {
     "duration": 0.113898,
     "end_time": "2021-02-01T19:12:48.806854",
     "exception": false,
     "start_time": "2021-02-01T19:12:48.692956",
     "status": "completed"
    },
    "tags": []
   },
   "source": [
    "84359 song-plays by those who eventually churn"
   ]
  },
  {
   "cell_type": "code",
   "execution_count": 36,
   "metadata": {
    "execution": {
     "iopub.execute_input": "2021-02-01T19:12:49.051845Z",
     "iopub.status.busy": "2021-02-01T19:12:49.051084Z",
     "iopub.status.idle": "2021-02-01T19:12:49.690086Z",
     "shell.execute_reply": "2021-02-01T19:12:49.689429Z"
    },
    "papermill": {
     "duration": 0.764107,
     "end_time": "2021-02-01T19:12:49.690214",
     "exception": false,
     "start_time": "2021-02-01T19:12:48.926107",
     "status": "completed"
    },
    "tags": []
   },
   "outputs": [
    {
     "data": {
      "text/plain": [
       "448"
      ]
     },
     "execution_count": 36,
     "metadata": {},
     "output_type": "execute_result"
    }
   ],
   "source": [
    "#non-churn ID's\n",
    "df.loc[df['churn'] == 0].userId.nunique() #total unique"
   ]
  },
  {
   "cell_type": "code",
   "execution_count": 37,
   "metadata": {
    "execution": {
     "iopub.execute_input": "2021-02-01T19:12:49.925163Z",
     "iopub.status.busy": "2021-02-01T19:12:49.923790Z",
     "iopub.status.idle": "2021-02-01T19:12:50.556196Z",
     "shell.execute_reply": "2021-02-01T19:12:50.555493Z"
    },
    "papermill": {
     "duration": 0.753361,
     "end_time": "2021-02-01T19:12:50.556329",
     "exception": false,
     "start_time": "2021-02-01T19:12:49.802968",
     "status": "completed"
    },
    "tags": []
   },
   "outputs": [
    {
     "data": {
      "text/plain": [
       "array(['293', '98', '179', '246', '163', '175', '100', '39', '147', '196',\n",
       "       '275', '54', '223', '273', '74', '101', '166', '301', '288', '248',\n",
       "       '250', '127', '28', '207', '282', '262', '131', '42', '154', '18',\n",
       "       '142', '45', '95', '78', '87', '51', '236', '251', '126', '85',\n",
       "       '173', '185', '36', '208', '192', '187', '92', '27', '143', '119',\n",
       "       '232', '162', '140', '6', '124', '93', '238', '274', '174', '40',\n",
       "       '113', '167', '170', '25', '137', '65', '241', '172', '53', '299',\n",
       "       '195', '276', '59', '198', '58', '214', '283', '231', '160', '32',\n",
       "       '29', '291', '295', '61', '225', '284', '270', '21', '234', '68',\n",
       "       '132', '156', '219', '86', '136', '80', '296', '110', '182', '130',\n",
       "       '169', '239', '212', '129', '244', '121', '125', '77', '82', '233',\n",
       "       '117', '138', '76', '7', '206', '13', '201', '118', '261', '268',\n",
       "       '258', '16', '226', '105', '96', '57', '115', '164', '211', '221',\n",
       "       '30', '55', '178', '12', '152', '20', '224', '73', '159', '220',\n",
       "       '188', '298', '203', '255', '242', '228', '67', '114', '264',\n",
       "       '281', '184', '168', '99', '70', '4', '263', '88', '235', '259',\n",
       "       '35', '146', '24', '153', '103', '216', '191', '49', '75', '135',\n",
       "       '41', '128', '292', '200', '171', '111', '205', '230', '260',\n",
       "       '112', '181', '48', '66', '183', '83', '237', '269', '277', '90',\n",
       "       '9', '11', '52', '271', '91', '290', '102', '265', '37', '145',\n",
       "       '157', '151', '17', '215', '193', '217', '104', '287', '148',\n",
       "       '190', '165', '89', '120', '107', '97', '94', '109', '210', '279',\n",
       "       '134', '189', '123', '294', '10', '2', '139', '218', '199', '141',\n",
       "       '197', '186', '33', '285', '106', '252', '5', '122', '15', '150',\n",
       "       '26', '44', '254', '71', '222', '180', '194', '81', '56', '209',\n",
       "       '34', '38', '158', '60', '297', '176', '227', '46', '245', '289',\n",
       "       '14', '300', '69', '155', '47', '247', '144', '256', '62', '23',\n",
       "       '272', '43', '149', '64', '280', '267', '8', '278', '213', '204',\n",
       "       '108', '79', '19', '253', '302', '50', '22', '240', '202', '63',\n",
       "       '177', '161', '257', '72', '116', '286', '133', '305', '266', '3',\n",
       "       '100049', '100028', '100009', '100047', '100022', '100001',\n",
       "       '100038', '100025', '100005', '100011', '100030', '100036',\n",
       "       '100042', '100046', '100015', '100033', '100016', '100044',\n",
       "       '100024', '100037', '100013', '100007', '100004', '100027',\n",
       "       '100014', '100026', '100043', '100020', '100041', '100048',\n",
       "       '100032', '100039', '100023', '100008', '100018', '100006',\n",
       "       '100012', '100010', '100050', '100019', '100003', '100002',\n",
       "       '100031', '100021', '100040', '100029', '100045', '100034',\n",
       "       '100035', '100017', '100051', '200009', '200045', '200006',\n",
       "       '200019', '200002', '200026', '200022', '200011', '200020',\n",
       "       '200030', '200041', '200034', '200028', '200043', '200024',\n",
       "       '200016', '200023', '200010', '200038', '200015', '200048',\n",
       "       '200005', '200050', '200021', '200003', '200004', '200017',\n",
       "       '200042', '200047', '200001', '200025', '200018', '200046',\n",
       "       '200036', '200037', '200027', '200040', '200008', '200049',\n",
       "       '200013', '200007', '200014', '200044', '200029', '200035',\n",
       "       '200039', '200033', '200031', '200012', '300049', '300002',\n",
       "       '300001', '300035', '300041', '300038', '300017', '300033',\n",
       "       '300027', '300015', '300011', '300018', '300023', '300021',\n",
       "       '300036', '300046', '300030', '300050', '300044', '300031',\n",
       "       '300024', '300019', '300042', '300009', '300047', '300008',\n",
       "       '300022', '300045', '300004', '300034', '300012', '300025',\n",
       "       '300040', '300005', '300010', '300016', '300020', '300048',\n",
       "       '300013', '300029', '300014', '300007', '300006', '300003',\n",
       "       '300032', '300043', '300028', '300051', '300026', '300039',\n",
       "       '300037'], dtype=object)"
      ]
     },
     "execution_count": 37,
     "metadata": {},
     "output_type": "execute_result"
    }
   ],
   "source": [
    "df.loc[df['churn'] == 0].userId.unique() "
   ]
  },
  {
   "cell_type": "code",
   "execution_count": 38,
   "metadata": {
    "execution": {
     "iopub.execute_input": "2021-02-01T19:12:50.790272Z",
     "iopub.status.busy": "2021-02-01T19:12:50.789001Z",
     "iopub.status.idle": "2021-02-01T19:12:51.843152Z",
     "shell.execute_reply": "2021-02-01T19:12:51.842343Z"
    },
    "papermill": {
     "duration": 1.174138,
     "end_time": "2021-02-01T19:12:51.843283",
     "exception": false,
     "start_time": "2021-02-01T19:12:50.669145",
     "status": "completed"
    },
    "tags": []
   },
   "outputs": [
    {
     "data": {
      "text/html": [
       "<div>\n",
       "<style scoped>\n",
       "    .dataframe tbody tr th:only-of-type {\n",
       "        vertical-align: middle;\n",
       "    }\n",
       "\n",
       "    .dataframe tbody tr th {\n",
       "        vertical-align: top;\n",
       "    }\n",
       "\n",
       "    .dataframe thead th {\n",
       "        text-align: right;\n",
       "    }\n",
       "</style>\n",
       "<table border=\"1\" class=\"dataframe\">\n",
       "  <thead>\n",
       "    <tr style=\"text-align: right;\">\n",
       "      <th></th>\n",
       "      <th>ts</th>\n",
       "      <th>userId</th>\n",
       "      <th>sessionId</th>\n",
       "      <th>page</th>\n",
       "      <th>auth</th>\n",
       "      <th>method</th>\n",
       "      <th>status</th>\n",
       "      <th>level</th>\n",
       "      <th>itemInSession</th>\n",
       "      <th>location</th>\n",
       "      <th>userAgent</th>\n",
       "      <th>lastName</th>\n",
       "      <th>firstName</th>\n",
       "      <th>registration</th>\n",
       "      <th>gender</th>\n",
       "      <th>artist</th>\n",
       "      <th>song</th>\n",
       "      <th>length</th>\n",
       "      <th>churn</th>\n",
       "    </tr>\n",
       "  </thead>\n",
       "  <tbody>\n",
       "    <tr>\n",
       "      <th>0</th>\n",
       "      <td>1538352011000</td>\n",
       "      <td>293</td>\n",
       "      <td>292</td>\n",
       "      <td>NextSong</td>\n",
       "      <td>Logged In</td>\n",
       "      <td>PUT</td>\n",
       "      <td>200</td>\n",
       "      <td>free</td>\n",
       "      <td>20</td>\n",
       "      <td>Corpus Christi, TX</td>\n",
       "      <td>\"Mozilla/5.0 (Macintosh; Intel Mac OS X 10_9_4...</td>\n",
       "      <td>Morales</td>\n",
       "      <td>Joseph</td>\n",
       "      <td>1.532064e+12</td>\n",
       "      <td>M</td>\n",
       "      <td>Martin Orford</td>\n",
       "      <td>Grand Designs</td>\n",
       "      <td>597.55057</td>\n",
       "      <td>0</td>\n",
       "    </tr>\n",
       "    <tr>\n",
       "      <th>1</th>\n",
       "      <td>1538352025000</td>\n",
       "      <td>98</td>\n",
       "      <td>97</td>\n",
       "      <td>NextSong</td>\n",
       "      <td>Logged In</td>\n",
       "      <td>PUT</td>\n",
       "      <td>200</td>\n",
       "      <td>free</td>\n",
       "      <td>74</td>\n",
       "      <td>Houston-The Woodlands-Sugar Land, TX</td>\n",
       "      <td>\"Mozilla/5.0 (Macintosh; Intel Mac OS X 10_9_4...</td>\n",
       "      <td>Larson</td>\n",
       "      <td>Sawyer</td>\n",
       "      <td>1.538070e+12</td>\n",
       "      <td>M</td>\n",
       "      <td>John Brown's Body</td>\n",
       "      <td>Bulls</td>\n",
       "      <td>380.21179</td>\n",
       "      <td>0</td>\n",
       "    </tr>\n",
       "    <tr>\n",
       "      <th>2</th>\n",
       "      <td>1538352118000</td>\n",
       "      <td>179</td>\n",
       "      <td>178</td>\n",
       "      <td>NextSong</td>\n",
       "      <td>Logged In</td>\n",
       "      <td>PUT</td>\n",
       "      <td>200</td>\n",
       "      <td>paid</td>\n",
       "      <td>184</td>\n",
       "      <td>Orlando-Kissimmee-Sanford, FL</td>\n",
       "      <td>\"Mozilla/5.0 (Macintosh; Intel Mac OS X 10_9_4...</td>\n",
       "      <td>Santiago</td>\n",
       "      <td>Maverick</td>\n",
       "      <td>1.535953e+12</td>\n",
       "      <td>M</td>\n",
       "      <td>Afroman</td>\n",
       "      <td>Because I Got High</td>\n",
       "      <td>202.37016</td>\n",
       "      <td>0</td>\n",
       "    </tr>\n",
       "    <tr>\n",
       "      <th>4</th>\n",
       "      <td>1538352124000</td>\n",
       "      <td>246</td>\n",
       "      <td>245</td>\n",
       "      <td>NextSong</td>\n",
       "      <td>Logged In</td>\n",
       "      <td>PUT</td>\n",
       "      <td>200</td>\n",
       "      <td>paid</td>\n",
       "      <td>22</td>\n",
       "      <td>Mobile, AL</td>\n",
       "      <td>Mozilla/5.0 (Windows NT 6.1; WOW64; rv:31.0) G...</td>\n",
       "      <td>Campos</td>\n",
       "      <td>Gianna</td>\n",
       "      <td>1.535931e+12</td>\n",
       "      <td>F</td>\n",
       "      <td>Lily Allen</td>\n",
       "      <td>Smile (Radio Edit)</td>\n",
       "      <td>194.53342</td>\n",
       "      <td>0</td>\n",
       "    </tr>\n",
       "    <tr>\n",
       "      <th>5</th>\n",
       "      <td>1538352125000</td>\n",
       "      <td>163</td>\n",
       "      <td>162</td>\n",
       "      <td>NextSong</td>\n",
       "      <td>Logged In</td>\n",
       "      <td>PUT</td>\n",
       "      <td>200</td>\n",
       "      <td>paid</td>\n",
       "      <td>266</td>\n",
       "      <td>Rochester, MN</td>\n",
       "      <td>\"Mozilla/5.0 (Macintosh; Intel Mac OS X 10_9_4...</td>\n",
       "      <td>Gordon</td>\n",
       "      <td>Sofia</td>\n",
       "      <td>1.533176e+12</td>\n",
       "      <td>F</td>\n",
       "      <td>Carter USM</td>\n",
       "      <td>Airplane Food</td>\n",
       "      <td>138.29179</td>\n",
       "      <td>0</td>\n",
       "    </tr>\n",
       "    <tr>\n",
       "      <th>...</th>\n",
       "      <td>...</td>\n",
       "      <td>...</td>\n",
       "      <td>...</td>\n",
       "      <td>...</td>\n",
       "      <td>...</td>\n",
       "      <td>...</td>\n",
       "      <td>...</td>\n",
       "      <td>...</td>\n",
       "      <td>...</td>\n",
       "      <td>...</td>\n",
       "      <td>...</td>\n",
       "      <td>...</td>\n",
       "      <td>...</td>\n",
       "      <td>...</td>\n",
       "      <td>...</td>\n",
       "      <td>...</td>\n",
       "      <td>...</td>\n",
       "      <td>...</td>\n",
       "      <td>...</td>\n",
       "    </tr>\n",
       "    <tr>\n",
       "      <th>543700</th>\n",
       "      <td>1543622316000</td>\n",
       "      <td>300010</td>\n",
       "      <td>882</td>\n",
       "      <td>NextSong</td>\n",
       "      <td>Logged In</td>\n",
       "      <td>PUT</td>\n",
       "      <td>200</td>\n",
       "      <td>paid</td>\n",
       "      <td>165</td>\n",
       "      <td>Dallas-Fort Worth-Arlington, TX</td>\n",
       "      <td>\"Mozilla/5.0 (Macintosh; Intel Mac OS X 10_9_4...</td>\n",
       "      <td>Jackson</td>\n",
       "      <td>Clayton</td>\n",
       "      <td>1.536850e+12</td>\n",
       "      <td>M</td>\n",
       "      <td>Oliver Onions</td>\n",
       "      <td>Dune Buggy</td>\n",
       "      <td>183.50975</td>\n",
       "      <td>0</td>\n",
       "    </tr>\n",
       "    <tr>\n",
       "      <th>543701</th>\n",
       "      <td>1543622332000</td>\n",
       "      <td>300049</td>\n",
       "      <td>991</td>\n",
       "      <td>NextSong</td>\n",
       "      <td>Logged In</td>\n",
       "      <td>PUT</td>\n",
       "      <td>200</td>\n",
       "      <td>paid</td>\n",
       "      <td>145</td>\n",
       "      <td>Fresno, CA</td>\n",
       "      <td>\"Mozilla/5.0 (Windows NT 6.1; WOW64) AppleWebK...</td>\n",
       "      <td>Stewart</td>\n",
       "      <td>Daniel</td>\n",
       "      <td>1.537523e+12</td>\n",
       "      <td>M</td>\n",
       "      <td>Sheena Easton</td>\n",
       "      <td>Strut (1993 Digital Remaster)</td>\n",
       "      <td>239.62077</td>\n",
       "      <td>0</td>\n",
       "    </tr>\n",
       "    <tr>\n",
       "      <th>543702</th>\n",
       "      <td>1543622368000</td>\n",
       "      <td>300039</td>\n",
       "      <td>916</td>\n",
       "      <td>NextSong</td>\n",
       "      <td>Logged In</td>\n",
       "      <td>PUT</td>\n",
       "      <td>200</td>\n",
       "      <td>paid</td>\n",
       "      <td>31</td>\n",
       "      <td>Memphis, TN-MS-AR</td>\n",
       "      <td>\"Mozilla/5.0 (Macintosh; Intel Mac OS X 10_9_4...</td>\n",
       "      <td>Jenkins</td>\n",
       "      <td>Jeremiah</td>\n",
       "      <td>1.536229e+12</td>\n",
       "      <td>M</td>\n",
       "      <td>The White Stripes</td>\n",
       "      <td>Jolene [Live]</td>\n",
       "      <td>234.97098</td>\n",
       "      <td>0</td>\n",
       "    </tr>\n",
       "    <tr>\n",
       "      <th>543703</th>\n",
       "      <td>1543622392000</td>\n",
       "      <td>300038</td>\n",
       "      <td>966</td>\n",
       "      <td>NextSong</td>\n",
       "      <td>Logged In</td>\n",
       "      <td>PUT</td>\n",
       "      <td>200</td>\n",
       "      <td>paid</td>\n",
       "      <td>36</td>\n",
       "      <td>Lakeland-Winter Haven, FL</td>\n",
       "      <td>\"Mozilla/5.0 (iPhone; CPU iPhone OS 7_1_2 like...</td>\n",
       "      <td>Reed</td>\n",
       "      <td>Aiden</td>\n",
       "      <td>1.535616e+12</td>\n",
       "      <td>M</td>\n",
       "      <td>Hinder</td>\n",
       "      <td>Lips Of An Angel</td>\n",
       "      <td>262.05995</td>\n",
       "      <td>0</td>\n",
       "    </tr>\n",
       "    <tr>\n",
       "      <th>543704</th>\n",
       "      <td>1543622401000</td>\n",
       "      <td>300015</td>\n",
       "      <td>981</td>\n",
       "      <td>NextSong</td>\n",
       "      <td>Logged In</td>\n",
       "      <td>PUT</td>\n",
       "      <td>200</td>\n",
       "      <td>paid</td>\n",
       "      <td>109</td>\n",
       "      <td>San Antonio-New Braunfels, TX</td>\n",
       "      <td>\"Mozilla/5.0 (iPhone; CPU iPhone OS 7_1_2 like...</td>\n",
       "      <td>White</td>\n",
       "      <td>Joshua</td>\n",
       "      <td>1.528781e+12</td>\n",
       "      <td>M</td>\n",
       "      <td>Jack Johnson</td>\n",
       "      <td>Do You Remember</td>\n",
       "      <td>144.06485</td>\n",
       "      <td>0</td>\n",
       "    </tr>\n",
       "  </tbody>\n",
       "</table>\n",
       "<p>432877 rows × 19 columns</p>\n",
       "</div>"
      ],
      "text/plain": [
       "                   ts  userId  sessionId      page       auth method  status  \\\n",
       "0       1538352011000     293        292  NextSong  Logged In    PUT     200   \n",
       "1       1538352025000      98         97  NextSong  Logged In    PUT     200   \n",
       "2       1538352118000     179        178  NextSong  Logged In    PUT     200   \n",
       "4       1538352124000     246        245  NextSong  Logged In    PUT     200   \n",
       "5       1538352125000     163        162  NextSong  Logged In    PUT     200   \n",
       "...               ...     ...        ...       ...        ...    ...     ...   \n",
       "543700  1543622316000  300010        882  NextSong  Logged In    PUT     200   \n",
       "543701  1543622332000  300049        991  NextSong  Logged In    PUT     200   \n",
       "543702  1543622368000  300039        916  NextSong  Logged In    PUT     200   \n",
       "543703  1543622392000  300038        966  NextSong  Logged In    PUT     200   \n",
       "543704  1543622401000  300015        981  NextSong  Logged In    PUT     200   \n",
       "\n",
       "       level  itemInSession                              location  \\\n",
       "0       free             20                    Corpus Christi, TX   \n",
       "1       free             74  Houston-The Woodlands-Sugar Land, TX   \n",
       "2       paid            184         Orlando-Kissimmee-Sanford, FL   \n",
       "4       paid             22                            Mobile, AL   \n",
       "5       paid            266                         Rochester, MN   \n",
       "...      ...            ...                                   ...   \n",
       "543700  paid            165       Dallas-Fort Worth-Arlington, TX   \n",
       "543701  paid            145                            Fresno, CA   \n",
       "543702  paid             31                     Memphis, TN-MS-AR   \n",
       "543703  paid             36             Lakeland-Winter Haven, FL   \n",
       "543704  paid            109         San Antonio-New Braunfels, TX   \n",
       "\n",
       "                                                userAgent  lastName firstName  \\\n",
       "0       \"Mozilla/5.0 (Macintosh; Intel Mac OS X 10_9_4...   Morales    Joseph   \n",
       "1       \"Mozilla/5.0 (Macintosh; Intel Mac OS X 10_9_4...    Larson    Sawyer   \n",
       "2       \"Mozilla/5.0 (Macintosh; Intel Mac OS X 10_9_4...  Santiago  Maverick   \n",
       "4       Mozilla/5.0 (Windows NT 6.1; WOW64; rv:31.0) G...    Campos    Gianna   \n",
       "5       \"Mozilla/5.0 (Macintosh; Intel Mac OS X 10_9_4...    Gordon     Sofia   \n",
       "...                                                   ...       ...       ...   \n",
       "543700  \"Mozilla/5.0 (Macintosh; Intel Mac OS X 10_9_4...   Jackson   Clayton   \n",
       "543701  \"Mozilla/5.0 (Windows NT 6.1; WOW64) AppleWebK...   Stewart    Daniel   \n",
       "543702  \"Mozilla/5.0 (Macintosh; Intel Mac OS X 10_9_4...   Jenkins  Jeremiah   \n",
       "543703  \"Mozilla/5.0 (iPhone; CPU iPhone OS 7_1_2 like...      Reed     Aiden   \n",
       "543704  \"Mozilla/5.0 (iPhone; CPU iPhone OS 7_1_2 like...     White    Joshua   \n",
       "\n",
       "        registration gender             artist                           song  \\\n",
       "0       1.532064e+12      M      Martin Orford                  Grand Designs   \n",
       "1       1.538070e+12      M  John Brown's Body                          Bulls   \n",
       "2       1.535953e+12      M            Afroman             Because I Got High   \n",
       "4       1.535931e+12      F         Lily Allen             Smile (Radio Edit)   \n",
       "5       1.533176e+12      F         Carter USM                  Airplane Food   \n",
       "...              ...    ...                ...                            ...   \n",
       "543700  1.536850e+12      M      Oliver Onions                     Dune Buggy   \n",
       "543701  1.537523e+12      M      Sheena Easton  Strut (1993 Digital Remaster)   \n",
       "543702  1.536229e+12      M  The White Stripes                  Jolene [Live]   \n",
       "543703  1.535616e+12      M             Hinder               Lips Of An Angel   \n",
       "543704  1.528781e+12      M       Jack Johnson                Do You Remember   \n",
       "\n",
       "           length  churn  \n",
       "0       597.55057      0  \n",
       "1       380.21179      0  \n",
       "2       202.37016      0  \n",
       "4       194.53342      0  \n",
       "5       138.29179      0  \n",
       "...           ...    ...  \n",
       "543700  183.50975      0  \n",
       "543701  239.62077      0  \n",
       "543702  234.97098      0  \n",
       "543703  262.05995      0  \n",
       "543704  144.06485      0  \n",
       "\n",
       "[432877 rows x 19 columns]"
      ]
     },
     "execution_count": 38,
     "metadata": {},
     "output_type": "execute_result"
    }
   ],
   "source": [
    "# total songs played for non-churn ID's\n",
    "song_df.loc[song_df['userId'].isin(df.loc[df['churn'] == 0].userId.unique())]"
   ]
  },
  {
   "cell_type": "markdown",
   "metadata": {
    "papermill": {
     "duration": 0.112407,
     "end_time": "2021-02-01T19:12:52.069600",
     "exception": false,
     "start_time": "2021-02-01T19:12:51.957193",
     "status": "completed"
    },
    "tags": []
   },
   "source": [
    "432877 total song plays from those who did not eventually churn."
   ]
  },
  {
   "cell_type": "code",
   "execution_count": 39,
   "metadata": {
    "execution": {
     "iopub.execute_input": "2021-02-01T19:12:52.418458Z",
     "iopub.status.busy": "2021-02-01T19:12:52.417710Z",
     "iopub.status.idle": "2021-02-01T19:12:52.483436Z",
     "shell.execute_reply": "2021-02-01T19:12:52.482702Z"
    },
    "papermill": {
     "duration": 0.299435,
     "end_time": "2021-02-01T19:12:52.483576",
     "exception": false,
     "start_time": "2021-02-01T19:12:52.184141",
     "status": "completed"
    },
    "tags": []
   },
   "outputs": [
    {
     "data": {
      "text/plain": [
       "448"
      ]
     },
     "execution_count": 39,
     "metadata": {},
     "output_type": "execute_result"
    }
   ],
   "source": [
    "#count unique users on platform\n",
    "df.userId.nunique()"
   ]
  },
  {
   "cell_type": "code",
   "execution_count": 40,
   "metadata": {
    "execution": {
     "iopub.execute_input": "2021-02-01T19:12:52.716984Z",
     "iopub.status.busy": "2021-02-01T19:12:52.716237Z",
     "iopub.status.idle": "2021-02-01T19:12:52.718818Z",
     "shell.execute_reply": "2021-02-01T19:12:52.719361Z"
    },
    "papermill": {
     "duration": 0.122784,
     "end_time": "2021-02-01T19:12:52.719529",
     "exception": false,
     "start_time": "2021-02-01T19:12:52.596745",
     "status": "completed"
    },
    "tags": []
   },
   "outputs": [],
   "source": [
    "#songs counts / distinct user count\n",
    "\n",
    "#churned:\n",
    "churn_avg_song_count = 84359/99\n",
    "\n",
    "#non-churned:\n",
    "non_churn_avg_song_count = 432877/448"
   ]
  },
  {
   "cell_type": "code",
   "execution_count": 41,
   "metadata": {
    "execution": {
     "iopub.execute_input": "2021-02-01T19:12:52.964695Z",
     "iopub.status.busy": "2021-02-01T19:12:52.963923Z",
     "iopub.status.idle": "2021-02-01T19:12:52.968906Z",
     "shell.execute_reply": "2021-02-01T19:12:52.968333Z"
    },
    "papermill": {
     "duration": 0.131843,
     "end_time": "2021-02-01T19:12:52.969044",
     "exception": false,
     "start_time": "2021-02-01T19:12:52.837201",
     "status": "completed"
    },
    "tags": []
   },
   "outputs": [
    {
     "data": {
      "text/html": [
       "<div>\n",
       "<style scoped>\n",
       "    .dataframe tbody tr th:only-of-type {\n",
       "        vertical-align: middle;\n",
       "    }\n",
       "\n",
       "    .dataframe tbody tr th {\n",
       "        vertical-align: top;\n",
       "    }\n",
       "\n",
       "    .dataframe thead th {\n",
       "        text-align: right;\n",
       "    }\n",
       "</style>\n",
       "<table border=\"1\" class=\"dataframe\">\n",
       "  <thead>\n",
       "    <tr style=\"text-align: right;\">\n",
       "      <th></th>\n",
       "      <th>churn</th>\n",
       "      <th>avg_songs_played</th>\n",
       "    </tr>\n",
       "  </thead>\n",
       "  <tbody>\n",
       "    <tr>\n",
       "      <th>0</th>\n",
       "      <td>1</td>\n",
       "      <td>852.111111</td>\n",
       "    </tr>\n",
       "    <tr>\n",
       "      <th>1</th>\n",
       "      <td>0</td>\n",
       "      <td>966.243304</td>\n",
       "    </tr>\n",
       "  </tbody>\n",
       "</table>\n",
       "</div>"
      ],
      "text/plain": [
       "  churn  avg_songs_played\n",
       "0     1        852.111111\n",
       "1     0        966.243304"
      ]
     },
     "execution_count": 41,
     "metadata": {},
     "output_type": "execute_result"
    }
   ],
   "source": [
    "#create df with idx as churn (0/1) and avg # songs played-\n",
    "d = {'churn': ['1', '0'], 'avg_songs_played': [churn_avg_song_count, non_churn_avg_song_count]}\n",
    "av_song_df = pd.DataFrame(data=d)\n",
    "av_song_df"
   ]
  },
  {
   "cell_type": "code",
   "execution_count": 42,
   "metadata": {
    "execution": {
     "iopub.execute_input": "2021-02-01T19:12:53.267632Z",
     "iopub.status.busy": "2021-02-01T19:12:53.266936Z",
     "iopub.status.idle": "2021-02-01T19:12:54.954146Z",
     "shell.execute_reply": "2021-02-01T19:12:54.954735Z"
    },
    "papermill": {
     "duration": 1.805331,
     "end_time": "2021-02-01T19:12:54.954919",
     "exception": false,
     "start_time": "2021-02-01T19:12:53.149588",
     "status": "completed"
    },
    "tags": []
   },
   "outputs": [
    {
     "data": {
      "application/vnd.plotly.v1+json": {
       "config": {
        "plotlyServerURL": "https://plot.ly"
       },
       "data": [
        {
         "alignmentgroup": "True",
         "hovertemplate": "churn=%{x}<br>avg_songs_played=%{y}<extra></extra>",
         "legendgroup": "",
         "marker": {
          "color": "#636efa"
         },
         "name": "",
         "offsetgroup": "",
         "orientation": "v",
         "showlegend": false,
         "textposition": "auto",
         "type": "bar",
         "x": [
          "1",
          "0"
         ],
         "xaxis": "x",
         "y": [
          852.1111111111111,
          966.2433035714286
         ],
         "yaxis": "y"
        }
       ],
       "layout": {
        "barmode": "relative",
        "legend": {
         "tracegroupgap": 0
        },
        "margin": {
         "t": 60
        },
        "template": {
         "data": {
          "bar": [
           {
            "error_x": {
             "color": "#2a3f5f"
            },
            "error_y": {
             "color": "#2a3f5f"
            },
            "marker": {
             "line": {
              "color": "#E5ECF6",
              "width": 0.5
             }
            },
            "type": "bar"
           }
          ],
          "barpolar": [
           {
            "marker": {
             "line": {
              "color": "#E5ECF6",
              "width": 0.5
             }
            },
            "type": "barpolar"
           }
          ],
          "carpet": [
           {
            "aaxis": {
             "endlinecolor": "#2a3f5f",
             "gridcolor": "white",
             "linecolor": "white",
             "minorgridcolor": "white",
             "startlinecolor": "#2a3f5f"
            },
            "baxis": {
             "endlinecolor": "#2a3f5f",
             "gridcolor": "white",
             "linecolor": "white",
             "minorgridcolor": "white",
             "startlinecolor": "#2a3f5f"
            },
            "type": "carpet"
           }
          ],
          "choropleth": [
           {
            "colorbar": {
             "outlinewidth": 0,
             "ticks": ""
            },
            "type": "choropleth"
           }
          ],
          "contour": [
           {
            "colorbar": {
             "outlinewidth": 0,
             "ticks": ""
            },
            "colorscale": [
             [
              0.0,
              "#0d0887"
             ],
             [
              0.1111111111111111,
              "#46039f"
             ],
             [
              0.2222222222222222,
              "#7201a8"
             ],
             [
              0.3333333333333333,
              "#9c179e"
             ],
             [
              0.4444444444444444,
              "#bd3786"
             ],
             [
              0.5555555555555556,
              "#d8576b"
             ],
             [
              0.6666666666666666,
              "#ed7953"
             ],
             [
              0.7777777777777778,
              "#fb9f3a"
             ],
             [
              0.8888888888888888,
              "#fdca26"
             ],
             [
              1.0,
              "#f0f921"
             ]
            ],
            "type": "contour"
           }
          ],
          "contourcarpet": [
           {
            "colorbar": {
             "outlinewidth": 0,
             "ticks": ""
            },
            "type": "contourcarpet"
           }
          ],
          "heatmap": [
           {
            "colorbar": {
             "outlinewidth": 0,
             "ticks": ""
            },
            "colorscale": [
             [
              0.0,
              "#0d0887"
             ],
             [
              0.1111111111111111,
              "#46039f"
             ],
             [
              0.2222222222222222,
              "#7201a8"
             ],
             [
              0.3333333333333333,
              "#9c179e"
             ],
             [
              0.4444444444444444,
              "#bd3786"
             ],
             [
              0.5555555555555556,
              "#d8576b"
             ],
             [
              0.6666666666666666,
              "#ed7953"
             ],
             [
              0.7777777777777778,
              "#fb9f3a"
             ],
             [
              0.8888888888888888,
              "#fdca26"
             ],
             [
              1.0,
              "#f0f921"
             ]
            ],
            "type": "heatmap"
           }
          ],
          "heatmapgl": [
           {
            "colorbar": {
             "outlinewidth": 0,
             "ticks": ""
            },
            "colorscale": [
             [
              0.0,
              "#0d0887"
             ],
             [
              0.1111111111111111,
              "#46039f"
             ],
             [
              0.2222222222222222,
              "#7201a8"
             ],
             [
              0.3333333333333333,
              "#9c179e"
             ],
             [
              0.4444444444444444,
              "#bd3786"
             ],
             [
              0.5555555555555556,
              "#d8576b"
             ],
             [
              0.6666666666666666,
              "#ed7953"
             ],
             [
              0.7777777777777778,
              "#fb9f3a"
             ],
             [
              0.8888888888888888,
              "#fdca26"
             ],
             [
              1.0,
              "#f0f921"
             ]
            ],
            "type": "heatmapgl"
           }
          ],
          "histogram": [
           {
            "marker": {
             "colorbar": {
              "outlinewidth": 0,
              "ticks": ""
             }
            },
            "type": "histogram"
           }
          ],
          "histogram2d": [
           {
            "colorbar": {
             "outlinewidth": 0,
             "ticks": ""
            },
            "colorscale": [
             [
              0.0,
              "#0d0887"
             ],
             [
              0.1111111111111111,
              "#46039f"
             ],
             [
              0.2222222222222222,
              "#7201a8"
             ],
             [
              0.3333333333333333,
              "#9c179e"
             ],
             [
              0.4444444444444444,
              "#bd3786"
             ],
             [
              0.5555555555555556,
              "#d8576b"
             ],
             [
              0.6666666666666666,
              "#ed7953"
             ],
             [
              0.7777777777777778,
              "#fb9f3a"
             ],
             [
              0.8888888888888888,
              "#fdca26"
             ],
             [
              1.0,
              "#f0f921"
             ]
            ],
            "type": "histogram2d"
           }
          ],
          "histogram2dcontour": [
           {
            "colorbar": {
             "outlinewidth": 0,
             "ticks": ""
            },
            "colorscale": [
             [
              0.0,
              "#0d0887"
             ],
             [
              0.1111111111111111,
              "#46039f"
             ],
             [
              0.2222222222222222,
              "#7201a8"
             ],
             [
              0.3333333333333333,
              "#9c179e"
             ],
             [
              0.4444444444444444,
              "#bd3786"
             ],
             [
              0.5555555555555556,
              "#d8576b"
             ],
             [
              0.6666666666666666,
              "#ed7953"
             ],
             [
              0.7777777777777778,
              "#fb9f3a"
             ],
             [
              0.8888888888888888,
              "#fdca26"
             ],
             [
              1.0,
              "#f0f921"
             ]
            ],
            "type": "histogram2dcontour"
           }
          ],
          "mesh3d": [
           {
            "colorbar": {
             "outlinewidth": 0,
             "ticks": ""
            },
            "type": "mesh3d"
           }
          ],
          "parcoords": [
           {
            "line": {
             "colorbar": {
              "outlinewidth": 0,
              "ticks": ""
             }
            },
            "type": "parcoords"
           }
          ],
          "pie": [
           {
            "automargin": true,
            "type": "pie"
           }
          ],
          "scatter": [
           {
            "marker": {
             "colorbar": {
              "outlinewidth": 0,
              "ticks": ""
             }
            },
            "type": "scatter"
           }
          ],
          "scatter3d": [
           {
            "line": {
             "colorbar": {
              "outlinewidth": 0,
              "ticks": ""
             }
            },
            "marker": {
             "colorbar": {
              "outlinewidth": 0,
              "ticks": ""
             }
            },
            "type": "scatter3d"
           }
          ],
          "scattercarpet": [
           {
            "marker": {
             "colorbar": {
              "outlinewidth": 0,
              "ticks": ""
             }
            },
            "type": "scattercarpet"
           }
          ],
          "scattergeo": [
           {
            "marker": {
             "colorbar": {
              "outlinewidth": 0,
              "ticks": ""
             }
            },
            "type": "scattergeo"
           }
          ],
          "scattergl": [
           {
            "marker": {
             "colorbar": {
              "outlinewidth": 0,
              "ticks": ""
             }
            },
            "type": "scattergl"
           }
          ],
          "scattermapbox": [
           {
            "marker": {
             "colorbar": {
              "outlinewidth": 0,
              "ticks": ""
             }
            },
            "type": "scattermapbox"
           }
          ],
          "scatterpolar": [
           {
            "marker": {
             "colorbar": {
              "outlinewidth": 0,
              "ticks": ""
             }
            },
            "type": "scatterpolar"
           }
          ],
          "scatterpolargl": [
           {
            "marker": {
             "colorbar": {
              "outlinewidth": 0,
              "ticks": ""
             }
            },
            "type": "scatterpolargl"
           }
          ],
          "scatterternary": [
           {
            "marker": {
             "colorbar": {
              "outlinewidth": 0,
              "ticks": ""
             }
            },
            "type": "scatterternary"
           }
          ],
          "surface": [
           {
            "colorbar": {
             "outlinewidth": 0,
             "ticks": ""
            },
            "colorscale": [
             [
              0.0,
              "#0d0887"
             ],
             [
              0.1111111111111111,
              "#46039f"
             ],
             [
              0.2222222222222222,
              "#7201a8"
             ],
             [
              0.3333333333333333,
              "#9c179e"
             ],
             [
              0.4444444444444444,
              "#bd3786"
             ],
             [
              0.5555555555555556,
              "#d8576b"
             ],
             [
              0.6666666666666666,
              "#ed7953"
             ],
             [
              0.7777777777777778,
              "#fb9f3a"
             ],
             [
              0.8888888888888888,
              "#fdca26"
             ],
             [
              1.0,
              "#f0f921"
             ]
            ],
            "type": "surface"
           }
          ],
          "table": [
           {
            "cells": {
             "fill": {
              "color": "#EBF0F8"
             },
             "line": {
              "color": "white"
             }
            },
            "header": {
             "fill": {
              "color": "#C8D4E3"
             },
             "line": {
              "color": "white"
             }
            },
            "type": "table"
           }
          ]
         },
         "layout": {
          "annotationdefaults": {
           "arrowcolor": "#2a3f5f",
           "arrowhead": 0,
           "arrowwidth": 1
          },
          "autotypenumbers": "strict",
          "coloraxis": {
           "colorbar": {
            "outlinewidth": 0,
            "ticks": ""
           }
          },
          "colorscale": {
           "diverging": [
            [
             0,
             "#8e0152"
            ],
            [
             0.1,
             "#c51b7d"
            ],
            [
             0.2,
             "#de77ae"
            ],
            [
             0.3,
             "#f1b6da"
            ],
            [
             0.4,
             "#fde0ef"
            ],
            [
             0.5,
             "#f7f7f7"
            ],
            [
             0.6,
             "#e6f5d0"
            ],
            [
             0.7,
             "#b8e186"
            ],
            [
             0.8,
             "#7fbc41"
            ],
            [
             0.9,
             "#4d9221"
            ],
            [
             1,
             "#276419"
            ]
           ],
           "sequential": [
            [
             0.0,
             "#0d0887"
            ],
            [
             0.1111111111111111,
             "#46039f"
            ],
            [
             0.2222222222222222,
             "#7201a8"
            ],
            [
             0.3333333333333333,
             "#9c179e"
            ],
            [
             0.4444444444444444,
             "#bd3786"
            ],
            [
             0.5555555555555556,
             "#d8576b"
            ],
            [
             0.6666666666666666,
             "#ed7953"
            ],
            [
             0.7777777777777778,
             "#fb9f3a"
            ],
            [
             0.8888888888888888,
             "#fdca26"
            ],
            [
             1.0,
             "#f0f921"
            ]
           ],
           "sequentialminus": [
            [
             0.0,
             "#0d0887"
            ],
            [
             0.1111111111111111,
             "#46039f"
            ],
            [
             0.2222222222222222,
             "#7201a8"
            ],
            [
             0.3333333333333333,
             "#9c179e"
            ],
            [
             0.4444444444444444,
             "#bd3786"
            ],
            [
             0.5555555555555556,
             "#d8576b"
            ],
            [
             0.6666666666666666,
             "#ed7953"
            ],
            [
             0.7777777777777778,
             "#fb9f3a"
            ],
            [
             0.8888888888888888,
             "#fdca26"
            ],
            [
             1.0,
             "#f0f921"
            ]
           ]
          },
          "colorway": [
           "#636efa",
           "#EF553B",
           "#00cc96",
           "#ab63fa",
           "#FFA15A",
           "#19d3f3",
           "#FF6692",
           "#B6E880",
           "#FF97FF",
           "#FECB52"
          ],
          "font": {
           "color": "#2a3f5f"
          },
          "geo": {
           "bgcolor": "white",
           "lakecolor": "white",
           "landcolor": "#E5ECF6",
           "showlakes": true,
           "showland": true,
           "subunitcolor": "white"
          },
          "hoverlabel": {
           "align": "left"
          },
          "hovermode": "closest",
          "mapbox": {
           "style": "light"
          },
          "paper_bgcolor": "white",
          "plot_bgcolor": "#E5ECF6",
          "polar": {
           "angularaxis": {
            "gridcolor": "white",
            "linecolor": "white",
            "ticks": ""
           },
           "bgcolor": "#E5ECF6",
           "radialaxis": {
            "gridcolor": "white",
            "linecolor": "white",
            "ticks": ""
           }
          },
          "scene": {
           "xaxis": {
            "backgroundcolor": "#E5ECF6",
            "gridcolor": "white",
            "gridwidth": 2,
            "linecolor": "white",
            "showbackground": true,
            "ticks": "",
            "zerolinecolor": "white"
           },
           "yaxis": {
            "backgroundcolor": "#E5ECF6",
            "gridcolor": "white",
            "gridwidth": 2,
            "linecolor": "white",
            "showbackground": true,
            "ticks": "",
            "zerolinecolor": "white"
           },
           "zaxis": {
            "backgroundcolor": "#E5ECF6",
            "gridcolor": "white",
            "gridwidth": 2,
            "linecolor": "white",
            "showbackground": true,
            "ticks": "",
            "zerolinecolor": "white"
           }
          },
          "shapedefaults": {
           "line": {
            "color": "#2a3f5f"
           }
          },
          "ternary": {
           "aaxis": {
            "gridcolor": "white",
            "linecolor": "white",
            "ticks": ""
           },
           "baxis": {
            "gridcolor": "white",
            "linecolor": "white",
            "ticks": ""
           },
           "bgcolor": "#E5ECF6",
           "caxis": {
            "gridcolor": "white",
            "linecolor": "white",
            "ticks": ""
           }
          },
          "title": {
           "x": 0.05
          },
          "xaxis": {
           "automargin": true,
           "gridcolor": "white",
           "linecolor": "white",
           "ticks": "",
           "title": {
            "standoff": 15
           },
           "zerolinecolor": "white",
           "zerolinewidth": 2
          },
          "yaxis": {
           "automargin": true,
           "gridcolor": "white",
           "linecolor": "white",
           "ticks": "",
           "title": {
            "standoff": 15
           },
           "zerolinecolor": "white",
           "zerolinewidth": 2
          }
         }
        },
        "xaxis": {
         "anchor": "y",
         "domain": [
          0.0,
          1.0
         ],
         "title": {
          "text": "churn"
         }
        },
        "yaxis": {
         "anchor": "x",
         "domain": [
          0.0,
          1.0
         ],
         "title": {
          "text": "avg_songs_played"
         }
        }
       }
      },
      "text/html": [
       "<div>                            <div id=\"37070166-dc9c-435a-9169-261e9f2aa463\" class=\"plotly-graph-div\" style=\"height:525px; width:100%;\"></div>            <script type=\"text/javascript\">                require([\"plotly\"], function(Plotly) {                    window.PLOTLYENV=window.PLOTLYENV || {};                                    if (document.getElementById(\"37070166-dc9c-435a-9169-261e9f2aa463\")) {                    Plotly.newPlot(                        \"37070166-dc9c-435a-9169-261e9f2aa463\",                        [{\"alignmentgroup\": \"True\", \"hovertemplate\": \"churn=%{x}<br>avg_songs_played=%{y}<extra></extra>\", \"legendgroup\": \"\", \"marker\": {\"color\": \"#636efa\"}, \"name\": \"\", \"offsetgroup\": \"\", \"orientation\": \"v\", \"showlegend\": false, \"textposition\": \"auto\", \"type\": \"bar\", \"x\": [\"1\", \"0\"], \"xaxis\": \"x\", \"y\": [852.1111111111111, 966.2433035714286], \"yaxis\": \"y\"}],                        {\"barmode\": \"relative\", \"legend\": {\"tracegroupgap\": 0}, \"margin\": {\"t\": 60}, \"template\": {\"data\": {\"bar\": [{\"error_x\": {\"color\": \"#2a3f5f\"}, \"error_y\": {\"color\": \"#2a3f5f\"}, \"marker\": {\"line\": {\"color\": \"#E5ECF6\", \"width\": 0.5}}, \"type\": \"bar\"}], \"barpolar\": [{\"marker\": {\"line\": {\"color\": \"#E5ECF6\", \"width\": 0.5}}, \"type\": \"barpolar\"}], \"carpet\": [{\"aaxis\": {\"endlinecolor\": \"#2a3f5f\", \"gridcolor\": \"white\", \"linecolor\": \"white\", \"minorgridcolor\": \"white\", \"startlinecolor\": \"#2a3f5f\"}, \"baxis\": {\"endlinecolor\": \"#2a3f5f\", \"gridcolor\": \"white\", \"linecolor\": \"white\", \"minorgridcolor\": \"white\", \"startlinecolor\": \"#2a3f5f\"}, \"type\": \"carpet\"}], \"choropleth\": [{\"colorbar\": {\"outlinewidth\": 0, \"ticks\": \"\"}, \"type\": \"choropleth\"}], \"contour\": [{\"colorbar\": {\"outlinewidth\": 0, \"ticks\": \"\"}, \"colorscale\": [[0.0, \"#0d0887\"], [0.1111111111111111, \"#46039f\"], [0.2222222222222222, \"#7201a8\"], [0.3333333333333333, \"#9c179e\"], [0.4444444444444444, \"#bd3786\"], [0.5555555555555556, \"#d8576b\"], [0.6666666666666666, \"#ed7953\"], [0.7777777777777778, \"#fb9f3a\"], [0.8888888888888888, \"#fdca26\"], [1.0, \"#f0f921\"]], \"type\": \"contour\"}], \"contourcarpet\": [{\"colorbar\": {\"outlinewidth\": 0, \"ticks\": \"\"}, \"type\": \"contourcarpet\"}], \"heatmap\": [{\"colorbar\": {\"outlinewidth\": 0, \"ticks\": \"\"}, \"colorscale\": [[0.0, \"#0d0887\"], [0.1111111111111111, \"#46039f\"], [0.2222222222222222, \"#7201a8\"], [0.3333333333333333, \"#9c179e\"], [0.4444444444444444, \"#bd3786\"], [0.5555555555555556, \"#d8576b\"], [0.6666666666666666, \"#ed7953\"], [0.7777777777777778, \"#fb9f3a\"], [0.8888888888888888, \"#fdca26\"], [1.0, \"#f0f921\"]], \"type\": \"heatmap\"}], \"heatmapgl\": [{\"colorbar\": {\"outlinewidth\": 0, \"ticks\": \"\"}, \"colorscale\": [[0.0, \"#0d0887\"], [0.1111111111111111, \"#46039f\"], [0.2222222222222222, \"#7201a8\"], [0.3333333333333333, \"#9c179e\"], [0.4444444444444444, \"#bd3786\"], [0.5555555555555556, \"#d8576b\"], [0.6666666666666666, \"#ed7953\"], [0.7777777777777778, \"#fb9f3a\"], [0.8888888888888888, \"#fdca26\"], [1.0, \"#f0f921\"]], \"type\": \"heatmapgl\"}], \"histogram\": [{\"marker\": {\"colorbar\": {\"outlinewidth\": 0, \"ticks\": \"\"}}, \"type\": \"histogram\"}], \"histogram2d\": [{\"colorbar\": {\"outlinewidth\": 0, \"ticks\": \"\"}, \"colorscale\": [[0.0, \"#0d0887\"], [0.1111111111111111, \"#46039f\"], [0.2222222222222222, \"#7201a8\"], [0.3333333333333333, \"#9c179e\"], [0.4444444444444444, \"#bd3786\"], [0.5555555555555556, \"#d8576b\"], [0.6666666666666666, \"#ed7953\"], [0.7777777777777778, \"#fb9f3a\"], [0.8888888888888888, \"#fdca26\"], [1.0, \"#f0f921\"]], \"type\": \"histogram2d\"}], \"histogram2dcontour\": [{\"colorbar\": {\"outlinewidth\": 0, \"ticks\": \"\"}, \"colorscale\": [[0.0, \"#0d0887\"], [0.1111111111111111, \"#46039f\"], [0.2222222222222222, \"#7201a8\"], [0.3333333333333333, \"#9c179e\"], [0.4444444444444444, \"#bd3786\"], [0.5555555555555556, \"#d8576b\"], [0.6666666666666666, \"#ed7953\"], [0.7777777777777778, \"#fb9f3a\"], [0.8888888888888888, \"#fdca26\"], [1.0, \"#f0f921\"]], \"type\": \"histogram2dcontour\"}], \"mesh3d\": [{\"colorbar\": {\"outlinewidth\": 0, \"ticks\": \"\"}, \"type\": \"mesh3d\"}], \"parcoords\": [{\"line\": {\"colorbar\": {\"outlinewidth\": 0, \"ticks\": \"\"}}, \"type\": \"parcoords\"}], \"pie\": [{\"automargin\": true, \"type\": \"pie\"}], \"scatter\": [{\"marker\": {\"colorbar\": {\"outlinewidth\": 0, \"ticks\": \"\"}}, \"type\": \"scatter\"}], \"scatter3d\": [{\"line\": {\"colorbar\": {\"outlinewidth\": 0, \"ticks\": \"\"}}, \"marker\": {\"colorbar\": {\"outlinewidth\": 0, \"ticks\": \"\"}}, \"type\": \"scatter3d\"}], \"scattercarpet\": [{\"marker\": {\"colorbar\": {\"outlinewidth\": 0, \"ticks\": \"\"}}, \"type\": \"scattercarpet\"}], \"scattergeo\": [{\"marker\": {\"colorbar\": {\"outlinewidth\": 0, \"ticks\": \"\"}}, \"type\": \"scattergeo\"}], \"scattergl\": [{\"marker\": {\"colorbar\": {\"outlinewidth\": 0, \"ticks\": \"\"}}, \"type\": \"scattergl\"}], \"scattermapbox\": [{\"marker\": {\"colorbar\": {\"outlinewidth\": 0, \"ticks\": \"\"}}, \"type\": \"scattermapbox\"}], \"scatterpolar\": [{\"marker\": {\"colorbar\": {\"outlinewidth\": 0, \"ticks\": \"\"}}, \"type\": \"scatterpolar\"}], \"scatterpolargl\": [{\"marker\": {\"colorbar\": {\"outlinewidth\": 0, \"ticks\": \"\"}}, \"type\": \"scatterpolargl\"}], \"scatterternary\": [{\"marker\": {\"colorbar\": {\"outlinewidth\": 0, \"ticks\": \"\"}}, \"type\": \"scatterternary\"}], \"surface\": [{\"colorbar\": {\"outlinewidth\": 0, \"ticks\": \"\"}, \"colorscale\": [[0.0, \"#0d0887\"], [0.1111111111111111, \"#46039f\"], [0.2222222222222222, \"#7201a8\"], [0.3333333333333333, \"#9c179e\"], [0.4444444444444444, \"#bd3786\"], [0.5555555555555556, \"#d8576b\"], [0.6666666666666666, \"#ed7953\"], [0.7777777777777778, \"#fb9f3a\"], [0.8888888888888888, \"#fdca26\"], [1.0, \"#f0f921\"]], \"type\": \"surface\"}], \"table\": [{\"cells\": {\"fill\": {\"color\": \"#EBF0F8\"}, \"line\": {\"color\": \"white\"}}, \"header\": {\"fill\": {\"color\": \"#C8D4E3\"}, \"line\": {\"color\": \"white\"}}, \"type\": \"table\"}]}, \"layout\": {\"annotationdefaults\": {\"arrowcolor\": \"#2a3f5f\", \"arrowhead\": 0, \"arrowwidth\": 1}, \"autotypenumbers\": \"strict\", \"coloraxis\": {\"colorbar\": {\"outlinewidth\": 0, \"ticks\": \"\"}}, \"colorscale\": {\"diverging\": [[0, \"#8e0152\"], [0.1, \"#c51b7d\"], [0.2, \"#de77ae\"], [0.3, \"#f1b6da\"], [0.4, \"#fde0ef\"], [0.5, \"#f7f7f7\"], [0.6, \"#e6f5d0\"], [0.7, \"#b8e186\"], [0.8, \"#7fbc41\"], [0.9, \"#4d9221\"], [1, \"#276419\"]], \"sequential\": [[0.0, \"#0d0887\"], [0.1111111111111111, \"#46039f\"], [0.2222222222222222, \"#7201a8\"], [0.3333333333333333, \"#9c179e\"], [0.4444444444444444, \"#bd3786\"], [0.5555555555555556, \"#d8576b\"], [0.6666666666666666, \"#ed7953\"], [0.7777777777777778, \"#fb9f3a\"], [0.8888888888888888, \"#fdca26\"], [1.0, \"#f0f921\"]], \"sequentialminus\": [[0.0, \"#0d0887\"], [0.1111111111111111, \"#46039f\"], [0.2222222222222222, \"#7201a8\"], [0.3333333333333333, \"#9c179e\"], [0.4444444444444444, \"#bd3786\"], [0.5555555555555556, \"#d8576b\"], [0.6666666666666666, \"#ed7953\"], [0.7777777777777778, \"#fb9f3a\"], [0.8888888888888888, \"#fdca26\"], [1.0, \"#f0f921\"]]}, \"colorway\": [\"#636efa\", \"#EF553B\", \"#00cc96\", \"#ab63fa\", \"#FFA15A\", \"#19d3f3\", \"#FF6692\", \"#B6E880\", \"#FF97FF\", \"#FECB52\"], \"font\": {\"color\": \"#2a3f5f\"}, \"geo\": {\"bgcolor\": \"white\", \"lakecolor\": \"white\", \"landcolor\": \"#E5ECF6\", \"showlakes\": true, \"showland\": true, \"subunitcolor\": \"white\"}, \"hoverlabel\": {\"align\": \"left\"}, \"hovermode\": \"closest\", \"mapbox\": {\"style\": \"light\"}, \"paper_bgcolor\": \"white\", \"plot_bgcolor\": \"#E5ECF6\", \"polar\": {\"angularaxis\": {\"gridcolor\": \"white\", \"linecolor\": \"white\", \"ticks\": \"\"}, \"bgcolor\": \"#E5ECF6\", \"radialaxis\": {\"gridcolor\": \"white\", \"linecolor\": \"white\", \"ticks\": \"\"}}, \"scene\": {\"xaxis\": {\"backgroundcolor\": \"#E5ECF6\", \"gridcolor\": \"white\", \"gridwidth\": 2, \"linecolor\": \"white\", \"showbackground\": true, \"ticks\": \"\", \"zerolinecolor\": \"white\"}, \"yaxis\": {\"backgroundcolor\": \"#E5ECF6\", \"gridcolor\": \"white\", \"gridwidth\": 2, \"linecolor\": \"white\", \"showbackground\": true, \"ticks\": \"\", \"zerolinecolor\": \"white\"}, \"zaxis\": {\"backgroundcolor\": \"#E5ECF6\", \"gridcolor\": \"white\", \"gridwidth\": 2, \"linecolor\": \"white\", \"showbackground\": true, \"ticks\": \"\", \"zerolinecolor\": \"white\"}}, \"shapedefaults\": {\"line\": {\"color\": \"#2a3f5f\"}}, \"ternary\": {\"aaxis\": {\"gridcolor\": \"white\", \"linecolor\": \"white\", \"ticks\": \"\"}, \"baxis\": {\"gridcolor\": \"white\", \"linecolor\": \"white\", \"ticks\": \"\"}, \"bgcolor\": \"#E5ECF6\", \"caxis\": {\"gridcolor\": \"white\", \"linecolor\": \"white\", \"ticks\": \"\"}}, \"title\": {\"x\": 0.05}, \"xaxis\": {\"automargin\": true, \"gridcolor\": \"white\", \"linecolor\": \"white\", \"ticks\": \"\", \"title\": {\"standoff\": 15}, \"zerolinecolor\": \"white\", \"zerolinewidth\": 2}, \"yaxis\": {\"automargin\": true, \"gridcolor\": \"white\", \"linecolor\": \"white\", \"ticks\": \"\", \"title\": {\"standoff\": 15}, \"zerolinecolor\": \"white\", \"zerolinewidth\": 2}}}, \"xaxis\": {\"anchor\": \"y\", \"domain\": [0.0, 1.0], \"title\": {\"text\": \"churn\"}}, \"yaxis\": {\"anchor\": \"x\", \"domain\": [0.0, 1.0], \"title\": {\"text\": \"avg_songs_played\"}}},                        {\"responsive\": true}                    ).then(function(){\n",
       "                            \n",
       "var gd = document.getElementById('37070166-dc9c-435a-9169-261e9f2aa463');\n",
       "var x = new MutationObserver(function (mutations, observer) {{\n",
       "        var display = window.getComputedStyle(gd).display;\n",
       "        if (!display || display === 'none') {{\n",
       "            console.log([gd, 'removed!']);\n",
       "            Plotly.purge(gd);\n",
       "            observer.disconnect();\n",
       "        }}\n",
       "}});\n",
       "\n",
       "// Listen for the removal of the full notebook cells\n",
       "var notebookContainer = gd.closest('#notebook-container');\n",
       "if (notebookContainer) {{\n",
       "    x.observe(notebookContainer, {childList: true});\n",
       "}}\n",
       "\n",
       "// Listen for the clearing of the current output cell\n",
       "var outputEl = gd.closest('.output');\n",
       "if (outputEl) {{\n",
       "    x.observe(outputEl, {childList: true});\n",
       "}}\n",
       "\n",
       "                        })                };                });            </script>        </div>"
      ]
     },
     "metadata": {},
     "output_type": "display_data"
    }
   ],
   "source": [
    "import plotly.express as px\n",
    "\n",
    "fig = px.bar(av_song_df, x='churn', y='avg_songs_played')\n",
    "fig.show()"
   ]
  },
  {
   "cell_type": "markdown",
   "metadata": {
    "papermill": {
     "duration": 0.126992,
     "end_time": "2021-02-01T19:12:55.206813",
     "exception": false,
     "start_time": "2021-02-01T19:12:55.079821",
     "status": "completed"
    },
    "tags": []
   },
   "source": [
    "### Average hits/page for churned vs non-churned."
   ]
  },
  {
   "cell_type": "code",
   "execution_count": 43,
   "metadata": {
    "execution": {
     "iopub.execute_input": "2021-02-01T19:12:55.611756Z",
     "iopub.status.busy": "2021-02-01T19:12:55.610278Z",
     "iopub.status.idle": "2021-02-01T19:12:55.708565Z",
     "shell.execute_reply": "2021-02-01T19:12:55.707741Z"
    },
    "papermill": {
     "duration": 0.379189,
     "end_time": "2021-02-01T19:12:55.708706",
     "exception": false,
     "start_time": "2021-02-01T19:12:55.329517",
     "status": "completed"
    },
    "tags": []
   },
   "outputs": [
    {
     "data": {
      "text/html": [
       "<div>\n",
       "<style scoped>\n",
       "    .dataframe tbody tr th:only-of-type {\n",
       "        vertical-align: middle;\n",
       "    }\n",
       "\n",
       "    .dataframe tbody tr th {\n",
       "        vertical-align: top;\n",
       "    }\n",
       "\n",
       "    .dataframe thead th {\n",
       "        text-align: right;\n",
       "    }\n",
       "</style>\n",
       "<table border=\"1\" class=\"dataframe\">\n",
       "  <thead>\n",
       "    <tr style=\"text-align: right;\">\n",
       "      <th></th>\n",
       "      <th>ts</th>\n",
       "      <th>userId</th>\n",
       "      <th>sessionId</th>\n",
       "      <th>page</th>\n",
       "      <th>auth</th>\n",
       "      <th>method</th>\n",
       "      <th>status</th>\n",
       "      <th>level</th>\n",
       "      <th>itemInSession</th>\n",
       "      <th>location</th>\n",
       "      <th>userAgent</th>\n",
       "      <th>lastName</th>\n",
       "      <th>firstName</th>\n",
       "      <th>registration</th>\n",
       "      <th>gender</th>\n",
       "      <th>artist</th>\n",
       "      <th>song</th>\n",
       "      <th>length</th>\n",
       "      <th>churn</th>\n",
       "    </tr>\n",
       "  </thead>\n",
       "  <tbody>\n",
       "    <tr>\n",
       "      <th>3</th>\n",
       "      <td>1538352119000</td>\n",
       "      <td>179</td>\n",
       "      <td>178</td>\n",
       "      <td>Logout</td>\n",
       "      <td>Logged In</td>\n",
       "      <td>PUT</td>\n",
       "      <td>307</td>\n",
       "      <td>paid</td>\n",
       "      <td>185</td>\n",
       "      <td>Orlando-Kissimmee-Sanford, FL</td>\n",
       "      <td>\"Mozilla/5.0 (Macintosh; Intel Mac OS X 10_9_4...</td>\n",
       "      <td>Santiago</td>\n",
       "      <td>Maverick</td>\n",
       "      <td>1.535953e+12</td>\n",
       "      <td>M</td>\n",
       "      <td>NaN</td>\n",
       "      <td>NaN</td>\n",
       "      <td>NaN</td>\n",
       "      <td>0</td>\n",
       "    </tr>\n",
       "    <tr>\n",
       "      <th>10</th>\n",
       "      <td>1538352176000</td>\n",
       "      <td>179</td>\n",
       "      <td>178</td>\n",
       "      <td>Home</td>\n",
       "      <td>Logged In</td>\n",
       "      <td>GET</td>\n",
       "      <td>200</td>\n",
       "      <td>paid</td>\n",
       "      <td>190</td>\n",
       "      <td>Orlando-Kissimmee-Sanford, FL</td>\n",
       "      <td>\"Mozilla/5.0 (Macintosh; Intel Mac OS X 10_9_4...</td>\n",
       "      <td>Santiago</td>\n",
       "      <td>Maverick</td>\n",
       "      <td>1.535953e+12</td>\n",
       "      <td>M</td>\n",
       "      <td>NaN</td>\n",
       "      <td>NaN</td>\n",
       "      <td>NaN</td>\n",
       "      <td>0</td>\n",
       "    </tr>\n",
       "    <tr>\n",
       "      <th>12</th>\n",
       "      <td>1538352241000</td>\n",
       "      <td>100</td>\n",
       "      <td>497</td>\n",
       "      <td>Home</td>\n",
       "      <td>Logged In</td>\n",
       "      <td>GET</td>\n",
       "      <td>200</td>\n",
       "      <td>free</td>\n",
       "      <td>0</td>\n",
       "      <td>Dallas-Fort Worth-Arlington, TX</td>\n",
       "      <td>Mozilla/5.0 (Windows NT 6.1; WOW64; rv:30.0) G...</td>\n",
       "      <td>Larson</td>\n",
       "      <td>Colin</td>\n",
       "      <td>1.537982e+12</td>\n",
       "      <td>M</td>\n",
       "      <td>NaN</td>\n",
       "      <td>NaN</td>\n",
       "      <td>NaN</td>\n",
       "      <td>0</td>\n",
       "    </tr>\n",
       "  </tbody>\n",
       "</table>\n",
       "</div>"
      ],
      "text/plain": [
       "               ts userId  sessionId    page       auth method  status level  \\\n",
       "3   1538352119000    179        178  Logout  Logged In    PUT     307  paid   \n",
       "10  1538352176000    179        178    Home  Logged In    GET     200  paid   \n",
       "12  1538352241000    100        497    Home  Logged In    GET     200  free   \n",
       "\n",
       "    itemInSession                         location  \\\n",
       "3             185    Orlando-Kissimmee-Sanford, FL   \n",
       "10            190    Orlando-Kissimmee-Sanford, FL   \n",
       "12              0  Dallas-Fort Worth-Arlington, TX   \n",
       "\n",
       "                                            userAgent  lastName firstName  \\\n",
       "3   \"Mozilla/5.0 (Macintosh; Intel Mac OS X 10_9_4...  Santiago  Maverick   \n",
       "10  \"Mozilla/5.0 (Macintosh; Intel Mac OS X 10_9_4...  Santiago  Maverick   \n",
       "12  Mozilla/5.0 (Windows NT 6.1; WOW64; rv:30.0) G...    Larson     Colin   \n",
       "\n",
       "    registration gender artist song  length  churn  \n",
       "3   1.535953e+12      M    NaN  NaN     NaN      0  \n",
       "10  1.535953e+12      M    NaN  NaN     NaN      0  \n",
       "12  1.537982e+12      M    NaN  NaN     NaN      0  "
      ]
     },
     "execution_count": 43,
     "metadata": {},
     "output_type": "execute_result"
    }
   ],
   "source": [
    "#Get df w/o NextSong page\n",
    "no_nextsong_df = df[df.page != 'NextSong']\n",
    "no_nextsong_df.head(3)"
   ]
  },
  {
   "cell_type": "code",
   "execution_count": 44,
   "metadata": {
    "execution": {
     "iopub.execute_input": "2021-02-01T19:12:55.964571Z",
     "iopub.status.busy": "2021-02-01T19:12:55.963786Z",
     "iopub.status.idle": "2021-02-01T19:12:55.975248Z",
     "shell.execute_reply": "2021-02-01T19:12:55.974616Z"
    },
    "papermill": {
     "duration": 0.139846,
     "end_time": "2021-02-01T19:12:55.975389",
     "exception": false,
     "start_time": "2021-02-01T19:12:55.835543",
     "status": "completed"
    },
    "tags": []
   },
   "outputs": [
    {
     "data": {
      "text/plain": [
       "array(['208', '231', '236', '156', '271', '200', '130', '123', '54', '39',\n",
       "       '154', '132', '10', '296', '187', '51', '13', '32', '28', '198',\n",
       "       '196', '172', '189', '234', '16', '214', '246', '88', '45', '61',\n",
       "       '124', '223', '41', '221', '162', '131', '288', '265', '188',\n",
       "       '120', '293', '126', '164', '11', '118', '89', '167', '34', '81',\n",
       "       '18', '85', '140', '100001', '100013', '100030', '100032',\n",
       "       '100044', '100036', '100023', '100005', '100049', '100018',\n",
       "       '100047', '100010', '100004', '100038', '100045', '100014',\n",
       "       '100028', '100016', '100042', '100041', '100040', '100025',\n",
       "       '100012', '100003', '100048', '100043', '100017', '100024',\n",
       "       '100051', '100011', '200016', '200037', '200041', '200002',\n",
       "       '200013', '200021', '200008', '200027', '200050', '200028',\n",
       "       '200024', '200045', '200023', '200039', '200020', '300004',\n",
       "       '300047'], dtype=object)"
      ]
     },
     "execution_count": 44,
     "metadata": {},
     "output_type": "execute_result"
    }
   ],
   "source": [
    "#get churn userid's from df\n",
    "churn_id = df.loc[df['churn'] == 1].userId.unique()\n",
    "churn_id"
   ]
  },
  {
   "cell_type": "code",
   "execution_count": 45,
   "metadata": {
    "execution": {
     "iopub.execute_input": "2021-02-01T19:12:56.342423Z",
     "iopub.status.busy": "2021-02-01T19:12:56.341639Z",
     "iopub.status.idle": "2021-02-01T19:12:56.404001Z",
     "shell.execute_reply": "2021-02-01T19:12:56.403382Z"
    },
    "papermill": {
     "duration": 0.305357,
     "end_time": "2021-02-01T19:12:56.404166",
     "exception": false,
     "start_time": "2021-02-01T19:12:56.098809",
     "status": "completed"
    },
    "tags": []
   },
   "outputs": [],
   "source": [
    "all_id = df.userId.unique()"
   ]
  },
  {
   "cell_type": "code",
   "execution_count": 46,
   "metadata": {
    "execution": {
     "iopub.execute_input": "2021-02-01T19:12:56.662546Z",
     "iopub.status.busy": "2021-02-01T19:12:56.658501Z",
     "iopub.status.idle": "2021-02-01T19:12:56.668569Z",
     "shell.execute_reply": "2021-02-01T19:12:56.667555Z"
    },
    "papermill": {
     "duration": 0.141594,
     "end_time": "2021-02-01T19:12:56.668751",
     "exception": false,
     "start_time": "2021-02-01T19:12:56.527157",
     "status": "completed"
    },
    "tags": []
   },
   "outputs": [
    {
     "name": "stdout",
     "output_type": "stream",
     "text": [
      "349\n"
     ]
    }
   ],
   "source": [
    "#get non-churn userid's (all userid's - churn userid's) from df\n",
    "non_churn_id = []\n",
    "for i in all_id:\n",
    "    if i not in churn_id:\n",
    "        non_churn_id.append(i) \n",
    "print(len(non_churn_id)) #expect 448-99=349"
   ]
  },
  {
   "cell_type": "code",
   "execution_count": 47,
   "metadata": {
    "execution": {
     "iopub.execute_input": "2021-02-01T19:12:56.924922Z",
     "iopub.status.busy": "2021-02-01T19:12:56.924151Z",
     "iopub.status.idle": "2021-02-01T19:12:57.182419Z",
     "shell.execute_reply": "2021-02-01T19:12:57.182945Z"
    },
    "papermill": {
     "duration": 0.386199,
     "end_time": "2021-02-01T19:12:57.183120",
     "exception": false,
     "start_time": "2021-02-01T19:12:56.796921",
     "status": "completed"
    },
    "tags": []
   },
   "outputs": [
    {
     "data": {
      "text/html": [
       "<div>\n",
       "<style scoped>\n",
       "    .dataframe tbody tr th:only-of-type {\n",
       "        vertical-align: middle;\n",
       "    }\n",
       "\n",
       "    .dataframe tbody tr th {\n",
       "        vertical-align: top;\n",
       "    }\n",
       "\n",
       "    .dataframe thead th {\n",
       "        text-align: right;\n",
       "    }\n",
       "</style>\n",
       "<table border=\"1\" class=\"dataframe\">\n",
       "  <thead>\n",
       "    <tr style=\"text-align: right;\">\n",
       "      <th></th>\n",
       "      <th>page</th>\n",
       "      <th>counts</th>\n",
       "      <th>average</th>\n",
       "    </tr>\n",
       "  </thead>\n",
       "  <tbody>\n",
       "    <tr>\n",
       "      <th>0</th>\n",
       "      <td>About</td>\n",
       "      <td>185</td>\n",
       "      <td>0.412946</td>\n",
       "    </tr>\n",
       "    <tr>\n",
       "      <th>1</th>\n",
       "      <td>Add Friend</td>\n",
       "      <td>1537</td>\n",
       "      <td>3.430804</td>\n",
       "    </tr>\n",
       "    <tr>\n",
       "      <th>2</th>\n",
       "      <td>Add to Playlist</td>\n",
       "      <td>2259</td>\n",
       "      <td>5.042411</td>\n",
       "    </tr>\n",
       "    <tr>\n",
       "      <th>3</th>\n",
       "      <td>Cancel</td>\n",
       "      <td>99</td>\n",
       "      <td>0.220982</td>\n",
       "    </tr>\n",
       "    <tr>\n",
       "      <th>4</th>\n",
       "      <td>Cancellation Confirmation</td>\n",
       "      <td>99</td>\n",
       "      <td>0.220982</td>\n",
       "    </tr>\n",
       "    <tr>\n",
       "      <th>5</th>\n",
       "      <td>Downgrade</td>\n",
       "      <td>831</td>\n",
       "      <td>1.854911</td>\n",
       "    </tr>\n",
       "    <tr>\n",
       "      <th>6</th>\n",
       "      <td>Error</td>\n",
       "      <td>97</td>\n",
       "      <td>0.216518</td>\n",
       "    </tr>\n",
       "    <tr>\n",
       "      <th>7</th>\n",
       "      <td>Help</td>\n",
       "      <td>517</td>\n",
       "      <td>1.154018</td>\n",
       "    </tr>\n",
       "    <tr>\n",
       "      <th>8</th>\n",
       "      <td>Home</td>\n",
       "      <td>3778</td>\n",
       "      <td>8.433036</td>\n",
       "    </tr>\n",
       "    <tr>\n",
       "      <th>9</th>\n",
       "      <td>Logout</td>\n",
       "      <td>1184</td>\n",
       "      <td>2.642857</td>\n",
       "    </tr>\n",
       "    <tr>\n",
       "      <th>10</th>\n",
       "      <td>Roll Advert</td>\n",
       "      <td>2186</td>\n",
       "      <td>4.879464</td>\n",
       "    </tr>\n",
       "    <tr>\n",
       "      <th>11</th>\n",
       "      <td>Save Settings</td>\n",
       "      <td>104</td>\n",
       "      <td>0.232143</td>\n",
       "    </tr>\n",
       "    <tr>\n",
       "      <th>12</th>\n",
       "      <td>Settings</td>\n",
       "      <td>619</td>\n",
       "      <td>1.381696</td>\n",
       "    </tr>\n",
       "    <tr>\n",
       "      <th>13</th>\n",
       "      <td>Submit Downgrade</td>\n",
       "      <td>29</td>\n",
       "      <td>0.064732</td>\n",
       "    </tr>\n",
       "    <tr>\n",
       "      <th>14</th>\n",
       "      <td>Submit Upgrade</td>\n",
       "      <td>70</td>\n",
       "      <td>0.156250</td>\n",
       "    </tr>\n",
       "    <tr>\n",
       "      <th>15</th>\n",
       "      <td>Thumbs Down</td>\n",
       "      <td>1156</td>\n",
       "      <td>2.580357</td>\n",
       "    </tr>\n",
       "    <tr>\n",
       "      <th>16</th>\n",
       "      <td>Thumbs Up</td>\n",
       "      <td>4300</td>\n",
       "      <td>9.598214</td>\n",
       "    </tr>\n",
       "    <tr>\n",
       "      <th>17</th>\n",
       "      <td>Upgrade</td>\n",
       "      <td>237</td>\n",
       "      <td>0.529018</td>\n",
       "    </tr>\n",
       "  </tbody>\n",
       "</table>\n",
       "</div>"
      ],
      "text/plain": [
       "                         page  counts   average\n",
       "0                       About     185  0.412946\n",
       "1                  Add Friend    1537  3.430804\n",
       "2             Add to Playlist    2259  5.042411\n",
       "3                      Cancel      99  0.220982\n",
       "4   Cancellation Confirmation      99  0.220982\n",
       "5                   Downgrade     831  1.854911\n",
       "6                       Error      97  0.216518\n",
       "7                        Help     517  1.154018\n",
       "8                        Home    3778  8.433036\n",
       "9                      Logout    1184  2.642857\n",
       "10                Roll Advert    2186  4.879464\n",
       "11              Save Settings     104  0.232143\n",
       "12                   Settings     619  1.381696\n",
       "13           Submit Downgrade      29  0.064732\n",
       "14             Submit Upgrade      70  0.156250\n",
       "15                Thumbs Down    1156  2.580357\n",
       "16                  Thumbs Up    4300  9.598214\n",
       "17                    Upgrade     237  0.529018"
      ]
     },
     "execution_count": 47,
     "metadata": {},
     "output_type": "execute_result"
    }
   ],
   "source": [
    "#get page counts for churn from no_nextsong_df\n",
    "churn_page_counts = no_nextsong_df.loc[no_nextsong_df['userId'].isin(churn_id)].page.value_counts().sort_index().rename_axis('page').reset_index(name='counts').sort_index()\n",
    "churn_page_counts['average'] = churn_page_counts['counts']/(df.userId.nunique())\n",
    "churn_page_counts"
   ]
  },
  {
   "cell_type": "code",
   "execution_count": 48,
   "metadata": {
    "execution": {
     "iopub.execute_input": "2021-02-01T19:12:57.437278Z",
     "iopub.status.busy": "2021-02-01T19:12:57.436421Z",
     "iopub.status.idle": "2021-02-01T19:12:57.765542Z",
     "shell.execute_reply": "2021-02-01T19:12:57.766163Z"
    },
    "papermill": {
     "duration": 0.458041,
     "end_time": "2021-02-01T19:12:57.766364",
     "exception": false,
     "start_time": "2021-02-01T19:12:57.308323",
     "status": "completed"
    },
    "tags": []
   },
   "outputs": [
    {
     "data": {
      "text/html": [
       "<div>\n",
       "<style scoped>\n",
       "    .dataframe tbody tr th:only-of-type {\n",
       "        vertical-align: middle;\n",
       "    }\n",
       "\n",
       "    .dataframe tbody tr th {\n",
       "        vertical-align: top;\n",
       "    }\n",
       "\n",
       "    .dataframe thead th {\n",
       "        text-align: right;\n",
       "    }\n",
       "</style>\n",
       "<table border=\"1\" class=\"dataframe\">\n",
       "  <thead>\n",
       "    <tr style=\"text-align: right;\">\n",
       "      <th></th>\n",
       "      <th>page</th>\n",
       "      <th>counts</th>\n",
       "      <th>average</th>\n",
       "    </tr>\n",
       "  </thead>\n",
       "  <tbody>\n",
       "    <tr>\n",
       "      <th>0</th>\n",
       "      <td>Thumbs Up</td>\n",
       "      <td>19526</td>\n",
       "      <td>43.584821</td>\n",
       "    </tr>\n",
       "    <tr>\n",
       "      <th>1</th>\n",
       "      <td>Home</td>\n",
       "      <td>15311</td>\n",
       "      <td>34.176339</td>\n",
       "    </tr>\n",
       "    <tr>\n",
       "      <th>2</th>\n",
       "      <td>Add to Playlist</td>\n",
       "      <td>10090</td>\n",
       "      <td>22.522321</td>\n",
       "    </tr>\n",
       "    <tr>\n",
       "      <th>3</th>\n",
       "      <td>Add Friend</td>\n",
       "      <td>6550</td>\n",
       "      <td>14.620536</td>\n",
       "    </tr>\n",
       "    <tr>\n",
       "      <th>4</th>\n",
       "      <td>Roll Advert</td>\n",
       "      <td>5587</td>\n",
       "      <td>12.470982</td>\n",
       "    </tr>\n",
       "    <tr>\n",
       "      <th>5</th>\n",
       "      <td>Logout</td>\n",
       "      <td>4806</td>\n",
       "      <td>10.727679</td>\n",
       "    </tr>\n",
       "    <tr>\n",
       "      <th>6</th>\n",
       "      <td>Thumbs Down</td>\n",
       "      <td>3755</td>\n",
       "      <td>8.381696</td>\n",
       "    </tr>\n",
       "    <tr>\n",
       "      <th>7</th>\n",
       "      <td>Downgrade</td>\n",
       "      <td>2980</td>\n",
       "      <td>6.651786</td>\n",
       "    </tr>\n",
       "    <tr>\n",
       "      <th>8</th>\n",
       "      <td>Settings</td>\n",
       "      <td>2345</td>\n",
       "      <td>5.234375</td>\n",
       "    </tr>\n",
       "    <tr>\n",
       "      <th>9</th>\n",
       "      <td>Help</td>\n",
       "      <td>2127</td>\n",
       "      <td>4.747768</td>\n",
       "    </tr>\n",
       "    <tr>\n",
       "      <th>10</th>\n",
       "      <td>About</td>\n",
       "      <td>841</td>\n",
       "      <td>1.877232</td>\n",
       "    </tr>\n",
       "    <tr>\n",
       "      <th>11</th>\n",
       "      <td>Upgrade</td>\n",
       "      <td>731</td>\n",
       "      <td>1.631696</td>\n",
       "    </tr>\n",
       "    <tr>\n",
       "      <th>12</th>\n",
       "      <td>Save Settings</td>\n",
       "      <td>481</td>\n",
       "      <td>1.073661</td>\n",
       "    </tr>\n",
       "    <tr>\n",
       "      <th>13</th>\n",
       "      <td>Error</td>\n",
       "      <td>406</td>\n",
       "      <td>0.906250</td>\n",
       "    </tr>\n",
       "    <tr>\n",
       "      <th>14</th>\n",
       "      <td>Submit Upgrade</td>\n",
       "      <td>217</td>\n",
       "      <td>0.484375</td>\n",
       "    </tr>\n",
       "    <tr>\n",
       "      <th>15</th>\n",
       "      <td>Submit Downgrade</td>\n",
       "      <td>88</td>\n",
       "      <td>0.196429</td>\n",
       "    </tr>\n",
       "  </tbody>\n",
       "</table>\n",
       "</div>"
      ],
      "text/plain": [
       "                page  counts    average\n",
       "0          Thumbs Up   19526  43.584821\n",
       "1               Home   15311  34.176339\n",
       "2    Add to Playlist   10090  22.522321\n",
       "3         Add Friend    6550  14.620536\n",
       "4        Roll Advert    5587  12.470982\n",
       "5             Logout    4806  10.727679\n",
       "6        Thumbs Down    3755   8.381696\n",
       "7          Downgrade    2980   6.651786\n",
       "8           Settings    2345   5.234375\n",
       "9               Help    2127   4.747768\n",
       "10             About     841   1.877232\n",
       "11           Upgrade     731   1.631696\n",
       "12     Save Settings     481   1.073661\n",
       "13             Error     406   0.906250\n",
       "14    Submit Upgrade     217   0.484375\n",
       "15  Submit Downgrade      88   0.196429"
      ]
     },
     "execution_count": 48,
     "metadata": {},
     "output_type": "execute_result"
    }
   ],
   "source": [
    "#get page counts for non-churn from no_nextsong_df\n",
    "non_churn_page_counts = no_nextsong_df.loc[no_nextsong_df['userId'].isin(non_churn_id)].page.value_counts().rename_axis('page').reset_index(name='counts').sort_index()\n",
    "non_churn_page_counts['average'] = non_churn_page_counts['counts']/(df.userId.nunique())\n",
    "non_churn_page_counts"
   ]
  },
  {
   "cell_type": "code",
   "execution_count": 49,
   "metadata": {
    "execution": {
     "iopub.execute_input": "2021-02-01T19:12:58.032810Z",
     "iopub.status.busy": "2021-02-01T19:12:58.025638Z",
     "iopub.status.idle": "2021-02-01T19:12:58.053067Z",
     "shell.execute_reply": "2021-02-01T19:12:58.052399Z"
    },
    "papermill": {
     "duration": 0.157697,
     "end_time": "2021-02-01T19:12:58.053210",
     "exception": false,
     "start_time": "2021-02-01T19:12:57.895513",
     "status": "completed"
    },
    "tags": []
   },
   "outputs": [
    {
     "data": {
      "text/html": [
       "<div>\n",
       "<style scoped>\n",
       "    .dataframe tbody tr th:only-of-type {\n",
       "        vertical-align: middle;\n",
       "    }\n",
       "\n",
       "    .dataframe tbody tr th {\n",
       "        vertical-align: top;\n",
       "    }\n",
       "\n",
       "    .dataframe thead th {\n",
       "        text-align: right;\n",
       "    }\n",
       "</style>\n",
       "<table border=\"1\" class=\"dataframe\">\n",
       "  <thead>\n",
       "    <tr style=\"text-align: right;\">\n",
       "      <th></th>\n",
       "      <th>page</th>\n",
       "      <th>counts_x</th>\n",
       "      <th>average_x</th>\n",
       "      <th>counts_y</th>\n",
       "      <th>average_y</th>\n",
       "    </tr>\n",
       "  </thead>\n",
       "  <tbody>\n",
       "    <tr>\n",
       "      <th>0</th>\n",
       "      <td>About</td>\n",
       "      <td>185</td>\n",
       "      <td>0.412946</td>\n",
       "      <td>841.0</td>\n",
       "      <td>1.877232</td>\n",
       "    </tr>\n",
       "    <tr>\n",
       "      <th>1</th>\n",
       "      <td>Add Friend</td>\n",
       "      <td>1537</td>\n",
       "      <td>3.430804</td>\n",
       "      <td>6550.0</td>\n",
       "      <td>14.620536</td>\n",
       "    </tr>\n",
       "    <tr>\n",
       "      <th>2</th>\n",
       "      <td>Add to Playlist</td>\n",
       "      <td>2259</td>\n",
       "      <td>5.042411</td>\n",
       "      <td>10090.0</td>\n",
       "      <td>22.522321</td>\n",
       "    </tr>\n",
       "    <tr>\n",
       "      <th>3</th>\n",
       "      <td>Cancel</td>\n",
       "      <td>99</td>\n",
       "      <td>0.220982</td>\n",
       "      <td>NaN</td>\n",
       "      <td>NaN</td>\n",
       "    </tr>\n",
       "    <tr>\n",
       "      <th>4</th>\n",
       "      <td>Cancellation Confirmation</td>\n",
       "      <td>99</td>\n",
       "      <td>0.220982</td>\n",
       "      <td>NaN</td>\n",
       "      <td>NaN</td>\n",
       "    </tr>\n",
       "    <tr>\n",
       "      <th>5</th>\n",
       "      <td>Downgrade</td>\n",
       "      <td>831</td>\n",
       "      <td>1.854911</td>\n",
       "      <td>2980.0</td>\n",
       "      <td>6.651786</td>\n",
       "    </tr>\n",
       "    <tr>\n",
       "      <th>6</th>\n",
       "      <td>Error</td>\n",
       "      <td>97</td>\n",
       "      <td>0.216518</td>\n",
       "      <td>406.0</td>\n",
       "      <td>0.906250</td>\n",
       "    </tr>\n",
       "    <tr>\n",
       "      <th>7</th>\n",
       "      <td>Help</td>\n",
       "      <td>517</td>\n",
       "      <td>1.154018</td>\n",
       "      <td>2127.0</td>\n",
       "      <td>4.747768</td>\n",
       "    </tr>\n",
       "    <tr>\n",
       "      <th>8</th>\n",
       "      <td>Home</td>\n",
       "      <td>3778</td>\n",
       "      <td>8.433036</td>\n",
       "      <td>15311.0</td>\n",
       "      <td>34.176339</td>\n",
       "    </tr>\n",
       "    <tr>\n",
       "      <th>9</th>\n",
       "      <td>Logout</td>\n",
       "      <td>1184</td>\n",
       "      <td>2.642857</td>\n",
       "      <td>4806.0</td>\n",
       "      <td>10.727679</td>\n",
       "    </tr>\n",
       "    <tr>\n",
       "      <th>10</th>\n",
       "      <td>Roll Advert</td>\n",
       "      <td>2186</td>\n",
       "      <td>4.879464</td>\n",
       "      <td>5587.0</td>\n",
       "      <td>12.470982</td>\n",
       "    </tr>\n",
       "    <tr>\n",
       "      <th>11</th>\n",
       "      <td>Save Settings</td>\n",
       "      <td>104</td>\n",
       "      <td>0.232143</td>\n",
       "      <td>481.0</td>\n",
       "      <td>1.073661</td>\n",
       "    </tr>\n",
       "    <tr>\n",
       "      <th>12</th>\n",
       "      <td>Settings</td>\n",
       "      <td>619</td>\n",
       "      <td>1.381696</td>\n",
       "      <td>2345.0</td>\n",
       "      <td>5.234375</td>\n",
       "    </tr>\n",
       "    <tr>\n",
       "      <th>13</th>\n",
       "      <td>Submit Downgrade</td>\n",
       "      <td>29</td>\n",
       "      <td>0.064732</td>\n",
       "      <td>88.0</td>\n",
       "      <td>0.196429</td>\n",
       "    </tr>\n",
       "    <tr>\n",
       "      <th>14</th>\n",
       "      <td>Submit Upgrade</td>\n",
       "      <td>70</td>\n",
       "      <td>0.156250</td>\n",
       "      <td>217.0</td>\n",
       "      <td>0.484375</td>\n",
       "    </tr>\n",
       "    <tr>\n",
       "      <th>15</th>\n",
       "      <td>Thumbs Down</td>\n",
       "      <td>1156</td>\n",
       "      <td>2.580357</td>\n",
       "      <td>3755.0</td>\n",
       "      <td>8.381696</td>\n",
       "    </tr>\n",
       "    <tr>\n",
       "      <th>16</th>\n",
       "      <td>Thumbs Up</td>\n",
       "      <td>4300</td>\n",
       "      <td>9.598214</td>\n",
       "      <td>19526.0</td>\n",
       "      <td>43.584821</td>\n",
       "    </tr>\n",
       "    <tr>\n",
       "      <th>17</th>\n",
       "      <td>Upgrade</td>\n",
       "      <td>237</td>\n",
       "      <td>0.529018</td>\n",
       "      <td>731.0</td>\n",
       "      <td>1.631696</td>\n",
       "    </tr>\n",
       "  </tbody>\n",
       "</table>\n",
       "</div>"
      ],
      "text/plain": [
       "                         page  counts_x  average_x  counts_y  average_y\n",
       "0                       About       185   0.412946     841.0   1.877232\n",
       "1                  Add Friend      1537   3.430804    6550.0  14.620536\n",
       "2             Add to Playlist      2259   5.042411   10090.0  22.522321\n",
       "3                      Cancel        99   0.220982       NaN        NaN\n",
       "4   Cancellation Confirmation        99   0.220982       NaN        NaN\n",
       "5                   Downgrade       831   1.854911    2980.0   6.651786\n",
       "6                       Error        97   0.216518     406.0   0.906250\n",
       "7                        Help       517   1.154018    2127.0   4.747768\n",
       "8                        Home      3778   8.433036   15311.0  34.176339\n",
       "9                      Logout      1184   2.642857    4806.0  10.727679\n",
       "10                Roll Advert      2186   4.879464    5587.0  12.470982\n",
       "11              Save Settings       104   0.232143     481.0   1.073661\n",
       "12                   Settings       619   1.381696    2345.0   5.234375\n",
       "13           Submit Downgrade        29   0.064732      88.0   0.196429\n",
       "14             Submit Upgrade        70   0.156250     217.0   0.484375\n",
       "15                Thumbs Down      1156   2.580357    3755.0   8.381696\n",
       "16                  Thumbs Up      4300   9.598214   19526.0  43.584821\n",
       "17                    Upgrade       237   0.529018     731.0   1.631696"
      ]
     },
     "execution_count": 49,
     "metadata": {},
     "output_type": "execute_result"
    }
   ],
   "source": [
    "#make df to plot\n",
    "page_counts_df = pd.merge(churn_page_counts, non_churn_page_counts, on=\"page\", how=\"left\")\n",
    "page_counts_df #x = churn, y = non-churn"
   ]
  },
  {
   "cell_type": "code",
   "execution_count": 50,
   "metadata": {
    "execution": {
     "iopub.execute_input": "2021-02-01T19:12:58.315040Z",
     "iopub.status.busy": "2021-02-01T19:12:58.314216Z",
     "iopub.status.idle": "2021-02-01T19:12:58.344990Z",
     "shell.execute_reply": "2021-02-01T19:12:58.344174Z"
    },
    "papermill": {
     "duration": 0.163055,
     "end_time": "2021-02-01T19:12:58.345123",
     "exception": false,
     "start_time": "2021-02-01T19:12:58.182068",
     "status": "completed"
    },
    "tags": []
   },
   "outputs": [
    {
     "data": {
      "application/vnd.plotly.v1+json": {
       "config": {
        "plotlyServerURL": "https://plot.ly"
       },
       "data": [
        {
         "name": "Churn",
         "type": "bar",
         "x": [
          "About",
          "Add Friend",
          "Add to Playlist",
          "Cancel",
          "Cancellation Confirmation",
          "Downgrade",
          "Error",
          "Help",
          "Home",
          "Logout",
          "Roll Advert",
          "Save Settings",
          "Settings",
          "Submit Downgrade",
          "Submit Upgrade",
          "Thumbs Down",
          "Thumbs Up",
          "Upgrade"
         ],
         "y": [
          0.41294642857142855,
          3.4308035714285716,
          5.042410714285714,
          0.22098214285714285,
          0.22098214285714285,
          1.8549107142857142,
          0.21651785714285715,
          1.1540178571428572,
          8.433035714285714,
          2.642857142857143,
          4.879464285714286,
          0.23214285714285715,
          1.3816964285714286,
          0.06473214285714286,
          0.15625,
          2.580357142857143,
          9.598214285714286,
          0.5290178571428571
         ]
        },
        {
         "name": "Non-Churn",
         "type": "bar",
         "x": [
          "About",
          "Add Friend",
          "Add to Playlist",
          "Cancel",
          "Cancellation Confirmation",
          "Downgrade",
          "Error",
          "Help",
          "Home",
          "Logout",
          "Roll Advert",
          "Save Settings",
          "Settings",
          "Submit Downgrade",
          "Submit Upgrade",
          "Thumbs Down",
          "Thumbs Up",
          "Upgrade"
         ],
         "y": [
          1.8772321428571428,
          14.620535714285714,
          22.522321428571427,
          null,
          null,
          6.651785714285714,
          0.90625,
          4.747767857142857,
          34.176339285714285,
          10.727678571428571,
          12.470982142857142,
          1.0736607142857142,
          5.234375,
          0.19642857142857142,
          0.484375,
          8.381696428571429,
          43.58482142857143,
          1.6316964285714286
         ]
        }
       ],
       "layout": {
        "template": {
         "data": {
          "bar": [
           {
            "error_x": {
             "color": "#2a3f5f"
            },
            "error_y": {
             "color": "#2a3f5f"
            },
            "marker": {
             "line": {
              "color": "#E5ECF6",
              "width": 0.5
             }
            },
            "type": "bar"
           }
          ],
          "barpolar": [
           {
            "marker": {
             "line": {
              "color": "#E5ECF6",
              "width": 0.5
             }
            },
            "type": "barpolar"
           }
          ],
          "carpet": [
           {
            "aaxis": {
             "endlinecolor": "#2a3f5f",
             "gridcolor": "white",
             "linecolor": "white",
             "minorgridcolor": "white",
             "startlinecolor": "#2a3f5f"
            },
            "baxis": {
             "endlinecolor": "#2a3f5f",
             "gridcolor": "white",
             "linecolor": "white",
             "minorgridcolor": "white",
             "startlinecolor": "#2a3f5f"
            },
            "type": "carpet"
           }
          ],
          "choropleth": [
           {
            "colorbar": {
             "outlinewidth": 0,
             "ticks": ""
            },
            "type": "choropleth"
           }
          ],
          "contour": [
           {
            "colorbar": {
             "outlinewidth": 0,
             "ticks": ""
            },
            "colorscale": [
             [
              0.0,
              "#0d0887"
             ],
             [
              0.1111111111111111,
              "#46039f"
             ],
             [
              0.2222222222222222,
              "#7201a8"
             ],
             [
              0.3333333333333333,
              "#9c179e"
             ],
             [
              0.4444444444444444,
              "#bd3786"
             ],
             [
              0.5555555555555556,
              "#d8576b"
             ],
             [
              0.6666666666666666,
              "#ed7953"
             ],
             [
              0.7777777777777778,
              "#fb9f3a"
             ],
             [
              0.8888888888888888,
              "#fdca26"
             ],
             [
              1.0,
              "#f0f921"
             ]
            ],
            "type": "contour"
           }
          ],
          "contourcarpet": [
           {
            "colorbar": {
             "outlinewidth": 0,
             "ticks": ""
            },
            "type": "contourcarpet"
           }
          ],
          "heatmap": [
           {
            "colorbar": {
             "outlinewidth": 0,
             "ticks": ""
            },
            "colorscale": [
             [
              0.0,
              "#0d0887"
             ],
             [
              0.1111111111111111,
              "#46039f"
             ],
             [
              0.2222222222222222,
              "#7201a8"
             ],
             [
              0.3333333333333333,
              "#9c179e"
             ],
             [
              0.4444444444444444,
              "#bd3786"
             ],
             [
              0.5555555555555556,
              "#d8576b"
             ],
             [
              0.6666666666666666,
              "#ed7953"
             ],
             [
              0.7777777777777778,
              "#fb9f3a"
             ],
             [
              0.8888888888888888,
              "#fdca26"
             ],
             [
              1.0,
              "#f0f921"
             ]
            ],
            "type": "heatmap"
           }
          ],
          "heatmapgl": [
           {
            "colorbar": {
             "outlinewidth": 0,
             "ticks": ""
            },
            "colorscale": [
             [
              0.0,
              "#0d0887"
             ],
             [
              0.1111111111111111,
              "#46039f"
             ],
             [
              0.2222222222222222,
              "#7201a8"
             ],
             [
              0.3333333333333333,
              "#9c179e"
             ],
             [
              0.4444444444444444,
              "#bd3786"
             ],
             [
              0.5555555555555556,
              "#d8576b"
             ],
             [
              0.6666666666666666,
              "#ed7953"
             ],
             [
              0.7777777777777778,
              "#fb9f3a"
             ],
             [
              0.8888888888888888,
              "#fdca26"
             ],
             [
              1.0,
              "#f0f921"
             ]
            ],
            "type": "heatmapgl"
           }
          ],
          "histogram": [
           {
            "marker": {
             "colorbar": {
              "outlinewidth": 0,
              "ticks": ""
             }
            },
            "type": "histogram"
           }
          ],
          "histogram2d": [
           {
            "colorbar": {
             "outlinewidth": 0,
             "ticks": ""
            },
            "colorscale": [
             [
              0.0,
              "#0d0887"
             ],
             [
              0.1111111111111111,
              "#46039f"
             ],
             [
              0.2222222222222222,
              "#7201a8"
             ],
             [
              0.3333333333333333,
              "#9c179e"
             ],
             [
              0.4444444444444444,
              "#bd3786"
             ],
             [
              0.5555555555555556,
              "#d8576b"
             ],
             [
              0.6666666666666666,
              "#ed7953"
             ],
             [
              0.7777777777777778,
              "#fb9f3a"
             ],
             [
              0.8888888888888888,
              "#fdca26"
             ],
             [
              1.0,
              "#f0f921"
             ]
            ],
            "type": "histogram2d"
           }
          ],
          "histogram2dcontour": [
           {
            "colorbar": {
             "outlinewidth": 0,
             "ticks": ""
            },
            "colorscale": [
             [
              0.0,
              "#0d0887"
             ],
             [
              0.1111111111111111,
              "#46039f"
             ],
             [
              0.2222222222222222,
              "#7201a8"
             ],
             [
              0.3333333333333333,
              "#9c179e"
             ],
             [
              0.4444444444444444,
              "#bd3786"
             ],
             [
              0.5555555555555556,
              "#d8576b"
             ],
             [
              0.6666666666666666,
              "#ed7953"
             ],
             [
              0.7777777777777778,
              "#fb9f3a"
             ],
             [
              0.8888888888888888,
              "#fdca26"
             ],
             [
              1.0,
              "#f0f921"
             ]
            ],
            "type": "histogram2dcontour"
           }
          ],
          "mesh3d": [
           {
            "colorbar": {
             "outlinewidth": 0,
             "ticks": ""
            },
            "type": "mesh3d"
           }
          ],
          "parcoords": [
           {
            "line": {
             "colorbar": {
              "outlinewidth": 0,
              "ticks": ""
             }
            },
            "type": "parcoords"
           }
          ],
          "pie": [
           {
            "automargin": true,
            "type": "pie"
           }
          ],
          "scatter": [
           {
            "marker": {
             "colorbar": {
              "outlinewidth": 0,
              "ticks": ""
             }
            },
            "type": "scatter"
           }
          ],
          "scatter3d": [
           {
            "line": {
             "colorbar": {
              "outlinewidth": 0,
              "ticks": ""
             }
            },
            "marker": {
             "colorbar": {
              "outlinewidth": 0,
              "ticks": ""
             }
            },
            "type": "scatter3d"
           }
          ],
          "scattercarpet": [
           {
            "marker": {
             "colorbar": {
              "outlinewidth": 0,
              "ticks": ""
             }
            },
            "type": "scattercarpet"
           }
          ],
          "scattergeo": [
           {
            "marker": {
             "colorbar": {
              "outlinewidth": 0,
              "ticks": ""
             }
            },
            "type": "scattergeo"
           }
          ],
          "scattergl": [
           {
            "marker": {
             "colorbar": {
              "outlinewidth": 0,
              "ticks": ""
             }
            },
            "type": "scattergl"
           }
          ],
          "scattermapbox": [
           {
            "marker": {
             "colorbar": {
              "outlinewidth": 0,
              "ticks": ""
             }
            },
            "type": "scattermapbox"
           }
          ],
          "scatterpolar": [
           {
            "marker": {
             "colorbar": {
              "outlinewidth": 0,
              "ticks": ""
             }
            },
            "type": "scatterpolar"
           }
          ],
          "scatterpolargl": [
           {
            "marker": {
             "colorbar": {
              "outlinewidth": 0,
              "ticks": ""
             }
            },
            "type": "scatterpolargl"
           }
          ],
          "scatterternary": [
           {
            "marker": {
             "colorbar": {
              "outlinewidth": 0,
              "ticks": ""
             }
            },
            "type": "scatterternary"
           }
          ],
          "surface": [
           {
            "colorbar": {
             "outlinewidth": 0,
             "ticks": ""
            },
            "colorscale": [
             [
              0.0,
              "#0d0887"
             ],
             [
              0.1111111111111111,
              "#46039f"
             ],
             [
              0.2222222222222222,
              "#7201a8"
             ],
             [
              0.3333333333333333,
              "#9c179e"
             ],
             [
              0.4444444444444444,
              "#bd3786"
             ],
             [
              0.5555555555555556,
              "#d8576b"
             ],
             [
              0.6666666666666666,
              "#ed7953"
             ],
             [
              0.7777777777777778,
              "#fb9f3a"
             ],
             [
              0.8888888888888888,
              "#fdca26"
             ],
             [
              1.0,
              "#f0f921"
             ]
            ],
            "type": "surface"
           }
          ],
          "table": [
           {
            "cells": {
             "fill": {
              "color": "#EBF0F8"
             },
             "line": {
              "color": "white"
             }
            },
            "header": {
             "fill": {
              "color": "#C8D4E3"
             },
             "line": {
              "color": "white"
             }
            },
            "type": "table"
           }
          ]
         },
         "layout": {
          "annotationdefaults": {
           "arrowcolor": "#2a3f5f",
           "arrowhead": 0,
           "arrowwidth": 1
          },
          "autotypenumbers": "strict",
          "coloraxis": {
           "colorbar": {
            "outlinewidth": 0,
            "ticks": ""
           }
          },
          "colorscale": {
           "diverging": [
            [
             0,
             "#8e0152"
            ],
            [
             0.1,
             "#c51b7d"
            ],
            [
             0.2,
             "#de77ae"
            ],
            [
             0.3,
             "#f1b6da"
            ],
            [
             0.4,
             "#fde0ef"
            ],
            [
             0.5,
             "#f7f7f7"
            ],
            [
             0.6,
             "#e6f5d0"
            ],
            [
             0.7,
             "#b8e186"
            ],
            [
             0.8,
             "#7fbc41"
            ],
            [
             0.9,
             "#4d9221"
            ],
            [
             1,
             "#276419"
            ]
           ],
           "sequential": [
            [
             0.0,
             "#0d0887"
            ],
            [
             0.1111111111111111,
             "#46039f"
            ],
            [
             0.2222222222222222,
             "#7201a8"
            ],
            [
             0.3333333333333333,
             "#9c179e"
            ],
            [
             0.4444444444444444,
             "#bd3786"
            ],
            [
             0.5555555555555556,
             "#d8576b"
            ],
            [
             0.6666666666666666,
             "#ed7953"
            ],
            [
             0.7777777777777778,
             "#fb9f3a"
            ],
            [
             0.8888888888888888,
             "#fdca26"
            ],
            [
             1.0,
             "#f0f921"
            ]
           ],
           "sequentialminus": [
            [
             0.0,
             "#0d0887"
            ],
            [
             0.1111111111111111,
             "#46039f"
            ],
            [
             0.2222222222222222,
             "#7201a8"
            ],
            [
             0.3333333333333333,
             "#9c179e"
            ],
            [
             0.4444444444444444,
             "#bd3786"
            ],
            [
             0.5555555555555556,
             "#d8576b"
            ],
            [
             0.6666666666666666,
             "#ed7953"
            ],
            [
             0.7777777777777778,
             "#fb9f3a"
            ],
            [
             0.8888888888888888,
             "#fdca26"
            ],
            [
             1.0,
             "#f0f921"
            ]
           ]
          },
          "colorway": [
           "#636efa",
           "#EF553B",
           "#00cc96",
           "#ab63fa",
           "#FFA15A",
           "#19d3f3",
           "#FF6692",
           "#B6E880",
           "#FF97FF",
           "#FECB52"
          ],
          "font": {
           "color": "#2a3f5f"
          },
          "geo": {
           "bgcolor": "white",
           "lakecolor": "white",
           "landcolor": "#E5ECF6",
           "showlakes": true,
           "showland": true,
           "subunitcolor": "white"
          },
          "hoverlabel": {
           "align": "left"
          },
          "hovermode": "closest",
          "mapbox": {
           "style": "light"
          },
          "paper_bgcolor": "white",
          "plot_bgcolor": "#E5ECF6",
          "polar": {
           "angularaxis": {
            "gridcolor": "white",
            "linecolor": "white",
            "ticks": ""
           },
           "bgcolor": "#E5ECF6",
           "radialaxis": {
            "gridcolor": "white",
            "linecolor": "white",
            "ticks": ""
           }
          },
          "scene": {
           "xaxis": {
            "backgroundcolor": "#E5ECF6",
            "gridcolor": "white",
            "gridwidth": 2,
            "linecolor": "white",
            "showbackground": true,
            "ticks": "",
            "zerolinecolor": "white"
           },
           "yaxis": {
            "backgroundcolor": "#E5ECF6",
            "gridcolor": "white",
            "gridwidth": 2,
            "linecolor": "white",
            "showbackground": true,
            "ticks": "",
            "zerolinecolor": "white"
           },
           "zaxis": {
            "backgroundcolor": "#E5ECF6",
            "gridcolor": "white",
            "gridwidth": 2,
            "linecolor": "white",
            "showbackground": true,
            "ticks": "",
            "zerolinecolor": "white"
           }
          },
          "shapedefaults": {
           "line": {
            "color": "#2a3f5f"
           }
          },
          "ternary": {
           "aaxis": {
            "gridcolor": "white",
            "linecolor": "white",
            "ticks": ""
           },
           "baxis": {
            "gridcolor": "white",
            "linecolor": "white",
            "ticks": ""
           },
           "bgcolor": "#E5ECF6",
           "caxis": {
            "gridcolor": "white",
            "linecolor": "white",
            "ticks": ""
           }
          },
          "title": {
           "x": 0.05
          },
          "xaxis": {
           "automargin": true,
           "gridcolor": "white",
           "linecolor": "white",
           "ticks": "",
           "title": {
            "standoff": 15
           },
           "zerolinecolor": "white",
           "zerolinewidth": 2
          },
          "yaxis": {
           "automargin": true,
           "gridcolor": "white",
           "linecolor": "white",
           "ticks": "",
           "title": {
            "standoff": 15
           },
           "zerolinecolor": "white",
           "zerolinewidth": 2
          }
         }
        },
        "xaxis": {
         "tickmode": "array",
         "tickvals": [
          "About",
          "Add Friend",
          "Add to Playlist",
          "Cancel",
          "Cancellation Confirmation",
          "Downgrade",
          "Error",
          "Help",
          "Home",
          "Logout",
          "Roll Advert",
          "Save Settings",
          "Settings",
          "Submit Downgrade",
          "Submit Upgrade",
          "Thumbs Down",
          "Thumbs Up",
          "Upgrade"
         ]
        }
       }
      },
      "text/html": [
       "<div>                            <div id=\"246ab3f8-e820-40dd-bac2-82dd6afddc16\" class=\"plotly-graph-div\" style=\"height:525px; width:100%;\"></div>            <script type=\"text/javascript\">                require([\"plotly\"], function(Plotly) {                    window.PLOTLYENV=window.PLOTLYENV || {};                                    if (document.getElementById(\"246ab3f8-e820-40dd-bac2-82dd6afddc16\")) {                    Plotly.newPlot(                        \"246ab3f8-e820-40dd-bac2-82dd6afddc16\",                        [{\"name\": \"Churn\", \"type\": \"bar\", \"x\": [\"About\", \"Add Friend\", \"Add to Playlist\", \"Cancel\", \"Cancellation Confirmation\", \"Downgrade\", \"Error\", \"Help\", \"Home\", \"Logout\", \"Roll Advert\", \"Save Settings\", \"Settings\", \"Submit Downgrade\", \"Submit Upgrade\", \"Thumbs Down\", \"Thumbs Up\", \"Upgrade\"], \"y\": [0.41294642857142855, 3.4308035714285716, 5.042410714285714, 0.22098214285714285, 0.22098214285714285, 1.8549107142857142, 0.21651785714285715, 1.1540178571428572, 8.433035714285714, 2.642857142857143, 4.879464285714286, 0.23214285714285715, 1.3816964285714286, 0.06473214285714286, 0.15625, 2.580357142857143, 9.598214285714286, 0.5290178571428571]}, {\"name\": \"Non-Churn\", \"type\": \"bar\", \"x\": [\"About\", \"Add Friend\", \"Add to Playlist\", \"Cancel\", \"Cancellation Confirmation\", \"Downgrade\", \"Error\", \"Help\", \"Home\", \"Logout\", \"Roll Advert\", \"Save Settings\", \"Settings\", \"Submit Downgrade\", \"Submit Upgrade\", \"Thumbs Down\", \"Thumbs Up\", \"Upgrade\"], \"y\": [1.8772321428571428, 14.620535714285714, 22.522321428571427, null, null, 6.651785714285714, 0.90625, 4.747767857142857, 34.176339285714285, 10.727678571428571, 12.470982142857142, 1.0736607142857142, 5.234375, 0.19642857142857142, 0.484375, 8.381696428571429, 43.58482142857143, 1.6316964285714286]}],                        {\"template\": {\"data\": {\"bar\": [{\"error_x\": {\"color\": \"#2a3f5f\"}, \"error_y\": {\"color\": \"#2a3f5f\"}, \"marker\": {\"line\": {\"color\": \"#E5ECF6\", \"width\": 0.5}}, \"type\": \"bar\"}], \"barpolar\": [{\"marker\": {\"line\": {\"color\": \"#E5ECF6\", \"width\": 0.5}}, \"type\": \"barpolar\"}], \"carpet\": [{\"aaxis\": {\"endlinecolor\": \"#2a3f5f\", \"gridcolor\": \"white\", \"linecolor\": \"white\", \"minorgridcolor\": \"white\", \"startlinecolor\": \"#2a3f5f\"}, \"baxis\": {\"endlinecolor\": \"#2a3f5f\", \"gridcolor\": \"white\", \"linecolor\": \"white\", \"minorgridcolor\": \"white\", \"startlinecolor\": \"#2a3f5f\"}, \"type\": \"carpet\"}], \"choropleth\": [{\"colorbar\": {\"outlinewidth\": 0, \"ticks\": \"\"}, \"type\": \"choropleth\"}], \"contour\": [{\"colorbar\": {\"outlinewidth\": 0, \"ticks\": \"\"}, \"colorscale\": [[0.0, \"#0d0887\"], [0.1111111111111111, \"#46039f\"], [0.2222222222222222, \"#7201a8\"], [0.3333333333333333, \"#9c179e\"], [0.4444444444444444, \"#bd3786\"], [0.5555555555555556, \"#d8576b\"], [0.6666666666666666, \"#ed7953\"], [0.7777777777777778, \"#fb9f3a\"], [0.8888888888888888, \"#fdca26\"], [1.0, \"#f0f921\"]], \"type\": \"contour\"}], \"contourcarpet\": [{\"colorbar\": {\"outlinewidth\": 0, \"ticks\": \"\"}, \"type\": \"contourcarpet\"}], \"heatmap\": [{\"colorbar\": {\"outlinewidth\": 0, \"ticks\": \"\"}, \"colorscale\": [[0.0, \"#0d0887\"], [0.1111111111111111, \"#46039f\"], [0.2222222222222222, \"#7201a8\"], [0.3333333333333333, \"#9c179e\"], [0.4444444444444444, \"#bd3786\"], [0.5555555555555556, \"#d8576b\"], [0.6666666666666666, \"#ed7953\"], [0.7777777777777778, \"#fb9f3a\"], [0.8888888888888888, \"#fdca26\"], [1.0, \"#f0f921\"]], \"type\": \"heatmap\"}], \"heatmapgl\": [{\"colorbar\": {\"outlinewidth\": 0, \"ticks\": \"\"}, \"colorscale\": [[0.0, \"#0d0887\"], [0.1111111111111111, \"#46039f\"], [0.2222222222222222, \"#7201a8\"], [0.3333333333333333, \"#9c179e\"], [0.4444444444444444, \"#bd3786\"], [0.5555555555555556, \"#d8576b\"], [0.6666666666666666, \"#ed7953\"], [0.7777777777777778, \"#fb9f3a\"], [0.8888888888888888, \"#fdca26\"], [1.0, \"#f0f921\"]], \"type\": \"heatmapgl\"}], \"histogram\": [{\"marker\": {\"colorbar\": {\"outlinewidth\": 0, \"ticks\": \"\"}}, \"type\": \"histogram\"}], \"histogram2d\": [{\"colorbar\": {\"outlinewidth\": 0, \"ticks\": \"\"}, \"colorscale\": [[0.0, \"#0d0887\"], [0.1111111111111111, \"#46039f\"], [0.2222222222222222, \"#7201a8\"], [0.3333333333333333, \"#9c179e\"], [0.4444444444444444, \"#bd3786\"], [0.5555555555555556, \"#d8576b\"], [0.6666666666666666, \"#ed7953\"], [0.7777777777777778, \"#fb9f3a\"], [0.8888888888888888, \"#fdca26\"], [1.0, \"#f0f921\"]], \"type\": \"histogram2d\"}], \"histogram2dcontour\": [{\"colorbar\": {\"outlinewidth\": 0, \"ticks\": \"\"}, \"colorscale\": [[0.0, \"#0d0887\"], [0.1111111111111111, \"#46039f\"], [0.2222222222222222, \"#7201a8\"], [0.3333333333333333, \"#9c179e\"], [0.4444444444444444, \"#bd3786\"], [0.5555555555555556, \"#d8576b\"], [0.6666666666666666, \"#ed7953\"], [0.7777777777777778, \"#fb9f3a\"], [0.8888888888888888, \"#fdca26\"], [1.0, \"#f0f921\"]], \"type\": \"histogram2dcontour\"}], \"mesh3d\": [{\"colorbar\": {\"outlinewidth\": 0, \"ticks\": \"\"}, \"type\": \"mesh3d\"}], \"parcoords\": [{\"line\": {\"colorbar\": {\"outlinewidth\": 0, \"ticks\": \"\"}}, \"type\": \"parcoords\"}], \"pie\": [{\"automargin\": true, \"type\": \"pie\"}], \"scatter\": [{\"marker\": {\"colorbar\": {\"outlinewidth\": 0, \"ticks\": \"\"}}, \"type\": \"scatter\"}], \"scatter3d\": [{\"line\": {\"colorbar\": {\"outlinewidth\": 0, \"ticks\": \"\"}}, \"marker\": {\"colorbar\": {\"outlinewidth\": 0, \"ticks\": \"\"}}, \"type\": \"scatter3d\"}], \"scattercarpet\": [{\"marker\": {\"colorbar\": {\"outlinewidth\": 0, \"ticks\": \"\"}}, \"type\": \"scattercarpet\"}], \"scattergeo\": [{\"marker\": {\"colorbar\": {\"outlinewidth\": 0, \"ticks\": \"\"}}, \"type\": \"scattergeo\"}], \"scattergl\": [{\"marker\": {\"colorbar\": {\"outlinewidth\": 0, \"ticks\": \"\"}}, \"type\": \"scattergl\"}], \"scattermapbox\": [{\"marker\": {\"colorbar\": {\"outlinewidth\": 0, \"ticks\": \"\"}}, \"type\": \"scattermapbox\"}], \"scatterpolar\": [{\"marker\": {\"colorbar\": {\"outlinewidth\": 0, \"ticks\": \"\"}}, \"type\": \"scatterpolar\"}], \"scatterpolargl\": [{\"marker\": {\"colorbar\": {\"outlinewidth\": 0, \"ticks\": \"\"}}, \"type\": \"scatterpolargl\"}], \"scatterternary\": [{\"marker\": {\"colorbar\": {\"outlinewidth\": 0, \"ticks\": \"\"}}, \"type\": \"scatterternary\"}], \"surface\": [{\"colorbar\": {\"outlinewidth\": 0, \"ticks\": \"\"}, \"colorscale\": [[0.0, \"#0d0887\"], [0.1111111111111111, \"#46039f\"], [0.2222222222222222, \"#7201a8\"], [0.3333333333333333, \"#9c179e\"], [0.4444444444444444, \"#bd3786\"], [0.5555555555555556, \"#d8576b\"], [0.6666666666666666, \"#ed7953\"], [0.7777777777777778, \"#fb9f3a\"], [0.8888888888888888, \"#fdca26\"], [1.0, \"#f0f921\"]], \"type\": \"surface\"}], \"table\": [{\"cells\": {\"fill\": {\"color\": \"#EBF0F8\"}, \"line\": {\"color\": \"white\"}}, \"header\": {\"fill\": {\"color\": \"#C8D4E3\"}, \"line\": {\"color\": \"white\"}}, \"type\": \"table\"}]}, \"layout\": {\"annotationdefaults\": {\"arrowcolor\": \"#2a3f5f\", \"arrowhead\": 0, \"arrowwidth\": 1}, \"autotypenumbers\": \"strict\", \"coloraxis\": {\"colorbar\": {\"outlinewidth\": 0, \"ticks\": \"\"}}, \"colorscale\": {\"diverging\": [[0, \"#8e0152\"], [0.1, \"#c51b7d\"], [0.2, \"#de77ae\"], [0.3, \"#f1b6da\"], [0.4, \"#fde0ef\"], [0.5, \"#f7f7f7\"], [0.6, \"#e6f5d0\"], [0.7, \"#b8e186\"], [0.8, \"#7fbc41\"], [0.9, \"#4d9221\"], [1, \"#276419\"]], \"sequential\": [[0.0, \"#0d0887\"], [0.1111111111111111, \"#46039f\"], [0.2222222222222222, \"#7201a8\"], [0.3333333333333333, \"#9c179e\"], [0.4444444444444444, \"#bd3786\"], [0.5555555555555556, \"#d8576b\"], [0.6666666666666666, \"#ed7953\"], [0.7777777777777778, \"#fb9f3a\"], [0.8888888888888888, \"#fdca26\"], [1.0, \"#f0f921\"]], \"sequentialminus\": [[0.0, \"#0d0887\"], [0.1111111111111111, \"#46039f\"], [0.2222222222222222, \"#7201a8\"], [0.3333333333333333, \"#9c179e\"], [0.4444444444444444, \"#bd3786\"], [0.5555555555555556, \"#d8576b\"], [0.6666666666666666, \"#ed7953\"], [0.7777777777777778, \"#fb9f3a\"], [0.8888888888888888, \"#fdca26\"], [1.0, \"#f0f921\"]]}, \"colorway\": [\"#636efa\", \"#EF553B\", \"#00cc96\", \"#ab63fa\", \"#FFA15A\", \"#19d3f3\", \"#FF6692\", \"#B6E880\", \"#FF97FF\", \"#FECB52\"], \"font\": {\"color\": \"#2a3f5f\"}, \"geo\": {\"bgcolor\": \"white\", \"lakecolor\": \"white\", \"landcolor\": \"#E5ECF6\", \"showlakes\": true, \"showland\": true, \"subunitcolor\": \"white\"}, \"hoverlabel\": {\"align\": \"left\"}, \"hovermode\": \"closest\", \"mapbox\": {\"style\": \"light\"}, \"paper_bgcolor\": \"white\", \"plot_bgcolor\": \"#E5ECF6\", \"polar\": {\"angularaxis\": {\"gridcolor\": \"white\", \"linecolor\": \"white\", \"ticks\": \"\"}, \"bgcolor\": \"#E5ECF6\", \"radialaxis\": {\"gridcolor\": \"white\", \"linecolor\": \"white\", \"ticks\": \"\"}}, \"scene\": {\"xaxis\": {\"backgroundcolor\": \"#E5ECF6\", \"gridcolor\": \"white\", \"gridwidth\": 2, \"linecolor\": \"white\", \"showbackground\": true, \"ticks\": \"\", \"zerolinecolor\": \"white\"}, \"yaxis\": {\"backgroundcolor\": \"#E5ECF6\", \"gridcolor\": \"white\", \"gridwidth\": 2, \"linecolor\": \"white\", \"showbackground\": true, \"ticks\": \"\", \"zerolinecolor\": \"white\"}, \"zaxis\": {\"backgroundcolor\": \"#E5ECF6\", \"gridcolor\": \"white\", \"gridwidth\": 2, \"linecolor\": \"white\", \"showbackground\": true, \"ticks\": \"\", \"zerolinecolor\": \"white\"}}, \"shapedefaults\": {\"line\": {\"color\": \"#2a3f5f\"}}, \"ternary\": {\"aaxis\": {\"gridcolor\": \"white\", \"linecolor\": \"white\", \"ticks\": \"\"}, \"baxis\": {\"gridcolor\": \"white\", \"linecolor\": \"white\", \"ticks\": \"\"}, \"bgcolor\": \"#E5ECF6\", \"caxis\": {\"gridcolor\": \"white\", \"linecolor\": \"white\", \"ticks\": \"\"}}, \"title\": {\"x\": 0.05}, \"xaxis\": {\"automargin\": true, \"gridcolor\": \"white\", \"linecolor\": \"white\", \"ticks\": \"\", \"title\": {\"standoff\": 15}, \"zerolinecolor\": \"white\", \"zerolinewidth\": 2}, \"yaxis\": {\"automargin\": true, \"gridcolor\": \"white\", \"linecolor\": \"white\", \"ticks\": \"\", \"title\": {\"standoff\": 15}, \"zerolinecolor\": \"white\", \"zerolinewidth\": 2}}}, \"xaxis\": {\"tickmode\": \"array\", \"tickvals\": [\"About\", \"Add Friend\", \"Add to Playlist\", \"Cancel\", \"Cancellation Confirmation\", \"Downgrade\", \"Error\", \"Help\", \"Home\", \"Logout\", \"Roll Advert\", \"Save Settings\", \"Settings\", \"Submit Downgrade\", \"Submit Upgrade\", \"Thumbs Down\", \"Thumbs Up\", \"Upgrade\"]}},                        {\"responsive\": true}                    ).then(function(){\n",
       "                            \n",
       "var gd = document.getElementById('246ab3f8-e820-40dd-bac2-82dd6afddc16');\n",
       "var x = new MutationObserver(function (mutations, observer) {{\n",
       "        var display = window.getComputedStyle(gd).display;\n",
       "        if (!display || display === 'none') {{\n",
       "            console.log([gd, 'removed!']);\n",
       "            Plotly.purge(gd);\n",
       "            observer.disconnect();\n",
       "        }}\n",
       "}});\n",
       "\n",
       "// Listen for the removal of the full notebook cells\n",
       "var notebookContainer = gd.closest('#notebook-container');\n",
       "if (notebookContainer) {{\n",
       "    x.observe(notebookContainer, {childList: true});\n",
       "}}\n",
       "\n",
       "// Listen for the clearing of the current output cell\n",
       "var outputEl = gd.closest('.output');\n",
       "if (outputEl) {{\n",
       "    x.observe(outputEl, {childList: true});\n",
       "}}\n",
       "\n",
       "                        })                };                });            </script>        </div>"
      ]
     },
     "metadata": {},
     "output_type": "display_data"
    }
   ],
   "source": [
    "fig = go.Figure()\n",
    "fig.add_trace(go.Bar(x=page_counts_df.page,\n",
    "                     y=page_counts_df.average_x,\n",
    "                     name=\"Churn\"))\n",
    "fig.add_trace(go.Bar(x=page_counts_df.page,\n",
    "                     y=page_counts_df.average_y,\n",
    "                     name=\"Non-Churn\"))\n",
    "\n",
    "fig.update_layout(\n",
    "    xaxis = dict(\n",
    "        tickmode = 'array',\n",
    "        tickvals = page_counts_df.page\n",
    "        #ticktext = df[\"CLASS\"])\n",
    "    )\n",
    ")"
   ]
  },
  {
   "cell_type": "markdown",
   "metadata": {
    "papermill": {
     "duration": 0.135147,
     "end_time": "2021-02-01T19:12:58.616369",
     "exception": false,
     "start_time": "2021-02-01T19:12:58.481222",
     "status": "completed"
    },
    "tags": []
   },
   "source": [
    "Already from this side-by-side there is a telling story. Biggest differences from churn v. non-churn users are amount of times a user added a friend, added a song to a playlist, went to the home page and at the top of the list for main differentiator is how many thumbs up's are given."
   ]
  },
  {
   "cell_type": "markdown",
   "metadata": {
    "papermill": {
     "duration": 0.134052,
     "end_time": "2021-02-01T19:12:58.888417",
     "exception": false,
     "start_time": "2021-02-01T19:12:58.754365",
     "status": "completed"
    },
    "tags": []
   },
   "source": [
    "### Number of churned users as subscribers v paid subscribers"
   ]
  },
  {
   "cell_type": "code",
   "execution_count": 51,
   "metadata": {
    "execution": {
     "iopub.execute_input": "2021-02-01T19:12:59.308442Z",
     "iopub.status.busy": "2021-02-01T19:12:59.307673Z",
     "iopub.status.idle": "2021-02-01T19:12:59.495762Z",
     "shell.execute_reply": "2021-02-01T19:12:59.495016Z"
    },
    "papermill": {
     "duration": 0.4704,
     "end_time": "2021-02-01T19:12:59.495917",
     "exception": false,
     "start_time": "2021-02-01T19:12:59.025517",
     "status": "completed"
    },
    "tags": []
   },
   "outputs": [
    {
     "data": {
      "text/html": [
       "<div>\n",
       "<style scoped>\n",
       "    .dataframe tbody tr th:only-of-type {\n",
       "        vertical-align: middle;\n",
       "    }\n",
       "\n",
       "    .dataframe tbody tr th {\n",
       "        vertical-align: top;\n",
       "    }\n",
       "\n",
       "    .dataframe thead th {\n",
       "        text-align: right;\n",
       "    }\n",
       "</style>\n",
       "<table border=\"1\" class=\"dataframe\">\n",
       "  <thead>\n",
       "    <tr style=\"text-align: right;\">\n",
       "      <th></th>\n",
       "      <th>level</th>\n",
       "      <th>counts</th>\n",
       "    </tr>\n",
       "  </thead>\n",
       "  <tbody>\n",
       "    <tr>\n",
       "      <th>0</th>\n",
       "      <td>paid</td>\n",
       "      <td>76152</td>\n",
       "    </tr>\n",
       "    <tr>\n",
       "      <th>1</th>\n",
       "      <td>free</td>\n",
       "      <td>27494</td>\n",
       "    </tr>\n",
       "  </tbody>\n",
       "</table>\n",
       "</div>"
      ],
      "text/plain": [
       "  level  counts\n",
       "0  paid   76152\n",
       "1  free   27494"
      ]
     },
     "execution_count": 51,
     "metadata": {},
     "output_type": "execute_result"
    }
   ],
   "source": [
    "churn_subs = df.loc[df['userId'].isin(churn_id)].level.value_counts().rename_axis('level').reset_index(name='counts').sort_index()\n",
    "churn_subs"
   ]
  },
  {
   "cell_type": "code",
   "execution_count": 52,
   "metadata": {
    "execution": {
     "iopub.execute_input": "2021-02-01T19:12:59.796652Z",
     "iopub.status.busy": "2021-02-01T19:12:59.778275Z",
     "iopub.status.idle": "2021-02-01T19:12:59.853152Z",
     "shell.execute_reply": "2021-02-01T19:12:59.852432Z"
    },
    "papermill": {
     "duration": 0.223037,
     "end_time": "2021-02-01T19:12:59.853298",
     "exception": false,
     "start_time": "2021-02-01T19:12:59.630261",
     "status": "completed"
    },
    "tags": []
   },
   "outputs": [
    {
     "data": {
      "application/vnd.plotly.v1+json": {
       "config": {
        "plotlyServerURL": "https://plot.ly"
       },
       "data": [
        {
         "alignmentgroup": "True",
         "hovertemplate": "level=%{x}<br>counts=%{y}<extra></extra>",
         "legendgroup": "",
         "marker": {
          "color": "#636efa"
         },
         "name": "",
         "offsetgroup": "",
         "orientation": "v",
         "showlegend": false,
         "textposition": "auto",
         "type": "bar",
         "x": [
          "paid",
          "free"
         ],
         "xaxis": "x",
         "y": [
          76152,
          27494
         ],
         "yaxis": "y"
        }
       ],
       "layout": {
        "barmode": "relative",
        "legend": {
         "tracegroupgap": 0
        },
        "margin": {
         "t": 60
        },
        "template": {
         "data": {
          "bar": [
           {
            "error_x": {
             "color": "#2a3f5f"
            },
            "error_y": {
             "color": "#2a3f5f"
            },
            "marker": {
             "line": {
              "color": "#E5ECF6",
              "width": 0.5
             }
            },
            "type": "bar"
           }
          ],
          "barpolar": [
           {
            "marker": {
             "line": {
              "color": "#E5ECF6",
              "width": 0.5
             }
            },
            "type": "barpolar"
           }
          ],
          "carpet": [
           {
            "aaxis": {
             "endlinecolor": "#2a3f5f",
             "gridcolor": "white",
             "linecolor": "white",
             "minorgridcolor": "white",
             "startlinecolor": "#2a3f5f"
            },
            "baxis": {
             "endlinecolor": "#2a3f5f",
             "gridcolor": "white",
             "linecolor": "white",
             "minorgridcolor": "white",
             "startlinecolor": "#2a3f5f"
            },
            "type": "carpet"
           }
          ],
          "choropleth": [
           {
            "colorbar": {
             "outlinewidth": 0,
             "ticks": ""
            },
            "type": "choropleth"
           }
          ],
          "contour": [
           {
            "colorbar": {
             "outlinewidth": 0,
             "ticks": ""
            },
            "colorscale": [
             [
              0.0,
              "#0d0887"
             ],
             [
              0.1111111111111111,
              "#46039f"
             ],
             [
              0.2222222222222222,
              "#7201a8"
             ],
             [
              0.3333333333333333,
              "#9c179e"
             ],
             [
              0.4444444444444444,
              "#bd3786"
             ],
             [
              0.5555555555555556,
              "#d8576b"
             ],
             [
              0.6666666666666666,
              "#ed7953"
             ],
             [
              0.7777777777777778,
              "#fb9f3a"
             ],
             [
              0.8888888888888888,
              "#fdca26"
             ],
             [
              1.0,
              "#f0f921"
             ]
            ],
            "type": "contour"
           }
          ],
          "contourcarpet": [
           {
            "colorbar": {
             "outlinewidth": 0,
             "ticks": ""
            },
            "type": "contourcarpet"
           }
          ],
          "heatmap": [
           {
            "colorbar": {
             "outlinewidth": 0,
             "ticks": ""
            },
            "colorscale": [
             [
              0.0,
              "#0d0887"
             ],
             [
              0.1111111111111111,
              "#46039f"
             ],
             [
              0.2222222222222222,
              "#7201a8"
             ],
             [
              0.3333333333333333,
              "#9c179e"
             ],
             [
              0.4444444444444444,
              "#bd3786"
             ],
             [
              0.5555555555555556,
              "#d8576b"
             ],
             [
              0.6666666666666666,
              "#ed7953"
             ],
             [
              0.7777777777777778,
              "#fb9f3a"
             ],
             [
              0.8888888888888888,
              "#fdca26"
             ],
             [
              1.0,
              "#f0f921"
             ]
            ],
            "type": "heatmap"
           }
          ],
          "heatmapgl": [
           {
            "colorbar": {
             "outlinewidth": 0,
             "ticks": ""
            },
            "colorscale": [
             [
              0.0,
              "#0d0887"
             ],
             [
              0.1111111111111111,
              "#46039f"
             ],
             [
              0.2222222222222222,
              "#7201a8"
             ],
             [
              0.3333333333333333,
              "#9c179e"
             ],
             [
              0.4444444444444444,
              "#bd3786"
             ],
             [
              0.5555555555555556,
              "#d8576b"
             ],
             [
              0.6666666666666666,
              "#ed7953"
             ],
             [
              0.7777777777777778,
              "#fb9f3a"
             ],
             [
              0.8888888888888888,
              "#fdca26"
             ],
             [
              1.0,
              "#f0f921"
             ]
            ],
            "type": "heatmapgl"
           }
          ],
          "histogram": [
           {
            "marker": {
             "colorbar": {
              "outlinewidth": 0,
              "ticks": ""
             }
            },
            "type": "histogram"
           }
          ],
          "histogram2d": [
           {
            "colorbar": {
             "outlinewidth": 0,
             "ticks": ""
            },
            "colorscale": [
             [
              0.0,
              "#0d0887"
             ],
             [
              0.1111111111111111,
              "#46039f"
             ],
             [
              0.2222222222222222,
              "#7201a8"
             ],
             [
              0.3333333333333333,
              "#9c179e"
             ],
             [
              0.4444444444444444,
              "#bd3786"
             ],
             [
              0.5555555555555556,
              "#d8576b"
             ],
             [
              0.6666666666666666,
              "#ed7953"
             ],
             [
              0.7777777777777778,
              "#fb9f3a"
             ],
             [
              0.8888888888888888,
              "#fdca26"
             ],
             [
              1.0,
              "#f0f921"
             ]
            ],
            "type": "histogram2d"
           }
          ],
          "histogram2dcontour": [
           {
            "colorbar": {
             "outlinewidth": 0,
             "ticks": ""
            },
            "colorscale": [
             [
              0.0,
              "#0d0887"
             ],
             [
              0.1111111111111111,
              "#46039f"
             ],
             [
              0.2222222222222222,
              "#7201a8"
             ],
             [
              0.3333333333333333,
              "#9c179e"
             ],
             [
              0.4444444444444444,
              "#bd3786"
             ],
             [
              0.5555555555555556,
              "#d8576b"
             ],
             [
              0.6666666666666666,
              "#ed7953"
             ],
             [
              0.7777777777777778,
              "#fb9f3a"
             ],
             [
              0.8888888888888888,
              "#fdca26"
             ],
             [
              1.0,
              "#f0f921"
             ]
            ],
            "type": "histogram2dcontour"
           }
          ],
          "mesh3d": [
           {
            "colorbar": {
             "outlinewidth": 0,
             "ticks": ""
            },
            "type": "mesh3d"
           }
          ],
          "parcoords": [
           {
            "line": {
             "colorbar": {
              "outlinewidth": 0,
              "ticks": ""
             }
            },
            "type": "parcoords"
           }
          ],
          "pie": [
           {
            "automargin": true,
            "type": "pie"
           }
          ],
          "scatter": [
           {
            "marker": {
             "colorbar": {
              "outlinewidth": 0,
              "ticks": ""
             }
            },
            "type": "scatter"
           }
          ],
          "scatter3d": [
           {
            "line": {
             "colorbar": {
              "outlinewidth": 0,
              "ticks": ""
             }
            },
            "marker": {
             "colorbar": {
              "outlinewidth": 0,
              "ticks": ""
             }
            },
            "type": "scatter3d"
           }
          ],
          "scattercarpet": [
           {
            "marker": {
             "colorbar": {
              "outlinewidth": 0,
              "ticks": ""
             }
            },
            "type": "scattercarpet"
           }
          ],
          "scattergeo": [
           {
            "marker": {
             "colorbar": {
              "outlinewidth": 0,
              "ticks": ""
             }
            },
            "type": "scattergeo"
           }
          ],
          "scattergl": [
           {
            "marker": {
             "colorbar": {
              "outlinewidth": 0,
              "ticks": ""
             }
            },
            "type": "scattergl"
           }
          ],
          "scattermapbox": [
           {
            "marker": {
             "colorbar": {
              "outlinewidth": 0,
              "ticks": ""
             }
            },
            "type": "scattermapbox"
           }
          ],
          "scatterpolar": [
           {
            "marker": {
             "colorbar": {
              "outlinewidth": 0,
              "ticks": ""
             }
            },
            "type": "scatterpolar"
           }
          ],
          "scatterpolargl": [
           {
            "marker": {
             "colorbar": {
              "outlinewidth": 0,
              "ticks": ""
             }
            },
            "type": "scatterpolargl"
           }
          ],
          "scatterternary": [
           {
            "marker": {
             "colorbar": {
              "outlinewidth": 0,
              "ticks": ""
             }
            },
            "type": "scatterternary"
           }
          ],
          "surface": [
           {
            "colorbar": {
             "outlinewidth": 0,
             "ticks": ""
            },
            "colorscale": [
             [
              0.0,
              "#0d0887"
             ],
             [
              0.1111111111111111,
              "#46039f"
             ],
             [
              0.2222222222222222,
              "#7201a8"
             ],
             [
              0.3333333333333333,
              "#9c179e"
             ],
             [
              0.4444444444444444,
              "#bd3786"
             ],
             [
              0.5555555555555556,
              "#d8576b"
             ],
             [
              0.6666666666666666,
              "#ed7953"
             ],
             [
              0.7777777777777778,
              "#fb9f3a"
             ],
             [
              0.8888888888888888,
              "#fdca26"
             ],
             [
              1.0,
              "#f0f921"
             ]
            ],
            "type": "surface"
           }
          ],
          "table": [
           {
            "cells": {
             "fill": {
              "color": "#EBF0F8"
             },
             "line": {
              "color": "white"
             }
            },
            "header": {
             "fill": {
              "color": "#C8D4E3"
             },
             "line": {
              "color": "white"
             }
            },
            "type": "table"
           }
          ]
         },
         "layout": {
          "annotationdefaults": {
           "arrowcolor": "#2a3f5f",
           "arrowhead": 0,
           "arrowwidth": 1
          },
          "autotypenumbers": "strict",
          "coloraxis": {
           "colorbar": {
            "outlinewidth": 0,
            "ticks": ""
           }
          },
          "colorscale": {
           "diverging": [
            [
             0,
             "#8e0152"
            ],
            [
             0.1,
             "#c51b7d"
            ],
            [
             0.2,
             "#de77ae"
            ],
            [
             0.3,
             "#f1b6da"
            ],
            [
             0.4,
             "#fde0ef"
            ],
            [
             0.5,
             "#f7f7f7"
            ],
            [
             0.6,
             "#e6f5d0"
            ],
            [
             0.7,
             "#b8e186"
            ],
            [
             0.8,
             "#7fbc41"
            ],
            [
             0.9,
             "#4d9221"
            ],
            [
             1,
             "#276419"
            ]
           ],
           "sequential": [
            [
             0.0,
             "#0d0887"
            ],
            [
             0.1111111111111111,
             "#46039f"
            ],
            [
             0.2222222222222222,
             "#7201a8"
            ],
            [
             0.3333333333333333,
             "#9c179e"
            ],
            [
             0.4444444444444444,
             "#bd3786"
            ],
            [
             0.5555555555555556,
             "#d8576b"
            ],
            [
             0.6666666666666666,
             "#ed7953"
            ],
            [
             0.7777777777777778,
             "#fb9f3a"
            ],
            [
             0.8888888888888888,
             "#fdca26"
            ],
            [
             1.0,
             "#f0f921"
            ]
           ],
           "sequentialminus": [
            [
             0.0,
             "#0d0887"
            ],
            [
             0.1111111111111111,
             "#46039f"
            ],
            [
             0.2222222222222222,
             "#7201a8"
            ],
            [
             0.3333333333333333,
             "#9c179e"
            ],
            [
             0.4444444444444444,
             "#bd3786"
            ],
            [
             0.5555555555555556,
             "#d8576b"
            ],
            [
             0.6666666666666666,
             "#ed7953"
            ],
            [
             0.7777777777777778,
             "#fb9f3a"
            ],
            [
             0.8888888888888888,
             "#fdca26"
            ],
            [
             1.0,
             "#f0f921"
            ]
           ]
          },
          "colorway": [
           "#636efa",
           "#EF553B",
           "#00cc96",
           "#ab63fa",
           "#FFA15A",
           "#19d3f3",
           "#FF6692",
           "#B6E880",
           "#FF97FF",
           "#FECB52"
          ],
          "font": {
           "color": "#2a3f5f"
          },
          "geo": {
           "bgcolor": "white",
           "lakecolor": "white",
           "landcolor": "#E5ECF6",
           "showlakes": true,
           "showland": true,
           "subunitcolor": "white"
          },
          "hoverlabel": {
           "align": "left"
          },
          "hovermode": "closest",
          "mapbox": {
           "style": "light"
          },
          "paper_bgcolor": "white",
          "plot_bgcolor": "#E5ECF6",
          "polar": {
           "angularaxis": {
            "gridcolor": "white",
            "linecolor": "white",
            "ticks": ""
           },
           "bgcolor": "#E5ECF6",
           "radialaxis": {
            "gridcolor": "white",
            "linecolor": "white",
            "ticks": ""
           }
          },
          "scene": {
           "xaxis": {
            "backgroundcolor": "#E5ECF6",
            "gridcolor": "white",
            "gridwidth": 2,
            "linecolor": "white",
            "showbackground": true,
            "ticks": "",
            "zerolinecolor": "white"
           },
           "yaxis": {
            "backgroundcolor": "#E5ECF6",
            "gridcolor": "white",
            "gridwidth": 2,
            "linecolor": "white",
            "showbackground": true,
            "ticks": "",
            "zerolinecolor": "white"
           },
           "zaxis": {
            "backgroundcolor": "#E5ECF6",
            "gridcolor": "white",
            "gridwidth": 2,
            "linecolor": "white",
            "showbackground": true,
            "ticks": "",
            "zerolinecolor": "white"
           }
          },
          "shapedefaults": {
           "line": {
            "color": "#2a3f5f"
           }
          },
          "ternary": {
           "aaxis": {
            "gridcolor": "white",
            "linecolor": "white",
            "ticks": ""
           },
           "baxis": {
            "gridcolor": "white",
            "linecolor": "white",
            "ticks": ""
           },
           "bgcolor": "#E5ECF6",
           "caxis": {
            "gridcolor": "white",
            "linecolor": "white",
            "ticks": ""
           }
          },
          "title": {
           "x": 0.05
          },
          "xaxis": {
           "automargin": true,
           "gridcolor": "white",
           "linecolor": "white",
           "ticks": "",
           "title": {
            "standoff": 15
           },
           "zerolinecolor": "white",
           "zerolinewidth": 2
          },
          "yaxis": {
           "automargin": true,
           "gridcolor": "white",
           "linecolor": "white",
           "ticks": "",
           "title": {
            "standoff": 15
           },
           "zerolinecolor": "white",
           "zerolinewidth": 2
          }
         }
        },
        "xaxis": {
         "anchor": "y",
         "domain": [
          0.0,
          1.0
         ],
         "title": {
          "text": "level"
         }
        },
        "yaxis": {
         "anchor": "x",
         "domain": [
          0.0,
          1.0
         ],
         "title": {
          "text": "counts"
         }
        }
       }
      },
      "text/html": [
       "<div>                            <div id=\"3ebd9b9f-d6f4-4d23-b010-92ce766c3fd1\" class=\"plotly-graph-div\" style=\"height:525px; width:100%;\"></div>            <script type=\"text/javascript\">                require([\"plotly\"], function(Plotly) {                    window.PLOTLYENV=window.PLOTLYENV || {};                                    if (document.getElementById(\"3ebd9b9f-d6f4-4d23-b010-92ce766c3fd1\")) {                    Plotly.newPlot(                        \"3ebd9b9f-d6f4-4d23-b010-92ce766c3fd1\",                        [{\"alignmentgroup\": \"True\", \"hovertemplate\": \"level=%{x}<br>counts=%{y}<extra></extra>\", \"legendgroup\": \"\", \"marker\": {\"color\": \"#636efa\"}, \"name\": \"\", \"offsetgroup\": \"\", \"orientation\": \"v\", \"showlegend\": false, \"textposition\": \"auto\", \"type\": \"bar\", \"x\": [\"paid\", \"free\"], \"xaxis\": \"x\", \"y\": [76152, 27494], \"yaxis\": \"y\"}],                        {\"barmode\": \"relative\", \"legend\": {\"tracegroupgap\": 0}, \"margin\": {\"t\": 60}, \"template\": {\"data\": {\"bar\": [{\"error_x\": {\"color\": \"#2a3f5f\"}, \"error_y\": {\"color\": \"#2a3f5f\"}, \"marker\": {\"line\": {\"color\": \"#E5ECF6\", \"width\": 0.5}}, \"type\": \"bar\"}], \"barpolar\": [{\"marker\": {\"line\": {\"color\": \"#E5ECF6\", \"width\": 0.5}}, \"type\": \"barpolar\"}], \"carpet\": [{\"aaxis\": {\"endlinecolor\": \"#2a3f5f\", \"gridcolor\": \"white\", \"linecolor\": \"white\", \"minorgridcolor\": \"white\", \"startlinecolor\": \"#2a3f5f\"}, \"baxis\": {\"endlinecolor\": \"#2a3f5f\", \"gridcolor\": \"white\", \"linecolor\": \"white\", \"minorgridcolor\": \"white\", \"startlinecolor\": \"#2a3f5f\"}, \"type\": \"carpet\"}], \"choropleth\": [{\"colorbar\": {\"outlinewidth\": 0, \"ticks\": \"\"}, \"type\": \"choropleth\"}], \"contour\": [{\"colorbar\": {\"outlinewidth\": 0, \"ticks\": \"\"}, \"colorscale\": [[0.0, \"#0d0887\"], [0.1111111111111111, \"#46039f\"], [0.2222222222222222, \"#7201a8\"], [0.3333333333333333, \"#9c179e\"], [0.4444444444444444, \"#bd3786\"], [0.5555555555555556, \"#d8576b\"], [0.6666666666666666, \"#ed7953\"], [0.7777777777777778, \"#fb9f3a\"], [0.8888888888888888, \"#fdca26\"], [1.0, \"#f0f921\"]], \"type\": \"contour\"}], \"contourcarpet\": [{\"colorbar\": {\"outlinewidth\": 0, \"ticks\": \"\"}, \"type\": \"contourcarpet\"}], \"heatmap\": [{\"colorbar\": {\"outlinewidth\": 0, \"ticks\": \"\"}, \"colorscale\": [[0.0, \"#0d0887\"], [0.1111111111111111, \"#46039f\"], [0.2222222222222222, \"#7201a8\"], [0.3333333333333333, \"#9c179e\"], [0.4444444444444444, \"#bd3786\"], [0.5555555555555556, \"#d8576b\"], [0.6666666666666666, \"#ed7953\"], [0.7777777777777778, \"#fb9f3a\"], [0.8888888888888888, \"#fdca26\"], [1.0, \"#f0f921\"]], \"type\": \"heatmap\"}], \"heatmapgl\": [{\"colorbar\": {\"outlinewidth\": 0, \"ticks\": \"\"}, \"colorscale\": [[0.0, \"#0d0887\"], [0.1111111111111111, \"#46039f\"], [0.2222222222222222, \"#7201a8\"], [0.3333333333333333, \"#9c179e\"], [0.4444444444444444, \"#bd3786\"], [0.5555555555555556, \"#d8576b\"], [0.6666666666666666, \"#ed7953\"], [0.7777777777777778, \"#fb9f3a\"], [0.8888888888888888, \"#fdca26\"], [1.0, \"#f0f921\"]], \"type\": \"heatmapgl\"}], \"histogram\": [{\"marker\": {\"colorbar\": {\"outlinewidth\": 0, \"ticks\": \"\"}}, \"type\": \"histogram\"}], \"histogram2d\": [{\"colorbar\": {\"outlinewidth\": 0, \"ticks\": \"\"}, \"colorscale\": [[0.0, \"#0d0887\"], [0.1111111111111111, \"#46039f\"], [0.2222222222222222, \"#7201a8\"], [0.3333333333333333, \"#9c179e\"], [0.4444444444444444, \"#bd3786\"], [0.5555555555555556, \"#d8576b\"], [0.6666666666666666, \"#ed7953\"], [0.7777777777777778, \"#fb9f3a\"], [0.8888888888888888, \"#fdca26\"], [1.0, \"#f0f921\"]], \"type\": \"histogram2d\"}], \"histogram2dcontour\": [{\"colorbar\": {\"outlinewidth\": 0, \"ticks\": \"\"}, \"colorscale\": [[0.0, \"#0d0887\"], [0.1111111111111111, \"#46039f\"], [0.2222222222222222, \"#7201a8\"], [0.3333333333333333, \"#9c179e\"], [0.4444444444444444, \"#bd3786\"], [0.5555555555555556, \"#d8576b\"], [0.6666666666666666, \"#ed7953\"], [0.7777777777777778, \"#fb9f3a\"], [0.8888888888888888, \"#fdca26\"], [1.0, \"#f0f921\"]], \"type\": \"histogram2dcontour\"}], \"mesh3d\": [{\"colorbar\": {\"outlinewidth\": 0, \"ticks\": \"\"}, \"type\": \"mesh3d\"}], \"parcoords\": [{\"line\": {\"colorbar\": {\"outlinewidth\": 0, \"ticks\": \"\"}}, \"type\": \"parcoords\"}], \"pie\": [{\"automargin\": true, \"type\": \"pie\"}], \"scatter\": [{\"marker\": {\"colorbar\": {\"outlinewidth\": 0, \"ticks\": \"\"}}, \"type\": \"scatter\"}], \"scatter3d\": [{\"line\": {\"colorbar\": {\"outlinewidth\": 0, \"ticks\": \"\"}}, \"marker\": {\"colorbar\": {\"outlinewidth\": 0, \"ticks\": \"\"}}, \"type\": \"scatter3d\"}], \"scattercarpet\": [{\"marker\": {\"colorbar\": {\"outlinewidth\": 0, \"ticks\": \"\"}}, \"type\": \"scattercarpet\"}], \"scattergeo\": [{\"marker\": {\"colorbar\": {\"outlinewidth\": 0, \"ticks\": \"\"}}, \"type\": \"scattergeo\"}], \"scattergl\": [{\"marker\": {\"colorbar\": {\"outlinewidth\": 0, \"ticks\": \"\"}}, \"type\": \"scattergl\"}], \"scattermapbox\": [{\"marker\": {\"colorbar\": {\"outlinewidth\": 0, \"ticks\": \"\"}}, \"type\": \"scattermapbox\"}], \"scatterpolar\": [{\"marker\": {\"colorbar\": {\"outlinewidth\": 0, \"ticks\": \"\"}}, \"type\": \"scatterpolar\"}], \"scatterpolargl\": [{\"marker\": {\"colorbar\": {\"outlinewidth\": 0, \"ticks\": \"\"}}, \"type\": \"scatterpolargl\"}], \"scatterternary\": [{\"marker\": {\"colorbar\": {\"outlinewidth\": 0, \"ticks\": \"\"}}, \"type\": \"scatterternary\"}], \"surface\": [{\"colorbar\": {\"outlinewidth\": 0, \"ticks\": \"\"}, \"colorscale\": [[0.0, \"#0d0887\"], [0.1111111111111111, \"#46039f\"], [0.2222222222222222, \"#7201a8\"], [0.3333333333333333, \"#9c179e\"], [0.4444444444444444, \"#bd3786\"], [0.5555555555555556, \"#d8576b\"], [0.6666666666666666, \"#ed7953\"], [0.7777777777777778, \"#fb9f3a\"], [0.8888888888888888, \"#fdca26\"], [1.0, \"#f0f921\"]], \"type\": \"surface\"}], \"table\": [{\"cells\": {\"fill\": {\"color\": \"#EBF0F8\"}, \"line\": {\"color\": \"white\"}}, \"header\": {\"fill\": {\"color\": \"#C8D4E3\"}, \"line\": {\"color\": \"white\"}}, \"type\": \"table\"}]}, \"layout\": {\"annotationdefaults\": {\"arrowcolor\": \"#2a3f5f\", \"arrowhead\": 0, \"arrowwidth\": 1}, \"autotypenumbers\": \"strict\", \"coloraxis\": {\"colorbar\": {\"outlinewidth\": 0, \"ticks\": \"\"}}, \"colorscale\": {\"diverging\": [[0, \"#8e0152\"], [0.1, \"#c51b7d\"], [0.2, \"#de77ae\"], [0.3, \"#f1b6da\"], [0.4, \"#fde0ef\"], [0.5, \"#f7f7f7\"], [0.6, \"#e6f5d0\"], [0.7, \"#b8e186\"], [0.8, \"#7fbc41\"], [0.9, \"#4d9221\"], [1, \"#276419\"]], \"sequential\": [[0.0, \"#0d0887\"], [0.1111111111111111, \"#46039f\"], [0.2222222222222222, \"#7201a8\"], [0.3333333333333333, \"#9c179e\"], [0.4444444444444444, \"#bd3786\"], [0.5555555555555556, \"#d8576b\"], [0.6666666666666666, \"#ed7953\"], [0.7777777777777778, \"#fb9f3a\"], [0.8888888888888888, \"#fdca26\"], [1.0, \"#f0f921\"]], \"sequentialminus\": [[0.0, \"#0d0887\"], [0.1111111111111111, \"#46039f\"], [0.2222222222222222, \"#7201a8\"], [0.3333333333333333, \"#9c179e\"], [0.4444444444444444, \"#bd3786\"], [0.5555555555555556, \"#d8576b\"], [0.6666666666666666, \"#ed7953\"], [0.7777777777777778, \"#fb9f3a\"], [0.8888888888888888, \"#fdca26\"], [1.0, \"#f0f921\"]]}, \"colorway\": [\"#636efa\", \"#EF553B\", \"#00cc96\", \"#ab63fa\", \"#FFA15A\", \"#19d3f3\", \"#FF6692\", \"#B6E880\", \"#FF97FF\", \"#FECB52\"], \"font\": {\"color\": \"#2a3f5f\"}, \"geo\": {\"bgcolor\": \"white\", \"lakecolor\": \"white\", \"landcolor\": \"#E5ECF6\", \"showlakes\": true, \"showland\": true, \"subunitcolor\": \"white\"}, \"hoverlabel\": {\"align\": \"left\"}, \"hovermode\": \"closest\", \"mapbox\": {\"style\": \"light\"}, \"paper_bgcolor\": \"white\", \"plot_bgcolor\": \"#E5ECF6\", \"polar\": {\"angularaxis\": {\"gridcolor\": \"white\", \"linecolor\": \"white\", \"ticks\": \"\"}, \"bgcolor\": \"#E5ECF6\", \"radialaxis\": {\"gridcolor\": \"white\", \"linecolor\": \"white\", \"ticks\": \"\"}}, \"scene\": {\"xaxis\": {\"backgroundcolor\": \"#E5ECF6\", \"gridcolor\": \"white\", \"gridwidth\": 2, \"linecolor\": \"white\", \"showbackground\": true, \"ticks\": \"\", \"zerolinecolor\": \"white\"}, \"yaxis\": {\"backgroundcolor\": \"#E5ECF6\", \"gridcolor\": \"white\", \"gridwidth\": 2, \"linecolor\": \"white\", \"showbackground\": true, \"ticks\": \"\", \"zerolinecolor\": \"white\"}, \"zaxis\": {\"backgroundcolor\": \"#E5ECF6\", \"gridcolor\": \"white\", \"gridwidth\": 2, \"linecolor\": \"white\", \"showbackground\": true, \"ticks\": \"\", \"zerolinecolor\": \"white\"}}, \"shapedefaults\": {\"line\": {\"color\": \"#2a3f5f\"}}, \"ternary\": {\"aaxis\": {\"gridcolor\": \"white\", \"linecolor\": \"white\", \"ticks\": \"\"}, \"baxis\": {\"gridcolor\": \"white\", \"linecolor\": \"white\", \"ticks\": \"\"}, \"bgcolor\": \"#E5ECF6\", \"caxis\": {\"gridcolor\": \"white\", \"linecolor\": \"white\", \"ticks\": \"\"}}, \"title\": {\"x\": 0.05}, \"xaxis\": {\"automargin\": true, \"gridcolor\": \"white\", \"linecolor\": \"white\", \"ticks\": \"\", \"title\": {\"standoff\": 15}, \"zerolinecolor\": \"white\", \"zerolinewidth\": 2}, \"yaxis\": {\"automargin\": true, \"gridcolor\": \"white\", \"linecolor\": \"white\", \"ticks\": \"\", \"title\": {\"standoff\": 15}, \"zerolinecolor\": \"white\", \"zerolinewidth\": 2}}}, \"xaxis\": {\"anchor\": \"y\", \"domain\": [0.0, 1.0], \"title\": {\"text\": \"level\"}}, \"yaxis\": {\"anchor\": \"x\", \"domain\": [0.0, 1.0], \"title\": {\"text\": \"counts\"}}},                        {\"responsive\": true}                    ).then(function(){\n",
       "                            \n",
       "var gd = document.getElementById('3ebd9b9f-d6f4-4d23-b010-92ce766c3fd1');\n",
       "var x = new MutationObserver(function (mutations, observer) {{\n",
       "        var display = window.getComputedStyle(gd).display;\n",
       "        if (!display || display === 'none') {{\n",
       "            console.log([gd, 'removed!']);\n",
       "            Plotly.purge(gd);\n",
       "            observer.disconnect();\n",
       "        }}\n",
       "}});\n",
       "\n",
       "// Listen for the removal of the full notebook cells\n",
       "var notebookContainer = gd.closest('#notebook-container');\n",
       "if (notebookContainer) {{\n",
       "    x.observe(notebookContainer, {childList: true});\n",
       "}}\n",
       "\n",
       "// Listen for the clearing of the current output cell\n",
       "var outputEl = gd.closest('.output');\n",
       "if (outputEl) {{\n",
       "    x.observe(outputEl, {childList: true});\n",
       "}}\n",
       "\n",
       "                        })                };                });            </script>        </div>"
      ]
     },
     "metadata": {},
     "output_type": "display_data"
    }
   ],
   "source": [
    "fig = px.bar(churn_subs, x='level', y='counts')\n",
    "fig.show()"
   ]
  },
  {
   "cell_type": "markdown",
   "metadata": {
    "papermill": {
     "duration": 0.141529,
     "end_time": "2021-02-01T19:13:00.138016",
     "exception": false,
     "start_time": "2021-02-01T19:12:59.996487",
     "status": "completed"
    },
    "tags": []
   },
   "source": [
    "Most churnned customers were paid which went against my intuition that most customers who leave would have little commitment/ subscription."
   ]
  },
  {
   "cell_type": "markdown",
   "metadata": {
    "papermill": {
     "duration": 0.14076,
     "end_time": "2021-02-01T19:13:00.420950",
     "exception": false,
     "start_time": "2021-02-01T19:13:00.280190",
     "status": "completed"
    },
    "tags": []
   },
   "source": [
    "### Churn Counts Per Hour"
   ]
  },
  {
   "cell_type": "code",
   "execution_count": 53,
   "metadata": {
    "execution": {
     "iopub.execute_input": "2021-02-01T19:13:00.760548Z",
     "iopub.status.busy": "2021-02-01T19:13:00.739302Z",
     "iopub.status.idle": "2021-02-01T19:13:07.843787Z",
     "shell.execute_reply": "2021-02-01T19:13:07.842899Z"
    },
    "papermill": {
     "duration": 7.281961,
     "end_time": "2021-02-01T19:13:07.843951",
     "exception": false,
     "start_time": "2021-02-01T19:13:00.561990",
     "status": "completed"
    },
    "tags": []
   },
   "outputs": [],
   "source": [
    "#Create time columns\n",
    "hour = []\n",
    "date = []\n",
    "timestamp = []\n",
    "for i in df['ts']:\n",
    "    hour.append(datetime.datetime.fromtimestamp(i/1000.0).hour)\n",
    "    date.append(datetime.datetime.fromtimestamp(i/1000.0).strftime(\"%Y-%m-%d\"))\n",
    "    timestamp.append(datetime.datetime.fromtimestamp(i/1000.0).strftime(\"%Y-%m-%d %H:%M:%S\"))"
   ]
  },
  {
   "cell_type": "code",
   "execution_count": 54,
   "metadata": {
    "execution": {
     "iopub.execute_input": "2021-02-01T19:13:08.155970Z",
     "iopub.status.busy": "2021-02-01T19:13:08.154709Z",
     "iopub.status.idle": "2021-02-01T19:13:08.537141Z",
     "shell.execute_reply": "2021-02-01T19:13:08.536418Z"
    },
    "papermill": {
     "duration": 0.541616,
     "end_time": "2021-02-01T19:13:08.537277",
     "exception": false,
     "start_time": "2021-02-01T19:13:07.995661",
     "status": "completed"
    },
    "tags": []
   },
   "outputs": [],
   "source": [
    "df['ts_hour'] = hour\n",
    "df['ts_date'] = date\n",
    "df['timestamp'] = timestamp"
   ]
  },
  {
   "cell_type": "code",
   "execution_count": 55,
   "metadata": {
    "execution": {
     "iopub.execute_input": "2021-02-01T19:13:08.975640Z",
     "iopub.status.busy": "2021-02-01T19:13:08.974072Z",
     "iopub.status.idle": "2021-02-01T19:13:09.757960Z",
     "shell.execute_reply": "2021-02-01T19:13:09.757344Z"
    },
    "papermill": {
     "duration": 1.080889,
     "end_time": "2021-02-01T19:13:09.758119",
     "exception": false,
     "start_time": "2021-02-01T19:13:08.677230",
     "status": "completed"
    },
    "tags": []
   },
   "outputs": [
    {
     "data": {
      "text/html": [
       "<div>\n",
       "<style scoped>\n",
       "    .dataframe tbody tr th:only-of-type {\n",
       "        vertical-align: middle;\n",
       "    }\n",
       "\n",
       "    .dataframe tbody tr th {\n",
       "        vertical-align: top;\n",
       "    }\n",
       "\n",
       "    .dataframe thead th {\n",
       "        text-align: right;\n",
       "    }\n",
       "</style>\n",
       "<table border=\"1\" class=\"dataframe\">\n",
       "  <thead>\n",
       "    <tr style=\"text-align: right;\">\n",
       "      <th></th>\n",
       "      <th>hour</th>\n",
       "      <th>counts</th>\n",
       "    </tr>\n",
       "  </thead>\n",
       "  <tbody>\n",
       "    <tr>\n",
       "      <th>0</th>\n",
       "      <td>3</td>\n",
       "      <td>6</td>\n",
       "    </tr>\n",
       "    <tr>\n",
       "      <th>1</th>\n",
       "      <td>16</td>\n",
       "      <td>6</td>\n",
       "    </tr>\n",
       "    <tr>\n",
       "      <th>2</th>\n",
       "      <td>10</td>\n",
       "      <td>6</td>\n",
       "    </tr>\n",
       "    <tr>\n",
       "      <th>3</th>\n",
       "      <td>13</td>\n",
       "      <td>6</td>\n",
       "    </tr>\n",
       "    <tr>\n",
       "      <th>4</th>\n",
       "      <td>12</td>\n",
       "      <td>6</td>\n",
       "    </tr>\n",
       "    <tr>\n",
       "      <th>5</th>\n",
       "      <td>0</td>\n",
       "      <td>5</td>\n",
       "    </tr>\n",
       "    <tr>\n",
       "      <th>6</th>\n",
       "      <td>20</td>\n",
       "      <td>5</td>\n",
       "    </tr>\n",
       "    <tr>\n",
       "      <th>7</th>\n",
       "      <td>18</td>\n",
       "      <td>5</td>\n",
       "    </tr>\n",
       "    <tr>\n",
       "      <th>8</th>\n",
       "      <td>9</td>\n",
       "      <td>5</td>\n",
       "    </tr>\n",
       "    <tr>\n",
       "      <th>9</th>\n",
       "      <td>22</td>\n",
       "      <td>4</td>\n",
       "    </tr>\n",
       "    <tr>\n",
       "      <th>10</th>\n",
       "      <td>2</td>\n",
       "      <td>4</td>\n",
       "    </tr>\n",
       "    <tr>\n",
       "      <th>11</th>\n",
       "      <td>5</td>\n",
       "      <td>4</td>\n",
       "    </tr>\n",
       "    <tr>\n",
       "      <th>12</th>\n",
       "      <td>23</td>\n",
       "      <td>4</td>\n",
       "    </tr>\n",
       "    <tr>\n",
       "      <th>13</th>\n",
       "      <td>14</td>\n",
       "      <td>4</td>\n",
       "    </tr>\n",
       "    <tr>\n",
       "      <th>14</th>\n",
       "      <td>15</td>\n",
       "      <td>4</td>\n",
       "    </tr>\n",
       "    <tr>\n",
       "      <th>15</th>\n",
       "      <td>8</td>\n",
       "      <td>3</td>\n",
       "    </tr>\n",
       "    <tr>\n",
       "      <th>16</th>\n",
       "      <td>7</td>\n",
       "      <td>3</td>\n",
       "    </tr>\n",
       "    <tr>\n",
       "      <th>17</th>\n",
       "      <td>17</td>\n",
       "      <td>3</td>\n",
       "    </tr>\n",
       "    <tr>\n",
       "      <th>18</th>\n",
       "      <td>4</td>\n",
       "      <td>3</td>\n",
       "    </tr>\n",
       "    <tr>\n",
       "      <th>19</th>\n",
       "      <td>19</td>\n",
       "      <td>3</td>\n",
       "    </tr>\n",
       "    <tr>\n",
       "      <th>20</th>\n",
       "      <td>21</td>\n",
       "      <td>3</td>\n",
       "    </tr>\n",
       "    <tr>\n",
       "      <th>21</th>\n",
       "      <td>1</td>\n",
       "      <td>3</td>\n",
       "    </tr>\n",
       "    <tr>\n",
       "      <th>22</th>\n",
       "      <td>11</td>\n",
       "      <td>3</td>\n",
       "    </tr>\n",
       "    <tr>\n",
       "      <th>23</th>\n",
       "      <td>6</td>\n",
       "      <td>1</td>\n",
       "    </tr>\n",
       "  </tbody>\n",
       "</table>\n",
       "</div>"
      ],
      "text/plain": [
       "    hour  counts\n",
       "0      3       6\n",
       "1     16       6\n",
       "2     10       6\n",
       "3     13       6\n",
       "4     12       6\n",
       "5      0       5\n",
       "6     20       5\n",
       "7     18       5\n",
       "8      9       5\n",
       "9     22       4\n",
       "10     2       4\n",
       "11     5       4\n",
       "12    23       4\n",
       "13    14       4\n",
       "14    15       4\n",
       "15     8       3\n",
       "16     7       3\n",
       "17    17       3\n",
       "18     4       3\n",
       "19    19       3\n",
       "20    21       3\n",
       "21     1       3\n",
       "22    11       3\n",
       "23     6       1"
      ]
     },
     "execution_count": 55,
     "metadata": {},
     "output_type": "execute_result"
    }
   ],
   "source": [
    "#churn/cancellation confrimation subset\n",
    "churn_hours = df.loc[df['page'] == 'Cancellation Confirmation'].ts_hour.value_counts().rename_axis('hour').reset_index(name='counts').sort_index()\n",
    "churn_hours"
   ]
  },
  {
   "cell_type": "code",
   "execution_count": 56,
   "metadata": {
    "execution": {
     "iopub.execute_input": "2021-02-01T19:13:10.148094Z",
     "iopub.status.busy": "2021-02-01T19:13:10.136952Z",
     "iopub.status.idle": "2021-02-01T19:13:10.182032Z",
     "shell.execute_reply": "2021-02-01T19:13:10.182670Z"
    },
    "papermill": {
     "duration": 0.277973,
     "end_time": "2021-02-01T19:13:10.182858",
     "exception": false,
     "start_time": "2021-02-01T19:13:09.904885",
     "status": "completed"
    },
    "tags": []
   },
   "outputs": [
    {
     "data": {
      "application/vnd.plotly.v1+json": {
       "config": {
        "plotlyServerURL": "https://plot.ly"
       },
       "data": [
        {
         "alignmentgroup": "True",
         "hovertemplate": "hour=%{x}<br>counts=%{y}<extra></extra>",
         "legendgroup": "",
         "marker": {
          "color": "#636efa"
         },
         "name": "",
         "offsetgroup": "",
         "orientation": "v",
         "showlegend": false,
         "textposition": "auto",
         "type": "bar",
         "x": [
          3,
          16,
          10,
          13,
          12,
          0,
          20,
          18,
          9,
          22,
          2,
          5,
          23,
          14,
          15,
          8,
          7,
          17,
          4,
          19,
          21,
          1,
          11,
          6
         ],
         "xaxis": "x",
         "y": [
          6,
          6,
          6,
          6,
          6,
          5,
          5,
          5,
          5,
          4,
          4,
          4,
          4,
          4,
          4,
          3,
          3,
          3,
          3,
          3,
          3,
          3,
          3,
          1
         ],
         "yaxis": "y"
        }
       ],
       "layout": {
        "barmode": "relative",
        "legend": {
         "tracegroupgap": 0
        },
        "margin": {
         "t": 60
        },
        "template": {
         "data": {
          "bar": [
           {
            "error_x": {
             "color": "#2a3f5f"
            },
            "error_y": {
             "color": "#2a3f5f"
            },
            "marker": {
             "line": {
              "color": "#E5ECF6",
              "width": 0.5
             }
            },
            "type": "bar"
           }
          ],
          "barpolar": [
           {
            "marker": {
             "line": {
              "color": "#E5ECF6",
              "width": 0.5
             }
            },
            "type": "barpolar"
           }
          ],
          "carpet": [
           {
            "aaxis": {
             "endlinecolor": "#2a3f5f",
             "gridcolor": "white",
             "linecolor": "white",
             "minorgridcolor": "white",
             "startlinecolor": "#2a3f5f"
            },
            "baxis": {
             "endlinecolor": "#2a3f5f",
             "gridcolor": "white",
             "linecolor": "white",
             "minorgridcolor": "white",
             "startlinecolor": "#2a3f5f"
            },
            "type": "carpet"
           }
          ],
          "choropleth": [
           {
            "colorbar": {
             "outlinewidth": 0,
             "ticks": ""
            },
            "type": "choropleth"
           }
          ],
          "contour": [
           {
            "colorbar": {
             "outlinewidth": 0,
             "ticks": ""
            },
            "colorscale": [
             [
              0.0,
              "#0d0887"
             ],
             [
              0.1111111111111111,
              "#46039f"
             ],
             [
              0.2222222222222222,
              "#7201a8"
             ],
             [
              0.3333333333333333,
              "#9c179e"
             ],
             [
              0.4444444444444444,
              "#bd3786"
             ],
             [
              0.5555555555555556,
              "#d8576b"
             ],
             [
              0.6666666666666666,
              "#ed7953"
             ],
             [
              0.7777777777777778,
              "#fb9f3a"
             ],
             [
              0.8888888888888888,
              "#fdca26"
             ],
             [
              1.0,
              "#f0f921"
             ]
            ],
            "type": "contour"
           }
          ],
          "contourcarpet": [
           {
            "colorbar": {
             "outlinewidth": 0,
             "ticks": ""
            },
            "type": "contourcarpet"
           }
          ],
          "heatmap": [
           {
            "colorbar": {
             "outlinewidth": 0,
             "ticks": ""
            },
            "colorscale": [
             [
              0.0,
              "#0d0887"
             ],
             [
              0.1111111111111111,
              "#46039f"
             ],
             [
              0.2222222222222222,
              "#7201a8"
             ],
             [
              0.3333333333333333,
              "#9c179e"
             ],
             [
              0.4444444444444444,
              "#bd3786"
             ],
             [
              0.5555555555555556,
              "#d8576b"
             ],
             [
              0.6666666666666666,
              "#ed7953"
             ],
             [
              0.7777777777777778,
              "#fb9f3a"
             ],
             [
              0.8888888888888888,
              "#fdca26"
             ],
             [
              1.0,
              "#f0f921"
             ]
            ],
            "type": "heatmap"
           }
          ],
          "heatmapgl": [
           {
            "colorbar": {
             "outlinewidth": 0,
             "ticks": ""
            },
            "colorscale": [
             [
              0.0,
              "#0d0887"
             ],
             [
              0.1111111111111111,
              "#46039f"
             ],
             [
              0.2222222222222222,
              "#7201a8"
             ],
             [
              0.3333333333333333,
              "#9c179e"
             ],
             [
              0.4444444444444444,
              "#bd3786"
             ],
             [
              0.5555555555555556,
              "#d8576b"
             ],
             [
              0.6666666666666666,
              "#ed7953"
             ],
             [
              0.7777777777777778,
              "#fb9f3a"
             ],
             [
              0.8888888888888888,
              "#fdca26"
             ],
             [
              1.0,
              "#f0f921"
             ]
            ],
            "type": "heatmapgl"
           }
          ],
          "histogram": [
           {
            "marker": {
             "colorbar": {
              "outlinewidth": 0,
              "ticks": ""
             }
            },
            "type": "histogram"
           }
          ],
          "histogram2d": [
           {
            "colorbar": {
             "outlinewidth": 0,
             "ticks": ""
            },
            "colorscale": [
             [
              0.0,
              "#0d0887"
             ],
             [
              0.1111111111111111,
              "#46039f"
             ],
             [
              0.2222222222222222,
              "#7201a8"
             ],
             [
              0.3333333333333333,
              "#9c179e"
             ],
             [
              0.4444444444444444,
              "#bd3786"
             ],
             [
              0.5555555555555556,
              "#d8576b"
             ],
             [
              0.6666666666666666,
              "#ed7953"
             ],
             [
              0.7777777777777778,
              "#fb9f3a"
             ],
             [
              0.8888888888888888,
              "#fdca26"
             ],
             [
              1.0,
              "#f0f921"
             ]
            ],
            "type": "histogram2d"
           }
          ],
          "histogram2dcontour": [
           {
            "colorbar": {
             "outlinewidth": 0,
             "ticks": ""
            },
            "colorscale": [
             [
              0.0,
              "#0d0887"
             ],
             [
              0.1111111111111111,
              "#46039f"
             ],
             [
              0.2222222222222222,
              "#7201a8"
             ],
             [
              0.3333333333333333,
              "#9c179e"
             ],
             [
              0.4444444444444444,
              "#bd3786"
             ],
             [
              0.5555555555555556,
              "#d8576b"
             ],
             [
              0.6666666666666666,
              "#ed7953"
             ],
             [
              0.7777777777777778,
              "#fb9f3a"
             ],
             [
              0.8888888888888888,
              "#fdca26"
             ],
             [
              1.0,
              "#f0f921"
             ]
            ],
            "type": "histogram2dcontour"
           }
          ],
          "mesh3d": [
           {
            "colorbar": {
             "outlinewidth": 0,
             "ticks": ""
            },
            "type": "mesh3d"
           }
          ],
          "parcoords": [
           {
            "line": {
             "colorbar": {
              "outlinewidth": 0,
              "ticks": ""
             }
            },
            "type": "parcoords"
           }
          ],
          "pie": [
           {
            "automargin": true,
            "type": "pie"
           }
          ],
          "scatter": [
           {
            "marker": {
             "colorbar": {
              "outlinewidth": 0,
              "ticks": ""
             }
            },
            "type": "scatter"
           }
          ],
          "scatter3d": [
           {
            "line": {
             "colorbar": {
              "outlinewidth": 0,
              "ticks": ""
             }
            },
            "marker": {
             "colorbar": {
              "outlinewidth": 0,
              "ticks": ""
             }
            },
            "type": "scatter3d"
           }
          ],
          "scattercarpet": [
           {
            "marker": {
             "colorbar": {
              "outlinewidth": 0,
              "ticks": ""
             }
            },
            "type": "scattercarpet"
           }
          ],
          "scattergeo": [
           {
            "marker": {
             "colorbar": {
              "outlinewidth": 0,
              "ticks": ""
             }
            },
            "type": "scattergeo"
           }
          ],
          "scattergl": [
           {
            "marker": {
             "colorbar": {
              "outlinewidth": 0,
              "ticks": ""
             }
            },
            "type": "scattergl"
           }
          ],
          "scattermapbox": [
           {
            "marker": {
             "colorbar": {
              "outlinewidth": 0,
              "ticks": ""
             }
            },
            "type": "scattermapbox"
           }
          ],
          "scatterpolar": [
           {
            "marker": {
             "colorbar": {
              "outlinewidth": 0,
              "ticks": ""
             }
            },
            "type": "scatterpolar"
           }
          ],
          "scatterpolargl": [
           {
            "marker": {
             "colorbar": {
              "outlinewidth": 0,
              "ticks": ""
             }
            },
            "type": "scatterpolargl"
           }
          ],
          "scatterternary": [
           {
            "marker": {
             "colorbar": {
              "outlinewidth": 0,
              "ticks": ""
             }
            },
            "type": "scatterternary"
           }
          ],
          "surface": [
           {
            "colorbar": {
             "outlinewidth": 0,
             "ticks": ""
            },
            "colorscale": [
             [
              0.0,
              "#0d0887"
             ],
             [
              0.1111111111111111,
              "#46039f"
             ],
             [
              0.2222222222222222,
              "#7201a8"
             ],
             [
              0.3333333333333333,
              "#9c179e"
             ],
             [
              0.4444444444444444,
              "#bd3786"
             ],
             [
              0.5555555555555556,
              "#d8576b"
             ],
             [
              0.6666666666666666,
              "#ed7953"
             ],
             [
              0.7777777777777778,
              "#fb9f3a"
             ],
             [
              0.8888888888888888,
              "#fdca26"
             ],
             [
              1.0,
              "#f0f921"
             ]
            ],
            "type": "surface"
           }
          ],
          "table": [
           {
            "cells": {
             "fill": {
              "color": "#EBF0F8"
             },
             "line": {
              "color": "white"
             }
            },
            "header": {
             "fill": {
              "color": "#C8D4E3"
             },
             "line": {
              "color": "white"
             }
            },
            "type": "table"
           }
          ]
         },
         "layout": {
          "annotationdefaults": {
           "arrowcolor": "#2a3f5f",
           "arrowhead": 0,
           "arrowwidth": 1
          },
          "autotypenumbers": "strict",
          "coloraxis": {
           "colorbar": {
            "outlinewidth": 0,
            "ticks": ""
           }
          },
          "colorscale": {
           "diverging": [
            [
             0,
             "#8e0152"
            ],
            [
             0.1,
             "#c51b7d"
            ],
            [
             0.2,
             "#de77ae"
            ],
            [
             0.3,
             "#f1b6da"
            ],
            [
             0.4,
             "#fde0ef"
            ],
            [
             0.5,
             "#f7f7f7"
            ],
            [
             0.6,
             "#e6f5d0"
            ],
            [
             0.7,
             "#b8e186"
            ],
            [
             0.8,
             "#7fbc41"
            ],
            [
             0.9,
             "#4d9221"
            ],
            [
             1,
             "#276419"
            ]
           ],
           "sequential": [
            [
             0.0,
             "#0d0887"
            ],
            [
             0.1111111111111111,
             "#46039f"
            ],
            [
             0.2222222222222222,
             "#7201a8"
            ],
            [
             0.3333333333333333,
             "#9c179e"
            ],
            [
             0.4444444444444444,
             "#bd3786"
            ],
            [
             0.5555555555555556,
             "#d8576b"
            ],
            [
             0.6666666666666666,
             "#ed7953"
            ],
            [
             0.7777777777777778,
             "#fb9f3a"
            ],
            [
             0.8888888888888888,
             "#fdca26"
            ],
            [
             1.0,
             "#f0f921"
            ]
           ],
           "sequentialminus": [
            [
             0.0,
             "#0d0887"
            ],
            [
             0.1111111111111111,
             "#46039f"
            ],
            [
             0.2222222222222222,
             "#7201a8"
            ],
            [
             0.3333333333333333,
             "#9c179e"
            ],
            [
             0.4444444444444444,
             "#bd3786"
            ],
            [
             0.5555555555555556,
             "#d8576b"
            ],
            [
             0.6666666666666666,
             "#ed7953"
            ],
            [
             0.7777777777777778,
             "#fb9f3a"
            ],
            [
             0.8888888888888888,
             "#fdca26"
            ],
            [
             1.0,
             "#f0f921"
            ]
           ]
          },
          "colorway": [
           "#636efa",
           "#EF553B",
           "#00cc96",
           "#ab63fa",
           "#FFA15A",
           "#19d3f3",
           "#FF6692",
           "#B6E880",
           "#FF97FF",
           "#FECB52"
          ],
          "font": {
           "color": "#2a3f5f"
          },
          "geo": {
           "bgcolor": "white",
           "lakecolor": "white",
           "landcolor": "#E5ECF6",
           "showlakes": true,
           "showland": true,
           "subunitcolor": "white"
          },
          "hoverlabel": {
           "align": "left"
          },
          "hovermode": "closest",
          "mapbox": {
           "style": "light"
          },
          "paper_bgcolor": "white",
          "plot_bgcolor": "#E5ECF6",
          "polar": {
           "angularaxis": {
            "gridcolor": "white",
            "linecolor": "white",
            "ticks": ""
           },
           "bgcolor": "#E5ECF6",
           "radialaxis": {
            "gridcolor": "white",
            "linecolor": "white",
            "ticks": ""
           }
          },
          "scene": {
           "xaxis": {
            "backgroundcolor": "#E5ECF6",
            "gridcolor": "white",
            "gridwidth": 2,
            "linecolor": "white",
            "showbackground": true,
            "ticks": "",
            "zerolinecolor": "white"
           },
           "yaxis": {
            "backgroundcolor": "#E5ECF6",
            "gridcolor": "white",
            "gridwidth": 2,
            "linecolor": "white",
            "showbackground": true,
            "ticks": "",
            "zerolinecolor": "white"
           },
           "zaxis": {
            "backgroundcolor": "#E5ECF6",
            "gridcolor": "white",
            "gridwidth": 2,
            "linecolor": "white",
            "showbackground": true,
            "ticks": "",
            "zerolinecolor": "white"
           }
          },
          "shapedefaults": {
           "line": {
            "color": "#2a3f5f"
           }
          },
          "ternary": {
           "aaxis": {
            "gridcolor": "white",
            "linecolor": "white",
            "ticks": ""
           },
           "baxis": {
            "gridcolor": "white",
            "linecolor": "white",
            "ticks": ""
           },
           "bgcolor": "#E5ECF6",
           "caxis": {
            "gridcolor": "white",
            "linecolor": "white",
            "ticks": ""
           }
          },
          "title": {
           "x": 0.05
          },
          "xaxis": {
           "automargin": true,
           "gridcolor": "white",
           "linecolor": "white",
           "ticks": "",
           "title": {
            "standoff": 15
           },
           "zerolinecolor": "white",
           "zerolinewidth": 2
          },
          "yaxis": {
           "automargin": true,
           "gridcolor": "white",
           "linecolor": "white",
           "ticks": "",
           "title": {
            "standoff": 15
           },
           "zerolinecolor": "white",
           "zerolinewidth": 2
          }
         }
        },
        "xaxis": {
         "anchor": "y",
         "domain": [
          0.0,
          1.0
         ],
         "title": {
          "text": "hour"
         }
        },
        "yaxis": {
         "anchor": "x",
         "domain": [
          0.0,
          1.0
         ],
         "title": {
          "text": "counts"
         }
        }
       }
      },
      "text/html": [
       "<div>                            <div id=\"5928490b-8f95-4aa9-87e3-b8782b6a35ef\" class=\"plotly-graph-div\" style=\"height:525px; width:100%;\"></div>            <script type=\"text/javascript\">                require([\"plotly\"], function(Plotly) {                    window.PLOTLYENV=window.PLOTLYENV || {};                                    if (document.getElementById(\"5928490b-8f95-4aa9-87e3-b8782b6a35ef\")) {                    Plotly.newPlot(                        \"5928490b-8f95-4aa9-87e3-b8782b6a35ef\",                        [{\"alignmentgroup\": \"True\", \"hovertemplate\": \"hour=%{x}<br>counts=%{y}<extra></extra>\", \"legendgroup\": \"\", \"marker\": {\"color\": \"#636efa\"}, \"name\": \"\", \"offsetgroup\": \"\", \"orientation\": \"v\", \"showlegend\": false, \"textposition\": \"auto\", \"type\": \"bar\", \"x\": [3, 16, 10, 13, 12, 0, 20, 18, 9, 22, 2, 5, 23, 14, 15, 8, 7, 17, 4, 19, 21, 1, 11, 6], \"xaxis\": \"x\", \"y\": [6, 6, 6, 6, 6, 5, 5, 5, 5, 4, 4, 4, 4, 4, 4, 3, 3, 3, 3, 3, 3, 3, 3, 1], \"yaxis\": \"y\"}],                        {\"barmode\": \"relative\", \"legend\": {\"tracegroupgap\": 0}, \"margin\": {\"t\": 60}, \"template\": {\"data\": {\"bar\": [{\"error_x\": {\"color\": \"#2a3f5f\"}, \"error_y\": {\"color\": \"#2a3f5f\"}, \"marker\": {\"line\": {\"color\": \"#E5ECF6\", \"width\": 0.5}}, \"type\": \"bar\"}], \"barpolar\": [{\"marker\": {\"line\": {\"color\": \"#E5ECF6\", \"width\": 0.5}}, \"type\": \"barpolar\"}], \"carpet\": [{\"aaxis\": {\"endlinecolor\": \"#2a3f5f\", \"gridcolor\": \"white\", \"linecolor\": \"white\", \"minorgridcolor\": \"white\", \"startlinecolor\": \"#2a3f5f\"}, \"baxis\": {\"endlinecolor\": \"#2a3f5f\", \"gridcolor\": \"white\", \"linecolor\": \"white\", \"minorgridcolor\": \"white\", \"startlinecolor\": \"#2a3f5f\"}, \"type\": \"carpet\"}], \"choropleth\": [{\"colorbar\": {\"outlinewidth\": 0, \"ticks\": \"\"}, \"type\": \"choropleth\"}], \"contour\": [{\"colorbar\": {\"outlinewidth\": 0, \"ticks\": \"\"}, \"colorscale\": [[0.0, \"#0d0887\"], [0.1111111111111111, \"#46039f\"], [0.2222222222222222, \"#7201a8\"], [0.3333333333333333, \"#9c179e\"], [0.4444444444444444, \"#bd3786\"], [0.5555555555555556, \"#d8576b\"], [0.6666666666666666, \"#ed7953\"], [0.7777777777777778, \"#fb9f3a\"], [0.8888888888888888, \"#fdca26\"], [1.0, \"#f0f921\"]], \"type\": \"contour\"}], \"contourcarpet\": [{\"colorbar\": {\"outlinewidth\": 0, \"ticks\": \"\"}, \"type\": \"contourcarpet\"}], \"heatmap\": [{\"colorbar\": {\"outlinewidth\": 0, \"ticks\": \"\"}, \"colorscale\": [[0.0, \"#0d0887\"], [0.1111111111111111, \"#46039f\"], [0.2222222222222222, \"#7201a8\"], [0.3333333333333333, \"#9c179e\"], [0.4444444444444444, \"#bd3786\"], [0.5555555555555556, \"#d8576b\"], [0.6666666666666666, \"#ed7953\"], [0.7777777777777778, \"#fb9f3a\"], [0.8888888888888888, \"#fdca26\"], [1.0, \"#f0f921\"]], \"type\": \"heatmap\"}], \"heatmapgl\": [{\"colorbar\": {\"outlinewidth\": 0, \"ticks\": \"\"}, \"colorscale\": [[0.0, \"#0d0887\"], [0.1111111111111111, \"#46039f\"], [0.2222222222222222, \"#7201a8\"], [0.3333333333333333, \"#9c179e\"], [0.4444444444444444, \"#bd3786\"], [0.5555555555555556, \"#d8576b\"], [0.6666666666666666, \"#ed7953\"], [0.7777777777777778, \"#fb9f3a\"], [0.8888888888888888, \"#fdca26\"], [1.0, \"#f0f921\"]], \"type\": \"heatmapgl\"}], \"histogram\": [{\"marker\": {\"colorbar\": {\"outlinewidth\": 0, \"ticks\": \"\"}}, \"type\": \"histogram\"}], \"histogram2d\": [{\"colorbar\": {\"outlinewidth\": 0, \"ticks\": \"\"}, \"colorscale\": [[0.0, \"#0d0887\"], [0.1111111111111111, \"#46039f\"], [0.2222222222222222, \"#7201a8\"], [0.3333333333333333, \"#9c179e\"], [0.4444444444444444, \"#bd3786\"], [0.5555555555555556, \"#d8576b\"], [0.6666666666666666, \"#ed7953\"], [0.7777777777777778, \"#fb9f3a\"], [0.8888888888888888, \"#fdca26\"], [1.0, \"#f0f921\"]], \"type\": \"histogram2d\"}], \"histogram2dcontour\": [{\"colorbar\": {\"outlinewidth\": 0, \"ticks\": \"\"}, \"colorscale\": [[0.0, \"#0d0887\"], [0.1111111111111111, \"#46039f\"], [0.2222222222222222, \"#7201a8\"], [0.3333333333333333, \"#9c179e\"], [0.4444444444444444, \"#bd3786\"], [0.5555555555555556, \"#d8576b\"], [0.6666666666666666, \"#ed7953\"], [0.7777777777777778, \"#fb9f3a\"], [0.8888888888888888, \"#fdca26\"], [1.0, \"#f0f921\"]], \"type\": \"histogram2dcontour\"}], \"mesh3d\": [{\"colorbar\": {\"outlinewidth\": 0, \"ticks\": \"\"}, \"type\": \"mesh3d\"}], \"parcoords\": [{\"line\": {\"colorbar\": {\"outlinewidth\": 0, \"ticks\": \"\"}}, \"type\": \"parcoords\"}], \"pie\": [{\"automargin\": true, \"type\": \"pie\"}], \"scatter\": [{\"marker\": {\"colorbar\": {\"outlinewidth\": 0, \"ticks\": \"\"}}, \"type\": \"scatter\"}], \"scatter3d\": [{\"line\": {\"colorbar\": {\"outlinewidth\": 0, \"ticks\": \"\"}}, \"marker\": {\"colorbar\": {\"outlinewidth\": 0, \"ticks\": \"\"}}, \"type\": \"scatter3d\"}], \"scattercarpet\": [{\"marker\": {\"colorbar\": {\"outlinewidth\": 0, \"ticks\": \"\"}}, \"type\": \"scattercarpet\"}], \"scattergeo\": [{\"marker\": {\"colorbar\": {\"outlinewidth\": 0, \"ticks\": \"\"}}, \"type\": \"scattergeo\"}], \"scattergl\": [{\"marker\": {\"colorbar\": {\"outlinewidth\": 0, \"ticks\": \"\"}}, \"type\": \"scattergl\"}], \"scattermapbox\": [{\"marker\": {\"colorbar\": {\"outlinewidth\": 0, \"ticks\": \"\"}}, \"type\": \"scattermapbox\"}], \"scatterpolar\": [{\"marker\": {\"colorbar\": {\"outlinewidth\": 0, \"ticks\": \"\"}}, \"type\": \"scatterpolar\"}], \"scatterpolargl\": [{\"marker\": {\"colorbar\": {\"outlinewidth\": 0, \"ticks\": \"\"}}, \"type\": \"scatterpolargl\"}], \"scatterternary\": [{\"marker\": {\"colorbar\": {\"outlinewidth\": 0, \"ticks\": \"\"}}, \"type\": \"scatterternary\"}], \"surface\": [{\"colorbar\": {\"outlinewidth\": 0, \"ticks\": \"\"}, \"colorscale\": [[0.0, \"#0d0887\"], [0.1111111111111111, \"#46039f\"], [0.2222222222222222, \"#7201a8\"], [0.3333333333333333, \"#9c179e\"], [0.4444444444444444, \"#bd3786\"], [0.5555555555555556, \"#d8576b\"], [0.6666666666666666, \"#ed7953\"], [0.7777777777777778, \"#fb9f3a\"], [0.8888888888888888, \"#fdca26\"], [1.0, \"#f0f921\"]], \"type\": \"surface\"}], \"table\": [{\"cells\": {\"fill\": {\"color\": \"#EBF0F8\"}, \"line\": {\"color\": \"white\"}}, \"header\": {\"fill\": {\"color\": \"#C8D4E3\"}, \"line\": {\"color\": \"white\"}}, \"type\": \"table\"}]}, \"layout\": {\"annotationdefaults\": {\"arrowcolor\": \"#2a3f5f\", \"arrowhead\": 0, \"arrowwidth\": 1}, \"autotypenumbers\": \"strict\", \"coloraxis\": {\"colorbar\": {\"outlinewidth\": 0, \"ticks\": \"\"}}, \"colorscale\": {\"diverging\": [[0, \"#8e0152\"], [0.1, \"#c51b7d\"], [0.2, \"#de77ae\"], [0.3, \"#f1b6da\"], [0.4, \"#fde0ef\"], [0.5, \"#f7f7f7\"], [0.6, \"#e6f5d0\"], [0.7, \"#b8e186\"], [0.8, \"#7fbc41\"], [0.9, \"#4d9221\"], [1, \"#276419\"]], \"sequential\": [[0.0, \"#0d0887\"], [0.1111111111111111, \"#46039f\"], [0.2222222222222222, \"#7201a8\"], [0.3333333333333333, \"#9c179e\"], [0.4444444444444444, \"#bd3786\"], [0.5555555555555556, \"#d8576b\"], [0.6666666666666666, \"#ed7953\"], [0.7777777777777778, \"#fb9f3a\"], [0.8888888888888888, \"#fdca26\"], [1.0, \"#f0f921\"]], \"sequentialminus\": [[0.0, \"#0d0887\"], [0.1111111111111111, \"#46039f\"], [0.2222222222222222, \"#7201a8\"], [0.3333333333333333, \"#9c179e\"], [0.4444444444444444, \"#bd3786\"], [0.5555555555555556, \"#d8576b\"], [0.6666666666666666, \"#ed7953\"], [0.7777777777777778, \"#fb9f3a\"], [0.8888888888888888, \"#fdca26\"], [1.0, \"#f0f921\"]]}, \"colorway\": [\"#636efa\", \"#EF553B\", \"#00cc96\", \"#ab63fa\", \"#FFA15A\", \"#19d3f3\", \"#FF6692\", \"#B6E880\", \"#FF97FF\", \"#FECB52\"], \"font\": {\"color\": \"#2a3f5f\"}, \"geo\": {\"bgcolor\": \"white\", \"lakecolor\": \"white\", \"landcolor\": \"#E5ECF6\", \"showlakes\": true, \"showland\": true, \"subunitcolor\": \"white\"}, \"hoverlabel\": {\"align\": \"left\"}, \"hovermode\": \"closest\", \"mapbox\": {\"style\": \"light\"}, \"paper_bgcolor\": \"white\", \"plot_bgcolor\": \"#E5ECF6\", \"polar\": {\"angularaxis\": {\"gridcolor\": \"white\", \"linecolor\": \"white\", \"ticks\": \"\"}, \"bgcolor\": \"#E5ECF6\", \"radialaxis\": {\"gridcolor\": \"white\", \"linecolor\": \"white\", \"ticks\": \"\"}}, \"scene\": {\"xaxis\": {\"backgroundcolor\": \"#E5ECF6\", \"gridcolor\": \"white\", \"gridwidth\": 2, \"linecolor\": \"white\", \"showbackground\": true, \"ticks\": \"\", \"zerolinecolor\": \"white\"}, \"yaxis\": {\"backgroundcolor\": \"#E5ECF6\", \"gridcolor\": \"white\", \"gridwidth\": 2, \"linecolor\": \"white\", \"showbackground\": true, \"ticks\": \"\", \"zerolinecolor\": \"white\"}, \"zaxis\": {\"backgroundcolor\": \"#E5ECF6\", \"gridcolor\": \"white\", \"gridwidth\": 2, \"linecolor\": \"white\", \"showbackground\": true, \"ticks\": \"\", \"zerolinecolor\": \"white\"}}, \"shapedefaults\": {\"line\": {\"color\": \"#2a3f5f\"}}, \"ternary\": {\"aaxis\": {\"gridcolor\": \"white\", \"linecolor\": \"white\", \"ticks\": \"\"}, \"baxis\": {\"gridcolor\": \"white\", \"linecolor\": \"white\", \"ticks\": \"\"}, \"bgcolor\": \"#E5ECF6\", \"caxis\": {\"gridcolor\": \"white\", \"linecolor\": \"white\", \"ticks\": \"\"}}, \"title\": {\"x\": 0.05}, \"xaxis\": {\"automargin\": true, \"gridcolor\": \"white\", \"linecolor\": \"white\", \"ticks\": \"\", \"title\": {\"standoff\": 15}, \"zerolinecolor\": \"white\", \"zerolinewidth\": 2}, \"yaxis\": {\"automargin\": true, \"gridcolor\": \"white\", \"linecolor\": \"white\", \"ticks\": \"\", \"title\": {\"standoff\": 15}, \"zerolinecolor\": \"white\", \"zerolinewidth\": 2}}}, \"xaxis\": {\"anchor\": \"y\", \"domain\": [0.0, 1.0], \"title\": {\"text\": \"hour\"}}, \"yaxis\": {\"anchor\": \"x\", \"domain\": [0.0, 1.0], \"title\": {\"text\": \"counts\"}}},                        {\"responsive\": true}                    ).then(function(){\n",
       "                            \n",
       "var gd = document.getElementById('5928490b-8f95-4aa9-87e3-b8782b6a35ef');\n",
       "var x = new MutationObserver(function (mutations, observer) {{\n",
       "        var display = window.getComputedStyle(gd).display;\n",
       "        if (!display || display === 'none') {{\n",
       "            console.log([gd, 'removed!']);\n",
       "            Plotly.purge(gd);\n",
       "            observer.disconnect();\n",
       "        }}\n",
       "}});\n",
       "\n",
       "// Listen for the removal of the full notebook cells\n",
       "var notebookContainer = gd.closest('#notebook-container');\n",
       "if (notebookContainer) {{\n",
       "    x.observe(notebookContainer, {childList: true});\n",
       "}}\n",
       "\n",
       "// Listen for the clearing of the current output cell\n",
       "var outputEl = gd.closest('.output');\n",
       "if (outputEl) {{\n",
       "    x.observe(outputEl, {childList: true});\n",
       "}}\n",
       "\n",
       "                        })                };                });            </script>        </div>"
      ]
     },
     "metadata": {},
     "output_type": "display_data"
    }
   ],
   "source": [
    "fig = px.bar(churn_hours, x='hour', y='counts')\n",
    "fig.show()"
   ]
  },
  {
   "cell_type": "markdown",
   "metadata": {
    "papermill": {
     "duration": 0.148679,
     "end_time": "2021-02-01T19:13:10.483356",
     "exception": false,
     "start_time": "2021-02-01T19:13:10.334677",
     "status": "completed"
    },
    "tags": []
   },
   "source": [
    "At hours: 3,10,12,13,and 16 were the most popular hours for churnning. So not too many during mid-afternoon and night time, which is probably the time people need music the most."
   ]
  },
  {
   "cell_type": "markdown",
   "metadata": {
    "papermill": {
     "duration": 0.14962,
     "end_time": "2021-02-01T19:13:10.783437",
     "exception": false,
     "start_time": "2021-02-01T19:13:10.633817",
     "status": "completed"
    },
    "tags": []
   },
   "source": [
    "### Churn Rate per UserAgent"
   ]
  },
  {
   "cell_type": "code",
   "execution_count": 57,
   "metadata": {
    "execution": {
     "iopub.execute_input": "2021-02-01T19:13:11.357730Z",
     "iopub.status.busy": "2021-02-01T19:13:11.356839Z",
     "iopub.status.idle": "2021-02-01T19:13:11.364051Z",
     "shell.execute_reply": "2021-02-01T19:13:11.363449Z"
    },
    "papermill": {
     "duration": 0.428441,
     "end_time": "2021-02-01T19:13:11.364187",
     "exception": false,
     "start_time": "2021-02-01T19:13:10.935746",
     "status": "completed"
    },
    "tags": []
   },
   "outputs": [],
   "source": [
    "#Get DF with churn IDs\n",
    "churn_df = df.loc[(df['page'] == 'Cancellation Confirmation') | (df['page'] == 'Cancel')]"
   ]
  },
  {
   "cell_type": "code",
   "execution_count": 58,
   "metadata": {
    "execution": {
     "iopub.execute_input": "2021-02-01T19:13:11.726634Z",
     "iopub.status.busy": "2021-02-01T19:13:11.684737Z",
     "iopub.status.idle": "2021-02-01T19:13:11.732592Z",
     "shell.execute_reply": "2021-02-01T19:13:11.731889Z"
    },
    "papermill": {
     "duration": 0.217702,
     "end_time": "2021-02-01T19:13:11.732717",
     "exception": false,
     "start_time": "2021-02-01T19:13:11.515015",
     "status": "completed"
    },
    "tags": []
   },
   "outputs": [
    {
     "data": {
      "text/html": [
       "<div>\n",
       "<style scoped>\n",
       "    .dataframe tbody tr th:only-of-type {\n",
       "        vertical-align: middle;\n",
       "    }\n",
       "\n",
       "    .dataframe tbody tr th {\n",
       "        vertical-align: top;\n",
       "    }\n",
       "\n",
       "    .dataframe thead th {\n",
       "        text-align: right;\n",
       "    }\n",
       "</style>\n",
       "<table border=\"1\" class=\"dataframe\">\n",
       "  <thead>\n",
       "    <tr style=\"text-align: right;\">\n",
       "      <th></th>\n",
       "      <th>ts</th>\n",
       "      <th>userId</th>\n",
       "      <th>sessionId</th>\n",
       "      <th>page</th>\n",
       "      <th>auth</th>\n",
       "      <th>method</th>\n",
       "      <th>status</th>\n",
       "      <th>level</th>\n",
       "      <th>itemInSession</th>\n",
       "      <th>location</th>\n",
       "      <th>...</th>\n",
       "      <th>registration</th>\n",
       "      <th>gender</th>\n",
       "      <th>artist</th>\n",
       "      <th>song</th>\n",
       "      <th>length</th>\n",
       "      <th>churn</th>\n",
       "      <th>ts_hour</th>\n",
       "      <th>ts_date</th>\n",
       "      <th>timestamp</th>\n",
       "      <th>useragent_short</th>\n",
       "    </tr>\n",
       "  </thead>\n",
       "  <tbody>\n",
       "    <tr>\n",
       "      <th>2554</th>\n",
       "      <td>1538400609000</td>\n",
       "      <td>208</td>\n",
       "      <td>490</td>\n",
       "      <td>Cancel</td>\n",
       "      <td>Logged In</td>\n",
       "      <td>PUT</td>\n",
       "      <td>307</td>\n",
       "      <td>free</td>\n",
       "      <td>39</td>\n",
       "      <td>Fort Wayne, IN</td>\n",
       "      <td>...</td>\n",
       "      <td>1.536758e+12</td>\n",
       "      <td>F</td>\n",
       "      <td>NaN</td>\n",
       "      <td>NaN</td>\n",
       "      <td>NaN</td>\n",
       "      <td>1</td>\n",
       "      <td>13</td>\n",
       "      <td>2018-10-01</td>\n",
       "      <td>2018-10-01 13:30:09</td>\n",
       "      <td>Windows</td>\n",
       "    </tr>\n",
       "    <tr>\n",
       "      <th>2555</th>\n",
       "      <td>1538400616000</td>\n",
       "      <td>208</td>\n",
       "      <td>490</td>\n",
       "      <td>Cancellation Confirmation</td>\n",
       "      <td>Cancelled</td>\n",
       "      <td>GET</td>\n",
       "      <td>200</td>\n",
       "      <td>free</td>\n",
       "      <td>40</td>\n",
       "      <td>Fort Wayne, IN</td>\n",
       "      <td>...</td>\n",
       "      <td>1.536758e+12</td>\n",
       "      <td>F</td>\n",
       "      <td>NaN</td>\n",
       "      <td>NaN</td>\n",
       "      <td>NaN</td>\n",
       "      <td>1</td>\n",
       "      <td>13</td>\n",
       "      <td>2018-10-01</td>\n",
       "      <td>2018-10-01 13:30:16</td>\n",
       "      <td>Windows</td>\n",
       "    </tr>\n",
       "    <tr>\n",
       "      <th>6757</th>\n",
       "      <td>1538482775000</td>\n",
       "      <td>231</td>\n",
       "      <td>471</td>\n",
       "      <td>Cancel</td>\n",
       "      <td>Logged In</td>\n",
       "      <td>PUT</td>\n",
       "      <td>307</td>\n",
       "      <td>paid</td>\n",
       "      <td>233</td>\n",
       "      <td>Columbus, OH</td>\n",
       "      <td>...</td>\n",
       "      <td>1.533473e+12</td>\n",
       "      <td>F</td>\n",
       "      <td>NaN</td>\n",
       "      <td>NaN</td>\n",
       "      <td>NaN</td>\n",
       "      <td>1</td>\n",
       "      <td>12</td>\n",
       "      <td>2018-10-02</td>\n",
       "      <td>2018-10-02 12:19:35</td>\n",
       "      <td>Windows</td>\n",
       "    </tr>\n",
       "    <tr>\n",
       "      <th>6758</th>\n",
       "      <td>1538482793000</td>\n",
       "      <td>231</td>\n",
       "      <td>471</td>\n",
       "      <td>Cancellation Confirmation</td>\n",
       "      <td>Cancelled</td>\n",
       "      <td>GET</td>\n",
       "      <td>200</td>\n",
       "      <td>paid</td>\n",
       "      <td>234</td>\n",
       "      <td>Columbus, OH</td>\n",
       "      <td>...</td>\n",
       "      <td>1.533473e+12</td>\n",
       "      <td>F</td>\n",
       "      <td>NaN</td>\n",
       "      <td>NaN</td>\n",
       "      <td>NaN</td>\n",
       "      <td>1</td>\n",
       "      <td>12</td>\n",
       "      <td>2018-10-02</td>\n",
       "      <td>2018-10-02 12:19:53</td>\n",
       "      <td>Windows</td>\n",
       "    </tr>\n",
       "    <tr>\n",
       "      <th>12641</th>\n",
       "      <td>1538539764000</td>\n",
       "      <td>236</td>\n",
       "      <td>682</td>\n",
       "      <td>Cancel</td>\n",
       "      <td>Logged In</td>\n",
       "      <td>PUT</td>\n",
       "      <td>307</td>\n",
       "      <td>paid</td>\n",
       "      <td>108</td>\n",
       "      <td>Grand Rapids-Wyoming, MI</td>\n",
       "      <td>...</td>\n",
       "      <td>1.529996e+12</td>\n",
       "      <td>M</td>\n",
       "      <td>NaN</td>\n",
       "      <td>NaN</td>\n",
       "      <td>NaN</td>\n",
       "      <td>1</td>\n",
       "      <td>4</td>\n",
       "      <td>2018-10-03</td>\n",
       "      <td>2018-10-03 04:09:24</td>\n",
       "      <td>Windows</td>\n",
       "    </tr>\n",
       "    <tr>\n",
       "      <th>...</th>\n",
       "      <td>...</td>\n",
       "      <td>...</td>\n",
       "      <td>...</td>\n",
       "      <td>...</td>\n",
       "      <td>...</td>\n",
       "      <td>...</td>\n",
       "      <td>...</td>\n",
       "      <td>...</td>\n",
       "      <td>...</td>\n",
       "      <td>...</td>\n",
       "      <td>...</td>\n",
       "      <td>...</td>\n",
       "      <td>...</td>\n",
       "      <td>...</td>\n",
       "      <td>...</td>\n",
       "      <td>...</td>\n",
       "      <td>...</td>\n",
       "      <td>...</td>\n",
       "      <td>...</td>\n",
       "      <td>...</td>\n",
       "      <td>...</td>\n",
       "    </tr>\n",
       "    <tr>\n",
       "      <th>465426</th>\n",
       "      <td>1542750479000</td>\n",
       "      <td>200020</td>\n",
       "      <td>625</td>\n",
       "      <td>Cancellation Confirmation</td>\n",
       "      <td>Cancelled</td>\n",
       "      <td>GET</td>\n",
       "      <td>200</td>\n",
       "      <td>paid</td>\n",
       "      <td>140</td>\n",
       "      <td>Orlando-Kissimmee-Sanford, FL</td>\n",
       "      <td>...</td>\n",
       "      <td>1.535907e+12</td>\n",
       "      <td>M</td>\n",
       "      <td>NaN</td>\n",
       "      <td>NaN</td>\n",
       "      <td>NaN</td>\n",
       "      <td>1</td>\n",
       "      <td>21</td>\n",
       "      <td>2018-11-20</td>\n",
       "      <td>2018-11-20 21:47:59</td>\n",
       "      <td>Macintosh</td>\n",
       "    </tr>\n",
       "    <tr>\n",
       "      <th>499613</th>\n",
       "      <td>1540684945000</td>\n",
       "      <td>300004</td>\n",
       "      <td>289</td>\n",
       "      <td>Cancel</td>\n",
       "      <td>Logged In</td>\n",
       "      <td>PUT</td>\n",
       "      <td>307</td>\n",
       "      <td>paid</td>\n",
       "      <td>34</td>\n",
       "      <td>Los Angeles-Long Beach-Anaheim, CA</td>\n",
       "      <td>...</td>\n",
       "      <td>1.534513e+12</td>\n",
       "      <td>F</td>\n",
       "      <td>NaN</td>\n",
       "      <td>NaN</td>\n",
       "      <td>NaN</td>\n",
       "      <td>1</td>\n",
       "      <td>0</td>\n",
       "      <td>2018-10-28</td>\n",
       "      <td>2018-10-28 00:02:25</td>\n",
       "      <td>Windows</td>\n",
       "    </tr>\n",
       "    <tr>\n",
       "      <th>499615</th>\n",
       "      <td>1540684960000</td>\n",
       "      <td>300004</td>\n",
       "      <td>289</td>\n",
       "      <td>Cancellation Confirmation</td>\n",
       "      <td>Cancelled</td>\n",
       "      <td>GET</td>\n",
       "      <td>200</td>\n",
       "      <td>paid</td>\n",
       "      <td>35</td>\n",
       "      <td>Los Angeles-Long Beach-Anaheim, CA</td>\n",
       "      <td>...</td>\n",
       "      <td>1.534513e+12</td>\n",
       "      <td>F</td>\n",
       "      <td>NaN</td>\n",
       "      <td>NaN</td>\n",
       "      <td>NaN</td>\n",
       "      <td>1</td>\n",
       "      <td>0</td>\n",
       "      <td>2018-10-28</td>\n",
       "      <td>2018-10-28 00:02:40</td>\n",
       "      <td>Windows</td>\n",
       "    </tr>\n",
       "    <tr>\n",
       "      <th>499910</th>\n",
       "      <td>1540711797000</td>\n",
       "      <td>300047</td>\n",
       "      <td>258</td>\n",
       "      <td>Cancel</td>\n",
       "      <td>Logged In</td>\n",
       "      <td>PUT</td>\n",
       "      <td>307</td>\n",
       "      <td>paid</td>\n",
       "      <td>36</td>\n",
       "      <td>Newport, TN</td>\n",
       "      <td>...</td>\n",
       "      <td>1.534487e+12</td>\n",
       "      <td>F</td>\n",
       "      <td>NaN</td>\n",
       "      <td>NaN</td>\n",
       "      <td>NaN</td>\n",
       "      <td>1</td>\n",
       "      <td>7</td>\n",
       "      <td>2018-10-28</td>\n",
       "      <td>2018-10-28 07:29:57</td>\n",
       "      <td>Windows</td>\n",
       "    </tr>\n",
       "    <tr>\n",
       "      <th>499913</th>\n",
       "      <td>1540711926000</td>\n",
       "      <td>300047</td>\n",
       "      <td>258</td>\n",
       "      <td>Cancellation Confirmation</td>\n",
       "      <td>Cancelled</td>\n",
       "      <td>GET</td>\n",
       "      <td>200</td>\n",
       "      <td>paid</td>\n",
       "      <td>37</td>\n",
       "      <td>Newport, TN</td>\n",
       "      <td>...</td>\n",
       "      <td>1.534487e+12</td>\n",
       "      <td>F</td>\n",
       "      <td>NaN</td>\n",
       "      <td>NaN</td>\n",
       "      <td>NaN</td>\n",
       "      <td>1</td>\n",
       "      <td>7</td>\n",
       "      <td>2018-10-28</td>\n",
       "      <td>2018-10-28 07:32:06</td>\n",
       "      <td>Windows</td>\n",
       "    </tr>\n",
       "  </tbody>\n",
       "</table>\n",
       "<p>198 rows × 23 columns</p>\n",
       "</div>"
      ],
      "text/plain": [
       "                   ts  userId  sessionId                       page  \\\n",
       "2554    1538400609000     208        490                     Cancel   \n",
       "2555    1538400616000     208        490  Cancellation Confirmation   \n",
       "6757    1538482775000     231        471                     Cancel   \n",
       "6758    1538482793000     231        471  Cancellation Confirmation   \n",
       "12641   1538539764000     236        682                     Cancel   \n",
       "...               ...     ...        ...                        ...   \n",
       "465426  1542750479000  200020        625  Cancellation Confirmation   \n",
       "499613  1540684945000  300004        289                     Cancel   \n",
       "499615  1540684960000  300004        289  Cancellation Confirmation   \n",
       "499910  1540711797000  300047        258                     Cancel   \n",
       "499913  1540711926000  300047        258  Cancellation Confirmation   \n",
       "\n",
       "             auth method  status level  itemInSession  \\\n",
       "2554    Logged In    PUT     307  free             39   \n",
       "2555    Cancelled    GET     200  free             40   \n",
       "6757    Logged In    PUT     307  paid            233   \n",
       "6758    Cancelled    GET     200  paid            234   \n",
       "12641   Logged In    PUT     307  paid            108   \n",
       "...           ...    ...     ...   ...            ...   \n",
       "465426  Cancelled    GET     200  paid            140   \n",
       "499613  Logged In    PUT     307  paid             34   \n",
       "499615  Cancelled    GET     200  paid             35   \n",
       "499910  Logged In    PUT     307  paid             36   \n",
       "499913  Cancelled    GET     200  paid             37   \n",
       "\n",
       "                                  location  ...  registration gender artist  \\\n",
       "2554                        Fort Wayne, IN  ...  1.536758e+12      F    NaN   \n",
       "2555                        Fort Wayne, IN  ...  1.536758e+12      F    NaN   \n",
       "6757                          Columbus, OH  ...  1.533473e+12      F    NaN   \n",
       "6758                          Columbus, OH  ...  1.533473e+12      F    NaN   \n",
       "12641             Grand Rapids-Wyoming, MI  ...  1.529996e+12      M    NaN   \n",
       "...                                    ...  ...           ...    ...    ...   \n",
       "465426       Orlando-Kissimmee-Sanford, FL  ...  1.535907e+12      M    NaN   \n",
       "499613  Los Angeles-Long Beach-Anaheim, CA  ...  1.534513e+12      F    NaN   \n",
       "499615  Los Angeles-Long Beach-Anaheim, CA  ...  1.534513e+12      F    NaN   \n",
       "499910                         Newport, TN  ...  1.534487e+12      F    NaN   \n",
       "499913                         Newport, TN  ...  1.534487e+12      F    NaN   \n",
       "\n",
       "        song length churn ts_hour     ts_date            timestamp  \\\n",
       "2554     NaN    NaN     1      13  2018-10-01  2018-10-01 13:30:09   \n",
       "2555     NaN    NaN     1      13  2018-10-01  2018-10-01 13:30:16   \n",
       "6757     NaN    NaN     1      12  2018-10-02  2018-10-02 12:19:35   \n",
       "6758     NaN    NaN     1      12  2018-10-02  2018-10-02 12:19:53   \n",
       "12641    NaN    NaN     1       4  2018-10-03  2018-10-03 04:09:24   \n",
       "...      ...    ...   ...     ...         ...                  ...   \n",
       "465426   NaN    NaN     1      21  2018-11-20  2018-11-20 21:47:59   \n",
       "499613   NaN    NaN     1       0  2018-10-28  2018-10-28 00:02:25   \n",
       "499615   NaN    NaN     1       0  2018-10-28  2018-10-28 00:02:40   \n",
       "499910   NaN    NaN     1       7  2018-10-28  2018-10-28 07:29:57   \n",
       "499913   NaN    NaN     1       7  2018-10-28  2018-10-28 07:32:06   \n",
       "\n",
       "        useragent_short  \n",
       "2554            Windows  \n",
       "2555            Windows  \n",
       "6757            Windows  \n",
       "6758            Windows  \n",
       "12641           Windows  \n",
       "...                 ...  \n",
       "465426        Macintosh  \n",
       "499613          Windows  \n",
       "499615          Windows  \n",
       "499910          Windows  \n",
       "499913          Windows  \n",
       "\n",
       "[198 rows x 23 columns]"
      ]
     },
     "execution_count": 58,
     "metadata": {},
     "output_type": "execute_result"
    }
   ],
   "source": [
    "#make new column with UserAgent names only\n",
    "\n",
    "agent = []\n",
    "for i in churn_df['userAgent']:\n",
    "    agent.append(i.split('(')[1].replace(\";\", \" \").split(\" \")[0])\n",
    "\n",
    "\n",
    "churn_df['useragent_short'] = agent\n",
    "churn_df"
   ]
  },
  {
   "cell_type": "code",
   "execution_count": 59,
   "metadata": {
    "execution": {
     "iopub.execute_input": "2021-02-01T19:13:12.164965Z",
     "iopub.status.busy": "2021-02-01T19:13:12.163917Z",
     "iopub.status.idle": "2021-02-01T19:13:12.228132Z",
     "shell.execute_reply": "2021-02-01T19:13:12.227469Z"
    },
    "papermill": {
     "duration": 0.344124,
     "end_time": "2021-02-01T19:13:12.228262",
     "exception": false,
     "start_time": "2021-02-01T19:13:11.884138",
     "status": "completed"
    },
    "tags": []
   },
   "outputs": [],
   "source": [
    "ua = churn_df['useragent_short'].value_counts().rename_axis('ua').reset_index(name='counts').sort_index()\n",
    "ua['churn_rate'] = ua['counts']/df.userId.nunique()"
   ]
  },
  {
   "cell_type": "code",
   "execution_count": 60,
   "metadata": {
    "execution": {
     "iopub.execute_input": "2021-02-01T19:13:12.540633Z",
     "iopub.status.busy": "2021-02-01T19:13:12.539673Z",
     "iopub.status.idle": "2021-02-01T19:13:12.545602Z",
     "shell.execute_reply": "2021-02-01T19:13:12.544865Z"
    },
    "papermill": {
     "duration": 0.16709,
     "end_time": "2021-02-01T19:13:12.545738",
     "exception": false,
     "start_time": "2021-02-01T19:13:12.378648",
     "status": "completed"
    },
    "tags": []
   },
   "outputs": [
    {
     "data": {
      "text/html": [
       "<div>\n",
       "<style scoped>\n",
       "    .dataframe tbody tr th:only-of-type {\n",
       "        vertical-align: middle;\n",
       "    }\n",
       "\n",
       "    .dataframe tbody tr th {\n",
       "        vertical-align: top;\n",
       "    }\n",
       "\n",
       "    .dataframe thead th {\n",
       "        text-align: right;\n",
       "    }\n",
       "</style>\n",
       "<table border=\"1\" class=\"dataframe\">\n",
       "  <thead>\n",
       "    <tr style=\"text-align: right;\">\n",
       "      <th></th>\n",
       "      <th>ua</th>\n",
       "      <th>counts</th>\n",
       "      <th>churn_rate</th>\n",
       "    </tr>\n",
       "  </thead>\n",
       "  <tbody>\n",
       "    <tr>\n",
       "      <th>0</th>\n",
       "      <td>Windows</td>\n",
       "      <td>92</td>\n",
       "      <td>0.205357</td>\n",
       "    </tr>\n",
       "    <tr>\n",
       "      <th>1</th>\n",
       "      <td>Macintosh</td>\n",
       "      <td>70</td>\n",
       "      <td>0.156250</td>\n",
       "    </tr>\n",
       "    <tr>\n",
       "      <th>2</th>\n",
       "      <td>iPhone</td>\n",
       "      <td>22</td>\n",
       "      <td>0.049107</td>\n",
       "    </tr>\n",
       "    <tr>\n",
       "      <th>3</th>\n",
       "      <td>X11</td>\n",
       "      <td>10</td>\n",
       "      <td>0.022321</td>\n",
       "    </tr>\n",
       "    <tr>\n",
       "      <th>4</th>\n",
       "      <td>compatible</td>\n",
       "      <td>4</td>\n",
       "      <td>0.008929</td>\n",
       "    </tr>\n",
       "  </tbody>\n",
       "</table>\n",
       "</div>"
      ],
      "text/plain": [
       "           ua  counts  churn_rate\n",
       "0     Windows      92    0.205357\n",
       "1   Macintosh      70    0.156250\n",
       "2      iPhone      22    0.049107\n",
       "3         X11      10    0.022321\n",
       "4  compatible       4    0.008929"
      ]
     },
     "execution_count": 60,
     "metadata": {},
     "output_type": "execute_result"
    }
   ],
   "source": [
    "ua"
   ]
  },
  {
   "cell_type": "code",
   "execution_count": 61,
   "metadata": {
    "execution": {
     "iopub.execute_input": "2021-02-01T19:13:12.894955Z",
     "iopub.status.busy": "2021-02-01T19:13:12.889635Z",
     "iopub.status.idle": "2021-02-01T19:13:12.953035Z",
     "shell.execute_reply": "2021-02-01T19:13:12.953613Z"
    },
    "papermill": {
     "duration": 0.249033,
     "end_time": "2021-02-01T19:13:12.953780",
     "exception": false,
     "start_time": "2021-02-01T19:13:12.704747",
     "status": "completed"
    },
    "tags": []
   },
   "outputs": [
    {
     "data": {
      "application/vnd.plotly.v1+json": {
       "config": {
        "plotlyServerURL": "https://plot.ly"
       },
       "data": [
        {
         "alignmentgroup": "True",
         "hovertemplate": "ua=%{x}<br>churn_rate=%{y}<extra></extra>",
         "legendgroup": "",
         "marker": {
          "color": "#636efa"
         },
         "name": "",
         "offsetgroup": "",
         "orientation": "v",
         "showlegend": false,
         "textposition": "auto",
         "type": "bar",
         "x": [
          "Windows",
          "Macintosh",
          "iPhone",
          "X11",
          "compatible"
         ],
         "xaxis": "x",
         "y": [
          0.20535714285714285,
          0.15625,
          0.049107142857142856,
          0.022321428571428572,
          0.008928571428571428
         ],
         "yaxis": "y"
        }
       ],
       "layout": {
        "barmode": "relative",
        "legend": {
         "tracegroupgap": 0
        },
        "margin": {
         "t": 60
        },
        "template": {
         "data": {
          "bar": [
           {
            "error_x": {
             "color": "#2a3f5f"
            },
            "error_y": {
             "color": "#2a3f5f"
            },
            "marker": {
             "line": {
              "color": "#E5ECF6",
              "width": 0.5
             }
            },
            "type": "bar"
           }
          ],
          "barpolar": [
           {
            "marker": {
             "line": {
              "color": "#E5ECF6",
              "width": 0.5
             }
            },
            "type": "barpolar"
           }
          ],
          "carpet": [
           {
            "aaxis": {
             "endlinecolor": "#2a3f5f",
             "gridcolor": "white",
             "linecolor": "white",
             "minorgridcolor": "white",
             "startlinecolor": "#2a3f5f"
            },
            "baxis": {
             "endlinecolor": "#2a3f5f",
             "gridcolor": "white",
             "linecolor": "white",
             "minorgridcolor": "white",
             "startlinecolor": "#2a3f5f"
            },
            "type": "carpet"
           }
          ],
          "choropleth": [
           {
            "colorbar": {
             "outlinewidth": 0,
             "ticks": ""
            },
            "type": "choropleth"
           }
          ],
          "contour": [
           {
            "colorbar": {
             "outlinewidth": 0,
             "ticks": ""
            },
            "colorscale": [
             [
              0.0,
              "#0d0887"
             ],
             [
              0.1111111111111111,
              "#46039f"
             ],
             [
              0.2222222222222222,
              "#7201a8"
             ],
             [
              0.3333333333333333,
              "#9c179e"
             ],
             [
              0.4444444444444444,
              "#bd3786"
             ],
             [
              0.5555555555555556,
              "#d8576b"
             ],
             [
              0.6666666666666666,
              "#ed7953"
             ],
             [
              0.7777777777777778,
              "#fb9f3a"
             ],
             [
              0.8888888888888888,
              "#fdca26"
             ],
             [
              1.0,
              "#f0f921"
             ]
            ],
            "type": "contour"
           }
          ],
          "contourcarpet": [
           {
            "colorbar": {
             "outlinewidth": 0,
             "ticks": ""
            },
            "type": "contourcarpet"
           }
          ],
          "heatmap": [
           {
            "colorbar": {
             "outlinewidth": 0,
             "ticks": ""
            },
            "colorscale": [
             [
              0.0,
              "#0d0887"
             ],
             [
              0.1111111111111111,
              "#46039f"
             ],
             [
              0.2222222222222222,
              "#7201a8"
             ],
             [
              0.3333333333333333,
              "#9c179e"
             ],
             [
              0.4444444444444444,
              "#bd3786"
             ],
             [
              0.5555555555555556,
              "#d8576b"
             ],
             [
              0.6666666666666666,
              "#ed7953"
             ],
             [
              0.7777777777777778,
              "#fb9f3a"
             ],
             [
              0.8888888888888888,
              "#fdca26"
             ],
             [
              1.0,
              "#f0f921"
             ]
            ],
            "type": "heatmap"
           }
          ],
          "heatmapgl": [
           {
            "colorbar": {
             "outlinewidth": 0,
             "ticks": ""
            },
            "colorscale": [
             [
              0.0,
              "#0d0887"
             ],
             [
              0.1111111111111111,
              "#46039f"
             ],
             [
              0.2222222222222222,
              "#7201a8"
             ],
             [
              0.3333333333333333,
              "#9c179e"
             ],
             [
              0.4444444444444444,
              "#bd3786"
             ],
             [
              0.5555555555555556,
              "#d8576b"
             ],
             [
              0.6666666666666666,
              "#ed7953"
             ],
             [
              0.7777777777777778,
              "#fb9f3a"
             ],
             [
              0.8888888888888888,
              "#fdca26"
             ],
             [
              1.0,
              "#f0f921"
             ]
            ],
            "type": "heatmapgl"
           }
          ],
          "histogram": [
           {
            "marker": {
             "colorbar": {
              "outlinewidth": 0,
              "ticks": ""
             }
            },
            "type": "histogram"
           }
          ],
          "histogram2d": [
           {
            "colorbar": {
             "outlinewidth": 0,
             "ticks": ""
            },
            "colorscale": [
             [
              0.0,
              "#0d0887"
             ],
             [
              0.1111111111111111,
              "#46039f"
             ],
             [
              0.2222222222222222,
              "#7201a8"
             ],
             [
              0.3333333333333333,
              "#9c179e"
             ],
             [
              0.4444444444444444,
              "#bd3786"
             ],
             [
              0.5555555555555556,
              "#d8576b"
             ],
             [
              0.6666666666666666,
              "#ed7953"
             ],
             [
              0.7777777777777778,
              "#fb9f3a"
             ],
             [
              0.8888888888888888,
              "#fdca26"
             ],
             [
              1.0,
              "#f0f921"
             ]
            ],
            "type": "histogram2d"
           }
          ],
          "histogram2dcontour": [
           {
            "colorbar": {
             "outlinewidth": 0,
             "ticks": ""
            },
            "colorscale": [
             [
              0.0,
              "#0d0887"
             ],
             [
              0.1111111111111111,
              "#46039f"
             ],
             [
              0.2222222222222222,
              "#7201a8"
             ],
             [
              0.3333333333333333,
              "#9c179e"
             ],
             [
              0.4444444444444444,
              "#bd3786"
             ],
             [
              0.5555555555555556,
              "#d8576b"
             ],
             [
              0.6666666666666666,
              "#ed7953"
             ],
             [
              0.7777777777777778,
              "#fb9f3a"
             ],
             [
              0.8888888888888888,
              "#fdca26"
             ],
             [
              1.0,
              "#f0f921"
             ]
            ],
            "type": "histogram2dcontour"
           }
          ],
          "mesh3d": [
           {
            "colorbar": {
             "outlinewidth": 0,
             "ticks": ""
            },
            "type": "mesh3d"
           }
          ],
          "parcoords": [
           {
            "line": {
             "colorbar": {
              "outlinewidth": 0,
              "ticks": ""
             }
            },
            "type": "parcoords"
           }
          ],
          "pie": [
           {
            "automargin": true,
            "type": "pie"
           }
          ],
          "scatter": [
           {
            "marker": {
             "colorbar": {
              "outlinewidth": 0,
              "ticks": ""
             }
            },
            "type": "scatter"
           }
          ],
          "scatter3d": [
           {
            "line": {
             "colorbar": {
              "outlinewidth": 0,
              "ticks": ""
             }
            },
            "marker": {
             "colorbar": {
              "outlinewidth": 0,
              "ticks": ""
             }
            },
            "type": "scatter3d"
           }
          ],
          "scattercarpet": [
           {
            "marker": {
             "colorbar": {
              "outlinewidth": 0,
              "ticks": ""
             }
            },
            "type": "scattercarpet"
           }
          ],
          "scattergeo": [
           {
            "marker": {
             "colorbar": {
              "outlinewidth": 0,
              "ticks": ""
             }
            },
            "type": "scattergeo"
           }
          ],
          "scattergl": [
           {
            "marker": {
             "colorbar": {
              "outlinewidth": 0,
              "ticks": ""
             }
            },
            "type": "scattergl"
           }
          ],
          "scattermapbox": [
           {
            "marker": {
             "colorbar": {
              "outlinewidth": 0,
              "ticks": ""
             }
            },
            "type": "scattermapbox"
           }
          ],
          "scatterpolar": [
           {
            "marker": {
             "colorbar": {
              "outlinewidth": 0,
              "ticks": ""
             }
            },
            "type": "scatterpolar"
           }
          ],
          "scatterpolargl": [
           {
            "marker": {
             "colorbar": {
              "outlinewidth": 0,
              "ticks": ""
             }
            },
            "type": "scatterpolargl"
           }
          ],
          "scatterternary": [
           {
            "marker": {
             "colorbar": {
              "outlinewidth": 0,
              "ticks": ""
             }
            },
            "type": "scatterternary"
           }
          ],
          "surface": [
           {
            "colorbar": {
             "outlinewidth": 0,
             "ticks": ""
            },
            "colorscale": [
             [
              0.0,
              "#0d0887"
             ],
             [
              0.1111111111111111,
              "#46039f"
             ],
             [
              0.2222222222222222,
              "#7201a8"
             ],
             [
              0.3333333333333333,
              "#9c179e"
             ],
             [
              0.4444444444444444,
              "#bd3786"
             ],
             [
              0.5555555555555556,
              "#d8576b"
             ],
             [
              0.6666666666666666,
              "#ed7953"
             ],
             [
              0.7777777777777778,
              "#fb9f3a"
             ],
             [
              0.8888888888888888,
              "#fdca26"
             ],
             [
              1.0,
              "#f0f921"
             ]
            ],
            "type": "surface"
           }
          ],
          "table": [
           {
            "cells": {
             "fill": {
              "color": "#EBF0F8"
             },
             "line": {
              "color": "white"
             }
            },
            "header": {
             "fill": {
              "color": "#C8D4E3"
             },
             "line": {
              "color": "white"
             }
            },
            "type": "table"
           }
          ]
         },
         "layout": {
          "annotationdefaults": {
           "arrowcolor": "#2a3f5f",
           "arrowhead": 0,
           "arrowwidth": 1
          },
          "autotypenumbers": "strict",
          "coloraxis": {
           "colorbar": {
            "outlinewidth": 0,
            "ticks": ""
           }
          },
          "colorscale": {
           "diverging": [
            [
             0,
             "#8e0152"
            ],
            [
             0.1,
             "#c51b7d"
            ],
            [
             0.2,
             "#de77ae"
            ],
            [
             0.3,
             "#f1b6da"
            ],
            [
             0.4,
             "#fde0ef"
            ],
            [
             0.5,
             "#f7f7f7"
            ],
            [
             0.6,
             "#e6f5d0"
            ],
            [
             0.7,
             "#b8e186"
            ],
            [
             0.8,
             "#7fbc41"
            ],
            [
             0.9,
             "#4d9221"
            ],
            [
             1,
             "#276419"
            ]
           ],
           "sequential": [
            [
             0.0,
             "#0d0887"
            ],
            [
             0.1111111111111111,
             "#46039f"
            ],
            [
             0.2222222222222222,
             "#7201a8"
            ],
            [
             0.3333333333333333,
             "#9c179e"
            ],
            [
             0.4444444444444444,
             "#bd3786"
            ],
            [
             0.5555555555555556,
             "#d8576b"
            ],
            [
             0.6666666666666666,
             "#ed7953"
            ],
            [
             0.7777777777777778,
             "#fb9f3a"
            ],
            [
             0.8888888888888888,
             "#fdca26"
            ],
            [
             1.0,
             "#f0f921"
            ]
           ],
           "sequentialminus": [
            [
             0.0,
             "#0d0887"
            ],
            [
             0.1111111111111111,
             "#46039f"
            ],
            [
             0.2222222222222222,
             "#7201a8"
            ],
            [
             0.3333333333333333,
             "#9c179e"
            ],
            [
             0.4444444444444444,
             "#bd3786"
            ],
            [
             0.5555555555555556,
             "#d8576b"
            ],
            [
             0.6666666666666666,
             "#ed7953"
            ],
            [
             0.7777777777777778,
             "#fb9f3a"
            ],
            [
             0.8888888888888888,
             "#fdca26"
            ],
            [
             1.0,
             "#f0f921"
            ]
           ]
          },
          "colorway": [
           "#636efa",
           "#EF553B",
           "#00cc96",
           "#ab63fa",
           "#FFA15A",
           "#19d3f3",
           "#FF6692",
           "#B6E880",
           "#FF97FF",
           "#FECB52"
          ],
          "font": {
           "color": "#2a3f5f"
          },
          "geo": {
           "bgcolor": "white",
           "lakecolor": "white",
           "landcolor": "#E5ECF6",
           "showlakes": true,
           "showland": true,
           "subunitcolor": "white"
          },
          "hoverlabel": {
           "align": "left"
          },
          "hovermode": "closest",
          "mapbox": {
           "style": "light"
          },
          "paper_bgcolor": "white",
          "plot_bgcolor": "#E5ECF6",
          "polar": {
           "angularaxis": {
            "gridcolor": "white",
            "linecolor": "white",
            "ticks": ""
           },
           "bgcolor": "#E5ECF6",
           "radialaxis": {
            "gridcolor": "white",
            "linecolor": "white",
            "ticks": ""
           }
          },
          "scene": {
           "xaxis": {
            "backgroundcolor": "#E5ECF6",
            "gridcolor": "white",
            "gridwidth": 2,
            "linecolor": "white",
            "showbackground": true,
            "ticks": "",
            "zerolinecolor": "white"
           },
           "yaxis": {
            "backgroundcolor": "#E5ECF6",
            "gridcolor": "white",
            "gridwidth": 2,
            "linecolor": "white",
            "showbackground": true,
            "ticks": "",
            "zerolinecolor": "white"
           },
           "zaxis": {
            "backgroundcolor": "#E5ECF6",
            "gridcolor": "white",
            "gridwidth": 2,
            "linecolor": "white",
            "showbackground": true,
            "ticks": "",
            "zerolinecolor": "white"
           }
          },
          "shapedefaults": {
           "line": {
            "color": "#2a3f5f"
           }
          },
          "ternary": {
           "aaxis": {
            "gridcolor": "white",
            "linecolor": "white",
            "ticks": ""
           },
           "baxis": {
            "gridcolor": "white",
            "linecolor": "white",
            "ticks": ""
           },
           "bgcolor": "#E5ECF6",
           "caxis": {
            "gridcolor": "white",
            "linecolor": "white",
            "ticks": ""
           }
          },
          "title": {
           "x": 0.05
          },
          "xaxis": {
           "automargin": true,
           "gridcolor": "white",
           "linecolor": "white",
           "ticks": "",
           "title": {
            "standoff": 15
           },
           "zerolinecolor": "white",
           "zerolinewidth": 2
          },
          "yaxis": {
           "automargin": true,
           "gridcolor": "white",
           "linecolor": "white",
           "ticks": "",
           "title": {
            "standoff": 15
           },
           "zerolinecolor": "white",
           "zerolinewidth": 2
          }
         }
        },
        "title": {
         "text": "Churn Rate v. UserAgent",
         "x": 0.5,
         "xanchor": "center",
         "y": 0.9,
         "yanchor": "top"
        },
        "xaxis": {
         "anchor": "y",
         "domain": [
          0.0,
          1.0
         ],
         "title": {
          "text": "ua"
         }
        },
        "yaxis": {
         "anchor": "x",
         "domain": [
          0.0,
          1.0
         ],
         "title": {
          "text": "churn_rate"
         }
        }
       }
      },
      "text/html": [
       "<div>                            <div id=\"29b96378-0cd6-4acf-bc22-24b9c5258025\" class=\"plotly-graph-div\" style=\"height:525px; width:100%;\"></div>            <script type=\"text/javascript\">                require([\"plotly\"], function(Plotly) {                    window.PLOTLYENV=window.PLOTLYENV || {};                                    if (document.getElementById(\"29b96378-0cd6-4acf-bc22-24b9c5258025\")) {                    Plotly.newPlot(                        \"29b96378-0cd6-4acf-bc22-24b9c5258025\",                        [{\"alignmentgroup\": \"True\", \"hovertemplate\": \"ua=%{x}<br>churn_rate=%{y}<extra></extra>\", \"legendgroup\": \"\", \"marker\": {\"color\": \"#636efa\"}, \"name\": \"\", \"offsetgroup\": \"\", \"orientation\": \"v\", \"showlegend\": false, \"textposition\": \"auto\", \"type\": \"bar\", \"x\": [\"Windows\", \"Macintosh\", \"iPhone\", \"X11\", \"compatible\"], \"xaxis\": \"x\", \"y\": [0.20535714285714285, 0.15625, 0.049107142857142856, 0.022321428571428572, 0.008928571428571428], \"yaxis\": \"y\"}],                        {\"barmode\": \"relative\", \"legend\": {\"tracegroupgap\": 0}, \"margin\": {\"t\": 60}, \"template\": {\"data\": {\"bar\": [{\"error_x\": {\"color\": \"#2a3f5f\"}, \"error_y\": {\"color\": \"#2a3f5f\"}, \"marker\": {\"line\": {\"color\": \"#E5ECF6\", \"width\": 0.5}}, \"type\": \"bar\"}], \"barpolar\": [{\"marker\": {\"line\": {\"color\": \"#E5ECF6\", \"width\": 0.5}}, \"type\": \"barpolar\"}], \"carpet\": [{\"aaxis\": {\"endlinecolor\": \"#2a3f5f\", \"gridcolor\": \"white\", \"linecolor\": \"white\", \"minorgridcolor\": \"white\", \"startlinecolor\": \"#2a3f5f\"}, \"baxis\": {\"endlinecolor\": \"#2a3f5f\", \"gridcolor\": \"white\", \"linecolor\": \"white\", \"minorgridcolor\": \"white\", \"startlinecolor\": \"#2a3f5f\"}, \"type\": \"carpet\"}], \"choropleth\": [{\"colorbar\": {\"outlinewidth\": 0, \"ticks\": \"\"}, \"type\": \"choropleth\"}], \"contour\": [{\"colorbar\": {\"outlinewidth\": 0, \"ticks\": \"\"}, \"colorscale\": [[0.0, \"#0d0887\"], [0.1111111111111111, \"#46039f\"], [0.2222222222222222, \"#7201a8\"], [0.3333333333333333, \"#9c179e\"], [0.4444444444444444, \"#bd3786\"], [0.5555555555555556, \"#d8576b\"], [0.6666666666666666, \"#ed7953\"], [0.7777777777777778, \"#fb9f3a\"], [0.8888888888888888, \"#fdca26\"], [1.0, \"#f0f921\"]], \"type\": \"contour\"}], \"contourcarpet\": [{\"colorbar\": {\"outlinewidth\": 0, \"ticks\": \"\"}, \"type\": \"contourcarpet\"}], \"heatmap\": [{\"colorbar\": {\"outlinewidth\": 0, \"ticks\": \"\"}, \"colorscale\": [[0.0, \"#0d0887\"], [0.1111111111111111, \"#46039f\"], [0.2222222222222222, \"#7201a8\"], [0.3333333333333333, \"#9c179e\"], [0.4444444444444444, \"#bd3786\"], [0.5555555555555556, \"#d8576b\"], [0.6666666666666666, \"#ed7953\"], [0.7777777777777778, \"#fb9f3a\"], [0.8888888888888888, \"#fdca26\"], [1.0, \"#f0f921\"]], \"type\": \"heatmap\"}], \"heatmapgl\": [{\"colorbar\": {\"outlinewidth\": 0, \"ticks\": \"\"}, \"colorscale\": [[0.0, \"#0d0887\"], [0.1111111111111111, \"#46039f\"], [0.2222222222222222, \"#7201a8\"], [0.3333333333333333, \"#9c179e\"], [0.4444444444444444, \"#bd3786\"], [0.5555555555555556, \"#d8576b\"], [0.6666666666666666, \"#ed7953\"], [0.7777777777777778, \"#fb9f3a\"], [0.8888888888888888, \"#fdca26\"], [1.0, \"#f0f921\"]], \"type\": \"heatmapgl\"}], \"histogram\": [{\"marker\": {\"colorbar\": {\"outlinewidth\": 0, \"ticks\": \"\"}}, \"type\": \"histogram\"}], \"histogram2d\": [{\"colorbar\": {\"outlinewidth\": 0, \"ticks\": \"\"}, \"colorscale\": [[0.0, \"#0d0887\"], [0.1111111111111111, \"#46039f\"], [0.2222222222222222, \"#7201a8\"], [0.3333333333333333, \"#9c179e\"], [0.4444444444444444, \"#bd3786\"], [0.5555555555555556, \"#d8576b\"], [0.6666666666666666, \"#ed7953\"], [0.7777777777777778, \"#fb9f3a\"], [0.8888888888888888, \"#fdca26\"], [1.0, \"#f0f921\"]], \"type\": \"histogram2d\"}], \"histogram2dcontour\": [{\"colorbar\": {\"outlinewidth\": 0, \"ticks\": \"\"}, \"colorscale\": [[0.0, \"#0d0887\"], [0.1111111111111111, \"#46039f\"], [0.2222222222222222, \"#7201a8\"], [0.3333333333333333, \"#9c179e\"], [0.4444444444444444, \"#bd3786\"], [0.5555555555555556, \"#d8576b\"], [0.6666666666666666, \"#ed7953\"], [0.7777777777777778, \"#fb9f3a\"], [0.8888888888888888, \"#fdca26\"], [1.0, \"#f0f921\"]], \"type\": \"histogram2dcontour\"}], \"mesh3d\": [{\"colorbar\": {\"outlinewidth\": 0, \"ticks\": \"\"}, \"type\": \"mesh3d\"}], \"parcoords\": [{\"line\": {\"colorbar\": {\"outlinewidth\": 0, \"ticks\": \"\"}}, \"type\": \"parcoords\"}], \"pie\": [{\"automargin\": true, \"type\": \"pie\"}], \"scatter\": [{\"marker\": {\"colorbar\": {\"outlinewidth\": 0, \"ticks\": \"\"}}, \"type\": \"scatter\"}], \"scatter3d\": [{\"line\": {\"colorbar\": {\"outlinewidth\": 0, \"ticks\": \"\"}}, \"marker\": {\"colorbar\": {\"outlinewidth\": 0, \"ticks\": \"\"}}, \"type\": \"scatter3d\"}], \"scattercarpet\": [{\"marker\": {\"colorbar\": {\"outlinewidth\": 0, \"ticks\": \"\"}}, \"type\": \"scattercarpet\"}], \"scattergeo\": [{\"marker\": {\"colorbar\": {\"outlinewidth\": 0, \"ticks\": \"\"}}, \"type\": \"scattergeo\"}], \"scattergl\": [{\"marker\": {\"colorbar\": {\"outlinewidth\": 0, \"ticks\": \"\"}}, \"type\": \"scattergl\"}], \"scattermapbox\": [{\"marker\": {\"colorbar\": {\"outlinewidth\": 0, \"ticks\": \"\"}}, \"type\": \"scattermapbox\"}], \"scatterpolar\": [{\"marker\": {\"colorbar\": {\"outlinewidth\": 0, \"ticks\": \"\"}}, \"type\": \"scatterpolar\"}], \"scatterpolargl\": [{\"marker\": {\"colorbar\": {\"outlinewidth\": 0, \"ticks\": \"\"}}, \"type\": \"scatterpolargl\"}], \"scatterternary\": [{\"marker\": {\"colorbar\": {\"outlinewidth\": 0, \"ticks\": \"\"}}, \"type\": \"scatterternary\"}], \"surface\": [{\"colorbar\": {\"outlinewidth\": 0, \"ticks\": \"\"}, \"colorscale\": [[0.0, \"#0d0887\"], [0.1111111111111111, \"#46039f\"], [0.2222222222222222, \"#7201a8\"], [0.3333333333333333, \"#9c179e\"], [0.4444444444444444, \"#bd3786\"], [0.5555555555555556, \"#d8576b\"], [0.6666666666666666, \"#ed7953\"], [0.7777777777777778, \"#fb9f3a\"], [0.8888888888888888, \"#fdca26\"], [1.0, \"#f0f921\"]], \"type\": \"surface\"}], \"table\": [{\"cells\": {\"fill\": {\"color\": \"#EBF0F8\"}, \"line\": {\"color\": \"white\"}}, \"header\": {\"fill\": {\"color\": \"#C8D4E3\"}, \"line\": {\"color\": \"white\"}}, \"type\": \"table\"}]}, \"layout\": {\"annotationdefaults\": {\"arrowcolor\": \"#2a3f5f\", \"arrowhead\": 0, \"arrowwidth\": 1}, \"autotypenumbers\": \"strict\", \"coloraxis\": {\"colorbar\": {\"outlinewidth\": 0, \"ticks\": \"\"}}, \"colorscale\": {\"diverging\": [[0, \"#8e0152\"], [0.1, \"#c51b7d\"], [0.2, \"#de77ae\"], [0.3, \"#f1b6da\"], [0.4, \"#fde0ef\"], [0.5, \"#f7f7f7\"], [0.6, \"#e6f5d0\"], [0.7, \"#b8e186\"], [0.8, \"#7fbc41\"], [0.9, \"#4d9221\"], [1, \"#276419\"]], \"sequential\": [[0.0, \"#0d0887\"], [0.1111111111111111, \"#46039f\"], [0.2222222222222222, \"#7201a8\"], [0.3333333333333333, \"#9c179e\"], [0.4444444444444444, \"#bd3786\"], [0.5555555555555556, \"#d8576b\"], [0.6666666666666666, \"#ed7953\"], [0.7777777777777778, \"#fb9f3a\"], [0.8888888888888888, \"#fdca26\"], [1.0, \"#f0f921\"]], \"sequentialminus\": [[0.0, \"#0d0887\"], [0.1111111111111111, \"#46039f\"], [0.2222222222222222, \"#7201a8\"], [0.3333333333333333, \"#9c179e\"], [0.4444444444444444, \"#bd3786\"], [0.5555555555555556, \"#d8576b\"], [0.6666666666666666, \"#ed7953\"], [0.7777777777777778, \"#fb9f3a\"], [0.8888888888888888, \"#fdca26\"], [1.0, \"#f0f921\"]]}, \"colorway\": [\"#636efa\", \"#EF553B\", \"#00cc96\", \"#ab63fa\", \"#FFA15A\", \"#19d3f3\", \"#FF6692\", \"#B6E880\", \"#FF97FF\", \"#FECB52\"], \"font\": {\"color\": \"#2a3f5f\"}, \"geo\": {\"bgcolor\": \"white\", \"lakecolor\": \"white\", \"landcolor\": \"#E5ECF6\", \"showlakes\": true, \"showland\": true, \"subunitcolor\": \"white\"}, \"hoverlabel\": {\"align\": \"left\"}, \"hovermode\": \"closest\", \"mapbox\": {\"style\": \"light\"}, \"paper_bgcolor\": \"white\", \"plot_bgcolor\": \"#E5ECF6\", \"polar\": {\"angularaxis\": {\"gridcolor\": \"white\", \"linecolor\": \"white\", \"ticks\": \"\"}, \"bgcolor\": \"#E5ECF6\", \"radialaxis\": {\"gridcolor\": \"white\", \"linecolor\": \"white\", \"ticks\": \"\"}}, \"scene\": {\"xaxis\": {\"backgroundcolor\": \"#E5ECF6\", \"gridcolor\": \"white\", \"gridwidth\": 2, \"linecolor\": \"white\", \"showbackground\": true, \"ticks\": \"\", \"zerolinecolor\": \"white\"}, \"yaxis\": {\"backgroundcolor\": \"#E5ECF6\", \"gridcolor\": \"white\", \"gridwidth\": 2, \"linecolor\": \"white\", \"showbackground\": true, \"ticks\": \"\", \"zerolinecolor\": \"white\"}, \"zaxis\": {\"backgroundcolor\": \"#E5ECF6\", \"gridcolor\": \"white\", \"gridwidth\": 2, \"linecolor\": \"white\", \"showbackground\": true, \"ticks\": \"\", \"zerolinecolor\": \"white\"}}, \"shapedefaults\": {\"line\": {\"color\": \"#2a3f5f\"}}, \"ternary\": {\"aaxis\": {\"gridcolor\": \"white\", \"linecolor\": \"white\", \"ticks\": \"\"}, \"baxis\": {\"gridcolor\": \"white\", \"linecolor\": \"white\", \"ticks\": \"\"}, \"bgcolor\": \"#E5ECF6\", \"caxis\": {\"gridcolor\": \"white\", \"linecolor\": \"white\", \"ticks\": \"\"}}, \"title\": {\"x\": 0.05}, \"xaxis\": {\"automargin\": true, \"gridcolor\": \"white\", \"linecolor\": \"white\", \"ticks\": \"\", \"title\": {\"standoff\": 15}, \"zerolinecolor\": \"white\", \"zerolinewidth\": 2}, \"yaxis\": {\"automargin\": true, \"gridcolor\": \"white\", \"linecolor\": \"white\", \"ticks\": \"\", \"title\": {\"standoff\": 15}, \"zerolinecolor\": \"white\", \"zerolinewidth\": 2}}}, \"title\": {\"text\": \"Churn Rate v. UserAgent\", \"x\": 0.5, \"xanchor\": \"center\", \"y\": 0.9, \"yanchor\": \"top\"}, \"xaxis\": {\"anchor\": \"y\", \"domain\": [0.0, 1.0], \"title\": {\"text\": \"ua\"}}, \"yaxis\": {\"anchor\": \"x\", \"domain\": [0.0, 1.0], \"title\": {\"text\": \"churn_rate\"}}},                        {\"responsive\": true}                    ).then(function(){\n",
       "                            \n",
       "var gd = document.getElementById('29b96378-0cd6-4acf-bc22-24b9c5258025');\n",
       "var x = new MutationObserver(function (mutations, observer) {{\n",
       "        var display = window.getComputedStyle(gd).display;\n",
       "        if (!display || display === 'none') {{\n",
       "            console.log([gd, 'removed!']);\n",
       "            Plotly.purge(gd);\n",
       "            observer.disconnect();\n",
       "        }}\n",
       "}});\n",
       "\n",
       "// Listen for the removal of the full notebook cells\n",
       "var notebookContainer = gd.closest('#notebook-container');\n",
       "if (notebookContainer) {{\n",
       "    x.observe(notebookContainer, {childList: true});\n",
       "}}\n",
       "\n",
       "// Listen for the clearing of the current output cell\n",
       "var outputEl = gd.closest('.output');\n",
       "if (outputEl) {{\n",
       "    x.observe(outputEl, {childList: true});\n",
       "}}\n",
       "\n",
       "                        })                };                });            </script>        </div>"
      ]
     },
     "metadata": {},
     "output_type": "display_data"
    }
   ],
   "source": [
    "fig = px.bar(ua, x='ua', y='churn_rate')\n",
    "\n",
    "fig.update_layout(\n",
    "    title={\n",
    "        'text': \"Churn Rate v. UserAgent\",\n",
    "        'y':0.9,\n",
    "        'x':0.5,\n",
    "        'xanchor': 'center',\n",
    "        'yanchor': 'top'})\n",
    "\n",
    "fig.show()"
   ]
  },
  {
   "cell_type": "markdown",
   "metadata": {
    "papermill": {
     "duration": 0.207091,
     "end_time": "2021-02-01T19:13:13.320334",
     "exception": false,
     "start_time": "2021-02-01T19:13:13.113243",
     "status": "completed"
    },
    "tags": []
   },
   "source": [
    "Most churns are happening from comp devices. So Engineering might need to look into this in order to see if there is any Prod issue."
   ]
  },
  {
   "cell_type": "markdown",
   "metadata": {
    "papermill": {
     "duration": 0.159254,
     "end_time": "2021-02-01T19:13:13.639468",
     "exception": false,
     "start_time": "2021-02-01T19:13:13.480214",
     "status": "completed"
    },
    "tags": []
   },
   "source": [
    "# Feature Engineering"
   ]
  },
  {
   "cell_type": "markdown",
   "metadata": {
    "papermill": {
     "duration": 0.16058,
     "end_time": "2021-02-01T19:13:13.960632",
     "exception": false,
     "start_time": "2021-02-01T19:13:13.800052",
     "status": "completed"
    },
    "tags": []
   },
   "source": [
    "Key ideas:\n",
    "    \n",
    "* efficiency of model depends heavily on features we engineer/identify\n",
    "* features that correlate strongly with target var -> high model accuracy\n",
    "* do not add features that have near 0 correlation (adds noise/muddles model)\n",
    "\n",
    "* particularly for this problem, it is important to note for those who churned, what are the differences in activity such as engagement with the plaform before signing up for membership and after signing up- e.g. did they take longer to become a member relative to the average time it took for people on the platform?, lingering more on page, etc. These sort of patterns would give way to whether or not a customer is less committed to the service."
   ]
  },
  {
   "cell_type": "markdown",
   "metadata": {
    "papermill": {
     "duration": 0.159191,
     "end_time": "2021-02-01T19:13:14.340187",
     "exception": false,
     "start_time": "2021-02-01T19:13:14.180996",
     "status": "completed"
    },
    "tags": []
   },
   "source": [
    "First off, in order to separate activities between free and paid membership, \n",
    "will concat level and page columns."
   ]
  },
  {
   "cell_type": "code",
   "execution_count": 62,
   "metadata": {
    "execution": {
     "iopub.execute_input": "2021-02-01T19:13:14.664400Z",
     "iopub.status.busy": "2021-02-01T19:13:14.663378Z",
     "iopub.status.idle": "2021-02-01T19:13:15.023145Z",
     "shell.execute_reply": "2021-02-01T19:13:15.023805Z"
    },
    "papermill": {
     "duration": 0.52572,
     "end_time": "2021-02-01T19:13:15.023993",
     "exception": false,
     "start_time": "2021-02-01T19:13:14.498273",
     "status": "completed"
    },
    "tags": []
   },
   "outputs": [
    {
     "data": {
      "text/html": [
       "<div>\n",
       "<style scoped>\n",
       "    .dataframe tbody tr th:only-of-type {\n",
       "        vertical-align: middle;\n",
       "    }\n",
       "\n",
       "    .dataframe tbody tr th {\n",
       "        vertical-align: top;\n",
       "    }\n",
       "\n",
       "    .dataframe thead th {\n",
       "        text-align: right;\n",
       "    }\n",
       "</style>\n",
       "<table border=\"1\" class=\"dataframe\">\n",
       "  <thead>\n",
       "    <tr style=\"text-align: right;\">\n",
       "      <th></th>\n",
       "      <th>ts</th>\n",
       "      <th>userId</th>\n",
       "      <th>sessionId</th>\n",
       "      <th>page</th>\n",
       "      <th>auth</th>\n",
       "      <th>method</th>\n",
       "      <th>status</th>\n",
       "      <th>level</th>\n",
       "      <th>itemInSession</th>\n",
       "      <th>location</th>\n",
       "      <th>...</th>\n",
       "      <th>registration</th>\n",
       "      <th>gender</th>\n",
       "      <th>artist</th>\n",
       "      <th>song</th>\n",
       "      <th>length</th>\n",
       "      <th>churn</th>\n",
       "      <th>ts_hour</th>\n",
       "      <th>ts_date</th>\n",
       "      <th>timestamp</th>\n",
       "      <th>level_page</th>\n",
       "    </tr>\n",
       "  </thead>\n",
       "  <tbody>\n",
       "    <tr>\n",
       "      <th>0</th>\n",
       "      <td>1538352011000</td>\n",
       "      <td>293</td>\n",
       "      <td>292</td>\n",
       "      <td>NextSong</td>\n",
       "      <td>Logged In</td>\n",
       "      <td>PUT</td>\n",
       "      <td>200</td>\n",
       "      <td>free</td>\n",
       "      <td>20</td>\n",
       "      <td>Corpus Christi, TX</td>\n",
       "      <td>...</td>\n",
       "      <td>1.532064e+12</td>\n",
       "      <td>M</td>\n",
       "      <td>Martin Orford</td>\n",
       "      <td>Grand Designs</td>\n",
       "      <td>597.55057</td>\n",
       "      <td>0</td>\n",
       "      <td>0</td>\n",
       "      <td>2018-10-01</td>\n",
       "      <td>2018-10-01 00:00:11</td>\n",
       "      <td>free NextSong</td>\n",
       "    </tr>\n",
       "    <tr>\n",
       "      <th>1</th>\n",
       "      <td>1538352025000</td>\n",
       "      <td>98</td>\n",
       "      <td>97</td>\n",
       "      <td>NextSong</td>\n",
       "      <td>Logged In</td>\n",
       "      <td>PUT</td>\n",
       "      <td>200</td>\n",
       "      <td>free</td>\n",
       "      <td>74</td>\n",
       "      <td>Houston-The Woodlands-Sugar Land, TX</td>\n",
       "      <td>...</td>\n",
       "      <td>1.538070e+12</td>\n",
       "      <td>M</td>\n",
       "      <td>John Brown's Body</td>\n",
       "      <td>Bulls</td>\n",
       "      <td>380.21179</td>\n",
       "      <td>0</td>\n",
       "      <td>0</td>\n",
       "      <td>2018-10-01</td>\n",
       "      <td>2018-10-01 00:00:25</td>\n",
       "      <td>free NextSong</td>\n",
       "    </tr>\n",
       "    <tr>\n",
       "      <th>2</th>\n",
       "      <td>1538352118000</td>\n",
       "      <td>179</td>\n",
       "      <td>178</td>\n",
       "      <td>NextSong</td>\n",
       "      <td>Logged In</td>\n",
       "      <td>PUT</td>\n",
       "      <td>200</td>\n",
       "      <td>paid</td>\n",
       "      <td>184</td>\n",
       "      <td>Orlando-Kissimmee-Sanford, FL</td>\n",
       "      <td>...</td>\n",
       "      <td>1.535953e+12</td>\n",
       "      <td>M</td>\n",
       "      <td>Afroman</td>\n",
       "      <td>Because I Got High</td>\n",
       "      <td>202.37016</td>\n",
       "      <td>0</td>\n",
       "      <td>0</td>\n",
       "      <td>2018-10-01</td>\n",
       "      <td>2018-10-01 00:01:58</td>\n",
       "      <td>paid NextSong</td>\n",
       "    </tr>\n",
       "    <tr>\n",
       "      <th>3</th>\n",
       "      <td>1538352119000</td>\n",
       "      <td>179</td>\n",
       "      <td>178</td>\n",
       "      <td>Logout</td>\n",
       "      <td>Logged In</td>\n",
       "      <td>PUT</td>\n",
       "      <td>307</td>\n",
       "      <td>paid</td>\n",
       "      <td>185</td>\n",
       "      <td>Orlando-Kissimmee-Sanford, FL</td>\n",
       "      <td>...</td>\n",
       "      <td>1.535953e+12</td>\n",
       "      <td>M</td>\n",
       "      <td>NaN</td>\n",
       "      <td>NaN</td>\n",
       "      <td>NaN</td>\n",
       "      <td>0</td>\n",
       "      <td>0</td>\n",
       "      <td>2018-10-01</td>\n",
       "      <td>2018-10-01 00:01:59</td>\n",
       "      <td>paid Logout</td>\n",
       "    </tr>\n",
       "    <tr>\n",
       "      <th>4</th>\n",
       "      <td>1538352124000</td>\n",
       "      <td>246</td>\n",
       "      <td>245</td>\n",
       "      <td>NextSong</td>\n",
       "      <td>Logged In</td>\n",
       "      <td>PUT</td>\n",
       "      <td>200</td>\n",
       "      <td>paid</td>\n",
       "      <td>22</td>\n",
       "      <td>Mobile, AL</td>\n",
       "      <td>...</td>\n",
       "      <td>1.535931e+12</td>\n",
       "      <td>F</td>\n",
       "      <td>Lily Allen</td>\n",
       "      <td>Smile (Radio Edit)</td>\n",
       "      <td>194.53342</td>\n",
       "      <td>0</td>\n",
       "      <td>0</td>\n",
       "      <td>2018-10-01</td>\n",
       "      <td>2018-10-01 00:02:04</td>\n",
       "      <td>paid NextSong</td>\n",
       "    </tr>\n",
       "  </tbody>\n",
       "</table>\n",
       "<p>5 rows × 23 columns</p>\n",
       "</div>"
      ],
      "text/plain": [
       "              ts userId  sessionId      page       auth method  status level  \\\n",
       "0  1538352011000    293        292  NextSong  Logged In    PUT     200  free   \n",
       "1  1538352025000     98         97  NextSong  Logged In    PUT     200  free   \n",
       "2  1538352118000    179        178  NextSong  Logged In    PUT     200  paid   \n",
       "3  1538352119000    179        178    Logout  Logged In    PUT     307  paid   \n",
       "4  1538352124000    246        245  NextSong  Logged In    PUT     200  paid   \n",
       "\n",
       "   itemInSession                              location  ...  registration  \\\n",
       "0             20                    Corpus Christi, TX  ...  1.532064e+12   \n",
       "1             74  Houston-The Woodlands-Sugar Land, TX  ...  1.538070e+12   \n",
       "2            184         Orlando-Kissimmee-Sanford, FL  ...  1.535953e+12   \n",
       "3            185         Orlando-Kissimmee-Sanford, FL  ...  1.535953e+12   \n",
       "4             22                            Mobile, AL  ...  1.535931e+12   \n",
       "\n",
       "  gender             artist                song     length churn ts_hour  \\\n",
       "0      M      Martin Orford       Grand Designs  597.55057     0       0   \n",
       "1      M  John Brown's Body               Bulls  380.21179     0       0   \n",
       "2      M            Afroman  Because I Got High  202.37016     0       0   \n",
       "3      M                NaN                 NaN        NaN     0       0   \n",
       "4      F         Lily Allen  Smile (Radio Edit)  194.53342     0       0   \n",
       "\n",
       "      ts_date            timestamp     level_page  \n",
       "0  2018-10-01  2018-10-01 00:00:11  free NextSong  \n",
       "1  2018-10-01  2018-10-01 00:00:25  free NextSong  \n",
       "2  2018-10-01  2018-10-01 00:01:58  paid NextSong  \n",
       "3  2018-10-01  2018-10-01 00:01:59    paid Logout  \n",
       "4  2018-10-01  2018-10-01 00:02:04  paid NextSong  \n",
       "\n",
       "[5 rows x 23 columns]"
      ]
     },
     "execution_count": 62,
     "metadata": {},
     "output_type": "execute_result"
    }
   ],
   "source": [
    "df['level_page'] =  df['level'] + ' ' + df['page']\n",
    "df.head()"
   ]
  },
  {
   "cell_type": "code",
   "execution_count": 63,
   "metadata": {
    "execution": {
     "iopub.execute_input": "2021-02-01T19:13:15.540084Z",
     "iopub.status.busy": "2021-02-01T19:13:15.535528Z",
     "iopub.status.idle": "2021-02-01T19:13:15.544608Z",
     "shell.execute_reply": "2021-02-01T19:13:15.543960Z"
    },
    "papermill": {
     "duration": 0.35477,
     "end_time": "2021-02-01T19:13:15.544736",
     "exception": false,
     "start_time": "2021-02-01T19:13:15.189966",
     "status": "completed"
    },
    "tags": []
   },
   "outputs": [
    {
     "data": {
      "text/plain": [
       "paid NextSong                     349782\n",
       "free NextSong                      83095\n",
       "paid Thumbs Up                     19504\n",
       "paid Home                          13956\n",
       "paid Add to Playlist               10033\n",
       "free Roll Advert                    7337\n",
       "paid Add Friend                     6341\n",
       "free Home                           5133\n",
       "free Thumbs Up                      4322\n",
       "paid Logout                         4184\n",
       "paid Downgrade                      3811\n",
       "paid Thumbs Down                    3771\n",
       "free Add to Playlist                2316\n",
       "paid Settings                       2240\n",
       "paid Help                           2076\n",
       "free Logout                         1806\n",
       "free Add Friend                     1746\n",
       "free Thumbs Down                    1140\n",
       "free Upgrade                         968\n",
       "paid About                           827\n",
       "free Settings                        724\n",
       "free Help                            568\n",
       "paid Roll Advert                     436\n",
       "paid Save Settings                   435\n",
       "paid Error                           397\n",
       "free Submit Upgrade                  287\n",
       "free About                           199\n",
       "free Save Settings                   150\n",
       "paid Submit Downgrade                117\n",
       "free Error                           106\n",
       "paid Cancel                           67\n",
       "paid Cancellation Confirmation        67\n",
       "free Cancellation Confirmation        32\n",
       "free Cancel                           32\n",
       "Name: level_page, dtype: int64"
      ]
     },
     "execution_count": 63,
     "metadata": {},
     "output_type": "execute_result"
    }
   ],
   "source": [
    "df.level_page.value_counts()"
   ]
  },
  {
   "cell_type": "code",
   "execution_count": 64,
   "metadata": {
    "execution": {
     "iopub.execute_input": "2021-02-01T19:13:15.876470Z",
     "iopub.status.busy": "2021-02-01T19:13:15.874401Z",
     "iopub.status.idle": "2021-02-01T19:13:16.179494Z",
     "shell.execute_reply": "2021-02-01T19:13:16.178800Z"
    },
    "papermill": {
     "duration": 0.473995,
     "end_time": "2021-02-01T19:13:16.179628",
     "exception": false,
     "start_time": "2021-02-01T19:13:15.705633",
     "status": "completed"
    },
    "tags": []
   },
   "outputs": [],
   "source": [
    "df2 = df.copy()"
   ]
  },
  {
   "cell_type": "code",
   "execution_count": 65,
   "metadata": {
    "execution": {
     "iopub.execute_input": "2021-02-01T19:13:16.796689Z",
     "iopub.status.busy": "2021-02-01T19:13:16.511914Z",
     "iopub.status.idle": "2021-02-01T19:13:17.644792Z",
     "shell.execute_reply": "2021-02-01T19:13:17.645306Z"
    },
    "papermill": {
     "duration": 1.304494,
     "end_time": "2021-02-01T19:13:17.645501",
     "exception": false,
     "start_time": "2021-02-01T19:13:16.341007",
     "status": "completed"
    },
    "tags": []
   },
   "outputs": [],
   "source": [
    "df2 = df2.drop(columns=['ts',\n",
    "\n",
    " 'sessionId',\n",
    " 'page',\n",
    " 'auth',\n",
    " 'method',\n",
    " 'status',\n",
    " 'level',\n",
    " 'itemInSession',\n",
    " 'location',\n",
    " 'userAgent',\n",
    " 'lastName',\n",
    " 'firstName',\n",
    " 'registration',\n",
    " 'gender',\n",
    " 'artist',\n",
    " 'song',\n",
    " 'length',\n",
    " 'churn',\n",
    " 'ts_hour',\n",
    " 'ts_date',\n",
    " 'timestamp'])"
   ]
  },
  {
   "cell_type": "code",
   "execution_count": 66,
   "metadata": {
    "execution": {
     "iopub.execute_input": "2021-02-01T19:13:17.975372Z",
     "iopub.status.busy": "2021-02-01T19:13:17.973943Z",
     "iopub.status.idle": "2021-02-01T19:13:18.031237Z",
     "shell.execute_reply": "2021-02-01T19:13:18.031792Z"
    },
    "papermill": {
     "duration": 0.224058,
     "end_time": "2021-02-01T19:13:18.032000",
     "exception": false,
     "start_time": "2021-02-01T19:13:17.807942",
     "status": "completed"
    },
    "tags": []
   },
   "outputs": [],
   "source": [
    "df2 = df2.reset_index()"
   ]
  },
  {
   "cell_type": "code",
   "execution_count": 67,
   "metadata": {
    "execution": {
     "iopub.execute_input": "2021-02-01T19:13:18.359194Z",
     "iopub.status.busy": "2021-02-01T19:13:18.358131Z",
     "iopub.status.idle": "2021-02-01T19:13:18.374308Z",
     "shell.execute_reply": "2021-02-01T19:13:18.373688Z"
    },
    "papermill": {
     "duration": 0.182705,
     "end_time": "2021-02-01T19:13:18.374442",
     "exception": false,
     "start_time": "2021-02-01T19:13:18.191737",
     "status": "completed"
    },
    "tags": []
   },
   "outputs": [
    {
     "data": {
      "text/html": [
       "<div>\n",
       "<style scoped>\n",
       "    .dataframe tbody tr th:only-of-type {\n",
       "        vertical-align: middle;\n",
       "    }\n",
       "\n",
       "    .dataframe tbody tr th {\n",
       "        vertical-align: top;\n",
       "    }\n",
       "\n",
       "    .dataframe thead th {\n",
       "        text-align: right;\n",
       "    }\n",
       "</style>\n",
       "<table border=\"1\" class=\"dataframe\">\n",
       "  <thead>\n",
       "    <tr style=\"text-align: right;\">\n",
       "      <th></th>\n",
       "      <th>index</th>\n",
       "      <th>userId</th>\n",
       "      <th>level_page</th>\n",
       "    </tr>\n",
       "  </thead>\n",
       "  <tbody>\n",
       "    <tr>\n",
       "      <th>0</th>\n",
       "      <td>0</td>\n",
       "      <td>293</td>\n",
       "      <td>free NextSong</td>\n",
       "    </tr>\n",
       "    <tr>\n",
       "      <th>1</th>\n",
       "      <td>1</td>\n",
       "      <td>98</td>\n",
       "      <td>free NextSong</td>\n",
       "    </tr>\n",
       "    <tr>\n",
       "      <th>2</th>\n",
       "      <td>2</td>\n",
       "      <td>179</td>\n",
       "      <td>paid NextSong</td>\n",
       "    </tr>\n",
       "    <tr>\n",
       "      <th>3</th>\n",
       "      <td>3</td>\n",
       "      <td>179</td>\n",
       "      <td>paid Logout</td>\n",
       "    </tr>\n",
       "    <tr>\n",
       "      <th>4</th>\n",
       "      <td>4</td>\n",
       "      <td>246</td>\n",
       "      <td>paid NextSong</td>\n",
       "    </tr>\n",
       "    <tr>\n",
       "      <th>...</th>\n",
       "      <td>...</td>\n",
       "      <td>...</td>\n",
       "      <td>...</td>\n",
       "    </tr>\n",
       "    <tr>\n",
       "      <th>528000</th>\n",
       "      <td>543700</td>\n",
       "      <td>300010</td>\n",
       "      <td>paid NextSong</td>\n",
       "    </tr>\n",
       "    <tr>\n",
       "      <th>528001</th>\n",
       "      <td>543701</td>\n",
       "      <td>300049</td>\n",
       "      <td>paid NextSong</td>\n",
       "    </tr>\n",
       "    <tr>\n",
       "      <th>528002</th>\n",
       "      <td>543702</td>\n",
       "      <td>300039</td>\n",
       "      <td>paid NextSong</td>\n",
       "    </tr>\n",
       "    <tr>\n",
       "      <th>528003</th>\n",
       "      <td>543703</td>\n",
       "      <td>300038</td>\n",
       "      <td>paid NextSong</td>\n",
       "    </tr>\n",
       "    <tr>\n",
       "      <th>528004</th>\n",
       "      <td>543704</td>\n",
       "      <td>300015</td>\n",
       "      <td>paid NextSong</td>\n",
       "    </tr>\n",
       "  </tbody>\n",
       "</table>\n",
       "<p>528005 rows × 3 columns</p>\n",
       "</div>"
      ],
      "text/plain": [
       "         index  userId     level_page\n",
       "0            0     293  free NextSong\n",
       "1            1      98  free NextSong\n",
       "2            2     179  paid NextSong\n",
       "3            3     179    paid Logout\n",
       "4            4     246  paid NextSong\n",
       "...        ...     ...            ...\n",
       "528000  543700  300010  paid NextSong\n",
       "528001  543701  300049  paid NextSong\n",
       "528002  543702  300039  paid NextSong\n",
       "528003  543703  300038  paid NextSong\n",
       "528004  543704  300015  paid NextSong\n",
       "\n",
       "[528005 rows x 3 columns]"
      ]
     },
     "execution_count": 67,
     "metadata": {},
     "output_type": "execute_result"
    }
   ],
   "source": [
    "df2"
   ]
  },
  {
   "cell_type": "code",
   "execution_count": 68,
   "metadata": {
    "execution": {
     "iopub.execute_input": "2021-02-01T19:13:18.757589Z",
     "iopub.status.busy": "2021-02-01T19:13:18.756527Z",
     "iopub.status.idle": "2021-02-01T19:13:19.139294Z",
     "shell.execute_reply": "2021-02-01T19:13:19.138665Z"
    },
    "papermill": {
     "duration": 0.605276,
     "end_time": "2021-02-01T19:13:19.139442",
     "exception": false,
     "start_time": "2021-02-01T19:13:18.534166",
     "status": "completed"
    },
    "tags": []
   },
   "outputs": [
    {
     "data": {
      "text/html": [
       "<div>\n",
       "<style scoped>\n",
       "    .dataframe tbody tr th:only-of-type {\n",
       "        vertical-align: middle;\n",
       "    }\n",
       "\n",
       "    .dataframe tbody tr th {\n",
       "        vertical-align: top;\n",
       "    }\n",
       "\n",
       "    .dataframe thead tr th {\n",
       "        text-align: left;\n",
       "    }\n",
       "\n",
       "    .dataframe thead tr:last-of-type th {\n",
       "        text-align: right;\n",
       "    }\n",
       "</style>\n",
       "<table border=\"1\" class=\"dataframe\">\n",
       "  <thead>\n",
       "    <tr>\n",
       "      <th></th>\n",
       "      <th colspan=\"21\" halign=\"left\">index</th>\n",
       "    </tr>\n",
       "    <tr>\n",
       "      <th>level_page</th>\n",
       "      <th>free About</th>\n",
       "      <th>free Add Friend</th>\n",
       "      <th>free Add to Playlist</th>\n",
       "      <th>free Cancel</th>\n",
       "      <th>free Cancellation Confirmation</th>\n",
       "      <th>free Error</th>\n",
       "      <th>free Help</th>\n",
       "      <th>free Home</th>\n",
       "      <th>free Logout</th>\n",
       "      <th>free NextSong</th>\n",
       "      <th>...</th>\n",
       "      <th>paid Help</th>\n",
       "      <th>paid Home</th>\n",
       "      <th>paid Logout</th>\n",
       "      <th>paid NextSong</th>\n",
       "      <th>paid Roll Advert</th>\n",
       "      <th>paid Save Settings</th>\n",
       "      <th>paid Settings</th>\n",
       "      <th>paid Submit Downgrade</th>\n",
       "      <th>paid Thumbs Down</th>\n",
       "      <th>paid Thumbs Up</th>\n",
       "    </tr>\n",
       "    <tr>\n",
       "      <th>userId</th>\n",
       "      <th></th>\n",
       "      <th></th>\n",
       "      <th></th>\n",
       "      <th></th>\n",
       "      <th></th>\n",
       "      <th></th>\n",
       "      <th></th>\n",
       "      <th></th>\n",
       "      <th></th>\n",
       "      <th></th>\n",
       "      <th></th>\n",
       "      <th></th>\n",
       "      <th></th>\n",
       "      <th></th>\n",
       "      <th></th>\n",
       "      <th></th>\n",
       "      <th></th>\n",
       "      <th></th>\n",
       "      <th></th>\n",
       "      <th></th>\n",
       "      <th></th>\n",
       "    </tr>\n",
       "  </thead>\n",
       "  <tbody>\n",
       "    <tr>\n",
       "      <th>10</th>\n",
       "      <td>0</td>\n",
       "      <td>0</td>\n",
       "      <td>0</td>\n",
       "      <td>0</td>\n",
       "      <td>0</td>\n",
       "      <td>0</td>\n",
       "      <td>0</td>\n",
       "      <td>0</td>\n",
       "      <td>0</td>\n",
       "      <td>0</td>\n",
       "      <td>...</td>\n",
       "      <td>3</td>\n",
       "      <td>15</td>\n",
       "      <td>4</td>\n",
       "      <td>360</td>\n",
       "      <td>0</td>\n",
       "      <td>0</td>\n",
       "      <td>2</td>\n",
       "      <td>0</td>\n",
       "      <td>1</td>\n",
       "      <td>17</td>\n",
       "    </tr>\n",
       "    <tr>\n",
       "      <th>100</th>\n",
       "      <td>0</td>\n",
       "      <td>0</td>\n",
       "      <td>2</td>\n",
       "      <td>0</td>\n",
       "      <td>0</td>\n",
       "      <td>0</td>\n",
       "      <td>0</td>\n",
       "      <td>3</td>\n",
       "      <td>1</td>\n",
       "      <td>46</td>\n",
       "      <td>...</td>\n",
       "      <td>17</td>\n",
       "      <td>132</td>\n",
       "      <td>35</td>\n",
       "      <td>3336</td>\n",
       "      <td>3</td>\n",
       "      <td>2</td>\n",
       "      <td>17</td>\n",
       "      <td>0</td>\n",
       "      <td>37</td>\n",
       "      <td>142</td>\n",
       "    </tr>\n",
       "    <tr>\n",
       "      <th>100001</th>\n",
       "      <td>1</td>\n",
       "      <td>1</td>\n",
       "      <td>3</td>\n",
       "      <td>1</td>\n",
       "      <td>1</td>\n",
       "      <td>0</td>\n",
       "      <td>1</td>\n",
       "      <td>4</td>\n",
       "      <td>2</td>\n",
       "      <td>96</td>\n",
       "      <td>...</td>\n",
       "      <td>0</td>\n",
       "      <td>0</td>\n",
       "      <td>0</td>\n",
       "      <td>0</td>\n",
       "      <td>0</td>\n",
       "      <td>0</td>\n",
       "      <td>0</td>\n",
       "      <td>0</td>\n",
       "      <td>0</td>\n",
       "      <td>0</td>\n",
       "    </tr>\n",
       "    <tr>\n",
       "      <th>100002</th>\n",
       "      <td>0</td>\n",
       "      <td>0</td>\n",
       "      <td>1</td>\n",
       "      <td>0</td>\n",
       "      <td>0</td>\n",
       "      <td>0</td>\n",
       "      <td>1</td>\n",
       "      <td>5</td>\n",
       "      <td>2</td>\n",
       "      <td>24</td>\n",
       "      <td>...</td>\n",
       "      <td>1</td>\n",
       "      <td>7</td>\n",
       "      <td>1</td>\n",
       "      <td>113</td>\n",
       "      <td>0</td>\n",
       "      <td>0</td>\n",
       "      <td>0</td>\n",
       "      <td>1</td>\n",
       "      <td>2</td>\n",
       "      <td>5</td>\n",
       "    </tr>\n",
       "    <tr>\n",
       "      <th>100003</th>\n",
       "      <td>0</td>\n",
       "      <td>6</td>\n",
       "      <td>6</td>\n",
       "      <td>0</td>\n",
       "      <td>0</td>\n",
       "      <td>1</td>\n",
       "      <td>1</td>\n",
       "      <td>10</td>\n",
       "      <td>4</td>\n",
       "      <td>231</td>\n",
       "      <td>...</td>\n",
       "      <td>2</td>\n",
       "      <td>21</td>\n",
       "      <td>8</td>\n",
       "      <td>430</td>\n",
       "      <td>4</td>\n",
       "      <td>1</td>\n",
       "      <td>3</td>\n",
       "      <td>0</td>\n",
       "      <td>3</td>\n",
       "      <td>10</td>\n",
       "    </tr>\n",
       "    <tr>\n",
       "      <th>...</th>\n",
       "      <td>...</td>\n",
       "      <td>...</td>\n",
       "      <td>...</td>\n",
       "      <td>...</td>\n",
       "      <td>...</td>\n",
       "      <td>...</td>\n",
       "      <td>...</td>\n",
       "      <td>...</td>\n",
       "      <td>...</td>\n",
       "      <td>...</td>\n",
       "      <td>...</td>\n",
       "      <td>...</td>\n",
       "      <td>...</td>\n",
       "      <td>...</td>\n",
       "      <td>...</td>\n",
       "      <td>...</td>\n",
       "      <td>...</td>\n",
       "      <td>...</td>\n",
       "      <td>...</td>\n",
       "      <td>...</td>\n",
       "      <td>...</td>\n",
       "    </tr>\n",
       "    <tr>\n",
       "      <th>95</th>\n",
       "      <td>0</td>\n",
       "      <td>0</td>\n",
       "      <td>0</td>\n",
       "      <td>0</td>\n",
       "      <td>0</td>\n",
       "      <td>0</td>\n",
       "      <td>0</td>\n",
       "      <td>0</td>\n",
       "      <td>0</td>\n",
       "      <td>0</td>\n",
       "      <td>...</td>\n",
       "      <td>11</td>\n",
       "      <td>81</td>\n",
       "      <td>17</td>\n",
       "      <td>2062</td>\n",
       "      <td>4</td>\n",
       "      <td>5</td>\n",
       "      <td>16</td>\n",
       "      <td>0</td>\n",
       "      <td>21</td>\n",
       "      <td>122</td>\n",
       "    </tr>\n",
       "    <tr>\n",
       "      <th>96</th>\n",
       "      <td>0</td>\n",
       "      <td>0</td>\n",
       "      <td>0</td>\n",
       "      <td>0</td>\n",
       "      <td>0</td>\n",
       "      <td>0</td>\n",
       "      <td>0</td>\n",
       "      <td>0</td>\n",
       "      <td>0</td>\n",
       "      <td>0</td>\n",
       "      <td>...</td>\n",
       "      <td>11</td>\n",
       "      <td>84</td>\n",
       "      <td>29</td>\n",
       "      <td>1950</td>\n",
       "      <td>3</td>\n",
       "      <td>3</td>\n",
       "      <td>8</td>\n",
       "      <td>0</td>\n",
       "      <td>20</td>\n",
       "      <td>78</td>\n",
       "    </tr>\n",
       "    <tr>\n",
       "      <th>97</th>\n",
       "      <td>6</td>\n",
       "      <td>23</td>\n",
       "      <td>31</td>\n",
       "      <td>0</td>\n",
       "      <td>0</td>\n",
       "      <td>2</td>\n",
       "      <td>9</td>\n",
       "      <td>73</td>\n",
       "      <td>17</td>\n",
       "      <td>1148</td>\n",
       "      <td>...</td>\n",
       "      <td>1</td>\n",
       "      <td>2</td>\n",
       "      <td>0</td>\n",
       "      <td>55</td>\n",
       "      <td>0</td>\n",
       "      <td>0</td>\n",
       "      <td>0</td>\n",
       "      <td>0</td>\n",
       "      <td>1</td>\n",
       "      <td>4</td>\n",
       "    </tr>\n",
       "    <tr>\n",
       "      <th>98</th>\n",
       "      <td>0</td>\n",
       "      <td>2</td>\n",
       "      <td>2</td>\n",
       "      <td>0</td>\n",
       "      <td>0</td>\n",
       "      <td>0</td>\n",
       "      <td>1</td>\n",
       "      <td>5</td>\n",
       "      <td>2</td>\n",
       "      <td>39</td>\n",
       "      <td>...</td>\n",
       "      <td>17</td>\n",
       "      <td>104</td>\n",
       "      <td>32</td>\n",
       "      <td>2648</td>\n",
       "      <td>4</td>\n",
       "      <td>7</td>\n",
       "      <td>16</td>\n",
       "      <td>0</td>\n",
       "      <td>31</td>\n",
       "      <td>129</td>\n",
       "    </tr>\n",
       "    <tr>\n",
       "      <th>99</th>\n",
       "      <td>1</td>\n",
       "      <td>14</td>\n",
       "      <td>6</td>\n",
       "      <td>0</td>\n",
       "      <td>0</td>\n",
       "      <td>0</td>\n",
       "      <td>3</td>\n",
       "      <td>14</td>\n",
       "      <td>6</td>\n",
       "      <td>342</td>\n",
       "      <td>...</td>\n",
       "      <td>2</td>\n",
       "      <td>19</td>\n",
       "      <td>3</td>\n",
       "      <td>670</td>\n",
       "      <td>0</td>\n",
       "      <td>0</td>\n",
       "      <td>4</td>\n",
       "      <td>1</td>\n",
       "      <td>6</td>\n",
       "      <td>27</td>\n",
       "    </tr>\n",
       "  </tbody>\n",
       "</table>\n",
       "<p>448 rows × 34 columns</p>\n",
       "</div>"
      ],
      "text/plain": [
       "                index                                                   \\\n",
       "level_page free About free Add Friend free Add to Playlist free Cancel   \n",
       "userId                                                                   \n",
       "10                  0               0                    0           0   \n",
       "100                 0               0                    2           0   \n",
       "100001              1               1                    3           1   \n",
       "100002              0               0                    1           0   \n",
       "100003              0               6                    6           0   \n",
       "...               ...             ...                  ...         ...   \n",
       "95                  0               0                    0           0   \n",
       "96                  0               0                    0           0   \n",
       "97                  6              23                   31           0   \n",
       "98                  0               2                    2           0   \n",
       "99                  1              14                    6           0   \n",
       "\n",
       "                                                                          \\\n",
       "level_page free Cancellation Confirmation free Error free Help free Home   \n",
       "userId                                                                     \n",
       "10                                      0          0         0         0   \n",
       "100                                     0          0         0         3   \n",
       "100001                                  1          0         1         4   \n",
       "100002                                  0          0         1         5   \n",
       "100003                                  0          1         1        10   \n",
       "...                                   ...        ...       ...       ...   \n",
       "95                                      0          0         0         0   \n",
       "96                                      0          0         0         0   \n",
       "97                                      0          2         9        73   \n",
       "98                                      0          0         1         5   \n",
       "99                                      0          0         3        14   \n",
       "\n",
       "                                      ...                                  \\\n",
       "level_page free Logout free NextSong  ... paid Help paid Home paid Logout   \n",
       "userId                                ...                                   \n",
       "10                   0             0  ...         3        15           4   \n",
       "100                  1            46  ...        17       132          35   \n",
       "100001               2            96  ...         0         0           0   \n",
       "100002               2            24  ...         1         7           1   \n",
       "100003               4           231  ...         2        21           8   \n",
       "...                ...           ...  ...       ...       ...         ...   \n",
       "95                   0             0  ...        11        81          17   \n",
       "96                   0             0  ...        11        84          29   \n",
       "97                  17          1148  ...         1         2           0   \n",
       "98                   2            39  ...        17       104          32   \n",
       "99                   6           342  ...         2        19           3   \n",
       "\n",
       "                                                                            \\\n",
       "level_page paid NextSong paid Roll Advert paid Save Settings paid Settings   \n",
       "userId                                                                       \n",
       "10                   360                0                  0             2   \n",
       "100                 3336                3                  2            17   \n",
       "100001                 0                0                  0             0   \n",
       "100002               113                0                  0             0   \n",
       "100003               430                4                  1             3   \n",
       "...                  ...              ...                ...           ...   \n",
       "95                  2062                4                  5            16   \n",
       "96                  1950                3                  3             8   \n",
       "97                    55                0                  0             0   \n",
       "98                  2648                4                  7            16   \n",
       "99                   670                0                  0             4   \n",
       "\n",
       "                                                                  \n",
       "level_page paid Submit Downgrade paid Thumbs Down paid Thumbs Up  \n",
       "userId                                                            \n",
       "10                             0                1             17  \n",
       "100                            0               37            142  \n",
       "100001                         0                0              0  \n",
       "100002                         1                2              5  \n",
       "100003                         0                3             10  \n",
       "...                          ...              ...            ...  \n",
       "95                             0               21            122  \n",
       "96                             0               20             78  \n",
       "97                             0                1              4  \n",
       "98                             0               31            129  \n",
       "99                             1                6             27  \n",
       "\n",
       "[448 rows x 34 columns]"
      ]
     },
     "execution_count": 68,
     "metadata": {},
     "output_type": "execute_result"
    }
   ],
   "source": [
    "ndf = df2.pivot_table(index='userId', columns='level_page', \n",
    "                        aggfunc=len, fill_value=0)\n",
    "ndf"
   ]
  },
  {
   "cell_type": "code",
   "execution_count": 69,
   "metadata": {
    "execution": {
     "iopub.execute_input": "2021-02-01T19:13:19.489966Z",
     "iopub.status.busy": "2021-02-01T19:13:19.484140Z",
     "iopub.status.idle": "2021-02-01T19:13:19.510649Z",
     "shell.execute_reply": "2021-02-01T19:13:19.510077Z"
    },
    "papermill": {
     "duration": 0.209334,
     "end_time": "2021-02-01T19:13:19.510790",
     "exception": false,
     "start_time": "2021-02-01T19:13:19.301456",
     "status": "completed"
    },
    "tags": []
   },
   "outputs": [
    {
     "data": {
      "text/html": [
       "<div>\n",
       "<style scoped>\n",
       "    .dataframe tbody tr th:only-of-type {\n",
       "        vertical-align: middle;\n",
       "    }\n",
       "\n",
       "    .dataframe tbody tr th {\n",
       "        vertical-align: top;\n",
       "    }\n",
       "\n",
       "    .dataframe thead tr th {\n",
       "        text-align: left;\n",
       "    }\n",
       "</style>\n",
       "<table border=\"1\" class=\"dataframe\">\n",
       "  <thead>\n",
       "    <tr>\n",
       "      <th></th>\n",
       "      <th>userId</th>\n",
       "      <th colspan=\"20\" halign=\"left\">index</th>\n",
       "    </tr>\n",
       "    <tr>\n",
       "      <th>level_page</th>\n",
       "      <th></th>\n",
       "      <th>free About</th>\n",
       "      <th>free Add Friend</th>\n",
       "      <th>free Add to Playlist</th>\n",
       "      <th>free Cancel</th>\n",
       "      <th>free Cancellation Confirmation</th>\n",
       "      <th>free Error</th>\n",
       "      <th>free Help</th>\n",
       "      <th>free Home</th>\n",
       "      <th>free Logout</th>\n",
       "      <th>...</th>\n",
       "      <th>paid Help</th>\n",
       "      <th>paid Home</th>\n",
       "      <th>paid Logout</th>\n",
       "      <th>paid NextSong</th>\n",
       "      <th>paid Roll Advert</th>\n",
       "      <th>paid Save Settings</th>\n",
       "      <th>paid Settings</th>\n",
       "      <th>paid Submit Downgrade</th>\n",
       "      <th>paid Thumbs Down</th>\n",
       "      <th>paid Thumbs Up</th>\n",
       "    </tr>\n",
       "  </thead>\n",
       "  <tbody>\n",
       "    <tr>\n",
       "      <th>0</th>\n",
       "      <td>10</td>\n",
       "      <td>0</td>\n",
       "      <td>0</td>\n",
       "      <td>0</td>\n",
       "      <td>0</td>\n",
       "      <td>0</td>\n",
       "      <td>0</td>\n",
       "      <td>0</td>\n",
       "      <td>0</td>\n",
       "      <td>0</td>\n",
       "      <td>...</td>\n",
       "      <td>3</td>\n",
       "      <td>15</td>\n",
       "      <td>4</td>\n",
       "      <td>360</td>\n",
       "      <td>0</td>\n",
       "      <td>0</td>\n",
       "      <td>2</td>\n",
       "      <td>0</td>\n",
       "      <td>1</td>\n",
       "      <td>17</td>\n",
       "    </tr>\n",
       "    <tr>\n",
       "      <th>1</th>\n",
       "      <td>100</td>\n",
       "      <td>0</td>\n",
       "      <td>0</td>\n",
       "      <td>2</td>\n",
       "      <td>0</td>\n",
       "      <td>0</td>\n",
       "      <td>0</td>\n",
       "      <td>0</td>\n",
       "      <td>3</td>\n",
       "      <td>1</td>\n",
       "      <td>...</td>\n",
       "      <td>17</td>\n",
       "      <td>132</td>\n",
       "      <td>35</td>\n",
       "      <td>3336</td>\n",
       "      <td>3</td>\n",
       "      <td>2</td>\n",
       "      <td>17</td>\n",
       "      <td>0</td>\n",
       "      <td>37</td>\n",
       "      <td>142</td>\n",
       "    </tr>\n",
       "    <tr>\n",
       "      <th>2</th>\n",
       "      <td>100001</td>\n",
       "      <td>1</td>\n",
       "      <td>1</td>\n",
       "      <td>3</td>\n",
       "      <td>1</td>\n",
       "      <td>1</td>\n",
       "      <td>0</td>\n",
       "      <td>1</td>\n",
       "      <td>4</td>\n",
       "      <td>2</td>\n",
       "      <td>...</td>\n",
       "      <td>0</td>\n",
       "      <td>0</td>\n",
       "      <td>0</td>\n",
       "      <td>0</td>\n",
       "      <td>0</td>\n",
       "      <td>0</td>\n",
       "      <td>0</td>\n",
       "      <td>0</td>\n",
       "      <td>0</td>\n",
       "      <td>0</td>\n",
       "    </tr>\n",
       "    <tr>\n",
       "      <th>3</th>\n",
       "      <td>100002</td>\n",
       "      <td>0</td>\n",
       "      <td>0</td>\n",
       "      <td>1</td>\n",
       "      <td>0</td>\n",
       "      <td>0</td>\n",
       "      <td>0</td>\n",
       "      <td>1</td>\n",
       "      <td>5</td>\n",
       "      <td>2</td>\n",
       "      <td>...</td>\n",
       "      <td>1</td>\n",
       "      <td>7</td>\n",
       "      <td>1</td>\n",
       "      <td>113</td>\n",
       "      <td>0</td>\n",
       "      <td>0</td>\n",
       "      <td>0</td>\n",
       "      <td>1</td>\n",
       "      <td>2</td>\n",
       "      <td>5</td>\n",
       "    </tr>\n",
       "    <tr>\n",
       "      <th>4</th>\n",
       "      <td>100003</td>\n",
       "      <td>0</td>\n",
       "      <td>6</td>\n",
       "      <td>6</td>\n",
       "      <td>0</td>\n",
       "      <td>0</td>\n",
       "      <td>1</td>\n",
       "      <td>1</td>\n",
       "      <td>10</td>\n",
       "      <td>4</td>\n",
       "      <td>...</td>\n",
       "      <td>2</td>\n",
       "      <td>21</td>\n",
       "      <td>8</td>\n",
       "      <td>430</td>\n",
       "      <td>4</td>\n",
       "      <td>1</td>\n",
       "      <td>3</td>\n",
       "      <td>0</td>\n",
       "      <td>3</td>\n",
       "      <td>10</td>\n",
       "    </tr>\n",
       "    <tr>\n",
       "      <th>...</th>\n",
       "      <td>...</td>\n",
       "      <td>...</td>\n",
       "      <td>...</td>\n",
       "      <td>...</td>\n",
       "      <td>...</td>\n",
       "      <td>...</td>\n",
       "      <td>...</td>\n",
       "      <td>...</td>\n",
       "      <td>...</td>\n",
       "      <td>...</td>\n",
       "      <td>...</td>\n",
       "      <td>...</td>\n",
       "      <td>...</td>\n",
       "      <td>...</td>\n",
       "      <td>...</td>\n",
       "      <td>...</td>\n",
       "      <td>...</td>\n",
       "      <td>...</td>\n",
       "      <td>...</td>\n",
       "      <td>...</td>\n",
       "      <td>...</td>\n",
       "    </tr>\n",
       "    <tr>\n",
       "      <th>443</th>\n",
       "      <td>95</td>\n",
       "      <td>0</td>\n",
       "      <td>0</td>\n",
       "      <td>0</td>\n",
       "      <td>0</td>\n",
       "      <td>0</td>\n",
       "      <td>0</td>\n",
       "      <td>0</td>\n",
       "      <td>0</td>\n",
       "      <td>0</td>\n",
       "      <td>...</td>\n",
       "      <td>11</td>\n",
       "      <td>81</td>\n",
       "      <td>17</td>\n",
       "      <td>2062</td>\n",
       "      <td>4</td>\n",
       "      <td>5</td>\n",
       "      <td>16</td>\n",
       "      <td>0</td>\n",
       "      <td>21</td>\n",
       "      <td>122</td>\n",
       "    </tr>\n",
       "    <tr>\n",
       "      <th>444</th>\n",
       "      <td>96</td>\n",
       "      <td>0</td>\n",
       "      <td>0</td>\n",
       "      <td>0</td>\n",
       "      <td>0</td>\n",
       "      <td>0</td>\n",
       "      <td>0</td>\n",
       "      <td>0</td>\n",
       "      <td>0</td>\n",
       "      <td>0</td>\n",
       "      <td>...</td>\n",
       "      <td>11</td>\n",
       "      <td>84</td>\n",
       "      <td>29</td>\n",
       "      <td>1950</td>\n",
       "      <td>3</td>\n",
       "      <td>3</td>\n",
       "      <td>8</td>\n",
       "      <td>0</td>\n",
       "      <td>20</td>\n",
       "      <td>78</td>\n",
       "    </tr>\n",
       "    <tr>\n",
       "      <th>445</th>\n",
       "      <td>97</td>\n",
       "      <td>6</td>\n",
       "      <td>23</td>\n",
       "      <td>31</td>\n",
       "      <td>0</td>\n",
       "      <td>0</td>\n",
       "      <td>2</td>\n",
       "      <td>9</td>\n",
       "      <td>73</td>\n",
       "      <td>17</td>\n",
       "      <td>...</td>\n",
       "      <td>1</td>\n",
       "      <td>2</td>\n",
       "      <td>0</td>\n",
       "      <td>55</td>\n",
       "      <td>0</td>\n",
       "      <td>0</td>\n",
       "      <td>0</td>\n",
       "      <td>0</td>\n",
       "      <td>1</td>\n",
       "      <td>4</td>\n",
       "    </tr>\n",
       "    <tr>\n",
       "      <th>446</th>\n",
       "      <td>98</td>\n",
       "      <td>0</td>\n",
       "      <td>2</td>\n",
       "      <td>2</td>\n",
       "      <td>0</td>\n",
       "      <td>0</td>\n",
       "      <td>0</td>\n",
       "      <td>1</td>\n",
       "      <td>5</td>\n",
       "      <td>2</td>\n",
       "      <td>...</td>\n",
       "      <td>17</td>\n",
       "      <td>104</td>\n",
       "      <td>32</td>\n",
       "      <td>2648</td>\n",
       "      <td>4</td>\n",
       "      <td>7</td>\n",
       "      <td>16</td>\n",
       "      <td>0</td>\n",
       "      <td>31</td>\n",
       "      <td>129</td>\n",
       "    </tr>\n",
       "    <tr>\n",
       "      <th>447</th>\n",
       "      <td>99</td>\n",
       "      <td>1</td>\n",
       "      <td>14</td>\n",
       "      <td>6</td>\n",
       "      <td>0</td>\n",
       "      <td>0</td>\n",
       "      <td>0</td>\n",
       "      <td>3</td>\n",
       "      <td>14</td>\n",
       "      <td>6</td>\n",
       "      <td>...</td>\n",
       "      <td>2</td>\n",
       "      <td>19</td>\n",
       "      <td>3</td>\n",
       "      <td>670</td>\n",
       "      <td>0</td>\n",
       "      <td>0</td>\n",
       "      <td>4</td>\n",
       "      <td>1</td>\n",
       "      <td>6</td>\n",
       "      <td>27</td>\n",
       "    </tr>\n",
       "  </tbody>\n",
       "</table>\n",
       "<p>448 rows × 35 columns</p>\n",
       "</div>"
      ],
      "text/plain": [
       "            userId      index                                       \\\n",
       "level_page         free About free Add Friend free Add to Playlist   \n",
       "0               10          0               0                    0   \n",
       "1              100          0               0                    2   \n",
       "2           100001          1               1                    3   \n",
       "3           100002          0               0                    1   \n",
       "4           100003          0               6                    6   \n",
       "..             ...        ...             ...                  ...   \n",
       "443             95          0               0                    0   \n",
       "444             96          0               0                    0   \n",
       "445             97          6              23                   31   \n",
       "446             98          0               2                    2   \n",
       "447             99          1              14                    6   \n",
       "\n",
       "                                                                            \\\n",
       "level_page free Cancel free Cancellation Confirmation free Error free Help   \n",
       "0                    0                              0          0         0   \n",
       "1                    0                              0          0         0   \n",
       "2                    1                              1          0         1   \n",
       "3                    0                              0          0         1   \n",
       "4                    0                              0          1         1   \n",
       "..                 ...                            ...        ...       ...   \n",
       "443                  0                              0          0         0   \n",
       "444                  0                              0          0         0   \n",
       "445                  0                              0          2         9   \n",
       "446                  0                              0          0         1   \n",
       "447                  0                              0          0         3   \n",
       "\n",
       "                                  ...                                  \\\n",
       "level_page free Home free Logout  ... paid Help paid Home paid Logout   \n",
       "0                  0           0  ...         3        15           4   \n",
       "1                  3           1  ...        17       132          35   \n",
       "2                  4           2  ...         0         0           0   \n",
       "3                  5           2  ...         1         7           1   \n",
       "4                 10           4  ...         2        21           8   \n",
       "..               ...         ...  ...       ...       ...         ...   \n",
       "443                0           0  ...        11        81          17   \n",
       "444                0           0  ...        11        84          29   \n",
       "445               73          17  ...         1         2           0   \n",
       "446                5           2  ...        17       104          32   \n",
       "447               14           6  ...         2        19           3   \n",
       "\n",
       "                                                                            \\\n",
       "level_page paid NextSong paid Roll Advert paid Save Settings paid Settings   \n",
       "0                    360                0                  0             2   \n",
       "1                   3336                3                  2            17   \n",
       "2                      0                0                  0             0   \n",
       "3                    113                0                  0             0   \n",
       "4                    430                4                  1             3   \n",
       "..                   ...              ...                ...           ...   \n",
       "443                 2062                4                  5            16   \n",
       "444                 1950                3                  3             8   \n",
       "445                   55                0                  0             0   \n",
       "446                 2648                4                  7            16   \n",
       "447                  670                0                  0             4   \n",
       "\n",
       "                                                                  \n",
       "level_page paid Submit Downgrade paid Thumbs Down paid Thumbs Up  \n",
       "0                              0                1             17  \n",
       "1                              0               37            142  \n",
       "2                              0                0              0  \n",
       "3                              1                2              5  \n",
       "4                              0                3             10  \n",
       "..                           ...              ...            ...  \n",
       "443                            0               21            122  \n",
       "444                            0               20             78  \n",
       "445                            0                1              4  \n",
       "446                            0               31            129  \n",
       "447                            1                6             27  \n",
       "\n",
       "[448 rows x 35 columns]"
      ]
     },
     "execution_count": 69,
     "metadata": {},
     "output_type": "execute_result"
    }
   ],
   "source": [
    "ndf.reset_index(level=0, inplace=True)\n",
    "ndf #level_page is index (not counted as column, but shows up as column)"
   ]
  },
  {
   "cell_type": "code",
   "execution_count": 70,
   "metadata": {
    "execution": {
     "iopub.execute_input": "2021-02-01T19:13:19.850179Z",
     "iopub.status.busy": "2021-02-01T19:13:19.849366Z",
     "iopub.status.idle": "2021-02-01T19:13:20.211401Z",
     "shell.execute_reply": "2021-02-01T19:13:20.210209Z"
    },
    "papermill": {
     "duration": 0.536713,
     "end_time": "2021-02-01T19:13:20.211557",
     "exception": false,
     "start_time": "2021-02-01T19:13:19.674844",
     "status": "completed"
    },
    "tags": []
   },
   "outputs": [
    {
     "ename": "KeyError",
     "evalue": "'free Cancellation Confirmation'",
     "output_type": "error",
     "traceback": [
      "\u001b[0;31m---------------------------------------------------------------------------\u001b[0m",
      "\u001b[0;31mKeyError\u001b[0m                                  Traceback (most recent call last)",
      "\u001b[0;32m/opt/conda/lib/python3.7/site-packages/pandas/core/indexes/base.py\u001b[0m in \u001b[0;36mget_loc\u001b[0;34m(self, key, method, tolerance)\u001b[0m\n\u001b[1;32m   2897\u001b[0m             \u001b[0;32mtry\u001b[0m\u001b[0;34m:\u001b[0m\u001b[0;34m\u001b[0m\u001b[0;34m\u001b[0m\u001b[0m\n\u001b[0;32m-> 2898\u001b[0;31m                 \u001b[0;32mreturn\u001b[0m \u001b[0mself\u001b[0m\u001b[0;34m.\u001b[0m\u001b[0m_engine\u001b[0m\u001b[0;34m.\u001b[0m\u001b[0mget_loc\u001b[0m\u001b[0;34m(\u001b[0m\u001b[0mcasted_key\u001b[0m\u001b[0;34m)\u001b[0m\u001b[0;34m\u001b[0m\u001b[0;34m\u001b[0m\u001b[0m\n\u001b[0m\u001b[1;32m   2899\u001b[0m             \u001b[0;32mexcept\u001b[0m \u001b[0mKeyError\u001b[0m \u001b[0;32mas\u001b[0m \u001b[0merr\u001b[0m\u001b[0;34m:\u001b[0m\u001b[0;34m\u001b[0m\u001b[0;34m\u001b[0m\u001b[0m\n",
      "\u001b[0;32mpandas/_libs/index.pyx\u001b[0m in \u001b[0;36mpandas._libs.index.IndexEngine.get_loc\u001b[0;34m()\u001b[0m\n",
      "\u001b[0;32mpandas/_libs/index.pyx\u001b[0m in \u001b[0;36mpandas._libs.index.IndexEngine.get_loc\u001b[0;34m()\u001b[0m\n",
      "\u001b[0;32mpandas/_libs/hashtable_class_helper.pxi\u001b[0m in \u001b[0;36mpandas._libs.hashtable.PyObjectHashTable.get_item\u001b[0;34m()\u001b[0m\n",
      "\u001b[0;32mpandas/_libs/hashtable_class_helper.pxi\u001b[0m in \u001b[0;36mpandas._libs.hashtable.PyObjectHashTable.get_item\u001b[0;34m()\u001b[0m\n",
      "\u001b[0;31mKeyError\u001b[0m: 'free Cancellation Confirmation'",
      "\nThe above exception was the direct cause of the following exception:\n",
      "\u001b[0;31mKeyError\u001b[0m                                  Traceback (most recent call last)",
      "\u001b[0;32m<ipython-input-70-dfc695f6dc7d>\u001b[0m in \u001b[0;36m<module>\u001b[0;34m\u001b[0m\n\u001b[1;32m      6\u001b[0m         \u001b[0;32mreturn\u001b[0m \u001b[0;36m0\u001b[0m\u001b[0;34m\u001b[0m\u001b[0;34m\u001b[0m\u001b[0m\n\u001b[1;32m      7\u001b[0m \u001b[0;34m\u001b[0m\u001b[0m\n\u001b[0;32m----> 8\u001b[0;31m \u001b[0mndf\u001b[0m\u001b[0;34m[\u001b[0m\u001b[0;34m'churn'\u001b[0m\u001b[0;34m]\u001b[0m \u001b[0;34m=\u001b[0m \u001b[0mndf\u001b[0m\u001b[0;34m.\u001b[0m\u001b[0mapply\u001b[0m\u001b[0;34m(\u001b[0m\u001b[0mchurn2\u001b[0m\u001b[0;34m,\u001b[0m \u001b[0maxis\u001b[0m\u001b[0;34m=\u001b[0m\u001b[0;36m1\u001b[0m\u001b[0;34m)\u001b[0m\u001b[0;34m\u001b[0m\u001b[0;34m\u001b[0m\u001b[0m\n\u001b[0m",
      "\u001b[0;32m/opt/conda/lib/python3.7/site-packages/pandas/core/frame.py\u001b[0m in \u001b[0;36mapply\u001b[0;34m(self, func, axis, raw, result_type, args, **kwds)\u001b[0m\n\u001b[1;32m   7550\u001b[0m             \u001b[0mkwds\u001b[0m\u001b[0;34m=\u001b[0m\u001b[0mkwds\u001b[0m\u001b[0;34m,\u001b[0m\u001b[0;34m\u001b[0m\u001b[0;34m\u001b[0m\u001b[0m\n\u001b[1;32m   7551\u001b[0m         )\n\u001b[0;32m-> 7552\u001b[0;31m         \u001b[0;32mreturn\u001b[0m \u001b[0mop\u001b[0m\u001b[0;34m.\u001b[0m\u001b[0mget_result\u001b[0m\u001b[0;34m(\u001b[0m\u001b[0;34m)\u001b[0m\u001b[0;34m\u001b[0m\u001b[0;34m\u001b[0m\u001b[0m\n\u001b[0m\u001b[1;32m   7553\u001b[0m \u001b[0;34m\u001b[0m\u001b[0m\n\u001b[1;32m   7554\u001b[0m     \u001b[0;32mdef\u001b[0m \u001b[0mapplymap\u001b[0m\u001b[0;34m(\u001b[0m\u001b[0mself\u001b[0m\u001b[0;34m,\u001b[0m \u001b[0mfunc\u001b[0m\u001b[0;34m)\u001b[0m \u001b[0;34m->\u001b[0m \u001b[0;34m\"DataFrame\"\u001b[0m\u001b[0;34m:\u001b[0m\u001b[0;34m\u001b[0m\u001b[0;34m\u001b[0m\u001b[0m\n",
      "\u001b[0;32m/opt/conda/lib/python3.7/site-packages/pandas/core/apply.py\u001b[0m in \u001b[0;36mget_result\u001b[0;34m(self)\u001b[0m\n\u001b[1;32m    183\u001b[0m             \u001b[0;32mreturn\u001b[0m \u001b[0mself\u001b[0m\u001b[0;34m.\u001b[0m\u001b[0mapply_raw\u001b[0m\u001b[0;34m(\u001b[0m\u001b[0;34m)\u001b[0m\u001b[0;34m\u001b[0m\u001b[0;34m\u001b[0m\u001b[0m\n\u001b[1;32m    184\u001b[0m \u001b[0;34m\u001b[0m\u001b[0m\n\u001b[0;32m--> 185\u001b[0;31m         \u001b[0;32mreturn\u001b[0m \u001b[0mself\u001b[0m\u001b[0;34m.\u001b[0m\u001b[0mapply_standard\u001b[0m\u001b[0;34m(\u001b[0m\u001b[0;34m)\u001b[0m\u001b[0;34m\u001b[0m\u001b[0;34m\u001b[0m\u001b[0m\n\u001b[0m\u001b[1;32m    186\u001b[0m \u001b[0;34m\u001b[0m\u001b[0m\n\u001b[1;32m    187\u001b[0m     \u001b[0;32mdef\u001b[0m \u001b[0mapply_empty_result\u001b[0m\u001b[0;34m(\u001b[0m\u001b[0mself\u001b[0m\u001b[0;34m)\u001b[0m\u001b[0;34m:\u001b[0m\u001b[0;34m\u001b[0m\u001b[0;34m\u001b[0m\u001b[0m\n",
      "\u001b[0;32m/opt/conda/lib/python3.7/site-packages/pandas/core/apply.py\u001b[0m in \u001b[0;36mapply_standard\u001b[0;34m(self)\u001b[0m\n\u001b[1;32m    274\u001b[0m \u001b[0;34m\u001b[0m\u001b[0m\n\u001b[1;32m    275\u001b[0m     \u001b[0;32mdef\u001b[0m \u001b[0mapply_standard\u001b[0m\u001b[0;34m(\u001b[0m\u001b[0mself\u001b[0m\u001b[0;34m)\u001b[0m\u001b[0;34m:\u001b[0m\u001b[0;34m\u001b[0m\u001b[0;34m\u001b[0m\u001b[0m\n\u001b[0;32m--> 276\u001b[0;31m         \u001b[0mresults\u001b[0m\u001b[0;34m,\u001b[0m \u001b[0mres_index\u001b[0m \u001b[0;34m=\u001b[0m \u001b[0mself\u001b[0m\u001b[0;34m.\u001b[0m\u001b[0mapply_series_generator\u001b[0m\u001b[0;34m(\u001b[0m\u001b[0;34m)\u001b[0m\u001b[0;34m\u001b[0m\u001b[0;34m\u001b[0m\u001b[0m\n\u001b[0m\u001b[1;32m    277\u001b[0m \u001b[0;34m\u001b[0m\u001b[0m\n\u001b[1;32m    278\u001b[0m         \u001b[0;31m# wrap results\u001b[0m\u001b[0;34m\u001b[0m\u001b[0;34m\u001b[0m\u001b[0;34m\u001b[0m\u001b[0m\n",
      "\u001b[0;32m/opt/conda/lib/python3.7/site-packages/pandas/core/apply.py\u001b[0m in \u001b[0;36mapply_series_generator\u001b[0;34m(self)\u001b[0m\n\u001b[1;32m    303\u001b[0m                 \u001b[0;32mfor\u001b[0m \u001b[0mi\u001b[0m\u001b[0;34m,\u001b[0m \u001b[0mv\u001b[0m \u001b[0;32min\u001b[0m \u001b[0menumerate\u001b[0m\u001b[0;34m(\u001b[0m\u001b[0mseries_gen\u001b[0m\u001b[0;34m)\u001b[0m\u001b[0;34m:\u001b[0m\u001b[0;34m\u001b[0m\u001b[0;34m\u001b[0m\u001b[0m\n\u001b[1;32m    304\u001b[0m                     \u001b[0;31m# ignore SettingWithCopy here in case the user mutates\u001b[0m\u001b[0;34m\u001b[0m\u001b[0;34m\u001b[0m\u001b[0;34m\u001b[0m\u001b[0m\n\u001b[0;32m--> 305\u001b[0;31m                     \u001b[0mresults\u001b[0m\u001b[0;34m[\u001b[0m\u001b[0mi\u001b[0m\u001b[0;34m]\u001b[0m \u001b[0;34m=\u001b[0m \u001b[0mself\u001b[0m\u001b[0;34m.\u001b[0m\u001b[0mf\u001b[0m\u001b[0;34m(\u001b[0m\u001b[0mv\u001b[0m\u001b[0;34m)\u001b[0m\u001b[0;34m\u001b[0m\u001b[0;34m\u001b[0m\u001b[0m\n\u001b[0m\u001b[1;32m    306\u001b[0m                     \u001b[0;32mif\u001b[0m \u001b[0misinstance\u001b[0m\u001b[0;34m(\u001b[0m\u001b[0mresults\u001b[0m\u001b[0;34m[\u001b[0m\u001b[0mi\u001b[0m\u001b[0;34m]\u001b[0m\u001b[0;34m,\u001b[0m \u001b[0mABCSeries\u001b[0m\u001b[0;34m)\u001b[0m\u001b[0;34m:\u001b[0m\u001b[0;34m\u001b[0m\u001b[0;34m\u001b[0m\u001b[0m\n\u001b[1;32m    307\u001b[0m                         \u001b[0;31m# If we have a view on v, we need to make a copy because\u001b[0m\u001b[0;34m\u001b[0m\u001b[0;34m\u001b[0m\u001b[0;34m\u001b[0m\u001b[0m\n",
      "\u001b[0;32m<ipython-input-70-dfc695f6dc7d>\u001b[0m in \u001b[0;36mchurn2\u001b[0;34m(row)\u001b[0m\n\u001b[1;32m      1\u001b[0m \u001b[0;31m#create churn target from 'free Cancellation Confirmation' and 'paid Cancellation Confirmation'\u001b[0m\u001b[0;34m\u001b[0m\u001b[0;34m\u001b[0m\u001b[0;34m\u001b[0m\u001b[0m\n\u001b[1;32m      2\u001b[0m \u001b[0;32mdef\u001b[0m \u001b[0mchurn2\u001b[0m\u001b[0;34m(\u001b[0m\u001b[0mrow\u001b[0m\u001b[0;34m)\u001b[0m\u001b[0;34m:\u001b[0m\u001b[0;34m\u001b[0m\u001b[0;34m\u001b[0m\u001b[0m\n\u001b[0;32m----> 3\u001b[0;31m     \u001b[0;32mif\u001b[0m \u001b[0;34m(\u001b[0m\u001b[0mrow\u001b[0m\u001b[0;34m[\u001b[0m\u001b[0;34m'free Cancellation Confirmation'\u001b[0m\u001b[0;34m]\u001b[0m \u001b[0;34m==\u001b[0m \u001b[0;36m1\u001b[0m\u001b[0;34m)\u001b[0m \u001b[0;34m|\u001b[0m \u001b[0;34m(\u001b[0m\u001b[0mrow\u001b[0m\u001b[0;34m[\u001b[0m\u001b[0;34m'paid Cancellation Confirmation'\u001b[0m\u001b[0;34m]\u001b[0m \u001b[0;34m==\u001b[0m \u001b[0;36m1\u001b[0m\u001b[0;34m)\u001b[0m \u001b[0;34m|\u001b[0m \u001b[0;34m(\u001b[0m\u001b[0mrow\u001b[0m\u001b[0;34m[\u001b[0m\u001b[0;34m'free Cancel'\u001b[0m\u001b[0;34m]\u001b[0m \u001b[0;34m==\u001b[0m \u001b[0;36m1\u001b[0m\u001b[0;34m)\u001b[0m \u001b[0;34m|\u001b[0m \u001b[0;34m(\u001b[0m\u001b[0mrow\u001b[0m\u001b[0;34m[\u001b[0m\u001b[0;34m'paid Cancel'\u001b[0m\u001b[0;34m]\u001b[0m \u001b[0;34m==\u001b[0m \u001b[0;36m1\u001b[0m\u001b[0;34m)\u001b[0m\u001b[0;34m:\u001b[0m\u001b[0;34m\u001b[0m\u001b[0;34m\u001b[0m\u001b[0m\n\u001b[0m\u001b[1;32m      4\u001b[0m         \u001b[0;32mreturn\u001b[0m \u001b[0;36m1\u001b[0m\u001b[0;34m\u001b[0m\u001b[0;34m\u001b[0m\u001b[0m\n\u001b[1;32m      5\u001b[0m     \u001b[0;32melse\u001b[0m\u001b[0;34m:\u001b[0m\u001b[0;34m\u001b[0m\u001b[0;34m\u001b[0m\u001b[0m\n",
      "\u001b[0;32m/opt/conda/lib/python3.7/site-packages/pandas/core/series.py\u001b[0m in \u001b[0;36m__getitem__\u001b[0;34m(self, key)\u001b[0m\n\u001b[1;32m    880\u001b[0m \u001b[0;34m\u001b[0m\u001b[0m\n\u001b[1;32m    881\u001b[0m         \u001b[0;32melif\u001b[0m \u001b[0mkey_is_scalar\u001b[0m\u001b[0;34m:\u001b[0m\u001b[0;34m\u001b[0m\u001b[0;34m\u001b[0m\u001b[0m\n\u001b[0;32m--> 882\u001b[0;31m             \u001b[0;32mreturn\u001b[0m \u001b[0mself\u001b[0m\u001b[0;34m.\u001b[0m\u001b[0m_get_value\u001b[0m\u001b[0;34m(\u001b[0m\u001b[0mkey\u001b[0m\u001b[0;34m)\u001b[0m\u001b[0;34m\u001b[0m\u001b[0;34m\u001b[0m\u001b[0m\n\u001b[0m\u001b[1;32m    883\u001b[0m \u001b[0;34m\u001b[0m\u001b[0m\n\u001b[1;32m    884\u001b[0m         \u001b[0;32mif\u001b[0m \u001b[0mis_hashable\u001b[0m\u001b[0;34m(\u001b[0m\u001b[0mkey\u001b[0m\u001b[0;34m)\u001b[0m\u001b[0;34m:\u001b[0m\u001b[0;34m\u001b[0m\u001b[0;34m\u001b[0m\u001b[0m\n",
      "\u001b[0;32m/opt/conda/lib/python3.7/site-packages/pandas/core/series.py\u001b[0m in \u001b[0;36m_get_value\u001b[0;34m(self, label, takeable)\u001b[0m\n\u001b[1;32m    988\u001b[0m \u001b[0;34m\u001b[0m\u001b[0m\n\u001b[1;32m    989\u001b[0m         \u001b[0;31m# Similar to Index.get_value, but we do not fall back to positional\u001b[0m\u001b[0;34m\u001b[0m\u001b[0;34m\u001b[0m\u001b[0;34m\u001b[0m\u001b[0m\n\u001b[0;32m--> 990\u001b[0;31m         \u001b[0mloc\u001b[0m \u001b[0;34m=\u001b[0m \u001b[0mself\u001b[0m\u001b[0;34m.\u001b[0m\u001b[0mindex\u001b[0m\u001b[0;34m.\u001b[0m\u001b[0mget_loc\u001b[0m\u001b[0;34m(\u001b[0m\u001b[0mlabel\u001b[0m\u001b[0;34m)\u001b[0m\u001b[0;34m\u001b[0m\u001b[0;34m\u001b[0m\u001b[0m\n\u001b[0m\u001b[1;32m    991\u001b[0m         \u001b[0;32mreturn\u001b[0m \u001b[0mself\u001b[0m\u001b[0;34m.\u001b[0m\u001b[0mindex\u001b[0m\u001b[0;34m.\u001b[0m\u001b[0m_get_values_for_loc\u001b[0m\u001b[0;34m(\u001b[0m\u001b[0mself\u001b[0m\u001b[0;34m,\u001b[0m \u001b[0mloc\u001b[0m\u001b[0;34m,\u001b[0m \u001b[0mlabel\u001b[0m\u001b[0;34m)\u001b[0m\u001b[0;34m\u001b[0m\u001b[0;34m\u001b[0m\u001b[0m\n\u001b[1;32m    992\u001b[0m \u001b[0;34m\u001b[0m\u001b[0m\n",
      "\u001b[0;32m/opt/conda/lib/python3.7/site-packages/pandas/core/indexes/multi.py\u001b[0m in \u001b[0;36mget_loc\u001b[0;34m(self, key, method)\u001b[0m\n\u001b[1;32m   2702\u001b[0m \u001b[0;34m\u001b[0m\u001b[0m\n\u001b[1;32m   2703\u001b[0m         \u001b[0;32mif\u001b[0m \u001b[0;32mnot\u001b[0m \u001b[0misinstance\u001b[0m\u001b[0;34m(\u001b[0m\u001b[0mkey\u001b[0m\u001b[0;34m,\u001b[0m \u001b[0mtuple\u001b[0m\u001b[0;34m)\u001b[0m\u001b[0;34m:\u001b[0m\u001b[0;34m\u001b[0m\u001b[0;34m\u001b[0m\u001b[0m\n\u001b[0;32m-> 2704\u001b[0;31m             \u001b[0mloc\u001b[0m \u001b[0;34m=\u001b[0m \u001b[0mself\u001b[0m\u001b[0;34m.\u001b[0m\u001b[0m_get_level_indexer\u001b[0m\u001b[0;34m(\u001b[0m\u001b[0mkey\u001b[0m\u001b[0;34m,\u001b[0m \u001b[0mlevel\u001b[0m\u001b[0;34m=\u001b[0m\u001b[0;36m0\u001b[0m\u001b[0;34m)\u001b[0m\u001b[0;34m\u001b[0m\u001b[0;34m\u001b[0m\u001b[0m\n\u001b[0m\u001b[1;32m   2705\u001b[0m             \u001b[0;32mreturn\u001b[0m \u001b[0m_maybe_to_slice\u001b[0m\u001b[0;34m(\u001b[0m\u001b[0mloc\u001b[0m\u001b[0;34m)\u001b[0m\u001b[0;34m\u001b[0m\u001b[0;34m\u001b[0m\u001b[0m\n\u001b[1;32m   2706\u001b[0m \u001b[0;34m\u001b[0m\u001b[0m\n",
      "\u001b[0;32m/opt/conda/lib/python3.7/site-packages/pandas/core/indexes/multi.py\u001b[0m in \u001b[0;36m_get_level_indexer\u001b[0;34m(self, key, level, indexer)\u001b[0m\n\u001b[1;32m   2967\u001b[0m         \u001b[0;32melse\u001b[0m\u001b[0;34m:\u001b[0m\u001b[0;34m\u001b[0m\u001b[0;34m\u001b[0m\u001b[0m\n\u001b[1;32m   2968\u001b[0m \u001b[0;34m\u001b[0m\u001b[0m\n\u001b[0;32m-> 2969\u001b[0;31m             \u001b[0mcode\u001b[0m \u001b[0;34m=\u001b[0m \u001b[0mself\u001b[0m\u001b[0;34m.\u001b[0m\u001b[0m_get_loc_single_level_index\u001b[0m\u001b[0;34m(\u001b[0m\u001b[0mlevel_index\u001b[0m\u001b[0;34m,\u001b[0m \u001b[0mkey\u001b[0m\u001b[0;34m)\u001b[0m\u001b[0;34m\u001b[0m\u001b[0;34m\u001b[0m\u001b[0m\n\u001b[0m\u001b[1;32m   2970\u001b[0m \u001b[0;34m\u001b[0m\u001b[0m\n\u001b[1;32m   2971\u001b[0m             \u001b[0;32mif\u001b[0m \u001b[0mlevel\u001b[0m \u001b[0;34m>\u001b[0m \u001b[0;36m0\u001b[0m \u001b[0;32mor\u001b[0m \u001b[0mself\u001b[0m\u001b[0;34m.\u001b[0m\u001b[0mlexsort_depth\u001b[0m \u001b[0;34m==\u001b[0m \u001b[0;36m0\u001b[0m\u001b[0;34m:\u001b[0m\u001b[0;34m\u001b[0m\u001b[0;34m\u001b[0m\u001b[0m\n",
      "\u001b[0;32m/opt/conda/lib/python3.7/site-packages/pandas/core/indexes/multi.py\u001b[0m in \u001b[0;36m_get_loc_single_level_index\u001b[0;34m(self, level_index, key)\u001b[0m\n\u001b[1;32m   2635\u001b[0m             \u001b[0;32mreturn\u001b[0m \u001b[0;34m-\u001b[0m\u001b[0;36m1\u001b[0m\u001b[0;34m\u001b[0m\u001b[0;34m\u001b[0m\u001b[0m\n\u001b[1;32m   2636\u001b[0m         \u001b[0;32melse\u001b[0m\u001b[0;34m:\u001b[0m\u001b[0;34m\u001b[0m\u001b[0;34m\u001b[0m\u001b[0m\n\u001b[0;32m-> 2637\u001b[0;31m             \u001b[0;32mreturn\u001b[0m \u001b[0mlevel_index\u001b[0m\u001b[0;34m.\u001b[0m\u001b[0mget_loc\u001b[0m\u001b[0;34m(\u001b[0m\u001b[0mkey\u001b[0m\u001b[0;34m)\u001b[0m\u001b[0;34m\u001b[0m\u001b[0;34m\u001b[0m\u001b[0m\n\u001b[0m\u001b[1;32m   2638\u001b[0m \u001b[0;34m\u001b[0m\u001b[0m\n\u001b[1;32m   2639\u001b[0m     \u001b[0;32mdef\u001b[0m \u001b[0mget_loc\u001b[0m\u001b[0;34m(\u001b[0m\u001b[0mself\u001b[0m\u001b[0;34m,\u001b[0m \u001b[0mkey\u001b[0m\u001b[0;34m,\u001b[0m \u001b[0mmethod\u001b[0m\u001b[0;34m=\u001b[0m\u001b[0;32mNone\u001b[0m\u001b[0;34m)\u001b[0m\u001b[0;34m:\u001b[0m\u001b[0;34m\u001b[0m\u001b[0;34m\u001b[0m\u001b[0m\n",
      "\u001b[0;32m/opt/conda/lib/python3.7/site-packages/pandas/core/indexes/base.py\u001b[0m in \u001b[0;36mget_loc\u001b[0;34m(self, key, method, tolerance)\u001b[0m\n\u001b[1;32m   2898\u001b[0m                 \u001b[0;32mreturn\u001b[0m \u001b[0mself\u001b[0m\u001b[0;34m.\u001b[0m\u001b[0m_engine\u001b[0m\u001b[0;34m.\u001b[0m\u001b[0mget_loc\u001b[0m\u001b[0;34m(\u001b[0m\u001b[0mcasted_key\u001b[0m\u001b[0;34m)\u001b[0m\u001b[0;34m\u001b[0m\u001b[0;34m\u001b[0m\u001b[0m\n\u001b[1;32m   2899\u001b[0m             \u001b[0;32mexcept\u001b[0m \u001b[0mKeyError\u001b[0m \u001b[0;32mas\u001b[0m \u001b[0merr\u001b[0m\u001b[0;34m:\u001b[0m\u001b[0;34m\u001b[0m\u001b[0;34m\u001b[0m\u001b[0m\n\u001b[0;32m-> 2900\u001b[0;31m                 \u001b[0;32mraise\u001b[0m \u001b[0mKeyError\u001b[0m\u001b[0;34m(\u001b[0m\u001b[0mkey\u001b[0m\u001b[0;34m)\u001b[0m \u001b[0;32mfrom\u001b[0m \u001b[0merr\u001b[0m\u001b[0;34m\u001b[0m\u001b[0;34m\u001b[0m\u001b[0m\n\u001b[0m\u001b[1;32m   2901\u001b[0m \u001b[0;34m\u001b[0m\u001b[0m\n\u001b[1;32m   2902\u001b[0m         \u001b[0;32mif\u001b[0m \u001b[0mtolerance\u001b[0m \u001b[0;32mis\u001b[0m \u001b[0;32mnot\u001b[0m \u001b[0;32mNone\u001b[0m\u001b[0;34m:\u001b[0m\u001b[0;34m\u001b[0m\u001b[0;34m\u001b[0m\u001b[0m\n",
      "\u001b[0;31mKeyError\u001b[0m: 'free Cancellation Confirmation'"
     ]
    }
   ],
   "source": [
    "#create churn target from 'free Cancellation Confirmation' and 'paid Cancellation Confirmation'\n",
    "def churn2(row):\n",
    "    if (row['free Cancellation Confirmation'] == 1) | (row['paid Cancellation Confirmation'] == 1) | (row['free Cancel'] == 1) | (row['paid Cancel'] == 1):\n",
    "        return 1\n",
    "    else:\n",
    "        return 0\n",
    "\n",
    "ndf['churn'] = ndf.apply(churn2, axis=1)"
   ]
  },
  {
   "cell_type": "code",
   "execution_count": 71,
   "metadata": {
    "execution": {
     "iopub.execute_input": "2021-02-01T19:13:20.557432Z",
     "iopub.status.busy": "2021-02-01T19:13:20.556671Z",
     "iopub.status.idle": "2021-02-01T19:13:20.578582Z",
     "shell.execute_reply": "2021-02-01T19:13:20.579131Z"
    },
    "papermill": {
     "duration": 0.203401,
     "end_time": "2021-02-01T19:13:20.579315",
     "exception": false,
     "start_time": "2021-02-01T19:13:20.375914",
     "status": "completed"
    },
    "tags": []
   },
   "outputs": [
    {
     "data": {
      "text/html": [
       "<div>\n",
       "<style scoped>\n",
       "    .dataframe tbody tr th:only-of-type {\n",
       "        vertical-align: middle;\n",
       "    }\n",
       "\n",
       "    .dataframe tbody tr th {\n",
       "        vertical-align: top;\n",
       "    }\n",
       "\n",
       "    .dataframe thead tr th {\n",
       "        text-align: left;\n",
       "    }\n",
       "</style>\n",
       "<table border=\"1\" class=\"dataframe\">\n",
       "  <thead>\n",
       "    <tr>\n",
       "      <th></th>\n",
       "      <th>userId</th>\n",
       "      <th colspan=\"20\" halign=\"left\">index</th>\n",
       "    </tr>\n",
       "    <tr>\n",
       "      <th>level_page</th>\n",
       "      <th></th>\n",
       "      <th>free About</th>\n",
       "      <th>free Add Friend</th>\n",
       "      <th>free Add to Playlist</th>\n",
       "      <th>free Cancel</th>\n",
       "      <th>free Cancellation Confirmation</th>\n",
       "      <th>free Error</th>\n",
       "      <th>free Help</th>\n",
       "      <th>free Home</th>\n",
       "      <th>free Logout</th>\n",
       "      <th>...</th>\n",
       "      <th>paid Help</th>\n",
       "      <th>paid Home</th>\n",
       "      <th>paid Logout</th>\n",
       "      <th>paid NextSong</th>\n",
       "      <th>paid Roll Advert</th>\n",
       "      <th>paid Save Settings</th>\n",
       "      <th>paid Settings</th>\n",
       "      <th>paid Submit Downgrade</th>\n",
       "      <th>paid Thumbs Down</th>\n",
       "      <th>paid Thumbs Up</th>\n",
       "    </tr>\n",
       "  </thead>\n",
       "  <tbody>\n",
       "    <tr>\n",
       "      <th>0</th>\n",
       "      <td>10</td>\n",
       "      <td>0</td>\n",
       "      <td>0</td>\n",
       "      <td>0</td>\n",
       "      <td>0</td>\n",
       "      <td>0</td>\n",
       "      <td>0</td>\n",
       "      <td>0</td>\n",
       "      <td>0</td>\n",
       "      <td>0</td>\n",
       "      <td>...</td>\n",
       "      <td>3</td>\n",
       "      <td>15</td>\n",
       "      <td>4</td>\n",
       "      <td>360</td>\n",
       "      <td>0</td>\n",
       "      <td>0</td>\n",
       "      <td>2</td>\n",
       "      <td>0</td>\n",
       "      <td>1</td>\n",
       "      <td>17</td>\n",
       "    </tr>\n",
       "    <tr>\n",
       "      <th>1</th>\n",
       "      <td>100</td>\n",
       "      <td>0</td>\n",
       "      <td>0</td>\n",
       "      <td>2</td>\n",
       "      <td>0</td>\n",
       "      <td>0</td>\n",
       "      <td>0</td>\n",
       "      <td>0</td>\n",
       "      <td>3</td>\n",
       "      <td>1</td>\n",
       "      <td>...</td>\n",
       "      <td>17</td>\n",
       "      <td>132</td>\n",
       "      <td>35</td>\n",
       "      <td>3336</td>\n",
       "      <td>3</td>\n",
       "      <td>2</td>\n",
       "      <td>17</td>\n",
       "      <td>0</td>\n",
       "      <td>37</td>\n",
       "      <td>142</td>\n",
       "    </tr>\n",
       "    <tr>\n",
       "      <th>2</th>\n",
       "      <td>100001</td>\n",
       "      <td>1</td>\n",
       "      <td>1</td>\n",
       "      <td>3</td>\n",
       "      <td>1</td>\n",
       "      <td>1</td>\n",
       "      <td>0</td>\n",
       "      <td>1</td>\n",
       "      <td>4</td>\n",
       "      <td>2</td>\n",
       "      <td>...</td>\n",
       "      <td>0</td>\n",
       "      <td>0</td>\n",
       "      <td>0</td>\n",
       "      <td>0</td>\n",
       "      <td>0</td>\n",
       "      <td>0</td>\n",
       "      <td>0</td>\n",
       "      <td>0</td>\n",
       "      <td>0</td>\n",
       "      <td>0</td>\n",
       "    </tr>\n",
       "    <tr>\n",
       "      <th>3</th>\n",
       "      <td>100002</td>\n",
       "      <td>0</td>\n",
       "      <td>0</td>\n",
       "      <td>1</td>\n",
       "      <td>0</td>\n",
       "      <td>0</td>\n",
       "      <td>0</td>\n",
       "      <td>1</td>\n",
       "      <td>5</td>\n",
       "      <td>2</td>\n",
       "      <td>...</td>\n",
       "      <td>1</td>\n",
       "      <td>7</td>\n",
       "      <td>1</td>\n",
       "      <td>113</td>\n",
       "      <td>0</td>\n",
       "      <td>0</td>\n",
       "      <td>0</td>\n",
       "      <td>1</td>\n",
       "      <td>2</td>\n",
       "      <td>5</td>\n",
       "    </tr>\n",
       "    <tr>\n",
       "      <th>4</th>\n",
       "      <td>100003</td>\n",
       "      <td>0</td>\n",
       "      <td>6</td>\n",
       "      <td>6</td>\n",
       "      <td>0</td>\n",
       "      <td>0</td>\n",
       "      <td>1</td>\n",
       "      <td>1</td>\n",
       "      <td>10</td>\n",
       "      <td>4</td>\n",
       "      <td>...</td>\n",
       "      <td>2</td>\n",
       "      <td>21</td>\n",
       "      <td>8</td>\n",
       "      <td>430</td>\n",
       "      <td>4</td>\n",
       "      <td>1</td>\n",
       "      <td>3</td>\n",
       "      <td>0</td>\n",
       "      <td>3</td>\n",
       "      <td>10</td>\n",
       "    </tr>\n",
       "    <tr>\n",
       "      <th>...</th>\n",
       "      <td>...</td>\n",
       "      <td>...</td>\n",
       "      <td>...</td>\n",
       "      <td>...</td>\n",
       "      <td>...</td>\n",
       "      <td>...</td>\n",
       "      <td>...</td>\n",
       "      <td>...</td>\n",
       "      <td>...</td>\n",
       "      <td>...</td>\n",
       "      <td>...</td>\n",
       "      <td>...</td>\n",
       "      <td>...</td>\n",
       "      <td>...</td>\n",
       "      <td>...</td>\n",
       "      <td>...</td>\n",
       "      <td>...</td>\n",
       "      <td>...</td>\n",
       "      <td>...</td>\n",
       "      <td>...</td>\n",
       "      <td>...</td>\n",
       "    </tr>\n",
       "    <tr>\n",
       "      <th>443</th>\n",
       "      <td>95</td>\n",
       "      <td>0</td>\n",
       "      <td>0</td>\n",
       "      <td>0</td>\n",
       "      <td>0</td>\n",
       "      <td>0</td>\n",
       "      <td>0</td>\n",
       "      <td>0</td>\n",
       "      <td>0</td>\n",
       "      <td>0</td>\n",
       "      <td>...</td>\n",
       "      <td>11</td>\n",
       "      <td>81</td>\n",
       "      <td>17</td>\n",
       "      <td>2062</td>\n",
       "      <td>4</td>\n",
       "      <td>5</td>\n",
       "      <td>16</td>\n",
       "      <td>0</td>\n",
       "      <td>21</td>\n",
       "      <td>122</td>\n",
       "    </tr>\n",
       "    <tr>\n",
       "      <th>444</th>\n",
       "      <td>96</td>\n",
       "      <td>0</td>\n",
       "      <td>0</td>\n",
       "      <td>0</td>\n",
       "      <td>0</td>\n",
       "      <td>0</td>\n",
       "      <td>0</td>\n",
       "      <td>0</td>\n",
       "      <td>0</td>\n",
       "      <td>0</td>\n",
       "      <td>...</td>\n",
       "      <td>11</td>\n",
       "      <td>84</td>\n",
       "      <td>29</td>\n",
       "      <td>1950</td>\n",
       "      <td>3</td>\n",
       "      <td>3</td>\n",
       "      <td>8</td>\n",
       "      <td>0</td>\n",
       "      <td>20</td>\n",
       "      <td>78</td>\n",
       "    </tr>\n",
       "    <tr>\n",
       "      <th>445</th>\n",
       "      <td>97</td>\n",
       "      <td>6</td>\n",
       "      <td>23</td>\n",
       "      <td>31</td>\n",
       "      <td>0</td>\n",
       "      <td>0</td>\n",
       "      <td>2</td>\n",
       "      <td>9</td>\n",
       "      <td>73</td>\n",
       "      <td>17</td>\n",
       "      <td>...</td>\n",
       "      <td>1</td>\n",
       "      <td>2</td>\n",
       "      <td>0</td>\n",
       "      <td>55</td>\n",
       "      <td>0</td>\n",
       "      <td>0</td>\n",
       "      <td>0</td>\n",
       "      <td>0</td>\n",
       "      <td>1</td>\n",
       "      <td>4</td>\n",
       "    </tr>\n",
       "    <tr>\n",
       "      <th>446</th>\n",
       "      <td>98</td>\n",
       "      <td>0</td>\n",
       "      <td>2</td>\n",
       "      <td>2</td>\n",
       "      <td>0</td>\n",
       "      <td>0</td>\n",
       "      <td>0</td>\n",
       "      <td>1</td>\n",
       "      <td>5</td>\n",
       "      <td>2</td>\n",
       "      <td>...</td>\n",
       "      <td>17</td>\n",
       "      <td>104</td>\n",
       "      <td>32</td>\n",
       "      <td>2648</td>\n",
       "      <td>4</td>\n",
       "      <td>7</td>\n",
       "      <td>16</td>\n",
       "      <td>0</td>\n",
       "      <td>31</td>\n",
       "      <td>129</td>\n",
       "    </tr>\n",
       "    <tr>\n",
       "      <th>447</th>\n",
       "      <td>99</td>\n",
       "      <td>1</td>\n",
       "      <td>14</td>\n",
       "      <td>6</td>\n",
       "      <td>0</td>\n",
       "      <td>0</td>\n",
       "      <td>0</td>\n",
       "      <td>3</td>\n",
       "      <td>14</td>\n",
       "      <td>6</td>\n",
       "      <td>...</td>\n",
       "      <td>2</td>\n",
       "      <td>19</td>\n",
       "      <td>3</td>\n",
       "      <td>670</td>\n",
       "      <td>0</td>\n",
       "      <td>0</td>\n",
       "      <td>4</td>\n",
       "      <td>1</td>\n",
       "      <td>6</td>\n",
       "      <td>27</td>\n",
       "    </tr>\n",
       "  </tbody>\n",
       "</table>\n",
       "<p>448 rows × 35 columns</p>\n",
       "</div>"
      ],
      "text/plain": [
       "            userId      index                                       \\\n",
       "level_page         free About free Add Friend free Add to Playlist   \n",
       "0               10          0               0                    0   \n",
       "1              100          0               0                    2   \n",
       "2           100001          1               1                    3   \n",
       "3           100002          0               0                    1   \n",
       "4           100003          0               6                    6   \n",
       "..             ...        ...             ...                  ...   \n",
       "443             95          0               0                    0   \n",
       "444             96          0               0                    0   \n",
       "445             97          6              23                   31   \n",
       "446             98          0               2                    2   \n",
       "447             99          1              14                    6   \n",
       "\n",
       "                                                                            \\\n",
       "level_page free Cancel free Cancellation Confirmation free Error free Help   \n",
       "0                    0                              0          0         0   \n",
       "1                    0                              0          0         0   \n",
       "2                    1                              1          0         1   \n",
       "3                    0                              0          0         1   \n",
       "4                    0                              0          1         1   \n",
       "..                 ...                            ...        ...       ...   \n",
       "443                  0                              0          0         0   \n",
       "444                  0                              0          0         0   \n",
       "445                  0                              0          2         9   \n",
       "446                  0                              0          0         1   \n",
       "447                  0                              0          0         3   \n",
       "\n",
       "                                  ...                                  \\\n",
       "level_page free Home free Logout  ... paid Help paid Home paid Logout   \n",
       "0                  0           0  ...         3        15           4   \n",
       "1                  3           1  ...        17       132          35   \n",
       "2                  4           2  ...         0         0           0   \n",
       "3                  5           2  ...         1         7           1   \n",
       "4                 10           4  ...         2        21           8   \n",
       "..               ...         ...  ...       ...       ...         ...   \n",
       "443                0           0  ...        11        81          17   \n",
       "444                0           0  ...        11        84          29   \n",
       "445               73          17  ...         1         2           0   \n",
       "446                5           2  ...        17       104          32   \n",
       "447               14           6  ...         2        19           3   \n",
       "\n",
       "                                                                            \\\n",
       "level_page paid NextSong paid Roll Advert paid Save Settings paid Settings   \n",
       "0                    360                0                  0             2   \n",
       "1                   3336                3                  2            17   \n",
       "2                      0                0                  0             0   \n",
       "3                    113                0                  0             0   \n",
       "4                    430                4                  1             3   \n",
       "..                   ...              ...                ...           ...   \n",
       "443                 2062                4                  5            16   \n",
       "444                 1950                3                  3             8   \n",
       "445                   55                0                  0             0   \n",
       "446                 2648                4                  7            16   \n",
       "447                  670                0                  0             4   \n",
       "\n",
       "                                                                  \n",
       "level_page paid Submit Downgrade paid Thumbs Down paid Thumbs Up  \n",
       "0                              0                1             17  \n",
       "1                              0               37            142  \n",
       "2                              0                0              0  \n",
       "3                              1                2              5  \n",
       "4                              0                3             10  \n",
       "..                           ...              ...            ...  \n",
       "443                            0               21            122  \n",
       "444                            0               20             78  \n",
       "445                            0                1              4  \n",
       "446                            0               31            129  \n",
       "447                            1                6             27  \n",
       "\n",
       "[448 rows x 35 columns]"
      ]
     },
     "execution_count": 71,
     "metadata": {},
     "output_type": "execute_result"
    }
   ],
   "source": [
    "ndf"
   ]
  },
  {
   "cell_type": "code",
   "execution_count": 72,
   "metadata": {
    "execution": {
     "iopub.execute_input": "2021-02-01T19:13:20.916303Z",
     "iopub.status.busy": "2021-02-01T19:13:20.915578Z",
     "iopub.status.idle": "2021-02-01T19:13:21.028600Z",
     "shell.execute_reply": "2021-02-01T19:13:21.029413Z"
    },
    "papermill": {
     "duration": 0.285593,
     "end_time": "2021-02-01T19:13:21.029618",
     "exception": false,
     "start_time": "2021-02-01T19:13:20.744025",
     "status": "completed"
    },
    "tags": []
   },
   "outputs": [
    {
     "ename": "KeyError",
     "evalue": "'free Cancellation Confirmation'",
     "output_type": "error",
     "traceback": [
      "\u001b[0;31m---------------------------------------------------------------------------\u001b[0m",
      "\u001b[0;31mKeyError\u001b[0m                                  Traceback (most recent call last)",
      "\u001b[0;32m/opt/conda/lib/python3.7/site-packages/pandas/core/indexes/base.py\u001b[0m in \u001b[0;36mget_loc\u001b[0;34m(self, key, method, tolerance)\u001b[0m\n\u001b[1;32m   2897\u001b[0m             \u001b[0;32mtry\u001b[0m\u001b[0;34m:\u001b[0m\u001b[0;34m\u001b[0m\u001b[0;34m\u001b[0m\u001b[0m\n\u001b[0;32m-> 2898\u001b[0;31m                 \u001b[0;32mreturn\u001b[0m \u001b[0mself\u001b[0m\u001b[0;34m.\u001b[0m\u001b[0m_engine\u001b[0m\u001b[0;34m.\u001b[0m\u001b[0mget_loc\u001b[0m\u001b[0;34m(\u001b[0m\u001b[0mcasted_key\u001b[0m\u001b[0;34m)\u001b[0m\u001b[0;34m\u001b[0m\u001b[0;34m\u001b[0m\u001b[0m\n\u001b[0m\u001b[1;32m   2899\u001b[0m             \u001b[0;32mexcept\u001b[0m \u001b[0mKeyError\u001b[0m \u001b[0;32mas\u001b[0m \u001b[0merr\u001b[0m\u001b[0;34m:\u001b[0m\u001b[0;34m\u001b[0m\u001b[0;34m\u001b[0m\u001b[0m\n",
      "\u001b[0;32mpandas/_libs/index.pyx\u001b[0m in \u001b[0;36mpandas._libs.index.IndexEngine.get_loc\u001b[0;34m()\u001b[0m\n",
      "\u001b[0;32mpandas/_libs/index.pyx\u001b[0m in \u001b[0;36mpandas._libs.index.IndexEngine.get_loc\u001b[0;34m()\u001b[0m\n",
      "\u001b[0;32mpandas/_libs/hashtable_class_helper.pxi\u001b[0m in \u001b[0;36mpandas._libs.hashtable.PyObjectHashTable.get_item\u001b[0;34m()\u001b[0m\n",
      "\u001b[0;32mpandas/_libs/hashtable_class_helper.pxi\u001b[0m in \u001b[0;36mpandas._libs.hashtable.PyObjectHashTable.get_item\u001b[0;34m()\u001b[0m\n",
      "\u001b[0;31mKeyError\u001b[0m: 'free Cancellation Confirmation'",
      "\nThe above exception was the direct cause of the following exception:\n",
      "\u001b[0;31mKeyError\u001b[0m                                  Traceback (most recent call last)",
      "\u001b[0;32m<ipython-input-72-91b93240eaeb>\u001b[0m in \u001b[0;36m<module>\u001b[0;34m\u001b[0m\n\u001b[1;32m      1\u001b[0m \u001b[0;31m#Drop irrelevant columns as prep for creating independent and target variables\u001b[0m\u001b[0;34m\u001b[0m\u001b[0;34m\u001b[0m\u001b[0;34m\u001b[0m\u001b[0m\n\u001b[0;32m----> 2\u001b[0;31m \u001b[0mndf\u001b[0m \u001b[0;34m=\u001b[0m \u001b[0mndf\u001b[0m\u001b[0;34m.\u001b[0m\u001b[0mdrop\u001b[0m\u001b[0;34m(\u001b[0m\u001b[0mcolumns\u001b[0m\u001b[0;34m=\u001b[0m \u001b[0;34m[\u001b[0m\u001b[0;34m'free Cancellation Confirmation'\u001b[0m\u001b[0;34m,\u001b[0m \u001b[0;34m'free Cancel'\u001b[0m\u001b[0;34m,\u001b[0m \u001b[0;34m'paid Cancellation Confirmation'\u001b[0m\u001b[0;34m,\u001b[0m \u001b[0;34m'paid Cancel'\u001b[0m\u001b[0;34m]\u001b[0m\u001b[0;34m)\u001b[0m\u001b[0;34m\u001b[0m\u001b[0;34m\u001b[0m\u001b[0m\n\u001b[0m\u001b[1;32m      3\u001b[0m \u001b[0mndf\u001b[0m\u001b[0;34m\u001b[0m\u001b[0;34m\u001b[0m\u001b[0m\n",
      "\u001b[0;32m/opt/conda/lib/python3.7/site-packages/pandas/core/frame.py\u001b[0m in \u001b[0;36mdrop\u001b[0;34m(self, labels, axis, index, columns, level, inplace, errors)\u001b[0m\n\u001b[1;32m   4172\u001b[0m             \u001b[0mlevel\u001b[0m\u001b[0;34m=\u001b[0m\u001b[0mlevel\u001b[0m\u001b[0;34m,\u001b[0m\u001b[0;34m\u001b[0m\u001b[0;34m\u001b[0m\u001b[0m\n\u001b[1;32m   4173\u001b[0m             \u001b[0minplace\u001b[0m\u001b[0;34m=\u001b[0m\u001b[0minplace\u001b[0m\u001b[0;34m,\u001b[0m\u001b[0;34m\u001b[0m\u001b[0;34m\u001b[0m\u001b[0m\n\u001b[0;32m-> 4174\u001b[0;31m             \u001b[0merrors\u001b[0m\u001b[0;34m=\u001b[0m\u001b[0merrors\u001b[0m\u001b[0;34m,\u001b[0m\u001b[0;34m\u001b[0m\u001b[0;34m\u001b[0m\u001b[0m\n\u001b[0m\u001b[1;32m   4175\u001b[0m         )\n\u001b[1;32m   4176\u001b[0m \u001b[0;34m\u001b[0m\u001b[0m\n",
      "\u001b[0;32m/opt/conda/lib/python3.7/site-packages/pandas/core/generic.py\u001b[0m in \u001b[0;36mdrop\u001b[0;34m(self, labels, axis, index, columns, level, inplace, errors)\u001b[0m\n\u001b[1;32m   3887\u001b[0m         \u001b[0;32mfor\u001b[0m \u001b[0maxis\u001b[0m\u001b[0;34m,\u001b[0m \u001b[0mlabels\u001b[0m \u001b[0;32min\u001b[0m \u001b[0maxes\u001b[0m\u001b[0;34m.\u001b[0m\u001b[0mitems\u001b[0m\u001b[0;34m(\u001b[0m\u001b[0;34m)\u001b[0m\u001b[0;34m:\u001b[0m\u001b[0;34m\u001b[0m\u001b[0;34m\u001b[0m\u001b[0m\n\u001b[1;32m   3888\u001b[0m             \u001b[0;32mif\u001b[0m \u001b[0mlabels\u001b[0m \u001b[0;32mis\u001b[0m \u001b[0;32mnot\u001b[0m \u001b[0;32mNone\u001b[0m\u001b[0;34m:\u001b[0m\u001b[0;34m\u001b[0m\u001b[0;34m\u001b[0m\u001b[0m\n\u001b[0;32m-> 3889\u001b[0;31m                 \u001b[0mobj\u001b[0m \u001b[0;34m=\u001b[0m \u001b[0mobj\u001b[0m\u001b[0;34m.\u001b[0m\u001b[0m_drop_axis\u001b[0m\u001b[0;34m(\u001b[0m\u001b[0mlabels\u001b[0m\u001b[0;34m,\u001b[0m \u001b[0maxis\u001b[0m\u001b[0;34m,\u001b[0m \u001b[0mlevel\u001b[0m\u001b[0;34m=\u001b[0m\u001b[0mlevel\u001b[0m\u001b[0;34m,\u001b[0m \u001b[0merrors\u001b[0m\u001b[0;34m=\u001b[0m\u001b[0merrors\u001b[0m\u001b[0;34m)\u001b[0m\u001b[0;34m\u001b[0m\u001b[0;34m\u001b[0m\u001b[0m\n\u001b[0m\u001b[1;32m   3890\u001b[0m \u001b[0;34m\u001b[0m\u001b[0m\n\u001b[1;32m   3891\u001b[0m         \u001b[0;32mif\u001b[0m \u001b[0minplace\u001b[0m\u001b[0;34m:\u001b[0m\u001b[0;34m\u001b[0m\u001b[0;34m\u001b[0m\u001b[0m\n",
      "\u001b[0;32m/opt/conda/lib/python3.7/site-packages/pandas/core/generic.py\u001b[0m in \u001b[0;36m_drop_axis\u001b[0;34m(self, labels, axis, level, errors)\u001b[0m\n\u001b[1;32m   3921\u001b[0m                 \u001b[0mnew_axis\u001b[0m \u001b[0;34m=\u001b[0m \u001b[0maxis\u001b[0m\u001b[0;34m.\u001b[0m\u001b[0mdrop\u001b[0m\u001b[0;34m(\u001b[0m\u001b[0mlabels\u001b[0m\u001b[0;34m,\u001b[0m \u001b[0mlevel\u001b[0m\u001b[0;34m=\u001b[0m\u001b[0mlevel\u001b[0m\u001b[0;34m,\u001b[0m \u001b[0merrors\u001b[0m\u001b[0;34m=\u001b[0m\u001b[0merrors\u001b[0m\u001b[0;34m)\u001b[0m\u001b[0;34m\u001b[0m\u001b[0;34m\u001b[0m\u001b[0m\n\u001b[1;32m   3922\u001b[0m             \u001b[0;32melse\u001b[0m\u001b[0;34m:\u001b[0m\u001b[0;34m\u001b[0m\u001b[0;34m\u001b[0m\u001b[0m\n\u001b[0;32m-> 3923\u001b[0;31m                 \u001b[0mnew_axis\u001b[0m \u001b[0;34m=\u001b[0m \u001b[0maxis\u001b[0m\u001b[0;34m.\u001b[0m\u001b[0mdrop\u001b[0m\u001b[0;34m(\u001b[0m\u001b[0mlabels\u001b[0m\u001b[0;34m,\u001b[0m \u001b[0merrors\u001b[0m\u001b[0;34m=\u001b[0m\u001b[0merrors\u001b[0m\u001b[0;34m)\u001b[0m\u001b[0;34m\u001b[0m\u001b[0;34m\u001b[0m\u001b[0m\n\u001b[0m\u001b[1;32m   3924\u001b[0m             \u001b[0mresult\u001b[0m \u001b[0;34m=\u001b[0m \u001b[0mself\u001b[0m\u001b[0;34m.\u001b[0m\u001b[0mreindex\u001b[0m\u001b[0;34m(\u001b[0m\u001b[0;34m**\u001b[0m\u001b[0;34m{\u001b[0m\u001b[0maxis_name\u001b[0m\u001b[0;34m:\u001b[0m \u001b[0mnew_axis\u001b[0m\u001b[0;34m}\u001b[0m\u001b[0;34m)\u001b[0m\u001b[0;34m\u001b[0m\u001b[0;34m\u001b[0m\u001b[0m\n\u001b[1;32m   3925\u001b[0m \u001b[0;34m\u001b[0m\u001b[0m\n",
      "\u001b[0;32m/opt/conda/lib/python3.7/site-packages/pandas/core/indexes/multi.py\u001b[0m in \u001b[0;36mdrop\u001b[0;34m(self, codes, level, errors)\u001b[0m\n\u001b[1;32m   2052\u001b[0m         \u001b[0;32mfor\u001b[0m \u001b[0mlevel_codes\u001b[0m \u001b[0;32min\u001b[0m \u001b[0mcodes\u001b[0m\u001b[0;34m:\u001b[0m\u001b[0;34m\u001b[0m\u001b[0;34m\u001b[0m\u001b[0m\n\u001b[1;32m   2053\u001b[0m             \u001b[0;32mtry\u001b[0m\u001b[0;34m:\u001b[0m\u001b[0;34m\u001b[0m\u001b[0;34m\u001b[0m\u001b[0m\n\u001b[0;32m-> 2054\u001b[0;31m                 \u001b[0mloc\u001b[0m \u001b[0;34m=\u001b[0m \u001b[0mself\u001b[0m\u001b[0;34m.\u001b[0m\u001b[0mget_loc\u001b[0m\u001b[0;34m(\u001b[0m\u001b[0mlevel_codes\u001b[0m\u001b[0;34m)\u001b[0m\u001b[0;34m\u001b[0m\u001b[0;34m\u001b[0m\u001b[0m\n\u001b[0m\u001b[1;32m   2055\u001b[0m                 \u001b[0;31m# get_loc returns either an integer, a slice, or a boolean\u001b[0m\u001b[0;34m\u001b[0m\u001b[0;34m\u001b[0m\u001b[0;34m\u001b[0m\u001b[0m\n\u001b[1;32m   2056\u001b[0m                 \u001b[0;31m# mask\u001b[0m\u001b[0;34m\u001b[0m\u001b[0;34m\u001b[0m\u001b[0;34m\u001b[0m\u001b[0m\n",
      "\u001b[0;32m/opt/conda/lib/python3.7/site-packages/pandas/core/indexes/multi.py\u001b[0m in \u001b[0;36mget_loc\u001b[0;34m(self, key, method)\u001b[0m\n\u001b[1;32m   2702\u001b[0m \u001b[0;34m\u001b[0m\u001b[0m\n\u001b[1;32m   2703\u001b[0m         \u001b[0;32mif\u001b[0m \u001b[0;32mnot\u001b[0m \u001b[0misinstance\u001b[0m\u001b[0;34m(\u001b[0m\u001b[0mkey\u001b[0m\u001b[0;34m,\u001b[0m \u001b[0mtuple\u001b[0m\u001b[0;34m)\u001b[0m\u001b[0;34m:\u001b[0m\u001b[0;34m\u001b[0m\u001b[0;34m\u001b[0m\u001b[0m\n\u001b[0;32m-> 2704\u001b[0;31m             \u001b[0mloc\u001b[0m \u001b[0;34m=\u001b[0m \u001b[0mself\u001b[0m\u001b[0;34m.\u001b[0m\u001b[0m_get_level_indexer\u001b[0m\u001b[0;34m(\u001b[0m\u001b[0mkey\u001b[0m\u001b[0;34m,\u001b[0m \u001b[0mlevel\u001b[0m\u001b[0;34m=\u001b[0m\u001b[0;36m0\u001b[0m\u001b[0;34m)\u001b[0m\u001b[0;34m\u001b[0m\u001b[0;34m\u001b[0m\u001b[0m\n\u001b[0m\u001b[1;32m   2705\u001b[0m             \u001b[0;32mreturn\u001b[0m \u001b[0m_maybe_to_slice\u001b[0m\u001b[0;34m(\u001b[0m\u001b[0mloc\u001b[0m\u001b[0;34m)\u001b[0m\u001b[0;34m\u001b[0m\u001b[0;34m\u001b[0m\u001b[0m\n\u001b[1;32m   2706\u001b[0m \u001b[0;34m\u001b[0m\u001b[0m\n",
      "\u001b[0;32m/opt/conda/lib/python3.7/site-packages/pandas/core/indexes/multi.py\u001b[0m in \u001b[0;36m_get_level_indexer\u001b[0;34m(self, key, level, indexer)\u001b[0m\n\u001b[1;32m   2967\u001b[0m         \u001b[0;32melse\u001b[0m\u001b[0;34m:\u001b[0m\u001b[0;34m\u001b[0m\u001b[0;34m\u001b[0m\u001b[0m\n\u001b[1;32m   2968\u001b[0m \u001b[0;34m\u001b[0m\u001b[0m\n\u001b[0;32m-> 2969\u001b[0;31m             \u001b[0mcode\u001b[0m \u001b[0;34m=\u001b[0m \u001b[0mself\u001b[0m\u001b[0;34m.\u001b[0m\u001b[0m_get_loc_single_level_index\u001b[0m\u001b[0;34m(\u001b[0m\u001b[0mlevel_index\u001b[0m\u001b[0;34m,\u001b[0m \u001b[0mkey\u001b[0m\u001b[0;34m)\u001b[0m\u001b[0;34m\u001b[0m\u001b[0;34m\u001b[0m\u001b[0m\n\u001b[0m\u001b[1;32m   2970\u001b[0m \u001b[0;34m\u001b[0m\u001b[0m\n\u001b[1;32m   2971\u001b[0m             \u001b[0;32mif\u001b[0m \u001b[0mlevel\u001b[0m \u001b[0;34m>\u001b[0m \u001b[0;36m0\u001b[0m \u001b[0;32mor\u001b[0m \u001b[0mself\u001b[0m\u001b[0;34m.\u001b[0m\u001b[0mlexsort_depth\u001b[0m \u001b[0;34m==\u001b[0m \u001b[0;36m0\u001b[0m\u001b[0;34m:\u001b[0m\u001b[0;34m\u001b[0m\u001b[0;34m\u001b[0m\u001b[0m\n",
      "\u001b[0;32m/opt/conda/lib/python3.7/site-packages/pandas/core/indexes/multi.py\u001b[0m in \u001b[0;36m_get_loc_single_level_index\u001b[0;34m(self, level_index, key)\u001b[0m\n\u001b[1;32m   2635\u001b[0m             \u001b[0;32mreturn\u001b[0m \u001b[0;34m-\u001b[0m\u001b[0;36m1\u001b[0m\u001b[0;34m\u001b[0m\u001b[0;34m\u001b[0m\u001b[0m\n\u001b[1;32m   2636\u001b[0m         \u001b[0;32melse\u001b[0m\u001b[0;34m:\u001b[0m\u001b[0;34m\u001b[0m\u001b[0;34m\u001b[0m\u001b[0m\n\u001b[0;32m-> 2637\u001b[0;31m             \u001b[0;32mreturn\u001b[0m \u001b[0mlevel_index\u001b[0m\u001b[0;34m.\u001b[0m\u001b[0mget_loc\u001b[0m\u001b[0;34m(\u001b[0m\u001b[0mkey\u001b[0m\u001b[0;34m)\u001b[0m\u001b[0;34m\u001b[0m\u001b[0;34m\u001b[0m\u001b[0m\n\u001b[0m\u001b[1;32m   2638\u001b[0m \u001b[0;34m\u001b[0m\u001b[0m\n\u001b[1;32m   2639\u001b[0m     \u001b[0;32mdef\u001b[0m \u001b[0mget_loc\u001b[0m\u001b[0;34m(\u001b[0m\u001b[0mself\u001b[0m\u001b[0;34m,\u001b[0m \u001b[0mkey\u001b[0m\u001b[0;34m,\u001b[0m \u001b[0mmethod\u001b[0m\u001b[0;34m=\u001b[0m\u001b[0;32mNone\u001b[0m\u001b[0;34m)\u001b[0m\u001b[0;34m:\u001b[0m\u001b[0;34m\u001b[0m\u001b[0;34m\u001b[0m\u001b[0m\n",
      "\u001b[0;32m/opt/conda/lib/python3.7/site-packages/pandas/core/indexes/base.py\u001b[0m in \u001b[0;36mget_loc\u001b[0;34m(self, key, method, tolerance)\u001b[0m\n\u001b[1;32m   2898\u001b[0m                 \u001b[0;32mreturn\u001b[0m \u001b[0mself\u001b[0m\u001b[0;34m.\u001b[0m\u001b[0m_engine\u001b[0m\u001b[0;34m.\u001b[0m\u001b[0mget_loc\u001b[0m\u001b[0;34m(\u001b[0m\u001b[0mcasted_key\u001b[0m\u001b[0;34m)\u001b[0m\u001b[0;34m\u001b[0m\u001b[0;34m\u001b[0m\u001b[0m\n\u001b[1;32m   2899\u001b[0m             \u001b[0;32mexcept\u001b[0m \u001b[0mKeyError\u001b[0m \u001b[0;32mas\u001b[0m \u001b[0merr\u001b[0m\u001b[0;34m:\u001b[0m\u001b[0;34m\u001b[0m\u001b[0;34m\u001b[0m\u001b[0m\n\u001b[0;32m-> 2900\u001b[0;31m                 \u001b[0;32mraise\u001b[0m \u001b[0mKeyError\u001b[0m\u001b[0;34m(\u001b[0m\u001b[0mkey\u001b[0m\u001b[0;34m)\u001b[0m \u001b[0;32mfrom\u001b[0m \u001b[0merr\u001b[0m\u001b[0;34m\u001b[0m\u001b[0;34m\u001b[0m\u001b[0m\n\u001b[0m\u001b[1;32m   2901\u001b[0m \u001b[0;34m\u001b[0m\u001b[0m\n\u001b[1;32m   2902\u001b[0m         \u001b[0;32mif\u001b[0m \u001b[0mtolerance\u001b[0m \u001b[0;32mis\u001b[0m \u001b[0;32mnot\u001b[0m \u001b[0;32mNone\u001b[0m\u001b[0;34m:\u001b[0m\u001b[0;34m\u001b[0m\u001b[0;34m\u001b[0m\u001b[0m\n",
      "\u001b[0;31mKeyError\u001b[0m: 'free Cancellation Confirmation'"
     ]
    }
   ],
   "source": [
    "#Drop irrelevant columns as prep for creating independent and target variables\n",
    "ndf = ndf.drop(columns= ['free Cancellation Confirmation', 'free Cancel', 'paid Cancellation Confirmation', 'paid Cancel'])\n",
    "ndf"
   ]
  },
  {
   "cell_type": "code",
   "execution_count": 73,
   "metadata": {
    "execution": {
     "iopub.execute_input": "2021-02-01T19:13:21.368907Z",
     "iopub.status.busy": "2021-02-01T19:13:21.368162Z",
     "iopub.status.idle": "2021-02-01T19:13:22.314759Z",
     "shell.execute_reply": "2021-02-01T19:13:22.315268Z"
    },
    "papermill": {
     "duration": 1.118391,
     "end_time": "2021-02-01T19:13:22.315439",
     "exception": false,
     "start_time": "2021-02-01T19:13:21.197048",
     "status": "completed"
    },
    "tags": []
   },
   "outputs": [
    {
     "data": {
      "text/plain": [
       "<matplotlib.axes._subplots.AxesSubplot at 0x7f72738d3650>"
      ]
     },
     "execution_count": 73,
     "metadata": {},
     "output_type": "execute_result"
    },
    {
     "data": {
      "image/png": "[encoded data removed]",
      "text/plain": [
       "<Figure size 1296x576 with 2 Axes>"
      ]
     },
     "metadata": {
      "needs_background": "light"
     },
     "output_type": "display_data"
    }
   ],
   "source": [
    "#create heatmap to understand correlation between var's in independent var's\n",
    "independent_var = ndf.columns\n",
    "independent_var = independent_var[:-1]\n",
    "\n",
    "# target variable is renamed as label\n",
    "ndf = ndf.rename(columns={'churn': 'label'})\n",
    "\n",
    "fig = plt.figure(figsize=(18,8))\n",
    "ax = plt.gca()\n",
    "ax.set_title(\"Correlation Matrix\")\n",
    "sns.heatmap(ndf[independent_var].corr(), annot = False, \\\n",
    "                                    linewidths=0.5, square = True, cmap = 'Reds_r')"
   ]
  },
  {
   "cell_type": "code",
   "execution_count": 74,
   "metadata": {
    "execution": {
     "iopub.execute_input": "2021-02-01T19:13:22.655416Z",
     "iopub.status.busy": "2021-02-01T19:13:22.654673Z",
     "iopub.status.idle": "2021-02-01T19:13:22.720839Z",
     "shell.execute_reply": "2021-02-01T19:13:22.721412Z"
    },
    "papermill": {
     "duration": 0.238011,
     "end_time": "2021-02-01T19:13:22.721623",
     "exception": false,
     "start_time": "2021-02-01T19:13:22.483612",
     "status": "completed"
    },
    "tags": []
   },
   "outputs": [
    {
     "data": {
      "text/html": [
       "<div>\n",
       "<style scoped>\n",
       "    .dataframe tbody tr th:only-of-type {\n",
       "        vertical-align: middle;\n",
       "    }\n",
       "\n",
       "    .dataframe tbody tr th {\n",
       "        vertical-align: top;\n",
       "    }\n",
       "\n",
       "    .dataframe thead tr th {\n",
       "        text-align: left;\n",
       "    }\n",
       "\n",
       "    .dataframe thead tr:last-of-type th {\n",
       "        text-align: right;\n",
       "    }\n",
       "</style>\n",
       "<table border=\"1\" class=\"dataframe\">\n",
       "  <thead>\n",
       "    <tr>\n",
       "      <th></th>\n",
       "      <th></th>\n",
       "      <th colspan=\"21\" halign=\"left\">index</th>\n",
       "    </tr>\n",
       "    <tr>\n",
       "      <th></th>\n",
       "      <th>level_page</th>\n",
       "      <th>free About</th>\n",
       "      <th>free Add Friend</th>\n",
       "      <th>free Add to Playlist</th>\n",
       "      <th>free Cancel</th>\n",
       "      <th>free Cancellation Confirmation</th>\n",
       "      <th>free Error</th>\n",
       "      <th>free Help</th>\n",
       "      <th>free Home</th>\n",
       "      <th>free Logout</th>\n",
       "      <th>free NextSong</th>\n",
       "      <th>...</th>\n",
       "      <th>paid Help</th>\n",
       "      <th>paid Home</th>\n",
       "      <th>paid Logout</th>\n",
       "      <th>paid NextSong</th>\n",
       "      <th>paid Roll Advert</th>\n",
       "      <th>paid Save Settings</th>\n",
       "      <th>paid Settings</th>\n",
       "      <th>paid Submit Downgrade</th>\n",
       "      <th>paid Thumbs Down</th>\n",
       "      <th>paid Thumbs Up</th>\n",
       "    </tr>\n",
       "    <tr>\n",
       "      <th></th>\n",
       "      <th>level_page</th>\n",
       "      <th></th>\n",
       "      <th></th>\n",
       "      <th></th>\n",
       "      <th></th>\n",
       "      <th></th>\n",
       "      <th></th>\n",
       "      <th></th>\n",
       "      <th></th>\n",
       "      <th></th>\n",
       "      <th></th>\n",
       "      <th></th>\n",
       "      <th></th>\n",
       "      <th></th>\n",
       "      <th></th>\n",
       "      <th></th>\n",
       "      <th></th>\n",
       "      <th></th>\n",
       "      <th></th>\n",
       "      <th></th>\n",
       "      <th></th>\n",
       "      <th></th>\n",
       "    </tr>\n",
       "  </thead>\n",
       "  <tbody>\n",
       "    <tr>\n",
       "      <th rowspan=\"34\" valign=\"top\">index</th>\n",
       "      <th>free About</th>\n",
       "      <td>1.000000</td>\n",
       "      <td>0.538621</td>\n",
       "      <td>0.549647</td>\n",
       "      <td>0.007856</td>\n",
       "      <td>0.007856</td>\n",
       "      <td>0.281151</td>\n",
       "      <td>0.430630</td>\n",
       "      <td>0.586415</td>\n",
       "      <td>0.533289</td>\n",
       "      <td>0.595814</td>\n",
       "      <td>...</td>\n",
       "      <td>-0.024893</td>\n",
       "      <td>-0.029298</td>\n",
       "      <td>-0.030329</td>\n",
       "      <td>-0.029052</td>\n",
       "      <td>0.000457</td>\n",
       "      <td>-0.046558</td>\n",
       "      <td>-0.031298</td>\n",
       "      <td>0.192512</td>\n",
       "      <td>0.004932</td>\n",
       "      <td>-0.052079</td>\n",
       "    </tr>\n",
       "    <tr>\n",
       "      <th>free Add Friend</th>\n",
       "      <td>0.538621</td>\n",
       "      <td>1.000000</td>\n",
       "      <td>0.768579</td>\n",
       "      <td>0.072557</td>\n",
       "      <td>0.072557</td>\n",
       "      <td>0.465825</td>\n",
       "      <td>0.609941</td>\n",
       "      <td>0.840855</td>\n",
       "      <td>0.819536</td>\n",
       "      <td>0.847933</td>\n",
       "      <td>...</td>\n",
       "      <td>0.085225</td>\n",
       "      <td>0.072909</td>\n",
       "      <td>0.069663</td>\n",
       "      <td>0.066149</td>\n",
       "      <td>0.044755</td>\n",
       "      <td>0.047345</td>\n",
       "      <td>0.053580</td>\n",
       "      <td>0.358695</td>\n",
       "      <td>0.102967</td>\n",
       "      <td>0.032243</td>\n",
       "    </tr>\n",
       "    <tr>\n",
       "      <th>free Add to Playlist</th>\n",
       "      <td>0.549647</td>\n",
       "      <td>0.768579</td>\n",
       "      <td>1.000000</td>\n",
       "      <td>0.066893</td>\n",
       "      <td>0.066893</td>\n",
       "      <td>0.536288</td>\n",
       "      <td>0.702367</td>\n",
       "      <td>0.912092</td>\n",
       "      <td>0.864012</td>\n",
       "      <td>0.934834</td>\n",
       "      <td>...</td>\n",
       "      <td>0.071688</td>\n",
       "      <td>0.062521</td>\n",
       "      <td>0.056090</td>\n",
       "      <td>0.058473</td>\n",
       "      <td>0.053496</td>\n",
       "      <td>0.011615</td>\n",
       "      <td>0.040690</td>\n",
       "      <td>0.388142</td>\n",
       "      <td>0.100096</td>\n",
       "      <td>0.028305</td>\n",
       "    </tr>\n",
       "    <tr>\n",
       "      <th>free Cancel</th>\n",
       "      <td>0.007856</td>\n",
       "      <td>0.072557</td>\n",
       "      <td>0.066893</td>\n",
       "      <td>1.000000</td>\n",
       "      <td>1.000000</td>\n",
       "      <td>0.054149</td>\n",
       "      <td>0.059575</td>\n",
       "      <td>0.055735</td>\n",
       "      <td>0.061459</td>\n",
       "      <td>0.063787</td>\n",
       "      <td>...</td>\n",
       "      <td>-0.126368</td>\n",
       "      <td>-0.136726</td>\n",
       "      <td>-0.133651</td>\n",
       "      <td>-0.131729</td>\n",
       "      <td>-0.084493</td>\n",
       "      <td>-0.145151</td>\n",
       "      <td>-0.140453</td>\n",
       "      <td>0.042779</td>\n",
       "      <td>-0.112442</td>\n",
       "      <td>-0.124670</td>\n",
       "    </tr>\n",
       "    <tr>\n",
       "      <th>free Cancellation Confirmation</th>\n",
       "      <td>0.007856</td>\n",
       "      <td>0.072557</td>\n",
       "      <td>0.066893</td>\n",
       "      <td>1.000000</td>\n",
       "      <td>1.000000</td>\n",
       "      <td>0.054149</td>\n",
       "      <td>0.059575</td>\n",
       "      <td>0.055735</td>\n",
       "      <td>0.061459</td>\n",
       "      <td>0.063787</td>\n",
       "      <td>...</td>\n",
       "      <td>-0.126368</td>\n",
       "      <td>-0.136726</td>\n",
       "      <td>-0.133651</td>\n",
       "      <td>-0.131729</td>\n",
       "      <td>-0.084493</td>\n",
       "      <td>-0.145151</td>\n",
       "      <td>-0.140453</td>\n",
       "      <td>0.042779</td>\n",
       "      <td>-0.112442</td>\n",
       "      <td>-0.124670</td>\n",
       "    </tr>\n",
       "    <tr>\n",
       "      <th>free Error</th>\n",
       "      <td>0.281151</td>\n",
       "      <td>0.465825</td>\n",
       "      <td>0.536288</td>\n",
       "      <td>0.054149</td>\n",
       "      <td>0.054149</td>\n",
       "      <td>1.000000</td>\n",
       "      <td>0.346877</td>\n",
       "      <td>0.554604</td>\n",
       "      <td>0.516649</td>\n",
       "      <td>0.554837</td>\n",
       "      <td>...</td>\n",
       "      <td>0.100593</td>\n",
       "      <td>0.083686</td>\n",
       "      <td>0.078992</td>\n",
       "      <td>0.087923</td>\n",
       "      <td>0.073958</td>\n",
       "      <td>0.012772</td>\n",
       "      <td>0.079646</td>\n",
       "      <td>0.260684</td>\n",
       "      <td>0.123892</td>\n",
       "      <td>0.066259</td>\n",
       "    </tr>\n",
       "    <tr>\n",
       "      <th>free Help</th>\n",
       "      <td>0.430630</td>\n",
       "      <td>0.609941</td>\n",
       "      <td>0.702367</td>\n",
       "      <td>0.059575</td>\n",
       "      <td>0.059575</td>\n",
       "      <td>0.346877</td>\n",
       "      <td>1.000000</td>\n",
       "      <td>0.716138</td>\n",
       "      <td>0.668890</td>\n",
       "      <td>0.741974</td>\n",
       "      <td>...</td>\n",
       "      <td>0.047850</td>\n",
       "      <td>0.044880</td>\n",
       "      <td>0.039841</td>\n",
       "      <td>0.040566</td>\n",
       "      <td>0.054157</td>\n",
       "      <td>0.034268</td>\n",
       "      <td>0.015738</td>\n",
       "      <td>0.332156</td>\n",
       "      <td>0.078611</td>\n",
       "      <td>0.002914</td>\n",
       "    </tr>\n",
       "    <tr>\n",
       "      <th>free Home</th>\n",
       "      <td>0.586415</td>\n",
       "      <td>0.840855</td>\n",
       "      <td>0.912092</td>\n",
       "      <td>0.055735</td>\n",
       "      <td>0.055735</td>\n",
       "      <td>0.554604</td>\n",
       "      <td>0.716138</td>\n",
       "      <td>1.000000</td>\n",
       "      <td>0.941654</td>\n",
       "      <td>0.970579</td>\n",
       "      <td>...</td>\n",
       "      <td>0.068286</td>\n",
       "      <td>0.064407</td>\n",
       "      <td>0.059341</td>\n",
       "      <td>0.056701</td>\n",
       "      <td>0.048053</td>\n",
       "      <td>0.031551</td>\n",
       "      <td>0.044951</td>\n",
       "      <td>0.407299</td>\n",
       "      <td>0.093217</td>\n",
       "      <td>0.020037</td>\n",
       "    </tr>\n",
       "    <tr>\n",
       "      <th>free Logout</th>\n",
       "      <td>0.533289</td>\n",
       "      <td>0.819536</td>\n",
       "      <td>0.864012</td>\n",
       "      <td>0.061459</td>\n",
       "      <td>0.061459</td>\n",
       "      <td>0.516649</td>\n",
       "      <td>0.668890</td>\n",
       "      <td>0.941654</td>\n",
       "      <td>1.000000</td>\n",
       "      <td>0.914690</td>\n",
       "      <td>...</td>\n",
       "      <td>0.005344</td>\n",
       "      <td>0.001325</td>\n",
       "      <td>-0.000331</td>\n",
       "      <td>-0.008638</td>\n",
       "      <td>0.018213</td>\n",
       "      <td>-0.032105</td>\n",
       "      <td>-0.025312</td>\n",
       "      <td>0.361995</td>\n",
       "      <td>0.034441</td>\n",
       "      <td>-0.036721</td>\n",
       "    </tr>\n",
       "    <tr>\n",
       "      <th>free NextSong</th>\n",
       "      <td>0.595814</td>\n",
       "      <td>0.847933</td>\n",
       "      <td>0.934834</td>\n",
       "      <td>0.063787</td>\n",
       "      <td>0.063787</td>\n",
       "      <td>0.554837</td>\n",
       "      <td>0.741974</td>\n",
       "      <td>0.970579</td>\n",
       "      <td>0.914690</td>\n",
       "      <td>1.000000</td>\n",
       "      <td>...</td>\n",
       "      <td>0.083199</td>\n",
       "      <td>0.073286</td>\n",
       "      <td>0.067352</td>\n",
       "      <td>0.068697</td>\n",
       "      <td>0.056660</td>\n",
       "      <td>0.021858</td>\n",
       "      <td>0.054433</td>\n",
       "      <td>0.403767</td>\n",
       "      <td>0.110042</td>\n",
       "      <td>0.027215</td>\n",
       "    </tr>\n",
       "    <tr>\n",
       "      <th>free Roll Advert</th>\n",
       "      <td>0.567081</td>\n",
       "      <td>0.780306</td>\n",
       "      <td>0.867929</td>\n",
       "      <td>0.125156</td>\n",
       "      <td>0.125156</td>\n",
       "      <td>0.493376</td>\n",
       "      <td>0.703360</td>\n",
       "      <td>0.895045</td>\n",
       "      <td>0.848079</td>\n",
       "      <td>0.935488</td>\n",
       "      <td>...</td>\n",
       "      <td>0.051507</td>\n",
       "      <td>0.041737</td>\n",
       "      <td>0.037832</td>\n",
       "      <td>0.037832</td>\n",
       "      <td>0.134230</td>\n",
       "      <td>-0.000597</td>\n",
       "      <td>0.026782</td>\n",
       "      <td>0.409965</td>\n",
       "      <td>0.066319</td>\n",
       "      <td>-0.000211</td>\n",
       "    </tr>\n",
       "    <tr>\n",
       "      <th>free Save Settings</th>\n",
       "      <td>0.416658</td>\n",
       "      <td>0.495692</td>\n",
       "      <td>0.588678</td>\n",
       "      <td>0.027783</td>\n",
       "      <td>0.027783</td>\n",
       "      <td>0.316643</td>\n",
       "      <td>0.478825</td>\n",
       "      <td>0.624112</td>\n",
       "      <td>0.550460</td>\n",
       "      <td>0.603206</td>\n",
       "      <td>...</td>\n",
       "      <td>0.039164</td>\n",
       "      <td>0.030635</td>\n",
       "      <td>0.027991</td>\n",
       "      <td>0.026450</td>\n",
       "      <td>-0.003334</td>\n",
       "      <td>0.056844</td>\n",
       "      <td>0.033820</td>\n",
       "      <td>0.174374</td>\n",
       "      <td>0.058658</td>\n",
       "      <td>0.012556</td>\n",
       "    </tr>\n",
       "    <tr>\n",
       "      <th>free Settings</th>\n",
       "      <td>0.477591</td>\n",
       "      <td>0.668206</td>\n",
       "      <td>0.718389</td>\n",
       "      <td>0.057895</td>\n",
       "      <td>0.057895</td>\n",
       "      <td>0.376284</td>\n",
       "      <td>0.589706</td>\n",
       "      <td>0.771162</td>\n",
       "      <td>0.730342</td>\n",
       "      <td>0.763172</td>\n",
       "      <td>...</td>\n",
       "      <td>0.078918</td>\n",
       "      <td>0.079770</td>\n",
       "      <td>0.074853</td>\n",
       "      <td>0.074171</td>\n",
       "      <td>0.036895</td>\n",
       "      <td>0.045263</td>\n",
       "      <td>0.062175</td>\n",
       "      <td>0.315011</td>\n",
       "      <td>0.119804</td>\n",
       "      <td>0.041714</td>\n",
       "    </tr>\n",
       "    <tr>\n",
       "      <th>free Submit Upgrade</th>\n",
       "      <td>0.227092</td>\n",
       "      <td>0.360375</td>\n",
       "      <td>0.405868</td>\n",
       "      <td>-0.152827</td>\n",
       "      <td>-0.152827</td>\n",
       "      <td>0.212832</td>\n",
       "      <td>0.374124</td>\n",
       "      <td>0.425019</td>\n",
       "      <td>0.360786</td>\n",
       "      <td>0.428695</td>\n",
       "      <td>...</td>\n",
       "      <td>0.364448</td>\n",
       "      <td>0.393709</td>\n",
       "      <td>0.379081</td>\n",
       "      <td>0.383002</td>\n",
       "      <td>0.388606</td>\n",
       "      <td>0.310354</td>\n",
       "      <td>0.368659</td>\n",
       "      <td>0.658894</td>\n",
       "      <td>0.412077</td>\n",
       "      <td>0.340859</td>\n",
       "    </tr>\n",
       "    <tr>\n",
       "      <th>free Thumbs Down</th>\n",
       "      <td>0.400954</td>\n",
       "      <td>0.687340</td>\n",
       "      <td>0.699028</td>\n",
       "      <td>0.146548</td>\n",
       "      <td>0.146548</td>\n",
       "      <td>0.469203</td>\n",
       "      <td>0.526456</td>\n",
       "      <td>0.715780</td>\n",
       "      <td>0.723308</td>\n",
       "      <td>0.760325</td>\n",
       "      <td>...</td>\n",
       "      <td>-0.034821</td>\n",
       "      <td>-0.027179</td>\n",
       "      <td>-0.028938</td>\n",
       "      <td>-0.036562</td>\n",
       "      <td>-0.004915</td>\n",
       "      <td>-0.040575</td>\n",
       "      <td>-0.031247</td>\n",
       "      <td>0.373457</td>\n",
       "      <td>0.057046</td>\n",
       "      <td>-0.054525</td>\n",
       "    </tr>\n",
       "    <tr>\n",
       "      <th>free Thumbs Up</th>\n",
       "      <td>0.559860</td>\n",
       "      <td>0.819439</td>\n",
       "      <td>0.902144</td>\n",
       "      <td>0.042800</td>\n",
       "      <td>0.042800</td>\n",
       "      <td>0.531207</td>\n",
       "      <td>0.717209</td>\n",
       "      <td>0.922198</td>\n",
       "      <td>0.864637</td>\n",
       "      <td>0.952194</td>\n",
       "      <td>...</td>\n",
       "      <td>0.096545</td>\n",
       "      <td>0.090124</td>\n",
       "      <td>0.082570</td>\n",
       "      <td>0.085154</td>\n",
       "      <td>0.070418</td>\n",
       "      <td>0.041898</td>\n",
       "      <td>0.070864</td>\n",
       "      <td>0.386291</td>\n",
       "      <td>0.117259</td>\n",
       "      <td>0.063569</td>\n",
       "    </tr>\n",
       "    <tr>\n",
       "      <th>free Upgrade</th>\n",
       "      <td>0.469577</td>\n",
       "      <td>0.717843</td>\n",
       "      <td>0.779327</td>\n",
       "      <td>0.013166</td>\n",
       "      <td>0.013166</td>\n",
       "      <td>0.429248</td>\n",
       "      <td>0.641537</td>\n",
       "      <td>0.795646</td>\n",
       "      <td>0.740116</td>\n",
       "      <td>0.813829</td>\n",
       "      <td>...</td>\n",
       "      <td>0.200744</td>\n",
       "      <td>0.212541</td>\n",
       "      <td>0.195659</td>\n",
       "      <td>0.204389</td>\n",
       "      <td>0.212998</td>\n",
       "      <td>0.147969</td>\n",
       "      <td>0.187924</td>\n",
       "      <td>0.443600</td>\n",
       "      <td>0.225582</td>\n",
       "      <td>0.189145</td>\n",
       "    </tr>\n",
       "    <tr>\n",
       "      <th>paid About</th>\n",
       "      <td>-0.023118</td>\n",
       "      <td>0.051743</td>\n",
       "      <td>0.053913</td>\n",
       "      <td>-0.102617</td>\n",
       "      <td>-0.102617</td>\n",
       "      <td>0.076533</td>\n",
       "      <td>0.034308</td>\n",
       "      <td>0.038316</td>\n",
       "      <td>-0.012967</td>\n",
       "      <td>0.052422</td>\n",
       "      <td>...</td>\n",
       "      <td>0.827456</td>\n",
       "      <td>0.873592</td>\n",
       "      <td>0.867571</td>\n",
       "      <td>0.875646</td>\n",
       "      <td>0.534670</td>\n",
       "      <td>0.666264</td>\n",
       "      <td>0.836338</td>\n",
       "      <td>0.214850</td>\n",
       "      <td>0.817064</td>\n",
       "      <td>0.833501</td>\n",
       "    </tr>\n",
       "    <tr>\n",
       "      <th>paid Add Friend</th>\n",
       "      <td>-0.024096</td>\n",
       "      <td>0.077192</td>\n",
       "      <td>0.065589</td>\n",
       "      <td>-0.124932</td>\n",
       "      <td>-0.124932</td>\n",
       "      <td>0.097096</td>\n",
       "      <td>0.047219</td>\n",
       "      <td>0.057500</td>\n",
       "      <td>-0.003967</td>\n",
       "      <td>0.072436</td>\n",
       "      <td>...</td>\n",
       "      <td>0.917334</td>\n",
       "      <td>0.960858</td>\n",
       "      <td>0.944719</td>\n",
       "      <td>0.965892</td>\n",
       "      <td>0.603232</td>\n",
       "      <td>0.703650</td>\n",
       "      <td>0.920366</td>\n",
       "      <td>0.220972</td>\n",
       "      <td>0.900597</td>\n",
       "      <td>0.925770</td>\n",
       "    </tr>\n",
       "    <tr>\n",
       "      <th>paid Add to Playlist</th>\n",
       "      <td>-0.040988</td>\n",
       "      <td>0.047974</td>\n",
       "      <td>0.048757</td>\n",
       "      <td>-0.135039</td>\n",
       "      <td>-0.135039</td>\n",
       "      <td>0.086233</td>\n",
       "      <td>0.033269</td>\n",
       "      <td>0.042059</td>\n",
       "      <td>-0.021059</td>\n",
       "      <td>0.053968</td>\n",
       "      <td>...</td>\n",
       "      <td>0.936701</td>\n",
       "      <td>0.983237</td>\n",
       "      <td>0.970638</td>\n",
       "      <td>0.989208</td>\n",
       "      <td>0.625584</td>\n",
       "      <td>0.732989</td>\n",
       "      <td>0.950672</td>\n",
       "      <td>0.225352</td>\n",
       "      <td>0.925290</td>\n",
       "      <td>0.950432</td>\n",
       "    </tr>\n",
       "    <tr>\n",
       "      <th>paid Cancel</th>\n",
       "      <td>0.008945</td>\n",
       "      <td>0.018704</td>\n",
       "      <td>-0.003153</td>\n",
       "      <td>-0.116306</td>\n",
       "      <td>-0.116306</td>\n",
       "      <td>0.013085</td>\n",
       "      <td>-0.012643</td>\n",
       "      <td>0.003344</td>\n",
       "      <td>-0.009453</td>\n",
       "      <td>0.013218</td>\n",
       "      <td>...</td>\n",
       "      <td>0.022098</td>\n",
       "      <td>0.021344</td>\n",
       "      <td>0.018146</td>\n",
       "      <td>0.019134</td>\n",
       "      <td>0.143922</td>\n",
       "      <td>0.003656</td>\n",
       "      <td>0.043106</td>\n",
       "      <td>0.005871</td>\n",
       "      <td>0.044444</td>\n",
       "      <td>-0.004611</td>\n",
       "    </tr>\n",
       "    <tr>\n",
       "      <th>paid Cancellation Confirmation</th>\n",
       "      <td>0.008945</td>\n",
       "      <td>0.018704</td>\n",
       "      <td>-0.003153</td>\n",
       "      <td>-0.116306</td>\n",
       "      <td>-0.116306</td>\n",
       "      <td>0.013085</td>\n",
       "      <td>-0.012643</td>\n",
       "      <td>0.003344</td>\n",
       "      <td>-0.009453</td>\n",
       "      <td>0.013218</td>\n",
       "      <td>...</td>\n",
       "      <td>0.022098</td>\n",
       "      <td>0.021344</td>\n",
       "      <td>0.018146</td>\n",
       "      <td>0.019134</td>\n",
       "      <td>0.143922</td>\n",
       "      <td>0.003656</td>\n",
       "      <td>0.043106</td>\n",
       "      <td>0.005871</td>\n",
       "      <td>0.044444</td>\n",
       "      <td>-0.004611</td>\n",
       "    </tr>\n",
       "    <tr>\n",
       "      <th>paid Downgrade</th>\n",
       "      <td>-0.000398</td>\n",
       "      <td>0.110787</td>\n",
       "      <td>0.109867</td>\n",
       "      <td>-0.113551</td>\n",
       "      <td>-0.113551</td>\n",
       "      <td>0.121637</td>\n",
       "      <td>0.088938</td>\n",
       "      <td>0.108357</td>\n",
       "      <td>0.046089</td>\n",
       "      <td>0.125206</td>\n",
       "      <td>...</td>\n",
       "      <td>0.874893</td>\n",
       "      <td>0.923575</td>\n",
       "      <td>0.918732</td>\n",
       "      <td>0.928801</td>\n",
       "      <td>0.601968</td>\n",
       "      <td>0.688100</td>\n",
       "      <td>0.880675</td>\n",
       "      <td>0.308493</td>\n",
       "      <td>0.893240</td>\n",
       "      <td>0.795419</td>\n",
       "    </tr>\n",
       "    <tr>\n",
       "      <th>paid Error</th>\n",
       "      <td>-0.032039</td>\n",
       "      <td>0.058393</td>\n",
       "      <td>0.066308</td>\n",
       "      <td>-0.102322</td>\n",
       "      <td>-0.102322</td>\n",
       "      <td>0.060339</td>\n",
       "      <td>0.016651</td>\n",
       "      <td>0.062721</td>\n",
       "      <td>-0.006002</td>\n",
       "      <td>0.073922</td>\n",
       "      <td>...</td>\n",
       "      <td>0.782830</td>\n",
       "      <td>0.829206</td>\n",
       "      <td>0.811044</td>\n",
       "      <td>0.837772</td>\n",
       "      <td>0.528857</td>\n",
       "      <td>0.630091</td>\n",
       "      <td>0.804503</td>\n",
       "      <td>0.199246</td>\n",
       "      <td>0.779340</td>\n",
       "      <td>0.776615</td>\n",
       "    </tr>\n",
       "    <tr>\n",
       "      <th>paid Help</th>\n",
       "      <td>-0.024893</td>\n",
       "      <td>0.085225</td>\n",
       "      <td>0.071688</td>\n",
       "      <td>-0.126368</td>\n",
       "      <td>-0.126368</td>\n",
       "      <td>0.100593</td>\n",
       "      <td>0.047850</td>\n",
       "      <td>0.068286</td>\n",
       "      <td>0.005344</td>\n",
       "      <td>0.083199</td>\n",
       "      <td>...</td>\n",
       "      <td>1.000000</td>\n",
       "      <td>0.932618</td>\n",
       "      <td>0.919678</td>\n",
       "      <td>0.944534</td>\n",
       "      <td>0.584359</td>\n",
       "      <td>0.702721</td>\n",
       "      <td>0.911830</td>\n",
       "      <td>0.229132</td>\n",
       "      <td>0.892847</td>\n",
       "      <td>0.896446</td>\n",
       "    </tr>\n",
       "    <tr>\n",
       "      <th>paid Home</th>\n",
       "      <td>-0.029298</td>\n",
       "      <td>0.072909</td>\n",
       "      <td>0.062521</td>\n",
       "      <td>-0.136726</td>\n",
       "      <td>-0.136726</td>\n",
       "      <td>0.083686</td>\n",
       "      <td>0.044880</td>\n",
       "      <td>0.064407</td>\n",
       "      <td>0.001325</td>\n",
       "      <td>0.073286</td>\n",
       "      <td>...</td>\n",
       "      <td>0.932618</td>\n",
       "      <td>1.000000</td>\n",
       "      <td>0.983995</td>\n",
       "      <td>0.992046</td>\n",
       "      <td>0.651035</td>\n",
       "      <td>0.761653</td>\n",
       "      <td>0.951004</td>\n",
       "      <td>0.250914</td>\n",
       "      <td>0.929087</td>\n",
       "      <td>0.941042</td>\n",
       "    </tr>\n",
       "    <tr>\n",
       "      <th>paid Logout</th>\n",
       "      <td>-0.030329</td>\n",
       "      <td>0.069663</td>\n",
       "      <td>0.056090</td>\n",
       "      <td>-0.133651</td>\n",
       "      <td>-0.133651</td>\n",
       "      <td>0.078992</td>\n",
       "      <td>0.039841</td>\n",
       "      <td>0.059341</td>\n",
       "      <td>-0.000331</td>\n",
       "      <td>0.067352</td>\n",
       "      <td>...</td>\n",
       "      <td>0.919678</td>\n",
       "      <td>0.983995</td>\n",
       "      <td>1.000000</td>\n",
       "      <td>0.978683</td>\n",
       "      <td>0.640423</td>\n",
       "      <td>0.742866</td>\n",
       "      <td>0.938271</td>\n",
       "      <td>0.238012</td>\n",
       "      <td>0.913965</td>\n",
       "      <td>0.915415</td>\n",
       "    </tr>\n",
       "    <tr>\n",
       "      <th>paid NextSong</th>\n",
       "      <td>-0.029052</td>\n",
       "      <td>0.066149</td>\n",
       "      <td>0.058473</td>\n",
       "      <td>-0.131729</td>\n",
       "      <td>-0.131729</td>\n",
       "      <td>0.087923</td>\n",
       "      <td>0.040566</td>\n",
       "      <td>0.056701</td>\n",
       "      <td>-0.008638</td>\n",
       "      <td>0.068697</td>\n",
       "      <td>...</td>\n",
       "      <td>0.944534</td>\n",
       "      <td>0.992046</td>\n",
       "      <td>0.978683</td>\n",
       "      <td>1.000000</td>\n",
       "      <td>0.638406</td>\n",
       "      <td>0.745350</td>\n",
       "      <td>0.958557</td>\n",
       "      <td>0.239593</td>\n",
       "      <td>0.934694</td>\n",
       "      <td>0.945674</td>\n",
       "    </tr>\n",
       "    <tr>\n",
       "      <th>paid Roll Advert</th>\n",
       "      <td>0.000457</td>\n",
       "      <td>0.044755</td>\n",
       "      <td>0.053496</td>\n",
       "      <td>-0.084493</td>\n",
       "      <td>-0.084493</td>\n",
       "      <td>0.073958</td>\n",
       "      <td>0.054157</td>\n",
       "      <td>0.048053</td>\n",
       "      <td>0.018213</td>\n",
       "      <td>0.056660</td>\n",
       "      <td>...</td>\n",
       "      <td>0.584359</td>\n",
       "      <td>0.651035</td>\n",
       "      <td>0.640423</td>\n",
       "      <td>0.638406</td>\n",
       "      <td>1.000000</td>\n",
       "      <td>0.534707</td>\n",
       "      <td>0.608032</td>\n",
       "      <td>0.278056</td>\n",
       "      <td>0.593128</td>\n",
       "      <td>0.599213</td>\n",
       "    </tr>\n",
       "    <tr>\n",
       "      <th>paid Save Settings</th>\n",
       "      <td>-0.046558</td>\n",
       "      <td>0.047345</td>\n",
       "      <td>0.011615</td>\n",
       "      <td>-0.145151</td>\n",
       "      <td>-0.145151</td>\n",
       "      <td>0.012772</td>\n",
       "      <td>0.034268</td>\n",
       "      <td>0.031551</td>\n",
       "      <td>-0.032105</td>\n",
       "      <td>0.021858</td>\n",
       "      <td>...</td>\n",
       "      <td>0.702721</td>\n",
       "      <td>0.761653</td>\n",
       "      <td>0.742866</td>\n",
       "      <td>0.745350</td>\n",
       "      <td>0.534707</td>\n",
       "      <td>1.000000</td>\n",
       "      <td>0.791220</td>\n",
       "      <td>0.142858</td>\n",
       "      <td>0.689842</td>\n",
       "      <td>0.693337</td>\n",
       "    </tr>\n",
       "    <tr>\n",
       "      <th>paid Settings</th>\n",
       "      <td>-0.031298</td>\n",
       "      <td>0.053580</td>\n",
       "      <td>0.040690</td>\n",
       "      <td>-0.140453</td>\n",
       "      <td>-0.140453</td>\n",
       "      <td>0.079646</td>\n",
       "      <td>0.015738</td>\n",
       "      <td>0.044951</td>\n",
       "      <td>-0.025312</td>\n",
       "      <td>0.054433</td>\n",
       "      <td>...</td>\n",
       "      <td>0.911830</td>\n",
       "      <td>0.951004</td>\n",
       "      <td>0.938271</td>\n",
       "      <td>0.958557</td>\n",
       "      <td>0.608032</td>\n",
       "      <td>0.791220</td>\n",
       "      <td>1.000000</td>\n",
       "      <td>0.215050</td>\n",
       "      <td>0.902533</td>\n",
       "      <td>0.916805</td>\n",
       "    </tr>\n",
       "    <tr>\n",
       "      <th>paid Submit Downgrade</th>\n",
       "      <td>0.192512</td>\n",
       "      <td>0.358695</td>\n",
       "      <td>0.388142</td>\n",
       "      <td>0.042779</td>\n",
       "      <td>0.042779</td>\n",
       "      <td>0.260684</td>\n",
       "      <td>0.332156</td>\n",
       "      <td>0.407299</td>\n",
       "      <td>0.361995</td>\n",
       "      <td>0.403767</td>\n",
       "      <td>...</td>\n",
       "      <td>0.229132</td>\n",
       "      <td>0.250914</td>\n",
       "      <td>0.238012</td>\n",
       "      <td>0.239593</td>\n",
       "      <td>0.278056</td>\n",
       "      <td>0.142858</td>\n",
       "      <td>0.215050</td>\n",
       "      <td>1.000000</td>\n",
       "      <td>0.258706</td>\n",
       "      <td>0.206169</td>\n",
       "    </tr>\n",
       "    <tr>\n",
       "      <th>paid Thumbs Down</th>\n",
       "      <td>0.004932</td>\n",
       "      <td>0.102967</td>\n",
       "      <td>0.100096</td>\n",
       "      <td>-0.112442</td>\n",
       "      <td>-0.112442</td>\n",
       "      <td>0.123892</td>\n",
       "      <td>0.078611</td>\n",
       "      <td>0.093217</td>\n",
       "      <td>0.034441</td>\n",
       "      <td>0.110042</td>\n",
       "      <td>...</td>\n",
       "      <td>0.892847</td>\n",
       "      <td>0.929087</td>\n",
       "      <td>0.913965</td>\n",
       "      <td>0.934694</td>\n",
       "      <td>0.593128</td>\n",
       "      <td>0.689842</td>\n",
       "      <td>0.902533</td>\n",
       "      <td>0.258706</td>\n",
       "      <td>1.000000</td>\n",
       "      <td>0.881801</td>\n",
       "    </tr>\n",
       "    <tr>\n",
       "      <th>paid Thumbs Up</th>\n",
       "      <td>-0.052079</td>\n",
       "      <td>0.032243</td>\n",
       "      <td>0.028305</td>\n",
       "      <td>-0.124670</td>\n",
       "      <td>-0.124670</td>\n",
       "      <td>0.066259</td>\n",
       "      <td>0.002914</td>\n",
       "      <td>0.020037</td>\n",
       "      <td>-0.036721</td>\n",
       "      <td>0.027215</td>\n",
       "      <td>...</td>\n",
       "      <td>0.896446</td>\n",
       "      <td>0.941042</td>\n",
       "      <td>0.915415</td>\n",
       "      <td>0.945674</td>\n",
       "      <td>0.599213</td>\n",
       "      <td>0.693337</td>\n",
       "      <td>0.916805</td>\n",
       "      <td>0.206169</td>\n",
       "      <td>0.881801</td>\n",
       "      <td>1.000000</td>\n",
       "    </tr>\n",
       "  </tbody>\n",
       "</table>\n",
       "<p>34 rows × 34 columns</p>\n",
       "</div>"
      ],
      "text/plain": [
       "                                          index                  \\\n",
       "level_page                           free About free Add Friend   \n",
       "      level_page                                                  \n",
       "index free About                       1.000000        0.538621   \n",
       "      free Add Friend                  0.538621        1.000000   \n",
       "      free Add to Playlist             0.549647        0.768579   \n",
       "      free Cancel                      0.007856        0.072557   \n",
       "      free Cancellation Confirmation   0.007856        0.072557   \n",
       "      free Error                       0.281151        0.465825   \n",
       "      free Help                        0.430630        0.609941   \n",
       "      free Home                        0.586415        0.840855   \n",
       "      free Logout                      0.533289        0.819536   \n",
       "      free NextSong                    0.595814        0.847933   \n",
       "      free Roll Advert                 0.567081        0.780306   \n",
       "      free Save Settings               0.416658        0.495692   \n",
       "      free Settings                    0.477591        0.668206   \n",
       "      free Submit Upgrade              0.227092        0.360375   \n",
       "      free Thumbs Down                 0.400954        0.687340   \n",
       "      free Thumbs Up                   0.559860        0.819439   \n",
       "      free Upgrade                     0.469577        0.717843   \n",
       "      paid About                      -0.023118        0.051743   \n",
       "      paid Add Friend                 -0.024096        0.077192   \n",
       "      paid Add to Playlist            -0.040988        0.047974   \n",
       "      paid Cancel                      0.008945        0.018704   \n",
       "      paid Cancellation Confirmation   0.008945        0.018704   \n",
       "      paid Downgrade                  -0.000398        0.110787   \n",
       "      paid Error                      -0.032039        0.058393   \n",
       "      paid Help                       -0.024893        0.085225   \n",
       "      paid Home                       -0.029298        0.072909   \n",
       "      paid Logout                     -0.030329        0.069663   \n",
       "      paid NextSong                   -0.029052        0.066149   \n",
       "      paid Roll Advert                 0.000457        0.044755   \n",
       "      paid Save Settings              -0.046558        0.047345   \n",
       "      paid Settings                   -0.031298        0.053580   \n",
       "      paid Submit Downgrade            0.192512        0.358695   \n",
       "      paid Thumbs Down                 0.004932        0.102967   \n",
       "      paid Thumbs Up                  -0.052079        0.032243   \n",
       "\n",
       "                                                                       \\\n",
       "level_page                           free Add to Playlist free Cancel   \n",
       "      level_page                                                        \n",
       "index free About                                 0.549647    0.007856   \n",
       "      free Add Friend                            0.768579    0.072557   \n",
       "      free Add to Playlist                       1.000000    0.066893   \n",
       "      free Cancel                                0.066893    1.000000   \n",
       "      free Cancellation Confirmation             0.066893    1.000000   \n",
       "      free Error                                 0.536288    0.054149   \n",
       "      free Help                                  0.702367    0.059575   \n",
       "      free Home                                  0.912092    0.055735   \n",
       "      free Logout                                0.864012    0.061459   \n",
       "      free NextSong                              0.934834    0.063787   \n",
       "      free Roll Advert                           0.867929    0.125156   \n",
       "      free Save Settings                         0.588678    0.027783   \n",
       "      free Settings                              0.718389    0.057895   \n",
       "      free Submit Upgrade                        0.405868   -0.152827   \n",
       "      free Thumbs Down                           0.699028    0.146548   \n",
       "      free Thumbs Up                             0.902144    0.042800   \n",
       "      free Upgrade                               0.779327    0.013166   \n",
       "      paid About                                 0.053913   -0.102617   \n",
       "      paid Add Friend                            0.065589   -0.124932   \n",
       "      paid Add to Playlist                       0.048757   -0.135039   \n",
       "      paid Cancel                               -0.003153   -0.116306   \n",
       "      paid Cancellation Confirmation            -0.003153   -0.116306   \n",
       "      paid Downgrade                             0.109867   -0.113551   \n",
       "      paid Error                                 0.066308   -0.102322   \n",
       "      paid Help                                  0.071688   -0.126368   \n",
       "      paid Home                                  0.062521   -0.136726   \n",
       "      paid Logout                                0.056090   -0.133651   \n",
       "      paid NextSong                              0.058473   -0.131729   \n",
       "      paid Roll Advert                           0.053496   -0.084493   \n",
       "      paid Save Settings                         0.011615   -0.145151   \n",
       "      paid Settings                              0.040690   -0.140453   \n",
       "      paid Submit Downgrade                      0.388142    0.042779   \n",
       "      paid Thumbs Down                           0.100096   -0.112442   \n",
       "      paid Thumbs Up                             0.028305   -0.124670   \n",
       "\n",
       "                                                                     \\\n",
       "level_page                           free Cancellation Confirmation   \n",
       "      level_page                                                      \n",
       "index free About                                           0.007856   \n",
       "      free Add Friend                                      0.072557   \n",
       "      free Add to Playlist                                 0.066893   \n",
       "      free Cancel                                          1.000000   \n",
       "      free Cancellation Confirmation                       1.000000   \n",
       "      free Error                                           0.054149   \n",
       "      free Help                                            0.059575   \n",
       "      free Home                                            0.055735   \n",
       "      free Logout                                          0.061459   \n",
       "      free NextSong                                        0.063787   \n",
       "      free Roll Advert                                     0.125156   \n",
       "      free Save Settings                                   0.027783   \n",
       "      free Settings                                        0.057895   \n",
       "      free Submit Upgrade                                 -0.152827   \n",
       "      free Thumbs Down                                     0.146548   \n",
       "      free Thumbs Up                                       0.042800   \n",
       "      free Upgrade                                         0.013166   \n",
       "      paid About                                          -0.102617   \n",
       "      paid Add Friend                                     -0.124932   \n",
       "      paid Add to Playlist                                -0.135039   \n",
       "      paid Cancel                                         -0.116306   \n",
       "      paid Cancellation Confirmation                      -0.116306   \n",
       "      paid Downgrade                                      -0.113551   \n",
       "      paid Error                                          -0.102322   \n",
       "      paid Help                                           -0.126368   \n",
       "      paid Home                                           -0.136726   \n",
       "      paid Logout                                         -0.133651   \n",
       "      paid NextSong                                       -0.131729   \n",
       "      paid Roll Advert                                    -0.084493   \n",
       "      paid Save Settings                                  -0.145151   \n",
       "      paid Settings                                       -0.140453   \n",
       "      paid Submit Downgrade                                0.042779   \n",
       "      paid Thumbs Down                                    -0.112442   \n",
       "      paid Thumbs Up                                      -0.124670   \n",
       "\n",
       "                                                                     \\\n",
       "level_page                           free Error free Help free Home   \n",
       "      level_page                                                      \n",
       "index free About                       0.281151  0.430630  0.586415   \n",
       "      free Add Friend                  0.465825  0.609941  0.840855   \n",
       "      free Add to Playlist             0.536288  0.702367  0.912092   \n",
       "      free Cancel                      0.054149  0.059575  0.055735   \n",
       "      free Cancellation Confirmation   0.054149  0.059575  0.055735   \n",
       "      free Error                       1.000000  0.346877  0.554604   \n",
       "      free Help                        0.346877  1.000000  0.716138   \n",
       "      free Home                        0.554604  0.716138  1.000000   \n",
       "      free Logout                      0.516649  0.668890  0.941654   \n",
       "      free NextSong                    0.554837  0.741974  0.970579   \n",
       "      free Roll Advert                 0.493376  0.703360  0.895045   \n",
       "      free Save Settings               0.316643  0.478825  0.624112   \n",
       "      free Settings                    0.376284  0.589706  0.771162   \n",
       "      free Submit Upgrade              0.212832  0.374124  0.425019   \n",
       "      free Thumbs Down                 0.469203  0.526456  0.715780   \n",
       "      free Thumbs Up                   0.531207  0.717209  0.922198   \n",
       "      free Upgrade                     0.429248  0.641537  0.795646   \n",
       "      paid About                       0.076533  0.034308  0.038316   \n",
       "      paid Add Friend                  0.097096  0.047219  0.057500   \n",
       "      paid Add to Playlist             0.086233  0.033269  0.042059   \n",
       "      paid Cancel                      0.013085 -0.012643  0.003344   \n",
       "      paid Cancellation Confirmation   0.013085 -0.012643  0.003344   \n",
       "      paid Downgrade                   0.121637  0.088938  0.108357   \n",
       "      paid Error                       0.060339  0.016651  0.062721   \n",
       "      paid Help                        0.100593  0.047850  0.068286   \n",
       "      paid Home                        0.083686  0.044880  0.064407   \n",
       "      paid Logout                      0.078992  0.039841  0.059341   \n",
       "      paid NextSong                    0.087923  0.040566  0.056701   \n",
       "      paid Roll Advert                 0.073958  0.054157  0.048053   \n",
       "      paid Save Settings               0.012772  0.034268  0.031551   \n",
       "      paid Settings                    0.079646  0.015738  0.044951   \n",
       "      paid Submit Downgrade            0.260684  0.332156  0.407299   \n",
       "      paid Thumbs Down                 0.123892  0.078611  0.093217   \n",
       "      paid Thumbs Up                   0.066259  0.002914  0.020037   \n",
       "\n",
       "                                                                ...            \\\n",
       "level_page                           free Logout free NextSong  ... paid Help   \n",
       "      level_page                                                ...             \n",
       "index free About                        0.533289      0.595814  ... -0.024893   \n",
       "      free Add Friend                   0.819536      0.847933  ...  0.085225   \n",
       "      free Add to Playlist              0.864012      0.934834  ...  0.071688   \n",
       "      free Cancel                       0.061459      0.063787  ... -0.126368   \n",
       "      free Cancellation Confirmation    0.061459      0.063787  ... -0.126368   \n",
       "      free Error                        0.516649      0.554837  ...  0.100593   \n",
       "      free Help                         0.668890      0.741974  ...  0.047850   \n",
       "      free Home                         0.941654      0.970579  ...  0.068286   \n",
       "      free Logout                       1.000000      0.914690  ...  0.005344   \n",
       "      free NextSong                     0.914690      1.000000  ...  0.083199   \n",
       "      free Roll Advert                  0.848079      0.935488  ...  0.051507   \n",
       "      free Save Settings                0.550460      0.603206  ...  0.039164   \n",
       "      free Settings                     0.730342      0.763172  ...  0.078918   \n",
       "      free Submit Upgrade               0.360786      0.428695  ...  0.364448   \n",
       "      free Thumbs Down                  0.723308      0.760325  ... -0.034821   \n",
       "      free Thumbs Up                    0.864637      0.952194  ...  0.096545   \n",
       "      free Upgrade                      0.740116      0.813829  ...  0.200744   \n",
       "      paid About                       -0.012967      0.052422  ...  0.827456   \n",
       "      paid Add Friend                  -0.003967      0.072436  ...  0.917334   \n",
       "      paid Add to Playlist             -0.021059      0.053968  ...  0.936701   \n",
       "      paid Cancel                      -0.009453      0.013218  ...  0.022098   \n",
       "      paid Cancellation Confirmation   -0.009453      0.013218  ...  0.022098   \n",
       "      paid Downgrade                    0.046089      0.125206  ...  0.874893   \n",
       "      paid Error                       -0.006002      0.073922  ...  0.782830   \n",
       "      paid Help                         0.005344      0.083199  ...  1.000000   \n",
       "      paid Home                         0.001325      0.073286  ...  0.932618   \n",
       "      paid Logout                      -0.000331      0.067352  ...  0.919678   \n",
       "      paid NextSong                    -0.008638      0.068697  ...  0.944534   \n",
       "      paid Roll Advert                  0.018213      0.056660  ...  0.584359   \n",
       "      paid Save Settings               -0.032105      0.021858  ...  0.702721   \n",
       "      paid Settings                    -0.025312      0.054433  ...  0.911830   \n",
       "      paid Submit Downgrade             0.361995      0.403767  ...  0.229132   \n",
       "      paid Thumbs Down                  0.034441      0.110042  ...  0.892847   \n",
       "      paid Thumbs Up                   -0.036721      0.027215  ...  0.896446   \n",
       "\n",
       "                                                                          \\\n",
       "level_page                           paid Home paid Logout paid NextSong   \n",
       "      level_page                                                           \n",
       "index free About                     -0.029298   -0.030329     -0.029052   \n",
       "      free Add Friend                 0.072909    0.069663      0.066149   \n",
       "      free Add to Playlist            0.062521    0.056090      0.058473   \n",
       "      free Cancel                    -0.136726   -0.133651     -0.131729   \n",
       "      free Cancellation Confirmation -0.136726   -0.133651     -0.131729   \n",
       "      free Error                      0.083686    0.078992      0.087923   \n",
       "      free Help                       0.044880    0.039841      0.040566   \n",
       "      free Home                       0.064407    0.059341      0.056701   \n",
       "      free Logout                     0.001325   -0.000331     -0.008638   \n",
       "      free NextSong                   0.073286    0.067352      0.068697   \n",
       "      free Roll Advert                0.041737    0.037832      0.037832   \n",
       "      free Save Settings              0.030635    0.027991      0.026450   \n",
       "      free Settings                   0.079770    0.074853      0.074171   \n",
       "      free Submit Upgrade             0.393709    0.379081      0.383002   \n",
       "      free Thumbs Down               -0.027179   -0.028938     -0.036562   \n",
       "      free Thumbs Up                  0.090124    0.082570      0.085154   \n",
       "      free Upgrade                    0.212541    0.195659      0.204389   \n",
       "      paid About                      0.873592    0.867571      0.875646   \n",
       "      paid Add Friend                 0.960858    0.944719      0.965892   \n",
       "      paid Add to Playlist            0.983237    0.970638      0.989208   \n",
       "      paid Cancel                     0.021344    0.018146      0.019134   \n",
       "      paid Cancellation Confirmation  0.021344    0.018146      0.019134   \n",
       "      paid Downgrade                  0.923575    0.918732      0.928801   \n",
       "      paid Error                      0.829206    0.811044      0.837772   \n",
       "      paid Help                       0.932618    0.919678      0.944534   \n",
       "      paid Home                       1.000000    0.983995      0.992046   \n",
       "      paid Logout                     0.983995    1.000000      0.978683   \n",
       "      paid NextSong                   0.992046    0.978683      1.000000   \n",
       "      paid Roll Advert                0.651035    0.640423      0.638406   \n",
       "      paid Save Settings              0.761653    0.742866      0.745350   \n",
       "      paid Settings                   0.951004    0.938271      0.958557   \n",
       "      paid Submit Downgrade           0.250914    0.238012      0.239593   \n",
       "      paid Thumbs Down                0.929087    0.913965      0.934694   \n",
       "      paid Thumbs Up                  0.941042    0.915415      0.945674   \n",
       "\n",
       "                                                                          \\\n",
       "level_page                           paid Roll Advert paid Save Settings   \n",
       "      level_page                                                           \n",
       "index free About                             0.000457          -0.046558   \n",
       "      free Add Friend                        0.044755           0.047345   \n",
       "      free Add to Playlist                   0.053496           0.011615   \n",
       "      free Cancel                           -0.084493          -0.145151   \n",
       "      free Cancellation Confirmation        -0.084493          -0.145151   \n",
       "      free Error                             0.073958           0.012772   \n",
       "      free Help                              0.054157           0.034268   \n",
       "      free Home                              0.048053           0.031551   \n",
       "      free Logout                            0.018213          -0.032105   \n",
       "      free NextSong                          0.056660           0.021858   \n",
       "      free Roll Advert                       0.134230          -0.000597   \n",
       "      free Save Settings                    -0.003334           0.056844   \n",
       "      free Settings                          0.036895           0.045263   \n",
       "      free Submit Upgrade                    0.388606           0.310354   \n",
       "      free Thumbs Down                      -0.004915          -0.040575   \n",
       "      free Thumbs Up                         0.070418           0.041898   \n",
       "      free Upgrade                           0.212998           0.147969   \n",
       "      paid About                             0.534670           0.666264   \n",
       "      paid Add Friend                        0.603232           0.703650   \n",
       "      paid Add to Playlist                   0.625584           0.732989   \n",
       "      paid Cancel                            0.143922           0.003656   \n",
       "      paid Cancellation Confirmation         0.143922           0.003656   \n",
       "      paid Downgrade                         0.601968           0.688100   \n",
       "      paid Error                             0.528857           0.630091   \n",
       "      paid Help                              0.584359           0.702721   \n",
       "      paid Home                              0.651035           0.761653   \n",
       "      paid Logout                            0.640423           0.742866   \n",
       "      paid NextSong                          0.638406           0.745350   \n",
       "      paid Roll Advert                       1.000000           0.534707   \n",
       "      paid Save Settings                     0.534707           1.000000   \n",
       "      paid Settings                          0.608032           0.791220   \n",
       "      paid Submit Downgrade                  0.278056           0.142858   \n",
       "      paid Thumbs Down                       0.593128           0.689842   \n",
       "      paid Thumbs Up                         0.599213           0.693337   \n",
       "\n",
       "                                                                          \\\n",
       "level_page                           paid Settings paid Submit Downgrade   \n",
       "      level_page                                                           \n",
       "index free About                         -0.031298              0.192512   \n",
       "      free Add Friend                     0.053580              0.358695   \n",
       "      free Add to Playlist                0.040690              0.388142   \n",
       "      free Cancel                        -0.140453              0.042779   \n",
       "      free Cancellation Confirmation     -0.140453              0.042779   \n",
       "      free Error                          0.079646              0.260684   \n",
       "      free Help                           0.015738              0.332156   \n",
       "      free Home                           0.044951              0.407299   \n",
       "      free Logout                        -0.025312              0.361995   \n",
       "      free NextSong                       0.054433              0.403767   \n",
       "      free Roll Advert                    0.026782              0.409965   \n",
       "      free Save Settings                  0.033820              0.174374   \n",
       "      free Settings                       0.062175              0.315011   \n",
       "      free Submit Upgrade                 0.368659              0.658894   \n",
       "      free Thumbs Down                   -0.031247              0.373457   \n",
       "      free Thumbs Up                      0.070864              0.386291   \n",
       "      free Upgrade                        0.187924              0.443600   \n",
       "      paid About                          0.836338              0.214850   \n",
       "      paid Add Friend                     0.920366              0.220972   \n",
       "      paid Add to Playlist                0.950672              0.225352   \n",
       "      paid Cancel                         0.043106              0.005871   \n",
       "      paid Cancellation Confirmation      0.043106              0.005871   \n",
       "      paid Downgrade                      0.880675              0.308493   \n",
       "      paid Error                          0.804503              0.199246   \n",
       "      paid Help                           0.911830              0.229132   \n",
       "      paid Home                           0.951004              0.250914   \n",
       "      paid Logout                         0.938271              0.238012   \n",
       "      paid NextSong                       0.958557              0.239593   \n",
       "      paid Roll Advert                    0.608032              0.278056   \n",
       "      paid Save Settings                  0.791220              0.142858   \n",
       "      paid Settings                       1.000000              0.215050   \n",
       "      paid Submit Downgrade               0.215050              1.000000   \n",
       "      paid Thumbs Down                    0.902533              0.258706   \n",
       "      paid Thumbs Up                      0.916805              0.206169   \n",
       "\n",
       "                                                                      \n",
       "level_page                           paid Thumbs Down paid Thumbs Up  \n",
       "      level_page                                                      \n",
       "index free About                             0.004932      -0.052079  \n",
       "      free Add Friend                        0.102967       0.032243  \n",
       "      free Add to Playlist                   0.100096       0.028305  \n",
       "      free Cancel                           -0.112442      -0.124670  \n",
       "      free Cancellation Confirmation        -0.112442      -0.124670  \n",
       "      free Error                             0.123892       0.066259  \n",
       "      free Help                              0.078611       0.002914  \n",
       "      free Home                              0.093217       0.020037  \n",
       "      free Logout                            0.034441      -0.036721  \n",
       "      free NextSong                          0.110042       0.027215  \n",
       "      free Roll Advert                       0.066319      -0.000211  \n",
       "      free Save Settings                     0.058658       0.012556  \n",
       "      free Settings                          0.119804       0.041714  \n",
       "      free Submit Upgrade                    0.412077       0.340859  \n",
       "      free Thumbs Down                       0.057046      -0.054525  \n",
       "      free Thumbs Up                         0.117259       0.063569  \n",
       "      free Upgrade                           0.225582       0.189145  \n",
       "      paid About                             0.817064       0.833501  \n",
       "      paid Add Friend                        0.900597       0.925770  \n",
       "      paid Add to Playlist                   0.925290       0.950432  \n",
       "      paid Cancel                            0.044444      -0.004611  \n",
       "      paid Cancellation Confirmation         0.044444      -0.004611  \n",
       "      paid Downgrade                         0.893240       0.795419  \n",
       "      paid Error                             0.779340       0.776615  \n",
       "      paid Help                              0.892847       0.896446  \n",
       "      paid Home                              0.929087       0.941042  \n",
       "      paid Logout                            0.913965       0.915415  \n",
       "      paid NextSong                          0.934694       0.945674  \n",
       "      paid Roll Advert                       0.593128       0.599213  \n",
       "      paid Save Settings                     0.689842       0.693337  \n",
       "      paid Settings                          0.902533       0.916805  \n",
       "      paid Submit Downgrade                  0.258706       0.206169  \n",
       "      paid Thumbs Down                       1.000000       0.881801  \n",
       "      paid Thumbs Up                         0.881801       1.000000  \n",
       "\n",
       "[34 rows x 34 columns]"
      ]
     },
     "execution_count": 74,
     "metadata": {},
     "output_type": "execute_result"
    }
   ],
   "source": [
    "ndf_corr = ndf.corr()\n",
    "ndf_corr"
   ]
  },
  {
   "cell_type": "code",
   "execution_count": 75,
   "metadata": {
    "execution": {
     "iopub.execute_input": "2021-02-01T19:13:23.074832Z",
     "iopub.status.busy": "2021-02-01T19:13:23.073625Z",
     "iopub.status.idle": "2021-02-01T19:13:23.187467Z",
     "shell.execute_reply": "2021-02-01T19:13:23.186706Z"
    },
    "papermill": {
     "duration": 0.292056,
     "end_time": "2021-02-01T19:13:23.187613",
     "exception": false,
     "start_time": "2021-02-01T19:13:22.895557",
     "status": "completed"
    },
    "tags": []
   },
   "outputs": [
    {
     "ename": "KeyError",
     "evalue": "'free NextSong'",
     "output_type": "error",
     "traceback": [
      "\u001b[0;31m---------------------------------------------------------------------------\u001b[0m",
      "\u001b[0;31mKeyError\u001b[0m                                  Traceback (most recent call last)",
      "\u001b[0;32m/opt/conda/lib/python3.7/site-packages/pandas/core/indexes/base.py\u001b[0m in \u001b[0;36mget_loc\u001b[0;34m(self, key, method, tolerance)\u001b[0m\n\u001b[1;32m   2897\u001b[0m             \u001b[0;32mtry\u001b[0m\u001b[0;34m:\u001b[0m\u001b[0;34m\u001b[0m\u001b[0;34m\u001b[0m\u001b[0m\n\u001b[0;32m-> 2898\u001b[0;31m                 \u001b[0;32mreturn\u001b[0m \u001b[0mself\u001b[0m\u001b[0;34m.\u001b[0m\u001b[0m_engine\u001b[0m\u001b[0;34m.\u001b[0m\u001b[0mget_loc\u001b[0m\u001b[0;34m(\u001b[0m\u001b[0mcasted_key\u001b[0m\u001b[0;34m)\u001b[0m\u001b[0;34m\u001b[0m\u001b[0;34m\u001b[0m\u001b[0m\n\u001b[0m\u001b[1;32m   2899\u001b[0m             \u001b[0;32mexcept\u001b[0m \u001b[0mKeyError\u001b[0m \u001b[0;32mas\u001b[0m \u001b[0merr\u001b[0m\u001b[0;34m:\u001b[0m\u001b[0;34m\u001b[0m\u001b[0;34m\u001b[0m\u001b[0m\n",
      "\u001b[0;32mpandas/_libs/index.pyx\u001b[0m in \u001b[0;36mpandas._libs.index.IndexEngine.get_loc\u001b[0;34m()\u001b[0m\n",
      "\u001b[0;32mpandas/_libs/index.pyx\u001b[0m in \u001b[0;36mpandas._libs.index.IndexEngine.get_loc\u001b[0;34m()\u001b[0m\n",
      "\u001b[0;32mpandas/_libs/hashtable_class_helper.pxi\u001b[0m in \u001b[0;36mpandas._libs.hashtable.PyObjectHashTable.get_item\u001b[0;34m()\u001b[0m\n",
      "\u001b[0;32mpandas/_libs/hashtable_class_helper.pxi\u001b[0m in \u001b[0;36mpandas._libs.hashtable.PyObjectHashTable.get_item\u001b[0;34m()\u001b[0m\n",
      "\u001b[0;31mKeyError\u001b[0m: 'free NextSong'",
      "\nThe above exception was the direct cause of the following exception:\n",
      "\u001b[0;31mKeyError\u001b[0m                                  Traceback (most recent call last)",
      "\u001b[0;32m<ipython-input-75-e6ae1b2e2a20>\u001b[0m in \u001b[0;36m<module>\u001b[0;34m\u001b[0m\n\u001b[1;32m      2\u001b[0m \u001b[0;31m#removing these columns takes care of redundancy and creates stronger predictive power\u001b[0m\u001b[0;34m\u001b[0m\u001b[0;34m\u001b[0m\u001b[0;34m\u001b[0m\u001b[0m\n\u001b[1;32m      3\u001b[0m \u001b[0;31m#any that have color close to light diagonal\u001b[0m\u001b[0;34m\u001b[0m\u001b[0;34m\u001b[0m\u001b[0;34m\u001b[0m\u001b[0m\n\u001b[0;32m----> 4\u001b[0;31m \u001b[0mndf\u001b[0m \u001b[0;34m=\u001b[0m \u001b[0mndf\u001b[0m\u001b[0;34m.\u001b[0m\u001b[0mdrop\u001b[0m\u001b[0;34m(\u001b[0m\u001b[0mcolumns\u001b[0m \u001b[0;34m=\u001b[0m\u001b[0;34m[\u001b[0m\u001b[0;34m'free NextSong'\u001b[0m\u001b[0;34m,\u001b[0m \u001b[0;34m'paid Home'\u001b[0m\u001b[0;34m,\u001b[0m \u001b[0;34m'paid Logout'\u001b[0m\u001b[0;34m,\u001b[0m \u001b[0;34m'paid Add to Playlist'\u001b[0m\u001b[0;34m]\u001b[0m\u001b[0;34m)\u001b[0m\u001b[0;34m\u001b[0m\u001b[0;34m\u001b[0m\u001b[0m\n\u001b[0m",
      "\u001b[0;32m/opt/conda/lib/python3.7/site-packages/pandas/core/frame.py\u001b[0m in \u001b[0;36mdrop\u001b[0;34m(self, labels, axis, index, columns, level, inplace, errors)\u001b[0m\n\u001b[1;32m   4172\u001b[0m             \u001b[0mlevel\u001b[0m\u001b[0;34m=\u001b[0m\u001b[0mlevel\u001b[0m\u001b[0;34m,\u001b[0m\u001b[0;34m\u001b[0m\u001b[0;34m\u001b[0m\u001b[0m\n\u001b[1;32m   4173\u001b[0m             \u001b[0minplace\u001b[0m\u001b[0;34m=\u001b[0m\u001b[0minplace\u001b[0m\u001b[0;34m,\u001b[0m\u001b[0;34m\u001b[0m\u001b[0;34m\u001b[0m\u001b[0m\n\u001b[0;32m-> 4174\u001b[0;31m             \u001b[0merrors\u001b[0m\u001b[0;34m=\u001b[0m\u001b[0merrors\u001b[0m\u001b[0;34m,\u001b[0m\u001b[0;34m\u001b[0m\u001b[0;34m\u001b[0m\u001b[0m\n\u001b[0m\u001b[1;32m   4175\u001b[0m         )\n\u001b[1;32m   4176\u001b[0m \u001b[0;34m\u001b[0m\u001b[0m\n",
      "\u001b[0;32m/opt/conda/lib/python3.7/site-packages/pandas/core/generic.py\u001b[0m in \u001b[0;36mdrop\u001b[0;34m(self, labels, axis, index, columns, level, inplace, errors)\u001b[0m\n\u001b[1;32m   3887\u001b[0m         \u001b[0;32mfor\u001b[0m \u001b[0maxis\u001b[0m\u001b[0;34m,\u001b[0m \u001b[0mlabels\u001b[0m \u001b[0;32min\u001b[0m \u001b[0maxes\u001b[0m\u001b[0;34m.\u001b[0m\u001b[0mitems\u001b[0m\u001b[0;34m(\u001b[0m\u001b[0;34m)\u001b[0m\u001b[0;34m:\u001b[0m\u001b[0;34m\u001b[0m\u001b[0;34m\u001b[0m\u001b[0m\n\u001b[1;32m   3888\u001b[0m             \u001b[0;32mif\u001b[0m \u001b[0mlabels\u001b[0m \u001b[0;32mis\u001b[0m \u001b[0;32mnot\u001b[0m \u001b[0;32mNone\u001b[0m\u001b[0;34m:\u001b[0m\u001b[0;34m\u001b[0m\u001b[0;34m\u001b[0m\u001b[0m\n\u001b[0;32m-> 3889\u001b[0;31m                 \u001b[0mobj\u001b[0m \u001b[0;34m=\u001b[0m \u001b[0mobj\u001b[0m\u001b[0;34m.\u001b[0m\u001b[0m_drop_axis\u001b[0m\u001b[0;34m(\u001b[0m\u001b[0mlabels\u001b[0m\u001b[0;34m,\u001b[0m \u001b[0maxis\u001b[0m\u001b[0;34m,\u001b[0m \u001b[0mlevel\u001b[0m\u001b[0;34m=\u001b[0m\u001b[0mlevel\u001b[0m\u001b[0;34m,\u001b[0m \u001b[0merrors\u001b[0m\u001b[0;34m=\u001b[0m\u001b[0merrors\u001b[0m\u001b[0;34m)\u001b[0m\u001b[0;34m\u001b[0m\u001b[0;34m\u001b[0m\u001b[0m\n\u001b[0m\u001b[1;32m   3890\u001b[0m \u001b[0;34m\u001b[0m\u001b[0m\n\u001b[1;32m   3891\u001b[0m         \u001b[0;32mif\u001b[0m \u001b[0minplace\u001b[0m\u001b[0;34m:\u001b[0m\u001b[0;34m\u001b[0m\u001b[0;34m\u001b[0m\u001b[0m\n",
      "\u001b[0;32m/opt/conda/lib/python3.7/site-packages/pandas/core/generic.py\u001b[0m in \u001b[0;36m_drop_axis\u001b[0;34m(self, labels, axis, level, errors)\u001b[0m\n\u001b[1;32m   3921\u001b[0m                 \u001b[0mnew_axis\u001b[0m \u001b[0;34m=\u001b[0m \u001b[0maxis\u001b[0m\u001b[0;34m.\u001b[0m\u001b[0mdrop\u001b[0m\u001b[0;34m(\u001b[0m\u001b[0mlabels\u001b[0m\u001b[0;34m,\u001b[0m \u001b[0mlevel\u001b[0m\u001b[0;34m=\u001b[0m\u001b[0mlevel\u001b[0m\u001b[0;34m,\u001b[0m \u001b[0merrors\u001b[0m\u001b[0;34m=\u001b[0m\u001b[0merrors\u001b[0m\u001b[0;34m)\u001b[0m\u001b[0;34m\u001b[0m\u001b[0;34m\u001b[0m\u001b[0m\n\u001b[1;32m   3922\u001b[0m             \u001b[0;32melse\u001b[0m\u001b[0;34m:\u001b[0m\u001b[0;34m\u001b[0m\u001b[0;34m\u001b[0m\u001b[0m\n\u001b[0;32m-> 3923\u001b[0;31m                 \u001b[0mnew_axis\u001b[0m \u001b[0;34m=\u001b[0m \u001b[0maxis\u001b[0m\u001b[0;34m.\u001b[0m\u001b[0mdrop\u001b[0m\u001b[0;34m(\u001b[0m\u001b[0mlabels\u001b[0m\u001b[0;34m,\u001b[0m \u001b[0merrors\u001b[0m\u001b[0;34m=\u001b[0m\u001b[0merrors\u001b[0m\u001b[0;34m)\u001b[0m\u001b[0;34m\u001b[0m\u001b[0;34m\u001b[0m\u001b[0m\n\u001b[0m\u001b[1;32m   3924\u001b[0m             \u001b[0mresult\u001b[0m \u001b[0;34m=\u001b[0m \u001b[0mself\u001b[0m\u001b[0;34m.\u001b[0m\u001b[0mreindex\u001b[0m\u001b[0;34m(\u001b[0m\u001b[0;34m**\u001b[0m\u001b[0;34m{\u001b[0m\u001b[0maxis_name\u001b[0m\u001b[0;34m:\u001b[0m \u001b[0mnew_axis\u001b[0m\u001b[0;34m}\u001b[0m\u001b[0;34m)\u001b[0m\u001b[0;34m\u001b[0m\u001b[0;34m\u001b[0m\u001b[0m\n\u001b[1;32m   3925\u001b[0m \u001b[0;34m\u001b[0m\u001b[0m\n",
      "\u001b[0;32m/opt/conda/lib/python3.7/site-packages/pandas/core/indexes/multi.py\u001b[0m in \u001b[0;36mdrop\u001b[0;34m(self, codes, level, errors)\u001b[0m\n\u001b[1;32m   2052\u001b[0m         \u001b[0;32mfor\u001b[0m \u001b[0mlevel_codes\u001b[0m \u001b[0;32min\u001b[0m \u001b[0mcodes\u001b[0m\u001b[0;34m:\u001b[0m\u001b[0;34m\u001b[0m\u001b[0;34m\u001b[0m\u001b[0m\n\u001b[1;32m   2053\u001b[0m             \u001b[0;32mtry\u001b[0m\u001b[0;34m:\u001b[0m\u001b[0;34m\u001b[0m\u001b[0;34m\u001b[0m\u001b[0m\n\u001b[0;32m-> 2054\u001b[0;31m                 \u001b[0mloc\u001b[0m \u001b[0;34m=\u001b[0m \u001b[0mself\u001b[0m\u001b[0;34m.\u001b[0m\u001b[0mget_loc\u001b[0m\u001b[0;34m(\u001b[0m\u001b[0mlevel_codes\u001b[0m\u001b[0;34m)\u001b[0m\u001b[0;34m\u001b[0m\u001b[0;34m\u001b[0m\u001b[0m\n\u001b[0m\u001b[1;32m   2055\u001b[0m                 \u001b[0;31m# get_loc returns either an integer, a slice, or a boolean\u001b[0m\u001b[0;34m\u001b[0m\u001b[0;34m\u001b[0m\u001b[0;34m\u001b[0m\u001b[0m\n\u001b[1;32m   2056\u001b[0m                 \u001b[0;31m# mask\u001b[0m\u001b[0;34m\u001b[0m\u001b[0;34m\u001b[0m\u001b[0;34m\u001b[0m\u001b[0m\n",
      "\u001b[0;32m/opt/conda/lib/python3.7/site-packages/pandas/core/indexes/multi.py\u001b[0m in \u001b[0;36mget_loc\u001b[0;34m(self, key, method)\u001b[0m\n\u001b[1;32m   2702\u001b[0m \u001b[0;34m\u001b[0m\u001b[0m\n\u001b[1;32m   2703\u001b[0m         \u001b[0;32mif\u001b[0m \u001b[0;32mnot\u001b[0m \u001b[0misinstance\u001b[0m\u001b[0;34m(\u001b[0m\u001b[0mkey\u001b[0m\u001b[0;34m,\u001b[0m \u001b[0mtuple\u001b[0m\u001b[0;34m)\u001b[0m\u001b[0;34m:\u001b[0m\u001b[0;34m\u001b[0m\u001b[0;34m\u001b[0m\u001b[0m\n\u001b[0;32m-> 2704\u001b[0;31m             \u001b[0mloc\u001b[0m \u001b[0;34m=\u001b[0m \u001b[0mself\u001b[0m\u001b[0;34m.\u001b[0m\u001b[0m_get_level_indexer\u001b[0m\u001b[0;34m(\u001b[0m\u001b[0mkey\u001b[0m\u001b[0;34m,\u001b[0m \u001b[0mlevel\u001b[0m\u001b[0;34m=\u001b[0m\u001b[0;36m0\u001b[0m\u001b[0;34m)\u001b[0m\u001b[0;34m\u001b[0m\u001b[0;34m\u001b[0m\u001b[0m\n\u001b[0m\u001b[1;32m   2705\u001b[0m             \u001b[0;32mreturn\u001b[0m \u001b[0m_maybe_to_slice\u001b[0m\u001b[0;34m(\u001b[0m\u001b[0mloc\u001b[0m\u001b[0;34m)\u001b[0m\u001b[0;34m\u001b[0m\u001b[0;34m\u001b[0m\u001b[0m\n\u001b[1;32m   2706\u001b[0m \u001b[0;34m\u001b[0m\u001b[0m\n",
      "\u001b[0;32m/opt/conda/lib/python3.7/site-packages/pandas/core/indexes/multi.py\u001b[0m in \u001b[0;36m_get_level_indexer\u001b[0;34m(self, key, level, indexer)\u001b[0m\n\u001b[1;32m   2967\u001b[0m         \u001b[0;32melse\u001b[0m\u001b[0;34m:\u001b[0m\u001b[0;34m\u001b[0m\u001b[0;34m\u001b[0m\u001b[0m\n\u001b[1;32m   2968\u001b[0m \u001b[0;34m\u001b[0m\u001b[0m\n\u001b[0;32m-> 2969\u001b[0;31m             \u001b[0mcode\u001b[0m \u001b[0;34m=\u001b[0m \u001b[0mself\u001b[0m\u001b[0;34m.\u001b[0m\u001b[0m_get_loc_single_level_index\u001b[0m\u001b[0;34m(\u001b[0m\u001b[0mlevel_index\u001b[0m\u001b[0;34m,\u001b[0m \u001b[0mkey\u001b[0m\u001b[0;34m)\u001b[0m\u001b[0;34m\u001b[0m\u001b[0;34m\u001b[0m\u001b[0m\n\u001b[0m\u001b[1;32m   2970\u001b[0m \u001b[0;34m\u001b[0m\u001b[0m\n\u001b[1;32m   2971\u001b[0m             \u001b[0;32mif\u001b[0m \u001b[0mlevel\u001b[0m \u001b[0;34m>\u001b[0m \u001b[0;36m0\u001b[0m \u001b[0;32mor\u001b[0m \u001b[0mself\u001b[0m\u001b[0;34m.\u001b[0m\u001b[0mlexsort_depth\u001b[0m \u001b[0;34m==\u001b[0m \u001b[0;36m0\u001b[0m\u001b[0;34m:\u001b[0m\u001b[0;34m\u001b[0m\u001b[0;34m\u001b[0m\u001b[0m\n",
      "\u001b[0;32m/opt/conda/lib/python3.7/site-packages/pandas/core/indexes/multi.py\u001b[0m in \u001b[0;36m_get_loc_single_level_index\u001b[0;34m(self, level_index, key)\u001b[0m\n\u001b[1;32m   2635\u001b[0m             \u001b[0;32mreturn\u001b[0m \u001b[0;34m-\u001b[0m\u001b[0;36m1\u001b[0m\u001b[0;34m\u001b[0m\u001b[0;34m\u001b[0m\u001b[0m\n\u001b[1;32m   2636\u001b[0m         \u001b[0;32melse\u001b[0m\u001b[0;34m:\u001b[0m\u001b[0;34m\u001b[0m\u001b[0;34m\u001b[0m\u001b[0m\n\u001b[0;32m-> 2637\u001b[0;31m             \u001b[0;32mreturn\u001b[0m \u001b[0mlevel_index\u001b[0m\u001b[0;34m.\u001b[0m\u001b[0mget_loc\u001b[0m\u001b[0;34m(\u001b[0m\u001b[0mkey\u001b[0m\u001b[0;34m)\u001b[0m\u001b[0;34m\u001b[0m\u001b[0;34m\u001b[0m\u001b[0m\n\u001b[0m\u001b[1;32m   2638\u001b[0m \u001b[0;34m\u001b[0m\u001b[0m\n\u001b[1;32m   2639\u001b[0m     \u001b[0;32mdef\u001b[0m \u001b[0mget_loc\u001b[0m\u001b[0;34m(\u001b[0m\u001b[0mself\u001b[0m\u001b[0;34m,\u001b[0m \u001b[0mkey\u001b[0m\u001b[0;34m,\u001b[0m \u001b[0mmethod\u001b[0m\u001b[0;34m=\u001b[0m\u001b[0;32mNone\u001b[0m\u001b[0;34m)\u001b[0m\u001b[0;34m:\u001b[0m\u001b[0;34m\u001b[0m\u001b[0;34m\u001b[0m\u001b[0m\n",
      "\u001b[0;32m/opt/conda/lib/python3.7/site-packages/pandas/core/indexes/base.py\u001b[0m in \u001b[0;36mget_loc\u001b[0;34m(self, key, method, tolerance)\u001b[0m\n\u001b[1;32m   2898\u001b[0m                 \u001b[0;32mreturn\u001b[0m \u001b[0mself\u001b[0m\u001b[0;34m.\u001b[0m\u001b[0m_engine\u001b[0m\u001b[0;34m.\u001b[0m\u001b[0mget_loc\u001b[0m\u001b[0;34m(\u001b[0m\u001b[0mcasted_key\u001b[0m\u001b[0;34m)\u001b[0m\u001b[0;34m\u001b[0m\u001b[0;34m\u001b[0m\u001b[0m\n\u001b[1;32m   2899\u001b[0m             \u001b[0;32mexcept\u001b[0m \u001b[0mKeyError\u001b[0m \u001b[0;32mas\u001b[0m \u001b[0merr\u001b[0m\u001b[0;34m:\u001b[0m\u001b[0;34m\u001b[0m\u001b[0;34m\u001b[0m\u001b[0m\n\u001b[0;32m-> 2900\u001b[0;31m                 \u001b[0;32mraise\u001b[0m \u001b[0mKeyError\u001b[0m\u001b[0;34m(\u001b[0m\u001b[0mkey\u001b[0m\u001b[0;34m)\u001b[0m \u001b[0;32mfrom\u001b[0m \u001b[0merr\u001b[0m\u001b[0;34m\u001b[0m\u001b[0;34m\u001b[0m\u001b[0m\n\u001b[0m\u001b[1;32m   2901\u001b[0m \u001b[0;34m\u001b[0m\u001b[0m\n\u001b[1;32m   2902\u001b[0m         \u001b[0;32mif\u001b[0m \u001b[0mtolerance\u001b[0m \u001b[0;32mis\u001b[0m \u001b[0;32mnot\u001b[0m \u001b[0;32mNone\u001b[0m\u001b[0;34m:\u001b[0m\u001b[0;34m\u001b[0m\u001b[0;34m\u001b[0m\u001b[0m\n",
      "\u001b[0;31mKeyError\u001b[0m: 'free NextSong'"
     ]
    }
   ],
   "source": [
    "#drop columns that have high correlation that are outside of diagonal. if there is a pair that is close to 1, drop one of the columns.\n",
    "#removing these columns takes care of redundancy and creates stronger predictive power\n",
    "#any that have color close to light diagonal\n",
    "ndf = ndf.drop(columns =['free NextSong', 'paid Home', 'paid Logout', 'paid Add to Playlist'])"
   ]
  },
  {
   "cell_type": "markdown",
   "metadata": {
    "papermill": {
     "duration": 0.171761,
     "end_time": "2021-02-01T19:13:23.531845",
     "exception": false,
     "start_time": "2021-02-01T19:13:23.360084",
     "status": "completed"
    },
    "tags": []
   },
   "source": [
    "Creating new features that have strong correlation to label\n",
    "1. Number of days as free user\n",
    "1. Number of sessions as free user\n",
    "1. Average time spent in session by users\n",
    "1. Average number of songs played per session\n",
    "\n",
    "These are of interest because they seem to be telling differences between free and paid users."
   ]
  },
  {
   "cell_type": "markdown",
   "metadata": {
    "papermill": {
     "duration": 0.175539,
     "end_time": "2021-02-01T19:13:23.880264",
     "exception": false,
     "start_time": "2021-02-01T19:13:23.704725",
     "status": "completed"
    },
    "tags": []
   },
   "source": [
    "### Number days as free user"
   ]
  },
  {
   "cell_type": "code",
   "execution_count": 76,
   "metadata": {
    "execution": {
     "iopub.execute_input": "2021-02-01T19:13:24.261465Z",
     "iopub.status.busy": "2021-02-01T19:13:24.259604Z",
     "iopub.status.idle": "2021-02-01T19:13:25.421996Z",
     "shell.execute_reply": "2021-02-01T19:13:25.422587Z"
    },
    "papermill": {
     "duration": 1.367543,
     "end_time": "2021-02-01T19:13:25.422861",
     "exception": false,
     "start_time": "2021-02-01T19:13:24.055318",
     "status": "completed"
    },
    "tags": []
   },
   "outputs": [
    {
     "data": {
      "text/html": [
       "<div>\n",
       "<style scoped>\n",
       "    .dataframe tbody tr th:only-of-type {\n",
       "        vertical-align: middle;\n",
       "    }\n",
       "\n",
       "    .dataframe tbody tr th {\n",
       "        vertical-align: top;\n",
       "    }\n",
       "\n",
       "    .dataframe thead th {\n",
       "        text-align: right;\n",
       "    }\n",
       "</style>\n",
       "<table border=\"1\" class=\"dataframe\">\n",
       "  <thead>\n",
       "    <tr style=\"text-align: right;\">\n",
       "      <th></th>\n",
       "      <th>userId</th>\n",
       "      <th>Max_date</th>\n",
       "    </tr>\n",
       "  </thead>\n",
       "  <tbody>\n",
       "    <tr>\n",
       "      <th>0</th>\n",
       "      <td>100</td>\n",
       "      <td>2018-10-02</td>\n",
       "    </tr>\n",
       "    <tr>\n",
       "      <th>1</th>\n",
       "      <td>100001</td>\n",
       "      <td>2018-10-02</td>\n",
       "    </tr>\n",
       "    <tr>\n",
       "      <th>2</th>\n",
       "      <td>100002</td>\n",
       "      <td>2018-11-02</td>\n",
       "    </tr>\n",
       "    <tr>\n",
       "      <th>3</th>\n",
       "      <td>100003</td>\n",
       "      <td>2018-10-27</td>\n",
       "    </tr>\n",
       "    <tr>\n",
       "      <th>4</th>\n",
       "      <td>100004</td>\n",
       "      <td>2018-10-14</td>\n",
       "    </tr>\n",
       "    <tr>\n",
       "      <th>...</th>\n",
       "      <td>...</td>\n",
       "      <td>...</td>\n",
       "    </tr>\n",
       "    <tr>\n",
       "      <th>365</th>\n",
       "      <td>93</td>\n",
       "      <td>2018-10-20</td>\n",
       "    </tr>\n",
       "    <tr>\n",
       "      <th>366</th>\n",
       "      <td>94</td>\n",
       "      <td>2018-11-05</td>\n",
       "    </tr>\n",
       "    <tr>\n",
       "      <th>367</th>\n",
       "      <td>97</td>\n",
       "      <td>2018-11-29</td>\n",
       "    </tr>\n",
       "    <tr>\n",
       "      <th>368</th>\n",
       "      <td>98</td>\n",
       "      <td>2018-10-10</td>\n",
       "    </tr>\n",
       "    <tr>\n",
       "      <th>369</th>\n",
       "      <td>99</td>\n",
       "      <td>2018-11-27</td>\n",
       "    </tr>\n",
       "  </tbody>\n",
       "</table>\n",
       "<p>370 rows × 2 columns</p>\n",
       "</div>"
      ],
      "text/plain": [
       "     userId    Max_date\n",
       "0       100  2018-10-02\n",
       "1    100001  2018-10-02\n",
       "2    100002  2018-11-02\n",
       "3    100003  2018-10-27\n",
       "4    100004  2018-10-14\n",
       "..      ...         ...\n",
       "365      93  2018-10-20\n",
       "366      94  2018-11-05\n",
       "367      97  2018-11-29\n",
       "368      98  2018-10-10\n",
       "369      99  2018-11-27\n",
       "\n",
       "[370 rows x 2 columns]"
      ]
     },
     "execution_count": 76,
     "metadata": {},
     "output_type": "execute_result"
    }
   ],
   "source": [
    "free_df = df.loc[df['level'] == 'free']\n",
    "\n",
    "max_date = free_df.groupby('userId')['ts_date'].max().reset_index()\n",
    "max_date.columns = ['userId', 'Max_date']\n",
    "max_date"
   ]
  },
  {
   "cell_type": "code",
   "execution_count": 77,
   "metadata": {
    "execution": {
     "iopub.execute_input": "2021-02-01T19:13:25.781791Z",
     "iopub.status.busy": "2021-02-01T19:13:25.780892Z",
     "iopub.status.idle": "2021-02-01T19:13:25.941317Z",
     "shell.execute_reply": "2021-02-01T19:13:25.940639Z"
    },
    "papermill": {
     "duration": 0.338176,
     "end_time": "2021-02-01T19:13:25.941470",
     "exception": false,
     "start_time": "2021-02-01T19:13:25.603294",
     "status": "completed"
    },
    "tags": []
   },
   "outputs": [
    {
     "data": {
      "text/html": [
       "<div>\n",
       "<style scoped>\n",
       "    .dataframe tbody tr th:only-of-type {\n",
       "        vertical-align: middle;\n",
       "    }\n",
       "\n",
       "    .dataframe tbody tr th {\n",
       "        vertical-align: top;\n",
       "    }\n",
       "\n",
       "    .dataframe thead th {\n",
       "        text-align: right;\n",
       "    }\n",
       "</style>\n",
       "<table border=\"1\" class=\"dataframe\">\n",
       "  <thead>\n",
       "    <tr style=\"text-align: right;\">\n",
       "      <th></th>\n",
       "      <th>userId</th>\n",
       "      <th>Min_date</th>\n",
       "    </tr>\n",
       "  </thead>\n",
       "  <tbody>\n",
       "    <tr>\n",
       "      <th>0</th>\n",
       "      <td>100</td>\n",
       "      <td>2018-10-01</td>\n",
       "    </tr>\n",
       "    <tr>\n",
       "      <th>1</th>\n",
       "      <td>100001</td>\n",
       "      <td>2018-10-01</td>\n",
       "    </tr>\n",
       "    <tr>\n",
       "      <th>2</th>\n",
       "      <td>100002</td>\n",
       "      <td>2018-10-09</td>\n",
       "    </tr>\n",
       "    <tr>\n",
       "      <th>3</th>\n",
       "      <td>100003</td>\n",
       "      <td>2018-10-09</td>\n",
       "    </tr>\n",
       "    <tr>\n",
       "      <th>4</th>\n",
       "      <td>100004</td>\n",
       "      <td>2018-10-03</td>\n",
       "    </tr>\n",
       "    <tr>\n",
       "      <th>...</th>\n",
       "      <td>...</td>\n",
       "      <td>...</td>\n",
       "    </tr>\n",
       "    <tr>\n",
       "      <th>365</th>\n",
       "      <td>93</td>\n",
       "      <td>2018-10-01</td>\n",
       "    </tr>\n",
       "    <tr>\n",
       "      <th>366</th>\n",
       "      <td>94</td>\n",
       "      <td>2018-10-07</td>\n",
       "    </tr>\n",
       "    <tr>\n",
       "      <th>367</th>\n",
       "      <td>97</td>\n",
       "      <td>2018-10-06</td>\n",
       "    </tr>\n",
       "    <tr>\n",
       "      <th>368</th>\n",
       "      <td>98</td>\n",
       "      <td>2018-10-01</td>\n",
       "    </tr>\n",
       "    <tr>\n",
       "      <th>369</th>\n",
       "      <td>99</td>\n",
       "      <td>2018-10-03</td>\n",
       "    </tr>\n",
       "  </tbody>\n",
       "</table>\n",
       "<p>370 rows × 2 columns</p>\n",
       "</div>"
      ],
      "text/plain": [
       "     userId    Min_date\n",
       "0       100  2018-10-01\n",
       "1    100001  2018-10-01\n",
       "2    100002  2018-10-09\n",
       "3    100003  2018-10-09\n",
       "4    100004  2018-10-03\n",
       "..      ...         ...\n",
       "365      93  2018-10-01\n",
       "366      94  2018-10-07\n",
       "367      97  2018-10-06\n",
       "368      98  2018-10-01\n",
       "369      99  2018-10-03\n",
       "\n",
       "[370 rows x 2 columns]"
      ]
     },
     "execution_count": 77,
     "metadata": {},
     "output_type": "execute_result"
    }
   ],
   "source": [
    "#min_date\n",
    "min_date = free_df.groupby('userId')['ts_date'].min().reset_index()\n",
    "min_date.columns = ['userId', 'Min_date']\n",
    "min_date "
   ]
  },
  {
   "cell_type": "code",
   "execution_count": 78,
   "metadata": {
    "execution": {
     "iopub.execute_input": "2021-02-01T19:13:26.334173Z",
     "iopub.status.busy": "2021-02-01T19:13:26.319949Z",
     "iopub.status.idle": "2021-02-01T19:13:26.339156Z",
     "shell.execute_reply": "2021-02-01T19:13:26.338568Z"
    },
    "papermill": {
     "duration": 0.216979,
     "end_time": "2021-02-01T19:13:26.339291",
     "exception": false,
     "start_time": "2021-02-01T19:13:26.122312",
     "status": "completed"
    },
    "tags": []
   },
   "outputs": [
    {
     "data": {
      "text/html": [
       "<div>\n",
       "<style scoped>\n",
       "    .dataframe tbody tr th:only-of-type {\n",
       "        vertical-align: middle;\n",
       "    }\n",
       "\n",
       "    .dataframe tbody tr th {\n",
       "        vertical-align: top;\n",
       "    }\n",
       "\n",
       "    .dataframe thead th {\n",
       "        text-align: right;\n",
       "    }\n",
       "</style>\n",
       "<table border=\"1\" class=\"dataframe\">\n",
       "  <thead>\n",
       "    <tr style=\"text-align: right;\">\n",
       "      <th></th>\n",
       "      <th>userId</th>\n",
       "      <th>Max_date</th>\n",
       "      <th>Min_date</th>\n",
       "    </tr>\n",
       "  </thead>\n",
       "  <tbody>\n",
       "    <tr>\n",
       "      <th>0</th>\n",
       "      <td>100</td>\n",
       "      <td>2018-10-02</td>\n",
       "      <td>2018-10-01</td>\n",
       "    </tr>\n",
       "    <tr>\n",
       "      <th>1</th>\n",
       "      <td>100001</td>\n",
       "      <td>2018-10-02</td>\n",
       "      <td>2018-10-01</td>\n",
       "    </tr>\n",
       "    <tr>\n",
       "      <th>2</th>\n",
       "      <td>100002</td>\n",
       "      <td>2018-11-02</td>\n",
       "      <td>2018-10-09</td>\n",
       "    </tr>\n",
       "    <tr>\n",
       "      <th>3</th>\n",
       "      <td>100003</td>\n",
       "      <td>2018-10-27</td>\n",
       "      <td>2018-10-09</td>\n",
       "    </tr>\n",
       "    <tr>\n",
       "      <th>4</th>\n",
       "      <td>100004</td>\n",
       "      <td>2018-10-14</td>\n",
       "      <td>2018-10-03</td>\n",
       "    </tr>\n",
       "    <tr>\n",
       "      <th>...</th>\n",
       "      <td>...</td>\n",
       "      <td>...</td>\n",
       "      <td>...</td>\n",
       "    </tr>\n",
       "    <tr>\n",
       "      <th>365</th>\n",
       "      <td>93</td>\n",
       "      <td>2018-10-20</td>\n",
       "      <td>2018-10-01</td>\n",
       "    </tr>\n",
       "    <tr>\n",
       "      <th>366</th>\n",
       "      <td>94</td>\n",
       "      <td>2018-11-05</td>\n",
       "      <td>2018-10-07</td>\n",
       "    </tr>\n",
       "    <tr>\n",
       "      <th>367</th>\n",
       "      <td>97</td>\n",
       "      <td>2018-11-29</td>\n",
       "      <td>2018-10-06</td>\n",
       "    </tr>\n",
       "    <tr>\n",
       "      <th>368</th>\n",
       "      <td>98</td>\n",
       "      <td>2018-10-10</td>\n",
       "      <td>2018-10-01</td>\n",
       "    </tr>\n",
       "    <tr>\n",
       "      <th>369</th>\n",
       "      <td>99</td>\n",
       "      <td>2018-11-27</td>\n",
       "      <td>2018-10-03</td>\n",
       "    </tr>\n",
       "  </tbody>\n",
       "</table>\n",
       "<p>370 rows × 3 columns</p>\n",
       "</div>"
      ],
      "text/plain": [
       "     userId    Max_date    Min_date\n",
       "0       100  2018-10-02  2018-10-01\n",
       "1    100001  2018-10-02  2018-10-01\n",
       "2    100002  2018-11-02  2018-10-09\n",
       "3    100003  2018-10-27  2018-10-09\n",
       "4    100004  2018-10-14  2018-10-03\n",
       "..      ...         ...         ...\n",
       "365      93  2018-10-20  2018-10-01\n",
       "366      94  2018-11-05  2018-10-07\n",
       "367      97  2018-11-29  2018-10-06\n",
       "368      98  2018-10-10  2018-10-01\n",
       "369      99  2018-11-27  2018-10-03\n",
       "\n",
       "[370 rows x 3 columns]"
      ]
     },
     "execution_count": 78,
     "metadata": {},
     "output_type": "execute_result"
    }
   ],
   "source": [
    "#datediff's\n",
    "dates = pd.merge(max_date,min_date, on=\"userId\")\n",
    "dates"
   ]
  },
  {
   "cell_type": "code",
   "execution_count": 79,
   "metadata": {
    "execution": {
     "iopub.execute_input": "2021-02-01T19:13:26.722860Z",
     "iopub.status.busy": "2021-02-01T19:13:26.716671Z",
     "iopub.status.idle": "2021-02-01T19:13:26.728397Z",
     "shell.execute_reply": "2021-02-01T19:13:26.727678Z"
    },
    "papermill": {
     "duration": 0.212922,
     "end_time": "2021-02-01T19:13:26.728524",
     "exception": false,
     "start_time": "2021-02-01T19:13:26.515602",
     "status": "completed"
    },
    "tags": []
   },
   "outputs": [
    {
     "data": {
      "text/html": [
       "<div>\n",
       "<style scoped>\n",
       "    .dataframe tbody tr th:only-of-type {\n",
       "        vertical-align: middle;\n",
       "    }\n",
       "\n",
       "    .dataframe tbody tr th {\n",
       "        vertical-align: top;\n",
       "    }\n",
       "\n",
       "    .dataframe thead th {\n",
       "        text-align: right;\n",
       "    }\n",
       "</style>\n",
       "<table border=\"1\" class=\"dataframe\">\n",
       "  <thead>\n",
       "    <tr style=\"text-align: right;\">\n",
       "      <th></th>\n",
       "      <th>userId</th>\n",
       "      <th>Max_date</th>\n",
       "      <th>Min_date</th>\n",
       "      <th>days_free</th>\n",
       "    </tr>\n",
       "  </thead>\n",
       "  <tbody>\n",
       "    <tr>\n",
       "      <th>0</th>\n",
       "      <td>100</td>\n",
       "      <td>2018-10-02</td>\n",
       "      <td>2018-10-01</td>\n",
       "      <td>1</td>\n",
       "    </tr>\n",
       "    <tr>\n",
       "      <th>1</th>\n",
       "      <td>100001</td>\n",
       "      <td>2018-10-02</td>\n",
       "      <td>2018-10-01</td>\n",
       "      <td>1</td>\n",
       "    </tr>\n",
       "    <tr>\n",
       "      <th>2</th>\n",
       "      <td>100002</td>\n",
       "      <td>2018-11-02</td>\n",
       "      <td>2018-10-09</td>\n",
       "      <td>24</td>\n",
       "    </tr>\n",
       "    <tr>\n",
       "      <th>3</th>\n",
       "      <td>100003</td>\n",
       "      <td>2018-10-27</td>\n",
       "      <td>2018-10-09</td>\n",
       "      <td>18</td>\n",
       "    </tr>\n",
       "    <tr>\n",
       "      <th>4</th>\n",
       "      <td>100004</td>\n",
       "      <td>2018-10-14</td>\n",
       "      <td>2018-10-03</td>\n",
       "      <td>11</td>\n",
       "    </tr>\n",
       "    <tr>\n",
       "      <th>...</th>\n",
       "      <td>...</td>\n",
       "      <td>...</td>\n",
       "      <td>...</td>\n",
       "      <td>...</td>\n",
       "    </tr>\n",
       "    <tr>\n",
       "      <th>365</th>\n",
       "      <td>93</td>\n",
       "      <td>2018-10-20</td>\n",
       "      <td>2018-10-01</td>\n",
       "      <td>19</td>\n",
       "    </tr>\n",
       "    <tr>\n",
       "      <th>366</th>\n",
       "      <td>94</td>\n",
       "      <td>2018-11-05</td>\n",
       "      <td>2018-10-07</td>\n",
       "      <td>29</td>\n",
       "    </tr>\n",
       "    <tr>\n",
       "      <th>367</th>\n",
       "      <td>97</td>\n",
       "      <td>2018-11-29</td>\n",
       "      <td>2018-10-06</td>\n",
       "      <td>54</td>\n",
       "    </tr>\n",
       "    <tr>\n",
       "      <th>368</th>\n",
       "      <td>98</td>\n",
       "      <td>2018-10-10</td>\n",
       "      <td>2018-10-01</td>\n",
       "      <td>9</td>\n",
       "    </tr>\n",
       "    <tr>\n",
       "      <th>369</th>\n",
       "      <td>99</td>\n",
       "      <td>2018-11-27</td>\n",
       "      <td>2018-10-03</td>\n",
       "      <td>55</td>\n",
       "    </tr>\n",
       "  </tbody>\n",
       "</table>\n",
       "<p>370 rows × 4 columns</p>\n",
       "</div>"
      ],
      "text/plain": [
       "     userId   Max_date   Min_date  days_free\n",
       "0       100 2018-10-02 2018-10-01          1\n",
       "1    100001 2018-10-02 2018-10-01          1\n",
       "2    100002 2018-11-02 2018-10-09         24\n",
       "3    100003 2018-10-27 2018-10-09         18\n",
       "4    100004 2018-10-14 2018-10-03         11\n",
       "..      ...        ...        ...        ...\n",
       "365      93 2018-10-20 2018-10-01         19\n",
       "366      94 2018-11-05 2018-10-07         29\n",
       "367      97 2018-11-29 2018-10-06         54\n",
       "368      98 2018-10-10 2018-10-01          9\n",
       "369      99 2018-11-27 2018-10-03         55\n",
       "\n",
       "[370 rows x 4 columns]"
      ]
     },
     "execution_count": 79,
     "metadata": {},
     "output_type": "execute_result"
    }
   ],
   "source": [
    "dates[['Max_date','Min_date']] = dates[['Max_date','Min_date']].apply(pd.to_datetime) \n",
    "dates['days_free'] = (dates['Max_date'] - dates['Min_date']).dt.days\n",
    "dates"
   ]
  },
  {
   "cell_type": "code",
   "execution_count": 80,
   "metadata": {
    "execution": {
     "iopub.execute_input": "2021-02-01T19:13:27.097003Z",
     "iopub.status.busy": "2021-02-01T19:13:27.095218Z",
     "iopub.status.idle": "2021-02-01T19:13:27.141096Z",
     "shell.execute_reply": "2021-02-01T19:13:27.140384Z"
    },
    "papermill": {
     "duration": 0.234361,
     "end_time": "2021-02-01T19:13:27.141228",
     "exception": false,
     "start_time": "2021-02-01T19:13:26.906867",
     "status": "completed"
    },
    "tags": []
   },
   "outputs": [
    {
     "data": {
      "text/html": [
       "<div>\n",
       "<style scoped>\n",
       "    .dataframe tbody tr th:only-of-type {\n",
       "        vertical-align: middle;\n",
       "    }\n",
       "\n",
       "    .dataframe tbody tr th {\n",
       "        vertical-align: top;\n",
       "    }\n",
       "\n",
       "    .dataframe thead th {\n",
       "        text-align: right;\n",
       "    }\n",
       "</style>\n",
       "<table border=\"1\" class=\"dataframe\">\n",
       "  <thead>\n",
       "    <tr style=\"text-align: right;\">\n",
       "      <th></th>\n",
       "      <th>userId</th>\n",
       "      <th>(userId, )</th>\n",
       "      <th>(index, free About)</th>\n",
       "      <th>(index, free Add Friend)</th>\n",
       "      <th>(index, free Add to Playlist)</th>\n",
       "      <th>(index, free Cancel)</th>\n",
       "      <th>(index, free Cancellation Confirmation)</th>\n",
       "      <th>(index, free Error)</th>\n",
       "      <th>(index, free Help)</th>\n",
       "      <th>(index, free Home)</th>\n",
       "      <th>...</th>\n",
       "      <th>(index, paid Home)</th>\n",
       "      <th>(index, paid Logout)</th>\n",
       "      <th>(index, paid NextSong)</th>\n",
       "      <th>(index, paid Roll Advert)</th>\n",
       "      <th>(index, paid Save Settings)</th>\n",
       "      <th>(index, paid Settings)</th>\n",
       "      <th>(index, paid Submit Downgrade)</th>\n",
       "      <th>(index, paid Thumbs Down)</th>\n",
       "      <th>(index, paid Thumbs Up)</th>\n",
       "      <th>days_free</th>\n",
       "    </tr>\n",
       "  </thead>\n",
       "  <tbody>\n",
       "    <tr>\n",
       "      <th>0</th>\n",
       "      <td>10</td>\n",
       "      <td>10</td>\n",
       "      <td>0</td>\n",
       "      <td>0</td>\n",
       "      <td>0</td>\n",
       "      <td>0</td>\n",
       "      <td>0</td>\n",
       "      <td>0</td>\n",
       "      <td>0</td>\n",
       "      <td>0</td>\n",
       "      <td>...</td>\n",
       "      <td>15</td>\n",
       "      <td>4</td>\n",
       "      <td>360</td>\n",
       "      <td>0</td>\n",
       "      <td>0</td>\n",
       "      <td>2</td>\n",
       "      <td>0</td>\n",
       "      <td>1</td>\n",
       "      <td>17</td>\n",
       "      <td>NaN</td>\n",
       "    </tr>\n",
       "    <tr>\n",
       "      <th>1</th>\n",
       "      <td>100</td>\n",
       "      <td>100</td>\n",
       "      <td>0</td>\n",
       "      <td>0</td>\n",
       "      <td>2</td>\n",
       "      <td>0</td>\n",
       "      <td>0</td>\n",
       "      <td>0</td>\n",
       "      <td>0</td>\n",
       "      <td>3</td>\n",
       "      <td>...</td>\n",
       "      <td>132</td>\n",
       "      <td>35</td>\n",
       "      <td>3336</td>\n",
       "      <td>3</td>\n",
       "      <td>2</td>\n",
       "      <td>17</td>\n",
       "      <td>0</td>\n",
       "      <td>37</td>\n",
       "      <td>142</td>\n",
       "      <td>1.0</td>\n",
       "    </tr>\n",
       "    <tr>\n",
       "      <th>2</th>\n",
       "      <td>100001</td>\n",
       "      <td>100001</td>\n",
       "      <td>1</td>\n",
       "      <td>1</td>\n",
       "      <td>3</td>\n",
       "      <td>1</td>\n",
       "      <td>1</td>\n",
       "      <td>0</td>\n",
       "      <td>1</td>\n",
       "      <td>4</td>\n",
       "      <td>...</td>\n",
       "      <td>0</td>\n",
       "      <td>0</td>\n",
       "      <td>0</td>\n",
       "      <td>0</td>\n",
       "      <td>0</td>\n",
       "      <td>0</td>\n",
       "      <td>0</td>\n",
       "      <td>0</td>\n",
       "      <td>0</td>\n",
       "      <td>1.0</td>\n",
       "    </tr>\n",
       "    <tr>\n",
       "      <th>3</th>\n",
       "      <td>100002</td>\n",
       "      <td>100002</td>\n",
       "      <td>0</td>\n",
       "      <td>0</td>\n",
       "      <td>1</td>\n",
       "      <td>0</td>\n",
       "      <td>0</td>\n",
       "      <td>0</td>\n",
       "      <td>1</td>\n",
       "      <td>5</td>\n",
       "      <td>...</td>\n",
       "      <td>7</td>\n",
       "      <td>1</td>\n",
       "      <td>113</td>\n",
       "      <td>0</td>\n",
       "      <td>0</td>\n",
       "      <td>0</td>\n",
       "      <td>1</td>\n",
       "      <td>2</td>\n",
       "      <td>5</td>\n",
       "      <td>24.0</td>\n",
       "    </tr>\n",
       "    <tr>\n",
       "      <th>4</th>\n",
       "      <td>100003</td>\n",
       "      <td>100003</td>\n",
       "      <td>0</td>\n",
       "      <td>6</td>\n",
       "      <td>6</td>\n",
       "      <td>0</td>\n",
       "      <td>0</td>\n",
       "      <td>1</td>\n",
       "      <td>1</td>\n",
       "      <td>10</td>\n",
       "      <td>...</td>\n",
       "      <td>21</td>\n",
       "      <td>8</td>\n",
       "      <td>430</td>\n",
       "      <td>4</td>\n",
       "      <td>1</td>\n",
       "      <td>3</td>\n",
       "      <td>0</td>\n",
       "      <td>3</td>\n",
       "      <td>10</td>\n",
       "      <td>18.0</td>\n",
       "    </tr>\n",
       "    <tr>\n",
       "      <th>...</th>\n",
       "      <td>...</td>\n",
       "      <td>...</td>\n",
       "      <td>...</td>\n",
       "      <td>...</td>\n",
       "      <td>...</td>\n",
       "      <td>...</td>\n",
       "      <td>...</td>\n",
       "      <td>...</td>\n",
       "      <td>...</td>\n",
       "      <td>...</td>\n",
       "      <td>...</td>\n",
       "      <td>...</td>\n",
       "      <td>...</td>\n",
       "      <td>...</td>\n",
       "      <td>...</td>\n",
       "      <td>...</td>\n",
       "      <td>...</td>\n",
       "      <td>...</td>\n",
       "      <td>...</td>\n",
       "      <td>...</td>\n",
       "      <td>...</td>\n",
       "    </tr>\n",
       "    <tr>\n",
       "      <th>443</th>\n",
       "      <td>95</td>\n",
       "      <td>95</td>\n",
       "      <td>0</td>\n",
       "      <td>0</td>\n",
       "      <td>0</td>\n",
       "      <td>0</td>\n",
       "      <td>0</td>\n",
       "      <td>0</td>\n",
       "      <td>0</td>\n",
       "      <td>0</td>\n",
       "      <td>...</td>\n",
       "      <td>81</td>\n",
       "      <td>17</td>\n",
       "      <td>2062</td>\n",
       "      <td>4</td>\n",
       "      <td>5</td>\n",
       "      <td>16</td>\n",
       "      <td>0</td>\n",
       "      <td>21</td>\n",
       "      <td>122</td>\n",
       "      <td>NaN</td>\n",
       "    </tr>\n",
       "    <tr>\n",
       "      <th>444</th>\n",
       "      <td>96</td>\n",
       "      <td>96</td>\n",
       "      <td>0</td>\n",
       "      <td>0</td>\n",
       "      <td>0</td>\n",
       "      <td>0</td>\n",
       "      <td>0</td>\n",
       "      <td>0</td>\n",
       "      <td>0</td>\n",
       "      <td>0</td>\n",
       "      <td>...</td>\n",
       "      <td>84</td>\n",
       "      <td>29</td>\n",
       "      <td>1950</td>\n",
       "      <td>3</td>\n",
       "      <td>3</td>\n",
       "      <td>8</td>\n",
       "      <td>0</td>\n",
       "      <td>20</td>\n",
       "      <td>78</td>\n",
       "      <td>NaN</td>\n",
       "    </tr>\n",
       "    <tr>\n",
       "      <th>445</th>\n",
       "      <td>97</td>\n",
       "      <td>97</td>\n",
       "      <td>6</td>\n",
       "      <td>23</td>\n",
       "      <td>31</td>\n",
       "      <td>0</td>\n",
       "      <td>0</td>\n",
       "      <td>2</td>\n",
       "      <td>9</td>\n",
       "      <td>73</td>\n",
       "      <td>...</td>\n",
       "      <td>2</td>\n",
       "      <td>0</td>\n",
       "      <td>55</td>\n",
       "      <td>0</td>\n",
       "      <td>0</td>\n",
       "      <td>0</td>\n",
       "      <td>0</td>\n",
       "      <td>1</td>\n",
       "      <td>4</td>\n",
       "      <td>54.0</td>\n",
       "    </tr>\n",
       "    <tr>\n",
       "      <th>446</th>\n",
       "      <td>98</td>\n",
       "      <td>98</td>\n",
       "      <td>0</td>\n",
       "      <td>2</td>\n",
       "      <td>2</td>\n",
       "      <td>0</td>\n",
       "      <td>0</td>\n",
       "      <td>0</td>\n",
       "      <td>1</td>\n",
       "      <td>5</td>\n",
       "      <td>...</td>\n",
       "      <td>104</td>\n",
       "      <td>32</td>\n",
       "      <td>2648</td>\n",
       "      <td>4</td>\n",
       "      <td>7</td>\n",
       "      <td>16</td>\n",
       "      <td>0</td>\n",
       "      <td>31</td>\n",
       "      <td>129</td>\n",
       "      <td>9.0</td>\n",
       "    </tr>\n",
       "    <tr>\n",
       "      <th>447</th>\n",
       "      <td>99</td>\n",
       "      <td>99</td>\n",
       "      <td>1</td>\n",
       "      <td>14</td>\n",
       "      <td>6</td>\n",
       "      <td>0</td>\n",
       "      <td>0</td>\n",
       "      <td>0</td>\n",
       "      <td>3</td>\n",
       "      <td>14</td>\n",
       "      <td>...</td>\n",
       "      <td>19</td>\n",
       "      <td>3</td>\n",
       "      <td>670</td>\n",
       "      <td>0</td>\n",
       "      <td>0</td>\n",
       "      <td>4</td>\n",
       "      <td>1</td>\n",
       "      <td>6</td>\n",
       "      <td>27</td>\n",
       "      <td>55.0</td>\n",
       "    </tr>\n",
       "  </tbody>\n",
       "</table>\n",
       "<p>448 rows × 37 columns</p>\n",
       "</div>"
      ],
      "text/plain": [
       "     userId (userId, )  (index, free About)  (index, free Add Friend)  \\\n",
       "0        10         10                    0                         0   \n",
       "1       100        100                    0                         0   \n",
       "2    100001     100001                    1                         1   \n",
       "3    100002     100002                    0                         0   \n",
       "4    100003     100003                    0                         6   \n",
       "..      ...        ...                  ...                       ...   \n",
       "443      95         95                    0                         0   \n",
       "444      96         96                    0                         0   \n",
       "445      97         97                    6                        23   \n",
       "446      98         98                    0                         2   \n",
       "447      99         99                    1                        14   \n",
       "\n",
       "     (index, free Add to Playlist)  (index, free Cancel)  \\\n",
       "0                                0                     0   \n",
       "1                                2                     0   \n",
       "2                                3                     1   \n",
       "3                                1                     0   \n",
       "4                                6                     0   \n",
       "..                             ...                   ...   \n",
       "443                              0                     0   \n",
       "444                              0                     0   \n",
       "445                             31                     0   \n",
       "446                              2                     0   \n",
       "447                              6                     0   \n",
       "\n",
       "     (index, free Cancellation Confirmation)  (index, free Error)  \\\n",
       "0                                          0                    0   \n",
       "1                                          0                    0   \n",
       "2                                          1                    0   \n",
       "3                                          0                    0   \n",
       "4                                          0                    1   \n",
       "..                                       ...                  ...   \n",
       "443                                        0                    0   \n",
       "444                                        0                    0   \n",
       "445                                        0                    2   \n",
       "446                                        0                    0   \n",
       "447                                        0                    0   \n",
       "\n",
       "     (index, free Help)  (index, free Home)  ...  (index, paid Home)  \\\n",
       "0                     0                   0  ...                  15   \n",
       "1                     0                   3  ...                 132   \n",
       "2                     1                   4  ...                   0   \n",
       "3                     1                   5  ...                   7   \n",
       "4                     1                  10  ...                  21   \n",
       "..                  ...                 ...  ...                 ...   \n",
       "443                   0                   0  ...                  81   \n",
       "444                   0                   0  ...                  84   \n",
       "445                   9                  73  ...                   2   \n",
       "446                   1                   5  ...                 104   \n",
       "447                   3                  14  ...                  19   \n",
       "\n",
       "     (index, paid Logout)  (index, paid NextSong)  (index, paid Roll Advert)  \\\n",
       "0                       4                     360                          0   \n",
       "1                      35                    3336                          3   \n",
       "2                       0                       0                          0   \n",
       "3                       1                     113                          0   \n",
       "4                       8                     430                          4   \n",
       "..                    ...                     ...                        ...   \n",
       "443                    17                    2062                          4   \n",
       "444                    29                    1950                          3   \n",
       "445                     0                      55                          0   \n",
       "446                    32                    2648                          4   \n",
       "447                     3                     670                          0   \n",
       "\n",
       "     (index, paid Save Settings)  (index, paid Settings)  \\\n",
       "0                              0                       2   \n",
       "1                              2                      17   \n",
       "2                              0                       0   \n",
       "3                              0                       0   \n",
       "4                              1                       3   \n",
       "..                           ...                     ...   \n",
       "443                            5                      16   \n",
       "444                            3                       8   \n",
       "445                            0                       0   \n",
       "446                            7                      16   \n",
       "447                            0                       4   \n",
       "\n",
       "     (index, paid Submit Downgrade)  (index, paid Thumbs Down)  \\\n",
       "0                                 0                          1   \n",
       "1                                 0                         37   \n",
       "2                                 0                          0   \n",
       "3                                 1                          2   \n",
       "4                                 0                          3   \n",
       "..                              ...                        ...   \n",
       "443                               0                         21   \n",
       "444                               0                         20   \n",
       "445                               0                          1   \n",
       "446                               0                         31   \n",
       "447                               1                          6   \n",
       "\n",
       "     (index, paid Thumbs Up)  days_free  \n",
       "0                         17        NaN  \n",
       "1                        142        1.0  \n",
       "2                          0        1.0  \n",
       "3                          5       24.0  \n",
       "4                         10       18.0  \n",
       "..                       ...        ...  \n",
       "443                      122        NaN  \n",
       "444                       78        NaN  \n",
       "445                        4       54.0  \n",
       "446                      129        9.0  \n",
       "447                       27       55.0  \n",
       "\n",
       "[448 rows x 37 columns]"
      ]
     },
     "execution_count": 80,
     "metadata": {},
     "output_type": "execute_result"
    }
   ],
   "source": [
    "#left join ndf with this df.days_free on userId\n",
    "days_free = pd.merge(ndf, dates, on=\"userId\", how=\"left\")\n",
    "days_free = days_free.drop(columns = ['Max_date', 'Min_date'])\n",
    "days_free"
   ]
  },
  {
   "cell_type": "code",
   "execution_count": 81,
   "metadata": {
    "execution": {
     "iopub.execute_input": "2021-02-01T19:13:27.516903Z",
     "iopub.status.busy": "2021-02-01T19:13:27.516144Z",
     "iopub.status.idle": "2021-02-01T19:13:27.521570Z",
     "shell.execute_reply": "2021-02-01T19:13:27.520981Z"
    },
    "papermill": {
     "duration": 0.204661,
     "end_time": "2021-02-01T19:13:27.521695",
     "exception": false,
     "start_time": "2021-02-01T19:13:27.317034",
     "status": "completed"
    },
    "tags": []
   },
   "outputs": [
    {
     "data": {
      "text/plain": [
       "78"
      ]
     },
     "execution_count": 81,
     "metadata": {},
     "output_type": "execute_result"
    }
   ],
   "source": [
    "#sanity check (null should be 448-370=78)\n",
    "days_free.days_free.isnull().sum()"
   ]
  },
  {
   "cell_type": "markdown",
   "metadata": {
    "papermill": {
     "duration": 0.183734,
     "end_time": "2021-02-01T19:13:27.891996",
     "exception": false,
     "start_time": "2021-02-01T19:13:27.708262",
     "status": "completed"
    },
    "tags": []
   },
   "source": [
    "### Sessions as free user"
   ]
  },
  {
   "cell_type": "code",
   "execution_count": 82,
   "metadata": {
    "execution": {
     "iopub.execute_input": "2021-02-01T19:13:28.268262Z",
     "iopub.status.busy": "2021-02-01T19:13:28.267342Z",
     "iopub.status.idle": "2021-02-01T19:13:28.341357Z",
     "shell.execute_reply": "2021-02-01T19:13:28.340670Z"
    },
    "papermill": {
     "duration": 0.268648,
     "end_time": "2021-02-01T19:13:28.341481",
     "exception": false,
     "start_time": "2021-02-01T19:13:28.072833",
     "status": "completed"
    },
    "tags": []
   },
   "outputs": [
    {
     "data": {
      "text/html": [
       "<div>\n",
       "<style scoped>\n",
       "    .dataframe tbody tr th:only-of-type {\n",
       "        vertical-align: middle;\n",
       "    }\n",
       "\n",
       "    .dataframe tbody tr th {\n",
       "        vertical-align: top;\n",
       "    }\n",
       "\n",
       "    .dataframe thead th {\n",
       "        text-align: right;\n",
       "    }\n",
       "</style>\n",
       "<table border=\"1\" class=\"dataframe\">\n",
       "  <thead>\n",
       "    <tr style=\"text-align: right;\">\n",
       "      <th></th>\n",
       "      <th>userId</th>\n",
       "      <th>dist_sessions_ct</th>\n",
       "    </tr>\n",
       "  </thead>\n",
       "  <tbody>\n",
       "    <tr>\n",
       "      <th>0</th>\n",
       "      <td>100</td>\n",
       "      <td>2</td>\n",
       "    </tr>\n",
       "    <tr>\n",
       "      <th>1</th>\n",
       "      <td>100001</td>\n",
       "      <td>3</td>\n",
       "    </tr>\n",
       "    <tr>\n",
       "      <th>2</th>\n",
       "      <td>100002</td>\n",
       "      <td>3</td>\n",
       "    </tr>\n",
       "    <tr>\n",
       "      <th>3</th>\n",
       "      <td>100003</td>\n",
       "      <td>5</td>\n",
       "    </tr>\n",
       "    <tr>\n",
       "      <th>4</th>\n",
       "      <td>100004</td>\n",
       "      <td>5</td>\n",
       "    </tr>\n",
       "    <tr>\n",
       "      <th>...</th>\n",
       "      <td>...</td>\n",
       "      <td>...</td>\n",
       "    </tr>\n",
       "    <tr>\n",
       "      <th>365</th>\n",
       "      <td>93</td>\n",
       "      <td>4</td>\n",
       "    </tr>\n",
       "    <tr>\n",
       "      <th>366</th>\n",
       "      <td>94</td>\n",
       "      <td>6</td>\n",
       "    </tr>\n",
       "    <tr>\n",
       "      <th>367</th>\n",
       "      <td>97</td>\n",
       "      <td>29</td>\n",
       "    </tr>\n",
       "    <tr>\n",
       "      <th>368</th>\n",
       "      <td>98</td>\n",
       "      <td>6</td>\n",
       "    </tr>\n",
       "    <tr>\n",
       "      <th>369</th>\n",
       "      <td>99</td>\n",
       "      <td>10</td>\n",
       "    </tr>\n",
       "  </tbody>\n",
       "</table>\n",
       "<p>370 rows × 2 columns</p>\n",
       "</div>"
      ],
      "text/plain": [
       "     userId  dist_sessions_ct\n",
       "0       100                 2\n",
       "1    100001                 3\n",
       "2    100002                 3\n",
       "3    100003                 5\n",
       "4    100004                 5\n",
       "..      ...               ...\n",
       "365      93                 4\n",
       "366      94                 6\n",
       "367      97                29\n",
       "368      98                 6\n",
       "369      99                10\n",
       "\n",
       "[370 rows x 2 columns]"
      ]
     },
     "execution_count": 82,
     "metadata": {},
     "output_type": "execute_result"
    }
   ],
   "source": [
    "sessions_free= free_df.groupby('userId').agg({'sessionId': 'count', 'sessionId': 'nunique'}).reset_index()\n",
    "sessions_free.columns = ['userId', 'dist_sessions_ct']\n",
    "sessions_free"
   ]
  },
  {
   "cell_type": "code",
   "execution_count": 83,
   "metadata": {
    "execution": {
     "iopub.execute_input": "2021-02-01T19:13:28.756155Z",
     "iopub.status.busy": "2021-02-01T19:13:28.716650Z",
     "iopub.status.idle": "2021-02-01T19:13:28.763516Z",
     "shell.execute_reply": "2021-02-01T19:13:28.762697Z"
    },
    "papermill": {
     "duration": 0.237733,
     "end_time": "2021-02-01T19:13:28.763685",
     "exception": false,
     "start_time": "2021-02-01T19:13:28.525952",
     "status": "completed"
    },
    "tags": []
   },
   "outputs": [
    {
     "data": {
      "text/html": [
       "<div>\n",
       "<style scoped>\n",
       "    .dataframe tbody tr th:only-of-type {\n",
       "        vertical-align: middle;\n",
       "    }\n",
       "\n",
       "    .dataframe tbody tr th {\n",
       "        vertical-align: top;\n",
       "    }\n",
       "\n",
       "    .dataframe thead th {\n",
       "        text-align: right;\n",
       "    }\n",
       "</style>\n",
       "<table border=\"1\" class=\"dataframe\">\n",
       "  <thead>\n",
       "    <tr style=\"text-align: right;\">\n",
       "      <th></th>\n",
       "      <th>userId</th>\n",
       "      <th>(userId, )</th>\n",
       "      <th>(index, free About)</th>\n",
       "      <th>(index, free Add Friend)</th>\n",
       "      <th>(index, free Add to Playlist)</th>\n",
       "      <th>(index, free Cancel)</th>\n",
       "      <th>(index, free Cancellation Confirmation)</th>\n",
       "      <th>(index, free Error)</th>\n",
       "      <th>(index, free Help)</th>\n",
       "      <th>(index, free Home)</th>\n",
       "      <th>...</th>\n",
       "      <th>(index, paid Logout)</th>\n",
       "      <th>(index, paid NextSong)</th>\n",
       "      <th>(index, paid Roll Advert)</th>\n",
       "      <th>(index, paid Save Settings)</th>\n",
       "      <th>(index, paid Settings)</th>\n",
       "      <th>(index, paid Submit Downgrade)</th>\n",
       "      <th>(index, paid Thumbs Down)</th>\n",
       "      <th>(index, paid Thumbs Up)</th>\n",
       "      <th>days_free</th>\n",
       "      <th>dist_sessions_ct</th>\n",
       "    </tr>\n",
       "  </thead>\n",
       "  <tbody>\n",
       "    <tr>\n",
       "      <th>0</th>\n",
       "      <td>10</td>\n",
       "      <td>10</td>\n",
       "      <td>0</td>\n",
       "      <td>0</td>\n",
       "      <td>0</td>\n",
       "      <td>0</td>\n",
       "      <td>0</td>\n",
       "      <td>0</td>\n",
       "      <td>0</td>\n",
       "      <td>0</td>\n",
       "      <td>...</td>\n",
       "      <td>4</td>\n",
       "      <td>360</td>\n",
       "      <td>0</td>\n",
       "      <td>0</td>\n",
       "      <td>2</td>\n",
       "      <td>0</td>\n",
       "      <td>1</td>\n",
       "      <td>17</td>\n",
       "      <td>NaN</td>\n",
       "      <td>NaN</td>\n",
       "    </tr>\n",
       "    <tr>\n",
       "      <th>1</th>\n",
       "      <td>100</td>\n",
       "      <td>100</td>\n",
       "      <td>0</td>\n",
       "      <td>0</td>\n",
       "      <td>2</td>\n",
       "      <td>0</td>\n",
       "      <td>0</td>\n",
       "      <td>0</td>\n",
       "      <td>0</td>\n",
       "      <td>3</td>\n",
       "      <td>...</td>\n",
       "      <td>35</td>\n",
       "      <td>3336</td>\n",
       "      <td>3</td>\n",
       "      <td>2</td>\n",
       "      <td>17</td>\n",
       "      <td>0</td>\n",
       "      <td>37</td>\n",
       "      <td>142</td>\n",
       "      <td>1.0</td>\n",
       "      <td>2.0</td>\n",
       "    </tr>\n",
       "    <tr>\n",
       "      <th>2</th>\n",
       "      <td>100001</td>\n",
       "      <td>100001</td>\n",
       "      <td>1</td>\n",
       "      <td>1</td>\n",
       "      <td>3</td>\n",
       "      <td>1</td>\n",
       "      <td>1</td>\n",
       "      <td>0</td>\n",
       "      <td>1</td>\n",
       "      <td>4</td>\n",
       "      <td>...</td>\n",
       "      <td>0</td>\n",
       "      <td>0</td>\n",
       "      <td>0</td>\n",
       "      <td>0</td>\n",
       "      <td>0</td>\n",
       "      <td>0</td>\n",
       "      <td>0</td>\n",
       "      <td>0</td>\n",
       "      <td>1.0</td>\n",
       "      <td>3.0</td>\n",
       "    </tr>\n",
       "    <tr>\n",
       "      <th>3</th>\n",
       "      <td>100002</td>\n",
       "      <td>100002</td>\n",
       "      <td>0</td>\n",
       "      <td>0</td>\n",
       "      <td>1</td>\n",
       "      <td>0</td>\n",
       "      <td>0</td>\n",
       "      <td>0</td>\n",
       "      <td>1</td>\n",
       "      <td>5</td>\n",
       "      <td>...</td>\n",
       "      <td>1</td>\n",
       "      <td>113</td>\n",
       "      <td>0</td>\n",
       "      <td>0</td>\n",
       "      <td>0</td>\n",
       "      <td>1</td>\n",
       "      <td>2</td>\n",
       "      <td>5</td>\n",
       "      <td>24.0</td>\n",
       "      <td>3.0</td>\n",
       "    </tr>\n",
       "    <tr>\n",
       "      <th>4</th>\n",
       "      <td>100003</td>\n",
       "      <td>100003</td>\n",
       "      <td>0</td>\n",
       "      <td>6</td>\n",
       "      <td>6</td>\n",
       "      <td>0</td>\n",
       "      <td>0</td>\n",
       "      <td>1</td>\n",
       "      <td>1</td>\n",
       "      <td>10</td>\n",
       "      <td>...</td>\n",
       "      <td>8</td>\n",
       "      <td>430</td>\n",
       "      <td>4</td>\n",
       "      <td>1</td>\n",
       "      <td>3</td>\n",
       "      <td>0</td>\n",
       "      <td>3</td>\n",
       "      <td>10</td>\n",
       "      <td>18.0</td>\n",
       "      <td>5.0</td>\n",
       "    </tr>\n",
       "    <tr>\n",
       "      <th>...</th>\n",
       "      <td>...</td>\n",
       "      <td>...</td>\n",
       "      <td>...</td>\n",
       "      <td>...</td>\n",
       "      <td>...</td>\n",
       "      <td>...</td>\n",
       "      <td>...</td>\n",
       "      <td>...</td>\n",
       "      <td>...</td>\n",
       "      <td>...</td>\n",
       "      <td>...</td>\n",
       "      <td>...</td>\n",
       "      <td>...</td>\n",
       "      <td>...</td>\n",
       "      <td>...</td>\n",
       "      <td>...</td>\n",
       "      <td>...</td>\n",
       "      <td>...</td>\n",
       "      <td>...</td>\n",
       "      <td>...</td>\n",
       "      <td>...</td>\n",
       "    </tr>\n",
       "    <tr>\n",
       "      <th>443</th>\n",
       "      <td>95</td>\n",
       "      <td>95</td>\n",
       "      <td>0</td>\n",
       "      <td>0</td>\n",
       "      <td>0</td>\n",
       "      <td>0</td>\n",
       "      <td>0</td>\n",
       "      <td>0</td>\n",
       "      <td>0</td>\n",
       "      <td>0</td>\n",
       "      <td>...</td>\n",
       "      <td>17</td>\n",
       "      <td>2062</td>\n",
       "      <td>4</td>\n",
       "      <td>5</td>\n",
       "      <td>16</td>\n",
       "      <td>0</td>\n",
       "      <td>21</td>\n",
       "      <td>122</td>\n",
       "      <td>NaN</td>\n",
       "      <td>NaN</td>\n",
       "    </tr>\n",
       "    <tr>\n",
       "      <th>444</th>\n",
       "      <td>96</td>\n",
       "      <td>96</td>\n",
       "      <td>0</td>\n",
       "      <td>0</td>\n",
       "      <td>0</td>\n",
       "      <td>0</td>\n",
       "      <td>0</td>\n",
       "      <td>0</td>\n",
       "      <td>0</td>\n",
       "      <td>0</td>\n",
       "      <td>...</td>\n",
       "      <td>29</td>\n",
       "      <td>1950</td>\n",
       "      <td>3</td>\n",
       "      <td>3</td>\n",
       "      <td>8</td>\n",
       "      <td>0</td>\n",
       "      <td>20</td>\n",
       "      <td>78</td>\n",
       "      <td>NaN</td>\n",
       "      <td>NaN</td>\n",
       "    </tr>\n",
       "    <tr>\n",
       "      <th>445</th>\n",
       "      <td>97</td>\n",
       "      <td>97</td>\n",
       "      <td>6</td>\n",
       "      <td>23</td>\n",
       "      <td>31</td>\n",
       "      <td>0</td>\n",
       "      <td>0</td>\n",
       "      <td>2</td>\n",
       "      <td>9</td>\n",
       "      <td>73</td>\n",
       "      <td>...</td>\n",
       "      <td>0</td>\n",
       "      <td>55</td>\n",
       "      <td>0</td>\n",
       "      <td>0</td>\n",
       "      <td>0</td>\n",
       "      <td>0</td>\n",
       "      <td>1</td>\n",
       "      <td>4</td>\n",
       "      <td>54.0</td>\n",
       "      <td>29.0</td>\n",
       "    </tr>\n",
       "    <tr>\n",
       "      <th>446</th>\n",
       "      <td>98</td>\n",
       "      <td>98</td>\n",
       "      <td>0</td>\n",
       "      <td>2</td>\n",
       "      <td>2</td>\n",
       "      <td>0</td>\n",
       "      <td>0</td>\n",
       "      <td>0</td>\n",
       "      <td>1</td>\n",
       "      <td>5</td>\n",
       "      <td>...</td>\n",
       "      <td>32</td>\n",
       "      <td>2648</td>\n",
       "      <td>4</td>\n",
       "      <td>7</td>\n",
       "      <td>16</td>\n",
       "      <td>0</td>\n",
       "      <td>31</td>\n",
       "      <td>129</td>\n",
       "      <td>9.0</td>\n",
       "      <td>6.0</td>\n",
       "    </tr>\n",
       "    <tr>\n",
       "      <th>447</th>\n",
       "      <td>99</td>\n",
       "      <td>99</td>\n",
       "      <td>1</td>\n",
       "      <td>14</td>\n",
       "      <td>6</td>\n",
       "      <td>0</td>\n",
       "      <td>0</td>\n",
       "      <td>0</td>\n",
       "      <td>3</td>\n",
       "      <td>14</td>\n",
       "      <td>...</td>\n",
       "      <td>3</td>\n",
       "      <td>670</td>\n",
       "      <td>0</td>\n",
       "      <td>0</td>\n",
       "      <td>4</td>\n",
       "      <td>1</td>\n",
       "      <td>6</td>\n",
       "      <td>27</td>\n",
       "      <td>55.0</td>\n",
       "      <td>10.0</td>\n",
       "    </tr>\n",
       "  </tbody>\n",
       "</table>\n",
       "<p>448 rows × 38 columns</p>\n",
       "</div>"
      ],
      "text/plain": [
       "     userId (userId, )  (index, free About)  (index, free Add Friend)  \\\n",
       "0        10         10                    0                         0   \n",
       "1       100        100                    0                         0   \n",
       "2    100001     100001                    1                         1   \n",
       "3    100002     100002                    0                         0   \n",
       "4    100003     100003                    0                         6   \n",
       "..      ...        ...                  ...                       ...   \n",
       "443      95         95                    0                         0   \n",
       "444      96         96                    0                         0   \n",
       "445      97         97                    6                        23   \n",
       "446      98         98                    0                         2   \n",
       "447      99         99                    1                        14   \n",
       "\n",
       "     (index, free Add to Playlist)  (index, free Cancel)  \\\n",
       "0                                0                     0   \n",
       "1                                2                     0   \n",
       "2                                3                     1   \n",
       "3                                1                     0   \n",
       "4                                6                     0   \n",
       "..                             ...                   ...   \n",
       "443                              0                     0   \n",
       "444                              0                     0   \n",
       "445                             31                     0   \n",
       "446                              2                     0   \n",
       "447                              6                     0   \n",
       "\n",
       "     (index, free Cancellation Confirmation)  (index, free Error)  \\\n",
       "0                                          0                    0   \n",
       "1                                          0                    0   \n",
       "2                                          1                    0   \n",
       "3                                          0                    0   \n",
       "4                                          0                    1   \n",
       "..                                       ...                  ...   \n",
       "443                                        0                    0   \n",
       "444                                        0                    0   \n",
       "445                                        0                    2   \n",
       "446                                        0                    0   \n",
       "447                                        0                    0   \n",
       "\n",
       "     (index, free Help)  (index, free Home)  ...  (index, paid Logout)  \\\n",
       "0                     0                   0  ...                     4   \n",
       "1                     0                   3  ...                    35   \n",
       "2                     1                   4  ...                     0   \n",
       "3                     1                   5  ...                     1   \n",
       "4                     1                  10  ...                     8   \n",
       "..                  ...                 ...  ...                   ...   \n",
       "443                   0                   0  ...                    17   \n",
       "444                   0                   0  ...                    29   \n",
       "445                   9                  73  ...                     0   \n",
       "446                   1                   5  ...                    32   \n",
       "447                   3                  14  ...                     3   \n",
       "\n",
       "     (index, paid NextSong)  (index, paid Roll Advert)  \\\n",
       "0                       360                          0   \n",
       "1                      3336                          3   \n",
       "2                         0                          0   \n",
       "3                       113                          0   \n",
       "4                       430                          4   \n",
       "..                      ...                        ...   \n",
       "443                    2062                          4   \n",
       "444                    1950                          3   \n",
       "445                      55                          0   \n",
       "446                    2648                          4   \n",
       "447                     670                          0   \n",
       "\n",
       "     (index, paid Save Settings)  (index, paid Settings)  \\\n",
       "0                              0                       2   \n",
       "1                              2                      17   \n",
       "2                              0                       0   \n",
       "3                              0                       0   \n",
       "4                              1                       3   \n",
       "..                           ...                     ...   \n",
       "443                            5                      16   \n",
       "444                            3                       8   \n",
       "445                            0                       0   \n",
       "446                            7                      16   \n",
       "447                            0                       4   \n",
       "\n",
       "     (index, paid Submit Downgrade)  (index, paid Thumbs Down)  \\\n",
       "0                                 0                          1   \n",
       "1                                 0                         37   \n",
       "2                                 0                          0   \n",
       "3                                 1                          2   \n",
       "4                                 0                          3   \n",
       "..                              ...                        ...   \n",
       "443                               0                         21   \n",
       "444                               0                         20   \n",
       "445                               0                          1   \n",
       "446                               0                         31   \n",
       "447                               1                          6   \n",
       "\n",
       "     (index, paid Thumbs Up)  days_free  dist_sessions_ct  \n",
       "0                         17        NaN               NaN  \n",
       "1                        142        1.0               2.0  \n",
       "2                          0        1.0               3.0  \n",
       "3                          5       24.0               3.0  \n",
       "4                         10       18.0               5.0  \n",
       "..                       ...        ...               ...  \n",
       "443                      122        NaN               NaN  \n",
       "444                       78        NaN               NaN  \n",
       "445                        4       54.0              29.0  \n",
       "446                      129        9.0               6.0  \n",
       "447                       27       55.0              10.0  \n",
       "\n",
       "[448 rows x 38 columns]"
      ]
     },
     "execution_count": 83,
     "metadata": {},
     "output_type": "execute_result"
    }
   ],
   "source": [
    "#left join sessions to ndf\n",
    "sessions_free2 = pd.merge(days_free, sessions_free, on=\"userId\", how=\"left\")\n",
    "sessions_free2"
   ]
  },
  {
   "cell_type": "code",
   "execution_count": 84,
   "metadata": {
    "execution": {
     "iopub.execute_input": "2021-02-01T19:13:29.139307Z",
     "iopub.status.busy": "2021-02-01T19:13:29.138582Z",
     "iopub.status.idle": "2021-02-01T19:13:29.143019Z",
     "shell.execute_reply": "2021-02-01T19:13:29.142426Z"
    },
    "papermill": {
     "duration": 0.194457,
     "end_time": "2021-02-01T19:13:29.143156",
     "exception": false,
     "start_time": "2021-02-01T19:13:28.948699",
     "status": "completed"
    },
    "tags": []
   },
   "outputs": [
    {
     "data": {
      "text/plain": [
       "78"
      ]
     },
     "execution_count": 84,
     "metadata": {},
     "output_type": "execute_result"
    }
   ],
   "source": [
    "#sanity check\n",
    "sessions_free2.dist_sessions_ct.isnull().sum()"
   ]
  },
  {
   "cell_type": "markdown",
   "metadata": {
    "papermill": {
     "duration": 0.182307,
     "end_time": "2021-02-01T19:13:29.509705",
     "exception": false,
     "start_time": "2021-02-01T19:13:29.327398",
     "status": "completed"
    },
    "tags": []
   },
   "source": [
    "### Average time spent in session"
   ]
  },
  {
   "cell_type": "code",
   "execution_count": 85,
   "metadata": {
    "execution": {
     "iopub.execute_input": "2021-02-01T19:13:29.909413Z",
     "iopub.status.busy": "2021-02-01T19:13:29.908527Z",
     "iopub.status.idle": "2021-02-01T19:13:30.069433Z",
     "shell.execute_reply": "2021-02-01T19:13:30.068660Z"
    },
    "papermill": {
     "duration": 0.375537,
     "end_time": "2021-02-01T19:13:30.069587",
     "exception": false,
     "start_time": "2021-02-01T19:13:29.694050",
     "status": "completed"
    },
    "tags": []
   },
   "outputs": [
    {
     "data": {
      "text/html": [
       "<div>\n",
       "<style scoped>\n",
       "    .dataframe tbody tr th:only-of-type {\n",
       "        vertical-align: middle;\n",
       "    }\n",
       "\n",
       "    .dataframe tbody tr th {\n",
       "        vertical-align: top;\n",
       "    }\n",
       "\n",
       "    .dataframe thead th {\n",
       "        text-align: right;\n",
       "    }\n",
       "</style>\n",
       "<table border=\"1\" class=\"dataframe\">\n",
       "  <thead>\n",
       "    <tr style=\"text-align: right;\">\n",
       "      <th></th>\n",
       "      <th>userId</th>\n",
       "      <th>Max_ts</th>\n",
       "    </tr>\n",
       "  </thead>\n",
       "  <tbody>\n",
       "    <tr>\n",
       "      <th>0</th>\n",
       "      <td>100</td>\n",
       "      <td>2018-10-02 10:54:43</td>\n",
       "    </tr>\n",
       "    <tr>\n",
       "      <th>1</th>\n",
       "      <td>100001</td>\n",
       "      <td>2018-10-02 14:50:59</td>\n",
       "    </tr>\n",
       "    <tr>\n",
       "      <th>2</th>\n",
       "      <td>100002</td>\n",
       "      <td>2018-11-02 08:17:40</td>\n",
       "    </tr>\n",
       "    <tr>\n",
       "      <th>3</th>\n",
       "      <td>100003</td>\n",
       "      <td>2018-10-27 22:19:47</td>\n",
       "    </tr>\n",
       "    <tr>\n",
       "      <th>4</th>\n",
       "      <td>100004</td>\n",
       "      <td>2018-10-14 10:13:00</td>\n",
       "    </tr>\n",
       "    <tr>\n",
       "      <th>...</th>\n",
       "      <td>...</td>\n",
       "      <td>...</td>\n",
       "    </tr>\n",
       "    <tr>\n",
       "      <th>365</th>\n",
       "      <td>93</td>\n",
       "      <td>2018-10-20 10:53:24</td>\n",
       "    </tr>\n",
       "    <tr>\n",
       "      <th>366</th>\n",
       "      <td>94</td>\n",
       "      <td>2018-11-05 10:31:14</td>\n",
       "    </tr>\n",
       "    <tr>\n",
       "      <th>367</th>\n",
       "      <td>97</td>\n",
       "      <td>2018-11-29 02:50:53</td>\n",
       "    </tr>\n",
       "    <tr>\n",
       "      <th>368</th>\n",
       "      <td>98</td>\n",
       "      <td>2018-10-10 12:52:28</td>\n",
       "    </tr>\n",
       "    <tr>\n",
       "      <th>369</th>\n",
       "      <td>99</td>\n",
       "      <td>2018-11-27 19:08:47</td>\n",
       "    </tr>\n",
       "  </tbody>\n",
       "</table>\n",
       "<p>370 rows × 2 columns</p>\n",
       "</div>"
      ],
      "text/plain": [
       "     userId               Max_ts\n",
       "0       100  2018-10-02 10:54:43\n",
       "1    100001  2018-10-02 14:50:59\n",
       "2    100002  2018-11-02 08:17:40\n",
       "3    100003  2018-10-27 22:19:47\n",
       "4    100004  2018-10-14 10:13:00\n",
       "..      ...                  ...\n",
       "365      93  2018-10-20 10:53:24\n",
       "366      94  2018-11-05 10:31:14\n",
       "367      97  2018-11-29 02:50:53\n",
       "368      98  2018-10-10 12:52:28\n",
       "369      99  2018-11-27 19:08:47\n",
       "\n",
       "[370 rows x 2 columns]"
      ]
     },
     "execution_count": 85,
     "metadata": {},
     "output_type": "execute_result"
    }
   ],
   "source": [
    "#get time diff per distinct user\n",
    "#divide time diff by count(dist sessions) per distinct user\n",
    "\n",
    "max_ts = free_df.groupby('userId')['timestamp'].max().reset_index()\n",
    "max_ts.columns = ['userId', 'Max_ts']\n",
    "max_ts"
   ]
  },
  {
   "cell_type": "code",
   "execution_count": 86,
   "metadata": {
    "execution": {
     "iopub.execute_input": "2021-02-01T19:13:30.462788Z",
     "iopub.status.busy": "2021-02-01T19:13:30.462020Z",
     "iopub.status.idle": "2021-02-01T19:13:30.612351Z",
     "shell.execute_reply": "2021-02-01T19:13:30.611612Z"
    },
    "papermill": {
     "duration": 0.360019,
     "end_time": "2021-02-01T19:13:30.612482",
     "exception": false,
     "start_time": "2021-02-01T19:13:30.252463",
     "status": "completed"
    },
    "tags": []
   },
   "outputs": [
    {
     "data": {
      "text/html": [
       "<div>\n",
       "<style scoped>\n",
       "    .dataframe tbody tr th:only-of-type {\n",
       "        vertical-align: middle;\n",
       "    }\n",
       "\n",
       "    .dataframe tbody tr th {\n",
       "        vertical-align: top;\n",
       "    }\n",
       "\n",
       "    .dataframe thead th {\n",
       "        text-align: right;\n",
       "    }\n",
       "</style>\n",
       "<table border=\"1\" class=\"dataframe\">\n",
       "  <thead>\n",
       "    <tr style=\"text-align: right;\">\n",
       "      <th></th>\n",
       "      <th>userId</th>\n",
       "      <th>Min_ts</th>\n",
       "    </tr>\n",
       "  </thead>\n",
       "  <tbody>\n",
       "    <tr>\n",
       "      <th>0</th>\n",
       "      <td>100</td>\n",
       "      <td>2018-10-01 00:04:01</td>\n",
       "    </tr>\n",
       "    <tr>\n",
       "      <th>1</th>\n",
       "      <td>100001</td>\n",
       "      <td>2018-10-01 06:48:24</td>\n",
       "    </tr>\n",
       "    <tr>\n",
       "      <th>2</th>\n",
       "      <td>100002</td>\n",
       "      <td>2018-10-09 19:28:59</td>\n",
       "    </tr>\n",
       "    <tr>\n",
       "      <th>3</th>\n",
       "      <td>100003</td>\n",
       "      <td>2018-10-09 15:53:40</td>\n",
       "    </tr>\n",
       "    <tr>\n",
       "      <th>4</th>\n",
       "      <td>100004</td>\n",
       "      <td>2018-10-03 02:47:15</td>\n",
       "    </tr>\n",
       "    <tr>\n",
       "      <th>...</th>\n",
       "      <td>...</td>\n",
       "      <td>...</td>\n",
       "    </tr>\n",
       "    <tr>\n",
       "      <th>365</th>\n",
       "      <td>93</td>\n",
       "      <td>2018-10-01 16:01:26</td>\n",
       "    </tr>\n",
       "    <tr>\n",
       "      <th>366</th>\n",
       "      <td>94</td>\n",
       "      <td>2018-10-07 03:00:11</td>\n",
       "    </tr>\n",
       "    <tr>\n",
       "      <th>367</th>\n",
       "      <td>97</td>\n",
       "      <td>2018-10-06 21:36:24</td>\n",
       "    </tr>\n",
       "    <tr>\n",
       "      <th>368</th>\n",
       "      <td>98</td>\n",
       "      <td>2018-10-01 00:00:25</td>\n",
       "    </tr>\n",
       "    <tr>\n",
       "      <th>369</th>\n",
       "      <td>99</td>\n",
       "      <td>2018-10-03 22:14:14</td>\n",
       "    </tr>\n",
       "  </tbody>\n",
       "</table>\n",
       "<p>370 rows × 2 columns</p>\n",
       "</div>"
      ],
      "text/plain": [
       "     userId               Min_ts\n",
       "0       100  2018-10-01 00:04:01\n",
       "1    100001  2018-10-01 06:48:24\n",
       "2    100002  2018-10-09 19:28:59\n",
       "3    100003  2018-10-09 15:53:40\n",
       "4    100004  2018-10-03 02:47:15\n",
       "..      ...                  ...\n",
       "365      93  2018-10-01 16:01:26\n",
       "366      94  2018-10-07 03:00:11\n",
       "367      97  2018-10-06 21:36:24\n",
       "368      98  2018-10-01 00:00:25\n",
       "369      99  2018-10-03 22:14:14\n",
       "\n",
       "[370 rows x 2 columns]"
      ]
     },
     "execution_count": 86,
     "metadata": {},
     "output_type": "execute_result"
    }
   ],
   "source": [
    "min_ts = free_df.groupby('userId')['timestamp'].min().reset_index()\n",
    "min_ts.columns = ['userId', 'Min_ts']\n",
    "min_ts"
   ]
  },
  {
   "cell_type": "code",
   "execution_count": 87,
   "metadata": {
    "execution": {
     "iopub.execute_input": "2021-02-01T19:13:31.003903Z",
     "iopub.status.busy": "2021-02-01T19:13:30.989859Z",
     "iopub.status.idle": "2021-02-01T19:13:31.010109Z",
     "shell.execute_reply": "2021-02-01T19:13:31.009281Z"
    },
    "papermill": {
     "duration": 0.215721,
     "end_time": "2021-02-01T19:13:31.010258",
     "exception": false,
     "start_time": "2021-02-01T19:13:30.794537",
     "status": "completed"
    },
    "tags": []
   },
   "outputs": [
    {
     "data": {
      "text/html": [
       "<div>\n",
       "<style scoped>\n",
       "    .dataframe tbody tr th:only-of-type {\n",
       "        vertical-align: middle;\n",
       "    }\n",
       "\n",
       "    .dataframe tbody tr th {\n",
       "        vertical-align: top;\n",
       "    }\n",
       "\n",
       "    .dataframe thead th {\n",
       "        text-align: right;\n",
       "    }\n",
       "</style>\n",
       "<table border=\"1\" class=\"dataframe\">\n",
       "  <thead>\n",
       "    <tr style=\"text-align: right;\">\n",
       "      <th></th>\n",
       "      <th>userId</th>\n",
       "      <th>Max_ts</th>\n",
       "      <th>Min_ts</th>\n",
       "    </tr>\n",
       "  </thead>\n",
       "  <tbody>\n",
       "    <tr>\n",
       "      <th>0</th>\n",
       "      <td>100</td>\n",
       "      <td>2018-10-02 10:54:43</td>\n",
       "      <td>2018-10-01 00:04:01</td>\n",
       "    </tr>\n",
       "    <tr>\n",
       "      <th>1</th>\n",
       "      <td>100001</td>\n",
       "      <td>2018-10-02 14:50:59</td>\n",
       "      <td>2018-10-01 06:48:24</td>\n",
       "    </tr>\n",
       "    <tr>\n",
       "      <th>2</th>\n",
       "      <td>100002</td>\n",
       "      <td>2018-11-02 08:17:40</td>\n",
       "      <td>2018-10-09 19:28:59</td>\n",
       "    </tr>\n",
       "    <tr>\n",
       "      <th>3</th>\n",
       "      <td>100003</td>\n",
       "      <td>2018-10-27 22:19:47</td>\n",
       "      <td>2018-10-09 15:53:40</td>\n",
       "    </tr>\n",
       "    <tr>\n",
       "      <th>4</th>\n",
       "      <td>100004</td>\n",
       "      <td>2018-10-14 10:13:00</td>\n",
       "      <td>2018-10-03 02:47:15</td>\n",
       "    </tr>\n",
       "    <tr>\n",
       "      <th>...</th>\n",
       "      <td>...</td>\n",
       "      <td>...</td>\n",
       "      <td>...</td>\n",
       "    </tr>\n",
       "    <tr>\n",
       "      <th>365</th>\n",
       "      <td>93</td>\n",
       "      <td>2018-10-20 10:53:24</td>\n",
       "      <td>2018-10-01 16:01:26</td>\n",
       "    </tr>\n",
       "    <tr>\n",
       "      <th>366</th>\n",
       "      <td>94</td>\n",
       "      <td>2018-11-05 10:31:14</td>\n",
       "      <td>2018-10-07 03:00:11</td>\n",
       "    </tr>\n",
       "    <tr>\n",
       "      <th>367</th>\n",
       "      <td>97</td>\n",
       "      <td>2018-11-29 02:50:53</td>\n",
       "      <td>2018-10-06 21:36:24</td>\n",
       "    </tr>\n",
       "    <tr>\n",
       "      <th>368</th>\n",
       "      <td>98</td>\n",
       "      <td>2018-10-10 12:52:28</td>\n",
       "      <td>2018-10-01 00:00:25</td>\n",
       "    </tr>\n",
       "    <tr>\n",
       "      <th>369</th>\n",
       "      <td>99</td>\n",
       "      <td>2018-11-27 19:08:47</td>\n",
       "      <td>2018-10-03 22:14:14</td>\n",
       "    </tr>\n",
       "  </tbody>\n",
       "</table>\n",
       "<p>370 rows × 3 columns</p>\n",
       "</div>"
      ],
      "text/plain": [
       "     userId               Max_ts               Min_ts\n",
       "0       100  2018-10-02 10:54:43  2018-10-01 00:04:01\n",
       "1    100001  2018-10-02 14:50:59  2018-10-01 06:48:24\n",
       "2    100002  2018-11-02 08:17:40  2018-10-09 19:28:59\n",
       "3    100003  2018-10-27 22:19:47  2018-10-09 15:53:40\n",
       "4    100004  2018-10-14 10:13:00  2018-10-03 02:47:15\n",
       "..      ...                  ...                  ...\n",
       "365      93  2018-10-20 10:53:24  2018-10-01 16:01:26\n",
       "366      94  2018-11-05 10:31:14  2018-10-07 03:00:11\n",
       "367      97  2018-11-29 02:50:53  2018-10-06 21:36:24\n",
       "368      98  2018-10-10 12:52:28  2018-10-01 00:00:25\n",
       "369      99  2018-11-27 19:08:47  2018-10-03 22:14:14\n",
       "\n",
       "[370 rows x 3 columns]"
      ]
     },
     "execution_count": 87,
     "metadata": {},
     "output_type": "execute_result"
    }
   ],
   "source": [
    "ts = pd.merge(max_ts,min_ts, on=\"userId\")\n",
    "ts"
   ]
  },
  {
   "cell_type": "code",
   "execution_count": 88,
   "metadata": {
    "execution": {
     "iopub.execute_input": "2021-02-01T19:13:31.410685Z",
     "iopub.status.busy": "2021-02-01T19:13:31.401021Z",
     "iopub.status.idle": "2021-02-01T19:13:31.417004Z",
     "shell.execute_reply": "2021-02-01T19:13:31.417492Z"
    },
    "papermill": {
     "duration": 0.220263,
     "end_time": "2021-02-01T19:13:31.417665",
     "exception": false,
     "start_time": "2021-02-01T19:13:31.197402",
     "status": "completed"
    },
    "tags": []
   },
   "outputs": [
    {
     "data": {
      "text/html": [
       "<div>\n",
       "<style scoped>\n",
       "    .dataframe tbody tr th:only-of-type {\n",
       "        vertical-align: middle;\n",
       "    }\n",
       "\n",
       "    .dataframe tbody tr th {\n",
       "        vertical-align: top;\n",
       "    }\n",
       "\n",
       "    .dataframe thead th {\n",
       "        text-align: right;\n",
       "    }\n",
       "</style>\n",
       "<table border=\"1\" class=\"dataframe\">\n",
       "  <thead>\n",
       "    <tr style=\"text-align: right;\">\n",
       "      <th></th>\n",
       "      <th>userId</th>\n",
       "      <th>dist_sessions_ct</th>\n",
       "      <th>ts_hours_free</th>\n",
       "    </tr>\n",
       "  </thead>\n",
       "  <tbody>\n",
       "    <tr>\n",
       "      <th>0</th>\n",
       "      <td>100</td>\n",
       "      <td>2</td>\n",
       "      <td>10.845000</td>\n",
       "    </tr>\n",
       "    <tr>\n",
       "      <th>1</th>\n",
       "      <td>100001</td>\n",
       "      <td>3</td>\n",
       "      <td>8.043056</td>\n",
       "    </tr>\n",
       "    <tr>\n",
       "      <th>2</th>\n",
       "      <td>100002</td>\n",
       "      <td>3</td>\n",
       "      <td>12.811389</td>\n",
       "    </tr>\n",
       "    <tr>\n",
       "      <th>3</th>\n",
       "      <td>100003</td>\n",
       "      <td>5</td>\n",
       "      <td>6.435278</td>\n",
       "    </tr>\n",
       "    <tr>\n",
       "      <th>4</th>\n",
       "      <td>100004</td>\n",
       "      <td>5</td>\n",
       "      <td>7.429167</td>\n",
       "    </tr>\n",
       "    <tr>\n",
       "      <th>...</th>\n",
       "      <td>...</td>\n",
       "      <td>...</td>\n",
       "      <td>...</td>\n",
       "    </tr>\n",
       "    <tr>\n",
       "      <th>365</th>\n",
       "      <td>93</td>\n",
       "      <td>4</td>\n",
       "      <td>18.866111</td>\n",
       "    </tr>\n",
       "    <tr>\n",
       "      <th>366</th>\n",
       "      <td>94</td>\n",
       "      <td>6</td>\n",
       "      <td>7.517500</td>\n",
       "    </tr>\n",
       "    <tr>\n",
       "      <th>367</th>\n",
       "      <td>97</td>\n",
       "      <td>29</td>\n",
       "      <td>5.241389</td>\n",
       "    </tr>\n",
       "    <tr>\n",
       "      <th>368</th>\n",
       "      <td>98</td>\n",
       "      <td>6</td>\n",
       "      <td>12.867500</td>\n",
       "    </tr>\n",
       "    <tr>\n",
       "      <th>369</th>\n",
       "      <td>99</td>\n",
       "      <td>10</td>\n",
       "      <td>20.909167</td>\n",
       "    </tr>\n",
       "  </tbody>\n",
       "</table>\n",
       "<p>370 rows × 3 columns</p>\n",
       "</div>"
      ],
      "text/plain": [
       "     userId  dist_sessions_ct  ts_hours_free\n",
       "0       100                 2      10.845000\n",
       "1    100001                 3       8.043056\n",
       "2    100002                 3      12.811389\n",
       "3    100003                 5       6.435278\n",
       "4    100004                 5       7.429167\n",
       "..      ...               ...            ...\n",
       "365      93                 4      18.866111\n",
       "366      94                 6       7.517500\n",
       "367      97                29       5.241389\n",
       "368      98                 6      12.867500\n",
       "369      99                10      20.909167\n",
       "\n",
       "[370 rows x 3 columns]"
      ]
     },
     "execution_count": 88,
     "metadata": {},
     "output_type": "execute_result"
    }
   ],
   "source": [
    "ts[['Max_ts','Min_ts']] = ts[['Max_ts','Min_ts']].apply(pd.to_datetime)\n",
    "\n",
    "ts['ts_hours_free'] = ((ts['Max_ts'] - ts['Min_ts']).dt.seconds)/(60*60)\n",
    "ts=ts.drop(columns=['Max_ts', 'Min_ts'])\n",
    "#add dist sessions count to get average time spent\n",
    "ts = pd.merge(sessions_free,ts, on=\"userId\")\n",
    "ts"
   ]
  },
  {
   "cell_type": "code",
   "execution_count": 89,
   "metadata": {
    "execution": {
     "iopub.execute_input": "2021-02-01T19:13:31.794747Z",
     "iopub.status.busy": "2021-02-01T19:13:31.794004Z",
     "iopub.status.idle": "2021-02-01T19:13:31.812694Z",
     "shell.execute_reply": "2021-02-01T19:13:31.813297Z"
    },
    "papermill": {
     "duration": 0.213659,
     "end_time": "2021-02-01T19:13:31.813463",
     "exception": false,
     "start_time": "2021-02-01T19:13:31.599804",
     "status": "completed"
    },
    "tags": []
   },
   "outputs": [
    {
     "data": {
      "text/html": [
       "<div>\n",
       "<style scoped>\n",
       "    .dataframe tbody tr th:only-of-type {\n",
       "        vertical-align: middle;\n",
       "    }\n",
       "\n",
       "    .dataframe tbody tr th {\n",
       "        vertical-align: top;\n",
       "    }\n",
       "\n",
       "    .dataframe thead th {\n",
       "        text-align: right;\n",
       "    }\n",
       "</style>\n",
       "<table border=\"1\" class=\"dataframe\">\n",
       "  <thead>\n",
       "    <tr style=\"text-align: right;\">\n",
       "      <th></th>\n",
       "      <th>userId</th>\n",
       "      <th>av_session_hrs</th>\n",
       "    </tr>\n",
       "  </thead>\n",
       "  <tbody>\n",
       "    <tr>\n",
       "      <th>0</th>\n",
       "      <td>100</td>\n",
       "      <td>5.422500</td>\n",
       "    </tr>\n",
       "    <tr>\n",
       "      <th>1</th>\n",
       "      <td>100001</td>\n",
       "      <td>2.681019</td>\n",
       "    </tr>\n",
       "    <tr>\n",
       "      <th>2</th>\n",
       "      <td>100002</td>\n",
       "      <td>4.270463</td>\n",
       "    </tr>\n",
       "    <tr>\n",
       "      <th>3</th>\n",
       "      <td>100003</td>\n",
       "      <td>1.287056</td>\n",
       "    </tr>\n",
       "    <tr>\n",
       "      <th>4</th>\n",
       "      <td>100004</td>\n",
       "      <td>1.485833</td>\n",
       "    </tr>\n",
       "    <tr>\n",
       "      <th>...</th>\n",
       "      <td>...</td>\n",
       "      <td>...</td>\n",
       "    </tr>\n",
       "    <tr>\n",
       "      <th>365</th>\n",
       "      <td>93</td>\n",
       "      <td>4.716528</td>\n",
       "    </tr>\n",
       "    <tr>\n",
       "      <th>366</th>\n",
       "      <td>94</td>\n",
       "      <td>1.252917</td>\n",
       "    </tr>\n",
       "    <tr>\n",
       "      <th>367</th>\n",
       "      <td>97</td>\n",
       "      <td>0.180738</td>\n",
       "    </tr>\n",
       "    <tr>\n",
       "      <th>368</th>\n",
       "      <td>98</td>\n",
       "      <td>2.144583</td>\n",
       "    </tr>\n",
       "    <tr>\n",
       "      <th>369</th>\n",
       "      <td>99</td>\n",
       "      <td>2.090917</td>\n",
       "    </tr>\n",
       "  </tbody>\n",
       "</table>\n",
       "<p>370 rows × 2 columns</p>\n",
       "</div>"
      ],
      "text/plain": [
       "     userId  av_session_hrs\n",
       "0       100        5.422500\n",
       "1    100001        2.681019\n",
       "2    100002        4.270463\n",
       "3    100003        1.287056\n",
       "4    100004        1.485833\n",
       "..      ...             ...\n",
       "365      93        4.716528\n",
       "366      94        1.252917\n",
       "367      97        0.180738\n",
       "368      98        2.144583\n",
       "369      99        2.090917\n",
       "\n",
       "[370 rows x 2 columns]"
      ]
     },
     "execution_count": 89,
     "metadata": {},
     "output_type": "execute_result"
    }
   ],
   "source": [
    "ts['av_session_hrs'] = ts['ts_hours_free']/ts['dist_sessions_ct']\n",
    "ts = ts.drop(columns = ['dist_sessions_ct', 'ts_hours_free'])\n",
    "ts"
   ]
  },
  {
   "cell_type": "code",
   "execution_count": 90,
   "metadata": {
    "execution": {
     "iopub.execute_input": "2021-02-01T19:13:32.236834Z",
     "iopub.status.busy": "2021-02-01T19:13:32.235702Z",
     "iopub.status.idle": "2021-02-01T19:13:32.241168Z",
     "shell.execute_reply": "2021-02-01T19:13:32.241640Z"
    },
    "papermill": {
     "duration": 0.243194,
     "end_time": "2021-02-01T19:13:32.241825",
     "exception": false,
     "start_time": "2021-02-01T19:13:31.998631",
     "status": "completed"
    },
    "tags": []
   },
   "outputs": [
    {
     "data": {
      "text/html": [
       "<div>\n",
       "<style scoped>\n",
       "    .dataframe tbody tr th:only-of-type {\n",
       "        vertical-align: middle;\n",
       "    }\n",
       "\n",
       "    .dataframe tbody tr th {\n",
       "        vertical-align: top;\n",
       "    }\n",
       "\n",
       "    .dataframe thead th {\n",
       "        text-align: right;\n",
       "    }\n",
       "</style>\n",
       "<table border=\"1\" class=\"dataframe\">\n",
       "  <thead>\n",
       "    <tr style=\"text-align: right;\">\n",
       "      <th></th>\n",
       "      <th>userId</th>\n",
       "      <th>(userId, )</th>\n",
       "      <th>(index, free About)</th>\n",
       "      <th>(index, free Add Friend)</th>\n",
       "      <th>(index, free Add to Playlist)</th>\n",
       "      <th>(index, free Cancel)</th>\n",
       "      <th>(index, free Cancellation Confirmation)</th>\n",
       "      <th>(index, free Error)</th>\n",
       "      <th>(index, free Help)</th>\n",
       "      <th>(index, free Home)</th>\n",
       "      <th>...</th>\n",
       "      <th>(index, paid NextSong)</th>\n",
       "      <th>(index, paid Roll Advert)</th>\n",
       "      <th>(index, paid Save Settings)</th>\n",
       "      <th>(index, paid Settings)</th>\n",
       "      <th>(index, paid Submit Downgrade)</th>\n",
       "      <th>(index, paid Thumbs Down)</th>\n",
       "      <th>(index, paid Thumbs Up)</th>\n",
       "      <th>days_free</th>\n",
       "      <th>dist_sessions_ct</th>\n",
       "      <th>av_session_hrs</th>\n",
       "    </tr>\n",
       "  </thead>\n",
       "  <tbody>\n",
       "    <tr>\n",
       "      <th>0</th>\n",
       "      <td>10</td>\n",
       "      <td>10</td>\n",
       "      <td>0</td>\n",
       "      <td>0</td>\n",
       "      <td>0</td>\n",
       "      <td>0</td>\n",
       "      <td>0</td>\n",
       "      <td>0</td>\n",
       "      <td>0</td>\n",
       "      <td>0</td>\n",
       "      <td>...</td>\n",
       "      <td>360</td>\n",
       "      <td>0</td>\n",
       "      <td>0</td>\n",
       "      <td>2</td>\n",
       "      <td>0</td>\n",
       "      <td>1</td>\n",
       "      <td>17</td>\n",
       "      <td>NaN</td>\n",
       "      <td>NaN</td>\n",
       "      <td>NaN</td>\n",
       "    </tr>\n",
       "    <tr>\n",
       "      <th>1</th>\n",
       "      <td>100</td>\n",
       "      <td>100</td>\n",
       "      <td>0</td>\n",
       "      <td>0</td>\n",
       "      <td>2</td>\n",
       "      <td>0</td>\n",
       "      <td>0</td>\n",
       "      <td>0</td>\n",
       "      <td>0</td>\n",
       "      <td>3</td>\n",
       "      <td>...</td>\n",
       "      <td>3336</td>\n",
       "      <td>3</td>\n",
       "      <td>2</td>\n",
       "      <td>17</td>\n",
       "      <td>0</td>\n",
       "      <td>37</td>\n",
       "      <td>142</td>\n",
       "      <td>1.0</td>\n",
       "      <td>2.0</td>\n",
       "      <td>5.422500</td>\n",
       "    </tr>\n",
       "    <tr>\n",
       "      <th>2</th>\n",
       "      <td>100001</td>\n",
       "      <td>100001</td>\n",
       "      <td>1</td>\n",
       "      <td>1</td>\n",
       "      <td>3</td>\n",
       "      <td>1</td>\n",
       "      <td>1</td>\n",
       "      <td>0</td>\n",
       "      <td>1</td>\n",
       "      <td>4</td>\n",
       "      <td>...</td>\n",
       "      <td>0</td>\n",
       "      <td>0</td>\n",
       "      <td>0</td>\n",
       "      <td>0</td>\n",
       "      <td>0</td>\n",
       "      <td>0</td>\n",
       "      <td>0</td>\n",
       "      <td>1.0</td>\n",
       "      <td>3.0</td>\n",
       "      <td>2.681019</td>\n",
       "    </tr>\n",
       "    <tr>\n",
       "      <th>3</th>\n",
       "      <td>100002</td>\n",
       "      <td>100002</td>\n",
       "      <td>0</td>\n",
       "      <td>0</td>\n",
       "      <td>1</td>\n",
       "      <td>0</td>\n",
       "      <td>0</td>\n",
       "      <td>0</td>\n",
       "      <td>1</td>\n",
       "      <td>5</td>\n",
       "      <td>...</td>\n",
       "      <td>113</td>\n",
       "      <td>0</td>\n",
       "      <td>0</td>\n",
       "      <td>0</td>\n",
       "      <td>1</td>\n",
       "      <td>2</td>\n",
       "      <td>5</td>\n",
       "      <td>24.0</td>\n",
       "      <td>3.0</td>\n",
       "      <td>4.270463</td>\n",
       "    </tr>\n",
       "    <tr>\n",
       "      <th>4</th>\n",
       "      <td>100003</td>\n",
       "      <td>100003</td>\n",
       "      <td>0</td>\n",
       "      <td>6</td>\n",
       "      <td>6</td>\n",
       "      <td>0</td>\n",
       "      <td>0</td>\n",
       "      <td>1</td>\n",
       "      <td>1</td>\n",
       "      <td>10</td>\n",
       "      <td>...</td>\n",
       "      <td>430</td>\n",
       "      <td>4</td>\n",
       "      <td>1</td>\n",
       "      <td>3</td>\n",
       "      <td>0</td>\n",
       "      <td>3</td>\n",
       "      <td>10</td>\n",
       "      <td>18.0</td>\n",
       "      <td>5.0</td>\n",
       "      <td>1.287056</td>\n",
       "    </tr>\n",
       "    <tr>\n",
       "      <th>...</th>\n",
       "      <td>...</td>\n",
       "      <td>...</td>\n",
       "      <td>...</td>\n",
       "      <td>...</td>\n",
       "      <td>...</td>\n",
       "      <td>...</td>\n",
       "      <td>...</td>\n",
       "      <td>...</td>\n",
       "      <td>...</td>\n",
       "      <td>...</td>\n",
       "      <td>...</td>\n",
       "      <td>...</td>\n",
       "      <td>...</td>\n",
       "      <td>...</td>\n",
       "      <td>...</td>\n",
       "      <td>...</td>\n",
       "      <td>...</td>\n",
       "      <td>...</td>\n",
       "      <td>...</td>\n",
       "      <td>...</td>\n",
       "      <td>...</td>\n",
       "    </tr>\n",
       "    <tr>\n",
       "      <th>443</th>\n",
       "      <td>95</td>\n",
       "      <td>95</td>\n",
       "      <td>0</td>\n",
       "      <td>0</td>\n",
       "      <td>0</td>\n",
       "      <td>0</td>\n",
       "      <td>0</td>\n",
       "      <td>0</td>\n",
       "      <td>0</td>\n",
       "      <td>0</td>\n",
       "      <td>...</td>\n",
       "      <td>2062</td>\n",
       "      <td>4</td>\n",
       "      <td>5</td>\n",
       "      <td>16</td>\n",
       "      <td>0</td>\n",
       "      <td>21</td>\n",
       "      <td>122</td>\n",
       "      <td>NaN</td>\n",
       "      <td>NaN</td>\n",
       "      <td>NaN</td>\n",
       "    </tr>\n",
       "    <tr>\n",
       "      <th>444</th>\n",
       "      <td>96</td>\n",
       "      <td>96</td>\n",
       "      <td>0</td>\n",
       "      <td>0</td>\n",
       "      <td>0</td>\n",
       "      <td>0</td>\n",
       "      <td>0</td>\n",
       "      <td>0</td>\n",
       "      <td>0</td>\n",
       "      <td>0</td>\n",
       "      <td>...</td>\n",
       "      <td>1950</td>\n",
       "      <td>3</td>\n",
       "      <td>3</td>\n",
       "      <td>8</td>\n",
       "      <td>0</td>\n",
       "      <td>20</td>\n",
       "      <td>78</td>\n",
       "      <td>NaN</td>\n",
       "      <td>NaN</td>\n",
       "      <td>NaN</td>\n",
       "    </tr>\n",
       "    <tr>\n",
       "      <th>445</th>\n",
       "      <td>97</td>\n",
       "      <td>97</td>\n",
       "      <td>6</td>\n",
       "      <td>23</td>\n",
       "      <td>31</td>\n",
       "      <td>0</td>\n",
       "      <td>0</td>\n",
       "      <td>2</td>\n",
       "      <td>9</td>\n",
       "      <td>73</td>\n",
       "      <td>...</td>\n",
       "      <td>55</td>\n",
       "      <td>0</td>\n",
       "      <td>0</td>\n",
       "      <td>0</td>\n",
       "      <td>0</td>\n",
       "      <td>1</td>\n",
       "      <td>4</td>\n",
       "      <td>54.0</td>\n",
       "      <td>29.0</td>\n",
       "      <td>0.180738</td>\n",
       "    </tr>\n",
       "    <tr>\n",
       "      <th>446</th>\n",
       "      <td>98</td>\n",
       "      <td>98</td>\n",
       "      <td>0</td>\n",
       "      <td>2</td>\n",
       "      <td>2</td>\n",
       "      <td>0</td>\n",
       "      <td>0</td>\n",
       "      <td>0</td>\n",
       "      <td>1</td>\n",
       "      <td>5</td>\n",
       "      <td>...</td>\n",
       "      <td>2648</td>\n",
       "      <td>4</td>\n",
       "      <td>7</td>\n",
       "      <td>16</td>\n",
       "      <td>0</td>\n",
       "      <td>31</td>\n",
       "      <td>129</td>\n",
       "      <td>9.0</td>\n",
       "      <td>6.0</td>\n",
       "      <td>2.144583</td>\n",
       "    </tr>\n",
       "    <tr>\n",
       "      <th>447</th>\n",
       "      <td>99</td>\n",
       "      <td>99</td>\n",
       "      <td>1</td>\n",
       "      <td>14</td>\n",
       "      <td>6</td>\n",
       "      <td>0</td>\n",
       "      <td>0</td>\n",
       "      <td>0</td>\n",
       "      <td>3</td>\n",
       "      <td>14</td>\n",
       "      <td>...</td>\n",
       "      <td>670</td>\n",
       "      <td>0</td>\n",
       "      <td>0</td>\n",
       "      <td>4</td>\n",
       "      <td>1</td>\n",
       "      <td>6</td>\n",
       "      <td>27</td>\n",
       "      <td>55.0</td>\n",
       "      <td>10.0</td>\n",
       "      <td>2.090917</td>\n",
       "    </tr>\n",
       "  </tbody>\n",
       "</table>\n",
       "<p>448 rows × 39 columns</p>\n",
       "</div>"
      ],
      "text/plain": [
       "     userId (userId, )  (index, free About)  (index, free Add Friend)  \\\n",
       "0        10         10                    0                         0   \n",
       "1       100        100                    0                         0   \n",
       "2    100001     100001                    1                         1   \n",
       "3    100002     100002                    0                         0   \n",
       "4    100003     100003                    0                         6   \n",
       "..      ...        ...                  ...                       ...   \n",
       "443      95         95                    0                         0   \n",
       "444      96         96                    0                         0   \n",
       "445      97         97                    6                        23   \n",
       "446      98         98                    0                         2   \n",
       "447      99         99                    1                        14   \n",
       "\n",
       "     (index, free Add to Playlist)  (index, free Cancel)  \\\n",
       "0                                0                     0   \n",
       "1                                2                     0   \n",
       "2                                3                     1   \n",
       "3                                1                     0   \n",
       "4                                6                     0   \n",
       "..                             ...                   ...   \n",
       "443                              0                     0   \n",
       "444                              0                     0   \n",
       "445                             31                     0   \n",
       "446                              2                     0   \n",
       "447                              6                     0   \n",
       "\n",
       "     (index, free Cancellation Confirmation)  (index, free Error)  \\\n",
       "0                                          0                    0   \n",
       "1                                          0                    0   \n",
       "2                                          1                    0   \n",
       "3                                          0                    0   \n",
       "4                                          0                    1   \n",
       "..                                       ...                  ...   \n",
       "443                                        0                    0   \n",
       "444                                        0                    0   \n",
       "445                                        0                    2   \n",
       "446                                        0                    0   \n",
       "447                                        0                    0   \n",
       "\n",
       "     (index, free Help)  (index, free Home)  ...  (index, paid NextSong)  \\\n",
       "0                     0                   0  ...                     360   \n",
       "1                     0                   3  ...                    3336   \n",
       "2                     1                   4  ...                       0   \n",
       "3                     1                   5  ...                     113   \n",
       "4                     1                  10  ...                     430   \n",
       "..                  ...                 ...  ...                     ...   \n",
       "443                   0                   0  ...                    2062   \n",
       "444                   0                   0  ...                    1950   \n",
       "445                   9                  73  ...                      55   \n",
       "446                   1                   5  ...                    2648   \n",
       "447                   3                  14  ...                     670   \n",
       "\n",
       "     (index, paid Roll Advert)  (index, paid Save Settings)  \\\n",
       "0                            0                            0   \n",
       "1                            3                            2   \n",
       "2                            0                            0   \n",
       "3                            0                            0   \n",
       "4                            4                            1   \n",
       "..                         ...                          ...   \n",
       "443                          4                            5   \n",
       "444                          3                            3   \n",
       "445                          0                            0   \n",
       "446                          4                            7   \n",
       "447                          0                            0   \n",
       "\n",
       "     (index, paid Settings)  (index, paid Submit Downgrade)  \\\n",
       "0                         2                               0   \n",
       "1                        17                               0   \n",
       "2                         0                               0   \n",
       "3                         0                               1   \n",
       "4                         3                               0   \n",
       "..                      ...                             ...   \n",
       "443                      16                               0   \n",
       "444                       8                               0   \n",
       "445                       0                               0   \n",
       "446                      16                               0   \n",
       "447                       4                               1   \n",
       "\n",
       "     (index, paid Thumbs Down)  (index, paid Thumbs Up)  days_free  \\\n",
       "0                            1                       17        NaN   \n",
       "1                           37                      142        1.0   \n",
       "2                            0                        0        1.0   \n",
       "3                            2                        5       24.0   \n",
       "4                            3                       10       18.0   \n",
       "..                         ...                      ...        ...   \n",
       "443                         21                      122        NaN   \n",
       "444                         20                       78        NaN   \n",
       "445                          1                        4       54.0   \n",
       "446                         31                      129        9.0   \n",
       "447                          6                       27       55.0   \n",
       "\n",
       "     dist_sessions_ct  av_session_hrs  \n",
       "0                 NaN             NaN  \n",
       "1                 2.0        5.422500  \n",
       "2                 3.0        2.681019  \n",
       "3                 3.0        4.270463  \n",
       "4                 5.0        1.287056  \n",
       "..                ...             ...  \n",
       "443               NaN             NaN  \n",
       "444               NaN             NaN  \n",
       "445              29.0        0.180738  \n",
       "446               6.0        2.144583  \n",
       "447              10.0        2.090917  \n",
       "\n",
       "[448 rows x 39 columns]"
      ]
     },
     "execution_count": 90,
     "metadata": {},
     "output_type": "execute_result"
    }
   ],
   "source": [
    "tshrs_free = pd.merge(sessions_free2, ts, on=\"userId\", how=\"left\")\n",
    "tshrs_free"
   ]
  },
  {
   "cell_type": "markdown",
   "metadata": {
    "papermill": {
     "duration": 0.185009,
     "end_time": "2021-02-01T19:13:32.616631",
     "exception": false,
     "start_time": "2021-02-01T19:13:32.431622",
     "status": "completed"
    },
    "tags": []
   },
   "source": [
    "### Average number of songs played per session"
   ]
  },
  {
   "cell_type": "code",
   "execution_count": 91,
   "metadata": {
    "execution": {
     "iopub.execute_input": "2021-02-01T19:13:33.085486Z",
     "iopub.status.busy": "2021-02-01T19:13:33.069373Z",
     "iopub.status.idle": "2021-02-01T19:13:33.141038Z",
     "shell.execute_reply": "2021-02-01T19:13:33.140418Z"
    },
    "papermill": {
     "duration": 0.339873,
     "end_time": "2021-02-01T19:13:33.141168",
     "exception": false,
     "start_time": "2021-02-01T19:13:32.801295",
     "status": "completed"
    },
    "tags": []
   },
   "outputs": [
    {
     "data": {
      "text/html": [
       "<div>\n",
       "<style scoped>\n",
       "    .dataframe tbody tr th:only-of-type {\n",
       "        vertical-align: middle;\n",
       "    }\n",
       "\n",
       "    .dataframe tbody tr th {\n",
       "        vertical-align: top;\n",
       "    }\n",
       "\n",
       "    .dataframe thead th {\n",
       "        text-align: right;\n",
       "    }\n",
       "</style>\n",
       "<table border=\"1\" class=\"dataframe\">\n",
       "  <thead>\n",
       "    <tr style=\"text-align: right;\">\n",
       "      <th></th>\n",
       "      <th>userId</th>\n",
       "      <th>songs_ct</th>\n",
       "    </tr>\n",
       "  </thead>\n",
       "  <tbody>\n",
       "    <tr>\n",
       "      <th>0</th>\n",
       "      <td>100</td>\n",
       "      <td>46</td>\n",
       "    </tr>\n",
       "    <tr>\n",
       "      <th>1</th>\n",
       "      <td>100001</td>\n",
       "      <td>96</td>\n",
       "    </tr>\n",
       "    <tr>\n",
       "      <th>2</th>\n",
       "      <td>100002</td>\n",
       "      <td>24</td>\n",
       "    </tr>\n",
       "    <tr>\n",
       "      <th>3</th>\n",
       "      <td>100003</td>\n",
       "      <td>231</td>\n",
       "    </tr>\n",
       "    <tr>\n",
       "      <th>4</th>\n",
       "      <td>100004</td>\n",
       "      <td>262</td>\n",
       "    </tr>\n",
       "    <tr>\n",
       "      <th>...</th>\n",
       "      <td>...</td>\n",
       "      <td>...</td>\n",
       "    </tr>\n",
       "    <tr>\n",
       "      <th>365</th>\n",
       "      <td>93</td>\n",
       "      <td>196</td>\n",
       "    </tr>\n",
       "    <tr>\n",
       "      <th>366</th>\n",
       "      <td>94</td>\n",
       "      <td>56</td>\n",
       "    </tr>\n",
       "    <tr>\n",
       "      <th>367</th>\n",
       "      <td>97</td>\n",
       "      <td>1148</td>\n",
       "    </tr>\n",
       "    <tr>\n",
       "      <th>368</th>\n",
       "      <td>98</td>\n",
       "      <td>39</td>\n",
       "    </tr>\n",
       "    <tr>\n",
       "      <th>369</th>\n",
       "      <td>99</td>\n",
       "      <td>342</td>\n",
       "    </tr>\n",
       "  </tbody>\n",
       "</table>\n",
       "<p>370 rows × 2 columns</p>\n",
       "</div>"
      ],
      "text/plain": [
       "     userId  songs_ct\n",
       "0       100        46\n",
       "1    100001        96\n",
       "2    100002        24\n",
       "3    100003       231\n",
       "4    100004       262\n",
       "..      ...       ...\n",
       "365      93       196\n",
       "366      94        56\n",
       "367      97      1148\n",
       "368      98        39\n",
       "369      99       342\n",
       "\n",
       "[370 rows x 2 columns]"
      ]
     },
     "execution_count": 91,
     "metadata": {},
     "output_type": "execute_result"
    }
   ],
   "source": [
    "#get song counts per distint userId\n",
    "#add dist sessions count\n",
    "#get average song counts per distinct session counts\n",
    "#drop prelim calc columns\n",
    "#merge with last merged df to free_df\n",
    "\n",
    "songs_free= free_df.groupby('userId').agg({'song': 'count'}).reset_index()\n",
    "songs_free.columns = ['userId', 'songs_ct']\n",
    "songs_free"
   ]
  },
  {
   "cell_type": "code",
   "execution_count": 92,
   "metadata": {
    "execution": {
     "iopub.execute_input": "2021-02-01T19:13:33.533254Z",
     "iopub.status.busy": "2021-02-01T19:13:33.525614Z",
     "iopub.status.idle": "2021-02-01T19:13:33.538232Z",
     "shell.execute_reply": "2021-02-01T19:13:33.538746Z"
    },
    "papermill": {
     "duration": 0.213415,
     "end_time": "2021-02-01T19:13:33.538955",
     "exception": false,
     "start_time": "2021-02-01T19:13:33.325540",
     "status": "completed"
    },
    "tags": []
   },
   "outputs": [
    {
     "data": {
      "text/html": [
       "<div>\n",
       "<style scoped>\n",
       "    .dataframe tbody tr th:only-of-type {\n",
       "        vertical-align: middle;\n",
       "    }\n",
       "\n",
       "    .dataframe tbody tr th {\n",
       "        vertical-align: top;\n",
       "    }\n",
       "\n",
       "    .dataframe thead th {\n",
       "        text-align: right;\n",
       "    }\n",
       "</style>\n",
       "<table border=\"1\" class=\"dataframe\">\n",
       "  <thead>\n",
       "    <tr style=\"text-align: right;\">\n",
       "      <th></th>\n",
       "      <th>userId</th>\n",
       "      <th>av_session_songs</th>\n",
       "    </tr>\n",
       "  </thead>\n",
       "  <tbody>\n",
       "    <tr>\n",
       "      <th>0</th>\n",
       "      <td>100</td>\n",
       "      <td>23.000000</td>\n",
       "    </tr>\n",
       "    <tr>\n",
       "      <th>1</th>\n",
       "      <td>100001</td>\n",
       "      <td>32.000000</td>\n",
       "    </tr>\n",
       "    <tr>\n",
       "      <th>2</th>\n",
       "      <td>100002</td>\n",
       "      <td>8.000000</td>\n",
       "    </tr>\n",
       "    <tr>\n",
       "      <th>3</th>\n",
       "      <td>100003</td>\n",
       "      <td>46.200000</td>\n",
       "    </tr>\n",
       "    <tr>\n",
       "      <th>4</th>\n",
       "      <td>100004</td>\n",
       "      <td>52.400000</td>\n",
       "    </tr>\n",
       "    <tr>\n",
       "      <th>...</th>\n",
       "      <td>...</td>\n",
       "      <td>...</td>\n",
       "    </tr>\n",
       "    <tr>\n",
       "      <th>365</th>\n",
       "      <td>93</td>\n",
       "      <td>49.000000</td>\n",
       "    </tr>\n",
       "    <tr>\n",
       "      <th>366</th>\n",
       "      <td>94</td>\n",
       "      <td>9.333333</td>\n",
       "    </tr>\n",
       "    <tr>\n",
       "      <th>367</th>\n",
       "      <td>97</td>\n",
       "      <td>39.586207</td>\n",
       "    </tr>\n",
       "    <tr>\n",
       "      <th>368</th>\n",
       "      <td>98</td>\n",
       "      <td>6.500000</td>\n",
       "    </tr>\n",
       "    <tr>\n",
       "      <th>369</th>\n",
       "      <td>99</td>\n",
       "      <td>34.200000</td>\n",
       "    </tr>\n",
       "  </tbody>\n",
       "</table>\n",
       "<p>370 rows × 2 columns</p>\n",
       "</div>"
      ],
      "text/plain": [
       "     userId  av_session_songs\n",
       "0       100         23.000000\n",
       "1    100001         32.000000\n",
       "2    100002          8.000000\n",
       "3    100003         46.200000\n",
       "4    100004         52.400000\n",
       "..      ...               ...\n",
       "365      93         49.000000\n",
       "366      94          9.333333\n",
       "367      97         39.586207\n",
       "368      98          6.500000\n",
       "369      99         34.200000\n",
       "\n",
       "[370 rows x 2 columns]"
      ]
     },
     "execution_count": 92,
     "metadata": {},
     "output_type": "execute_result"
    }
   ],
   "source": [
    "songs_free = pd.merge(sessions_free,songs_free, on=\"userId\")\n",
    "songs_free['av_session_songs'] = songs_free['songs_ct']/songs_free['dist_sessions_ct']\n",
    "songs_free = songs_free.drop(columns=['dist_sessions_ct', 'songs_ct'])\n",
    "songs_free"
   ]
  },
  {
   "cell_type": "code",
   "execution_count": 93,
   "metadata": {
    "execution": {
     "iopub.execute_input": "2021-02-01T19:13:33.946671Z",
     "iopub.status.busy": "2021-02-01T19:13:33.939975Z",
     "iopub.status.idle": "2021-02-01T19:13:33.982198Z",
     "shell.execute_reply": "2021-02-01T19:13:33.981474Z"
    },
    "papermill": {
     "duration": 0.248355,
     "end_time": "2021-02-01T19:13:33.982327",
     "exception": false,
     "start_time": "2021-02-01T19:13:33.733972",
     "status": "completed"
    },
    "tags": []
   },
   "outputs": [
    {
     "data": {
      "text/html": [
       "<div>\n",
       "<style scoped>\n",
       "    .dataframe tbody tr th:only-of-type {\n",
       "        vertical-align: middle;\n",
       "    }\n",
       "\n",
       "    .dataframe tbody tr th {\n",
       "        vertical-align: top;\n",
       "    }\n",
       "\n",
       "    .dataframe thead th {\n",
       "        text-align: right;\n",
       "    }\n",
       "</style>\n",
       "<table border=\"1\" class=\"dataframe\">\n",
       "  <thead>\n",
       "    <tr style=\"text-align: right;\">\n",
       "      <th></th>\n",
       "      <th>userId</th>\n",
       "      <th>(userId, )</th>\n",
       "      <th>(index, free About)</th>\n",
       "      <th>(index, free Add Friend)</th>\n",
       "      <th>(index, free Add to Playlist)</th>\n",
       "      <th>(index, free Cancel)</th>\n",
       "      <th>(index, free Cancellation Confirmation)</th>\n",
       "      <th>(index, free Error)</th>\n",
       "      <th>(index, free Help)</th>\n",
       "      <th>(index, free Home)</th>\n",
       "      <th>...</th>\n",
       "      <th>(index, paid Roll Advert)</th>\n",
       "      <th>(index, paid Save Settings)</th>\n",
       "      <th>(index, paid Settings)</th>\n",
       "      <th>(index, paid Submit Downgrade)</th>\n",
       "      <th>(index, paid Thumbs Down)</th>\n",
       "      <th>(index, paid Thumbs Up)</th>\n",
       "      <th>days_free</th>\n",
       "      <th>dist_sessions_ct</th>\n",
       "      <th>av_session_hrs</th>\n",
       "      <th>av_session_songs</th>\n",
       "    </tr>\n",
       "  </thead>\n",
       "  <tbody>\n",
       "    <tr>\n",
       "      <th>0</th>\n",
       "      <td>10</td>\n",
       "      <td>10</td>\n",
       "      <td>0</td>\n",
       "      <td>0</td>\n",
       "      <td>0</td>\n",
       "      <td>0</td>\n",
       "      <td>0</td>\n",
       "      <td>0</td>\n",
       "      <td>0</td>\n",
       "      <td>0</td>\n",
       "      <td>...</td>\n",
       "      <td>0</td>\n",
       "      <td>0</td>\n",
       "      <td>2</td>\n",
       "      <td>0</td>\n",
       "      <td>1</td>\n",
       "      <td>17</td>\n",
       "      <td>NaN</td>\n",
       "      <td>NaN</td>\n",
       "      <td>NaN</td>\n",
       "      <td>NaN</td>\n",
       "    </tr>\n",
       "    <tr>\n",
       "      <th>1</th>\n",
       "      <td>100</td>\n",
       "      <td>100</td>\n",
       "      <td>0</td>\n",
       "      <td>0</td>\n",
       "      <td>2</td>\n",
       "      <td>0</td>\n",
       "      <td>0</td>\n",
       "      <td>0</td>\n",
       "      <td>0</td>\n",
       "      <td>3</td>\n",
       "      <td>...</td>\n",
       "      <td>3</td>\n",
       "      <td>2</td>\n",
       "      <td>17</td>\n",
       "      <td>0</td>\n",
       "      <td>37</td>\n",
       "      <td>142</td>\n",
       "      <td>1.0</td>\n",
       "      <td>2.0</td>\n",
       "      <td>5.422500</td>\n",
       "      <td>23.000000</td>\n",
       "    </tr>\n",
       "    <tr>\n",
       "      <th>2</th>\n",
       "      <td>100001</td>\n",
       "      <td>100001</td>\n",
       "      <td>1</td>\n",
       "      <td>1</td>\n",
       "      <td>3</td>\n",
       "      <td>1</td>\n",
       "      <td>1</td>\n",
       "      <td>0</td>\n",
       "      <td>1</td>\n",
       "      <td>4</td>\n",
       "      <td>...</td>\n",
       "      <td>0</td>\n",
       "      <td>0</td>\n",
       "      <td>0</td>\n",
       "      <td>0</td>\n",
       "      <td>0</td>\n",
       "      <td>0</td>\n",
       "      <td>1.0</td>\n",
       "      <td>3.0</td>\n",
       "      <td>2.681019</td>\n",
       "      <td>32.000000</td>\n",
       "    </tr>\n",
       "    <tr>\n",
       "      <th>3</th>\n",
       "      <td>100002</td>\n",
       "      <td>100002</td>\n",
       "      <td>0</td>\n",
       "      <td>0</td>\n",
       "      <td>1</td>\n",
       "      <td>0</td>\n",
       "      <td>0</td>\n",
       "      <td>0</td>\n",
       "      <td>1</td>\n",
       "      <td>5</td>\n",
       "      <td>...</td>\n",
       "      <td>0</td>\n",
       "      <td>0</td>\n",
       "      <td>0</td>\n",
       "      <td>1</td>\n",
       "      <td>2</td>\n",
       "      <td>5</td>\n",
       "      <td>24.0</td>\n",
       "      <td>3.0</td>\n",
       "      <td>4.270463</td>\n",
       "      <td>8.000000</td>\n",
       "    </tr>\n",
       "    <tr>\n",
       "      <th>4</th>\n",
       "      <td>100003</td>\n",
       "      <td>100003</td>\n",
       "      <td>0</td>\n",
       "      <td>6</td>\n",
       "      <td>6</td>\n",
       "      <td>0</td>\n",
       "      <td>0</td>\n",
       "      <td>1</td>\n",
       "      <td>1</td>\n",
       "      <td>10</td>\n",
       "      <td>...</td>\n",
       "      <td>4</td>\n",
       "      <td>1</td>\n",
       "      <td>3</td>\n",
       "      <td>0</td>\n",
       "      <td>3</td>\n",
       "      <td>10</td>\n",
       "      <td>18.0</td>\n",
       "      <td>5.0</td>\n",
       "      <td>1.287056</td>\n",
       "      <td>46.200000</td>\n",
       "    </tr>\n",
       "    <tr>\n",
       "      <th>...</th>\n",
       "      <td>...</td>\n",
       "      <td>...</td>\n",
       "      <td>...</td>\n",
       "      <td>...</td>\n",
       "      <td>...</td>\n",
       "      <td>...</td>\n",
       "      <td>...</td>\n",
       "      <td>...</td>\n",
       "      <td>...</td>\n",
       "      <td>...</td>\n",
       "      <td>...</td>\n",
       "      <td>...</td>\n",
       "      <td>...</td>\n",
       "      <td>...</td>\n",
       "      <td>...</td>\n",
       "      <td>...</td>\n",
       "      <td>...</td>\n",
       "      <td>...</td>\n",
       "      <td>...</td>\n",
       "      <td>...</td>\n",
       "      <td>...</td>\n",
       "    </tr>\n",
       "    <tr>\n",
       "      <th>443</th>\n",
       "      <td>95</td>\n",
       "      <td>95</td>\n",
       "      <td>0</td>\n",
       "      <td>0</td>\n",
       "      <td>0</td>\n",
       "      <td>0</td>\n",
       "      <td>0</td>\n",
       "      <td>0</td>\n",
       "      <td>0</td>\n",
       "      <td>0</td>\n",
       "      <td>...</td>\n",
       "      <td>4</td>\n",
       "      <td>5</td>\n",
       "      <td>16</td>\n",
       "      <td>0</td>\n",
       "      <td>21</td>\n",
       "      <td>122</td>\n",
       "      <td>NaN</td>\n",
       "      <td>NaN</td>\n",
       "      <td>NaN</td>\n",
       "      <td>NaN</td>\n",
       "    </tr>\n",
       "    <tr>\n",
       "      <th>444</th>\n",
       "      <td>96</td>\n",
       "      <td>96</td>\n",
       "      <td>0</td>\n",
       "      <td>0</td>\n",
       "      <td>0</td>\n",
       "      <td>0</td>\n",
       "      <td>0</td>\n",
       "      <td>0</td>\n",
       "      <td>0</td>\n",
       "      <td>0</td>\n",
       "      <td>...</td>\n",
       "      <td>3</td>\n",
       "      <td>3</td>\n",
       "      <td>8</td>\n",
       "      <td>0</td>\n",
       "      <td>20</td>\n",
       "      <td>78</td>\n",
       "      <td>NaN</td>\n",
       "      <td>NaN</td>\n",
       "      <td>NaN</td>\n",
       "      <td>NaN</td>\n",
       "    </tr>\n",
       "    <tr>\n",
       "      <th>445</th>\n",
       "      <td>97</td>\n",
       "      <td>97</td>\n",
       "      <td>6</td>\n",
       "      <td>23</td>\n",
       "      <td>31</td>\n",
       "      <td>0</td>\n",
       "      <td>0</td>\n",
       "      <td>2</td>\n",
       "      <td>9</td>\n",
       "      <td>73</td>\n",
       "      <td>...</td>\n",
       "      <td>0</td>\n",
       "      <td>0</td>\n",
       "      <td>0</td>\n",
       "      <td>0</td>\n",
       "      <td>1</td>\n",
       "      <td>4</td>\n",
       "      <td>54.0</td>\n",
       "      <td>29.0</td>\n",
       "      <td>0.180738</td>\n",
       "      <td>39.586207</td>\n",
       "    </tr>\n",
       "    <tr>\n",
       "      <th>446</th>\n",
       "      <td>98</td>\n",
       "      <td>98</td>\n",
       "      <td>0</td>\n",
       "      <td>2</td>\n",
       "      <td>2</td>\n",
       "      <td>0</td>\n",
       "      <td>0</td>\n",
       "      <td>0</td>\n",
       "      <td>1</td>\n",
       "      <td>5</td>\n",
       "      <td>...</td>\n",
       "      <td>4</td>\n",
       "      <td>7</td>\n",
       "      <td>16</td>\n",
       "      <td>0</td>\n",
       "      <td>31</td>\n",
       "      <td>129</td>\n",
       "      <td>9.0</td>\n",
       "      <td>6.0</td>\n",
       "      <td>2.144583</td>\n",
       "      <td>6.500000</td>\n",
       "    </tr>\n",
       "    <tr>\n",
       "      <th>447</th>\n",
       "      <td>99</td>\n",
       "      <td>99</td>\n",
       "      <td>1</td>\n",
       "      <td>14</td>\n",
       "      <td>6</td>\n",
       "      <td>0</td>\n",
       "      <td>0</td>\n",
       "      <td>0</td>\n",
       "      <td>3</td>\n",
       "      <td>14</td>\n",
       "      <td>...</td>\n",
       "      <td>0</td>\n",
       "      <td>0</td>\n",
       "      <td>4</td>\n",
       "      <td>1</td>\n",
       "      <td>6</td>\n",
       "      <td>27</td>\n",
       "      <td>55.0</td>\n",
       "      <td>10.0</td>\n",
       "      <td>2.090917</td>\n",
       "      <td>34.200000</td>\n",
       "    </tr>\n",
       "  </tbody>\n",
       "</table>\n",
       "<p>448 rows × 40 columns</p>\n",
       "</div>"
      ],
      "text/plain": [
       "     userId (userId, )  (index, free About)  (index, free Add Friend)  \\\n",
       "0        10         10                    0                         0   \n",
       "1       100        100                    0                         0   \n",
       "2    100001     100001                    1                         1   \n",
       "3    100002     100002                    0                         0   \n",
       "4    100003     100003                    0                         6   \n",
       "..      ...        ...                  ...                       ...   \n",
       "443      95         95                    0                         0   \n",
       "444      96         96                    0                         0   \n",
       "445      97         97                    6                        23   \n",
       "446      98         98                    0                         2   \n",
       "447      99         99                    1                        14   \n",
       "\n",
       "     (index, free Add to Playlist)  (index, free Cancel)  \\\n",
       "0                                0                     0   \n",
       "1                                2                     0   \n",
       "2                                3                     1   \n",
       "3                                1                     0   \n",
       "4                                6                     0   \n",
       "..                             ...                   ...   \n",
       "443                              0                     0   \n",
       "444                              0                     0   \n",
       "445                             31                     0   \n",
       "446                              2                     0   \n",
       "447                              6                     0   \n",
       "\n",
       "     (index, free Cancellation Confirmation)  (index, free Error)  \\\n",
       "0                                          0                    0   \n",
       "1                                          0                    0   \n",
       "2                                          1                    0   \n",
       "3                                          0                    0   \n",
       "4                                          0                    1   \n",
       "..                                       ...                  ...   \n",
       "443                                        0                    0   \n",
       "444                                        0                    0   \n",
       "445                                        0                    2   \n",
       "446                                        0                    0   \n",
       "447                                        0                    0   \n",
       "\n",
       "     (index, free Help)  (index, free Home)  ...  (index, paid Roll Advert)  \\\n",
       "0                     0                   0  ...                          0   \n",
       "1                     0                   3  ...                          3   \n",
       "2                     1                   4  ...                          0   \n",
       "3                     1                   5  ...                          0   \n",
       "4                     1                  10  ...                          4   \n",
       "..                  ...                 ...  ...                        ...   \n",
       "443                   0                   0  ...                          4   \n",
       "444                   0                   0  ...                          3   \n",
       "445                   9                  73  ...                          0   \n",
       "446                   1                   5  ...                          4   \n",
       "447                   3                  14  ...                          0   \n",
       "\n",
       "     (index, paid Save Settings)  (index, paid Settings)  \\\n",
       "0                              0                       2   \n",
       "1                              2                      17   \n",
       "2                              0                       0   \n",
       "3                              0                       0   \n",
       "4                              1                       3   \n",
       "..                           ...                     ...   \n",
       "443                            5                      16   \n",
       "444                            3                       8   \n",
       "445                            0                       0   \n",
       "446                            7                      16   \n",
       "447                            0                       4   \n",
       "\n",
       "     (index, paid Submit Downgrade)  (index, paid Thumbs Down)  \\\n",
       "0                                 0                          1   \n",
       "1                                 0                         37   \n",
       "2                                 0                          0   \n",
       "3                                 1                          2   \n",
       "4                                 0                          3   \n",
       "..                              ...                        ...   \n",
       "443                               0                         21   \n",
       "444                               0                         20   \n",
       "445                               0                          1   \n",
       "446                               0                         31   \n",
       "447                               1                          6   \n",
       "\n",
       "     (index, paid Thumbs Up)  days_free  dist_sessions_ct  av_session_hrs  \\\n",
       "0                         17        NaN               NaN             NaN   \n",
       "1                        142        1.0               2.0        5.422500   \n",
       "2                          0        1.0               3.0        2.681019   \n",
       "3                          5       24.0               3.0        4.270463   \n",
       "4                         10       18.0               5.0        1.287056   \n",
       "..                       ...        ...               ...             ...   \n",
       "443                      122        NaN               NaN             NaN   \n",
       "444                       78        NaN               NaN             NaN   \n",
       "445                        4       54.0              29.0        0.180738   \n",
       "446                      129        9.0               6.0        2.144583   \n",
       "447                       27       55.0              10.0        2.090917   \n",
       "\n",
       "     av_session_songs  \n",
       "0                 NaN  \n",
       "1           23.000000  \n",
       "2           32.000000  \n",
       "3            8.000000  \n",
       "4           46.200000  \n",
       "..                ...  \n",
       "443               NaN  \n",
       "444               NaN  \n",
       "445         39.586207  \n",
       "446          6.500000  \n",
       "447         34.200000  \n",
       "\n",
       "[448 rows x 40 columns]"
      ]
     },
     "execution_count": 93,
     "metadata": {},
     "output_type": "execute_result"
    }
   ],
   "source": [
    "final_df = pd.merge(tshrs_free, songs_free, on=\"userId\", how=\"left\")\n",
    "final_df"
   ]
  },
  {
   "cell_type": "code",
   "execution_count": 94,
   "metadata": {
    "execution": {
     "iopub.execute_input": "2021-02-01T19:13:34.380275Z",
     "iopub.status.busy": "2021-02-01T19:13:34.379508Z",
     "iopub.status.idle": "2021-02-01T19:13:34.383435Z",
     "shell.execute_reply": "2021-02-01T19:13:34.383951Z"
    },
    "papermill": {
     "duration": 0.202755,
     "end_time": "2021-02-01T19:13:34.384125",
     "exception": false,
     "start_time": "2021-02-01T19:13:34.181370",
     "status": "completed"
    },
    "tags": []
   },
   "outputs": [],
   "source": [
    "final_df=final_df.fillna(0)"
   ]
  },
  {
   "cell_type": "markdown",
   "metadata": {
    "papermill": {
     "duration": 0.195324,
     "end_time": "2021-02-01T19:13:34.768528",
     "exception": false,
     "start_time": "2021-02-01T19:13:34.573204",
     "status": "completed"
    },
    "tags": []
   },
   "source": [
    "448 rows of training data is not a huge amount, but let's see what we get with model's performace on test data."
   ]
  },
  {
   "cell_type": "markdown",
   "metadata": {
    "papermill": {
     "duration": 0.199185,
     "end_time": "2021-02-01T19:13:35.157969",
     "exception": false,
     "start_time": "2021-02-01T19:13:34.958784",
     "status": "completed"
    },
    "tags": []
   },
   "source": [
    "# Modeling"
   ]
  },
  {
   "cell_type": "code",
   "execution_count": 95,
   "metadata": {
    "execution": {
     "iopub.execute_input": "2021-02-01T19:13:35.596790Z",
     "iopub.status.busy": "2021-02-01T19:13:35.586318Z",
     "iopub.status.idle": "2021-02-01T19:13:35.614673Z",
     "shell.execute_reply": "2021-02-01T19:13:35.614016Z"
    },
    "papermill": {
     "duration": 0.227617,
     "end_time": "2021-02-01T19:13:35.614818",
     "exception": false,
     "start_time": "2021-02-01T19:13:35.387201",
     "status": "completed"
    },
    "tags": []
   },
   "outputs": [
    {
     "ename": "KeyError",
     "evalue": "\"['label'] not found in axis\"",
     "output_type": "error",
     "traceback": [
      "\u001b[0;31m---------------------------------------------------------------------------\u001b[0m",
      "\u001b[0;31mKeyError\u001b[0m                                  Traceback (most recent call last)",
      "\u001b[0;32m<ipython-input-95-77979b98a9e3>\u001b[0m in \u001b[0;36m<module>\u001b[0;34m\u001b[0m\n\u001b[1;32m      1\u001b[0m \u001b[0;31m#Data prep\u001b[0m\u001b[0;34m\u001b[0m\u001b[0;34m\u001b[0m\u001b[0;34m\u001b[0m\u001b[0m\n\u001b[0;32m----> 2\u001b[0;31m \u001b[0mX\u001b[0m \u001b[0;34m=\u001b[0m \u001b[0mfinal_df\u001b[0m\u001b[0;34m.\u001b[0m\u001b[0mdrop\u001b[0m\u001b[0;34m(\u001b[0m\u001b[0mcolumns\u001b[0m\u001b[0;34m=\u001b[0m\u001b[0;34m[\u001b[0m\u001b[0;34m'userId'\u001b[0m\u001b[0;34m,\u001b[0m \u001b[0;34m'label'\u001b[0m\u001b[0;34m]\u001b[0m\u001b[0;34m)\u001b[0m\u001b[0;34m\u001b[0m\u001b[0;34m\u001b[0m\u001b[0m\n\u001b[0m\u001b[1;32m      3\u001b[0m \u001b[0my\u001b[0m \u001b[0;34m=\u001b[0m \u001b[0mfinal_df\u001b[0m\u001b[0;34m.\u001b[0m\u001b[0mlabel\u001b[0m\u001b[0;34m\u001b[0m\u001b[0;34m\u001b[0m\u001b[0m\n",
      "\u001b[0;32m/opt/conda/lib/python3.7/site-packages/pandas/core/frame.py\u001b[0m in \u001b[0;36mdrop\u001b[0;34m(self, labels, axis, index, columns, level, inplace, errors)\u001b[0m\n\u001b[1;32m   4172\u001b[0m             \u001b[0mlevel\u001b[0m\u001b[0;34m=\u001b[0m\u001b[0mlevel\u001b[0m\u001b[0;34m,\u001b[0m\u001b[0;34m\u001b[0m\u001b[0;34m\u001b[0m\u001b[0m\n\u001b[1;32m   4173\u001b[0m             \u001b[0minplace\u001b[0m\u001b[0;34m=\u001b[0m\u001b[0minplace\u001b[0m\u001b[0;34m,\u001b[0m\u001b[0;34m\u001b[0m\u001b[0;34m\u001b[0m\u001b[0m\n\u001b[0;32m-> 4174\u001b[0;31m             \u001b[0merrors\u001b[0m\u001b[0;34m=\u001b[0m\u001b[0merrors\u001b[0m\u001b[0;34m,\u001b[0m\u001b[0;34m\u001b[0m\u001b[0;34m\u001b[0m\u001b[0m\n\u001b[0m\u001b[1;32m   4175\u001b[0m         )\n\u001b[1;32m   4176\u001b[0m \u001b[0;34m\u001b[0m\u001b[0m\n",
      "\u001b[0;32m/opt/conda/lib/python3.7/site-packages/pandas/core/generic.py\u001b[0m in \u001b[0;36mdrop\u001b[0;34m(self, labels, axis, index, columns, level, inplace, errors)\u001b[0m\n\u001b[1;32m   3887\u001b[0m         \u001b[0;32mfor\u001b[0m \u001b[0maxis\u001b[0m\u001b[0;34m,\u001b[0m \u001b[0mlabels\u001b[0m \u001b[0;32min\u001b[0m \u001b[0maxes\u001b[0m\u001b[0;34m.\u001b[0m\u001b[0mitems\u001b[0m\u001b[0;34m(\u001b[0m\u001b[0;34m)\u001b[0m\u001b[0;34m:\u001b[0m\u001b[0;34m\u001b[0m\u001b[0;34m\u001b[0m\u001b[0m\n\u001b[1;32m   3888\u001b[0m             \u001b[0;32mif\u001b[0m \u001b[0mlabels\u001b[0m \u001b[0;32mis\u001b[0m \u001b[0;32mnot\u001b[0m \u001b[0;32mNone\u001b[0m\u001b[0;34m:\u001b[0m\u001b[0;34m\u001b[0m\u001b[0;34m\u001b[0m\u001b[0m\n\u001b[0;32m-> 3889\u001b[0;31m                 \u001b[0mobj\u001b[0m \u001b[0;34m=\u001b[0m \u001b[0mobj\u001b[0m\u001b[0;34m.\u001b[0m\u001b[0m_drop_axis\u001b[0m\u001b[0;34m(\u001b[0m\u001b[0mlabels\u001b[0m\u001b[0;34m,\u001b[0m \u001b[0maxis\u001b[0m\u001b[0;34m,\u001b[0m \u001b[0mlevel\u001b[0m\u001b[0;34m=\u001b[0m\u001b[0mlevel\u001b[0m\u001b[0;34m,\u001b[0m \u001b[0merrors\u001b[0m\u001b[0;34m=\u001b[0m\u001b[0merrors\u001b[0m\u001b[0;34m)\u001b[0m\u001b[0;34m\u001b[0m\u001b[0;34m\u001b[0m\u001b[0m\n\u001b[0m\u001b[1;32m   3890\u001b[0m \u001b[0;34m\u001b[0m\u001b[0m\n\u001b[1;32m   3891\u001b[0m         \u001b[0;32mif\u001b[0m \u001b[0minplace\u001b[0m\u001b[0;34m:\u001b[0m\u001b[0;34m\u001b[0m\u001b[0;34m\u001b[0m\u001b[0m\n",
      "\u001b[0;32m/opt/conda/lib/python3.7/site-packages/pandas/core/generic.py\u001b[0m in \u001b[0;36m_drop_axis\u001b[0;34m(self, labels, axis, level, errors)\u001b[0m\n\u001b[1;32m   3921\u001b[0m                 \u001b[0mnew_axis\u001b[0m \u001b[0;34m=\u001b[0m \u001b[0maxis\u001b[0m\u001b[0;34m.\u001b[0m\u001b[0mdrop\u001b[0m\u001b[0;34m(\u001b[0m\u001b[0mlabels\u001b[0m\u001b[0;34m,\u001b[0m \u001b[0mlevel\u001b[0m\u001b[0;34m=\u001b[0m\u001b[0mlevel\u001b[0m\u001b[0;34m,\u001b[0m \u001b[0merrors\u001b[0m\u001b[0;34m=\u001b[0m\u001b[0merrors\u001b[0m\u001b[0;34m)\u001b[0m\u001b[0;34m\u001b[0m\u001b[0;34m\u001b[0m\u001b[0m\n\u001b[1;32m   3922\u001b[0m             \u001b[0;32melse\u001b[0m\u001b[0;34m:\u001b[0m\u001b[0;34m\u001b[0m\u001b[0;34m\u001b[0m\u001b[0m\n\u001b[0;32m-> 3923\u001b[0;31m                 \u001b[0mnew_axis\u001b[0m \u001b[0;34m=\u001b[0m \u001b[0maxis\u001b[0m\u001b[0;34m.\u001b[0m\u001b[0mdrop\u001b[0m\u001b[0;34m(\u001b[0m\u001b[0mlabels\u001b[0m\u001b[0;34m,\u001b[0m \u001b[0merrors\u001b[0m\u001b[0;34m=\u001b[0m\u001b[0merrors\u001b[0m\u001b[0;34m)\u001b[0m\u001b[0;34m\u001b[0m\u001b[0;34m\u001b[0m\u001b[0m\n\u001b[0m\u001b[1;32m   3924\u001b[0m             \u001b[0mresult\u001b[0m \u001b[0;34m=\u001b[0m \u001b[0mself\u001b[0m\u001b[0;34m.\u001b[0m\u001b[0mreindex\u001b[0m\u001b[0;34m(\u001b[0m\u001b[0;34m**\u001b[0m\u001b[0;34m{\u001b[0m\u001b[0maxis_name\u001b[0m\u001b[0;34m:\u001b[0m \u001b[0mnew_axis\u001b[0m\u001b[0;34m}\u001b[0m\u001b[0;34m)\u001b[0m\u001b[0;34m\u001b[0m\u001b[0;34m\u001b[0m\u001b[0m\n\u001b[1;32m   3925\u001b[0m \u001b[0;34m\u001b[0m\u001b[0m\n",
      "\u001b[0;32m/opt/conda/lib/python3.7/site-packages/pandas/core/indexes/base.py\u001b[0m in \u001b[0;36mdrop\u001b[0;34m(self, labels, errors)\u001b[0m\n\u001b[1;32m   5285\u001b[0m         \u001b[0;32mif\u001b[0m \u001b[0mmask\u001b[0m\u001b[0;34m.\u001b[0m\u001b[0many\u001b[0m\u001b[0;34m(\u001b[0m\u001b[0;34m)\u001b[0m\u001b[0;34m:\u001b[0m\u001b[0;34m\u001b[0m\u001b[0;34m\u001b[0m\u001b[0m\n\u001b[1;32m   5286\u001b[0m             \u001b[0;32mif\u001b[0m \u001b[0merrors\u001b[0m \u001b[0;34m!=\u001b[0m \u001b[0;34m\"ignore\"\u001b[0m\u001b[0;34m:\u001b[0m\u001b[0;34m\u001b[0m\u001b[0;34m\u001b[0m\u001b[0m\n\u001b[0;32m-> 5287\u001b[0;31m                 \u001b[0;32mraise\u001b[0m \u001b[0mKeyError\u001b[0m\u001b[0;34m(\u001b[0m\u001b[0;34mf\"{labels[mask]} not found in axis\"\u001b[0m\u001b[0;34m)\u001b[0m\u001b[0;34m\u001b[0m\u001b[0;34m\u001b[0m\u001b[0m\n\u001b[0m\u001b[1;32m   5288\u001b[0m             \u001b[0mindexer\u001b[0m \u001b[0;34m=\u001b[0m \u001b[0mindexer\u001b[0m\u001b[0;34m[\u001b[0m\u001b[0;34m~\u001b[0m\u001b[0mmask\u001b[0m\u001b[0;34m]\u001b[0m\u001b[0;34m\u001b[0m\u001b[0;34m\u001b[0m\u001b[0m\n\u001b[1;32m   5289\u001b[0m         \u001b[0;32mreturn\u001b[0m \u001b[0mself\u001b[0m\u001b[0;34m.\u001b[0m\u001b[0mdelete\u001b[0m\u001b[0;34m(\u001b[0m\u001b[0mindexer\u001b[0m\u001b[0;34m)\u001b[0m\u001b[0;34m\u001b[0m\u001b[0;34m\u001b[0m\u001b[0m\n",
      "\u001b[0;31mKeyError\u001b[0m: \"['label'] not found in axis\""
     ]
    }
   ],
   "source": [
    "#Data prep\n",
    "X = final_df.drop(columns=['userId', 'label'])\n",
    "y = final_df.label"
   ]
  },
  {
   "cell_type": "code",
   "execution_count": 96,
   "metadata": {
    "execution": {
     "iopub.execute_input": "2021-02-01T19:13:36.010160Z",
     "iopub.status.busy": "2021-02-01T19:13:36.004821Z",
     "iopub.status.idle": "2021-02-01T19:13:36.025463Z",
     "shell.execute_reply": "2021-02-01T19:13:36.026031Z"
    },
    "papermill": {
     "duration": 0.224427,
     "end_time": "2021-02-01T19:13:36.026214",
     "exception": false,
     "start_time": "2021-02-01T19:13:35.801787",
     "status": "completed"
    },
    "tags": []
   },
   "outputs": [
    {
     "ename": "NameError",
     "evalue": "name 'X' is not defined",
     "output_type": "error",
     "traceback": [
      "\u001b[0;31m---------------------------------------------------------------------------\u001b[0m",
      "\u001b[0;31mNameError\u001b[0m                                 Traceback (most recent call last)",
      "\u001b[0;32m<ipython-input-96-b96ec8f31229>\u001b[0m in \u001b[0;36m<module>\u001b[0;34m\u001b[0m\n\u001b[1;32m      1\u001b[0m \u001b[0;31m#Train / Test split\u001b[0m\u001b[0;34m\u001b[0m\u001b[0;34m\u001b[0m\u001b[0;34m\u001b[0m\u001b[0m\n\u001b[1;32m      2\u001b[0m \u001b[0;34m\u001b[0m\u001b[0m\n\u001b[0;32m----> 3\u001b[0;31m \u001b[0mX_train\u001b[0m\u001b[0;34m,\u001b[0m \u001b[0mX_test\u001b[0m\u001b[0;34m,\u001b[0m \u001b[0my_train\u001b[0m\u001b[0;34m,\u001b[0m \u001b[0my_test\u001b[0m \u001b[0;34m=\u001b[0m \u001b[0mtrain_test_split\u001b[0m\u001b[0;34m(\u001b[0m\u001b[0mX\u001b[0m\u001b[0;34m,\u001b[0m \u001b[0my\u001b[0m\u001b[0;34m,\u001b[0m \u001b[0mtest_size\u001b[0m\u001b[0;34m=\u001b[0m\u001b[0;36m0.2\u001b[0m\u001b[0;34m,\u001b[0m \u001b[0mrandom_state\u001b[0m\u001b[0;34m=\u001b[0m\u001b[0;36m42\u001b[0m\u001b[0;34m,\u001b[0m \u001b[0mshuffle\u001b[0m\u001b[0;34m=\u001b[0m\u001b[0;32mTrue\u001b[0m\u001b[0;34m)\u001b[0m\u001b[0;34m\u001b[0m\u001b[0;34m\u001b[0m\u001b[0m\n\u001b[0m",
      "\u001b[0;31mNameError\u001b[0m: name 'X' is not defined"
     ]
    }
   ],
   "source": [
    "#Train / Test split\n",
    "\n",
    "X_train, X_test, y_train, y_test = train_test_split(X, y, test_size=0.2, random_state=42, shuffle=True)"
   ]
  },
  {
   "cell_type": "code",
   "execution_count": 97,
   "metadata": {
    "execution": {
     "iopub.execute_input": "2021-02-01T19:13:36.406393Z",
     "iopub.status.busy": "2021-02-01T19:13:36.405581Z",
     "iopub.status.idle": "2021-02-01T19:13:36.431070Z",
     "shell.execute_reply": "2021-02-01T19:13:36.431609Z"
    },
    "papermill": {
     "duration": 0.217827,
     "end_time": "2021-02-01T19:13:36.431796",
     "exception": false,
     "start_time": "2021-02-01T19:13:36.213969",
     "status": "completed"
    },
    "tags": []
   },
   "outputs": [
    {
     "ename": "NameError",
     "evalue": "name 'X_train' is not defined",
     "output_type": "error",
     "traceback": [
      "\u001b[0;31m---------------------------------------------------------------------------\u001b[0m",
      "\u001b[0;31mNameError\u001b[0m                                 Traceback (most recent call last)",
      "\u001b[0;32m<ipython-input-97-7d9f3faf45e0>\u001b[0m in \u001b[0;36m<module>\u001b[0;34m\u001b[0m\n\u001b[0;32m----> 1\u001b[0;31m \u001b[0mprint\u001b[0m\u001b[0;34m(\u001b[0m\u001b[0mX_train\u001b[0m\u001b[0;34m.\u001b[0m\u001b[0mshape\u001b[0m\u001b[0;34m)\u001b[0m\u001b[0;34m\u001b[0m\u001b[0;34m\u001b[0m\u001b[0m\n\u001b[0m\u001b[1;32m      2\u001b[0m \u001b[0mprint\u001b[0m\u001b[0;34m(\u001b[0m\u001b[0mX_test\u001b[0m\u001b[0;34m.\u001b[0m\u001b[0mshape\u001b[0m\u001b[0;34m)\u001b[0m\u001b[0;34m\u001b[0m\u001b[0;34m\u001b[0m\u001b[0m\n",
      "\u001b[0;31mNameError\u001b[0m: name 'X_train' is not defined"
     ]
    }
   ],
   "source": [
    "print(X_train.shape)\n",
    "print(X_test.shape)"
   ]
  },
  {
   "cell_type": "markdown",
   "metadata": {
    "papermill": {
     "duration": 0.190861,
     "end_time": "2021-02-01T19:13:36.811978",
     "exception": false,
     "start_time": "2021-02-01T19:13:36.621117",
     "status": "completed"
    },
    "tags": []
   },
   "source": [
    "## Logistic Regression"
   ]
  },
  {
   "cell_type": "code",
   "execution_count": 98,
   "metadata": {
    "execution": {
     "iopub.execute_input": "2021-02-01T19:13:37.263404Z",
     "iopub.status.busy": "2021-02-01T19:13:37.262532Z",
     "iopub.status.idle": "2021-02-01T19:13:37.294555Z",
     "shell.execute_reply": "2021-02-01T19:13:37.293691Z"
    },
    "papermill": {
     "duration": 0.256315,
     "end_time": "2021-02-01T19:13:37.294701",
     "exception": false,
     "start_time": "2021-02-01T19:13:37.038386",
     "status": "completed"
    },
    "tags": []
   },
   "outputs": [
    {
     "ename": "NameError",
     "evalue": "name 'X_train' is not defined",
     "output_type": "error",
     "traceback": [
      "\u001b[0;31m---------------------------------------------------------------------------\u001b[0m",
      "\u001b[0;31mNameError\u001b[0m                                 Traceback (most recent call last)",
      "\u001b[0;32m<ipython-input-98-7a3c036dcc61>\u001b[0m in \u001b[0;36m<module>\u001b[0;34m\u001b[0m\n\u001b[1;32m      1\u001b[0m \u001b[0mCLF\u001b[0m \u001b[0;34m=\u001b[0m \u001b[0mLogisticRegression\u001b[0m\u001b[0;34m(\u001b[0m\u001b[0mC\u001b[0m\u001b[0;34m=\u001b[0m\u001b[0;36m1.0\u001b[0m\u001b[0;34m)\u001b[0m\u001b[0;34m\u001b[0m\u001b[0;34m\u001b[0m\u001b[0m\n\u001b[0;32m----> 2\u001b[0;31m \u001b[0mCLF\u001b[0m\u001b[0;34m.\u001b[0m\u001b[0mfit\u001b[0m\u001b[0;34m(\u001b[0m\u001b[0mX_train\u001b[0m\u001b[0;34m,\u001b[0m \u001b[0my_train\u001b[0m\u001b[0;34m)\u001b[0m\u001b[0;34m\u001b[0m\u001b[0;34m\u001b[0m\u001b[0m\n\u001b[0m\u001b[1;32m      3\u001b[0m \u001b[0mpredictions\u001b[0m \u001b[0;34m=\u001b[0m \u001b[0mCLF\u001b[0m\u001b[0;34m.\u001b[0m\u001b[0mpredict\u001b[0m\u001b[0;34m(\u001b[0m\u001b[0mX_test\u001b[0m\u001b[0;34m)\u001b[0m\u001b[0;34m\u001b[0m\u001b[0;34m\u001b[0m\u001b[0m\n\u001b[1;32m      4\u001b[0m \u001b[0;34m\u001b[0m\u001b[0m\n\u001b[1;32m      5\u001b[0m \u001b[0;34m\u001b[0m\u001b[0m\n",
      "\u001b[0;31mNameError\u001b[0m: name 'X_train' is not defined"
     ]
    }
   ],
   "source": [
    "CLF = LogisticRegression(C=1.0)\n",
    "CLF.fit(X_train, y_train)\n",
    "predictions = CLF.predict(X_test)\n",
    "\n",
    "\n",
    "print(classification_report(y_test, predictions))"
   ]
  },
  {
   "cell_type": "code",
   "execution_count": 99,
   "metadata": {
    "execution": {
     "iopub.execute_input": "2021-02-01T19:13:37.721191Z",
     "iopub.status.busy": "2021-02-01T19:13:37.711412Z",
     "iopub.status.idle": "2021-02-01T19:13:37.731515Z",
     "shell.execute_reply": "2021-02-01T19:13:37.732116Z"
    },
    "papermill": {
     "duration": 0.240368,
     "end_time": "2021-02-01T19:13:37.732353",
     "exception": false,
     "start_time": "2021-02-01T19:13:37.491985",
     "status": "completed"
    },
    "tags": []
   },
   "outputs": [
    {
     "ename": "NameError",
     "evalue": "name 'y_test' is not defined",
     "output_type": "error",
     "traceback": [
      "\u001b[0;31m---------------------------------------------------------------------------\u001b[0m",
      "\u001b[0;31mNameError\u001b[0m                                 Traceback (most recent call last)",
      "\u001b[0;32m<ipython-input-99-f37d423be3ec>\u001b[0m in \u001b[0;36m<module>\u001b[0;34m\u001b[0m\n\u001b[0;32m----> 1\u001b[0;31m \u001b[0mconfusion_matrix\u001b[0m\u001b[0;34m(\u001b[0m\u001b[0my_test\u001b[0m\u001b[0;34m,\u001b[0m \u001b[0mpredictions\u001b[0m\u001b[0;34m)\u001b[0m\u001b[0;34m\u001b[0m\u001b[0;34m\u001b[0m\u001b[0m\n\u001b[0m",
      "\u001b[0;31mNameError\u001b[0m: name 'y_test' is not defined"
     ]
    }
   ],
   "source": [
    "confusion_matrix(y_test, predictions)"
   ]
  },
  {
   "cell_type": "code",
   "execution_count": 100,
   "metadata": {
    "execution": {
     "iopub.execute_input": "2021-02-01T19:13:38.134293Z",
     "iopub.status.busy": "2021-02-01T19:13:38.133374Z",
     "iopub.status.idle": "2021-02-01T19:13:38.161182Z",
     "shell.execute_reply": "2021-02-01T19:13:38.160536Z"
    },
    "papermill": {
     "duration": 0.234663,
     "end_time": "2021-02-01T19:13:38.161319",
     "exception": false,
     "start_time": "2021-02-01T19:13:37.926656",
     "status": "completed"
    },
    "tags": []
   },
   "outputs": [
    {
     "ename": "NameError",
     "evalue": "name 'y_test' is not defined",
     "output_type": "error",
     "traceback": [
      "\u001b[0;31m---------------------------------------------------------------------------\u001b[0m",
      "\u001b[0;31mNameError\u001b[0m                                 Traceback (most recent call last)",
      "\u001b[0;32m<ipython-input-100-49c4300f8373>\u001b[0m in \u001b[0;36m<module>\u001b[0;34m\u001b[0m\n\u001b[1;32m      1\u001b[0m \u001b[0;31m#Reminder of churn distribution in test data\u001b[0m\u001b[0;34m\u001b[0m\u001b[0;34m\u001b[0m\u001b[0;34m\u001b[0m\u001b[0m\n\u001b[0;32m----> 2\u001b[0;31m \u001b[0my_test\u001b[0m\u001b[0;34m.\u001b[0m\u001b[0mvalue_counts\u001b[0m\u001b[0;34m(\u001b[0m\u001b[0;34m)\u001b[0m\u001b[0;34m\u001b[0m\u001b[0;34m\u001b[0m\u001b[0m\n\u001b[0m",
      "\u001b[0;31mNameError\u001b[0m: name 'y_test' is not defined"
     ]
    }
   ],
   "source": [
    "#Reminder of churn distribution in test data\n",
    "y_test.value_counts()"
   ]
  },
  {
   "cell_type": "markdown",
   "metadata": {
    "papermill": {
     "duration": 0.195947,
     "end_time": "2021-02-01T19:13:38.554060",
     "exception": false,
     "start_time": "2021-02-01T19:13:38.358113",
     "status": "completed"
    },
    "tags": []
   },
   "source": [
    "In order to determine the success metric, we have to determine what is the worst case scenario given the business question. Would it be worse to have more false negatives (false non-churn) or false positives (false churnned). Usually, in a business context, it comes down to cost. How much would the business lose if they missed those who were going to churn versus incorrectly trying to win back those who are churnning. It would be more costly to miss those who are churnning since revenue from subscriptions would be lost versus an email being sent to someone who was not actually a churner.\n",
    "\n",
    "Therefore, success metric is going to be f1-score of minority class (1- churn) and the total number of incorrect predictions from the model with specific attention paid to false negatives (want to catch as many churnners as possible).\n",
    "\n",
    "So we can see here that f1-score for minority class is only .5. And total incorrectly classified predictions are 20 with 16 as false negatives. Let's see if we can do better with other baseline models like Naive Bayes."
   ]
  },
  {
   "cell_type": "markdown",
   "metadata": {
    "papermill": {
     "duration": 0.199408,
     "end_time": "2021-02-01T19:13:38.951837",
     "exception": false,
     "start_time": "2021-02-01T19:13:38.752429",
     "status": "completed"
    },
    "tags": []
   },
   "source": [
    "## Naive Bayes"
   ]
  },
  {
   "cell_type": "code",
   "execution_count": 101,
   "metadata": {
    "execution": {
     "iopub.execute_input": "2021-02-01T19:13:39.382517Z",
     "iopub.status.busy": "2021-02-01T19:13:39.381717Z",
     "iopub.status.idle": "2021-02-01T19:13:39.388125Z",
     "shell.execute_reply": "2021-02-01T19:13:39.387238Z"
    },
    "papermill": {
     "duration": 0.234293,
     "end_time": "2021-02-01T19:13:39.388268",
     "exception": false,
     "start_time": "2021-02-01T19:13:39.153975",
     "status": "completed"
    },
    "tags": []
   },
   "outputs": [
    {
     "ename": "NameError",
     "evalue": "name 'X_train' is not defined",
     "output_type": "error",
     "traceback": [
      "\u001b[0;31m---------------------------------------------------------------------------\u001b[0m",
      "\u001b[0;31mNameError\u001b[0m                                 Traceback (most recent call last)",
      "\u001b[0;32m<ipython-input-101-e8594aba3d13>\u001b[0m in \u001b[0;36m<module>\u001b[0;34m\u001b[0m\n\u001b[1;32m      1\u001b[0m \u001b[0mclf\u001b[0m \u001b[0;34m=\u001b[0m \u001b[0mMultinomialNB\u001b[0m\u001b[0;34m(\u001b[0m\u001b[0;34m)\u001b[0m\u001b[0;34m\u001b[0m\u001b[0;34m\u001b[0m\u001b[0m\n\u001b[0;32m----> 2\u001b[0;31m \u001b[0mclf\u001b[0m\u001b[0;34m.\u001b[0m\u001b[0mfit\u001b[0m\u001b[0;34m(\u001b[0m\u001b[0mX_train\u001b[0m\u001b[0;34m,\u001b[0m \u001b[0my_train\u001b[0m\u001b[0;34m)\u001b[0m\u001b[0;34m\u001b[0m\u001b[0;34m\u001b[0m\u001b[0m\n\u001b[0m\u001b[1;32m      3\u001b[0m \u001b[0mpredictions\u001b[0m \u001b[0;34m=\u001b[0m \u001b[0mclf\u001b[0m\u001b[0;34m.\u001b[0m\u001b[0mpredict\u001b[0m\u001b[0;34m(\u001b[0m\u001b[0mX_test\u001b[0m\u001b[0;34m)\u001b[0m\u001b[0;34m\u001b[0m\u001b[0;34m\u001b[0m\u001b[0m\n\u001b[1;32m      4\u001b[0m \u001b[0;34m\u001b[0m\u001b[0m\n\u001b[1;32m      5\u001b[0m \u001b[0mprint\u001b[0m \u001b[0;34m(\u001b[0m\u001b[0mclassification_report\u001b[0m\u001b[0;34m(\u001b[0m\u001b[0my_test\u001b[0m\u001b[0;34m,\u001b[0m \u001b[0mpredictions\u001b[0m\u001b[0;34m)\u001b[0m\u001b[0;34m)\u001b[0m\u001b[0;34m\u001b[0m\u001b[0;34m\u001b[0m\u001b[0m\n",
      "\u001b[0;31mNameError\u001b[0m: name 'X_train' is not defined"
     ]
    }
   ],
   "source": [
    "clf = MultinomialNB()\n",
    "clf.fit(X_train, y_train)\n",
    "predictions = clf.predict(X_test)\n",
    "\n",
    "print (classification_report(y_test, predictions))"
   ]
  },
  {
   "cell_type": "code",
   "execution_count": 102,
   "metadata": {
    "execution": {
     "iopub.execute_input": "2021-02-01T19:13:39.869285Z",
     "iopub.status.busy": "2021-02-01T19:13:39.863489Z",
     "iopub.status.idle": "2021-02-01T19:13:39.875642Z",
     "shell.execute_reply": "2021-02-01T19:13:39.875017Z"
    },
    "papermill": {
     "duration": 0.230099,
     "end_time": "2021-02-01T19:13:39.875789",
     "exception": false,
     "start_time": "2021-02-01T19:13:39.645690",
     "status": "completed"
    },
    "tags": []
   },
   "outputs": [
    {
     "ename": "NameError",
     "evalue": "name 'y_test' is not defined",
     "output_type": "error",
     "traceback": [
      "\u001b[0;31m---------------------------------------------------------------------------\u001b[0m",
      "\u001b[0;31mNameError\u001b[0m                                 Traceback (most recent call last)",
      "\u001b[0;32m<ipython-input-102-f37d423be3ec>\u001b[0m in \u001b[0;36m<module>\u001b[0;34m\u001b[0m\n\u001b[0;32m----> 1\u001b[0;31m \u001b[0mconfusion_matrix\u001b[0m\u001b[0;34m(\u001b[0m\u001b[0my_test\u001b[0m\u001b[0;34m,\u001b[0m \u001b[0mpredictions\u001b[0m\u001b[0;34m)\u001b[0m\u001b[0;34m\u001b[0m\u001b[0;34m\u001b[0m\u001b[0m\n\u001b[0m",
      "\u001b[0;31mNameError\u001b[0m: name 'y_test' is not defined"
     ]
    }
   ],
   "source": [
    "confusion_matrix(y_test, predictions)"
   ]
  },
  {
   "cell_type": "markdown",
   "metadata": {
    "papermill": {
     "duration": 0.214842,
     "end_time": "2021-02-01T19:13:40.291178",
     "exception": false,
     "start_time": "2021-02-01T19:13:40.076336",
     "status": "completed"
    },
    "tags": []
   },
   "source": [
    "We can see here that Naive Bayes did worse since it has lower f1-score in minority class and total incorrect predictions more than doubled to 42. Though number of false negatives dropped to 11. Still, rather have higher f1 and less incorrect predictions in total. Let's see if SVM does any better."
   ]
  },
  {
   "cell_type": "markdown",
   "metadata": {
    "papermill": {
     "duration": 0.197355,
     "end_time": "2021-02-01T19:13:40.690045",
     "exception": false,
     "start_time": "2021-02-01T19:13:40.492690",
     "status": "completed"
    },
    "tags": []
   },
   "source": [
    "## Support Vector Machines"
   ]
  },
  {
   "cell_type": "code",
   "execution_count": 103,
   "metadata": {
    "execution": {
     "iopub.execute_input": "2021-02-01T19:13:41.113861Z",
     "iopub.status.busy": "2021-02-01T19:13:41.103457Z",
     "iopub.status.idle": "2021-02-01T19:13:41.125696Z",
     "shell.execute_reply": "2021-02-01T19:13:41.124920Z"
    },
    "papermill": {
     "duration": 0.235949,
     "end_time": "2021-02-01T19:13:41.125846",
     "exception": false,
     "start_time": "2021-02-01T19:13:40.889897",
     "status": "completed"
    },
    "tags": []
   },
   "outputs": [
    {
     "ename": "NameError",
     "evalue": "name 'X_train' is not defined",
     "output_type": "error",
     "traceback": [
      "\u001b[0;31m---------------------------------------------------------------------------\u001b[0m",
      "\u001b[0;31mNameError\u001b[0m                                 Traceback (most recent call last)",
      "\u001b[0;32m<ipython-input-103-d7f973b41c51>\u001b[0m in \u001b[0;36m<module>\u001b[0;34m\u001b[0m\n\u001b[1;32m      1\u001b[0m \u001b[0mclf\u001b[0m \u001b[0;34m=\u001b[0m \u001b[0msvm\u001b[0m\u001b[0;34m.\u001b[0m\u001b[0mSVC\u001b[0m\u001b[0;34m(\u001b[0m\u001b[0mkernel\u001b[0m\u001b[0;34m=\u001b[0m\u001b[0;34m'linear'\u001b[0m\u001b[0;34m)\u001b[0m\u001b[0;34m\u001b[0m\u001b[0;34m\u001b[0m\u001b[0m\n\u001b[0;32m----> 2\u001b[0;31m \u001b[0mclf\u001b[0m\u001b[0;34m.\u001b[0m\u001b[0mfit\u001b[0m\u001b[0;34m(\u001b[0m\u001b[0mX_train\u001b[0m\u001b[0;34m,\u001b[0m \u001b[0my_train\u001b[0m\u001b[0;34m)\u001b[0m\u001b[0;34m\u001b[0m\u001b[0;34m\u001b[0m\u001b[0m\n\u001b[0m\u001b[1;32m      3\u001b[0m \u001b[0mpredictons\u001b[0m \u001b[0;34m=\u001b[0m \u001b[0mclf\u001b[0m\u001b[0;34m.\u001b[0m\u001b[0mpredict\u001b[0m\u001b[0;34m(\u001b[0m\u001b[0mX_test\u001b[0m\u001b[0;34m)\u001b[0m\u001b[0;34m\u001b[0m\u001b[0;34m\u001b[0m\u001b[0m\n\u001b[1;32m      4\u001b[0m \u001b[0;34m\u001b[0m\u001b[0m\n\u001b[1;32m      5\u001b[0m \u001b[0mprint\u001b[0m \u001b[0;34m(\u001b[0m\u001b[0mclassification_report\u001b[0m\u001b[0;34m(\u001b[0m\u001b[0my_test\u001b[0m\u001b[0;34m,\u001b[0m \u001b[0mpredictions\u001b[0m\u001b[0;34m)\u001b[0m\u001b[0;34m)\u001b[0m\u001b[0;34m\u001b[0m\u001b[0;34m\u001b[0m\u001b[0m\n",
      "\u001b[0;31mNameError\u001b[0m: name 'X_train' is not defined"
     ]
    }
   ],
   "source": [
    "clf = svm.SVC(kernel='linear')\n",
    "clf.fit(X_train, y_train)\n",
    "predictons = clf.predict(X_test)\n",
    "\n",
    "print (classification_report(y_test, predictions))"
   ]
  },
  {
   "cell_type": "code",
   "execution_count": 104,
   "metadata": {
    "execution": {
     "iopub.execute_input": "2021-02-01T19:13:41.552970Z",
     "iopub.status.busy": "2021-02-01T19:13:41.548231Z",
     "iopub.status.idle": "2021-02-01T19:13:41.558660Z",
     "shell.execute_reply": "2021-02-01T19:13:41.557997Z"
    },
    "papermill": {
     "duration": 0.229566,
     "end_time": "2021-02-01T19:13:41.558795",
     "exception": false,
     "start_time": "2021-02-01T19:13:41.329229",
     "status": "completed"
    },
    "tags": []
   },
   "outputs": [
    {
     "ename": "NameError",
     "evalue": "name 'y_test' is not defined",
     "output_type": "error",
     "traceback": [
      "\u001b[0;31m---------------------------------------------------------------------------\u001b[0m",
      "\u001b[0;31mNameError\u001b[0m                                 Traceback (most recent call last)",
      "\u001b[0;32m<ipython-input-104-f37d423be3ec>\u001b[0m in \u001b[0;36m<module>\u001b[0;34m\u001b[0m\n\u001b[0;32m----> 1\u001b[0;31m \u001b[0mconfusion_matrix\u001b[0m\u001b[0;34m(\u001b[0m\u001b[0my_test\u001b[0m\u001b[0;34m,\u001b[0m \u001b[0mpredictions\u001b[0m\u001b[0;34m)\u001b[0m\u001b[0;34m\u001b[0m\u001b[0;34m\u001b[0m\u001b[0m\n\u001b[0m",
      "\u001b[0;31mNameError\u001b[0m: name 'y_test' is not defined"
     ]
    }
   ],
   "source": [
    "confusion_matrix(y_test, predictions)"
   ]
  },
  {
   "cell_type": "markdown",
   "metadata": {
    "papermill": {
     "duration": 0.19015,
     "end_time": "2021-02-01T19:13:41.942703",
     "exception": false,
     "start_time": "2021-02-01T19:13:41.752553",
     "status": "completed"
    },
    "tags": []
   },
   "source": [
    "## XGBoost"
   ]
  },
  {
   "cell_type": "code",
   "execution_count": 105,
   "metadata": {
    "execution": {
     "iopub.execute_input": "2021-02-01T19:13:42.342429Z",
     "iopub.status.busy": "2021-02-01T19:13:42.341408Z",
     "iopub.status.idle": "2021-02-01T19:13:42.361623Z",
     "shell.execute_reply": "2021-02-01T19:13:42.362270Z"
    },
    "papermill": {
     "duration": 0.223982,
     "end_time": "2021-02-01T19:13:42.362460",
     "exception": false,
     "start_time": "2021-02-01T19:13:42.138478",
     "status": "completed"
    },
    "tags": []
   },
   "outputs": [
    {
     "ename": "NameError",
     "evalue": "name 'X_train' is not defined",
     "output_type": "error",
     "traceback": [
      "\u001b[0;31m---------------------------------------------------------------------------\u001b[0m",
      "\u001b[0;31mNameError\u001b[0m                                 Traceback (most recent call last)",
      "\u001b[0;32m<ipython-input-105-0935bf1a565b>\u001b[0m in \u001b[0;36m<module>\u001b[0;34m\u001b[0m\n\u001b[1;32m      1\u001b[0m \u001b[0mclf\u001b[0m \u001b[0;34m=\u001b[0m \u001b[0mxgb\u001b[0m\u001b[0;34m.\u001b[0m\u001b[0mXGBClassifier\u001b[0m\u001b[0;34m(\u001b[0m\u001b[0;34m)\u001b[0m\u001b[0;34m\u001b[0m\u001b[0;34m\u001b[0m\u001b[0m\n\u001b[0;32m----> 2\u001b[0;31m \u001b[0mclf\u001b[0m\u001b[0;34m.\u001b[0m\u001b[0mfit\u001b[0m\u001b[0;34m(\u001b[0m\u001b[0mX_train\u001b[0m\u001b[0;34m,\u001b[0m \u001b[0my_train\u001b[0m\u001b[0;34m)\u001b[0m\u001b[0;34m\u001b[0m\u001b[0;34m\u001b[0m\u001b[0m\n\u001b[0m\u001b[1;32m      3\u001b[0m \u001b[0mpredictions\u001b[0m \u001b[0;34m=\u001b[0m \u001b[0mclf\u001b[0m\u001b[0;34m.\u001b[0m\u001b[0mpredict\u001b[0m\u001b[0;34m(\u001b[0m\u001b[0mX_test\u001b[0m\u001b[0;34m)\u001b[0m\u001b[0;34m\u001b[0m\u001b[0;34m\u001b[0m\u001b[0m\n\u001b[1;32m      4\u001b[0m \u001b[0;34m\u001b[0m\u001b[0m\n\u001b[1;32m      5\u001b[0m \u001b[0mprint\u001b[0m \u001b[0;34m(\u001b[0m\u001b[0mclassification_report\u001b[0m\u001b[0;34m(\u001b[0m\u001b[0my_test\u001b[0m\u001b[0;34m,\u001b[0m \u001b[0mpredictions\u001b[0m\u001b[0;34m)\u001b[0m\u001b[0;34m)\u001b[0m\u001b[0;34m\u001b[0m\u001b[0;34m\u001b[0m\u001b[0m\n",
      "\u001b[0;31mNameError\u001b[0m: name 'X_train' is not defined"
     ]
    }
   ],
   "source": [
    "clf = xgb.XGBClassifier()\n",
    "clf.fit(X_train, y_train)\n",
    "predictions = clf.predict(X_test)\n",
    "\n",
    "print (classification_report(y_test, predictions))"
   ]
  },
  {
   "cell_type": "code",
   "execution_count": 106,
   "metadata": {
    "execution": {
     "iopub.execute_input": "2021-02-01T19:13:42.771806Z",
     "iopub.status.busy": "2021-02-01T19:13:42.770976Z",
     "iopub.status.idle": "2021-02-01T19:13:42.797664Z",
     "shell.execute_reply": "2021-02-01T19:13:42.798352Z"
    },
    "papermill": {
     "duration": 0.236395,
     "end_time": "2021-02-01T19:13:42.798532",
     "exception": false,
     "start_time": "2021-02-01T19:13:42.562137",
     "status": "completed"
    },
    "tags": []
   },
   "outputs": [
    {
     "ename": "NameError",
     "evalue": "name 'y_test' is not defined",
     "output_type": "error",
     "traceback": [
      "\u001b[0;31m---------------------------------------------------------------------------\u001b[0m",
      "\u001b[0;31mNameError\u001b[0m                                 Traceback (most recent call last)",
      "\u001b[0;32m<ipython-input-106-f37d423be3ec>\u001b[0m in \u001b[0;36m<module>\u001b[0;34m\u001b[0m\n\u001b[0;32m----> 1\u001b[0;31m \u001b[0mconfusion_matrix\u001b[0m\u001b[0;34m(\u001b[0m\u001b[0my_test\u001b[0m\u001b[0;34m,\u001b[0m \u001b[0mpredictions\u001b[0m\u001b[0;34m)\u001b[0m\u001b[0;34m\u001b[0m\u001b[0;34m\u001b[0m\u001b[0m\n\u001b[0m",
      "\u001b[0;31mNameError\u001b[0m: name 'y_test' is not defined"
     ]
    }
   ],
   "source": [
    "confusion_matrix(y_test, predictions)"
   ]
  },
  {
   "cell_type": "markdown",
   "metadata": {
    "papermill": {
     "duration": 0.197553,
     "end_time": "2021-02-01T19:13:43.191352",
     "exception": false,
     "start_time": "2021-02-01T19:13:42.993799",
     "status": "completed"
    },
    "tags": []
   },
   "source": [
    "Though XGBoost usually is the winner, reason for it not being the best is that Logistic Regression in general does well.  That is why each of the model's performance are comparable:\n",
    "\n",
    "* f1-score: XGBoost was .03 less than Log Reg\n",
    "* total incorrect: XGBoost has 3 more\n",
    "* false negatives: tied\n",
    "\n",
    "In order to increase XGBoost performance, would need to try different parameters. Also, would need to get more training data/better training data where class imbalance is not so severe as well as engineer more features."
   ]
  },
  {
   "cell_type": "markdown",
   "metadata": {
    "papermill": {
     "duration": 0.194658,
     "end_time": "2021-02-01T19:13:43.581099",
     "exception": false,
     "start_time": "2021-02-01T19:13:43.386441",
     "status": "completed"
    },
    "tags": []
   },
   "source": [
    "## Feature Importance"
   ]
  },
  {
   "cell_type": "markdown",
   "metadata": {
    "papermill": {
     "duration": 0.195159,
     "end_time": "2021-02-01T19:13:43.971101",
     "exception": false,
     "start_time": "2021-02-01T19:13:43.775942",
     "status": "completed"
    },
    "tags": []
   },
   "source": [
    "In order to determine which feature contributed most to churn, would need to see which of the features had the highest coefficient. So let's check it out from our Logistic Regression model.\n"
   ]
  },
  {
   "cell_type": "code",
   "execution_count": 107,
   "metadata": {
    "execution": {
     "iopub.execute_input": "2021-02-01T19:13:44.378774Z",
     "iopub.status.busy": "2021-02-01T19:13:44.378061Z",
     "iopub.status.idle": "2021-02-01T19:13:44.404787Z",
     "shell.execute_reply": "2021-02-01T19:13:44.404060Z"
    },
    "papermill": {
     "duration": 0.230771,
     "end_time": "2021-02-01T19:13:44.404947",
     "exception": false,
     "start_time": "2021-02-01T19:13:44.174176",
     "status": "completed"
    },
    "tags": []
   },
   "outputs": [
    {
     "ename": "AttributeError",
     "evalue": "'LogisticRegression' object has no attribute 'coef_'",
     "output_type": "error",
     "traceback": [
      "\u001b[0;31m---------------------------------------------------------------------------\u001b[0m",
      "\u001b[0;31mAttributeError\u001b[0m                            Traceback (most recent call last)",
      "\u001b[0;32m<ipython-input-107-d7a7338789df>\u001b[0m in \u001b[0;36m<module>\u001b[0;34m\u001b[0m\n\u001b[1;32m      1\u001b[0m \u001b[0;31m#greatest coefficient val from all 30 features\u001b[0m\u001b[0;34m\u001b[0m\u001b[0;34m\u001b[0m\u001b[0;34m\u001b[0m\u001b[0m\n\u001b[0;32m----> 2\u001b[0;31m \u001b[0;32mfor\u001b[0m \u001b[0mi\u001b[0m \u001b[0;32min\u001b[0m \u001b[0mCLF\u001b[0m\u001b[0;34m.\u001b[0m\u001b[0mcoef_\u001b[0m\u001b[0;34m:\u001b[0m\u001b[0;34m\u001b[0m\u001b[0;34m\u001b[0m\u001b[0m\n\u001b[0m\u001b[1;32m      3\u001b[0m     \u001b[0mprint\u001b[0m\u001b[0;34m(\u001b[0m\u001b[0mmax\u001b[0m\u001b[0;34m(\u001b[0m\u001b[0mi\u001b[0m\u001b[0;34m)\u001b[0m\u001b[0;34m)\u001b[0m\u001b[0;34m\u001b[0m\u001b[0;34m\u001b[0m\u001b[0m\n",
      "\u001b[0;31mAttributeError\u001b[0m: 'LogisticRegression' object has no attribute 'coef_'"
     ]
    }
   ],
   "source": [
    "#greatest coefficient val from all 30 features\n",
    "for i in CLF.coef_:\n",
    "    print(max(i))"
   ]
  },
  {
   "cell_type": "code",
   "execution_count": 108,
   "metadata": {
    "execution": {
     "iopub.execute_input": "2021-02-01T19:13:44.799256Z",
     "iopub.status.busy": "2021-02-01T19:13:44.798485Z",
     "iopub.status.idle": "2021-02-01T19:13:44.824522Z",
     "shell.execute_reply": "2021-02-01T19:13:44.825115Z"
    },
    "papermill": {
     "duration": 0.221746,
     "end_time": "2021-02-01T19:13:44.825294",
     "exception": false,
     "start_time": "2021-02-01T19:13:44.603548",
     "status": "completed"
    },
    "tags": []
   },
   "outputs": [
    {
     "ename": "AttributeError",
     "evalue": "'LogisticRegression' object has no attribute 'coef_'",
     "output_type": "error",
     "traceback": [
      "\u001b[0;31m---------------------------------------------------------------------------\u001b[0m",
      "\u001b[0;31mAttributeError\u001b[0m                            Traceback (most recent call last)",
      "\u001b[0;32m<ipython-input-108-0f02a90e7305>\u001b[0m in \u001b[0;36m<module>\u001b[0;34m\u001b[0m\n\u001b[1;32m      1\u001b[0m \u001b[0;31m#feature index of greatest feature contributor\u001b[0m\u001b[0;34m\u001b[0m\u001b[0;34m\u001b[0m\u001b[0;34m\u001b[0m\u001b[0m\n\u001b[0;32m----> 2\u001b[0;31m \u001b[0;32mfor\u001b[0m \u001b[0mi\u001b[0m \u001b[0;32min\u001b[0m \u001b[0mCLF\u001b[0m\u001b[0;34m.\u001b[0m\u001b[0mcoef_\u001b[0m\u001b[0;34m:\u001b[0m\u001b[0;34m\u001b[0m\u001b[0;34m\u001b[0m\u001b[0m\n\u001b[0m\u001b[1;32m      3\u001b[0m     \u001b[0mi\u001b[0m \u001b[0;34m=\u001b[0m \u001b[0mlist\u001b[0m\u001b[0;34m(\u001b[0m\u001b[0mi\u001b[0m\u001b[0;34m)\u001b[0m\u001b[0;34m\u001b[0m\u001b[0;34m\u001b[0m\u001b[0m\n\u001b[1;32m      4\u001b[0m     \u001b[0mprint\u001b[0m\u001b[0;34m(\u001b[0m\u001b[0mi\u001b[0m\u001b[0;34m.\u001b[0m\u001b[0mindex\u001b[0m\u001b[0;34m(\u001b[0m\u001b[0;36m0.1979747673465799\u001b[0m\u001b[0;34m,\u001b[0m \u001b[0;36m0\u001b[0m\u001b[0;34m,\u001b[0m\u001b[0;36m29\u001b[0m\u001b[0;34m)\u001b[0m\u001b[0;34m)\u001b[0m\u001b[0;34m\u001b[0m\u001b[0;34m\u001b[0m\u001b[0m\n",
      "\u001b[0;31mAttributeError\u001b[0m: 'LogisticRegression' object has no attribute 'coef_'"
     ]
    }
   ],
   "source": [
    "#feature index of greatest feature contributor\n",
    "for i in CLF.coef_:\n",
    "    i = list(i)\n",
    "    print(i.index(0.1979747673465799, 0,29))"
   ]
  },
  {
   "cell_type": "code",
   "execution_count": 109,
   "metadata": {
    "execution": {
     "iopub.execute_input": "2021-02-01T19:13:45.243887Z",
     "iopub.status.busy": "2021-02-01T19:13:45.224240Z",
     "iopub.status.idle": "2021-02-01T19:13:45.248063Z",
     "shell.execute_reply": "2021-02-01T19:13:45.248599Z"
    },
    "papermill": {
     "duration": 0.228521,
     "end_time": "2021-02-01T19:13:45.248784",
     "exception": false,
     "start_time": "2021-02-01T19:13:45.020263",
     "status": "completed"
    },
    "tags": []
   },
   "outputs": [
    {
     "ename": "NameError",
     "evalue": "name 'X' is not defined",
     "output_type": "error",
     "traceback": [
      "\u001b[0;31m---------------------------------------------------------------------------\u001b[0m",
      "\u001b[0;31mNameError\u001b[0m                                 Traceback (most recent call last)",
      "\u001b[0;32m<ipython-input-109-b6c86b7b423d>\u001b[0m in \u001b[0;36m<module>\u001b[0;34m\u001b[0m\n\u001b[1;32m      1\u001b[0m \u001b[0;31m#most important feature\u001b[0m\u001b[0;34m\u001b[0m\u001b[0;34m\u001b[0m\u001b[0;34m\u001b[0m\u001b[0m\n\u001b[0;32m----> 2\u001b[0;31m \u001b[0mlist\u001b[0m\u001b[0;34m(\u001b[0m\u001b[0mX\u001b[0m\u001b[0;34m)\u001b[0m\u001b[0;34m[\u001b[0m\u001b[0;36m20\u001b[0m\u001b[0;34m]\u001b[0m\u001b[0;34m\u001b[0m\u001b[0;34m\u001b[0m\u001b[0m\n\u001b[0m",
      "\u001b[0;31mNameError\u001b[0m: name 'X' is not defined"
     ]
    }
   ],
   "source": [
    "#most important feature\n",
    "list(X)[20]"
   ]
  },
  {
   "cell_type": "code",
   "execution_count": 110,
   "metadata": {
    "execution": {
     "iopub.execute_input": "2021-02-01T19:13:45.720834Z",
     "iopub.status.busy": "2021-02-01T19:13:45.720119Z",
     "iopub.status.idle": "2021-02-01T19:13:45.747481Z",
     "shell.execute_reply": "2021-02-01T19:13:45.748069Z"
    },
    "papermill": {
     "duration": 0.293802,
     "end_time": "2021-02-01T19:13:45.748266",
     "exception": false,
     "start_time": "2021-02-01T19:13:45.454464",
     "status": "completed"
    },
    "tags": []
   },
   "outputs": [
    {
     "ename": "AttributeError",
     "evalue": "'LogisticRegression' object has no attribute 'coef_'",
     "output_type": "error",
     "traceback": [
      "\u001b[0;31m---------------------------------------------------------------------------\u001b[0m",
      "\u001b[0;31mAttributeError\u001b[0m                            Traceback (most recent call last)",
      "\u001b[0;32m<ipython-input-110-087e99f2b369>\u001b[0m in \u001b[0;36m<module>\u001b[0;34m\u001b[0m\n\u001b[0;32m----> 1\u001b[0;31m \u001b[0;32mfor\u001b[0m \u001b[0mi\u001b[0m \u001b[0;32min\u001b[0m \u001b[0mCLF\u001b[0m\u001b[0;34m.\u001b[0m\u001b[0mcoef_\u001b[0m\u001b[0;34m:\u001b[0m\u001b[0;34m\u001b[0m\u001b[0;34m\u001b[0m\u001b[0m\n\u001b[0m\u001b[1;32m      2\u001b[0m \u001b[0;34m\u001b[0m\u001b[0m\n\u001b[1;32m      3\u001b[0m     \u001b[0;32mfor\u001b[0m \u001b[0midx\u001b[0m\u001b[0;34m,\u001b[0m\u001b[0mv\u001b[0m \u001b[0;32min\u001b[0m \u001b[0menumerate\u001b[0m\u001b[0;34m(\u001b[0m\u001b[0mlist\u001b[0m\u001b[0;34m(\u001b[0m\u001b[0mi\u001b[0m\u001b[0;34m)\u001b[0m\u001b[0;34m)\u001b[0m\u001b[0;34m:\u001b[0m\u001b[0;34m\u001b[0m\u001b[0;34m\u001b[0m\u001b[0m\n\u001b[1;32m      4\u001b[0m         \u001b[0mprint\u001b[0m\u001b[0;34m(\u001b[0m\u001b[0;34m'Feature: %0d, Score: %.5f'\u001b[0m \u001b[0;34m%\u001b[0m \u001b[0;34m(\u001b[0m\u001b[0midx\u001b[0m\u001b[0;34m,\u001b[0m\u001b[0mv\u001b[0m\u001b[0;34m)\u001b[0m\u001b[0;34m)\u001b[0m\u001b[0;34m\u001b[0m\u001b[0;34m\u001b[0m\u001b[0m\n",
      "\u001b[0;31mAttributeError\u001b[0m: 'LogisticRegression' object has no attribute 'coef_'"
     ]
    }
   ],
   "source": [
    "for i in CLF.coef_:\n",
    " \n",
    "    for idx,v in enumerate(list(i)):\n",
    "        print('Feature: %0d, Score: %.5f' % (idx,v))"
   ]
  },
  {
   "cell_type": "code",
   "execution_count": 111,
   "metadata": {
    "execution": {
     "iopub.execute_input": "2021-02-01T19:13:46.189164Z",
     "iopub.status.busy": "2021-02-01T19:13:46.174567Z",
     "iopub.status.idle": "2021-02-01T19:13:46.197661Z",
     "shell.execute_reply": "2021-02-01T19:13:46.196684Z"
    },
    "papermill": {
     "duration": 0.246531,
     "end_time": "2021-02-01T19:13:46.197862",
     "exception": false,
     "start_time": "2021-02-01T19:13:45.951331",
     "status": "completed"
    },
    "tags": []
   },
   "outputs": [
    {
     "ename": "NameError",
     "evalue": "name 'X' is not defined",
     "output_type": "error",
     "traceback": [
      "\u001b[0;31m---------------------------------------------------------------------------\u001b[0m",
      "\u001b[0;31mNameError\u001b[0m                                 Traceback (most recent call last)",
      "\u001b[0;32m<ipython-input-111-5dc2fb17f08a>\u001b[0m in \u001b[0;36m<module>\u001b[0;34m\u001b[0m\n\u001b[0;32m----> 1\u001b[0;31m \u001b[0md\u001b[0m \u001b[0;34m=\u001b[0m \u001b[0;34m{\u001b[0m\u001b[0;34m'Feature'\u001b[0m\u001b[0;34m:\u001b[0m \u001b[0mlist\u001b[0m\u001b[0;34m(\u001b[0m\u001b[0mX\u001b[0m\u001b[0;34m)\u001b[0m\u001b[0;34m,\u001b[0m \u001b[0;34m'Coefficient'\u001b[0m\u001b[0;34m:\u001b[0m \u001b[0mCLF\u001b[0m\u001b[0;34m.\u001b[0m\u001b[0mcoef_\u001b[0m\u001b[0;34m[\u001b[0m\u001b[0;36m0\u001b[0m\u001b[0;34m]\u001b[0m\u001b[0;34m}\u001b[0m\u001b[0;34m\u001b[0m\u001b[0;34m\u001b[0m\u001b[0m\n\u001b[0m\u001b[1;32m      2\u001b[0m \u001b[0mdf\u001b[0m \u001b[0;34m=\u001b[0m \u001b[0mpd\u001b[0m\u001b[0;34m.\u001b[0m\u001b[0mDataFrame\u001b[0m\u001b[0;34m(\u001b[0m\u001b[0mdata\u001b[0m\u001b[0;34m=\u001b[0m\u001b[0md\u001b[0m\u001b[0;34m)\u001b[0m\u001b[0;34m\u001b[0m\u001b[0;34m\u001b[0m\u001b[0m\n\u001b[1;32m      3\u001b[0m \u001b[0mdf\u001b[0m \u001b[0;34m=\u001b[0m \u001b[0mdf\u001b[0m\u001b[0;34m.\u001b[0m\u001b[0msort_values\u001b[0m\u001b[0;34m(\u001b[0m\u001b[0;34m[\u001b[0m\u001b[0;34m'Coefficient'\u001b[0m\u001b[0;34m]\u001b[0m\u001b[0;34m,\u001b[0m \u001b[0mascending\u001b[0m\u001b[0;34m=\u001b[0m\u001b[0;34m[\u001b[0m\u001b[0;32mFalse\u001b[0m\u001b[0;34m]\u001b[0m\u001b[0;34m)\u001b[0m\u001b[0;34m\u001b[0m\u001b[0;34m\u001b[0m\u001b[0m\n\u001b[1;32m      4\u001b[0m \u001b[0mdf\u001b[0m\u001b[0;34m\u001b[0m\u001b[0;34m\u001b[0m\u001b[0m\n",
      "\u001b[0;31mNameError\u001b[0m: name 'X' is not defined"
     ]
    }
   ],
   "source": [
    "d = {'Feature': list(X), 'Coefficient': CLF.coef_[0]}\n",
    "df = pd.DataFrame(data=d)\n",
    "df = df.sort_values(['Coefficient'], ascending=[False])\n",
    "df"
   ]
  },
  {
   "cell_type": "code",
   "execution_count": 112,
   "metadata": {
    "execution": {
     "iopub.execute_input": "2021-02-01T19:13:46.638857Z",
     "iopub.status.busy": "2021-02-01T19:13:46.625765Z",
     "iopub.status.idle": "2021-02-01T19:13:46.660490Z",
     "shell.execute_reply": "2021-02-01T19:13:46.659789Z"
    },
    "papermill": {
     "duration": 0.244622,
     "end_time": "2021-02-01T19:13:46.660633",
     "exception": false,
     "start_time": "2021-02-01T19:13:46.416011",
     "status": "completed"
    },
    "tags": []
   },
   "outputs": [
    {
     "ename": "ValueError",
     "evalue": "Could not interpret input 'Feature'",
     "output_type": "error",
     "traceback": [
      "\u001b[0;31m---------------------------------------------------------------------------\u001b[0m",
      "\u001b[0;31mValueError\u001b[0m                                Traceback (most recent call last)",
      "\u001b[0;32m<ipython-input-112-4206ade50981>\u001b[0m in \u001b[0;36m<module>\u001b[0;34m\u001b[0m\n\u001b[1;32m      1\u001b[0m \u001b[0mplt\u001b[0m\u001b[0;34m.\u001b[0m\u001b[0mfigure\u001b[0m\u001b[0;34m(\u001b[0m\u001b[0mfigsize\u001b[0m\u001b[0;34m=\u001b[0m\u001b[0;34m(\u001b[0m\u001b[0;36m20\u001b[0m\u001b[0;34m,\u001b[0m\u001b[0;36m5\u001b[0m\u001b[0;34m)\u001b[0m\u001b[0;34m)\u001b[0m\u001b[0;34m\u001b[0m\u001b[0;34m\u001b[0m\u001b[0m\n\u001b[0;32m----> 2\u001b[0;31m \u001b[0msns\u001b[0m\u001b[0;34m.\u001b[0m\u001b[0mbarplot\u001b[0m\u001b[0;34m(\u001b[0m\u001b[0mx\u001b[0m\u001b[0;34m=\u001b[0m\u001b[0;34m'Feature'\u001b[0m\u001b[0;34m,\u001b[0m \u001b[0my\u001b[0m\u001b[0;34m=\u001b[0m\u001b[0;34m'Coefficient'\u001b[0m\u001b[0;34m,\u001b[0m \u001b[0mdata\u001b[0m\u001b[0;34m=\u001b[0m\u001b[0mdf\u001b[0m\u001b[0;34m)\u001b[0m\u001b[0;34m\u001b[0m\u001b[0;34m\u001b[0m\u001b[0m\n\u001b[0m\u001b[1;32m      3\u001b[0m \u001b[0mplt\u001b[0m\u001b[0;34m.\u001b[0m\u001b[0mtitle\u001b[0m\u001b[0;34m(\u001b[0m\u001b[0;34m'Feature importance'\u001b[0m\u001b[0;34m,\u001b[0m \u001b[0mfontsize\u001b[0m\u001b[0;34m=\u001b[0m\u001b[0;36m14\u001b[0m\u001b[0;34m)\u001b[0m\u001b[0;34m\u001b[0m\u001b[0;34m\u001b[0m\u001b[0m\n\u001b[1;32m      4\u001b[0m \u001b[0mplt\u001b[0m\u001b[0;34m.\u001b[0m\u001b[0mxlabel\u001b[0m\u001b[0;34m(\u001b[0m\u001b[0;34m'Feature'\u001b[0m\u001b[0;34m,\u001b[0m \u001b[0mfontsize\u001b[0m\u001b[0;34m=\u001b[0m\u001b[0;36m14\u001b[0m\u001b[0;34m)\u001b[0m\u001b[0;34m\u001b[0m\u001b[0;34m\u001b[0m\u001b[0m\n\u001b[1;32m      5\u001b[0m \u001b[0mplt\u001b[0m\u001b[0;34m.\u001b[0m\u001b[0mylabel\u001b[0m\u001b[0;34m(\u001b[0m\u001b[0;34m'Coefficient'\u001b[0m\u001b[0;34m,\u001b[0m \u001b[0mfontsize\u001b[0m\u001b[0;34m=\u001b[0m\u001b[0;36m14\u001b[0m\u001b[0;34m)\u001b[0m\u001b[0;34m\u001b[0m\u001b[0;34m\u001b[0m\u001b[0m\n",
      "\u001b[0;32m/opt/conda/lib/python3.7/site-packages/seaborn/categorical.py\u001b[0m in \u001b[0;36mbarplot\u001b[0;34m(x, y, hue, data, order, hue_order, estimator, ci, n_boot, units, seed, orient, color, palette, saturation, errcolor, errwidth, capsize, dodge, ax, **kwargs)\u001b[0m\n\u001b[1;32m   3148\u001b[0m                           \u001b[0mestimator\u001b[0m\u001b[0;34m,\u001b[0m \u001b[0mci\u001b[0m\u001b[0;34m,\u001b[0m \u001b[0mn_boot\u001b[0m\u001b[0;34m,\u001b[0m \u001b[0munits\u001b[0m\u001b[0;34m,\u001b[0m \u001b[0mseed\u001b[0m\u001b[0;34m,\u001b[0m\u001b[0;34m\u001b[0m\u001b[0;34m\u001b[0m\u001b[0m\n\u001b[1;32m   3149\u001b[0m                           \u001b[0morient\u001b[0m\u001b[0;34m,\u001b[0m \u001b[0mcolor\u001b[0m\u001b[0;34m,\u001b[0m \u001b[0mpalette\u001b[0m\u001b[0;34m,\u001b[0m \u001b[0msaturation\u001b[0m\u001b[0;34m,\u001b[0m\u001b[0;34m\u001b[0m\u001b[0;34m\u001b[0m\u001b[0m\n\u001b[0;32m-> 3150\u001b[0;31m                           errcolor, errwidth, capsize, dodge)\n\u001b[0m\u001b[1;32m   3151\u001b[0m \u001b[0;34m\u001b[0m\u001b[0m\n\u001b[1;32m   3152\u001b[0m     \u001b[0;32mif\u001b[0m \u001b[0max\u001b[0m \u001b[0;32mis\u001b[0m \u001b[0;32mNone\u001b[0m\u001b[0;34m:\u001b[0m\u001b[0;34m\u001b[0m\u001b[0;34m\u001b[0m\u001b[0m\n",
      "\u001b[0;32m/opt/conda/lib/python3.7/site-packages/seaborn/categorical.py\u001b[0m in \u001b[0;36m__init__\u001b[0;34m(self, x, y, hue, data, order, hue_order, estimator, ci, n_boot, units, seed, orient, color, palette, saturation, errcolor, errwidth, capsize, dodge)\u001b[0m\n\u001b[1;32m   1613\u001b[0m         \u001b[0;34m\"\"\"Initialize the plotter.\"\"\"\u001b[0m\u001b[0;34m\u001b[0m\u001b[0;34m\u001b[0m\u001b[0m\n\u001b[1;32m   1614\u001b[0m         self.establish_variables(x, y, hue, data, orient,\n\u001b[0;32m-> 1615\u001b[0;31m                                  order, hue_order, units)\n\u001b[0m\u001b[1;32m   1616\u001b[0m         \u001b[0mself\u001b[0m\u001b[0;34m.\u001b[0m\u001b[0mestablish_colors\u001b[0m\u001b[0;34m(\u001b[0m\u001b[0mcolor\u001b[0m\u001b[0;34m,\u001b[0m \u001b[0mpalette\u001b[0m\u001b[0;34m,\u001b[0m \u001b[0msaturation\u001b[0m\u001b[0;34m)\u001b[0m\u001b[0;34m\u001b[0m\u001b[0;34m\u001b[0m\u001b[0m\n\u001b[1;32m   1617\u001b[0m         \u001b[0mself\u001b[0m\u001b[0;34m.\u001b[0m\u001b[0mestimate_statistic\u001b[0m\u001b[0;34m(\u001b[0m\u001b[0mestimator\u001b[0m\u001b[0;34m,\u001b[0m \u001b[0mci\u001b[0m\u001b[0;34m,\u001b[0m \u001b[0mn_boot\u001b[0m\u001b[0;34m,\u001b[0m \u001b[0mseed\u001b[0m\u001b[0;34m)\u001b[0m\u001b[0;34m\u001b[0m\u001b[0;34m\u001b[0m\u001b[0m\n",
      "\u001b[0;32m/opt/conda/lib/python3.7/site-packages/seaborn/categorical.py\u001b[0m in \u001b[0;36mestablish_variables\u001b[0;34m(self, x, y, hue, data, orient, order, hue_order, units)\u001b[0m\n\u001b[1;32m    150\u001b[0m                 \u001b[0;32mif\u001b[0m \u001b[0misinstance\u001b[0m\u001b[0;34m(\u001b[0m\u001b[0mvar\u001b[0m\u001b[0;34m,\u001b[0m \u001b[0mstr\u001b[0m\u001b[0;34m)\u001b[0m\u001b[0;34m:\u001b[0m\u001b[0;34m\u001b[0m\u001b[0;34m\u001b[0m\u001b[0m\n\u001b[1;32m    151\u001b[0m                     \u001b[0merr\u001b[0m \u001b[0;34m=\u001b[0m \u001b[0;34m\"Could not interpret input '{}'\"\u001b[0m\u001b[0;34m.\u001b[0m\u001b[0mformat\u001b[0m\u001b[0;34m(\u001b[0m\u001b[0mvar\u001b[0m\u001b[0;34m)\u001b[0m\u001b[0;34m\u001b[0m\u001b[0;34m\u001b[0m\u001b[0m\n\u001b[0;32m--> 152\u001b[0;31m                     \u001b[0;32mraise\u001b[0m \u001b[0mValueError\u001b[0m\u001b[0;34m(\u001b[0m\u001b[0merr\u001b[0m\u001b[0;34m)\u001b[0m\u001b[0;34m\u001b[0m\u001b[0;34m\u001b[0m\u001b[0m\n\u001b[0m\u001b[1;32m    153\u001b[0m \u001b[0;34m\u001b[0m\u001b[0m\n\u001b[1;32m    154\u001b[0m             \u001b[0;31m# Figure out the plotting orientation\u001b[0m\u001b[0;34m\u001b[0m\u001b[0;34m\u001b[0m\u001b[0;34m\u001b[0m\u001b[0m\n",
      "\u001b[0;31mValueError\u001b[0m: Could not interpret input 'Feature'"
     ]
    },
    {
     "data": {
      "text/plain": [
       "<Figure size 1440x360 with 0 Axes>"
      ]
     },
     "metadata": {},
     "output_type": "display_data"
    }
   ],
   "source": [
    "plt.figure(figsize=(20,5))\n",
    "sns.barplot(x='Feature', y='Coefficient', data=df)\n",
    "plt.title('Feature importance', fontsize=14)\n",
    "plt.xlabel('Feature', fontsize=14)\n",
    "plt.ylabel('Coefficient', fontsize=14)\n",
    "plt.xticks(rotation=30, ha='right', fontsize=14)\n",
    "plt.yticks(fontsize=14);"
   ]
  },
  {
   "cell_type": "markdown",
   "metadata": {
    "papermill": {
     "duration": 0.19964,
     "end_time": "2021-02-01T19:13:47.063932",
     "exception": false,
     "start_time": "2021-02-01T19:13:46.864292",
     "status": "completed"
    },
    "tags": []
   },
   "source": [
    "On the other side of the spectrum is number of days free for users who have not subscribed."
   ]
  },
  {
   "cell_type": "markdown",
   "metadata": {
    "papermill": {
     "duration": 0.197855,
     "end_time": "2021-02-01T19:13:47.464613",
     "exception": false,
     "start_time": "2021-02-01T19:13:47.266758",
     "status": "completed"
    },
    "tags": []
   },
   "source": [
    "# Conclusion: \n",
    "\n",
    "Logistic Regression is the winner! It predicts 16/90 = 17% incorrectly/83% correctly.  This would be the model of choice in order to predict Sparkify customers who churn. \n",
    "\n",
    "Also, this model's greatest contributor to predicting churn turns out to be paid Roll Advert. This means that paid subscribers churned the most when showed rolling advertisements. "
   ]
  },
  {
   "cell_type": "markdown",
   "metadata": {
    "papermill": {
     "duration": 0.198292,
     "end_time": "2021-02-01T19:13:47.862473",
     "exception": false,
     "start_time": "2021-02-01T19:13:47.664181",
     "status": "completed"
    },
    "tags": []
   },
   "source": [
    "# Potential Remediation:"
   ]
  },
  {
   "cell_type": "markdown",
   "metadata": {
    "papermill": {
     "duration": 0.200429,
     "end_time": "2021-02-01T19:13:48.264826",
     "exception": false,
     "start_time": "2021-02-01T19:13:48.064397",
     "status": "completed"
    },
    "tags": []
   },
   "source": [
    "For paid customers: \n",
    "\n",
    "1. Decrease advertising length for paid customers\n",
    "1. Decrease number of advertisements shown to paid customers\n",
    "1. Introduce incentive for those who stay on platform longer"
   ]
  },
  {
   "cell_type": "markdown",
   "metadata": {
    "papermill": {
     "duration": 0.196278,
     "end_time": "2021-02-01T19:13:48.658830",
     "exception": false,
     "start_time": "2021-02-01T19:13:48.462552",
     "status": "completed"
    },
    "tags": []
   },
   "source": [
    "# Lifetime Value:\n",
    "\n",
    "To keep customers on the platform, would be good idea to give those who have been on the plaform for a while some exclusive give-a-ways, powerful recommendations to keep them on the platform."
   ]
  }
 ],
 "metadata": {
  "kernelspec": {
   "display_name": "Python 3",
   "language": "python",
   "name": "python3"
  },
  "language_info": {
   "codemirror_mode": {
    "name": "ipython",
    "version": 3
   },
   "file_extension": ".py",
   "mimetype": "text/x-python",
   "name": "python",
   "nbconvert_exporter": "python",
   "pygments_lexer": "ipython3",
   "version": "3.7.6"
  },
  "papermill": {
   "duration": 121.744842,
   "end_time": "2021-02-01T19:13:48.968458",
   "environment_variables": {},
   "exception": null,
   "input_path": "__notebook__.ipynb",
   "output_path": "__notebook__.ipynb",
   "parameters": {},
   "start_time": "2021-02-01T19:11:47.223616",
   "version": "2.1.0"
  }
 },
 "nbformat": 4,
 "nbformat_minor": 4
}
