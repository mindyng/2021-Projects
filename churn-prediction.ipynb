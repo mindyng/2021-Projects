{
 "cells": [
  {
   "cell_type": "code",
   "execution_count": 1,
   "metadata": {
    "_cell_guid": "b1076dfc-b9ad-4769-8c92-a6c4dae69d19",
    "_uuid": "8f2839f25d086af736a60e9eeb907d3b93b6e0e5",
    "execution": {
     "iopub.execute_input": "2021-02-12T23:45:20.105165Z",
     "iopub.status.busy": "2021-02-12T23:45:20.104462Z",
     "iopub.status.idle": "2021-02-12T23:45:22.308343Z",
     "shell.execute_reply": "2021-02-12T23:45:22.307695Z"
    },
    "papermill": {
     "duration": 2.30869,
     "end_time": "2021-02-12T23:45:22.308474",
     "exception": false,
     "start_time": "2021-02-12T23:45:19.999784",
     "status": "completed"
    },
    "tags": []
   },
   "outputs": [
    {
     "name": "stdout",
     "output_type": "stream",
     "text": [
      "/kaggle/input/sparkify-churn/medium-sparkify-event-data.json\n"
     ]
    },
    {
     "data": {
      "text/html": [
       "        <script type=\"text/javascript\">\n",
       "        window.PlotlyConfig = {MathJaxConfig: 'local'};\n",
       "        if (window.MathJax) {MathJax.Hub.Config({SVG: {font: \"STIX-Web\"}});}\n",
       "        if (typeof require !== 'undefined') {\n",
       "        require.undef(\"plotly\");\n",
       "        requirejs.config({\n",
       "            paths: {\n",
       "                'plotly': ['https://cdn.plot.ly/plotly-latest.min']\n",
       "            }\n",
       "        });\n",
       "        require(['plotly'], function(Plotly) {\n",
       "            window._Plotly = Plotly;\n",
       "        });\n",
       "        }\n",
       "        </script>\n",
       "        "
      ]
     },
     "metadata": {},
     "output_type": "display_data"
    }
   ],
   "source": [
    "# This Python 3 environment comes with many helpful analytics libraries installed\n",
    "# It is defined by the kaggle/python Docker image: https://github.com/kaggle/docker-python\n",
    "# For example, here's several helpful packages to load\n",
    "\n",
    "import numpy as np # linear algebra\n",
    "import pandas as pd # data processing, CSV file I/O (e.g. pd.read_csv)\n",
    "\n",
    "# Input data files are available in the read-only \"../input/\" directory\n",
    "# For example, running this (by clicking run or pressing Shift+Enter) will list all files under the input directory\n",
    "\n",
    "import os\n",
    "for dirname, _, filenames in os.walk('/kaggle/input'):\n",
    "    for filename in filenames:\n",
    "        print(os.path.join(dirname, filename))\n",
    "\n",
    "# You can write up to 20GB to the current directory (/kaggle/working/) that gets preserved as output when you create a version using \"Save & Run All\" \n",
    "# You can also write temporary files to /kaggle/temp/, but they won't be saved outside of the current session\n",
    "\n",
    "import matplotlib.pyplot as plt\n",
    "import seaborn as sns\n",
    "\n",
    "import plotly.graph_objects as go\n",
    "from plotly.offline import init_notebook_mode, iplot\n",
    "init_notebook_mode(connected=True)\n",
    "\n",
    "import datetime\n",
    "\n",
    "\n",
    "import warnings\n",
    "warnings.filterwarnings('ignore')\n",
    "%matplotlib inline\n",
    "\n",
    "from sklearn.model_selection import train_test_split\n",
    "from sklearn.linear_model import LogisticRegression\n",
    "from sklearn.naive_bayes import MultinomialNB\n",
    "from sklearn import svm\n",
    "import xgboost as xgb\n",
    "\n",
    "from sklearn.metrics import classification_report\n",
    "from sklearn.metrics import confusion_matrix"
   ]
  },
  {
   "cell_type": "markdown",
   "metadata": {
    "papermill": {
     "duration": 0.088562,
     "end_time": "2021-02-12T23:45:22.488239",
     "exception": false,
     "start_time": "2021-02-12T23:45:22.399677",
     "status": "completed"
    },
    "tags": []
   },
   "source": [
    "# Objective: Businesses are constantly monitoring their churn  since it can deflate earnings reports. For example, Netflix reports net subscribers in order to account for churn.\n",
    "\n",
    "After determining patterns leading to churn, we make suggestions on how to mitigate them."
   ]
  },
  {
   "cell_type": "markdown",
   "metadata": {
    "papermill": {
     "duration": 0.088003,
     "end_time": "2021-02-12T23:45:22.665167",
     "exception": false,
     "start_time": "2021-02-12T23:45:22.577164",
     "status": "completed"
    },
    "tags": []
   },
   "source": [
    "Data used is from a music streaming service called Sparkify. \n",
    "\n",
    "Sparkify is a hypothetical music streaming company that offers free and paid subscription plans for their customers. The income streams for the company is either paid ads for the free tier or the monthly subscription fee for the paid tier. The company wishes to predict which customers are likely to churn by cancelling their account.\n",
    "\n",
    "(Caveat about this dataset is that user records have different time ranges.)"
   ]
  },
  {
   "cell_type": "code",
   "execution_count": 2,
   "metadata": {
    "execution": {
     "iopub.execute_input": "2021-02-12T23:45:22.850339Z",
     "iopub.status.busy": "2021-02-12T23:45:22.849619Z",
     "iopub.status.idle": "2021-02-12T23:45:35.942932Z",
     "shell.execute_reply": "2021-02-12T23:45:35.941954Z"
    },
    "papermill": {
     "duration": 13.189023,
     "end_time": "2021-02-12T23:45:35.943062",
     "exception": false,
     "start_time": "2021-02-12T23:45:22.754039",
     "status": "completed"
    },
    "tags": []
   },
   "outputs": [],
   "source": [
    "df = pd.read_json('../input/sparkify-churn/medium-sparkify-event-data.json', lines=True)                 "
   ]
  },
  {
   "cell_type": "markdown",
   "metadata": {
    "papermill": {
     "duration": 0.089553,
     "end_time": "2021-02-12T23:45:36.122529",
     "exception": false,
     "start_time": "2021-02-12T23:45:36.032976",
     "status": "completed"
    },
    "tags": []
   },
   "source": [
    "# Learning about the Dataset"
   ]
  },
  {
   "cell_type": "code",
   "execution_count": 3,
   "metadata": {
    "execution": {
     "iopub.execute_input": "2021-02-12T23:45:36.353927Z",
     "iopub.status.busy": "2021-02-12T23:45:36.353246Z",
     "iopub.status.idle": "2021-02-12T23:45:36.367323Z",
     "shell.execute_reply": "2021-02-12T23:45:36.367878Z"
    },
    "papermill": {
     "duration": 0.131816,
     "end_time": "2021-02-12T23:45:36.368014",
     "exception": false,
     "start_time": "2021-02-12T23:45:36.236198",
     "status": "completed"
    },
    "tags": []
   },
   "outputs": [
    {
     "data": {
      "text/html": [
       "<div>\n",
       "<style scoped>\n",
       "    .dataframe tbody tr th:only-of-type {\n",
       "        vertical-align: middle;\n",
       "    }\n",
       "\n",
       "    .dataframe tbody tr th {\n",
       "        vertical-align: top;\n",
       "    }\n",
       "\n",
       "    .dataframe thead th {\n",
       "        text-align: right;\n",
       "    }\n",
       "</style>\n",
       "<table border=\"1\" class=\"dataframe\">\n",
       "  <thead>\n",
       "    <tr style=\"text-align: right;\">\n",
       "      <th></th>\n",
       "      <th>ts</th>\n",
       "      <th>userId</th>\n",
       "      <th>sessionId</th>\n",
       "      <th>page</th>\n",
       "      <th>auth</th>\n",
       "      <th>method</th>\n",
       "      <th>status</th>\n",
       "      <th>level</th>\n",
       "      <th>itemInSession</th>\n",
       "      <th>location</th>\n",
       "      <th>userAgent</th>\n",
       "      <th>lastName</th>\n",
       "      <th>firstName</th>\n",
       "      <th>registration</th>\n",
       "      <th>gender</th>\n",
       "      <th>artist</th>\n",
       "      <th>song</th>\n",
       "      <th>length</th>\n",
       "    </tr>\n",
       "  </thead>\n",
       "  <tbody>\n",
       "    <tr>\n",
       "      <th>0</th>\n",
       "      <td>1538352011000</td>\n",
       "      <td>293</td>\n",
       "      <td>292</td>\n",
       "      <td>NextSong</td>\n",
       "      <td>Logged In</td>\n",
       "      <td>PUT</td>\n",
       "      <td>200</td>\n",
       "      <td>free</td>\n",
       "      <td>20</td>\n",
       "      <td>Corpus Christi, TX</td>\n",
       "      <td>\"Mozilla/5.0 (Macintosh; Intel Mac OS X 10_9_4...</td>\n",
       "      <td>Morales</td>\n",
       "      <td>Joseph</td>\n",
       "      <td>1.532064e+12</td>\n",
       "      <td>M</td>\n",
       "      <td>Martin Orford</td>\n",
       "      <td>Grand Designs</td>\n",
       "      <td>597.55057</td>\n",
       "    </tr>\n",
       "    <tr>\n",
       "      <th>1</th>\n",
       "      <td>1538352025000</td>\n",
       "      <td>98</td>\n",
       "      <td>97</td>\n",
       "      <td>NextSong</td>\n",
       "      <td>Logged In</td>\n",
       "      <td>PUT</td>\n",
       "      <td>200</td>\n",
       "      <td>free</td>\n",
       "      <td>74</td>\n",
       "      <td>Houston-The Woodlands-Sugar Land, TX</td>\n",
       "      <td>\"Mozilla/5.0 (Macintosh; Intel Mac OS X 10_9_4...</td>\n",
       "      <td>Larson</td>\n",
       "      <td>Sawyer</td>\n",
       "      <td>1.538070e+12</td>\n",
       "      <td>M</td>\n",
       "      <td>John Brown's Body</td>\n",
       "      <td>Bulls</td>\n",
       "      <td>380.21179</td>\n",
       "    </tr>\n",
       "    <tr>\n",
       "      <th>2</th>\n",
       "      <td>1538352118000</td>\n",
       "      <td>179</td>\n",
       "      <td>178</td>\n",
       "      <td>NextSong</td>\n",
       "      <td>Logged In</td>\n",
       "      <td>PUT</td>\n",
       "      <td>200</td>\n",
       "      <td>paid</td>\n",
       "      <td>184</td>\n",
       "      <td>Orlando-Kissimmee-Sanford, FL</td>\n",
       "      <td>\"Mozilla/5.0 (Macintosh; Intel Mac OS X 10_9_4...</td>\n",
       "      <td>Santiago</td>\n",
       "      <td>Maverick</td>\n",
       "      <td>1.535953e+12</td>\n",
       "      <td>M</td>\n",
       "      <td>Afroman</td>\n",
       "      <td>Because I Got High</td>\n",
       "      <td>202.37016</td>\n",
       "    </tr>\n",
       "    <tr>\n",
       "      <th>3</th>\n",
       "      <td>1538352119000</td>\n",
       "      <td>179</td>\n",
       "      <td>178</td>\n",
       "      <td>Logout</td>\n",
       "      <td>Logged In</td>\n",
       "      <td>PUT</td>\n",
       "      <td>307</td>\n",
       "      <td>paid</td>\n",
       "      <td>185</td>\n",
       "      <td>Orlando-Kissimmee-Sanford, FL</td>\n",
       "      <td>\"Mozilla/5.0 (Macintosh; Intel Mac OS X 10_9_4...</td>\n",
       "      <td>Santiago</td>\n",
       "      <td>Maverick</td>\n",
       "      <td>1.535953e+12</td>\n",
       "      <td>M</td>\n",
       "      <td>NaN</td>\n",
       "      <td>NaN</td>\n",
       "      <td>NaN</td>\n",
       "    </tr>\n",
       "    <tr>\n",
       "      <th>4</th>\n",
       "      <td>1538352124000</td>\n",
       "      <td>246</td>\n",
       "      <td>245</td>\n",
       "      <td>NextSong</td>\n",
       "      <td>Logged In</td>\n",
       "      <td>PUT</td>\n",
       "      <td>200</td>\n",
       "      <td>paid</td>\n",
       "      <td>22</td>\n",
       "      <td>Mobile, AL</td>\n",
       "      <td>Mozilla/5.0 (Windows NT 6.1; WOW64; rv:31.0) G...</td>\n",
       "      <td>Campos</td>\n",
       "      <td>Gianna</td>\n",
       "      <td>1.535931e+12</td>\n",
       "      <td>F</td>\n",
       "      <td>Lily Allen</td>\n",
       "      <td>Smile (Radio Edit)</td>\n",
       "      <td>194.53342</td>\n",
       "    </tr>\n",
       "  </tbody>\n",
       "</table>\n",
       "</div>"
      ],
      "text/plain": [
       "              ts userId  sessionId      page       auth method  status level  \\\n",
       "0  1538352011000    293        292  NextSong  Logged In    PUT     200  free   \n",
       "1  1538352025000     98         97  NextSong  Logged In    PUT     200  free   \n",
       "2  1538352118000    179        178  NextSong  Logged In    PUT     200  paid   \n",
       "3  1538352119000    179        178    Logout  Logged In    PUT     307  paid   \n",
       "4  1538352124000    246        245  NextSong  Logged In    PUT     200  paid   \n",
       "\n",
       "   itemInSession                              location  \\\n",
       "0             20                    Corpus Christi, TX   \n",
       "1             74  Houston-The Woodlands-Sugar Land, TX   \n",
       "2            184         Orlando-Kissimmee-Sanford, FL   \n",
       "3            185         Orlando-Kissimmee-Sanford, FL   \n",
       "4             22                            Mobile, AL   \n",
       "\n",
       "                                           userAgent  lastName firstName  \\\n",
       "0  \"Mozilla/5.0 (Macintosh; Intel Mac OS X 10_9_4...   Morales    Joseph   \n",
       "1  \"Mozilla/5.0 (Macintosh; Intel Mac OS X 10_9_4...    Larson    Sawyer   \n",
       "2  \"Mozilla/5.0 (Macintosh; Intel Mac OS X 10_9_4...  Santiago  Maverick   \n",
       "3  \"Mozilla/5.0 (Macintosh; Intel Mac OS X 10_9_4...  Santiago  Maverick   \n",
       "4  Mozilla/5.0 (Windows NT 6.1; WOW64; rv:31.0) G...    Campos    Gianna   \n",
       "\n",
       "   registration gender             artist                song     length  \n",
       "0  1.532064e+12      M      Martin Orford       Grand Designs  597.55057  \n",
       "1  1.538070e+12      M  John Brown's Body               Bulls  380.21179  \n",
       "2  1.535953e+12      M            Afroman  Because I Got High  202.37016  \n",
       "3  1.535953e+12      M                NaN                 NaN        NaN  \n",
       "4  1.535931e+12      F         Lily Allen  Smile (Radio Edit)  194.53342  "
      ]
     },
     "execution_count": 3,
     "metadata": {},
     "output_type": "execute_result"
    }
   ],
   "source": [
    "df.head()  "
   ]
  },
  {
   "cell_type": "code",
   "execution_count": 4,
   "metadata": {
    "execution": {
     "iopub.execute_input": "2021-02-12T23:45:36.550389Z",
     "iopub.status.busy": "2021-02-12T23:45:36.549731Z",
     "iopub.status.idle": "2021-02-12T23:45:36.573359Z",
     "shell.execute_reply": "2021-02-12T23:45:36.573972Z"
    },
    "papermill": {
     "duration": 0.116532,
     "end_time": "2021-02-12T23:45:36.574134",
     "exception": false,
     "start_time": "2021-02-12T23:45:36.457602",
     "status": "completed"
    },
    "tags": []
   },
   "outputs": [
    {
     "data": {
      "text/html": [
       "<div>\n",
       "<style scoped>\n",
       "    .dataframe tbody tr th:only-of-type {\n",
       "        vertical-align: middle;\n",
       "    }\n",
       "\n",
       "    .dataframe tbody tr th {\n",
       "        vertical-align: top;\n",
       "    }\n",
       "\n",
       "    .dataframe thead th {\n",
       "        text-align: right;\n",
       "    }\n",
       "</style>\n",
       "<table border=\"1\" class=\"dataframe\">\n",
       "  <thead>\n",
       "    <tr style=\"text-align: right;\">\n",
       "      <th></th>\n",
       "      <th>ts</th>\n",
       "      <th>userId</th>\n",
       "      <th>sessionId</th>\n",
       "      <th>page</th>\n",
       "      <th>auth</th>\n",
       "      <th>method</th>\n",
       "      <th>status</th>\n",
       "      <th>level</th>\n",
       "      <th>itemInSession</th>\n",
       "      <th>location</th>\n",
       "      <th>userAgent</th>\n",
       "      <th>lastName</th>\n",
       "      <th>firstName</th>\n",
       "      <th>registration</th>\n",
       "      <th>gender</th>\n",
       "      <th>artist</th>\n",
       "      <th>song</th>\n",
       "      <th>length</th>\n",
       "    </tr>\n",
       "  </thead>\n",
       "  <tbody>\n",
       "    <tr>\n",
       "      <th>543700</th>\n",
       "      <td>1543622316000</td>\n",
       "      <td>300010</td>\n",
       "      <td>882</td>\n",
       "      <td>NextSong</td>\n",
       "      <td>Logged In</td>\n",
       "      <td>PUT</td>\n",
       "      <td>200</td>\n",
       "      <td>paid</td>\n",
       "      <td>165</td>\n",
       "      <td>Dallas-Fort Worth-Arlington, TX</td>\n",
       "      <td>\"Mozilla/5.0 (Macintosh; Intel Mac OS X 10_9_4...</td>\n",
       "      <td>Jackson</td>\n",
       "      <td>Clayton</td>\n",
       "      <td>1.536850e+12</td>\n",
       "      <td>M</td>\n",
       "      <td>Oliver Onions</td>\n",
       "      <td>Dune Buggy</td>\n",
       "      <td>183.50975</td>\n",
       "    </tr>\n",
       "    <tr>\n",
       "      <th>543701</th>\n",
       "      <td>1543622332000</td>\n",
       "      <td>300049</td>\n",
       "      <td>991</td>\n",
       "      <td>NextSong</td>\n",
       "      <td>Logged In</td>\n",
       "      <td>PUT</td>\n",
       "      <td>200</td>\n",
       "      <td>paid</td>\n",
       "      <td>145</td>\n",
       "      <td>Fresno, CA</td>\n",
       "      <td>\"Mozilla/5.0 (Windows NT 6.1; WOW64) AppleWebK...</td>\n",
       "      <td>Stewart</td>\n",
       "      <td>Daniel</td>\n",
       "      <td>1.537523e+12</td>\n",
       "      <td>M</td>\n",
       "      <td>Sheena Easton</td>\n",
       "      <td>Strut (1993 Digital Remaster)</td>\n",
       "      <td>239.62077</td>\n",
       "    </tr>\n",
       "    <tr>\n",
       "      <th>543702</th>\n",
       "      <td>1543622368000</td>\n",
       "      <td>300039</td>\n",
       "      <td>916</td>\n",
       "      <td>NextSong</td>\n",
       "      <td>Logged In</td>\n",
       "      <td>PUT</td>\n",
       "      <td>200</td>\n",
       "      <td>paid</td>\n",
       "      <td>31</td>\n",
       "      <td>Memphis, TN-MS-AR</td>\n",
       "      <td>\"Mozilla/5.0 (Macintosh; Intel Mac OS X 10_9_4...</td>\n",
       "      <td>Jenkins</td>\n",
       "      <td>Jeremiah</td>\n",
       "      <td>1.536229e+12</td>\n",
       "      <td>M</td>\n",
       "      <td>The White Stripes</td>\n",
       "      <td>Jolene [Live]</td>\n",
       "      <td>234.97098</td>\n",
       "    </tr>\n",
       "    <tr>\n",
       "      <th>543703</th>\n",
       "      <td>1543622392000</td>\n",
       "      <td>300038</td>\n",
       "      <td>966</td>\n",
       "      <td>NextSong</td>\n",
       "      <td>Logged In</td>\n",
       "      <td>PUT</td>\n",
       "      <td>200</td>\n",
       "      <td>paid</td>\n",
       "      <td>36</td>\n",
       "      <td>Lakeland-Winter Haven, FL</td>\n",
       "      <td>\"Mozilla/5.0 (iPhone; CPU iPhone OS 7_1_2 like...</td>\n",
       "      <td>Reed</td>\n",
       "      <td>Aiden</td>\n",
       "      <td>1.535616e+12</td>\n",
       "      <td>M</td>\n",
       "      <td>Hinder</td>\n",
       "      <td>Lips Of An Angel</td>\n",
       "      <td>262.05995</td>\n",
       "    </tr>\n",
       "    <tr>\n",
       "      <th>543704</th>\n",
       "      <td>1543622401000</td>\n",
       "      <td>300015</td>\n",
       "      <td>981</td>\n",
       "      <td>NextSong</td>\n",
       "      <td>Logged In</td>\n",
       "      <td>PUT</td>\n",
       "      <td>200</td>\n",
       "      <td>paid</td>\n",
       "      <td>109</td>\n",
       "      <td>San Antonio-New Braunfels, TX</td>\n",
       "      <td>\"Mozilla/5.0 (iPhone; CPU iPhone OS 7_1_2 like...</td>\n",
       "      <td>White</td>\n",
       "      <td>Joshua</td>\n",
       "      <td>1.528781e+12</td>\n",
       "      <td>M</td>\n",
       "      <td>Jack Johnson</td>\n",
       "      <td>Do You Remember</td>\n",
       "      <td>144.06485</td>\n",
       "    </tr>\n",
       "  </tbody>\n",
       "</table>\n",
       "</div>"
      ],
      "text/plain": [
       "                   ts  userId  sessionId      page       auth method  status  \\\n",
       "543700  1543622316000  300010        882  NextSong  Logged In    PUT     200   \n",
       "543701  1543622332000  300049        991  NextSong  Logged In    PUT     200   \n",
       "543702  1543622368000  300039        916  NextSong  Logged In    PUT     200   \n",
       "543703  1543622392000  300038        966  NextSong  Logged In    PUT     200   \n",
       "543704  1543622401000  300015        981  NextSong  Logged In    PUT     200   \n",
       "\n",
       "       level  itemInSession                         location  \\\n",
       "543700  paid            165  Dallas-Fort Worth-Arlington, TX   \n",
       "543701  paid            145                       Fresno, CA   \n",
       "543702  paid             31                Memphis, TN-MS-AR   \n",
       "543703  paid             36        Lakeland-Winter Haven, FL   \n",
       "543704  paid            109    San Antonio-New Braunfels, TX   \n",
       "\n",
       "                                                userAgent lastName firstName  \\\n",
       "543700  \"Mozilla/5.0 (Macintosh; Intel Mac OS X 10_9_4...  Jackson   Clayton   \n",
       "543701  \"Mozilla/5.0 (Windows NT 6.1; WOW64) AppleWebK...  Stewart    Daniel   \n",
       "543702  \"Mozilla/5.0 (Macintosh; Intel Mac OS X 10_9_4...  Jenkins  Jeremiah   \n",
       "543703  \"Mozilla/5.0 (iPhone; CPU iPhone OS 7_1_2 like...     Reed     Aiden   \n",
       "543704  \"Mozilla/5.0 (iPhone; CPU iPhone OS 7_1_2 like...    White    Joshua   \n",
       "\n",
       "        registration gender             artist                           song  \\\n",
       "543700  1.536850e+12      M      Oliver Onions                     Dune Buggy   \n",
       "543701  1.537523e+12      M      Sheena Easton  Strut (1993 Digital Remaster)   \n",
       "543702  1.536229e+12      M  The White Stripes                  Jolene [Live]   \n",
       "543703  1.535616e+12      M             Hinder               Lips Of An Angel   \n",
       "543704  1.528781e+12      M       Jack Johnson                Do You Remember   \n",
       "\n",
       "           length  \n",
       "543700  183.50975  \n",
       "543701  239.62077  \n",
       "543702  234.97098  \n",
       "543703  262.05995  \n",
       "543704  144.06485  "
      ]
     },
     "execution_count": 4,
     "metadata": {},
     "output_type": "execute_result"
    }
   ],
   "source": [
    "df.tail()"
   ]
  },
  {
   "cell_type": "code",
   "execution_count": 5,
   "metadata": {
    "execution": {
     "iopub.execute_input": "2021-02-12T23:45:36.759109Z",
     "iopub.status.busy": "2021-02-12T23:45:36.758175Z",
     "iopub.status.idle": "2021-02-12T23:45:36.762958Z",
     "shell.execute_reply": "2021-02-12T23:45:36.763657Z"
    },
    "papermill": {
     "duration": 0.099091,
     "end_time": "2021-02-12T23:45:36.763795",
     "exception": false,
     "start_time": "2021-02-12T23:45:36.664704",
     "status": "completed"
    },
    "tags": []
   },
   "outputs": [
    {
     "data": {
      "text/plain": [
       "(543705, 18)"
      ]
     },
     "execution_count": 5,
     "metadata": {},
     "output_type": "execute_result"
    }
   ],
   "source": [
    "df.shape"
   ]
  },
  {
   "cell_type": "code",
   "execution_count": 6,
   "metadata": {
    "execution": {
     "iopub.execute_input": "2021-02-12T23:45:36.950340Z",
     "iopub.status.busy": "2021-02-12T23:45:36.949638Z",
     "iopub.status.idle": "2021-02-12T23:45:37.931745Z",
     "shell.execute_reply": "2021-02-12T23:45:37.932372Z"
    },
    "papermill": {
     "duration": 1.07789,
     "end_time": "2021-02-12T23:45:37.932519",
     "exception": false,
     "start_time": "2021-02-12T23:45:36.854629",
     "status": "completed"
    },
    "tags": []
   },
   "outputs": [
    {
     "name": "stdout",
     "output_type": "stream",
     "text": [
      "<class 'pandas.core.frame.DataFrame'>\n",
      "RangeIndex: 543705 entries, 0 to 543704\n",
      "Data columns (total 18 columns):\n",
      " #   Column         Non-Null Count   Dtype  \n",
      "---  ------         --------------   -----  \n",
      " 0   ts             543705 non-null  int64  \n",
      " 1   userId         543705 non-null  object \n",
      " 2   sessionId      543705 non-null  int64  \n",
      " 3   page           543705 non-null  object \n",
      " 4   auth           543705 non-null  object \n",
      " 5   method         543705 non-null  object \n",
      " 6   status         543705 non-null  int64  \n",
      " 7   level          543705 non-null  object \n",
      " 8   itemInSession  543705 non-null  int64  \n",
      " 9   location       528005 non-null  object \n",
      " 10  userAgent      528005 non-null  object \n",
      " 11  lastName       528005 non-null  object \n",
      " 12  firstName      528005 non-null  object \n",
      " 13  registration   528005 non-null  float64\n",
      " 14  gender         528005 non-null  object \n",
      " 15  artist         432877 non-null  object \n",
      " 16  song           432877 non-null  object \n",
      " 17  length         432877 non-null  float64\n",
      "dtypes: float64(2), int64(4), object(12)\n",
      "memory usage: 74.7+ MB\n"
     ]
    }
   ],
   "source": [
    "df.info()"
   ]
  },
  {
   "cell_type": "code",
   "execution_count": 7,
   "metadata": {
    "execution": {
     "iopub.execute_input": "2021-02-12T23:45:38.129447Z",
     "iopub.status.busy": "2021-02-12T23:45:38.128719Z",
     "iopub.status.idle": "2021-02-12T23:45:38.253242Z",
     "shell.execute_reply": "2021-02-12T23:45:38.252504Z"
    },
    "papermill": {
     "duration": 0.228588,
     "end_time": "2021-02-12T23:45:38.253363",
     "exception": false,
     "start_time": "2021-02-12T23:45:38.024775",
     "status": "completed"
    },
    "tags": []
   },
   "outputs": [
    {
     "data": {
      "text/html": [
       "<div>\n",
       "<style scoped>\n",
       "    .dataframe tbody tr th:only-of-type {\n",
       "        vertical-align: middle;\n",
       "    }\n",
       "\n",
       "    .dataframe tbody tr th {\n",
       "        vertical-align: top;\n",
       "    }\n",
       "\n",
       "    .dataframe thead th {\n",
       "        text-align: right;\n",
       "    }\n",
       "</style>\n",
       "<table border=\"1\" class=\"dataframe\">\n",
       "  <thead>\n",
       "    <tr style=\"text-align: right;\">\n",
       "      <th></th>\n",
       "      <th>ts</th>\n",
       "      <th>sessionId</th>\n",
       "      <th>status</th>\n",
       "      <th>itemInSession</th>\n",
       "      <th>registration</th>\n",
       "      <th>length</th>\n",
       "    </tr>\n",
       "  </thead>\n",
       "  <tbody>\n",
       "    <tr>\n",
       "      <th>count</th>\n",
       "      <td>5.437050e+05</td>\n",
       "      <td>543705.000000</td>\n",
       "      <td>543705.000000</td>\n",
       "      <td>543705.000000</td>\n",
       "      <td>5.280050e+05</td>\n",
       "      <td>432877.000000</td>\n",
       "    </tr>\n",
       "    <tr>\n",
       "      <th>mean</th>\n",
       "      <td>1.540965e+12</td>\n",
       "      <td>2040.814353</td>\n",
       "      <td>210.018291</td>\n",
       "      <td>107.306291</td>\n",
       "      <td>1.535523e+12</td>\n",
       "      <td>248.664593</td>\n",
       "    </tr>\n",
       "    <tr>\n",
       "      <th>std</th>\n",
       "      <td>1.482057e+09</td>\n",
       "      <td>1434.338931</td>\n",
       "      <td>31.471919</td>\n",
       "      <td>116.723508</td>\n",
       "      <td>3.078725e+09</td>\n",
       "      <td>98.412670</td>\n",
       "    </tr>\n",
       "    <tr>\n",
       "      <th>min</th>\n",
       "      <td>1.538352e+12</td>\n",
       "      <td>1.000000</td>\n",
       "      <td>200.000000</td>\n",
       "      <td>0.000000</td>\n",
       "      <td>1.509854e+12</td>\n",
       "      <td>0.783220</td>\n",
       "    </tr>\n",
       "    <tr>\n",
       "      <th>25%</th>\n",
       "      <td>1.539720e+12</td>\n",
       "      <td>630.000000</td>\n",
       "      <td>200.000000</td>\n",
       "      <td>26.000000</td>\n",
       "      <td>1.534368e+12</td>\n",
       "      <td>199.392200</td>\n",
       "    </tr>\n",
       "    <tr>\n",
       "      <th>50%</th>\n",
       "      <td>1.541005e+12</td>\n",
       "      <td>1968.000000</td>\n",
       "      <td>200.000000</td>\n",
       "      <td>68.000000</td>\n",
       "      <td>1.536556e+12</td>\n",
       "      <td>234.004440</td>\n",
       "    </tr>\n",
       "    <tr>\n",
       "      <th>75%</th>\n",
       "      <td>1.542177e+12</td>\n",
       "      <td>3307.000000</td>\n",
       "      <td>200.000000</td>\n",
       "      <td>147.000000</td>\n",
       "      <td>1.537612e+12</td>\n",
       "      <td>276.793020</td>\n",
       "    </tr>\n",
       "    <tr>\n",
       "      <th>max</th>\n",
       "      <td>1.543622e+12</td>\n",
       "      <td>4808.000000</td>\n",
       "      <td>404.000000</td>\n",
       "      <td>1005.000000</td>\n",
       "      <td>1.543074e+12</td>\n",
       "      <td>3024.665670</td>\n",
       "    </tr>\n",
       "  </tbody>\n",
       "</table>\n",
       "</div>"
      ],
      "text/plain": [
       "                 ts      sessionId         status  itemInSession  \\\n",
       "count  5.437050e+05  543705.000000  543705.000000  543705.000000   \n",
       "mean   1.540965e+12    2040.814353     210.018291     107.306291   \n",
       "std    1.482057e+09    1434.338931      31.471919     116.723508   \n",
       "min    1.538352e+12       1.000000     200.000000       0.000000   \n",
       "25%    1.539720e+12     630.000000     200.000000      26.000000   \n",
       "50%    1.541005e+12    1968.000000     200.000000      68.000000   \n",
       "75%    1.542177e+12    3307.000000     200.000000     147.000000   \n",
       "max    1.543622e+12    4808.000000     404.000000    1005.000000   \n",
       "\n",
       "       registration         length  \n",
       "count  5.280050e+05  432877.000000  \n",
       "mean   1.535523e+12     248.664593  \n",
       "std    3.078725e+09      98.412670  \n",
       "min    1.509854e+12       0.783220  \n",
       "25%    1.534368e+12     199.392200  \n",
       "50%    1.536556e+12     234.004440  \n",
       "75%    1.537612e+12     276.793020  \n",
       "max    1.543074e+12    3024.665670  "
      ]
     },
     "execution_count": 7,
     "metadata": {},
     "output_type": "execute_result"
    }
   ],
   "source": [
    "# this is aggregate of all columns that hold numerical values regardless of some being discrete (sessionId)\n",
    "df.describe()"
   ]
  },
  {
   "cell_type": "code",
   "execution_count": 8,
   "metadata": {
    "execution": {
     "iopub.execute_input": "2021-02-12T23:45:38.443444Z",
     "iopub.status.busy": "2021-02-12T23:45:38.442802Z",
     "iopub.status.idle": "2021-02-12T23:45:40.172998Z",
     "shell.execute_reply": "2021-02-12T23:45:40.172416Z"
    },
    "papermill": {
     "duration": 1.826328,
     "end_time": "2021-02-12T23:45:40.173124",
     "exception": false,
     "start_time": "2021-02-12T23:45:38.346796",
     "status": "completed"
    },
    "tags": []
   },
   "outputs": [
    {
     "data": {
      "text/plain": [
       "ts               513108\n",
       "userId              449\n",
       "sessionId          4590\n",
       "page                 22\n",
       "auth                  4\n",
       "method                2\n",
       "status                3\n",
       "level                 2\n",
       "itemInSession      1006\n",
       "location            192\n",
       "userAgent            71\n",
       "lastName            275\n",
       "firstName           345\n",
       "registration        448\n",
       "gender                2\n",
       "artist            21247\n",
       "song              80292\n",
       "length            16679\n",
       "dtype: int64"
      ]
     },
     "execution_count": 8,
     "metadata": {},
     "output_type": "execute_result"
    }
   ],
   "source": [
    "# number of unique values per feature\n",
    "df.nunique()"
   ]
  },
  {
   "cell_type": "markdown",
   "metadata": {
    "papermill": {
     "duration": 0.09328,
     "end_time": "2021-02-12T23:45:40.358979",
     "exception": false,
     "start_time": "2021-02-12T23:45:40.265699",
     "status": "completed"
    },
    "tags": []
   },
   "source": [
    "## Target column\n",
    "\n",
    "Page column would have the information that is most pertinent to customer journey. Also, it has the specific page that would inform us whether or not a user churned. That page is called \"Cancellation Confirmation\"."
   ]
  },
  {
   "cell_type": "code",
   "execution_count": 9,
   "metadata": {
    "execution": {
     "iopub.execute_input": "2021-02-12T23:45:40.763653Z",
     "iopub.status.busy": "2021-02-12T23:45:40.760406Z",
     "iopub.status.idle": "2021-02-12T23:45:40.768444Z",
     "shell.execute_reply": "2021-02-12T23:45:40.769047Z"
    },
    "papermill": {
     "duration": 0.317729,
     "end_time": "2021-02-12T23:45:40.769255",
     "exception": false,
     "start_time": "2021-02-12T23:45:40.451526",
     "status": "completed"
    },
    "tags": []
   },
   "outputs": [
    {
     "data": {
      "text/plain": [
       "NextSong                     432877\n",
       "Home                          27412\n",
       "Thumbs Up                     23826\n",
       "Add to Playlist               12349\n",
       "Add Friend                     8087\n",
       "Roll Advert                    7773\n",
       "Login                          6011\n",
       "Logout                         5990\n",
       "Thumbs Down                    4911\n",
       "Downgrade                      3811\n",
       "Help                           3150\n",
       "Settings                       2964\n",
       "About                          1855\n",
       "Upgrade                         968\n",
       "Save Settings                   585\n",
       "Error                           519\n",
       "Submit Upgrade                  287\n",
       "Submit Downgrade                117\n",
       "Cancel                           99\n",
       "Cancellation Confirmation        99\n",
       "Register                         11\n",
       "Submit Registration               4\n",
       "Name: page, dtype: int64"
      ]
     },
     "execution_count": 9,
     "metadata": {},
     "output_type": "execute_result"
    }
   ],
   "source": [
    "df.page.value_counts()"
   ]
  },
  {
   "cell_type": "markdown",
   "metadata": {
    "papermill": {
     "duration": 0.094071,
     "end_time": "2021-02-12T23:45:40.957274",
     "exception": false,
     "start_time": "2021-02-12T23:45:40.863203",
     "status": "completed"
    },
    "tags": []
   },
   "source": [
    "## Customer Journey"
   ]
  },
  {
   "cell_type": "code",
   "execution_count": 10,
   "metadata": {
    "execution": {
     "iopub.execute_input": "2021-02-12T23:45:41.364947Z",
     "iopub.status.busy": "2021-02-12T23:45:41.363898Z",
     "iopub.status.idle": "2021-02-12T23:45:41.371747Z",
     "shell.execute_reply": "2021-02-12T23:45:41.371224Z"
    },
    "papermill": {
     "duration": 0.319976,
     "end_time": "2021-02-12T23:45:41.371863",
     "exception": false,
     "start_time": "2021-02-12T23:45:41.051887",
     "status": "completed"
    },
    "tags": []
   },
   "outputs": [
    {
     "data": {
      "text/plain": [
       "Logged In     527906\n",
       "Logged Out     15606\n",
       "Cancelled         99\n",
       "Guest             94\n",
       "Name: auth, dtype: int64"
      ]
     },
     "execution_count": 10,
     "metadata": {},
     "output_type": "execute_result"
    }
   ],
   "source": [
    "df.auth.value_counts()"
   ]
  },
  {
   "cell_type": "code",
   "execution_count": 11,
   "metadata": {
    "execution": {
     "iopub.execute_input": "2021-02-12T23:45:41.682329Z",
     "iopub.status.busy": "2021-02-12T23:45:41.681032Z",
     "iopub.status.idle": "2021-02-12T23:45:41.914778Z",
     "shell.execute_reply": "2021-02-12T23:45:41.915425Z"
    },
    "papermill": {
     "duration": 0.449581,
     "end_time": "2021-02-12T23:45:41.915572",
     "exception": false,
     "start_time": "2021-02-12T23:45:41.465991",
     "status": "completed"
    },
    "tags": []
   },
   "outputs": [
    {
     "data": {
      "text/html": [
       "<div>\n",
       "<style scoped>\n",
       "    .dataframe tbody tr th:only-of-type {\n",
       "        vertical-align: middle;\n",
       "    }\n",
       "\n",
       "    .dataframe tbody tr th {\n",
       "        vertical-align: top;\n",
       "    }\n",
       "\n",
       "    .dataframe thead th {\n",
       "        text-align: right;\n",
       "    }\n",
       "</style>\n",
       "<table border=\"1\" class=\"dataframe\">\n",
       "  <thead>\n",
       "    <tr style=\"text-align: right;\">\n",
       "      <th></th>\n",
       "      <th>ts</th>\n",
       "      <th>userId</th>\n",
       "      <th>sessionId</th>\n",
       "      <th>page</th>\n",
       "      <th>auth</th>\n",
       "      <th>method</th>\n",
       "      <th>status</th>\n",
       "      <th>level</th>\n",
       "      <th>itemInSession</th>\n",
       "      <th>location</th>\n",
       "      <th>userAgent</th>\n",
       "      <th>lastName</th>\n",
       "      <th>firstName</th>\n",
       "      <th>registration</th>\n",
       "      <th>gender</th>\n",
       "      <th>artist</th>\n",
       "      <th>song</th>\n",
       "      <th>length</th>\n",
       "    </tr>\n",
       "  </thead>\n",
       "  <tbody>\n",
       "    <tr>\n",
       "      <th>0</th>\n",
       "      <td>1538352011000</td>\n",
       "      <td>293</td>\n",
       "      <td>292</td>\n",
       "      <td>NextSong</td>\n",
       "      <td>Logged In</td>\n",
       "      <td>PUT</td>\n",
       "      <td>200</td>\n",
       "      <td>free</td>\n",
       "      <td>20</td>\n",
       "      <td>Corpus Christi, TX</td>\n",
       "      <td>\"Mozilla/5.0 (Macintosh; Intel Mac OS X 10_9_4...</td>\n",
       "      <td>Morales</td>\n",
       "      <td>Joseph</td>\n",
       "      <td>1.532064e+12</td>\n",
       "      <td>M</td>\n",
       "      <td>Martin Orford</td>\n",
       "      <td>Grand Designs</td>\n",
       "      <td>597.55057</td>\n",
       "    </tr>\n",
       "    <tr>\n",
       "      <th>1</th>\n",
       "      <td>1538352025000</td>\n",
       "      <td>98</td>\n",
       "      <td>97</td>\n",
       "      <td>NextSong</td>\n",
       "      <td>Logged In</td>\n",
       "      <td>PUT</td>\n",
       "      <td>200</td>\n",
       "      <td>free</td>\n",
       "      <td>74</td>\n",
       "      <td>Houston-The Woodlands-Sugar Land, TX</td>\n",
       "      <td>\"Mozilla/5.0 (Macintosh; Intel Mac OS X 10_9_4...</td>\n",
       "      <td>Larson</td>\n",
       "      <td>Sawyer</td>\n",
       "      <td>1.538070e+12</td>\n",
       "      <td>M</td>\n",
       "      <td>John Brown's Body</td>\n",
       "      <td>Bulls</td>\n",
       "      <td>380.21179</td>\n",
       "    </tr>\n",
       "    <tr>\n",
       "      <th>2</th>\n",
       "      <td>1538352118000</td>\n",
       "      <td>179</td>\n",
       "      <td>178</td>\n",
       "      <td>NextSong</td>\n",
       "      <td>Logged In</td>\n",
       "      <td>PUT</td>\n",
       "      <td>200</td>\n",
       "      <td>paid</td>\n",
       "      <td>184</td>\n",
       "      <td>Orlando-Kissimmee-Sanford, FL</td>\n",
       "      <td>\"Mozilla/5.0 (Macintosh; Intel Mac OS X 10_9_4...</td>\n",
       "      <td>Santiago</td>\n",
       "      <td>Maverick</td>\n",
       "      <td>1.535953e+12</td>\n",
       "      <td>M</td>\n",
       "      <td>Afroman</td>\n",
       "      <td>Because I Got High</td>\n",
       "      <td>202.37016</td>\n",
       "    </tr>\n",
       "    <tr>\n",
       "      <th>3</th>\n",
       "      <td>1538352119000</td>\n",
       "      <td>179</td>\n",
       "      <td>178</td>\n",
       "      <td>Logout</td>\n",
       "      <td>Logged In</td>\n",
       "      <td>PUT</td>\n",
       "      <td>307</td>\n",
       "      <td>paid</td>\n",
       "      <td>185</td>\n",
       "      <td>Orlando-Kissimmee-Sanford, FL</td>\n",
       "      <td>\"Mozilla/5.0 (Macintosh; Intel Mac OS X 10_9_4...</td>\n",
       "      <td>Santiago</td>\n",
       "      <td>Maverick</td>\n",
       "      <td>1.535953e+12</td>\n",
       "      <td>M</td>\n",
       "      <td>NaN</td>\n",
       "      <td>NaN</td>\n",
       "      <td>NaN</td>\n",
       "    </tr>\n",
       "    <tr>\n",
       "      <th>4</th>\n",
       "      <td>1538352124000</td>\n",
       "      <td>246</td>\n",
       "      <td>245</td>\n",
       "      <td>NextSong</td>\n",
       "      <td>Logged In</td>\n",
       "      <td>PUT</td>\n",
       "      <td>200</td>\n",
       "      <td>paid</td>\n",
       "      <td>22</td>\n",
       "      <td>Mobile, AL</td>\n",
       "      <td>Mozilla/5.0 (Windows NT 6.1; WOW64; rv:31.0) G...</td>\n",
       "      <td>Campos</td>\n",
       "      <td>Gianna</td>\n",
       "      <td>1.535931e+12</td>\n",
       "      <td>F</td>\n",
       "      <td>Lily Allen</td>\n",
       "      <td>Smile (Radio Edit)</td>\n",
       "      <td>194.53342</td>\n",
       "    </tr>\n",
       "    <tr>\n",
       "      <th>...</th>\n",
       "      <td>...</td>\n",
       "      <td>...</td>\n",
       "      <td>...</td>\n",
       "      <td>...</td>\n",
       "      <td>...</td>\n",
       "      <td>...</td>\n",
       "      <td>...</td>\n",
       "      <td>...</td>\n",
       "      <td>...</td>\n",
       "      <td>...</td>\n",
       "      <td>...</td>\n",
       "      <td>...</td>\n",
       "      <td>...</td>\n",
       "      <td>...</td>\n",
       "      <td>...</td>\n",
       "      <td>...</td>\n",
       "      <td>...</td>\n",
       "      <td>...</td>\n",
       "    </tr>\n",
       "    <tr>\n",
       "      <th>543700</th>\n",
       "      <td>1543622316000</td>\n",
       "      <td>300010</td>\n",
       "      <td>882</td>\n",
       "      <td>NextSong</td>\n",
       "      <td>Logged In</td>\n",
       "      <td>PUT</td>\n",
       "      <td>200</td>\n",
       "      <td>paid</td>\n",
       "      <td>165</td>\n",
       "      <td>Dallas-Fort Worth-Arlington, TX</td>\n",
       "      <td>\"Mozilla/5.0 (Macintosh; Intel Mac OS X 10_9_4...</td>\n",
       "      <td>Jackson</td>\n",
       "      <td>Clayton</td>\n",
       "      <td>1.536850e+12</td>\n",
       "      <td>M</td>\n",
       "      <td>Oliver Onions</td>\n",
       "      <td>Dune Buggy</td>\n",
       "      <td>183.50975</td>\n",
       "    </tr>\n",
       "    <tr>\n",
       "      <th>543701</th>\n",
       "      <td>1543622332000</td>\n",
       "      <td>300049</td>\n",
       "      <td>991</td>\n",
       "      <td>NextSong</td>\n",
       "      <td>Logged In</td>\n",
       "      <td>PUT</td>\n",
       "      <td>200</td>\n",
       "      <td>paid</td>\n",
       "      <td>145</td>\n",
       "      <td>Fresno, CA</td>\n",
       "      <td>\"Mozilla/5.0 (Windows NT 6.1; WOW64) AppleWebK...</td>\n",
       "      <td>Stewart</td>\n",
       "      <td>Daniel</td>\n",
       "      <td>1.537523e+12</td>\n",
       "      <td>M</td>\n",
       "      <td>Sheena Easton</td>\n",
       "      <td>Strut (1993 Digital Remaster)</td>\n",
       "      <td>239.62077</td>\n",
       "    </tr>\n",
       "    <tr>\n",
       "      <th>543702</th>\n",
       "      <td>1543622368000</td>\n",
       "      <td>300039</td>\n",
       "      <td>916</td>\n",
       "      <td>NextSong</td>\n",
       "      <td>Logged In</td>\n",
       "      <td>PUT</td>\n",
       "      <td>200</td>\n",
       "      <td>paid</td>\n",
       "      <td>31</td>\n",
       "      <td>Memphis, TN-MS-AR</td>\n",
       "      <td>\"Mozilla/5.0 (Macintosh; Intel Mac OS X 10_9_4...</td>\n",
       "      <td>Jenkins</td>\n",
       "      <td>Jeremiah</td>\n",
       "      <td>1.536229e+12</td>\n",
       "      <td>M</td>\n",
       "      <td>The White Stripes</td>\n",
       "      <td>Jolene [Live]</td>\n",
       "      <td>234.97098</td>\n",
       "    </tr>\n",
       "    <tr>\n",
       "      <th>543703</th>\n",
       "      <td>1543622392000</td>\n",
       "      <td>300038</td>\n",
       "      <td>966</td>\n",
       "      <td>NextSong</td>\n",
       "      <td>Logged In</td>\n",
       "      <td>PUT</td>\n",
       "      <td>200</td>\n",
       "      <td>paid</td>\n",
       "      <td>36</td>\n",
       "      <td>Lakeland-Winter Haven, FL</td>\n",
       "      <td>\"Mozilla/5.0 (iPhone; CPU iPhone OS 7_1_2 like...</td>\n",
       "      <td>Reed</td>\n",
       "      <td>Aiden</td>\n",
       "      <td>1.535616e+12</td>\n",
       "      <td>M</td>\n",
       "      <td>Hinder</td>\n",
       "      <td>Lips Of An Angel</td>\n",
       "      <td>262.05995</td>\n",
       "    </tr>\n",
       "    <tr>\n",
       "      <th>543704</th>\n",
       "      <td>1543622401000</td>\n",
       "      <td>300015</td>\n",
       "      <td>981</td>\n",
       "      <td>NextSong</td>\n",
       "      <td>Logged In</td>\n",
       "      <td>PUT</td>\n",
       "      <td>200</td>\n",
       "      <td>paid</td>\n",
       "      <td>109</td>\n",
       "      <td>San Antonio-New Braunfels, TX</td>\n",
       "      <td>\"Mozilla/5.0 (iPhone; CPU iPhone OS 7_1_2 like...</td>\n",
       "      <td>White</td>\n",
       "      <td>Joshua</td>\n",
       "      <td>1.528781e+12</td>\n",
       "      <td>M</td>\n",
       "      <td>Jack Johnson</td>\n",
       "      <td>Do You Remember</td>\n",
       "      <td>144.06485</td>\n",
       "    </tr>\n",
       "  </tbody>\n",
       "</table>\n",
       "<p>527906 rows × 18 columns</p>\n",
       "</div>"
      ],
      "text/plain": [
       "                   ts  userId  sessionId      page       auth method  status  \\\n",
       "0       1538352011000     293        292  NextSong  Logged In    PUT     200   \n",
       "1       1538352025000      98         97  NextSong  Logged In    PUT     200   \n",
       "2       1538352118000     179        178  NextSong  Logged In    PUT     200   \n",
       "3       1538352119000     179        178    Logout  Logged In    PUT     307   \n",
       "4       1538352124000     246        245  NextSong  Logged In    PUT     200   \n",
       "...               ...     ...        ...       ...        ...    ...     ...   \n",
       "543700  1543622316000  300010        882  NextSong  Logged In    PUT     200   \n",
       "543701  1543622332000  300049        991  NextSong  Logged In    PUT     200   \n",
       "543702  1543622368000  300039        916  NextSong  Logged In    PUT     200   \n",
       "543703  1543622392000  300038        966  NextSong  Logged In    PUT     200   \n",
       "543704  1543622401000  300015        981  NextSong  Logged In    PUT     200   \n",
       "\n",
       "       level  itemInSession                              location  \\\n",
       "0       free             20                    Corpus Christi, TX   \n",
       "1       free             74  Houston-The Woodlands-Sugar Land, TX   \n",
       "2       paid            184         Orlando-Kissimmee-Sanford, FL   \n",
       "3       paid            185         Orlando-Kissimmee-Sanford, FL   \n",
       "4       paid             22                            Mobile, AL   \n",
       "...      ...            ...                                   ...   \n",
       "543700  paid            165       Dallas-Fort Worth-Arlington, TX   \n",
       "543701  paid            145                            Fresno, CA   \n",
       "543702  paid             31                     Memphis, TN-MS-AR   \n",
       "543703  paid             36             Lakeland-Winter Haven, FL   \n",
       "543704  paid            109         San Antonio-New Braunfels, TX   \n",
       "\n",
       "                                                userAgent  lastName firstName  \\\n",
       "0       \"Mozilla/5.0 (Macintosh; Intel Mac OS X 10_9_4...   Morales    Joseph   \n",
       "1       \"Mozilla/5.0 (Macintosh; Intel Mac OS X 10_9_4...    Larson    Sawyer   \n",
       "2       \"Mozilla/5.0 (Macintosh; Intel Mac OS X 10_9_4...  Santiago  Maverick   \n",
       "3       \"Mozilla/5.0 (Macintosh; Intel Mac OS X 10_9_4...  Santiago  Maverick   \n",
       "4       Mozilla/5.0 (Windows NT 6.1; WOW64; rv:31.0) G...    Campos    Gianna   \n",
       "...                                                   ...       ...       ...   \n",
       "543700  \"Mozilla/5.0 (Macintosh; Intel Mac OS X 10_9_4...   Jackson   Clayton   \n",
       "543701  \"Mozilla/5.0 (Windows NT 6.1; WOW64) AppleWebK...   Stewart    Daniel   \n",
       "543702  \"Mozilla/5.0 (Macintosh; Intel Mac OS X 10_9_4...   Jenkins  Jeremiah   \n",
       "543703  \"Mozilla/5.0 (iPhone; CPU iPhone OS 7_1_2 like...      Reed     Aiden   \n",
       "543704  \"Mozilla/5.0 (iPhone; CPU iPhone OS 7_1_2 like...     White    Joshua   \n",
       "\n",
       "        registration gender             artist                           song  \\\n",
       "0       1.532064e+12      M      Martin Orford                  Grand Designs   \n",
       "1       1.538070e+12      M  John Brown's Body                          Bulls   \n",
       "2       1.535953e+12      M            Afroman             Because I Got High   \n",
       "3       1.535953e+12      M                NaN                            NaN   \n",
       "4       1.535931e+12      F         Lily Allen             Smile (Radio Edit)   \n",
       "...              ...    ...                ...                            ...   \n",
       "543700  1.536850e+12      M      Oliver Onions                     Dune Buggy   \n",
       "543701  1.537523e+12      M      Sheena Easton  Strut (1993 Digital Remaster)   \n",
       "543702  1.536229e+12      M  The White Stripes                  Jolene [Live]   \n",
       "543703  1.535616e+12      M             Hinder               Lips Of An Angel   \n",
       "543704  1.528781e+12      M       Jack Johnson                Do You Remember   \n",
       "\n",
       "           length  \n",
       "0       597.55057  \n",
       "1       380.21179  \n",
       "2       202.37016  \n",
       "3             NaN  \n",
       "4       194.53342  \n",
       "...           ...  \n",
       "543700  183.50975  \n",
       "543701  239.62077  \n",
       "543702  234.97098  \n",
       "543703  262.05995  \n",
       "543704  144.06485  \n",
       "\n",
       "[527906 rows x 18 columns]"
      ]
     },
     "execution_count": 11,
     "metadata": {},
     "output_type": "execute_result"
    }
   ],
   "source": [
    "df.loc[df['auth'] == 'Logged In']"
   ]
  },
  {
   "cell_type": "code",
   "execution_count": 12,
   "metadata": {
    "execution": {
     "iopub.execute_input": "2021-02-12T23:45:42.108931Z",
     "iopub.status.busy": "2021-02-12T23:45:42.108276Z",
     "iopub.status.idle": "2021-02-12T23:45:42.582001Z",
     "shell.execute_reply": "2021-02-12T23:45:42.581332Z"
    },
    "papermill": {
     "duration": 0.570749,
     "end_time": "2021-02-12T23:45:42.582142",
     "exception": false,
     "start_time": "2021-02-12T23:45:42.011393",
     "status": "completed"
    },
    "tags": []
   },
   "outputs": [
    {
     "data": {
      "text/html": [
       "<div>\n",
       "<style scoped>\n",
       "    .dataframe tbody tr th:only-of-type {\n",
       "        vertical-align: middle;\n",
       "    }\n",
       "\n",
       "    .dataframe tbody tr th {\n",
       "        vertical-align: top;\n",
       "    }\n",
       "\n",
       "    .dataframe thead th {\n",
       "        text-align: right;\n",
       "    }\n",
       "</style>\n",
       "<table border=\"1\" class=\"dataframe\">\n",
       "  <thead>\n",
       "    <tr style=\"text-align: right;\">\n",
       "      <th></th>\n",
       "      <th>ts</th>\n",
       "      <th>userId</th>\n",
       "      <th>sessionId</th>\n",
       "      <th>page</th>\n",
       "      <th>auth</th>\n",
       "      <th>method</th>\n",
       "      <th>status</th>\n",
       "      <th>level</th>\n",
       "      <th>itemInSession</th>\n",
       "      <th>location</th>\n",
       "      <th>userAgent</th>\n",
       "      <th>lastName</th>\n",
       "      <th>firstName</th>\n",
       "      <th>registration</th>\n",
       "      <th>gender</th>\n",
       "      <th>artist</th>\n",
       "      <th>song</th>\n",
       "      <th>length</th>\n",
       "    </tr>\n",
       "  </thead>\n",
       "  <tbody>\n",
       "    <tr>\n",
       "      <th>3</th>\n",
       "      <td>1538352119000</td>\n",
       "      <td>179</td>\n",
       "      <td>178</td>\n",
       "      <td>Logout</td>\n",
       "      <td>Logged In</td>\n",
       "      <td>PUT</td>\n",
       "      <td>307</td>\n",
       "      <td>paid</td>\n",
       "      <td>185</td>\n",
       "      <td>Orlando-Kissimmee-Sanford, FL</td>\n",
       "      <td>\"Mozilla/5.0 (Macintosh; Intel Mac OS X 10_9_4...</td>\n",
       "      <td>Santiago</td>\n",
       "      <td>Maverick</td>\n",
       "      <td>1.535953e+12</td>\n",
       "      <td>M</td>\n",
       "      <td>NaN</td>\n",
       "      <td>NaN</td>\n",
       "      <td>NaN</td>\n",
       "    </tr>\n",
       "    <tr>\n",
       "      <th>10</th>\n",
       "      <td>1538352176000</td>\n",
       "      <td>179</td>\n",
       "      <td>178</td>\n",
       "      <td>Home</td>\n",
       "      <td>Logged In</td>\n",
       "      <td>GET</td>\n",
       "      <td>200</td>\n",
       "      <td>paid</td>\n",
       "      <td>190</td>\n",
       "      <td>Orlando-Kissimmee-Sanford, FL</td>\n",
       "      <td>\"Mozilla/5.0 (Macintosh; Intel Mac OS X 10_9_4...</td>\n",
       "      <td>Santiago</td>\n",
       "      <td>Maverick</td>\n",
       "      <td>1.535953e+12</td>\n",
       "      <td>M</td>\n",
       "      <td>NaN</td>\n",
       "      <td>NaN</td>\n",
       "      <td>NaN</td>\n",
       "    </tr>\n",
       "    <tr>\n",
       "      <th>12</th>\n",
       "      <td>1538352241000</td>\n",
       "      <td>100</td>\n",
       "      <td>497</td>\n",
       "      <td>Home</td>\n",
       "      <td>Logged In</td>\n",
       "      <td>GET</td>\n",
       "      <td>200</td>\n",
       "      <td>free</td>\n",
       "      <td>0</td>\n",
       "      <td>Dallas-Fort Worth-Arlington, TX</td>\n",
       "      <td>Mozilla/5.0 (Windows NT 6.1; WOW64; rv:30.0) G...</td>\n",
       "      <td>Larson</td>\n",
       "      <td>Colin</td>\n",
       "      <td>1.537982e+12</td>\n",
       "      <td>M</td>\n",
       "      <td>NaN</td>\n",
       "      <td>NaN</td>\n",
       "      <td>NaN</td>\n",
       "    </tr>\n",
       "    <tr>\n",
       "      <th>18</th>\n",
       "      <td>1538352336000</td>\n",
       "      <td>163</td>\n",
       "      <td>162</td>\n",
       "      <td>Downgrade</td>\n",
       "      <td>Logged In</td>\n",
       "      <td>GET</td>\n",
       "      <td>200</td>\n",
       "      <td>paid</td>\n",
       "      <td>268</td>\n",
       "      <td>Rochester, MN</td>\n",
       "      <td>\"Mozilla/5.0 (Macintosh; Intel Mac OS X 10_9_4...</td>\n",
       "      <td>Gordon</td>\n",
       "      <td>Sofia</td>\n",
       "      <td>1.533176e+12</td>\n",
       "      <td>F</td>\n",
       "      <td>NaN</td>\n",
       "      <td>NaN</td>\n",
       "      <td>NaN</td>\n",
       "    </tr>\n",
       "    <tr>\n",
       "      <th>19</th>\n",
       "      <td>1538352376000</td>\n",
       "      <td>179</td>\n",
       "      <td>178</td>\n",
       "      <td>Add to Playlist</td>\n",
       "      <td>Logged In</td>\n",
       "      <td>PUT</td>\n",
       "      <td>200</td>\n",
       "      <td>paid</td>\n",
       "      <td>192</td>\n",
       "      <td>Orlando-Kissimmee-Sanford, FL</td>\n",
       "      <td>\"Mozilla/5.0 (Macintosh; Intel Mac OS X 10_9_4...</td>\n",
       "      <td>Santiago</td>\n",
       "      <td>Maverick</td>\n",
       "      <td>1.535953e+12</td>\n",
       "      <td>M</td>\n",
       "      <td>NaN</td>\n",
       "      <td>NaN</td>\n",
       "      <td>NaN</td>\n",
       "    </tr>\n",
       "    <tr>\n",
       "      <th>...</th>\n",
       "      <td>...</td>\n",
       "      <td>...</td>\n",
       "      <td>...</td>\n",
       "      <td>...</td>\n",
       "      <td>...</td>\n",
       "      <td>...</td>\n",
       "      <td>...</td>\n",
       "      <td>...</td>\n",
       "      <td>...</td>\n",
       "      <td>...</td>\n",
       "      <td>...</td>\n",
       "      <td>...</td>\n",
       "      <td>...</td>\n",
       "      <td>...</td>\n",
       "      <td>...</td>\n",
       "      <td>...</td>\n",
       "      <td>...</td>\n",
       "      <td>...</td>\n",
       "    </tr>\n",
       "    <tr>\n",
       "      <th>543673</th>\n",
       "      <td>1543621432000</td>\n",
       "      <td>300015</td>\n",
       "      <td>981</td>\n",
       "      <td>Add to Playlist</td>\n",
       "      <td>Logged In</td>\n",
       "      <td>PUT</td>\n",
       "      <td>200</td>\n",
       "      <td>paid</td>\n",
       "      <td>104</td>\n",
       "      <td>San Antonio-New Braunfels, TX</td>\n",
       "      <td>\"Mozilla/5.0 (iPhone; CPU iPhone OS 7_1_2 like...</td>\n",
       "      <td>White</td>\n",
       "      <td>Joshua</td>\n",
       "      <td>1.528781e+12</td>\n",
       "      <td>M</td>\n",
       "      <td>NaN</td>\n",
       "      <td>NaN</td>\n",
       "      <td>NaN</td>\n",
       "    </tr>\n",
       "    <tr>\n",
       "      <th>543678</th>\n",
       "      <td>1543621542000</td>\n",
       "      <td>300010</td>\n",
       "      <td>882</td>\n",
       "      <td>Add to Playlist</td>\n",
       "      <td>Logged In</td>\n",
       "      <td>PUT</td>\n",
       "      <td>200</td>\n",
       "      <td>paid</td>\n",
       "      <td>162</td>\n",
       "      <td>Dallas-Fort Worth-Arlington, TX</td>\n",
       "      <td>\"Mozilla/5.0 (Macintosh; Intel Mac OS X 10_9_4...</td>\n",
       "      <td>Jackson</td>\n",
       "      <td>Clayton</td>\n",
       "      <td>1.536850e+12</td>\n",
       "      <td>M</td>\n",
       "      <td>NaN</td>\n",
       "      <td>NaN</td>\n",
       "      <td>NaN</td>\n",
       "    </tr>\n",
       "    <tr>\n",
       "      <th>543681</th>\n",
       "      <td>1543621640000</td>\n",
       "      <td>300022</td>\n",
       "      <td>629</td>\n",
       "      <td>Thumbs Up</td>\n",
       "      <td>Logged In</td>\n",
       "      <td>PUT</td>\n",
       "      <td>307</td>\n",
       "      <td>paid</td>\n",
       "      <td>213</td>\n",
       "      <td>London, KY</td>\n",
       "      <td>\"Mozilla/5.0 (X11; Linux x86_64) AppleWebKit/5...</td>\n",
       "      <td>Mcintosh</td>\n",
       "      <td>Antonio</td>\n",
       "      <td>1.534461e+12</td>\n",
       "      <td>M</td>\n",
       "      <td>NaN</td>\n",
       "      <td>NaN</td>\n",
       "      <td>NaN</td>\n",
       "    </tr>\n",
       "    <tr>\n",
       "      <th>543683</th>\n",
       "      <td>1543621684000</td>\n",
       "      <td>300039</td>\n",
       "      <td>916</td>\n",
       "      <td>Thumbs Up</td>\n",
       "      <td>Logged In</td>\n",
       "      <td>PUT</td>\n",
       "      <td>307</td>\n",
       "      <td>paid</td>\n",
       "      <td>28</td>\n",
       "      <td>Memphis, TN-MS-AR</td>\n",
       "      <td>\"Mozilla/5.0 (Macintosh; Intel Mac OS X 10_9_4...</td>\n",
       "      <td>Jenkins</td>\n",
       "      <td>Jeremiah</td>\n",
       "      <td>1.536229e+12</td>\n",
       "      <td>M</td>\n",
       "      <td>NaN</td>\n",
       "      <td>NaN</td>\n",
       "      <td>NaN</td>\n",
       "    </tr>\n",
       "    <tr>\n",
       "      <th>543698</th>\n",
       "      <td>1543622227000</td>\n",
       "      <td>300038</td>\n",
       "      <td>966</td>\n",
       "      <td>Home</td>\n",
       "      <td>Logged In</td>\n",
       "      <td>GET</td>\n",
       "      <td>200</td>\n",
       "      <td>paid</td>\n",
       "      <td>35</td>\n",
       "      <td>Lakeland-Winter Haven, FL</td>\n",
       "      <td>\"Mozilla/5.0 (iPhone; CPU iPhone OS 7_1_2 like...</td>\n",
       "      <td>Reed</td>\n",
       "      <td>Aiden</td>\n",
       "      <td>1.535616e+12</td>\n",
       "      <td>M</td>\n",
       "      <td>NaN</td>\n",
       "      <td>NaN</td>\n",
       "      <td>NaN</td>\n",
       "    </tr>\n",
       "  </tbody>\n",
       "</table>\n",
       "<p>95029 rows × 18 columns</p>\n",
       "</div>"
      ],
      "text/plain": [
       "                   ts  userId  sessionId             page       auth method  \\\n",
       "3       1538352119000     179        178           Logout  Logged In    PUT   \n",
       "10      1538352176000     179        178             Home  Logged In    GET   \n",
       "12      1538352241000     100        497             Home  Logged In    GET   \n",
       "18      1538352336000     163        162        Downgrade  Logged In    GET   \n",
       "19      1538352376000     179        178  Add to Playlist  Logged In    PUT   \n",
       "...               ...     ...        ...              ...        ...    ...   \n",
       "543673  1543621432000  300015        981  Add to Playlist  Logged In    PUT   \n",
       "543678  1543621542000  300010        882  Add to Playlist  Logged In    PUT   \n",
       "543681  1543621640000  300022        629        Thumbs Up  Logged In    PUT   \n",
       "543683  1543621684000  300039        916        Thumbs Up  Logged In    PUT   \n",
       "543698  1543622227000  300038        966             Home  Logged In    GET   \n",
       "\n",
       "        status level  itemInSession                         location  \\\n",
       "3          307  paid            185    Orlando-Kissimmee-Sanford, FL   \n",
       "10         200  paid            190    Orlando-Kissimmee-Sanford, FL   \n",
       "12         200  free              0  Dallas-Fort Worth-Arlington, TX   \n",
       "18         200  paid            268                    Rochester, MN   \n",
       "19         200  paid            192    Orlando-Kissimmee-Sanford, FL   \n",
       "...        ...   ...            ...                              ...   \n",
       "543673     200  paid            104    San Antonio-New Braunfels, TX   \n",
       "543678     200  paid            162  Dallas-Fort Worth-Arlington, TX   \n",
       "543681     307  paid            213                       London, KY   \n",
       "543683     307  paid             28                Memphis, TN-MS-AR   \n",
       "543698     200  paid             35        Lakeland-Winter Haven, FL   \n",
       "\n",
       "                                                userAgent  lastName firstName  \\\n",
       "3       \"Mozilla/5.0 (Macintosh; Intel Mac OS X 10_9_4...  Santiago  Maverick   \n",
       "10      \"Mozilla/5.0 (Macintosh; Intel Mac OS X 10_9_4...  Santiago  Maverick   \n",
       "12      Mozilla/5.0 (Windows NT 6.1; WOW64; rv:30.0) G...    Larson     Colin   \n",
       "18      \"Mozilla/5.0 (Macintosh; Intel Mac OS X 10_9_4...    Gordon     Sofia   \n",
       "19      \"Mozilla/5.0 (Macintosh; Intel Mac OS X 10_9_4...  Santiago  Maverick   \n",
       "...                                                   ...       ...       ...   \n",
       "543673  \"Mozilla/5.0 (iPhone; CPU iPhone OS 7_1_2 like...     White    Joshua   \n",
       "543678  \"Mozilla/5.0 (Macintosh; Intel Mac OS X 10_9_4...   Jackson   Clayton   \n",
       "543681  \"Mozilla/5.0 (X11; Linux x86_64) AppleWebKit/5...  Mcintosh   Antonio   \n",
       "543683  \"Mozilla/5.0 (Macintosh; Intel Mac OS X 10_9_4...   Jenkins  Jeremiah   \n",
       "543698  \"Mozilla/5.0 (iPhone; CPU iPhone OS 7_1_2 like...      Reed     Aiden   \n",
       "\n",
       "        registration gender artist song  length  \n",
       "3       1.535953e+12      M    NaN  NaN     NaN  \n",
       "10      1.535953e+12      M    NaN  NaN     NaN  \n",
       "12      1.537982e+12      M    NaN  NaN     NaN  \n",
       "18      1.533176e+12      F    NaN  NaN     NaN  \n",
       "19      1.535953e+12      M    NaN  NaN     NaN  \n",
       "...              ...    ...    ...  ...     ...  \n",
       "543673  1.528781e+12      M    NaN  NaN     NaN  \n",
       "543678  1.536850e+12      M    NaN  NaN     NaN  \n",
       "543681  1.534461e+12      M    NaN  NaN     NaN  \n",
       "543683  1.536229e+12      M    NaN  NaN     NaN  \n",
       "543698  1.535616e+12      M    NaN  NaN     NaN  \n",
       "\n",
       "[95029 rows x 18 columns]"
      ]
     },
     "execution_count": 12,
     "metadata": {},
     "output_type": "execute_result"
    }
   ],
   "source": [
    "# from sub df with auth = Logged In, any artist rows with NaN?\n",
    "login = df.loc[df['auth'] == 'Logged In']\n",
    "login[login['artist'].isna()]"
   ]
  },
  {
   "cell_type": "code",
   "execution_count": 13,
   "metadata": {
    "execution": {
     "iopub.execute_input": "2021-02-12T23:45:42.895010Z",
     "iopub.status.busy": "2021-02-12T23:45:42.894275Z",
     "iopub.status.idle": "2021-02-12T23:45:43.416250Z",
     "shell.execute_reply": "2021-02-12T23:45:43.416746Z"
    },
    "papermill": {
     "duration": 0.73787,
     "end_time": "2021-02-12T23:45:43.416896",
     "exception": false,
     "start_time": "2021-02-12T23:45:42.679026",
     "status": "completed"
    },
    "tags": []
   },
   "outputs": [
    {
     "data": {
      "text/plain": [
       "NextSong            432877\n",
       "Thumbs Up            23826\n",
       "Home                 19089\n",
       "Add to Playlist      12349\n",
       "Add Friend            8087\n",
       "Roll Advert           7773\n",
       "Logout                5990\n",
       "Thumbs Down           4911\n",
       "Downgrade             3811\n",
       "Settings              2964\n",
       "Help                  2644\n",
       "About                 1026\n",
       "Upgrade                968\n",
       "Save Settings          585\n",
       "Error                  503\n",
       "Submit Upgrade         287\n",
       "Submit Downgrade       117\n",
       "Cancel                  99\n",
       "Name: page, dtype: int64"
      ]
     },
     "execution_count": 13,
     "metadata": {},
     "output_type": "execute_result"
    }
   ],
   "source": [
    "#From those who are logged in, what pages are accessible to them?\n",
    "df.loc[df['auth'] == 'Logged In'].page.value_counts()"
   ]
  },
  {
   "cell_type": "code",
   "execution_count": 14,
   "metadata": {
    "execution": {
     "iopub.execute_input": "2021-02-12T23:45:43.723800Z",
     "iopub.status.busy": "2021-02-12T23:45:43.723038Z",
     "iopub.status.idle": "2021-02-12T23:45:43.750719Z",
     "shell.execute_reply": "2021-02-12T23:45:43.750199Z"
    },
    "papermill": {
     "duration": 0.237537,
     "end_time": "2021-02-12T23:45:43.750832",
     "exception": false,
     "start_time": "2021-02-12T23:45:43.513295",
     "status": "completed"
    },
    "tags": []
   },
   "outputs": [
    {
     "data": {
      "text/plain": [
       "Home     8282\n",
       "Login    6011\n",
       "About     807\n",
       "Help      492\n",
       "Error      14\n",
       "Name: page, dtype: int64"
      ]
     },
     "execution_count": 14,
     "metadata": {},
     "output_type": "execute_result"
    }
   ],
   "source": [
    "#From those who are logged out, what pages are accessible to them?\n",
    "df.loc[df['auth'] == 'Logged Out'].page.value_counts()"
   ]
  },
  {
   "cell_type": "markdown",
   "metadata": {
    "papermill": {
     "duration": 0.097229,
     "end_time": "2021-02-12T23:45:43.945508",
     "exception": false,
     "start_time": "2021-02-12T23:45:43.848279",
     "status": "completed"
    },
    "tags": []
   },
   "source": [
    "What pages are not shared between Logged in and Logged Out?\n",
    "\n",
    "'Login' is the only page not shared between Logged In and Logged Out. This makes sense."
   ]
  },
  {
   "cell_type": "code",
   "execution_count": 15,
   "metadata": {
    "execution": {
     "iopub.execute_input": "2021-02-12T23:45:44.283418Z",
     "iopub.status.busy": "2021-02-12T23:45:44.262697Z",
     "iopub.status.idle": "2021-02-12T23:45:44.298460Z",
     "shell.execute_reply": "2021-02-12T23:45:44.298915Z"
    },
    "papermill": {
     "duration": 0.255894,
     "end_time": "2021-02-12T23:45:44.299133",
     "exception": false,
     "start_time": "2021-02-12T23:45:44.043239",
     "status": "completed"
    },
    "tags": []
   },
   "outputs": [
    {
     "data": {
      "text/html": [
       "<div>\n",
       "<style scoped>\n",
       "    .dataframe tbody tr th:only-of-type {\n",
       "        vertical-align: middle;\n",
       "    }\n",
       "\n",
       "    .dataframe tbody tr th {\n",
       "        vertical-align: top;\n",
       "    }\n",
       "\n",
       "    .dataframe thead th {\n",
       "        text-align: right;\n",
       "    }\n",
       "</style>\n",
       "<table border=\"1\" class=\"dataframe\">\n",
       "  <thead>\n",
       "    <tr style=\"text-align: right;\">\n",
       "      <th></th>\n",
       "      <th>ts</th>\n",
       "      <th>userId</th>\n",
       "      <th>sessionId</th>\n",
       "      <th>page</th>\n",
       "      <th>auth</th>\n",
       "      <th>method</th>\n",
       "      <th>status</th>\n",
       "      <th>level</th>\n",
       "      <th>itemInSession</th>\n",
       "      <th>location</th>\n",
       "      <th>userAgent</th>\n",
       "      <th>lastName</th>\n",
       "      <th>firstName</th>\n",
       "      <th>registration</th>\n",
       "      <th>gender</th>\n",
       "      <th>artist</th>\n",
       "      <th>song</th>\n",
       "      <th>length</th>\n",
       "    </tr>\n",
       "  </thead>\n",
       "  <tbody>\n",
       "    <tr>\n",
       "      <th>2555</th>\n",
       "      <td>1538400616000</td>\n",
       "      <td>208</td>\n",
       "      <td>490</td>\n",
       "      <td>Cancellation Confirmation</td>\n",
       "      <td>Cancelled</td>\n",
       "      <td>GET</td>\n",
       "      <td>200</td>\n",
       "      <td>free</td>\n",
       "      <td>40</td>\n",
       "      <td>Fort Wayne, IN</td>\n",
       "      <td>Mozilla/5.0 (Windows NT 6.2; WOW64; rv:31.0) G...</td>\n",
       "      <td>Carr</td>\n",
       "      <td>Olivia</td>\n",
       "      <td>1.536758e+12</td>\n",
       "      <td>F</td>\n",
       "      <td>NaN</td>\n",
       "      <td>NaN</td>\n",
       "      <td>NaN</td>\n",
       "    </tr>\n",
       "    <tr>\n",
       "      <th>6758</th>\n",
       "      <td>1538482793000</td>\n",
       "      <td>231</td>\n",
       "      <td>471</td>\n",
       "      <td>Cancellation Confirmation</td>\n",
       "      <td>Cancelled</td>\n",
       "      <td>GET</td>\n",
       "      <td>200</td>\n",
       "      <td>paid</td>\n",
       "      <td>234</td>\n",
       "      <td>Columbus, OH</td>\n",
       "      <td>Mozilla/5.0 (Windows NT 6.1; WOW64; rv:31.0) G...</td>\n",
       "      <td>Cameron</td>\n",
       "      <td>Lillian</td>\n",
       "      <td>1.533473e+12</td>\n",
       "      <td>F</td>\n",
       "      <td>NaN</td>\n",
       "      <td>NaN</td>\n",
       "      <td>NaN</td>\n",
       "    </tr>\n",
       "    <tr>\n",
       "      <th>12652</th>\n",
       "      <td>1538539871000</td>\n",
       "      <td>236</td>\n",
       "      <td>682</td>\n",
       "      <td>Cancellation Confirmation</td>\n",
       "      <td>Cancelled</td>\n",
       "      <td>GET</td>\n",
       "      <td>200</td>\n",
       "      <td>paid</td>\n",
       "      <td>109</td>\n",
       "      <td>Grand Rapids-Wyoming, MI</td>\n",
       "      <td>\"Mozilla/5.0 (Windows NT 6.1; WOW64) AppleWebK...</td>\n",
       "      <td>Myers</td>\n",
       "      <td>Alex</td>\n",
       "      <td>1.529996e+12</td>\n",
       "      <td>M</td>\n",
       "      <td>NaN</td>\n",
       "      <td>NaN</td>\n",
       "      <td>NaN</td>\n",
       "    </tr>\n",
       "    <tr>\n",
       "      <th>16350</th>\n",
       "      <td>1538592529000</td>\n",
       "      <td>156</td>\n",
       "      <td>628</td>\n",
       "      <td>Cancellation Confirmation</td>\n",
       "      <td>Cancelled</td>\n",
       "      <td>GET</td>\n",
       "      <td>200</td>\n",
       "      <td>free</td>\n",
       "      <td>66</td>\n",
       "      <td>Bowling Green, KY</td>\n",
       "      <td>\"Mozilla/5.0 (Macintosh; Intel Mac OS X 10_9_4...</td>\n",
       "      <td>Crawford</td>\n",
       "      <td>Rafael</td>\n",
       "      <td>1.533888e+12</td>\n",
       "      <td>M</td>\n",
       "      <td>NaN</td>\n",
       "      <td>NaN</td>\n",
       "      <td>NaN</td>\n",
       "    </tr>\n",
       "    <tr>\n",
       "      <th>29338</th>\n",
       "      <td>1538770077000</td>\n",
       "      <td>271</td>\n",
       "      <td>395</td>\n",
       "      <td>Cancellation Confirmation</td>\n",
       "      <td>Cancelled</td>\n",
       "      <td>GET</td>\n",
       "      <td>200</td>\n",
       "      <td>paid</td>\n",
       "      <td>227</td>\n",
       "      <td>Roanoke, VA</td>\n",
       "      <td>\"Mozilla/5.0 (Windows NT 6.3; WOW64) AppleWebK...</td>\n",
       "      <td>Stewart</td>\n",
       "      <td>Brad</td>\n",
       "      <td>1.535619e+12</td>\n",
       "      <td>M</td>\n",
       "      <td>NaN</td>\n",
       "      <td>NaN</td>\n",
       "      <td>NaN</td>\n",
       "    </tr>\n",
       "    <tr>\n",
       "      <th>...</th>\n",
       "      <td>...</td>\n",
       "      <td>...</td>\n",
       "      <td>...</td>\n",
       "      <td>...</td>\n",
       "      <td>...</td>\n",
       "      <td>...</td>\n",
       "      <td>...</td>\n",
       "      <td>...</td>\n",
       "      <td>...</td>\n",
       "      <td>...</td>\n",
       "      <td>...</td>\n",
       "      <td>...</td>\n",
       "      <td>...</td>\n",
       "      <td>...</td>\n",
       "      <td>...</td>\n",
       "      <td>...</td>\n",
       "      <td>...</td>\n",
       "      <td>...</td>\n",
       "    </tr>\n",
       "    <tr>\n",
       "      <th>463234</th>\n",
       "      <td>1542206187000</td>\n",
       "      <td>200023</td>\n",
       "      <td>589</td>\n",
       "      <td>Cancellation Confirmation</td>\n",
       "      <td>Cancelled</td>\n",
       "      <td>GET</td>\n",
       "      <td>200</td>\n",
       "      <td>free</td>\n",
       "      <td>11</td>\n",
       "      <td>New York-Newark-Jersey City, NY-NJ-PA</td>\n",
       "      <td>\"Mozilla/5.0 (Windows NT 6.3; WOW64) AppleWebK...</td>\n",
       "      <td>Daniels</td>\n",
       "      <td>Katiana</td>\n",
       "      <td>1.537813e+12</td>\n",
       "      <td>F</td>\n",
       "      <td>NaN</td>\n",
       "      <td>NaN</td>\n",
       "      <td>NaN</td>\n",
       "    </tr>\n",
       "    <tr>\n",
       "      <th>464090</th>\n",
       "      <td>1542360575000</td>\n",
       "      <td>200039</td>\n",
       "      <td>516</td>\n",
       "      <td>Cancellation Confirmation</td>\n",
       "      <td>Cancelled</td>\n",
       "      <td>GET</td>\n",
       "      <td>200</td>\n",
       "      <td>paid</td>\n",
       "      <td>28</td>\n",
       "      <td>Salt Lake City, UT</td>\n",
       "      <td>Mozilla/5.0 (Windows NT 6.2; WOW64; rv:31.0) G...</td>\n",
       "      <td>Morris</td>\n",
       "      <td>Kaydence</td>\n",
       "      <td>1.534625e+12</td>\n",
       "      <td>F</td>\n",
       "      <td>NaN</td>\n",
       "      <td>NaN</td>\n",
       "      <td>NaN</td>\n",
       "    </tr>\n",
       "    <tr>\n",
       "      <th>465426</th>\n",
       "      <td>1542750479000</td>\n",
       "      <td>200020</td>\n",
       "      <td>625</td>\n",
       "      <td>Cancellation Confirmation</td>\n",
       "      <td>Cancelled</td>\n",
       "      <td>GET</td>\n",
       "      <td>200</td>\n",
       "      <td>paid</td>\n",
       "      <td>140</td>\n",
       "      <td>Orlando-Kissimmee-Sanford, FL</td>\n",
       "      <td>Mozilla/5.0 (Macintosh; Intel Mac OS X 10.9; r...</td>\n",
       "      <td>Rivera</td>\n",
       "      <td>Keegan</td>\n",
       "      <td>1.535907e+12</td>\n",
       "      <td>M</td>\n",
       "      <td>NaN</td>\n",
       "      <td>NaN</td>\n",
       "      <td>NaN</td>\n",
       "    </tr>\n",
       "    <tr>\n",
       "      <th>499615</th>\n",
       "      <td>1540684960000</td>\n",
       "      <td>300004</td>\n",
       "      <td>289</td>\n",
       "      <td>Cancellation Confirmation</td>\n",
       "      <td>Cancelled</td>\n",
       "      <td>GET</td>\n",
       "      <td>200</td>\n",
       "      <td>paid</td>\n",
       "      <td>35</td>\n",
       "      <td>Los Angeles-Long Beach-Anaheim, CA</td>\n",
       "      <td>\"Mozilla/5.0 (Windows NT 6.1) AppleWebKit/537....</td>\n",
       "      <td>Fischer</td>\n",
       "      <td>Peyton</td>\n",
       "      <td>1.534513e+12</td>\n",
       "      <td>F</td>\n",
       "      <td>NaN</td>\n",
       "      <td>NaN</td>\n",
       "      <td>NaN</td>\n",
       "    </tr>\n",
       "    <tr>\n",
       "      <th>499913</th>\n",
       "      <td>1540711926000</td>\n",
       "      <td>300047</td>\n",
       "      <td>258</td>\n",
       "      <td>Cancellation Confirmation</td>\n",
       "      <td>Cancelled</td>\n",
       "      <td>GET</td>\n",
       "      <td>200</td>\n",
       "      <td>paid</td>\n",
       "      <td>37</td>\n",
       "      <td>Newport, TN</td>\n",
       "      <td>Mozilla/5.0 (Windows NT 6.1; WOW64; rv:31.0) G...</td>\n",
       "      <td>Jimenez</td>\n",
       "      <td>Addison</td>\n",
       "      <td>1.534487e+12</td>\n",
       "      <td>F</td>\n",
       "      <td>NaN</td>\n",
       "      <td>NaN</td>\n",
       "      <td>NaN</td>\n",
       "    </tr>\n",
       "  </tbody>\n",
       "</table>\n",
       "<p>99 rows × 18 columns</p>\n",
       "</div>"
      ],
      "text/plain": [
       "                   ts  userId  sessionId                       page  \\\n",
       "2555    1538400616000     208        490  Cancellation Confirmation   \n",
       "6758    1538482793000     231        471  Cancellation Confirmation   \n",
       "12652   1538539871000     236        682  Cancellation Confirmation   \n",
       "16350   1538592529000     156        628  Cancellation Confirmation   \n",
       "29338   1538770077000     271        395  Cancellation Confirmation   \n",
       "...               ...     ...        ...                        ...   \n",
       "463234  1542206187000  200023        589  Cancellation Confirmation   \n",
       "464090  1542360575000  200039        516  Cancellation Confirmation   \n",
       "465426  1542750479000  200020        625  Cancellation Confirmation   \n",
       "499615  1540684960000  300004        289  Cancellation Confirmation   \n",
       "499913  1540711926000  300047        258  Cancellation Confirmation   \n",
       "\n",
       "             auth method  status level  itemInSession  \\\n",
       "2555    Cancelled    GET     200  free             40   \n",
       "6758    Cancelled    GET     200  paid            234   \n",
       "12652   Cancelled    GET     200  paid            109   \n",
       "16350   Cancelled    GET     200  free             66   \n",
       "29338   Cancelled    GET     200  paid            227   \n",
       "...           ...    ...     ...   ...            ...   \n",
       "463234  Cancelled    GET     200  free             11   \n",
       "464090  Cancelled    GET     200  paid             28   \n",
       "465426  Cancelled    GET     200  paid            140   \n",
       "499615  Cancelled    GET     200  paid             35   \n",
       "499913  Cancelled    GET     200  paid             37   \n",
       "\n",
       "                                     location  \\\n",
       "2555                           Fort Wayne, IN   \n",
       "6758                             Columbus, OH   \n",
       "12652                Grand Rapids-Wyoming, MI   \n",
       "16350                       Bowling Green, KY   \n",
       "29338                             Roanoke, VA   \n",
       "...                                       ...   \n",
       "463234  New York-Newark-Jersey City, NY-NJ-PA   \n",
       "464090                     Salt Lake City, UT   \n",
       "465426          Orlando-Kissimmee-Sanford, FL   \n",
       "499615     Los Angeles-Long Beach-Anaheim, CA   \n",
       "499913                            Newport, TN   \n",
       "\n",
       "                                                userAgent  lastName firstName  \\\n",
       "2555    Mozilla/5.0 (Windows NT 6.2; WOW64; rv:31.0) G...      Carr    Olivia   \n",
       "6758    Mozilla/5.0 (Windows NT 6.1; WOW64; rv:31.0) G...   Cameron   Lillian   \n",
       "12652   \"Mozilla/5.0 (Windows NT 6.1; WOW64) AppleWebK...     Myers      Alex   \n",
       "16350   \"Mozilla/5.0 (Macintosh; Intel Mac OS X 10_9_4...  Crawford    Rafael   \n",
       "29338   \"Mozilla/5.0 (Windows NT 6.3; WOW64) AppleWebK...   Stewart      Brad   \n",
       "...                                                   ...       ...       ...   \n",
       "463234  \"Mozilla/5.0 (Windows NT 6.3; WOW64) AppleWebK...   Daniels   Katiana   \n",
       "464090  Mozilla/5.0 (Windows NT 6.2; WOW64; rv:31.0) G...    Morris  Kaydence   \n",
       "465426  Mozilla/5.0 (Macintosh; Intel Mac OS X 10.9; r...    Rivera    Keegan   \n",
       "499615  \"Mozilla/5.0 (Windows NT 6.1) AppleWebKit/537....   Fischer    Peyton   \n",
       "499913  Mozilla/5.0 (Windows NT 6.1; WOW64; rv:31.0) G...   Jimenez   Addison   \n",
       "\n",
       "        registration gender artist song  length  \n",
       "2555    1.536758e+12      F    NaN  NaN     NaN  \n",
       "6758    1.533473e+12      F    NaN  NaN     NaN  \n",
       "12652   1.529996e+12      M    NaN  NaN     NaN  \n",
       "16350   1.533888e+12      M    NaN  NaN     NaN  \n",
       "29338   1.535619e+12      M    NaN  NaN     NaN  \n",
       "...              ...    ...    ...  ...     ...  \n",
       "463234  1.537813e+12      F    NaN  NaN     NaN  \n",
       "464090  1.534625e+12      F    NaN  NaN     NaN  \n",
       "465426  1.535907e+12      M    NaN  NaN     NaN  \n",
       "499615  1.534513e+12      F    NaN  NaN     NaN  \n",
       "499913  1.534487e+12      F    NaN  NaN     NaN  \n",
       "\n",
       "[99 rows x 18 columns]"
      ]
     },
     "execution_count": 15,
     "metadata": {},
     "output_type": "execute_result"
    }
   ],
   "source": [
    "df.loc[df['auth'] == 'Cancelled']"
   ]
  },
  {
   "cell_type": "code",
   "execution_count": 16,
   "metadata": {
    "execution": {
     "iopub.execute_input": "2021-02-12T23:45:44.609183Z",
     "iopub.status.busy": "2021-02-12T23:45:44.608450Z",
     "iopub.status.idle": "2021-02-12T23:45:44.643318Z",
     "shell.execute_reply": "2021-02-12T23:45:44.642017Z"
    },
    "papermill": {
     "duration": 0.245635,
     "end_time": "2021-02-12T23:45:44.643449",
     "exception": false,
     "start_time": "2021-02-12T23:45:44.397814",
     "status": "completed"
    },
    "tags": []
   },
   "outputs": [
    {
     "data": {
      "text/html": [
       "<div>\n",
       "<style scoped>\n",
       "    .dataframe tbody tr th:only-of-type {\n",
       "        vertical-align: middle;\n",
       "    }\n",
       "\n",
       "    .dataframe tbody tr th {\n",
       "        vertical-align: top;\n",
       "    }\n",
       "\n",
       "    .dataframe thead th {\n",
       "        text-align: right;\n",
       "    }\n",
       "</style>\n",
       "<table border=\"1\" class=\"dataframe\">\n",
       "  <thead>\n",
       "    <tr style=\"text-align: right;\">\n",
       "      <th></th>\n",
       "      <th>ts</th>\n",
       "      <th>userId</th>\n",
       "      <th>sessionId</th>\n",
       "      <th>page</th>\n",
       "      <th>auth</th>\n",
       "      <th>method</th>\n",
       "      <th>status</th>\n",
       "      <th>level</th>\n",
       "      <th>itemInSession</th>\n",
       "      <th>location</th>\n",
       "      <th>userAgent</th>\n",
       "      <th>lastName</th>\n",
       "      <th>firstName</th>\n",
       "      <th>registration</th>\n",
       "      <th>gender</th>\n",
       "      <th>artist</th>\n",
       "      <th>song</th>\n",
       "      <th>length</th>\n",
       "    </tr>\n",
       "  </thead>\n",
       "  <tbody>\n",
       "    <tr>\n",
       "      <th>30705</th>\n",
       "      <td>1538790047000</td>\n",
       "      <td></td>\n",
       "      <td>301</td>\n",
       "      <td>Home</td>\n",
       "      <td>Guest</td>\n",
       "      <td>GET</td>\n",
       "      <td>200</td>\n",
       "      <td>free</td>\n",
       "      <td>0</td>\n",
       "      <td>NaN</td>\n",
       "      <td>NaN</td>\n",
       "      <td>NaN</td>\n",
       "      <td>NaN</td>\n",
       "      <td>NaN</td>\n",
       "      <td>NaN</td>\n",
       "      <td>NaN</td>\n",
       "      <td>NaN</td>\n",
       "      <td>NaN</td>\n",
       "    </tr>\n",
       "    <tr>\n",
       "      <th>74357</th>\n",
       "      <td>1539379125000</td>\n",
       "      <td></td>\n",
       "      <td>982</td>\n",
       "      <td>Help</td>\n",
       "      <td>Guest</td>\n",
       "      <td>GET</td>\n",
       "      <td>200</td>\n",
       "      <td>free</td>\n",
       "      <td>0</td>\n",
       "      <td>NaN</td>\n",
       "      <td>NaN</td>\n",
       "      <td>NaN</td>\n",
       "      <td>NaN</td>\n",
       "      <td>NaN</td>\n",
       "      <td>NaN</td>\n",
       "      <td>NaN</td>\n",
       "      <td>NaN</td>\n",
       "      <td>NaN</td>\n",
       "    </tr>\n",
       "    <tr>\n",
       "      <th>74358</th>\n",
       "      <td>1539379130000</td>\n",
       "      <td></td>\n",
       "      <td>982</td>\n",
       "      <td>Home</td>\n",
       "      <td>Guest</td>\n",
       "      <td>GET</td>\n",
       "      <td>200</td>\n",
       "      <td>free</td>\n",
       "      <td>1</td>\n",
       "      <td>NaN</td>\n",
       "      <td>NaN</td>\n",
       "      <td>NaN</td>\n",
       "      <td>NaN</td>\n",
       "      <td>NaN</td>\n",
       "      <td>NaN</td>\n",
       "      <td>NaN</td>\n",
       "      <td>NaN</td>\n",
       "      <td>NaN</td>\n",
       "    </tr>\n",
       "    <tr>\n",
       "      <th>74360</th>\n",
       "      <td>1539379141000</td>\n",
       "      <td></td>\n",
       "      <td>982</td>\n",
       "      <td>About</td>\n",
       "      <td>Guest</td>\n",
       "      <td>GET</td>\n",
       "      <td>200</td>\n",
       "      <td>free</td>\n",
       "      <td>2</td>\n",
       "      <td>NaN</td>\n",
       "      <td>NaN</td>\n",
       "      <td>NaN</td>\n",
       "      <td>NaN</td>\n",
       "      <td>NaN</td>\n",
       "      <td>NaN</td>\n",
       "      <td>NaN</td>\n",
       "      <td>NaN</td>\n",
       "      <td>NaN</td>\n",
       "    </tr>\n",
       "    <tr>\n",
       "      <th>74361</th>\n",
       "      <td>1539379144000</td>\n",
       "      <td></td>\n",
       "      <td>982</td>\n",
       "      <td>Home</td>\n",
       "      <td>Guest</td>\n",
       "      <td>GET</td>\n",
       "      <td>200</td>\n",
       "      <td>free</td>\n",
       "      <td>3</td>\n",
       "      <td>NaN</td>\n",
       "      <td>NaN</td>\n",
       "      <td>NaN</td>\n",
       "      <td>NaN</td>\n",
       "      <td>NaN</td>\n",
       "      <td>NaN</td>\n",
       "      <td>NaN</td>\n",
       "      <td>NaN</td>\n",
       "      <td>NaN</td>\n",
       "    </tr>\n",
       "    <tr>\n",
       "      <th>...</th>\n",
       "      <td>...</td>\n",
       "      <td>...</td>\n",
       "      <td>...</td>\n",
       "      <td>...</td>\n",
       "      <td>...</td>\n",
       "      <td>...</td>\n",
       "      <td>...</td>\n",
       "      <td>...</td>\n",
       "      <td>...</td>\n",
       "      <td>...</td>\n",
       "      <td>...</td>\n",
       "      <td>...</td>\n",
       "      <td>...</td>\n",
       "      <td>...</td>\n",
       "      <td>...</td>\n",
       "      <td>...</td>\n",
       "      <td>...</td>\n",
       "      <td>...</td>\n",
       "    </tr>\n",
       "    <tr>\n",
       "      <th>504997</th>\n",
       "      <td>1541056679000</td>\n",
       "      <td></td>\n",
       "      <td>51</td>\n",
       "      <td>About</td>\n",
       "      <td>Guest</td>\n",
       "      <td>GET</td>\n",
       "      <td>200</td>\n",
       "      <td>free</td>\n",
       "      <td>5</td>\n",
       "      <td>NaN</td>\n",
       "      <td>NaN</td>\n",
       "      <td>NaN</td>\n",
       "      <td>NaN</td>\n",
       "      <td>NaN</td>\n",
       "      <td>NaN</td>\n",
       "      <td>NaN</td>\n",
       "      <td>NaN</td>\n",
       "      <td>NaN</td>\n",
       "    </tr>\n",
       "    <tr>\n",
       "      <th>504998</th>\n",
       "      <td>1541056685000</td>\n",
       "      <td></td>\n",
       "      <td>51</td>\n",
       "      <td>Home</td>\n",
       "      <td>Guest</td>\n",
       "      <td>GET</td>\n",
       "      <td>200</td>\n",
       "      <td>free</td>\n",
       "      <td>6</td>\n",
       "      <td>NaN</td>\n",
       "      <td>NaN</td>\n",
       "      <td>NaN</td>\n",
       "      <td>NaN</td>\n",
       "      <td>NaN</td>\n",
       "      <td>NaN</td>\n",
       "      <td>NaN</td>\n",
       "      <td>NaN</td>\n",
       "      <td>NaN</td>\n",
       "    </tr>\n",
       "    <tr>\n",
       "      <th>504999</th>\n",
       "      <td>1541056703000</td>\n",
       "      <td></td>\n",
       "      <td>51</td>\n",
       "      <td>Help</td>\n",
       "      <td>Guest</td>\n",
       "      <td>GET</td>\n",
       "      <td>200</td>\n",
       "      <td>free</td>\n",
       "      <td>7</td>\n",
       "      <td>NaN</td>\n",
       "      <td>NaN</td>\n",
       "      <td>NaN</td>\n",
       "      <td>NaN</td>\n",
       "      <td>NaN</td>\n",
       "      <td>NaN</td>\n",
       "      <td>NaN</td>\n",
       "      <td>NaN</td>\n",
       "      <td>NaN</td>\n",
       "    </tr>\n",
       "    <tr>\n",
       "      <th>505000</th>\n",
       "      <td>1541056710000</td>\n",
       "      <td></td>\n",
       "      <td>51</td>\n",
       "      <td>Register</td>\n",
       "      <td>Guest</td>\n",
       "      <td>GET</td>\n",
       "      <td>200</td>\n",
       "      <td>free</td>\n",
       "      <td>8</td>\n",
       "      <td>NaN</td>\n",
       "      <td>NaN</td>\n",
       "      <td>NaN</td>\n",
       "      <td>NaN</td>\n",
       "      <td>NaN</td>\n",
       "      <td>NaN</td>\n",
       "      <td>NaN</td>\n",
       "      <td>NaN</td>\n",
       "      <td>NaN</td>\n",
       "    </tr>\n",
       "    <tr>\n",
       "      <th>505001</th>\n",
       "      <td>1541056711000</td>\n",
       "      <td></td>\n",
       "      <td>51</td>\n",
       "      <td>Submit Registration</td>\n",
       "      <td>Guest</td>\n",
       "      <td>PUT</td>\n",
       "      <td>307</td>\n",
       "      <td>free</td>\n",
       "      <td>9</td>\n",
       "      <td>NaN</td>\n",
       "      <td>NaN</td>\n",
       "      <td>NaN</td>\n",
       "      <td>NaN</td>\n",
       "      <td>NaN</td>\n",
       "      <td>NaN</td>\n",
       "      <td>NaN</td>\n",
       "      <td>NaN</td>\n",
       "      <td>NaN</td>\n",
       "    </tr>\n",
       "  </tbody>\n",
       "</table>\n",
       "<p>94 rows × 18 columns</p>\n",
       "</div>"
      ],
      "text/plain": [
       "                   ts userId  sessionId                 page   auth method  \\\n",
       "30705   1538790047000               301                 Home  Guest    GET   \n",
       "74357   1539379125000               982                 Help  Guest    GET   \n",
       "74358   1539379130000               982                 Home  Guest    GET   \n",
       "74360   1539379141000               982                About  Guest    GET   \n",
       "74361   1539379144000               982                 Home  Guest    GET   \n",
       "...               ...    ...        ...                  ...    ...    ...   \n",
       "504997  1541056679000                51                About  Guest    GET   \n",
       "504998  1541056685000                51                 Home  Guest    GET   \n",
       "504999  1541056703000                51                 Help  Guest    GET   \n",
       "505000  1541056710000                51             Register  Guest    GET   \n",
       "505001  1541056711000                51  Submit Registration  Guest    PUT   \n",
       "\n",
       "        status level  itemInSession location userAgent lastName firstName  \\\n",
       "30705      200  free              0      NaN       NaN      NaN       NaN   \n",
       "74357      200  free              0      NaN       NaN      NaN       NaN   \n",
       "74358      200  free              1      NaN       NaN      NaN       NaN   \n",
       "74360      200  free              2      NaN       NaN      NaN       NaN   \n",
       "74361      200  free              3      NaN       NaN      NaN       NaN   \n",
       "...        ...   ...            ...      ...       ...      ...       ...   \n",
       "504997     200  free              5      NaN       NaN      NaN       NaN   \n",
       "504998     200  free              6      NaN       NaN      NaN       NaN   \n",
       "504999     200  free              7      NaN       NaN      NaN       NaN   \n",
       "505000     200  free              8      NaN       NaN      NaN       NaN   \n",
       "505001     307  free              9      NaN       NaN      NaN       NaN   \n",
       "\n",
       "        registration gender artist song  length  \n",
       "30705            NaN    NaN    NaN  NaN     NaN  \n",
       "74357            NaN    NaN    NaN  NaN     NaN  \n",
       "74358            NaN    NaN    NaN  NaN     NaN  \n",
       "74360            NaN    NaN    NaN  NaN     NaN  \n",
       "74361            NaN    NaN    NaN  NaN     NaN  \n",
       "...              ...    ...    ...  ...     ...  \n",
       "504997           NaN    NaN    NaN  NaN     NaN  \n",
       "504998           NaN    NaN    NaN  NaN     NaN  \n",
       "504999           NaN    NaN    NaN  NaN     NaN  \n",
       "505000           NaN    NaN    NaN  NaN     NaN  \n",
       "505001           NaN    NaN    NaN  NaN     NaN  \n",
       "\n",
       "[94 rows x 18 columns]"
      ]
     },
     "execution_count": 16,
     "metadata": {},
     "output_type": "execute_result"
    }
   ],
   "source": [
    "df.loc[df['auth'] == 'Guest']"
   ]
  },
  {
   "cell_type": "code",
   "execution_count": 17,
   "metadata": {
    "execution": {
     "iopub.execute_input": "2021-02-12T23:45:44.958856Z",
     "iopub.status.busy": "2021-02-12T23:45:44.958205Z",
     "iopub.status.idle": "2021-02-12T23:45:44.970280Z",
     "shell.execute_reply": "2021-02-12T23:45:44.969428Z"
    },
    "papermill": {
     "duration": 0.226648,
     "end_time": "2021-02-12T23:45:44.970414",
     "exception": false,
     "start_time": "2021-02-12T23:45:44.743766",
     "status": "completed"
    },
    "tags": []
   },
   "outputs": [
    {
     "data": {
      "text/plain": [
       "False    94\n",
       "Name: artist, dtype: int64"
      ]
     },
     "execution_count": 17,
     "metadata": {},
     "output_type": "execute_result"
    }
   ],
   "source": [
    "#while Guest logged in, any songs played? - No.\n",
    "guest = df.loc[df['auth'] == 'Guest']\n",
    "guest.artist.notnull().value_counts()"
   ]
  },
  {
   "cell_type": "markdown",
   "metadata": {
    "papermill": {
     "duration": 0.098728,
     "end_time": "2021-02-12T23:45:45.168724",
     "exception": false,
     "start_time": "2021-02-12T23:45:45.069996",
     "status": "completed"
    },
    "tags": []
   },
   "source": [
    "Some intital observations:\n",
    "\n",
    "* When user is logged in and playing a song, there are no missing values.\n",
    "* When a user is logged in and not playing a song, *artist, song and length* are missing (This is the same when they cancel their membership).\n",
    "* When a user is logged out, *location, userAgent, lastName, firstName, registration, gender, artist, song, length* are all missing. (This is the same when Guest is logged in)."
   ]
  },
  {
   "cell_type": "markdown",
   "metadata": {
    "papermill": {
     "duration": 0.099716,
     "end_time": "2021-02-12T23:45:45.369421",
     "exception": false,
     "start_time": "2021-02-12T23:45:45.269705",
     "status": "completed"
    },
    "tags": []
   },
   "source": [
    "Guest column will be eliminated since we are focusing on customer data to determine churn."
   ]
  },
  {
   "cell_type": "code",
   "execution_count": 18,
   "metadata": {
    "execution": {
     "iopub.execute_input": "2021-02-12T23:45:45.685043Z",
     "iopub.status.busy": "2021-02-12T23:45:45.684330Z",
     "iopub.status.idle": "2021-02-12T23:45:45.907310Z",
     "shell.execute_reply": "2021-02-12T23:45:45.906741Z"
    },
    "papermill": {
     "duration": 0.438673,
     "end_time": "2021-02-12T23:45:45.907423",
     "exception": false,
     "start_time": "2021-02-12T23:45:45.468750",
     "status": "completed"
    },
    "tags": []
   },
   "outputs": [
    {
     "data": {
      "text/plain": [
       "(543611, 18)"
      ]
     },
     "execution_count": 18,
     "metadata": {},
     "output_type": "execute_result"
    }
   ],
   "source": [
    "df = df.loc[df['auth'] != 'Guest']\n",
    "df.shape"
   ]
  },
  {
   "cell_type": "markdown",
   "metadata": {
    "papermill": {
     "duration": 0.099423,
     "end_time": "2021-02-12T23:45:46.107926",
     "exception": false,
     "start_time": "2021-02-12T23:45:46.008503",
     "status": "completed"
    },
    "tags": []
   },
   "source": [
    "Other eliminations will be for empty string rows in userId column which produce NaN's in song, etc columns. Other NaN's will be left in since other columns in the same row have important data we don't want to throw away just yet."
   ]
  },
  {
   "cell_type": "code",
   "execution_count": 19,
   "metadata": {
    "execution": {
     "iopub.execute_input": "2021-02-12T23:45:46.316346Z",
     "iopub.status.busy": "2021-02-12T23:45:46.315388Z",
     "iopub.status.idle": "2021-02-12T23:45:47.297182Z",
     "shell.execute_reply": "2021-02-12T23:45:47.296514Z"
    },
    "papermill": {
     "duration": 1.08646,
     "end_time": "2021-02-12T23:45:47.297292",
     "exception": false,
     "start_time": "2021-02-12T23:45:46.210832",
     "status": "completed"
    },
    "tags": []
   },
   "outputs": [
    {
     "data": {
      "text/plain": [
       "ts                    0\n",
       "userId                0\n",
       "sessionId             0\n",
       "page                  0\n",
       "auth                  0\n",
       "method                0\n",
       "status                0\n",
       "level                 0\n",
       "itemInSession         0\n",
       "location          15606\n",
       "userAgent         15606\n",
       "lastName          15606\n",
       "firstName         15606\n",
       "registration      15606\n",
       "gender            15606\n",
       "artist           110734\n",
       "song             110734\n",
       "length           110734\n",
       "dtype: int64"
      ]
     },
     "execution_count": 19,
     "metadata": {},
     "output_type": "execute_result"
    }
   ],
   "source": [
    "df.isnull().sum()"
   ]
  },
  {
   "cell_type": "code",
   "execution_count": 20,
   "metadata": {
    "execution": {
     "iopub.execute_input": "2021-02-12T23:45:47.504168Z",
     "iopub.status.busy": "2021-02-12T23:45:47.503215Z",
     "iopub.status.idle": "2021-02-12T23:45:48.710513Z",
     "shell.execute_reply": "2021-02-12T23:45:48.709878Z"
    },
    "papermill": {
     "duration": 1.31248,
     "end_time": "2021-02-12T23:45:48.710639",
     "exception": false,
     "start_time": "2021-02-12T23:45:47.398159",
     "status": "completed"
    },
    "tags": []
   },
   "outputs": [
    {
     "data": {
      "text/plain": [
       "ts                   0\n",
       "userId           15606\n",
       "sessionId            0\n",
       "page                 0\n",
       "auth                 0\n",
       "method               0\n",
       "status               0\n",
       "level                0\n",
       "itemInSession        0\n",
       "location             0\n",
       "userAgent            0\n",
       "lastName             0\n",
       "firstName            0\n",
       "registration         0\n",
       "gender               0\n",
       "artist               0\n",
       "song                 0\n",
       "length               0\n",
       "dtype: int64"
      ]
     },
     "execution_count": 20,
     "metadata": {},
     "output_type": "execute_result"
    }
   ],
   "source": [
    "#On top of NaN, we want to check for missing strings\n",
    "df.eq('').sum()"
   ]
  },
  {
   "cell_type": "code",
   "execution_count": 21,
   "metadata": {
    "execution": {
     "iopub.execute_input": "2021-02-12T23:45:49.025258Z",
     "iopub.status.busy": "2021-02-12T23:45:49.024535Z",
     "iopub.status.idle": "2021-02-12T23:45:49.068579Z",
     "shell.execute_reply": "2021-02-12T23:45:49.067975Z"
    },
    "papermill": {
     "duration": 0.257409,
     "end_time": "2021-02-12T23:45:49.068692",
     "exception": false,
     "start_time": "2021-02-12T23:45:48.811283",
     "status": "completed"
    },
    "tags": []
   },
   "outputs": [
    {
     "data": {
      "text/html": [
       "<div>\n",
       "<style scoped>\n",
       "    .dataframe tbody tr th:only-of-type {\n",
       "        vertical-align: middle;\n",
       "    }\n",
       "\n",
       "    .dataframe tbody tr th {\n",
       "        vertical-align: top;\n",
       "    }\n",
       "\n",
       "    .dataframe thead th {\n",
       "        text-align: right;\n",
       "    }\n",
       "</style>\n",
       "<table border=\"1\" class=\"dataframe\">\n",
       "  <thead>\n",
       "    <tr style=\"text-align: right;\">\n",
       "      <th></th>\n",
       "      <th>ts</th>\n",
       "      <th>userId</th>\n",
       "      <th>sessionId</th>\n",
       "      <th>page</th>\n",
       "      <th>auth</th>\n",
       "      <th>method</th>\n",
       "      <th>status</th>\n",
       "      <th>level</th>\n",
       "      <th>itemInSession</th>\n",
       "      <th>location</th>\n",
       "      <th>userAgent</th>\n",
       "      <th>lastName</th>\n",
       "      <th>firstName</th>\n",
       "      <th>registration</th>\n",
       "      <th>gender</th>\n",
       "      <th>artist</th>\n",
       "      <th>song</th>\n",
       "      <th>length</th>\n",
       "    </tr>\n",
       "  </thead>\n",
       "  <tbody>\n",
       "    <tr>\n",
       "      <th>6</th>\n",
       "      <td>1538352148000</td>\n",
       "      <td></td>\n",
       "      <td>178</td>\n",
       "      <td>Home</td>\n",
       "      <td>Logged Out</td>\n",
       "      <td>GET</td>\n",
       "      <td>200</td>\n",
       "      <td>paid</td>\n",
       "      <td>186</td>\n",
       "      <td>NaN</td>\n",
       "      <td>NaN</td>\n",
       "      <td>NaN</td>\n",
       "      <td>NaN</td>\n",
       "      <td>NaN</td>\n",
       "      <td>NaN</td>\n",
       "      <td>NaN</td>\n",
       "      <td>NaN</td>\n",
       "      <td>NaN</td>\n",
       "    </tr>\n",
       "    <tr>\n",
       "      <th>7</th>\n",
       "      <td>1538352151000</td>\n",
       "      <td></td>\n",
       "      <td>178</td>\n",
       "      <td>Home</td>\n",
       "      <td>Logged Out</td>\n",
       "      <td>GET</td>\n",
       "      <td>200</td>\n",
       "      <td>paid</td>\n",
       "      <td>187</td>\n",
       "      <td>NaN</td>\n",
       "      <td>NaN</td>\n",
       "      <td>NaN</td>\n",
       "      <td>NaN</td>\n",
       "      <td>NaN</td>\n",
       "      <td>NaN</td>\n",
       "      <td>NaN</td>\n",
       "      <td>NaN</td>\n",
       "      <td>NaN</td>\n",
       "    </tr>\n",
       "    <tr>\n",
       "      <th>8</th>\n",
       "      <td>1538352168000</td>\n",
       "      <td></td>\n",
       "      <td>178</td>\n",
       "      <td>Home</td>\n",
       "      <td>Logged Out</td>\n",
       "      <td>GET</td>\n",
       "      <td>200</td>\n",
       "      <td>paid</td>\n",
       "      <td>188</td>\n",
       "      <td>NaN</td>\n",
       "      <td>NaN</td>\n",
       "      <td>NaN</td>\n",
       "      <td>NaN</td>\n",
       "      <td>NaN</td>\n",
       "      <td>NaN</td>\n",
       "      <td>NaN</td>\n",
       "      <td>NaN</td>\n",
       "      <td>NaN</td>\n",
       "    </tr>\n",
       "    <tr>\n",
       "      <th>9</th>\n",
       "      <td>1538352169000</td>\n",
       "      <td></td>\n",
       "      <td>178</td>\n",
       "      <td>Login</td>\n",
       "      <td>Logged Out</td>\n",
       "      <td>PUT</td>\n",
       "      <td>307</td>\n",
       "      <td>paid</td>\n",
       "      <td>189</td>\n",
       "      <td>NaN</td>\n",
       "      <td>NaN</td>\n",
       "      <td>NaN</td>\n",
       "      <td>NaN</td>\n",
       "      <td>NaN</td>\n",
       "      <td>NaN</td>\n",
       "      <td>NaN</td>\n",
       "      <td>NaN</td>\n",
       "      <td>NaN</td>\n",
       "    </tr>\n",
       "    <tr>\n",
       "      <th>70</th>\n",
       "      <td>1538353292000</td>\n",
       "      <td></td>\n",
       "      <td>442</td>\n",
       "      <td>Home</td>\n",
       "      <td>Logged Out</td>\n",
       "      <td>GET</td>\n",
       "      <td>200</td>\n",
       "      <td>free</td>\n",
       "      <td>114</td>\n",
       "      <td>NaN</td>\n",
       "      <td>NaN</td>\n",
       "      <td>NaN</td>\n",
       "      <td>NaN</td>\n",
       "      <td>NaN</td>\n",
       "      <td>NaN</td>\n",
       "      <td>NaN</td>\n",
       "      <td>NaN</td>\n",
       "      <td>NaN</td>\n",
       "    </tr>\n",
       "    <tr>\n",
       "      <th>...</th>\n",
       "      <td>...</td>\n",
       "      <td>...</td>\n",
       "      <td>...</td>\n",
       "      <td>...</td>\n",
       "      <td>...</td>\n",
       "      <td>...</td>\n",
       "      <td>...</td>\n",
       "      <td>...</td>\n",
       "      <td>...</td>\n",
       "      <td>...</td>\n",
       "      <td>...</td>\n",
       "      <td>...</td>\n",
       "      <td>...</td>\n",
       "      <td>...</td>\n",
       "      <td>...</td>\n",
       "      <td>...</td>\n",
       "      <td>...</td>\n",
       "      <td>...</td>\n",
       "    </tr>\n",
       "    <tr>\n",
       "      <th>543561</th>\n",
       "      <td>1543617570000</td>\n",
       "      <td></td>\n",
       "      <td>629</td>\n",
       "      <td>Login</td>\n",
       "      <td>Logged Out</td>\n",
       "      <td>PUT</td>\n",
       "      <td>307</td>\n",
       "      <td>paid</td>\n",
       "      <td>191</td>\n",
       "      <td>NaN</td>\n",
       "      <td>NaN</td>\n",
       "      <td>NaN</td>\n",
       "      <td>NaN</td>\n",
       "      <td>NaN</td>\n",
       "      <td>NaN</td>\n",
       "      <td>NaN</td>\n",
       "      <td>NaN</td>\n",
       "      <td>NaN</td>\n",
       "    </tr>\n",
       "    <tr>\n",
       "      <th>543625</th>\n",
       "      <td>1543619604000</td>\n",
       "      <td></td>\n",
       "      <td>981</td>\n",
       "      <td>Home</td>\n",
       "      <td>Logged Out</td>\n",
       "      <td>GET</td>\n",
       "      <td>200</td>\n",
       "      <td>paid</td>\n",
       "      <td>97</td>\n",
       "      <td>NaN</td>\n",
       "      <td>NaN</td>\n",
       "      <td>NaN</td>\n",
       "      <td>NaN</td>\n",
       "      <td>NaN</td>\n",
       "      <td>NaN</td>\n",
       "      <td>NaN</td>\n",
       "      <td>NaN</td>\n",
       "      <td>NaN</td>\n",
       "    </tr>\n",
       "    <tr>\n",
       "      <th>543626</th>\n",
       "      <td>1543619605000</td>\n",
       "      <td></td>\n",
       "      <td>981</td>\n",
       "      <td>Login</td>\n",
       "      <td>Logged Out</td>\n",
       "      <td>PUT</td>\n",
       "      <td>307</td>\n",
       "      <td>paid</td>\n",
       "      <td>98</td>\n",
       "      <td>NaN</td>\n",
       "      <td>NaN</td>\n",
       "      <td>NaN</td>\n",
       "      <td>NaN</td>\n",
       "      <td>NaN</td>\n",
       "      <td>NaN</td>\n",
       "      <td>NaN</td>\n",
       "      <td>NaN</td>\n",
       "      <td>NaN</td>\n",
       "    </tr>\n",
       "    <tr>\n",
       "      <th>543655</th>\n",
       "      <td>1543620697000</td>\n",
       "      <td></td>\n",
       "      <td>991</td>\n",
       "      <td>Home</td>\n",
       "      <td>Logged Out</td>\n",
       "      <td>GET</td>\n",
       "      <td>200</td>\n",
       "      <td>paid</td>\n",
       "      <td>135</td>\n",
       "      <td>NaN</td>\n",
       "      <td>NaN</td>\n",
       "      <td>NaN</td>\n",
       "      <td>NaN</td>\n",
       "      <td>NaN</td>\n",
       "      <td>NaN</td>\n",
       "      <td>NaN</td>\n",
       "      <td>NaN</td>\n",
       "      <td>NaN</td>\n",
       "    </tr>\n",
       "    <tr>\n",
       "      <th>543656</th>\n",
       "      <td>1543620698000</td>\n",
       "      <td></td>\n",
       "      <td>991</td>\n",
       "      <td>Login</td>\n",
       "      <td>Logged Out</td>\n",
       "      <td>PUT</td>\n",
       "      <td>307</td>\n",
       "      <td>paid</td>\n",
       "      <td>136</td>\n",
       "      <td>NaN</td>\n",
       "      <td>NaN</td>\n",
       "      <td>NaN</td>\n",
       "      <td>NaN</td>\n",
       "      <td>NaN</td>\n",
       "      <td>NaN</td>\n",
       "      <td>NaN</td>\n",
       "      <td>NaN</td>\n",
       "      <td>NaN</td>\n",
       "    </tr>\n",
       "  </tbody>\n",
       "</table>\n",
       "<p>15606 rows × 18 columns</p>\n",
       "</div>"
      ],
      "text/plain": [
       "                   ts userId  sessionId   page        auth method  status  \\\n",
       "6       1538352148000               178   Home  Logged Out    GET     200   \n",
       "7       1538352151000               178   Home  Logged Out    GET     200   \n",
       "8       1538352168000               178   Home  Logged Out    GET     200   \n",
       "9       1538352169000               178  Login  Logged Out    PUT     307   \n",
       "70      1538353292000               442   Home  Logged Out    GET     200   \n",
       "...               ...    ...        ...    ...         ...    ...     ...   \n",
       "543561  1543617570000               629  Login  Logged Out    PUT     307   \n",
       "543625  1543619604000               981   Home  Logged Out    GET     200   \n",
       "543626  1543619605000               981  Login  Logged Out    PUT     307   \n",
       "543655  1543620697000               991   Home  Logged Out    GET     200   \n",
       "543656  1543620698000               991  Login  Logged Out    PUT     307   \n",
       "\n",
       "       level  itemInSession location userAgent lastName firstName  \\\n",
       "6       paid            186      NaN       NaN      NaN       NaN   \n",
       "7       paid            187      NaN       NaN      NaN       NaN   \n",
       "8       paid            188      NaN       NaN      NaN       NaN   \n",
       "9       paid            189      NaN       NaN      NaN       NaN   \n",
       "70      free            114      NaN       NaN      NaN       NaN   \n",
       "...      ...            ...      ...       ...      ...       ...   \n",
       "543561  paid            191      NaN       NaN      NaN       NaN   \n",
       "543625  paid             97      NaN       NaN      NaN       NaN   \n",
       "543626  paid             98      NaN       NaN      NaN       NaN   \n",
       "543655  paid            135      NaN       NaN      NaN       NaN   \n",
       "543656  paid            136      NaN       NaN      NaN       NaN   \n",
       "\n",
       "        registration gender artist song  length  \n",
       "6                NaN    NaN    NaN  NaN     NaN  \n",
       "7                NaN    NaN    NaN  NaN     NaN  \n",
       "8                NaN    NaN    NaN  NaN     NaN  \n",
       "9                NaN    NaN    NaN  NaN     NaN  \n",
       "70               NaN    NaN    NaN  NaN     NaN  \n",
       "...              ...    ...    ...  ...     ...  \n",
       "543561           NaN    NaN    NaN  NaN     NaN  \n",
       "543625           NaN    NaN    NaN  NaN     NaN  \n",
       "543626           NaN    NaN    NaN  NaN     NaN  \n",
       "543655           NaN    NaN    NaN  NaN     NaN  \n",
       "543656           NaN    NaN    NaN  NaN     NaN  \n",
       "\n",
       "[15606 rows x 18 columns]"
      ]
     },
     "execution_count": 21,
     "metadata": {},
     "output_type": "execute_result"
    }
   ],
   "source": [
    "df.loc[df['userId'] == '']"
   ]
  },
  {
   "cell_type": "code",
   "execution_count": 22,
   "metadata": {
    "execution": {
     "iopub.execute_input": "2021-02-12T23:45:49.384351Z",
     "iopub.status.busy": "2021-02-12T23:45:49.383629Z",
     "iopub.status.idle": "2021-02-12T23:45:49.403877Z",
     "shell.execute_reply": "2021-02-12T23:45:49.403337Z"
    },
    "papermill": {
     "duration": 0.233348,
     "end_time": "2021-02-12T23:45:49.403982",
     "exception": false,
     "start_time": "2021-02-12T23:45:49.170634",
     "status": "completed"
    },
    "tags": []
   },
   "outputs": [
    {
     "data": {
      "text/plain": [
       "False    15606\n",
       "Name: artist, dtype: int64"
      ]
     },
     "execution_count": 22,
     "metadata": {},
     "output_type": "execute_result"
    }
   ],
   "source": [
    "blank_userid=df.loc[df['userId'] == '']\n",
    "blank_userid.artist.notnull().value_counts() #all NaN"
   ]
  },
  {
   "cell_type": "code",
   "execution_count": 23,
   "metadata": {
    "execution": {
     "iopub.execute_input": "2021-02-12T23:45:49.615683Z",
     "iopub.status.busy": "2021-02-12T23:45:49.614959Z",
     "iopub.status.idle": "2021-02-12T23:45:49.619899Z",
     "shell.execute_reply": "2021-02-12T23:45:49.619237Z"
    },
    "papermill": {
     "duration": 0.112173,
     "end_time": "2021-02-12T23:45:49.620022",
     "exception": false,
     "start_time": "2021-02-12T23:45:49.507849",
     "status": "completed"
    },
    "tags": []
   },
   "outputs": [
    {
     "data": {
      "text/plain": [
       "(543611, 18)"
      ]
     },
     "execution_count": 23,
     "metadata": {},
     "output_type": "execute_result"
    }
   ],
   "source": [
    "#Reminder:\n",
    "df.shape"
   ]
  },
  {
   "cell_type": "code",
   "execution_count": 24,
   "metadata": {
    "execution": {
     "iopub.execute_input": "2021-02-12T23:45:49.878788Z",
     "iopub.status.busy": "2021-02-12T23:45:49.877767Z",
     "iopub.status.idle": "2021-02-12T23:45:50.325552Z",
     "shell.execute_reply": "2021-02-12T23:45:50.324937Z"
    },
    "papermill": {
     "duration": 0.600344,
     "end_time": "2021-02-12T23:45:50.325677",
     "exception": false,
     "start_time": "2021-02-12T23:45:49.725333",
     "status": "completed"
    },
    "tags": []
   },
   "outputs": [],
   "source": [
    "#Drop UserId rows with empty strings\n",
    "df['userId'].replace('', np.nan, inplace=True)\n",
    "df.dropna(subset=['userId'], inplace=True)"
   ]
  },
  {
   "cell_type": "code",
   "execution_count": 25,
   "metadata": {
    "execution": {
     "iopub.execute_input": "2021-02-12T23:45:50.553915Z",
     "iopub.status.busy": "2021-02-12T23:45:50.553012Z",
     "iopub.status.idle": "2021-02-12T23:45:50.557223Z",
     "shell.execute_reply": "2021-02-12T23:45:50.557728Z"
    },
    "papermill": {
     "duration": 0.127965,
     "end_time": "2021-02-12T23:45:50.557863",
     "exception": false,
     "start_time": "2021-02-12T23:45:50.429898",
     "status": "completed"
    },
    "tags": []
   },
   "outputs": [
    {
     "data": {
      "text/html": [
       "<div>\n",
       "<style scoped>\n",
       "    .dataframe tbody tr th:only-of-type {\n",
       "        vertical-align: middle;\n",
       "    }\n",
       "\n",
       "    .dataframe tbody tr th {\n",
       "        vertical-align: top;\n",
       "    }\n",
       "\n",
       "    .dataframe thead th {\n",
       "        text-align: right;\n",
       "    }\n",
       "</style>\n",
       "<table border=\"1\" class=\"dataframe\">\n",
       "  <thead>\n",
       "    <tr style=\"text-align: right;\">\n",
       "      <th></th>\n",
       "      <th>ts</th>\n",
       "      <th>userId</th>\n",
       "      <th>sessionId</th>\n",
       "      <th>page</th>\n",
       "      <th>auth</th>\n",
       "      <th>method</th>\n",
       "      <th>status</th>\n",
       "      <th>level</th>\n",
       "      <th>itemInSession</th>\n",
       "      <th>location</th>\n",
       "      <th>userAgent</th>\n",
       "      <th>lastName</th>\n",
       "      <th>firstName</th>\n",
       "      <th>registration</th>\n",
       "      <th>gender</th>\n",
       "      <th>artist</th>\n",
       "      <th>song</th>\n",
       "      <th>length</th>\n",
       "    </tr>\n",
       "  </thead>\n",
       "  <tbody>\n",
       "    <tr>\n",
       "      <th>0</th>\n",
       "      <td>1538352011000</td>\n",
       "      <td>293</td>\n",
       "      <td>292</td>\n",
       "      <td>NextSong</td>\n",
       "      <td>Logged In</td>\n",
       "      <td>PUT</td>\n",
       "      <td>200</td>\n",
       "      <td>free</td>\n",
       "      <td>20</td>\n",
       "      <td>Corpus Christi, TX</td>\n",
       "      <td>\"Mozilla/5.0 (Macintosh; Intel Mac OS X 10_9_4...</td>\n",
       "      <td>Morales</td>\n",
       "      <td>Joseph</td>\n",
       "      <td>1.532064e+12</td>\n",
       "      <td>M</td>\n",
       "      <td>Martin Orford</td>\n",
       "      <td>Grand Designs</td>\n",
       "      <td>597.55057</td>\n",
       "    </tr>\n",
       "    <tr>\n",
       "      <th>1</th>\n",
       "      <td>1538352025000</td>\n",
       "      <td>98</td>\n",
       "      <td>97</td>\n",
       "      <td>NextSong</td>\n",
       "      <td>Logged In</td>\n",
       "      <td>PUT</td>\n",
       "      <td>200</td>\n",
       "      <td>free</td>\n",
       "      <td>74</td>\n",
       "      <td>Houston-The Woodlands-Sugar Land, TX</td>\n",
       "      <td>\"Mozilla/5.0 (Macintosh; Intel Mac OS X 10_9_4...</td>\n",
       "      <td>Larson</td>\n",
       "      <td>Sawyer</td>\n",
       "      <td>1.538070e+12</td>\n",
       "      <td>M</td>\n",
       "      <td>John Brown's Body</td>\n",
       "      <td>Bulls</td>\n",
       "      <td>380.21179</td>\n",
       "    </tr>\n",
       "    <tr>\n",
       "      <th>2</th>\n",
       "      <td>1538352118000</td>\n",
       "      <td>179</td>\n",
       "      <td>178</td>\n",
       "      <td>NextSong</td>\n",
       "      <td>Logged In</td>\n",
       "      <td>PUT</td>\n",
       "      <td>200</td>\n",
       "      <td>paid</td>\n",
       "      <td>184</td>\n",
       "      <td>Orlando-Kissimmee-Sanford, FL</td>\n",
       "      <td>\"Mozilla/5.0 (Macintosh; Intel Mac OS X 10_9_4...</td>\n",
       "      <td>Santiago</td>\n",
       "      <td>Maverick</td>\n",
       "      <td>1.535953e+12</td>\n",
       "      <td>M</td>\n",
       "      <td>Afroman</td>\n",
       "      <td>Because I Got High</td>\n",
       "      <td>202.37016</td>\n",
       "    </tr>\n",
       "  </tbody>\n",
       "</table>\n",
       "</div>"
      ],
      "text/plain": [
       "              ts userId  sessionId      page       auth method  status level  \\\n",
       "0  1538352011000    293        292  NextSong  Logged In    PUT     200  free   \n",
       "1  1538352025000     98         97  NextSong  Logged In    PUT     200  free   \n",
       "2  1538352118000    179        178  NextSong  Logged In    PUT     200  paid   \n",
       "\n",
       "   itemInSession                              location  \\\n",
       "0             20                    Corpus Christi, TX   \n",
       "1             74  Houston-The Woodlands-Sugar Land, TX   \n",
       "2            184         Orlando-Kissimmee-Sanford, FL   \n",
       "\n",
       "                                           userAgent  lastName firstName  \\\n",
       "0  \"Mozilla/5.0 (Macintosh; Intel Mac OS X 10_9_4...   Morales    Joseph   \n",
       "1  \"Mozilla/5.0 (Macintosh; Intel Mac OS X 10_9_4...    Larson    Sawyer   \n",
       "2  \"Mozilla/5.0 (Macintosh; Intel Mac OS X 10_9_4...  Santiago  Maverick   \n",
       "\n",
       "   registration gender             artist                song     length  \n",
       "0  1.532064e+12      M      Martin Orford       Grand Designs  597.55057  \n",
       "1  1.538070e+12      M  John Brown's Body               Bulls  380.21179  \n",
       "2  1.535953e+12      M            Afroman  Because I Got High  202.37016  "
      ]
     },
     "execution_count": 25,
     "metadata": {},
     "output_type": "execute_result"
    }
   ],
   "source": [
    "df.head(3)"
   ]
  },
  {
   "cell_type": "code",
   "execution_count": 26,
   "metadata": {
    "execution": {
     "iopub.execute_input": "2021-02-12T23:45:50.774662Z",
     "iopub.status.busy": "2021-02-12T23:45:50.773907Z",
     "iopub.status.idle": "2021-02-12T23:45:50.779287Z",
     "shell.execute_reply": "2021-02-12T23:45:50.778771Z"
    },
    "papermill": {
     "duration": 0.114242,
     "end_time": "2021-02-12T23:45:50.779399",
     "exception": false,
     "start_time": "2021-02-12T23:45:50.665157",
     "status": "completed"
    },
    "tags": []
   },
   "outputs": [
    {
     "data": {
      "text/plain": [
       "(528005, 18)"
      ]
     },
     "execution_count": 26,
     "metadata": {},
     "output_type": "execute_result"
    }
   ],
   "source": [
    "df.shape"
   ]
  },
  {
   "cell_type": "code",
   "execution_count": 27,
   "metadata": {
    "execution": {
     "iopub.execute_input": "2021-02-12T23:45:50.993810Z",
     "iopub.status.busy": "2021-02-12T23:45:50.993163Z",
     "iopub.status.idle": "2021-02-12T23:45:50.996162Z",
     "shell.execute_reply": "2021-02-12T23:45:50.996663Z"
    },
    "papermill": {
     "duration": 0.11394,
     "end_time": "2021-02-12T23:45:50.996796",
     "exception": false,
     "start_time": "2021-02-12T23:45:50.882856",
     "status": "completed"
    },
    "tags": []
   },
   "outputs": [
    {
     "data": {
      "text/plain": [
       "0.028708028351155514"
      ]
     },
     "execution_count": 27,
     "metadata": {},
     "output_type": "execute_result"
    }
   ],
   "source": [
    "(543611-528005)/543611 #Reduction (Small)"
   ]
  },
  {
   "cell_type": "code",
   "execution_count": 28,
   "metadata": {
    "execution": {
     "iopub.execute_input": "2021-02-12T23:45:51.209770Z",
     "iopub.status.busy": "2021-02-12T23:45:51.209140Z",
     "iopub.status.idle": "2021-02-12T23:45:51.327395Z",
     "shell.execute_reply": "2021-02-12T23:45:51.326562Z"
    },
    "papermill": {
     "duration": 0.226645,
     "end_time": "2021-02-12T23:45:51.327526",
     "exception": false,
     "start_time": "2021-02-12T23:45:51.100881",
     "status": "completed"
    },
    "tags": []
   },
   "outputs": [
    {
     "data": {
      "text/html": [
       "<div>\n",
       "<style scoped>\n",
       "    .dataframe tbody tr th:only-of-type {\n",
       "        vertical-align: middle;\n",
       "    }\n",
       "\n",
       "    .dataframe tbody tr th {\n",
       "        vertical-align: top;\n",
       "    }\n",
       "\n",
       "    .dataframe thead th {\n",
       "        text-align: right;\n",
       "    }\n",
       "</style>\n",
       "<table border=\"1\" class=\"dataframe\">\n",
       "  <thead>\n",
       "    <tr style=\"text-align: right;\">\n",
       "      <th></th>\n",
       "      <th>ts</th>\n",
       "      <th>userId</th>\n",
       "      <th>sessionId</th>\n",
       "      <th>page</th>\n",
       "      <th>auth</th>\n",
       "      <th>method</th>\n",
       "      <th>status</th>\n",
       "      <th>level</th>\n",
       "      <th>itemInSession</th>\n",
       "      <th>location</th>\n",
       "      <th>userAgent</th>\n",
       "      <th>lastName</th>\n",
       "      <th>firstName</th>\n",
       "      <th>registration</th>\n",
       "      <th>gender</th>\n",
       "      <th>artist</th>\n",
       "      <th>song</th>\n",
       "      <th>length</th>\n",
       "    </tr>\n",
       "  </thead>\n",
       "  <tbody>\n",
       "  </tbody>\n",
       "</table>\n",
       "</div>"
      ],
      "text/plain": [
       "Empty DataFrame\n",
       "Columns: [ts, userId, sessionId, page, auth, method, status, level, itemInSession, location, userAgent, lastName, firstName, registration, gender, artist, song, length]\n",
       "Index: []"
      ]
     },
     "execution_count": 28,
     "metadata": {},
     "output_type": "execute_result"
    }
   ],
   "source": [
    "#What sort of information is releveant to churn when auth = 'Logged Out'\n",
    "df.loc[df['auth'] == 'Logged Out']"
   ]
  },
  {
   "cell_type": "markdown",
   "metadata": {
    "papermill": {
     "duration": 0.104775,
     "end_time": "2021-02-12T23:45:51.538747",
     "exception": false,
     "start_time": "2021-02-12T23:45:51.433972",
     "status": "completed"
    },
    "tags": []
   },
   "source": [
    "Awesome! As soon as empty strings in userId were eliminated, so were all Logged Out entries."
   ]
  },
  {
   "cell_type": "code",
   "execution_count": 29,
   "metadata": {
    "execution": {
     "iopub.execute_input": "2021-02-12T23:45:51.949593Z",
     "iopub.status.busy": "2021-02-12T23:45:51.948802Z",
     "iopub.status.idle": "2021-02-12T23:45:51.958127Z",
     "shell.execute_reply": "2021-02-12T23:45:51.957576Z"
    },
    "papermill": {
     "duration": 0.312787,
     "end_time": "2021-02-12T23:45:51.958238",
     "exception": false,
     "start_time": "2021-02-12T23:45:51.645451",
     "status": "completed"
    },
    "tags": []
   },
   "outputs": [
    {
     "data": {
      "text/plain": [
       "Logged In    527906\n",
       "Cancelled        99\n",
       "Name: auth, dtype: int64"
      ]
     },
     "execution_count": 29,
     "metadata": {},
     "output_type": "execute_result"
    }
   ],
   "source": [
    "df.auth.value_counts()"
   ]
  },
  {
   "cell_type": "markdown",
   "metadata": {
    "papermill": {
     "duration": 0.105609,
     "end_time": "2021-02-12T23:45:52.169293",
     "exception": false,
     "start_time": "2021-02-12T23:45:52.063684",
     "status": "completed"
    },
    "tags": []
   },
   "source": [
    "So all we have left is Logged In and Cancelled which represent non-churn and churnned customers."
   ]
  },
  {
   "cell_type": "markdown",
   "metadata": {
    "papermill": {
     "duration": 0.107656,
     "end_time": "2021-02-12T23:45:52.382445",
     "exception": false,
     "start_time": "2021-02-12T23:45:52.274789",
     "status": "completed"
    },
    "tags": []
   },
   "source": [
    "# Exploratory Data Analysis (EDA)"
   ]
  },
  {
   "cell_type": "markdown",
   "metadata": {
    "papermill": {
     "duration": 0.106954,
     "end_time": "2021-02-12T23:45:52.595301",
     "exception": false,
     "start_time": "2021-02-12T23:45:52.488347",
     "status": "completed"
    },
    "tags": []
   },
   "source": [
    "The goal here is to first make our target column/feature 'churn'. And given this, we can then go into exploring any correlations with churn. For example, we can see if there is any dip in songs played for those who churn. So let's get started!"
   ]
  },
  {
   "cell_type": "markdown",
   "metadata": {
    "papermill": {
     "duration": 0.105045,
     "end_time": "2021-02-12T23:45:52.805889",
     "exception": false,
     "start_time": "2021-02-12T23:45:52.700844",
     "status": "completed"
    },
    "tags": []
   },
   "source": [
    "## Target Value Column"
   ]
  },
  {
   "cell_type": "markdown",
   "metadata": {
    "papermill": {
     "duration": 0.106841,
     "end_time": "2021-02-12T23:45:53.018877",
     "exception": false,
     "start_time": "2021-02-12T23:45:52.912036",
     "status": "completed"
    },
    "tags": []
   },
   "source": [
    "Reminder: The company wishes to predict which customers are likely to churn by cancelling their account.\n",
    "\n",
    "Defining churn as df.page = 'Cancellation Confirmation' or 'Cancel'"
   ]
  },
  {
   "cell_type": "code",
   "execution_count": 30,
   "metadata": {
    "execution": {
     "iopub.execute_input": "2021-02-12T23:45:53.283618Z",
     "iopub.status.busy": "2021-02-12T23:45:53.237976Z",
     "iopub.status.idle": "2021-02-12T23:46:03.982691Z",
     "shell.execute_reply": "2021-02-12T23:46:03.982111Z"
    },
    "papermill": {
     "duration": 10.857428,
     "end_time": "2021-02-12T23:46:03.982816",
     "exception": false,
     "start_time": "2021-02-12T23:45:53.125388",
     "status": "completed"
    },
    "tags": []
   },
   "outputs": [],
   "source": [
    "def churn(row):\n",
    "    if (row['page'] == 'Cancellation Confirmation')| (row['page'] == 'Cancel'):\n",
    "        return 1\n",
    "    else:\n",
    "        return 0\n",
    "\n",
    "df['churn'] = df.apply(churn, axis=1)"
   ]
  },
  {
   "cell_type": "code",
   "execution_count": 31,
   "metadata": {
    "execution": {
     "iopub.execute_input": "2021-02-12T23:46:04.199022Z",
     "iopub.status.busy": "2021-02-12T23:46:04.198410Z",
     "iopub.status.idle": "2021-02-12T23:46:04.207717Z",
     "shell.execute_reply": "2021-02-12T23:46:04.208317Z"
    },
    "papermill": {
     "duration": 0.120129,
     "end_time": "2021-02-12T23:46:04.208457",
     "exception": false,
     "start_time": "2021-02-12T23:46:04.088328",
     "status": "completed"
    },
    "tags": []
   },
   "outputs": [
    {
     "data": {
      "text/plain": [
       "0    527807\n",
       "1       198\n",
       "Name: churn, dtype: int64"
      ]
     },
     "execution_count": 31,
     "metadata": {},
     "output_type": "execute_result"
    }
   ],
   "source": [
    "df.churn.value_counts() #huge class imbalance though reminder that there are many userId duplicates"
   ]
  },
  {
   "cell_type": "code",
   "execution_count": 32,
   "metadata": {
    "execution": {
     "iopub.execute_input": "2021-02-12T23:46:04.425331Z",
     "iopub.status.busy": "2021-02-12T23:46:04.424661Z",
     "iopub.status.idle": "2021-02-12T23:46:04.549714Z",
     "shell.execute_reply": "2021-02-12T23:46:04.550339Z"
    },
    "papermill": {
     "duration": 0.236083,
     "end_time": "2021-02-12T23:46:04.550483",
     "exception": false,
     "start_time": "2021-02-12T23:46:04.314400",
     "status": "completed"
    },
    "tags": []
   },
   "outputs": [
    {
     "data": {
      "text/plain": [
       "448"
      ]
     },
     "execution_count": 32,
     "metadata": {},
     "output_type": "execute_result"
    }
   ],
   "source": [
    "df.userId.nunique()"
   ]
  },
  {
   "cell_type": "code",
   "execution_count": 33,
   "metadata": {
    "execution": {
     "iopub.execute_input": "2021-02-12T23:46:04.766734Z",
     "iopub.status.busy": "2021-02-12T23:46:04.766014Z",
     "iopub.status.idle": "2021-02-12T23:46:04.898253Z",
     "shell.execute_reply": "2021-02-12T23:46:04.897693Z"
    },
    "papermill": {
     "duration": 0.241324,
     "end_time": "2021-02-12T23:46:04.898369",
     "exception": false,
     "start_time": "2021-02-12T23:46:04.657045",
     "status": "completed"
    },
    "tags": []
   },
   "outputs": [
    {
     "data": {
      "text/plain": [
       "44.19642857142857"
      ]
     },
     "execution_count": 33,
     "metadata": {},
     "output_type": "execute_result"
    }
   ],
   "source": [
    "#Churn percentage = (churn # / unique users)*100\n",
    "(df.churn.value_counts().values[1]/df.userId.nunique())*100"
   ]
  },
  {
   "cell_type": "markdown",
   "metadata": {
    "papermill": {
     "duration": 0.107262,
     "end_time": "2021-02-12T23:46:05.113731",
     "exception": false,
     "start_time": "2021-02-12T23:46:05.006469",
     "status": "completed"
    },
    "tags": []
   },
   "source": [
    "## Churn Metrics"
   ]
  },
  {
   "cell_type": "markdown",
   "metadata": {
    "papermill": {
     "duration": 0.107044,
     "end_time": "2021-02-12T23:46:05.328586",
     "exception": false,
     "start_time": "2021-02-12T23:46:05.221542",
     "status": "completed"
    },
    "tags": []
   },
   "source": [
    "### Average number of song plays per unique user for those who churned and did not churn"
   ]
  },
  {
   "cell_type": "code",
   "execution_count": 34,
   "metadata": {
    "execution": {
     "iopub.execute_input": "2021-02-12T23:46:05.549425Z",
     "iopub.status.busy": "2021-02-12T23:46:05.548742Z",
     "iopub.status.idle": "2021-02-12T23:46:05.572884Z",
     "shell.execute_reply": "2021-02-12T23:46:05.572234Z"
    },
    "papermill": {
     "duration": 0.136024,
     "end_time": "2021-02-12T23:46:05.573006",
     "exception": false,
     "start_time": "2021-02-12T23:46:05.436982",
     "status": "completed"
    },
    "tags": []
   },
   "outputs": [
    {
     "data": {
      "text/plain": [
       "2554         208\n",
       "2555         208\n",
       "6757         231\n",
       "6758         231\n",
       "12641        236\n",
       "           ...  \n",
       "465426    200020\n",
       "499613    300004\n",
       "499615    300004\n",
       "499910    300047\n",
       "499913    300047\n",
       "Name: userId, Length: 198, dtype: object"
      ]
     },
     "execution_count": 34,
     "metadata": {},
     "output_type": "execute_result"
    }
   ],
   "source": [
    "#churn ID's\n",
    "df.loc[df['churn'] == 1].userId #all unique"
   ]
  },
  {
   "cell_type": "code",
   "execution_count": 35,
   "metadata": {
    "execution": {
     "iopub.execute_input": "2021-02-12T23:46:05.905029Z",
     "iopub.status.busy": "2021-02-12T23:46:05.903827Z",
     "iopub.status.idle": "2021-02-12T23:46:06.257918Z",
     "shell.execute_reply": "2021-02-12T23:46:06.257268Z"
    },
    "papermill": {
     "duration": 0.577438,
     "end_time": "2021-02-12T23:46:06.258030",
     "exception": false,
     "start_time": "2021-02-12T23:46:05.680592",
     "status": "completed"
    },
    "tags": []
   },
   "outputs": [
    {
     "data": {
      "text/html": [
       "<div>\n",
       "<style scoped>\n",
       "    .dataframe tbody tr th:only-of-type {\n",
       "        vertical-align: middle;\n",
       "    }\n",
       "\n",
       "    .dataframe tbody tr th {\n",
       "        vertical-align: top;\n",
       "    }\n",
       "\n",
       "    .dataframe thead th {\n",
       "        text-align: right;\n",
       "    }\n",
       "</style>\n",
       "<table border=\"1\" class=\"dataframe\">\n",
       "  <thead>\n",
       "    <tr style=\"text-align: right;\">\n",
       "      <th></th>\n",
       "      <th>ts</th>\n",
       "      <th>userId</th>\n",
       "      <th>sessionId</th>\n",
       "      <th>page</th>\n",
       "      <th>auth</th>\n",
       "      <th>method</th>\n",
       "      <th>status</th>\n",
       "      <th>level</th>\n",
       "      <th>itemInSession</th>\n",
       "      <th>location</th>\n",
       "      <th>userAgent</th>\n",
       "      <th>lastName</th>\n",
       "      <th>firstName</th>\n",
       "      <th>registration</th>\n",
       "      <th>gender</th>\n",
       "      <th>artist</th>\n",
       "      <th>song</th>\n",
       "      <th>length</th>\n",
       "      <th>churn</th>\n",
       "    </tr>\n",
       "  </thead>\n",
       "  <tbody>\n",
       "    <tr>\n",
       "      <th>0</th>\n",
       "      <td>1538352011000</td>\n",
       "      <td>293</td>\n",
       "      <td>292</td>\n",
       "      <td>NextSong</td>\n",
       "      <td>Logged In</td>\n",
       "      <td>PUT</td>\n",
       "      <td>200</td>\n",
       "      <td>free</td>\n",
       "      <td>20</td>\n",
       "      <td>Corpus Christi, TX</td>\n",
       "      <td>\"Mozilla/5.0 (Macintosh; Intel Mac OS X 10_9_4...</td>\n",
       "      <td>Morales</td>\n",
       "      <td>Joseph</td>\n",
       "      <td>1.532064e+12</td>\n",
       "      <td>M</td>\n",
       "      <td>Martin Orford</td>\n",
       "      <td>Grand Designs</td>\n",
       "      <td>597.55057</td>\n",
       "      <td>0</td>\n",
       "    </tr>\n",
       "    <tr>\n",
       "      <th>4</th>\n",
       "      <td>1538352124000</td>\n",
       "      <td>246</td>\n",
       "      <td>245</td>\n",
       "      <td>NextSong</td>\n",
       "      <td>Logged In</td>\n",
       "      <td>PUT</td>\n",
       "      <td>200</td>\n",
       "      <td>paid</td>\n",
       "      <td>22</td>\n",
       "      <td>Mobile, AL</td>\n",
       "      <td>Mozilla/5.0 (Windows NT 6.1; WOW64; rv:31.0) G...</td>\n",
       "      <td>Campos</td>\n",
       "      <td>Gianna</td>\n",
       "      <td>1.535931e+12</td>\n",
       "      <td>F</td>\n",
       "      <td>Lily Allen</td>\n",
       "      <td>Smile (Radio Edit)</td>\n",
       "      <td>194.53342</td>\n",
       "      <td>0</td>\n",
       "    </tr>\n",
       "    <tr>\n",
       "      <th>15</th>\n",
       "      <td>1538352318000</td>\n",
       "      <td>246</td>\n",
       "      <td>245</td>\n",
       "      <td>NextSong</td>\n",
       "      <td>Logged In</td>\n",
       "      <td>PUT</td>\n",
       "      <td>200</td>\n",
       "      <td>paid</td>\n",
       "      <td>23</td>\n",
       "      <td>Mobile, AL</td>\n",
       "      <td>Mozilla/5.0 (Windows NT 6.1; WOW64; rv:31.0) G...</td>\n",
       "      <td>Campos</td>\n",
       "      <td>Gianna</td>\n",
       "      <td>1.535931e+12</td>\n",
       "      <td>F</td>\n",
       "      <td>Bob Dylan</td>\n",
       "      <td>Simple Twist Of Fate</td>\n",
       "      <td>256.96608</td>\n",
       "      <td>0</td>\n",
       "    </tr>\n",
       "    <tr>\n",
       "      <th>17</th>\n",
       "      <td>1538352323000</td>\n",
       "      <td>39</td>\n",
       "      <td>38</td>\n",
       "      <td>NextSong</td>\n",
       "      <td>Logged In</td>\n",
       "      <td>PUT</td>\n",
       "      <td>200</td>\n",
       "      <td>free</td>\n",
       "      <td>83</td>\n",
       "      <td>Los Angeles-Long Beach-Anaheim, CA</td>\n",
       "      <td>\"Mozilla/5.0 (Windows NT 6.1; WOW64) AppleWebK...</td>\n",
       "      <td>Campbell</td>\n",
       "      <td>Payton</td>\n",
       "      <td>1.529028e+12</td>\n",
       "      <td>F</td>\n",
       "      <td>Black Kids</td>\n",
       "      <td>Look At Me (When I Rock Wichoo)</td>\n",
       "      <td>251.48036</td>\n",
       "      <td>0</td>\n",
       "    </tr>\n",
       "    <tr>\n",
       "      <th>27</th>\n",
       "      <td>1538352574000</td>\n",
       "      <td>246</td>\n",
       "      <td>245</td>\n",
       "      <td>NextSong</td>\n",
       "      <td>Logged In</td>\n",
       "      <td>PUT</td>\n",
       "      <td>200</td>\n",
       "      <td>paid</td>\n",
       "      <td>24</td>\n",
       "      <td>Mobile, AL</td>\n",
       "      <td>Mozilla/5.0 (Windows NT 6.1; WOW64; rv:31.0) G...</td>\n",
       "      <td>Campos</td>\n",
       "      <td>Gianna</td>\n",
       "      <td>1.535931e+12</td>\n",
       "      <td>F</td>\n",
       "      <td>The Script</td>\n",
       "      <td>Breakeven</td>\n",
       "      <td>260.67546</td>\n",
       "      <td>0</td>\n",
       "    </tr>\n",
       "    <tr>\n",
       "      <th>...</th>\n",
       "      <td>...</td>\n",
       "      <td>...</td>\n",
       "      <td>...</td>\n",
       "      <td>...</td>\n",
       "      <td>...</td>\n",
       "      <td>...</td>\n",
       "      <td>...</td>\n",
       "      <td>...</td>\n",
       "      <td>...</td>\n",
       "      <td>...</td>\n",
       "      <td>...</td>\n",
       "      <td>...</td>\n",
       "      <td>...</td>\n",
       "      <td>...</td>\n",
       "      <td>...</td>\n",
       "      <td>...</td>\n",
       "      <td>...</td>\n",
       "      <td>...</td>\n",
       "      <td>...</td>\n",
       "    </tr>\n",
       "    <tr>\n",
       "      <th>499881</th>\n",
       "      <td>1540710689000</td>\n",
       "      <td>300047</td>\n",
       "      <td>258</td>\n",
       "      <td>NextSong</td>\n",
       "      <td>Logged In</td>\n",
       "      <td>PUT</td>\n",
       "      <td>200</td>\n",
       "      <td>paid</td>\n",
       "      <td>30</td>\n",
       "      <td>Newport, TN</td>\n",
       "      <td>Mozilla/5.0 (Windows NT 6.1; WOW64; rv:31.0) G...</td>\n",
       "      <td>Jimenez</td>\n",
       "      <td>Addison</td>\n",
       "      <td>1.534487e+12</td>\n",
       "      <td>F</td>\n",
       "      <td>Yellowcard</td>\n",
       "      <td>Martin Sheen Or JFK</td>\n",
       "      <td>226.79465</td>\n",
       "      <td>0</td>\n",
       "    </tr>\n",
       "    <tr>\n",
       "      <th>499886</th>\n",
       "      <td>1540710915000</td>\n",
       "      <td>300047</td>\n",
       "      <td>258</td>\n",
       "      <td>NextSong</td>\n",
       "      <td>Logged In</td>\n",
       "      <td>PUT</td>\n",
       "      <td>200</td>\n",
       "      <td>paid</td>\n",
       "      <td>31</td>\n",
       "      <td>Newport, TN</td>\n",
       "      <td>Mozilla/5.0 (Windows NT 6.1; WOW64; rv:31.0) G...</td>\n",
       "      <td>Jimenez</td>\n",
       "      <td>Addison</td>\n",
       "      <td>1.534487e+12</td>\n",
       "      <td>F</td>\n",
       "      <td>Travis Tritt</td>\n",
       "      <td>T-R-O-U-B-L-E</td>\n",
       "      <td>181.28934</td>\n",
       "      <td>0</td>\n",
       "    </tr>\n",
       "    <tr>\n",
       "      <th>499894</th>\n",
       "      <td>1540711096000</td>\n",
       "      <td>300047</td>\n",
       "      <td>258</td>\n",
       "      <td>NextSong</td>\n",
       "      <td>Logged In</td>\n",
       "      <td>PUT</td>\n",
       "      <td>200</td>\n",
       "      <td>paid</td>\n",
       "      <td>32</td>\n",
       "      <td>Newport, TN</td>\n",
       "      <td>Mozilla/5.0 (Windows NT 6.1; WOW64; rv:31.0) G...</td>\n",
       "      <td>Jimenez</td>\n",
       "      <td>Addison</td>\n",
       "      <td>1.534487e+12</td>\n",
       "      <td>F</td>\n",
       "      <td>Racey</td>\n",
       "      <td>Not Too Young To Get Married</td>\n",
       "      <td>182.69995</td>\n",
       "      <td>0</td>\n",
       "    </tr>\n",
       "    <tr>\n",
       "      <th>499897</th>\n",
       "      <td>1540711278000</td>\n",
       "      <td>300047</td>\n",
       "      <td>258</td>\n",
       "      <td>NextSong</td>\n",
       "      <td>Logged In</td>\n",
       "      <td>PUT</td>\n",
       "      <td>200</td>\n",
       "      <td>paid</td>\n",
       "      <td>33</td>\n",
       "      <td>Newport, TN</td>\n",
       "      <td>Mozilla/5.0 (Windows NT 6.1; WOW64; rv:31.0) G...</td>\n",
       "      <td>Jimenez</td>\n",
       "      <td>Addison</td>\n",
       "      <td>1.534487e+12</td>\n",
       "      <td>F</td>\n",
       "      <td>The Temptations</td>\n",
       "      <td>Santa Claus Is Comin' To Town</td>\n",
       "      <td>205.40036</td>\n",
       "      <td>0</td>\n",
       "    </tr>\n",
       "    <tr>\n",
       "      <th>499903</th>\n",
       "      <td>1540711483000</td>\n",
       "      <td>300047</td>\n",
       "      <td>258</td>\n",
       "      <td>NextSong</td>\n",
       "      <td>Logged In</td>\n",
       "      <td>PUT</td>\n",
       "      <td>200</td>\n",
       "      <td>paid</td>\n",
       "      <td>34</td>\n",
       "      <td>Newport, TN</td>\n",
       "      <td>Mozilla/5.0 (Windows NT 6.1; WOW64; rv:31.0) G...</td>\n",
       "      <td>Jimenez</td>\n",
       "      <td>Addison</td>\n",
       "      <td>1.534487e+12</td>\n",
       "      <td>F</td>\n",
       "      <td>R. Kelly</td>\n",
       "      <td>Intermission</td>\n",
       "      <td>150.07302</td>\n",
       "      <td>0</td>\n",
       "    </tr>\n",
       "  </tbody>\n",
       "</table>\n",
       "<p>84359 rows × 19 columns</p>\n",
       "</div>"
      ],
      "text/plain": [
       "                   ts  userId  sessionId      page       auth method  status  \\\n",
       "0       1538352011000     293        292  NextSong  Logged In    PUT     200   \n",
       "4       1538352124000     246        245  NextSong  Logged In    PUT     200   \n",
       "15      1538352318000     246        245  NextSong  Logged In    PUT     200   \n",
       "17      1538352323000      39         38  NextSong  Logged In    PUT     200   \n",
       "27      1538352574000     246        245  NextSong  Logged In    PUT     200   \n",
       "...               ...     ...        ...       ...        ...    ...     ...   \n",
       "499881  1540710689000  300047        258  NextSong  Logged In    PUT     200   \n",
       "499886  1540710915000  300047        258  NextSong  Logged In    PUT     200   \n",
       "499894  1540711096000  300047        258  NextSong  Logged In    PUT     200   \n",
       "499897  1540711278000  300047        258  NextSong  Logged In    PUT     200   \n",
       "499903  1540711483000  300047        258  NextSong  Logged In    PUT     200   \n",
       "\n",
       "       level  itemInSession                            location  \\\n",
       "0       free             20                  Corpus Christi, TX   \n",
       "4       paid             22                          Mobile, AL   \n",
       "15      paid             23                          Mobile, AL   \n",
       "17      free             83  Los Angeles-Long Beach-Anaheim, CA   \n",
       "27      paid             24                          Mobile, AL   \n",
       "...      ...            ...                                 ...   \n",
       "499881  paid             30                         Newport, TN   \n",
       "499886  paid             31                         Newport, TN   \n",
       "499894  paid             32                         Newport, TN   \n",
       "499897  paid             33                         Newport, TN   \n",
       "499903  paid             34                         Newport, TN   \n",
       "\n",
       "                                                userAgent  lastName firstName  \\\n",
       "0       \"Mozilla/5.0 (Macintosh; Intel Mac OS X 10_9_4...   Morales    Joseph   \n",
       "4       Mozilla/5.0 (Windows NT 6.1; WOW64; rv:31.0) G...    Campos    Gianna   \n",
       "15      Mozilla/5.0 (Windows NT 6.1; WOW64; rv:31.0) G...    Campos    Gianna   \n",
       "17      \"Mozilla/5.0 (Windows NT 6.1; WOW64) AppleWebK...  Campbell    Payton   \n",
       "27      Mozilla/5.0 (Windows NT 6.1; WOW64; rv:31.0) G...    Campos    Gianna   \n",
       "...                                                   ...       ...       ...   \n",
       "499881  Mozilla/5.0 (Windows NT 6.1; WOW64; rv:31.0) G...   Jimenez   Addison   \n",
       "499886  Mozilla/5.0 (Windows NT 6.1; WOW64; rv:31.0) G...   Jimenez   Addison   \n",
       "499894  Mozilla/5.0 (Windows NT 6.1; WOW64; rv:31.0) G...   Jimenez   Addison   \n",
       "499897  Mozilla/5.0 (Windows NT 6.1; WOW64; rv:31.0) G...   Jimenez   Addison   \n",
       "499903  Mozilla/5.0 (Windows NT 6.1; WOW64; rv:31.0) G...   Jimenez   Addison   \n",
       "\n",
       "        registration gender           artist                             song  \\\n",
       "0       1.532064e+12      M    Martin Orford                    Grand Designs   \n",
       "4       1.535931e+12      F       Lily Allen               Smile (Radio Edit)   \n",
       "15      1.535931e+12      F        Bob Dylan             Simple Twist Of Fate   \n",
       "17      1.529028e+12      F       Black Kids  Look At Me (When I Rock Wichoo)   \n",
       "27      1.535931e+12      F       The Script                        Breakeven   \n",
       "...              ...    ...              ...                              ...   \n",
       "499881  1.534487e+12      F       Yellowcard              Martin Sheen Or JFK   \n",
       "499886  1.534487e+12      F     Travis Tritt                    T-R-O-U-B-L-E   \n",
       "499894  1.534487e+12      F            Racey     Not Too Young To Get Married   \n",
       "499897  1.534487e+12      F  The Temptations    Santa Claus Is Comin' To Town   \n",
       "499903  1.534487e+12      F         R. Kelly                     Intermission   \n",
       "\n",
       "           length  churn  \n",
       "0       597.55057      0  \n",
       "4       194.53342      0  \n",
       "15      256.96608      0  \n",
       "17      251.48036      0  \n",
       "27      260.67546      0  \n",
       "...           ...    ...  \n",
       "499881  226.79465      0  \n",
       "499886  181.28934      0  \n",
       "499894  182.69995      0  \n",
       "499897  205.40036      0  \n",
       "499903  150.07302      0  \n",
       "\n",
       "[84359 rows x 19 columns]"
      ]
     },
     "execution_count": 35,
     "metadata": {},
     "output_type": "execute_result"
    }
   ],
   "source": [
    "#songs played for churn ID's\n",
    "song_df = df.loc[df['page'] == 'NextSong']\n",
    "song_df.loc[song_df['userId'].isin(df.loc[df['churn'] == 1].userId)]"
   ]
  },
  {
   "cell_type": "markdown",
   "metadata": {
    "papermill": {
     "duration": 0.109602,
     "end_time": "2021-02-12T23:46:06.476528",
     "exception": false,
     "start_time": "2021-02-12T23:46:06.366926",
     "status": "completed"
    },
    "tags": []
   },
   "source": [
    "84359 song-plays by those who eventually churn"
   ]
  },
  {
   "cell_type": "code",
   "execution_count": 36,
   "metadata": {
    "execution": {
     "iopub.execute_input": "2021-02-12T23:46:06.700955Z",
     "iopub.status.busy": "2021-02-12T23:46:06.699788Z",
     "iopub.status.idle": "2021-02-12T23:46:07.165124Z",
     "shell.execute_reply": "2021-02-12T23:46:07.164527Z"
    },
    "papermill": {
     "duration": 0.580085,
     "end_time": "2021-02-12T23:46:07.165277",
     "exception": false,
     "start_time": "2021-02-12T23:46:06.585192",
     "status": "completed"
    },
    "tags": []
   },
   "outputs": [
    {
     "data": {
      "text/plain": [
       "448"
      ]
     },
     "execution_count": 36,
     "metadata": {},
     "output_type": "execute_result"
    }
   ],
   "source": [
    "#non-churn ID's\n",
    "df.loc[df['churn'] == 0].userId.nunique() #total unique"
   ]
  },
  {
   "cell_type": "code",
   "execution_count": 37,
   "metadata": {
    "execution": {
     "iopub.execute_input": "2021-02-12T23:46:07.391571Z",
     "iopub.status.busy": "2021-02-12T23:46:07.390402Z",
     "iopub.status.idle": "2021-02-12T23:46:07.846922Z",
     "shell.execute_reply": "2021-02-12T23:46:07.846371Z"
    },
    "papermill": {
     "duration": 0.571708,
     "end_time": "2021-02-12T23:46:07.847041",
     "exception": false,
     "start_time": "2021-02-12T23:46:07.275333",
     "status": "completed"
    },
    "tags": []
   },
   "outputs": [
    {
     "data": {
      "text/plain": [
       "array(['293', '98', '179', '246', '163', '175', '100', '39', '147', '196',\n",
       "       '275', '54', '223', '273', '74', '101', '166', '301', '288', '248',\n",
       "       '250', '127', '28', '207', '282', '262', '131', '42', '154', '18',\n",
       "       '142', '45', '95', '78', '87', '51', '236', '251', '126', '85',\n",
       "       '173', '185', '36', '208', '192', '187', '92', '27', '143', '119',\n",
       "       '232', '162', '140', '6', '124', '93', '238', '274', '174', '40',\n",
       "       '113', '167', '170', '25', '137', '65', '241', '172', '53', '299',\n",
       "       '195', '276', '59', '198', '58', '214', '283', '231', '160', '32',\n",
       "       '29', '291', '295', '61', '225', '284', '270', '21', '234', '68',\n",
       "       '132', '156', '219', '86', '136', '80', '296', '110', '182', '130',\n",
       "       '169', '239', '212', '129', '244', '121', '125', '77', '82', '233',\n",
       "       '117', '138', '76', '7', '206', '13', '201', '118', '261', '268',\n",
       "       '258', '16', '226', '105', '96', '57', '115', '164', '211', '221',\n",
       "       '30', '55', '178', '12', '152', '20', '224', '73', '159', '220',\n",
       "       '188', '298', '203', '255', '242', '228', '67', '114', '264',\n",
       "       '281', '184', '168', '99', '70', '4', '263', '88', '235', '259',\n",
       "       '35', '146', '24', '153', '103', '216', '191', '49', '75', '135',\n",
       "       '41', '128', '292', '200', '171', '111', '205', '230', '260',\n",
       "       '112', '181', '48', '66', '183', '83', '237', '269', '277', '90',\n",
       "       '9', '11', '52', '271', '91', '290', '102', '265', '37', '145',\n",
       "       '157', '151', '17', '215', '193', '217', '104', '287', '148',\n",
       "       '190', '165', '89', '120', '107', '97', '94', '109', '210', '279',\n",
       "       '134', '189', '123', '294', '10', '2', '139', '218', '199', '141',\n",
       "       '197', '186', '33', '285', '106', '252', '5', '122', '15', '150',\n",
       "       '26', '44', '254', '71', '222', '180', '194', '81', '56', '209',\n",
       "       '34', '38', '158', '60', '297', '176', '227', '46', '245', '289',\n",
       "       '14', '300', '69', '155', '47', '247', '144', '256', '62', '23',\n",
       "       '272', '43', '149', '64', '280', '267', '8', '278', '213', '204',\n",
       "       '108', '79', '19', '253', '302', '50', '22', '240', '202', '63',\n",
       "       '177', '161', '257', '72', '116', '286', '133', '305', '266', '3',\n",
       "       '100049', '100028', '100009', '100047', '100022', '100001',\n",
       "       '100038', '100025', '100005', '100011', '100030', '100036',\n",
       "       '100042', '100046', '100015', '100033', '100016', '100044',\n",
       "       '100024', '100037', '100013', '100007', '100004', '100027',\n",
       "       '100014', '100026', '100043', '100020', '100041', '100048',\n",
       "       '100032', '100039', '100023', '100008', '100018', '100006',\n",
       "       '100012', '100010', '100050', '100019', '100003', '100002',\n",
       "       '100031', '100021', '100040', '100029', '100045', '100034',\n",
       "       '100035', '100017', '100051', '200009', '200045', '200006',\n",
       "       '200019', '200002', '200026', '200022', '200011', '200020',\n",
       "       '200030', '200041', '200034', '200028', '200043', '200024',\n",
       "       '200016', '200023', '200010', '200038', '200015', '200048',\n",
       "       '200005', '200050', '200021', '200003', '200004', '200017',\n",
       "       '200042', '200047', '200001', '200025', '200018', '200046',\n",
       "       '200036', '200037', '200027', '200040', '200008', '200049',\n",
       "       '200013', '200007', '200014', '200044', '200029', '200035',\n",
       "       '200039', '200033', '200031', '200012', '300049', '300002',\n",
       "       '300001', '300035', '300041', '300038', '300017', '300033',\n",
       "       '300027', '300015', '300011', '300018', '300023', '300021',\n",
       "       '300036', '300046', '300030', '300050', '300044', '300031',\n",
       "       '300024', '300019', '300042', '300009', '300047', '300008',\n",
       "       '300022', '300045', '300004', '300034', '300012', '300025',\n",
       "       '300040', '300005', '300010', '300016', '300020', '300048',\n",
       "       '300013', '300029', '300014', '300007', '300006', '300003',\n",
       "       '300032', '300043', '300028', '300051', '300026', '300039',\n",
       "       '300037'], dtype=object)"
      ]
     },
     "execution_count": 37,
     "metadata": {},
     "output_type": "execute_result"
    }
   ],
   "source": [
    "df.loc[df['churn'] == 0].userId.unique() "
   ]
  },
  {
   "cell_type": "code",
   "execution_count": 38,
   "metadata": {
    "execution": {
     "iopub.execute_input": "2021-02-12T23:46:08.074987Z",
     "iopub.status.busy": "2021-02-12T23:46:08.074351Z",
     "iopub.status.idle": "2021-02-12T23:46:08.821323Z",
     "shell.execute_reply": "2021-02-12T23:46:08.820757Z"
    },
    "papermill": {
     "duration": 0.862835,
     "end_time": "2021-02-12T23:46:08.821449",
     "exception": false,
     "start_time": "2021-02-12T23:46:07.958614",
     "status": "completed"
    },
    "tags": []
   },
   "outputs": [
    {
     "data": {
      "text/html": [
       "<div>\n",
       "<style scoped>\n",
       "    .dataframe tbody tr th:only-of-type {\n",
       "        vertical-align: middle;\n",
       "    }\n",
       "\n",
       "    .dataframe tbody tr th {\n",
       "        vertical-align: top;\n",
       "    }\n",
       "\n",
       "    .dataframe thead th {\n",
       "        text-align: right;\n",
       "    }\n",
       "</style>\n",
       "<table border=\"1\" class=\"dataframe\">\n",
       "  <thead>\n",
       "    <tr style=\"text-align: right;\">\n",
       "      <th></th>\n",
       "      <th>ts</th>\n",
       "      <th>userId</th>\n",
       "      <th>sessionId</th>\n",
       "      <th>page</th>\n",
       "      <th>auth</th>\n",
       "      <th>method</th>\n",
       "      <th>status</th>\n",
       "      <th>level</th>\n",
       "      <th>itemInSession</th>\n",
       "      <th>location</th>\n",
       "      <th>userAgent</th>\n",
       "      <th>lastName</th>\n",
       "      <th>firstName</th>\n",
       "      <th>registration</th>\n",
       "      <th>gender</th>\n",
       "      <th>artist</th>\n",
       "      <th>song</th>\n",
       "      <th>length</th>\n",
       "      <th>churn</th>\n",
       "    </tr>\n",
       "  </thead>\n",
       "  <tbody>\n",
       "    <tr>\n",
       "      <th>0</th>\n",
       "      <td>1538352011000</td>\n",
       "      <td>293</td>\n",
       "      <td>292</td>\n",
       "      <td>NextSong</td>\n",
       "      <td>Logged In</td>\n",
       "      <td>PUT</td>\n",
       "      <td>200</td>\n",
       "      <td>free</td>\n",
       "      <td>20</td>\n",
       "      <td>Corpus Christi, TX</td>\n",
       "      <td>\"Mozilla/5.0 (Macintosh; Intel Mac OS X 10_9_4...</td>\n",
       "      <td>Morales</td>\n",
       "      <td>Joseph</td>\n",
       "      <td>1.532064e+12</td>\n",
       "      <td>M</td>\n",
       "      <td>Martin Orford</td>\n",
       "      <td>Grand Designs</td>\n",
       "      <td>597.55057</td>\n",
       "      <td>0</td>\n",
       "    </tr>\n",
       "    <tr>\n",
       "      <th>1</th>\n",
       "      <td>1538352025000</td>\n",
       "      <td>98</td>\n",
       "      <td>97</td>\n",
       "      <td>NextSong</td>\n",
       "      <td>Logged In</td>\n",
       "      <td>PUT</td>\n",
       "      <td>200</td>\n",
       "      <td>free</td>\n",
       "      <td>74</td>\n",
       "      <td>Houston-The Woodlands-Sugar Land, TX</td>\n",
       "      <td>\"Mozilla/5.0 (Macintosh; Intel Mac OS X 10_9_4...</td>\n",
       "      <td>Larson</td>\n",
       "      <td>Sawyer</td>\n",
       "      <td>1.538070e+12</td>\n",
       "      <td>M</td>\n",
       "      <td>John Brown's Body</td>\n",
       "      <td>Bulls</td>\n",
       "      <td>380.21179</td>\n",
       "      <td>0</td>\n",
       "    </tr>\n",
       "    <tr>\n",
       "      <th>2</th>\n",
       "      <td>1538352118000</td>\n",
       "      <td>179</td>\n",
       "      <td>178</td>\n",
       "      <td>NextSong</td>\n",
       "      <td>Logged In</td>\n",
       "      <td>PUT</td>\n",
       "      <td>200</td>\n",
       "      <td>paid</td>\n",
       "      <td>184</td>\n",
       "      <td>Orlando-Kissimmee-Sanford, FL</td>\n",
       "      <td>\"Mozilla/5.0 (Macintosh; Intel Mac OS X 10_9_4...</td>\n",
       "      <td>Santiago</td>\n",
       "      <td>Maverick</td>\n",
       "      <td>1.535953e+12</td>\n",
       "      <td>M</td>\n",
       "      <td>Afroman</td>\n",
       "      <td>Because I Got High</td>\n",
       "      <td>202.37016</td>\n",
       "      <td>0</td>\n",
       "    </tr>\n",
       "    <tr>\n",
       "      <th>4</th>\n",
       "      <td>1538352124000</td>\n",
       "      <td>246</td>\n",
       "      <td>245</td>\n",
       "      <td>NextSong</td>\n",
       "      <td>Logged In</td>\n",
       "      <td>PUT</td>\n",
       "      <td>200</td>\n",
       "      <td>paid</td>\n",
       "      <td>22</td>\n",
       "      <td>Mobile, AL</td>\n",
       "      <td>Mozilla/5.0 (Windows NT 6.1; WOW64; rv:31.0) G...</td>\n",
       "      <td>Campos</td>\n",
       "      <td>Gianna</td>\n",
       "      <td>1.535931e+12</td>\n",
       "      <td>F</td>\n",
       "      <td>Lily Allen</td>\n",
       "      <td>Smile (Radio Edit)</td>\n",
       "      <td>194.53342</td>\n",
       "      <td>0</td>\n",
       "    </tr>\n",
       "    <tr>\n",
       "      <th>5</th>\n",
       "      <td>1538352125000</td>\n",
       "      <td>163</td>\n",
       "      <td>162</td>\n",
       "      <td>NextSong</td>\n",
       "      <td>Logged In</td>\n",
       "      <td>PUT</td>\n",
       "      <td>200</td>\n",
       "      <td>paid</td>\n",
       "      <td>266</td>\n",
       "      <td>Rochester, MN</td>\n",
       "      <td>\"Mozilla/5.0 (Macintosh; Intel Mac OS X 10_9_4...</td>\n",
       "      <td>Gordon</td>\n",
       "      <td>Sofia</td>\n",
       "      <td>1.533176e+12</td>\n",
       "      <td>F</td>\n",
       "      <td>Carter USM</td>\n",
       "      <td>Airplane Food</td>\n",
       "      <td>138.29179</td>\n",
       "      <td>0</td>\n",
       "    </tr>\n",
       "    <tr>\n",
       "      <th>...</th>\n",
       "      <td>...</td>\n",
       "      <td>...</td>\n",
       "      <td>...</td>\n",
       "      <td>...</td>\n",
       "      <td>...</td>\n",
       "      <td>...</td>\n",
       "      <td>...</td>\n",
       "      <td>...</td>\n",
       "      <td>...</td>\n",
       "      <td>...</td>\n",
       "      <td>...</td>\n",
       "      <td>...</td>\n",
       "      <td>...</td>\n",
       "      <td>...</td>\n",
       "      <td>...</td>\n",
       "      <td>...</td>\n",
       "      <td>...</td>\n",
       "      <td>...</td>\n",
       "      <td>...</td>\n",
       "    </tr>\n",
       "    <tr>\n",
       "      <th>543700</th>\n",
       "      <td>1543622316000</td>\n",
       "      <td>300010</td>\n",
       "      <td>882</td>\n",
       "      <td>NextSong</td>\n",
       "      <td>Logged In</td>\n",
       "      <td>PUT</td>\n",
       "      <td>200</td>\n",
       "      <td>paid</td>\n",
       "      <td>165</td>\n",
       "      <td>Dallas-Fort Worth-Arlington, TX</td>\n",
       "      <td>\"Mozilla/5.0 (Macintosh; Intel Mac OS X 10_9_4...</td>\n",
       "      <td>Jackson</td>\n",
       "      <td>Clayton</td>\n",
       "      <td>1.536850e+12</td>\n",
       "      <td>M</td>\n",
       "      <td>Oliver Onions</td>\n",
       "      <td>Dune Buggy</td>\n",
       "      <td>183.50975</td>\n",
       "      <td>0</td>\n",
       "    </tr>\n",
       "    <tr>\n",
       "      <th>543701</th>\n",
       "      <td>1543622332000</td>\n",
       "      <td>300049</td>\n",
       "      <td>991</td>\n",
       "      <td>NextSong</td>\n",
       "      <td>Logged In</td>\n",
       "      <td>PUT</td>\n",
       "      <td>200</td>\n",
       "      <td>paid</td>\n",
       "      <td>145</td>\n",
       "      <td>Fresno, CA</td>\n",
       "      <td>\"Mozilla/5.0 (Windows NT 6.1; WOW64) AppleWebK...</td>\n",
       "      <td>Stewart</td>\n",
       "      <td>Daniel</td>\n",
       "      <td>1.537523e+12</td>\n",
       "      <td>M</td>\n",
       "      <td>Sheena Easton</td>\n",
       "      <td>Strut (1993 Digital Remaster)</td>\n",
       "      <td>239.62077</td>\n",
       "      <td>0</td>\n",
       "    </tr>\n",
       "    <tr>\n",
       "      <th>543702</th>\n",
       "      <td>1543622368000</td>\n",
       "      <td>300039</td>\n",
       "      <td>916</td>\n",
       "      <td>NextSong</td>\n",
       "      <td>Logged In</td>\n",
       "      <td>PUT</td>\n",
       "      <td>200</td>\n",
       "      <td>paid</td>\n",
       "      <td>31</td>\n",
       "      <td>Memphis, TN-MS-AR</td>\n",
       "      <td>\"Mozilla/5.0 (Macintosh; Intel Mac OS X 10_9_4...</td>\n",
       "      <td>Jenkins</td>\n",
       "      <td>Jeremiah</td>\n",
       "      <td>1.536229e+12</td>\n",
       "      <td>M</td>\n",
       "      <td>The White Stripes</td>\n",
       "      <td>Jolene [Live]</td>\n",
       "      <td>234.97098</td>\n",
       "      <td>0</td>\n",
       "    </tr>\n",
       "    <tr>\n",
       "      <th>543703</th>\n",
       "      <td>1543622392000</td>\n",
       "      <td>300038</td>\n",
       "      <td>966</td>\n",
       "      <td>NextSong</td>\n",
       "      <td>Logged In</td>\n",
       "      <td>PUT</td>\n",
       "      <td>200</td>\n",
       "      <td>paid</td>\n",
       "      <td>36</td>\n",
       "      <td>Lakeland-Winter Haven, FL</td>\n",
       "      <td>\"Mozilla/5.0 (iPhone; CPU iPhone OS 7_1_2 like...</td>\n",
       "      <td>Reed</td>\n",
       "      <td>Aiden</td>\n",
       "      <td>1.535616e+12</td>\n",
       "      <td>M</td>\n",
       "      <td>Hinder</td>\n",
       "      <td>Lips Of An Angel</td>\n",
       "      <td>262.05995</td>\n",
       "      <td>0</td>\n",
       "    </tr>\n",
       "    <tr>\n",
       "      <th>543704</th>\n",
       "      <td>1543622401000</td>\n",
       "      <td>300015</td>\n",
       "      <td>981</td>\n",
       "      <td>NextSong</td>\n",
       "      <td>Logged In</td>\n",
       "      <td>PUT</td>\n",
       "      <td>200</td>\n",
       "      <td>paid</td>\n",
       "      <td>109</td>\n",
       "      <td>San Antonio-New Braunfels, TX</td>\n",
       "      <td>\"Mozilla/5.0 (iPhone; CPU iPhone OS 7_1_2 like...</td>\n",
       "      <td>White</td>\n",
       "      <td>Joshua</td>\n",
       "      <td>1.528781e+12</td>\n",
       "      <td>M</td>\n",
       "      <td>Jack Johnson</td>\n",
       "      <td>Do You Remember</td>\n",
       "      <td>144.06485</td>\n",
       "      <td>0</td>\n",
       "    </tr>\n",
       "  </tbody>\n",
       "</table>\n",
       "<p>432877 rows × 19 columns</p>\n",
       "</div>"
      ],
      "text/plain": [
       "                   ts  userId  sessionId      page       auth method  status  \\\n",
       "0       1538352011000     293        292  NextSong  Logged In    PUT     200   \n",
       "1       1538352025000      98         97  NextSong  Logged In    PUT     200   \n",
       "2       1538352118000     179        178  NextSong  Logged In    PUT     200   \n",
       "4       1538352124000     246        245  NextSong  Logged In    PUT     200   \n",
       "5       1538352125000     163        162  NextSong  Logged In    PUT     200   \n",
       "...               ...     ...        ...       ...        ...    ...     ...   \n",
       "543700  1543622316000  300010        882  NextSong  Logged In    PUT     200   \n",
       "543701  1543622332000  300049        991  NextSong  Logged In    PUT     200   \n",
       "543702  1543622368000  300039        916  NextSong  Logged In    PUT     200   \n",
       "543703  1543622392000  300038        966  NextSong  Logged In    PUT     200   \n",
       "543704  1543622401000  300015        981  NextSong  Logged In    PUT     200   \n",
       "\n",
       "       level  itemInSession                              location  \\\n",
       "0       free             20                    Corpus Christi, TX   \n",
       "1       free             74  Houston-The Woodlands-Sugar Land, TX   \n",
       "2       paid            184         Orlando-Kissimmee-Sanford, FL   \n",
       "4       paid             22                            Mobile, AL   \n",
       "5       paid            266                         Rochester, MN   \n",
       "...      ...            ...                                   ...   \n",
       "543700  paid            165       Dallas-Fort Worth-Arlington, TX   \n",
       "543701  paid            145                            Fresno, CA   \n",
       "543702  paid             31                     Memphis, TN-MS-AR   \n",
       "543703  paid             36             Lakeland-Winter Haven, FL   \n",
       "543704  paid            109         San Antonio-New Braunfels, TX   \n",
       "\n",
       "                                                userAgent  lastName firstName  \\\n",
       "0       \"Mozilla/5.0 (Macintosh; Intel Mac OS X 10_9_4...   Morales    Joseph   \n",
       "1       \"Mozilla/5.0 (Macintosh; Intel Mac OS X 10_9_4...    Larson    Sawyer   \n",
       "2       \"Mozilla/5.0 (Macintosh; Intel Mac OS X 10_9_4...  Santiago  Maverick   \n",
       "4       Mozilla/5.0 (Windows NT 6.1; WOW64; rv:31.0) G...    Campos    Gianna   \n",
       "5       \"Mozilla/5.0 (Macintosh; Intel Mac OS X 10_9_4...    Gordon     Sofia   \n",
       "...                                                   ...       ...       ...   \n",
       "543700  \"Mozilla/5.0 (Macintosh; Intel Mac OS X 10_9_4...   Jackson   Clayton   \n",
       "543701  \"Mozilla/5.0 (Windows NT 6.1; WOW64) AppleWebK...   Stewart    Daniel   \n",
       "543702  \"Mozilla/5.0 (Macintosh; Intel Mac OS X 10_9_4...   Jenkins  Jeremiah   \n",
       "543703  \"Mozilla/5.0 (iPhone; CPU iPhone OS 7_1_2 like...      Reed     Aiden   \n",
       "543704  \"Mozilla/5.0 (iPhone; CPU iPhone OS 7_1_2 like...     White    Joshua   \n",
       "\n",
       "        registration gender             artist                           song  \\\n",
       "0       1.532064e+12      M      Martin Orford                  Grand Designs   \n",
       "1       1.538070e+12      M  John Brown's Body                          Bulls   \n",
       "2       1.535953e+12      M            Afroman             Because I Got High   \n",
       "4       1.535931e+12      F         Lily Allen             Smile (Radio Edit)   \n",
       "5       1.533176e+12      F         Carter USM                  Airplane Food   \n",
       "...              ...    ...                ...                            ...   \n",
       "543700  1.536850e+12      M      Oliver Onions                     Dune Buggy   \n",
       "543701  1.537523e+12      M      Sheena Easton  Strut (1993 Digital Remaster)   \n",
       "543702  1.536229e+12      M  The White Stripes                  Jolene [Live]   \n",
       "543703  1.535616e+12      M             Hinder               Lips Of An Angel   \n",
       "543704  1.528781e+12      M       Jack Johnson                Do You Remember   \n",
       "\n",
       "           length  churn  \n",
       "0       597.55057      0  \n",
       "1       380.21179      0  \n",
       "2       202.37016      0  \n",
       "4       194.53342      0  \n",
       "5       138.29179      0  \n",
       "...           ...    ...  \n",
       "543700  183.50975      0  \n",
       "543701  239.62077      0  \n",
       "543702  234.97098      0  \n",
       "543703  262.05995      0  \n",
       "543704  144.06485      0  \n",
       "\n",
       "[432877 rows x 19 columns]"
      ]
     },
     "execution_count": 38,
     "metadata": {},
     "output_type": "execute_result"
    }
   ],
   "source": [
    "# total songs played for non-churn ID's\n",
    "song_df.loc[song_df['userId'].isin(df.loc[df['churn'] == 0].userId.unique())]"
   ]
  },
  {
   "cell_type": "markdown",
   "metadata": {
    "papermill": {
     "duration": 0.111988,
     "end_time": "2021-02-12T23:46:09.044701",
     "exception": false,
     "start_time": "2021-02-12T23:46:08.932713",
     "status": "completed"
    },
    "tags": []
   },
   "source": [
    "432877 total song plays from those who did not eventually churn."
   ]
  },
  {
   "cell_type": "code",
   "execution_count": 39,
   "metadata": {
    "execution": {
     "iopub.execute_input": "2021-02-12T23:46:09.389596Z",
     "iopub.status.busy": "2021-02-12T23:46:09.388901Z",
     "iopub.status.idle": "2021-02-12T23:46:09.434389Z",
     "shell.execute_reply": "2021-02-12T23:46:09.433770Z"
    },
    "papermill": {
     "duration": 0.26159,
     "end_time": "2021-02-12T23:46:09.434516",
     "exception": false,
     "start_time": "2021-02-12T23:46:09.172926",
     "status": "completed"
    },
    "tags": []
   },
   "outputs": [
    {
     "data": {
      "text/plain": [
       "448"
      ]
     },
     "execution_count": 39,
     "metadata": {},
     "output_type": "execute_result"
    }
   ],
   "source": [
    "#count unique users on platform\n",
    "df.userId.nunique()"
   ]
  },
  {
   "cell_type": "code",
   "execution_count": 40,
   "metadata": {
    "execution": {
     "iopub.execute_input": "2021-02-12T23:46:09.664680Z",
     "iopub.status.busy": "2021-02-12T23:46:09.663920Z",
     "iopub.status.idle": "2021-02-12T23:46:09.667390Z",
     "shell.execute_reply": "2021-02-12T23:46:09.666764Z"
    },
    "papermill": {
     "duration": 0.12027,
     "end_time": "2021-02-12T23:46:09.667506",
     "exception": false,
     "start_time": "2021-02-12T23:46:09.547236",
     "status": "completed"
    },
    "tags": []
   },
   "outputs": [],
   "source": [
    "#songs counts / distinct user count\n",
    "\n",
    "#churned:\n",
    "churn_avg_song_count = 84359/99\n",
    "\n",
    "#non-churned:\n",
    "non_churn_avg_song_count = 432877/448"
   ]
  },
  {
   "cell_type": "code",
   "execution_count": 41,
   "metadata": {
    "execution": {
     "iopub.execute_input": "2021-02-12T23:46:09.904764Z",
     "iopub.status.busy": "2021-02-12T23:46:09.903681Z",
     "iopub.status.idle": "2021-02-12T23:46:09.908400Z",
     "shell.execute_reply": "2021-02-12T23:46:09.907802Z"
    },
    "papermill": {
     "duration": 0.129393,
     "end_time": "2021-02-12T23:46:09.908521",
     "exception": false,
     "start_time": "2021-02-12T23:46:09.779128",
     "status": "completed"
    },
    "tags": []
   },
   "outputs": [
    {
     "data": {
      "text/html": [
       "<div>\n",
       "<style scoped>\n",
       "    .dataframe tbody tr th:only-of-type {\n",
       "        vertical-align: middle;\n",
       "    }\n",
       "\n",
       "    .dataframe tbody tr th {\n",
       "        vertical-align: top;\n",
       "    }\n",
       "\n",
       "    .dataframe thead th {\n",
       "        text-align: right;\n",
       "    }\n",
       "</style>\n",
       "<table border=\"1\" class=\"dataframe\">\n",
       "  <thead>\n",
       "    <tr style=\"text-align: right;\">\n",
       "      <th></th>\n",
       "      <th>churn</th>\n",
       "      <th>avg_songs_played</th>\n",
       "    </tr>\n",
       "  </thead>\n",
       "  <tbody>\n",
       "    <tr>\n",
       "      <th>0</th>\n",
       "      <td>1</td>\n",
       "      <td>852.111111</td>\n",
       "    </tr>\n",
       "    <tr>\n",
       "      <th>1</th>\n",
       "      <td>0</td>\n",
       "      <td>966.243304</td>\n",
       "    </tr>\n",
       "  </tbody>\n",
       "</table>\n",
       "</div>"
      ],
      "text/plain": [
       "  churn  avg_songs_played\n",
       "0     1        852.111111\n",
       "1     0        966.243304"
      ]
     },
     "execution_count": 41,
     "metadata": {},
     "output_type": "execute_result"
    }
   ],
   "source": [
    "#create df with idx as churn (0/1) and avg # songs played-\n",
    "d = {'churn': ['1', '0'], 'avg_songs_played': [churn_avg_song_count, non_churn_avg_song_count]}\n",
    "av_song_df = pd.DataFrame(data=d)\n",
    "av_song_df"
   ]
  },
  {
   "cell_type": "code",
   "execution_count": 42,
   "metadata": {
    "execution": {
     "iopub.execute_input": "2021-02-12T23:46:10.187466Z",
     "iopub.status.busy": "2021-02-12T23:46:10.186736Z",
     "iopub.status.idle": "2021-02-12T23:46:11.522224Z",
     "shell.execute_reply": "2021-02-12T23:46:11.522777Z"
    },
    "papermill": {
     "duration": 1.453387,
     "end_time": "2021-02-12T23:46:11.522926",
     "exception": false,
     "start_time": "2021-02-12T23:46:10.069539",
     "status": "completed"
    },
    "tags": []
   },
   "outputs": [
    {
     "data": {
      "application/vnd.plotly.v1+json": {
       "config": {
        "plotlyServerURL": "https://plot.ly"
       },
       "data": [
        {
         "alignmentgroup": "True",
         "hovertemplate": "churn=%{x}<br>avg_songs_played=%{y}<extra></extra>",
         "legendgroup": "",
         "marker": {
          "color": "#636efa"
         },
         "name": "",
         "offsetgroup": "",
         "orientation": "v",
         "showlegend": false,
         "textposition": "auto",
         "type": "bar",
         "x": [
          "1",
          "0"
         ],
         "xaxis": "x",
         "y": [
          852.1111111111111,
          966.2433035714286
         ],
         "yaxis": "y"
        }
       ],
       "layout": {
        "barmode": "relative",
        "legend": {
         "tracegroupgap": 0
        },
        "margin": {
         "t": 60
        },
        "template": {
         "data": {
          "bar": [
           {
            "error_x": {
             "color": "#2a3f5f"
            },
            "error_y": {
             "color": "#2a3f5f"
            },
            "marker": {
             "line": {
              "color": "#E5ECF6",
              "width": 0.5
             }
            },
            "type": "bar"
           }
          ],
          "barpolar": [
           {
            "marker": {
             "line": {
              "color": "#E5ECF6",
              "width": 0.5
             }
            },
            "type": "barpolar"
           }
          ],
          "carpet": [
           {
            "aaxis": {
             "endlinecolor": "#2a3f5f",
             "gridcolor": "white",
             "linecolor": "white",
             "minorgridcolor": "white",
             "startlinecolor": "#2a3f5f"
            },
            "baxis": {
             "endlinecolor": "#2a3f5f",
             "gridcolor": "white",
             "linecolor": "white",
             "minorgridcolor": "white",
             "startlinecolor": "#2a3f5f"
            },
            "type": "carpet"
           }
          ],
          "choropleth": [
           {
            "colorbar": {
             "outlinewidth": 0,
             "ticks": ""
            },
            "type": "choropleth"
           }
          ],
          "contour": [
           {
            "colorbar": {
             "outlinewidth": 0,
             "ticks": ""
            },
            "colorscale": [
             [
              0.0,
              "#0d0887"
             ],
             [
              0.1111111111111111,
              "#46039f"
             ],
             [
              0.2222222222222222,
              "#7201a8"
             ],
             [
              0.3333333333333333,
              "#9c179e"
             ],
             [
              0.4444444444444444,
              "#bd3786"
             ],
             [
              0.5555555555555556,
              "#d8576b"
             ],
             [
              0.6666666666666666,
              "#ed7953"
             ],
             [
              0.7777777777777778,
              "#fb9f3a"
             ],
             [
              0.8888888888888888,
              "#fdca26"
             ],
             [
              1.0,
              "#f0f921"
             ]
            ],
            "type": "contour"
           }
          ],
          "contourcarpet": [
           {
            "colorbar": {
             "outlinewidth": 0,
             "ticks": ""
            },
            "type": "contourcarpet"
           }
          ],
          "heatmap": [
           {
            "colorbar": {
             "outlinewidth": 0,
             "ticks": ""
            },
            "colorscale": [
             [
              0.0,
              "#0d0887"
             ],
             [
              0.1111111111111111,
              "#46039f"
             ],
             [
              0.2222222222222222,
              "#7201a8"
             ],
             [
              0.3333333333333333,
              "#9c179e"
             ],
             [
              0.4444444444444444,
              "#bd3786"
             ],
             [
              0.5555555555555556,
              "#d8576b"
             ],
             [
              0.6666666666666666,
              "#ed7953"
             ],
             [
              0.7777777777777778,
              "#fb9f3a"
             ],
             [
              0.8888888888888888,
              "#fdca26"
             ],
             [
              1.0,
              "#f0f921"
             ]
            ],
            "type": "heatmap"
           }
          ],
          "heatmapgl": [
           {
            "colorbar": {
             "outlinewidth": 0,
             "ticks": ""
            },
            "colorscale": [
             [
              0.0,
              "#0d0887"
             ],
             [
              0.1111111111111111,
              "#46039f"
             ],
             [
              0.2222222222222222,
              "#7201a8"
             ],
             [
              0.3333333333333333,
              "#9c179e"
             ],
             [
              0.4444444444444444,
              "#bd3786"
             ],
             [
              0.5555555555555556,
              "#d8576b"
             ],
             [
              0.6666666666666666,
              "#ed7953"
             ],
             [
              0.7777777777777778,
              "#fb9f3a"
             ],
             [
              0.8888888888888888,
              "#fdca26"
             ],
             [
              1.0,
              "#f0f921"
             ]
            ],
            "type": "heatmapgl"
           }
          ],
          "histogram": [
           {
            "marker": {
             "colorbar": {
              "outlinewidth": 0,
              "ticks": ""
             }
            },
            "type": "histogram"
           }
          ],
          "histogram2d": [
           {
            "colorbar": {
             "outlinewidth": 0,
             "ticks": ""
            },
            "colorscale": [
             [
              0.0,
              "#0d0887"
             ],
             [
              0.1111111111111111,
              "#46039f"
             ],
             [
              0.2222222222222222,
              "#7201a8"
             ],
             [
              0.3333333333333333,
              "#9c179e"
             ],
             [
              0.4444444444444444,
              "#bd3786"
             ],
             [
              0.5555555555555556,
              "#d8576b"
             ],
             [
              0.6666666666666666,
              "#ed7953"
             ],
             [
              0.7777777777777778,
              "#fb9f3a"
             ],
             [
              0.8888888888888888,
              "#fdca26"
             ],
             [
              1.0,
              "#f0f921"
             ]
            ],
            "type": "histogram2d"
           }
          ],
          "histogram2dcontour": [
           {
            "colorbar": {
             "outlinewidth": 0,
             "ticks": ""
            },
            "colorscale": [
             [
              0.0,
              "#0d0887"
             ],
             [
              0.1111111111111111,
              "#46039f"
             ],
             [
              0.2222222222222222,
              "#7201a8"
             ],
             [
              0.3333333333333333,
              "#9c179e"
             ],
             [
              0.4444444444444444,
              "#bd3786"
             ],
             [
              0.5555555555555556,
              "#d8576b"
             ],
             [
              0.6666666666666666,
              "#ed7953"
             ],
             [
              0.7777777777777778,
              "#fb9f3a"
             ],
             [
              0.8888888888888888,
              "#fdca26"
             ],
             [
              1.0,
              "#f0f921"
             ]
            ],
            "type": "histogram2dcontour"
           }
          ],
          "mesh3d": [
           {
            "colorbar": {
             "outlinewidth": 0,
             "ticks": ""
            },
            "type": "mesh3d"
           }
          ],
          "parcoords": [
           {
            "line": {
             "colorbar": {
              "outlinewidth": 0,
              "ticks": ""
             }
            },
            "type": "parcoords"
           }
          ],
          "pie": [
           {
            "automargin": true,
            "type": "pie"
           }
          ],
          "scatter": [
           {
            "marker": {
             "colorbar": {
              "outlinewidth": 0,
              "ticks": ""
             }
            },
            "type": "scatter"
           }
          ],
          "scatter3d": [
           {
            "line": {
             "colorbar": {
              "outlinewidth": 0,
              "ticks": ""
             }
            },
            "marker": {
             "colorbar": {
              "outlinewidth": 0,
              "ticks": ""
             }
            },
            "type": "scatter3d"
           }
          ],
          "scattercarpet": [
           {
            "marker": {
             "colorbar": {
              "outlinewidth": 0,
              "ticks": ""
             }
            },
            "type": "scattercarpet"
           }
          ],
          "scattergeo": [
           {
            "marker": {
             "colorbar": {
              "outlinewidth": 0,
              "ticks": ""
             }
            },
            "type": "scattergeo"
           }
          ],
          "scattergl": [
           {
            "marker": {
             "colorbar": {
              "outlinewidth": 0,
              "ticks": ""
             }
            },
            "type": "scattergl"
           }
          ],
          "scattermapbox": [
           {
            "marker": {
             "colorbar": {
              "outlinewidth": 0,
              "ticks": ""
             }
            },
            "type": "scattermapbox"
           }
          ],
          "scatterpolar": [
           {
            "marker": {
             "colorbar": {
              "outlinewidth": 0,
              "ticks": ""
             }
            },
            "type": "scatterpolar"
           }
          ],
          "scatterpolargl": [
           {
            "marker": {
             "colorbar": {
              "outlinewidth": 0,
              "ticks": ""
             }
            },
            "type": "scatterpolargl"
           }
          ],
          "scatterternary": [
           {
            "marker": {
             "colorbar": {
              "outlinewidth": 0,
              "ticks": ""
             }
            },
            "type": "scatterternary"
           }
          ],
          "surface": [
           {
            "colorbar": {
             "outlinewidth": 0,
             "ticks": ""
            },
            "colorscale": [
             [
              0.0,
              "#0d0887"
             ],
             [
              0.1111111111111111,
              "#46039f"
             ],
             [
              0.2222222222222222,
              "#7201a8"
             ],
             [
              0.3333333333333333,
              "#9c179e"
             ],
             [
              0.4444444444444444,
              "#bd3786"
             ],
             [
              0.5555555555555556,
              "#d8576b"
             ],
             [
              0.6666666666666666,
              "#ed7953"
             ],
             [
              0.7777777777777778,
              "#fb9f3a"
             ],
             [
              0.8888888888888888,
              "#fdca26"
             ],
             [
              1.0,
              "#f0f921"
             ]
            ],
            "type": "surface"
           }
          ],
          "table": [
           {
            "cells": {
             "fill": {
              "color": "#EBF0F8"
             },
             "line": {
              "color": "white"
             }
            },
            "header": {
             "fill": {
              "color": "#C8D4E3"
             },
             "line": {
              "color": "white"
             }
            },
            "type": "table"
           }
          ]
         },
         "layout": {
          "annotationdefaults": {
           "arrowcolor": "#2a3f5f",
           "arrowhead": 0,
           "arrowwidth": 1
          },
          "autotypenumbers": "strict",
          "coloraxis": {
           "colorbar": {
            "outlinewidth": 0,
            "ticks": ""
           }
          },
          "colorscale": {
           "diverging": [
            [
             0,
             "#8e0152"
            ],
            [
             0.1,
             "#c51b7d"
            ],
            [
             0.2,
             "#de77ae"
            ],
            [
             0.3,
             "#f1b6da"
            ],
            [
             0.4,
             "#fde0ef"
            ],
            [
             0.5,
             "#f7f7f7"
            ],
            [
             0.6,
             "#e6f5d0"
            ],
            [
             0.7,
             "#b8e186"
            ],
            [
             0.8,
             "#7fbc41"
            ],
            [
             0.9,
             "#4d9221"
            ],
            [
             1,
             "#276419"
            ]
           ],
           "sequential": [
            [
             0.0,
             "#0d0887"
            ],
            [
             0.1111111111111111,
             "#46039f"
            ],
            [
             0.2222222222222222,
             "#7201a8"
            ],
            [
             0.3333333333333333,
             "#9c179e"
            ],
            [
             0.4444444444444444,
             "#bd3786"
            ],
            [
             0.5555555555555556,
             "#d8576b"
            ],
            [
             0.6666666666666666,
             "#ed7953"
            ],
            [
             0.7777777777777778,
             "#fb9f3a"
            ],
            [
             0.8888888888888888,
             "#fdca26"
            ],
            [
             1.0,
             "#f0f921"
            ]
           ],
           "sequentialminus": [
            [
             0.0,
             "#0d0887"
            ],
            [
             0.1111111111111111,
             "#46039f"
            ],
            [
             0.2222222222222222,
             "#7201a8"
            ],
            [
             0.3333333333333333,
             "#9c179e"
            ],
            [
             0.4444444444444444,
             "#bd3786"
            ],
            [
             0.5555555555555556,
             "#d8576b"
            ],
            [
             0.6666666666666666,
             "#ed7953"
            ],
            [
             0.7777777777777778,
             "#fb9f3a"
            ],
            [
             0.8888888888888888,
             "#fdca26"
            ],
            [
             1.0,
             "#f0f921"
            ]
           ]
          },
          "colorway": [
           "#636efa",
           "#EF553B",
           "#00cc96",
           "#ab63fa",
           "#FFA15A",
           "#19d3f3",
           "#FF6692",
           "#B6E880",
           "#FF97FF",
           "#FECB52"
          ],
          "font": {
           "color": "#2a3f5f"
          },
          "geo": {
           "bgcolor": "white",
           "lakecolor": "white",
           "landcolor": "#E5ECF6",
           "showlakes": true,
           "showland": true,
           "subunitcolor": "white"
          },
          "hoverlabel": {
           "align": "left"
          },
          "hovermode": "closest",
          "mapbox": {
           "style": "light"
          },
          "paper_bgcolor": "white",
          "plot_bgcolor": "#E5ECF6",
          "polar": {
           "angularaxis": {
            "gridcolor": "white",
            "linecolor": "white",
            "ticks": ""
           },
           "bgcolor": "#E5ECF6",
           "radialaxis": {
            "gridcolor": "white",
            "linecolor": "white",
            "ticks": ""
           }
          },
          "scene": {
           "xaxis": {
            "backgroundcolor": "#E5ECF6",
            "gridcolor": "white",
            "gridwidth": 2,
            "linecolor": "white",
            "showbackground": true,
            "ticks": "",
            "zerolinecolor": "white"
           },
           "yaxis": {
            "backgroundcolor": "#E5ECF6",
            "gridcolor": "white",
            "gridwidth": 2,
            "linecolor": "white",
            "showbackground": true,
            "ticks": "",
            "zerolinecolor": "white"
           },
           "zaxis": {
            "backgroundcolor": "#E5ECF6",
            "gridcolor": "white",
            "gridwidth": 2,
            "linecolor": "white",
            "showbackground": true,
            "ticks": "",
            "zerolinecolor": "white"
           }
          },
          "shapedefaults": {
           "line": {
            "color": "#2a3f5f"
           }
          },
          "ternary": {
           "aaxis": {
            "gridcolor": "white",
            "linecolor": "white",
            "ticks": ""
           },
           "baxis": {
            "gridcolor": "white",
            "linecolor": "white",
            "ticks": ""
           },
           "bgcolor": "#E5ECF6",
           "caxis": {
            "gridcolor": "white",
            "linecolor": "white",
            "ticks": ""
           }
          },
          "title": {
           "x": 0.05
          },
          "xaxis": {
           "automargin": true,
           "gridcolor": "white",
           "linecolor": "white",
           "ticks": "",
           "title": {
            "standoff": 15
           },
           "zerolinecolor": "white",
           "zerolinewidth": 2
          },
          "yaxis": {
           "automargin": true,
           "gridcolor": "white",
           "linecolor": "white",
           "ticks": "",
           "title": {
            "standoff": 15
           },
           "zerolinecolor": "white",
           "zerolinewidth": 2
          }
         }
        },
        "xaxis": {
         "anchor": "y",
         "domain": [
          0.0,
          1.0
         ],
         "title": {
          "text": "churn"
         }
        },
        "yaxis": {
         "anchor": "x",
         "domain": [
          0.0,
          1.0
         ],
         "title": {
          "text": "avg_songs_played"
         }
        }
       }
      },
      "text/html": [
       "<div>                            <div id=\"4ba3b233-6561-4693-8099-f0825b82daf8\" class=\"plotly-graph-div\" style=\"height:525px; width:100%;\"></div>            <script type=\"text/javascript\">                require([\"plotly\"], function(Plotly) {                    window.PLOTLYENV=window.PLOTLYENV || {};                                    if (document.getElementById(\"4ba3b233-6561-4693-8099-f0825b82daf8\")) {                    Plotly.newPlot(                        \"4ba3b233-6561-4693-8099-f0825b82daf8\",                        [{\"alignmentgroup\": \"True\", \"hovertemplate\": \"churn=%{x}<br>avg_songs_played=%{y}<extra></extra>\", \"legendgroup\": \"\", \"marker\": {\"color\": \"#636efa\"}, \"name\": \"\", \"offsetgroup\": \"\", \"orientation\": \"v\", \"showlegend\": false, \"textposition\": \"auto\", \"type\": \"bar\", \"x\": [\"1\", \"0\"], \"xaxis\": \"x\", \"y\": [852.1111111111111, 966.2433035714286], \"yaxis\": \"y\"}],                        {\"barmode\": \"relative\", \"legend\": {\"tracegroupgap\": 0}, \"margin\": {\"t\": 60}, \"template\": {\"data\": {\"bar\": [{\"error_x\": {\"color\": \"#2a3f5f\"}, \"error_y\": {\"color\": \"#2a3f5f\"}, \"marker\": {\"line\": {\"color\": \"#E5ECF6\", \"width\": 0.5}}, \"type\": \"bar\"}], \"barpolar\": [{\"marker\": {\"line\": {\"color\": \"#E5ECF6\", \"width\": 0.5}}, \"type\": \"barpolar\"}], \"carpet\": [{\"aaxis\": {\"endlinecolor\": \"#2a3f5f\", \"gridcolor\": \"white\", \"linecolor\": \"white\", \"minorgridcolor\": \"white\", \"startlinecolor\": \"#2a3f5f\"}, \"baxis\": {\"endlinecolor\": \"#2a3f5f\", \"gridcolor\": \"white\", \"linecolor\": \"white\", \"minorgridcolor\": \"white\", \"startlinecolor\": \"#2a3f5f\"}, \"type\": \"carpet\"}], \"choropleth\": [{\"colorbar\": {\"outlinewidth\": 0, \"ticks\": \"\"}, \"type\": \"choropleth\"}], \"contour\": [{\"colorbar\": {\"outlinewidth\": 0, \"ticks\": \"\"}, \"colorscale\": [[0.0, \"#0d0887\"], [0.1111111111111111, \"#46039f\"], [0.2222222222222222, \"#7201a8\"], [0.3333333333333333, \"#9c179e\"], [0.4444444444444444, \"#bd3786\"], [0.5555555555555556, \"#d8576b\"], [0.6666666666666666, \"#ed7953\"], [0.7777777777777778, \"#fb9f3a\"], [0.8888888888888888, \"#fdca26\"], [1.0, \"#f0f921\"]], \"type\": \"contour\"}], \"contourcarpet\": [{\"colorbar\": {\"outlinewidth\": 0, \"ticks\": \"\"}, \"type\": \"contourcarpet\"}], \"heatmap\": [{\"colorbar\": {\"outlinewidth\": 0, \"ticks\": \"\"}, \"colorscale\": [[0.0, \"#0d0887\"], [0.1111111111111111, \"#46039f\"], [0.2222222222222222, \"#7201a8\"], [0.3333333333333333, \"#9c179e\"], [0.4444444444444444, \"#bd3786\"], [0.5555555555555556, \"#d8576b\"], [0.6666666666666666, \"#ed7953\"], [0.7777777777777778, \"#fb9f3a\"], [0.8888888888888888, \"#fdca26\"], [1.0, \"#f0f921\"]], \"type\": \"heatmap\"}], \"heatmapgl\": [{\"colorbar\": {\"outlinewidth\": 0, \"ticks\": \"\"}, \"colorscale\": [[0.0, \"#0d0887\"], [0.1111111111111111, \"#46039f\"], [0.2222222222222222, \"#7201a8\"], [0.3333333333333333, \"#9c179e\"], [0.4444444444444444, \"#bd3786\"], [0.5555555555555556, \"#d8576b\"], [0.6666666666666666, \"#ed7953\"], [0.7777777777777778, \"#fb9f3a\"], [0.8888888888888888, \"#fdca26\"], [1.0, \"#f0f921\"]], \"type\": \"heatmapgl\"}], \"histogram\": [{\"marker\": {\"colorbar\": {\"outlinewidth\": 0, \"ticks\": \"\"}}, \"type\": \"histogram\"}], \"histogram2d\": [{\"colorbar\": {\"outlinewidth\": 0, \"ticks\": \"\"}, \"colorscale\": [[0.0, \"#0d0887\"], [0.1111111111111111, \"#46039f\"], [0.2222222222222222, \"#7201a8\"], [0.3333333333333333, \"#9c179e\"], [0.4444444444444444, \"#bd3786\"], [0.5555555555555556, \"#d8576b\"], [0.6666666666666666, \"#ed7953\"], [0.7777777777777778, \"#fb9f3a\"], [0.8888888888888888, \"#fdca26\"], [1.0, \"#f0f921\"]], \"type\": \"histogram2d\"}], \"histogram2dcontour\": [{\"colorbar\": {\"outlinewidth\": 0, \"ticks\": \"\"}, \"colorscale\": [[0.0, \"#0d0887\"], [0.1111111111111111, \"#46039f\"], [0.2222222222222222, \"#7201a8\"], [0.3333333333333333, \"#9c179e\"], [0.4444444444444444, \"#bd3786\"], [0.5555555555555556, \"#d8576b\"], [0.6666666666666666, \"#ed7953\"], [0.7777777777777778, \"#fb9f3a\"], [0.8888888888888888, \"#fdca26\"], [1.0, \"#f0f921\"]], \"type\": \"histogram2dcontour\"}], \"mesh3d\": [{\"colorbar\": {\"outlinewidth\": 0, \"ticks\": \"\"}, \"type\": \"mesh3d\"}], \"parcoords\": [{\"line\": {\"colorbar\": {\"outlinewidth\": 0, \"ticks\": \"\"}}, \"type\": \"parcoords\"}], \"pie\": [{\"automargin\": true, \"type\": \"pie\"}], \"scatter\": [{\"marker\": {\"colorbar\": {\"outlinewidth\": 0, \"ticks\": \"\"}}, \"type\": \"scatter\"}], \"scatter3d\": [{\"line\": {\"colorbar\": {\"outlinewidth\": 0, \"ticks\": \"\"}}, \"marker\": {\"colorbar\": {\"outlinewidth\": 0, \"ticks\": \"\"}}, \"type\": \"scatter3d\"}], \"scattercarpet\": [{\"marker\": {\"colorbar\": {\"outlinewidth\": 0, \"ticks\": \"\"}}, \"type\": \"scattercarpet\"}], \"scattergeo\": [{\"marker\": {\"colorbar\": {\"outlinewidth\": 0, \"ticks\": \"\"}}, \"type\": \"scattergeo\"}], \"scattergl\": [{\"marker\": {\"colorbar\": {\"outlinewidth\": 0, \"ticks\": \"\"}}, \"type\": \"scattergl\"}], \"scattermapbox\": [{\"marker\": {\"colorbar\": {\"outlinewidth\": 0, \"ticks\": \"\"}}, \"type\": \"scattermapbox\"}], \"scatterpolar\": [{\"marker\": {\"colorbar\": {\"outlinewidth\": 0, \"ticks\": \"\"}}, \"type\": \"scatterpolar\"}], \"scatterpolargl\": [{\"marker\": {\"colorbar\": {\"outlinewidth\": 0, \"ticks\": \"\"}}, \"type\": \"scatterpolargl\"}], \"scatterternary\": [{\"marker\": {\"colorbar\": {\"outlinewidth\": 0, \"ticks\": \"\"}}, \"type\": \"scatterternary\"}], \"surface\": [{\"colorbar\": {\"outlinewidth\": 0, \"ticks\": \"\"}, \"colorscale\": [[0.0, \"#0d0887\"], [0.1111111111111111, \"#46039f\"], [0.2222222222222222, \"#7201a8\"], [0.3333333333333333, \"#9c179e\"], [0.4444444444444444, \"#bd3786\"], [0.5555555555555556, \"#d8576b\"], [0.6666666666666666, \"#ed7953\"], [0.7777777777777778, \"#fb9f3a\"], [0.8888888888888888, \"#fdca26\"], [1.0, \"#f0f921\"]], \"type\": \"surface\"}], \"table\": [{\"cells\": {\"fill\": {\"color\": \"#EBF0F8\"}, \"line\": {\"color\": \"white\"}}, \"header\": {\"fill\": {\"color\": \"#C8D4E3\"}, \"line\": {\"color\": \"white\"}}, \"type\": \"table\"}]}, \"layout\": {\"annotationdefaults\": {\"arrowcolor\": \"#2a3f5f\", \"arrowhead\": 0, \"arrowwidth\": 1}, \"autotypenumbers\": \"strict\", \"coloraxis\": {\"colorbar\": {\"outlinewidth\": 0, \"ticks\": \"\"}}, \"colorscale\": {\"diverging\": [[0, \"#8e0152\"], [0.1, \"#c51b7d\"], [0.2, \"#de77ae\"], [0.3, \"#f1b6da\"], [0.4, \"#fde0ef\"], [0.5, \"#f7f7f7\"], [0.6, \"#e6f5d0\"], [0.7, \"#b8e186\"], [0.8, \"#7fbc41\"], [0.9, \"#4d9221\"], [1, \"#276419\"]], \"sequential\": [[0.0, \"#0d0887\"], [0.1111111111111111, \"#46039f\"], [0.2222222222222222, \"#7201a8\"], [0.3333333333333333, \"#9c179e\"], [0.4444444444444444, \"#bd3786\"], [0.5555555555555556, \"#d8576b\"], [0.6666666666666666, \"#ed7953\"], [0.7777777777777778, \"#fb9f3a\"], [0.8888888888888888, \"#fdca26\"], [1.0, \"#f0f921\"]], \"sequentialminus\": [[0.0, \"#0d0887\"], [0.1111111111111111, \"#46039f\"], [0.2222222222222222, \"#7201a8\"], [0.3333333333333333, \"#9c179e\"], [0.4444444444444444, \"#bd3786\"], [0.5555555555555556, \"#d8576b\"], [0.6666666666666666, \"#ed7953\"], [0.7777777777777778, \"#fb9f3a\"], [0.8888888888888888, \"#fdca26\"], [1.0, \"#f0f921\"]]}, \"colorway\": [\"#636efa\", \"#EF553B\", \"#00cc96\", \"#ab63fa\", \"#FFA15A\", \"#19d3f3\", \"#FF6692\", \"#B6E880\", \"#FF97FF\", \"#FECB52\"], \"font\": {\"color\": \"#2a3f5f\"}, \"geo\": {\"bgcolor\": \"white\", \"lakecolor\": \"white\", \"landcolor\": \"#E5ECF6\", \"showlakes\": true, \"showland\": true, \"subunitcolor\": \"white\"}, \"hoverlabel\": {\"align\": \"left\"}, \"hovermode\": \"closest\", \"mapbox\": {\"style\": \"light\"}, \"paper_bgcolor\": \"white\", \"plot_bgcolor\": \"#E5ECF6\", \"polar\": {\"angularaxis\": {\"gridcolor\": \"white\", \"linecolor\": \"white\", \"ticks\": \"\"}, \"bgcolor\": \"#E5ECF6\", \"radialaxis\": {\"gridcolor\": \"white\", \"linecolor\": \"white\", \"ticks\": \"\"}}, \"scene\": {\"xaxis\": {\"backgroundcolor\": \"#E5ECF6\", \"gridcolor\": \"white\", \"gridwidth\": 2, \"linecolor\": \"white\", \"showbackground\": true, \"ticks\": \"\", \"zerolinecolor\": \"white\"}, \"yaxis\": {\"backgroundcolor\": \"#E5ECF6\", \"gridcolor\": \"white\", \"gridwidth\": 2, \"linecolor\": \"white\", \"showbackground\": true, \"ticks\": \"\", \"zerolinecolor\": \"white\"}, \"zaxis\": {\"backgroundcolor\": \"#E5ECF6\", \"gridcolor\": \"white\", \"gridwidth\": 2, \"linecolor\": \"white\", \"showbackground\": true, \"ticks\": \"\", \"zerolinecolor\": \"white\"}}, \"shapedefaults\": {\"line\": {\"color\": \"#2a3f5f\"}}, \"ternary\": {\"aaxis\": {\"gridcolor\": \"white\", \"linecolor\": \"white\", \"ticks\": \"\"}, \"baxis\": {\"gridcolor\": \"white\", \"linecolor\": \"white\", \"ticks\": \"\"}, \"bgcolor\": \"#E5ECF6\", \"caxis\": {\"gridcolor\": \"white\", \"linecolor\": \"white\", \"ticks\": \"\"}}, \"title\": {\"x\": 0.05}, \"xaxis\": {\"automargin\": true, \"gridcolor\": \"white\", \"linecolor\": \"white\", \"ticks\": \"\", \"title\": {\"standoff\": 15}, \"zerolinecolor\": \"white\", \"zerolinewidth\": 2}, \"yaxis\": {\"automargin\": true, \"gridcolor\": \"white\", \"linecolor\": \"white\", \"ticks\": \"\", \"title\": {\"standoff\": 15}, \"zerolinecolor\": \"white\", \"zerolinewidth\": 2}}}, \"xaxis\": {\"anchor\": \"y\", \"domain\": [0.0, 1.0], \"title\": {\"text\": \"churn\"}}, \"yaxis\": {\"anchor\": \"x\", \"domain\": [0.0, 1.0], \"title\": {\"text\": \"avg_songs_played\"}}},                        {\"responsive\": true}                    ).then(function(){\n",
       "                            \n",
       "var gd = document.getElementById('4ba3b233-6561-4693-8099-f0825b82daf8');\n",
       "var x = new MutationObserver(function (mutations, observer) {{\n",
       "        var display = window.getComputedStyle(gd).display;\n",
       "        if (!display || display === 'none') {{\n",
       "            console.log([gd, 'removed!']);\n",
       "            Plotly.purge(gd);\n",
       "            observer.disconnect();\n",
       "        }}\n",
       "}});\n",
       "\n",
       "// Listen for the removal of the full notebook cells\n",
       "var notebookContainer = gd.closest('#notebook-container');\n",
       "if (notebookContainer) {{\n",
       "    x.observe(notebookContainer, {childList: true});\n",
       "}}\n",
       "\n",
       "// Listen for the clearing of the current output cell\n",
       "var outputEl = gd.closest('.output');\n",
       "if (outputEl) {{\n",
       "    x.observe(outputEl, {childList: true});\n",
       "}}\n",
       "\n",
       "                        })                };                });            </script>        </div>"
      ]
     },
     "metadata": {},
     "output_type": "display_data"
    }
   ],
   "source": [
    "import plotly.express as px\n",
    "\n",
    "fig = px.bar(av_song_df, x='churn', y='avg_songs_played')\n",
    "fig.show()"
   ]
  },
  {
   "cell_type": "markdown",
   "metadata": {
    "papermill": {
     "duration": 0.118887,
     "end_time": "2021-02-12T23:46:11.761576",
     "exception": false,
     "start_time": "2021-02-12T23:46:11.642689",
     "status": "completed"
    },
    "tags": []
   },
   "source": [
    "### Average hits/page for churned vs non-churned."
   ]
  },
  {
   "cell_type": "code",
   "execution_count": 43,
   "metadata": {
    "execution": {
     "iopub.execute_input": "2021-02-12T23:46:12.125443Z",
     "iopub.status.busy": "2021-02-12T23:46:12.124340Z",
     "iopub.status.idle": "2021-02-12T23:46:12.192422Z",
     "shell.execute_reply": "2021-02-12T23:46:12.191723Z"
    },
    "papermill": {
     "duration": 0.31184,
     "end_time": "2021-02-12T23:46:12.192583",
     "exception": false,
     "start_time": "2021-02-12T23:46:11.880743",
     "status": "completed"
    },
    "tags": []
   },
   "outputs": [
    {
     "data": {
      "text/html": [
       "<div>\n",
       "<style scoped>\n",
       "    .dataframe tbody tr th:only-of-type {\n",
       "        vertical-align: middle;\n",
       "    }\n",
       "\n",
       "    .dataframe tbody tr th {\n",
       "        vertical-align: top;\n",
       "    }\n",
       "\n",
       "    .dataframe thead th {\n",
       "        text-align: right;\n",
       "    }\n",
       "</style>\n",
       "<table border=\"1\" class=\"dataframe\">\n",
       "  <thead>\n",
       "    <tr style=\"text-align: right;\">\n",
       "      <th></th>\n",
       "      <th>ts</th>\n",
       "      <th>userId</th>\n",
       "      <th>sessionId</th>\n",
       "      <th>page</th>\n",
       "      <th>auth</th>\n",
       "      <th>method</th>\n",
       "      <th>status</th>\n",
       "      <th>level</th>\n",
       "      <th>itemInSession</th>\n",
       "      <th>location</th>\n",
       "      <th>userAgent</th>\n",
       "      <th>lastName</th>\n",
       "      <th>firstName</th>\n",
       "      <th>registration</th>\n",
       "      <th>gender</th>\n",
       "      <th>artist</th>\n",
       "      <th>song</th>\n",
       "      <th>length</th>\n",
       "      <th>churn</th>\n",
       "    </tr>\n",
       "  </thead>\n",
       "  <tbody>\n",
       "    <tr>\n",
       "      <th>3</th>\n",
       "      <td>1538352119000</td>\n",
       "      <td>179</td>\n",
       "      <td>178</td>\n",
       "      <td>Logout</td>\n",
       "      <td>Logged In</td>\n",
       "      <td>PUT</td>\n",
       "      <td>307</td>\n",
       "      <td>paid</td>\n",
       "      <td>185</td>\n",
       "      <td>Orlando-Kissimmee-Sanford, FL</td>\n",
       "      <td>\"Mozilla/5.0 (Macintosh; Intel Mac OS X 10_9_4...</td>\n",
       "      <td>Santiago</td>\n",
       "      <td>Maverick</td>\n",
       "      <td>1.535953e+12</td>\n",
       "      <td>M</td>\n",
       "      <td>NaN</td>\n",
       "      <td>NaN</td>\n",
       "      <td>NaN</td>\n",
       "      <td>0</td>\n",
       "    </tr>\n",
       "    <tr>\n",
       "      <th>10</th>\n",
       "      <td>1538352176000</td>\n",
       "      <td>179</td>\n",
       "      <td>178</td>\n",
       "      <td>Home</td>\n",
       "      <td>Logged In</td>\n",
       "      <td>GET</td>\n",
       "      <td>200</td>\n",
       "      <td>paid</td>\n",
       "      <td>190</td>\n",
       "      <td>Orlando-Kissimmee-Sanford, FL</td>\n",
       "      <td>\"Mozilla/5.0 (Macintosh; Intel Mac OS X 10_9_4...</td>\n",
       "      <td>Santiago</td>\n",
       "      <td>Maverick</td>\n",
       "      <td>1.535953e+12</td>\n",
       "      <td>M</td>\n",
       "      <td>NaN</td>\n",
       "      <td>NaN</td>\n",
       "      <td>NaN</td>\n",
       "      <td>0</td>\n",
       "    </tr>\n",
       "    <tr>\n",
       "      <th>12</th>\n",
       "      <td>1538352241000</td>\n",
       "      <td>100</td>\n",
       "      <td>497</td>\n",
       "      <td>Home</td>\n",
       "      <td>Logged In</td>\n",
       "      <td>GET</td>\n",
       "      <td>200</td>\n",
       "      <td>free</td>\n",
       "      <td>0</td>\n",
       "      <td>Dallas-Fort Worth-Arlington, TX</td>\n",
       "      <td>Mozilla/5.0 (Windows NT 6.1; WOW64; rv:30.0) G...</td>\n",
       "      <td>Larson</td>\n",
       "      <td>Colin</td>\n",
       "      <td>1.537982e+12</td>\n",
       "      <td>M</td>\n",
       "      <td>NaN</td>\n",
       "      <td>NaN</td>\n",
       "      <td>NaN</td>\n",
       "      <td>0</td>\n",
       "    </tr>\n",
       "  </tbody>\n",
       "</table>\n",
       "</div>"
      ],
      "text/plain": [
       "               ts userId  sessionId    page       auth method  status level  \\\n",
       "3   1538352119000    179        178  Logout  Logged In    PUT     307  paid   \n",
       "10  1538352176000    179        178    Home  Logged In    GET     200  paid   \n",
       "12  1538352241000    100        497    Home  Logged In    GET     200  free   \n",
       "\n",
       "    itemInSession                         location  \\\n",
       "3             185    Orlando-Kissimmee-Sanford, FL   \n",
       "10            190    Orlando-Kissimmee-Sanford, FL   \n",
       "12              0  Dallas-Fort Worth-Arlington, TX   \n",
       "\n",
       "                                            userAgent  lastName firstName  \\\n",
       "3   \"Mozilla/5.0 (Macintosh; Intel Mac OS X 10_9_4...  Santiago  Maverick   \n",
       "10  \"Mozilla/5.0 (Macintosh; Intel Mac OS X 10_9_4...  Santiago  Maverick   \n",
       "12  Mozilla/5.0 (Windows NT 6.1; WOW64; rv:30.0) G...    Larson     Colin   \n",
       "\n",
       "    registration gender artist song  length  churn  \n",
       "3   1.535953e+12      M    NaN  NaN     NaN      0  \n",
       "10  1.535953e+12      M    NaN  NaN     NaN      0  \n",
       "12  1.537982e+12      M    NaN  NaN     NaN      0  "
      ]
     },
     "execution_count": 43,
     "metadata": {},
     "output_type": "execute_result"
    }
   ],
   "source": [
    "#Get df w/o NextSong page\n",
    "no_nextsong_df = df[df.page != 'NextSong']\n",
    "no_nextsong_df.head(3)"
   ]
  },
  {
   "cell_type": "code",
   "execution_count": 44,
   "metadata": {
    "execution": {
     "iopub.execute_input": "2021-02-12T23:46:12.441352Z",
     "iopub.status.busy": "2021-02-12T23:46:12.440708Z",
     "iopub.status.idle": "2021-02-12T23:46:12.448250Z",
     "shell.execute_reply": "2021-02-12T23:46:12.447731Z"
    },
    "papermill": {
     "duration": 0.135177,
     "end_time": "2021-02-12T23:46:12.448363",
     "exception": false,
     "start_time": "2021-02-12T23:46:12.313186",
     "status": "completed"
    },
    "tags": []
   },
   "outputs": [
    {
     "data": {
      "text/plain": [
       "array(['208', '231', '236', '156', '271', '200', '130', '123', '54', '39',\n",
       "       '154', '132', '10', '296', '187', '51', '13', '32', '28', '198',\n",
       "       '196', '172', '189', '234', '16', '214', '246', '88', '45', '61',\n",
       "       '124', '223', '41', '221', '162', '131', '288', '265', '188',\n",
       "       '120', '293', '126', '164', '11', '118', '89', '167', '34', '81',\n",
       "       '18', '85', '140', '100001', '100013', '100030', '100032',\n",
       "       '100044', '100036', '100023', '100005', '100049', '100018',\n",
       "       '100047', '100010', '100004', '100038', '100045', '100014',\n",
       "       '100028', '100016', '100042', '100041', '100040', '100025',\n",
       "       '100012', '100003', '100048', '100043', '100017', '100024',\n",
       "       '100051', '100011', '200016', '200037', '200041', '200002',\n",
       "       '200013', '200021', '200008', '200027', '200050', '200028',\n",
       "       '200024', '200045', '200023', '200039', '200020', '300004',\n",
       "       '300047'], dtype=object)"
      ]
     },
     "execution_count": 44,
     "metadata": {},
     "output_type": "execute_result"
    }
   ],
   "source": [
    "#get churn userid's from df\n",
    "churn_id = df.loc[df['churn'] == 1].userId.unique()\n",
    "churn_id"
   ]
  },
  {
   "cell_type": "code",
   "execution_count": 45,
   "metadata": {
    "execution": {
     "iopub.execute_input": "2021-02-12T23:46:12.781317Z",
     "iopub.status.busy": "2021-02-12T23:46:12.780594Z",
     "iopub.status.idle": "2021-02-12T23:46:12.822770Z",
     "shell.execute_reply": "2021-02-12T23:46:12.822182Z"
    },
    "papermill": {
     "duration": 0.251451,
     "end_time": "2021-02-12T23:46:12.822882",
     "exception": false,
     "start_time": "2021-02-12T23:46:12.571431",
     "status": "completed"
    },
    "tags": []
   },
   "outputs": [],
   "source": [
    "all_id = df.userId.unique()"
   ]
  },
  {
   "cell_type": "code",
   "execution_count": 46,
   "metadata": {
    "execution": {
     "iopub.execute_input": "2021-02-12T23:46:13.078303Z",
     "iopub.status.busy": "2021-02-12T23:46:13.077608Z",
     "iopub.status.idle": "2021-02-12T23:46:13.082336Z",
     "shell.execute_reply": "2021-02-12T23:46:13.081748Z"
    },
    "papermill": {
     "duration": 0.138114,
     "end_time": "2021-02-12T23:46:13.082451",
     "exception": false,
     "start_time": "2021-02-12T23:46:12.944337",
     "status": "completed"
    },
    "tags": []
   },
   "outputs": [
    {
     "name": "stdout",
     "output_type": "stream",
     "text": [
      "349\n"
     ]
    }
   ],
   "source": [
    "#get non-churn userid's (all userid's - churn userid's) from df\n",
    "non_churn_id = []\n",
    "for i in all_id:\n",
    "    if i not in churn_id:\n",
    "        non_churn_id.append(i) \n",
    "print(len(non_churn_id)) #expect 448-99=349"
   ]
  },
  {
   "cell_type": "code",
   "execution_count": 47,
   "metadata": {
    "execution": {
     "iopub.execute_input": "2021-02-12T23:46:13.334266Z",
     "iopub.status.busy": "2021-02-12T23:46:13.333532Z",
     "iopub.status.idle": "2021-02-12T23:46:13.521986Z",
     "shell.execute_reply": "2021-02-12T23:46:13.522542Z"
    },
    "papermill": {
     "duration": 0.313458,
     "end_time": "2021-02-12T23:46:13.522687",
     "exception": false,
     "start_time": "2021-02-12T23:46:13.209229",
     "status": "completed"
    },
    "tags": []
   },
   "outputs": [
    {
     "data": {
      "text/html": [
       "<div>\n",
       "<style scoped>\n",
       "    .dataframe tbody tr th:only-of-type {\n",
       "        vertical-align: middle;\n",
       "    }\n",
       "\n",
       "    .dataframe tbody tr th {\n",
       "        vertical-align: top;\n",
       "    }\n",
       "\n",
       "    .dataframe thead th {\n",
       "        text-align: right;\n",
       "    }\n",
       "</style>\n",
       "<table border=\"1\" class=\"dataframe\">\n",
       "  <thead>\n",
       "    <tr style=\"text-align: right;\">\n",
       "      <th></th>\n",
       "      <th>page</th>\n",
       "      <th>counts</th>\n",
       "      <th>average</th>\n",
       "    </tr>\n",
       "  </thead>\n",
       "  <tbody>\n",
       "    <tr>\n",
       "      <th>0</th>\n",
       "      <td>About</td>\n",
       "      <td>185</td>\n",
       "      <td>0.412946</td>\n",
       "    </tr>\n",
       "    <tr>\n",
       "      <th>1</th>\n",
       "      <td>Add Friend</td>\n",
       "      <td>1537</td>\n",
       "      <td>3.430804</td>\n",
       "    </tr>\n",
       "    <tr>\n",
       "      <th>2</th>\n",
       "      <td>Add to Playlist</td>\n",
       "      <td>2259</td>\n",
       "      <td>5.042411</td>\n",
       "    </tr>\n",
       "    <tr>\n",
       "      <th>3</th>\n",
       "      <td>Cancel</td>\n",
       "      <td>99</td>\n",
       "      <td>0.220982</td>\n",
       "    </tr>\n",
       "    <tr>\n",
       "      <th>4</th>\n",
       "      <td>Cancellation Confirmation</td>\n",
       "      <td>99</td>\n",
       "      <td>0.220982</td>\n",
       "    </tr>\n",
       "    <tr>\n",
       "      <th>5</th>\n",
       "      <td>Downgrade</td>\n",
       "      <td>831</td>\n",
       "      <td>1.854911</td>\n",
       "    </tr>\n",
       "    <tr>\n",
       "      <th>6</th>\n",
       "      <td>Error</td>\n",
       "      <td>97</td>\n",
       "      <td>0.216518</td>\n",
       "    </tr>\n",
       "    <tr>\n",
       "      <th>7</th>\n",
       "      <td>Help</td>\n",
       "      <td>517</td>\n",
       "      <td>1.154018</td>\n",
       "    </tr>\n",
       "    <tr>\n",
       "      <th>8</th>\n",
       "      <td>Home</td>\n",
       "      <td>3778</td>\n",
       "      <td>8.433036</td>\n",
       "    </tr>\n",
       "    <tr>\n",
       "      <th>9</th>\n",
       "      <td>Logout</td>\n",
       "      <td>1184</td>\n",
       "      <td>2.642857</td>\n",
       "    </tr>\n",
       "    <tr>\n",
       "      <th>10</th>\n",
       "      <td>Roll Advert</td>\n",
       "      <td>2186</td>\n",
       "      <td>4.879464</td>\n",
       "    </tr>\n",
       "    <tr>\n",
       "      <th>11</th>\n",
       "      <td>Save Settings</td>\n",
       "      <td>104</td>\n",
       "      <td>0.232143</td>\n",
       "    </tr>\n",
       "    <tr>\n",
       "      <th>12</th>\n",
       "      <td>Settings</td>\n",
       "      <td>619</td>\n",
       "      <td>1.381696</td>\n",
       "    </tr>\n",
       "    <tr>\n",
       "      <th>13</th>\n",
       "      <td>Submit Downgrade</td>\n",
       "      <td>29</td>\n",
       "      <td>0.064732</td>\n",
       "    </tr>\n",
       "    <tr>\n",
       "      <th>14</th>\n",
       "      <td>Submit Upgrade</td>\n",
       "      <td>70</td>\n",
       "      <td>0.156250</td>\n",
       "    </tr>\n",
       "    <tr>\n",
       "      <th>15</th>\n",
       "      <td>Thumbs Down</td>\n",
       "      <td>1156</td>\n",
       "      <td>2.580357</td>\n",
       "    </tr>\n",
       "    <tr>\n",
       "      <th>16</th>\n",
       "      <td>Thumbs Up</td>\n",
       "      <td>4300</td>\n",
       "      <td>9.598214</td>\n",
       "    </tr>\n",
       "    <tr>\n",
       "      <th>17</th>\n",
       "      <td>Upgrade</td>\n",
       "      <td>237</td>\n",
       "      <td>0.529018</td>\n",
       "    </tr>\n",
       "  </tbody>\n",
       "</table>\n",
       "</div>"
      ],
      "text/plain": [
       "                         page  counts   average\n",
       "0                       About     185  0.412946\n",
       "1                  Add Friend    1537  3.430804\n",
       "2             Add to Playlist    2259  5.042411\n",
       "3                      Cancel      99  0.220982\n",
       "4   Cancellation Confirmation      99  0.220982\n",
       "5                   Downgrade     831  1.854911\n",
       "6                       Error      97  0.216518\n",
       "7                        Help     517  1.154018\n",
       "8                        Home    3778  8.433036\n",
       "9                      Logout    1184  2.642857\n",
       "10                Roll Advert    2186  4.879464\n",
       "11              Save Settings     104  0.232143\n",
       "12                   Settings     619  1.381696\n",
       "13           Submit Downgrade      29  0.064732\n",
       "14             Submit Upgrade      70  0.156250\n",
       "15                Thumbs Down    1156  2.580357\n",
       "16                  Thumbs Up    4300  9.598214\n",
       "17                    Upgrade     237  0.529018"
      ]
     },
     "execution_count": 47,
     "metadata": {},
     "output_type": "execute_result"
    }
   ],
   "source": [
    "#get page counts for churn from no_nextsong_df\n",
    "churn_page_counts = no_nextsong_df.loc[no_nextsong_df['userId'].isin(churn_id)].page.value_counts().sort_index().rename_axis('page').reset_index(name='counts').sort_index()\n",
    "churn_page_counts['average'] = churn_page_counts['counts']/(df.userId.nunique())\n",
    "churn_page_counts"
   ]
  },
  {
   "cell_type": "code",
   "execution_count": 48,
   "metadata": {
    "execution": {
     "iopub.execute_input": "2021-02-12T23:46:13.793243Z",
     "iopub.status.busy": "2021-02-12T23:46:13.792495Z",
     "iopub.status.idle": "2021-02-12T23:46:14.005469Z",
     "shell.execute_reply": "2021-02-12T23:46:14.005984Z"
    },
    "papermill": {
     "duration": 0.361671,
     "end_time": "2021-02-12T23:46:14.006186",
     "exception": false,
     "start_time": "2021-02-12T23:46:13.644515",
     "status": "completed"
    },
    "tags": []
   },
   "outputs": [
    {
     "data": {
      "text/html": [
       "<div>\n",
       "<style scoped>\n",
       "    .dataframe tbody tr th:only-of-type {\n",
       "        vertical-align: middle;\n",
       "    }\n",
       "\n",
       "    .dataframe tbody tr th {\n",
       "        vertical-align: top;\n",
       "    }\n",
       "\n",
       "    .dataframe thead th {\n",
       "        text-align: right;\n",
       "    }\n",
       "</style>\n",
       "<table border=\"1\" class=\"dataframe\">\n",
       "  <thead>\n",
       "    <tr style=\"text-align: right;\">\n",
       "      <th></th>\n",
       "      <th>page</th>\n",
       "      <th>counts</th>\n",
       "      <th>average</th>\n",
       "    </tr>\n",
       "  </thead>\n",
       "  <tbody>\n",
       "    <tr>\n",
       "      <th>0</th>\n",
       "      <td>Thumbs Up</td>\n",
       "      <td>19526</td>\n",
       "      <td>43.584821</td>\n",
       "    </tr>\n",
       "    <tr>\n",
       "      <th>1</th>\n",
       "      <td>Home</td>\n",
       "      <td>15311</td>\n",
       "      <td>34.176339</td>\n",
       "    </tr>\n",
       "    <tr>\n",
       "      <th>2</th>\n",
       "      <td>Add to Playlist</td>\n",
       "      <td>10090</td>\n",
       "      <td>22.522321</td>\n",
       "    </tr>\n",
       "    <tr>\n",
       "      <th>3</th>\n",
       "      <td>Add Friend</td>\n",
       "      <td>6550</td>\n",
       "      <td>14.620536</td>\n",
       "    </tr>\n",
       "    <tr>\n",
       "      <th>4</th>\n",
       "      <td>Roll Advert</td>\n",
       "      <td>5587</td>\n",
       "      <td>12.470982</td>\n",
       "    </tr>\n",
       "    <tr>\n",
       "      <th>5</th>\n",
       "      <td>Logout</td>\n",
       "      <td>4806</td>\n",
       "      <td>10.727679</td>\n",
       "    </tr>\n",
       "    <tr>\n",
       "      <th>6</th>\n",
       "      <td>Thumbs Down</td>\n",
       "      <td>3755</td>\n",
       "      <td>8.381696</td>\n",
       "    </tr>\n",
       "    <tr>\n",
       "      <th>7</th>\n",
       "      <td>Downgrade</td>\n",
       "      <td>2980</td>\n",
       "      <td>6.651786</td>\n",
       "    </tr>\n",
       "    <tr>\n",
       "      <th>8</th>\n",
       "      <td>Settings</td>\n",
       "      <td>2345</td>\n",
       "      <td>5.234375</td>\n",
       "    </tr>\n",
       "    <tr>\n",
       "      <th>9</th>\n",
       "      <td>Help</td>\n",
       "      <td>2127</td>\n",
       "      <td>4.747768</td>\n",
       "    </tr>\n",
       "    <tr>\n",
       "      <th>10</th>\n",
       "      <td>About</td>\n",
       "      <td>841</td>\n",
       "      <td>1.877232</td>\n",
       "    </tr>\n",
       "    <tr>\n",
       "      <th>11</th>\n",
       "      <td>Upgrade</td>\n",
       "      <td>731</td>\n",
       "      <td>1.631696</td>\n",
       "    </tr>\n",
       "    <tr>\n",
       "      <th>12</th>\n",
       "      <td>Save Settings</td>\n",
       "      <td>481</td>\n",
       "      <td>1.073661</td>\n",
       "    </tr>\n",
       "    <tr>\n",
       "      <th>13</th>\n",
       "      <td>Error</td>\n",
       "      <td>406</td>\n",
       "      <td>0.906250</td>\n",
       "    </tr>\n",
       "    <tr>\n",
       "      <th>14</th>\n",
       "      <td>Submit Upgrade</td>\n",
       "      <td>217</td>\n",
       "      <td>0.484375</td>\n",
       "    </tr>\n",
       "    <tr>\n",
       "      <th>15</th>\n",
       "      <td>Submit Downgrade</td>\n",
       "      <td>88</td>\n",
       "      <td>0.196429</td>\n",
       "    </tr>\n",
       "  </tbody>\n",
       "</table>\n",
       "</div>"
      ],
      "text/plain": [
       "                page  counts    average\n",
       "0          Thumbs Up   19526  43.584821\n",
       "1               Home   15311  34.176339\n",
       "2    Add to Playlist   10090  22.522321\n",
       "3         Add Friend    6550  14.620536\n",
       "4        Roll Advert    5587  12.470982\n",
       "5             Logout    4806  10.727679\n",
       "6        Thumbs Down    3755   8.381696\n",
       "7          Downgrade    2980   6.651786\n",
       "8           Settings    2345   5.234375\n",
       "9               Help    2127   4.747768\n",
       "10             About     841   1.877232\n",
       "11           Upgrade     731   1.631696\n",
       "12     Save Settings     481   1.073661\n",
       "13             Error     406   0.906250\n",
       "14    Submit Upgrade     217   0.484375\n",
       "15  Submit Downgrade      88   0.196429"
      ]
     },
     "execution_count": 48,
     "metadata": {},
     "output_type": "execute_result"
    }
   ],
   "source": [
    "#get page counts for non-churn from no_nextsong_df\n",
    "non_churn_page_counts = no_nextsong_df.loc[no_nextsong_df['userId'].isin(non_churn_id)].page.value_counts().rename_axis('page').reset_index(name='counts').sort_index()\n",
    "non_churn_page_counts['average'] = non_churn_page_counts['counts']/(df.userId.nunique())\n",
    "non_churn_page_counts"
   ]
  },
  {
   "cell_type": "code",
   "execution_count": 49,
   "metadata": {
    "execution": {
     "iopub.execute_input": "2021-02-12T23:46:14.257458Z",
     "iopub.status.busy": "2021-02-12T23:46:14.256761Z",
     "iopub.status.idle": "2021-02-12T23:46:14.279764Z",
     "shell.execute_reply": "2021-02-12T23:46:14.280294Z"
    },
    "papermill": {
     "duration": 0.150469,
     "end_time": "2021-02-12T23:46:14.280438",
     "exception": false,
     "start_time": "2021-02-12T23:46:14.129969",
     "status": "completed"
    },
    "tags": []
   },
   "outputs": [
    {
     "data": {
      "text/html": [
       "<div>\n",
       "<style scoped>\n",
       "    .dataframe tbody tr th:only-of-type {\n",
       "        vertical-align: middle;\n",
       "    }\n",
       "\n",
       "    .dataframe tbody tr th {\n",
       "        vertical-align: top;\n",
       "    }\n",
       "\n",
       "    .dataframe thead th {\n",
       "        text-align: right;\n",
       "    }\n",
       "</style>\n",
       "<table border=\"1\" class=\"dataframe\">\n",
       "  <thead>\n",
       "    <tr style=\"text-align: right;\">\n",
       "      <th></th>\n",
       "      <th>page</th>\n",
       "      <th>counts_x</th>\n",
       "      <th>average_x</th>\n",
       "      <th>counts_y</th>\n",
       "      <th>average_y</th>\n",
       "    </tr>\n",
       "  </thead>\n",
       "  <tbody>\n",
       "    <tr>\n",
       "      <th>0</th>\n",
       "      <td>About</td>\n",
       "      <td>185</td>\n",
       "      <td>0.412946</td>\n",
       "      <td>841.0</td>\n",
       "      <td>1.877232</td>\n",
       "    </tr>\n",
       "    <tr>\n",
       "      <th>1</th>\n",
       "      <td>Add Friend</td>\n",
       "      <td>1537</td>\n",
       "      <td>3.430804</td>\n",
       "      <td>6550.0</td>\n",
       "      <td>14.620536</td>\n",
       "    </tr>\n",
       "    <tr>\n",
       "      <th>2</th>\n",
       "      <td>Add to Playlist</td>\n",
       "      <td>2259</td>\n",
       "      <td>5.042411</td>\n",
       "      <td>10090.0</td>\n",
       "      <td>22.522321</td>\n",
       "    </tr>\n",
       "    <tr>\n",
       "      <th>3</th>\n",
       "      <td>Cancel</td>\n",
       "      <td>99</td>\n",
       "      <td>0.220982</td>\n",
       "      <td>NaN</td>\n",
       "      <td>NaN</td>\n",
       "    </tr>\n",
       "    <tr>\n",
       "      <th>4</th>\n",
       "      <td>Cancellation Confirmation</td>\n",
       "      <td>99</td>\n",
       "      <td>0.220982</td>\n",
       "      <td>NaN</td>\n",
       "      <td>NaN</td>\n",
       "    </tr>\n",
       "    <tr>\n",
       "      <th>5</th>\n",
       "      <td>Downgrade</td>\n",
       "      <td>831</td>\n",
       "      <td>1.854911</td>\n",
       "      <td>2980.0</td>\n",
       "      <td>6.651786</td>\n",
       "    </tr>\n",
       "    <tr>\n",
       "      <th>6</th>\n",
       "      <td>Error</td>\n",
       "      <td>97</td>\n",
       "      <td>0.216518</td>\n",
       "      <td>406.0</td>\n",
       "      <td>0.906250</td>\n",
       "    </tr>\n",
       "    <tr>\n",
       "      <th>7</th>\n",
       "      <td>Help</td>\n",
       "      <td>517</td>\n",
       "      <td>1.154018</td>\n",
       "      <td>2127.0</td>\n",
       "      <td>4.747768</td>\n",
       "    </tr>\n",
       "    <tr>\n",
       "      <th>8</th>\n",
       "      <td>Home</td>\n",
       "      <td>3778</td>\n",
       "      <td>8.433036</td>\n",
       "      <td>15311.0</td>\n",
       "      <td>34.176339</td>\n",
       "    </tr>\n",
       "    <tr>\n",
       "      <th>9</th>\n",
       "      <td>Logout</td>\n",
       "      <td>1184</td>\n",
       "      <td>2.642857</td>\n",
       "      <td>4806.0</td>\n",
       "      <td>10.727679</td>\n",
       "    </tr>\n",
       "    <tr>\n",
       "      <th>10</th>\n",
       "      <td>Roll Advert</td>\n",
       "      <td>2186</td>\n",
       "      <td>4.879464</td>\n",
       "      <td>5587.0</td>\n",
       "      <td>12.470982</td>\n",
       "    </tr>\n",
       "    <tr>\n",
       "      <th>11</th>\n",
       "      <td>Save Settings</td>\n",
       "      <td>104</td>\n",
       "      <td>0.232143</td>\n",
       "      <td>481.0</td>\n",
       "      <td>1.073661</td>\n",
       "    </tr>\n",
       "    <tr>\n",
       "      <th>12</th>\n",
       "      <td>Settings</td>\n",
       "      <td>619</td>\n",
       "      <td>1.381696</td>\n",
       "      <td>2345.0</td>\n",
       "      <td>5.234375</td>\n",
       "    </tr>\n",
       "    <tr>\n",
       "      <th>13</th>\n",
       "      <td>Submit Downgrade</td>\n",
       "      <td>29</td>\n",
       "      <td>0.064732</td>\n",
       "      <td>88.0</td>\n",
       "      <td>0.196429</td>\n",
       "    </tr>\n",
       "    <tr>\n",
       "      <th>14</th>\n",
       "      <td>Submit Upgrade</td>\n",
       "      <td>70</td>\n",
       "      <td>0.156250</td>\n",
       "      <td>217.0</td>\n",
       "      <td>0.484375</td>\n",
       "    </tr>\n",
       "    <tr>\n",
       "      <th>15</th>\n",
       "      <td>Thumbs Down</td>\n",
       "      <td>1156</td>\n",
       "      <td>2.580357</td>\n",
       "      <td>3755.0</td>\n",
       "      <td>8.381696</td>\n",
       "    </tr>\n",
       "    <tr>\n",
       "      <th>16</th>\n",
       "      <td>Thumbs Up</td>\n",
       "      <td>4300</td>\n",
       "      <td>9.598214</td>\n",
       "      <td>19526.0</td>\n",
       "      <td>43.584821</td>\n",
       "    </tr>\n",
       "    <tr>\n",
       "      <th>17</th>\n",
       "      <td>Upgrade</td>\n",
       "      <td>237</td>\n",
       "      <td>0.529018</td>\n",
       "      <td>731.0</td>\n",
       "      <td>1.631696</td>\n",
       "    </tr>\n",
       "  </tbody>\n",
       "</table>\n",
       "</div>"
      ],
      "text/plain": [
       "                         page  counts_x  average_x  counts_y  average_y\n",
       "0                       About       185   0.412946     841.0   1.877232\n",
       "1                  Add Friend      1537   3.430804    6550.0  14.620536\n",
       "2             Add to Playlist      2259   5.042411   10090.0  22.522321\n",
       "3                      Cancel        99   0.220982       NaN        NaN\n",
       "4   Cancellation Confirmation        99   0.220982       NaN        NaN\n",
       "5                   Downgrade       831   1.854911    2980.0   6.651786\n",
       "6                       Error        97   0.216518     406.0   0.906250\n",
       "7                        Help       517   1.154018    2127.0   4.747768\n",
       "8                        Home      3778   8.433036   15311.0  34.176339\n",
       "9                      Logout      1184   2.642857    4806.0  10.727679\n",
       "10                Roll Advert      2186   4.879464    5587.0  12.470982\n",
       "11              Save Settings       104   0.232143     481.0   1.073661\n",
       "12                   Settings       619   1.381696    2345.0   5.234375\n",
       "13           Submit Downgrade        29   0.064732      88.0   0.196429\n",
       "14             Submit Upgrade        70   0.156250     217.0   0.484375\n",
       "15                Thumbs Down      1156   2.580357    3755.0   8.381696\n",
       "16                  Thumbs Up      4300   9.598214   19526.0  43.584821\n",
       "17                    Upgrade       237   0.529018     731.0   1.631696"
      ]
     },
     "execution_count": 49,
     "metadata": {},
     "output_type": "execute_result"
    }
   ],
   "source": [
    "#make df to plot\n",
    "page_counts_df = pd.merge(churn_page_counts, non_churn_page_counts, on=\"page\", how=\"left\")\n",
    "page_counts_df #x = churn, y = non-churn"
   ]
  },
  {
   "cell_type": "code",
   "execution_count": 50,
   "metadata": {
    "execution": {
     "iopub.execute_input": "2021-02-12T23:46:14.533693Z",
     "iopub.status.busy": "2021-02-12T23:46:14.532922Z",
     "iopub.status.idle": "2021-02-12T23:46:14.560666Z",
     "shell.execute_reply": "2021-02-12T23:46:14.559938Z"
    },
    "papermill": {
     "duration": 0.156281,
     "end_time": "2021-02-12T23:46:14.560785",
     "exception": false,
     "start_time": "2021-02-12T23:46:14.404504",
     "status": "completed"
    },
    "tags": []
   },
   "outputs": [
    {
     "data": {
      "application/vnd.plotly.v1+json": {
       "config": {
        "plotlyServerURL": "https://plot.ly"
       },
       "data": [
        {
         "name": "Churn",
         "type": "bar",
         "x": [
          "About",
          "Add Friend",
          "Add to Playlist",
          "Cancel",
          "Cancellation Confirmation",
          "Downgrade",
          "Error",
          "Help",
          "Home",
          "Logout",
          "Roll Advert",
          "Save Settings",
          "Settings",
          "Submit Downgrade",
          "Submit Upgrade",
          "Thumbs Down",
          "Thumbs Up",
          "Upgrade"
         ],
         "y": [
          0.41294642857142855,
          3.4308035714285716,
          5.042410714285714,
          0.22098214285714285,
          0.22098214285714285,
          1.8549107142857142,
          0.21651785714285715,
          1.1540178571428572,
          8.433035714285714,
          2.642857142857143,
          4.879464285714286,
          0.23214285714285715,
          1.3816964285714286,
          0.06473214285714286,
          0.15625,
          2.580357142857143,
          9.598214285714286,
          0.5290178571428571
         ]
        },
        {
         "name": "Non-Churn",
         "type": "bar",
         "x": [
          "About",
          "Add Friend",
          "Add to Playlist",
          "Cancel",
          "Cancellation Confirmation",
          "Downgrade",
          "Error",
          "Help",
          "Home",
          "Logout",
          "Roll Advert",
          "Save Settings",
          "Settings",
          "Submit Downgrade",
          "Submit Upgrade",
          "Thumbs Down",
          "Thumbs Up",
          "Upgrade"
         ],
         "y": [
          1.8772321428571428,
          14.620535714285714,
          22.522321428571427,
          null,
          null,
          6.651785714285714,
          0.90625,
          4.747767857142857,
          34.176339285714285,
          10.727678571428571,
          12.470982142857142,
          1.0736607142857142,
          5.234375,
          0.19642857142857142,
          0.484375,
          8.381696428571429,
          43.58482142857143,
          1.6316964285714286
         ]
        }
       ],
       "layout": {
        "template": {
         "data": {
          "bar": [
           {
            "error_x": {
             "color": "#2a3f5f"
            },
            "error_y": {
             "color": "#2a3f5f"
            },
            "marker": {
             "line": {
              "color": "#E5ECF6",
              "width": 0.5
             }
            },
            "type": "bar"
           }
          ],
          "barpolar": [
           {
            "marker": {
             "line": {
              "color": "#E5ECF6",
              "width": 0.5
             }
            },
            "type": "barpolar"
           }
          ],
          "carpet": [
           {
            "aaxis": {
             "endlinecolor": "#2a3f5f",
             "gridcolor": "white",
             "linecolor": "white",
             "minorgridcolor": "white",
             "startlinecolor": "#2a3f5f"
            },
            "baxis": {
             "endlinecolor": "#2a3f5f",
             "gridcolor": "white",
             "linecolor": "white",
             "minorgridcolor": "white",
             "startlinecolor": "#2a3f5f"
            },
            "type": "carpet"
           }
          ],
          "choropleth": [
           {
            "colorbar": {
             "outlinewidth": 0,
             "ticks": ""
            },
            "type": "choropleth"
           }
          ],
          "contour": [
           {
            "colorbar": {
             "outlinewidth": 0,
             "ticks": ""
            },
            "colorscale": [
             [
              0.0,
              "#0d0887"
             ],
             [
              0.1111111111111111,
              "#46039f"
             ],
             [
              0.2222222222222222,
              "#7201a8"
             ],
             [
              0.3333333333333333,
              "#9c179e"
             ],
             [
              0.4444444444444444,
              "#bd3786"
             ],
             [
              0.5555555555555556,
              "#d8576b"
             ],
             [
              0.6666666666666666,
              "#ed7953"
             ],
             [
              0.7777777777777778,
              "#fb9f3a"
             ],
             [
              0.8888888888888888,
              "#fdca26"
             ],
             [
              1.0,
              "#f0f921"
             ]
            ],
            "type": "contour"
           }
          ],
          "contourcarpet": [
           {
            "colorbar": {
             "outlinewidth": 0,
             "ticks": ""
            },
            "type": "contourcarpet"
           }
          ],
          "heatmap": [
           {
            "colorbar": {
             "outlinewidth": 0,
             "ticks": ""
            },
            "colorscale": [
             [
              0.0,
              "#0d0887"
             ],
             [
              0.1111111111111111,
              "#46039f"
             ],
             [
              0.2222222222222222,
              "#7201a8"
             ],
             [
              0.3333333333333333,
              "#9c179e"
             ],
             [
              0.4444444444444444,
              "#bd3786"
             ],
             [
              0.5555555555555556,
              "#d8576b"
             ],
             [
              0.6666666666666666,
              "#ed7953"
             ],
             [
              0.7777777777777778,
              "#fb9f3a"
             ],
             [
              0.8888888888888888,
              "#fdca26"
             ],
             [
              1.0,
              "#f0f921"
             ]
            ],
            "type": "heatmap"
           }
          ],
          "heatmapgl": [
           {
            "colorbar": {
             "outlinewidth": 0,
             "ticks": ""
            },
            "colorscale": [
             [
              0.0,
              "#0d0887"
             ],
             [
              0.1111111111111111,
              "#46039f"
             ],
             [
              0.2222222222222222,
              "#7201a8"
             ],
             [
              0.3333333333333333,
              "#9c179e"
             ],
             [
              0.4444444444444444,
              "#bd3786"
             ],
             [
              0.5555555555555556,
              "#d8576b"
             ],
             [
              0.6666666666666666,
              "#ed7953"
             ],
             [
              0.7777777777777778,
              "#fb9f3a"
             ],
             [
              0.8888888888888888,
              "#fdca26"
             ],
             [
              1.0,
              "#f0f921"
             ]
            ],
            "type": "heatmapgl"
           }
          ],
          "histogram": [
           {
            "marker": {
             "colorbar": {
              "outlinewidth": 0,
              "ticks": ""
             }
            },
            "type": "histogram"
           }
          ],
          "histogram2d": [
           {
            "colorbar": {
             "outlinewidth": 0,
             "ticks": ""
            },
            "colorscale": [
             [
              0.0,
              "#0d0887"
             ],
             [
              0.1111111111111111,
              "#46039f"
             ],
             [
              0.2222222222222222,
              "#7201a8"
             ],
             [
              0.3333333333333333,
              "#9c179e"
             ],
             [
              0.4444444444444444,
              "#bd3786"
             ],
             [
              0.5555555555555556,
              "#d8576b"
             ],
             [
              0.6666666666666666,
              "#ed7953"
             ],
             [
              0.7777777777777778,
              "#fb9f3a"
             ],
             [
              0.8888888888888888,
              "#fdca26"
             ],
             [
              1.0,
              "#f0f921"
             ]
            ],
            "type": "histogram2d"
           }
          ],
          "histogram2dcontour": [
           {
            "colorbar": {
             "outlinewidth": 0,
             "ticks": ""
            },
            "colorscale": [
             [
              0.0,
              "#0d0887"
             ],
             [
              0.1111111111111111,
              "#46039f"
             ],
             [
              0.2222222222222222,
              "#7201a8"
             ],
             [
              0.3333333333333333,
              "#9c179e"
             ],
             [
              0.4444444444444444,
              "#bd3786"
             ],
             [
              0.5555555555555556,
              "#d8576b"
             ],
             [
              0.6666666666666666,
              "#ed7953"
             ],
             [
              0.7777777777777778,
              "#fb9f3a"
             ],
             [
              0.8888888888888888,
              "#fdca26"
             ],
             [
              1.0,
              "#f0f921"
             ]
            ],
            "type": "histogram2dcontour"
           }
          ],
          "mesh3d": [
           {
            "colorbar": {
             "outlinewidth": 0,
             "ticks": ""
            },
            "type": "mesh3d"
           }
          ],
          "parcoords": [
           {
            "line": {
             "colorbar": {
              "outlinewidth": 0,
              "ticks": ""
             }
            },
            "type": "parcoords"
           }
          ],
          "pie": [
           {
            "automargin": true,
            "type": "pie"
           }
          ],
          "scatter": [
           {
            "marker": {
             "colorbar": {
              "outlinewidth": 0,
              "ticks": ""
             }
            },
            "type": "scatter"
           }
          ],
          "scatter3d": [
           {
            "line": {
             "colorbar": {
              "outlinewidth": 0,
              "ticks": ""
             }
            },
            "marker": {
             "colorbar": {
              "outlinewidth": 0,
              "ticks": ""
             }
            },
            "type": "scatter3d"
           }
          ],
          "scattercarpet": [
           {
            "marker": {
             "colorbar": {
              "outlinewidth": 0,
              "ticks": ""
             }
            },
            "type": "scattercarpet"
           }
          ],
          "scattergeo": [
           {
            "marker": {
             "colorbar": {
              "outlinewidth": 0,
              "ticks": ""
             }
            },
            "type": "scattergeo"
           }
          ],
          "scattergl": [
           {
            "marker": {
             "colorbar": {
              "outlinewidth": 0,
              "ticks": ""
             }
            },
            "type": "scattergl"
           }
          ],
          "scattermapbox": [
           {
            "marker": {
             "colorbar": {
              "outlinewidth": 0,
              "ticks": ""
             }
            },
            "type": "scattermapbox"
           }
          ],
          "scatterpolar": [
           {
            "marker": {
             "colorbar": {
              "outlinewidth": 0,
              "ticks": ""
             }
            },
            "type": "scatterpolar"
           }
          ],
          "scatterpolargl": [
           {
            "marker": {
             "colorbar": {
              "outlinewidth": 0,
              "ticks": ""
             }
            },
            "type": "scatterpolargl"
           }
          ],
          "scatterternary": [
           {
            "marker": {
             "colorbar": {
              "outlinewidth": 0,
              "ticks": ""
             }
            },
            "type": "scatterternary"
           }
          ],
          "surface": [
           {
            "colorbar": {
             "outlinewidth": 0,
             "ticks": ""
            },
            "colorscale": [
             [
              0.0,
              "#0d0887"
             ],
             [
              0.1111111111111111,
              "#46039f"
             ],
             [
              0.2222222222222222,
              "#7201a8"
             ],
             [
              0.3333333333333333,
              "#9c179e"
             ],
             [
              0.4444444444444444,
              "#bd3786"
             ],
             [
              0.5555555555555556,
              "#d8576b"
             ],
             [
              0.6666666666666666,
              "#ed7953"
             ],
             [
              0.7777777777777778,
              "#fb9f3a"
             ],
             [
              0.8888888888888888,
              "#fdca26"
             ],
             [
              1.0,
              "#f0f921"
             ]
            ],
            "type": "surface"
           }
          ],
          "table": [
           {
            "cells": {
             "fill": {
              "color": "#EBF0F8"
             },
             "line": {
              "color": "white"
             }
            },
            "header": {
             "fill": {
              "color": "#C8D4E3"
             },
             "line": {
              "color": "white"
             }
            },
            "type": "table"
           }
          ]
         },
         "layout": {
          "annotationdefaults": {
           "arrowcolor": "#2a3f5f",
           "arrowhead": 0,
           "arrowwidth": 1
          },
          "autotypenumbers": "strict",
          "coloraxis": {
           "colorbar": {
            "outlinewidth": 0,
            "ticks": ""
           }
          },
          "colorscale": {
           "diverging": [
            [
             0,
             "#8e0152"
            ],
            [
             0.1,
             "#c51b7d"
            ],
            [
             0.2,
             "#de77ae"
            ],
            [
             0.3,
             "#f1b6da"
            ],
            [
             0.4,
             "#fde0ef"
            ],
            [
             0.5,
             "#f7f7f7"
            ],
            [
             0.6,
             "#e6f5d0"
            ],
            [
             0.7,
             "#b8e186"
            ],
            [
             0.8,
             "#7fbc41"
            ],
            [
             0.9,
             "#4d9221"
            ],
            [
             1,
             "#276419"
            ]
           ],
           "sequential": [
            [
             0.0,
             "#0d0887"
            ],
            [
             0.1111111111111111,
             "#46039f"
            ],
            [
             0.2222222222222222,
             "#7201a8"
            ],
            [
             0.3333333333333333,
             "#9c179e"
            ],
            [
             0.4444444444444444,
             "#bd3786"
            ],
            [
             0.5555555555555556,
             "#d8576b"
            ],
            [
             0.6666666666666666,
             "#ed7953"
            ],
            [
             0.7777777777777778,
             "#fb9f3a"
            ],
            [
             0.8888888888888888,
             "#fdca26"
            ],
            [
             1.0,
             "#f0f921"
            ]
           ],
           "sequentialminus": [
            [
             0.0,
             "#0d0887"
            ],
            [
             0.1111111111111111,
             "#46039f"
            ],
            [
             0.2222222222222222,
             "#7201a8"
            ],
            [
             0.3333333333333333,
             "#9c179e"
            ],
            [
             0.4444444444444444,
             "#bd3786"
            ],
            [
             0.5555555555555556,
             "#d8576b"
            ],
            [
             0.6666666666666666,
             "#ed7953"
            ],
            [
             0.7777777777777778,
             "#fb9f3a"
            ],
            [
             0.8888888888888888,
             "#fdca26"
            ],
            [
             1.0,
             "#f0f921"
            ]
           ]
          },
          "colorway": [
           "#636efa",
           "#EF553B",
           "#00cc96",
           "#ab63fa",
           "#FFA15A",
           "#19d3f3",
           "#FF6692",
           "#B6E880",
           "#FF97FF",
           "#FECB52"
          ],
          "font": {
           "color": "#2a3f5f"
          },
          "geo": {
           "bgcolor": "white",
           "lakecolor": "white",
           "landcolor": "#E5ECF6",
           "showlakes": true,
           "showland": true,
           "subunitcolor": "white"
          },
          "hoverlabel": {
           "align": "left"
          },
          "hovermode": "closest",
          "mapbox": {
           "style": "light"
          },
          "paper_bgcolor": "white",
          "plot_bgcolor": "#E5ECF6",
          "polar": {
           "angularaxis": {
            "gridcolor": "white",
            "linecolor": "white",
            "ticks": ""
           },
           "bgcolor": "#E5ECF6",
           "radialaxis": {
            "gridcolor": "white",
            "linecolor": "white",
            "ticks": ""
           }
          },
          "scene": {
           "xaxis": {
            "backgroundcolor": "#E5ECF6",
            "gridcolor": "white",
            "gridwidth": 2,
            "linecolor": "white",
            "showbackground": true,
            "ticks": "",
            "zerolinecolor": "white"
           },
           "yaxis": {
            "backgroundcolor": "#E5ECF6",
            "gridcolor": "white",
            "gridwidth": 2,
            "linecolor": "white",
            "showbackground": true,
            "ticks": "",
            "zerolinecolor": "white"
           },
           "zaxis": {
            "backgroundcolor": "#E5ECF6",
            "gridcolor": "white",
            "gridwidth": 2,
            "linecolor": "white",
            "showbackground": true,
            "ticks": "",
            "zerolinecolor": "white"
           }
          },
          "shapedefaults": {
           "line": {
            "color": "#2a3f5f"
           }
          },
          "ternary": {
           "aaxis": {
            "gridcolor": "white",
            "linecolor": "white",
            "ticks": ""
           },
           "baxis": {
            "gridcolor": "white",
            "linecolor": "white",
            "ticks": ""
           },
           "bgcolor": "#E5ECF6",
           "caxis": {
            "gridcolor": "white",
            "linecolor": "white",
            "ticks": ""
           }
          },
          "title": {
           "x": 0.05
          },
          "xaxis": {
           "automargin": true,
           "gridcolor": "white",
           "linecolor": "white",
           "ticks": "",
           "title": {
            "standoff": 15
           },
           "zerolinecolor": "white",
           "zerolinewidth": 2
          },
          "yaxis": {
           "automargin": true,
           "gridcolor": "white",
           "linecolor": "white",
           "ticks": "",
           "title": {
            "standoff": 15
           },
           "zerolinecolor": "white",
           "zerolinewidth": 2
          }
         }
        },
        "xaxis": {
         "tickmode": "array",
         "tickvals": [
          "About",
          "Add Friend",
          "Add to Playlist",
          "Cancel",
          "Cancellation Confirmation",
          "Downgrade",
          "Error",
          "Help",
          "Home",
          "Logout",
          "Roll Advert",
          "Save Settings",
          "Settings",
          "Submit Downgrade",
          "Submit Upgrade",
          "Thumbs Down",
          "Thumbs Up",
          "Upgrade"
         ]
        }
       }
      },
      "text/html": [
       "<div>                            <div id=\"4b64fc10-ca28-4bf1-97b1-c11d4fcb0817\" class=\"plotly-graph-div\" style=\"height:525px; width:100%;\"></div>            <script type=\"text/javascript\">                require([\"plotly\"], function(Plotly) {                    window.PLOTLYENV=window.PLOTLYENV || {};                                    if (document.getElementById(\"4b64fc10-ca28-4bf1-97b1-c11d4fcb0817\")) {                    Plotly.newPlot(                        \"4b64fc10-ca28-4bf1-97b1-c11d4fcb0817\",                        [{\"name\": \"Churn\", \"type\": \"bar\", \"x\": [\"About\", \"Add Friend\", \"Add to Playlist\", \"Cancel\", \"Cancellation Confirmation\", \"Downgrade\", \"Error\", \"Help\", \"Home\", \"Logout\", \"Roll Advert\", \"Save Settings\", \"Settings\", \"Submit Downgrade\", \"Submit Upgrade\", \"Thumbs Down\", \"Thumbs Up\", \"Upgrade\"], \"y\": [0.41294642857142855, 3.4308035714285716, 5.042410714285714, 0.22098214285714285, 0.22098214285714285, 1.8549107142857142, 0.21651785714285715, 1.1540178571428572, 8.433035714285714, 2.642857142857143, 4.879464285714286, 0.23214285714285715, 1.3816964285714286, 0.06473214285714286, 0.15625, 2.580357142857143, 9.598214285714286, 0.5290178571428571]}, {\"name\": \"Non-Churn\", \"type\": \"bar\", \"x\": [\"About\", \"Add Friend\", \"Add to Playlist\", \"Cancel\", \"Cancellation Confirmation\", \"Downgrade\", \"Error\", \"Help\", \"Home\", \"Logout\", \"Roll Advert\", \"Save Settings\", \"Settings\", \"Submit Downgrade\", \"Submit Upgrade\", \"Thumbs Down\", \"Thumbs Up\", \"Upgrade\"], \"y\": [1.8772321428571428, 14.620535714285714, 22.522321428571427, null, null, 6.651785714285714, 0.90625, 4.747767857142857, 34.176339285714285, 10.727678571428571, 12.470982142857142, 1.0736607142857142, 5.234375, 0.19642857142857142, 0.484375, 8.381696428571429, 43.58482142857143, 1.6316964285714286]}],                        {\"template\": {\"data\": {\"bar\": [{\"error_x\": {\"color\": \"#2a3f5f\"}, \"error_y\": {\"color\": \"#2a3f5f\"}, \"marker\": {\"line\": {\"color\": \"#E5ECF6\", \"width\": 0.5}}, \"type\": \"bar\"}], \"barpolar\": [{\"marker\": {\"line\": {\"color\": \"#E5ECF6\", \"width\": 0.5}}, \"type\": \"barpolar\"}], \"carpet\": [{\"aaxis\": {\"endlinecolor\": \"#2a3f5f\", \"gridcolor\": \"white\", \"linecolor\": \"white\", \"minorgridcolor\": \"white\", \"startlinecolor\": \"#2a3f5f\"}, \"baxis\": {\"endlinecolor\": \"#2a3f5f\", \"gridcolor\": \"white\", \"linecolor\": \"white\", \"minorgridcolor\": \"white\", \"startlinecolor\": \"#2a3f5f\"}, \"type\": \"carpet\"}], \"choropleth\": [{\"colorbar\": {\"outlinewidth\": 0, \"ticks\": \"\"}, \"type\": \"choropleth\"}], \"contour\": [{\"colorbar\": {\"outlinewidth\": 0, \"ticks\": \"\"}, \"colorscale\": [[0.0, \"#0d0887\"], [0.1111111111111111, \"#46039f\"], [0.2222222222222222, \"#7201a8\"], [0.3333333333333333, \"#9c179e\"], [0.4444444444444444, \"#bd3786\"], [0.5555555555555556, \"#d8576b\"], [0.6666666666666666, \"#ed7953\"], [0.7777777777777778, \"#fb9f3a\"], [0.8888888888888888, \"#fdca26\"], [1.0, \"#f0f921\"]], \"type\": \"contour\"}], \"contourcarpet\": [{\"colorbar\": {\"outlinewidth\": 0, \"ticks\": \"\"}, \"type\": \"contourcarpet\"}], \"heatmap\": [{\"colorbar\": {\"outlinewidth\": 0, \"ticks\": \"\"}, \"colorscale\": [[0.0, \"#0d0887\"], [0.1111111111111111, \"#46039f\"], [0.2222222222222222, \"#7201a8\"], [0.3333333333333333, \"#9c179e\"], [0.4444444444444444, \"#bd3786\"], [0.5555555555555556, \"#d8576b\"], [0.6666666666666666, \"#ed7953\"], [0.7777777777777778, \"#fb9f3a\"], [0.8888888888888888, \"#fdca26\"], [1.0, \"#f0f921\"]], \"type\": \"heatmap\"}], \"heatmapgl\": [{\"colorbar\": {\"outlinewidth\": 0, \"ticks\": \"\"}, \"colorscale\": [[0.0, \"#0d0887\"], [0.1111111111111111, \"#46039f\"], [0.2222222222222222, \"#7201a8\"], [0.3333333333333333, \"#9c179e\"], [0.4444444444444444, \"#bd3786\"], [0.5555555555555556, \"#d8576b\"], [0.6666666666666666, \"#ed7953\"], [0.7777777777777778, \"#fb9f3a\"], [0.8888888888888888, \"#fdca26\"], [1.0, \"#f0f921\"]], \"type\": \"heatmapgl\"}], \"histogram\": [{\"marker\": {\"colorbar\": {\"outlinewidth\": 0, \"ticks\": \"\"}}, \"type\": \"histogram\"}], \"histogram2d\": [{\"colorbar\": {\"outlinewidth\": 0, \"ticks\": \"\"}, \"colorscale\": [[0.0, \"#0d0887\"], [0.1111111111111111, \"#46039f\"], [0.2222222222222222, \"#7201a8\"], [0.3333333333333333, \"#9c179e\"], [0.4444444444444444, \"#bd3786\"], [0.5555555555555556, \"#d8576b\"], [0.6666666666666666, \"#ed7953\"], [0.7777777777777778, \"#fb9f3a\"], [0.8888888888888888, \"#fdca26\"], [1.0, \"#f0f921\"]], \"type\": \"histogram2d\"}], \"histogram2dcontour\": [{\"colorbar\": {\"outlinewidth\": 0, \"ticks\": \"\"}, \"colorscale\": [[0.0, \"#0d0887\"], [0.1111111111111111, \"#46039f\"], [0.2222222222222222, \"#7201a8\"], [0.3333333333333333, \"#9c179e\"], [0.4444444444444444, \"#bd3786\"], [0.5555555555555556, \"#d8576b\"], [0.6666666666666666, \"#ed7953\"], [0.7777777777777778, \"#fb9f3a\"], [0.8888888888888888, \"#fdca26\"], [1.0, \"#f0f921\"]], \"type\": \"histogram2dcontour\"}], \"mesh3d\": [{\"colorbar\": {\"outlinewidth\": 0, \"ticks\": \"\"}, \"type\": \"mesh3d\"}], \"parcoords\": [{\"line\": {\"colorbar\": {\"outlinewidth\": 0, \"ticks\": \"\"}}, \"type\": \"parcoords\"}], \"pie\": [{\"automargin\": true, \"type\": \"pie\"}], \"scatter\": [{\"marker\": {\"colorbar\": {\"outlinewidth\": 0, \"ticks\": \"\"}}, \"type\": \"scatter\"}], \"scatter3d\": [{\"line\": {\"colorbar\": {\"outlinewidth\": 0, \"ticks\": \"\"}}, \"marker\": {\"colorbar\": {\"outlinewidth\": 0, \"ticks\": \"\"}}, \"type\": \"scatter3d\"}], \"scattercarpet\": [{\"marker\": {\"colorbar\": {\"outlinewidth\": 0, \"ticks\": \"\"}}, \"type\": \"scattercarpet\"}], \"scattergeo\": [{\"marker\": {\"colorbar\": {\"outlinewidth\": 0, \"ticks\": \"\"}}, \"type\": \"scattergeo\"}], \"scattergl\": [{\"marker\": {\"colorbar\": {\"outlinewidth\": 0, \"ticks\": \"\"}}, \"type\": \"scattergl\"}], \"scattermapbox\": [{\"marker\": {\"colorbar\": {\"outlinewidth\": 0, \"ticks\": \"\"}}, \"type\": \"scattermapbox\"}], \"scatterpolar\": [{\"marker\": {\"colorbar\": {\"outlinewidth\": 0, \"ticks\": \"\"}}, \"type\": \"scatterpolar\"}], \"scatterpolargl\": [{\"marker\": {\"colorbar\": {\"outlinewidth\": 0, \"ticks\": \"\"}}, \"type\": \"scatterpolargl\"}], \"scatterternary\": [{\"marker\": {\"colorbar\": {\"outlinewidth\": 0, \"ticks\": \"\"}}, \"type\": \"scatterternary\"}], \"surface\": [{\"colorbar\": {\"outlinewidth\": 0, \"ticks\": \"\"}, \"colorscale\": [[0.0, \"#0d0887\"], [0.1111111111111111, \"#46039f\"], [0.2222222222222222, \"#7201a8\"], [0.3333333333333333, \"#9c179e\"], [0.4444444444444444, \"#bd3786\"], [0.5555555555555556, \"#d8576b\"], [0.6666666666666666, \"#ed7953\"], [0.7777777777777778, \"#fb9f3a\"], [0.8888888888888888, \"#fdca26\"], [1.0, \"#f0f921\"]], \"type\": \"surface\"}], \"table\": [{\"cells\": {\"fill\": {\"color\": \"#EBF0F8\"}, \"line\": {\"color\": \"white\"}}, \"header\": {\"fill\": {\"color\": \"#C8D4E3\"}, \"line\": {\"color\": \"white\"}}, \"type\": \"table\"}]}, \"layout\": {\"annotationdefaults\": {\"arrowcolor\": \"#2a3f5f\", \"arrowhead\": 0, \"arrowwidth\": 1}, \"autotypenumbers\": \"strict\", \"coloraxis\": {\"colorbar\": {\"outlinewidth\": 0, \"ticks\": \"\"}}, \"colorscale\": {\"diverging\": [[0, \"#8e0152\"], [0.1, \"#c51b7d\"], [0.2, \"#de77ae\"], [0.3, \"#f1b6da\"], [0.4, \"#fde0ef\"], [0.5, \"#f7f7f7\"], [0.6, \"#e6f5d0\"], [0.7, \"#b8e186\"], [0.8, \"#7fbc41\"], [0.9, \"#4d9221\"], [1, \"#276419\"]], \"sequential\": [[0.0, \"#0d0887\"], [0.1111111111111111, \"#46039f\"], [0.2222222222222222, \"#7201a8\"], [0.3333333333333333, \"#9c179e\"], [0.4444444444444444, \"#bd3786\"], [0.5555555555555556, \"#d8576b\"], [0.6666666666666666, \"#ed7953\"], [0.7777777777777778, \"#fb9f3a\"], [0.8888888888888888, \"#fdca26\"], [1.0, \"#f0f921\"]], \"sequentialminus\": [[0.0, \"#0d0887\"], [0.1111111111111111, \"#46039f\"], [0.2222222222222222, \"#7201a8\"], [0.3333333333333333, \"#9c179e\"], [0.4444444444444444, \"#bd3786\"], [0.5555555555555556, \"#d8576b\"], [0.6666666666666666, \"#ed7953\"], [0.7777777777777778, \"#fb9f3a\"], [0.8888888888888888, \"#fdca26\"], [1.0, \"#f0f921\"]]}, \"colorway\": [\"#636efa\", \"#EF553B\", \"#00cc96\", \"#ab63fa\", \"#FFA15A\", \"#19d3f3\", \"#FF6692\", \"#B6E880\", \"#FF97FF\", \"#FECB52\"], \"font\": {\"color\": \"#2a3f5f\"}, \"geo\": {\"bgcolor\": \"white\", \"lakecolor\": \"white\", \"landcolor\": \"#E5ECF6\", \"showlakes\": true, \"showland\": true, \"subunitcolor\": \"white\"}, \"hoverlabel\": {\"align\": \"left\"}, \"hovermode\": \"closest\", \"mapbox\": {\"style\": \"light\"}, \"paper_bgcolor\": \"white\", \"plot_bgcolor\": \"#E5ECF6\", \"polar\": {\"angularaxis\": {\"gridcolor\": \"white\", \"linecolor\": \"white\", \"ticks\": \"\"}, \"bgcolor\": \"#E5ECF6\", \"radialaxis\": {\"gridcolor\": \"white\", \"linecolor\": \"white\", \"ticks\": \"\"}}, \"scene\": {\"xaxis\": {\"backgroundcolor\": \"#E5ECF6\", \"gridcolor\": \"white\", \"gridwidth\": 2, \"linecolor\": \"white\", \"showbackground\": true, \"ticks\": \"\", \"zerolinecolor\": \"white\"}, \"yaxis\": {\"backgroundcolor\": \"#E5ECF6\", \"gridcolor\": \"white\", \"gridwidth\": 2, \"linecolor\": \"white\", \"showbackground\": true, \"ticks\": \"\", \"zerolinecolor\": \"white\"}, \"zaxis\": {\"backgroundcolor\": \"#E5ECF6\", \"gridcolor\": \"white\", \"gridwidth\": 2, \"linecolor\": \"white\", \"showbackground\": true, \"ticks\": \"\", \"zerolinecolor\": \"white\"}}, \"shapedefaults\": {\"line\": {\"color\": \"#2a3f5f\"}}, \"ternary\": {\"aaxis\": {\"gridcolor\": \"white\", \"linecolor\": \"white\", \"ticks\": \"\"}, \"baxis\": {\"gridcolor\": \"white\", \"linecolor\": \"white\", \"ticks\": \"\"}, \"bgcolor\": \"#E5ECF6\", \"caxis\": {\"gridcolor\": \"white\", \"linecolor\": \"white\", \"ticks\": \"\"}}, \"title\": {\"x\": 0.05}, \"xaxis\": {\"automargin\": true, \"gridcolor\": \"white\", \"linecolor\": \"white\", \"ticks\": \"\", \"title\": {\"standoff\": 15}, \"zerolinecolor\": \"white\", \"zerolinewidth\": 2}, \"yaxis\": {\"automargin\": true, \"gridcolor\": \"white\", \"linecolor\": \"white\", \"ticks\": \"\", \"title\": {\"standoff\": 15}, \"zerolinecolor\": \"white\", \"zerolinewidth\": 2}}}, \"xaxis\": {\"tickmode\": \"array\", \"tickvals\": [\"About\", \"Add Friend\", \"Add to Playlist\", \"Cancel\", \"Cancellation Confirmation\", \"Downgrade\", \"Error\", \"Help\", \"Home\", \"Logout\", \"Roll Advert\", \"Save Settings\", \"Settings\", \"Submit Downgrade\", \"Submit Upgrade\", \"Thumbs Down\", \"Thumbs Up\", \"Upgrade\"]}},                        {\"responsive\": true}                    ).then(function(){\n",
       "                            \n",
       "var gd = document.getElementById('4b64fc10-ca28-4bf1-97b1-c11d4fcb0817');\n",
       "var x = new MutationObserver(function (mutations, observer) {{\n",
       "        var display = window.getComputedStyle(gd).display;\n",
       "        if (!display || display === 'none') {{\n",
       "            console.log([gd, 'removed!']);\n",
       "            Plotly.purge(gd);\n",
       "            observer.disconnect();\n",
       "        }}\n",
       "}});\n",
       "\n",
       "// Listen for the removal of the full notebook cells\n",
       "var notebookContainer = gd.closest('#notebook-container');\n",
       "if (notebookContainer) {{\n",
       "    x.observe(notebookContainer, {childList: true});\n",
       "}}\n",
       "\n",
       "// Listen for the clearing of the current output cell\n",
       "var outputEl = gd.closest('.output');\n",
       "if (outputEl) {{\n",
       "    x.observe(outputEl, {childList: true});\n",
       "}}\n",
       "\n",
       "                        })                };                });            </script>        </div>"
      ]
     },
     "metadata": {},
     "output_type": "display_data"
    }
   ],
   "source": [
    "fig = go.Figure()\n",
    "fig.add_trace(go.Bar(x=page_counts_df.page,\n",
    "                     y=page_counts_df.average_x,\n",
    "                     name=\"Churn\"))\n",
    "fig.add_trace(go.Bar(x=page_counts_df.page,\n",
    "                     y=page_counts_df.average_y,\n",
    "                     name=\"Non-Churn\"))\n",
    "\n",
    "fig.update_layout(\n",
    "    xaxis = dict(\n",
    "        tickmode = 'array',\n",
    "        tickvals = page_counts_df.page\n",
    "        #ticktext = df[\"CLASS\"])\n",
    "    )\n",
    ")"
   ]
  },
  {
   "cell_type": "markdown",
   "metadata": {
    "papermill": {
     "duration": 0.130067,
     "end_time": "2021-02-12T23:46:14.821462",
     "exception": false,
     "start_time": "2021-02-12T23:46:14.691395",
     "status": "completed"
    },
    "tags": []
   },
   "source": [
    "Already from this side-by-side there is a telling story. Biggest differences from churn v. non-churn users are amount of times a user added a friend, added a song to a playlist, went to the home page and at the top of the list for main differentiator is how many thumbs up's are given."
   ]
  },
  {
   "cell_type": "markdown",
   "metadata": {
    "papermill": {
     "duration": 0.131975,
     "end_time": "2021-02-12T23:46:15.086764",
     "exception": false,
     "start_time": "2021-02-12T23:46:14.954789",
     "status": "completed"
    },
    "tags": []
   },
   "source": [
    "### Number of churned users as subscribers v paid subscribers"
   ]
  },
  {
   "cell_type": "code",
   "execution_count": 51,
   "metadata": {
    "execution": {
     "iopub.execute_input": "2021-02-12T23:46:15.455913Z",
     "iopub.status.busy": "2021-02-12T23:46:15.454723Z",
     "iopub.status.idle": "2021-02-12T23:46:15.589934Z",
     "shell.execute_reply": "2021-02-12T23:46:15.589278Z"
    },
    "papermill": {
     "duration": 0.372529,
     "end_time": "2021-02-12T23:46:15.590056",
     "exception": false,
     "start_time": "2021-02-12T23:46:15.217527",
     "status": "completed"
    },
    "tags": []
   },
   "outputs": [
    {
     "data": {
      "text/html": [
       "<div>\n",
       "<style scoped>\n",
       "    .dataframe tbody tr th:only-of-type {\n",
       "        vertical-align: middle;\n",
       "    }\n",
       "\n",
       "    .dataframe tbody tr th {\n",
       "        vertical-align: top;\n",
       "    }\n",
       "\n",
       "    .dataframe thead th {\n",
       "        text-align: right;\n",
       "    }\n",
       "</style>\n",
       "<table border=\"1\" class=\"dataframe\">\n",
       "  <thead>\n",
       "    <tr style=\"text-align: right;\">\n",
       "      <th></th>\n",
       "      <th>level</th>\n",
       "      <th>counts</th>\n",
       "    </tr>\n",
       "  </thead>\n",
       "  <tbody>\n",
       "    <tr>\n",
       "      <th>0</th>\n",
       "      <td>paid</td>\n",
       "      <td>76152</td>\n",
       "    </tr>\n",
       "    <tr>\n",
       "      <th>1</th>\n",
       "      <td>free</td>\n",
       "      <td>27494</td>\n",
       "    </tr>\n",
       "  </tbody>\n",
       "</table>\n",
       "</div>"
      ],
      "text/plain": [
       "  level  counts\n",
       "0  paid   76152\n",
       "1  free   27494"
      ]
     },
     "execution_count": 51,
     "metadata": {},
     "output_type": "execute_result"
    }
   ],
   "source": [
    "churn_subs = df.loc[df['userId'].isin(churn_id)].level.value_counts().rename_axis('level').reset_index(name='counts').sort_index()\n",
    "churn_subs"
   ]
  },
  {
   "cell_type": "code",
   "execution_count": 52,
   "metadata": {
    "execution": {
     "iopub.execute_input": "2021-02-12T23:46:15.897953Z",
     "iopub.status.busy": "2021-02-12T23:46:15.878800Z",
     "iopub.status.idle": "2021-02-12T23:46:15.933954Z",
     "shell.execute_reply": "2021-02-12T23:46:15.933212Z"
    },
    "papermill": {
     "duration": 0.21238,
     "end_time": "2021-02-12T23:46:15.934107",
     "exception": false,
     "start_time": "2021-02-12T23:46:15.721727",
     "status": "completed"
    },
    "tags": []
   },
   "outputs": [
    {
     "data": {
      "application/vnd.plotly.v1+json": {
       "config": {
        "plotlyServerURL": "https://plot.ly"
       },
       "data": [
        {
         "alignmentgroup": "True",
         "hovertemplate": "level=%{x}<br>counts=%{y}<extra></extra>",
         "legendgroup": "",
         "marker": {
          "color": "#636efa"
         },
         "name": "",
         "offsetgroup": "",
         "orientation": "v",
         "showlegend": false,
         "textposition": "auto",
         "type": "bar",
         "x": [
          "paid",
          "free"
         ],
         "xaxis": "x",
         "y": [
          76152,
          27494
         ],
         "yaxis": "y"
        }
       ],
       "layout": {
        "barmode": "relative",
        "legend": {
         "tracegroupgap": 0
        },
        "margin": {
         "t": 60
        },
        "template": {
         "data": {
          "bar": [
           {
            "error_x": {
             "color": "#2a3f5f"
            },
            "error_y": {
             "color": "#2a3f5f"
            },
            "marker": {
             "line": {
              "color": "#E5ECF6",
              "width": 0.5
             }
            },
            "type": "bar"
           }
          ],
          "barpolar": [
           {
            "marker": {
             "line": {
              "color": "#E5ECF6",
              "width": 0.5
             }
            },
            "type": "barpolar"
           }
          ],
          "carpet": [
           {
            "aaxis": {
             "endlinecolor": "#2a3f5f",
             "gridcolor": "white",
             "linecolor": "white",
             "minorgridcolor": "white",
             "startlinecolor": "#2a3f5f"
            },
            "baxis": {
             "endlinecolor": "#2a3f5f",
             "gridcolor": "white",
             "linecolor": "white",
             "minorgridcolor": "white",
             "startlinecolor": "#2a3f5f"
            },
            "type": "carpet"
           }
          ],
          "choropleth": [
           {
            "colorbar": {
             "outlinewidth": 0,
             "ticks": ""
            },
            "type": "choropleth"
           }
          ],
          "contour": [
           {
            "colorbar": {
             "outlinewidth": 0,
             "ticks": ""
            },
            "colorscale": [
             [
              0.0,
              "#0d0887"
             ],
             [
              0.1111111111111111,
              "#46039f"
             ],
             [
              0.2222222222222222,
              "#7201a8"
             ],
             [
              0.3333333333333333,
              "#9c179e"
             ],
             [
              0.4444444444444444,
              "#bd3786"
             ],
             [
              0.5555555555555556,
              "#d8576b"
             ],
             [
              0.6666666666666666,
              "#ed7953"
             ],
             [
              0.7777777777777778,
              "#fb9f3a"
             ],
             [
              0.8888888888888888,
              "#fdca26"
             ],
             [
              1.0,
              "#f0f921"
             ]
            ],
            "type": "contour"
           }
          ],
          "contourcarpet": [
           {
            "colorbar": {
             "outlinewidth": 0,
             "ticks": ""
            },
            "type": "contourcarpet"
           }
          ],
          "heatmap": [
           {
            "colorbar": {
             "outlinewidth": 0,
             "ticks": ""
            },
            "colorscale": [
             [
              0.0,
              "#0d0887"
             ],
             [
              0.1111111111111111,
              "#46039f"
             ],
             [
              0.2222222222222222,
              "#7201a8"
             ],
             [
              0.3333333333333333,
              "#9c179e"
             ],
             [
              0.4444444444444444,
              "#bd3786"
             ],
             [
              0.5555555555555556,
              "#d8576b"
             ],
             [
              0.6666666666666666,
              "#ed7953"
             ],
             [
              0.7777777777777778,
              "#fb9f3a"
             ],
             [
              0.8888888888888888,
              "#fdca26"
             ],
             [
              1.0,
              "#f0f921"
             ]
            ],
            "type": "heatmap"
           }
          ],
          "heatmapgl": [
           {
            "colorbar": {
             "outlinewidth": 0,
             "ticks": ""
            },
            "colorscale": [
             [
              0.0,
              "#0d0887"
             ],
             [
              0.1111111111111111,
              "#46039f"
             ],
             [
              0.2222222222222222,
              "#7201a8"
             ],
             [
              0.3333333333333333,
              "#9c179e"
             ],
             [
              0.4444444444444444,
              "#bd3786"
             ],
             [
              0.5555555555555556,
              "#d8576b"
             ],
             [
              0.6666666666666666,
              "#ed7953"
             ],
             [
              0.7777777777777778,
              "#fb9f3a"
             ],
             [
              0.8888888888888888,
              "#fdca26"
             ],
             [
              1.0,
              "#f0f921"
             ]
            ],
            "type": "heatmapgl"
           }
          ],
          "histogram": [
           {
            "marker": {
             "colorbar": {
              "outlinewidth": 0,
              "ticks": ""
             }
            },
            "type": "histogram"
           }
          ],
          "histogram2d": [
           {
            "colorbar": {
             "outlinewidth": 0,
             "ticks": ""
            },
            "colorscale": [
             [
              0.0,
              "#0d0887"
             ],
             [
              0.1111111111111111,
              "#46039f"
             ],
             [
              0.2222222222222222,
              "#7201a8"
             ],
             [
              0.3333333333333333,
              "#9c179e"
             ],
             [
              0.4444444444444444,
              "#bd3786"
             ],
             [
              0.5555555555555556,
              "#d8576b"
             ],
             [
              0.6666666666666666,
              "#ed7953"
             ],
             [
              0.7777777777777778,
              "#fb9f3a"
             ],
             [
              0.8888888888888888,
              "#fdca26"
             ],
             [
              1.0,
              "#f0f921"
             ]
            ],
            "type": "histogram2d"
           }
          ],
          "histogram2dcontour": [
           {
            "colorbar": {
             "outlinewidth": 0,
             "ticks": ""
            },
            "colorscale": [
             [
              0.0,
              "#0d0887"
             ],
             [
              0.1111111111111111,
              "#46039f"
             ],
             [
              0.2222222222222222,
              "#7201a8"
             ],
             [
              0.3333333333333333,
              "#9c179e"
             ],
             [
              0.4444444444444444,
              "#bd3786"
             ],
             [
              0.5555555555555556,
              "#d8576b"
             ],
             [
              0.6666666666666666,
              "#ed7953"
             ],
             [
              0.7777777777777778,
              "#fb9f3a"
             ],
             [
              0.8888888888888888,
              "#fdca26"
             ],
             [
              1.0,
              "#f0f921"
             ]
            ],
            "type": "histogram2dcontour"
           }
          ],
          "mesh3d": [
           {
            "colorbar": {
             "outlinewidth": 0,
             "ticks": ""
            },
            "type": "mesh3d"
           }
          ],
          "parcoords": [
           {
            "line": {
             "colorbar": {
              "outlinewidth": 0,
              "ticks": ""
             }
            },
            "type": "parcoords"
           }
          ],
          "pie": [
           {
            "automargin": true,
            "type": "pie"
           }
          ],
          "scatter": [
           {
            "marker": {
             "colorbar": {
              "outlinewidth": 0,
              "ticks": ""
             }
            },
            "type": "scatter"
           }
          ],
          "scatter3d": [
           {
            "line": {
             "colorbar": {
              "outlinewidth": 0,
              "ticks": ""
             }
            },
            "marker": {
             "colorbar": {
              "outlinewidth": 0,
              "ticks": ""
             }
            },
            "type": "scatter3d"
           }
          ],
          "scattercarpet": [
           {
            "marker": {
             "colorbar": {
              "outlinewidth": 0,
              "ticks": ""
             }
            },
            "type": "scattercarpet"
           }
          ],
          "scattergeo": [
           {
            "marker": {
             "colorbar": {
              "outlinewidth": 0,
              "ticks": ""
             }
            },
            "type": "scattergeo"
           }
          ],
          "scattergl": [
           {
            "marker": {
             "colorbar": {
              "outlinewidth": 0,
              "ticks": ""
             }
            },
            "type": "scattergl"
           }
          ],
          "scattermapbox": [
           {
            "marker": {
             "colorbar": {
              "outlinewidth": 0,
              "ticks": ""
             }
            },
            "type": "scattermapbox"
           }
          ],
          "scatterpolar": [
           {
            "marker": {
             "colorbar": {
              "outlinewidth": 0,
              "ticks": ""
             }
            },
            "type": "scatterpolar"
           }
          ],
          "scatterpolargl": [
           {
            "marker": {
             "colorbar": {
              "outlinewidth": 0,
              "ticks": ""
             }
            },
            "type": "scatterpolargl"
           }
          ],
          "scatterternary": [
           {
            "marker": {
             "colorbar": {
              "outlinewidth": 0,
              "ticks": ""
             }
            },
            "type": "scatterternary"
           }
          ],
          "surface": [
           {
            "colorbar": {
             "outlinewidth": 0,
             "ticks": ""
            },
            "colorscale": [
             [
              0.0,
              "#0d0887"
             ],
             [
              0.1111111111111111,
              "#46039f"
             ],
             [
              0.2222222222222222,
              "#7201a8"
             ],
             [
              0.3333333333333333,
              "#9c179e"
             ],
             [
              0.4444444444444444,
              "#bd3786"
             ],
             [
              0.5555555555555556,
              "#d8576b"
             ],
             [
              0.6666666666666666,
              "#ed7953"
             ],
             [
              0.7777777777777778,
              "#fb9f3a"
             ],
             [
              0.8888888888888888,
              "#fdca26"
             ],
             [
              1.0,
              "#f0f921"
             ]
            ],
            "type": "surface"
           }
          ],
          "table": [
           {
            "cells": {
             "fill": {
              "color": "#EBF0F8"
             },
             "line": {
              "color": "white"
             }
            },
            "header": {
             "fill": {
              "color": "#C8D4E3"
             },
             "line": {
              "color": "white"
             }
            },
            "type": "table"
           }
          ]
         },
         "layout": {
          "annotationdefaults": {
           "arrowcolor": "#2a3f5f",
           "arrowhead": 0,
           "arrowwidth": 1
          },
          "autotypenumbers": "strict",
          "coloraxis": {
           "colorbar": {
            "outlinewidth": 0,
            "ticks": ""
           }
          },
          "colorscale": {
           "diverging": [
            [
             0,
             "#8e0152"
            ],
            [
             0.1,
             "#c51b7d"
            ],
            [
             0.2,
             "#de77ae"
            ],
            [
             0.3,
             "#f1b6da"
            ],
            [
             0.4,
             "#fde0ef"
            ],
            [
             0.5,
             "#f7f7f7"
            ],
            [
             0.6,
             "#e6f5d0"
            ],
            [
             0.7,
             "#b8e186"
            ],
            [
             0.8,
             "#7fbc41"
            ],
            [
             0.9,
             "#4d9221"
            ],
            [
             1,
             "#276419"
            ]
           ],
           "sequential": [
            [
             0.0,
             "#0d0887"
            ],
            [
             0.1111111111111111,
             "#46039f"
            ],
            [
             0.2222222222222222,
             "#7201a8"
            ],
            [
             0.3333333333333333,
             "#9c179e"
            ],
            [
             0.4444444444444444,
             "#bd3786"
            ],
            [
             0.5555555555555556,
             "#d8576b"
            ],
            [
             0.6666666666666666,
             "#ed7953"
            ],
            [
             0.7777777777777778,
             "#fb9f3a"
            ],
            [
             0.8888888888888888,
             "#fdca26"
            ],
            [
             1.0,
             "#f0f921"
            ]
           ],
           "sequentialminus": [
            [
             0.0,
             "#0d0887"
            ],
            [
             0.1111111111111111,
             "#46039f"
            ],
            [
             0.2222222222222222,
             "#7201a8"
            ],
            [
             0.3333333333333333,
             "#9c179e"
            ],
            [
             0.4444444444444444,
             "#bd3786"
            ],
            [
             0.5555555555555556,
             "#d8576b"
            ],
            [
             0.6666666666666666,
             "#ed7953"
            ],
            [
             0.7777777777777778,
             "#fb9f3a"
            ],
            [
             0.8888888888888888,
             "#fdca26"
            ],
            [
             1.0,
             "#f0f921"
            ]
           ]
          },
          "colorway": [
           "#636efa",
           "#EF553B",
           "#00cc96",
           "#ab63fa",
           "#FFA15A",
           "#19d3f3",
           "#FF6692",
           "#B6E880",
           "#FF97FF",
           "#FECB52"
          ],
          "font": {
           "color": "#2a3f5f"
          },
          "geo": {
           "bgcolor": "white",
           "lakecolor": "white",
           "landcolor": "#E5ECF6",
           "showlakes": true,
           "showland": true,
           "subunitcolor": "white"
          },
          "hoverlabel": {
           "align": "left"
          },
          "hovermode": "closest",
          "mapbox": {
           "style": "light"
          },
          "paper_bgcolor": "white",
          "plot_bgcolor": "#E5ECF6",
          "polar": {
           "angularaxis": {
            "gridcolor": "white",
            "linecolor": "white",
            "ticks": ""
           },
           "bgcolor": "#E5ECF6",
           "radialaxis": {
            "gridcolor": "white",
            "linecolor": "white",
            "ticks": ""
           }
          },
          "scene": {
           "xaxis": {
            "backgroundcolor": "#E5ECF6",
            "gridcolor": "white",
            "gridwidth": 2,
            "linecolor": "white",
            "showbackground": true,
            "ticks": "",
            "zerolinecolor": "white"
           },
           "yaxis": {
            "backgroundcolor": "#E5ECF6",
            "gridcolor": "white",
            "gridwidth": 2,
            "linecolor": "white",
            "showbackground": true,
            "ticks": "",
            "zerolinecolor": "white"
           },
           "zaxis": {
            "backgroundcolor": "#E5ECF6",
            "gridcolor": "white",
            "gridwidth": 2,
            "linecolor": "white",
            "showbackground": true,
            "ticks": "",
            "zerolinecolor": "white"
           }
          },
          "shapedefaults": {
           "line": {
            "color": "#2a3f5f"
           }
          },
          "ternary": {
           "aaxis": {
            "gridcolor": "white",
            "linecolor": "white",
            "ticks": ""
           },
           "baxis": {
            "gridcolor": "white",
            "linecolor": "white",
            "ticks": ""
           },
           "bgcolor": "#E5ECF6",
           "caxis": {
            "gridcolor": "white",
            "linecolor": "white",
            "ticks": ""
           }
          },
          "title": {
           "x": 0.05
          },
          "xaxis": {
           "automargin": true,
           "gridcolor": "white",
           "linecolor": "white",
           "ticks": "",
           "title": {
            "standoff": 15
           },
           "zerolinecolor": "white",
           "zerolinewidth": 2
          },
          "yaxis": {
           "automargin": true,
           "gridcolor": "white",
           "linecolor": "white",
           "ticks": "",
           "title": {
            "standoff": 15
           },
           "zerolinecolor": "white",
           "zerolinewidth": 2
          }
         }
        },
        "xaxis": {
         "anchor": "y",
         "domain": [
          0.0,
          1.0
         ],
         "title": {
          "text": "level"
         }
        },
        "yaxis": {
         "anchor": "x",
         "domain": [
          0.0,
          1.0
         ],
         "title": {
          "text": "counts"
         }
        }
       }
      },
      "text/html": [
       "<div>                            <div id=\"6458c6de-d1f5-46d8-a43f-e5cd777a30d9\" class=\"plotly-graph-div\" style=\"height:525px; width:100%;\"></div>            <script type=\"text/javascript\">                require([\"plotly\"], function(Plotly) {                    window.PLOTLYENV=window.PLOTLYENV || {};                                    if (document.getElementById(\"6458c6de-d1f5-46d8-a43f-e5cd777a30d9\")) {                    Plotly.newPlot(                        \"6458c6de-d1f5-46d8-a43f-e5cd777a30d9\",                        [{\"alignmentgroup\": \"True\", \"hovertemplate\": \"level=%{x}<br>counts=%{y}<extra></extra>\", \"legendgroup\": \"\", \"marker\": {\"color\": \"#636efa\"}, \"name\": \"\", \"offsetgroup\": \"\", \"orientation\": \"v\", \"showlegend\": false, \"textposition\": \"auto\", \"type\": \"bar\", \"x\": [\"paid\", \"free\"], \"xaxis\": \"x\", \"y\": [76152, 27494], \"yaxis\": \"y\"}],                        {\"barmode\": \"relative\", \"legend\": {\"tracegroupgap\": 0}, \"margin\": {\"t\": 60}, \"template\": {\"data\": {\"bar\": [{\"error_x\": {\"color\": \"#2a3f5f\"}, \"error_y\": {\"color\": \"#2a3f5f\"}, \"marker\": {\"line\": {\"color\": \"#E5ECF6\", \"width\": 0.5}}, \"type\": \"bar\"}], \"barpolar\": [{\"marker\": {\"line\": {\"color\": \"#E5ECF6\", \"width\": 0.5}}, \"type\": \"barpolar\"}], \"carpet\": [{\"aaxis\": {\"endlinecolor\": \"#2a3f5f\", \"gridcolor\": \"white\", \"linecolor\": \"white\", \"minorgridcolor\": \"white\", \"startlinecolor\": \"#2a3f5f\"}, \"baxis\": {\"endlinecolor\": \"#2a3f5f\", \"gridcolor\": \"white\", \"linecolor\": \"white\", \"minorgridcolor\": \"white\", \"startlinecolor\": \"#2a3f5f\"}, \"type\": \"carpet\"}], \"choropleth\": [{\"colorbar\": {\"outlinewidth\": 0, \"ticks\": \"\"}, \"type\": \"choropleth\"}], \"contour\": [{\"colorbar\": {\"outlinewidth\": 0, \"ticks\": \"\"}, \"colorscale\": [[0.0, \"#0d0887\"], [0.1111111111111111, \"#46039f\"], [0.2222222222222222, \"#7201a8\"], [0.3333333333333333, \"#9c179e\"], [0.4444444444444444, \"#bd3786\"], [0.5555555555555556, \"#d8576b\"], [0.6666666666666666, \"#ed7953\"], [0.7777777777777778, \"#fb9f3a\"], [0.8888888888888888, \"#fdca26\"], [1.0, \"#f0f921\"]], \"type\": \"contour\"}], \"contourcarpet\": [{\"colorbar\": {\"outlinewidth\": 0, \"ticks\": \"\"}, \"type\": \"contourcarpet\"}], \"heatmap\": [{\"colorbar\": {\"outlinewidth\": 0, \"ticks\": \"\"}, \"colorscale\": [[0.0, \"#0d0887\"], [0.1111111111111111, \"#46039f\"], [0.2222222222222222, \"#7201a8\"], [0.3333333333333333, \"#9c179e\"], [0.4444444444444444, \"#bd3786\"], [0.5555555555555556, \"#d8576b\"], [0.6666666666666666, \"#ed7953\"], [0.7777777777777778, \"#fb9f3a\"], [0.8888888888888888, \"#fdca26\"], [1.0, \"#f0f921\"]], \"type\": \"heatmap\"}], \"heatmapgl\": [{\"colorbar\": {\"outlinewidth\": 0, \"ticks\": \"\"}, \"colorscale\": [[0.0, \"#0d0887\"], [0.1111111111111111, \"#46039f\"], [0.2222222222222222, \"#7201a8\"], [0.3333333333333333, \"#9c179e\"], [0.4444444444444444, \"#bd3786\"], [0.5555555555555556, \"#d8576b\"], [0.6666666666666666, \"#ed7953\"], [0.7777777777777778, \"#fb9f3a\"], [0.8888888888888888, \"#fdca26\"], [1.0, \"#f0f921\"]], \"type\": \"heatmapgl\"}], \"histogram\": [{\"marker\": {\"colorbar\": {\"outlinewidth\": 0, \"ticks\": \"\"}}, \"type\": \"histogram\"}], \"histogram2d\": [{\"colorbar\": {\"outlinewidth\": 0, \"ticks\": \"\"}, \"colorscale\": [[0.0, \"#0d0887\"], [0.1111111111111111, \"#46039f\"], [0.2222222222222222, \"#7201a8\"], [0.3333333333333333, \"#9c179e\"], [0.4444444444444444, \"#bd3786\"], [0.5555555555555556, \"#d8576b\"], [0.6666666666666666, \"#ed7953\"], [0.7777777777777778, \"#fb9f3a\"], [0.8888888888888888, \"#fdca26\"], [1.0, \"#f0f921\"]], \"type\": \"histogram2d\"}], \"histogram2dcontour\": [{\"colorbar\": {\"outlinewidth\": 0, \"ticks\": \"\"}, \"colorscale\": [[0.0, \"#0d0887\"], [0.1111111111111111, \"#46039f\"], [0.2222222222222222, \"#7201a8\"], [0.3333333333333333, \"#9c179e\"], [0.4444444444444444, \"#bd3786\"], [0.5555555555555556, \"#d8576b\"], [0.6666666666666666, \"#ed7953\"], [0.7777777777777778, \"#fb9f3a\"], [0.8888888888888888, \"#fdca26\"], [1.0, \"#f0f921\"]], \"type\": \"histogram2dcontour\"}], \"mesh3d\": [{\"colorbar\": {\"outlinewidth\": 0, \"ticks\": \"\"}, \"type\": \"mesh3d\"}], \"parcoords\": [{\"line\": {\"colorbar\": {\"outlinewidth\": 0, \"ticks\": \"\"}}, \"type\": \"parcoords\"}], \"pie\": [{\"automargin\": true, \"type\": \"pie\"}], \"scatter\": [{\"marker\": {\"colorbar\": {\"outlinewidth\": 0, \"ticks\": \"\"}}, \"type\": \"scatter\"}], \"scatter3d\": [{\"line\": {\"colorbar\": {\"outlinewidth\": 0, \"ticks\": \"\"}}, \"marker\": {\"colorbar\": {\"outlinewidth\": 0, \"ticks\": \"\"}}, \"type\": \"scatter3d\"}], \"scattercarpet\": [{\"marker\": {\"colorbar\": {\"outlinewidth\": 0, \"ticks\": \"\"}}, \"type\": \"scattercarpet\"}], \"scattergeo\": [{\"marker\": {\"colorbar\": {\"outlinewidth\": 0, \"ticks\": \"\"}}, \"type\": \"scattergeo\"}], \"scattergl\": [{\"marker\": {\"colorbar\": {\"outlinewidth\": 0, \"ticks\": \"\"}}, \"type\": \"scattergl\"}], \"scattermapbox\": [{\"marker\": {\"colorbar\": {\"outlinewidth\": 0, \"ticks\": \"\"}}, \"type\": \"scattermapbox\"}], \"scatterpolar\": [{\"marker\": {\"colorbar\": {\"outlinewidth\": 0, \"ticks\": \"\"}}, \"type\": \"scatterpolar\"}], \"scatterpolargl\": [{\"marker\": {\"colorbar\": {\"outlinewidth\": 0, \"ticks\": \"\"}}, \"type\": \"scatterpolargl\"}], \"scatterternary\": [{\"marker\": {\"colorbar\": {\"outlinewidth\": 0, \"ticks\": \"\"}}, \"type\": \"scatterternary\"}], \"surface\": [{\"colorbar\": {\"outlinewidth\": 0, \"ticks\": \"\"}, \"colorscale\": [[0.0, \"#0d0887\"], [0.1111111111111111, \"#46039f\"], [0.2222222222222222, \"#7201a8\"], [0.3333333333333333, \"#9c179e\"], [0.4444444444444444, \"#bd3786\"], [0.5555555555555556, \"#d8576b\"], [0.6666666666666666, \"#ed7953\"], [0.7777777777777778, \"#fb9f3a\"], [0.8888888888888888, \"#fdca26\"], [1.0, \"#f0f921\"]], \"type\": \"surface\"}], \"table\": [{\"cells\": {\"fill\": {\"color\": \"#EBF0F8\"}, \"line\": {\"color\": \"white\"}}, \"header\": {\"fill\": {\"color\": \"#C8D4E3\"}, \"line\": {\"color\": \"white\"}}, \"type\": \"table\"}]}, \"layout\": {\"annotationdefaults\": {\"arrowcolor\": \"#2a3f5f\", \"arrowhead\": 0, \"arrowwidth\": 1}, \"autotypenumbers\": \"strict\", \"coloraxis\": {\"colorbar\": {\"outlinewidth\": 0, \"ticks\": \"\"}}, \"colorscale\": {\"diverging\": [[0, \"#8e0152\"], [0.1, \"#c51b7d\"], [0.2, \"#de77ae\"], [0.3, \"#f1b6da\"], [0.4, \"#fde0ef\"], [0.5, \"#f7f7f7\"], [0.6, \"#e6f5d0\"], [0.7, \"#b8e186\"], [0.8, \"#7fbc41\"], [0.9, \"#4d9221\"], [1, \"#276419\"]], \"sequential\": [[0.0, \"#0d0887\"], [0.1111111111111111, \"#46039f\"], [0.2222222222222222, \"#7201a8\"], [0.3333333333333333, \"#9c179e\"], [0.4444444444444444, \"#bd3786\"], [0.5555555555555556, \"#d8576b\"], [0.6666666666666666, \"#ed7953\"], [0.7777777777777778, \"#fb9f3a\"], [0.8888888888888888, \"#fdca26\"], [1.0, \"#f0f921\"]], \"sequentialminus\": [[0.0, \"#0d0887\"], [0.1111111111111111, \"#46039f\"], [0.2222222222222222, \"#7201a8\"], [0.3333333333333333, \"#9c179e\"], [0.4444444444444444, \"#bd3786\"], [0.5555555555555556, \"#d8576b\"], [0.6666666666666666, \"#ed7953\"], [0.7777777777777778, \"#fb9f3a\"], [0.8888888888888888, \"#fdca26\"], [1.0, \"#f0f921\"]]}, \"colorway\": [\"#636efa\", \"#EF553B\", \"#00cc96\", \"#ab63fa\", \"#FFA15A\", \"#19d3f3\", \"#FF6692\", \"#B6E880\", \"#FF97FF\", \"#FECB52\"], \"font\": {\"color\": \"#2a3f5f\"}, \"geo\": {\"bgcolor\": \"white\", \"lakecolor\": \"white\", \"landcolor\": \"#E5ECF6\", \"showlakes\": true, \"showland\": true, \"subunitcolor\": \"white\"}, \"hoverlabel\": {\"align\": \"left\"}, \"hovermode\": \"closest\", \"mapbox\": {\"style\": \"light\"}, \"paper_bgcolor\": \"white\", \"plot_bgcolor\": \"#E5ECF6\", \"polar\": {\"angularaxis\": {\"gridcolor\": \"white\", \"linecolor\": \"white\", \"ticks\": \"\"}, \"bgcolor\": \"#E5ECF6\", \"radialaxis\": {\"gridcolor\": \"white\", \"linecolor\": \"white\", \"ticks\": \"\"}}, \"scene\": {\"xaxis\": {\"backgroundcolor\": \"#E5ECF6\", \"gridcolor\": \"white\", \"gridwidth\": 2, \"linecolor\": \"white\", \"showbackground\": true, \"ticks\": \"\", \"zerolinecolor\": \"white\"}, \"yaxis\": {\"backgroundcolor\": \"#E5ECF6\", \"gridcolor\": \"white\", \"gridwidth\": 2, \"linecolor\": \"white\", \"showbackground\": true, \"ticks\": \"\", \"zerolinecolor\": \"white\"}, \"zaxis\": {\"backgroundcolor\": \"#E5ECF6\", \"gridcolor\": \"white\", \"gridwidth\": 2, \"linecolor\": \"white\", \"showbackground\": true, \"ticks\": \"\", \"zerolinecolor\": \"white\"}}, \"shapedefaults\": {\"line\": {\"color\": \"#2a3f5f\"}}, \"ternary\": {\"aaxis\": {\"gridcolor\": \"white\", \"linecolor\": \"white\", \"ticks\": \"\"}, \"baxis\": {\"gridcolor\": \"white\", \"linecolor\": \"white\", \"ticks\": \"\"}, \"bgcolor\": \"#E5ECF6\", \"caxis\": {\"gridcolor\": \"white\", \"linecolor\": \"white\", \"ticks\": \"\"}}, \"title\": {\"x\": 0.05}, \"xaxis\": {\"automargin\": true, \"gridcolor\": \"white\", \"linecolor\": \"white\", \"ticks\": \"\", \"title\": {\"standoff\": 15}, \"zerolinecolor\": \"white\", \"zerolinewidth\": 2}, \"yaxis\": {\"automargin\": true, \"gridcolor\": \"white\", \"linecolor\": \"white\", \"ticks\": \"\", \"title\": {\"standoff\": 15}, \"zerolinecolor\": \"white\", \"zerolinewidth\": 2}}}, \"xaxis\": {\"anchor\": \"y\", \"domain\": [0.0, 1.0], \"title\": {\"text\": \"level\"}}, \"yaxis\": {\"anchor\": \"x\", \"domain\": [0.0, 1.0], \"title\": {\"text\": \"counts\"}}},                        {\"responsive\": true}                    ).then(function(){\n",
       "                            \n",
       "var gd = document.getElementById('6458c6de-d1f5-46d8-a43f-e5cd777a30d9');\n",
       "var x = new MutationObserver(function (mutations, observer) {{\n",
       "        var display = window.getComputedStyle(gd).display;\n",
       "        if (!display || display === 'none') {{\n",
       "            console.log([gd, 'removed!']);\n",
       "            Plotly.purge(gd);\n",
       "            observer.disconnect();\n",
       "        }}\n",
       "}});\n",
       "\n",
       "// Listen for the removal of the full notebook cells\n",
       "var notebookContainer = gd.closest('#notebook-container');\n",
       "if (notebookContainer) {{\n",
       "    x.observe(notebookContainer, {childList: true});\n",
       "}}\n",
       "\n",
       "// Listen for the clearing of the current output cell\n",
       "var outputEl = gd.closest('.output');\n",
       "if (outputEl) {{\n",
       "    x.observe(outputEl, {childList: true});\n",
       "}}\n",
       "\n",
       "                        })                };                });            </script>        </div>"
      ]
     },
     "metadata": {},
     "output_type": "display_data"
    }
   ],
   "source": [
    "fig = px.bar(churn_subs, x='level', y='counts')\n",
    "fig.show()"
   ]
  },
  {
   "cell_type": "markdown",
   "metadata": {
    "papermill": {
     "duration": 0.138148,
     "end_time": "2021-02-12T23:46:16.211134",
     "exception": false,
     "start_time": "2021-02-12T23:46:16.072986",
     "status": "completed"
    },
    "tags": []
   },
   "source": [
    "Most churnned customers were paid which went against my intuition that most customers who leave would have little commitment/ subscription."
   ]
  },
  {
   "cell_type": "markdown",
   "metadata": {
    "papermill": {
     "duration": 0.139194,
     "end_time": "2021-02-12T23:46:16.489795",
     "exception": false,
     "start_time": "2021-02-12T23:46:16.350601",
     "status": "completed"
    },
    "tags": []
   },
   "source": [
    "### Churn Counts Per Hour"
   ]
  },
  {
   "cell_type": "code",
   "execution_count": 53,
   "metadata": {
    "execution": {
     "iopub.execute_input": "2021-02-12T23:46:16.795176Z",
     "iopub.status.busy": "2021-02-12T23:46:16.774339Z",
     "iopub.status.idle": "2021-02-12T23:46:23.409400Z",
     "shell.execute_reply": "2021-02-12T23:46:23.409906Z"
    },
    "papermill": {
     "duration": 6.782085,
     "end_time": "2021-02-12T23:46:23.410080",
     "exception": false,
     "start_time": "2021-02-12T23:46:16.627995",
     "status": "completed"
    },
    "tags": []
   },
   "outputs": [],
   "source": [
    "#Create time columns\n",
    "hour = []\n",
    "date = []\n",
    "timestamp = []\n",
    "for i in df['ts']:\n",
    "    hour.append(datetime.datetime.fromtimestamp(i/1000.0).hour)\n",
    "    date.append(datetime.datetime.fromtimestamp(i/1000.0).strftime(\"%Y-%m-%d\"))\n",
    "    timestamp.append(datetime.datetime.fromtimestamp(i/1000.0).strftime(\"%Y-%m-%d %H:%M:%S\"))"
   ]
  },
  {
   "cell_type": "code",
   "execution_count": 54,
   "metadata": {
    "execution": {
     "iopub.execute_input": "2021-02-12T23:46:23.692228Z",
     "iopub.status.busy": "2021-02-12T23:46:23.691220Z",
     "iopub.status.idle": "2021-02-12T23:46:24.041862Z",
     "shell.execute_reply": "2021-02-12T23:46:24.042363Z"
    },
    "papermill": {
     "duration": 0.493106,
     "end_time": "2021-02-12T23:46:24.042532",
     "exception": false,
     "start_time": "2021-02-12T23:46:23.549426",
     "status": "completed"
    },
    "tags": []
   },
   "outputs": [],
   "source": [
    "df['ts_hour'] = hour\n",
    "df['ts_date'] = date\n",
    "df['timestamp'] = timestamp"
   ]
  },
  {
   "cell_type": "code",
   "execution_count": 55,
   "metadata": {
    "execution": {
     "iopub.execute_input": "2021-02-12T23:46:24.427450Z",
     "iopub.status.busy": "2021-02-12T23:46:24.321267Z",
     "iopub.status.idle": "2021-02-12T23:46:25.020314Z",
     "shell.execute_reply": "2021-02-12T23:46:25.019542Z"
    },
    "papermill": {
     "duration": 0.839854,
     "end_time": "2021-02-12T23:46:25.020435",
     "exception": false,
     "start_time": "2021-02-12T23:46:24.180581",
     "status": "completed"
    },
    "tags": []
   },
   "outputs": [
    {
     "data": {
      "text/html": [
       "<div>\n",
       "<style scoped>\n",
       "    .dataframe tbody tr th:only-of-type {\n",
       "        vertical-align: middle;\n",
       "    }\n",
       "\n",
       "    .dataframe tbody tr th {\n",
       "        vertical-align: top;\n",
       "    }\n",
       "\n",
       "    .dataframe thead th {\n",
       "        text-align: right;\n",
       "    }\n",
       "</style>\n",
       "<table border=\"1\" class=\"dataframe\">\n",
       "  <thead>\n",
       "    <tr style=\"text-align: right;\">\n",
       "      <th></th>\n",
       "      <th>hour</th>\n",
       "      <th>counts</th>\n",
       "    </tr>\n",
       "  </thead>\n",
       "  <tbody>\n",
       "    <tr>\n",
       "      <th>0</th>\n",
       "      <td>3</td>\n",
       "      <td>6</td>\n",
       "    </tr>\n",
       "    <tr>\n",
       "      <th>1</th>\n",
       "      <td>16</td>\n",
       "      <td>6</td>\n",
       "    </tr>\n",
       "    <tr>\n",
       "      <th>2</th>\n",
       "      <td>10</td>\n",
       "      <td>6</td>\n",
       "    </tr>\n",
       "    <tr>\n",
       "      <th>3</th>\n",
       "      <td>13</td>\n",
       "      <td>6</td>\n",
       "    </tr>\n",
       "    <tr>\n",
       "      <th>4</th>\n",
       "      <td>12</td>\n",
       "      <td>6</td>\n",
       "    </tr>\n",
       "    <tr>\n",
       "      <th>5</th>\n",
       "      <td>0</td>\n",
       "      <td>5</td>\n",
       "    </tr>\n",
       "    <tr>\n",
       "      <th>6</th>\n",
       "      <td>20</td>\n",
       "      <td>5</td>\n",
       "    </tr>\n",
       "    <tr>\n",
       "      <th>7</th>\n",
       "      <td>18</td>\n",
       "      <td>5</td>\n",
       "    </tr>\n",
       "    <tr>\n",
       "      <th>8</th>\n",
       "      <td>9</td>\n",
       "      <td>5</td>\n",
       "    </tr>\n",
       "    <tr>\n",
       "      <th>9</th>\n",
       "      <td>22</td>\n",
       "      <td>4</td>\n",
       "    </tr>\n",
       "    <tr>\n",
       "      <th>10</th>\n",
       "      <td>2</td>\n",
       "      <td>4</td>\n",
       "    </tr>\n",
       "    <tr>\n",
       "      <th>11</th>\n",
       "      <td>5</td>\n",
       "      <td>4</td>\n",
       "    </tr>\n",
       "    <tr>\n",
       "      <th>12</th>\n",
       "      <td>23</td>\n",
       "      <td>4</td>\n",
       "    </tr>\n",
       "    <tr>\n",
       "      <th>13</th>\n",
       "      <td>14</td>\n",
       "      <td>4</td>\n",
       "    </tr>\n",
       "    <tr>\n",
       "      <th>14</th>\n",
       "      <td>15</td>\n",
       "      <td>4</td>\n",
       "    </tr>\n",
       "    <tr>\n",
       "      <th>15</th>\n",
       "      <td>8</td>\n",
       "      <td>3</td>\n",
       "    </tr>\n",
       "    <tr>\n",
       "      <th>16</th>\n",
       "      <td>7</td>\n",
       "      <td>3</td>\n",
       "    </tr>\n",
       "    <tr>\n",
       "      <th>17</th>\n",
       "      <td>17</td>\n",
       "      <td>3</td>\n",
       "    </tr>\n",
       "    <tr>\n",
       "      <th>18</th>\n",
       "      <td>4</td>\n",
       "      <td>3</td>\n",
       "    </tr>\n",
       "    <tr>\n",
       "      <th>19</th>\n",
       "      <td>19</td>\n",
       "      <td>3</td>\n",
       "    </tr>\n",
       "    <tr>\n",
       "      <th>20</th>\n",
       "      <td>21</td>\n",
       "      <td>3</td>\n",
       "    </tr>\n",
       "    <tr>\n",
       "      <th>21</th>\n",
       "      <td>1</td>\n",
       "      <td>3</td>\n",
       "    </tr>\n",
       "    <tr>\n",
       "      <th>22</th>\n",
       "      <td>11</td>\n",
       "      <td>3</td>\n",
       "    </tr>\n",
       "    <tr>\n",
       "      <th>23</th>\n",
       "      <td>6</td>\n",
       "      <td>1</td>\n",
       "    </tr>\n",
       "  </tbody>\n",
       "</table>\n",
       "</div>"
      ],
      "text/plain": [
       "    hour  counts\n",
       "0      3       6\n",
       "1     16       6\n",
       "2     10       6\n",
       "3     13       6\n",
       "4     12       6\n",
       "5      0       5\n",
       "6     20       5\n",
       "7     18       5\n",
       "8      9       5\n",
       "9     22       4\n",
       "10     2       4\n",
       "11     5       4\n",
       "12    23       4\n",
       "13    14       4\n",
       "14    15       4\n",
       "15     8       3\n",
       "16     7       3\n",
       "17    17       3\n",
       "18     4       3\n",
       "19    19       3\n",
       "20    21       3\n",
       "21     1       3\n",
       "22    11       3\n",
       "23     6       1"
      ]
     },
     "execution_count": 55,
     "metadata": {},
     "output_type": "execute_result"
    }
   ],
   "source": [
    "#churn/cancellation confrimation subset\n",
    "churn_hours = df.loc[df['page'] == 'Cancellation Confirmation'].ts_hour.value_counts().rename_axis('hour').reset_index(name='counts').sort_index()\n",
    "churn_hours"
   ]
  },
  {
   "cell_type": "code",
   "execution_count": 56,
   "metadata": {
    "execution": {
     "iopub.execute_input": "2021-02-12T23:46:25.330852Z",
     "iopub.status.busy": "2021-02-12T23:46:25.329829Z",
     "iopub.status.idle": "2021-02-12T23:46:25.430896Z",
     "shell.execute_reply": "2021-02-12T23:46:25.431495Z"
    },
    "papermill": {
     "duration": 0.255995,
     "end_time": "2021-02-12T23:46:25.431646",
     "exception": false,
     "start_time": "2021-02-12T23:46:25.175651",
     "status": "completed"
    },
    "tags": []
   },
   "outputs": [
    {
     "data": {
      "application/vnd.plotly.v1+json": {
       "config": {
        "plotlyServerURL": "https://plot.ly"
       },
       "data": [
        {
         "alignmentgroup": "True",
         "hovertemplate": "hour=%{x}<br>counts=%{y}<extra></extra>",
         "legendgroup": "",
         "marker": {
          "color": "#636efa"
         },
         "name": "",
         "offsetgroup": "",
         "orientation": "v",
         "showlegend": false,
         "textposition": "auto",
         "type": "bar",
         "x": [
          3,
          16,
          10,
          13,
          12,
          0,
          20,
          18,
          9,
          22,
          2,
          5,
          23,
          14,
          15,
          8,
          7,
          17,
          4,
          19,
          21,
          1,
          11,
          6
         ],
         "xaxis": "x",
         "y": [
          6,
          6,
          6,
          6,
          6,
          5,
          5,
          5,
          5,
          4,
          4,
          4,
          4,
          4,
          4,
          3,
          3,
          3,
          3,
          3,
          3,
          3,
          3,
          1
         ],
         "yaxis": "y"
        }
       ],
       "layout": {
        "barmode": "relative",
        "legend": {
         "tracegroupgap": 0
        },
        "margin": {
         "t": 60
        },
        "template": {
         "data": {
          "bar": [
           {
            "error_x": {
             "color": "#2a3f5f"
            },
            "error_y": {
             "color": "#2a3f5f"
            },
            "marker": {
             "line": {
              "color": "#E5ECF6",
              "width": 0.5
             }
            },
            "type": "bar"
           }
          ],
          "barpolar": [
           {
            "marker": {
             "line": {
              "color": "#E5ECF6",
              "width": 0.5
             }
            },
            "type": "barpolar"
           }
          ],
          "carpet": [
           {
            "aaxis": {
             "endlinecolor": "#2a3f5f",
             "gridcolor": "white",
             "linecolor": "white",
             "minorgridcolor": "white",
             "startlinecolor": "#2a3f5f"
            },
            "baxis": {
             "endlinecolor": "#2a3f5f",
             "gridcolor": "white",
             "linecolor": "white",
             "minorgridcolor": "white",
             "startlinecolor": "#2a3f5f"
            },
            "type": "carpet"
           }
          ],
          "choropleth": [
           {
            "colorbar": {
             "outlinewidth": 0,
             "ticks": ""
            },
            "type": "choropleth"
           }
          ],
          "contour": [
           {
            "colorbar": {
             "outlinewidth": 0,
             "ticks": ""
            },
            "colorscale": [
             [
              0.0,
              "#0d0887"
             ],
             [
              0.1111111111111111,
              "#46039f"
             ],
             [
              0.2222222222222222,
              "#7201a8"
             ],
             [
              0.3333333333333333,
              "#9c179e"
             ],
             [
              0.4444444444444444,
              "#bd3786"
             ],
             [
              0.5555555555555556,
              "#d8576b"
             ],
             [
              0.6666666666666666,
              "#ed7953"
             ],
             [
              0.7777777777777778,
              "#fb9f3a"
             ],
             [
              0.8888888888888888,
              "#fdca26"
             ],
             [
              1.0,
              "#f0f921"
             ]
            ],
            "type": "contour"
           }
          ],
          "contourcarpet": [
           {
            "colorbar": {
             "outlinewidth": 0,
             "ticks": ""
            },
            "type": "contourcarpet"
           }
          ],
          "heatmap": [
           {
            "colorbar": {
             "outlinewidth": 0,
             "ticks": ""
            },
            "colorscale": [
             [
              0.0,
              "#0d0887"
             ],
             [
              0.1111111111111111,
              "#46039f"
             ],
             [
              0.2222222222222222,
              "#7201a8"
             ],
             [
              0.3333333333333333,
              "#9c179e"
             ],
             [
              0.4444444444444444,
              "#bd3786"
             ],
             [
              0.5555555555555556,
              "#d8576b"
             ],
             [
              0.6666666666666666,
              "#ed7953"
             ],
             [
              0.7777777777777778,
              "#fb9f3a"
             ],
             [
              0.8888888888888888,
              "#fdca26"
             ],
             [
              1.0,
              "#f0f921"
             ]
            ],
            "type": "heatmap"
           }
          ],
          "heatmapgl": [
           {
            "colorbar": {
             "outlinewidth": 0,
             "ticks": ""
            },
            "colorscale": [
             [
              0.0,
              "#0d0887"
             ],
             [
              0.1111111111111111,
              "#46039f"
             ],
             [
              0.2222222222222222,
              "#7201a8"
             ],
             [
              0.3333333333333333,
              "#9c179e"
             ],
             [
              0.4444444444444444,
              "#bd3786"
             ],
             [
              0.5555555555555556,
              "#d8576b"
             ],
             [
              0.6666666666666666,
              "#ed7953"
             ],
             [
              0.7777777777777778,
              "#fb9f3a"
             ],
             [
              0.8888888888888888,
              "#fdca26"
             ],
             [
              1.0,
              "#f0f921"
             ]
            ],
            "type": "heatmapgl"
           }
          ],
          "histogram": [
           {
            "marker": {
             "colorbar": {
              "outlinewidth": 0,
              "ticks": ""
             }
            },
            "type": "histogram"
           }
          ],
          "histogram2d": [
           {
            "colorbar": {
             "outlinewidth": 0,
             "ticks": ""
            },
            "colorscale": [
             [
              0.0,
              "#0d0887"
             ],
             [
              0.1111111111111111,
              "#46039f"
             ],
             [
              0.2222222222222222,
              "#7201a8"
             ],
             [
              0.3333333333333333,
              "#9c179e"
             ],
             [
              0.4444444444444444,
              "#bd3786"
             ],
             [
              0.5555555555555556,
              "#d8576b"
             ],
             [
              0.6666666666666666,
              "#ed7953"
             ],
             [
              0.7777777777777778,
              "#fb9f3a"
             ],
             [
              0.8888888888888888,
              "#fdca26"
             ],
             [
              1.0,
              "#f0f921"
             ]
            ],
            "type": "histogram2d"
           }
          ],
          "histogram2dcontour": [
           {
            "colorbar": {
             "outlinewidth": 0,
             "ticks": ""
            },
            "colorscale": [
             [
              0.0,
              "#0d0887"
             ],
             [
              0.1111111111111111,
              "#46039f"
             ],
             [
              0.2222222222222222,
              "#7201a8"
             ],
             [
              0.3333333333333333,
              "#9c179e"
             ],
             [
              0.4444444444444444,
              "#bd3786"
             ],
             [
              0.5555555555555556,
              "#d8576b"
             ],
             [
              0.6666666666666666,
              "#ed7953"
             ],
             [
              0.7777777777777778,
              "#fb9f3a"
             ],
             [
              0.8888888888888888,
              "#fdca26"
             ],
             [
              1.0,
              "#f0f921"
             ]
            ],
            "type": "histogram2dcontour"
           }
          ],
          "mesh3d": [
           {
            "colorbar": {
             "outlinewidth": 0,
             "ticks": ""
            },
            "type": "mesh3d"
           }
          ],
          "parcoords": [
           {
            "line": {
             "colorbar": {
              "outlinewidth": 0,
              "ticks": ""
             }
            },
            "type": "parcoords"
           }
          ],
          "pie": [
           {
            "automargin": true,
            "type": "pie"
           }
          ],
          "scatter": [
           {
            "marker": {
             "colorbar": {
              "outlinewidth": 0,
              "ticks": ""
             }
            },
            "type": "scatter"
           }
          ],
          "scatter3d": [
           {
            "line": {
             "colorbar": {
              "outlinewidth": 0,
              "ticks": ""
             }
            },
            "marker": {
             "colorbar": {
              "outlinewidth": 0,
              "ticks": ""
             }
            },
            "type": "scatter3d"
           }
          ],
          "scattercarpet": [
           {
            "marker": {
             "colorbar": {
              "outlinewidth": 0,
              "ticks": ""
             }
            },
            "type": "scattercarpet"
           }
          ],
          "scattergeo": [
           {
            "marker": {
             "colorbar": {
              "outlinewidth": 0,
              "ticks": ""
             }
            },
            "type": "scattergeo"
           }
          ],
          "scattergl": [
           {
            "marker": {
             "colorbar": {
              "outlinewidth": 0,
              "ticks": ""
             }
            },
            "type": "scattergl"
           }
          ],
          "scattermapbox": [
           {
            "marker": {
             "colorbar": {
              "outlinewidth": 0,
              "ticks": ""
             }
            },
            "type": "scattermapbox"
           }
          ],
          "scatterpolar": [
           {
            "marker": {
             "colorbar": {
              "outlinewidth": 0,
              "ticks": ""
             }
            },
            "type": "scatterpolar"
           }
          ],
          "scatterpolargl": [
           {
            "marker": {
             "colorbar": {
              "outlinewidth": 0,
              "ticks": ""
             }
            },
            "type": "scatterpolargl"
           }
          ],
          "scatterternary": [
           {
            "marker": {
             "colorbar": {
              "outlinewidth": 0,
              "ticks": ""
             }
            },
            "type": "scatterternary"
           }
          ],
          "surface": [
           {
            "colorbar": {
             "outlinewidth": 0,
             "ticks": ""
            },
            "colorscale": [
             [
              0.0,
              "#0d0887"
             ],
             [
              0.1111111111111111,
              "#46039f"
             ],
             [
              0.2222222222222222,
              "#7201a8"
             ],
             [
              0.3333333333333333,
              "#9c179e"
             ],
             [
              0.4444444444444444,
              "#bd3786"
             ],
             [
              0.5555555555555556,
              "#d8576b"
             ],
             [
              0.6666666666666666,
              "#ed7953"
             ],
             [
              0.7777777777777778,
              "#fb9f3a"
             ],
             [
              0.8888888888888888,
              "#fdca26"
             ],
             [
              1.0,
              "#f0f921"
             ]
            ],
            "type": "surface"
           }
          ],
          "table": [
           {
            "cells": {
             "fill": {
              "color": "#EBF0F8"
             },
             "line": {
              "color": "white"
             }
            },
            "header": {
             "fill": {
              "color": "#C8D4E3"
             },
             "line": {
              "color": "white"
             }
            },
            "type": "table"
           }
          ]
         },
         "layout": {
          "annotationdefaults": {
           "arrowcolor": "#2a3f5f",
           "arrowhead": 0,
           "arrowwidth": 1
          },
          "autotypenumbers": "strict",
          "coloraxis": {
           "colorbar": {
            "outlinewidth": 0,
            "ticks": ""
           }
          },
          "colorscale": {
           "diverging": [
            [
             0,
             "#8e0152"
            ],
            [
             0.1,
             "#c51b7d"
            ],
            [
             0.2,
             "#de77ae"
            ],
            [
             0.3,
             "#f1b6da"
            ],
            [
             0.4,
             "#fde0ef"
            ],
            [
             0.5,
             "#f7f7f7"
            ],
            [
             0.6,
             "#e6f5d0"
            ],
            [
             0.7,
             "#b8e186"
            ],
            [
             0.8,
             "#7fbc41"
            ],
            [
             0.9,
             "#4d9221"
            ],
            [
             1,
             "#276419"
            ]
           ],
           "sequential": [
            [
             0.0,
             "#0d0887"
            ],
            [
             0.1111111111111111,
             "#46039f"
            ],
            [
             0.2222222222222222,
             "#7201a8"
            ],
            [
             0.3333333333333333,
             "#9c179e"
            ],
            [
             0.4444444444444444,
             "#bd3786"
            ],
            [
             0.5555555555555556,
             "#d8576b"
            ],
            [
             0.6666666666666666,
             "#ed7953"
            ],
            [
             0.7777777777777778,
             "#fb9f3a"
            ],
            [
             0.8888888888888888,
             "#fdca26"
            ],
            [
             1.0,
             "#f0f921"
            ]
           ],
           "sequentialminus": [
            [
             0.0,
             "#0d0887"
            ],
            [
             0.1111111111111111,
             "#46039f"
            ],
            [
             0.2222222222222222,
             "#7201a8"
            ],
            [
             0.3333333333333333,
             "#9c179e"
            ],
            [
             0.4444444444444444,
             "#bd3786"
            ],
            [
             0.5555555555555556,
             "#d8576b"
            ],
            [
             0.6666666666666666,
             "#ed7953"
            ],
            [
             0.7777777777777778,
             "#fb9f3a"
            ],
            [
             0.8888888888888888,
             "#fdca26"
            ],
            [
             1.0,
             "#f0f921"
            ]
           ]
          },
          "colorway": [
           "#636efa",
           "#EF553B",
           "#00cc96",
           "#ab63fa",
           "#FFA15A",
           "#19d3f3",
           "#FF6692",
           "#B6E880",
           "#FF97FF",
           "#FECB52"
          ],
          "font": {
           "color": "#2a3f5f"
          },
          "geo": {
           "bgcolor": "white",
           "lakecolor": "white",
           "landcolor": "#E5ECF6",
           "showlakes": true,
           "showland": true,
           "subunitcolor": "white"
          },
          "hoverlabel": {
           "align": "left"
          },
          "hovermode": "closest",
          "mapbox": {
           "style": "light"
          },
          "paper_bgcolor": "white",
          "plot_bgcolor": "#E5ECF6",
          "polar": {
           "angularaxis": {
            "gridcolor": "white",
            "linecolor": "white",
            "ticks": ""
           },
           "bgcolor": "#E5ECF6",
           "radialaxis": {
            "gridcolor": "white",
            "linecolor": "white",
            "ticks": ""
           }
          },
          "scene": {
           "xaxis": {
            "backgroundcolor": "#E5ECF6",
            "gridcolor": "white",
            "gridwidth": 2,
            "linecolor": "white",
            "showbackground": true,
            "ticks": "",
            "zerolinecolor": "white"
           },
           "yaxis": {
            "backgroundcolor": "#E5ECF6",
            "gridcolor": "white",
            "gridwidth": 2,
            "linecolor": "white",
            "showbackground": true,
            "ticks": "",
            "zerolinecolor": "white"
           },
           "zaxis": {
            "backgroundcolor": "#E5ECF6",
            "gridcolor": "white",
            "gridwidth": 2,
            "linecolor": "white",
            "showbackground": true,
            "ticks": "",
            "zerolinecolor": "white"
           }
          },
          "shapedefaults": {
           "line": {
            "color": "#2a3f5f"
           }
          },
          "ternary": {
           "aaxis": {
            "gridcolor": "white",
            "linecolor": "white",
            "ticks": ""
           },
           "baxis": {
            "gridcolor": "white",
            "linecolor": "white",
            "ticks": ""
           },
           "bgcolor": "#E5ECF6",
           "caxis": {
            "gridcolor": "white",
            "linecolor": "white",
            "ticks": ""
           }
          },
          "title": {
           "x": 0.05
          },
          "xaxis": {
           "automargin": true,
           "gridcolor": "white",
           "linecolor": "white",
           "ticks": "",
           "title": {
            "standoff": 15
           },
           "zerolinecolor": "white",
           "zerolinewidth": 2
          },
          "yaxis": {
           "automargin": true,
           "gridcolor": "white",
           "linecolor": "white",
           "ticks": "",
           "title": {
            "standoff": 15
           },
           "zerolinecolor": "white",
           "zerolinewidth": 2
          }
         }
        },
        "xaxis": {
         "anchor": "y",
         "domain": [
          0.0,
          1.0
         ],
         "title": {
          "text": "hour"
         }
        },
        "yaxis": {
         "anchor": "x",
         "domain": [
          0.0,
          1.0
         ],
         "title": {
          "text": "counts"
         }
        }
       }
      },
      "text/html": [
       "<div>                            <div id=\"bb6bc946-8954-48a7-bae5-a81d97b403f6\" class=\"plotly-graph-div\" style=\"height:525px; width:100%;\"></div>            <script type=\"text/javascript\">                require([\"plotly\"], function(Plotly) {                    window.PLOTLYENV=window.PLOTLYENV || {};                                    if (document.getElementById(\"bb6bc946-8954-48a7-bae5-a81d97b403f6\")) {                    Plotly.newPlot(                        \"bb6bc946-8954-48a7-bae5-a81d97b403f6\",                        [{\"alignmentgroup\": \"True\", \"hovertemplate\": \"hour=%{x}<br>counts=%{y}<extra></extra>\", \"legendgroup\": \"\", \"marker\": {\"color\": \"#636efa\"}, \"name\": \"\", \"offsetgroup\": \"\", \"orientation\": \"v\", \"showlegend\": false, \"textposition\": \"auto\", \"type\": \"bar\", \"x\": [3, 16, 10, 13, 12, 0, 20, 18, 9, 22, 2, 5, 23, 14, 15, 8, 7, 17, 4, 19, 21, 1, 11, 6], \"xaxis\": \"x\", \"y\": [6, 6, 6, 6, 6, 5, 5, 5, 5, 4, 4, 4, 4, 4, 4, 3, 3, 3, 3, 3, 3, 3, 3, 1], \"yaxis\": \"y\"}],                        {\"barmode\": \"relative\", \"legend\": {\"tracegroupgap\": 0}, \"margin\": {\"t\": 60}, \"template\": {\"data\": {\"bar\": [{\"error_x\": {\"color\": \"#2a3f5f\"}, \"error_y\": {\"color\": \"#2a3f5f\"}, \"marker\": {\"line\": {\"color\": \"#E5ECF6\", \"width\": 0.5}}, \"type\": \"bar\"}], \"barpolar\": [{\"marker\": {\"line\": {\"color\": \"#E5ECF6\", \"width\": 0.5}}, \"type\": \"barpolar\"}], \"carpet\": [{\"aaxis\": {\"endlinecolor\": \"#2a3f5f\", \"gridcolor\": \"white\", \"linecolor\": \"white\", \"minorgridcolor\": \"white\", \"startlinecolor\": \"#2a3f5f\"}, \"baxis\": {\"endlinecolor\": \"#2a3f5f\", \"gridcolor\": \"white\", \"linecolor\": \"white\", \"minorgridcolor\": \"white\", \"startlinecolor\": \"#2a3f5f\"}, \"type\": \"carpet\"}], \"choropleth\": [{\"colorbar\": {\"outlinewidth\": 0, \"ticks\": \"\"}, \"type\": \"choropleth\"}], \"contour\": [{\"colorbar\": {\"outlinewidth\": 0, \"ticks\": \"\"}, \"colorscale\": [[0.0, \"#0d0887\"], [0.1111111111111111, \"#46039f\"], [0.2222222222222222, \"#7201a8\"], [0.3333333333333333, \"#9c179e\"], [0.4444444444444444, \"#bd3786\"], [0.5555555555555556, \"#d8576b\"], [0.6666666666666666, \"#ed7953\"], [0.7777777777777778, \"#fb9f3a\"], [0.8888888888888888, \"#fdca26\"], [1.0, \"#f0f921\"]], \"type\": \"contour\"}], \"contourcarpet\": [{\"colorbar\": {\"outlinewidth\": 0, \"ticks\": \"\"}, \"type\": \"contourcarpet\"}], \"heatmap\": [{\"colorbar\": {\"outlinewidth\": 0, \"ticks\": \"\"}, \"colorscale\": [[0.0, \"#0d0887\"], [0.1111111111111111, \"#46039f\"], [0.2222222222222222, \"#7201a8\"], [0.3333333333333333, \"#9c179e\"], [0.4444444444444444, \"#bd3786\"], [0.5555555555555556, \"#d8576b\"], [0.6666666666666666, \"#ed7953\"], [0.7777777777777778, \"#fb9f3a\"], [0.8888888888888888, \"#fdca26\"], [1.0, \"#f0f921\"]], \"type\": \"heatmap\"}], \"heatmapgl\": [{\"colorbar\": {\"outlinewidth\": 0, \"ticks\": \"\"}, \"colorscale\": [[0.0, \"#0d0887\"], [0.1111111111111111, \"#46039f\"], [0.2222222222222222, \"#7201a8\"], [0.3333333333333333, \"#9c179e\"], [0.4444444444444444, \"#bd3786\"], [0.5555555555555556, \"#d8576b\"], [0.6666666666666666, \"#ed7953\"], [0.7777777777777778, \"#fb9f3a\"], [0.8888888888888888, \"#fdca26\"], [1.0, \"#f0f921\"]], \"type\": \"heatmapgl\"}], \"histogram\": [{\"marker\": {\"colorbar\": {\"outlinewidth\": 0, \"ticks\": \"\"}}, \"type\": \"histogram\"}], \"histogram2d\": [{\"colorbar\": {\"outlinewidth\": 0, \"ticks\": \"\"}, \"colorscale\": [[0.0, \"#0d0887\"], [0.1111111111111111, \"#46039f\"], [0.2222222222222222, \"#7201a8\"], [0.3333333333333333, \"#9c179e\"], [0.4444444444444444, \"#bd3786\"], [0.5555555555555556, \"#d8576b\"], [0.6666666666666666, \"#ed7953\"], [0.7777777777777778, \"#fb9f3a\"], [0.8888888888888888, \"#fdca26\"], [1.0, \"#f0f921\"]], \"type\": \"histogram2d\"}], \"histogram2dcontour\": [{\"colorbar\": {\"outlinewidth\": 0, \"ticks\": \"\"}, \"colorscale\": [[0.0, \"#0d0887\"], [0.1111111111111111, \"#46039f\"], [0.2222222222222222, \"#7201a8\"], [0.3333333333333333, \"#9c179e\"], [0.4444444444444444, \"#bd3786\"], [0.5555555555555556, \"#d8576b\"], [0.6666666666666666, \"#ed7953\"], [0.7777777777777778, \"#fb9f3a\"], [0.8888888888888888, \"#fdca26\"], [1.0, \"#f0f921\"]], \"type\": \"histogram2dcontour\"}], \"mesh3d\": [{\"colorbar\": {\"outlinewidth\": 0, \"ticks\": \"\"}, \"type\": \"mesh3d\"}], \"parcoords\": [{\"line\": {\"colorbar\": {\"outlinewidth\": 0, \"ticks\": \"\"}}, \"type\": \"parcoords\"}], \"pie\": [{\"automargin\": true, \"type\": \"pie\"}], \"scatter\": [{\"marker\": {\"colorbar\": {\"outlinewidth\": 0, \"ticks\": \"\"}}, \"type\": \"scatter\"}], \"scatter3d\": [{\"line\": {\"colorbar\": {\"outlinewidth\": 0, \"ticks\": \"\"}}, \"marker\": {\"colorbar\": {\"outlinewidth\": 0, \"ticks\": \"\"}}, \"type\": \"scatter3d\"}], \"scattercarpet\": [{\"marker\": {\"colorbar\": {\"outlinewidth\": 0, \"ticks\": \"\"}}, \"type\": \"scattercarpet\"}], \"scattergeo\": [{\"marker\": {\"colorbar\": {\"outlinewidth\": 0, \"ticks\": \"\"}}, \"type\": \"scattergeo\"}], \"scattergl\": [{\"marker\": {\"colorbar\": {\"outlinewidth\": 0, \"ticks\": \"\"}}, \"type\": \"scattergl\"}], \"scattermapbox\": [{\"marker\": {\"colorbar\": {\"outlinewidth\": 0, \"ticks\": \"\"}}, \"type\": \"scattermapbox\"}], \"scatterpolar\": [{\"marker\": {\"colorbar\": {\"outlinewidth\": 0, \"ticks\": \"\"}}, \"type\": \"scatterpolar\"}], \"scatterpolargl\": [{\"marker\": {\"colorbar\": {\"outlinewidth\": 0, \"ticks\": \"\"}}, \"type\": \"scatterpolargl\"}], \"scatterternary\": [{\"marker\": {\"colorbar\": {\"outlinewidth\": 0, \"ticks\": \"\"}}, \"type\": \"scatterternary\"}], \"surface\": [{\"colorbar\": {\"outlinewidth\": 0, \"ticks\": \"\"}, \"colorscale\": [[0.0, \"#0d0887\"], [0.1111111111111111, \"#46039f\"], [0.2222222222222222, \"#7201a8\"], [0.3333333333333333, \"#9c179e\"], [0.4444444444444444, \"#bd3786\"], [0.5555555555555556, \"#d8576b\"], [0.6666666666666666, \"#ed7953\"], [0.7777777777777778, \"#fb9f3a\"], [0.8888888888888888, \"#fdca26\"], [1.0, \"#f0f921\"]], \"type\": \"surface\"}], \"table\": [{\"cells\": {\"fill\": {\"color\": \"#EBF0F8\"}, \"line\": {\"color\": \"white\"}}, \"header\": {\"fill\": {\"color\": \"#C8D4E3\"}, \"line\": {\"color\": \"white\"}}, \"type\": \"table\"}]}, \"layout\": {\"annotationdefaults\": {\"arrowcolor\": \"#2a3f5f\", \"arrowhead\": 0, \"arrowwidth\": 1}, \"autotypenumbers\": \"strict\", \"coloraxis\": {\"colorbar\": {\"outlinewidth\": 0, \"ticks\": \"\"}}, \"colorscale\": {\"diverging\": [[0, \"#8e0152\"], [0.1, \"#c51b7d\"], [0.2, \"#de77ae\"], [0.3, \"#f1b6da\"], [0.4, \"#fde0ef\"], [0.5, \"#f7f7f7\"], [0.6, \"#e6f5d0\"], [0.7, \"#b8e186\"], [0.8, \"#7fbc41\"], [0.9, \"#4d9221\"], [1, \"#276419\"]], \"sequential\": [[0.0, \"#0d0887\"], [0.1111111111111111, \"#46039f\"], [0.2222222222222222, \"#7201a8\"], [0.3333333333333333, \"#9c179e\"], [0.4444444444444444, \"#bd3786\"], [0.5555555555555556, \"#d8576b\"], [0.6666666666666666, \"#ed7953\"], [0.7777777777777778, \"#fb9f3a\"], [0.8888888888888888, \"#fdca26\"], [1.0, \"#f0f921\"]], \"sequentialminus\": [[0.0, \"#0d0887\"], [0.1111111111111111, \"#46039f\"], [0.2222222222222222, \"#7201a8\"], [0.3333333333333333, \"#9c179e\"], [0.4444444444444444, \"#bd3786\"], [0.5555555555555556, \"#d8576b\"], [0.6666666666666666, \"#ed7953\"], [0.7777777777777778, \"#fb9f3a\"], [0.8888888888888888, \"#fdca26\"], [1.0, \"#f0f921\"]]}, \"colorway\": [\"#636efa\", \"#EF553B\", \"#00cc96\", \"#ab63fa\", \"#FFA15A\", \"#19d3f3\", \"#FF6692\", \"#B6E880\", \"#FF97FF\", \"#FECB52\"], \"font\": {\"color\": \"#2a3f5f\"}, \"geo\": {\"bgcolor\": \"white\", \"lakecolor\": \"white\", \"landcolor\": \"#E5ECF6\", \"showlakes\": true, \"showland\": true, \"subunitcolor\": \"white\"}, \"hoverlabel\": {\"align\": \"left\"}, \"hovermode\": \"closest\", \"mapbox\": {\"style\": \"light\"}, \"paper_bgcolor\": \"white\", \"plot_bgcolor\": \"#E5ECF6\", \"polar\": {\"angularaxis\": {\"gridcolor\": \"white\", \"linecolor\": \"white\", \"ticks\": \"\"}, \"bgcolor\": \"#E5ECF6\", \"radialaxis\": {\"gridcolor\": \"white\", \"linecolor\": \"white\", \"ticks\": \"\"}}, \"scene\": {\"xaxis\": {\"backgroundcolor\": \"#E5ECF6\", \"gridcolor\": \"white\", \"gridwidth\": 2, \"linecolor\": \"white\", \"showbackground\": true, \"ticks\": \"\", \"zerolinecolor\": \"white\"}, \"yaxis\": {\"backgroundcolor\": \"#E5ECF6\", \"gridcolor\": \"white\", \"gridwidth\": 2, \"linecolor\": \"white\", \"showbackground\": true, \"ticks\": \"\", \"zerolinecolor\": \"white\"}, \"zaxis\": {\"backgroundcolor\": \"#E5ECF6\", \"gridcolor\": \"white\", \"gridwidth\": 2, \"linecolor\": \"white\", \"showbackground\": true, \"ticks\": \"\", \"zerolinecolor\": \"white\"}}, \"shapedefaults\": {\"line\": {\"color\": \"#2a3f5f\"}}, \"ternary\": {\"aaxis\": {\"gridcolor\": \"white\", \"linecolor\": \"white\", \"ticks\": \"\"}, \"baxis\": {\"gridcolor\": \"white\", \"linecolor\": \"white\", \"ticks\": \"\"}, \"bgcolor\": \"#E5ECF6\", \"caxis\": {\"gridcolor\": \"white\", \"linecolor\": \"white\", \"ticks\": \"\"}}, \"title\": {\"x\": 0.05}, \"xaxis\": {\"automargin\": true, \"gridcolor\": \"white\", \"linecolor\": \"white\", \"ticks\": \"\", \"title\": {\"standoff\": 15}, \"zerolinecolor\": \"white\", \"zerolinewidth\": 2}, \"yaxis\": {\"automargin\": true, \"gridcolor\": \"white\", \"linecolor\": \"white\", \"ticks\": \"\", \"title\": {\"standoff\": 15}, \"zerolinecolor\": \"white\", \"zerolinewidth\": 2}}}, \"xaxis\": {\"anchor\": \"y\", \"domain\": [0.0, 1.0], \"title\": {\"text\": \"hour\"}}, \"yaxis\": {\"anchor\": \"x\", \"domain\": [0.0, 1.0], \"title\": {\"text\": \"counts\"}}},                        {\"responsive\": true}                    ).then(function(){\n",
       "                            \n",
       "var gd = document.getElementById('bb6bc946-8954-48a7-bae5-a81d97b403f6');\n",
       "var x = new MutationObserver(function (mutations, observer) {{\n",
       "        var display = window.getComputedStyle(gd).display;\n",
       "        if (!display || display === 'none') {{\n",
       "            console.log([gd, 'removed!']);\n",
       "            Plotly.purge(gd);\n",
       "            observer.disconnect();\n",
       "        }}\n",
       "}});\n",
       "\n",
       "// Listen for the removal of the full notebook cells\n",
       "var notebookContainer = gd.closest('#notebook-container');\n",
       "if (notebookContainer) {{\n",
       "    x.observe(notebookContainer, {childList: true});\n",
       "}}\n",
       "\n",
       "// Listen for the clearing of the current output cell\n",
       "var outputEl = gd.closest('.output');\n",
       "if (outputEl) {{\n",
       "    x.observe(outputEl, {childList: true});\n",
       "}}\n",
       "\n",
       "                        })                };                });            </script>        </div>"
      ]
     },
     "metadata": {},
     "output_type": "display_data"
    }
   ],
   "source": [
    "fig = px.bar(churn_hours, x='hour', y='counts')\n",
    "fig.show()"
   ]
  },
  {
   "cell_type": "markdown",
   "metadata": {
    "papermill": {
     "duration": 0.152259,
     "end_time": "2021-02-12T23:46:25.734957",
     "exception": false,
     "start_time": "2021-02-12T23:46:25.582698",
     "status": "completed"
    },
    "tags": []
   },
   "source": [
    "At hours: 3,10,12,13,and 16 were the most popular hours for churnning. So not too many during mid-afternoon and night time, which is probably the time people need music the most."
   ]
  },
  {
   "cell_type": "markdown",
   "metadata": {
    "papermill": {
     "duration": 0.147545,
     "end_time": "2021-02-12T23:46:26.030587",
     "exception": false,
     "start_time": "2021-02-12T23:46:25.883042",
     "status": "completed"
    },
    "tags": []
   },
   "source": [
    "### Churn Rate per UserAgent"
   ]
  },
  {
   "cell_type": "code",
   "execution_count": 57,
   "metadata": {
    "execution": {
     "iopub.execute_input": "2021-02-12T23:46:26.326975Z",
     "iopub.status.busy": "2021-02-12T23:46:26.325919Z",
     "iopub.status.idle": "2021-02-12T23:46:26.539685Z",
     "shell.execute_reply": "2021-02-12T23:46:26.540255Z"
    },
    "papermill": {
     "duration": 0.363264,
     "end_time": "2021-02-12T23:46:26.540403",
     "exception": false,
     "start_time": "2021-02-12T23:46:26.177139",
     "status": "completed"
    },
    "tags": []
   },
   "outputs": [],
   "source": [
    "#Get DF with churn IDs\n",
    "churn_df = df.loc[(df['page'] == 'Cancellation Confirmation') | (df['page'] == 'Cancel')]"
   ]
  },
  {
   "cell_type": "code",
   "execution_count": 58,
   "metadata": {
    "execution": {
     "iopub.execute_input": "2021-02-12T23:46:26.839654Z",
     "iopub.status.busy": "2021-02-12T23:46:26.838589Z",
     "iopub.status.idle": "2021-02-12T23:46:26.889308Z",
     "shell.execute_reply": "2021-02-12T23:46:26.889861Z"
    },
    "papermill": {
     "duration": 0.203278,
     "end_time": "2021-02-12T23:46:26.890012",
     "exception": false,
     "start_time": "2021-02-12T23:46:26.686734",
     "status": "completed"
    },
    "tags": []
   },
   "outputs": [
    {
     "data": {
      "text/html": [
       "<div>\n",
       "<style scoped>\n",
       "    .dataframe tbody tr th:only-of-type {\n",
       "        vertical-align: middle;\n",
       "    }\n",
       "\n",
       "    .dataframe tbody tr th {\n",
       "        vertical-align: top;\n",
       "    }\n",
       "\n",
       "    .dataframe thead th {\n",
       "        text-align: right;\n",
       "    }\n",
       "</style>\n",
       "<table border=\"1\" class=\"dataframe\">\n",
       "  <thead>\n",
       "    <tr style=\"text-align: right;\">\n",
       "      <th></th>\n",
       "      <th>ts</th>\n",
       "      <th>userId</th>\n",
       "      <th>sessionId</th>\n",
       "      <th>page</th>\n",
       "      <th>auth</th>\n",
       "      <th>method</th>\n",
       "      <th>status</th>\n",
       "      <th>level</th>\n",
       "      <th>itemInSession</th>\n",
       "      <th>location</th>\n",
       "      <th>...</th>\n",
       "      <th>registration</th>\n",
       "      <th>gender</th>\n",
       "      <th>artist</th>\n",
       "      <th>song</th>\n",
       "      <th>length</th>\n",
       "      <th>churn</th>\n",
       "      <th>ts_hour</th>\n",
       "      <th>ts_date</th>\n",
       "      <th>timestamp</th>\n",
       "      <th>useragent_short</th>\n",
       "    </tr>\n",
       "  </thead>\n",
       "  <tbody>\n",
       "    <tr>\n",
       "      <th>2554</th>\n",
       "      <td>1538400609000</td>\n",
       "      <td>208</td>\n",
       "      <td>490</td>\n",
       "      <td>Cancel</td>\n",
       "      <td>Logged In</td>\n",
       "      <td>PUT</td>\n",
       "      <td>307</td>\n",
       "      <td>free</td>\n",
       "      <td>39</td>\n",
       "      <td>Fort Wayne, IN</td>\n",
       "      <td>...</td>\n",
       "      <td>1.536758e+12</td>\n",
       "      <td>F</td>\n",
       "      <td>NaN</td>\n",
       "      <td>NaN</td>\n",
       "      <td>NaN</td>\n",
       "      <td>1</td>\n",
       "      <td>13</td>\n",
       "      <td>2018-10-01</td>\n",
       "      <td>2018-10-01 13:30:09</td>\n",
       "      <td>Windows</td>\n",
       "    </tr>\n",
       "    <tr>\n",
       "      <th>2555</th>\n",
       "      <td>1538400616000</td>\n",
       "      <td>208</td>\n",
       "      <td>490</td>\n",
       "      <td>Cancellation Confirmation</td>\n",
       "      <td>Cancelled</td>\n",
       "      <td>GET</td>\n",
       "      <td>200</td>\n",
       "      <td>free</td>\n",
       "      <td>40</td>\n",
       "      <td>Fort Wayne, IN</td>\n",
       "      <td>...</td>\n",
       "      <td>1.536758e+12</td>\n",
       "      <td>F</td>\n",
       "      <td>NaN</td>\n",
       "      <td>NaN</td>\n",
       "      <td>NaN</td>\n",
       "      <td>1</td>\n",
       "      <td>13</td>\n",
       "      <td>2018-10-01</td>\n",
       "      <td>2018-10-01 13:30:16</td>\n",
       "      <td>Windows</td>\n",
       "    </tr>\n",
       "    <tr>\n",
       "      <th>6757</th>\n",
       "      <td>1538482775000</td>\n",
       "      <td>231</td>\n",
       "      <td>471</td>\n",
       "      <td>Cancel</td>\n",
       "      <td>Logged In</td>\n",
       "      <td>PUT</td>\n",
       "      <td>307</td>\n",
       "      <td>paid</td>\n",
       "      <td>233</td>\n",
       "      <td>Columbus, OH</td>\n",
       "      <td>...</td>\n",
       "      <td>1.533473e+12</td>\n",
       "      <td>F</td>\n",
       "      <td>NaN</td>\n",
       "      <td>NaN</td>\n",
       "      <td>NaN</td>\n",
       "      <td>1</td>\n",
       "      <td>12</td>\n",
       "      <td>2018-10-02</td>\n",
       "      <td>2018-10-02 12:19:35</td>\n",
       "      <td>Windows</td>\n",
       "    </tr>\n",
       "    <tr>\n",
       "      <th>6758</th>\n",
       "      <td>1538482793000</td>\n",
       "      <td>231</td>\n",
       "      <td>471</td>\n",
       "      <td>Cancellation Confirmation</td>\n",
       "      <td>Cancelled</td>\n",
       "      <td>GET</td>\n",
       "      <td>200</td>\n",
       "      <td>paid</td>\n",
       "      <td>234</td>\n",
       "      <td>Columbus, OH</td>\n",
       "      <td>...</td>\n",
       "      <td>1.533473e+12</td>\n",
       "      <td>F</td>\n",
       "      <td>NaN</td>\n",
       "      <td>NaN</td>\n",
       "      <td>NaN</td>\n",
       "      <td>1</td>\n",
       "      <td>12</td>\n",
       "      <td>2018-10-02</td>\n",
       "      <td>2018-10-02 12:19:53</td>\n",
       "      <td>Windows</td>\n",
       "    </tr>\n",
       "    <tr>\n",
       "      <th>12641</th>\n",
       "      <td>1538539764000</td>\n",
       "      <td>236</td>\n",
       "      <td>682</td>\n",
       "      <td>Cancel</td>\n",
       "      <td>Logged In</td>\n",
       "      <td>PUT</td>\n",
       "      <td>307</td>\n",
       "      <td>paid</td>\n",
       "      <td>108</td>\n",
       "      <td>Grand Rapids-Wyoming, MI</td>\n",
       "      <td>...</td>\n",
       "      <td>1.529996e+12</td>\n",
       "      <td>M</td>\n",
       "      <td>NaN</td>\n",
       "      <td>NaN</td>\n",
       "      <td>NaN</td>\n",
       "      <td>1</td>\n",
       "      <td>4</td>\n",
       "      <td>2018-10-03</td>\n",
       "      <td>2018-10-03 04:09:24</td>\n",
       "      <td>Windows</td>\n",
       "    </tr>\n",
       "    <tr>\n",
       "      <th>...</th>\n",
       "      <td>...</td>\n",
       "      <td>...</td>\n",
       "      <td>...</td>\n",
       "      <td>...</td>\n",
       "      <td>...</td>\n",
       "      <td>...</td>\n",
       "      <td>...</td>\n",
       "      <td>...</td>\n",
       "      <td>...</td>\n",
       "      <td>...</td>\n",
       "      <td>...</td>\n",
       "      <td>...</td>\n",
       "      <td>...</td>\n",
       "      <td>...</td>\n",
       "      <td>...</td>\n",
       "      <td>...</td>\n",
       "      <td>...</td>\n",
       "      <td>...</td>\n",
       "      <td>...</td>\n",
       "      <td>...</td>\n",
       "      <td>...</td>\n",
       "    </tr>\n",
       "    <tr>\n",
       "      <th>465426</th>\n",
       "      <td>1542750479000</td>\n",
       "      <td>200020</td>\n",
       "      <td>625</td>\n",
       "      <td>Cancellation Confirmation</td>\n",
       "      <td>Cancelled</td>\n",
       "      <td>GET</td>\n",
       "      <td>200</td>\n",
       "      <td>paid</td>\n",
       "      <td>140</td>\n",
       "      <td>Orlando-Kissimmee-Sanford, FL</td>\n",
       "      <td>...</td>\n",
       "      <td>1.535907e+12</td>\n",
       "      <td>M</td>\n",
       "      <td>NaN</td>\n",
       "      <td>NaN</td>\n",
       "      <td>NaN</td>\n",
       "      <td>1</td>\n",
       "      <td>21</td>\n",
       "      <td>2018-11-20</td>\n",
       "      <td>2018-11-20 21:47:59</td>\n",
       "      <td>Macintosh</td>\n",
       "    </tr>\n",
       "    <tr>\n",
       "      <th>499613</th>\n",
       "      <td>1540684945000</td>\n",
       "      <td>300004</td>\n",
       "      <td>289</td>\n",
       "      <td>Cancel</td>\n",
       "      <td>Logged In</td>\n",
       "      <td>PUT</td>\n",
       "      <td>307</td>\n",
       "      <td>paid</td>\n",
       "      <td>34</td>\n",
       "      <td>Los Angeles-Long Beach-Anaheim, CA</td>\n",
       "      <td>...</td>\n",
       "      <td>1.534513e+12</td>\n",
       "      <td>F</td>\n",
       "      <td>NaN</td>\n",
       "      <td>NaN</td>\n",
       "      <td>NaN</td>\n",
       "      <td>1</td>\n",
       "      <td>0</td>\n",
       "      <td>2018-10-28</td>\n",
       "      <td>2018-10-28 00:02:25</td>\n",
       "      <td>Windows</td>\n",
       "    </tr>\n",
       "    <tr>\n",
       "      <th>499615</th>\n",
       "      <td>1540684960000</td>\n",
       "      <td>300004</td>\n",
       "      <td>289</td>\n",
       "      <td>Cancellation Confirmation</td>\n",
       "      <td>Cancelled</td>\n",
       "      <td>GET</td>\n",
       "      <td>200</td>\n",
       "      <td>paid</td>\n",
       "      <td>35</td>\n",
       "      <td>Los Angeles-Long Beach-Anaheim, CA</td>\n",
       "      <td>...</td>\n",
       "      <td>1.534513e+12</td>\n",
       "      <td>F</td>\n",
       "      <td>NaN</td>\n",
       "      <td>NaN</td>\n",
       "      <td>NaN</td>\n",
       "      <td>1</td>\n",
       "      <td>0</td>\n",
       "      <td>2018-10-28</td>\n",
       "      <td>2018-10-28 00:02:40</td>\n",
       "      <td>Windows</td>\n",
       "    </tr>\n",
       "    <tr>\n",
       "      <th>499910</th>\n",
       "      <td>1540711797000</td>\n",
       "      <td>300047</td>\n",
       "      <td>258</td>\n",
       "      <td>Cancel</td>\n",
       "      <td>Logged In</td>\n",
       "      <td>PUT</td>\n",
       "      <td>307</td>\n",
       "      <td>paid</td>\n",
       "      <td>36</td>\n",
       "      <td>Newport, TN</td>\n",
       "      <td>...</td>\n",
       "      <td>1.534487e+12</td>\n",
       "      <td>F</td>\n",
       "      <td>NaN</td>\n",
       "      <td>NaN</td>\n",
       "      <td>NaN</td>\n",
       "      <td>1</td>\n",
       "      <td>7</td>\n",
       "      <td>2018-10-28</td>\n",
       "      <td>2018-10-28 07:29:57</td>\n",
       "      <td>Windows</td>\n",
       "    </tr>\n",
       "    <tr>\n",
       "      <th>499913</th>\n",
       "      <td>1540711926000</td>\n",
       "      <td>300047</td>\n",
       "      <td>258</td>\n",
       "      <td>Cancellation Confirmation</td>\n",
       "      <td>Cancelled</td>\n",
       "      <td>GET</td>\n",
       "      <td>200</td>\n",
       "      <td>paid</td>\n",
       "      <td>37</td>\n",
       "      <td>Newport, TN</td>\n",
       "      <td>...</td>\n",
       "      <td>1.534487e+12</td>\n",
       "      <td>F</td>\n",
       "      <td>NaN</td>\n",
       "      <td>NaN</td>\n",
       "      <td>NaN</td>\n",
       "      <td>1</td>\n",
       "      <td>7</td>\n",
       "      <td>2018-10-28</td>\n",
       "      <td>2018-10-28 07:32:06</td>\n",
       "      <td>Windows</td>\n",
       "    </tr>\n",
       "  </tbody>\n",
       "</table>\n",
       "<p>198 rows × 23 columns</p>\n",
       "</div>"
      ],
      "text/plain": [
       "                   ts  userId  sessionId                       page  \\\n",
       "2554    1538400609000     208        490                     Cancel   \n",
       "2555    1538400616000     208        490  Cancellation Confirmation   \n",
       "6757    1538482775000     231        471                     Cancel   \n",
       "6758    1538482793000     231        471  Cancellation Confirmation   \n",
       "12641   1538539764000     236        682                     Cancel   \n",
       "...               ...     ...        ...                        ...   \n",
       "465426  1542750479000  200020        625  Cancellation Confirmation   \n",
       "499613  1540684945000  300004        289                     Cancel   \n",
       "499615  1540684960000  300004        289  Cancellation Confirmation   \n",
       "499910  1540711797000  300047        258                     Cancel   \n",
       "499913  1540711926000  300047        258  Cancellation Confirmation   \n",
       "\n",
       "             auth method  status level  itemInSession  \\\n",
       "2554    Logged In    PUT     307  free             39   \n",
       "2555    Cancelled    GET     200  free             40   \n",
       "6757    Logged In    PUT     307  paid            233   \n",
       "6758    Cancelled    GET     200  paid            234   \n",
       "12641   Logged In    PUT     307  paid            108   \n",
       "...           ...    ...     ...   ...            ...   \n",
       "465426  Cancelled    GET     200  paid            140   \n",
       "499613  Logged In    PUT     307  paid             34   \n",
       "499615  Cancelled    GET     200  paid             35   \n",
       "499910  Logged In    PUT     307  paid             36   \n",
       "499913  Cancelled    GET     200  paid             37   \n",
       "\n",
       "                                  location  ...  registration gender artist  \\\n",
       "2554                        Fort Wayne, IN  ...  1.536758e+12      F    NaN   \n",
       "2555                        Fort Wayne, IN  ...  1.536758e+12      F    NaN   \n",
       "6757                          Columbus, OH  ...  1.533473e+12      F    NaN   \n",
       "6758                          Columbus, OH  ...  1.533473e+12      F    NaN   \n",
       "12641             Grand Rapids-Wyoming, MI  ...  1.529996e+12      M    NaN   \n",
       "...                                    ...  ...           ...    ...    ...   \n",
       "465426       Orlando-Kissimmee-Sanford, FL  ...  1.535907e+12      M    NaN   \n",
       "499613  Los Angeles-Long Beach-Anaheim, CA  ...  1.534513e+12      F    NaN   \n",
       "499615  Los Angeles-Long Beach-Anaheim, CA  ...  1.534513e+12      F    NaN   \n",
       "499910                         Newport, TN  ...  1.534487e+12      F    NaN   \n",
       "499913                         Newport, TN  ...  1.534487e+12      F    NaN   \n",
       "\n",
       "        song length churn ts_hour     ts_date            timestamp  \\\n",
       "2554     NaN    NaN     1      13  2018-10-01  2018-10-01 13:30:09   \n",
       "2555     NaN    NaN     1      13  2018-10-01  2018-10-01 13:30:16   \n",
       "6757     NaN    NaN     1      12  2018-10-02  2018-10-02 12:19:35   \n",
       "6758     NaN    NaN     1      12  2018-10-02  2018-10-02 12:19:53   \n",
       "12641    NaN    NaN     1       4  2018-10-03  2018-10-03 04:09:24   \n",
       "...      ...    ...   ...     ...         ...                  ...   \n",
       "465426   NaN    NaN     1      21  2018-11-20  2018-11-20 21:47:59   \n",
       "499613   NaN    NaN     1       0  2018-10-28  2018-10-28 00:02:25   \n",
       "499615   NaN    NaN     1       0  2018-10-28  2018-10-28 00:02:40   \n",
       "499910   NaN    NaN     1       7  2018-10-28  2018-10-28 07:29:57   \n",
       "499913   NaN    NaN     1       7  2018-10-28  2018-10-28 07:32:06   \n",
       "\n",
       "        useragent_short  \n",
       "2554            Windows  \n",
       "2555            Windows  \n",
       "6757            Windows  \n",
       "6758            Windows  \n",
       "12641           Windows  \n",
       "...                 ...  \n",
       "465426        Macintosh  \n",
       "499613          Windows  \n",
       "499615          Windows  \n",
       "499910          Windows  \n",
       "499913          Windows  \n",
       "\n",
       "[198 rows x 23 columns]"
      ]
     },
     "execution_count": 58,
     "metadata": {},
     "output_type": "execute_result"
    }
   ],
   "source": [
    "#make new column with UserAgent names only\n",
    "\n",
    "agent = []\n",
    "for i in churn_df['userAgent']:\n",
    "    agent.append(i.split('(')[1].replace(\";\", \" \").split(\" \")[0])\n",
    "\n",
    "\n",
    "churn_df['useragent_short'] = agent\n",
    "churn_df"
   ]
  },
  {
   "cell_type": "code",
   "execution_count": 59,
   "metadata": {
    "execution": {
     "iopub.execute_input": "2021-02-12T23:46:27.189437Z",
     "iopub.status.busy": "2021-02-12T23:46:27.188719Z",
     "iopub.status.idle": "2021-02-12T23:46:27.318607Z",
     "shell.execute_reply": "2021-02-12T23:46:27.319190Z"
    },
    "papermill": {
     "duration": 0.281297,
     "end_time": "2021-02-12T23:46:27.319347",
     "exception": false,
     "start_time": "2021-02-12T23:46:27.038050",
     "status": "completed"
    },
    "tags": []
   },
   "outputs": [],
   "source": [
    "ua = churn_df['useragent_short'].value_counts().rename_axis('ua').reset_index(name='counts').sort_index()\n",
    "ua['churn_rate'] = ua['counts']/df.userId.nunique()"
   ]
  },
  {
   "cell_type": "code",
   "execution_count": 60,
   "metadata": {
    "execution": {
     "iopub.execute_input": "2021-02-12T23:46:27.621141Z",
     "iopub.status.busy": "2021-02-12T23:46:27.620449Z",
     "iopub.status.idle": "2021-02-12T23:46:27.630495Z",
     "shell.execute_reply": "2021-02-12T23:46:27.630978Z"
    },
    "papermill": {
     "duration": 0.162179,
     "end_time": "2021-02-12T23:46:27.631148",
     "exception": false,
     "start_time": "2021-02-12T23:46:27.468969",
     "status": "completed"
    },
    "tags": []
   },
   "outputs": [
    {
     "data": {
      "text/html": [
       "<div>\n",
       "<style scoped>\n",
       "    .dataframe tbody tr th:only-of-type {\n",
       "        vertical-align: middle;\n",
       "    }\n",
       "\n",
       "    .dataframe tbody tr th {\n",
       "        vertical-align: top;\n",
       "    }\n",
       "\n",
       "    .dataframe thead th {\n",
       "        text-align: right;\n",
       "    }\n",
       "</style>\n",
       "<table border=\"1\" class=\"dataframe\">\n",
       "  <thead>\n",
       "    <tr style=\"text-align: right;\">\n",
       "      <th></th>\n",
       "      <th>ua</th>\n",
       "      <th>counts</th>\n",
       "      <th>churn_rate</th>\n",
       "    </tr>\n",
       "  </thead>\n",
       "  <tbody>\n",
       "    <tr>\n",
       "      <th>0</th>\n",
       "      <td>Windows</td>\n",
       "      <td>92</td>\n",
       "      <td>0.205357</td>\n",
       "    </tr>\n",
       "    <tr>\n",
       "      <th>1</th>\n",
       "      <td>Macintosh</td>\n",
       "      <td>70</td>\n",
       "      <td>0.156250</td>\n",
       "    </tr>\n",
       "    <tr>\n",
       "      <th>2</th>\n",
       "      <td>iPhone</td>\n",
       "      <td>22</td>\n",
       "      <td>0.049107</td>\n",
       "    </tr>\n",
       "    <tr>\n",
       "      <th>3</th>\n",
       "      <td>X11</td>\n",
       "      <td>10</td>\n",
       "      <td>0.022321</td>\n",
       "    </tr>\n",
       "    <tr>\n",
       "      <th>4</th>\n",
       "      <td>compatible</td>\n",
       "      <td>4</td>\n",
       "      <td>0.008929</td>\n",
       "    </tr>\n",
       "  </tbody>\n",
       "</table>\n",
       "</div>"
      ],
      "text/plain": [
       "           ua  counts  churn_rate\n",
       "0     Windows      92    0.205357\n",
       "1   Macintosh      70    0.156250\n",
       "2      iPhone      22    0.049107\n",
       "3         X11      10    0.022321\n",
       "4  compatible       4    0.008929"
      ]
     },
     "execution_count": 60,
     "metadata": {},
     "output_type": "execute_result"
    }
   ],
   "source": [
    "ua"
   ]
  },
  {
   "cell_type": "code",
   "execution_count": 61,
   "metadata": {
    "execution": {
     "iopub.execute_input": "2021-02-12T23:46:27.931182Z",
     "iopub.status.busy": "2021-02-12T23:46:27.930518Z",
     "iopub.status.idle": "2021-02-12T23:46:28.008534Z",
     "shell.execute_reply": "2021-02-12T23:46:28.009117Z"
    },
    "papermill": {
     "duration": 0.229582,
     "end_time": "2021-02-12T23:46:28.009266",
     "exception": false,
     "start_time": "2021-02-12T23:46:27.779684",
     "status": "completed"
    },
    "tags": []
   },
   "outputs": [
    {
     "data": {
      "application/vnd.plotly.v1+json": {
       "config": {
        "plotlyServerURL": "https://plot.ly"
       },
       "data": [
        {
         "alignmentgroup": "True",
         "hovertemplate": "ua=%{x}<br>churn_rate=%{y}<extra></extra>",
         "legendgroup": "",
         "marker": {
          "color": "#636efa"
         },
         "name": "",
         "offsetgroup": "",
         "orientation": "v",
         "showlegend": false,
         "textposition": "auto",
         "type": "bar",
         "x": [
          "Windows",
          "Macintosh",
          "iPhone",
          "X11",
          "compatible"
         ],
         "xaxis": "x",
         "y": [
          0.20535714285714285,
          0.15625,
          0.049107142857142856,
          0.022321428571428572,
          0.008928571428571428
         ],
         "yaxis": "y"
        }
       ],
       "layout": {
        "barmode": "relative",
        "legend": {
         "tracegroupgap": 0
        },
        "margin": {
         "t": 60
        },
        "template": {
         "data": {
          "bar": [
           {
            "error_x": {
             "color": "#2a3f5f"
            },
            "error_y": {
             "color": "#2a3f5f"
            },
            "marker": {
             "line": {
              "color": "#E5ECF6",
              "width": 0.5
             }
            },
            "type": "bar"
           }
          ],
          "barpolar": [
           {
            "marker": {
             "line": {
              "color": "#E5ECF6",
              "width": 0.5
             }
            },
            "type": "barpolar"
           }
          ],
          "carpet": [
           {
            "aaxis": {
             "endlinecolor": "#2a3f5f",
             "gridcolor": "white",
             "linecolor": "white",
             "minorgridcolor": "white",
             "startlinecolor": "#2a3f5f"
            },
            "baxis": {
             "endlinecolor": "#2a3f5f",
             "gridcolor": "white",
             "linecolor": "white",
             "minorgridcolor": "white",
             "startlinecolor": "#2a3f5f"
            },
            "type": "carpet"
           }
          ],
          "choropleth": [
           {
            "colorbar": {
             "outlinewidth": 0,
             "ticks": ""
            },
            "type": "choropleth"
           }
          ],
          "contour": [
           {
            "colorbar": {
             "outlinewidth": 0,
             "ticks": ""
            },
            "colorscale": [
             [
              0.0,
              "#0d0887"
             ],
             [
              0.1111111111111111,
              "#46039f"
             ],
             [
              0.2222222222222222,
              "#7201a8"
             ],
             [
              0.3333333333333333,
              "#9c179e"
             ],
             [
              0.4444444444444444,
              "#bd3786"
             ],
             [
              0.5555555555555556,
              "#d8576b"
             ],
             [
              0.6666666666666666,
              "#ed7953"
             ],
             [
              0.7777777777777778,
              "#fb9f3a"
             ],
             [
              0.8888888888888888,
              "#fdca26"
             ],
             [
              1.0,
              "#f0f921"
             ]
            ],
            "type": "contour"
           }
          ],
          "contourcarpet": [
           {
            "colorbar": {
             "outlinewidth": 0,
             "ticks": ""
            },
            "type": "contourcarpet"
           }
          ],
          "heatmap": [
           {
            "colorbar": {
             "outlinewidth": 0,
             "ticks": ""
            },
            "colorscale": [
             [
              0.0,
              "#0d0887"
             ],
             [
              0.1111111111111111,
              "#46039f"
             ],
             [
              0.2222222222222222,
              "#7201a8"
             ],
             [
              0.3333333333333333,
              "#9c179e"
             ],
             [
              0.4444444444444444,
              "#bd3786"
             ],
             [
              0.5555555555555556,
              "#d8576b"
             ],
             [
              0.6666666666666666,
              "#ed7953"
             ],
             [
              0.7777777777777778,
              "#fb9f3a"
             ],
             [
              0.8888888888888888,
              "#fdca26"
             ],
             [
              1.0,
              "#f0f921"
             ]
            ],
            "type": "heatmap"
           }
          ],
          "heatmapgl": [
           {
            "colorbar": {
             "outlinewidth": 0,
             "ticks": ""
            },
            "colorscale": [
             [
              0.0,
              "#0d0887"
             ],
             [
              0.1111111111111111,
              "#46039f"
             ],
             [
              0.2222222222222222,
              "#7201a8"
             ],
             [
              0.3333333333333333,
              "#9c179e"
             ],
             [
              0.4444444444444444,
              "#bd3786"
             ],
             [
              0.5555555555555556,
              "#d8576b"
             ],
             [
              0.6666666666666666,
              "#ed7953"
             ],
             [
              0.7777777777777778,
              "#fb9f3a"
             ],
             [
              0.8888888888888888,
              "#fdca26"
             ],
             [
              1.0,
              "#f0f921"
             ]
            ],
            "type": "heatmapgl"
           }
          ],
          "histogram": [
           {
            "marker": {
             "colorbar": {
              "outlinewidth": 0,
              "ticks": ""
             }
            },
            "type": "histogram"
           }
          ],
          "histogram2d": [
           {
            "colorbar": {
             "outlinewidth": 0,
             "ticks": ""
            },
            "colorscale": [
             [
              0.0,
              "#0d0887"
             ],
             [
              0.1111111111111111,
              "#46039f"
             ],
             [
              0.2222222222222222,
              "#7201a8"
             ],
             [
              0.3333333333333333,
              "#9c179e"
             ],
             [
              0.4444444444444444,
              "#bd3786"
             ],
             [
              0.5555555555555556,
              "#d8576b"
             ],
             [
              0.6666666666666666,
              "#ed7953"
             ],
             [
              0.7777777777777778,
              "#fb9f3a"
             ],
             [
              0.8888888888888888,
              "#fdca26"
             ],
             [
              1.0,
              "#f0f921"
             ]
            ],
            "type": "histogram2d"
           }
          ],
          "histogram2dcontour": [
           {
            "colorbar": {
             "outlinewidth": 0,
             "ticks": ""
            },
            "colorscale": [
             [
              0.0,
              "#0d0887"
             ],
             [
              0.1111111111111111,
              "#46039f"
             ],
             [
              0.2222222222222222,
              "#7201a8"
             ],
             [
              0.3333333333333333,
              "#9c179e"
             ],
             [
              0.4444444444444444,
              "#bd3786"
             ],
             [
              0.5555555555555556,
              "#d8576b"
             ],
             [
              0.6666666666666666,
              "#ed7953"
             ],
             [
              0.7777777777777778,
              "#fb9f3a"
             ],
             [
              0.8888888888888888,
              "#fdca26"
             ],
             [
              1.0,
              "#f0f921"
             ]
            ],
            "type": "histogram2dcontour"
           }
          ],
          "mesh3d": [
           {
            "colorbar": {
             "outlinewidth": 0,
             "ticks": ""
            },
            "type": "mesh3d"
           }
          ],
          "parcoords": [
           {
            "line": {
             "colorbar": {
              "outlinewidth": 0,
              "ticks": ""
             }
            },
            "type": "parcoords"
           }
          ],
          "pie": [
           {
            "automargin": true,
            "type": "pie"
           }
          ],
          "scatter": [
           {
            "marker": {
             "colorbar": {
              "outlinewidth": 0,
              "ticks": ""
             }
            },
            "type": "scatter"
           }
          ],
          "scatter3d": [
           {
            "line": {
             "colorbar": {
              "outlinewidth": 0,
              "ticks": ""
             }
            },
            "marker": {
             "colorbar": {
              "outlinewidth": 0,
              "ticks": ""
             }
            },
            "type": "scatter3d"
           }
          ],
          "scattercarpet": [
           {
            "marker": {
             "colorbar": {
              "outlinewidth": 0,
              "ticks": ""
             }
            },
            "type": "scattercarpet"
           }
          ],
          "scattergeo": [
           {
            "marker": {
             "colorbar": {
              "outlinewidth": 0,
              "ticks": ""
             }
            },
            "type": "scattergeo"
           }
          ],
          "scattergl": [
           {
            "marker": {
             "colorbar": {
              "outlinewidth": 0,
              "ticks": ""
             }
            },
            "type": "scattergl"
           }
          ],
          "scattermapbox": [
           {
            "marker": {
             "colorbar": {
              "outlinewidth": 0,
              "ticks": ""
             }
            },
            "type": "scattermapbox"
           }
          ],
          "scatterpolar": [
           {
            "marker": {
             "colorbar": {
              "outlinewidth": 0,
              "ticks": ""
             }
            },
            "type": "scatterpolar"
           }
          ],
          "scatterpolargl": [
           {
            "marker": {
             "colorbar": {
              "outlinewidth": 0,
              "ticks": ""
             }
            },
            "type": "scatterpolargl"
           }
          ],
          "scatterternary": [
           {
            "marker": {
             "colorbar": {
              "outlinewidth": 0,
              "ticks": ""
             }
            },
            "type": "scatterternary"
           }
          ],
          "surface": [
           {
            "colorbar": {
             "outlinewidth": 0,
             "ticks": ""
            },
            "colorscale": [
             [
              0.0,
              "#0d0887"
             ],
             [
              0.1111111111111111,
              "#46039f"
             ],
             [
              0.2222222222222222,
              "#7201a8"
             ],
             [
              0.3333333333333333,
              "#9c179e"
             ],
             [
              0.4444444444444444,
              "#bd3786"
             ],
             [
              0.5555555555555556,
              "#d8576b"
             ],
             [
              0.6666666666666666,
              "#ed7953"
             ],
             [
              0.7777777777777778,
              "#fb9f3a"
             ],
             [
              0.8888888888888888,
              "#fdca26"
             ],
             [
              1.0,
              "#f0f921"
             ]
            ],
            "type": "surface"
           }
          ],
          "table": [
           {
            "cells": {
             "fill": {
              "color": "#EBF0F8"
             },
             "line": {
              "color": "white"
             }
            },
            "header": {
             "fill": {
              "color": "#C8D4E3"
             },
             "line": {
              "color": "white"
             }
            },
            "type": "table"
           }
          ]
         },
         "layout": {
          "annotationdefaults": {
           "arrowcolor": "#2a3f5f",
           "arrowhead": 0,
           "arrowwidth": 1
          },
          "autotypenumbers": "strict",
          "coloraxis": {
           "colorbar": {
            "outlinewidth": 0,
            "ticks": ""
           }
          },
          "colorscale": {
           "diverging": [
            [
             0,
             "#8e0152"
            ],
            [
             0.1,
             "#c51b7d"
            ],
            [
             0.2,
             "#de77ae"
            ],
            [
             0.3,
             "#f1b6da"
            ],
            [
             0.4,
             "#fde0ef"
            ],
            [
             0.5,
             "#f7f7f7"
            ],
            [
             0.6,
             "#e6f5d0"
            ],
            [
             0.7,
             "#b8e186"
            ],
            [
             0.8,
             "#7fbc41"
            ],
            [
             0.9,
             "#4d9221"
            ],
            [
             1,
             "#276419"
            ]
           ],
           "sequential": [
            [
             0.0,
             "#0d0887"
            ],
            [
             0.1111111111111111,
             "#46039f"
            ],
            [
             0.2222222222222222,
             "#7201a8"
            ],
            [
             0.3333333333333333,
             "#9c179e"
            ],
            [
             0.4444444444444444,
             "#bd3786"
            ],
            [
             0.5555555555555556,
             "#d8576b"
            ],
            [
             0.6666666666666666,
             "#ed7953"
            ],
            [
             0.7777777777777778,
             "#fb9f3a"
            ],
            [
             0.8888888888888888,
             "#fdca26"
            ],
            [
             1.0,
             "#f0f921"
            ]
           ],
           "sequentialminus": [
            [
             0.0,
             "#0d0887"
            ],
            [
             0.1111111111111111,
             "#46039f"
            ],
            [
             0.2222222222222222,
             "#7201a8"
            ],
            [
             0.3333333333333333,
             "#9c179e"
            ],
            [
             0.4444444444444444,
             "#bd3786"
            ],
            [
             0.5555555555555556,
             "#d8576b"
            ],
            [
             0.6666666666666666,
             "#ed7953"
            ],
            [
             0.7777777777777778,
             "#fb9f3a"
            ],
            [
             0.8888888888888888,
             "#fdca26"
            ],
            [
             1.0,
             "#f0f921"
            ]
           ]
          },
          "colorway": [
           "#636efa",
           "#EF553B",
           "#00cc96",
           "#ab63fa",
           "#FFA15A",
           "#19d3f3",
           "#FF6692",
           "#B6E880",
           "#FF97FF",
           "#FECB52"
          ],
          "font": {
           "color": "#2a3f5f"
          },
          "geo": {
           "bgcolor": "white",
           "lakecolor": "white",
           "landcolor": "#E5ECF6",
           "showlakes": true,
           "showland": true,
           "subunitcolor": "white"
          },
          "hoverlabel": {
           "align": "left"
          },
          "hovermode": "closest",
          "mapbox": {
           "style": "light"
          },
          "paper_bgcolor": "white",
          "plot_bgcolor": "#E5ECF6",
          "polar": {
           "angularaxis": {
            "gridcolor": "white",
            "linecolor": "white",
            "ticks": ""
           },
           "bgcolor": "#E5ECF6",
           "radialaxis": {
            "gridcolor": "white",
            "linecolor": "white",
            "ticks": ""
           }
          },
          "scene": {
           "xaxis": {
            "backgroundcolor": "#E5ECF6",
            "gridcolor": "white",
            "gridwidth": 2,
            "linecolor": "white",
            "showbackground": true,
            "ticks": "",
            "zerolinecolor": "white"
           },
           "yaxis": {
            "backgroundcolor": "#E5ECF6",
            "gridcolor": "white",
            "gridwidth": 2,
            "linecolor": "white",
            "showbackground": true,
            "ticks": "",
            "zerolinecolor": "white"
           },
           "zaxis": {
            "backgroundcolor": "#E5ECF6",
            "gridcolor": "white",
            "gridwidth": 2,
            "linecolor": "white",
            "showbackground": true,
            "ticks": "",
            "zerolinecolor": "white"
           }
          },
          "shapedefaults": {
           "line": {
            "color": "#2a3f5f"
           }
          },
          "ternary": {
           "aaxis": {
            "gridcolor": "white",
            "linecolor": "white",
            "ticks": ""
           },
           "baxis": {
            "gridcolor": "white",
            "linecolor": "white",
            "ticks": ""
           },
           "bgcolor": "#E5ECF6",
           "caxis": {
            "gridcolor": "white",
            "linecolor": "white",
            "ticks": ""
           }
          },
          "title": {
           "x": 0.05
          },
          "xaxis": {
           "automargin": true,
           "gridcolor": "white",
           "linecolor": "white",
           "ticks": "",
           "title": {
            "standoff": 15
           },
           "zerolinecolor": "white",
           "zerolinewidth": 2
          },
          "yaxis": {
           "automargin": true,
           "gridcolor": "white",
           "linecolor": "white",
           "ticks": "",
           "title": {
            "standoff": 15
           },
           "zerolinecolor": "white",
           "zerolinewidth": 2
          }
         }
        },
        "title": {
         "text": "Churn Rate v. UserAgent",
         "x": 0.5,
         "xanchor": "center",
         "y": 0.9,
         "yanchor": "top"
        },
        "xaxis": {
         "anchor": "y",
         "domain": [
          0.0,
          1.0
         ],
         "title": {
          "text": "ua"
         }
        },
        "yaxis": {
         "anchor": "x",
         "domain": [
          0.0,
          1.0
         ],
         "title": {
          "text": "churn_rate"
         }
        }
       }
      },
      "text/html": [
       "<div>                            <div id=\"3cf896a9-9196-43e9-b9ba-1b2bd5e4441b\" class=\"plotly-graph-div\" style=\"height:525px; width:100%;\"></div>            <script type=\"text/javascript\">                require([\"plotly\"], function(Plotly) {                    window.PLOTLYENV=window.PLOTLYENV || {};                                    if (document.getElementById(\"3cf896a9-9196-43e9-b9ba-1b2bd5e4441b\")) {                    Plotly.newPlot(                        \"3cf896a9-9196-43e9-b9ba-1b2bd5e4441b\",                        [{\"alignmentgroup\": \"True\", \"hovertemplate\": \"ua=%{x}<br>churn_rate=%{y}<extra></extra>\", \"legendgroup\": \"\", \"marker\": {\"color\": \"#636efa\"}, \"name\": \"\", \"offsetgroup\": \"\", \"orientation\": \"v\", \"showlegend\": false, \"textposition\": \"auto\", \"type\": \"bar\", \"x\": [\"Windows\", \"Macintosh\", \"iPhone\", \"X11\", \"compatible\"], \"xaxis\": \"x\", \"y\": [0.20535714285714285, 0.15625, 0.049107142857142856, 0.022321428571428572, 0.008928571428571428], \"yaxis\": \"y\"}],                        {\"barmode\": \"relative\", \"legend\": {\"tracegroupgap\": 0}, \"margin\": {\"t\": 60}, \"template\": {\"data\": {\"bar\": [{\"error_x\": {\"color\": \"#2a3f5f\"}, \"error_y\": {\"color\": \"#2a3f5f\"}, \"marker\": {\"line\": {\"color\": \"#E5ECF6\", \"width\": 0.5}}, \"type\": \"bar\"}], \"barpolar\": [{\"marker\": {\"line\": {\"color\": \"#E5ECF6\", \"width\": 0.5}}, \"type\": \"barpolar\"}], \"carpet\": [{\"aaxis\": {\"endlinecolor\": \"#2a3f5f\", \"gridcolor\": \"white\", \"linecolor\": \"white\", \"minorgridcolor\": \"white\", \"startlinecolor\": \"#2a3f5f\"}, \"baxis\": {\"endlinecolor\": \"#2a3f5f\", \"gridcolor\": \"white\", \"linecolor\": \"white\", \"minorgridcolor\": \"white\", \"startlinecolor\": \"#2a3f5f\"}, \"type\": \"carpet\"}], \"choropleth\": [{\"colorbar\": {\"outlinewidth\": 0, \"ticks\": \"\"}, \"type\": \"choropleth\"}], \"contour\": [{\"colorbar\": {\"outlinewidth\": 0, \"ticks\": \"\"}, \"colorscale\": [[0.0, \"#0d0887\"], [0.1111111111111111, \"#46039f\"], [0.2222222222222222, \"#7201a8\"], [0.3333333333333333, \"#9c179e\"], [0.4444444444444444, \"#bd3786\"], [0.5555555555555556, \"#d8576b\"], [0.6666666666666666, \"#ed7953\"], [0.7777777777777778, \"#fb9f3a\"], [0.8888888888888888, \"#fdca26\"], [1.0, \"#f0f921\"]], \"type\": \"contour\"}], \"contourcarpet\": [{\"colorbar\": {\"outlinewidth\": 0, \"ticks\": \"\"}, \"type\": \"contourcarpet\"}], \"heatmap\": [{\"colorbar\": {\"outlinewidth\": 0, \"ticks\": \"\"}, \"colorscale\": [[0.0, \"#0d0887\"], [0.1111111111111111, \"#46039f\"], [0.2222222222222222, \"#7201a8\"], [0.3333333333333333, \"#9c179e\"], [0.4444444444444444, \"#bd3786\"], [0.5555555555555556, \"#d8576b\"], [0.6666666666666666, \"#ed7953\"], [0.7777777777777778, \"#fb9f3a\"], [0.8888888888888888, \"#fdca26\"], [1.0, \"#f0f921\"]], \"type\": \"heatmap\"}], \"heatmapgl\": [{\"colorbar\": {\"outlinewidth\": 0, \"ticks\": \"\"}, \"colorscale\": [[0.0, \"#0d0887\"], [0.1111111111111111, \"#46039f\"], [0.2222222222222222, \"#7201a8\"], [0.3333333333333333, \"#9c179e\"], [0.4444444444444444, \"#bd3786\"], [0.5555555555555556, \"#d8576b\"], [0.6666666666666666, \"#ed7953\"], [0.7777777777777778, \"#fb9f3a\"], [0.8888888888888888, \"#fdca26\"], [1.0, \"#f0f921\"]], \"type\": \"heatmapgl\"}], \"histogram\": [{\"marker\": {\"colorbar\": {\"outlinewidth\": 0, \"ticks\": \"\"}}, \"type\": \"histogram\"}], \"histogram2d\": [{\"colorbar\": {\"outlinewidth\": 0, \"ticks\": \"\"}, \"colorscale\": [[0.0, \"#0d0887\"], [0.1111111111111111, \"#46039f\"], [0.2222222222222222, \"#7201a8\"], [0.3333333333333333, \"#9c179e\"], [0.4444444444444444, \"#bd3786\"], [0.5555555555555556, \"#d8576b\"], [0.6666666666666666, \"#ed7953\"], [0.7777777777777778, \"#fb9f3a\"], [0.8888888888888888, \"#fdca26\"], [1.0, \"#f0f921\"]], \"type\": \"histogram2d\"}], \"histogram2dcontour\": [{\"colorbar\": {\"outlinewidth\": 0, \"ticks\": \"\"}, \"colorscale\": [[0.0, \"#0d0887\"], [0.1111111111111111, \"#46039f\"], [0.2222222222222222, \"#7201a8\"], [0.3333333333333333, \"#9c179e\"], [0.4444444444444444, \"#bd3786\"], [0.5555555555555556, \"#d8576b\"], [0.6666666666666666, \"#ed7953\"], [0.7777777777777778, \"#fb9f3a\"], [0.8888888888888888, \"#fdca26\"], [1.0, \"#f0f921\"]], \"type\": \"histogram2dcontour\"}], \"mesh3d\": [{\"colorbar\": {\"outlinewidth\": 0, \"ticks\": \"\"}, \"type\": \"mesh3d\"}], \"parcoords\": [{\"line\": {\"colorbar\": {\"outlinewidth\": 0, \"ticks\": \"\"}}, \"type\": \"parcoords\"}], \"pie\": [{\"automargin\": true, \"type\": \"pie\"}], \"scatter\": [{\"marker\": {\"colorbar\": {\"outlinewidth\": 0, \"ticks\": \"\"}}, \"type\": \"scatter\"}], \"scatter3d\": [{\"line\": {\"colorbar\": {\"outlinewidth\": 0, \"ticks\": \"\"}}, \"marker\": {\"colorbar\": {\"outlinewidth\": 0, \"ticks\": \"\"}}, \"type\": \"scatter3d\"}], \"scattercarpet\": [{\"marker\": {\"colorbar\": {\"outlinewidth\": 0, \"ticks\": \"\"}}, \"type\": \"scattercarpet\"}], \"scattergeo\": [{\"marker\": {\"colorbar\": {\"outlinewidth\": 0, \"ticks\": \"\"}}, \"type\": \"scattergeo\"}], \"scattergl\": [{\"marker\": {\"colorbar\": {\"outlinewidth\": 0, \"ticks\": \"\"}}, \"type\": \"scattergl\"}], \"scattermapbox\": [{\"marker\": {\"colorbar\": {\"outlinewidth\": 0, \"ticks\": \"\"}}, \"type\": \"scattermapbox\"}], \"scatterpolar\": [{\"marker\": {\"colorbar\": {\"outlinewidth\": 0, \"ticks\": \"\"}}, \"type\": \"scatterpolar\"}], \"scatterpolargl\": [{\"marker\": {\"colorbar\": {\"outlinewidth\": 0, \"ticks\": \"\"}}, \"type\": \"scatterpolargl\"}], \"scatterternary\": [{\"marker\": {\"colorbar\": {\"outlinewidth\": 0, \"ticks\": \"\"}}, \"type\": \"scatterternary\"}], \"surface\": [{\"colorbar\": {\"outlinewidth\": 0, \"ticks\": \"\"}, \"colorscale\": [[0.0, \"#0d0887\"], [0.1111111111111111, \"#46039f\"], [0.2222222222222222, \"#7201a8\"], [0.3333333333333333, \"#9c179e\"], [0.4444444444444444, \"#bd3786\"], [0.5555555555555556, \"#d8576b\"], [0.6666666666666666, \"#ed7953\"], [0.7777777777777778, \"#fb9f3a\"], [0.8888888888888888, \"#fdca26\"], [1.0, \"#f0f921\"]], \"type\": \"surface\"}], \"table\": [{\"cells\": {\"fill\": {\"color\": \"#EBF0F8\"}, \"line\": {\"color\": \"white\"}}, \"header\": {\"fill\": {\"color\": \"#C8D4E3\"}, \"line\": {\"color\": \"white\"}}, \"type\": \"table\"}]}, \"layout\": {\"annotationdefaults\": {\"arrowcolor\": \"#2a3f5f\", \"arrowhead\": 0, \"arrowwidth\": 1}, \"autotypenumbers\": \"strict\", \"coloraxis\": {\"colorbar\": {\"outlinewidth\": 0, \"ticks\": \"\"}}, \"colorscale\": {\"diverging\": [[0, \"#8e0152\"], [0.1, \"#c51b7d\"], [0.2, \"#de77ae\"], [0.3, \"#f1b6da\"], [0.4, \"#fde0ef\"], [0.5, \"#f7f7f7\"], [0.6, \"#e6f5d0\"], [0.7, \"#b8e186\"], [0.8, \"#7fbc41\"], [0.9, \"#4d9221\"], [1, \"#276419\"]], \"sequential\": [[0.0, \"#0d0887\"], [0.1111111111111111, \"#46039f\"], [0.2222222222222222, \"#7201a8\"], [0.3333333333333333, \"#9c179e\"], [0.4444444444444444, \"#bd3786\"], [0.5555555555555556, \"#d8576b\"], [0.6666666666666666, \"#ed7953\"], [0.7777777777777778, \"#fb9f3a\"], [0.8888888888888888, \"#fdca26\"], [1.0, \"#f0f921\"]], \"sequentialminus\": [[0.0, \"#0d0887\"], [0.1111111111111111, \"#46039f\"], [0.2222222222222222, \"#7201a8\"], [0.3333333333333333, \"#9c179e\"], [0.4444444444444444, \"#bd3786\"], [0.5555555555555556, \"#d8576b\"], [0.6666666666666666, \"#ed7953\"], [0.7777777777777778, \"#fb9f3a\"], [0.8888888888888888, \"#fdca26\"], [1.0, \"#f0f921\"]]}, \"colorway\": [\"#636efa\", \"#EF553B\", \"#00cc96\", \"#ab63fa\", \"#FFA15A\", \"#19d3f3\", \"#FF6692\", \"#B6E880\", \"#FF97FF\", \"#FECB52\"], \"font\": {\"color\": \"#2a3f5f\"}, \"geo\": {\"bgcolor\": \"white\", \"lakecolor\": \"white\", \"landcolor\": \"#E5ECF6\", \"showlakes\": true, \"showland\": true, \"subunitcolor\": \"white\"}, \"hoverlabel\": {\"align\": \"left\"}, \"hovermode\": \"closest\", \"mapbox\": {\"style\": \"light\"}, \"paper_bgcolor\": \"white\", \"plot_bgcolor\": \"#E5ECF6\", \"polar\": {\"angularaxis\": {\"gridcolor\": \"white\", \"linecolor\": \"white\", \"ticks\": \"\"}, \"bgcolor\": \"#E5ECF6\", \"radialaxis\": {\"gridcolor\": \"white\", \"linecolor\": \"white\", \"ticks\": \"\"}}, \"scene\": {\"xaxis\": {\"backgroundcolor\": \"#E5ECF6\", \"gridcolor\": \"white\", \"gridwidth\": 2, \"linecolor\": \"white\", \"showbackground\": true, \"ticks\": \"\", \"zerolinecolor\": \"white\"}, \"yaxis\": {\"backgroundcolor\": \"#E5ECF6\", \"gridcolor\": \"white\", \"gridwidth\": 2, \"linecolor\": \"white\", \"showbackground\": true, \"ticks\": \"\", \"zerolinecolor\": \"white\"}, \"zaxis\": {\"backgroundcolor\": \"#E5ECF6\", \"gridcolor\": \"white\", \"gridwidth\": 2, \"linecolor\": \"white\", \"showbackground\": true, \"ticks\": \"\", \"zerolinecolor\": \"white\"}}, \"shapedefaults\": {\"line\": {\"color\": \"#2a3f5f\"}}, \"ternary\": {\"aaxis\": {\"gridcolor\": \"white\", \"linecolor\": \"white\", \"ticks\": \"\"}, \"baxis\": {\"gridcolor\": \"white\", \"linecolor\": \"white\", \"ticks\": \"\"}, \"bgcolor\": \"#E5ECF6\", \"caxis\": {\"gridcolor\": \"white\", \"linecolor\": \"white\", \"ticks\": \"\"}}, \"title\": {\"x\": 0.05}, \"xaxis\": {\"automargin\": true, \"gridcolor\": \"white\", \"linecolor\": \"white\", \"ticks\": \"\", \"title\": {\"standoff\": 15}, \"zerolinecolor\": \"white\", \"zerolinewidth\": 2}, \"yaxis\": {\"automargin\": true, \"gridcolor\": \"white\", \"linecolor\": \"white\", \"ticks\": \"\", \"title\": {\"standoff\": 15}, \"zerolinecolor\": \"white\", \"zerolinewidth\": 2}}}, \"title\": {\"text\": \"Churn Rate v. UserAgent\", \"x\": 0.5, \"xanchor\": \"center\", \"y\": 0.9, \"yanchor\": \"top\"}, \"xaxis\": {\"anchor\": \"y\", \"domain\": [0.0, 1.0], \"title\": {\"text\": \"ua\"}}, \"yaxis\": {\"anchor\": \"x\", \"domain\": [0.0, 1.0], \"title\": {\"text\": \"churn_rate\"}}},                        {\"responsive\": true}                    ).then(function(){\n",
       "                            \n",
       "var gd = document.getElementById('3cf896a9-9196-43e9-b9ba-1b2bd5e4441b');\n",
       "var x = new MutationObserver(function (mutations, observer) {{\n",
       "        var display = window.getComputedStyle(gd).display;\n",
       "        if (!display || display === 'none') {{\n",
       "            console.log([gd, 'removed!']);\n",
       "            Plotly.purge(gd);\n",
       "            observer.disconnect();\n",
       "        }}\n",
       "}});\n",
       "\n",
       "// Listen for the removal of the full notebook cells\n",
       "var notebookContainer = gd.closest('#notebook-container');\n",
       "if (notebookContainer) {{\n",
       "    x.observe(notebookContainer, {childList: true});\n",
       "}}\n",
       "\n",
       "// Listen for the clearing of the current output cell\n",
       "var outputEl = gd.closest('.output');\n",
       "if (outputEl) {{\n",
       "    x.observe(outputEl, {childList: true});\n",
       "}}\n",
       "\n",
       "                        })                };                });            </script>        </div>"
      ]
     },
     "metadata": {},
     "output_type": "display_data"
    }
   ],
   "source": [
    "fig = px.bar(ua, x='ua', y='churn_rate')\n",
    "\n",
    "fig.update_layout(\n",
    "    title={\n",
    "        'text': \"Churn Rate v. UserAgent\",\n",
    "        'y':0.9,\n",
    "        'x':0.5,\n",
    "        'xanchor': 'center',\n",
    "        'yanchor': 'top'})\n",
    "\n",
    "fig.show()"
   ]
  },
  {
   "cell_type": "markdown",
   "metadata": {
    "papermill": {
     "duration": 0.155089,
     "end_time": "2021-02-12T23:46:28.319798",
     "exception": false,
     "start_time": "2021-02-12T23:46:28.164709",
     "status": "completed"
    },
    "tags": []
   },
   "source": [
    "Most churns are happening from comp devices. So Engineering might need to look into this in order to see if there is any Prod issue."
   ]
  },
  {
   "cell_type": "markdown",
   "metadata": {
    "papermill": {
     "duration": 0.154348,
     "end_time": "2021-02-12T23:46:28.629816",
     "exception": false,
     "start_time": "2021-02-12T23:46:28.475468",
     "status": "completed"
    },
    "tags": []
   },
   "source": [
    "# Feature Engineering"
   ]
  },
  {
   "cell_type": "markdown",
   "metadata": {
    "papermill": {
     "duration": 0.155565,
     "end_time": "2021-02-12T23:46:28.940821",
     "exception": false,
     "start_time": "2021-02-12T23:46:28.785256",
     "status": "completed"
    },
    "tags": []
   },
   "source": [
    "Key ideas:\n",
    "    \n",
    "* efficiency of model depends heavily on features we engineer/identify\n",
    "* features that correlate strongly with target var -> high model accuracy\n",
    "* do not add features that have near 0 correlation (adds noise/muddles model)\n",
    "\n",
    "* particularly for this problem, it is important to note for those who churned, what are the differences in activity such as engagement with the plaform before signing up for membership and after signing up- e.g. did they take longer to become a member relative to the average time it took for people on the platform?, lingering more on page, etc. These sort of patterns would give way to whether or not a customer is less committed to the service."
   ]
  },
  {
   "cell_type": "markdown",
   "metadata": {
    "papermill": {
     "duration": 0.153587,
     "end_time": "2021-02-12T23:46:29.249023",
     "exception": false,
     "start_time": "2021-02-12T23:46:29.095436",
     "status": "completed"
    },
    "tags": []
   },
   "source": [
    "First off, in order to separate activities between free and paid membership, \n",
    "will concat level and page columns."
   ]
  },
  {
   "cell_type": "code",
   "execution_count": 62,
   "metadata": {
    "execution": {
     "iopub.execute_input": "2021-02-12T23:46:29.563939Z",
     "iopub.status.busy": "2021-02-12T23:46:29.563292Z",
     "iopub.status.idle": "2021-02-12T23:46:29.828071Z",
     "shell.execute_reply": "2021-02-12T23:46:29.827421Z"
    },
    "papermill": {
     "duration": 0.424781,
     "end_time": "2021-02-12T23:46:29.828201",
     "exception": false,
     "start_time": "2021-02-12T23:46:29.403420",
     "status": "completed"
    },
    "tags": []
   },
   "outputs": [
    {
     "data": {
      "text/html": [
       "<div>\n",
       "<style scoped>\n",
       "    .dataframe tbody tr th:only-of-type {\n",
       "        vertical-align: middle;\n",
       "    }\n",
       "\n",
       "    .dataframe tbody tr th {\n",
       "        vertical-align: top;\n",
       "    }\n",
       "\n",
       "    .dataframe thead th {\n",
       "        text-align: right;\n",
       "    }\n",
       "</style>\n",
       "<table border=\"1\" class=\"dataframe\">\n",
       "  <thead>\n",
       "    <tr style=\"text-align: right;\">\n",
       "      <th></th>\n",
       "      <th>ts</th>\n",
       "      <th>userId</th>\n",
       "      <th>sessionId</th>\n",
       "      <th>page</th>\n",
       "      <th>auth</th>\n",
       "      <th>method</th>\n",
       "      <th>status</th>\n",
       "      <th>level</th>\n",
       "      <th>itemInSession</th>\n",
       "      <th>location</th>\n",
       "      <th>...</th>\n",
       "      <th>registration</th>\n",
       "      <th>gender</th>\n",
       "      <th>artist</th>\n",
       "      <th>song</th>\n",
       "      <th>length</th>\n",
       "      <th>churn</th>\n",
       "      <th>ts_hour</th>\n",
       "      <th>ts_date</th>\n",
       "      <th>timestamp</th>\n",
       "      <th>level_page</th>\n",
       "    </tr>\n",
       "  </thead>\n",
       "  <tbody>\n",
       "    <tr>\n",
       "      <th>0</th>\n",
       "      <td>1538352011000</td>\n",
       "      <td>293</td>\n",
       "      <td>292</td>\n",
       "      <td>NextSong</td>\n",
       "      <td>Logged In</td>\n",
       "      <td>PUT</td>\n",
       "      <td>200</td>\n",
       "      <td>free</td>\n",
       "      <td>20</td>\n",
       "      <td>Corpus Christi, TX</td>\n",
       "      <td>...</td>\n",
       "      <td>1.532064e+12</td>\n",
       "      <td>M</td>\n",
       "      <td>Martin Orford</td>\n",
       "      <td>Grand Designs</td>\n",
       "      <td>597.55057</td>\n",
       "      <td>0</td>\n",
       "      <td>0</td>\n",
       "      <td>2018-10-01</td>\n",
       "      <td>2018-10-01 00:00:11</td>\n",
       "      <td>free NextSong</td>\n",
       "    </tr>\n",
       "    <tr>\n",
       "      <th>1</th>\n",
       "      <td>1538352025000</td>\n",
       "      <td>98</td>\n",
       "      <td>97</td>\n",
       "      <td>NextSong</td>\n",
       "      <td>Logged In</td>\n",
       "      <td>PUT</td>\n",
       "      <td>200</td>\n",
       "      <td>free</td>\n",
       "      <td>74</td>\n",
       "      <td>Houston-The Woodlands-Sugar Land, TX</td>\n",
       "      <td>...</td>\n",
       "      <td>1.538070e+12</td>\n",
       "      <td>M</td>\n",
       "      <td>John Brown's Body</td>\n",
       "      <td>Bulls</td>\n",
       "      <td>380.21179</td>\n",
       "      <td>0</td>\n",
       "      <td>0</td>\n",
       "      <td>2018-10-01</td>\n",
       "      <td>2018-10-01 00:00:25</td>\n",
       "      <td>free NextSong</td>\n",
       "    </tr>\n",
       "    <tr>\n",
       "      <th>2</th>\n",
       "      <td>1538352118000</td>\n",
       "      <td>179</td>\n",
       "      <td>178</td>\n",
       "      <td>NextSong</td>\n",
       "      <td>Logged In</td>\n",
       "      <td>PUT</td>\n",
       "      <td>200</td>\n",
       "      <td>paid</td>\n",
       "      <td>184</td>\n",
       "      <td>Orlando-Kissimmee-Sanford, FL</td>\n",
       "      <td>...</td>\n",
       "      <td>1.535953e+12</td>\n",
       "      <td>M</td>\n",
       "      <td>Afroman</td>\n",
       "      <td>Because I Got High</td>\n",
       "      <td>202.37016</td>\n",
       "      <td>0</td>\n",
       "      <td>0</td>\n",
       "      <td>2018-10-01</td>\n",
       "      <td>2018-10-01 00:01:58</td>\n",
       "      <td>paid NextSong</td>\n",
       "    </tr>\n",
       "    <tr>\n",
       "      <th>3</th>\n",
       "      <td>1538352119000</td>\n",
       "      <td>179</td>\n",
       "      <td>178</td>\n",
       "      <td>Logout</td>\n",
       "      <td>Logged In</td>\n",
       "      <td>PUT</td>\n",
       "      <td>307</td>\n",
       "      <td>paid</td>\n",
       "      <td>185</td>\n",
       "      <td>Orlando-Kissimmee-Sanford, FL</td>\n",
       "      <td>...</td>\n",
       "      <td>1.535953e+12</td>\n",
       "      <td>M</td>\n",
       "      <td>NaN</td>\n",
       "      <td>NaN</td>\n",
       "      <td>NaN</td>\n",
       "      <td>0</td>\n",
       "      <td>0</td>\n",
       "      <td>2018-10-01</td>\n",
       "      <td>2018-10-01 00:01:59</td>\n",
       "      <td>paid Logout</td>\n",
       "    </tr>\n",
       "    <tr>\n",
       "      <th>4</th>\n",
       "      <td>1538352124000</td>\n",
       "      <td>246</td>\n",
       "      <td>245</td>\n",
       "      <td>NextSong</td>\n",
       "      <td>Logged In</td>\n",
       "      <td>PUT</td>\n",
       "      <td>200</td>\n",
       "      <td>paid</td>\n",
       "      <td>22</td>\n",
       "      <td>Mobile, AL</td>\n",
       "      <td>...</td>\n",
       "      <td>1.535931e+12</td>\n",
       "      <td>F</td>\n",
       "      <td>Lily Allen</td>\n",
       "      <td>Smile (Radio Edit)</td>\n",
       "      <td>194.53342</td>\n",
       "      <td>0</td>\n",
       "      <td>0</td>\n",
       "      <td>2018-10-01</td>\n",
       "      <td>2018-10-01 00:02:04</td>\n",
       "      <td>paid NextSong</td>\n",
       "    </tr>\n",
       "  </tbody>\n",
       "</table>\n",
       "<p>5 rows × 23 columns</p>\n",
       "</div>"
      ],
      "text/plain": [
       "              ts userId  sessionId      page       auth method  status level  \\\n",
       "0  1538352011000    293        292  NextSong  Logged In    PUT     200  free   \n",
       "1  1538352025000     98         97  NextSong  Logged In    PUT     200  free   \n",
       "2  1538352118000    179        178  NextSong  Logged In    PUT     200  paid   \n",
       "3  1538352119000    179        178    Logout  Logged In    PUT     307  paid   \n",
       "4  1538352124000    246        245  NextSong  Logged In    PUT     200  paid   \n",
       "\n",
       "   itemInSession                              location  ...  registration  \\\n",
       "0             20                    Corpus Christi, TX  ...  1.532064e+12   \n",
       "1             74  Houston-The Woodlands-Sugar Land, TX  ...  1.538070e+12   \n",
       "2            184         Orlando-Kissimmee-Sanford, FL  ...  1.535953e+12   \n",
       "3            185         Orlando-Kissimmee-Sanford, FL  ...  1.535953e+12   \n",
       "4             22                            Mobile, AL  ...  1.535931e+12   \n",
       "\n",
       "  gender             artist                song     length churn ts_hour  \\\n",
       "0      M      Martin Orford       Grand Designs  597.55057     0       0   \n",
       "1      M  John Brown's Body               Bulls  380.21179     0       0   \n",
       "2      M            Afroman  Because I Got High  202.37016     0       0   \n",
       "3      M                NaN                 NaN        NaN     0       0   \n",
       "4      F         Lily Allen  Smile (Radio Edit)  194.53342     0       0   \n",
       "\n",
       "      ts_date            timestamp     level_page  \n",
       "0  2018-10-01  2018-10-01 00:00:11  free NextSong  \n",
       "1  2018-10-01  2018-10-01 00:00:25  free NextSong  \n",
       "2  2018-10-01  2018-10-01 00:01:58  paid NextSong  \n",
       "3  2018-10-01  2018-10-01 00:01:59    paid Logout  \n",
       "4  2018-10-01  2018-10-01 00:02:04  paid NextSong  \n",
       "\n",
       "[5 rows x 23 columns]"
      ]
     },
     "execution_count": 62,
     "metadata": {},
     "output_type": "execute_result"
    }
   ],
   "source": [
    "df['level_page'] =  df['level'] + ' ' + df['page']\n",
    "df.head()"
   ]
  },
  {
   "cell_type": "code",
   "execution_count": 63,
   "metadata": {
    "execution": {
     "iopub.execute_input": "2021-02-12T23:46:30.311130Z",
     "iopub.status.busy": "2021-02-12T23:46:30.249581Z",
     "iopub.status.idle": "2021-02-12T23:46:30.318809Z",
     "shell.execute_reply": "2021-02-12T23:46:30.318263Z"
    },
    "papermill": {
     "duration": 0.33516,
     "end_time": "2021-02-12T23:46:30.318930",
     "exception": false,
     "start_time": "2021-02-12T23:46:29.983770",
     "status": "completed"
    },
    "tags": []
   },
   "outputs": [
    {
     "data": {
      "text/plain": [
       "paid NextSong                     349782\n",
       "free NextSong                      83095\n",
       "paid Thumbs Up                     19504\n",
       "paid Home                          13956\n",
       "paid Add to Playlist               10033\n",
       "free Roll Advert                    7337\n",
       "paid Add Friend                     6341\n",
       "free Home                           5133\n",
       "free Thumbs Up                      4322\n",
       "paid Logout                         4184\n",
       "paid Downgrade                      3811\n",
       "paid Thumbs Down                    3771\n",
       "free Add to Playlist                2316\n",
       "paid Settings                       2240\n",
       "paid Help                           2076\n",
       "free Logout                         1806\n",
       "free Add Friend                     1746\n",
       "free Thumbs Down                    1140\n",
       "free Upgrade                         968\n",
       "paid About                           827\n",
       "free Settings                        724\n",
       "free Help                            568\n",
       "paid Roll Advert                     436\n",
       "paid Save Settings                   435\n",
       "paid Error                           397\n",
       "free Submit Upgrade                  287\n",
       "free About                           199\n",
       "free Save Settings                   150\n",
       "paid Submit Downgrade                117\n",
       "free Error                           106\n",
       "paid Cancellation Confirmation        67\n",
       "paid Cancel                           67\n",
       "free Cancel                           32\n",
       "free Cancellation Confirmation        32\n",
       "Name: level_page, dtype: int64"
      ]
     },
     "execution_count": 63,
     "metadata": {},
     "output_type": "execute_result"
    }
   ],
   "source": [
    "df.level_page.value_counts()"
   ]
  },
  {
   "cell_type": "code",
   "execution_count": 64,
   "metadata": {
    "execution": {
     "iopub.execute_input": "2021-02-12T23:46:30.637844Z",
     "iopub.status.busy": "2021-02-12T23:46:30.637114Z",
     "iopub.status.idle": "2021-02-12T23:46:30.862895Z",
     "shell.execute_reply": "2021-02-12T23:46:30.862219Z"
    },
    "papermill": {
     "duration": 0.386763,
     "end_time": "2021-02-12T23:46:30.863013",
     "exception": false,
     "start_time": "2021-02-12T23:46:30.476250",
     "status": "completed"
    },
    "tags": []
   },
   "outputs": [],
   "source": [
    "df2 = df.copy()"
   ]
  },
  {
   "cell_type": "code",
   "execution_count": 65,
   "metadata": {
    "execution": {
     "iopub.execute_input": "2021-02-12T23:46:31.198274Z",
     "iopub.status.busy": "2021-02-12T23:46:31.197176Z",
     "iopub.status.idle": "2021-02-12T23:46:32.052873Z",
     "shell.execute_reply": "2021-02-12T23:46:32.051364Z"
    },
    "papermill": {
     "duration": 1.03147,
     "end_time": "2021-02-12T23:46:32.053009",
     "exception": false,
     "start_time": "2021-02-12T23:46:31.021539",
     "status": "completed"
    },
    "tags": []
   },
   "outputs": [],
   "source": [
    "df2 = df2.drop(columns=['ts',\n",
    "\n",
    " 'sessionId',\n",
    " 'page',\n",
    " 'auth',\n",
    " 'method',\n",
    " 'status',\n",
    " 'level',\n",
    " 'itemInSession',\n",
    " 'location',\n",
    " 'userAgent',\n",
    " 'lastName',\n",
    " 'firstName',\n",
    " 'registration',\n",
    " 'gender',\n",
    " 'artist',\n",
    " 'song',\n",
    " 'length',\n",
    " 'churn',\n",
    " 'ts_hour',\n",
    " 'ts_date',\n",
    " 'timestamp'])"
   ]
  },
  {
   "cell_type": "code",
   "execution_count": 66,
   "metadata": {
    "execution": {
     "iopub.execute_input": "2021-02-12T23:46:32.379936Z",
     "iopub.status.busy": "2021-02-12T23:46:32.379077Z",
     "iopub.status.idle": "2021-02-12T23:46:32.382573Z",
     "shell.execute_reply": "2021-02-12T23:46:32.383052Z"
    },
    "papermill": {
     "duration": 0.173635,
     "end_time": "2021-02-12T23:46:32.383212",
     "exception": false,
     "start_time": "2021-02-12T23:46:32.209577",
     "status": "completed"
    },
    "tags": []
   },
   "outputs": [
    {
     "data": {
      "text/html": [
       "<div>\n",
       "<style scoped>\n",
       "    .dataframe tbody tr th:only-of-type {\n",
       "        vertical-align: middle;\n",
       "    }\n",
       "\n",
       "    .dataframe tbody tr th {\n",
       "        vertical-align: top;\n",
       "    }\n",
       "\n",
       "    .dataframe thead th {\n",
       "        text-align: right;\n",
       "    }\n",
       "</style>\n",
       "<table border=\"1\" class=\"dataframe\">\n",
       "  <thead>\n",
       "    <tr style=\"text-align: right;\">\n",
       "      <th></th>\n",
       "      <th>userId</th>\n",
       "      <th>level_page</th>\n",
       "    </tr>\n",
       "  </thead>\n",
       "  <tbody>\n",
       "    <tr>\n",
       "      <th>0</th>\n",
       "      <td>293</td>\n",
       "      <td>free NextSong</td>\n",
       "    </tr>\n",
       "    <tr>\n",
       "      <th>1</th>\n",
       "      <td>98</td>\n",
       "      <td>free NextSong</td>\n",
       "    </tr>\n",
       "    <tr>\n",
       "      <th>2</th>\n",
       "      <td>179</td>\n",
       "      <td>paid NextSong</td>\n",
       "    </tr>\n",
       "    <tr>\n",
       "      <th>3</th>\n",
       "      <td>179</td>\n",
       "      <td>paid Logout</td>\n",
       "    </tr>\n",
       "    <tr>\n",
       "      <th>4</th>\n",
       "      <td>246</td>\n",
       "      <td>paid NextSong</td>\n",
       "    </tr>\n",
       "    <tr>\n",
       "      <th>...</th>\n",
       "      <td>...</td>\n",
       "      <td>...</td>\n",
       "    </tr>\n",
       "    <tr>\n",
       "      <th>543700</th>\n",
       "      <td>300010</td>\n",
       "      <td>paid NextSong</td>\n",
       "    </tr>\n",
       "    <tr>\n",
       "      <th>543701</th>\n",
       "      <td>300049</td>\n",
       "      <td>paid NextSong</td>\n",
       "    </tr>\n",
       "    <tr>\n",
       "      <th>543702</th>\n",
       "      <td>300039</td>\n",
       "      <td>paid NextSong</td>\n",
       "    </tr>\n",
       "    <tr>\n",
       "      <th>543703</th>\n",
       "      <td>300038</td>\n",
       "      <td>paid NextSong</td>\n",
       "    </tr>\n",
       "    <tr>\n",
       "      <th>543704</th>\n",
       "      <td>300015</td>\n",
       "      <td>paid NextSong</td>\n",
       "    </tr>\n",
       "  </tbody>\n",
       "</table>\n",
       "<p>528005 rows × 2 columns</p>\n",
       "</div>"
      ],
      "text/plain": [
       "        userId     level_page\n",
       "0          293  free NextSong\n",
       "1           98  free NextSong\n",
       "2          179  paid NextSong\n",
       "3          179    paid Logout\n",
       "4          246  paid NextSong\n",
       "...        ...            ...\n",
       "543700  300010  paid NextSong\n",
       "543701  300049  paid NextSong\n",
       "543702  300039  paid NextSong\n",
       "543703  300038  paid NextSong\n",
       "543704  300015  paid NextSong\n",
       "\n",
       "[528005 rows x 2 columns]"
      ]
     },
     "execution_count": 66,
     "metadata": {},
     "output_type": "execute_result"
    }
   ],
   "source": [
    "df2"
   ]
  },
  {
   "cell_type": "code",
   "execution_count": 67,
   "metadata": {
    "execution": {
     "iopub.execute_input": "2021-02-12T23:46:32.702208Z",
     "iopub.status.busy": "2021-02-12T23:46:32.701225Z",
     "iopub.status.idle": "2021-02-12T23:46:33.146550Z",
     "shell.execute_reply": "2021-02-12T23:46:33.147070Z"
    },
    "papermill": {
     "duration": 0.605973,
     "end_time": "2021-02-12T23:46:33.147249",
     "exception": false,
     "start_time": "2021-02-12T23:46:32.541276",
     "status": "completed"
    },
    "tags": []
   },
   "outputs": [
    {
     "data": {
      "text/html": [
       "<div>\n",
       "<style scoped>\n",
       "    .dataframe tbody tr th:only-of-type {\n",
       "        vertical-align: middle;\n",
       "    }\n",
       "\n",
       "    .dataframe tbody tr th {\n",
       "        vertical-align: top;\n",
       "    }\n",
       "\n",
       "    .dataframe thead th {\n",
       "        text-align: right;\n",
       "    }\n",
       "</style>\n",
       "<table border=\"1\" class=\"dataframe\">\n",
       "  <thead>\n",
       "    <tr style=\"text-align: right;\">\n",
       "      <th>level_page</th>\n",
       "      <th>free About</th>\n",
       "      <th>free Add Friend</th>\n",
       "      <th>free Add to Playlist</th>\n",
       "      <th>free Cancel</th>\n",
       "      <th>free Cancellation Confirmation</th>\n",
       "      <th>free Error</th>\n",
       "      <th>free Help</th>\n",
       "      <th>free Home</th>\n",
       "      <th>free Logout</th>\n",
       "      <th>free NextSong</th>\n",
       "      <th>...</th>\n",
       "      <th>paid Help</th>\n",
       "      <th>paid Home</th>\n",
       "      <th>paid Logout</th>\n",
       "      <th>paid NextSong</th>\n",
       "      <th>paid Roll Advert</th>\n",
       "      <th>paid Save Settings</th>\n",
       "      <th>paid Settings</th>\n",
       "      <th>paid Submit Downgrade</th>\n",
       "      <th>paid Thumbs Down</th>\n",
       "      <th>paid Thumbs Up</th>\n",
       "    </tr>\n",
       "    <tr>\n",
       "      <th>userId</th>\n",
       "      <th></th>\n",
       "      <th></th>\n",
       "      <th></th>\n",
       "      <th></th>\n",
       "      <th></th>\n",
       "      <th></th>\n",
       "      <th></th>\n",
       "      <th></th>\n",
       "      <th></th>\n",
       "      <th></th>\n",
       "      <th></th>\n",
       "      <th></th>\n",
       "      <th></th>\n",
       "      <th></th>\n",
       "      <th></th>\n",
       "      <th></th>\n",
       "      <th></th>\n",
       "      <th></th>\n",
       "      <th></th>\n",
       "      <th></th>\n",
       "      <th></th>\n",
       "    </tr>\n",
       "  </thead>\n",
       "  <tbody>\n",
       "    <tr>\n",
       "      <th>10</th>\n",
       "      <td>0</td>\n",
       "      <td>0</td>\n",
       "      <td>0</td>\n",
       "      <td>0</td>\n",
       "      <td>0</td>\n",
       "      <td>0</td>\n",
       "      <td>0</td>\n",
       "      <td>0</td>\n",
       "      <td>0</td>\n",
       "      <td>0</td>\n",
       "      <td>...</td>\n",
       "      <td>3</td>\n",
       "      <td>15</td>\n",
       "      <td>4</td>\n",
       "      <td>360</td>\n",
       "      <td>0</td>\n",
       "      <td>0</td>\n",
       "      <td>2</td>\n",
       "      <td>0</td>\n",
       "      <td>1</td>\n",
       "      <td>17</td>\n",
       "    </tr>\n",
       "    <tr>\n",
       "      <th>100</th>\n",
       "      <td>0</td>\n",
       "      <td>0</td>\n",
       "      <td>2</td>\n",
       "      <td>0</td>\n",
       "      <td>0</td>\n",
       "      <td>0</td>\n",
       "      <td>0</td>\n",
       "      <td>3</td>\n",
       "      <td>1</td>\n",
       "      <td>46</td>\n",
       "      <td>...</td>\n",
       "      <td>17</td>\n",
       "      <td>132</td>\n",
       "      <td>35</td>\n",
       "      <td>3336</td>\n",
       "      <td>3</td>\n",
       "      <td>2</td>\n",
       "      <td>17</td>\n",
       "      <td>0</td>\n",
       "      <td>37</td>\n",
       "      <td>142</td>\n",
       "    </tr>\n",
       "    <tr>\n",
       "      <th>100001</th>\n",
       "      <td>1</td>\n",
       "      <td>1</td>\n",
       "      <td>3</td>\n",
       "      <td>1</td>\n",
       "      <td>1</td>\n",
       "      <td>0</td>\n",
       "      <td>1</td>\n",
       "      <td>4</td>\n",
       "      <td>2</td>\n",
       "      <td>96</td>\n",
       "      <td>...</td>\n",
       "      <td>0</td>\n",
       "      <td>0</td>\n",
       "      <td>0</td>\n",
       "      <td>0</td>\n",
       "      <td>0</td>\n",
       "      <td>0</td>\n",
       "      <td>0</td>\n",
       "      <td>0</td>\n",
       "      <td>0</td>\n",
       "      <td>0</td>\n",
       "    </tr>\n",
       "    <tr>\n",
       "      <th>100002</th>\n",
       "      <td>0</td>\n",
       "      <td>0</td>\n",
       "      <td>1</td>\n",
       "      <td>0</td>\n",
       "      <td>0</td>\n",
       "      <td>0</td>\n",
       "      <td>1</td>\n",
       "      <td>5</td>\n",
       "      <td>2</td>\n",
       "      <td>24</td>\n",
       "      <td>...</td>\n",
       "      <td>1</td>\n",
       "      <td>7</td>\n",
       "      <td>1</td>\n",
       "      <td>113</td>\n",
       "      <td>0</td>\n",
       "      <td>0</td>\n",
       "      <td>0</td>\n",
       "      <td>1</td>\n",
       "      <td>2</td>\n",
       "      <td>5</td>\n",
       "    </tr>\n",
       "    <tr>\n",
       "      <th>100003</th>\n",
       "      <td>0</td>\n",
       "      <td>6</td>\n",
       "      <td>6</td>\n",
       "      <td>0</td>\n",
       "      <td>0</td>\n",
       "      <td>1</td>\n",
       "      <td>1</td>\n",
       "      <td>10</td>\n",
       "      <td>4</td>\n",
       "      <td>231</td>\n",
       "      <td>...</td>\n",
       "      <td>2</td>\n",
       "      <td>21</td>\n",
       "      <td>8</td>\n",
       "      <td>430</td>\n",
       "      <td>4</td>\n",
       "      <td>1</td>\n",
       "      <td>3</td>\n",
       "      <td>0</td>\n",
       "      <td>3</td>\n",
       "      <td>10</td>\n",
       "    </tr>\n",
       "    <tr>\n",
       "      <th>...</th>\n",
       "      <td>...</td>\n",
       "      <td>...</td>\n",
       "      <td>...</td>\n",
       "      <td>...</td>\n",
       "      <td>...</td>\n",
       "      <td>...</td>\n",
       "      <td>...</td>\n",
       "      <td>...</td>\n",
       "      <td>...</td>\n",
       "      <td>...</td>\n",
       "      <td>...</td>\n",
       "      <td>...</td>\n",
       "      <td>...</td>\n",
       "      <td>...</td>\n",
       "      <td>...</td>\n",
       "      <td>...</td>\n",
       "      <td>...</td>\n",
       "      <td>...</td>\n",
       "      <td>...</td>\n",
       "      <td>...</td>\n",
       "      <td>...</td>\n",
       "    </tr>\n",
       "    <tr>\n",
       "      <th>95</th>\n",
       "      <td>0</td>\n",
       "      <td>0</td>\n",
       "      <td>0</td>\n",
       "      <td>0</td>\n",
       "      <td>0</td>\n",
       "      <td>0</td>\n",
       "      <td>0</td>\n",
       "      <td>0</td>\n",
       "      <td>0</td>\n",
       "      <td>0</td>\n",
       "      <td>...</td>\n",
       "      <td>11</td>\n",
       "      <td>81</td>\n",
       "      <td>17</td>\n",
       "      <td>2062</td>\n",
       "      <td>4</td>\n",
       "      <td>5</td>\n",
       "      <td>16</td>\n",
       "      <td>0</td>\n",
       "      <td>21</td>\n",
       "      <td>122</td>\n",
       "    </tr>\n",
       "    <tr>\n",
       "      <th>96</th>\n",
       "      <td>0</td>\n",
       "      <td>0</td>\n",
       "      <td>0</td>\n",
       "      <td>0</td>\n",
       "      <td>0</td>\n",
       "      <td>0</td>\n",
       "      <td>0</td>\n",
       "      <td>0</td>\n",
       "      <td>0</td>\n",
       "      <td>0</td>\n",
       "      <td>...</td>\n",
       "      <td>11</td>\n",
       "      <td>84</td>\n",
       "      <td>29</td>\n",
       "      <td>1950</td>\n",
       "      <td>3</td>\n",
       "      <td>3</td>\n",
       "      <td>8</td>\n",
       "      <td>0</td>\n",
       "      <td>20</td>\n",
       "      <td>78</td>\n",
       "    </tr>\n",
       "    <tr>\n",
       "      <th>97</th>\n",
       "      <td>6</td>\n",
       "      <td>23</td>\n",
       "      <td>31</td>\n",
       "      <td>0</td>\n",
       "      <td>0</td>\n",
       "      <td>2</td>\n",
       "      <td>9</td>\n",
       "      <td>73</td>\n",
       "      <td>17</td>\n",
       "      <td>1148</td>\n",
       "      <td>...</td>\n",
       "      <td>1</td>\n",
       "      <td>2</td>\n",
       "      <td>0</td>\n",
       "      <td>55</td>\n",
       "      <td>0</td>\n",
       "      <td>0</td>\n",
       "      <td>0</td>\n",
       "      <td>0</td>\n",
       "      <td>1</td>\n",
       "      <td>4</td>\n",
       "    </tr>\n",
       "    <tr>\n",
       "      <th>98</th>\n",
       "      <td>0</td>\n",
       "      <td>2</td>\n",
       "      <td>2</td>\n",
       "      <td>0</td>\n",
       "      <td>0</td>\n",
       "      <td>0</td>\n",
       "      <td>1</td>\n",
       "      <td>5</td>\n",
       "      <td>2</td>\n",
       "      <td>39</td>\n",
       "      <td>...</td>\n",
       "      <td>17</td>\n",
       "      <td>104</td>\n",
       "      <td>32</td>\n",
       "      <td>2648</td>\n",
       "      <td>4</td>\n",
       "      <td>7</td>\n",
       "      <td>16</td>\n",
       "      <td>0</td>\n",
       "      <td>31</td>\n",
       "      <td>129</td>\n",
       "    </tr>\n",
       "    <tr>\n",
       "      <th>99</th>\n",
       "      <td>1</td>\n",
       "      <td>14</td>\n",
       "      <td>6</td>\n",
       "      <td>0</td>\n",
       "      <td>0</td>\n",
       "      <td>0</td>\n",
       "      <td>3</td>\n",
       "      <td>14</td>\n",
       "      <td>6</td>\n",
       "      <td>342</td>\n",
       "      <td>...</td>\n",
       "      <td>2</td>\n",
       "      <td>19</td>\n",
       "      <td>3</td>\n",
       "      <td>670</td>\n",
       "      <td>0</td>\n",
       "      <td>0</td>\n",
       "      <td>4</td>\n",
       "      <td>1</td>\n",
       "      <td>6</td>\n",
       "      <td>27</td>\n",
       "    </tr>\n",
       "  </tbody>\n",
       "</table>\n",
       "<p>448 rows × 34 columns</p>\n",
       "</div>"
      ],
      "text/plain": [
       "level_page  free About  free Add Friend  free Add to Playlist  free Cancel  \\\n",
       "userId                                                                       \n",
       "10                   0                0                     0            0   \n",
       "100                  0                0                     2            0   \n",
       "100001               1                1                     3            1   \n",
       "100002               0                0                     1            0   \n",
       "100003               0                6                     6            0   \n",
       "...                ...              ...                   ...          ...   \n",
       "95                   0                0                     0            0   \n",
       "96                   0                0                     0            0   \n",
       "97                   6               23                    31            0   \n",
       "98                   0                2                     2            0   \n",
       "99                   1               14                     6            0   \n",
       "\n",
       "level_page  free Cancellation Confirmation  free Error  free Help  free Home  \\\n",
       "userId                                                                         \n",
       "10                                       0           0          0          0   \n",
       "100                                      0           0          0          3   \n",
       "100001                                   1           0          1          4   \n",
       "100002                                   0           0          1          5   \n",
       "100003                                   0           1          1         10   \n",
       "...                                    ...         ...        ...        ...   \n",
       "95                                       0           0          0          0   \n",
       "96                                       0           0          0          0   \n",
       "97                                       0           2          9         73   \n",
       "98                                       0           0          1          5   \n",
       "99                                       0           0          3         14   \n",
       "\n",
       "level_page  free Logout  free NextSong  ...  paid Help  paid Home  \\\n",
       "userId                                  ...                         \n",
       "10                    0              0  ...          3         15   \n",
       "100                   1             46  ...         17        132   \n",
       "100001                2             96  ...          0          0   \n",
       "100002                2             24  ...          1          7   \n",
       "100003                4            231  ...          2         21   \n",
       "...                 ...            ...  ...        ...        ...   \n",
       "95                    0              0  ...         11         81   \n",
       "96                    0              0  ...         11         84   \n",
       "97                   17           1148  ...          1          2   \n",
       "98                    2             39  ...         17        104   \n",
       "99                    6            342  ...          2         19   \n",
       "\n",
       "level_page  paid Logout  paid NextSong  paid Roll Advert  paid Save Settings  \\\n",
       "userId                                                                         \n",
       "10                    4            360                 0                   0   \n",
       "100                  35           3336                 3                   2   \n",
       "100001                0              0                 0                   0   \n",
       "100002                1            113                 0                   0   \n",
       "100003                8            430                 4                   1   \n",
       "...                 ...            ...               ...                 ...   \n",
       "95                   17           2062                 4                   5   \n",
       "96                   29           1950                 3                   3   \n",
       "97                    0             55                 0                   0   \n",
       "98                   32           2648                 4                   7   \n",
       "99                    3            670                 0                   0   \n",
       "\n",
       "level_page  paid Settings  paid Submit Downgrade  paid Thumbs Down  \\\n",
       "userId                                                               \n",
       "10                      2                      0                 1   \n",
       "100                    17                      0                37   \n",
       "100001                  0                      0                 0   \n",
       "100002                  0                      1                 2   \n",
       "100003                  3                      0                 3   \n",
       "...                   ...                    ...               ...   \n",
       "95                     16                      0                21   \n",
       "96                      8                      0                20   \n",
       "97                      0                      0                 1   \n",
       "98                     16                      0                31   \n",
       "99                      4                      1                 6   \n",
       "\n",
       "level_page  paid Thumbs Up  \n",
       "userId                      \n",
       "10                      17  \n",
       "100                    142  \n",
       "100001                   0  \n",
       "100002                   5  \n",
       "100003                  10  \n",
       "...                    ...  \n",
       "95                     122  \n",
       "96                      78  \n",
       "97                       4  \n",
       "98                     129  \n",
       "99                      27  \n",
       "\n",
       "[448 rows x 34 columns]"
      ]
     },
     "execution_count": 67,
     "metadata": {},
     "output_type": "execute_result"
    }
   ],
   "source": [
    "ndf = df2.pivot_table(index='userId', columns='level_page', \n",
    "                        aggfunc=len, fill_value=0)\n",
    "ndf"
   ]
  },
  {
   "cell_type": "code",
   "execution_count": 68,
   "metadata": {
    "execution": {
     "iopub.execute_input": "2021-02-12T23:46:33.467251Z",
     "iopub.status.busy": "2021-02-12T23:46:33.466306Z",
     "iopub.status.idle": "2021-02-12T23:46:33.492292Z",
     "shell.execute_reply": "2021-02-12T23:46:33.492839Z"
    },
    "papermill": {
     "duration": 0.187682,
     "end_time": "2021-02-12T23:46:33.493218",
     "exception": false,
     "start_time": "2021-02-12T23:46:33.305536",
     "status": "completed"
    },
    "tags": []
   },
   "outputs": [
    {
     "data": {
      "text/html": [
       "<div>\n",
       "<style scoped>\n",
       "    .dataframe tbody tr th:only-of-type {\n",
       "        vertical-align: middle;\n",
       "    }\n",
       "\n",
       "    .dataframe tbody tr th {\n",
       "        vertical-align: top;\n",
       "    }\n",
       "\n",
       "    .dataframe thead th {\n",
       "        text-align: right;\n",
       "    }\n",
       "</style>\n",
       "<table border=\"1\" class=\"dataframe\">\n",
       "  <thead>\n",
       "    <tr style=\"text-align: right;\">\n",
       "      <th>level_page</th>\n",
       "      <th>userId</th>\n",
       "      <th>free About</th>\n",
       "      <th>free Add Friend</th>\n",
       "      <th>free Add to Playlist</th>\n",
       "      <th>free Cancel</th>\n",
       "      <th>free Cancellation Confirmation</th>\n",
       "      <th>free Error</th>\n",
       "      <th>free Help</th>\n",
       "      <th>free Home</th>\n",
       "      <th>free Logout</th>\n",
       "      <th>...</th>\n",
       "      <th>paid Help</th>\n",
       "      <th>paid Home</th>\n",
       "      <th>paid Logout</th>\n",
       "      <th>paid NextSong</th>\n",
       "      <th>paid Roll Advert</th>\n",
       "      <th>paid Save Settings</th>\n",
       "      <th>paid Settings</th>\n",
       "      <th>paid Submit Downgrade</th>\n",
       "      <th>paid Thumbs Down</th>\n",
       "      <th>paid Thumbs Up</th>\n",
       "    </tr>\n",
       "  </thead>\n",
       "  <tbody>\n",
       "    <tr>\n",
       "      <th>0</th>\n",
       "      <td>10</td>\n",
       "      <td>0</td>\n",
       "      <td>0</td>\n",
       "      <td>0</td>\n",
       "      <td>0</td>\n",
       "      <td>0</td>\n",
       "      <td>0</td>\n",
       "      <td>0</td>\n",
       "      <td>0</td>\n",
       "      <td>0</td>\n",
       "      <td>...</td>\n",
       "      <td>3</td>\n",
       "      <td>15</td>\n",
       "      <td>4</td>\n",
       "      <td>360</td>\n",
       "      <td>0</td>\n",
       "      <td>0</td>\n",
       "      <td>2</td>\n",
       "      <td>0</td>\n",
       "      <td>1</td>\n",
       "      <td>17</td>\n",
       "    </tr>\n",
       "    <tr>\n",
       "      <th>1</th>\n",
       "      <td>100</td>\n",
       "      <td>0</td>\n",
       "      <td>0</td>\n",
       "      <td>2</td>\n",
       "      <td>0</td>\n",
       "      <td>0</td>\n",
       "      <td>0</td>\n",
       "      <td>0</td>\n",
       "      <td>3</td>\n",
       "      <td>1</td>\n",
       "      <td>...</td>\n",
       "      <td>17</td>\n",
       "      <td>132</td>\n",
       "      <td>35</td>\n",
       "      <td>3336</td>\n",
       "      <td>3</td>\n",
       "      <td>2</td>\n",
       "      <td>17</td>\n",
       "      <td>0</td>\n",
       "      <td>37</td>\n",
       "      <td>142</td>\n",
       "    </tr>\n",
       "    <tr>\n",
       "      <th>2</th>\n",
       "      <td>100001</td>\n",
       "      <td>1</td>\n",
       "      <td>1</td>\n",
       "      <td>3</td>\n",
       "      <td>1</td>\n",
       "      <td>1</td>\n",
       "      <td>0</td>\n",
       "      <td>1</td>\n",
       "      <td>4</td>\n",
       "      <td>2</td>\n",
       "      <td>...</td>\n",
       "      <td>0</td>\n",
       "      <td>0</td>\n",
       "      <td>0</td>\n",
       "      <td>0</td>\n",
       "      <td>0</td>\n",
       "      <td>0</td>\n",
       "      <td>0</td>\n",
       "      <td>0</td>\n",
       "      <td>0</td>\n",
       "      <td>0</td>\n",
       "    </tr>\n",
       "    <tr>\n",
       "      <th>3</th>\n",
       "      <td>100002</td>\n",
       "      <td>0</td>\n",
       "      <td>0</td>\n",
       "      <td>1</td>\n",
       "      <td>0</td>\n",
       "      <td>0</td>\n",
       "      <td>0</td>\n",
       "      <td>1</td>\n",
       "      <td>5</td>\n",
       "      <td>2</td>\n",
       "      <td>...</td>\n",
       "      <td>1</td>\n",
       "      <td>7</td>\n",
       "      <td>1</td>\n",
       "      <td>113</td>\n",
       "      <td>0</td>\n",
       "      <td>0</td>\n",
       "      <td>0</td>\n",
       "      <td>1</td>\n",
       "      <td>2</td>\n",
       "      <td>5</td>\n",
       "    </tr>\n",
       "    <tr>\n",
       "      <th>4</th>\n",
       "      <td>100003</td>\n",
       "      <td>0</td>\n",
       "      <td>6</td>\n",
       "      <td>6</td>\n",
       "      <td>0</td>\n",
       "      <td>0</td>\n",
       "      <td>1</td>\n",
       "      <td>1</td>\n",
       "      <td>10</td>\n",
       "      <td>4</td>\n",
       "      <td>...</td>\n",
       "      <td>2</td>\n",
       "      <td>21</td>\n",
       "      <td>8</td>\n",
       "      <td>430</td>\n",
       "      <td>4</td>\n",
       "      <td>1</td>\n",
       "      <td>3</td>\n",
       "      <td>0</td>\n",
       "      <td>3</td>\n",
       "      <td>10</td>\n",
       "    </tr>\n",
       "    <tr>\n",
       "      <th>...</th>\n",
       "      <td>...</td>\n",
       "      <td>...</td>\n",
       "      <td>...</td>\n",
       "      <td>...</td>\n",
       "      <td>...</td>\n",
       "      <td>...</td>\n",
       "      <td>...</td>\n",
       "      <td>...</td>\n",
       "      <td>...</td>\n",
       "      <td>...</td>\n",
       "      <td>...</td>\n",
       "      <td>...</td>\n",
       "      <td>...</td>\n",
       "      <td>...</td>\n",
       "      <td>...</td>\n",
       "      <td>...</td>\n",
       "      <td>...</td>\n",
       "      <td>...</td>\n",
       "      <td>...</td>\n",
       "      <td>...</td>\n",
       "      <td>...</td>\n",
       "    </tr>\n",
       "    <tr>\n",
       "      <th>443</th>\n",
       "      <td>95</td>\n",
       "      <td>0</td>\n",
       "      <td>0</td>\n",
       "      <td>0</td>\n",
       "      <td>0</td>\n",
       "      <td>0</td>\n",
       "      <td>0</td>\n",
       "      <td>0</td>\n",
       "      <td>0</td>\n",
       "      <td>0</td>\n",
       "      <td>...</td>\n",
       "      <td>11</td>\n",
       "      <td>81</td>\n",
       "      <td>17</td>\n",
       "      <td>2062</td>\n",
       "      <td>4</td>\n",
       "      <td>5</td>\n",
       "      <td>16</td>\n",
       "      <td>0</td>\n",
       "      <td>21</td>\n",
       "      <td>122</td>\n",
       "    </tr>\n",
       "    <tr>\n",
       "      <th>444</th>\n",
       "      <td>96</td>\n",
       "      <td>0</td>\n",
       "      <td>0</td>\n",
       "      <td>0</td>\n",
       "      <td>0</td>\n",
       "      <td>0</td>\n",
       "      <td>0</td>\n",
       "      <td>0</td>\n",
       "      <td>0</td>\n",
       "      <td>0</td>\n",
       "      <td>...</td>\n",
       "      <td>11</td>\n",
       "      <td>84</td>\n",
       "      <td>29</td>\n",
       "      <td>1950</td>\n",
       "      <td>3</td>\n",
       "      <td>3</td>\n",
       "      <td>8</td>\n",
       "      <td>0</td>\n",
       "      <td>20</td>\n",
       "      <td>78</td>\n",
       "    </tr>\n",
       "    <tr>\n",
       "      <th>445</th>\n",
       "      <td>97</td>\n",
       "      <td>6</td>\n",
       "      <td>23</td>\n",
       "      <td>31</td>\n",
       "      <td>0</td>\n",
       "      <td>0</td>\n",
       "      <td>2</td>\n",
       "      <td>9</td>\n",
       "      <td>73</td>\n",
       "      <td>17</td>\n",
       "      <td>...</td>\n",
       "      <td>1</td>\n",
       "      <td>2</td>\n",
       "      <td>0</td>\n",
       "      <td>55</td>\n",
       "      <td>0</td>\n",
       "      <td>0</td>\n",
       "      <td>0</td>\n",
       "      <td>0</td>\n",
       "      <td>1</td>\n",
       "      <td>4</td>\n",
       "    </tr>\n",
       "    <tr>\n",
       "      <th>446</th>\n",
       "      <td>98</td>\n",
       "      <td>0</td>\n",
       "      <td>2</td>\n",
       "      <td>2</td>\n",
       "      <td>0</td>\n",
       "      <td>0</td>\n",
       "      <td>0</td>\n",
       "      <td>1</td>\n",
       "      <td>5</td>\n",
       "      <td>2</td>\n",
       "      <td>...</td>\n",
       "      <td>17</td>\n",
       "      <td>104</td>\n",
       "      <td>32</td>\n",
       "      <td>2648</td>\n",
       "      <td>4</td>\n",
       "      <td>7</td>\n",
       "      <td>16</td>\n",
       "      <td>0</td>\n",
       "      <td>31</td>\n",
       "      <td>129</td>\n",
       "    </tr>\n",
       "    <tr>\n",
       "      <th>447</th>\n",
       "      <td>99</td>\n",
       "      <td>1</td>\n",
       "      <td>14</td>\n",
       "      <td>6</td>\n",
       "      <td>0</td>\n",
       "      <td>0</td>\n",
       "      <td>0</td>\n",
       "      <td>3</td>\n",
       "      <td>14</td>\n",
       "      <td>6</td>\n",
       "      <td>...</td>\n",
       "      <td>2</td>\n",
       "      <td>19</td>\n",
       "      <td>3</td>\n",
       "      <td>670</td>\n",
       "      <td>0</td>\n",
       "      <td>0</td>\n",
       "      <td>4</td>\n",
       "      <td>1</td>\n",
       "      <td>6</td>\n",
       "      <td>27</td>\n",
       "    </tr>\n",
       "  </tbody>\n",
       "</table>\n",
       "<p>448 rows × 35 columns</p>\n",
       "</div>"
      ],
      "text/plain": [
       "level_page  userId  free About  free Add Friend  free Add to Playlist  \\\n",
       "0               10           0                0                     0   \n",
       "1              100           0                0                     2   \n",
       "2           100001           1                1                     3   \n",
       "3           100002           0                0                     1   \n",
       "4           100003           0                6                     6   \n",
       "..             ...         ...              ...                   ...   \n",
       "443             95           0                0                     0   \n",
       "444             96           0                0                     0   \n",
       "445             97           6               23                    31   \n",
       "446             98           0                2                     2   \n",
       "447             99           1               14                     6   \n",
       "\n",
       "level_page  free Cancel  free Cancellation Confirmation  free Error  \\\n",
       "0                     0                               0           0   \n",
       "1                     0                               0           0   \n",
       "2                     1                               1           0   \n",
       "3                     0                               0           0   \n",
       "4                     0                               0           1   \n",
       "..                  ...                             ...         ...   \n",
       "443                   0                               0           0   \n",
       "444                   0                               0           0   \n",
       "445                   0                               0           2   \n",
       "446                   0                               0           0   \n",
       "447                   0                               0           0   \n",
       "\n",
       "level_page  free Help  free Home  free Logout  ...  paid Help  paid Home  \\\n",
       "0                   0          0            0  ...          3         15   \n",
       "1                   0          3            1  ...         17        132   \n",
       "2                   1          4            2  ...          0          0   \n",
       "3                   1          5            2  ...          1          7   \n",
       "4                   1         10            4  ...          2         21   \n",
       "..                ...        ...          ...  ...        ...        ...   \n",
       "443                 0          0            0  ...         11         81   \n",
       "444                 0          0            0  ...         11         84   \n",
       "445                 9         73           17  ...          1          2   \n",
       "446                 1          5            2  ...         17        104   \n",
       "447                 3         14            6  ...          2         19   \n",
       "\n",
       "level_page  paid Logout  paid NextSong  paid Roll Advert  paid Save Settings  \\\n",
       "0                     4            360                 0                   0   \n",
       "1                    35           3336                 3                   2   \n",
       "2                     0              0                 0                   0   \n",
       "3                     1            113                 0                   0   \n",
       "4                     8            430                 4                   1   \n",
       "..                  ...            ...               ...                 ...   \n",
       "443                  17           2062                 4                   5   \n",
       "444                  29           1950                 3                   3   \n",
       "445                   0             55                 0                   0   \n",
       "446                  32           2648                 4                   7   \n",
       "447                   3            670                 0                   0   \n",
       "\n",
       "level_page  paid Settings  paid Submit Downgrade  paid Thumbs Down  \\\n",
       "0                       2                      0                 1   \n",
       "1                      17                      0                37   \n",
       "2                       0                      0                 0   \n",
       "3                       0                      1                 2   \n",
       "4                       3                      0                 3   \n",
       "..                    ...                    ...               ...   \n",
       "443                    16                      0                21   \n",
       "444                     8                      0                20   \n",
       "445                     0                      0                 1   \n",
       "446                    16                      0                31   \n",
       "447                     4                      1                 6   \n",
       "\n",
       "level_page  paid Thumbs Up  \n",
       "0                       17  \n",
       "1                      142  \n",
       "2                        0  \n",
       "3                        5  \n",
       "4                       10  \n",
       "..                     ...  \n",
       "443                    122  \n",
       "444                     78  \n",
       "445                      4  \n",
       "446                    129  \n",
       "447                     27  \n",
       "\n",
       "[448 rows x 35 columns]"
      ]
     },
     "execution_count": 68,
     "metadata": {},
     "output_type": "execute_result"
    }
   ],
   "source": [
    "ndf.reset_index(level=0, inplace=True)\n",
    "ndf #level_page is index (not counted as column, but shows up as column)"
   ]
  },
  {
   "cell_type": "code",
   "execution_count": 69,
   "metadata": {
    "execution": {
     "iopub.execute_input": "2021-02-12T23:46:33.819115Z",
     "iopub.status.busy": "2021-02-12T23:46:33.818413Z",
     "iopub.status.idle": "2021-02-12T23:46:33.824112Z",
     "shell.execute_reply": "2021-02-12T23:46:33.824630Z"
    },
    "papermill": {
     "duration": 0.169505,
     "end_time": "2021-02-12T23:46:33.824768",
     "exception": false,
     "start_time": "2021-02-12T23:46:33.655263",
     "status": "completed"
    },
    "tags": []
   },
   "outputs": [
    {
     "data": {
      "text/plain": [
       "['userId',\n",
       " 'free About',\n",
       " 'free Add Friend',\n",
       " 'free Add to Playlist',\n",
       " 'free Cancel',\n",
       " 'free Cancellation Confirmation',\n",
       " 'free Error',\n",
       " 'free Help',\n",
       " 'free Home',\n",
       " 'free Logout',\n",
       " 'free NextSong',\n",
       " 'free Roll Advert',\n",
       " 'free Save Settings',\n",
       " 'free Settings',\n",
       " 'free Submit Upgrade',\n",
       " 'free Thumbs Down',\n",
       " 'free Thumbs Up',\n",
       " 'free Upgrade',\n",
       " 'paid About',\n",
       " 'paid Add Friend',\n",
       " 'paid Add to Playlist',\n",
       " 'paid Cancel',\n",
       " 'paid Cancellation Confirmation',\n",
       " 'paid Downgrade',\n",
       " 'paid Error',\n",
       " 'paid Help',\n",
       " 'paid Home',\n",
       " 'paid Logout',\n",
       " 'paid NextSong',\n",
       " 'paid Roll Advert',\n",
       " 'paid Save Settings',\n",
       " 'paid Settings',\n",
       " 'paid Submit Downgrade',\n",
       " 'paid Thumbs Down',\n",
       " 'paid Thumbs Up']"
      ]
     },
     "execution_count": 69,
     "metadata": {},
     "output_type": "execute_result"
    }
   ],
   "source": [
    "list(ndf)"
   ]
  },
  {
   "cell_type": "code",
   "execution_count": 70,
   "metadata": {
    "execution": {
     "iopub.execute_input": "2021-02-12T23:46:34.147297Z",
     "iopub.status.busy": "2021-02-12T23:46:34.146505Z",
     "iopub.status.idle": "2021-02-12T23:46:34.168114Z",
     "shell.execute_reply": "2021-02-12T23:46:34.168647Z"
    },
    "papermill": {
     "duration": 0.184552,
     "end_time": "2021-02-12T23:46:34.168812",
     "exception": false,
     "start_time": "2021-02-12T23:46:33.984260",
     "status": "completed"
    },
    "tags": []
   },
   "outputs": [],
   "source": [
    "#create churn target from 'free Cancellation Confirmation' and 'paid Cancellation Confirmation'\n",
    "def churn2(row):\n",
    "    if (row['free Cancellation Confirmation'] == 1) | (row['paid Cancellation Confirmation'] == 1) | (row['free Cancel'] == 1) | (row['paid Cancel'] == 1):\n",
    "        return 1\n",
    "    else:\n",
    "        return 0\n",
    "\n",
    "ndf['churn'] = ndf.apply(churn2, axis=1)"
   ]
  },
  {
   "cell_type": "code",
   "execution_count": 71,
   "metadata": {
    "execution": {
     "iopub.execute_input": "2021-02-12T23:46:34.492477Z",
     "iopub.status.busy": "2021-02-12T23:46:34.491769Z",
     "iopub.status.idle": "2021-02-12T23:46:34.517424Z",
     "shell.execute_reply": "2021-02-12T23:46:34.518036Z"
    },
    "papermill": {
     "duration": 0.189211,
     "end_time": "2021-02-12T23:46:34.518210",
     "exception": false,
     "start_time": "2021-02-12T23:46:34.328999",
     "status": "completed"
    },
    "tags": []
   },
   "outputs": [
    {
     "data": {
      "text/html": [
       "<div>\n",
       "<style scoped>\n",
       "    .dataframe tbody tr th:only-of-type {\n",
       "        vertical-align: middle;\n",
       "    }\n",
       "\n",
       "    .dataframe tbody tr th {\n",
       "        vertical-align: top;\n",
       "    }\n",
       "\n",
       "    .dataframe thead th {\n",
       "        text-align: right;\n",
       "    }\n",
       "</style>\n",
       "<table border=\"1\" class=\"dataframe\">\n",
       "  <thead>\n",
       "    <tr style=\"text-align: right;\">\n",
       "      <th>level_page</th>\n",
       "      <th>userId</th>\n",
       "      <th>free About</th>\n",
       "      <th>free Add Friend</th>\n",
       "      <th>free Add to Playlist</th>\n",
       "      <th>free Cancel</th>\n",
       "      <th>free Cancellation Confirmation</th>\n",
       "      <th>free Error</th>\n",
       "      <th>free Help</th>\n",
       "      <th>free Home</th>\n",
       "      <th>free Logout</th>\n",
       "      <th>...</th>\n",
       "      <th>paid Home</th>\n",
       "      <th>paid Logout</th>\n",
       "      <th>paid NextSong</th>\n",
       "      <th>paid Roll Advert</th>\n",
       "      <th>paid Save Settings</th>\n",
       "      <th>paid Settings</th>\n",
       "      <th>paid Submit Downgrade</th>\n",
       "      <th>paid Thumbs Down</th>\n",
       "      <th>paid Thumbs Up</th>\n",
       "      <th>churn</th>\n",
       "    </tr>\n",
       "  </thead>\n",
       "  <tbody>\n",
       "    <tr>\n",
       "      <th>0</th>\n",
       "      <td>10</td>\n",
       "      <td>0</td>\n",
       "      <td>0</td>\n",
       "      <td>0</td>\n",
       "      <td>0</td>\n",
       "      <td>0</td>\n",
       "      <td>0</td>\n",
       "      <td>0</td>\n",
       "      <td>0</td>\n",
       "      <td>0</td>\n",
       "      <td>...</td>\n",
       "      <td>15</td>\n",
       "      <td>4</td>\n",
       "      <td>360</td>\n",
       "      <td>0</td>\n",
       "      <td>0</td>\n",
       "      <td>2</td>\n",
       "      <td>0</td>\n",
       "      <td>1</td>\n",
       "      <td>17</td>\n",
       "      <td>1</td>\n",
       "    </tr>\n",
       "    <tr>\n",
       "      <th>1</th>\n",
       "      <td>100</td>\n",
       "      <td>0</td>\n",
       "      <td>0</td>\n",
       "      <td>2</td>\n",
       "      <td>0</td>\n",
       "      <td>0</td>\n",
       "      <td>0</td>\n",
       "      <td>0</td>\n",
       "      <td>3</td>\n",
       "      <td>1</td>\n",
       "      <td>...</td>\n",
       "      <td>132</td>\n",
       "      <td>35</td>\n",
       "      <td>3336</td>\n",
       "      <td>3</td>\n",
       "      <td>2</td>\n",
       "      <td>17</td>\n",
       "      <td>0</td>\n",
       "      <td>37</td>\n",
       "      <td>142</td>\n",
       "      <td>0</td>\n",
       "    </tr>\n",
       "    <tr>\n",
       "      <th>2</th>\n",
       "      <td>100001</td>\n",
       "      <td>1</td>\n",
       "      <td>1</td>\n",
       "      <td>3</td>\n",
       "      <td>1</td>\n",
       "      <td>1</td>\n",
       "      <td>0</td>\n",
       "      <td>1</td>\n",
       "      <td>4</td>\n",
       "      <td>2</td>\n",
       "      <td>...</td>\n",
       "      <td>0</td>\n",
       "      <td>0</td>\n",
       "      <td>0</td>\n",
       "      <td>0</td>\n",
       "      <td>0</td>\n",
       "      <td>0</td>\n",
       "      <td>0</td>\n",
       "      <td>0</td>\n",
       "      <td>0</td>\n",
       "      <td>1</td>\n",
       "    </tr>\n",
       "    <tr>\n",
       "      <th>3</th>\n",
       "      <td>100002</td>\n",
       "      <td>0</td>\n",
       "      <td>0</td>\n",
       "      <td>1</td>\n",
       "      <td>0</td>\n",
       "      <td>0</td>\n",
       "      <td>0</td>\n",
       "      <td>1</td>\n",
       "      <td>5</td>\n",
       "      <td>2</td>\n",
       "      <td>...</td>\n",
       "      <td>7</td>\n",
       "      <td>1</td>\n",
       "      <td>113</td>\n",
       "      <td>0</td>\n",
       "      <td>0</td>\n",
       "      <td>0</td>\n",
       "      <td>1</td>\n",
       "      <td>2</td>\n",
       "      <td>5</td>\n",
       "      <td>0</td>\n",
       "    </tr>\n",
       "    <tr>\n",
       "      <th>4</th>\n",
       "      <td>100003</td>\n",
       "      <td>0</td>\n",
       "      <td>6</td>\n",
       "      <td>6</td>\n",
       "      <td>0</td>\n",
       "      <td>0</td>\n",
       "      <td>1</td>\n",
       "      <td>1</td>\n",
       "      <td>10</td>\n",
       "      <td>4</td>\n",
       "      <td>...</td>\n",
       "      <td>21</td>\n",
       "      <td>8</td>\n",
       "      <td>430</td>\n",
       "      <td>4</td>\n",
       "      <td>1</td>\n",
       "      <td>3</td>\n",
       "      <td>0</td>\n",
       "      <td>3</td>\n",
       "      <td>10</td>\n",
       "      <td>1</td>\n",
       "    </tr>\n",
       "    <tr>\n",
       "      <th>...</th>\n",
       "      <td>...</td>\n",
       "      <td>...</td>\n",
       "      <td>...</td>\n",
       "      <td>...</td>\n",
       "      <td>...</td>\n",
       "      <td>...</td>\n",
       "      <td>...</td>\n",
       "      <td>...</td>\n",
       "      <td>...</td>\n",
       "      <td>...</td>\n",
       "      <td>...</td>\n",
       "      <td>...</td>\n",
       "      <td>...</td>\n",
       "      <td>...</td>\n",
       "      <td>...</td>\n",
       "      <td>...</td>\n",
       "      <td>...</td>\n",
       "      <td>...</td>\n",
       "      <td>...</td>\n",
       "      <td>...</td>\n",
       "      <td>...</td>\n",
       "    </tr>\n",
       "    <tr>\n",
       "      <th>443</th>\n",
       "      <td>95</td>\n",
       "      <td>0</td>\n",
       "      <td>0</td>\n",
       "      <td>0</td>\n",
       "      <td>0</td>\n",
       "      <td>0</td>\n",
       "      <td>0</td>\n",
       "      <td>0</td>\n",
       "      <td>0</td>\n",
       "      <td>0</td>\n",
       "      <td>...</td>\n",
       "      <td>81</td>\n",
       "      <td>17</td>\n",
       "      <td>2062</td>\n",
       "      <td>4</td>\n",
       "      <td>5</td>\n",
       "      <td>16</td>\n",
       "      <td>0</td>\n",
       "      <td>21</td>\n",
       "      <td>122</td>\n",
       "      <td>0</td>\n",
       "    </tr>\n",
       "    <tr>\n",
       "      <th>444</th>\n",
       "      <td>96</td>\n",
       "      <td>0</td>\n",
       "      <td>0</td>\n",
       "      <td>0</td>\n",
       "      <td>0</td>\n",
       "      <td>0</td>\n",
       "      <td>0</td>\n",
       "      <td>0</td>\n",
       "      <td>0</td>\n",
       "      <td>0</td>\n",
       "      <td>...</td>\n",
       "      <td>84</td>\n",
       "      <td>29</td>\n",
       "      <td>1950</td>\n",
       "      <td>3</td>\n",
       "      <td>3</td>\n",
       "      <td>8</td>\n",
       "      <td>0</td>\n",
       "      <td>20</td>\n",
       "      <td>78</td>\n",
       "      <td>0</td>\n",
       "    </tr>\n",
       "    <tr>\n",
       "      <th>445</th>\n",
       "      <td>97</td>\n",
       "      <td>6</td>\n",
       "      <td>23</td>\n",
       "      <td>31</td>\n",
       "      <td>0</td>\n",
       "      <td>0</td>\n",
       "      <td>2</td>\n",
       "      <td>9</td>\n",
       "      <td>73</td>\n",
       "      <td>17</td>\n",
       "      <td>...</td>\n",
       "      <td>2</td>\n",
       "      <td>0</td>\n",
       "      <td>55</td>\n",
       "      <td>0</td>\n",
       "      <td>0</td>\n",
       "      <td>0</td>\n",
       "      <td>0</td>\n",
       "      <td>1</td>\n",
       "      <td>4</td>\n",
       "      <td>0</td>\n",
       "    </tr>\n",
       "    <tr>\n",
       "      <th>446</th>\n",
       "      <td>98</td>\n",
       "      <td>0</td>\n",
       "      <td>2</td>\n",
       "      <td>2</td>\n",
       "      <td>0</td>\n",
       "      <td>0</td>\n",
       "      <td>0</td>\n",
       "      <td>1</td>\n",
       "      <td>5</td>\n",
       "      <td>2</td>\n",
       "      <td>...</td>\n",
       "      <td>104</td>\n",
       "      <td>32</td>\n",
       "      <td>2648</td>\n",
       "      <td>4</td>\n",
       "      <td>7</td>\n",
       "      <td>16</td>\n",
       "      <td>0</td>\n",
       "      <td>31</td>\n",
       "      <td>129</td>\n",
       "      <td>0</td>\n",
       "    </tr>\n",
       "    <tr>\n",
       "      <th>447</th>\n",
       "      <td>99</td>\n",
       "      <td>1</td>\n",
       "      <td>14</td>\n",
       "      <td>6</td>\n",
       "      <td>0</td>\n",
       "      <td>0</td>\n",
       "      <td>0</td>\n",
       "      <td>3</td>\n",
       "      <td>14</td>\n",
       "      <td>6</td>\n",
       "      <td>...</td>\n",
       "      <td>19</td>\n",
       "      <td>3</td>\n",
       "      <td>670</td>\n",
       "      <td>0</td>\n",
       "      <td>0</td>\n",
       "      <td>4</td>\n",
       "      <td>1</td>\n",
       "      <td>6</td>\n",
       "      <td>27</td>\n",
       "      <td>0</td>\n",
       "    </tr>\n",
       "  </tbody>\n",
       "</table>\n",
       "<p>448 rows × 36 columns</p>\n",
       "</div>"
      ],
      "text/plain": [
       "level_page  userId  free About  free Add Friend  free Add to Playlist  \\\n",
       "0               10           0                0                     0   \n",
       "1              100           0                0                     2   \n",
       "2           100001           1                1                     3   \n",
       "3           100002           0                0                     1   \n",
       "4           100003           0                6                     6   \n",
       "..             ...         ...              ...                   ...   \n",
       "443             95           0                0                     0   \n",
       "444             96           0                0                     0   \n",
       "445             97           6               23                    31   \n",
       "446             98           0                2                     2   \n",
       "447             99           1               14                     6   \n",
       "\n",
       "level_page  free Cancel  free Cancellation Confirmation  free Error  \\\n",
       "0                     0                               0           0   \n",
       "1                     0                               0           0   \n",
       "2                     1                               1           0   \n",
       "3                     0                               0           0   \n",
       "4                     0                               0           1   \n",
       "..                  ...                             ...         ...   \n",
       "443                   0                               0           0   \n",
       "444                   0                               0           0   \n",
       "445                   0                               0           2   \n",
       "446                   0                               0           0   \n",
       "447                   0                               0           0   \n",
       "\n",
       "level_page  free Help  free Home  free Logout  ...  paid Home  paid Logout  \\\n",
       "0                   0          0            0  ...         15            4   \n",
       "1                   0          3            1  ...        132           35   \n",
       "2                   1          4            2  ...          0            0   \n",
       "3                   1          5            2  ...          7            1   \n",
       "4                   1         10            4  ...         21            8   \n",
       "..                ...        ...          ...  ...        ...          ...   \n",
       "443                 0          0            0  ...         81           17   \n",
       "444                 0          0            0  ...         84           29   \n",
       "445                 9         73           17  ...          2            0   \n",
       "446                 1          5            2  ...        104           32   \n",
       "447                 3         14            6  ...         19            3   \n",
       "\n",
       "level_page  paid NextSong  paid Roll Advert  paid Save Settings  \\\n",
       "0                     360                 0                   0   \n",
       "1                    3336                 3                   2   \n",
       "2                       0                 0                   0   \n",
       "3                     113                 0                   0   \n",
       "4                     430                 4                   1   \n",
       "..                    ...               ...                 ...   \n",
       "443                  2062                 4                   5   \n",
       "444                  1950                 3                   3   \n",
       "445                    55                 0                   0   \n",
       "446                  2648                 4                   7   \n",
       "447                   670                 0                   0   \n",
       "\n",
       "level_page  paid Settings  paid Submit Downgrade  paid Thumbs Down  \\\n",
       "0                       2                      0                 1   \n",
       "1                      17                      0                37   \n",
       "2                       0                      0                 0   \n",
       "3                       0                      1                 2   \n",
       "4                       3                      0                 3   \n",
       "..                    ...                    ...               ...   \n",
       "443                    16                      0                21   \n",
       "444                     8                      0                20   \n",
       "445                     0                      0                 1   \n",
       "446                    16                      0                31   \n",
       "447                     4                      1                 6   \n",
       "\n",
       "level_page  paid Thumbs Up  churn  \n",
       "0                       17      1  \n",
       "1                      142      0  \n",
       "2                        0      1  \n",
       "3                        5      0  \n",
       "4                       10      1  \n",
       "..                     ...    ...  \n",
       "443                    122      0  \n",
       "444                     78      0  \n",
       "445                      4      0  \n",
       "446                    129      0  \n",
       "447                     27      0  \n",
       "\n",
       "[448 rows x 36 columns]"
      ]
     },
     "execution_count": 71,
     "metadata": {},
     "output_type": "execute_result"
    }
   ],
   "source": [
    "ndf"
   ]
  },
  {
   "cell_type": "code",
   "execution_count": 72,
   "metadata": {
    "execution": {
     "iopub.execute_input": "2021-02-12T23:46:34.844846Z",
     "iopub.status.busy": "2021-02-12T23:46:34.844059Z",
     "iopub.status.idle": "2021-02-12T23:46:34.871308Z",
     "shell.execute_reply": "2021-02-12T23:46:34.871800Z"
    },
    "papermill": {
     "duration": 0.192354,
     "end_time": "2021-02-12T23:46:34.871957",
     "exception": false,
     "start_time": "2021-02-12T23:46:34.679603",
     "status": "completed"
    },
    "tags": []
   },
   "outputs": [
    {
     "data": {
      "text/html": [
       "<div>\n",
       "<style scoped>\n",
       "    .dataframe tbody tr th:only-of-type {\n",
       "        vertical-align: middle;\n",
       "    }\n",
       "\n",
       "    .dataframe tbody tr th {\n",
       "        vertical-align: top;\n",
       "    }\n",
       "\n",
       "    .dataframe thead th {\n",
       "        text-align: right;\n",
       "    }\n",
       "</style>\n",
       "<table border=\"1\" class=\"dataframe\">\n",
       "  <thead>\n",
       "    <tr style=\"text-align: right;\">\n",
       "      <th>level_page</th>\n",
       "      <th>userId</th>\n",
       "      <th>free About</th>\n",
       "      <th>free Add Friend</th>\n",
       "      <th>free Add to Playlist</th>\n",
       "      <th>free Error</th>\n",
       "      <th>free Help</th>\n",
       "      <th>free Home</th>\n",
       "      <th>free Logout</th>\n",
       "      <th>free NextSong</th>\n",
       "      <th>free Roll Advert</th>\n",
       "      <th>...</th>\n",
       "      <th>paid Home</th>\n",
       "      <th>paid Logout</th>\n",
       "      <th>paid NextSong</th>\n",
       "      <th>paid Roll Advert</th>\n",
       "      <th>paid Save Settings</th>\n",
       "      <th>paid Settings</th>\n",
       "      <th>paid Submit Downgrade</th>\n",
       "      <th>paid Thumbs Down</th>\n",
       "      <th>paid Thumbs Up</th>\n",
       "      <th>churn</th>\n",
       "    </tr>\n",
       "  </thead>\n",
       "  <tbody>\n",
       "    <tr>\n",
       "      <th>0</th>\n",
       "      <td>10</td>\n",
       "      <td>0</td>\n",
       "      <td>0</td>\n",
       "      <td>0</td>\n",
       "      <td>0</td>\n",
       "      <td>0</td>\n",
       "      <td>0</td>\n",
       "      <td>0</td>\n",
       "      <td>0</td>\n",
       "      <td>0</td>\n",
       "      <td>...</td>\n",
       "      <td>15</td>\n",
       "      <td>4</td>\n",
       "      <td>360</td>\n",
       "      <td>0</td>\n",
       "      <td>0</td>\n",
       "      <td>2</td>\n",
       "      <td>0</td>\n",
       "      <td>1</td>\n",
       "      <td>17</td>\n",
       "      <td>1</td>\n",
       "    </tr>\n",
       "    <tr>\n",
       "      <th>1</th>\n",
       "      <td>100</td>\n",
       "      <td>0</td>\n",
       "      <td>0</td>\n",
       "      <td>2</td>\n",
       "      <td>0</td>\n",
       "      <td>0</td>\n",
       "      <td>3</td>\n",
       "      <td>1</td>\n",
       "      <td>46</td>\n",
       "      <td>5</td>\n",
       "      <td>...</td>\n",
       "      <td>132</td>\n",
       "      <td>35</td>\n",
       "      <td>3336</td>\n",
       "      <td>3</td>\n",
       "      <td>2</td>\n",
       "      <td>17</td>\n",
       "      <td>0</td>\n",
       "      <td>37</td>\n",
       "      <td>142</td>\n",
       "      <td>0</td>\n",
       "    </tr>\n",
       "    <tr>\n",
       "      <th>2</th>\n",
       "      <td>100001</td>\n",
       "      <td>1</td>\n",
       "      <td>1</td>\n",
       "      <td>3</td>\n",
       "      <td>0</td>\n",
       "      <td>1</td>\n",
       "      <td>4</td>\n",
       "      <td>2</td>\n",
       "      <td>96</td>\n",
       "      <td>13</td>\n",
       "      <td>...</td>\n",
       "      <td>0</td>\n",
       "      <td>0</td>\n",
       "      <td>0</td>\n",
       "      <td>0</td>\n",
       "      <td>0</td>\n",
       "      <td>0</td>\n",
       "      <td>0</td>\n",
       "      <td>0</td>\n",
       "      <td>0</td>\n",
       "      <td>1</td>\n",
       "    </tr>\n",
       "    <tr>\n",
       "      <th>3</th>\n",
       "      <td>100002</td>\n",
       "      <td>0</td>\n",
       "      <td>0</td>\n",
       "      <td>1</td>\n",
       "      <td>0</td>\n",
       "      <td>1</td>\n",
       "      <td>5</td>\n",
       "      <td>2</td>\n",
       "      <td>24</td>\n",
       "      <td>5</td>\n",
       "      <td>...</td>\n",
       "      <td>7</td>\n",
       "      <td>1</td>\n",
       "      <td>113</td>\n",
       "      <td>0</td>\n",
       "      <td>0</td>\n",
       "      <td>0</td>\n",
       "      <td>1</td>\n",
       "      <td>2</td>\n",
       "      <td>5</td>\n",
       "      <td>0</td>\n",
       "    </tr>\n",
       "    <tr>\n",
       "      <th>4</th>\n",
       "      <td>100003</td>\n",
       "      <td>0</td>\n",
       "      <td>6</td>\n",
       "      <td>6</td>\n",
       "      <td>1</td>\n",
       "      <td>1</td>\n",
       "      <td>10</td>\n",
       "      <td>4</td>\n",
       "      <td>231</td>\n",
       "      <td>37</td>\n",
       "      <td>...</td>\n",
       "      <td>21</td>\n",
       "      <td>8</td>\n",
       "      <td>430</td>\n",
       "      <td>4</td>\n",
       "      <td>1</td>\n",
       "      <td>3</td>\n",
       "      <td>0</td>\n",
       "      <td>3</td>\n",
       "      <td>10</td>\n",
       "      <td>1</td>\n",
       "    </tr>\n",
       "    <tr>\n",
       "      <th>...</th>\n",
       "      <td>...</td>\n",
       "      <td>...</td>\n",
       "      <td>...</td>\n",
       "      <td>...</td>\n",
       "      <td>...</td>\n",
       "      <td>...</td>\n",
       "      <td>...</td>\n",
       "      <td>...</td>\n",
       "      <td>...</td>\n",
       "      <td>...</td>\n",
       "      <td>...</td>\n",
       "      <td>...</td>\n",
       "      <td>...</td>\n",
       "      <td>...</td>\n",
       "      <td>...</td>\n",
       "      <td>...</td>\n",
       "      <td>...</td>\n",
       "      <td>...</td>\n",
       "      <td>...</td>\n",
       "      <td>...</td>\n",
       "      <td>...</td>\n",
       "    </tr>\n",
       "    <tr>\n",
       "      <th>443</th>\n",
       "      <td>95</td>\n",
       "      <td>0</td>\n",
       "      <td>0</td>\n",
       "      <td>0</td>\n",
       "      <td>0</td>\n",
       "      <td>0</td>\n",
       "      <td>0</td>\n",
       "      <td>0</td>\n",
       "      <td>0</td>\n",
       "      <td>0</td>\n",
       "      <td>...</td>\n",
       "      <td>81</td>\n",
       "      <td>17</td>\n",
       "      <td>2062</td>\n",
       "      <td>4</td>\n",
       "      <td>5</td>\n",
       "      <td>16</td>\n",
       "      <td>0</td>\n",
       "      <td>21</td>\n",
       "      <td>122</td>\n",
       "      <td>0</td>\n",
       "    </tr>\n",
       "    <tr>\n",
       "      <th>444</th>\n",
       "      <td>96</td>\n",
       "      <td>0</td>\n",
       "      <td>0</td>\n",
       "      <td>0</td>\n",
       "      <td>0</td>\n",
       "      <td>0</td>\n",
       "      <td>0</td>\n",
       "      <td>0</td>\n",
       "      <td>0</td>\n",
       "      <td>0</td>\n",
       "      <td>...</td>\n",
       "      <td>84</td>\n",
       "      <td>29</td>\n",
       "      <td>1950</td>\n",
       "      <td>3</td>\n",
       "      <td>3</td>\n",
       "      <td>8</td>\n",
       "      <td>0</td>\n",
       "      <td>20</td>\n",
       "      <td>78</td>\n",
       "      <td>0</td>\n",
       "    </tr>\n",
       "    <tr>\n",
       "      <th>445</th>\n",
       "      <td>97</td>\n",
       "      <td>6</td>\n",
       "      <td>23</td>\n",
       "      <td>31</td>\n",
       "      <td>2</td>\n",
       "      <td>9</td>\n",
       "      <td>73</td>\n",
       "      <td>17</td>\n",
       "      <td>1148</td>\n",
       "      <td>96</td>\n",
       "      <td>...</td>\n",
       "      <td>2</td>\n",
       "      <td>0</td>\n",
       "      <td>55</td>\n",
       "      <td>0</td>\n",
       "      <td>0</td>\n",
       "      <td>0</td>\n",
       "      <td>0</td>\n",
       "      <td>1</td>\n",
       "      <td>4</td>\n",
       "      <td>0</td>\n",
       "    </tr>\n",
       "    <tr>\n",
       "      <th>446</th>\n",
       "      <td>98</td>\n",
       "      <td>0</td>\n",
       "      <td>2</td>\n",
       "      <td>2</td>\n",
       "      <td>0</td>\n",
       "      <td>1</td>\n",
       "      <td>5</td>\n",
       "      <td>2</td>\n",
       "      <td>39</td>\n",
       "      <td>3</td>\n",
       "      <td>...</td>\n",
       "      <td>104</td>\n",
       "      <td>32</td>\n",
       "      <td>2648</td>\n",
       "      <td>4</td>\n",
       "      <td>7</td>\n",
       "      <td>16</td>\n",
       "      <td>0</td>\n",
       "      <td>31</td>\n",
       "      <td>129</td>\n",
       "      <td>0</td>\n",
       "    </tr>\n",
       "    <tr>\n",
       "      <th>447</th>\n",
       "      <td>99</td>\n",
       "      <td>1</td>\n",
       "      <td>14</td>\n",
       "      <td>6</td>\n",
       "      <td>0</td>\n",
       "      <td>3</td>\n",
       "      <td>14</td>\n",
       "      <td>6</td>\n",
       "      <td>342</td>\n",
       "      <td>27</td>\n",
       "      <td>...</td>\n",
       "      <td>19</td>\n",
       "      <td>3</td>\n",
       "      <td>670</td>\n",
       "      <td>0</td>\n",
       "      <td>0</td>\n",
       "      <td>4</td>\n",
       "      <td>1</td>\n",
       "      <td>6</td>\n",
       "      <td>27</td>\n",
       "      <td>0</td>\n",
       "    </tr>\n",
       "  </tbody>\n",
       "</table>\n",
       "<p>448 rows × 32 columns</p>\n",
       "</div>"
      ],
      "text/plain": [
       "level_page  userId  free About  free Add Friend  free Add to Playlist  \\\n",
       "0               10           0                0                     0   \n",
       "1              100           0                0                     2   \n",
       "2           100001           1                1                     3   \n",
       "3           100002           0                0                     1   \n",
       "4           100003           0                6                     6   \n",
       "..             ...         ...              ...                   ...   \n",
       "443             95           0                0                     0   \n",
       "444             96           0                0                     0   \n",
       "445             97           6               23                    31   \n",
       "446             98           0                2                     2   \n",
       "447             99           1               14                     6   \n",
       "\n",
       "level_page  free Error  free Help  free Home  free Logout  free NextSong  \\\n",
       "0                    0          0          0            0              0   \n",
       "1                    0          0          3            1             46   \n",
       "2                    0          1          4            2             96   \n",
       "3                    0          1          5            2             24   \n",
       "4                    1          1         10            4            231   \n",
       "..                 ...        ...        ...          ...            ...   \n",
       "443                  0          0          0            0              0   \n",
       "444                  0          0          0            0              0   \n",
       "445                  2          9         73           17           1148   \n",
       "446                  0          1          5            2             39   \n",
       "447                  0          3         14            6            342   \n",
       "\n",
       "level_page  free Roll Advert  ...  paid Home  paid Logout  paid NextSong  \\\n",
       "0                          0  ...         15            4            360   \n",
       "1                          5  ...        132           35           3336   \n",
       "2                         13  ...          0            0              0   \n",
       "3                          5  ...          7            1            113   \n",
       "4                         37  ...         21            8            430   \n",
       "..                       ...  ...        ...          ...            ...   \n",
       "443                        0  ...         81           17           2062   \n",
       "444                        0  ...         84           29           1950   \n",
       "445                       96  ...          2            0             55   \n",
       "446                        3  ...        104           32           2648   \n",
       "447                       27  ...         19            3            670   \n",
       "\n",
       "level_page  paid Roll Advert  paid Save Settings  paid Settings  \\\n",
       "0                          0                   0              2   \n",
       "1                          3                   2             17   \n",
       "2                          0                   0              0   \n",
       "3                          0                   0              0   \n",
       "4                          4                   1              3   \n",
       "..                       ...                 ...            ...   \n",
       "443                        4                   5             16   \n",
       "444                        3                   3              8   \n",
       "445                        0                   0              0   \n",
       "446                        4                   7             16   \n",
       "447                        0                   0              4   \n",
       "\n",
       "level_page  paid Submit Downgrade  paid Thumbs Down  paid Thumbs Up  churn  \n",
       "0                               0                 1              17      1  \n",
       "1                               0                37             142      0  \n",
       "2                               0                 0               0      1  \n",
       "3                               1                 2               5      0  \n",
       "4                               0                 3              10      1  \n",
       "..                            ...               ...             ...    ...  \n",
       "443                             0                21             122      0  \n",
       "444                             0                20              78      0  \n",
       "445                             0                 1               4      0  \n",
       "446                             0                31             129      0  \n",
       "447                             1                 6              27      0  \n",
       "\n",
       "[448 rows x 32 columns]"
      ]
     },
     "execution_count": 72,
     "metadata": {},
     "output_type": "execute_result"
    }
   ],
   "source": [
    "#Drop irrelevant columns as prep for creating independent and target variables\n",
    "ndf = ndf.drop(columns= ['free Cancellation Confirmation', 'free Cancel', 'paid Cancellation Confirmation', 'paid Cancel'])\n",
    "ndf"
   ]
  },
  {
   "cell_type": "code",
   "execution_count": 73,
   "metadata": {
    "execution": {
     "iopub.execute_input": "2021-02-12T23:46:35.202738Z",
     "iopub.status.busy": "2021-02-12T23:46:35.201745Z",
     "iopub.status.idle": "2021-02-12T23:46:35.937323Z",
     "shell.execute_reply": "2021-02-12T23:46:35.936734Z"
    },
    "papermill": {
     "duration": 0.902047,
     "end_time": "2021-02-12T23:46:35.937442",
     "exception": false,
     "start_time": "2021-02-12T23:46:35.035395",
     "status": "completed"
    },
    "tags": []
   },
   "outputs": [
    {
     "data": {
      "text/plain": [
       "<matplotlib.axes._subplots.AxesSubplot at 0x7f18d61a0b10>"
      ]
     },
     "execution_count": 73,
     "metadata": {},
     "output_type": "execute_result"
    },
    {
     "data": {
      "image/png": "[encoded data removed]",
      "text/plain": [
       "<Figure size 1296x576 with 2 Axes>"
      ]
     },
     "metadata": {
      "needs_background": "light"
     },
     "output_type": "display_data"
    }
   ],
   "source": [
    "#create heatmap to understand correlation between var's in independent var's\n",
    "independent_var = ndf.columns\n",
    "independent_var = independent_var[:-1]\n",
    "\n",
    "# target variable is renamed as label\n",
    "ndf = ndf.rename(columns={'churn': 'label'})\n",
    "\n",
    "fig = plt.figure(figsize=(18,8))\n",
    "ax = plt.gca()\n",
    "ax.set_title(\"Correlation Matrix\")\n",
    "sns.heatmap(ndf[independent_var].corr(), annot = False, \\\n",
    "                                    linewidths=0.5, square = True, cmap = 'Reds_r')"
   ]
  },
  {
   "cell_type": "code",
   "execution_count": 74,
   "metadata": {
    "execution": {
     "iopub.execute_input": "2021-02-12T23:46:36.273653Z",
     "iopub.status.busy": "2021-02-12T23:46:36.272904Z",
     "iopub.status.idle": "2021-02-12T23:46:36.319332Z",
     "shell.execute_reply": "2021-02-12T23:46:36.319905Z"
    },
    "papermill": {
     "duration": 0.21675,
     "end_time": "2021-02-12T23:46:36.320058",
     "exception": false,
     "start_time": "2021-02-12T23:46:36.103308",
     "status": "completed"
    },
    "tags": []
   },
   "outputs": [
    {
     "data": {
      "text/html": [
       "<div>\n",
       "<style scoped>\n",
       "    .dataframe tbody tr th:only-of-type {\n",
       "        vertical-align: middle;\n",
       "    }\n",
       "\n",
       "    .dataframe tbody tr th {\n",
       "        vertical-align: top;\n",
       "    }\n",
       "\n",
       "    .dataframe thead th {\n",
       "        text-align: right;\n",
       "    }\n",
       "</style>\n",
       "<table border=\"1\" class=\"dataframe\">\n",
       "  <thead>\n",
       "    <tr style=\"text-align: right;\">\n",
       "      <th>level_page</th>\n",
       "      <th>free About</th>\n",
       "      <th>free Add Friend</th>\n",
       "      <th>free Add to Playlist</th>\n",
       "      <th>free Error</th>\n",
       "      <th>free Help</th>\n",
       "      <th>free Home</th>\n",
       "      <th>free Logout</th>\n",
       "      <th>free NextSong</th>\n",
       "      <th>free Roll Advert</th>\n",
       "      <th>free Save Settings</th>\n",
       "      <th>...</th>\n",
       "      <th>paid Home</th>\n",
       "      <th>paid Logout</th>\n",
       "      <th>paid NextSong</th>\n",
       "      <th>paid Roll Advert</th>\n",
       "      <th>paid Save Settings</th>\n",
       "      <th>paid Settings</th>\n",
       "      <th>paid Submit Downgrade</th>\n",
       "      <th>paid Thumbs Down</th>\n",
       "      <th>paid Thumbs Up</th>\n",
       "      <th>label</th>\n",
       "    </tr>\n",
       "    <tr>\n",
       "      <th>level_page</th>\n",
       "      <th></th>\n",
       "      <th></th>\n",
       "      <th></th>\n",
       "      <th></th>\n",
       "      <th></th>\n",
       "      <th></th>\n",
       "      <th></th>\n",
       "      <th></th>\n",
       "      <th></th>\n",
       "      <th></th>\n",
       "      <th></th>\n",
       "      <th></th>\n",
       "      <th></th>\n",
       "      <th></th>\n",
       "      <th></th>\n",
       "      <th></th>\n",
       "      <th></th>\n",
       "      <th></th>\n",
       "      <th></th>\n",
       "      <th></th>\n",
       "      <th></th>\n",
       "    </tr>\n",
       "  </thead>\n",
       "  <tbody>\n",
       "    <tr>\n",
       "      <th>free About</th>\n",
       "      <td>1.000000</td>\n",
       "      <td>0.538621</td>\n",
       "      <td>0.549647</td>\n",
       "      <td>0.281151</td>\n",
       "      <td>0.430630</td>\n",
       "      <td>0.586415</td>\n",
       "      <td>0.533289</td>\n",
       "      <td>0.595814</td>\n",
       "      <td>0.567081</td>\n",
       "      <td>0.416658</td>\n",
       "      <td>...</td>\n",
       "      <td>-0.029298</td>\n",
       "      <td>-0.030329</td>\n",
       "      <td>-0.029052</td>\n",
       "      <td>0.000457</td>\n",
       "      <td>-0.046558</td>\n",
       "      <td>-0.031298</td>\n",
       "      <td>0.192512</td>\n",
       "      <td>0.004932</td>\n",
       "      <td>-0.052079</td>\n",
       "      <td>0.012565</td>\n",
       "    </tr>\n",
       "    <tr>\n",
       "      <th>free Add Friend</th>\n",
       "      <td>0.538621</td>\n",
       "      <td>1.000000</td>\n",
       "      <td>0.768579</td>\n",
       "      <td>0.465825</td>\n",
       "      <td>0.609941</td>\n",
       "      <td>0.840855</td>\n",
       "      <td>0.819536</td>\n",
       "      <td>0.847933</td>\n",
       "      <td>0.780306</td>\n",
       "      <td>0.495692</td>\n",
       "      <td>...</td>\n",
       "      <td>0.072909</td>\n",
       "      <td>0.069663</td>\n",
       "      <td>0.066149</td>\n",
       "      <td>0.044755</td>\n",
       "      <td>0.047345</td>\n",
       "      <td>0.053580</td>\n",
       "      <td>0.358695</td>\n",
       "      <td>0.102967</td>\n",
       "      <td>0.032243</td>\n",
       "      <td>0.061114</td>\n",
       "    </tr>\n",
       "    <tr>\n",
       "      <th>free Add to Playlist</th>\n",
       "      <td>0.549647</td>\n",
       "      <td>0.768579</td>\n",
       "      <td>1.000000</td>\n",
       "      <td>0.536288</td>\n",
       "      <td>0.702367</td>\n",
       "      <td>0.912092</td>\n",
       "      <td>0.864012</td>\n",
       "      <td>0.934834</td>\n",
       "      <td>0.867929</td>\n",
       "      <td>0.588678</td>\n",
       "      <td>...</td>\n",
       "      <td>0.062521</td>\n",
       "      <td>0.056090</td>\n",
       "      <td>0.058473</td>\n",
       "      <td>0.053496</td>\n",
       "      <td>0.011615</td>\n",
       "      <td>0.040690</td>\n",
       "      <td>0.388142</td>\n",
       "      <td>0.100096</td>\n",
       "      <td>0.028305</td>\n",
       "      <td>0.038811</td>\n",
       "    </tr>\n",
       "    <tr>\n",
       "      <th>free Error</th>\n",
       "      <td>0.281151</td>\n",
       "      <td>0.465825</td>\n",
       "      <td>0.536288</td>\n",
       "      <td>1.000000</td>\n",
       "      <td>0.346877</td>\n",
       "      <td>0.554604</td>\n",
       "      <td>0.516649</td>\n",
       "      <td>0.554837</td>\n",
       "      <td>0.493376</td>\n",
       "      <td>0.316643</td>\n",
       "      <td>...</td>\n",
       "      <td>0.083686</td>\n",
       "      <td>0.078992</td>\n",
       "      <td>0.087923</td>\n",
       "      <td>0.073958</td>\n",
       "      <td>0.012772</td>\n",
       "      <td>0.079646</td>\n",
       "      <td>0.260684</td>\n",
       "      <td>0.123892</td>\n",
       "      <td>0.066259</td>\n",
       "      <td>0.044859</td>\n",
       "    </tr>\n",
       "    <tr>\n",
       "      <th>free Help</th>\n",
       "      <td>0.430630</td>\n",
       "      <td>0.609941</td>\n",
       "      <td>0.702367</td>\n",
       "      <td>0.346877</td>\n",
       "      <td>1.000000</td>\n",
       "      <td>0.716138</td>\n",
       "      <td>0.668890</td>\n",
       "      <td>0.741974</td>\n",
       "      <td>0.703360</td>\n",
       "      <td>0.478825</td>\n",
       "      <td>...</td>\n",
       "      <td>0.044880</td>\n",
       "      <td>0.039841</td>\n",
       "      <td>0.040566</td>\n",
       "      <td>0.054157</td>\n",
       "      <td>0.034268</td>\n",
       "      <td>0.015738</td>\n",
       "      <td>0.332156</td>\n",
       "      <td>0.078611</td>\n",
       "      <td>0.002914</td>\n",
       "      <td>0.026112</td>\n",
       "    </tr>\n",
       "    <tr>\n",
       "      <th>free Home</th>\n",
       "      <td>0.586415</td>\n",
       "      <td>0.840855</td>\n",
       "      <td>0.912092</td>\n",
       "      <td>0.554604</td>\n",
       "      <td>0.716138</td>\n",
       "      <td>1.000000</td>\n",
       "      <td>0.941654</td>\n",
       "      <td>0.970579</td>\n",
       "      <td>0.895045</td>\n",
       "      <td>0.624112</td>\n",
       "      <td>...</td>\n",
       "      <td>0.064407</td>\n",
       "      <td>0.059341</td>\n",
       "      <td>0.056701</td>\n",
       "      <td>0.048053</td>\n",
       "      <td>0.031551</td>\n",
       "      <td>0.044951</td>\n",
       "      <td>0.407299</td>\n",
       "      <td>0.093217</td>\n",
       "      <td>0.020037</td>\n",
       "      <td>0.037470</td>\n",
       "    </tr>\n",
       "    <tr>\n",
       "      <th>free Logout</th>\n",
       "      <td>0.533289</td>\n",
       "      <td>0.819536</td>\n",
       "      <td>0.864012</td>\n",
       "      <td>0.516649</td>\n",
       "      <td>0.668890</td>\n",
       "      <td>0.941654</td>\n",
       "      <td>1.000000</td>\n",
       "      <td>0.914690</td>\n",
       "      <td>0.848079</td>\n",
       "      <td>0.550460</td>\n",
       "      <td>...</td>\n",
       "      <td>0.001325</td>\n",
       "      <td>-0.000331</td>\n",
       "      <td>-0.008638</td>\n",
       "      <td>0.018213</td>\n",
       "      <td>-0.032105</td>\n",
       "      <td>-0.025312</td>\n",
       "      <td>0.361995</td>\n",
       "      <td>0.034441</td>\n",
       "      <td>-0.036721</td>\n",
       "      <td>0.030023</td>\n",
       "    </tr>\n",
       "    <tr>\n",
       "      <th>free NextSong</th>\n",
       "      <td>0.595814</td>\n",
       "      <td>0.847933</td>\n",
       "      <td>0.934834</td>\n",
       "      <td>0.554837</td>\n",
       "      <td>0.741974</td>\n",
       "      <td>0.970579</td>\n",
       "      <td>0.914690</td>\n",
       "      <td>1.000000</td>\n",
       "      <td>0.935488</td>\n",
       "      <td>0.603206</td>\n",
       "      <td>...</td>\n",
       "      <td>0.073286</td>\n",
       "      <td>0.067352</td>\n",
       "      <td>0.068697</td>\n",
       "      <td>0.056660</td>\n",
       "      <td>0.021858</td>\n",
       "      <td>0.054433</td>\n",
       "      <td>0.403767</td>\n",
       "      <td>0.110042</td>\n",
       "      <td>0.027215</td>\n",
       "      <td>0.050954</td>\n",
       "    </tr>\n",
       "    <tr>\n",
       "      <th>free Roll Advert</th>\n",
       "      <td>0.567081</td>\n",
       "      <td>0.780306</td>\n",
       "      <td>0.867929</td>\n",
       "      <td>0.493376</td>\n",
       "      <td>0.703360</td>\n",
       "      <td>0.895045</td>\n",
       "      <td>0.848079</td>\n",
       "      <td>0.935488</td>\n",
       "      <td>1.000000</td>\n",
       "      <td>0.565991</td>\n",
       "      <td>...</td>\n",
       "      <td>0.041737</td>\n",
       "      <td>0.037832</td>\n",
       "      <td>0.037832</td>\n",
       "      <td>0.134230</td>\n",
       "      <td>-0.000597</td>\n",
       "      <td>0.026782</td>\n",
       "      <td>0.409965</td>\n",
       "      <td>0.066319</td>\n",
       "      <td>-0.000211</td>\n",
       "      <td>0.113401</td>\n",
       "    </tr>\n",
       "    <tr>\n",
       "      <th>free Save Settings</th>\n",
       "      <td>0.416658</td>\n",
       "      <td>0.495692</td>\n",
       "      <td>0.588678</td>\n",
       "      <td>0.316643</td>\n",
       "      <td>0.478825</td>\n",
       "      <td>0.624112</td>\n",
       "      <td>0.550460</td>\n",
       "      <td>0.603206</td>\n",
       "      <td>0.565991</td>\n",
       "      <td>1.000000</td>\n",
       "      <td>...</td>\n",
       "      <td>0.030635</td>\n",
       "      <td>0.027991</td>\n",
       "      <td>0.026450</td>\n",
       "      <td>-0.003334</td>\n",
       "      <td>0.056844</td>\n",
       "      <td>0.033820</td>\n",
       "      <td>0.174374</td>\n",
       "      <td>0.058658</td>\n",
       "      <td>0.012556</td>\n",
       "      <td>0.006433</td>\n",
       "    </tr>\n",
       "    <tr>\n",
       "      <th>free Settings</th>\n",
       "      <td>0.477591</td>\n",
       "      <td>0.668206</td>\n",
       "      <td>0.718389</td>\n",
       "      <td>0.376284</td>\n",
       "      <td>0.589706</td>\n",
       "      <td>0.771162</td>\n",
       "      <td>0.730342</td>\n",
       "      <td>0.763172</td>\n",
       "      <td>0.708376</td>\n",
       "      <td>0.688908</td>\n",
       "      <td>...</td>\n",
       "      <td>0.079770</td>\n",
       "      <td>0.074853</td>\n",
       "      <td>0.074171</td>\n",
       "      <td>0.036895</td>\n",
       "      <td>0.045263</td>\n",
       "      <td>0.062175</td>\n",
       "      <td>0.315011</td>\n",
       "      <td>0.119804</td>\n",
       "      <td>0.041714</td>\n",
       "      <td>0.077603</td>\n",
       "    </tr>\n",
       "    <tr>\n",
       "      <th>free Submit Upgrade</th>\n",
       "      <td>0.227092</td>\n",
       "      <td>0.360375</td>\n",
       "      <td>0.405868</td>\n",
       "      <td>0.212832</td>\n",
       "      <td>0.374124</td>\n",
       "      <td>0.425019</td>\n",
       "      <td>0.360786</td>\n",
       "      <td>0.428695</td>\n",
       "      <td>0.404931</td>\n",
       "      <td>0.215965</td>\n",
       "      <td>...</td>\n",
       "      <td>0.393709</td>\n",
       "      <td>0.379081</td>\n",
       "      <td>0.383002</td>\n",
       "      <td>0.388606</td>\n",
       "      <td>0.310354</td>\n",
       "      <td>0.368659</td>\n",
       "      <td>0.658894</td>\n",
       "      <td>0.412077</td>\n",
       "      <td>0.340859</td>\n",
       "      <td>0.049921</td>\n",
       "    </tr>\n",
       "    <tr>\n",
       "      <th>free Thumbs Down</th>\n",
       "      <td>0.400954</td>\n",
       "      <td>0.687340</td>\n",
       "      <td>0.699028</td>\n",
       "      <td>0.469203</td>\n",
       "      <td>0.526456</td>\n",
       "      <td>0.715780</td>\n",
       "      <td>0.723308</td>\n",
       "      <td>0.760325</td>\n",
       "      <td>0.707928</td>\n",
       "      <td>0.499182</td>\n",
       "      <td>...</td>\n",
       "      <td>-0.027179</td>\n",
       "      <td>-0.028938</td>\n",
       "      <td>-0.036562</td>\n",
       "      <td>-0.004915</td>\n",
       "      <td>-0.040575</td>\n",
       "      <td>-0.031247</td>\n",
       "      <td>0.373457</td>\n",
       "      <td>0.057046</td>\n",
       "      <td>-0.054525</td>\n",
       "      <td>0.144892</td>\n",
       "    </tr>\n",
       "    <tr>\n",
       "      <th>free Thumbs Up</th>\n",
       "      <td>0.559860</td>\n",
       "      <td>0.819439</td>\n",
       "      <td>0.902144</td>\n",
       "      <td>0.531207</td>\n",
       "      <td>0.717209</td>\n",
       "      <td>0.922198</td>\n",
       "      <td>0.864637</td>\n",
       "      <td>0.952194</td>\n",
       "      <td>0.889903</td>\n",
       "      <td>0.565640</td>\n",
       "      <td>...</td>\n",
       "      <td>0.090124</td>\n",
       "      <td>0.082570</td>\n",
       "      <td>0.085154</td>\n",
       "      <td>0.070418</td>\n",
       "      <td>0.041898</td>\n",
       "      <td>0.070864</td>\n",
       "      <td>0.386291</td>\n",
       "      <td>0.117259</td>\n",
       "      <td>0.063569</td>\n",
       "      <td>0.025962</td>\n",
       "    </tr>\n",
       "    <tr>\n",
       "      <th>free Upgrade</th>\n",
       "      <td>0.469577</td>\n",
       "      <td>0.717843</td>\n",
       "      <td>0.779327</td>\n",
       "      <td>0.429248</td>\n",
       "      <td>0.641537</td>\n",
       "      <td>0.795646</td>\n",
       "      <td>0.740116</td>\n",
       "      <td>0.813829</td>\n",
       "      <td>0.756641</td>\n",
       "      <td>0.459725</td>\n",
       "      <td>...</td>\n",
       "      <td>0.212541</td>\n",
       "      <td>0.195659</td>\n",
       "      <td>0.204389</td>\n",
       "      <td>0.212998</td>\n",
       "      <td>0.147969</td>\n",
       "      <td>0.187924</td>\n",
       "      <td>0.443600</td>\n",
       "      <td>0.225582</td>\n",
       "      <td>0.189145</td>\n",
       "      <td>0.048920</td>\n",
       "    </tr>\n",
       "    <tr>\n",
       "      <th>paid About</th>\n",
       "      <td>-0.023118</td>\n",
       "      <td>0.051743</td>\n",
       "      <td>0.053913</td>\n",
       "      <td>0.076533</td>\n",
       "      <td>0.034308</td>\n",
       "      <td>0.038316</td>\n",
       "      <td>-0.012967</td>\n",
       "      <td>0.052422</td>\n",
       "      <td>0.012358</td>\n",
       "      <td>0.023738</td>\n",
       "      <td>...</td>\n",
       "      <td>0.873592</td>\n",
       "      <td>0.867571</td>\n",
       "      <td>0.875646</td>\n",
       "      <td>0.534670</td>\n",
       "      <td>0.666264</td>\n",
       "      <td>0.836338</td>\n",
       "      <td>0.214850</td>\n",
       "      <td>0.817064</td>\n",
       "      <td>0.833501</td>\n",
       "      <td>-0.077259</td>\n",
       "    </tr>\n",
       "    <tr>\n",
       "      <th>paid Add Friend</th>\n",
       "      <td>-0.024096</td>\n",
       "      <td>0.077192</td>\n",
       "      <td>0.065589</td>\n",
       "      <td>0.097096</td>\n",
       "      <td>0.047219</td>\n",
       "      <td>0.057500</td>\n",
       "      <td>-0.003967</td>\n",
       "      <td>0.072436</td>\n",
       "      <td>0.039922</td>\n",
       "      <td>0.018753</td>\n",
       "      <td>...</td>\n",
       "      <td>0.960858</td>\n",
       "      <td>0.944719</td>\n",
       "      <td>0.965892</td>\n",
       "      <td>0.603232</td>\n",
       "      <td>0.703650</td>\n",
       "      <td>0.920366</td>\n",
       "      <td>0.220972</td>\n",
       "      <td>0.900597</td>\n",
       "      <td>0.925770</td>\n",
       "      <td>-0.080445</td>\n",
       "    </tr>\n",
       "    <tr>\n",
       "      <th>paid Add to Playlist</th>\n",
       "      <td>-0.040988</td>\n",
       "      <td>0.047974</td>\n",
       "      <td>0.048757</td>\n",
       "      <td>0.086233</td>\n",
       "      <td>0.033269</td>\n",
       "      <td>0.042059</td>\n",
       "      <td>-0.021059</td>\n",
       "      <td>0.053968</td>\n",
       "      <td>0.023163</td>\n",
       "      <td>0.019728</td>\n",
       "      <td>...</td>\n",
       "      <td>0.983237</td>\n",
       "      <td>0.970638</td>\n",
       "      <td>0.989208</td>\n",
       "      <td>0.625584</td>\n",
       "      <td>0.732989</td>\n",
       "      <td>0.950672</td>\n",
       "      <td>0.225352</td>\n",
       "      <td>0.925290</td>\n",
       "      <td>0.950432</td>\n",
       "      <td>-0.085381</td>\n",
       "    </tr>\n",
       "    <tr>\n",
       "      <th>paid Downgrade</th>\n",
       "      <td>-0.000398</td>\n",
       "      <td>0.110787</td>\n",
       "      <td>0.109867</td>\n",
       "      <td>0.121637</td>\n",
       "      <td>0.088938</td>\n",
       "      <td>0.108357</td>\n",
       "      <td>0.046089</td>\n",
       "      <td>0.125206</td>\n",
       "      <td>0.097470</td>\n",
       "      <td>0.057073</td>\n",
       "      <td>...</td>\n",
       "      <td>0.923575</td>\n",
       "      <td>0.918732</td>\n",
       "      <td>0.928801</td>\n",
       "      <td>0.601968</td>\n",
       "      <td>0.688100</td>\n",
       "      <td>0.880675</td>\n",
       "      <td>0.308493</td>\n",
       "      <td>0.893240</td>\n",
       "      <td>0.795419</td>\n",
       "      <td>-0.005069</td>\n",
       "    </tr>\n",
       "    <tr>\n",
       "      <th>paid Error</th>\n",
       "      <td>-0.032039</td>\n",
       "      <td>0.058393</td>\n",
       "      <td>0.066308</td>\n",
       "      <td>0.060339</td>\n",
       "      <td>0.016651</td>\n",
       "      <td>0.062721</td>\n",
       "      <td>-0.006002</td>\n",
       "      <td>0.073922</td>\n",
       "      <td>0.054579</td>\n",
       "      <td>0.020285</td>\n",
       "      <td>...</td>\n",
       "      <td>0.829206</td>\n",
       "      <td>0.811044</td>\n",
       "      <td>0.837772</td>\n",
       "      <td>0.528857</td>\n",
       "      <td>0.630091</td>\n",
       "      <td>0.804503</td>\n",
       "      <td>0.199246</td>\n",
       "      <td>0.779340</td>\n",
       "      <td>0.776615</td>\n",
       "      <td>-0.064802</td>\n",
       "    </tr>\n",
       "    <tr>\n",
       "      <th>paid Help</th>\n",
       "      <td>-0.024893</td>\n",
       "      <td>0.085225</td>\n",
       "      <td>0.071688</td>\n",
       "      <td>0.100593</td>\n",
       "      <td>0.047850</td>\n",
       "      <td>0.068286</td>\n",
       "      <td>0.005344</td>\n",
       "      <td>0.083199</td>\n",
       "      <td>0.051507</td>\n",
       "      <td>0.039164</td>\n",
       "      <td>...</td>\n",
       "      <td>0.932618</td>\n",
       "      <td>0.919678</td>\n",
       "      <td>0.944534</td>\n",
       "      <td>0.584359</td>\n",
       "      <td>0.702721</td>\n",
       "      <td>0.911830</td>\n",
       "      <td>0.229132</td>\n",
       "      <td>0.892847</td>\n",
       "      <td>0.896446</td>\n",
       "      <td>-0.059444</td>\n",
       "    </tr>\n",
       "    <tr>\n",
       "      <th>paid Home</th>\n",
       "      <td>-0.029298</td>\n",
       "      <td>0.072909</td>\n",
       "      <td>0.062521</td>\n",
       "      <td>0.083686</td>\n",
       "      <td>0.044880</td>\n",
       "      <td>0.064407</td>\n",
       "      <td>0.001325</td>\n",
       "      <td>0.073286</td>\n",
       "      <td>0.041737</td>\n",
       "      <td>0.030635</td>\n",
       "      <td>...</td>\n",
       "      <td>1.000000</td>\n",
       "      <td>0.983995</td>\n",
       "      <td>0.992046</td>\n",
       "      <td>0.651035</td>\n",
       "      <td>0.761653</td>\n",
       "      <td>0.951004</td>\n",
       "      <td>0.250914</td>\n",
       "      <td>0.929087</td>\n",
       "      <td>0.941042</td>\n",
       "      <td>-0.066522</td>\n",
       "    </tr>\n",
       "    <tr>\n",
       "      <th>paid Logout</th>\n",
       "      <td>-0.030329</td>\n",
       "      <td>0.069663</td>\n",
       "      <td>0.056090</td>\n",
       "      <td>0.078992</td>\n",
       "      <td>0.039841</td>\n",
       "      <td>0.059341</td>\n",
       "      <td>-0.000331</td>\n",
       "      <td>0.067352</td>\n",
       "      <td>0.037832</td>\n",
       "      <td>0.027991</td>\n",
       "      <td>...</td>\n",
       "      <td>0.983995</td>\n",
       "      <td>1.000000</td>\n",
       "      <td>0.978683</td>\n",
       "      <td>0.640423</td>\n",
       "      <td>0.742866</td>\n",
       "      <td>0.938271</td>\n",
       "      <td>0.238012</td>\n",
       "      <td>0.913965</td>\n",
       "      <td>0.915415</td>\n",
       "      <td>-0.067362</td>\n",
       "    </tr>\n",
       "    <tr>\n",
       "      <th>paid NextSong</th>\n",
       "      <td>-0.029052</td>\n",
       "      <td>0.066149</td>\n",
       "      <td>0.058473</td>\n",
       "      <td>0.087923</td>\n",
       "      <td>0.040566</td>\n",
       "      <td>0.056701</td>\n",
       "      <td>-0.008638</td>\n",
       "      <td>0.068697</td>\n",
       "      <td>0.037832</td>\n",
       "      <td>0.026450</td>\n",
       "      <td>...</td>\n",
       "      <td>0.992046</td>\n",
       "      <td>0.978683</td>\n",
       "      <td>1.000000</td>\n",
       "      <td>0.638406</td>\n",
       "      <td>0.745350</td>\n",
       "      <td>0.958557</td>\n",
       "      <td>0.239593</td>\n",
       "      <td>0.934694</td>\n",
       "      <td>0.945674</td>\n",
       "      <td>-0.065319</td>\n",
       "    </tr>\n",
       "    <tr>\n",
       "      <th>paid Roll Advert</th>\n",
       "      <td>0.000457</td>\n",
       "      <td>0.044755</td>\n",
       "      <td>0.053496</td>\n",
       "      <td>0.073958</td>\n",
       "      <td>0.054157</td>\n",
       "      <td>0.048053</td>\n",
       "      <td>0.018213</td>\n",
       "      <td>0.056660</td>\n",
       "      <td>0.134230</td>\n",
       "      <td>-0.003334</td>\n",
       "      <td>...</td>\n",
       "      <td>0.651035</td>\n",
       "      <td>0.640423</td>\n",
       "      <td>0.638406</td>\n",
       "      <td>1.000000</td>\n",
       "      <td>0.534707</td>\n",
       "      <td>0.608032</td>\n",
       "      <td>0.278056</td>\n",
       "      <td>0.593128</td>\n",
       "      <td>0.599213</td>\n",
       "      <td>0.071262</td>\n",
       "    </tr>\n",
       "    <tr>\n",
       "      <th>paid Save Settings</th>\n",
       "      <td>-0.046558</td>\n",
       "      <td>0.047345</td>\n",
       "      <td>0.011615</td>\n",
       "      <td>0.012772</td>\n",
       "      <td>0.034268</td>\n",
       "      <td>0.031551</td>\n",
       "      <td>-0.032105</td>\n",
       "      <td>0.021858</td>\n",
       "      <td>-0.000597</td>\n",
       "      <td>0.056844</td>\n",
       "      <td>...</td>\n",
       "      <td>0.761653</td>\n",
       "      <td>0.742866</td>\n",
       "      <td>0.745350</td>\n",
       "      <td>0.534707</td>\n",
       "      <td>1.000000</td>\n",
       "      <td>0.791220</td>\n",
       "      <td>0.142858</td>\n",
       "      <td>0.689842</td>\n",
       "      <td>0.693337</td>\n",
       "      <td>-0.086955</td>\n",
       "    </tr>\n",
       "    <tr>\n",
       "      <th>paid Settings</th>\n",
       "      <td>-0.031298</td>\n",
       "      <td>0.053580</td>\n",
       "      <td>0.040690</td>\n",
       "      <td>0.079646</td>\n",
       "      <td>0.015738</td>\n",
       "      <td>0.044951</td>\n",
       "      <td>-0.025312</td>\n",
       "      <td>0.054433</td>\n",
       "      <td>0.026782</td>\n",
       "      <td>0.033820</td>\n",
       "      <td>...</td>\n",
       "      <td>0.951004</td>\n",
       "      <td>0.938271</td>\n",
       "      <td>0.958557</td>\n",
       "      <td>0.608032</td>\n",
       "      <td>0.791220</td>\n",
       "      <td>1.000000</td>\n",
       "      <td>0.215050</td>\n",
       "      <td>0.902533</td>\n",
       "      <td>0.916805</td>\n",
       "      <td>-0.050129</td>\n",
       "    </tr>\n",
       "    <tr>\n",
       "      <th>paid Submit Downgrade</th>\n",
       "      <td>0.192512</td>\n",
       "      <td>0.358695</td>\n",
       "      <td>0.388142</td>\n",
       "      <td>0.260684</td>\n",
       "      <td>0.332156</td>\n",
       "      <td>0.407299</td>\n",
       "      <td>0.361995</td>\n",
       "      <td>0.403767</td>\n",
       "      <td>0.409965</td>\n",
       "      <td>0.174374</td>\n",
       "      <td>...</td>\n",
       "      <td>0.250914</td>\n",
       "      <td>0.238012</td>\n",
       "      <td>0.239593</td>\n",
       "      <td>0.278056</td>\n",
       "      <td>0.142858</td>\n",
       "      <td>0.215050</td>\n",
       "      <td>1.000000</td>\n",
       "      <td>0.258706</td>\n",
       "      <td>0.206169</td>\n",
       "      <td>0.031600</td>\n",
       "    </tr>\n",
       "    <tr>\n",
       "      <th>paid Thumbs Down</th>\n",
       "      <td>0.004932</td>\n",
       "      <td>0.102967</td>\n",
       "      <td>0.100096</td>\n",
       "      <td>0.123892</td>\n",
       "      <td>0.078611</td>\n",
       "      <td>0.093217</td>\n",
       "      <td>0.034441</td>\n",
       "      <td>0.110042</td>\n",
       "      <td>0.066319</td>\n",
       "      <td>0.058658</td>\n",
       "      <td>...</td>\n",
       "      <td>0.929087</td>\n",
       "      <td>0.913965</td>\n",
       "      <td>0.934694</td>\n",
       "      <td>0.593128</td>\n",
       "      <td>0.689842</td>\n",
       "      <td>0.902533</td>\n",
       "      <td>0.258706</td>\n",
       "      <td>1.000000</td>\n",
       "      <td>0.881801</td>\n",
       "      <td>-0.031593</td>\n",
       "    </tr>\n",
       "    <tr>\n",
       "      <th>paid Thumbs Up</th>\n",
       "      <td>-0.052079</td>\n",
       "      <td>0.032243</td>\n",
       "      <td>0.028305</td>\n",
       "      <td>0.066259</td>\n",
       "      <td>0.002914</td>\n",
       "      <td>0.020037</td>\n",
       "      <td>-0.036721</td>\n",
       "      <td>0.027215</td>\n",
       "      <td>-0.000211</td>\n",
       "      <td>0.012556</td>\n",
       "      <td>...</td>\n",
       "      <td>0.941042</td>\n",
       "      <td>0.915415</td>\n",
       "      <td>0.945674</td>\n",
       "      <td>0.599213</td>\n",
       "      <td>0.693337</td>\n",
       "      <td>0.916805</td>\n",
       "      <td>0.206169</td>\n",
       "      <td>0.881801</td>\n",
       "      <td>1.000000</td>\n",
       "      <td>-0.081348</td>\n",
       "    </tr>\n",
       "    <tr>\n",
       "      <th>label</th>\n",
       "      <td>0.012565</td>\n",
       "      <td>0.061114</td>\n",
       "      <td>0.038811</td>\n",
       "      <td>0.044859</td>\n",
       "      <td>0.026112</td>\n",
       "      <td>0.037470</td>\n",
       "      <td>0.030023</td>\n",
       "      <td>0.050954</td>\n",
       "      <td>0.113401</td>\n",
       "      <td>0.006433</td>\n",
       "      <td>...</td>\n",
       "      <td>-0.066522</td>\n",
       "      <td>-0.067362</td>\n",
       "      <td>-0.065319</td>\n",
       "      <td>0.071262</td>\n",
       "      <td>-0.086955</td>\n",
       "      <td>-0.050129</td>\n",
       "      <td>0.031600</td>\n",
       "      <td>-0.031593</td>\n",
       "      <td>-0.081348</td>\n",
       "      <td>1.000000</td>\n",
       "    </tr>\n",
       "  </tbody>\n",
       "</table>\n",
       "<p>31 rows × 31 columns</p>\n",
       "</div>"
      ],
      "text/plain": [
       "level_page             free About  free Add Friend  free Add to Playlist  \\\n",
       "level_page                                                                 \n",
       "free About               1.000000         0.538621              0.549647   \n",
       "free Add Friend          0.538621         1.000000              0.768579   \n",
       "free Add to Playlist     0.549647         0.768579              1.000000   \n",
       "free Error               0.281151         0.465825              0.536288   \n",
       "free Help                0.430630         0.609941              0.702367   \n",
       "free Home                0.586415         0.840855              0.912092   \n",
       "free Logout              0.533289         0.819536              0.864012   \n",
       "free NextSong            0.595814         0.847933              0.934834   \n",
       "free Roll Advert         0.567081         0.780306              0.867929   \n",
       "free Save Settings       0.416658         0.495692              0.588678   \n",
       "free Settings            0.477591         0.668206              0.718389   \n",
       "free Submit Upgrade      0.227092         0.360375              0.405868   \n",
       "free Thumbs Down         0.400954         0.687340              0.699028   \n",
       "free Thumbs Up           0.559860         0.819439              0.902144   \n",
       "free Upgrade             0.469577         0.717843              0.779327   \n",
       "paid About              -0.023118         0.051743              0.053913   \n",
       "paid Add Friend         -0.024096         0.077192              0.065589   \n",
       "paid Add to Playlist    -0.040988         0.047974              0.048757   \n",
       "paid Downgrade          -0.000398         0.110787              0.109867   \n",
       "paid Error              -0.032039         0.058393              0.066308   \n",
       "paid Help               -0.024893         0.085225              0.071688   \n",
       "paid Home               -0.029298         0.072909              0.062521   \n",
       "paid Logout             -0.030329         0.069663              0.056090   \n",
       "paid NextSong           -0.029052         0.066149              0.058473   \n",
       "paid Roll Advert         0.000457         0.044755              0.053496   \n",
       "paid Save Settings      -0.046558         0.047345              0.011615   \n",
       "paid Settings           -0.031298         0.053580              0.040690   \n",
       "paid Submit Downgrade    0.192512         0.358695              0.388142   \n",
       "paid Thumbs Down         0.004932         0.102967              0.100096   \n",
       "paid Thumbs Up          -0.052079         0.032243              0.028305   \n",
       "label                    0.012565         0.061114              0.038811   \n",
       "\n",
       "level_page             free Error  free Help  free Home  free Logout  \\\n",
       "level_page                                                             \n",
       "free About               0.281151   0.430630   0.586415     0.533289   \n",
       "free Add Friend          0.465825   0.609941   0.840855     0.819536   \n",
       "free Add to Playlist     0.536288   0.702367   0.912092     0.864012   \n",
       "free Error               1.000000   0.346877   0.554604     0.516649   \n",
       "free Help                0.346877   1.000000   0.716138     0.668890   \n",
       "free Home                0.554604   0.716138   1.000000     0.941654   \n",
       "free Logout              0.516649   0.668890   0.941654     1.000000   \n",
       "free NextSong            0.554837   0.741974   0.970579     0.914690   \n",
       "free Roll Advert         0.493376   0.703360   0.895045     0.848079   \n",
       "free Save Settings       0.316643   0.478825   0.624112     0.550460   \n",
       "free Settings            0.376284   0.589706   0.771162     0.730342   \n",
       "free Submit Upgrade      0.212832   0.374124   0.425019     0.360786   \n",
       "free Thumbs Down         0.469203   0.526456   0.715780     0.723308   \n",
       "free Thumbs Up           0.531207   0.717209   0.922198     0.864637   \n",
       "free Upgrade             0.429248   0.641537   0.795646     0.740116   \n",
       "paid About               0.076533   0.034308   0.038316    -0.012967   \n",
       "paid Add Friend          0.097096   0.047219   0.057500    -0.003967   \n",
       "paid Add to Playlist     0.086233   0.033269   0.042059    -0.021059   \n",
       "paid Downgrade           0.121637   0.088938   0.108357     0.046089   \n",
       "paid Error               0.060339   0.016651   0.062721    -0.006002   \n",
       "paid Help                0.100593   0.047850   0.068286     0.005344   \n",
       "paid Home                0.083686   0.044880   0.064407     0.001325   \n",
       "paid Logout              0.078992   0.039841   0.059341    -0.000331   \n",
       "paid NextSong            0.087923   0.040566   0.056701    -0.008638   \n",
       "paid Roll Advert         0.073958   0.054157   0.048053     0.018213   \n",
       "paid Save Settings       0.012772   0.034268   0.031551    -0.032105   \n",
       "paid Settings            0.079646   0.015738   0.044951    -0.025312   \n",
       "paid Submit Downgrade    0.260684   0.332156   0.407299     0.361995   \n",
       "paid Thumbs Down         0.123892   0.078611   0.093217     0.034441   \n",
       "paid Thumbs Up           0.066259   0.002914   0.020037    -0.036721   \n",
       "label                    0.044859   0.026112   0.037470     0.030023   \n",
       "\n",
       "level_page             free NextSong  free Roll Advert  free Save Settings  \\\n",
       "level_page                                                                   \n",
       "free About                  0.595814          0.567081            0.416658   \n",
       "free Add Friend             0.847933          0.780306            0.495692   \n",
       "free Add to Playlist        0.934834          0.867929            0.588678   \n",
       "free Error                  0.554837          0.493376            0.316643   \n",
       "free Help                   0.741974          0.703360            0.478825   \n",
       "free Home                   0.970579          0.895045            0.624112   \n",
       "free Logout                 0.914690          0.848079            0.550460   \n",
       "free NextSong               1.000000          0.935488            0.603206   \n",
       "free Roll Advert            0.935488          1.000000            0.565991   \n",
       "free Save Settings          0.603206          0.565991            1.000000   \n",
       "free Settings               0.763172          0.708376            0.688908   \n",
       "free Submit Upgrade         0.428695          0.404931            0.215965   \n",
       "free Thumbs Down            0.760325          0.707928            0.499182   \n",
       "free Thumbs Up              0.952194          0.889903            0.565640   \n",
       "free Upgrade                0.813829          0.756641            0.459725   \n",
       "paid About                  0.052422          0.012358            0.023738   \n",
       "paid Add Friend             0.072436          0.039922            0.018753   \n",
       "paid Add to Playlist        0.053968          0.023163            0.019728   \n",
       "paid Downgrade              0.125206          0.097470            0.057073   \n",
       "paid Error                  0.073922          0.054579            0.020285   \n",
       "paid Help                   0.083199          0.051507            0.039164   \n",
       "paid Home                   0.073286          0.041737            0.030635   \n",
       "paid Logout                 0.067352          0.037832            0.027991   \n",
       "paid NextSong               0.068697          0.037832            0.026450   \n",
       "paid Roll Advert            0.056660          0.134230           -0.003334   \n",
       "paid Save Settings          0.021858         -0.000597            0.056844   \n",
       "paid Settings               0.054433          0.026782            0.033820   \n",
       "paid Submit Downgrade       0.403767          0.409965            0.174374   \n",
       "paid Thumbs Down            0.110042          0.066319            0.058658   \n",
       "paid Thumbs Up              0.027215         -0.000211            0.012556   \n",
       "label                       0.050954          0.113401            0.006433   \n",
       "\n",
       "level_page             ...  paid Home  paid Logout  paid NextSong  \\\n",
       "level_page             ...                                          \n",
       "free About             ...  -0.029298    -0.030329      -0.029052   \n",
       "free Add Friend        ...   0.072909     0.069663       0.066149   \n",
       "free Add to Playlist   ...   0.062521     0.056090       0.058473   \n",
       "free Error             ...   0.083686     0.078992       0.087923   \n",
       "free Help              ...   0.044880     0.039841       0.040566   \n",
       "free Home              ...   0.064407     0.059341       0.056701   \n",
       "free Logout            ...   0.001325    -0.000331      -0.008638   \n",
       "free NextSong          ...   0.073286     0.067352       0.068697   \n",
       "free Roll Advert       ...   0.041737     0.037832       0.037832   \n",
       "free Save Settings     ...   0.030635     0.027991       0.026450   \n",
       "free Settings          ...   0.079770     0.074853       0.074171   \n",
       "free Submit Upgrade    ...   0.393709     0.379081       0.383002   \n",
       "free Thumbs Down       ...  -0.027179    -0.028938      -0.036562   \n",
       "free Thumbs Up         ...   0.090124     0.082570       0.085154   \n",
       "free Upgrade           ...   0.212541     0.195659       0.204389   \n",
       "paid About             ...   0.873592     0.867571       0.875646   \n",
       "paid Add Friend        ...   0.960858     0.944719       0.965892   \n",
       "paid Add to Playlist   ...   0.983237     0.970638       0.989208   \n",
       "paid Downgrade         ...   0.923575     0.918732       0.928801   \n",
       "paid Error             ...   0.829206     0.811044       0.837772   \n",
       "paid Help              ...   0.932618     0.919678       0.944534   \n",
       "paid Home              ...   1.000000     0.983995       0.992046   \n",
       "paid Logout            ...   0.983995     1.000000       0.978683   \n",
       "paid NextSong          ...   0.992046     0.978683       1.000000   \n",
       "paid Roll Advert       ...   0.651035     0.640423       0.638406   \n",
       "paid Save Settings     ...   0.761653     0.742866       0.745350   \n",
       "paid Settings          ...   0.951004     0.938271       0.958557   \n",
       "paid Submit Downgrade  ...   0.250914     0.238012       0.239593   \n",
       "paid Thumbs Down       ...   0.929087     0.913965       0.934694   \n",
       "paid Thumbs Up         ...   0.941042     0.915415       0.945674   \n",
       "label                  ...  -0.066522    -0.067362      -0.065319   \n",
       "\n",
       "level_page             paid Roll Advert  paid Save Settings  paid Settings  \\\n",
       "level_page                                                                   \n",
       "free About                     0.000457           -0.046558      -0.031298   \n",
       "free Add Friend                0.044755            0.047345       0.053580   \n",
       "free Add to Playlist           0.053496            0.011615       0.040690   \n",
       "free Error                     0.073958            0.012772       0.079646   \n",
       "free Help                      0.054157            0.034268       0.015738   \n",
       "free Home                      0.048053            0.031551       0.044951   \n",
       "free Logout                    0.018213           -0.032105      -0.025312   \n",
       "free NextSong                  0.056660            0.021858       0.054433   \n",
       "free Roll Advert               0.134230           -0.000597       0.026782   \n",
       "free Save Settings            -0.003334            0.056844       0.033820   \n",
       "free Settings                  0.036895            0.045263       0.062175   \n",
       "free Submit Upgrade            0.388606            0.310354       0.368659   \n",
       "free Thumbs Down              -0.004915           -0.040575      -0.031247   \n",
       "free Thumbs Up                 0.070418            0.041898       0.070864   \n",
       "free Upgrade                   0.212998            0.147969       0.187924   \n",
       "paid About                     0.534670            0.666264       0.836338   \n",
       "paid Add Friend                0.603232            0.703650       0.920366   \n",
       "paid Add to Playlist           0.625584            0.732989       0.950672   \n",
       "paid Downgrade                 0.601968            0.688100       0.880675   \n",
       "paid Error                     0.528857            0.630091       0.804503   \n",
       "paid Help                      0.584359            0.702721       0.911830   \n",
       "paid Home                      0.651035            0.761653       0.951004   \n",
       "paid Logout                    0.640423            0.742866       0.938271   \n",
       "paid NextSong                  0.638406            0.745350       0.958557   \n",
       "paid Roll Advert               1.000000            0.534707       0.608032   \n",
       "paid Save Settings             0.534707            1.000000       0.791220   \n",
       "paid Settings                  0.608032            0.791220       1.000000   \n",
       "paid Submit Downgrade          0.278056            0.142858       0.215050   \n",
       "paid Thumbs Down               0.593128            0.689842       0.902533   \n",
       "paid Thumbs Up                 0.599213            0.693337       0.916805   \n",
       "label                          0.071262           -0.086955      -0.050129   \n",
       "\n",
       "level_page             paid Submit Downgrade  paid Thumbs Down  \\\n",
       "level_page                                                       \n",
       "free About                          0.192512          0.004932   \n",
       "free Add Friend                     0.358695          0.102967   \n",
       "free Add to Playlist                0.388142          0.100096   \n",
       "free Error                          0.260684          0.123892   \n",
       "free Help                           0.332156          0.078611   \n",
       "free Home                           0.407299          0.093217   \n",
       "free Logout                         0.361995          0.034441   \n",
       "free NextSong                       0.403767          0.110042   \n",
       "free Roll Advert                    0.409965          0.066319   \n",
       "free Save Settings                  0.174374          0.058658   \n",
       "free Settings                       0.315011          0.119804   \n",
       "free Submit Upgrade                 0.658894          0.412077   \n",
       "free Thumbs Down                    0.373457          0.057046   \n",
       "free Thumbs Up                      0.386291          0.117259   \n",
       "free Upgrade                        0.443600          0.225582   \n",
       "paid About                          0.214850          0.817064   \n",
       "paid Add Friend                     0.220972          0.900597   \n",
       "paid Add to Playlist                0.225352          0.925290   \n",
       "paid Downgrade                      0.308493          0.893240   \n",
       "paid Error                          0.199246          0.779340   \n",
       "paid Help                           0.229132          0.892847   \n",
       "paid Home                           0.250914          0.929087   \n",
       "paid Logout                         0.238012          0.913965   \n",
       "paid NextSong                       0.239593          0.934694   \n",
       "paid Roll Advert                    0.278056          0.593128   \n",
       "paid Save Settings                  0.142858          0.689842   \n",
       "paid Settings                       0.215050          0.902533   \n",
       "paid Submit Downgrade               1.000000          0.258706   \n",
       "paid Thumbs Down                    0.258706          1.000000   \n",
       "paid Thumbs Up                      0.206169          0.881801   \n",
       "label                               0.031600         -0.031593   \n",
       "\n",
       "level_page             paid Thumbs Up     label  \n",
       "level_page                                       \n",
       "free About                  -0.052079  0.012565  \n",
       "free Add Friend              0.032243  0.061114  \n",
       "free Add to Playlist         0.028305  0.038811  \n",
       "free Error                   0.066259  0.044859  \n",
       "free Help                    0.002914  0.026112  \n",
       "free Home                    0.020037  0.037470  \n",
       "free Logout                 -0.036721  0.030023  \n",
       "free NextSong                0.027215  0.050954  \n",
       "free Roll Advert            -0.000211  0.113401  \n",
       "free Save Settings           0.012556  0.006433  \n",
       "free Settings                0.041714  0.077603  \n",
       "free Submit Upgrade          0.340859  0.049921  \n",
       "free Thumbs Down            -0.054525  0.144892  \n",
       "free Thumbs Up               0.063569  0.025962  \n",
       "free Upgrade                 0.189145  0.048920  \n",
       "paid About                   0.833501 -0.077259  \n",
       "paid Add Friend              0.925770 -0.080445  \n",
       "paid Add to Playlist         0.950432 -0.085381  \n",
       "paid Downgrade               0.795419 -0.005069  \n",
       "paid Error                   0.776615 -0.064802  \n",
       "paid Help                    0.896446 -0.059444  \n",
       "paid Home                    0.941042 -0.066522  \n",
       "paid Logout                  0.915415 -0.067362  \n",
       "paid NextSong                0.945674 -0.065319  \n",
       "paid Roll Advert             0.599213  0.071262  \n",
       "paid Save Settings           0.693337 -0.086955  \n",
       "paid Settings                0.916805 -0.050129  \n",
       "paid Submit Downgrade        0.206169  0.031600  \n",
       "paid Thumbs Down             0.881801 -0.031593  \n",
       "paid Thumbs Up               1.000000 -0.081348  \n",
       "label                       -0.081348  1.000000  \n",
       "\n",
       "[31 rows x 31 columns]"
      ]
     },
     "execution_count": 74,
     "metadata": {},
     "output_type": "execute_result"
    }
   ],
   "source": [
    "ndf_corr = ndf.corr()\n",
    "ndf_corr"
   ]
  },
  {
   "cell_type": "code",
   "execution_count": 75,
   "metadata": {
    "execution": {
     "iopub.execute_input": "2021-02-12T23:46:36.663023Z",
     "iopub.status.busy": "2021-02-12T23:46:36.662169Z",
     "iopub.status.idle": "2021-02-12T23:46:36.665726Z",
     "shell.execute_reply": "2021-02-12T23:46:36.665182Z"
    },
    "papermill": {
     "duration": 0.177842,
     "end_time": "2021-02-12T23:46:36.665853",
     "exception": false,
     "start_time": "2021-02-12T23:46:36.488011",
     "status": "completed"
    },
    "tags": []
   },
   "outputs": [],
   "source": [
    "#drop columns that have high correlation that are outside of diagonal. if there is a pair that is close to 1, drop one of the columns.\n",
    "#removing these columns takes care of redundancy and creates stronger predictive power\n",
    "#any that have color close to light diagonal\n",
    "ndf = ndf.drop(columns =['free NextSong', 'paid Home', 'paid Logout', 'paid Add to Playlist'])"
   ]
  },
  {
   "cell_type": "markdown",
   "metadata": {
    "papermill": {
     "duration": 0.168018,
     "end_time": "2021-02-12T23:46:37.043302",
     "exception": false,
     "start_time": "2021-02-12T23:46:36.875284",
     "status": "completed"
    },
    "tags": []
   },
   "source": [
    "Creating new features that have strong correlation to label\n",
    "1. Number of days as free user\n",
    "1. Number of sessions as free user\n",
    "1. Average time spent in session by users\n",
    "1. Average number of songs played per session\n",
    "\n",
    "These are of interest because they seem to be telling differences between free and paid users."
   ]
  },
  {
   "cell_type": "markdown",
   "metadata": {
    "papermill": {
     "duration": 0.166523,
     "end_time": "2021-02-12T23:46:37.376496",
     "exception": false,
     "start_time": "2021-02-12T23:46:37.209973",
     "status": "completed"
    },
    "tags": []
   },
   "source": [
    "### Number days as free user"
   ]
  },
  {
   "cell_type": "code",
   "execution_count": 76,
   "metadata": {
    "execution": {
     "iopub.execute_input": "2021-02-12T23:46:37.832449Z",
     "iopub.status.busy": "2021-02-12T23:46:37.831751Z",
     "iopub.status.idle": "2021-02-12T23:46:38.585081Z",
     "shell.execute_reply": "2021-02-12T23:46:38.585614Z"
    },
    "papermill": {
     "duration": 1.041512,
     "end_time": "2021-02-12T23:46:38.585750",
     "exception": false,
     "start_time": "2021-02-12T23:46:37.544238",
     "status": "completed"
    },
    "tags": []
   },
   "outputs": [
    {
     "data": {
      "text/html": [
       "<div>\n",
       "<style scoped>\n",
       "    .dataframe tbody tr th:only-of-type {\n",
       "        vertical-align: middle;\n",
       "    }\n",
       "\n",
       "    .dataframe tbody tr th {\n",
       "        vertical-align: top;\n",
       "    }\n",
       "\n",
       "    .dataframe thead th {\n",
       "        text-align: right;\n",
       "    }\n",
       "</style>\n",
       "<table border=\"1\" class=\"dataframe\">\n",
       "  <thead>\n",
       "    <tr style=\"text-align: right;\">\n",
       "      <th></th>\n",
       "      <th>userId</th>\n",
       "      <th>Max_date</th>\n",
       "    </tr>\n",
       "  </thead>\n",
       "  <tbody>\n",
       "    <tr>\n",
       "      <th>0</th>\n",
       "      <td>100</td>\n",
       "      <td>2018-10-02</td>\n",
       "    </tr>\n",
       "    <tr>\n",
       "      <th>1</th>\n",
       "      <td>100001</td>\n",
       "      <td>2018-10-02</td>\n",
       "    </tr>\n",
       "    <tr>\n",
       "      <th>2</th>\n",
       "      <td>100002</td>\n",
       "      <td>2018-11-02</td>\n",
       "    </tr>\n",
       "    <tr>\n",
       "      <th>3</th>\n",
       "      <td>100003</td>\n",
       "      <td>2018-10-27</td>\n",
       "    </tr>\n",
       "    <tr>\n",
       "      <th>4</th>\n",
       "      <td>100004</td>\n",
       "      <td>2018-10-14</td>\n",
       "    </tr>\n",
       "    <tr>\n",
       "      <th>...</th>\n",
       "      <td>...</td>\n",
       "      <td>...</td>\n",
       "    </tr>\n",
       "    <tr>\n",
       "      <th>365</th>\n",
       "      <td>93</td>\n",
       "      <td>2018-10-20</td>\n",
       "    </tr>\n",
       "    <tr>\n",
       "      <th>366</th>\n",
       "      <td>94</td>\n",
       "      <td>2018-11-05</td>\n",
       "    </tr>\n",
       "    <tr>\n",
       "      <th>367</th>\n",
       "      <td>97</td>\n",
       "      <td>2018-11-29</td>\n",
       "    </tr>\n",
       "    <tr>\n",
       "      <th>368</th>\n",
       "      <td>98</td>\n",
       "      <td>2018-10-10</td>\n",
       "    </tr>\n",
       "    <tr>\n",
       "      <th>369</th>\n",
       "      <td>99</td>\n",
       "      <td>2018-11-27</td>\n",
       "    </tr>\n",
       "  </tbody>\n",
       "</table>\n",
       "<p>370 rows × 2 columns</p>\n",
       "</div>"
      ],
      "text/plain": [
       "     userId    Max_date\n",
       "0       100  2018-10-02\n",
       "1    100001  2018-10-02\n",
       "2    100002  2018-11-02\n",
       "3    100003  2018-10-27\n",
       "4    100004  2018-10-14\n",
       "..      ...         ...\n",
       "365      93  2018-10-20\n",
       "366      94  2018-11-05\n",
       "367      97  2018-11-29\n",
       "368      98  2018-10-10\n",
       "369      99  2018-11-27\n",
       "\n",
       "[370 rows x 2 columns]"
      ]
     },
     "execution_count": 76,
     "metadata": {},
     "output_type": "execute_result"
    }
   ],
   "source": [
    "free_df = df.loc[df['level'] == 'free']\n",
    "\n",
    "max_date = free_df.groupby('userId')['ts_date'].max().reset_index()\n",
    "max_date.columns = ['userId', 'Max_date']\n",
    "max_date"
   ]
  },
  {
   "cell_type": "code",
   "execution_count": 77,
   "metadata": {
    "execution": {
     "iopub.execute_input": "2021-02-12T23:46:38.940055Z",
     "iopub.status.busy": "2021-02-12T23:46:38.927874Z",
     "iopub.status.idle": "2021-02-12T23:46:39.060227Z",
     "shell.execute_reply": "2021-02-12T23:46:39.060756Z"
    },
    "papermill": {
     "duration": 0.306637,
     "end_time": "2021-02-12T23:46:39.060900",
     "exception": false,
     "start_time": "2021-02-12T23:46:38.754263",
     "status": "completed"
    },
    "tags": []
   },
   "outputs": [
    {
     "data": {
      "text/html": [
       "<div>\n",
       "<style scoped>\n",
       "    .dataframe tbody tr th:only-of-type {\n",
       "        vertical-align: middle;\n",
       "    }\n",
       "\n",
       "    .dataframe tbody tr th {\n",
       "        vertical-align: top;\n",
       "    }\n",
       "\n",
       "    .dataframe thead th {\n",
       "        text-align: right;\n",
       "    }\n",
       "</style>\n",
       "<table border=\"1\" class=\"dataframe\">\n",
       "  <thead>\n",
       "    <tr style=\"text-align: right;\">\n",
       "      <th></th>\n",
       "      <th>userId</th>\n",
       "      <th>Min_date</th>\n",
       "    </tr>\n",
       "  </thead>\n",
       "  <tbody>\n",
       "    <tr>\n",
       "      <th>0</th>\n",
       "      <td>100</td>\n",
       "      <td>2018-10-01</td>\n",
       "    </tr>\n",
       "    <tr>\n",
       "      <th>1</th>\n",
       "      <td>100001</td>\n",
       "      <td>2018-10-01</td>\n",
       "    </tr>\n",
       "    <tr>\n",
       "      <th>2</th>\n",
       "      <td>100002</td>\n",
       "      <td>2018-10-09</td>\n",
       "    </tr>\n",
       "    <tr>\n",
       "      <th>3</th>\n",
       "      <td>100003</td>\n",
       "      <td>2018-10-09</td>\n",
       "    </tr>\n",
       "    <tr>\n",
       "      <th>4</th>\n",
       "      <td>100004</td>\n",
       "      <td>2018-10-03</td>\n",
       "    </tr>\n",
       "    <tr>\n",
       "      <th>...</th>\n",
       "      <td>...</td>\n",
       "      <td>...</td>\n",
       "    </tr>\n",
       "    <tr>\n",
       "      <th>365</th>\n",
       "      <td>93</td>\n",
       "      <td>2018-10-01</td>\n",
       "    </tr>\n",
       "    <tr>\n",
       "      <th>366</th>\n",
       "      <td>94</td>\n",
       "      <td>2018-10-07</td>\n",
       "    </tr>\n",
       "    <tr>\n",
       "      <th>367</th>\n",
       "      <td>97</td>\n",
       "      <td>2018-10-06</td>\n",
       "    </tr>\n",
       "    <tr>\n",
       "      <th>368</th>\n",
       "      <td>98</td>\n",
       "      <td>2018-10-01</td>\n",
       "    </tr>\n",
       "    <tr>\n",
       "      <th>369</th>\n",
       "      <td>99</td>\n",
       "      <td>2018-10-03</td>\n",
       "    </tr>\n",
       "  </tbody>\n",
       "</table>\n",
       "<p>370 rows × 2 columns</p>\n",
       "</div>"
      ],
      "text/plain": [
       "     userId    Min_date\n",
       "0       100  2018-10-01\n",
       "1    100001  2018-10-01\n",
       "2    100002  2018-10-09\n",
       "3    100003  2018-10-09\n",
       "4    100004  2018-10-03\n",
       "..      ...         ...\n",
       "365      93  2018-10-01\n",
       "366      94  2018-10-07\n",
       "367      97  2018-10-06\n",
       "368      98  2018-10-01\n",
       "369      99  2018-10-03\n",
       "\n",
       "[370 rows x 2 columns]"
      ]
     },
     "execution_count": 77,
     "metadata": {},
     "output_type": "execute_result"
    }
   ],
   "source": [
    "#min_date\n",
    "min_date = free_df.groupby('userId')['ts_date'].min().reset_index()\n",
    "min_date.columns = ['userId', 'Min_date']\n",
    "min_date "
   ]
  },
  {
   "cell_type": "code",
   "execution_count": 78,
   "metadata": {
    "execution": {
     "iopub.execute_input": "2021-02-12T23:46:39.404922Z",
     "iopub.status.busy": "2021-02-12T23:46:39.404252Z",
     "iopub.status.idle": "2021-02-12T23:46:39.419044Z",
     "shell.execute_reply": "2021-02-12T23:46:39.419569Z"
    },
    "papermill": {
     "duration": 0.189641,
     "end_time": "2021-02-12T23:46:39.419705",
     "exception": false,
     "start_time": "2021-02-12T23:46:39.230064",
     "status": "completed"
    },
    "tags": []
   },
   "outputs": [
    {
     "data": {
      "text/html": [
       "<div>\n",
       "<style scoped>\n",
       "    .dataframe tbody tr th:only-of-type {\n",
       "        vertical-align: middle;\n",
       "    }\n",
       "\n",
       "    .dataframe tbody tr th {\n",
       "        vertical-align: top;\n",
       "    }\n",
       "\n",
       "    .dataframe thead th {\n",
       "        text-align: right;\n",
       "    }\n",
       "</style>\n",
       "<table border=\"1\" class=\"dataframe\">\n",
       "  <thead>\n",
       "    <tr style=\"text-align: right;\">\n",
       "      <th></th>\n",
       "      <th>userId</th>\n",
       "      <th>Max_date</th>\n",
       "      <th>Min_date</th>\n",
       "    </tr>\n",
       "  </thead>\n",
       "  <tbody>\n",
       "    <tr>\n",
       "      <th>0</th>\n",
       "      <td>100</td>\n",
       "      <td>2018-10-02</td>\n",
       "      <td>2018-10-01</td>\n",
       "    </tr>\n",
       "    <tr>\n",
       "      <th>1</th>\n",
       "      <td>100001</td>\n",
       "      <td>2018-10-02</td>\n",
       "      <td>2018-10-01</td>\n",
       "    </tr>\n",
       "    <tr>\n",
       "      <th>2</th>\n",
       "      <td>100002</td>\n",
       "      <td>2018-11-02</td>\n",
       "      <td>2018-10-09</td>\n",
       "    </tr>\n",
       "    <tr>\n",
       "      <th>3</th>\n",
       "      <td>100003</td>\n",
       "      <td>2018-10-27</td>\n",
       "      <td>2018-10-09</td>\n",
       "    </tr>\n",
       "    <tr>\n",
       "      <th>4</th>\n",
       "      <td>100004</td>\n",
       "      <td>2018-10-14</td>\n",
       "      <td>2018-10-03</td>\n",
       "    </tr>\n",
       "    <tr>\n",
       "      <th>...</th>\n",
       "      <td>...</td>\n",
       "      <td>...</td>\n",
       "      <td>...</td>\n",
       "    </tr>\n",
       "    <tr>\n",
       "      <th>365</th>\n",
       "      <td>93</td>\n",
       "      <td>2018-10-20</td>\n",
       "      <td>2018-10-01</td>\n",
       "    </tr>\n",
       "    <tr>\n",
       "      <th>366</th>\n",
       "      <td>94</td>\n",
       "      <td>2018-11-05</td>\n",
       "      <td>2018-10-07</td>\n",
       "    </tr>\n",
       "    <tr>\n",
       "      <th>367</th>\n",
       "      <td>97</td>\n",
       "      <td>2018-11-29</td>\n",
       "      <td>2018-10-06</td>\n",
       "    </tr>\n",
       "    <tr>\n",
       "      <th>368</th>\n",
       "      <td>98</td>\n",
       "      <td>2018-10-10</td>\n",
       "      <td>2018-10-01</td>\n",
       "    </tr>\n",
       "    <tr>\n",
       "      <th>369</th>\n",
       "      <td>99</td>\n",
       "      <td>2018-11-27</td>\n",
       "      <td>2018-10-03</td>\n",
       "    </tr>\n",
       "  </tbody>\n",
       "</table>\n",
       "<p>370 rows × 3 columns</p>\n",
       "</div>"
      ],
      "text/plain": [
       "     userId    Max_date    Min_date\n",
       "0       100  2018-10-02  2018-10-01\n",
       "1    100001  2018-10-02  2018-10-01\n",
       "2    100002  2018-11-02  2018-10-09\n",
       "3    100003  2018-10-27  2018-10-09\n",
       "4    100004  2018-10-14  2018-10-03\n",
       "..      ...         ...         ...\n",
       "365      93  2018-10-20  2018-10-01\n",
       "366      94  2018-11-05  2018-10-07\n",
       "367      97  2018-11-29  2018-10-06\n",
       "368      98  2018-10-10  2018-10-01\n",
       "369      99  2018-11-27  2018-10-03\n",
       "\n",
       "[370 rows x 3 columns]"
      ]
     },
     "execution_count": 78,
     "metadata": {},
     "output_type": "execute_result"
    }
   ],
   "source": [
    "#datediff's\n",
    "dates = pd.merge(max_date,min_date, on=\"userId\")\n",
    "dates"
   ]
  },
  {
   "cell_type": "code",
   "execution_count": 79,
   "metadata": {
    "execution": {
     "iopub.execute_input": "2021-02-12T23:46:39.768758Z",
     "iopub.status.busy": "2021-02-12T23:46:39.768043Z",
     "iopub.status.idle": "2021-02-12T23:46:39.788663Z",
     "shell.execute_reply": "2021-02-12T23:46:39.787958Z"
    },
    "papermill": {
     "duration": 0.199355,
     "end_time": "2021-02-12T23:46:39.788777",
     "exception": false,
     "start_time": "2021-02-12T23:46:39.589422",
     "status": "completed"
    },
    "tags": []
   },
   "outputs": [
    {
     "data": {
      "text/html": [
       "<div>\n",
       "<style scoped>\n",
       "    .dataframe tbody tr th:only-of-type {\n",
       "        vertical-align: middle;\n",
       "    }\n",
       "\n",
       "    .dataframe tbody tr th {\n",
       "        vertical-align: top;\n",
       "    }\n",
       "\n",
       "    .dataframe thead th {\n",
       "        text-align: right;\n",
       "    }\n",
       "</style>\n",
       "<table border=\"1\" class=\"dataframe\">\n",
       "  <thead>\n",
       "    <tr style=\"text-align: right;\">\n",
       "      <th></th>\n",
       "      <th>userId</th>\n",
       "      <th>Max_date</th>\n",
       "      <th>Min_date</th>\n",
       "      <th>days_free</th>\n",
       "    </tr>\n",
       "  </thead>\n",
       "  <tbody>\n",
       "    <tr>\n",
       "      <th>0</th>\n",
       "      <td>100</td>\n",
       "      <td>2018-10-02</td>\n",
       "      <td>2018-10-01</td>\n",
       "      <td>1</td>\n",
       "    </tr>\n",
       "    <tr>\n",
       "      <th>1</th>\n",
       "      <td>100001</td>\n",
       "      <td>2018-10-02</td>\n",
       "      <td>2018-10-01</td>\n",
       "      <td>1</td>\n",
       "    </tr>\n",
       "    <tr>\n",
       "      <th>2</th>\n",
       "      <td>100002</td>\n",
       "      <td>2018-11-02</td>\n",
       "      <td>2018-10-09</td>\n",
       "      <td>24</td>\n",
       "    </tr>\n",
       "    <tr>\n",
       "      <th>3</th>\n",
       "      <td>100003</td>\n",
       "      <td>2018-10-27</td>\n",
       "      <td>2018-10-09</td>\n",
       "      <td>18</td>\n",
       "    </tr>\n",
       "    <tr>\n",
       "      <th>4</th>\n",
       "      <td>100004</td>\n",
       "      <td>2018-10-14</td>\n",
       "      <td>2018-10-03</td>\n",
       "      <td>11</td>\n",
       "    </tr>\n",
       "    <tr>\n",
       "      <th>...</th>\n",
       "      <td>...</td>\n",
       "      <td>...</td>\n",
       "      <td>...</td>\n",
       "      <td>...</td>\n",
       "    </tr>\n",
       "    <tr>\n",
       "      <th>365</th>\n",
       "      <td>93</td>\n",
       "      <td>2018-10-20</td>\n",
       "      <td>2018-10-01</td>\n",
       "      <td>19</td>\n",
       "    </tr>\n",
       "    <tr>\n",
       "      <th>366</th>\n",
       "      <td>94</td>\n",
       "      <td>2018-11-05</td>\n",
       "      <td>2018-10-07</td>\n",
       "      <td>29</td>\n",
       "    </tr>\n",
       "    <tr>\n",
       "      <th>367</th>\n",
       "      <td>97</td>\n",
       "      <td>2018-11-29</td>\n",
       "      <td>2018-10-06</td>\n",
       "      <td>54</td>\n",
       "    </tr>\n",
       "    <tr>\n",
       "      <th>368</th>\n",
       "      <td>98</td>\n",
       "      <td>2018-10-10</td>\n",
       "      <td>2018-10-01</td>\n",
       "      <td>9</td>\n",
       "    </tr>\n",
       "    <tr>\n",
       "      <th>369</th>\n",
       "      <td>99</td>\n",
       "      <td>2018-11-27</td>\n",
       "      <td>2018-10-03</td>\n",
       "      <td>55</td>\n",
       "    </tr>\n",
       "  </tbody>\n",
       "</table>\n",
       "<p>370 rows × 4 columns</p>\n",
       "</div>"
      ],
      "text/plain": [
       "     userId   Max_date   Min_date  days_free\n",
       "0       100 2018-10-02 2018-10-01          1\n",
       "1    100001 2018-10-02 2018-10-01          1\n",
       "2    100002 2018-11-02 2018-10-09         24\n",
       "3    100003 2018-10-27 2018-10-09         18\n",
       "4    100004 2018-10-14 2018-10-03         11\n",
       "..      ...        ...        ...        ...\n",
       "365      93 2018-10-20 2018-10-01         19\n",
       "366      94 2018-11-05 2018-10-07         29\n",
       "367      97 2018-11-29 2018-10-06         54\n",
       "368      98 2018-10-10 2018-10-01          9\n",
       "369      99 2018-11-27 2018-10-03         55\n",
       "\n",
       "[370 rows x 4 columns]"
      ]
     },
     "execution_count": 79,
     "metadata": {},
     "output_type": "execute_result"
    }
   ],
   "source": [
    "dates[['Max_date','Min_date']] = dates[['Max_date','Min_date']].apply(pd.to_datetime) \n",
    "dates['days_free'] = (dates['Max_date'] - dates['Min_date']).dt.days\n",
    "dates"
   ]
  },
  {
   "cell_type": "code",
   "execution_count": 80,
   "metadata": {
    "execution": {
     "iopub.execute_input": "2021-02-12T23:46:40.134814Z",
     "iopub.status.busy": "2021-02-12T23:46:40.134162Z",
     "iopub.status.idle": "2021-02-12T23:46:40.164489Z",
     "shell.execute_reply": "2021-02-12T23:46:40.164958Z"
    },
    "papermill": {
     "duration": 0.206894,
     "end_time": "2021-02-12T23:46:40.165127",
     "exception": false,
     "start_time": "2021-02-12T23:46:39.958233",
     "status": "completed"
    },
    "tags": []
   },
   "outputs": [
    {
     "data": {
      "text/html": [
       "<div>\n",
       "<style scoped>\n",
       "    .dataframe tbody tr th:only-of-type {\n",
       "        vertical-align: middle;\n",
       "    }\n",
       "\n",
       "    .dataframe tbody tr th {\n",
       "        vertical-align: top;\n",
       "    }\n",
       "\n",
       "    .dataframe thead th {\n",
       "        text-align: right;\n",
       "    }\n",
       "</style>\n",
       "<table border=\"1\" class=\"dataframe\">\n",
       "  <thead>\n",
       "    <tr style=\"text-align: right;\">\n",
       "      <th></th>\n",
       "      <th>userId</th>\n",
       "      <th>free About</th>\n",
       "      <th>free Add Friend</th>\n",
       "      <th>free Add to Playlist</th>\n",
       "      <th>free Error</th>\n",
       "      <th>free Help</th>\n",
       "      <th>free Home</th>\n",
       "      <th>free Logout</th>\n",
       "      <th>free Roll Advert</th>\n",
       "      <th>free Save Settings</th>\n",
       "      <th>...</th>\n",
       "      <th>paid Help</th>\n",
       "      <th>paid NextSong</th>\n",
       "      <th>paid Roll Advert</th>\n",
       "      <th>paid Save Settings</th>\n",
       "      <th>paid Settings</th>\n",
       "      <th>paid Submit Downgrade</th>\n",
       "      <th>paid Thumbs Down</th>\n",
       "      <th>paid Thumbs Up</th>\n",
       "      <th>label</th>\n",
       "      <th>days_free</th>\n",
       "    </tr>\n",
       "  </thead>\n",
       "  <tbody>\n",
       "    <tr>\n",
       "      <th>0</th>\n",
       "      <td>10</td>\n",
       "      <td>0</td>\n",
       "      <td>0</td>\n",
       "      <td>0</td>\n",
       "      <td>0</td>\n",
       "      <td>0</td>\n",
       "      <td>0</td>\n",
       "      <td>0</td>\n",
       "      <td>0</td>\n",
       "      <td>0</td>\n",
       "      <td>...</td>\n",
       "      <td>3</td>\n",
       "      <td>360</td>\n",
       "      <td>0</td>\n",
       "      <td>0</td>\n",
       "      <td>2</td>\n",
       "      <td>0</td>\n",
       "      <td>1</td>\n",
       "      <td>17</td>\n",
       "      <td>1</td>\n",
       "      <td>NaN</td>\n",
       "    </tr>\n",
       "    <tr>\n",
       "      <th>1</th>\n",
       "      <td>100</td>\n",
       "      <td>0</td>\n",
       "      <td>0</td>\n",
       "      <td>2</td>\n",
       "      <td>0</td>\n",
       "      <td>0</td>\n",
       "      <td>3</td>\n",
       "      <td>1</td>\n",
       "      <td>5</td>\n",
       "      <td>0</td>\n",
       "      <td>...</td>\n",
       "      <td>17</td>\n",
       "      <td>3336</td>\n",
       "      <td>3</td>\n",
       "      <td>2</td>\n",
       "      <td>17</td>\n",
       "      <td>0</td>\n",
       "      <td>37</td>\n",
       "      <td>142</td>\n",
       "      <td>0</td>\n",
       "      <td>1.0</td>\n",
       "    </tr>\n",
       "    <tr>\n",
       "      <th>2</th>\n",
       "      <td>100001</td>\n",
       "      <td>1</td>\n",
       "      <td>1</td>\n",
       "      <td>3</td>\n",
       "      <td>0</td>\n",
       "      <td>1</td>\n",
       "      <td>4</td>\n",
       "      <td>2</td>\n",
       "      <td>13</td>\n",
       "      <td>0</td>\n",
       "      <td>...</td>\n",
       "      <td>0</td>\n",
       "      <td>0</td>\n",
       "      <td>0</td>\n",
       "      <td>0</td>\n",
       "      <td>0</td>\n",
       "      <td>0</td>\n",
       "      <td>0</td>\n",
       "      <td>0</td>\n",
       "      <td>1</td>\n",
       "      <td>1.0</td>\n",
       "    </tr>\n",
       "    <tr>\n",
       "      <th>3</th>\n",
       "      <td>100002</td>\n",
       "      <td>0</td>\n",
       "      <td>0</td>\n",
       "      <td>1</td>\n",
       "      <td>0</td>\n",
       "      <td>1</td>\n",
       "      <td>5</td>\n",
       "      <td>2</td>\n",
       "      <td>5</td>\n",
       "      <td>0</td>\n",
       "      <td>...</td>\n",
       "      <td>1</td>\n",
       "      <td>113</td>\n",
       "      <td>0</td>\n",
       "      <td>0</td>\n",
       "      <td>0</td>\n",
       "      <td>1</td>\n",
       "      <td>2</td>\n",
       "      <td>5</td>\n",
       "      <td>0</td>\n",
       "      <td>24.0</td>\n",
       "    </tr>\n",
       "    <tr>\n",
       "      <th>4</th>\n",
       "      <td>100003</td>\n",
       "      <td>0</td>\n",
       "      <td>6</td>\n",
       "      <td>6</td>\n",
       "      <td>1</td>\n",
       "      <td>1</td>\n",
       "      <td>10</td>\n",
       "      <td>4</td>\n",
       "      <td>37</td>\n",
       "      <td>0</td>\n",
       "      <td>...</td>\n",
       "      <td>2</td>\n",
       "      <td>430</td>\n",
       "      <td>4</td>\n",
       "      <td>1</td>\n",
       "      <td>3</td>\n",
       "      <td>0</td>\n",
       "      <td>3</td>\n",
       "      <td>10</td>\n",
       "      <td>1</td>\n",
       "      <td>18.0</td>\n",
       "    </tr>\n",
       "    <tr>\n",
       "      <th>...</th>\n",
       "      <td>...</td>\n",
       "      <td>...</td>\n",
       "      <td>...</td>\n",
       "      <td>...</td>\n",
       "      <td>...</td>\n",
       "      <td>...</td>\n",
       "      <td>...</td>\n",
       "      <td>...</td>\n",
       "      <td>...</td>\n",
       "      <td>...</td>\n",
       "      <td>...</td>\n",
       "      <td>...</td>\n",
       "      <td>...</td>\n",
       "      <td>...</td>\n",
       "      <td>...</td>\n",
       "      <td>...</td>\n",
       "      <td>...</td>\n",
       "      <td>...</td>\n",
       "      <td>...</td>\n",
       "      <td>...</td>\n",
       "      <td>...</td>\n",
       "    </tr>\n",
       "    <tr>\n",
       "      <th>443</th>\n",
       "      <td>95</td>\n",
       "      <td>0</td>\n",
       "      <td>0</td>\n",
       "      <td>0</td>\n",
       "      <td>0</td>\n",
       "      <td>0</td>\n",
       "      <td>0</td>\n",
       "      <td>0</td>\n",
       "      <td>0</td>\n",
       "      <td>0</td>\n",
       "      <td>...</td>\n",
       "      <td>11</td>\n",
       "      <td>2062</td>\n",
       "      <td>4</td>\n",
       "      <td>5</td>\n",
       "      <td>16</td>\n",
       "      <td>0</td>\n",
       "      <td>21</td>\n",
       "      <td>122</td>\n",
       "      <td>0</td>\n",
       "      <td>NaN</td>\n",
       "    </tr>\n",
       "    <tr>\n",
       "      <th>444</th>\n",
       "      <td>96</td>\n",
       "      <td>0</td>\n",
       "      <td>0</td>\n",
       "      <td>0</td>\n",
       "      <td>0</td>\n",
       "      <td>0</td>\n",
       "      <td>0</td>\n",
       "      <td>0</td>\n",
       "      <td>0</td>\n",
       "      <td>0</td>\n",
       "      <td>...</td>\n",
       "      <td>11</td>\n",
       "      <td>1950</td>\n",
       "      <td>3</td>\n",
       "      <td>3</td>\n",
       "      <td>8</td>\n",
       "      <td>0</td>\n",
       "      <td>20</td>\n",
       "      <td>78</td>\n",
       "      <td>0</td>\n",
       "      <td>NaN</td>\n",
       "    </tr>\n",
       "    <tr>\n",
       "      <th>445</th>\n",
       "      <td>97</td>\n",
       "      <td>6</td>\n",
       "      <td>23</td>\n",
       "      <td>31</td>\n",
       "      <td>2</td>\n",
       "      <td>9</td>\n",
       "      <td>73</td>\n",
       "      <td>17</td>\n",
       "      <td>96</td>\n",
       "      <td>4</td>\n",
       "      <td>...</td>\n",
       "      <td>1</td>\n",
       "      <td>55</td>\n",
       "      <td>0</td>\n",
       "      <td>0</td>\n",
       "      <td>0</td>\n",
       "      <td>0</td>\n",
       "      <td>1</td>\n",
       "      <td>4</td>\n",
       "      <td>0</td>\n",
       "      <td>54.0</td>\n",
       "    </tr>\n",
       "    <tr>\n",
       "      <th>446</th>\n",
       "      <td>98</td>\n",
       "      <td>0</td>\n",
       "      <td>2</td>\n",
       "      <td>2</td>\n",
       "      <td>0</td>\n",
       "      <td>1</td>\n",
       "      <td>5</td>\n",
       "      <td>2</td>\n",
       "      <td>3</td>\n",
       "      <td>1</td>\n",
       "      <td>...</td>\n",
       "      <td>17</td>\n",
       "      <td>2648</td>\n",
       "      <td>4</td>\n",
       "      <td>7</td>\n",
       "      <td>16</td>\n",
       "      <td>0</td>\n",
       "      <td>31</td>\n",
       "      <td>129</td>\n",
       "      <td>0</td>\n",
       "      <td>9.0</td>\n",
       "    </tr>\n",
       "    <tr>\n",
       "      <th>447</th>\n",
       "      <td>99</td>\n",
       "      <td>1</td>\n",
       "      <td>14</td>\n",
       "      <td>6</td>\n",
       "      <td>0</td>\n",
       "      <td>3</td>\n",
       "      <td>14</td>\n",
       "      <td>6</td>\n",
       "      <td>27</td>\n",
       "      <td>0</td>\n",
       "      <td>...</td>\n",
       "      <td>2</td>\n",
       "      <td>670</td>\n",
       "      <td>0</td>\n",
       "      <td>0</td>\n",
       "      <td>4</td>\n",
       "      <td>1</td>\n",
       "      <td>6</td>\n",
       "      <td>27</td>\n",
       "      <td>0</td>\n",
       "      <td>55.0</td>\n",
       "    </tr>\n",
       "  </tbody>\n",
       "</table>\n",
       "<p>448 rows × 29 columns</p>\n",
       "</div>"
      ],
      "text/plain": [
       "     userId  free About  free Add Friend  free Add to Playlist  free Error  \\\n",
       "0        10           0                0                     0           0   \n",
       "1       100           0                0                     2           0   \n",
       "2    100001           1                1                     3           0   \n",
       "3    100002           0                0                     1           0   \n",
       "4    100003           0                6                     6           1   \n",
       "..      ...         ...              ...                   ...         ...   \n",
       "443      95           0                0                     0           0   \n",
       "444      96           0                0                     0           0   \n",
       "445      97           6               23                    31           2   \n",
       "446      98           0                2                     2           0   \n",
       "447      99           1               14                     6           0   \n",
       "\n",
       "     free Help  free Home  free Logout  free Roll Advert  free Save Settings  \\\n",
       "0            0          0            0                 0                   0   \n",
       "1            0          3            1                 5                   0   \n",
       "2            1          4            2                13                   0   \n",
       "3            1          5            2                 5                   0   \n",
       "4            1         10            4                37                   0   \n",
       "..         ...        ...          ...               ...                 ...   \n",
       "443          0          0            0                 0                   0   \n",
       "444          0          0            0                 0                   0   \n",
       "445          9         73           17                96                   4   \n",
       "446          1          5            2                 3                   1   \n",
       "447          3         14            6                27                   0   \n",
       "\n",
       "     ...  paid Help  paid NextSong  paid Roll Advert  paid Save Settings  \\\n",
       "0    ...          3            360                 0                   0   \n",
       "1    ...         17           3336                 3                   2   \n",
       "2    ...          0              0                 0                   0   \n",
       "3    ...          1            113                 0                   0   \n",
       "4    ...          2            430                 4                   1   \n",
       "..   ...        ...            ...               ...                 ...   \n",
       "443  ...         11           2062                 4                   5   \n",
       "444  ...         11           1950                 3                   3   \n",
       "445  ...          1             55                 0                   0   \n",
       "446  ...         17           2648                 4                   7   \n",
       "447  ...          2            670                 0                   0   \n",
       "\n",
       "     paid Settings  paid Submit Downgrade  paid Thumbs Down  paid Thumbs Up  \\\n",
       "0                2                      0                 1              17   \n",
       "1               17                      0                37             142   \n",
       "2                0                      0                 0               0   \n",
       "3                0                      1                 2               5   \n",
       "4                3                      0                 3              10   \n",
       "..             ...                    ...               ...             ...   \n",
       "443             16                      0                21             122   \n",
       "444              8                      0                20              78   \n",
       "445              0                      0                 1               4   \n",
       "446             16                      0                31             129   \n",
       "447              4                      1                 6              27   \n",
       "\n",
       "     label  days_free  \n",
       "0        1        NaN  \n",
       "1        0        1.0  \n",
       "2        1        1.0  \n",
       "3        0       24.0  \n",
       "4        1       18.0  \n",
       "..     ...        ...  \n",
       "443      0        NaN  \n",
       "444      0        NaN  \n",
       "445      0       54.0  \n",
       "446      0        9.0  \n",
       "447      0       55.0  \n",
       "\n",
       "[448 rows x 29 columns]"
      ]
     },
     "execution_count": 80,
     "metadata": {},
     "output_type": "execute_result"
    }
   ],
   "source": [
    "#left join ndf with this df.days_free on userId\n",
    "days_free = pd.merge(ndf, dates, on=\"userId\", how=\"left\")\n",
    "days_free = days_free.drop(columns = ['Max_date', 'Min_date'])\n",
    "days_free"
   ]
  },
  {
   "cell_type": "code",
   "execution_count": 81,
   "metadata": {
    "execution": {
     "iopub.execute_input": "2021-02-12T23:46:40.511745Z",
     "iopub.status.busy": "2021-02-12T23:46:40.511081Z",
     "iopub.status.idle": "2021-02-12T23:46:40.514579Z",
     "shell.execute_reply": "2021-02-12T23:46:40.515079Z"
    },
    "papermill": {
     "duration": 0.180395,
     "end_time": "2021-02-12T23:46:40.515231",
     "exception": false,
     "start_time": "2021-02-12T23:46:40.334836",
     "status": "completed"
    },
    "tags": []
   },
   "outputs": [
    {
     "data": {
      "text/plain": [
       "78"
      ]
     },
     "execution_count": 81,
     "metadata": {},
     "output_type": "execute_result"
    }
   ],
   "source": [
    "#sanity check (null should be 448-370=78)\n",
    "days_free.days_free.isnull().sum()"
   ]
  },
  {
   "cell_type": "markdown",
   "metadata": {
    "papermill": {
     "duration": 0.173667,
     "end_time": "2021-02-12T23:46:40.862931",
     "exception": false,
     "start_time": "2021-02-12T23:46:40.689264",
     "status": "completed"
    },
    "tags": []
   },
   "source": [
    "### Sessions as free user"
   ]
  },
  {
   "cell_type": "code",
   "execution_count": 82,
   "metadata": {
    "execution": {
     "iopub.execute_input": "2021-02-12T23:46:41.210775Z",
     "iopub.status.busy": "2021-02-12T23:46:41.210156Z",
     "iopub.status.idle": "2021-02-12T23:46:41.270183Z",
     "shell.execute_reply": "2021-02-12T23:46:41.269478Z"
    },
    "papermill": {
     "duration": 0.235017,
     "end_time": "2021-02-12T23:46:41.270298",
     "exception": false,
     "start_time": "2021-02-12T23:46:41.035281",
     "status": "completed"
    },
    "tags": []
   },
   "outputs": [
    {
     "data": {
      "text/html": [
       "<div>\n",
       "<style scoped>\n",
       "    .dataframe tbody tr th:only-of-type {\n",
       "        vertical-align: middle;\n",
       "    }\n",
       "\n",
       "    .dataframe tbody tr th {\n",
       "        vertical-align: top;\n",
       "    }\n",
       "\n",
       "    .dataframe thead th {\n",
       "        text-align: right;\n",
       "    }\n",
       "</style>\n",
       "<table border=\"1\" class=\"dataframe\">\n",
       "  <thead>\n",
       "    <tr style=\"text-align: right;\">\n",
       "      <th></th>\n",
       "      <th>userId</th>\n",
       "      <th>dist_sessions_ct</th>\n",
       "    </tr>\n",
       "  </thead>\n",
       "  <tbody>\n",
       "    <tr>\n",
       "      <th>0</th>\n",
       "      <td>100</td>\n",
       "      <td>2</td>\n",
       "    </tr>\n",
       "    <tr>\n",
       "      <th>1</th>\n",
       "      <td>100001</td>\n",
       "      <td>3</td>\n",
       "    </tr>\n",
       "    <tr>\n",
       "      <th>2</th>\n",
       "      <td>100002</td>\n",
       "      <td>3</td>\n",
       "    </tr>\n",
       "    <tr>\n",
       "      <th>3</th>\n",
       "      <td>100003</td>\n",
       "      <td>5</td>\n",
       "    </tr>\n",
       "    <tr>\n",
       "      <th>4</th>\n",
       "      <td>100004</td>\n",
       "      <td>5</td>\n",
       "    </tr>\n",
       "    <tr>\n",
       "      <th>...</th>\n",
       "      <td>...</td>\n",
       "      <td>...</td>\n",
       "    </tr>\n",
       "    <tr>\n",
       "      <th>365</th>\n",
       "      <td>93</td>\n",
       "      <td>4</td>\n",
       "    </tr>\n",
       "    <tr>\n",
       "      <th>366</th>\n",
       "      <td>94</td>\n",
       "      <td>6</td>\n",
       "    </tr>\n",
       "    <tr>\n",
       "      <th>367</th>\n",
       "      <td>97</td>\n",
       "      <td>29</td>\n",
       "    </tr>\n",
       "    <tr>\n",
       "      <th>368</th>\n",
       "      <td>98</td>\n",
       "      <td>6</td>\n",
       "    </tr>\n",
       "    <tr>\n",
       "      <th>369</th>\n",
       "      <td>99</td>\n",
       "      <td>10</td>\n",
       "    </tr>\n",
       "  </tbody>\n",
       "</table>\n",
       "<p>370 rows × 2 columns</p>\n",
       "</div>"
      ],
      "text/plain": [
       "     userId  dist_sessions_ct\n",
       "0       100                 2\n",
       "1    100001                 3\n",
       "2    100002                 3\n",
       "3    100003                 5\n",
       "4    100004                 5\n",
       "..      ...               ...\n",
       "365      93                 4\n",
       "366      94                 6\n",
       "367      97                29\n",
       "368      98                 6\n",
       "369      99                10\n",
       "\n",
       "[370 rows x 2 columns]"
      ]
     },
     "execution_count": 82,
     "metadata": {},
     "output_type": "execute_result"
    }
   ],
   "source": [
    "sessions_free= free_df.groupby('userId').agg({'sessionId': 'count', 'sessionId': 'nunique'}).reset_index()\n",
    "sessions_free.columns = ['userId', 'dist_sessions_ct']\n",
    "sessions_free"
   ]
  },
  {
   "cell_type": "code",
   "execution_count": 83,
   "metadata": {
    "execution": {
     "iopub.execute_input": "2021-02-12T23:46:41.629854Z",
     "iopub.status.busy": "2021-02-12T23:46:41.628858Z",
     "iopub.status.idle": "2021-02-12T23:46:41.655067Z",
     "shell.execute_reply": "2021-02-12T23:46:41.655555Z"
    },
    "papermill": {
     "duration": 0.211861,
     "end_time": "2021-02-12T23:46:41.655713",
     "exception": false,
     "start_time": "2021-02-12T23:46:41.443852",
     "status": "completed"
    },
    "tags": []
   },
   "outputs": [
    {
     "data": {
      "text/html": [
       "<div>\n",
       "<style scoped>\n",
       "    .dataframe tbody tr th:only-of-type {\n",
       "        vertical-align: middle;\n",
       "    }\n",
       "\n",
       "    .dataframe tbody tr th {\n",
       "        vertical-align: top;\n",
       "    }\n",
       "\n",
       "    .dataframe thead th {\n",
       "        text-align: right;\n",
       "    }\n",
       "</style>\n",
       "<table border=\"1\" class=\"dataframe\">\n",
       "  <thead>\n",
       "    <tr style=\"text-align: right;\">\n",
       "      <th></th>\n",
       "      <th>userId</th>\n",
       "      <th>free About</th>\n",
       "      <th>free Add Friend</th>\n",
       "      <th>free Add to Playlist</th>\n",
       "      <th>free Error</th>\n",
       "      <th>free Help</th>\n",
       "      <th>free Home</th>\n",
       "      <th>free Logout</th>\n",
       "      <th>free Roll Advert</th>\n",
       "      <th>free Save Settings</th>\n",
       "      <th>...</th>\n",
       "      <th>paid NextSong</th>\n",
       "      <th>paid Roll Advert</th>\n",
       "      <th>paid Save Settings</th>\n",
       "      <th>paid Settings</th>\n",
       "      <th>paid Submit Downgrade</th>\n",
       "      <th>paid Thumbs Down</th>\n",
       "      <th>paid Thumbs Up</th>\n",
       "      <th>label</th>\n",
       "      <th>days_free</th>\n",
       "      <th>dist_sessions_ct</th>\n",
       "    </tr>\n",
       "  </thead>\n",
       "  <tbody>\n",
       "    <tr>\n",
       "      <th>0</th>\n",
       "      <td>10</td>\n",
       "      <td>0</td>\n",
       "      <td>0</td>\n",
       "      <td>0</td>\n",
       "      <td>0</td>\n",
       "      <td>0</td>\n",
       "      <td>0</td>\n",
       "      <td>0</td>\n",
       "      <td>0</td>\n",
       "      <td>0</td>\n",
       "      <td>...</td>\n",
       "      <td>360</td>\n",
       "      <td>0</td>\n",
       "      <td>0</td>\n",
       "      <td>2</td>\n",
       "      <td>0</td>\n",
       "      <td>1</td>\n",
       "      <td>17</td>\n",
       "      <td>1</td>\n",
       "      <td>NaN</td>\n",
       "      <td>NaN</td>\n",
       "    </tr>\n",
       "    <tr>\n",
       "      <th>1</th>\n",
       "      <td>100</td>\n",
       "      <td>0</td>\n",
       "      <td>0</td>\n",
       "      <td>2</td>\n",
       "      <td>0</td>\n",
       "      <td>0</td>\n",
       "      <td>3</td>\n",
       "      <td>1</td>\n",
       "      <td>5</td>\n",
       "      <td>0</td>\n",
       "      <td>...</td>\n",
       "      <td>3336</td>\n",
       "      <td>3</td>\n",
       "      <td>2</td>\n",
       "      <td>17</td>\n",
       "      <td>0</td>\n",
       "      <td>37</td>\n",
       "      <td>142</td>\n",
       "      <td>0</td>\n",
       "      <td>1.0</td>\n",
       "      <td>2.0</td>\n",
       "    </tr>\n",
       "    <tr>\n",
       "      <th>2</th>\n",
       "      <td>100001</td>\n",
       "      <td>1</td>\n",
       "      <td>1</td>\n",
       "      <td>3</td>\n",
       "      <td>0</td>\n",
       "      <td>1</td>\n",
       "      <td>4</td>\n",
       "      <td>2</td>\n",
       "      <td>13</td>\n",
       "      <td>0</td>\n",
       "      <td>...</td>\n",
       "      <td>0</td>\n",
       "      <td>0</td>\n",
       "      <td>0</td>\n",
       "      <td>0</td>\n",
       "      <td>0</td>\n",
       "      <td>0</td>\n",
       "      <td>0</td>\n",
       "      <td>1</td>\n",
       "      <td>1.0</td>\n",
       "      <td>3.0</td>\n",
       "    </tr>\n",
       "    <tr>\n",
       "      <th>3</th>\n",
       "      <td>100002</td>\n",
       "      <td>0</td>\n",
       "      <td>0</td>\n",
       "      <td>1</td>\n",
       "      <td>0</td>\n",
       "      <td>1</td>\n",
       "      <td>5</td>\n",
       "      <td>2</td>\n",
       "      <td>5</td>\n",
       "      <td>0</td>\n",
       "      <td>...</td>\n",
       "      <td>113</td>\n",
       "      <td>0</td>\n",
       "      <td>0</td>\n",
       "      <td>0</td>\n",
       "      <td>1</td>\n",
       "      <td>2</td>\n",
       "      <td>5</td>\n",
       "      <td>0</td>\n",
       "      <td>24.0</td>\n",
       "      <td>3.0</td>\n",
       "    </tr>\n",
       "    <tr>\n",
       "      <th>4</th>\n",
       "      <td>100003</td>\n",
       "      <td>0</td>\n",
       "      <td>6</td>\n",
       "      <td>6</td>\n",
       "      <td>1</td>\n",
       "      <td>1</td>\n",
       "      <td>10</td>\n",
       "      <td>4</td>\n",
       "      <td>37</td>\n",
       "      <td>0</td>\n",
       "      <td>...</td>\n",
       "      <td>430</td>\n",
       "      <td>4</td>\n",
       "      <td>1</td>\n",
       "      <td>3</td>\n",
       "      <td>0</td>\n",
       "      <td>3</td>\n",
       "      <td>10</td>\n",
       "      <td>1</td>\n",
       "      <td>18.0</td>\n",
       "      <td>5.0</td>\n",
       "    </tr>\n",
       "    <tr>\n",
       "      <th>...</th>\n",
       "      <td>...</td>\n",
       "      <td>...</td>\n",
       "      <td>...</td>\n",
       "      <td>...</td>\n",
       "      <td>...</td>\n",
       "      <td>...</td>\n",
       "      <td>...</td>\n",
       "      <td>...</td>\n",
       "      <td>...</td>\n",
       "      <td>...</td>\n",
       "      <td>...</td>\n",
       "      <td>...</td>\n",
       "      <td>...</td>\n",
       "      <td>...</td>\n",
       "      <td>...</td>\n",
       "      <td>...</td>\n",
       "      <td>...</td>\n",
       "      <td>...</td>\n",
       "      <td>...</td>\n",
       "      <td>...</td>\n",
       "      <td>...</td>\n",
       "    </tr>\n",
       "    <tr>\n",
       "      <th>443</th>\n",
       "      <td>95</td>\n",
       "      <td>0</td>\n",
       "      <td>0</td>\n",
       "      <td>0</td>\n",
       "      <td>0</td>\n",
       "      <td>0</td>\n",
       "      <td>0</td>\n",
       "      <td>0</td>\n",
       "      <td>0</td>\n",
       "      <td>0</td>\n",
       "      <td>...</td>\n",
       "      <td>2062</td>\n",
       "      <td>4</td>\n",
       "      <td>5</td>\n",
       "      <td>16</td>\n",
       "      <td>0</td>\n",
       "      <td>21</td>\n",
       "      <td>122</td>\n",
       "      <td>0</td>\n",
       "      <td>NaN</td>\n",
       "      <td>NaN</td>\n",
       "    </tr>\n",
       "    <tr>\n",
       "      <th>444</th>\n",
       "      <td>96</td>\n",
       "      <td>0</td>\n",
       "      <td>0</td>\n",
       "      <td>0</td>\n",
       "      <td>0</td>\n",
       "      <td>0</td>\n",
       "      <td>0</td>\n",
       "      <td>0</td>\n",
       "      <td>0</td>\n",
       "      <td>0</td>\n",
       "      <td>...</td>\n",
       "      <td>1950</td>\n",
       "      <td>3</td>\n",
       "      <td>3</td>\n",
       "      <td>8</td>\n",
       "      <td>0</td>\n",
       "      <td>20</td>\n",
       "      <td>78</td>\n",
       "      <td>0</td>\n",
       "      <td>NaN</td>\n",
       "      <td>NaN</td>\n",
       "    </tr>\n",
       "    <tr>\n",
       "      <th>445</th>\n",
       "      <td>97</td>\n",
       "      <td>6</td>\n",
       "      <td>23</td>\n",
       "      <td>31</td>\n",
       "      <td>2</td>\n",
       "      <td>9</td>\n",
       "      <td>73</td>\n",
       "      <td>17</td>\n",
       "      <td>96</td>\n",
       "      <td>4</td>\n",
       "      <td>...</td>\n",
       "      <td>55</td>\n",
       "      <td>0</td>\n",
       "      <td>0</td>\n",
       "      <td>0</td>\n",
       "      <td>0</td>\n",
       "      <td>1</td>\n",
       "      <td>4</td>\n",
       "      <td>0</td>\n",
       "      <td>54.0</td>\n",
       "      <td>29.0</td>\n",
       "    </tr>\n",
       "    <tr>\n",
       "      <th>446</th>\n",
       "      <td>98</td>\n",
       "      <td>0</td>\n",
       "      <td>2</td>\n",
       "      <td>2</td>\n",
       "      <td>0</td>\n",
       "      <td>1</td>\n",
       "      <td>5</td>\n",
       "      <td>2</td>\n",
       "      <td>3</td>\n",
       "      <td>1</td>\n",
       "      <td>...</td>\n",
       "      <td>2648</td>\n",
       "      <td>4</td>\n",
       "      <td>7</td>\n",
       "      <td>16</td>\n",
       "      <td>0</td>\n",
       "      <td>31</td>\n",
       "      <td>129</td>\n",
       "      <td>0</td>\n",
       "      <td>9.0</td>\n",
       "      <td>6.0</td>\n",
       "    </tr>\n",
       "    <tr>\n",
       "      <th>447</th>\n",
       "      <td>99</td>\n",
       "      <td>1</td>\n",
       "      <td>14</td>\n",
       "      <td>6</td>\n",
       "      <td>0</td>\n",
       "      <td>3</td>\n",
       "      <td>14</td>\n",
       "      <td>6</td>\n",
       "      <td>27</td>\n",
       "      <td>0</td>\n",
       "      <td>...</td>\n",
       "      <td>670</td>\n",
       "      <td>0</td>\n",
       "      <td>0</td>\n",
       "      <td>4</td>\n",
       "      <td>1</td>\n",
       "      <td>6</td>\n",
       "      <td>27</td>\n",
       "      <td>0</td>\n",
       "      <td>55.0</td>\n",
       "      <td>10.0</td>\n",
       "    </tr>\n",
       "  </tbody>\n",
       "</table>\n",
       "<p>448 rows × 30 columns</p>\n",
       "</div>"
      ],
      "text/plain": [
       "     userId  free About  free Add Friend  free Add to Playlist  free Error  \\\n",
       "0        10           0                0                     0           0   \n",
       "1       100           0                0                     2           0   \n",
       "2    100001           1                1                     3           0   \n",
       "3    100002           0                0                     1           0   \n",
       "4    100003           0                6                     6           1   \n",
       "..      ...         ...              ...                   ...         ...   \n",
       "443      95           0                0                     0           0   \n",
       "444      96           0                0                     0           0   \n",
       "445      97           6               23                    31           2   \n",
       "446      98           0                2                     2           0   \n",
       "447      99           1               14                     6           0   \n",
       "\n",
       "     free Help  free Home  free Logout  free Roll Advert  free Save Settings  \\\n",
       "0            0          0            0                 0                   0   \n",
       "1            0          3            1                 5                   0   \n",
       "2            1          4            2                13                   0   \n",
       "3            1          5            2                 5                   0   \n",
       "4            1         10            4                37                   0   \n",
       "..         ...        ...          ...               ...                 ...   \n",
       "443          0          0            0                 0                   0   \n",
       "444          0          0            0                 0                   0   \n",
       "445          9         73           17                96                   4   \n",
       "446          1          5            2                 3                   1   \n",
       "447          3         14            6                27                   0   \n",
       "\n",
       "     ...  paid NextSong  paid Roll Advert  paid Save Settings  paid Settings  \\\n",
       "0    ...            360                 0                   0              2   \n",
       "1    ...           3336                 3                   2             17   \n",
       "2    ...              0                 0                   0              0   \n",
       "3    ...            113                 0                   0              0   \n",
       "4    ...            430                 4                   1              3   \n",
       "..   ...            ...               ...                 ...            ...   \n",
       "443  ...           2062                 4                   5             16   \n",
       "444  ...           1950                 3                   3              8   \n",
       "445  ...             55                 0                   0              0   \n",
       "446  ...           2648                 4                   7             16   \n",
       "447  ...            670                 0                   0              4   \n",
       "\n",
       "     paid Submit Downgrade  paid Thumbs Down  paid Thumbs Up  label  \\\n",
       "0                        0                 1              17      1   \n",
       "1                        0                37             142      0   \n",
       "2                        0                 0               0      1   \n",
       "3                        1                 2               5      0   \n",
       "4                        0                 3              10      1   \n",
       "..                     ...               ...             ...    ...   \n",
       "443                      0                21             122      0   \n",
       "444                      0                20              78      0   \n",
       "445                      0                 1               4      0   \n",
       "446                      0                31             129      0   \n",
       "447                      1                 6              27      0   \n",
       "\n",
       "     days_free  dist_sessions_ct  \n",
       "0          NaN               NaN  \n",
       "1          1.0               2.0  \n",
       "2          1.0               3.0  \n",
       "3         24.0               3.0  \n",
       "4         18.0               5.0  \n",
       "..         ...               ...  \n",
       "443        NaN               NaN  \n",
       "444        NaN               NaN  \n",
       "445       54.0              29.0  \n",
       "446        9.0               6.0  \n",
       "447       55.0              10.0  \n",
       "\n",
       "[448 rows x 30 columns]"
      ]
     },
     "execution_count": 83,
     "metadata": {},
     "output_type": "execute_result"
    }
   ],
   "source": [
    "#left join sessions to ndf\n",
    "sessions_free2 = pd.merge(days_free, sessions_free, on=\"userId\", how=\"left\")\n",
    "sessions_free2"
   ]
  },
  {
   "cell_type": "code",
   "execution_count": 84,
   "metadata": {
    "execution": {
     "iopub.execute_input": "2021-02-12T23:46:42.012589Z",
     "iopub.status.busy": "2021-02-12T23:46:42.011501Z",
     "iopub.status.idle": "2021-02-12T23:46:42.016134Z",
     "shell.execute_reply": "2021-02-12T23:46:42.015495Z"
    },
    "papermill": {
     "duration": 0.184838,
     "end_time": "2021-02-12T23:46:42.016255",
     "exception": false,
     "start_time": "2021-02-12T23:46:41.831417",
     "status": "completed"
    },
    "tags": []
   },
   "outputs": [
    {
     "data": {
      "text/plain": [
       "78"
      ]
     },
     "execution_count": 84,
     "metadata": {},
     "output_type": "execute_result"
    }
   ],
   "source": [
    "#sanity check\n",
    "sessions_free2.dist_sessions_ct.isnull().sum()"
   ]
  },
  {
   "cell_type": "markdown",
   "metadata": {
    "papermill": {
     "duration": 0.184853,
     "end_time": "2021-02-12T23:46:42.388316",
     "exception": false,
     "start_time": "2021-02-12T23:46:42.203463",
     "status": "completed"
    },
    "tags": []
   },
   "source": [
    "### Average time spent in session"
   ]
  },
  {
   "cell_type": "code",
   "execution_count": 85,
   "metadata": {
    "execution": {
     "iopub.execute_input": "2021-02-12T23:46:42.767818Z",
     "iopub.status.busy": "2021-02-12T23:46:42.755630Z",
     "iopub.status.idle": "2021-02-12T23:46:42.880045Z",
     "shell.execute_reply": "2021-02-12T23:46:42.879509Z"
    },
    "papermill": {
     "duration": 0.318241,
     "end_time": "2021-02-12T23:46:42.880179",
     "exception": false,
     "start_time": "2021-02-12T23:46:42.561938",
     "status": "completed"
    },
    "tags": []
   },
   "outputs": [
    {
     "data": {
      "text/html": [
       "<div>\n",
       "<style scoped>\n",
       "    .dataframe tbody tr th:only-of-type {\n",
       "        vertical-align: middle;\n",
       "    }\n",
       "\n",
       "    .dataframe tbody tr th {\n",
       "        vertical-align: top;\n",
       "    }\n",
       "\n",
       "    .dataframe thead th {\n",
       "        text-align: right;\n",
       "    }\n",
       "</style>\n",
       "<table border=\"1\" class=\"dataframe\">\n",
       "  <thead>\n",
       "    <tr style=\"text-align: right;\">\n",
       "      <th></th>\n",
       "      <th>userId</th>\n",
       "      <th>Max_ts</th>\n",
       "    </tr>\n",
       "  </thead>\n",
       "  <tbody>\n",
       "    <tr>\n",
       "      <th>0</th>\n",
       "      <td>100</td>\n",
       "      <td>2018-10-02 10:54:43</td>\n",
       "    </tr>\n",
       "    <tr>\n",
       "      <th>1</th>\n",
       "      <td>100001</td>\n",
       "      <td>2018-10-02 14:50:59</td>\n",
       "    </tr>\n",
       "    <tr>\n",
       "      <th>2</th>\n",
       "      <td>100002</td>\n",
       "      <td>2018-11-02 08:17:40</td>\n",
       "    </tr>\n",
       "    <tr>\n",
       "      <th>3</th>\n",
       "      <td>100003</td>\n",
       "      <td>2018-10-27 22:19:47</td>\n",
       "    </tr>\n",
       "    <tr>\n",
       "      <th>4</th>\n",
       "      <td>100004</td>\n",
       "      <td>2018-10-14 10:13:00</td>\n",
       "    </tr>\n",
       "    <tr>\n",
       "      <th>...</th>\n",
       "      <td>...</td>\n",
       "      <td>...</td>\n",
       "    </tr>\n",
       "    <tr>\n",
       "      <th>365</th>\n",
       "      <td>93</td>\n",
       "      <td>2018-10-20 10:53:24</td>\n",
       "    </tr>\n",
       "    <tr>\n",
       "      <th>366</th>\n",
       "      <td>94</td>\n",
       "      <td>2018-11-05 10:31:14</td>\n",
       "    </tr>\n",
       "    <tr>\n",
       "      <th>367</th>\n",
       "      <td>97</td>\n",
       "      <td>2018-11-29 02:50:53</td>\n",
       "    </tr>\n",
       "    <tr>\n",
       "      <th>368</th>\n",
       "      <td>98</td>\n",
       "      <td>2018-10-10 12:52:28</td>\n",
       "    </tr>\n",
       "    <tr>\n",
       "      <th>369</th>\n",
       "      <td>99</td>\n",
       "      <td>2018-11-27 19:08:47</td>\n",
       "    </tr>\n",
       "  </tbody>\n",
       "</table>\n",
       "<p>370 rows × 2 columns</p>\n",
       "</div>"
      ],
      "text/plain": [
       "     userId               Max_ts\n",
       "0       100  2018-10-02 10:54:43\n",
       "1    100001  2018-10-02 14:50:59\n",
       "2    100002  2018-11-02 08:17:40\n",
       "3    100003  2018-10-27 22:19:47\n",
       "4    100004  2018-10-14 10:13:00\n",
       "..      ...                  ...\n",
       "365      93  2018-10-20 10:53:24\n",
       "366      94  2018-11-05 10:31:14\n",
       "367      97  2018-11-29 02:50:53\n",
       "368      98  2018-10-10 12:52:28\n",
       "369      99  2018-11-27 19:08:47\n",
       "\n",
       "[370 rows x 2 columns]"
      ]
     },
     "execution_count": 85,
     "metadata": {},
     "output_type": "execute_result"
    }
   ],
   "source": [
    "#get time diff per distinct user\n",
    "#divide time diff by count(dist sessions) per distinct user\n",
    "\n",
    "max_ts = free_df.groupby('userId')['timestamp'].max().reset_index()\n",
    "max_ts.columns = ['userId', 'Max_ts']\n",
    "max_ts"
   ]
  },
  {
   "cell_type": "code",
   "execution_count": 86,
   "metadata": {
    "execution": {
     "iopub.execute_input": "2021-02-12T23:46:43.252512Z",
     "iopub.status.busy": "2021-02-12T23:46:43.251613Z",
     "iopub.status.idle": "2021-02-12T23:46:43.378057Z",
     "shell.execute_reply": "2021-02-12T23:46:43.377519Z"
    },
    "papermill": {
     "duration": 0.323242,
     "end_time": "2021-02-12T23:46:43.378204",
     "exception": false,
     "start_time": "2021-02-12T23:46:43.054962",
     "status": "completed"
    },
    "tags": []
   },
   "outputs": [
    {
     "data": {
      "text/html": [
       "<div>\n",
       "<style scoped>\n",
       "    .dataframe tbody tr th:only-of-type {\n",
       "        vertical-align: middle;\n",
       "    }\n",
       "\n",
       "    .dataframe tbody tr th {\n",
       "        vertical-align: top;\n",
       "    }\n",
       "\n",
       "    .dataframe thead th {\n",
       "        text-align: right;\n",
       "    }\n",
       "</style>\n",
       "<table border=\"1\" class=\"dataframe\">\n",
       "  <thead>\n",
       "    <tr style=\"text-align: right;\">\n",
       "      <th></th>\n",
       "      <th>userId</th>\n",
       "      <th>Min_ts</th>\n",
       "    </tr>\n",
       "  </thead>\n",
       "  <tbody>\n",
       "    <tr>\n",
       "      <th>0</th>\n",
       "      <td>100</td>\n",
       "      <td>2018-10-01 00:04:01</td>\n",
       "    </tr>\n",
       "    <tr>\n",
       "      <th>1</th>\n",
       "      <td>100001</td>\n",
       "      <td>2018-10-01 06:48:24</td>\n",
       "    </tr>\n",
       "    <tr>\n",
       "      <th>2</th>\n",
       "      <td>100002</td>\n",
       "      <td>2018-10-09 19:28:59</td>\n",
       "    </tr>\n",
       "    <tr>\n",
       "      <th>3</th>\n",
       "      <td>100003</td>\n",
       "      <td>2018-10-09 15:53:40</td>\n",
       "    </tr>\n",
       "    <tr>\n",
       "      <th>4</th>\n",
       "      <td>100004</td>\n",
       "      <td>2018-10-03 02:47:15</td>\n",
       "    </tr>\n",
       "    <tr>\n",
       "      <th>...</th>\n",
       "      <td>...</td>\n",
       "      <td>...</td>\n",
       "    </tr>\n",
       "    <tr>\n",
       "      <th>365</th>\n",
       "      <td>93</td>\n",
       "      <td>2018-10-01 16:01:26</td>\n",
       "    </tr>\n",
       "    <tr>\n",
       "      <th>366</th>\n",
       "      <td>94</td>\n",
       "      <td>2018-10-07 03:00:11</td>\n",
       "    </tr>\n",
       "    <tr>\n",
       "      <th>367</th>\n",
       "      <td>97</td>\n",
       "      <td>2018-10-06 21:36:24</td>\n",
       "    </tr>\n",
       "    <tr>\n",
       "      <th>368</th>\n",
       "      <td>98</td>\n",
       "      <td>2018-10-01 00:00:25</td>\n",
       "    </tr>\n",
       "    <tr>\n",
       "      <th>369</th>\n",
       "      <td>99</td>\n",
       "      <td>2018-10-03 22:14:14</td>\n",
       "    </tr>\n",
       "  </tbody>\n",
       "</table>\n",
       "<p>370 rows × 2 columns</p>\n",
       "</div>"
      ],
      "text/plain": [
       "     userId               Min_ts\n",
       "0       100  2018-10-01 00:04:01\n",
       "1    100001  2018-10-01 06:48:24\n",
       "2    100002  2018-10-09 19:28:59\n",
       "3    100003  2018-10-09 15:53:40\n",
       "4    100004  2018-10-03 02:47:15\n",
       "..      ...                  ...\n",
       "365      93  2018-10-01 16:01:26\n",
       "366      94  2018-10-07 03:00:11\n",
       "367      97  2018-10-06 21:36:24\n",
       "368      98  2018-10-01 00:00:25\n",
       "369      99  2018-10-03 22:14:14\n",
       "\n",
       "[370 rows x 2 columns]"
      ]
     },
     "execution_count": 86,
     "metadata": {},
     "output_type": "execute_result"
    }
   ],
   "source": [
    "min_ts = free_df.groupby('userId')['timestamp'].min().reset_index()\n",
    "min_ts.columns = ['userId', 'Min_ts']\n",
    "min_ts"
   ]
  },
  {
   "cell_type": "code",
   "execution_count": 87,
   "metadata": {
    "execution": {
     "iopub.execute_input": "2021-02-12T23:46:43.747547Z",
     "iopub.status.busy": "2021-02-12T23:46:43.735012Z",
     "iopub.status.idle": "2021-02-12T23:46:43.752629Z",
     "shell.execute_reply": "2021-02-12T23:46:43.751942Z"
    },
    "papermill": {
     "duration": 0.19973,
     "end_time": "2021-02-12T23:46:43.752739",
     "exception": false,
     "start_time": "2021-02-12T23:46:43.553009",
     "status": "completed"
    },
    "tags": []
   },
   "outputs": [
    {
     "data": {
      "text/html": [
       "<div>\n",
       "<style scoped>\n",
       "    .dataframe tbody tr th:only-of-type {\n",
       "        vertical-align: middle;\n",
       "    }\n",
       "\n",
       "    .dataframe tbody tr th {\n",
       "        vertical-align: top;\n",
       "    }\n",
       "\n",
       "    .dataframe thead th {\n",
       "        text-align: right;\n",
       "    }\n",
       "</style>\n",
       "<table border=\"1\" class=\"dataframe\">\n",
       "  <thead>\n",
       "    <tr style=\"text-align: right;\">\n",
       "      <th></th>\n",
       "      <th>userId</th>\n",
       "      <th>Max_ts</th>\n",
       "      <th>Min_ts</th>\n",
       "    </tr>\n",
       "  </thead>\n",
       "  <tbody>\n",
       "    <tr>\n",
       "      <th>0</th>\n",
       "      <td>100</td>\n",
       "      <td>2018-10-02 10:54:43</td>\n",
       "      <td>2018-10-01 00:04:01</td>\n",
       "    </tr>\n",
       "    <tr>\n",
       "      <th>1</th>\n",
       "      <td>100001</td>\n",
       "      <td>2018-10-02 14:50:59</td>\n",
       "      <td>2018-10-01 06:48:24</td>\n",
       "    </tr>\n",
       "    <tr>\n",
       "      <th>2</th>\n",
       "      <td>100002</td>\n",
       "      <td>2018-11-02 08:17:40</td>\n",
       "      <td>2018-10-09 19:28:59</td>\n",
       "    </tr>\n",
       "    <tr>\n",
       "      <th>3</th>\n",
       "      <td>100003</td>\n",
       "      <td>2018-10-27 22:19:47</td>\n",
       "      <td>2018-10-09 15:53:40</td>\n",
       "    </tr>\n",
       "    <tr>\n",
       "      <th>4</th>\n",
       "      <td>100004</td>\n",
       "      <td>2018-10-14 10:13:00</td>\n",
       "      <td>2018-10-03 02:47:15</td>\n",
       "    </tr>\n",
       "    <tr>\n",
       "      <th>...</th>\n",
       "      <td>...</td>\n",
       "      <td>...</td>\n",
       "      <td>...</td>\n",
       "    </tr>\n",
       "    <tr>\n",
       "      <th>365</th>\n",
       "      <td>93</td>\n",
       "      <td>2018-10-20 10:53:24</td>\n",
       "      <td>2018-10-01 16:01:26</td>\n",
       "    </tr>\n",
       "    <tr>\n",
       "      <th>366</th>\n",
       "      <td>94</td>\n",
       "      <td>2018-11-05 10:31:14</td>\n",
       "      <td>2018-10-07 03:00:11</td>\n",
       "    </tr>\n",
       "    <tr>\n",
       "      <th>367</th>\n",
       "      <td>97</td>\n",
       "      <td>2018-11-29 02:50:53</td>\n",
       "      <td>2018-10-06 21:36:24</td>\n",
       "    </tr>\n",
       "    <tr>\n",
       "      <th>368</th>\n",
       "      <td>98</td>\n",
       "      <td>2018-10-10 12:52:28</td>\n",
       "      <td>2018-10-01 00:00:25</td>\n",
       "    </tr>\n",
       "    <tr>\n",
       "      <th>369</th>\n",
       "      <td>99</td>\n",
       "      <td>2018-11-27 19:08:47</td>\n",
       "      <td>2018-10-03 22:14:14</td>\n",
       "    </tr>\n",
       "  </tbody>\n",
       "</table>\n",
       "<p>370 rows × 3 columns</p>\n",
       "</div>"
      ],
      "text/plain": [
       "     userId               Max_ts               Min_ts\n",
       "0       100  2018-10-02 10:54:43  2018-10-01 00:04:01\n",
       "1    100001  2018-10-02 14:50:59  2018-10-01 06:48:24\n",
       "2    100002  2018-11-02 08:17:40  2018-10-09 19:28:59\n",
       "3    100003  2018-10-27 22:19:47  2018-10-09 15:53:40\n",
       "4    100004  2018-10-14 10:13:00  2018-10-03 02:47:15\n",
       "..      ...                  ...                  ...\n",
       "365      93  2018-10-20 10:53:24  2018-10-01 16:01:26\n",
       "366      94  2018-11-05 10:31:14  2018-10-07 03:00:11\n",
       "367      97  2018-11-29 02:50:53  2018-10-06 21:36:24\n",
       "368      98  2018-10-10 12:52:28  2018-10-01 00:00:25\n",
       "369      99  2018-11-27 19:08:47  2018-10-03 22:14:14\n",
       "\n",
       "[370 rows x 3 columns]"
      ]
     },
     "execution_count": 87,
     "metadata": {},
     "output_type": "execute_result"
    }
   ],
   "source": [
    "ts = pd.merge(max_ts,min_ts, on=\"userId\")\n",
    "ts"
   ]
  },
  {
   "cell_type": "code",
   "execution_count": 88,
   "metadata": {
    "execution": {
     "iopub.execute_input": "2021-02-12T23:46:44.165865Z",
     "iopub.status.busy": "2021-02-12T23:46:44.165056Z",
     "iopub.status.idle": "2021-02-12T23:46:44.180273Z",
     "shell.execute_reply": "2021-02-12T23:46:44.180802Z"
    },
    "papermill": {
     "duration": 0.213397,
     "end_time": "2021-02-12T23:46:44.180945",
     "exception": false,
     "start_time": "2021-02-12T23:46:43.967548",
     "status": "completed"
    },
    "tags": []
   },
   "outputs": [
    {
     "data": {
      "text/html": [
       "<div>\n",
       "<style scoped>\n",
       "    .dataframe tbody tr th:only-of-type {\n",
       "        vertical-align: middle;\n",
       "    }\n",
       "\n",
       "    .dataframe tbody tr th {\n",
       "        vertical-align: top;\n",
       "    }\n",
       "\n",
       "    .dataframe thead th {\n",
       "        text-align: right;\n",
       "    }\n",
       "</style>\n",
       "<table border=\"1\" class=\"dataframe\">\n",
       "  <thead>\n",
       "    <tr style=\"text-align: right;\">\n",
       "      <th></th>\n",
       "      <th>userId</th>\n",
       "      <th>dist_sessions_ct</th>\n",
       "      <th>ts_hours_free</th>\n",
       "    </tr>\n",
       "  </thead>\n",
       "  <tbody>\n",
       "    <tr>\n",
       "      <th>0</th>\n",
       "      <td>100</td>\n",
       "      <td>2</td>\n",
       "      <td>10.845000</td>\n",
       "    </tr>\n",
       "    <tr>\n",
       "      <th>1</th>\n",
       "      <td>100001</td>\n",
       "      <td>3</td>\n",
       "      <td>8.043056</td>\n",
       "    </tr>\n",
       "    <tr>\n",
       "      <th>2</th>\n",
       "      <td>100002</td>\n",
       "      <td>3</td>\n",
       "      <td>12.811389</td>\n",
       "    </tr>\n",
       "    <tr>\n",
       "      <th>3</th>\n",
       "      <td>100003</td>\n",
       "      <td>5</td>\n",
       "      <td>6.435278</td>\n",
       "    </tr>\n",
       "    <tr>\n",
       "      <th>4</th>\n",
       "      <td>100004</td>\n",
       "      <td>5</td>\n",
       "      <td>7.429167</td>\n",
       "    </tr>\n",
       "    <tr>\n",
       "      <th>...</th>\n",
       "      <td>...</td>\n",
       "      <td>...</td>\n",
       "      <td>...</td>\n",
       "    </tr>\n",
       "    <tr>\n",
       "      <th>365</th>\n",
       "      <td>93</td>\n",
       "      <td>4</td>\n",
       "      <td>18.866111</td>\n",
       "    </tr>\n",
       "    <tr>\n",
       "      <th>366</th>\n",
       "      <td>94</td>\n",
       "      <td>6</td>\n",
       "      <td>7.517500</td>\n",
       "    </tr>\n",
       "    <tr>\n",
       "      <th>367</th>\n",
       "      <td>97</td>\n",
       "      <td>29</td>\n",
       "      <td>5.241389</td>\n",
       "    </tr>\n",
       "    <tr>\n",
       "      <th>368</th>\n",
       "      <td>98</td>\n",
       "      <td>6</td>\n",
       "      <td>12.867500</td>\n",
       "    </tr>\n",
       "    <tr>\n",
       "      <th>369</th>\n",
       "      <td>99</td>\n",
       "      <td>10</td>\n",
       "      <td>20.909167</td>\n",
       "    </tr>\n",
       "  </tbody>\n",
       "</table>\n",
       "<p>370 rows × 3 columns</p>\n",
       "</div>"
      ],
      "text/plain": [
       "     userId  dist_sessions_ct  ts_hours_free\n",
       "0       100                 2      10.845000\n",
       "1    100001                 3       8.043056\n",
       "2    100002                 3      12.811389\n",
       "3    100003                 5       6.435278\n",
       "4    100004                 5       7.429167\n",
       "..      ...               ...            ...\n",
       "365      93                 4      18.866111\n",
       "366      94                 6       7.517500\n",
       "367      97                29       5.241389\n",
       "368      98                 6      12.867500\n",
       "369      99                10      20.909167\n",
       "\n",
       "[370 rows x 3 columns]"
      ]
     },
     "execution_count": 88,
     "metadata": {},
     "output_type": "execute_result"
    }
   ],
   "source": [
    "ts[['Max_ts','Min_ts']] = ts[['Max_ts','Min_ts']].apply(pd.to_datetime)\n",
    "\n",
    "ts['ts_hours_free'] = ((ts['Max_ts'] - ts['Min_ts']).dt.seconds)/(60*60)\n",
    "ts=ts.drop(columns=['Max_ts', 'Min_ts'])\n",
    "#add dist sessions count to get average time spent\n",
    "ts = pd.merge(sessions_free,ts, on=\"userId\")\n",
    "ts"
   ]
  },
  {
   "cell_type": "code",
   "execution_count": 89,
   "metadata": {
    "execution": {
     "iopub.execute_input": "2021-02-12T23:46:44.553073Z",
     "iopub.status.busy": "2021-02-12T23:46:44.551995Z",
     "iopub.status.idle": "2021-02-12T23:46:44.557026Z",
     "shell.execute_reply": "2021-02-12T23:46:44.556394Z"
    },
    "papermill": {
     "duration": 0.197926,
     "end_time": "2021-02-12T23:46:44.557153",
     "exception": false,
     "start_time": "2021-02-12T23:46:44.359227",
     "status": "completed"
    },
    "tags": []
   },
   "outputs": [
    {
     "data": {
      "text/html": [
       "<div>\n",
       "<style scoped>\n",
       "    .dataframe tbody tr th:only-of-type {\n",
       "        vertical-align: middle;\n",
       "    }\n",
       "\n",
       "    .dataframe tbody tr th {\n",
       "        vertical-align: top;\n",
       "    }\n",
       "\n",
       "    .dataframe thead th {\n",
       "        text-align: right;\n",
       "    }\n",
       "</style>\n",
       "<table border=\"1\" class=\"dataframe\">\n",
       "  <thead>\n",
       "    <tr style=\"text-align: right;\">\n",
       "      <th></th>\n",
       "      <th>userId</th>\n",
       "      <th>av_session_hrs</th>\n",
       "    </tr>\n",
       "  </thead>\n",
       "  <tbody>\n",
       "    <tr>\n",
       "      <th>0</th>\n",
       "      <td>100</td>\n",
       "      <td>5.422500</td>\n",
       "    </tr>\n",
       "    <tr>\n",
       "      <th>1</th>\n",
       "      <td>100001</td>\n",
       "      <td>2.681019</td>\n",
       "    </tr>\n",
       "    <tr>\n",
       "      <th>2</th>\n",
       "      <td>100002</td>\n",
       "      <td>4.270463</td>\n",
       "    </tr>\n",
       "    <tr>\n",
       "      <th>3</th>\n",
       "      <td>100003</td>\n",
       "      <td>1.287056</td>\n",
       "    </tr>\n",
       "    <tr>\n",
       "      <th>4</th>\n",
       "      <td>100004</td>\n",
       "      <td>1.485833</td>\n",
       "    </tr>\n",
       "    <tr>\n",
       "      <th>...</th>\n",
       "      <td>...</td>\n",
       "      <td>...</td>\n",
       "    </tr>\n",
       "    <tr>\n",
       "      <th>365</th>\n",
       "      <td>93</td>\n",
       "      <td>4.716528</td>\n",
       "    </tr>\n",
       "    <tr>\n",
       "      <th>366</th>\n",
       "      <td>94</td>\n",
       "      <td>1.252917</td>\n",
       "    </tr>\n",
       "    <tr>\n",
       "      <th>367</th>\n",
       "      <td>97</td>\n",
       "      <td>0.180738</td>\n",
       "    </tr>\n",
       "    <tr>\n",
       "      <th>368</th>\n",
       "      <td>98</td>\n",
       "      <td>2.144583</td>\n",
       "    </tr>\n",
       "    <tr>\n",
       "      <th>369</th>\n",
       "      <td>99</td>\n",
       "      <td>2.090917</td>\n",
       "    </tr>\n",
       "  </tbody>\n",
       "</table>\n",
       "<p>370 rows × 2 columns</p>\n",
       "</div>"
      ],
      "text/plain": [
       "     userId  av_session_hrs\n",
       "0       100        5.422500\n",
       "1    100001        2.681019\n",
       "2    100002        4.270463\n",
       "3    100003        1.287056\n",
       "4    100004        1.485833\n",
       "..      ...             ...\n",
       "365      93        4.716528\n",
       "366      94        1.252917\n",
       "367      97        0.180738\n",
       "368      98        2.144583\n",
       "369      99        2.090917\n",
       "\n",
       "[370 rows x 2 columns]"
      ]
     },
     "execution_count": 89,
     "metadata": {},
     "output_type": "execute_result"
    }
   ],
   "source": [
    "ts['av_session_hrs'] = ts['ts_hours_free']/ts['dist_sessions_ct']\n",
    "ts = ts.drop(columns = ['dist_sessions_ct', 'ts_hours_free'])\n",
    "ts"
   ]
  },
  {
   "cell_type": "code",
   "execution_count": 90,
   "metadata": {
    "execution": {
     "iopub.execute_input": "2021-02-12T23:46:44.918709Z",
     "iopub.status.busy": "2021-02-12T23:46:44.917692Z",
     "iopub.status.idle": "2021-02-12T23:46:44.948684Z",
     "shell.execute_reply": "2021-02-12T23:46:44.949251Z"
    },
    "papermill": {
     "duration": 0.214723,
     "end_time": "2021-02-12T23:46:44.949394",
     "exception": false,
     "start_time": "2021-02-12T23:46:44.734671",
     "status": "completed"
    },
    "tags": []
   },
   "outputs": [
    {
     "data": {
      "text/html": [
       "<div>\n",
       "<style scoped>\n",
       "    .dataframe tbody tr th:only-of-type {\n",
       "        vertical-align: middle;\n",
       "    }\n",
       "\n",
       "    .dataframe tbody tr th {\n",
       "        vertical-align: top;\n",
       "    }\n",
       "\n",
       "    .dataframe thead th {\n",
       "        text-align: right;\n",
       "    }\n",
       "</style>\n",
       "<table border=\"1\" class=\"dataframe\">\n",
       "  <thead>\n",
       "    <tr style=\"text-align: right;\">\n",
       "      <th></th>\n",
       "      <th>userId</th>\n",
       "      <th>free About</th>\n",
       "      <th>free Add Friend</th>\n",
       "      <th>free Add to Playlist</th>\n",
       "      <th>free Error</th>\n",
       "      <th>free Help</th>\n",
       "      <th>free Home</th>\n",
       "      <th>free Logout</th>\n",
       "      <th>free Roll Advert</th>\n",
       "      <th>free Save Settings</th>\n",
       "      <th>...</th>\n",
       "      <th>paid Roll Advert</th>\n",
       "      <th>paid Save Settings</th>\n",
       "      <th>paid Settings</th>\n",
       "      <th>paid Submit Downgrade</th>\n",
       "      <th>paid Thumbs Down</th>\n",
       "      <th>paid Thumbs Up</th>\n",
       "      <th>label</th>\n",
       "      <th>days_free</th>\n",
       "      <th>dist_sessions_ct</th>\n",
       "      <th>av_session_hrs</th>\n",
       "    </tr>\n",
       "  </thead>\n",
       "  <tbody>\n",
       "    <tr>\n",
       "      <th>0</th>\n",
       "      <td>10</td>\n",
       "      <td>0</td>\n",
       "      <td>0</td>\n",
       "      <td>0</td>\n",
       "      <td>0</td>\n",
       "      <td>0</td>\n",
       "      <td>0</td>\n",
       "      <td>0</td>\n",
       "      <td>0</td>\n",
       "      <td>0</td>\n",
       "      <td>...</td>\n",
       "      <td>0</td>\n",
       "      <td>0</td>\n",
       "      <td>2</td>\n",
       "      <td>0</td>\n",
       "      <td>1</td>\n",
       "      <td>17</td>\n",
       "      <td>1</td>\n",
       "      <td>NaN</td>\n",
       "      <td>NaN</td>\n",
       "      <td>NaN</td>\n",
       "    </tr>\n",
       "    <tr>\n",
       "      <th>1</th>\n",
       "      <td>100</td>\n",
       "      <td>0</td>\n",
       "      <td>0</td>\n",
       "      <td>2</td>\n",
       "      <td>0</td>\n",
       "      <td>0</td>\n",
       "      <td>3</td>\n",
       "      <td>1</td>\n",
       "      <td>5</td>\n",
       "      <td>0</td>\n",
       "      <td>...</td>\n",
       "      <td>3</td>\n",
       "      <td>2</td>\n",
       "      <td>17</td>\n",
       "      <td>0</td>\n",
       "      <td>37</td>\n",
       "      <td>142</td>\n",
       "      <td>0</td>\n",
       "      <td>1.0</td>\n",
       "      <td>2.0</td>\n",
       "      <td>5.422500</td>\n",
       "    </tr>\n",
       "    <tr>\n",
       "      <th>2</th>\n",
       "      <td>100001</td>\n",
       "      <td>1</td>\n",
       "      <td>1</td>\n",
       "      <td>3</td>\n",
       "      <td>0</td>\n",
       "      <td>1</td>\n",
       "      <td>4</td>\n",
       "      <td>2</td>\n",
       "      <td>13</td>\n",
       "      <td>0</td>\n",
       "      <td>...</td>\n",
       "      <td>0</td>\n",
       "      <td>0</td>\n",
       "      <td>0</td>\n",
       "      <td>0</td>\n",
       "      <td>0</td>\n",
       "      <td>0</td>\n",
       "      <td>1</td>\n",
       "      <td>1.0</td>\n",
       "      <td>3.0</td>\n",
       "      <td>2.681019</td>\n",
       "    </tr>\n",
       "    <tr>\n",
       "      <th>3</th>\n",
       "      <td>100002</td>\n",
       "      <td>0</td>\n",
       "      <td>0</td>\n",
       "      <td>1</td>\n",
       "      <td>0</td>\n",
       "      <td>1</td>\n",
       "      <td>5</td>\n",
       "      <td>2</td>\n",
       "      <td>5</td>\n",
       "      <td>0</td>\n",
       "      <td>...</td>\n",
       "      <td>0</td>\n",
       "      <td>0</td>\n",
       "      <td>0</td>\n",
       "      <td>1</td>\n",
       "      <td>2</td>\n",
       "      <td>5</td>\n",
       "      <td>0</td>\n",
       "      <td>24.0</td>\n",
       "      <td>3.0</td>\n",
       "      <td>4.270463</td>\n",
       "    </tr>\n",
       "    <tr>\n",
       "      <th>4</th>\n",
       "      <td>100003</td>\n",
       "      <td>0</td>\n",
       "      <td>6</td>\n",
       "      <td>6</td>\n",
       "      <td>1</td>\n",
       "      <td>1</td>\n",
       "      <td>10</td>\n",
       "      <td>4</td>\n",
       "      <td>37</td>\n",
       "      <td>0</td>\n",
       "      <td>...</td>\n",
       "      <td>4</td>\n",
       "      <td>1</td>\n",
       "      <td>3</td>\n",
       "      <td>0</td>\n",
       "      <td>3</td>\n",
       "      <td>10</td>\n",
       "      <td>1</td>\n",
       "      <td>18.0</td>\n",
       "      <td>5.0</td>\n",
       "      <td>1.287056</td>\n",
       "    </tr>\n",
       "    <tr>\n",
       "      <th>...</th>\n",
       "      <td>...</td>\n",
       "      <td>...</td>\n",
       "      <td>...</td>\n",
       "      <td>...</td>\n",
       "      <td>...</td>\n",
       "      <td>...</td>\n",
       "      <td>...</td>\n",
       "      <td>...</td>\n",
       "      <td>...</td>\n",
       "      <td>...</td>\n",
       "      <td>...</td>\n",
       "      <td>...</td>\n",
       "      <td>...</td>\n",
       "      <td>...</td>\n",
       "      <td>...</td>\n",
       "      <td>...</td>\n",
       "      <td>...</td>\n",
       "      <td>...</td>\n",
       "      <td>...</td>\n",
       "      <td>...</td>\n",
       "      <td>...</td>\n",
       "    </tr>\n",
       "    <tr>\n",
       "      <th>443</th>\n",
       "      <td>95</td>\n",
       "      <td>0</td>\n",
       "      <td>0</td>\n",
       "      <td>0</td>\n",
       "      <td>0</td>\n",
       "      <td>0</td>\n",
       "      <td>0</td>\n",
       "      <td>0</td>\n",
       "      <td>0</td>\n",
       "      <td>0</td>\n",
       "      <td>...</td>\n",
       "      <td>4</td>\n",
       "      <td>5</td>\n",
       "      <td>16</td>\n",
       "      <td>0</td>\n",
       "      <td>21</td>\n",
       "      <td>122</td>\n",
       "      <td>0</td>\n",
       "      <td>NaN</td>\n",
       "      <td>NaN</td>\n",
       "      <td>NaN</td>\n",
       "    </tr>\n",
       "    <tr>\n",
       "      <th>444</th>\n",
       "      <td>96</td>\n",
       "      <td>0</td>\n",
       "      <td>0</td>\n",
       "      <td>0</td>\n",
       "      <td>0</td>\n",
       "      <td>0</td>\n",
       "      <td>0</td>\n",
       "      <td>0</td>\n",
       "      <td>0</td>\n",
       "      <td>0</td>\n",
       "      <td>...</td>\n",
       "      <td>3</td>\n",
       "      <td>3</td>\n",
       "      <td>8</td>\n",
       "      <td>0</td>\n",
       "      <td>20</td>\n",
       "      <td>78</td>\n",
       "      <td>0</td>\n",
       "      <td>NaN</td>\n",
       "      <td>NaN</td>\n",
       "      <td>NaN</td>\n",
       "    </tr>\n",
       "    <tr>\n",
       "      <th>445</th>\n",
       "      <td>97</td>\n",
       "      <td>6</td>\n",
       "      <td>23</td>\n",
       "      <td>31</td>\n",
       "      <td>2</td>\n",
       "      <td>9</td>\n",
       "      <td>73</td>\n",
       "      <td>17</td>\n",
       "      <td>96</td>\n",
       "      <td>4</td>\n",
       "      <td>...</td>\n",
       "      <td>0</td>\n",
       "      <td>0</td>\n",
       "      <td>0</td>\n",
       "      <td>0</td>\n",
       "      <td>1</td>\n",
       "      <td>4</td>\n",
       "      <td>0</td>\n",
       "      <td>54.0</td>\n",
       "      <td>29.0</td>\n",
       "      <td>0.180738</td>\n",
       "    </tr>\n",
       "    <tr>\n",
       "      <th>446</th>\n",
       "      <td>98</td>\n",
       "      <td>0</td>\n",
       "      <td>2</td>\n",
       "      <td>2</td>\n",
       "      <td>0</td>\n",
       "      <td>1</td>\n",
       "      <td>5</td>\n",
       "      <td>2</td>\n",
       "      <td>3</td>\n",
       "      <td>1</td>\n",
       "      <td>...</td>\n",
       "      <td>4</td>\n",
       "      <td>7</td>\n",
       "      <td>16</td>\n",
       "      <td>0</td>\n",
       "      <td>31</td>\n",
       "      <td>129</td>\n",
       "      <td>0</td>\n",
       "      <td>9.0</td>\n",
       "      <td>6.0</td>\n",
       "      <td>2.144583</td>\n",
       "    </tr>\n",
       "    <tr>\n",
       "      <th>447</th>\n",
       "      <td>99</td>\n",
       "      <td>1</td>\n",
       "      <td>14</td>\n",
       "      <td>6</td>\n",
       "      <td>0</td>\n",
       "      <td>3</td>\n",
       "      <td>14</td>\n",
       "      <td>6</td>\n",
       "      <td>27</td>\n",
       "      <td>0</td>\n",
       "      <td>...</td>\n",
       "      <td>0</td>\n",
       "      <td>0</td>\n",
       "      <td>4</td>\n",
       "      <td>1</td>\n",
       "      <td>6</td>\n",
       "      <td>27</td>\n",
       "      <td>0</td>\n",
       "      <td>55.0</td>\n",
       "      <td>10.0</td>\n",
       "      <td>2.090917</td>\n",
       "    </tr>\n",
       "  </tbody>\n",
       "</table>\n",
       "<p>448 rows × 31 columns</p>\n",
       "</div>"
      ],
      "text/plain": [
       "     userId  free About  free Add Friend  free Add to Playlist  free Error  \\\n",
       "0        10           0                0                     0           0   \n",
       "1       100           0                0                     2           0   \n",
       "2    100001           1                1                     3           0   \n",
       "3    100002           0                0                     1           0   \n",
       "4    100003           0                6                     6           1   \n",
       "..      ...         ...              ...                   ...         ...   \n",
       "443      95           0                0                     0           0   \n",
       "444      96           0                0                     0           0   \n",
       "445      97           6               23                    31           2   \n",
       "446      98           0                2                     2           0   \n",
       "447      99           1               14                     6           0   \n",
       "\n",
       "     free Help  free Home  free Logout  free Roll Advert  free Save Settings  \\\n",
       "0            0          0            0                 0                   0   \n",
       "1            0          3            1                 5                   0   \n",
       "2            1          4            2                13                   0   \n",
       "3            1          5            2                 5                   0   \n",
       "4            1         10            4                37                   0   \n",
       "..         ...        ...          ...               ...                 ...   \n",
       "443          0          0            0                 0                   0   \n",
       "444          0          0            0                 0                   0   \n",
       "445          9         73           17                96                   4   \n",
       "446          1          5            2                 3                   1   \n",
       "447          3         14            6                27                   0   \n",
       "\n",
       "     ...  paid Roll Advert  paid Save Settings  paid Settings  \\\n",
       "0    ...                 0                   0              2   \n",
       "1    ...                 3                   2             17   \n",
       "2    ...                 0                   0              0   \n",
       "3    ...                 0                   0              0   \n",
       "4    ...                 4                   1              3   \n",
       "..   ...               ...                 ...            ...   \n",
       "443  ...                 4                   5             16   \n",
       "444  ...                 3                   3              8   \n",
       "445  ...                 0                   0              0   \n",
       "446  ...                 4                   7             16   \n",
       "447  ...                 0                   0              4   \n",
       "\n",
       "     paid Submit Downgrade  paid Thumbs Down  paid Thumbs Up  label  \\\n",
       "0                        0                 1              17      1   \n",
       "1                        0                37             142      0   \n",
       "2                        0                 0               0      1   \n",
       "3                        1                 2               5      0   \n",
       "4                        0                 3              10      1   \n",
       "..                     ...               ...             ...    ...   \n",
       "443                      0                21             122      0   \n",
       "444                      0                20              78      0   \n",
       "445                      0                 1               4      0   \n",
       "446                      0                31             129      0   \n",
       "447                      1                 6              27      0   \n",
       "\n",
       "     days_free  dist_sessions_ct  av_session_hrs  \n",
       "0          NaN               NaN             NaN  \n",
       "1          1.0               2.0        5.422500  \n",
       "2          1.0               3.0        2.681019  \n",
       "3         24.0               3.0        4.270463  \n",
       "4         18.0               5.0        1.287056  \n",
       "..         ...               ...             ...  \n",
       "443        NaN               NaN             NaN  \n",
       "444        NaN               NaN             NaN  \n",
       "445       54.0              29.0        0.180738  \n",
       "446        9.0               6.0        2.144583  \n",
       "447       55.0              10.0        2.090917  \n",
       "\n",
       "[448 rows x 31 columns]"
      ]
     },
     "execution_count": 90,
     "metadata": {},
     "output_type": "execute_result"
    }
   ],
   "source": [
    "tshrs_free = pd.merge(sessions_free2, ts, on=\"userId\", how=\"left\")\n",
    "tshrs_free"
   ]
  },
  {
   "cell_type": "markdown",
   "metadata": {
    "papermill": {
     "duration": 0.177928,
     "end_time": "2021-02-12T23:46:45.305274",
     "exception": false,
     "start_time": "2021-02-12T23:46:45.127346",
     "status": "completed"
    },
    "tags": []
   },
   "source": [
    "### Average number of songs played per session"
   ]
  },
  {
   "cell_type": "code",
   "execution_count": 91,
   "metadata": {
    "execution": {
     "iopub.execute_input": "2021-02-12T23:46:45.677963Z",
     "iopub.status.busy": "2021-02-12T23:46:45.677264Z",
     "iopub.status.idle": "2021-02-12T23:46:45.729931Z",
     "shell.execute_reply": "2021-02-12T23:46:45.730434Z"
    },
    "papermill": {
     "duration": 0.247695,
     "end_time": "2021-02-12T23:46:45.730587",
     "exception": false,
     "start_time": "2021-02-12T23:46:45.482892",
     "status": "completed"
    },
    "tags": []
   },
   "outputs": [
    {
     "data": {
      "text/html": [
       "<div>\n",
       "<style scoped>\n",
       "    .dataframe tbody tr th:only-of-type {\n",
       "        vertical-align: middle;\n",
       "    }\n",
       "\n",
       "    .dataframe tbody tr th {\n",
       "        vertical-align: top;\n",
       "    }\n",
       "\n",
       "    .dataframe thead th {\n",
       "        text-align: right;\n",
       "    }\n",
       "</style>\n",
       "<table border=\"1\" class=\"dataframe\">\n",
       "  <thead>\n",
       "    <tr style=\"text-align: right;\">\n",
       "      <th></th>\n",
       "      <th>userId</th>\n",
       "      <th>songs_ct</th>\n",
       "    </tr>\n",
       "  </thead>\n",
       "  <tbody>\n",
       "    <tr>\n",
       "      <th>0</th>\n",
       "      <td>100</td>\n",
       "      <td>46</td>\n",
       "    </tr>\n",
       "    <tr>\n",
       "      <th>1</th>\n",
       "      <td>100001</td>\n",
       "      <td>96</td>\n",
       "    </tr>\n",
       "    <tr>\n",
       "      <th>2</th>\n",
       "      <td>100002</td>\n",
       "      <td>24</td>\n",
       "    </tr>\n",
       "    <tr>\n",
       "      <th>3</th>\n",
       "      <td>100003</td>\n",
       "      <td>231</td>\n",
       "    </tr>\n",
       "    <tr>\n",
       "      <th>4</th>\n",
       "      <td>100004</td>\n",
       "      <td>262</td>\n",
       "    </tr>\n",
       "    <tr>\n",
       "      <th>...</th>\n",
       "      <td>...</td>\n",
       "      <td>...</td>\n",
       "    </tr>\n",
       "    <tr>\n",
       "      <th>365</th>\n",
       "      <td>93</td>\n",
       "      <td>196</td>\n",
       "    </tr>\n",
       "    <tr>\n",
       "      <th>366</th>\n",
       "      <td>94</td>\n",
       "      <td>56</td>\n",
       "    </tr>\n",
       "    <tr>\n",
       "      <th>367</th>\n",
       "      <td>97</td>\n",
       "      <td>1148</td>\n",
       "    </tr>\n",
       "    <tr>\n",
       "      <th>368</th>\n",
       "      <td>98</td>\n",
       "      <td>39</td>\n",
       "    </tr>\n",
       "    <tr>\n",
       "      <th>369</th>\n",
       "      <td>99</td>\n",
       "      <td>342</td>\n",
       "    </tr>\n",
       "  </tbody>\n",
       "</table>\n",
       "<p>370 rows × 2 columns</p>\n",
       "</div>"
      ],
      "text/plain": [
       "     userId  songs_ct\n",
       "0       100        46\n",
       "1    100001        96\n",
       "2    100002        24\n",
       "3    100003       231\n",
       "4    100004       262\n",
       "..      ...       ...\n",
       "365      93       196\n",
       "366      94        56\n",
       "367      97      1148\n",
       "368      98        39\n",
       "369      99       342\n",
       "\n",
       "[370 rows x 2 columns]"
      ]
     },
     "execution_count": 91,
     "metadata": {},
     "output_type": "execute_result"
    }
   ],
   "source": [
    "#get song counts per distint userId\n",
    "#add dist sessions count\n",
    "#get average song counts per distinct session counts\n",
    "#drop prelim calc columns\n",
    "#merge with last merged df to free_df\n",
    "\n",
    "songs_free= free_df.groupby('userId').agg({'song': 'count'}).reset_index()\n",
    "songs_free.columns = ['userId', 'songs_ct']\n",
    "songs_free"
   ]
  },
  {
   "cell_type": "code",
   "execution_count": 92,
   "metadata": {
    "execution": {
     "iopub.execute_input": "2021-02-12T23:46:46.093019Z",
     "iopub.status.busy": "2021-02-12T23:46:46.092419Z",
     "iopub.status.idle": "2021-02-12T23:46:46.111008Z",
     "shell.execute_reply": "2021-02-12T23:46:46.111576Z"
    },
    "papermill": {
     "duration": 0.200045,
     "end_time": "2021-02-12T23:46:46.111712",
     "exception": false,
     "start_time": "2021-02-12T23:46:45.911667",
     "status": "completed"
    },
    "tags": []
   },
   "outputs": [
    {
     "data": {
      "text/html": [
       "<div>\n",
       "<style scoped>\n",
       "    .dataframe tbody tr th:only-of-type {\n",
       "        vertical-align: middle;\n",
       "    }\n",
       "\n",
       "    .dataframe tbody tr th {\n",
       "        vertical-align: top;\n",
       "    }\n",
       "\n",
       "    .dataframe thead th {\n",
       "        text-align: right;\n",
       "    }\n",
       "</style>\n",
       "<table border=\"1\" class=\"dataframe\">\n",
       "  <thead>\n",
       "    <tr style=\"text-align: right;\">\n",
       "      <th></th>\n",
       "      <th>userId</th>\n",
       "      <th>av_session_songs</th>\n",
       "    </tr>\n",
       "  </thead>\n",
       "  <tbody>\n",
       "    <tr>\n",
       "      <th>0</th>\n",
       "      <td>100</td>\n",
       "      <td>23.000000</td>\n",
       "    </tr>\n",
       "    <tr>\n",
       "      <th>1</th>\n",
       "      <td>100001</td>\n",
       "      <td>32.000000</td>\n",
       "    </tr>\n",
       "    <tr>\n",
       "      <th>2</th>\n",
       "      <td>100002</td>\n",
       "      <td>8.000000</td>\n",
       "    </tr>\n",
       "    <tr>\n",
       "      <th>3</th>\n",
       "      <td>100003</td>\n",
       "      <td>46.200000</td>\n",
       "    </tr>\n",
       "    <tr>\n",
       "      <th>4</th>\n",
       "      <td>100004</td>\n",
       "      <td>52.400000</td>\n",
       "    </tr>\n",
       "    <tr>\n",
       "      <th>...</th>\n",
       "      <td>...</td>\n",
       "      <td>...</td>\n",
       "    </tr>\n",
       "    <tr>\n",
       "      <th>365</th>\n",
       "      <td>93</td>\n",
       "      <td>49.000000</td>\n",
       "    </tr>\n",
       "    <tr>\n",
       "      <th>366</th>\n",
       "      <td>94</td>\n",
       "      <td>9.333333</td>\n",
       "    </tr>\n",
       "    <tr>\n",
       "      <th>367</th>\n",
       "      <td>97</td>\n",
       "      <td>39.586207</td>\n",
       "    </tr>\n",
       "    <tr>\n",
       "      <th>368</th>\n",
       "      <td>98</td>\n",
       "      <td>6.500000</td>\n",
       "    </tr>\n",
       "    <tr>\n",
       "      <th>369</th>\n",
       "      <td>99</td>\n",
       "      <td>34.200000</td>\n",
       "    </tr>\n",
       "  </tbody>\n",
       "</table>\n",
       "<p>370 rows × 2 columns</p>\n",
       "</div>"
      ],
      "text/plain": [
       "     userId  av_session_songs\n",
       "0       100         23.000000\n",
       "1    100001         32.000000\n",
       "2    100002          8.000000\n",
       "3    100003         46.200000\n",
       "4    100004         52.400000\n",
       "..      ...               ...\n",
       "365      93         49.000000\n",
       "366      94          9.333333\n",
       "367      97         39.586207\n",
       "368      98          6.500000\n",
       "369      99         34.200000\n",
       "\n",
       "[370 rows x 2 columns]"
      ]
     },
     "execution_count": 92,
     "metadata": {},
     "output_type": "execute_result"
    }
   ],
   "source": [
    "songs_free = pd.merge(sessions_free,songs_free, on=\"userId\")\n",
    "songs_free['av_session_songs'] = songs_free['songs_ct']/songs_free['dist_sessions_ct']\n",
    "songs_free = songs_free.drop(columns=['dist_sessions_ct', 'songs_ct'])\n",
    "songs_free"
   ]
  },
  {
   "cell_type": "code",
   "execution_count": 93,
   "metadata": {
    "execution": {
     "iopub.execute_input": "2021-02-12T23:46:46.472056Z",
     "iopub.status.busy": "2021-02-12T23:46:46.471387Z",
     "iopub.status.idle": "2021-02-12T23:46:46.504414Z",
     "shell.execute_reply": "2021-02-12T23:46:46.504957Z"
    },
    "papermill": {
     "duration": 0.214858,
     "end_time": "2021-02-12T23:46:46.505129",
     "exception": false,
     "start_time": "2021-02-12T23:46:46.290271",
     "status": "completed"
    },
    "tags": []
   },
   "outputs": [
    {
     "data": {
      "text/html": [
       "<div>\n",
       "<style scoped>\n",
       "    .dataframe tbody tr th:only-of-type {\n",
       "        vertical-align: middle;\n",
       "    }\n",
       "\n",
       "    .dataframe tbody tr th {\n",
       "        vertical-align: top;\n",
       "    }\n",
       "\n",
       "    .dataframe thead th {\n",
       "        text-align: right;\n",
       "    }\n",
       "</style>\n",
       "<table border=\"1\" class=\"dataframe\">\n",
       "  <thead>\n",
       "    <tr style=\"text-align: right;\">\n",
       "      <th></th>\n",
       "      <th>userId</th>\n",
       "      <th>free About</th>\n",
       "      <th>free Add Friend</th>\n",
       "      <th>free Add to Playlist</th>\n",
       "      <th>free Error</th>\n",
       "      <th>free Help</th>\n",
       "      <th>free Home</th>\n",
       "      <th>free Logout</th>\n",
       "      <th>free Roll Advert</th>\n",
       "      <th>free Save Settings</th>\n",
       "      <th>...</th>\n",
       "      <th>paid Save Settings</th>\n",
       "      <th>paid Settings</th>\n",
       "      <th>paid Submit Downgrade</th>\n",
       "      <th>paid Thumbs Down</th>\n",
       "      <th>paid Thumbs Up</th>\n",
       "      <th>label</th>\n",
       "      <th>days_free</th>\n",
       "      <th>dist_sessions_ct</th>\n",
       "      <th>av_session_hrs</th>\n",
       "      <th>av_session_songs</th>\n",
       "    </tr>\n",
       "  </thead>\n",
       "  <tbody>\n",
       "    <tr>\n",
       "      <th>0</th>\n",
       "      <td>10</td>\n",
       "      <td>0</td>\n",
       "      <td>0</td>\n",
       "      <td>0</td>\n",
       "      <td>0</td>\n",
       "      <td>0</td>\n",
       "      <td>0</td>\n",
       "      <td>0</td>\n",
       "      <td>0</td>\n",
       "      <td>0</td>\n",
       "      <td>...</td>\n",
       "      <td>0</td>\n",
       "      <td>2</td>\n",
       "      <td>0</td>\n",
       "      <td>1</td>\n",
       "      <td>17</td>\n",
       "      <td>1</td>\n",
       "      <td>NaN</td>\n",
       "      <td>NaN</td>\n",
       "      <td>NaN</td>\n",
       "      <td>NaN</td>\n",
       "    </tr>\n",
       "    <tr>\n",
       "      <th>1</th>\n",
       "      <td>100</td>\n",
       "      <td>0</td>\n",
       "      <td>0</td>\n",
       "      <td>2</td>\n",
       "      <td>0</td>\n",
       "      <td>0</td>\n",
       "      <td>3</td>\n",
       "      <td>1</td>\n",
       "      <td>5</td>\n",
       "      <td>0</td>\n",
       "      <td>...</td>\n",
       "      <td>2</td>\n",
       "      <td>17</td>\n",
       "      <td>0</td>\n",
       "      <td>37</td>\n",
       "      <td>142</td>\n",
       "      <td>0</td>\n",
       "      <td>1.0</td>\n",
       "      <td>2.0</td>\n",
       "      <td>5.422500</td>\n",
       "      <td>23.000000</td>\n",
       "    </tr>\n",
       "    <tr>\n",
       "      <th>2</th>\n",
       "      <td>100001</td>\n",
       "      <td>1</td>\n",
       "      <td>1</td>\n",
       "      <td>3</td>\n",
       "      <td>0</td>\n",
       "      <td>1</td>\n",
       "      <td>4</td>\n",
       "      <td>2</td>\n",
       "      <td>13</td>\n",
       "      <td>0</td>\n",
       "      <td>...</td>\n",
       "      <td>0</td>\n",
       "      <td>0</td>\n",
       "      <td>0</td>\n",
       "      <td>0</td>\n",
       "      <td>0</td>\n",
       "      <td>1</td>\n",
       "      <td>1.0</td>\n",
       "      <td>3.0</td>\n",
       "      <td>2.681019</td>\n",
       "      <td>32.000000</td>\n",
       "    </tr>\n",
       "    <tr>\n",
       "      <th>3</th>\n",
       "      <td>100002</td>\n",
       "      <td>0</td>\n",
       "      <td>0</td>\n",
       "      <td>1</td>\n",
       "      <td>0</td>\n",
       "      <td>1</td>\n",
       "      <td>5</td>\n",
       "      <td>2</td>\n",
       "      <td>5</td>\n",
       "      <td>0</td>\n",
       "      <td>...</td>\n",
       "      <td>0</td>\n",
       "      <td>0</td>\n",
       "      <td>1</td>\n",
       "      <td>2</td>\n",
       "      <td>5</td>\n",
       "      <td>0</td>\n",
       "      <td>24.0</td>\n",
       "      <td>3.0</td>\n",
       "      <td>4.270463</td>\n",
       "      <td>8.000000</td>\n",
       "    </tr>\n",
       "    <tr>\n",
       "      <th>4</th>\n",
       "      <td>100003</td>\n",
       "      <td>0</td>\n",
       "      <td>6</td>\n",
       "      <td>6</td>\n",
       "      <td>1</td>\n",
       "      <td>1</td>\n",
       "      <td>10</td>\n",
       "      <td>4</td>\n",
       "      <td>37</td>\n",
       "      <td>0</td>\n",
       "      <td>...</td>\n",
       "      <td>1</td>\n",
       "      <td>3</td>\n",
       "      <td>0</td>\n",
       "      <td>3</td>\n",
       "      <td>10</td>\n",
       "      <td>1</td>\n",
       "      <td>18.0</td>\n",
       "      <td>5.0</td>\n",
       "      <td>1.287056</td>\n",
       "      <td>46.200000</td>\n",
       "    </tr>\n",
       "    <tr>\n",
       "      <th>...</th>\n",
       "      <td>...</td>\n",
       "      <td>...</td>\n",
       "      <td>...</td>\n",
       "      <td>...</td>\n",
       "      <td>...</td>\n",
       "      <td>...</td>\n",
       "      <td>...</td>\n",
       "      <td>...</td>\n",
       "      <td>...</td>\n",
       "      <td>...</td>\n",
       "      <td>...</td>\n",
       "      <td>...</td>\n",
       "      <td>...</td>\n",
       "      <td>...</td>\n",
       "      <td>...</td>\n",
       "      <td>...</td>\n",
       "      <td>...</td>\n",
       "      <td>...</td>\n",
       "      <td>...</td>\n",
       "      <td>...</td>\n",
       "      <td>...</td>\n",
       "    </tr>\n",
       "    <tr>\n",
       "      <th>443</th>\n",
       "      <td>95</td>\n",
       "      <td>0</td>\n",
       "      <td>0</td>\n",
       "      <td>0</td>\n",
       "      <td>0</td>\n",
       "      <td>0</td>\n",
       "      <td>0</td>\n",
       "      <td>0</td>\n",
       "      <td>0</td>\n",
       "      <td>0</td>\n",
       "      <td>...</td>\n",
       "      <td>5</td>\n",
       "      <td>16</td>\n",
       "      <td>0</td>\n",
       "      <td>21</td>\n",
       "      <td>122</td>\n",
       "      <td>0</td>\n",
       "      <td>NaN</td>\n",
       "      <td>NaN</td>\n",
       "      <td>NaN</td>\n",
       "      <td>NaN</td>\n",
       "    </tr>\n",
       "    <tr>\n",
       "      <th>444</th>\n",
       "      <td>96</td>\n",
       "      <td>0</td>\n",
       "      <td>0</td>\n",
       "      <td>0</td>\n",
       "      <td>0</td>\n",
       "      <td>0</td>\n",
       "      <td>0</td>\n",
       "      <td>0</td>\n",
       "      <td>0</td>\n",
       "      <td>0</td>\n",
       "      <td>...</td>\n",
       "      <td>3</td>\n",
       "      <td>8</td>\n",
       "      <td>0</td>\n",
       "      <td>20</td>\n",
       "      <td>78</td>\n",
       "      <td>0</td>\n",
       "      <td>NaN</td>\n",
       "      <td>NaN</td>\n",
       "      <td>NaN</td>\n",
       "      <td>NaN</td>\n",
       "    </tr>\n",
       "    <tr>\n",
       "      <th>445</th>\n",
       "      <td>97</td>\n",
       "      <td>6</td>\n",
       "      <td>23</td>\n",
       "      <td>31</td>\n",
       "      <td>2</td>\n",
       "      <td>9</td>\n",
       "      <td>73</td>\n",
       "      <td>17</td>\n",
       "      <td>96</td>\n",
       "      <td>4</td>\n",
       "      <td>...</td>\n",
       "      <td>0</td>\n",
       "      <td>0</td>\n",
       "      <td>0</td>\n",
       "      <td>1</td>\n",
       "      <td>4</td>\n",
       "      <td>0</td>\n",
       "      <td>54.0</td>\n",
       "      <td>29.0</td>\n",
       "      <td>0.180738</td>\n",
       "      <td>39.586207</td>\n",
       "    </tr>\n",
       "    <tr>\n",
       "      <th>446</th>\n",
       "      <td>98</td>\n",
       "      <td>0</td>\n",
       "      <td>2</td>\n",
       "      <td>2</td>\n",
       "      <td>0</td>\n",
       "      <td>1</td>\n",
       "      <td>5</td>\n",
       "      <td>2</td>\n",
       "      <td>3</td>\n",
       "      <td>1</td>\n",
       "      <td>...</td>\n",
       "      <td>7</td>\n",
       "      <td>16</td>\n",
       "      <td>0</td>\n",
       "      <td>31</td>\n",
       "      <td>129</td>\n",
       "      <td>0</td>\n",
       "      <td>9.0</td>\n",
       "      <td>6.0</td>\n",
       "      <td>2.144583</td>\n",
       "      <td>6.500000</td>\n",
       "    </tr>\n",
       "    <tr>\n",
       "      <th>447</th>\n",
       "      <td>99</td>\n",
       "      <td>1</td>\n",
       "      <td>14</td>\n",
       "      <td>6</td>\n",
       "      <td>0</td>\n",
       "      <td>3</td>\n",
       "      <td>14</td>\n",
       "      <td>6</td>\n",
       "      <td>27</td>\n",
       "      <td>0</td>\n",
       "      <td>...</td>\n",
       "      <td>0</td>\n",
       "      <td>4</td>\n",
       "      <td>1</td>\n",
       "      <td>6</td>\n",
       "      <td>27</td>\n",
       "      <td>0</td>\n",
       "      <td>55.0</td>\n",
       "      <td>10.0</td>\n",
       "      <td>2.090917</td>\n",
       "      <td>34.200000</td>\n",
       "    </tr>\n",
       "  </tbody>\n",
       "</table>\n",
       "<p>448 rows × 32 columns</p>\n",
       "</div>"
      ],
      "text/plain": [
       "     userId  free About  free Add Friend  free Add to Playlist  free Error  \\\n",
       "0        10           0                0                     0           0   \n",
       "1       100           0                0                     2           0   \n",
       "2    100001           1                1                     3           0   \n",
       "3    100002           0                0                     1           0   \n",
       "4    100003           0                6                     6           1   \n",
       "..      ...         ...              ...                   ...         ...   \n",
       "443      95           0                0                     0           0   \n",
       "444      96           0                0                     0           0   \n",
       "445      97           6               23                    31           2   \n",
       "446      98           0                2                     2           0   \n",
       "447      99           1               14                     6           0   \n",
       "\n",
       "     free Help  free Home  free Logout  free Roll Advert  free Save Settings  \\\n",
       "0            0          0            0                 0                   0   \n",
       "1            0          3            1                 5                   0   \n",
       "2            1          4            2                13                   0   \n",
       "3            1          5            2                 5                   0   \n",
       "4            1         10            4                37                   0   \n",
       "..         ...        ...          ...               ...                 ...   \n",
       "443          0          0            0                 0                   0   \n",
       "444          0          0            0                 0                   0   \n",
       "445          9         73           17                96                   4   \n",
       "446          1          5            2                 3                   1   \n",
       "447          3         14            6                27                   0   \n",
       "\n",
       "     ...  paid Save Settings  paid Settings  paid Submit Downgrade  \\\n",
       "0    ...                   0              2                      0   \n",
       "1    ...                   2             17                      0   \n",
       "2    ...                   0              0                      0   \n",
       "3    ...                   0              0                      1   \n",
       "4    ...                   1              3                      0   \n",
       "..   ...                 ...            ...                    ...   \n",
       "443  ...                   5             16                      0   \n",
       "444  ...                   3              8                      0   \n",
       "445  ...                   0              0                      0   \n",
       "446  ...                   7             16                      0   \n",
       "447  ...                   0              4                      1   \n",
       "\n",
       "     paid Thumbs Down  paid Thumbs Up  label  days_free  dist_sessions_ct  \\\n",
       "0                   1              17      1        NaN               NaN   \n",
       "1                  37             142      0        1.0               2.0   \n",
       "2                   0               0      1        1.0               3.0   \n",
       "3                   2               5      0       24.0               3.0   \n",
       "4                   3              10      1       18.0               5.0   \n",
       "..                ...             ...    ...        ...               ...   \n",
       "443                21             122      0        NaN               NaN   \n",
       "444                20              78      0        NaN               NaN   \n",
       "445                 1               4      0       54.0              29.0   \n",
       "446                31             129      0        9.0               6.0   \n",
       "447                 6              27      0       55.0              10.0   \n",
       "\n",
       "     av_session_hrs  av_session_songs  \n",
       "0               NaN               NaN  \n",
       "1          5.422500         23.000000  \n",
       "2          2.681019         32.000000  \n",
       "3          4.270463          8.000000  \n",
       "4          1.287056         46.200000  \n",
       "..              ...               ...  \n",
       "443             NaN               NaN  \n",
       "444             NaN               NaN  \n",
       "445        0.180738         39.586207  \n",
       "446        2.144583          6.500000  \n",
       "447        2.090917         34.200000  \n",
       "\n",
       "[448 rows x 32 columns]"
      ]
     },
     "execution_count": 93,
     "metadata": {},
     "output_type": "execute_result"
    }
   ],
   "source": [
    "final_df = pd.merge(tshrs_free, songs_free, on=\"userId\", how=\"left\")\n",
    "final_df"
   ]
  },
  {
   "cell_type": "code",
   "execution_count": 94,
   "metadata": {
    "execution": {
     "iopub.execute_input": "2021-02-12T23:46:46.868871Z",
     "iopub.status.busy": "2021-02-12T23:46:46.868198Z",
     "iopub.status.idle": "2021-02-12T23:46:46.873307Z",
     "shell.execute_reply": "2021-02-12T23:46:46.873820Z"
    },
    "papermill": {
     "duration": 0.188545,
     "end_time": "2021-02-12T23:46:46.873957",
     "exception": false,
     "start_time": "2021-02-12T23:46:46.685412",
     "status": "completed"
    },
    "tags": []
   },
   "outputs": [],
   "source": [
    "final_df=final_df.fillna(0)"
   ]
  },
  {
   "cell_type": "markdown",
   "metadata": {
    "papermill": {
     "duration": 0.178717,
     "end_time": "2021-02-12T23:46:47.233376",
     "exception": false,
     "start_time": "2021-02-12T23:46:47.054659",
     "status": "completed"
    },
    "tags": []
   },
   "source": [
    "448 rows of training data is not a huge amount, but let's see what we get with model's performace on test data."
   ]
  },
  {
   "cell_type": "markdown",
   "metadata": {
    "papermill": {
     "duration": 0.18144,
     "end_time": "2021-02-12T23:46:47.593959",
     "exception": false,
     "start_time": "2021-02-12T23:46:47.412519",
     "status": "completed"
    },
    "tags": []
   },
   "source": [
    "# Modeling"
   ]
  },
  {
   "cell_type": "code",
   "execution_count": 95,
   "metadata": {
    "execution": {
     "iopub.execute_input": "2021-02-12T23:46:47.956412Z",
     "iopub.status.busy": "2021-02-12T23:46:47.955666Z",
     "iopub.status.idle": "2021-02-12T23:46:47.961192Z",
     "shell.execute_reply": "2021-02-12T23:46:47.961706Z"
    },
    "papermill": {
     "duration": 0.188214,
     "end_time": "2021-02-12T23:46:47.961846",
     "exception": false,
     "start_time": "2021-02-12T23:46:47.773632",
     "status": "completed"
    },
    "tags": []
   },
   "outputs": [],
   "source": [
    "#Data prep\n",
    "X = final_df.drop(columns=['userId', 'label'])\n",
    "y = final_df.label"
   ]
  },
  {
   "cell_type": "code",
   "execution_count": 96,
   "metadata": {
    "execution": {
     "iopub.execute_input": "2021-02-12T23:46:48.324829Z",
     "iopub.status.busy": "2021-02-12T23:46:48.324198Z",
     "iopub.status.idle": "2021-02-12T23:46:48.330344Z",
     "shell.execute_reply": "2021-02-12T23:46:48.330886Z"
    },
    "papermill": {
     "duration": 0.190077,
     "end_time": "2021-02-12T23:46:48.331032",
     "exception": false,
     "start_time": "2021-02-12T23:46:48.140955",
     "status": "completed"
    },
    "tags": []
   },
   "outputs": [],
   "source": [
    "#Train / Test split\n",
    "\n",
    "X_train, X_test, y_train, y_test = train_test_split(X, y, test_size=0.2, random_state=42, shuffle=True)"
   ]
  },
  {
   "cell_type": "code",
   "execution_count": 97,
   "metadata": {
    "execution": {
     "iopub.execute_input": "2021-02-12T23:46:48.698387Z",
     "iopub.status.busy": "2021-02-12T23:46:48.697743Z",
     "iopub.status.idle": "2021-02-12T23:46:48.703912Z",
     "shell.execute_reply": "2021-02-12T23:46:48.704456Z"
    },
    "papermill": {
     "duration": 0.189882,
     "end_time": "2021-02-12T23:46:48.704604",
     "exception": false,
     "start_time": "2021-02-12T23:46:48.514722",
     "status": "completed"
    },
    "tags": []
   },
   "outputs": [
    {
     "name": "stdout",
     "output_type": "stream",
     "text": [
      "(358, 30)\n",
      "(90, 30)\n"
     ]
    }
   ],
   "source": [
    "print(X_train.shape)\n",
    "print(X_test.shape)"
   ]
  },
  {
   "cell_type": "markdown",
   "metadata": {
    "papermill": {
     "duration": 0.180385,
     "end_time": "2021-02-12T23:46:49.068007",
     "exception": false,
     "start_time": "2021-02-12T23:46:48.887622",
     "status": "completed"
    },
    "tags": []
   },
   "source": [
    "## Logistic Regression"
   ]
  },
  {
   "cell_type": "code",
   "execution_count": 98,
   "metadata": {
    "execution": {
     "iopub.execute_input": "2021-02-12T23:46:49.474477Z",
     "iopub.status.busy": "2021-02-12T23:46:49.473782Z",
     "iopub.status.idle": "2021-02-12T23:46:49.523637Z",
     "shell.execute_reply": "2021-02-12T23:46:49.522933Z"
    },
    "papermill": {
     "duration": 0.275419,
     "end_time": "2021-02-12T23:46:49.523751",
     "exception": false,
     "start_time": "2021-02-12T23:46:49.248332",
     "status": "completed"
    },
    "tags": []
   },
   "outputs": [
    {
     "name": "stdout",
     "output_type": "stream",
     "text": [
      "              precision    recall  f1-score   support\n",
      "\n",
      "           0       0.79      0.94      0.86        64\n",
      "           1       0.71      0.38      0.50        26\n",
      "\n",
      "    accuracy                           0.78        90\n",
      "   macro avg       0.75      0.66      0.68        90\n",
      "weighted avg       0.77      0.78      0.75        90\n",
      "\n"
     ]
    }
   ],
   "source": [
    "CLF = LogisticRegression(C=1.0)\n",
    "CLF.fit(X_train, y_train)\n",
    "predictions = CLF.predict(X_test)\n",
    "\n",
    "\n",
    "print(classification_report(y_test, predictions))"
   ]
  },
  {
   "cell_type": "code",
   "execution_count": 99,
   "metadata": {
    "execution": {
     "iopub.execute_input": "2021-02-12T23:46:49.894072Z",
     "iopub.status.busy": "2021-02-12T23:46:49.892593Z",
     "iopub.status.idle": "2021-02-12T23:46:49.897018Z",
     "shell.execute_reply": "2021-02-12T23:46:49.897678Z"
    },
    "papermill": {
     "duration": 0.19022,
     "end_time": "2021-02-12T23:46:49.897816",
     "exception": false,
     "start_time": "2021-02-12T23:46:49.707596",
     "status": "completed"
    },
    "tags": []
   },
   "outputs": [
    {
     "data": {
      "text/plain": [
       "array([[60,  4],\n",
       "       [16, 10]])"
      ]
     },
     "execution_count": 99,
     "metadata": {},
     "output_type": "execute_result"
    }
   ],
   "source": [
    "confusion_matrix(y_test, predictions)"
   ]
  },
  {
   "cell_type": "code",
   "execution_count": 100,
   "metadata": {
    "execution": {
     "iopub.execute_input": "2021-02-12T23:46:50.265289Z",
     "iopub.status.busy": "2021-02-12T23:46:50.264598Z",
     "iopub.status.idle": "2021-02-12T23:46:50.270690Z",
     "shell.execute_reply": "2021-02-12T23:46:50.271302Z"
    },
    "papermill": {
     "duration": 0.191679,
     "end_time": "2021-02-12T23:46:50.271437",
     "exception": false,
     "start_time": "2021-02-12T23:46:50.079758",
     "status": "completed"
    },
    "tags": []
   },
   "outputs": [
    {
     "data": {
      "text/plain": [
       "0    64\n",
       "1    26\n",
       "Name: label, dtype: int64"
      ]
     },
     "execution_count": 100,
     "metadata": {},
     "output_type": "execute_result"
    }
   ],
   "source": [
    "#Reminder of churn distribution in test data\n",
    "y_test.value_counts()"
   ]
  },
  {
   "cell_type": "markdown",
   "metadata": {
    "papermill": {
     "duration": 0.183488,
     "end_time": "2021-02-12T23:46:50.638110",
     "exception": false,
     "start_time": "2021-02-12T23:46:50.454622",
     "status": "completed"
    },
    "tags": []
   },
   "source": [
    "In order to determine the success metric, we have to determine what is the worst case scenario given the business question. Would it be worse to have more false negatives (false non-churn) or false positives (false churnned). Usually, in a business context, it comes down to cost. How much would the business lose if they missed those who were going to churn versus incorrectly trying to win back those who are churnning. It would be more costly to miss those who are churnning since revenue from subscriptions would be lost versus an email being sent to someone who was not actually a churner.\n",
    "\n",
    "Therefore, success metric is going to be f1-score of minority class (1- churn) and the total number of incorrect predictions from the model with specific attention paid to false negatives (want to catch as many churnners as possible).\n",
    "\n",
    "So we can see here that f1-score for minority class is only .5. And total incorrectly classified predictions are 20 with 16 as false negatives. Let's see if we can do better with other baseline models like Naive Bayes."
   ]
  },
  {
   "cell_type": "markdown",
   "metadata": {
    "papermill": {
     "duration": 0.181316,
     "end_time": "2021-02-12T23:46:51.002569",
     "exception": false,
     "start_time": "2021-02-12T23:46:50.821253",
     "status": "completed"
    },
    "tags": []
   },
   "source": [
    "## Naive Bayes"
   ]
  },
  {
   "cell_type": "code",
   "execution_count": 101,
   "metadata": {
    "execution": {
     "iopub.execute_input": "2021-02-12T23:46:51.376666Z",
     "iopub.status.busy": "2021-02-12T23:46:51.375892Z",
     "iopub.status.idle": "2021-02-12T23:46:51.392323Z",
     "shell.execute_reply": "2021-02-12T23:46:51.391778Z"
    },
    "papermill": {
     "duration": 0.208128,
     "end_time": "2021-02-12T23:46:51.392442",
     "exception": false,
     "start_time": "2021-02-12T23:46:51.184314",
     "status": "completed"
    },
    "tags": []
   },
   "outputs": [
    {
     "name": "stdout",
     "output_type": "stream",
     "text": [
      "              precision    recall  f1-score   support\n",
      "\n",
      "           0       0.75      0.52      0.61        64\n",
      "           1       0.33      0.58      0.42        26\n",
      "\n",
      "    accuracy                           0.53        90\n",
      "   macro avg       0.54      0.55      0.51        90\n",
      "weighted avg       0.63      0.53      0.55        90\n",
      "\n"
     ]
    }
   ],
   "source": [
    "clf = MultinomialNB()\n",
    "clf.fit(X_train, y_train)\n",
    "predictions = clf.predict(X_test)\n",
    "\n",
    "print (classification_report(y_test, predictions))"
   ]
  },
  {
   "cell_type": "code",
   "execution_count": 102,
   "metadata": {
    "execution": {
     "iopub.execute_input": "2021-02-12T23:46:51.771728Z",
     "iopub.status.busy": "2021-02-12T23:46:51.770716Z",
     "iopub.status.idle": "2021-02-12T23:46:51.777120Z",
     "shell.execute_reply": "2021-02-12T23:46:51.776547Z"
    },
    "papermill": {
     "duration": 0.202119,
     "end_time": "2021-02-12T23:46:51.777239",
     "exception": false,
     "start_time": "2021-02-12T23:46:51.575120",
     "status": "completed"
    },
    "tags": []
   },
   "outputs": [
    {
     "data": {
      "text/plain": [
       "array([[33, 31],\n",
       "       [11, 15]])"
      ]
     },
     "execution_count": 102,
     "metadata": {},
     "output_type": "execute_result"
    }
   ],
   "source": [
    "confusion_matrix(y_test, predictions)"
   ]
  },
  {
   "cell_type": "markdown",
   "metadata": {
    "papermill": {
     "duration": 0.185697,
     "end_time": "2021-02-12T23:46:52.150695",
     "exception": false,
     "start_time": "2021-02-12T23:46:51.964998",
     "status": "completed"
    },
    "tags": []
   },
   "source": [
    "We can see here that Naive Bayes did worse since it has lower f1-score in minority class and total incorrect predictions more than doubled to 42. Though number of false negatives dropped to 11. Still, rather have higher f1 and less incorrect predictions in total. Let's see if SVM does any better."
   ]
  },
  {
   "cell_type": "markdown",
   "metadata": {
    "papermill": {
     "duration": 0.183213,
     "end_time": "2021-02-12T23:46:52.518317",
     "exception": false,
     "start_time": "2021-02-12T23:46:52.335104",
     "status": "completed"
    },
    "tags": []
   },
   "source": [
    "## Support Vector Machines"
   ]
  },
  {
   "cell_type": "code",
   "execution_count": 103,
   "metadata": {
    "execution": {
     "iopub.execute_input": "2021-02-12T23:46:52.896268Z",
     "iopub.status.busy": "2021-02-12T23:46:52.895550Z",
     "iopub.status.idle": "2021-02-12T23:49:57.096728Z",
     "shell.execute_reply": "2021-02-12T23:49:57.097350Z"
    },
    "papermill": {
     "duration": 184.394295,
     "end_time": "2021-02-12T23:49:57.097539",
     "exception": false,
     "start_time": "2021-02-12T23:46:52.703244",
     "status": "completed"
    },
    "tags": []
   },
   "outputs": [
    {
     "name": "stdout",
     "output_type": "stream",
     "text": [
      "              precision    recall  f1-score   support\n",
      "\n",
      "           0       0.72      0.94      0.82        64\n",
      "           1       0.43      0.12      0.18        26\n",
      "\n",
      "    accuracy                           0.70        90\n",
      "   macro avg       0.58      0.53      0.50        90\n",
      "weighted avg       0.64      0.70      0.63        90\n",
      "\n"
     ]
    }
   ],
   "source": [
    "clf = svm.SVC(kernel='linear')\n",
    "clf.fit(X_train, y_train)\n",
    "predictions = clf.predict(X_test)\n",
    "\n",
    "print (classification_report(y_test, predictions))"
   ]
  },
  {
   "cell_type": "code",
   "execution_count": 104,
   "metadata": {
    "execution": {
     "iopub.execute_input": "2021-02-12T23:49:57.473995Z",
     "iopub.status.busy": "2021-02-12T23:49:57.473028Z",
     "iopub.status.idle": "2021-02-12T23:49:57.477915Z",
     "shell.execute_reply": "2021-02-12T23:49:57.477257Z"
    },
    "papermill": {
     "duration": 0.195001,
     "end_time": "2021-02-12T23:49:57.478029",
     "exception": false,
     "start_time": "2021-02-12T23:49:57.283028",
     "status": "completed"
    },
    "tags": []
   },
   "outputs": [
    {
     "data": {
      "text/plain": [
       "array([[60,  4],\n",
       "       [23,  3]])"
      ]
     },
     "execution_count": 104,
     "metadata": {},
     "output_type": "execute_result"
    }
   ],
   "source": [
    "confusion_matrix(y_test, predictions)"
   ]
  },
  {
   "cell_type": "markdown",
   "metadata": {
    "papermill": {
     "duration": 0.184344,
     "end_time": "2021-02-12T23:49:57.846270",
     "exception": false,
     "start_time": "2021-02-12T23:49:57.661926",
     "status": "completed"
    },
    "tags": []
   },
   "source": [
    "## XGBoost"
   ]
  },
  {
   "cell_type": "code",
   "execution_count": 105,
   "metadata": {
    "execution": {
     "iopub.execute_input": "2021-02-12T23:49:58.223960Z",
     "iopub.status.busy": "2021-02-12T23:49:58.223165Z",
     "iopub.status.idle": "2021-02-12T23:49:58.307194Z",
     "shell.execute_reply": "2021-02-12T23:49:58.307973Z"
    },
    "papermill": {
     "duration": 0.276281,
     "end_time": "2021-02-12T23:49:58.308168",
     "exception": false,
     "start_time": "2021-02-12T23:49:58.031887",
     "status": "completed"
    },
    "tags": []
   },
   "outputs": [
    {
     "name": "stdout",
     "output_type": "stream",
     "text": [
      "              precision    recall  f1-score   support\n",
      "\n",
      "           0       0.78      0.89      0.83        64\n",
      "           1       0.59      0.38      0.47        26\n",
      "\n",
      "    accuracy                           0.74        90\n",
      "   macro avg       0.68      0.64      0.65        90\n",
      "weighted avg       0.73      0.74      0.73        90\n",
      "\n"
     ]
    }
   ],
   "source": [
    "clf = xgb.XGBClassifier()\n",
    "clf.fit(X_train, y_train)\n",
    "predictions = clf.predict(X_test)\n",
    "\n",
    "print (classification_report(y_test, predictions))"
   ]
  },
  {
   "cell_type": "code",
   "execution_count": 106,
   "metadata": {
    "execution": {
     "iopub.execute_input": "2021-02-12T23:49:58.773656Z",
     "iopub.status.busy": "2021-02-12T23:49:58.772765Z",
     "iopub.status.idle": "2021-02-12T23:49:58.776408Z",
     "shell.execute_reply": "2021-02-12T23:49:58.777052Z"
    },
    "papermill": {
     "duration": 0.242533,
     "end_time": "2021-02-12T23:49:58.777218",
     "exception": false,
     "start_time": "2021-02-12T23:49:58.534685",
     "status": "completed"
    },
    "tags": []
   },
   "outputs": [
    {
     "data": {
      "text/plain": [
       "array([[57,  7],\n",
       "       [16, 10]])"
      ]
     },
     "execution_count": 106,
     "metadata": {},
     "output_type": "execute_result"
    }
   ],
   "source": [
    "confusion_matrix(y_test, predictions)"
   ]
  },
  {
   "cell_type": "markdown",
   "metadata": {
    "papermill": {
     "duration": 0.1889,
     "end_time": "2021-02-12T23:49:59.151431",
     "exception": false,
     "start_time": "2021-02-12T23:49:58.962531",
     "status": "completed"
    },
    "tags": []
   },
   "source": [
    "Though XGBoost usually is the winner, reason for it not being the best is that Logistic Regression in general does well.  That is why each of the model's performance are comparable:\n",
    "\n",
    "* f1-score: XGBoost was .03 less than Log Reg\n",
    "* total incorrect: XGBoost has 3 more\n",
    "* false negatives: tied\n",
    "\n",
    "In order to increase XGBoost performance, would need to try different parameters. Also, would need to get more training data/better training data where class imbalance is not so severe, engineer more features and even train with weights given to each class (most represented will be weighted down and vice versa for least represented class)."
   ]
  },
  {
   "cell_type": "markdown",
   "metadata": {
    "papermill": {
     "duration": 0.186031,
     "end_time": "2021-02-12T23:49:59.524413",
     "exception": false,
     "start_time": "2021-02-12T23:49:59.338382",
     "status": "completed"
    },
    "tags": []
   },
   "source": [
    "## Feature Importance"
   ]
  },
  {
   "cell_type": "markdown",
   "metadata": {
    "papermill": {
     "duration": 0.190415,
     "end_time": "2021-02-12T23:49:59.900913",
     "exception": false,
     "start_time": "2021-02-12T23:49:59.710498",
     "status": "completed"
    },
    "tags": []
   },
   "source": [
    "In order to determine which feature contributed most to churn, would need to see which of the features had the highest coefficient. So let's check it out from our Logistic Regression model.\n"
   ]
  },
  {
   "cell_type": "code",
   "execution_count": 107,
   "metadata": {
    "execution": {
     "iopub.execute_input": "2021-02-12T23:50:00.320882Z",
     "iopub.status.busy": "2021-02-12T23:50:00.320059Z",
     "iopub.status.idle": "2021-02-12T23:50:00.322860Z",
     "shell.execute_reply": "2021-02-12T23:50:00.323432Z"
    },
    "papermill": {
     "duration": 0.233458,
     "end_time": "2021-02-12T23:50:00.323590",
     "exception": false,
     "start_time": "2021-02-12T23:50:00.090132",
     "status": "completed"
    },
    "tags": []
   },
   "outputs": [
    {
     "name": "stdout",
     "output_type": "stream",
     "text": [
      "0.1979747673465799\n"
     ]
    }
   ],
   "source": [
    "#greatest coefficient val from all 30 features\n",
    "for i in CLF.coef_:\n",
    "    print(max(i))"
   ]
  },
  {
   "cell_type": "code",
   "execution_count": 108,
   "metadata": {
    "execution": {
     "iopub.execute_input": "2021-02-12T23:50:00.702383Z",
     "iopub.status.busy": "2021-02-12T23:50:00.701662Z",
     "iopub.status.idle": "2021-02-12T23:50:00.708159Z",
     "shell.execute_reply": "2021-02-12T23:50:00.708713Z"
    },
    "papermill": {
     "duration": 0.197552,
     "end_time": "2021-02-12T23:50:00.708868",
     "exception": false,
     "start_time": "2021-02-12T23:50:00.511316",
     "status": "completed"
    },
    "tags": []
   },
   "outputs": [
    {
     "name": "stdout",
     "output_type": "stream",
     "text": [
      "20\n"
     ]
    }
   ],
   "source": [
    "#feature index of greatest feature contributor\n",
    "for i in CLF.coef_:\n",
    "    i = list(i)\n",
    "    print(i.index(0.1979747673465799, 0,29))"
   ]
  },
  {
   "cell_type": "code",
   "execution_count": 109,
   "metadata": {
    "execution": {
     "iopub.execute_input": "2021-02-12T23:50:01.091366Z",
     "iopub.status.busy": "2021-02-12T23:50:01.090662Z",
     "iopub.status.idle": "2021-02-12T23:50:01.096822Z",
     "shell.execute_reply": "2021-02-12T23:50:01.096308Z"
    },
    "papermill": {
     "duration": 0.197763,
     "end_time": "2021-02-12T23:50:01.096951",
     "exception": false,
     "start_time": "2021-02-12T23:50:00.899188",
     "status": "completed"
    },
    "tags": []
   },
   "outputs": [
    {
     "data": {
      "text/plain": [
       "'paid Roll Advert'"
      ]
     },
     "execution_count": 109,
     "metadata": {},
     "output_type": "execute_result"
    }
   ],
   "source": [
    "#most important feature\n",
    "list(X)[20]"
   ]
  },
  {
   "cell_type": "code",
   "execution_count": 110,
   "metadata": {
    "execution": {
     "iopub.execute_input": "2021-02-12T23:50:01.480690Z",
     "iopub.status.busy": "2021-02-12T23:50:01.479965Z",
     "iopub.status.idle": "2021-02-12T23:50:01.490420Z",
     "shell.execute_reply": "2021-02-12T23:50:01.491150Z"
    },
    "papermill": {
     "duration": 0.20518,
     "end_time": "2021-02-12T23:50:01.491329",
     "exception": false,
     "start_time": "2021-02-12T23:50:01.286149",
     "status": "completed"
    },
    "tags": []
   },
   "outputs": [
    {
     "name": "stdout",
     "output_type": "stream",
     "text": [
      "Feature: 0, Score: -0.06885\n",
      "Feature: 1, Score: 0.08751\n",
      "Feature: 2, Score: 0.02713\n",
      "Feature: 3, Score: 0.04512\n",
      "Feature: 4, Score: 0.11690\n",
      "Feature: 5, Score: -0.01535\n",
      "Feature: 6, Score: -0.21024\n",
      "Feature: 7, Score: 0.07389\n",
      "Feature: 8, Score: -0.08864\n",
      "Feature: 9, Score: 0.18115\n",
      "Feature: 10, Score: 0.01317\n",
      "Feature: 11, Score: 0.10062\n",
      "Feature: 12, Score: -0.15328\n",
      "Feature: 13, Score: 0.08566\n",
      "Feature: 14, Score: -0.07896\n",
      "Feature: 15, Score: -0.04816\n",
      "Feature: 16, Score: 0.09342\n",
      "Feature: 17, Score: -0.08540\n",
      "Feature: 18, Score: -0.05024\n",
      "Feature: 19, Score: -0.00018\n",
      "Feature: 20, Score: 0.19797\n",
      "Feature: 21, Score: -0.18439\n",
      "Feature: 22, Score: 0.00900\n",
      "Feature: 23, Score: 0.03542\n",
      "Feature: 24, Score: -0.01753\n",
      "Feature: 25, Score: 0.00081\n",
      "Feature: 26, Score: -0.09467\n",
      "Feature: 27, Score: 0.19306\n",
      "Feature: 28, Score: -0.01865\n",
      "Feature: 29, Score: -0.00316\n"
     ]
    }
   ],
   "source": [
    "for i in CLF.coef_:\n",
    " \n",
    "    for idx,v in enumerate(list(i)):\n",
    "        print('Feature: %0d, Score: %.5f' % (idx,v))"
   ]
  },
  {
   "cell_type": "code",
   "execution_count": 111,
   "metadata": {
    "execution": {
     "iopub.execute_input": "2021-02-12T23:50:02.023165Z",
     "iopub.status.busy": "2021-02-12T23:50:02.022059Z",
     "iopub.status.idle": "2021-02-12T23:50:02.027733Z",
     "shell.execute_reply": "2021-02-12T23:50:02.027184Z"
    },
    "papermill": {
     "duration": 0.347383,
     "end_time": "2021-02-12T23:50:02.027857",
     "exception": false,
     "start_time": "2021-02-12T23:50:01.680474",
     "status": "completed"
    },
    "tags": []
   },
   "outputs": [
    {
     "data": {
      "text/html": [
       "<div>\n",
       "<style scoped>\n",
       "    .dataframe tbody tr th:only-of-type {\n",
       "        vertical-align: middle;\n",
       "    }\n",
       "\n",
       "    .dataframe tbody tr th {\n",
       "        vertical-align: top;\n",
       "    }\n",
       "\n",
       "    .dataframe thead th {\n",
       "        text-align: right;\n",
       "    }\n",
       "</style>\n",
       "<table border=\"1\" class=\"dataframe\">\n",
       "  <thead>\n",
       "    <tr style=\"text-align: right;\">\n",
       "      <th></th>\n",
       "      <th>Feature</th>\n",
       "      <th>Coefficient</th>\n",
       "    </tr>\n",
       "  </thead>\n",
       "  <tbody>\n",
       "    <tr>\n",
       "      <th>20</th>\n",
       "      <td>paid Roll Advert</td>\n",
       "      <td>0.197975</td>\n",
       "    </tr>\n",
       "    <tr>\n",
       "      <th>27</th>\n",
       "      <td>dist_sessions_ct</td>\n",
       "      <td>0.193059</td>\n",
       "    </tr>\n",
       "    <tr>\n",
       "      <th>9</th>\n",
       "      <td>free Settings</td>\n",
       "      <td>0.181148</td>\n",
       "    </tr>\n",
       "    <tr>\n",
       "      <th>4</th>\n",
       "      <td>free Help</td>\n",
       "      <td>0.116901</td>\n",
       "    </tr>\n",
       "    <tr>\n",
       "      <th>11</th>\n",
       "      <td>free Thumbs Down</td>\n",
       "      <td>0.100616</td>\n",
       "    </tr>\n",
       "    <tr>\n",
       "      <th>16</th>\n",
       "      <td>paid Downgrade</td>\n",
       "      <td>0.093423</td>\n",
       "    </tr>\n",
       "    <tr>\n",
       "      <th>1</th>\n",
       "      <td>free Add Friend</td>\n",
       "      <td>0.087513</td>\n",
       "    </tr>\n",
       "    <tr>\n",
       "      <th>13</th>\n",
       "      <td>free Upgrade</td>\n",
       "      <td>0.085664</td>\n",
       "    </tr>\n",
       "    <tr>\n",
       "      <th>7</th>\n",
       "      <td>free Roll Advert</td>\n",
       "      <td>0.073886</td>\n",
       "    </tr>\n",
       "    <tr>\n",
       "      <th>3</th>\n",
       "      <td>free Error</td>\n",
       "      <td>0.045119</td>\n",
       "    </tr>\n",
       "    <tr>\n",
       "      <th>23</th>\n",
       "      <td>paid Submit Downgrade</td>\n",
       "      <td>0.035419</td>\n",
       "    </tr>\n",
       "    <tr>\n",
       "      <th>2</th>\n",
       "      <td>free Add to Playlist</td>\n",
       "      <td>0.027134</td>\n",
       "    </tr>\n",
       "    <tr>\n",
       "      <th>10</th>\n",
       "      <td>free Submit Upgrade</td>\n",
       "      <td>0.013174</td>\n",
       "    </tr>\n",
       "    <tr>\n",
       "      <th>22</th>\n",
       "      <td>paid Settings</td>\n",
       "      <td>0.009000</td>\n",
       "    </tr>\n",
       "    <tr>\n",
       "      <th>25</th>\n",
       "      <td>paid Thumbs Up</td>\n",
       "      <td>0.000811</td>\n",
       "    </tr>\n",
       "    <tr>\n",
       "      <th>19</th>\n",
       "      <td>paid NextSong</td>\n",
       "      <td>-0.000180</td>\n",
       "    </tr>\n",
       "    <tr>\n",
       "      <th>29</th>\n",
       "      <td>av_session_songs</td>\n",
       "      <td>-0.003161</td>\n",
       "    </tr>\n",
       "    <tr>\n",
       "      <th>5</th>\n",
       "      <td>free Home</td>\n",
       "      <td>-0.015354</td>\n",
       "    </tr>\n",
       "    <tr>\n",
       "      <th>24</th>\n",
       "      <td>paid Thumbs Down</td>\n",
       "      <td>-0.017529</td>\n",
       "    </tr>\n",
       "    <tr>\n",
       "      <th>28</th>\n",
       "      <td>av_session_hrs</td>\n",
       "      <td>-0.018645</td>\n",
       "    </tr>\n",
       "    <tr>\n",
       "      <th>15</th>\n",
       "      <td>paid Add Friend</td>\n",
       "      <td>-0.048156</td>\n",
       "    </tr>\n",
       "    <tr>\n",
       "      <th>18</th>\n",
       "      <td>paid Help</td>\n",
       "      <td>-0.050240</td>\n",
       "    </tr>\n",
       "    <tr>\n",
       "      <th>0</th>\n",
       "      <td>free About</td>\n",
       "      <td>-0.068847</td>\n",
       "    </tr>\n",
       "    <tr>\n",
       "      <th>14</th>\n",
       "      <td>paid About</td>\n",
       "      <td>-0.078958</td>\n",
       "    </tr>\n",
       "    <tr>\n",
       "      <th>17</th>\n",
       "      <td>paid Error</td>\n",
       "      <td>-0.085404</td>\n",
       "    </tr>\n",
       "    <tr>\n",
       "      <th>8</th>\n",
       "      <td>free Save Settings</td>\n",
       "      <td>-0.088637</td>\n",
       "    </tr>\n",
       "    <tr>\n",
       "      <th>26</th>\n",
       "      <td>days_free</td>\n",
       "      <td>-0.094670</td>\n",
       "    </tr>\n",
       "    <tr>\n",
       "      <th>12</th>\n",
       "      <td>free Thumbs Up</td>\n",
       "      <td>-0.153284</td>\n",
       "    </tr>\n",
       "    <tr>\n",
       "      <th>21</th>\n",
       "      <td>paid Save Settings</td>\n",
       "      <td>-0.184386</td>\n",
       "    </tr>\n",
       "    <tr>\n",
       "      <th>6</th>\n",
       "      <td>free Logout</td>\n",
       "      <td>-0.210237</td>\n",
       "    </tr>\n",
       "  </tbody>\n",
       "</table>\n",
       "</div>"
      ],
      "text/plain": [
       "                  Feature  Coefficient\n",
       "20       paid Roll Advert     0.197975\n",
       "27       dist_sessions_ct     0.193059\n",
       "9           free Settings     0.181148\n",
       "4               free Help     0.116901\n",
       "11       free Thumbs Down     0.100616\n",
       "16         paid Downgrade     0.093423\n",
       "1         free Add Friend     0.087513\n",
       "13           free Upgrade     0.085664\n",
       "7        free Roll Advert     0.073886\n",
       "3              free Error     0.045119\n",
       "23  paid Submit Downgrade     0.035419\n",
       "2    free Add to Playlist     0.027134\n",
       "10    free Submit Upgrade     0.013174\n",
       "22          paid Settings     0.009000\n",
       "25         paid Thumbs Up     0.000811\n",
       "19          paid NextSong    -0.000180\n",
       "29       av_session_songs    -0.003161\n",
       "5               free Home    -0.015354\n",
       "24       paid Thumbs Down    -0.017529\n",
       "28         av_session_hrs    -0.018645\n",
       "15        paid Add Friend    -0.048156\n",
       "18              paid Help    -0.050240\n",
       "0              free About    -0.068847\n",
       "14             paid About    -0.078958\n",
       "17             paid Error    -0.085404\n",
       "8      free Save Settings    -0.088637\n",
       "26              days_free    -0.094670\n",
       "12         free Thumbs Up    -0.153284\n",
       "21     paid Save Settings    -0.184386\n",
       "6             free Logout    -0.210237"
      ]
     },
     "execution_count": 111,
     "metadata": {},
     "output_type": "execute_result"
    }
   ],
   "source": [
    "d = {'Feature': list(X), 'Coefficient': CLF.coef_[0]}\n",
    "df = pd.DataFrame(data=d)\n",
    "df = df.sort_values(['Coefficient'], ascending=[False])\n",
    "df"
   ]
  },
  {
   "cell_type": "code",
   "execution_count": 112,
   "metadata": {
    "execution": {
     "iopub.execute_input": "2021-02-12T23:50:02.451236Z",
     "iopub.status.busy": "2021-02-12T23:50:02.439779Z",
     "iopub.status.idle": "2021-02-12T23:50:02.832302Z",
     "shell.execute_reply": "2021-02-12T23:50:02.831667Z"
    },
    "papermill": {
     "duration": 0.613834,
     "end_time": "2021-02-12T23:50:02.832428",
     "exception": false,
     "start_time": "2021-02-12T23:50:02.218594",
     "status": "completed"
    },
    "tags": []
   },
   "outputs": [
    {
     "data": {
      "image/png": "[encoded data removed]",
      "text/plain": [
       "<Figure size 1440x360 with 1 Axes>"
      ]
     },
     "metadata": {
      "needs_background": "light"
     },
     "output_type": "display_data"
    }
   ],
   "source": [
    "plt.figure(figsize=(20,5))\n",
    "sns.barplot(x='Feature', y='Coefficient', data=df)\n",
    "plt.title('Feature importance', fontsize=14)\n",
    "plt.xlabel('Feature', fontsize=14)\n",
    "plt.ylabel('Coefficient', fontsize=14)\n",
    "plt.xticks(rotation=30, ha='right', fontsize=14)\n",
    "plt.yticks(fontsize=14);"
   ]
  },
  {
   "cell_type": "markdown",
   "metadata": {
    "papermill": {
     "duration": 0.194905,
     "end_time": "2021-02-12T23:50:03.219110",
     "exception": false,
     "start_time": "2021-02-12T23:50:03.024205",
     "status": "completed"
    },
    "tags": []
   },
   "source": [
    "On the other side of the spectrum is number of days free for users who have not subscribed."
   ]
  },
  {
   "cell_type": "markdown",
   "metadata": {
    "papermill": {
     "duration": 0.190931,
     "end_time": "2021-02-12T23:50:03.600806",
     "exception": false,
     "start_time": "2021-02-12T23:50:03.409875",
     "status": "completed"
    },
    "tags": []
   },
   "source": [
    "# Conclusion: \n",
    "\n",
    "Logistic Regression is the winner! It predicts 16/90 = 17% incorrectly/83% correctly.  This would be the model of choice in order to predict Sparkify customers who churn. \n",
    "\n",
    "Also, this model's greatest contributor to predicting churn turns out to be paid Roll Advert. This means that paid subscribers churned the most when showed rolling advertisements. "
   ]
  },
  {
   "cell_type": "markdown",
   "metadata": {
    "papermill": {
     "duration": 0.192032,
     "end_time": "2021-02-12T23:50:03.984884",
     "exception": false,
     "start_time": "2021-02-12T23:50:03.792852",
     "status": "completed"
    },
    "tags": []
   },
   "source": [
    "# Potential Remediation:"
   ]
  },
  {
   "cell_type": "markdown",
   "metadata": {
    "papermill": {
     "duration": 0.19234,
     "end_time": "2021-02-12T23:50:04.369192",
     "exception": false,
     "start_time": "2021-02-12T23:50:04.176852",
     "status": "completed"
    },
    "tags": []
   },
   "source": [
    "For paid customers: \n",
    "\n",
    "1. Decrease advertising length for paid customers\n",
    "1. Decrease number of advertisements shown to paid customers\n",
    "1. Introduce incentive for those who stay on platform longer"
   ]
  },
  {
   "cell_type": "markdown",
   "metadata": {
    "papermill": {
     "duration": 0.189576,
     "end_time": "2021-02-12T23:50:04.749426",
     "exception": false,
     "start_time": "2021-02-12T23:50:04.559850",
     "status": "completed"
    },
    "tags": []
   },
   "source": [
    "# Lifetime Value:\n",
    "\n",
    "To keep customers on the platform, would be good idea to give those who have been on the plaform for a while some exclusive give-a-ways and/or even powerful recommendations to keep them on the platform."
   ]
  }
 ],
 "metadata": {
  "kernelspec": {
   "display_name": "Python 3",
   "language": "python",
   "name": "python3"
  },
  "language_info": {
   "codemirror_mode": {
    "name": "ipython",
    "version": 3
   },
   "file_extension": ".py",
   "mimetype": "text/x-python",
   "name": "python",
   "nbconvert_exporter": "python",
   "pygments_lexer": "ipython3",
   "version": "3.7.6"
  },
  "papermill": {
   "duration": 289.797128,
   "end_time": "2021-02-12T23:50:05.095234",
   "environment_variables": {},
   "exception": null,
   "input_path": "__notebook__.ipynb",
   "output_path": "__notebook__.ipynb",
   "parameters": {},
   "start_time": "2021-02-12T23:45:15.298106",
   "version": "2.1.0"
  }
 },
 "nbformat": 4,
 "nbformat_minor": 4
}
