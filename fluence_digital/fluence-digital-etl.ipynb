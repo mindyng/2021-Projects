{
 "cells": [
  {
   "cell_type": "code",
   "execution_count": 1,
   "metadata": {
    "_cell_guid": "b1076dfc-b9ad-4769-8c92-a6c4dae69d19",
    "_uuid": "8f2839f25d086af736a60e9eeb907d3b93b6e0e5",
    "execution": {
     "iopub.execute_input": "2021-06-22T01:30:06.335602Z",
     "iopub.status.busy": "2021-06-22T01:30:06.334875Z",
     "iopub.status.idle": "2021-06-22T01:30:07.384381Z",
     "shell.execute_reply": "2021-06-22T01:30:07.383531Z",
     "shell.execute_reply.started": "2021-06-20T05:21:15.825782Z"
    },
    "papermill": {
     "duration": 1.080289,
     "end_time": "2021-06-22T01:30:07.384559",
     "exception": false,
     "start_time": "2021-06-22T01:30:06.304270",
     "status": "completed"
    },
    "tags": []
   },
   "outputs": [],
   "source": [
    "# This Python 3 environment comes with many helpful analytics libraries installed\n",
    "# It is defined by the kaggle/python Docker image: https://github.com/kaggle/docker-python\n",
    "# For example, here's several helpful packages to load\n",
    "\n",
    "import numpy as np # linear algebra\n",
    "import pandas as pd # data processing, CSV file I/O (e.g. pd.read_csv)\n",
    "\n",
    "# Input data files are available in the read-only \"../input/\" directory\n",
    "# For example, running this (by clicking run or pressing Shift+Enter) will list all files under the input directory\n",
    "\n",
    "import os\n",
    "for dirname, _, filenames in os.walk('/kaggle/input'):\n",
    "    for filename in filenames:\n",
    "        print(os.path.join(dirname, filename))\n",
    "\n",
    "# You can write up to 20GB to the current directory (/kaggle/working/) that gets preserved as output when you create a version using \"Save & Run All\" \n",
    "# You can also write temporary files to /kaggle/temp/, but they won't be saved outside of the current session\n",
    "\n",
    "from sklearn.metrics import mean_squared_error\n",
    "from sklearn.metrics import mean_absolute_error"
   ]
  },
  {
   "cell_type": "code",
   "execution_count": 2,
   "metadata": {
    "execution": {
     "iopub.execute_input": "2021-06-22T01:30:07.423929Z",
     "iopub.status.busy": "2021-06-22T01:30:07.423184Z",
     "iopub.status.idle": "2021-06-22T01:30:26.081355Z",
     "shell.execute_reply": "2021-06-22T01:30:26.080759Z",
     "shell.execute_reply.started": "2021-06-20T05:21:16.807003Z"
    },
    "papermill": {
     "duration": 18.680128,
     "end_time": "2021-06-22T01:30:26.081558",
     "exception": false,
     "start_time": "2021-06-22T01:30:07.401430",
     "status": "completed"
    },
    "tags": []
   },
   "outputs": [
    {
     "name": "stdout",
     "output_type": "stream",
     "text": [
      "Collecting snowflake-sqlalchemy\n",
      "  Downloading snowflake_sqlalchemy-1.2.4-py2.py3-none-any.whl (29 kB)\n",
      "Requirement already satisfied: sqlalchemy<2.0.0 in /opt/conda/lib/python3.7/site-packages (from snowflake-sqlalchemy) (1.4.3)\n",
      "Collecting snowflake-connector-python<3.0.0\n",
      "  Downloading snowflake_connector_python-2.4.5-cp37-cp37m-manylinux2014_x86_64.whl (13.2 MB)\n",
      "\u001b[K     |████████████████████████████████| 13.2 MB 7.8 MB/s \n",
      "\u001b[?25hRequirement already satisfied: idna<3,>=2.5 in /opt/conda/lib/python3.7/site-packages (from snowflake-connector-python<3.0.0->snowflake-sqlalchemy) (2.10)\n",
      "Collecting pycryptodomex!=3.5.0,<4.0.0,>=3.2\n",
      "  Downloading pycryptodomex-3.10.1-cp35-abi3-manylinux2010_x86_64.whl (1.9 MB)\n",
      "\u001b[K     |████████████████████████████████| 1.9 MB 10.5 MB/s \n",
      "\u001b[?25hCollecting oscrypto<2.0.0\n",
      "  Downloading oscrypto-1.2.1-py2.py3-none-any.whl (192 kB)\n",
      "\u001b[K     |████████████████████████████████| 192 kB 11.4 MB/s \n",
      "\u001b[?25hRequirement already satisfied: cffi<2.0.0,>=1.9 in /opt/conda/lib/python3.7/site-packages (from snowflake-connector-python<3.0.0->snowflake-sqlalchemy) (1.14.5)\n",
      "Requirement already satisfied: certifi>=2017.4.17 in /opt/conda/lib/python3.7/site-packages (from snowflake-connector-python<3.0.0->snowflake-sqlalchemy) (2020.12.5)\n",
      "Requirement already satisfied: pytz in /opt/conda/lib/python3.7/site-packages (from snowflake-connector-python<3.0.0->snowflake-sqlalchemy) (2021.1)\n",
      "Collecting chardet<4,>=3.0.2\n",
      "  Downloading chardet-3.0.4-py2.py3-none-any.whl (133 kB)\n",
      "\u001b[K     |████████████████████████████████| 133 kB 11.4 MB/s \n",
      "\u001b[?25hRequirement already satisfied: setuptools>34.0.0 in /opt/conda/lib/python3.7/site-packages (from snowflake-connector-python<3.0.0->snowflake-sqlalchemy) (49.6.0.post20210108)\n",
      "Requirement already satisfied: pyOpenSSL<21.0.0,>=16.2.0 in /opt/conda/lib/python3.7/site-packages (from snowflake-connector-python<3.0.0->snowflake-sqlalchemy) (20.0.1)\n",
      "Requirement already satisfied: asn1crypto<2.0.0,>0.24.0 in /opt/conda/lib/python3.7/site-packages (from snowflake-connector-python<3.0.0->snowflake-sqlalchemy) (1.4.0)\n",
      "Requirement already satisfied: requests<3.0.0 in /opt/conda/lib/python3.7/site-packages (from snowflake-connector-python<3.0.0->snowflake-sqlalchemy) (2.25.1)\n",
      "Requirement already satisfied: boto3<2.0.0,>=1.4.4 in /opt/conda/lib/python3.7/site-packages (from snowflake-connector-python<3.0.0->snowflake-sqlalchemy) (1.17.53)\n",
      "Requirement already satisfied: pyjwt<3.0.0 in /opt/conda/lib/python3.7/site-packages (from snowflake-connector-python<3.0.0->snowflake-sqlalchemy) (2.0.1)\n",
      "Collecting azure-storage-blob<13.0.0,>=12.0.0\n",
      "  Downloading azure_storage_blob-12.8.1-py2.py3-none-any.whl (345 kB)\n",
      "\u001b[K     |████████████████████████████████| 345 kB 11.0 MB/s \n",
      "\u001b[?25hRequirement already satisfied: cryptography<4.0.0,>=2.5.0 in /opt/conda/lib/python3.7/site-packages (from snowflake-connector-python<3.0.0->snowflake-sqlalchemy) (3.4.7)\n",
      "Collecting azure-common<2.0.0\n",
      "  Downloading azure_common-1.1.27-py2.py3-none-any.whl (12 kB)\n",
      "Collecting msrest>=0.6.18\n",
      "  Downloading msrest-0.6.21-py2.py3-none-any.whl (85 kB)\n",
      "\u001b[K     |████████████████████████████████| 85 kB 2.8 MB/s \n",
      "\u001b[?25hCollecting azure-core<2.0.0,>=1.10.0\n",
      "  Downloading azure_core-1.15.0-py2.py3-none-any.whl (138 kB)\n",
      "\u001b[K     |████████████████████████████████| 138 kB 11.1 MB/s \n",
      "\u001b[?25hRequirement already satisfied: six>=1.11.0 in /opt/conda/lib/python3.7/site-packages (from azure-core<2.0.0,>=1.10.0->azure-storage-blob<13.0.0,>=12.0.0->snowflake-connector-python<3.0.0->snowflake-sqlalchemy) (1.15.0)\n",
      "Requirement already satisfied: botocore<1.21.0,>=1.20.53 in /opt/conda/lib/python3.7/site-packages (from boto3<2.0.0,>=1.4.4->snowflake-connector-python<3.0.0->snowflake-sqlalchemy) (1.20.53)\n",
      "Requirement already satisfied: jmespath<1.0.0,>=0.7.1 in /opt/conda/lib/python3.7/site-packages (from boto3<2.0.0,>=1.4.4->snowflake-connector-python<3.0.0->snowflake-sqlalchemy) (0.10.0)\n",
      "Requirement already satisfied: s3transfer<0.4.0,>=0.3.0 in /opt/conda/lib/python3.7/site-packages (from boto3<2.0.0,>=1.4.4->snowflake-connector-python<3.0.0->snowflake-sqlalchemy) (0.3.7)\n",
      "Requirement already satisfied: urllib3<1.27,>=1.25.4 in /opt/conda/lib/python3.7/site-packages (from botocore<1.21.0,>=1.20.53->boto3<2.0.0,>=1.4.4->snowflake-connector-python<3.0.0->snowflake-sqlalchemy) (1.26.4)\n",
      "Requirement already satisfied: python-dateutil<3.0.0,>=2.1 in /opt/conda/lib/python3.7/site-packages (from botocore<1.21.0,>=1.20.53->boto3<2.0.0,>=1.4.4->snowflake-connector-python<3.0.0->snowflake-sqlalchemy) (2.8.1)\n",
      "Requirement already satisfied: pycparser in /opt/conda/lib/python3.7/site-packages (from cffi<2.0.0,>=1.9->snowflake-connector-python<3.0.0->snowflake-sqlalchemy) (2.20)\n",
      "Requirement already satisfied: requests-oauthlib>=0.5.0 in /opt/conda/lib/python3.7/site-packages (from msrest>=0.6.18->azure-storage-blob<13.0.0,>=12.0.0->snowflake-connector-python<3.0.0->snowflake-sqlalchemy) (1.3.0)\n",
      "Collecting isodate>=0.6.0\n",
      "  Downloading isodate-0.6.0-py2.py3-none-any.whl (45 kB)\n",
      "\u001b[K     |████████████████████████████████| 45 kB 2.2 MB/s \n",
      "\u001b[?25hRequirement already satisfied: oauthlib>=3.0.0 in /opt/conda/lib/python3.7/site-packages (from requests-oauthlib>=0.5.0->msrest>=0.6.18->azure-storage-blob<13.0.0,>=12.0.0->snowflake-connector-python<3.0.0->snowflake-sqlalchemy) (3.0.1)\n",
      "Requirement already satisfied: importlib-metadata in /opt/conda/lib/python3.7/site-packages (from sqlalchemy<2.0.0->snowflake-sqlalchemy) (3.4.0)\n",
      "Requirement already satisfied: greenlet!=0.4.17 in /opt/conda/lib/python3.7/site-packages (from sqlalchemy<2.0.0->snowflake-sqlalchemy) (1.0.0)\n",
      "Requirement already satisfied: zipp>=0.5 in /opt/conda/lib/python3.7/site-packages (from importlib-metadata->sqlalchemy<2.0.0->snowflake-sqlalchemy) (3.4.1)\n",
      "Requirement already satisfied: typing-extensions>=3.6.4 in /opt/conda/lib/python3.7/site-packages (from importlib-metadata->sqlalchemy<2.0.0->snowflake-sqlalchemy) (3.7.4.3)\n",
      "Installing collected packages: chardet, isodate, msrest, azure-core, pycryptodomex, oscrypto, azure-storage-blob, azure-common, snowflake-connector-python, snowflake-sqlalchemy\n",
      "  Attempting uninstall: chardet\n",
      "    Found existing installation: chardet 4.0.0\n",
      "    Uninstalling chardet-4.0.0:\n",
      "      Successfully uninstalled chardet-4.0.0\n",
      "\u001b[31mERROR: pip's dependency resolver does not currently take into account all the packages that are installed. This behaviour is the source of the following dependency conflicts.\n",
      "jupyterlab-git 0.11.0 requires nbdime<2.0.0,>=1.1.0, but you have nbdime 2.1.0 which is incompatible.\n",
      "aiobotocore 1.3.0 requires botocore<1.20.50,>=1.20.49, but you have botocore 1.20.53 which is incompatible.\u001b[0m\n",
      "Successfully installed azure-common-1.1.27 azure-core-1.15.0 azure-storage-blob-12.8.1 chardet-3.0.4 isodate-0.6.0 msrest-0.6.21 oscrypto-1.2.1 pycryptodomex-3.10.1 snowflake-connector-python-2.4.5 snowflake-sqlalchemy-1.2.4\n"
     ]
    }
   ],
   "source": [
    "!pip install snowflake-sqlalchemy"
   ]
  },
  {
   "cell_type": "markdown",
   "metadata": {
    "papermill": {
     "duration": 0.048675,
     "end_time": "2021-06-22T01:30:26.179553",
     "exception": false,
     "start_time": "2021-06-22T01:30:26.130878",
     "status": "completed"
    },
    "tags": []
   },
   "source": [
    "# Part 2 - The \"Better\" Metric\n",
    "\n",
    "Usually, Linear Regression/Time Series Forecast errors are measured by RMSE/MAE. \n",
    "\n",
    "RMSE is used if you want to penalize errors significantly. 10 is way worse than 5 when measuring difference between predictions and actual values.\n",
    "\n",
    "MAE is used when you have outliers in your trained (actual) data and need to take them into consideration when assessing your forecast.\n",
    "\n",
    "If we are measuring model performance by loss function then RMSE wins out because it is easier to visualize where you need to optimize the prediction model to achieve 0 difference to actual values. RMSE would show concave loss function whereas MAE would show relatively shallow curve where optimization point is not as easily discernible."
   ]
  },
  {
   "cell_type": "markdown",
   "metadata": {
    "papermill": {
     "duration": 0.048291,
     "end_time": "2021-06-22T01:30:26.275828",
     "exception": false,
     "start_time": "2021-06-22T01:30:26.227537",
     "status": "completed"
    },
    "tags": []
   },
   "source": [
    "# Part 3 - The App\n",
    "\n",
    "SQLAlchemy vs Snowflake Connector vs custom Python script: pandas_to_snowflake.py. I tried all three and SQLAlchemy was the one that had the least amount of code to excute and gave me no problems."
   ]
  },
  {
   "cell_type": "code",
   "execution_count": 3,
   "metadata": {
    "execution": {
     "iopub.execute_input": "2021-06-22T01:30:26.378641Z",
     "iopub.status.busy": "2021-06-22T01:30:26.377887Z",
     "iopub.status.idle": "2021-06-22T01:30:30.867954Z",
     "shell.execute_reply": "2021-06-22T01:30:30.867359Z",
     "shell.execute_reply.started": "2021-06-20T05:21:31.995752Z"
    },
    "papermill": {
     "duration": 4.54449,
     "end_time": "2021-06-22T01:30:30.868157",
     "exception": false,
     "start_time": "2021-06-22T01:30:26.323667",
     "status": "completed"
    },
    "tags": []
   },
   "outputs": [
    {
     "name": "stderr",
     "output_type": "stream",
     "text": [
      "/opt/conda/lib/python3.7/site-packages/snowflake/connector/vendored/requests/__init__.py:91: RequestsDependencyWarning: urllib3 (1.25.10) or chardet (4.0.0) doesn't match a supported version!\n",
      "  RequestsDependencyWarning)\n"
     ]
    }
   ],
   "source": [
    "from sqlalchemy import create_engine\n",
    "from snowflake.sqlalchemy import URL\n",
    "\n",
    "\n",
    "url = URL(\n",
    "    account = '',\n",
    "    user = '',\n",
    "    password = '',\n",
    "    warehouse = '',\n",
    "    database = '',\n",
    "    schema = '')\n",
    "\n",
    "engine = create_engine(url)\n",
    "\n",
    "connection = engine.connect()"
   ]
  },
  {
   "cell_type": "code",
   "execution_count": 4,
   "metadata": {
    "execution": {
     "iopub.execute_input": "2021-06-22T01:30:30.976296Z",
     "iopub.status.busy": "2021-06-22T01:30:30.975071Z",
     "iopub.status.idle": "2021-06-22T01:30:35.874337Z",
     "shell.execute_reply": "2021-06-22T01:30:35.875073Z",
     "shell.execute_reply.started": "2021-06-20T05:21:35.811583Z"
    },
    "papermill": {
     "duration": 4.957667,
     "end_time": "2021-06-22T01:30:35.875413",
     "exception": false,
     "start_time": "2021-06-22T01:30:30.917746",
     "status": "completed"
    },
    "tags": []
   },
   "outputs": [
    {
     "data": {
      "text/html": [
       "<div>\n",
       "<style scoped>\n",
       "    .dataframe tbody tr th:only-of-type {\n",
       "        vertical-align: middle;\n",
       "    }\n",
       "\n",
       "    .dataframe tbody tr th {\n",
       "        vertical-align: top;\n",
       "    }\n",
       "\n",
       "    .dataframe thead th {\n",
       "        text-align: right;\n",
       "    }\n",
       "</style>\n",
       "<table border=\"1\" class=\"dataframe\">\n",
       "  <thead>\n",
       "    <tr style=\"text-align: right;\">\n",
       "      <th></th>\n",
       "      <th>settlement_time</th>\n",
       "      <th>actual_price</th>\n",
       "      <th>fluence_p50</th>\n",
       "      <th>market_p50</th>\n",
       "      <th>f_diff_a</th>\n",
       "      <th>m_diff_a</th>\n",
       "    </tr>\n",
       "  </thead>\n",
       "  <tbody>\n",
       "    <tr>\n",
       "      <th>0</th>\n",
       "      <td>2020-09-30 18:10:00</td>\n",
       "      <td>0.040440</td>\n",
       "      <td>0.040000</td>\n",
       "      <td>0.040440</td>\n",
       "      <td>0.000440</td>\n",
       "      <td>0.000000</td>\n",
       "    </tr>\n",
       "    <tr>\n",
       "      <th>1</th>\n",
       "      <td>2020-09-30 19:45:00</td>\n",
       "      <td>0.045168</td>\n",
       "      <td>0.046548</td>\n",
       "      <td>0.045300</td>\n",
       "      <td>0.001379</td>\n",
       "      <td>0.000132</td>\n",
       "    </tr>\n",
       "    <tr>\n",
       "      <th>2</th>\n",
       "      <td>2020-09-30 20:15:00</td>\n",
       "      <td>0.069786</td>\n",
       "      <td>0.071288</td>\n",
       "      <td>0.046329</td>\n",
       "      <td>0.001502</td>\n",
       "      <td>0.023457</td>\n",
       "    </tr>\n",
       "    <tr>\n",
       "      <th>3</th>\n",
       "      <td>2020-09-30 21:20:00</td>\n",
       "      <td>0.045108</td>\n",
       "      <td>0.047568</td>\n",
       "      <td>0.042326</td>\n",
       "      <td>0.002460</td>\n",
       "      <td>0.002782</td>\n",
       "    </tr>\n",
       "    <tr>\n",
       "      <th>4</th>\n",
       "      <td>2020-09-30 21:50:00</td>\n",
       "      <td>0.042650</td>\n",
       "      <td>0.044261</td>\n",
       "      <td>0.043986</td>\n",
       "      <td>0.001611</td>\n",
       "      <td>0.001336</td>\n",
       "    </tr>\n",
       "    <tr>\n",
       "      <th>...</th>\n",
       "      <td>...</td>\n",
       "      <td>...</td>\n",
       "      <td>...</td>\n",
       "      <td>...</td>\n",
       "      <td>...</td>\n",
       "      <td>...</td>\n",
       "    </tr>\n",
       "    <tr>\n",
       "      <th>105403</th>\n",
       "      <td>2020-06-30 13:20:00</td>\n",
       "      <td>0.039558</td>\n",
       "      <td>0.039674</td>\n",
       "      <td>0.040653</td>\n",
       "      <td>0.000116</td>\n",
       "      <td>0.001095</td>\n",
       "    </tr>\n",
       "    <tr>\n",
       "      <th>105404</th>\n",
       "      <td>2020-06-30 13:40:00</td>\n",
       "      <td>0.041462</td>\n",
       "      <td>0.041390</td>\n",
       "      <td>0.043428</td>\n",
       "      <td>0.000072</td>\n",
       "      <td>0.001966</td>\n",
       "    </tr>\n",
       "    <tr>\n",
       "      <th>105405</th>\n",
       "      <td>2020-06-30 14:40:00</td>\n",
       "      <td>0.045450</td>\n",
       "      <td>0.044650</td>\n",
       "      <td>0.045361</td>\n",
       "      <td>0.000800</td>\n",
       "      <td>0.000089</td>\n",
       "    </tr>\n",
       "    <tr>\n",
       "      <th>105406</th>\n",
       "      <td>2020-06-30 16:55:00</td>\n",
       "      <td>0.009282</td>\n",
       "      <td>0.010438</td>\n",
       "      <td>0.029739</td>\n",
       "      <td>0.001156</td>\n",
       "      <td>0.020458</td>\n",
       "    </tr>\n",
       "    <tr>\n",
       "      <th>105407</th>\n",
       "      <td>2020-06-30 17:25:00</td>\n",
       "      <td>0.000000</td>\n",
       "      <td>0.003582</td>\n",
       "      <td>0.011130</td>\n",
       "      <td>0.003582</td>\n",
       "      <td>0.011130</td>\n",
       "    </tr>\n",
       "  </tbody>\n",
       "</table>\n",
       "<p>105408 rows × 6 columns</p>\n",
       "</div>"
      ],
      "text/plain": [
       "           settlement_time  actual_price  fluence_p50  market_p50  f_diff_a  \\\n",
       "0      2020-09-30 18:10:00      0.040440     0.040000    0.040440  0.000440   \n",
       "1      2020-09-30 19:45:00      0.045168     0.046548    0.045300  0.001379   \n",
       "2      2020-09-30 20:15:00      0.069786     0.071288    0.046329  0.001502   \n",
       "3      2020-09-30 21:20:00      0.045108     0.047568    0.042326  0.002460   \n",
       "4      2020-09-30 21:50:00      0.042650     0.044261    0.043986  0.001611   \n",
       "...                    ...           ...          ...         ...       ...   \n",
       "105403 2020-06-30 13:20:00      0.039558     0.039674    0.040653  0.000116   \n",
       "105404 2020-06-30 13:40:00      0.041462     0.041390    0.043428  0.000072   \n",
       "105405 2020-06-30 14:40:00      0.045450     0.044650    0.045361  0.000800   \n",
       "105406 2020-06-30 16:55:00      0.009282     0.010438    0.029739  0.001156   \n",
       "105407 2020-06-30 17:25:00      0.000000     0.003582    0.011130  0.003582   \n",
       "\n",
       "        m_diff_a  \n",
       "0       0.000000  \n",
       "1       0.000132  \n",
       "2       0.023457  \n",
       "3       0.002782  \n",
       "4       0.001336  \n",
       "...          ...  \n",
       "105403  0.001095  \n",
       "105404  0.001966  \n",
       "105405  0.000089  \n",
       "105406  0.020458  \n",
       "105407  0.011130  \n",
       "\n",
       "[105408 rows x 6 columns]"
      ]
     },
     "execution_count": 4,
     "metadata": {},
     "output_type": "execute_result"
    }
   ],
   "source": [
    "query = 'select \"a\".\"settlement_time\", \"a\".\"actual_price\", \"f\".\"p50\" as \"fluence_p50\", \"m\".\"p50\" as \"market_p50\", abs(\"f\".\"p50\"-\"a\".\"actual_price\") as \"f_diff_a\", abs(\"m\".\"p50\"-\"a\".\"actual_price\") as \"m_diff_a\" from \"CASESTUDY\".\"CASESTUDY_MINDY\".\"actual_prices\" as \"a\" join \"CASESTUDY\".\"CASESTUDY_MINDY\".\"fluence_forecast\" as \"f\" on (\"a\".\"settlement_time\" = \"f\".\"settlement_time\") join \"CASESTUDY\".\"CASESTUDY_MINDY\".\"market_forecast\" as \"m\" on (\"a\".\"settlement_time\" = \"m\".\"settlement_time\") '\n",
    "df = pd.read_sql_query(query, connection)\n",
    "df"
   ]
  },
  {
   "cell_type": "markdown",
   "metadata": {
    "papermill": {
     "duration": 0.049857,
     "end_time": "2021-06-22T01:30:35.976632",
     "exception": false,
     "start_time": "2021-06-22T01:30:35.926775",
     "status": "completed"
    },
    "tags": []
   },
   "source": [
    "On top of the base table, I decided to add f_diff_a and m_diff_a (fluence/market difference from actual prices) to show at row level which forecast had closest to 0 values. Those closest to 0 had best forecast."
   ]
  },
  {
   "cell_type": "code",
   "execution_count": 5,
   "metadata": {
    "execution": {
     "iopub.execute_input": "2021-06-22T01:30:36.079818Z",
     "iopub.status.busy": "2021-06-22T01:30:36.079082Z",
     "iopub.status.idle": "2021-06-22T01:30:36.097553Z",
     "shell.execute_reply": "2021-06-22T01:30:36.098114Z",
     "shell.execute_reply.started": "2021-06-20T05:21:41.778371Z"
    },
    "papermill": {
     "duration": 0.071915,
     "end_time": "2021-06-22T01:30:36.098318",
     "exception": false,
     "start_time": "2021-06-22T01:30:36.026403",
     "status": "completed"
    },
    "tags": []
   },
   "outputs": [
    {
     "name": "stdout",
     "output_type": "stream",
     "text": [
      "<class 'pandas.core.frame.DataFrame'>\n",
      "RangeIndex: 105408 entries, 0 to 105407\n",
      "Data columns (total 6 columns):\n",
      " #   Column           Non-Null Count   Dtype         \n",
      "---  ------           --------------   -----         \n",
      " 0   settlement_time  105408 non-null  datetime64[ns]\n",
      " 1   actual_price     105408 non-null  float64       \n",
      " 2   fluence_p50      105408 non-null  float64       \n",
      " 3   market_p50       105408 non-null  float64       \n",
      " 4   f_diff_a         105408 non-null  float64       \n",
      " 5   m_diff_a         105408 non-null  float64       \n",
      "dtypes: datetime64[ns](1), float64(5)\n",
      "memory usage: 4.8 MB\n"
     ]
    }
   ],
   "source": [
    "df.info() #Look at data types to see if casting needed before calculations performed"
   ]
  },
  {
   "cell_type": "markdown",
   "metadata": {
    "papermill": {
     "duration": 0.048944,
     "end_time": "2021-06-22T01:30:36.197238",
     "exception": false,
     "start_time": "2021-06-22T01:30:36.148294",
     "status": "completed"
    },
    "tags": []
   },
   "source": [
    "### Data Aggregated at Different Levels of Granularity"
   ]
  },
  {
   "cell_type": "markdown",
   "metadata": {
    "papermill": {
     "duration": 0.048828,
     "end_time": "2021-06-22T01:30:36.295270",
     "exception": false,
     "start_time": "2021-06-22T01:30:36.246442",
     "status": "completed"
    },
    "tags": []
   },
   "source": [
    "I decided to aggregate the data since trends/spikes tend to pop out with condensed time axis."
   ]
  },
  {
   "cell_type": "code",
   "execution_count": 6,
   "metadata": {
    "execution": {
     "iopub.execute_input": "2021-06-22T01:30:36.400003Z",
     "iopub.status.busy": "2021-06-22T01:30:36.399324Z",
     "iopub.status.idle": "2021-06-22T01:30:36.459918Z",
     "shell.execute_reply": "2021-06-22T01:30:36.459395Z",
     "shell.execute_reply.started": "2021-06-20T05:21:41.800463Z"
    },
    "papermill": {
     "duration": 0.11529,
     "end_time": "2021-06-22T01:30:36.460094",
     "exception": false,
     "start_time": "2021-06-22T01:30:36.344804",
     "status": "completed"
    },
    "tags": []
   },
   "outputs": [
    {
     "data": {
      "text/html": [
       "<div>\n",
       "<style scoped>\n",
       "    .dataframe tbody tr th:only-of-type {\n",
       "        vertical-align: middle;\n",
       "    }\n",
       "\n",
       "    .dataframe tbody tr th {\n",
       "        vertical-align: top;\n",
       "    }\n",
       "\n",
       "    .dataframe thead th {\n",
       "        text-align: right;\n",
       "    }\n",
       "</style>\n",
       "<table border=\"1\" class=\"dataframe\">\n",
       "  <thead>\n",
       "    <tr style=\"text-align: right;\">\n",
       "      <th></th>\n",
       "      <th>settlement_time</th>\n",
       "      <th>actual_price</th>\n",
       "      <th>fluence_p50</th>\n",
       "      <th>market_p50</th>\n",
       "      <th>f_diff_a</th>\n",
       "      <th>m_diff_a</th>\n",
       "    </tr>\n",
       "  </thead>\n",
       "  <tbody>\n",
       "    <tr>\n",
       "      <th>0</th>\n",
       "      <td>January</td>\n",
       "      <td>757.631669</td>\n",
       "      <td>688.906162</td>\n",
       "      <td>612.360566</td>\n",
       "      <td>288.597987</td>\n",
       "      <td>448.619325</td>\n",
       "    </tr>\n",
       "    <tr>\n",
       "      <th>1</th>\n",
       "      <td>February</td>\n",
       "      <td>522.478689</td>\n",
       "      <td>585.240967</td>\n",
       "      <td>281.962699</td>\n",
       "      <td>290.543207</td>\n",
       "      <td>472.842122</td>\n",
       "    </tr>\n",
       "    <tr>\n",
       "      <th>2</th>\n",
       "      <td>March</td>\n",
       "      <td>417.486341</td>\n",
       "      <td>430.491714</td>\n",
       "      <td>335.235005</td>\n",
       "      <td>157.234202</td>\n",
       "      <td>287.529314</td>\n",
       "    </tr>\n",
       "    <tr>\n",
       "      <th>3</th>\n",
       "      <td>April</td>\n",
       "      <td>285.298807</td>\n",
       "      <td>313.350951</td>\n",
       "      <td>286.884745</td>\n",
       "      <td>78.772235</td>\n",
       "      <td>102.437786</td>\n",
       "    </tr>\n",
       "    <tr>\n",
       "      <th>4</th>\n",
       "      <td>May</td>\n",
       "      <td>334.034443</td>\n",
       "      <td>346.652974</td>\n",
       "      <td>321.181177</td>\n",
       "      <td>63.783120</td>\n",
       "      <td>94.336727</td>\n",
       "    </tr>\n",
       "    <tr>\n",
       "      <th>5</th>\n",
       "      <td>June</td>\n",
       "      <td>435.086640</td>\n",
       "      <td>434.084710</td>\n",
       "      <td>470.570613</td>\n",
       "      <td>104.615195</td>\n",
       "      <td>172.536026</td>\n",
       "    </tr>\n",
       "    <tr>\n",
       "      <th>6</th>\n",
       "      <td>July</td>\n",
       "      <td>531.019888</td>\n",
       "      <td>538.218239</td>\n",
       "      <td>509.707834</td>\n",
       "      <td>96.705082</td>\n",
       "      <td>118.774313</td>\n",
       "    </tr>\n",
       "    <tr>\n",
       "      <th>7</th>\n",
       "      <td>August</td>\n",
       "      <td>405.785577</td>\n",
       "      <td>400.591088</td>\n",
       "      <td>367.163282</td>\n",
       "      <td>120.266386</td>\n",
       "      <td>168.133378</td>\n",
       "    </tr>\n",
       "    <tr>\n",
       "      <th>8</th>\n",
       "      <td>September</td>\n",
       "      <td>132.659816</td>\n",
       "      <td>214.204248</td>\n",
       "      <td>-87.072328</td>\n",
       "      <td>185.022809</td>\n",
       "      <td>432.015392</td>\n",
       "    </tr>\n",
       "    <tr>\n",
       "      <th>9</th>\n",
       "      <td>October</td>\n",
       "      <td>294.499021</td>\n",
       "      <td>332.944260</td>\n",
       "      <td>192.167906</td>\n",
       "      <td>162.569119</td>\n",
       "      <td>287.450400</td>\n",
       "    </tr>\n",
       "    <tr>\n",
       "      <th>10</th>\n",
       "      <td>November</td>\n",
       "      <td>316.540843</td>\n",
       "      <td>332.996432</td>\n",
       "      <td>196.339622</td>\n",
       "      <td>127.870032</td>\n",
       "      <td>262.328399</td>\n",
       "    </tr>\n",
       "    <tr>\n",
       "      <th>11</th>\n",
       "      <td>December</td>\n",
       "      <td>146.853988</td>\n",
       "      <td>199.726964</td>\n",
       "      <td>69.599176</td>\n",
       "      <td>160.543174</td>\n",
       "      <td>259.568833</td>\n",
       "    </tr>\n",
       "  </tbody>\n",
       "</table>\n",
       "</div>"
      ],
      "text/plain": [
       "   settlement_time  actual_price  fluence_p50  market_p50    f_diff_a  \\\n",
       "0          January    757.631669   688.906162  612.360566  288.597987   \n",
       "1         February    522.478689   585.240967  281.962699  290.543207   \n",
       "2            March    417.486341   430.491714  335.235005  157.234202   \n",
       "3            April    285.298807   313.350951  286.884745   78.772235   \n",
       "4              May    334.034443   346.652974  321.181177   63.783120   \n",
       "5             June    435.086640   434.084710  470.570613  104.615195   \n",
       "6             July    531.019888   538.218239  509.707834   96.705082   \n",
       "7           August    405.785577   400.591088  367.163282  120.266386   \n",
       "8        September    132.659816   214.204248  -87.072328  185.022809   \n",
       "9          October    294.499021   332.944260  192.167906  162.569119   \n",
       "10        November    316.540843   332.996432  196.339622  127.870032   \n",
       "11        December    146.853988   199.726964   69.599176  160.543174   \n",
       "\n",
       "      m_diff_a  \n",
       "0   448.619325  \n",
       "1   472.842122  \n",
       "2   287.529314  \n",
       "3   102.437786  \n",
       "4    94.336727  \n",
       "5   172.536026  \n",
       "6   118.774313  \n",
       "7   168.133378  \n",
       "8   432.015392  \n",
       "9   287.450400  \n",
       "10  262.328399  \n",
       "11  259.568833  "
      ]
     },
     "execution_count": 6,
     "metadata": {},
     "output_type": "execute_result"
    }
   ],
   "source": [
    "#MONTH LEVEL\n",
    "df_m = df.groupby(pd.Grouper(key='settlement_time', freq='1M')).sum() # groupby each 1 month\n",
    "df_m.index = df_m.index.strftime('%B')\n",
    "df_m.reset_index(level=0, inplace=True)\n",
    "df_m"
   ]
  },
  {
   "cell_type": "code",
   "execution_count": 7,
   "metadata": {
    "execution": {
     "iopub.execute_input": "2021-06-22T01:30:36.567031Z",
     "iopub.status.busy": "2021-06-22T01:30:36.566361Z",
     "iopub.status.idle": "2021-06-22T01:30:36.620519Z",
     "shell.execute_reply": "2021-06-22T01:30:36.619898Z",
     "shell.execute_reply.started": "2021-06-20T05:21:41.858156Z"
    },
    "papermill": {
     "duration": 0.110829,
     "end_time": "2021-06-22T01:30:36.620661",
     "exception": false,
     "start_time": "2021-06-22T01:30:36.509832",
     "status": "completed"
    },
    "tags": []
   },
   "outputs": [
    {
     "data": {
      "text/html": [
       "<div>\n",
       "<style scoped>\n",
       "    .dataframe tbody tr th:only-of-type {\n",
       "        vertical-align: middle;\n",
       "    }\n",
       "\n",
       "    .dataframe tbody tr th {\n",
       "        vertical-align: top;\n",
       "    }\n",
       "\n",
       "    .dataframe thead th {\n",
       "        text-align: right;\n",
       "    }\n",
       "</style>\n",
       "<table border=\"1\" class=\"dataframe\">\n",
       "  <thead>\n",
       "    <tr style=\"text-align: right;\">\n",
       "      <th></th>\n",
       "      <th>settlement_time</th>\n",
       "      <th>actual_price</th>\n",
       "      <th>fluence_p50</th>\n",
       "      <th>market_p50</th>\n",
       "      <th>f_diff_a</th>\n",
       "      <th>m_diff_a</th>\n",
       "    </tr>\n",
       "  </thead>\n",
       "  <tbody>\n",
       "    <tr>\n",
       "      <th>0</th>\n",
       "      <td>01/01/20</td>\n",
       "      <td>15.979213</td>\n",
       "      <td>15.675179</td>\n",
       "      <td>16.194366</td>\n",
       "      <td>0.880997</td>\n",
       "      <td>1.109608</td>\n",
       "    </tr>\n",
       "    <tr>\n",
       "      <th>1</th>\n",
       "      <td>01/02/20</td>\n",
       "      <td>17.425347</td>\n",
       "      <td>17.175804</td>\n",
       "      <td>17.769880</td>\n",
       "      <td>1.200887</td>\n",
       "      <td>1.588379</td>\n",
       "    </tr>\n",
       "    <tr>\n",
       "      <th>2</th>\n",
       "      <td>01/03/20</td>\n",
       "      <td>17.612544</td>\n",
       "      <td>17.345383</td>\n",
       "      <td>16.735262</td>\n",
       "      <td>1.062282</td>\n",
       "      <td>1.703308</td>\n",
       "    </tr>\n",
       "    <tr>\n",
       "      <th>3</th>\n",
       "      <td>01/04/20</td>\n",
       "      <td>3.953061</td>\n",
       "      <td>8.728061</td>\n",
       "      <td>6.702663</td>\n",
       "      <td>9.373039</td>\n",
       "      <td>22.445173</td>\n",
       "    </tr>\n",
       "    <tr>\n",
       "      <th>4</th>\n",
       "      <td>01/05/20</td>\n",
       "      <td>9.795817</td>\n",
       "      <td>11.102372</td>\n",
       "      <td>8.305152</td>\n",
       "      <td>2.824898</td>\n",
       "      <td>4.315915</td>\n",
       "    </tr>\n",
       "    <tr>\n",
       "      <th>...</th>\n",
       "      <td>...</td>\n",
       "      <td>...</td>\n",
       "      <td>...</td>\n",
       "      <td>...</td>\n",
       "      <td>...</td>\n",
       "      <td>...</td>\n",
       "    </tr>\n",
       "    <tr>\n",
       "      <th>361</th>\n",
       "      <td>12/27/20</td>\n",
       "      <td>-0.518934</td>\n",
       "      <td>-0.005902</td>\n",
       "      <td>0.551613</td>\n",
       "      <td>5.068375</td>\n",
       "      <td>6.247147</td>\n",
       "    </tr>\n",
       "    <tr>\n",
       "      <th>362</th>\n",
       "      <td>12/28/20</td>\n",
       "      <td>1.844367</td>\n",
       "      <td>3.088712</td>\n",
       "      <td>1.587054</td>\n",
       "      <td>3.975789</td>\n",
       "      <td>4.639342</td>\n",
       "    </tr>\n",
       "    <tr>\n",
       "      <th>363</th>\n",
       "      <td>12/29/20</td>\n",
       "      <td>6.908514</td>\n",
       "      <td>6.524328</td>\n",
       "      <td>6.399399</td>\n",
       "      <td>1.792117</td>\n",
       "      <td>2.081073</td>\n",
       "    </tr>\n",
       "    <tr>\n",
       "      <th>364</th>\n",
       "      <td>12/30/20</td>\n",
       "      <td>2.953132</td>\n",
       "      <td>4.033863</td>\n",
       "      <td>-5.978796</td>\n",
       "      <td>3.651136</td>\n",
       "      <td>9.859740</td>\n",
       "    </tr>\n",
       "    <tr>\n",
       "      <th>365</th>\n",
       "      <td>12/31/20</td>\n",
       "      <td>1.171287</td>\n",
       "      <td>1.996063</td>\n",
       "      <td>-4.019191</td>\n",
       "      <td>3.456794</td>\n",
       "      <td>8.461649</td>\n",
       "    </tr>\n",
       "  </tbody>\n",
       "</table>\n",
       "<p>366 rows × 6 columns</p>\n",
       "</div>"
      ],
      "text/plain": [
       "    settlement_time  actual_price  fluence_p50  market_p50  f_diff_a  \\\n",
       "0          01/01/20     15.979213    15.675179   16.194366  0.880997   \n",
       "1          01/02/20     17.425347    17.175804   17.769880  1.200887   \n",
       "2          01/03/20     17.612544    17.345383   16.735262  1.062282   \n",
       "3          01/04/20      3.953061     8.728061    6.702663  9.373039   \n",
       "4          01/05/20      9.795817    11.102372    8.305152  2.824898   \n",
       "..              ...           ...          ...         ...       ...   \n",
       "361        12/27/20     -0.518934    -0.005902    0.551613  5.068375   \n",
       "362        12/28/20      1.844367     3.088712    1.587054  3.975789   \n",
       "363        12/29/20      6.908514     6.524328    6.399399  1.792117   \n",
       "364        12/30/20      2.953132     4.033863   -5.978796  3.651136   \n",
       "365        12/31/20      1.171287     1.996063   -4.019191  3.456794   \n",
       "\n",
       "      m_diff_a  \n",
       "0     1.109608  \n",
       "1     1.588379  \n",
       "2     1.703308  \n",
       "3    22.445173  \n",
       "4     4.315915  \n",
       "..         ...  \n",
       "361   6.247147  \n",
       "362   4.639342  \n",
       "363   2.081073  \n",
       "364   9.859740  \n",
       "365   8.461649  \n",
       "\n",
       "[366 rows x 6 columns]"
      ]
     },
     "execution_count": 7,
     "metadata": {},
     "output_type": "execute_result"
    }
   ],
   "source": [
    "#DAY LEVEL\n",
    "df_d = df.groupby(pd.Grouper(key='settlement_time', freq='1D')).sum() # groupby each 1 day\n",
    "df_d.index = df_d.index.strftime('%D')\n",
    "df_d.reset_index(level=0, inplace=True)\n",
    "df_d"
   ]
  },
  {
   "cell_type": "code",
   "execution_count": 8,
   "metadata": {
    "execution": {
     "iopub.execute_input": "2021-06-22T01:30:36.731886Z",
     "iopub.status.busy": "2021-06-22T01:30:36.730655Z",
     "iopub.status.idle": "2021-06-22T01:30:50.295525Z",
     "shell.execute_reply": "2021-06-22T01:30:50.294908Z",
     "shell.execute_reply.started": "2021-06-20T05:21:41.906139Z"
    },
    "papermill": {
     "duration": 13.625098,
     "end_time": "2021-06-22T01:30:50.295673",
     "exception": false,
     "start_time": "2021-06-22T01:30:36.670575",
     "status": "completed"
    },
    "tags": []
   },
   "outputs": [],
   "source": [
    "#Send aggregations to DWH\n",
    "df_m.to_sql('month_aggregate', con=engine, if_exists='replace', index=False)\n",
    "df_d.to_sql('day_aggregate', con=engine, if_exists='replace', index=False)"
   ]
  },
  {
   "cell_type": "markdown",
   "metadata": {
    "papermill": {
     "duration": 0.050621,
     "end_time": "2021-06-22T01:30:50.398352",
     "exception": false,
     "start_time": "2021-06-22T01:30:50.347731",
     "status": "completed"
    },
    "tags": []
   },
   "source": [
    "# Calculate \"Better\" Metric"
   ]
  },
  {
   "cell_type": "code",
   "execution_count": 9,
   "metadata": {
    "execution": {
     "iopub.execute_input": "2021-06-22T01:30:50.509766Z",
     "iopub.status.busy": "2021-06-22T01:30:50.509115Z",
     "iopub.status.idle": "2021-06-22T01:30:50.519289Z",
     "shell.execute_reply": "2021-06-22T01:30:50.518626Z",
     "shell.execute_reply.started": "2021-06-20T05:21:49.224690Z"
    },
    "papermill": {
     "duration": 0.069248,
     "end_time": "2021-06-22T01:30:50.519444",
     "exception": false,
     "start_time": "2021-06-22T01:30:50.450196",
     "status": "completed"
    },
    "tags": []
   },
   "outputs": [
    {
     "data": {
      "text/plain": [
       "0.20397111794724757"
      ]
     },
     "execution_count": 9,
     "metadata": {},
     "output_type": "execute_result"
    }
   ],
   "source": [
    "#RMSE for Fluence predictions\n",
    "y_true = df['actual_price']\n",
    "y_pred = df['fluence_p50']\n",
    "mse = mean_squared_error(y_true, y_pred)\n",
    "f_rmse = mse**.5\n",
    "f_rmse"
   ]
  },
  {
   "cell_type": "code",
   "execution_count": 10,
   "metadata": {
    "execution": {
     "iopub.execute_input": "2021-06-22T01:30:50.627851Z",
     "iopub.status.busy": "2021-06-22T01:30:50.626846Z",
     "iopub.status.idle": "2021-06-22T01:30:50.634378Z",
     "shell.execute_reply": "2021-06-22T01:30:50.633692Z",
     "shell.execute_reply.started": "2021-06-20T05:21:49.236200Z"
    },
    "papermill": {
     "duration": 0.064137,
     "end_time": "2021-06-22T01:30:50.634523",
     "exception": false,
     "start_time": "2021-06-22T01:30:50.570386",
     "status": "completed"
    },
    "tags": []
   },
   "outputs": [
    {
     "data": {
      "text/plain": [
       "0.017422990170856956"
      ]
     },
     "execution_count": 10,
     "metadata": {},
     "output_type": "execute_result"
    }
   ],
   "source": [
    "#MAE for Fluence predictions\n",
    "y_true = df['actual_price']\n",
    "y_pred = df['fluence_p50']\n",
    "f_mae = mean_absolute_error(y_true, y_pred)\n",
    "f_mae"
   ]
  },
  {
   "cell_type": "code",
   "execution_count": 11,
   "metadata": {
    "execution": {
     "iopub.execute_input": "2021-06-22T01:30:50.749044Z",
     "iopub.status.busy": "2021-06-22T01:30:50.747866Z",
     "iopub.status.idle": "2021-06-22T01:30:50.755486Z",
     "shell.execute_reply": "2021-06-22T01:30:50.754809Z",
     "shell.execute_reply.started": "2021-06-20T05:21:49.249562Z"
    },
    "papermill": {
     "duration": 0.067585,
     "end_time": "2021-06-22T01:30:50.755658",
     "exception": false,
     "start_time": "2021-06-22T01:30:50.688073",
     "status": "completed"
    },
    "tags": []
   },
   "outputs": [
    {
     "data": {
      "text/plain": [
       "0.27224819556706203"
      ]
     },
     "execution_count": 11,
     "metadata": {},
     "output_type": "execute_result"
    }
   ],
   "source": [
    "#RMSE for market predictions\n",
    "y_true = df['actual_price']\n",
    "y_pred = df['market_p50']\n",
    "mse = mean_squared_error(y_true, y_pred)\n",
    "m_rmse = mse**.5\n",
    "m_rmse"
   ]
  },
  {
   "cell_type": "code",
   "execution_count": 12,
   "metadata": {
    "execution": {
     "iopub.execute_input": "2021-06-22T01:30:50.872695Z",
     "iopub.status.busy": "2021-06-22T01:30:50.871377Z",
     "iopub.status.idle": "2021-06-22T01:30:50.879130Z",
     "shell.execute_reply": "2021-06-22T01:30:50.878525Z",
     "shell.execute_reply.started": "2021-06-20T05:21:49.260337Z"
    },
    "papermill": {
     "duration": 0.070898,
     "end_time": "2021-06-22T01:30:50.879309",
     "exception": false,
     "start_time": "2021-06-22T01:30:50.808411",
     "status": "completed"
    },
    "tags": []
   },
   "outputs": [
    {
     "data": {
      "text/plain": [
       "0.02947188083997419"
      ]
     },
     "execution_count": 12,
     "metadata": {},
     "output_type": "execute_result"
    }
   ],
   "source": [
    "#MAE for market predictions\n",
    "y_true = df['actual_price']\n",
    "y_pred = df['market_p50']\n",
    "m_mae = mean_absolute_error(y_true, y_pred)\n",
    "m_mae"
   ]
  },
  {
   "cell_type": "markdown",
   "metadata": {
    "papermill": {
     "duration": 0.052055,
     "end_time": "2021-06-22T01:30:50.985883",
     "exception": false,
     "start_time": "2021-06-22T01:30:50.933828",
     "status": "completed"
    },
    "tags": []
   },
   "source": [
    "In order to determine which model was better, need to choose one metric and compare between forecast and market models. As stated earlier, RMSE was chosen as metric to use. So MAE is just used as a comparison. What is considered better performing model will have the lowest calculation for metric(s) of interest. In both cases (RMSE and MAE), Fluence forecast has lowest results. Hence, it is the better forecast compared to market forecast."
   ]
  },
  {
   "cell_type": "code",
   "execution_count": 13,
   "metadata": {
    "execution": {
     "iopub.execute_input": "2021-06-22T01:30:51.100526Z",
     "iopub.status.busy": "2021-06-22T01:30:51.099392Z",
     "iopub.status.idle": "2021-06-22T01:30:51.107031Z",
     "shell.execute_reply": "2021-06-22T01:30:51.106094Z",
     "shell.execute_reply.started": "2021-06-20T05:21:49.272565Z"
    },
    "papermill": {
     "duration": 0.069474,
     "end_time": "2021-06-22T01:30:51.107226",
     "exception": false,
     "start_time": "2021-06-22T01:30:51.037752",
     "status": "completed"
    },
    "tags": []
   },
   "outputs": [
    {
     "data": {
      "text/plain": [
       "Timedelta('365 days 23:55:00')"
      ]
     },
     "execution_count": 13,
     "metadata": {},
     "output_type": "execute_result"
    }
   ],
   "source": [
    "horizon = df['settlement_time'].max() - df['settlement_time'].min()\n",
    "horizon"
   ]
  },
  {
   "cell_type": "code",
   "execution_count": 14,
   "metadata": {
    "execution": {
     "iopub.execute_input": "2021-06-22T01:30:51.233205Z",
     "iopub.status.busy": "2021-06-22T01:30:51.226048Z",
     "iopub.status.idle": "2021-06-22T01:30:51.237761Z",
     "shell.execute_reply": "2021-06-22T01:30:51.237018Z",
     "shell.execute_reply.started": "2021-06-20T05:21:49.282982Z"
    },
    "papermill": {
     "duration": 0.074867,
     "end_time": "2021-06-22T01:30:51.237921",
     "exception": false,
     "start_time": "2021-06-22T01:30:51.163054",
     "status": "completed"
    },
    "tags": []
   },
   "outputs": [
    {
     "data": {
      "text/html": [
       "<div>\n",
       "<style scoped>\n",
       "    .dataframe tbody tr th:only-of-type {\n",
       "        vertical-align: middle;\n",
       "    }\n",
       "\n",
       "    .dataframe tbody tr th {\n",
       "        vertical-align: top;\n",
       "    }\n",
       "\n",
       "    .dataframe thead th {\n",
       "        text-align: right;\n",
       "    }\n",
       "</style>\n",
       "<table border=\"1\" class=\"dataframe\">\n",
       "  <thead>\n",
       "    <tr style=\"text-align: right;\">\n",
       "      <th></th>\n",
       "      <th>Forecast_Source</th>\n",
       "      <th>Horizon_Days</th>\n",
       "      <th>RMSE</th>\n",
       "      <th>MAE</th>\n",
       "    </tr>\n",
       "  </thead>\n",
       "  <tbody>\n",
       "    <tr>\n",
       "      <th>0</th>\n",
       "      <td>Fluence</td>\n",
       "      <td>365</td>\n",
       "      <td>0.203971</td>\n",
       "      <td>0.017423</td>\n",
       "    </tr>\n",
       "    <tr>\n",
       "      <th>1</th>\n",
       "      <td>Market</td>\n",
       "      <td>365</td>\n",
       "      <td>0.272248</td>\n",
       "      <td>0.029472</td>\n",
       "    </tr>\n",
       "  </tbody>\n",
       "</table>\n",
       "</div>"
      ],
      "text/plain": [
       "  Forecast_Source  Horizon_Days      RMSE       MAE\n",
       "0         Fluence           365  0.203971  0.017423\n",
       "1          Market           365  0.272248  0.029472"
      ]
     },
     "execution_count": 14,
     "metadata": {},
     "output_type": "execute_result"
    }
   ],
   "source": [
    "d = {'Forecast_Source': ['Fluence', 'Market'],'Horizon_Days': [horizon.days, horizon.days], 'RMSE': [f_rmse, m_rmse], 'MAE': [f_mae, m_mae]}\n",
    "metric_df =  pd.DataFrame(data=d)\n",
    "metric_df = metric_df.sort_values(by = ['RMSE'])\n",
    "metric_df"
   ]
  },
  {
   "cell_type": "code",
   "execution_count": 15,
   "metadata": {
    "execution": {
     "iopub.execute_input": "2021-06-22T01:30:51.352568Z",
     "iopub.status.busy": "2021-06-22T01:30:51.351011Z",
     "iopub.status.idle": "2021-06-22T01:30:57.055482Z",
     "shell.execute_reply": "2021-06-22T01:30:57.054690Z",
     "shell.execute_reply.started": "2021-06-20T05:21:49.300732Z"
    },
    "papermill": {
     "duration": 5.764618,
     "end_time": "2021-06-22T01:30:57.055697",
     "exception": false,
     "start_time": "2021-06-22T01:30:51.291079",
     "status": "completed"
    },
    "tags": []
   },
   "outputs": [],
   "source": [
    "#store metric_df in DWH\n",
    "metric_df.to_sql('metric', con=engine, if_exists='replace', index=False)"
   ]
  }
 ],
 "metadata": {
  "kernelspec": {
   "display_name": "Python 3",
   "language": "python",
   "name": "python3"
  },
  "language_info": {
   "codemirror_mode": {
    "name": "ipython",
    "version": 3
   },
   "file_extension": ".py",
   "mimetype": "text/x-python",
   "name": "python",
   "nbconvert_exporter": "python",
   "pygments_lexer": "ipython3",
   "version": "3.8.5"
  },
  "papermill": {
   "default_parameters": {},
   "duration": 62.893676,
   "end_time": "2021-06-22T01:31:00.622106",
   "environment_variables": {},
   "exception": null,
   "input_path": "__notebook__.ipynb",
   "output_path": "__notebook__.ipynb",
   "parameters": {},
   "start_time": "2021-06-22T01:29:57.728430",
   "version": "2.3.3"
  }
 },
 "nbformat": 4,
 "nbformat_minor": 5
}
